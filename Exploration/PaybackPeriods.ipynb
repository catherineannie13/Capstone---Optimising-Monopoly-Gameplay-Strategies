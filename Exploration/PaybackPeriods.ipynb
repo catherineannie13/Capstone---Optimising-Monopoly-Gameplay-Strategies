{
 "cells": [
  {
   "cell_type": "code",
   "execution_count": 13,
   "metadata": {},
   "outputs": [],
   "source": [
    "%%capture\n",
    "%run \"C:\\\\Users\\\\cathe\\\\OneDrive\\\\Documents\\\\Capstone - Optimising Monopoly Gameplay Strategies\\\\Exploration\\\\ExpectedRent.ipynb\""
   ]
  },
  {
   "cell_type": "code",
   "execution_count": 2,
   "metadata": {},
   "outputs": [
    {
     "data": {
      "application/vnd.plotly.v1+json": {
       "config": {
        "plotlyServerURL": "https://plot.ly"
       },
       "data": [
        {
         "hovertemplate": "Property=Old Kent Road<br>Purchase Price=%{x}<br>Rent=%{y}<extra></extra>",
         "legendgroup": "Old Kent Road",
         "marker": {
          "color": "brown",
          "size": 15,
          "symbol": "circle"
         },
         "mode": "markers",
         "name": "Old Kent Road",
         "orientation": "v",
         "showlegend": true,
         "type": "scatter",
         "x": [
          60
         ],
         "xaxis": "x",
         "y": [
          2
         ],
         "yaxis": "y"
        },
        {
         "hovertemplate": "Property=Whitechapel Road<br>Purchase Price=%{x}<br>Rent=%{y}<extra></extra>",
         "legendgroup": "Whitechapel Road",
         "marker": {
          "color": "brown",
          "size": 15,
          "symbol": "circle"
         },
         "mode": "markers",
         "name": "Whitechapel Road",
         "orientation": "v",
         "showlegend": true,
         "type": "scatter",
         "x": [
          80
         ],
         "xaxis": "x",
         "y": [
          4
         ],
         "yaxis": "y"
        },
        {
         "hovertemplate": "Property=The Angel, Islington<br>Purchase Price=%{x}<br>Rent=%{y}<extra></extra>",
         "legendgroup": "The Angel, Islington",
         "marker": {
          "color": "lightblue",
          "size": 15,
          "symbol": "circle"
         },
         "mode": "markers",
         "name": "The Angel, Islington",
         "orientation": "v",
         "showlegend": true,
         "type": "scatter",
         "x": [
          100
         ],
         "xaxis": "x",
         "y": [
          6
         ],
         "yaxis": "y"
        },
        {
         "hovertemplate": "Property=Euston Road<br>Purchase Price=%{x}<br>Rent=%{y}<extra></extra>",
         "legendgroup": "Euston Road",
         "marker": {
          "color": "lightblue",
          "size": 15,
          "symbol": "circle"
         },
         "mode": "markers",
         "name": "Euston Road",
         "orientation": "v",
         "showlegend": true,
         "type": "scatter",
         "x": [
          100
         ],
         "xaxis": "x",
         "y": [
          6
         ],
         "yaxis": "y"
        },
        {
         "hovertemplate": "Property=Pentonville Road<br>Purchase Price=%{x}<br>Rent=%{y}<extra></extra>",
         "legendgroup": "Pentonville Road",
         "marker": {
          "color": "lightblue",
          "size": 15,
          "symbol": "circle"
         },
         "mode": "markers",
         "name": "Pentonville Road",
         "orientation": "v",
         "showlegend": true,
         "type": "scatter",
         "x": [
          120
         ],
         "xaxis": "x",
         "y": [
          8
         ],
         "yaxis": "y"
        },
        {
         "hovertemplate": "Property=Pall Mall<br>Purchase Price=%{x}<br>Rent=%{y}<extra></extra>",
         "legendgroup": "Pall Mall",
         "marker": {
          "color": "pink",
          "size": 15,
          "symbol": "circle"
         },
         "mode": "markers",
         "name": "Pall Mall",
         "orientation": "v",
         "showlegend": true,
         "type": "scatter",
         "x": [
          140
         ],
         "xaxis": "x",
         "y": [
          10
         ],
         "yaxis": "y"
        },
        {
         "hovertemplate": "Property=Whitehall<br>Purchase Price=%{x}<br>Rent=%{y}<extra></extra>",
         "legendgroup": "Whitehall",
         "marker": {
          "color": "pink",
          "size": 15,
          "symbol": "circle"
         },
         "mode": "markers",
         "name": "Whitehall",
         "orientation": "v",
         "showlegend": true,
         "type": "scatter",
         "x": [
          140
         ],
         "xaxis": "x",
         "y": [
          10
         ],
         "yaxis": "y"
        },
        {
         "hovertemplate": "Property=Northumberland Avenue<br>Purchase Price=%{x}<br>Rent=%{y}<extra></extra>",
         "legendgroup": "Northumberland Avenue",
         "marker": {
          "color": "pink",
          "size": 15,
          "symbol": "circle"
         },
         "mode": "markers",
         "name": "Northumberland Avenue",
         "orientation": "v",
         "showlegend": true,
         "type": "scatter",
         "x": [
          160
         ],
         "xaxis": "x",
         "y": [
          12
         ],
         "yaxis": "y"
        },
        {
         "hovertemplate": "Property=Bow Street<br>Purchase Price=%{x}<br>Rent=%{y}<extra></extra>",
         "legendgroup": "Bow Street",
         "marker": {
          "color": "orange",
          "size": 15,
          "symbol": "circle"
         },
         "mode": "markers",
         "name": "Bow Street",
         "orientation": "v",
         "showlegend": true,
         "type": "scatter",
         "x": [
          180
         ],
         "xaxis": "x",
         "y": [
          14
         ],
         "yaxis": "y"
        },
        {
         "hovertemplate": "Property=Marlborough Street<br>Purchase Price=%{x}<br>Rent=%{y}<extra></extra>",
         "legendgroup": "Marlborough Street",
         "marker": {
          "color": "orange",
          "size": 15,
          "symbol": "circle"
         },
         "mode": "markers",
         "name": "Marlborough Street",
         "orientation": "v",
         "showlegend": true,
         "type": "scatter",
         "x": [
          180
         ],
         "xaxis": "x",
         "y": [
          14
         ],
         "yaxis": "y"
        },
        {
         "hovertemplate": "Property=Vine Street<br>Purchase Price=%{x}<br>Rent=%{y}<extra></extra>",
         "legendgroup": "Vine Street",
         "marker": {
          "color": "orange",
          "size": 15,
          "symbol": "circle"
         },
         "mode": "markers",
         "name": "Vine Street",
         "orientation": "v",
         "showlegend": true,
         "type": "scatter",
         "x": [
          200
         ],
         "xaxis": "x",
         "y": [
          16
         ],
         "yaxis": "y"
        },
        {
         "hovertemplate": "Property=Strand<br>Purchase Price=%{x}<br>Rent=%{y}<extra></extra>",
         "legendgroup": "Strand",
         "marker": {
          "color": "red",
          "size": 15,
          "symbol": "circle"
         },
         "mode": "markers",
         "name": "Strand",
         "orientation": "v",
         "showlegend": true,
         "type": "scatter",
         "x": [
          220
         ],
         "xaxis": "x",
         "y": [
          18
         ],
         "yaxis": "y"
        },
        {
         "hovertemplate": "Property=Fleet Street<br>Purchase Price=%{x}<br>Rent=%{y}<extra></extra>",
         "legendgroup": "Fleet Street",
         "marker": {
          "color": "red",
          "size": 15,
          "symbol": "circle"
         },
         "mode": "markers",
         "name": "Fleet Street",
         "orientation": "v",
         "showlegend": true,
         "type": "scatter",
         "x": [
          220
         ],
         "xaxis": "x",
         "y": [
          18
         ],
         "yaxis": "y"
        },
        {
         "hovertemplate": "Property=Trafalgar Square<br>Purchase Price=%{x}<br>Rent=%{y}<extra></extra>",
         "legendgroup": "Trafalgar Square",
         "marker": {
          "color": "red",
          "size": 15,
          "symbol": "circle"
         },
         "mode": "markers",
         "name": "Trafalgar Square",
         "orientation": "v",
         "showlegend": true,
         "type": "scatter",
         "x": [
          240
         ],
         "xaxis": "x",
         "y": [
          20
         ],
         "yaxis": "y"
        },
        {
         "hovertemplate": "Property=Leicester Square<br>Purchase Price=%{x}<br>Rent=%{y}<extra></extra>",
         "legendgroup": "Leicester Square",
         "marker": {
          "color": "yellow",
          "size": 15,
          "symbol": "circle"
         },
         "mode": "markers",
         "name": "Leicester Square",
         "orientation": "v",
         "showlegend": true,
         "type": "scatter",
         "x": [
          260
         ],
         "xaxis": "x",
         "y": [
          22
         ],
         "yaxis": "y"
        },
        {
         "hovertemplate": "Property=Coventry Street<br>Purchase Price=%{x}<br>Rent=%{y}<extra></extra>",
         "legendgroup": "Coventry Street",
         "marker": {
          "color": "yellow",
          "size": 15,
          "symbol": "circle"
         },
         "mode": "markers",
         "name": "Coventry Street",
         "orientation": "v",
         "showlegend": true,
         "type": "scatter",
         "x": [
          260
         ],
         "xaxis": "x",
         "y": [
          22
         ],
         "yaxis": "y"
        },
        {
         "hovertemplate": "Property=Piccadilly<br>Purchase Price=%{x}<br>Rent=%{y}<extra></extra>",
         "legendgroup": "Piccadilly",
         "marker": {
          "color": "yellow",
          "size": 15,
          "symbol": "circle"
         },
         "mode": "markers",
         "name": "Piccadilly",
         "orientation": "v",
         "showlegend": true,
         "type": "scatter",
         "x": [
          280
         ],
         "xaxis": "x",
         "y": [
          24
         ],
         "yaxis": "y"
        },
        {
         "hovertemplate": "Property=Regent Street<br>Purchase Price=%{x}<br>Rent=%{y}<extra></extra>",
         "legendgroup": "Regent Street",
         "marker": {
          "color": "green",
          "size": 15,
          "symbol": "circle"
         },
         "mode": "markers",
         "name": "Regent Street",
         "orientation": "v",
         "showlegend": true,
         "type": "scatter",
         "x": [
          300
         ],
         "xaxis": "x",
         "y": [
          26
         ],
         "yaxis": "y"
        },
        {
         "hovertemplate": "Property=Oxford Street<br>Purchase Price=%{x}<br>Rent=%{y}<extra></extra>",
         "legendgroup": "Oxford Street",
         "marker": {
          "color": "green",
          "size": 15,
          "symbol": "circle"
         },
         "mode": "markers",
         "name": "Oxford Street",
         "orientation": "v",
         "showlegend": true,
         "type": "scatter",
         "x": [
          300
         ],
         "xaxis": "x",
         "y": [
          26
         ],
         "yaxis": "y"
        },
        {
         "hovertemplate": "Property=Bond Street<br>Purchase Price=%{x}<br>Rent=%{y}<extra></extra>",
         "legendgroup": "Bond Street",
         "marker": {
          "color": "green",
          "size": 15,
          "symbol": "circle"
         },
         "mode": "markers",
         "name": "Bond Street",
         "orientation": "v",
         "showlegend": true,
         "type": "scatter",
         "x": [
          320
         ],
         "xaxis": "x",
         "y": [
          28
         ],
         "yaxis": "y"
        },
        {
         "hovertemplate": "Property=Park Lane<br>Purchase Price=%{x}<br>Rent=%{y}<extra></extra>",
         "legendgroup": "Park Lane",
         "marker": {
          "color": "darkblue",
          "size": 15,
          "symbol": "circle"
         },
         "mode": "markers",
         "name": "Park Lane",
         "orientation": "v",
         "showlegend": true,
         "type": "scatter",
         "x": [
          350
         ],
         "xaxis": "x",
         "y": [
          35
         ],
         "yaxis": "y"
        },
        {
         "hovertemplate": "Property=Mayfair<br>Purchase Price=%{x}<br>Rent=%{y}<extra></extra>",
         "legendgroup": "Mayfair",
         "marker": {
          "color": "darkblue",
          "size": 15,
          "symbol": "circle"
         },
         "mode": "markers",
         "name": "Mayfair",
         "orientation": "v",
         "showlegend": true,
         "type": "scatter",
         "x": [
          400
         ],
         "xaxis": "x",
         "y": [
          50
         ],
         "yaxis": "y"
        },
        {
         "hovertemplate": "Purchase Price=%{x}<br>Rent=%{y}<extra></extra>",
         "legendgroup": "",
         "line": {
          "color": "#636efa",
          "dash": "solid"
         },
         "marker": {
          "symbol": "circle"
         },
         "mode": "lines",
         "name": "",
         "orientation": "v",
         "showlegend": false,
         "type": "scatter",
         "x": [
          50,
          410
         ],
         "xaxis": "x",
         "y": [
          1,
          37
         ],
         "yaxis": "y"
        }
       ],
       "layout": {
        "legend": {
         "title": {
          "text": "Property"
         },
         "tracegroupgap": 0
        },
        "showlegend": false,
        "template": {
         "data": {
          "bar": [
           {
            "error_x": {
             "color": "#2a3f5f"
            },
            "error_y": {
             "color": "#2a3f5f"
            },
            "marker": {
             "line": {
              "color": "#E5ECF6",
              "width": 0.5
             },
             "pattern": {
              "fillmode": "overlay",
              "size": 10,
              "solidity": 0.2
             }
            },
            "type": "bar"
           }
          ],
          "barpolar": [
           {
            "marker": {
             "line": {
              "color": "#E5ECF6",
              "width": 0.5
             },
             "pattern": {
              "fillmode": "overlay",
              "size": 10,
              "solidity": 0.2
             }
            },
            "type": "barpolar"
           }
          ],
          "carpet": [
           {
            "aaxis": {
             "endlinecolor": "#2a3f5f",
             "gridcolor": "white",
             "linecolor": "white",
             "minorgridcolor": "white",
             "startlinecolor": "#2a3f5f"
            },
            "baxis": {
             "endlinecolor": "#2a3f5f",
             "gridcolor": "white",
             "linecolor": "white",
             "minorgridcolor": "white",
             "startlinecolor": "#2a3f5f"
            },
            "type": "carpet"
           }
          ],
          "choropleth": [
           {
            "colorbar": {
             "outlinewidth": 0,
             "ticks": ""
            },
            "type": "choropleth"
           }
          ],
          "contour": [
           {
            "colorbar": {
             "outlinewidth": 0,
             "ticks": ""
            },
            "colorscale": [
             [
              0,
              "#0d0887"
             ],
             [
              0.1111111111111111,
              "#46039f"
             ],
             [
              0.2222222222222222,
              "#7201a8"
             ],
             [
              0.3333333333333333,
              "#9c179e"
             ],
             [
              0.4444444444444444,
              "#bd3786"
             ],
             [
              0.5555555555555556,
              "#d8576b"
             ],
             [
              0.6666666666666666,
              "#ed7953"
             ],
             [
              0.7777777777777778,
              "#fb9f3a"
             ],
             [
              0.8888888888888888,
              "#fdca26"
             ],
             [
              1,
              "#f0f921"
             ]
            ],
            "type": "contour"
           }
          ],
          "contourcarpet": [
           {
            "colorbar": {
             "outlinewidth": 0,
             "ticks": ""
            },
            "type": "contourcarpet"
           }
          ],
          "heatmap": [
           {
            "colorbar": {
             "outlinewidth": 0,
             "ticks": ""
            },
            "colorscale": [
             [
              0,
              "#0d0887"
             ],
             [
              0.1111111111111111,
              "#46039f"
             ],
             [
              0.2222222222222222,
              "#7201a8"
             ],
             [
              0.3333333333333333,
              "#9c179e"
             ],
             [
              0.4444444444444444,
              "#bd3786"
             ],
             [
              0.5555555555555556,
              "#d8576b"
             ],
             [
              0.6666666666666666,
              "#ed7953"
             ],
             [
              0.7777777777777778,
              "#fb9f3a"
             ],
             [
              0.8888888888888888,
              "#fdca26"
             ],
             [
              1,
              "#f0f921"
             ]
            ],
            "type": "heatmap"
           }
          ],
          "heatmapgl": [
           {
            "colorbar": {
             "outlinewidth": 0,
             "ticks": ""
            },
            "colorscale": [
             [
              0,
              "#0d0887"
             ],
             [
              0.1111111111111111,
              "#46039f"
             ],
             [
              0.2222222222222222,
              "#7201a8"
             ],
             [
              0.3333333333333333,
              "#9c179e"
             ],
             [
              0.4444444444444444,
              "#bd3786"
             ],
             [
              0.5555555555555556,
              "#d8576b"
             ],
             [
              0.6666666666666666,
              "#ed7953"
             ],
             [
              0.7777777777777778,
              "#fb9f3a"
             ],
             [
              0.8888888888888888,
              "#fdca26"
             ],
             [
              1,
              "#f0f921"
             ]
            ],
            "type": "heatmapgl"
           }
          ],
          "histogram": [
           {
            "marker": {
             "pattern": {
              "fillmode": "overlay",
              "size": 10,
              "solidity": 0.2
             }
            },
            "type": "histogram"
           }
          ],
          "histogram2d": [
           {
            "colorbar": {
             "outlinewidth": 0,
             "ticks": ""
            },
            "colorscale": [
             [
              0,
              "#0d0887"
             ],
             [
              0.1111111111111111,
              "#46039f"
             ],
             [
              0.2222222222222222,
              "#7201a8"
             ],
             [
              0.3333333333333333,
              "#9c179e"
             ],
             [
              0.4444444444444444,
              "#bd3786"
             ],
             [
              0.5555555555555556,
              "#d8576b"
             ],
             [
              0.6666666666666666,
              "#ed7953"
             ],
             [
              0.7777777777777778,
              "#fb9f3a"
             ],
             [
              0.8888888888888888,
              "#fdca26"
             ],
             [
              1,
              "#f0f921"
             ]
            ],
            "type": "histogram2d"
           }
          ],
          "histogram2dcontour": [
           {
            "colorbar": {
             "outlinewidth": 0,
             "ticks": ""
            },
            "colorscale": [
             [
              0,
              "#0d0887"
             ],
             [
              0.1111111111111111,
              "#46039f"
             ],
             [
              0.2222222222222222,
              "#7201a8"
             ],
             [
              0.3333333333333333,
              "#9c179e"
             ],
             [
              0.4444444444444444,
              "#bd3786"
             ],
             [
              0.5555555555555556,
              "#d8576b"
             ],
             [
              0.6666666666666666,
              "#ed7953"
             ],
             [
              0.7777777777777778,
              "#fb9f3a"
             ],
             [
              0.8888888888888888,
              "#fdca26"
             ],
             [
              1,
              "#f0f921"
             ]
            ],
            "type": "histogram2dcontour"
           }
          ],
          "mesh3d": [
           {
            "colorbar": {
             "outlinewidth": 0,
             "ticks": ""
            },
            "type": "mesh3d"
           }
          ],
          "parcoords": [
           {
            "line": {
             "colorbar": {
              "outlinewidth": 0,
              "ticks": ""
             }
            },
            "type": "parcoords"
           }
          ],
          "pie": [
           {
            "automargin": true,
            "type": "pie"
           }
          ],
          "scatter": [
           {
            "fillpattern": {
             "fillmode": "overlay",
             "size": 10,
             "solidity": 0.2
            },
            "type": "scatter"
           }
          ],
          "scatter3d": [
           {
            "line": {
             "colorbar": {
              "outlinewidth": 0,
              "ticks": ""
             }
            },
            "marker": {
             "colorbar": {
              "outlinewidth": 0,
              "ticks": ""
             }
            },
            "type": "scatter3d"
           }
          ],
          "scattercarpet": [
           {
            "marker": {
             "colorbar": {
              "outlinewidth": 0,
              "ticks": ""
             }
            },
            "type": "scattercarpet"
           }
          ],
          "scattergeo": [
           {
            "marker": {
             "colorbar": {
              "outlinewidth": 0,
              "ticks": ""
             }
            },
            "type": "scattergeo"
           }
          ],
          "scattergl": [
           {
            "marker": {
             "colorbar": {
              "outlinewidth": 0,
              "ticks": ""
             }
            },
            "type": "scattergl"
           }
          ],
          "scattermapbox": [
           {
            "marker": {
             "colorbar": {
              "outlinewidth": 0,
              "ticks": ""
             }
            },
            "type": "scattermapbox"
           }
          ],
          "scatterpolar": [
           {
            "marker": {
             "colorbar": {
              "outlinewidth": 0,
              "ticks": ""
             }
            },
            "type": "scatterpolar"
           }
          ],
          "scatterpolargl": [
           {
            "marker": {
             "colorbar": {
              "outlinewidth": 0,
              "ticks": ""
             }
            },
            "type": "scatterpolargl"
           }
          ],
          "scatterternary": [
           {
            "marker": {
             "colorbar": {
              "outlinewidth": 0,
              "ticks": ""
             }
            },
            "type": "scatterternary"
           }
          ],
          "surface": [
           {
            "colorbar": {
             "outlinewidth": 0,
             "ticks": ""
            },
            "colorscale": [
             [
              0,
              "#0d0887"
             ],
             [
              0.1111111111111111,
              "#46039f"
             ],
             [
              0.2222222222222222,
              "#7201a8"
             ],
             [
              0.3333333333333333,
              "#9c179e"
             ],
             [
              0.4444444444444444,
              "#bd3786"
             ],
             [
              0.5555555555555556,
              "#d8576b"
             ],
             [
              0.6666666666666666,
              "#ed7953"
             ],
             [
              0.7777777777777778,
              "#fb9f3a"
             ],
             [
              0.8888888888888888,
              "#fdca26"
             ],
             [
              1,
              "#f0f921"
             ]
            ],
            "type": "surface"
           }
          ],
          "table": [
           {
            "cells": {
             "fill": {
              "color": "#EBF0F8"
             },
             "line": {
              "color": "white"
             }
            },
            "header": {
             "fill": {
              "color": "#C8D4E3"
             },
             "line": {
              "color": "white"
             }
            },
            "type": "table"
           }
          ]
         },
         "layout": {
          "annotationdefaults": {
           "arrowcolor": "#2a3f5f",
           "arrowhead": 0,
           "arrowwidth": 1
          },
          "autotypenumbers": "strict",
          "coloraxis": {
           "colorbar": {
            "outlinewidth": 0,
            "ticks": ""
           }
          },
          "colorscale": {
           "diverging": [
            [
             0,
             "#8e0152"
            ],
            [
             0.1,
             "#c51b7d"
            ],
            [
             0.2,
             "#de77ae"
            ],
            [
             0.3,
             "#f1b6da"
            ],
            [
             0.4,
             "#fde0ef"
            ],
            [
             0.5,
             "#f7f7f7"
            ],
            [
             0.6,
             "#e6f5d0"
            ],
            [
             0.7,
             "#b8e186"
            ],
            [
             0.8,
             "#7fbc41"
            ],
            [
             0.9,
             "#4d9221"
            ],
            [
             1,
             "#276419"
            ]
           ],
           "sequential": [
            [
             0,
             "#0d0887"
            ],
            [
             0.1111111111111111,
             "#46039f"
            ],
            [
             0.2222222222222222,
             "#7201a8"
            ],
            [
             0.3333333333333333,
             "#9c179e"
            ],
            [
             0.4444444444444444,
             "#bd3786"
            ],
            [
             0.5555555555555556,
             "#d8576b"
            ],
            [
             0.6666666666666666,
             "#ed7953"
            ],
            [
             0.7777777777777778,
             "#fb9f3a"
            ],
            [
             0.8888888888888888,
             "#fdca26"
            ],
            [
             1,
             "#f0f921"
            ]
           ],
           "sequentialminus": [
            [
             0,
             "#0d0887"
            ],
            [
             0.1111111111111111,
             "#46039f"
            ],
            [
             0.2222222222222222,
             "#7201a8"
            ],
            [
             0.3333333333333333,
             "#9c179e"
            ],
            [
             0.4444444444444444,
             "#bd3786"
            ],
            [
             0.5555555555555556,
             "#d8576b"
            ],
            [
             0.6666666666666666,
             "#ed7953"
            ],
            [
             0.7777777777777778,
             "#fb9f3a"
            ],
            [
             0.8888888888888888,
             "#fdca26"
            ],
            [
             1,
             "#f0f921"
            ]
           ]
          },
          "colorway": [
           "#636efa",
           "#EF553B",
           "#00cc96",
           "#ab63fa",
           "#FFA15A",
           "#19d3f3",
           "#FF6692",
           "#B6E880",
           "#FF97FF",
           "#FECB52"
          ],
          "font": {
           "color": "#2a3f5f"
          },
          "geo": {
           "bgcolor": "white",
           "lakecolor": "white",
           "landcolor": "#E5ECF6",
           "showlakes": true,
           "showland": true,
           "subunitcolor": "white"
          },
          "hoverlabel": {
           "align": "left"
          },
          "hovermode": "closest",
          "mapbox": {
           "style": "light"
          },
          "paper_bgcolor": "white",
          "plot_bgcolor": "#E5ECF6",
          "polar": {
           "angularaxis": {
            "gridcolor": "white",
            "linecolor": "white",
            "ticks": ""
           },
           "bgcolor": "#E5ECF6",
           "radialaxis": {
            "gridcolor": "white",
            "linecolor": "white",
            "ticks": ""
           }
          },
          "scene": {
           "xaxis": {
            "backgroundcolor": "#E5ECF6",
            "gridcolor": "white",
            "gridwidth": 2,
            "linecolor": "white",
            "showbackground": true,
            "ticks": "",
            "zerolinecolor": "white"
           },
           "yaxis": {
            "backgroundcolor": "#E5ECF6",
            "gridcolor": "white",
            "gridwidth": 2,
            "linecolor": "white",
            "showbackground": true,
            "ticks": "",
            "zerolinecolor": "white"
           },
           "zaxis": {
            "backgroundcolor": "#E5ECF6",
            "gridcolor": "white",
            "gridwidth": 2,
            "linecolor": "white",
            "showbackground": true,
            "ticks": "",
            "zerolinecolor": "white"
           }
          },
          "shapedefaults": {
           "line": {
            "color": "#2a3f5f"
           }
          },
          "ternary": {
           "aaxis": {
            "gridcolor": "white",
            "linecolor": "white",
            "ticks": ""
           },
           "baxis": {
            "gridcolor": "white",
            "linecolor": "white",
            "ticks": ""
           },
           "bgcolor": "#E5ECF6",
           "caxis": {
            "gridcolor": "white",
            "linecolor": "white",
            "ticks": ""
           }
          },
          "title": {
           "x": 0.05
          },
          "xaxis": {
           "automargin": true,
           "gridcolor": "white",
           "linecolor": "white",
           "ticks": "",
           "title": {
            "standoff": 15
           },
           "zerolinecolor": "white",
           "zerolinewidth": 2
          },
          "yaxis": {
           "automargin": true,
           "gridcolor": "white",
           "linecolor": "white",
           "ticks": "",
           "title": {
            "standoff": 15
           },
           "zerolinecolor": "white",
           "zerolinewidth": 2
          }
         }
        },
        "title": {
         "text": "Monopoly Board Space Purchase Price Against Rent"
        },
        "xaxis": {
         "anchor": "y",
         "domain": [
          0,
          1
         ],
         "title": {
          "text": "Purchase Price"
         }
        },
        "yaxis": {
         "anchor": "x",
         "domain": [
          0,
          1
         ],
         "title": {
          "text": "Rent"
         }
        }
       }
      }
     },
     "metadata": {},
     "output_type": "display_data"
    }
   ],
   "source": [
    "fig = px.scatter(\n",
    "    df_streets,\n",
    "    x='Purchase Price',\n",
    "    y='Rent',\n",
    "    title=\"Monopoly Board Space Purchase Price Against Rent\",\n",
    "    labels={'x': 'Purchase Price', 'y': 'Rent'},\n",
    "    color='Property',\n",
    "    color_discrete_map=color_dict\n",
    ")\n",
    "\n",
    "fig.update_traces(marker=dict(size=15))\n",
    "\n",
    "line_data = pd.DataFrame({'Purchase Price': [50, 410], 'Rent': [1,37]})\n",
    "fig.add_trace(\n",
    "    px.line(line_data, x='Purchase Price', y='Rent').data[0]\n",
    ")\n",
    "\n",
    "fig.update_layout(showlegend=False)\n",
    "fig.show()"
   ]
  },
  {
   "cell_type": "code",
   "execution_count": 3,
   "metadata": {},
   "outputs": [
    {
     "data": {
      "application/vnd.plotly.v1+json": {
       "config": {
        "plotlyServerURL": "https://plot.ly"
       },
       "data": [
        {
         "alignmentgroup": "True",
         "hovertemplate": "Property=%{x}<br>Payback Period=%{y}<extra></extra>",
         "legendgroup": "Old Kent Road",
         "marker": {
          "color": "brown",
          "pattern": {
           "shape": ""
          }
         },
         "name": "Old Kent Road",
         "offsetgroup": "Old Kent Road",
         "orientation": "v",
         "showlegend": true,
         "textposition": "auto",
         "type": "bar",
         "x": [
          "Old Kent Road"
         ],
         "xaxis": "x",
         "y": [
          30
         ],
         "yaxis": "y"
        },
        {
         "alignmentgroup": "True",
         "hovertemplate": "Property=%{x}<br>Payback Period=%{y}<extra></extra>",
         "legendgroup": "Whitechapel Road",
         "marker": {
          "color": "brown",
          "pattern": {
           "shape": ""
          }
         },
         "name": "Whitechapel Road",
         "offsetgroup": "Whitechapel Road",
         "orientation": "v",
         "showlegend": true,
         "textposition": "auto",
         "type": "bar",
         "x": [
          "Whitechapel Road"
         ],
         "xaxis": "x",
         "y": [
          20
         ],
         "yaxis": "y"
        },
        {
         "alignmentgroup": "True",
         "hovertemplate": "Property=%{x}<br>Payback Period=%{y}<extra></extra>",
         "legendgroup": "The Angel, Islington",
         "marker": {
          "color": "lightblue",
          "pattern": {
           "shape": ""
          }
         },
         "name": "The Angel, Islington",
         "offsetgroup": "The Angel, Islington",
         "orientation": "v",
         "showlegend": true,
         "textposition": "auto",
         "type": "bar",
         "x": [
          "The Angel, Islington"
         ],
         "xaxis": "x",
         "y": [
          16.666666666666668
         ],
         "yaxis": "y"
        },
        {
         "alignmentgroup": "True",
         "hovertemplate": "Property=%{x}<br>Payback Period=%{y}<extra></extra>",
         "legendgroup": "Euston Road",
         "marker": {
          "color": "lightblue",
          "pattern": {
           "shape": ""
          }
         },
         "name": "Euston Road",
         "offsetgroup": "Euston Road",
         "orientation": "v",
         "showlegend": true,
         "textposition": "auto",
         "type": "bar",
         "x": [
          "Euston Road"
         ],
         "xaxis": "x",
         "y": [
          16.666666666666668
         ],
         "yaxis": "y"
        },
        {
         "alignmentgroup": "True",
         "hovertemplate": "Property=%{x}<br>Payback Period=%{y}<extra></extra>",
         "legendgroup": "Pentonville Road",
         "marker": {
          "color": "lightblue",
          "pattern": {
           "shape": ""
          }
         },
         "name": "Pentonville Road",
         "offsetgroup": "Pentonville Road",
         "orientation": "v",
         "showlegend": true,
         "textposition": "auto",
         "type": "bar",
         "x": [
          "Pentonville Road"
         ],
         "xaxis": "x",
         "y": [
          15
         ],
         "yaxis": "y"
        },
        {
         "alignmentgroup": "True",
         "hovertemplate": "Property=%{x}<br>Payback Period=%{y}<extra></extra>",
         "legendgroup": "Pall Mall",
         "marker": {
          "color": "pink",
          "pattern": {
           "shape": ""
          }
         },
         "name": "Pall Mall",
         "offsetgroup": "Pall Mall",
         "orientation": "v",
         "showlegend": true,
         "textposition": "auto",
         "type": "bar",
         "x": [
          "Pall Mall"
         ],
         "xaxis": "x",
         "y": [
          14
         ],
         "yaxis": "y"
        },
        {
         "alignmentgroup": "True",
         "hovertemplate": "Property=%{x}<br>Payback Period=%{y}<extra></extra>",
         "legendgroup": "Whitehall",
         "marker": {
          "color": "pink",
          "pattern": {
           "shape": ""
          }
         },
         "name": "Whitehall",
         "offsetgroup": "Whitehall",
         "orientation": "v",
         "showlegend": true,
         "textposition": "auto",
         "type": "bar",
         "x": [
          "Whitehall"
         ],
         "xaxis": "x",
         "y": [
          14
         ],
         "yaxis": "y"
        },
        {
         "alignmentgroup": "True",
         "hovertemplate": "Property=%{x}<br>Payback Period=%{y}<extra></extra>",
         "legendgroup": "Northumberland Avenue",
         "marker": {
          "color": "pink",
          "pattern": {
           "shape": ""
          }
         },
         "name": "Northumberland Avenue",
         "offsetgroup": "Northumberland Avenue",
         "orientation": "v",
         "showlegend": true,
         "textposition": "auto",
         "type": "bar",
         "x": [
          "Northumberland Avenue"
         ],
         "xaxis": "x",
         "y": [
          13.333333333333334
         ],
         "yaxis": "y"
        },
        {
         "alignmentgroup": "True",
         "hovertemplate": "Property=%{x}<br>Payback Period=%{y}<extra></extra>",
         "legendgroup": "Bow Street",
         "marker": {
          "color": "orange",
          "pattern": {
           "shape": ""
          }
         },
         "name": "Bow Street",
         "offsetgroup": "Bow Street",
         "orientation": "v",
         "showlegend": true,
         "textposition": "auto",
         "type": "bar",
         "x": [
          "Bow Street"
         ],
         "xaxis": "x",
         "y": [
          12.857142857142858
         ],
         "yaxis": "y"
        },
        {
         "alignmentgroup": "True",
         "hovertemplate": "Property=%{x}<br>Payback Period=%{y}<extra></extra>",
         "legendgroup": "Marlborough Street",
         "marker": {
          "color": "orange",
          "pattern": {
           "shape": ""
          }
         },
         "name": "Marlborough Street",
         "offsetgroup": "Marlborough Street",
         "orientation": "v",
         "showlegend": true,
         "textposition": "auto",
         "type": "bar",
         "x": [
          "Marlborough Street"
         ],
         "xaxis": "x",
         "y": [
          12.857142857142858
         ],
         "yaxis": "y"
        },
        {
         "alignmentgroup": "True",
         "hovertemplate": "Property=%{x}<br>Payback Period=%{y}<extra></extra>",
         "legendgroup": "Vine Street",
         "marker": {
          "color": "orange",
          "pattern": {
           "shape": ""
          }
         },
         "name": "Vine Street",
         "offsetgroup": "Vine Street",
         "orientation": "v",
         "showlegend": true,
         "textposition": "auto",
         "type": "bar",
         "x": [
          "Vine Street"
         ],
         "xaxis": "x",
         "y": [
          12.5
         ],
         "yaxis": "y"
        },
        {
         "alignmentgroup": "True",
         "hovertemplate": "Property=%{x}<br>Payback Period=%{y}<extra></extra>",
         "legendgroup": "Strand",
         "marker": {
          "color": "red",
          "pattern": {
           "shape": ""
          }
         },
         "name": "Strand",
         "offsetgroup": "Strand",
         "orientation": "v",
         "showlegend": true,
         "textposition": "auto",
         "type": "bar",
         "x": [
          "Strand"
         ],
         "xaxis": "x",
         "y": [
          12.222222222222221
         ],
         "yaxis": "y"
        },
        {
         "alignmentgroup": "True",
         "hovertemplate": "Property=%{x}<br>Payback Period=%{y}<extra></extra>",
         "legendgroup": "Fleet Street",
         "marker": {
          "color": "red",
          "pattern": {
           "shape": ""
          }
         },
         "name": "Fleet Street",
         "offsetgroup": "Fleet Street",
         "orientation": "v",
         "showlegend": true,
         "textposition": "auto",
         "type": "bar",
         "x": [
          "Fleet Street"
         ],
         "xaxis": "x",
         "y": [
          12.222222222222221
         ],
         "yaxis": "y"
        },
        {
         "alignmentgroup": "True",
         "hovertemplate": "Property=%{x}<br>Payback Period=%{y}<extra></extra>",
         "legendgroup": "Trafalgar Square",
         "marker": {
          "color": "red",
          "pattern": {
           "shape": ""
          }
         },
         "name": "Trafalgar Square",
         "offsetgroup": "Trafalgar Square",
         "orientation": "v",
         "showlegend": true,
         "textposition": "auto",
         "type": "bar",
         "x": [
          "Trafalgar Square"
         ],
         "xaxis": "x",
         "y": [
          12
         ],
         "yaxis": "y"
        },
        {
         "alignmentgroup": "True",
         "hovertemplate": "Property=%{x}<br>Payback Period=%{y}<extra></extra>",
         "legendgroup": "Leicester Square",
         "marker": {
          "color": "yellow",
          "pattern": {
           "shape": ""
          }
         },
         "name": "Leicester Square",
         "offsetgroup": "Leicester Square",
         "orientation": "v",
         "showlegend": true,
         "textposition": "auto",
         "type": "bar",
         "x": [
          "Leicester Square"
         ],
         "xaxis": "x",
         "y": [
          11.818181818181818
         ],
         "yaxis": "y"
        },
        {
         "alignmentgroup": "True",
         "hovertemplate": "Property=%{x}<br>Payback Period=%{y}<extra></extra>",
         "legendgroup": "Coventry Street",
         "marker": {
          "color": "yellow",
          "pattern": {
           "shape": ""
          }
         },
         "name": "Coventry Street",
         "offsetgroup": "Coventry Street",
         "orientation": "v",
         "showlegend": true,
         "textposition": "auto",
         "type": "bar",
         "x": [
          "Coventry Street"
         ],
         "xaxis": "x",
         "y": [
          11.818181818181818
         ],
         "yaxis": "y"
        },
        {
         "alignmentgroup": "True",
         "hovertemplate": "Property=%{x}<br>Payback Period=%{y}<extra></extra>",
         "legendgroup": "Piccadilly",
         "marker": {
          "color": "yellow",
          "pattern": {
           "shape": ""
          }
         },
         "name": "Piccadilly",
         "offsetgroup": "Piccadilly",
         "orientation": "v",
         "showlegend": true,
         "textposition": "auto",
         "type": "bar",
         "x": [
          "Piccadilly"
         ],
         "xaxis": "x",
         "y": [
          11.666666666666666
         ],
         "yaxis": "y"
        },
        {
         "alignmentgroup": "True",
         "hovertemplate": "Property=%{x}<br>Payback Period=%{y}<extra></extra>",
         "legendgroup": "Regent Street",
         "marker": {
          "color": "green",
          "pattern": {
           "shape": ""
          }
         },
         "name": "Regent Street",
         "offsetgroup": "Regent Street",
         "orientation": "v",
         "showlegend": true,
         "textposition": "auto",
         "type": "bar",
         "x": [
          "Regent Street"
         ],
         "xaxis": "x",
         "y": [
          11.538461538461538
         ],
         "yaxis": "y"
        },
        {
         "alignmentgroup": "True",
         "hovertemplate": "Property=%{x}<br>Payback Period=%{y}<extra></extra>",
         "legendgroup": "Oxford Street",
         "marker": {
          "color": "green",
          "pattern": {
           "shape": ""
          }
         },
         "name": "Oxford Street",
         "offsetgroup": "Oxford Street",
         "orientation": "v",
         "showlegend": true,
         "textposition": "auto",
         "type": "bar",
         "x": [
          "Oxford Street"
         ],
         "xaxis": "x",
         "y": [
          11.538461538461538
         ],
         "yaxis": "y"
        },
        {
         "alignmentgroup": "True",
         "hovertemplate": "Property=%{x}<br>Payback Period=%{y}<extra></extra>",
         "legendgroup": "Bond Street",
         "marker": {
          "color": "green",
          "pattern": {
           "shape": ""
          }
         },
         "name": "Bond Street",
         "offsetgroup": "Bond Street",
         "orientation": "v",
         "showlegend": true,
         "textposition": "auto",
         "type": "bar",
         "x": [
          "Bond Street"
         ],
         "xaxis": "x",
         "y": [
          11.428571428571429
         ],
         "yaxis": "y"
        },
        {
         "alignmentgroup": "True",
         "hovertemplate": "Property=%{x}<br>Payback Period=%{y}<extra></extra>",
         "legendgroup": "Park Lane",
         "marker": {
          "color": "darkblue",
          "pattern": {
           "shape": ""
          }
         },
         "name": "Park Lane",
         "offsetgroup": "Park Lane",
         "orientation": "v",
         "showlegend": true,
         "textposition": "auto",
         "type": "bar",
         "x": [
          "Park Lane"
         ],
         "xaxis": "x",
         "y": [
          10
         ],
         "yaxis": "y"
        },
        {
         "alignmentgroup": "True",
         "hovertemplate": "Property=%{x}<br>Payback Period=%{y}<extra></extra>",
         "legendgroup": "Mayfair",
         "marker": {
          "color": "darkblue",
          "pattern": {
           "shape": ""
          }
         },
         "name": "Mayfair",
         "offsetgroup": "Mayfair",
         "orientation": "v",
         "showlegend": true,
         "textposition": "auto",
         "type": "bar",
         "x": [
          "Mayfair"
         ],
         "xaxis": "x",
         "y": [
          8
         ],
         "yaxis": "y"
        }
       ],
       "layout": {
        "barmode": "relative",
        "legend": {
         "title": {
          "text": "Property"
         },
         "tracegroupgap": 0
        },
        "showlegend": false,
        "template": {
         "data": {
          "bar": [
           {
            "error_x": {
             "color": "#2a3f5f"
            },
            "error_y": {
             "color": "#2a3f5f"
            },
            "marker": {
             "line": {
              "color": "#E5ECF6",
              "width": 0.5
             },
             "pattern": {
              "fillmode": "overlay",
              "size": 10,
              "solidity": 0.2
             }
            },
            "type": "bar"
           }
          ],
          "barpolar": [
           {
            "marker": {
             "line": {
              "color": "#E5ECF6",
              "width": 0.5
             },
             "pattern": {
              "fillmode": "overlay",
              "size": 10,
              "solidity": 0.2
             }
            },
            "type": "barpolar"
           }
          ],
          "carpet": [
           {
            "aaxis": {
             "endlinecolor": "#2a3f5f",
             "gridcolor": "white",
             "linecolor": "white",
             "minorgridcolor": "white",
             "startlinecolor": "#2a3f5f"
            },
            "baxis": {
             "endlinecolor": "#2a3f5f",
             "gridcolor": "white",
             "linecolor": "white",
             "minorgridcolor": "white",
             "startlinecolor": "#2a3f5f"
            },
            "type": "carpet"
           }
          ],
          "choropleth": [
           {
            "colorbar": {
             "outlinewidth": 0,
             "ticks": ""
            },
            "type": "choropleth"
           }
          ],
          "contour": [
           {
            "colorbar": {
             "outlinewidth": 0,
             "ticks": ""
            },
            "colorscale": [
             [
              0,
              "#0d0887"
             ],
             [
              0.1111111111111111,
              "#46039f"
             ],
             [
              0.2222222222222222,
              "#7201a8"
             ],
             [
              0.3333333333333333,
              "#9c179e"
             ],
             [
              0.4444444444444444,
              "#bd3786"
             ],
             [
              0.5555555555555556,
              "#d8576b"
             ],
             [
              0.6666666666666666,
              "#ed7953"
             ],
             [
              0.7777777777777778,
              "#fb9f3a"
             ],
             [
              0.8888888888888888,
              "#fdca26"
             ],
             [
              1,
              "#f0f921"
             ]
            ],
            "type": "contour"
           }
          ],
          "contourcarpet": [
           {
            "colorbar": {
             "outlinewidth": 0,
             "ticks": ""
            },
            "type": "contourcarpet"
           }
          ],
          "heatmap": [
           {
            "colorbar": {
             "outlinewidth": 0,
             "ticks": ""
            },
            "colorscale": [
             [
              0,
              "#0d0887"
             ],
             [
              0.1111111111111111,
              "#46039f"
             ],
             [
              0.2222222222222222,
              "#7201a8"
             ],
             [
              0.3333333333333333,
              "#9c179e"
             ],
             [
              0.4444444444444444,
              "#bd3786"
             ],
             [
              0.5555555555555556,
              "#d8576b"
             ],
             [
              0.6666666666666666,
              "#ed7953"
             ],
             [
              0.7777777777777778,
              "#fb9f3a"
             ],
             [
              0.8888888888888888,
              "#fdca26"
             ],
             [
              1,
              "#f0f921"
             ]
            ],
            "type": "heatmap"
           }
          ],
          "heatmapgl": [
           {
            "colorbar": {
             "outlinewidth": 0,
             "ticks": ""
            },
            "colorscale": [
             [
              0,
              "#0d0887"
             ],
             [
              0.1111111111111111,
              "#46039f"
             ],
             [
              0.2222222222222222,
              "#7201a8"
             ],
             [
              0.3333333333333333,
              "#9c179e"
             ],
             [
              0.4444444444444444,
              "#bd3786"
             ],
             [
              0.5555555555555556,
              "#d8576b"
             ],
             [
              0.6666666666666666,
              "#ed7953"
             ],
             [
              0.7777777777777778,
              "#fb9f3a"
             ],
             [
              0.8888888888888888,
              "#fdca26"
             ],
             [
              1,
              "#f0f921"
             ]
            ],
            "type": "heatmapgl"
           }
          ],
          "histogram": [
           {
            "marker": {
             "pattern": {
              "fillmode": "overlay",
              "size": 10,
              "solidity": 0.2
             }
            },
            "type": "histogram"
           }
          ],
          "histogram2d": [
           {
            "colorbar": {
             "outlinewidth": 0,
             "ticks": ""
            },
            "colorscale": [
             [
              0,
              "#0d0887"
             ],
             [
              0.1111111111111111,
              "#46039f"
             ],
             [
              0.2222222222222222,
              "#7201a8"
             ],
             [
              0.3333333333333333,
              "#9c179e"
             ],
             [
              0.4444444444444444,
              "#bd3786"
             ],
             [
              0.5555555555555556,
              "#d8576b"
             ],
             [
              0.6666666666666666,
              "#ed7953"
             ],
             [
              0.7777777777777778,
              "#fb9f3a"
             ],
             [
              0.8888888888888888,
              "#fdca26"
             ],
             [
              1,
              "#f0f921"
             ]
            ],
            "type": "histogram2d"
           }
          ],
          "histogram2dcontour": [
           {
            "colorbar": {
             "outlinewidth": 0,
             "ticks": ""
            },
            "colorscale": [
             [
              0,
              "#0d0887"
             ],
             [
              0.1111111111111111,
              "#46039f"
             ],
             [
              0.2222222222222222,
              "#7201a8"
             ],
             [
              0.3333333333333333,
              "#9c179e"
             ],
             [
              0.4444444444444444,
              "#bd3786"
             ],
             [
              0.5555555555555556,
              "#d8576b"
             ],
             [
              0.6666666666666666,
              "#ed7953"
             ],
             [
              0.7777777777777778,
              "#fb9f3a"
             ],
             [
              0.8888888888888888,
              "#fdca26"
             ],
             [
              1,
              "#f0f921"
             ]
            ],
            "type": "histogram2dcontour"
           }
          ],
          "mesh3d": [
           {
            "colorbar": {
             "outlinewidth": 0,
             "ticks": ""
            },
            "type": "mesh3d"
           }
          ],
          "parcoords": [
           {
            "line": {
             "colorbar": {
              "outlinewidth": 0,
              "ticks": ""
             }
            },
            "type": "parcoords"
           }
          ],
          "pie": [
           {
            "automargin": true,
            "type": "pie"
           }
          ],
          "scatter": [
           {
            "fillpattern": {
             "fillmode": "overlay",
             "size": 10,
             "solidity": 0.2
            },
            "type": "scatter"
           }
          ],
          "scatter3d": [
           {
            "line": {
             "colorbar": {
              "outlinewidth": 0,
              "ticks": ""
             }
            },
            "marker": {
             "colorbar": {
              "outlinewidth": 0,
              "ticks": ""
             }
            },
            "type": "scatter3d"
           }
          ],
          "scattercarpet": [
           {
            "marker": {
             "colorbar": {
              "outlinewidth": 0,
              "ticks": ""
             }
            },
            "type": "scattercarpet"
           }
          ],
          "scattergeo": [
           {
            "marker": {
             "colorbar": {
              "outlinewidth": 0,
              "ticks": ""
             }
            },
            "type": "scattergeo"
           }
          ],
          "scattergl": [
           {
            "marker": {
             "colorbar": {
              "outlinewidth": 0,
              "ticks": ""
             }
            },
            "type": "scattergl"
           }
          ],
          "scattermapbox": [
           {
            "marker": {
             "colorbar": {
              "outlinewidth": 0,
              "ticks": ""
             }
            },
            "type": "scattermapbox"
           }
          ],
          "scatterpolar": [
           {
            "marker": {
             "colorbar": {
              "outlinewidth": 0,
              "ticks": ""
             }
            },
            "type": "scatterpolar"
           }
          ],
          "scatterpolargl": [
           {
            "marker": {
             "colorbar": {
              "outlinewidth": 0,
              "ticks": ""
             }
            },
            "type": "scatterpolargl"
           }
          ],
          "scatterternary": [
           {
            "marker": {
             "colorbar": {
              "outlinewidth": 0,
              "ticks": ""
             }
            },
            "type": "scatterternary"
           }
          ],
          "surface": [
           {
            "colorbar": {
             "outlinewidth": 0,
             "ticks": ""
            },
            "colorscale": [
             [
              0,
              "#0d0887"
             ],
             [
              0.1111111111111111,
              "#46039f"
             ],
             [
              0.2222222222222222,
              "#7201a8"
             ],
             [
              0.3333333333333333,
              "#9c179e"
             ],
             [
              0.4444444444444444,
              "#bd3786"
             ],
             [
              0.5555555555555556,
              "#d8576b"
             ],
             [
              0.6666666666666666,
              "#ed7953"
             ],
             [
              0.7777777777777778,
              "#fb9f3a"
             ],
             [
              0.8888888888888888,
              "#fdca26"
             ],
             [
              1,
              "#f0f921"
             ]
            ],
            "type": "surface"
           }
          ],
          "table": [
           {
            "cells": {
             "fill": {
              "color": "#EBF0F8"
             },
             "line": {
              "color": "white"
             }
            },
            "header": {
             "fill": {
              "color": "#C8D4E3"
             },
             "line": {
              "color": "white"
             }
            },
            "type": "table"
           }
          ]
         },
         "layout": {
          "annotationdefaults": {
           "arrowcolor": "#2a3f5f",
           "arrowhead": 0,
           "arrowwidth": 1
          },
          "autotypenumbers": "strict",
          "coloraxis": {
           "colorbar": {
            "outlinewidth": 0,
            "ticks": ""
           }
          },
          "colorscale": {
           "diverging": [
            [
             0,
             "#8e0152"
            ],
            [
             0.1,
             "#c51b7d"
            ],
            [
             0.2,
             "#de77ae"
            ],
            [
             0.3,
             "#f1b6da"
            ],
            [
             0.4,
             "#fde0ef"
            ],
            [
             0.5,
             "#f7f7f7"
            ],
            [
             0.6,
             "#e6f5d0"
            ],
            [
             0.7,
             "#b8e186"
            ],
            [
             0.8,
             "#7fbc41"
            ],
            [
             0.9,
             "#4d9221"
            ],
            [
             1,
             "#276419"
            ]
           ],
           "sequential": [
            [
             0,
             "#0d0887"
            ],
            [
             0.1111111111111111,
             "#46039f"
            ],
            [
             0.2222222222222222,
             "#7201a8"
            ],
            [
             0.3333333333333333,
             "#9c179e"
            ],
            [
             0.4444444444444444,
             "#bd3786"
            ],
            [
             0.5555555555555556,
             "#d8576b"
            ],
            [
             0.6666666666666666,
             "#ed7953"
            ],
            [
             0.7777777777777778,
             "#fb9f3a"
            ],
            [
             0.8888888888888888,
             "#fdca26"
            ],
            [
             1,
             "#f0f921"
            ]
           ],
           "sequentialminus": [
            [
             0,
             "#0d0887"
            ],
            [
             0.1111111111111111,
             "#46039f"
            ],
            [
             0.2222222222222222,
             "#7201a8"
            ],
            [
             0.3333333333333333,
             "#9c179e"
            ],
            [
             0.4444444444444444,
             "#bd3786"
            ],
            [
             0.5555555555555556,
             "#d8576b"
            ],
            [
             0.6666666666666666,
             "#ed7953"
            ],
            [
             0.7777777777777778,
             "#fb9f3a"
            ],
            [
             0.8888888888888888,
             "#fdca26"
            ],
            [
             1,
             "#f0f921"
            ]
           ]
          },
          "colorway": [
           "#636efa",
           "#EF553B",
           "#00cc96",
           "#ab63fa",
           "#FFA15A",
           "#19d3f3",
           "#FF6692",
           "#B6E880",
           "#FF97FF",
           "#FECB52"
          ],
          "font": {
           "color": "#2a3f5f"
          },
          "geo": {
           "bgcolor": "white",
           "lakecolor": "white",
           "landcolor": "#E5ECF6",
           "showlakes": true,
           "showland": true,
           "subunitcolor": "white"
          },
          "hoverlabel": {
           "align": "left"
          },
          "hovermode": "closest",
          "mapbox": {
           "style": "light"
          },
          "paper_bgcolor": "white",
          "plot_bgcolor": "#E5ECF6",
          "polar": {
           "angularaxis": {
            "gridcolor": "white",
            "linecolor": "white",
            "ticks": ""
           },
           "bgcolor": "#E5ECF6",
           "radialaxis": {
            "gridcolor": "white",
            "linecolor": "white",
            "ticks": ""
           }
          },
          "scene": {
           "xaxis": {
            "backgroundcolor": "#E5ECF6",
            "gridcolor": "white",
            "gridwidth": 2,
            "linecolor": "white",
            "showbackground": true,
            "ticks": "",
            "zerolinecolor": "white"
           },
           "yaxis": {
            "backgroundcolor": "#E5ECF6",
            "gridcolor": "white",
            "gridwidth": 2,
            "linecolor": "white",
            "showbackground": true,
            "ticks": "",
            "zerolinecolor": "white"
           },
           "zaxis": {
            "backgroundcolor": "#E5ECF6",
            "gridcolor": "white",
            "gridwidth": 2,
            "linecolor": "white",
            "showbackground": true,
            "ticks": "",
            "zerolinecolor": "white"
           }
          },
          "shapedefaults": {
           "line": {
            "color": "#2a3f5f"
           }
          },
          "ternary": {
           "aaxis": {
            "gridcolor": "white",
            "linecolor": "white",
            "ticks": ""
           },
           "baxis": {
            "gridcolor": "white",
            "linecolor": "white",
            "ticks": ""
           },
           "bgcolor": "#E5ECF6",
           "caxis": {
            "gridcolor": "white",
            "linecolor": "white",
            "ticks": ""
           }
          },
          "title": {
           "x": 0.05
          },
          "xaxis": {
           "automargin": true,
           "gridcolor": "white",
           "linecolor": "white",
           "ticks": "",
           "title": {
            "standoff": 15
           },
           "zerolinecolor": "white",
           "zerolinewidth": 2
          },
          "yaxis": {
           "automargin": true,
           "gridcolor": "white",
           "linecolor": "white",
           "ticks": "",
           "title": {
            "standoff": 15
           },
           "zerolinecolor": "white",
           "zerolinewidth": 2
          }
         }
        },
        "title": {
         "text": "Monopoly Board Properties' Payback Periods"
        },
        "xaxis": {
         "anchor": "y",
         "categoryarray": [
          "Old Kent Road",
          "Whitechapel Road",
          "The Angel, Islington",
          "Euston Road",
          "Pentonville Road",
          "Pall Mall",
          "Whitehall",
          "Northumberland Avenue",
          "Bow Street",
          "Marlborough Street",
          "Vine Street",
          "Strand",
          "Fleet Street",
          "Trafalgar Square",
          "Leicester Square",
          "Coventry Street",
          "Piccadilly",
          "Regent Street",
          "Oxford Street",
          "Bond Street",
          "Park Lane",
          "Mayfair"
         ],
         "categoryorder": "array",
         "domain": [
          0,
          1
         ],
         "title": {
          "text": "Property"
         }
        },
        "yaxis": {
         "anchor": "x",
         "domain": [
          0,
          1
         ],
         "title": {
          "text": "Payback Period"
         }
        }
       }
      }
     },
     "metadata": {},
     "output_type": "display_data"
    }
   ],
   "source": [
    "df_streets['Payback Period'] = df_streets['Purchase Price']/df_streets['Rent']\n",
    "\n",
    "fig = px.bar(\n",
    "    df_streets,\n",
    "    x='Property',\n",
    "    y='Payback Period',\n",
    "    title=\"Monopoly Board Properties' Payback Periods\",\n",
    "    labels={'x': 'Property', 'y': 'Payback Period'},\n",
    "    color='Property',\n",
    "    color_discrete_map=color_dict\n",
    ")\n",
    "\n",
    "#fig.update_traces(marker=dict(size=15))\n",
    "fig.update_layout(showlegend=False)\n",
    "fig.show()"
   ]
  },
  {
   "cell_type": "markdown",
   "metadata": {},
   "source": [
    "Average number of gos for the property cost to be paid off"
   ]
  },
  {
   "cell_type": "code",
   "execution_count": 4,
   "metadata": {},
   "outputs": [
    {
     "data": {
      "application/vnd.plotly.v1+json": {
       "config": {
        "plotlyServerURL": "https://plot.ly"
       },
       "data": [
        {
         "hovertemplate": "Property=Old Kent Road<br>Purchase Price=%{x}<br>Payoff=%{y}<extra></extra>",
         "legendgroup": "Old Kent Road",
         "marker": {
          "color": "brown",
          "size": 15,
          "symbol": "circle"
         },
         "mode": "markers",
         "name": "Old Kent Road",
         "orientation": "v",
         "showlegend": true,
         "type": "scatter",
         "x": [
          60
         ],
         "xaxis": "x",
         "y": [
          1621.491664229307
         ],
         "yaxis": "y"
        },
        {
         "hovertemplate": "Property=Whitechapel Road<br>Purchase Price=%{x}<br>Payoff=%{y}<extra></extra>",
         "legendgroup": "Whitechapel Road",
         "marker": {
          "color": "brown",
          "size": 15,
          "symbol": "circle"
         },
         "mode": "markers",
         "name": "Whitechapel Road",
         "orientation": "v",
         "showlegend": true,
         "type": "scatter",
         "x": [
          80
         ],
         "xaxis": "x",
         "y": [
          976.3360190199446
         ],
         "yaxis": "y"
        },
        {
         "hovertemplate": "Property=The Angel, Islington<br>Purchase Price=%{x}<br>Payoff=%{y}<extra></extra>",
         "legendgroup": "The Angel, Islington",
         "marker": {
          "color": "lightblue",
          "size": 15,
          "symbol": "circle"
         },
         "mode": "markers",
         "name": "The Angel, Islington",
         "orientation": "v",
         "showlegend": true,
         "type": "scatter",
         "x": [
          100
         ],
         "xaxis": "x",
         "y": [
          703.1008636761405
         ],
         "yaxis": "y"
        },
        {
         "hovertemplate": "Property=Euston Road<br>Purchase Price=%{x}<br>Payoff=%{y}<extra></extra>",
         "legendgroup": "Euston Road",
         "marker": {
          "color": "lightblue",
          "size": 15,
          "symbol": "circle"
         },
         "mode": "markers",
         "name": "Euston Road",
         "orientation": "v",
         "showlegend": true,
         "type": "scatter",
         "x": [
          100
         ],
         "xaxis": "x",
         "y": [
          697.8437370189947
         ],
         "yaxis": "y"
        },
        {
         "hovertemplate": "Property=Pentonville Road<br>Purchase Price=%{x}<br>Payoff=%{y}<extra></extra>",
         "legendgroup": "Pentonville Road",
         "marker": {
          "color": "lightblue",
          "size": 15,
          "symbol": "circle"
         },
         "mode": "markers",
         "name": "Pentonville Road",
         "orientation": "v",
         "showlegend": true,
         "type": "scatter",
         "x": [
          120
         ],
         "xaxis": "x",
         "y": [
          636.7152865510509
         ],
         "yaxis": "y"
        },
        {
         "hovertemplate": "Property=Pall Mall<br>Purchase Price=%{x}<br>Payoff=%{y}<extra></extra>",
         "legendgroup": "Pall Mall",
         "marker": {
          "color": "pink",
          "size": 15,
          "symbol": "circle"
         },
         "mode": "markers",
         "name": "Pall Mall",
         "orientation": "v",
         "showlegend": true,
         "type": "scatter",
         "x": [
          140
         ],
         "xaxis": "x",
         "y": [
          515.4700139470013
         ],
         "yaxis": "y"
        },
        {
         "hovertemplate": "Property=Whitehall<br>Purchase Price=%{x}<br>Payoff=%{y}<extra></extra>",
         "legendgroup": "Whitehall",
         "marker": {
          "color": "pink",
          "size": 15,
          "symbol": "circle"
         },
         "mode": "markers",
         "name": "Whitehall",
         "orientation": "v",
         "showlegend": true,
         "type": "scatter",
         "x": [
          140
         ],
         "xaxis": "x",
         "y": [
          619.4526517418891
         ],
         "yaxis": "y"
        },
        {
         "hovertemplate": "Property=Northumberland Avenue<br>Purchase Price=%{x}<br>Payoff=%{y}<extra></extra>",
         "legendgroup": "Northumberland Avenue",
         "marker": {
          "color": "pink",
          "size": 15,
          "symbol": "circle"
         },
         "mode": "markers",
         "name": "Northumberland Avenue",
         "orientation": "v",
         "showlegend": true,
         "type": "scatter",
         "x": [
          160
         ],
         "xaxis": "x",
         "y": [
          565.1253822629969
         ],
         "yaxis": "y"
        },
        {
         "hovertemplate": "Property=Bow Street<br>Purchase Price=%{x}<br>Payoff=%{y}<extra></extra>",
         "legendgroup": "Bow Street",
         "marker": {
          "color": "orange",
          "size": 15,
          "symbol": "circle"
         },
         "mode": "markers",
         "name": "Bow Street",
         "orientation": "v",
         "showlegend": true,
         "type": "scatter",
         "x": [
          180
         ],
         "xaxis": "x",
         "y": [
          491.71121097445604
         ],
         "yaxis": "y"
        },
        {
         "hovertemplate": "Property=Marlborough Street<br>Purchase Price=%{x}<br>Payoff=%{y}<extra></extra>",
         "legendgroup": "Marlborough Street",
         "marker": {
          "color": "orange",
          "size": 15,
          "symbol": "circle"
         },
         "mode": "markers",
         "name": "Marlborough Street",
         "orientation": "v",
         "showlegend": true,
         "type": "scatter",
         "x": [
          180
         ],
         "xaxis": "x",
         "y": [
          469.1841570751523
         ],
         "yaxis": "y"
        },
        {
         "hovertemplate": "Property=Vine Street<br>Purchase Price=%{x}<br>Payoff=%{y}<extra></extra>",
         "legendgroup": "Vine Street",
         "marker": {
          "color": "orange",
          "size": 15,
          "symbol": "circle"
         },
         "mode": "markers",
         "name": "Vine Street",
         "orientation": "v",
         "showlegend": true,
         "type": "scatter",
         "x": [
          200
         ],
         "xaxis": "x",
         "y": [
          440.8722206317397
         ],
         "yaxis": "y"
        },
        {
         "hovertemplate": "Property=Strand<br>Purchase Price=%{x}<br>Payoff=%{y}<extra></extra>",
         "legendgroup": "Strand",
         "marker": {
          "color": "red",
          "size": 15,
          "symbol": "circle"
         },
         "mode": "markers",
         "name": "Strand",
         "orientation": "v",
         "showlegend": true,
         "type": "scatter",
         "x": [
          220
         ],
         "xaxis": "x",
         "y": [
          474.99848113097323
         ],
         "yaxis": "y"
        },
        {
         "hovertemplate": "Property=Fleet Street<br>Purchase Price=%{x}<br>Payoff=%{y}<extra></extra>",
         "legendgroup": "Fleet Street",
         "marker": {
          "color": "red",
          "size": 15,
          "symbol": "circle"
         },
         "mode": "markers",
         "name": "Fleet Street",
         "orientation": "v",
         "showlegend": true,
         "type": "scatter",
         "x": [
          220
         ],
         "xaxis": "x",
         "y": [
          487.92779818055254
         ],
         "yaxis": "y"
        },
        {
         "hovertemplate": "Property=Trafalgar Square<br>Purchase Price=%{x}<br>Payoff=%{y}<extra></extra>",
         "legendgroup": "Trafalgar Square",
         "marker": {
          "color": "red",
          "size": 15,
          "symbol": "circle"
         },
         "mode": "markers",
         "name": "Trafalgar Square",
         "orientation": "v",
         "showlegend": true,
         "type": "scatter",
         "x": [
          240
         ],
         "xaxis": "x",
         "y": [
          403.2279298118011
         ],
         "yaxis": "y"
        },
        {
         "hovertemplate": "Property=Leicester Square<br>Purchase Price=%{x}<br>Payoff=%{y}<extra></extra>",
         "legendgroup": "Leicester Square",
         "marker": {
          "color": "yellow",
          "size": 15,
          "symbol": "circle"
         },
         "mode": "markers",
         "name": "Leicester Square",
         "orientation": "v",
         "showlegend": true,
         "type": "scatter",
         "x": [
          260
         ],
         "xaxis": "x",
         "y": [
          480.9938833328328
         ],
         "yaxis": "y"
        },
        {
         "hovertemplate": "Property=Coventry Street<br>Purchase Price=%{x}<br>Payoff=%{y}<extra></extra>",
         "legendgroup": "Coventry Street",
         "marker": {
          "color": "yellow",
          "size": 15,
          "symbol": "circle"
         },
         "mode": "markers",
         "name": "Coventry Street",
         "orientation": "v",
         "showlegend": true,
         "type": "scatter",
         "x": [
          260
         ],
         "xaxis": "x",
         "y": [
          486.2412840415735
         ],
         "yaxis": "y"
        },
        {
         "hovertemplate": "Property=Piccadilly<br>Purchase Price=%{x}<br>Payoff=%{y}<extra></extra>",
         "legendgroup": "Piccadilly",
         "marker": {
          "color": "yellow",
          "size": 15,
          "symbol": "circle"
         },
         "mode": "markers",
         "name": "Piccadilly",
         "orientation": "v",
         "showlegend": true,
         "type": "scatter",
         "x": [
          280
         ],
         "xaxis": "x",
         "y": [
          498.3710895361381
         ],
         "yaxis": "y"
        },
        {
         "hovertemplate": "Property=Regent Street<br>Purchase Price=%{x}<br>Payoff=%{y}<extra></extra>",
         "legendgroup": "Regent Street",
         "marker": {
          "color": "green",
          "size": 15,
          "symbol": "circle"
         },
         "mode": "markers",
         "name": "Regent Street",
         "orientation": "v",
         "showlegend": true,
         "type": "scatter",
         "x": [
          300
         ],
         "xaxis": "x",
         "y": [
          481.59492681231814
         ],
         "yaxis": "y"
        },
        {
         "hovertemplate": "Property=Oxford Street<br>Purchase Price=%{x}<br>Payoff=%{y}<extra></extra>",
         "legendgroup": "Oxford Street",
         "marker": {
          "color": "green",
          "size": 15,
          "symbol": "circle"
         },
         "mode": "markers",
         "name": "Oxford Street",
         "orientation": "v",
         "showlegend": true,
         "type": "scatter",
         "x": [
          300
         ],
         "xaxis": "x",
         "y": [
          488.2109990753379
         ],
         "yaxis": "y"
        },
        {
         "hovertemplate": "Property=Bond Street<br>Purchase Price=%{x}<br>Payoff=%{y}<extra></extra>",
         "legendgroup": "Bond Street",
         "marker": {
          "color": "green",
          "size": 15,
          "symbol": "circle"
         },
         "mode": "markers",
         "name": "Bond Street",
         "orientation": "v",
         "showlegend": true,
         "type": "scatter",
         "x": [
          320
         ],
         "xaxis": "x",
         "y": [
          516.3702410059377
         ],
         "yaxis": "y"
        },
        {
         "hovertemplate": "Property=Park Lane<br>Purchase Price=%{x}<br>Payoff=%{y}<extra></extra>",
         "legendgroup": "Park Lane",
         "marker": {
          "color": "darkblue",
          "size": 15,
          "symbol": "circle"
         },
         "mode": "markers",
         "name": "Park Lane",
         "orientation": "v",
         "showlegend": true,
         "type": "scatter",
         "x": [
          350
         ],
         "xaxis": "x",
         "y": [
          525.361762615494
         ],
         "yaxis": "y"
        },
        {
         "hovertemplate": "Property=Mayfair<br>Purchase Price=%{x}<br>Payoff=%{y}<extra></extra>",
         "legendgroup": "Mayfair",
         "marker": {
          "color": "darkblue",
          "size": 15,
          "symbol": "circle"
         },
         "mode": "markers",
         "name": "Mayfair",
         "orientation": "v",
         "showlegend": true,
         "type": "scatter",
         "x": [
          400
         ],
         "xaxis": "x",
         "y": [
          345.85752719616335
         ],
         "yaxis": "y"
        }
       ],
       "layout": {
        "legend": {
         "title": {
          "text": "Property"
         },
         "tracegroupgap": 0
        },
        "showlegend": false,
        "template": {
         "data": {
          "bar": [
           {
            "error_x": {
             "color": "#2a3f5f"
            },
            "error_y": {
             "color": "#2a3f5f"
            },
            "marker": {
             "line": {
              "color": "#E5ECF6",
              "width": 0.5
             },
             "pattern": {
              "fillmode": "overlay",
              "size": 10,
              "solidity": 0.2
             }
            },
            "type": "bar"
           }
          ],
          "barpolar": [
           {
            "marker": {
             "line": {
              "color": "#E5ECF6",
              "width": 0.5
             },
             "pattern": {
              "fillmode": "overlay",
              "size": 10,
              "solidity": 0.2
             }
            },
            "type": "barpolar"
           }
          ],
          "carpet": [
           {
            "aaxis": {
             "endlinecolor": "#2a3f5f",
             "gridcolor": "white",
             "linecolor": "white",
             "minorgridcolor": "white",
             "startlinecolor": "#2a3f5f"
            },
            "baxis": {
             "endlinecolor": "#2a3f5f",
             "gridcolor": "white",
             "linecolor": "white",
             "minorgridcolor": "white",
             "startlinecolor": "#2a3f5f"
            },
            "type": "carpet"
           }
          ],
          "choropleth": [
           {
            "colorbar": {
             "outlinewidth": 0,
             "ticks": ""
            },
            "type": "choropleth"
           }
          ],
          "contour": [
           {
            "colorbar": {
             "outlinewidth": 0,
             "ticks": ""
            },
            "colorscale": [
             [
              0,
              "#0d0887"
             ],
             [
              0.1111111111111111,
              "#46039f"
             ],
             [
              0.2222222222222222,
              "#7201a8"
             ],
             [
              0.3333333333333333,
              "#9c179e"
             ],
             [
              0.4444444444444444,
              "#bd3786"
             ],
             [
              0.5555555555555556,
              "#d8576b"
             ],
             [
              0.6666666666666666,
              "#ed7953"
             ],
             [
              0.7777777777777778,
              "#fb9f3a"
             ],
             [
              0.8888888888888888,
              "#fdca26"
             ],
             [
              1,
              "#f0f921"
             ]
            ],
            "type": "contour"
           }
          ],
          "contourcarpet": [
           {
            "colorbar": {
             "outlinewidth": 0,
             "ticks": ""
            },
            "type": "contourcarpet"
           }
          ],
          "heatmap": [
           {
            "colorbar": {
             "outlinewidth": 0,
             "ticks": ""
            },
            "colorscale": [
             [
              0,
              "#0d0887"
             ],
             [
              0.1111111111111111,
              "#46039f"
             ],
             [
              0.2222222222222222,
              "#7201a8"
             ],
             [
              0.3333333333333333,
              "#9c179e"
             ],
             [
              0.4444444444444444,
              "#bd3786"
             ],
             [
              0.5555555555555556,
              "#d8576b"
             ],
             [
              0.6666666666666666,
              "#ed7953"
             ],
             [
              0.7777777777777778,
              "#fb9f3a"
             ],
             [
              0.8888888888888888,
              "#fdca26"
             ],
             [
              1,
              "#f0f921"
             ]
            ],
            "type": "heatmap"
           }
          ],
          "heatmapgl": [
           {
            "colorbar": {
             "outlinewidth": 0,
             "ticks": ""
            },
            "colorscale": [
             [
              0,
              "#0d0887"
             ],
             [
              0.1111111111111111,
              "#46039f"
             ],
             [
              0.2222222222222222,
              "#7201a8"
             ],
             [
              0.3333333333333333,
              "#9c179e"
             ],
             [
              0.4444444444444444,
              "#bd3786"
             ],
             [
              0.5555555555555556,
              "#d8576b"
             ],
             [
              0.6666666666666666,
              "#ed7953"
             ],
             [
              0.7777777777777778,
              "#fb9f3a"
             ],
             [
              0.8888888888888888,
              "#fdca26"
             ],
             [
              1,
              "#f0f921"
             ]
            ],
            "type": "heatmapgl"
           }
          ],
          "histogram": [
           {
            "marker": {
             "pattern": {
              "fillmode": "overlay",
              "size": 10,
              "solidity": 0.2
             }
            },
            "type": "histogram"
           }
          ],
          "histogram2d": [
           {
            "colorbar": {
             "outlinewidth": 0,
             "ticks": ""
            },
            "colorscale": [
             [
              0,
              "#0d0887"
             ],
             [
              0.1111111111111111,
              "#46039f"
             ],
             [
              0.2222222222222222,
              "#7201a8"
             ],
             [
              0.3333333333333333,
              "#9c179e"
             ],
             [
              0.4444444444444444,
              "#bd3786"
             ],
             [
              0.5555555555555556,
              "#d8576b"
             ],
             [
              0.6666666666666666,
              "#ed7953"
             ],
             [
              0.7777777777777778,
              "#fb9f3a"
             ],
             [
              0.8888888888888888,
              "#fdca26"
             ],
             [
              1,
              "#f0f921"
             ]
            ],
            "type": "histogram2d"
           }
          ],
          "histogram2dcontour": [
           {
            "colorbar": {
             "outlinewidth": 0,
             "ticks": ""
            },
            "colorscale": [
             [
              0,
              "#0d0887"
             ],
             [
              0.1111111111111111,
              "#46039f"
             ],
             [
              0.2222222222222222,
              "#7201a8"
             ],
             [
              0.3333333333333333,
              "#9c179e"
             ],
             [
              0.4444444444444444,
              "#bd3786"
             ],
             [
              0.5555555555555556,
              "#d8576b"
             ],
             [
              0.6666666666666666,
              "#ed7953"
             ],
             [
              0.7777777777777778,
              "#fb9f3a"
             ],
             [
              0.8888888888888888,
              "#fdca26"
             ],
             [
              1,
              "#f0f921"
             ]
            ],
            "type": "histogram2dcontour"
           }
          ],
          "mesh3d": [
           {
            "colorbar": {
             "outlinewidth": 0,
             "ticks": ""
            },
            "type": "mesh3d"
           }
          ],
          "parcoords": [
           {
            "line": {
             "colorbar": {
              "outlinewidth": 0,
              "ticks": ""
             }
            },
            "type": "parcoords"
           }
          ],
          "pie": [
           {
            "automargin": true,
            "type": "pie"
           }
          ],
          "scatter": [
           {
            "fillpattern": {
             "fillmode": "overlay",
             "size": 10,
             "solidity": 0.2
            },
            "type": "scatter"
           }
          ],
          "scatter3d": [
           {
            "line": {
             "colorbar": {
              "outlinewidth": 0,
              "ticks": ""
             }
            },
            "marker": {
             "colorbar": {
              "outlinewidth": 0,
              "ticks": ""
             }
            },
            "type": "scatter3d"
           }
          ],
          "scattercarpet": [
           {
            "marker": {
             "colorbar": {
              "outlinewidth": 0,
              "ticks": ""
             }
            },
            "type": "scattercarpet"
           }
          ],
          "scattergeo": [
           {
            "marker": {
             "colorbar": {
              "outlinewidth": 0,
              "ticks": ""
             }
            },
            "type": "scattergeo"
           }
          ],
          "scattergl": [
           {
            "marker": {
             "colorbar": {
              "outlinewidth": 0,
              "ticks": ""
             }
            },
            "type": "scattergl"
           }
          ],
          "scattermapbox": [
           {
            "marker": {
             "colorbar": {
              "outlinewidth": 0,
              "ticks": ""
             }
            },
            "type": "scattermapbox"
           }
          ],
          "scatterpolar": [
           {
            "marker": {
             "colorbar": {
              "outlinewidth": 0,
              "ticks": ""
             }
            },
            "type": "scatterpolar"
           }
          ],
          "scatterpolargl": [
           {
            "marker": {
             "colorbar": {
              "outlinewidth": 0,
              "ticks": ""
             }
            },
            "type": "scatterpolargl"
           }
          ],
          "scatterternary": [
           {
            "marker": {
             "colorbar": {
              "outlinewidth": 0,
              "ticks": ""
             }
            },
            "type": "scatterternary"
           }
          ],
          "surface": [
           {
            "colorbar": {
             "outlinewidth": 0,
             "ticks": ""
            },
            "colorscale": [
             [
              0,
              "#0d0887"
             ],
             [
              0.1111111111111111,
              "#46039f"
             ],
             [
              0.2222222222222222,
              "#7201a8"
             ],
             [
              0.3333333333333333,
              "#9c179e"
             ],
             [
              0.4444444444444444,
              "#bd3786"
             ],
             [
              0.5555555555555556,
              "#d8576b"
             ],
             [
              0.6666666666666666,
              "#ed7953"
             ],
             [
              0.7777777777777778,
              "#fb9f3a"
             ],
             [
              0.8888888888888888,
              "#fdca26"
             ],
             [
              1,
              "#f0f921"
             ]
            ],
            "type": "surface"
           }
          ],
          "table": [
           {
            "cells": {
             "fill": {
              "color": "#EBF0F8"
             },
             "line": {
              "color": "white"
             }
            },
            "header": {
             "fill": {
              "color": "#C8D4E3"
             },
             "line": {
              "color": "white"
             }
            },
            "type": "table"
           }
          ]
         },
         "layout": {
          "annotationdefaults": {
           "arrowcolor": "#2a3f5f",
           "arrowhead": 0,
           "arrowwidth": 1
          },
          "autotypenumbers": "strict",
          "coloraxis": {
           "colorbar": {
            "outlinewidth": 0,
            "ticks": ""
           }
          },
          "colorscale": {
           "diverging": [
            [
             0,
             "#8e0152"
            ],
            [
             0.1,
             "#c51b7d"
            ],
            [
             0.2,
             "#de77ae"
            ],
            [
             0.3,
             "#f1b6da"
            ],
            [
             0.4,
             "#fde0ef"
            ],
            [
             0.5,
             "#f7f7f7"
            ],
            [
             0.6,
             "#e6f5d0"
            ],
            [
             0.7,
             "#b8e186"
            ],
            [
             0.8,
             "#7fbc41"
            ],
            [
             0.9,
             "#4d9221"
            ],
            [
             1,
             "#276419"
            ]
           ],
           "sequential": [
            [
             0,
             "#0d0887"
            ],
            [
             0.1111111111111111,
             "#46039f"
            ],
            [
             0.2222222222222222,
             "#7201a8"
            ],
            [
             0.3333333333333333,
             "#9c179e"
            ],
            [
             0.4444444444444444,
             "#bd3786"
            ],
            [
             0.5555555555555556,
             "#d8576b"
            ],
            [
             0.6666666666666666,
             "#ed7953"
            ],
            [
             0.7777777777777778,
             "#fb9f3a"
            ],
            [
             0.8888888888888888,
             "#fdca26"
            ],
            [
             1,
             "#f0f921"
            ]
           ],
           "sequentialminus": [
            [
             0,
             "#0d0887"
            ],
            [
             0.1111111111111111,
             "#46039f"
            ],
            [
             0.2222222222222222,
             "#7201a8"
            ],
            [
             0.3333333333333333,
             "#9c179e"
            ],
            [
             0.4444444444444444,
             "#bd3786"
            ],
            [
             0.5555555555555556,
             "#d8576b"
            ],
            [
             0.6666666666666666,
             "#ed7953"
            ],
            [
             0.7777777777777778,
             "#fb9f3a"
            ],
            [
             0.8888888888888888,
             "#fdca26"
            ],
            [
             1,
             "#f0f921"
            ]
           ]
          },
          "colorway": [
           "#636efa",
           "#EF553B",
           "#00cc96",
           "#ab63fa",
           "#FFA15A",
           "#19d3f3",
           "#FF6692",
           "#B6E880",
           "#FF97FF",
           "#FECB52"
          ],
          "font": {
           "color": "#2a3f5f"
          },
          "geo": {
           "bgcolor": "white",
           "lakecolor": "white",
           "landcolor": "#E5ECF6",
           "showlakes": true,
           "showland": true,
           "subunitcolor": "white"
          },
          "hoverlabel": {
           "align": "left"
          },
          "hovermode": "closest",
          "mapbox": {
           "style": "light"
          },
          "paper_bgcolor": "white",
          "plot_bgcolor": "#E5ECF6",
          "polar": {
           "angularaxis": {
            "gridcolor": "white",
            "linecolor": "white",
            "ticks": ""
           },
           "bgcolor": "#E5ECF6",
           "radialaxis": {
            "gridcolor": "white",
            "linecolor": "white",
            "ticks": ""
           }
          },
          "scene": {
           "xaxis": {
            "backgroundcolor": "#E5ECF6",
            "gridcolor": "white",
            "gridwidth": 2,
            "linecolor": "white",
            "showbackground": true,
            "ticks": "",
            "zerolinecolor": "white"
           },
           "yaxis": {
            "backgroundcolor": "#E5ECF6",
            "gridcolor": "white",
            "gridwidth": 2,
            "linecolor": "white",
            "showbackground": true,
            "ticks": "",
            "zerolinecolor": "white"
           },
           "zaxis": {
            "backgroundcolor": "#E5ECF6",
            "gridcolor": "white",
            "gridwidth": 2,
            "linecolor": "white",
            "showbackground": true,
            "ticks": "",
            "zerolinecolor": "white"
           }
          },
          "shapedefaults": {
           "line": {
            "color": "#2a3f5f"
           }
          },
          "ternary": {
           "aaxis": {
            "gridcolor": "white",
            "linecolor": "white",
            "ticks": ""
           },
           "baxis": {
            "gridcolor": "white",
            "linecolor": "white",
            "ticks": ""
           },
           "bgcolor": "#E5ECF6",
           "caxis": {
            "gridcolor": "white",
            "linecolor": "white",
            "ticks": ""
           }
          },
          "title": {
           "x": 0.05
          },
          "xaxis": {
           "automargin": true,
           "gridcolor": "white",
           "linecolor": "white",
           "ticks": "",
           "title": {
            "standoff": 15
           },
           "zerolinecolor": "white",
           "zerolinewidth": 2
          },
          "yaxis": {
           "automargin": true,
           "gridcolor": "white",
           "linecolor": "white",
           "ticks": "",
           "title": {
            "standoff": 15
           },
           "zerolinecolor": "white",
           "zerolinewidth": 2
          }
         }
        },
        "title": {
         "text": "Monopoly Board Purchase Price Against Expected Number of Gos to Payoff Purchase Price"
        },
        "xaxis": {
         "anchor": "y",
         "domain": [
          0,
          1
         ],
         "title": {
          "text": "Purchase Price"
         }
        },
        "yaxis": {
         "anchor": "x",
         "domain": [
          0,
          1
         ],
         "title": {
          "text": "Payoff"
         }
        }
       }
      }
     },
     "metadata": {},
     "output_type": "display_data"
    }
   ],
   "source": [
    "df_streets['Payoff'] = df_streets['Purchase Price']/df_streets['Rent * Probability']\n",
    "\n",
    "fig = px.scatter(\n",
    "    df_streets,\n",
    "    x='Purchase Price',\n",
    "    y='Payoff',\n",
    "    title=\"Monopoly Board Purchase Price Against Expected Number of Gos to Payoff Purchase Price\",\n",
    "    labels={'x': 'Purchase Price', 'y': 'Payoff'},\n",
    "    color='Property',\n",
    "    color_discrete_map=color_dict\n",
    ")\n",
    "\n",
    "fig.update_traces(marker=dict(size=15))\n",
    "fig.update_layout(showlegend=False)\n",
    "fig.show()"
   ]
  },
  {
   "cell_type": "markdown",
   "metadata": {},
   "source": [
    "With doubled rent, houses/hotels (purchase price is including the cost of additional buildings on the property)"
   ]
  },
  {
   "cell_type": "code",
   "execution_count": 5,
   "metadata": {},
   "outputs": [
    {
     "data": {
      "application/vnd.plotly.v1+json": {
       "config": {
        "plotlyServerURL": "https://plot.ly"
       },
       "data": [
        {
         "hovertemplate": "Property=Old Kent Road<br>Purchase Price=%{x}<br>Payoff Rent Doubled=%{y}<extra></extra>",
         "legendgroup": "Old Kent Road",
         "marker": {
          "color": "brown",
          "size": 15,
          "symbol": "circle"
         },
         "mode": "markers",
         "name": "Old Kent Road",
         "orientation": "v",
         "showlegend": true,
         "type": "scatter",
         "x": [
          60
         ],
         "xaxis": "x",
         "y": [
          810.7458321146535
         ],
         "yaxis": "y"
        },
        {
         "hovertemplate": "Property=Whitechapel Road<br>Purchase Price=%{x}<br>Payoff Rent Doubled=%{y}<extra></extra>",
         "legendgroup": "Whitechapel Road",
         "marker": {
          "color": "brown",
          "size": 15,
          "symbol": "circle"
         },
         "mode": "markers",
         "name": "Whitechapel Road",
         "orientation": "v",
         "showlegend": true,
         "type": "scatter",
         "x": [
          80
         ],
         "xaxis": "x",
         "y": [
          488.1680095099723
         ],
         "yaxis": "y"
        },
        {
         "hovertemplate": "Property=The Angel, Islington<br>Purchase Price=%{x}<br>Payoff Rent Doubled=%{y}<extra></extra>",
         "legendgroup": "The Angel, Islington",
         "marker": {
          "color": "lightblue",
          "size": 15,
          "symbol": "circle"
         },
         "mode": "markers",
         "name": "The Angel, Islington",
         "orientation": "v",
         "showlegend": true,
         "type": "scatter",
         "x": [
          100
         ],
         "xaxis": "x",
         "y": [
          351.55043183807027
         ],
         "yaxis": "y"
        },
        {
         "hovertemplate": "Property=Euston Road<br>Purchase Price=%{x}<br>Payoff Rent Doubled=%{y}<extra></extra>",
         "legendgroup": "Euston Road",
         "marker": {
          "color": "lightblue",
          "size": 15,
          "symbol": "circle"
         },
         "mode": "markers",
         "name": "Euston Road",
         "orientation": "v",
         "showlegend": true,
         "type": "scatter",
         "x": [
          100
         ],
         "xaxis": "x",
         "y": [
          348.92186850949736
         ],
         "yaxis": "y"
        },
        {
         "hovertemplate": "Property=Pentonville Road<br>Purchase Price=%{x}<br>Payoff Rent Doubled=%{y}<extra></extra>",
         "legendgroup": "Pentonville Road",
         "marker": {
          "color": "lightblue",
          "size": 15,
          "symbol": "circle"
         },
         "mode": "markers",
         "name": "Pentonville Road",
         "orientation": "v",
         "showlegend": true,
         "type": "scatter",
         "x": [
          120
         ],
         "xaxis": "x",
         "y": [
          318.35764327552545
         ],
         "yaxis": "y"
        },
        {
         "hovertemplate": "Property=Pall Mall<br>Purchase Price=%{x}<br>Payoff Rent Doubled=%{y}<extra></extra>",
         "legendgroup": "Pall Mall",
         "marker": {
          "color": "pink",
          "size": 15,
          "symbol": "circle"
         },
         "mode": "markers",
         "name": "Pall Mall",
         "orientation": "v",
         "showlegend": true,
         "type": "scatter",
         "x": [
          140
         ],
         "xaxis": "x",
         "y": [
          257.7350069735007
         ],
         "yaxis": "y"
        },
        {
         "hovertemplate": "Property=Whitehall<br>Purchase Price=%{x}<br>Payoff Rent Doubled=%{y}<extra></extra>",
         "legendgroup": "Whitehall",
         "marker": {
          "color": "pink",
          "size": 15,
          "symbol": "circle"
         },
         "mode": "markers",
         "name": "Whitehall",
         "orientation": "v",
         "showlegend": true,
         "type": "scatter",
         "x": [
          140
         ],
         "xaxis": "x",
         "y": [
          309.72632587094455
         ],
         "yaxis": "y"
        },
        {
         "hovertemplate": "Property=Northumberland Avenue<br>Purchase Price=%{x}<br>Payoff Rent Doubled=%{y}<extra></extra>",
         "legendgroup": "Northumberland Avenue",
         "marker": {
          "color": "pink",
          "size": 15,
          "symbol": "circle"
         },
         "mode": "markers",
         "name": "Northumberland Avenue",
         "orientation": "v",
         "showlegend": true,
         "type": "scatter",
         "x": [
          160
         ],
         "xaxis": "x",
         "y": [
          282.56269113149847
         ],
         "yaxis": "y"
        },
        {
         "hovertemplate": "Property=Bow Street<br>Purchase Price=%{x}<br>Payoff Rent Doubled=%{y}<extra></extra>",
         "legendgroup": "Bow Street",
         "marker": {
          "color": "orange",
          "size": 15,
          "symbol": "circle"
         },
         "mode": "markers",
         "name": "Bow Street",
         "orientation": "v",
         "showlegend": true,
         "type": "scatter",
         "x": [
          180
         ],
         "xaxis": "x",
         "y": [
          245.85560548722802
         ],
         "yaxis": "y"
        },
        {
         "hovertemplate": "Property=Marlborough Street<br>Purchase Price=%{x}<br>Payoff Rent Doubled=%{y}<extra></extra>",
         "legendgroup": "Marlborough Street",
         "marker": {
          "color": "orange",
          "size": 15,
          "symbol": "circle"
         },
         "mode": "markers",
         "name": "Marlborough Street",
         "orientation": "v",
         "showlegend": true,
         "type": "scatter",
         "x": [
          180
         ],
         "xaxis": "x",
         "y": [
          234.59207853757616
         ],
         "yaxis": "y"
        },
        {
         "hovertemplate": "Property=Vine Street<br>Purchase Price=%{x}<br>Payoff Rent Doubled=%{y}<extra></extra>",
         "legendgroup": "Vine Street",
         "marker": {
          "color": "orange",
          "size": 15,
          "symbol": "circle"
         },
         "mode": "markers",
         "name": "Vine Street",
         "orientation": "v",
         "showlegend": true,
         "type": "scatter",
         "x": [
          200
         ],
         "xaxis": "x",
         "y": [
          220.43611031586985
         ],
         "yaxis": "y"
        },
        {
         "hovertemplate": "Property=Strand<br>Purchase Price=%{x}<br>Payoff Rent Doubled=%{y}<extra></extra>",
         "legendgroup": "Strand",
         "marker": {
          "color": "red",
          "size": 15,
          "symbol": "circle"
         },
         "mode": "markers",
         "name": "Strand",
         "orientation": "v",
         "showlegend": true,
         "type": "scatter",
         "x": [
          220
         ],
         "xaxis": "x",
         "y": [
          237.49924056548662
         ],
         "yaxis": "y"
        },
        {
         "hovertemplate": "Property=Fleet Street<br>Purchase Price=%{x}<br>Payoff Rent Doubled=%{y}<extra></extra>",
         "legendgroup": "Fleet Street",
         "marker": {
          "color": "red",
          "size": 15,
          "symbol": "circle"
         },
         "mode": "markers",
         "name": "Fleet Street",
         "orientation": "v",
         "showlegend": true,
         "type": "scatter",
         "x": [
          220
         ],
         "xaxis": "x",
         "y": [
          243.96389909027627
         ],
         "yaxis": "y"
        },
        {
         "hovertemplate": "Property=Trafalgar Square<br>Purchase Price=%{x}<br>Payoff Rent Doubled=%{y}<extra></extra>",
         "legendgroup": "Trafalgar Square",
         "marker": {
          "color": "red",
          "size": 15,
          "symbol": "circle"
         },
         "mode": "markers",
         "name": "Trafalgar Square",
         "orientation": "v",
         "showlegend": true,
         "type": "scatter",
         "x": [
          240
         ],
         "xaxis": "x",
         "y": [
          201.61396490590056
         ],
         "yaxis": "y"
        },
        {
         "hovertemplate": "Property=Leicester Square<br>Purchase Price=%{x}<br>Payoff Rent Doubled=%{y}<extra></extra>",
         "legendgroup": "Leicester Square",
         "marker": {
          "color": "yellow",
          "size": 15,
          "symbol": "circle"
         },
         "mode": "markers",
         "name": "Leicester Square",
         "orientation": "v",
         "showlegend": true,
         "type": "scatter",
         "x": [
          260
         ],
         "xaxis": "x",
         "y": [
          240.4969416664164
         ],
         "yaxis": "y"
        },
        {
         "hovertemplate": "Property=Coventry Street<br>Purchase Price=%{x}<br>Payoff Rent Doubled=%{y}<extra></extra>",
         "legendgroup": "Coventry Street",
         "marker": {
          "color": "yellow",
          "size": 15,
          "symbol": "circle"
         },
         "mode": "markers",
         "name": "Coventry Street",
         "orientation": "v",
         "showlegend": true,
         "type": "scatter",
         "x": [
          260
         ],
         "xaxis": "x",
         "y": [
          243.12064202078676
         ],
         "yaxis": "y"
        },
        {
         "hovertemplate": "Property=Piccadilly<br>Purchase Price=%{x}<br>Payoff Rent Doubled=%{y}<extra></extra>",
         "legendgroup": "Piccadilly",
         "marker": {
          "color": "yellow",
          "size": 15,
          "symbol": "circle"
         },
         "mode": "markers",
         "name": "Piccadilly",
         "orientation": "v",
         "showlegend": true,
         "type": "scatter",
         "x": [
          280
         ],
         "xaxis": "x",
         "y": [
          249.18554476806904
         ],
         "yaxis": "y"
        },
        {
         "hovertemplate": "Property=Regent Street<br>Purchase Price=%{x}<br>Payoff Rent Doubled=%{y}<extra></extra>",
         "legendgroup": "Regent Street",
         "marker": {
          "color": "green",
          "size": 15,
          "symbol": "circle"
         },
         "mode": "markers",
         "name": "Regent Street",
         "orientation": "v",
         "showlegend": true,
         "type": "scatter",
         "x": [
          300
         ],
         "xaxis": "x",
         "y": [
          240.79746340615907
         ],
         "yaxis": "y"
        },
        {
         "hovertemplate": "Property=Oxford Street<br>Purchase Price=%{x}<br>Payoff Rent Doubled=%{y}<extra></extra>",
         "legendgroup": "Oxford Street",
         "marker": {
          "color": "green",
          "size": 15,
          "symbol": "circle"
         },
         "mode": "markers",
         "name": "Oxford Street",
         "orientation": "v",
         "showlegend": true,
         "type": "scatter",
         "x": [
          300
         ],
         "xaxis": "x",
         "y": [
          244.10549953766895
         ],
         "yaxis": "y"
        },
        {
         "hovertemplate": "Property=Bond Street<br>Purchase Price=%{x}<br>Payoff Rent Doubled=%{y}<extra></extra>",
         "legendgroup": "Bond Street",
         "marker": {
          "color": "green",
          "size": 15,
          "symbol": "circle"
         },
         "mode": "markers",
         "name": "Bond Street",
         "orientation": "v",
         "showlegend": true,
         "type": "scatter",
         "x": [
          320
         ],
         "xaxis": "x",
         "y": [
          258.18512050296886
         ],
         "yaxis": "y"
        },
        {
         "hovertemplate": "Property=Park Lane<br>Purchase Price=%{x}<br>Payoff Rent Doubled=%{y}<extra></extra>",
         "legendgroup": "Park Lane",
         "marker": {
          "color": "darkblue",
          "size": 15,
          "symbol": "circle"
         },
         "mode": "markers",
         "name": "Park Lane",
         "orientation": "v",
         "showlegend": true,
         "type": "scatter",
         "x": [
          350
         ],
         "xaxis": "x",
         "y": [
          262.680881307747
         ],
         "yaxis": "y"
        },
        {
         "hovertemplate": "Property=Mayfair<br>Purchase Price=%{x}<br>Payoff Rent Doubled=%{y}<extra></extra>",
         "legendgroup": "Mayfair",
         "marker": {
          "color": "darkblue",
          "size": 15,
          "symbol": "circle"
         },
         "mode": "markers",
         "name": "Mayfair",
         "orientation": "v",
         "showlegend": true,
         "type": "scatter",
         "x": [
          400
         ],
         "xaxis": "x",
         "y": [
          172.92876359808167
         ],
         "yaxis": "y"
        }
       ],
       "layout": {
        "legend": {
         "title": {
          "text": "Property"
         },
         "tracegroupgap": 0
        },
        "showlegend": false,
        "template": {
         "data": {
          "bar": [
           {
            "error_x": {
             "color": "#2a3f5f"
            },
            "error_y": {
             "color": "#2a3f5f"
            },
            "marker": {
             "line": {
              "color": "#E5ECF6",
              "width": 0.5
             },
             "pattern": {
              "fillmode": "overlay",
              "size": 10,
              "solidity": 0.2
             }
            },
            "type": "bar"
           }
          ],
          "barpolar": [
           {
            "marker": {
             "line": {
              "color": "#E5ECF6",
              "width": 0.5
             },
             "pattern": {
              "fillmode": "overlay",
              "size": 10,
              "solidity": 0.2
             }
            },
            "type": "barpolar"
           }
          ],
          "carpet": [
           {
            "aaxis": {
             "endlinecolor": "#2a3f5f",
             "gridcolor": "white",
             "linecolor": "white",
             "minorgridcolor": "white",
             "startlinecolor": "#2a3f5f"
            },
            "baxis": {
             "endlinecolor": "#2a3f5f",
             "gridcolor": "white",
             "linecolor": "white",
             "minorgridcolor": "white",
             "startlinecolor": "#2a3f5f"
            },
            "type": "carpet"
           }
          ],
          "choropleth": [
           {
            "colorbar": {
             "outlinewidth": 0,
             "ticks": ""
            },
            "type": "choropleth"
           }
          ],
          "contour": [
           {
            "colorbar": {
             "outlinewidth": 0,
             "ticks": ""
            },
            "colorscale": [
             [
              0,
              "#0d0887"
             ],
             [
              0.1111111111111111,
              "#46039f"
             ],
             [
              0.2222222222222222,
              "#7201a8"
             ],
             [
              0.3333333333333333,
              "#9c179e"
             ],
             [
              0.4444444444444444,
              "#bd3786"
             ],
             [
              0.5555555555555556,
              "#d8576b"
             ],
             [
              0.6666666666666666,
              "#ed7953"
             ],
             [
              0.7777777777777778,
              "#fb9f3a"
             ],
             [
              0.8888888888888888,
              "#fdca26"
             ],
             [
              1,
              "#f0f921"
             ]
            ],
            "type": "contour"
           }
          ],
          "contourcarpet": [
           {
            "colorbar": {
             "outlinewidth": 0,
             "ticks": ""
            },
            "type": "contourcarpet"
           }
          ],
          "heatmap": [
           {
            "colorbar": {
             "outlinewidth": 0,
             "ticks": ""
            },
            "colorscale": [
             [
              0,
              "#0d0887"
             ],
             [
              0.1111111111111111,
              "#46039f"
             ],
             [
              0.2222222222222222,
              "#7201a8"
             ],
             [
              0.3333333333333333,
              "#9c179e"
             ],
             [
              0.4444444444444444,
              "#bd3786"
             ],
             [
              0.5555555555555556,
              "#d8576b"
             ],
             [
              0.6666666666666666,
              "#ed7953"
             ],
             [
              0.7777777777777778,
              "#fb9f3a"
             ],
             [
              0.8888888888888888,
              "#fdca26"
             ],
             [
              1,
              "#f0f921"
             ]
            ],
            "type": "heatmap"
           }
          ],
          "heatmapgl": [
           {
            "colorbar": {
             "outlinewidth": 0,
             "ticks": ""
            },
            "colorscale": [
             [
              0,
              "#0d0887"
             ],
             [
              0.1111111111111111,
              "#46039f"
             ],
             [
              0.2222222222222222,
              "#7201a8"
             ],
             [
              0.3333333333333333,
              "#9c179e"
             ],
             [
              0.4444444444444444,
              "#bd3786"
             ],
             [
              0.5555555555555556,
              "#d8576b"
             ],
             [
              0.6666666666666666,
              "#ed7953"
             ],
             [
              0.7777777777777778,
              "#fb9f3a"
             ],
             [
              0.8888888888888888,
              "#fdca26"
             ],
             [
              1,
              "#f0f921"
             ]
            ],
            "type": "heatmapgl"
           }
          ],
          "histogram": [
           {
            "marker": {
             "pattern": {
              "fillmode": "overlay",
              "size": 10,
              "solidity": 0.2
             }
            },
            "type": "histogram"
           }
          ],
          "histogram2d": [
           {
            "colorbar": {
             "outlinewidth": 0,
             "ticks": ""
            },
            "colorscale": [
             [
              0,
              "#0d0887"
             ],
             [
              0.1111111111111111,
              "#46039f"
             ],
             [
              0.2222222222222222,
              "#7201a8"
             ],
             [
              0.3333333333333333,
              "#9c179e"
             ],
             [
              0.4444444444444444,
              "#bd3786"
             ],
             [
              0.5555555555555556,
              "#d8576b"
             ],
             [
              0.6666666666666666,
              "#ed7953"
             ],
             [
              0.7777777777777778,
              "#fb9f3a"
             ],
             [
              0.8888888888888888,
              "#fdca26"
             ],
             [
              1,
              "#f0f921"
             ]
            ],
            "type": "histogram2d"
           }
          ],
          "histogram2dcontour": [
           {
            "colorbar": {
             "outlinewidth": 0,
             "ticks": ""
            },
            "colorscale": [
             [
              0,
              "#0d0887"
             ],
             [
              0.1111111111111111,
              "#46039f"
             ],
             [
              0.2222222222222222,
              "#7201a8"
             ],
             [
              0.3333333333333333,
              "#9c179e"
             ],
             [
              0.4444444444444444,
              "#bd3786"
             ],
             [
              0.5555555555555556,
              "#d8576b"
             ],
             [
              0.6666666666666666,
              "#ed7953"
             ],
             [
              0.7777777777777778,
              "#fb9f3a"
             ],
             [
              0.8888888888888888,
              "#fdca26"
             ],
             [
              1,
              "#f0f921"
             ]
            ],
            "type": "histogram2dcontour"
           }
          ],
          "mesh3d": [
           {
            "colorbar": {
             "outlinewidth": 0,
             "ticks": ""
            },
            "type": "mesh3d"
           }
          ],
          "parcoords": [
           {
            "line": {
             "colorbar": {
              "outlinewidth": 0,
              "ticks": ""
             }
            },
            "type": "parcoords"
           }
          ],
          "pie": [
           {
            "automargin": true,
            "type": "pie"
           }
          ],
          "scatter": [
           {
            "fillpattern": {
             "fillmode": "overlay",
             "size": 10,
             "solidity": 0.2
            },
            "type": "scatter"
           }
          ],
          "scatter3d": [
           {
            "line": {
             "colorbar": {
              "outlinewidth": 0,
              "ticks": ""
             }
            },
            "marker": {
             "colorbar": {
              "outlinewidth": 0,
              "ticks": ""
             }
            },
            "type": "scatter3d"
           }
          ],
          "scattercarpet": [
           {
            "marker": {
             "colorbar": {
              "outlinewidth": 0,
              "ticks": ""
             }
            },
            "type": "scattercarpet"
           }
          ],
          "scattergeo": [
           {
            "marker": {
             "colorbar": {
              "outlinewidth": 0,
              "ticks": ""
             }
            },
            "type": "scattergeo"
           }
          ],
          "scattergl": [
           {
            "marker": {
             "colorbar": {
              "outlinewidth": 0,
              "ticks": ""
             }
            },
            "type": "scattergl"
           }
          ],
          "scattermapbox": [
           {
            "marker": {
             "colorbar": {
              "outlinewidth": 0,
              "ticks": ""
             }
            },
            "type": "scattermapbox"
           }
          ],
          "scatterpolar": [
           {
            "marker": {
             "colorbar": {
              "outlinewidth": 0,
              "ticks": ""
             }
            },
            "type": "scatterpolar"
           }
          ],
          "scatterpolargl": [
           {
            "marker": {
             "colorbar": {
              "outlinewidth": 0,
              "ticks": ""
             }
            },
            "type": "scatterpolargl"
           }
          ],
          "scatterternary": [
           {
            "marker": {
             "colorbar": {
              "outlinewidth": 0,
              "ticks": ""
             }
            },
            "type": "scatterternary"
           }
          ],
          "surface": [
           {
            "colorbar": {
             "outlinewidth": 0,
             "ticks": ""
            },
            "colorscale": [
             [
              0,
              "#0d0887"
             ],
             [
              0.1111111111111111,
              "#46039f"
             ],
             [
              0.2222222222222222,
              "#7201a8"
             ],
             [
              0.3333333333333333,
              "#9c179e"
             ],
             [
              0.4444444444444444,
              "#bd3786"
             ],
             [
              0.5555555555555556,
              "#d8576b"
             ],
             [
              0.6666666666666666,
              "#ed7953"
             ],
             [
              0.7777777777777778,
              "#fb9f3a"
             ],
             [
              0.8888888888888888,
              "#fdca26"
             ],
             [
              1,
              "#f0f921"
             ]
            ],
            "type": "surface"
           }
          ],
          "table": [
           {
            "cells": {
             "fill": {
              "color": "#EBF0F8"
             },
             "line": {
              "color": "white"
             }
            },
            "header": {
             "fill": {
              "color": "#C8D4E3"
             },
             "line": {
              "color": "white"
             }
            },
            "type": "table"
           }
          ]
         },
         "layout": {
          "annotationdefaults": {
           "arrowcolor": "#2a3f5f",
           "arrowhead": 0,
           "arrowwidth": 1
          },
          "autotypenumbers": "strict",
          "coloraxis": {
           "colorbar": {
            "outlinewidth": 0,
            "ticks": ""
           }
          },
          "colorscale": {
           "diverging": [
            [
             0,
             "#8e0152"
            ],
            [
             0.1,
             "#c51b7d"
            ],
            [
             0.2,
             "#de77ae"
            ],
            [
             0.3,
             "#f1b6da"
            ],
            [
             0.4,
             "#fde0ef"
            ],
            [
             0.5,
             "#f7f7f7"
            ],
            [
             0.6,
             "#e6f5d0"
            ],
            [
             0.7,
             "#b8e186"
            ],
            [
             0.8,
             "#7fbc41"
            ],
            [
             0.9,
             "#4d9221"
            ],
            [
             1,
             "#276419"
            ]
           ],
           "sequential": [
            [
             0,
             "#0d0887"
            ],
            [
             0.1111111111111111,
             "#46039f"
            ],
            [
             0.2222222222222222,
             "#7201a8"
            ],
            [
             0.3333333333333333,
             "#9c179e"
            ],
            [
             0.4444444444444444,
             "#bd3786"
            ],
            [
             0.5555555555555556,
             "#d8576b"
            ],
            [
             0.6666666666666666,
             "#ed7953"
            ],
            [
             0.7777777777777778,
             "#fb9f3a"
            ],
            [
             0.8888888888888888,
             "#fdca26"
            ],
            [
             1,
             "#f0f921"
            ]
           ],
           "sequentialminus": [
            [
             0,
             "#0d0887"
            ],
            [
             0.1111111111111111,
             "#46039f"
            ],
            [
             0.2222222222222222,
             "#7201a8"
            ],
            [
             0.3333333333333333,
             "#9c179e"
            ],
            [
             0.4444444444444444,
             "#bd3786"
            ],
            [
             0.5555555555555556,
             "#d8576b"
            ],
            [
             0.6666666666666666,
             "#ed7953"
            ],
            [
             0.7777777777777778,
             "#fb9f3a"
            ],
            [
             0.8888888888888888,
             "#fdca26"
            ],
            [
             1,
             "#f0f921"
            ]
           ]
          },
          "colorway": [
           "#636efa",
           "#EF553B",
           "#00cc96",
           "#ab63fa",
           "#FFA15A",
           "#19d3f3",
           "#FF6692",
           "#B6E880",
           "#FF97FF",
           "#FECB52"
          ],
          "font": {
           "color": "#2a3f5f"
          },
          "geo": {
           "bgcolor": "white",
           "lakecolor": "white",
           "landcolor": "#E5ECF6",
           "showlakes": true,
           "showland": true,
           "subunitcolor": "white"
          },
          "hoverlabel": {
           "align": "left"
          },
          "hovermode": "closest",
          "mapbox": {
           "style": "light"
          },
          "paper_bgcolor": "white",
          "plot_bgcolor": "#E5ECF6",
          "polar": {
           "angularaxis": {
            "gridcolor": "white",
            "linecolor": "white",
            "ticks": ""
           },
           "bgcolor": "#E5ECF6",
           "radialaxis": {
            "gridcolor": "white",
            "linecolor": "white",
            "ticks": ""
           }
          },
          "scene": {
           "xaxis": {
            "backgroundcolor": "#E5ECF6",
            "gridcolor": "white",
            "gridwidth": 2,
            "linecolor": "white",
            "showbackground": true,
            "ticks": "",
            "zerolinecolor": "white"
           },
           "yaxis": {
            "backgroundcolor": "#E5ECF6",
            "gridcolor": "white",
            "gridwidth": 2,
            "linecolor": "white",
            "showbackground": true,
            "ticks": "",
            "zerolinecolor": "white"
           },
           "zaxis": {
            "backgroundcolor": "#E5ECF6",
            "gridcolor": "white",
            "gridwidth": 2,
            "linecolor": "white",
            "showbackground": true,
            "ticks": "",
            "zerolinecolor": "white"
           }
          },
          "shapedefaults": {
           "line": {
            "color": "#2a3f5f"
           }
          },
          "ternary": {
           "aaxis": {
            "gridcolor": "white",
            "linecolor": "white",
            "ticks": ""
           },
           "baxis": {
            "gridcolor": "white",
            "linecolor": "white",
            "ticks": ""
           },
           "bgcolor": "#E5ECF6",
           "caxis": {
            "gridcolor": "white",
            "linecolor": "white",
            "ticks": ""
           }
          },
          "title": {
           "x": 0.05
          },
          "xaxis": {
           "automargin": true,
           "gridcolor": "white",
           "linecolor": "white",
           "ticks": "",
           "title": {
            "standoff": 15
           },
           "zerolinecolor": "white",
           "zerolinewidth": 2
          },
          "yaxis": {
           "automargin": true,
           "gridcolor": "white",
           "linecolor": "white",
           "ticks": "",
           "title": {
            "standoff": 15
           },
           "zerolinecolor": "white",
           "zerolinewidth": 2
          }
         }
        },
        "title": {
         "text": "Monopoly Board Purchase Price Against Expected Number of Gos to Payoff Purchase Price with Rent Doubled"
        },
        "xaxis": {
         "anchor": "y",
         "domain": [
          0,
          1
         ],
         "title": {
          "text": "Purchase Price"
         }
        },
        "yaxis": {
         "anchor": "x",
         "domain": [
          0,
          1
         ],
         "title": {
          "text": "Payoff Rent Doubled"
         }
        }
       }
      }
     },
     "metadata": {},
     "output_type": "display_data"
    },
    {
     "data": {
      "application/vnd.plotly.v1+json": {
       "config": {
        "plotlyServerURL": "https://plot.ly"
       },
       "data": [
        {
         "hovertemplate": "Property=Old Kent Road<br>Purchase Price=%{x}<br>Payoff Rent 1 House=%{y}<extra></extra>",
         "legendgroup": "Old Kent Road",
         "marker": {
          "color": "brown",
          "size": 15,
          "symbol": "circle"
         },
         "mode": "markers",
         "name": "Old Kent Road",
         "orientation": "v",
         "showlegend": true,
         "type": "scatter",
         "x": [
          60
         ],
         "xaxis": "x",
         "y": [
          594.5469435507459
         ],
         "yaxis": "y"
        },
        {
         "hovertemplate": "Property=Whitechapel Road<br>Purchase Price=%{x}<br>Payoff Rent 1 House=%{y}<extra></extra>",
         "legendgroup": "Whitechapel Road",
         "marker": {
          "color": "brown",
          "size": 15,
          "symbol": "circle"
         },
         "mode": "markers",
         "name": "Whitechapel Road",
         "orientation": "v",
         "showlegend": true,
         "type": "scatter",
         "x": [
          80
         ],
         "xaxis": "x",
         "y": [
          317.30920618148195
         ],
         "yaxis": "y"
        },
        {
         "hovertemplate": "Property=The Angel, Islington<br>Purchase Price=%{x}<br>Payoff Rent 1 House=%{y}<extra></extra>",
         "legendgroup": "The Angel, Islington",
         "marker": {
          "color": "lightblue",
          "size": 15,
          "symbol": "circle"
         },
         "mode": "markers",
         "name": "The Angel, Islington",
         "orientation": "v",
         "showlegend": true,
         "type": "scatter",
         "x": [
          100
         ],
         "xaxis": "x",
         "y": [
          210.93025910284214
         ],
         "yaxis": "y"
        },
        {
         "hovertemplate": "Property=Euston Road<br>Purchase Price=%{x}<br>Payoff Rent 1 House=%{y}<extra></extra>",
         "legendgroup": "Euston Road",
         "marker": {
          "color": "lightblue",
          "size": 15,
          "symbol": "circle"
         },
         "mode": "markers",
         "name": "Euston Road",
         "orientation": "v",
         "showlegend": true,
         "type": "scatter",
         "x": [
          100
         ],
         "xaxis": "x",
         "y": [
          209.35312110569842
         ],
         "yaxis": "y"
        },
        {
         "hovertemplate": "Property=Pentonville Road<br>Purchase Price=%{x}<br>Payoff Rent 1 House=%{y}<extra></extra>",
         "legendgroup": "Pentonville Road",
         "marker": {
          "color": "lightblue",
          "size": 15,
          "symbol": "circle"
         },
         "mode": "markers",
         "name": "Pentonville Road",
         "orientation": "v",
         "showlegend": true,
         "type": "scatter",
         "x": [
          120
         ],
         "xaxis": "x",
         "y": [
          180.40266452279775
         ],
         "yaxis": "y"
        },
        {
         "hovertemplate": "Property=Pall Mall<br>Purchase Price=%{x}<br>Payoff Rent 1 House=%{y}<extra></extra>",
         "legendgroup": "Pall Mall",
         "marker": {
          "color": "pink",
          "size": 15,
          "symbol": "circle"
         },
         "mode": "markers",
         "name": "Pall Mall",
         "orientation": "v",
         "showlegend": true,
         "type": "scatter",
         "x": [
          140
         ],
         "xaxis": "x",
         "y": [
          176.73257621040048
         ],
         "yaxis": "y"
        },
        {
         "hovertemplate": "Property=Whitehall<br>Purchase Price=%{x}<br>Payoff Rent 1 House=%{y}<extra></extra>",
         "legendgroup": "Whitehall",
         "marker": {
          "color": "pink",
          "size": 15,
          "symbol": "circle"
         },
         "mode": "markers",
         "name": "Whitehall",
         "orientation": "v",
         "showlegend": true,
         "type": "scatter",
         "x": [
          140
         ],
         "xaxis": "x",
         "y": [
          212.38376631150484
         ],
         "yaxis": "y"
        },
        {
         "hovertemplate": "Property=Northumberland Avenue<br>Purchase Price=%{x}<br>Payoff Rent 1 House=%{y}<extra></extra>",
         "legendgroup": "Northumberland Avenue",
         "marker": {
          "color": "pink",
          "size": 15,
          "symbol": "circle"
         },
         "mode": "markers",
         "name": "Northumberland Avenue",
         "orientation": "v",
         "showlegend": true,
         "type": "scatter",
         "x": [
          160
         ],
         "xaxis": "x",
         "y": [
          183.665749235474
         ],
         "yaxis": "y"
        },
        {
         "hovertemplate": "Property=Bow Street<br>Purchase Price=%{x}<br>Payoff Rent 1 House=%{y}<extra></extra>",
         "legendgroup": "Bow Street",
         "marker": {
          "color": "orange",
          "size": 15,
          "symbol": "circle"
         },
         "mode": "markers",
         "name": "Bow Street",
         "orientation": "v",
         "showlegend": true,
         "type": "scatter",
         "x": [
          180
         ],
         "xaxis": "x",
         "y": [
          152.976821192053
         ],
         "yaxis": "y"
        },
        {
         "hovertemplate": "Property=Marlborough Street<br>Purchase Price=%{x}<br>Payoff Rent 1 House=%{y}<extra></extra>",
         "legendgroup": "Marlborough Street",
         "marker": {
          "color": "orange",
          "size": 15,
          "symbol": "circle"
         },
         "mode": "markers",
         "name": "Marlborough Street",
         "orientation": "v",
         "showlegend": true,
         "type": "scatter",
         "x": [
          180
         ],
         "xaxis": "x",
         "y": [
          145.96840442338072
         ],
         "yaxis": "y"
        },
        {
         "hovertemplate": "Property=Vine Street<br>Purchase Price=%{x}<br>Payoff Rent 1 House=%{y}<extra></extra>",
         "legendgroup": "Vine Street",
         "marker": {
          "color": "orange",
          "size": 15,
          "symbol": "circle"
         },
         "mode": "markers",
         "name": "Vine Street",
         "orientation": "v",
         "showlegend": true,
         "type": "scatter",
         "x": [
          200
         ],
         "xaxis": "x",
         "y": [
          132.26166618952192
         ],
         "yaxis": "y"
        },
        {
         "hovertemplate": "Property=Strand<br>Purchase Price=%{x}<br>Payoff Rent 1 House=%{y}<extra></extra>",
         "legendgroup": "Strand",
         "marker": {
          "color": "red",
          "size": 15,
          "symbol": "circle"
         },
         "mode": "markers",
         "name": "Strand",
         "orientation": "v",
         "showlegend": true,
         "type": "scatter",
         "x": [
          220
         ],
         "xaxis": "x",
         "y": [
          159.77221638041829
         ],
         "yaxis": "y"
        },
        {
         "hovertemplate": "Property=Fleet Street<br>Purchase Price=%{x}<br>Payoff Rent 1 House=%{y}<extra></extra>",
         "legendgroup": "Fleet Street",
         "marker": {
          "color": "red",
          "size": 15,
          "symbol": "circle"
         },
         "mode": "markers",
         "name": "Fleet Street",
         "orientation": "v",
         "showlegend": true,
         "type": "scatter",
         "x": [
          220
         ],
         "xaxis": "x",
         "y": [
          164.12116847891315
         ],
         "yaxis": "y"
        },
        {
         "hovertemplate": "Property=Trafalgar Square<br>Purchase Price=%{x}<br>Payoff Rent 1 House=%{y}<extra></extra>",
         "legendgroup": "Trafalgar Square",
         "marker": {
          "color": "red",
          "size": 15,
          "symbol": "circle"
         },
         "mode": "markers",
         "name": "Trafalgar Square",
         "orientation": "v",
         "showlegend": true,
         "type": "scatter",
         "x": [
          240
         ],
         "xaxis": "x",
         "y": [
          131.04907718883535
         ],
         "yaxis": "y"
        },
        {
         "hovertemplate": "Property=Leicester Square<br>Purchase Price=%{x}<br>Payoff Rent 1 House=%{y}<extra></extra>",
         "legendgroup": "Leicester Square",
         "marker": {
          "color": "yellow",
          "size": 15,
          "symbol": "circle"
         },
         "mode": "markers",
         "name": "Leicester Square",
         "orientation": "v",
         "showlegend": true,
         "type": "scatter",
         "x": [
          260
         ],
         "xaxis": "x",
         "y": [
          151.69807089727803
         ],
         "yaxis": "y"
        },
        {
         "hovertemplate": "Property=Coventry Street<br>Purchase Price=%{x}<br>Payoff Rent 1 House=%{y}<extra></extra>",
         "legendgroup": "Coventry Street",
         "marker": {
          "color": "yellow",
          "size": 15,
          "symbol": "circle"
         },
         "mode": "markers",
         "name": "Coventry Street",
         "orientation": "v",
         "showlegend": true,
         "type": "scatter",
         "x": [
          260
         ],
         "xaxis": "x",
         "y": [
          153.35302035157318
         ],
         "yaxis": "y"
        },
        {
         "hovertemplate": "Property=Piccadilly<br>Purchase Price=%{x}<br>Payoff Rent 1 House=%{y}<extra></extra>",
         "legendgroup": "Piccadilly",
         "marker": {
          "color": "yellow",
          "size": 15,
          "symbol": "circle"
         },
         "mode": "markers",
         "name": "Piccadilly",
         "orientation": "v",
         "showlegend": true,
         "type": "scatter",
         "x": [
          280
         ],
         "xaxis": "x",
         "y": [
          153.07112035752814
         ],
         "yaxis": "y"
        },
        {
         "hovertemplate": "Property=Regent Street<br>Purchase Price=%{x}<br>Payoff Rent 1 House=%{y}<extra></extra>",
         "legendgroup": "Regent Street",
         "marker": {
          "color": "green",
          "size": 15,
          "symbol": "circle"
         },
         "mode": "markers",
         "name": "Regent Street",
         "orientation": "v",
         "showlegend": true,
         "type": "scatter",
         "x": [
          300
         ],
         "xaxis": "x",
         "y": [
          160.5316422707727
         ],
         "yaxis": "y"
        },
        {
         "hovertemplate": "Property=Oxford Street<br>Purchase Price=%{x}<br>Payoff Rent 1 House=%{y}<extra></extra>",
         "legendgroup": "Oxford Street",
         "marker": {
          "color": "green",
          "size": 15,
          "symbol": "circle"
         },
         "mode": "markers",
         "name": "Oxford Street",
         "orientation": "v",
         "showlegend": true,
         "type": "scatter",
         "x": [
          300
         ],
         "xaxis": "x",
         "y": [
          162.7369996917793
         ],
         "yaxis": "y"
        },
        {
         "hovertemplate": "Property=Bond Street<br>Purchase Price=%{x}<br>Payoff Rent 1 House=%{y}<extra></extra>",
         "legendgroup": "Bond Street",
         "marker": {
          "color": "green",
          "size": 15,
          "symbol": "circle"
         },
         "mode": "markers",
         "name": "Bond Street",
         "orientation": "v",
         "showlegend": true,
         "type": "scatter",
         "x": [
          320
         ],
         "xaxis": "x",
         "y": [
          156.6323064384678
         ],
         "yaxis": "y"
        },
        {
         "hovertemplate": "Property=Park Lane<br>Purchase Price=%{x}<br>Payoff Rent 1 House=%{y}<extra></extra>",
         "legendgroup": "Park Lane",
         "marker": {
          "color": "darkblue",
          "size": 15,
          "symbol": "circle"
         },
         "mode": "markers",
         "name": "Park Lane",
         "orientation": "v",
         "showlegend": true,
         "type": "scatter",
         "x": [
          350
         ],
         "xaxis": "x",
         "y": [
          165.1136968220124
         ],
         "yaxis": "y"
        },
        {
         "hovertemplate": "Property=Mayfair<br>Purchase Price=%{x}<br>Payoff Rent 1 House=%{y}<extra></extra>",
         "legendgroup": "Mayfair",
         "marker": {
          "color": "darkblue",
          "size": 15,
          "symbol": "circle"
         },
         "mode": "markers",
         "name": "Mayfair",
         "orientation": "v",
         "showlegend": true,
         "type": "scatter",
         "x": [
          400
         ],
         "xaxis": "x",
         "y": [
          129.69657269856125
         ],
         "yaxis": "y"
        }
       ],
       "layout": {
        "legend": {
         "title": {
          "text": "Property"
         },
         "tracegroupgap": 0
        },
        "showlegend": false,
        "template": {
         "data": {
          "bar": [
           {
            "error_x": {
             "color": "#2a3f5f"
            },
            "error_y": {
             "color": "#2a3f5f"
            },
            "marker": {
             "line": {
              "color": "#E5ECF6",
              "width": 0.5
             },
             "pattern": {
              "fillmode": "overlay",
              "size": 10,
              "solidity": 0.2
             }
            },
            "type": "bar"
           }
          ],
          "barpolar": [
           {
            "marker": {
             "line": {
              "color": "#E5ECF6",
              "width": 0.5
             },
             "pattern": {
              "fillmode": "overlay",
              "size": 10,
              "solidity": 0.2
             }
            },
            "type": "barpolar"
           }
          ],
          "carpet": [
           {
            "aaxis": {
             "endlinecolor": "#2a3f5f",
             "gridcolor": "white",
             "linecolor": "white",
             "minorgridcolor": "white",
             "startlinecolor": "#2a3f5f"
            },
            "baxis": {
             "endlinecolor": "#2a3f5f",
             "gridcolor": "white",
             "linecolor": "white",
             "minorgridcolor": "white",
             "startlinecolor": "#2a3f5f"
            },
            "type": "carpet"
           }
          ],
          "choropleth": [
           {
            "colorbar": {
             "outlinewidth": 0,
             "ticks": ""
            },
            "type": "choropleth"
           }
          ],
          "contour": [
           {
            "colorbar": {
             "outlinewidth": 0,
             "ticks": ""
            },
            "colorscale": [
             [
              0,
              "#0d0887"
             ],
             [
              0.1111111111111111,
              "#46039f"
             ],
             [
              0.2222222222222222,
              "#7201a8"
             ],
             [
              0.3333333333333333,
              "#9c179e"
             ],
             [
              0.4444444444444444,
              "#bd3786"
             ],
             [
              0.5555555555555556,
              "#d8576b"
             ],
             [
              0.6666666666666666,
              "#ed7953"
             ],
             [
              0.7777777777777778,
              "#fb9f3a"
             ],
             [
              0.8888888888888888,
              "#fdca26"
             ],
             [
              1,
              "#f0f921"
             ]
            ],
            "type": "contour"
           }
          ],
          "contourcarpet": [
           {
            "colorbar": {
             "outlinewidth": 0,
             "ticks": ""
            },
            "type": "contourcarpet"
           }
          ],
          "heatmap": [
           {
            "colorbar": {
             "outlinewidth": 0,
             "ticks": ""
            },
            "colorscale": [
             [
              0,
              "#0d0887"
             ],
             [
              0.1111111111111111,
              "#46039f"
             ],
             [
              0.2222222222222222,
              "#7201a8"
             ],
             [
              0.3333333333333333,
              "#9c179e"
             ],
             [
              0.4444444444444444,
              "#bd3786"
             ],
             [
              0.5555555555555556,
              "#d8576b"
             ],
             [
              0.6666666666666666,
              "#ed7953"
             ],
             [
              0.7777777777777778,
              "#fb9f3a"
             ],
             [
              0.8888888888888888,
              "#fdca26"
             ],
             [
              1,
              "#f0f921"
             ]
            ],
            "type": "heatmap"
           }
          ],
          "heatmapgl": [
           {
            "colorbar": {
             "outlinewidth": 0,
             "ticks": ""
            },
            "colorscale": [
             [
              0,
              "#0d0887"
             ],
             [
              0.1111111111111111,
              "#46039f"
             ],
             [
              0.2222222222222222,
              "#7201a8"
             ],
             [
              0.3333333333333333,
              "#9c179e"
             ],
             [
              0.4444444444444444,
              "#bd3786"
             ],
             [
              0.5555555555555556,
              "#d8576b"
             ],
             [
              0.6666666666666666,
              "#ed7953"
             ],
             [
              0.7777777777777778,
              "#fb9f3a"
             ],
             [
              0.8888888888888888,
              "#fdca26"
             ],
             [
              1,
              "#f0f921"
             ]
            ],
            "type": "heatmapgl"
           }
          ],
          "histogram": [
           {
            "marker": {
             "pattern": {
              "fillmode": "overlay",
              "size": 10,
              "solidity": 0.2
             }
            },
            "type": "histogram"
           }
          ],
          "histogram2d": [
           {
            "colorbar": {
             "outlinewidth": 0,
             "ticks": ""
            },
            "colorscale": [
             [
              0,
              "#0d0887"
             ],
             [
              0.1111111111111111,
              "#46039f"
             ],
             [
              0.2222222222222222,
              "#7201a8"
             ],
             [
              0.3333333333333333,
              "#9c179e"
             ],
             [
              0.4444444444444444,
              "#bd3786"
             ],
             [
              0.5555555555555556,
              "#d8576b"
             ],
             [
              0.6666666666666666,
              "#ed7953"
             ],
             [
              0.7777777777777778,
              "#fb9f3a"
             ],
             [
              0.8888888888888888,
              "#fdca26"
             ],
             [
              1,
              "#f0f921"
             ]
            ],
            "type": "histogram2d"
           }
          ],
          "histogram2dcontour": [
           {
            "colorbar": {
             "outlinewidth": 0,
             "ticks": ""
            },
            "colorscale": [
             [
              0,
              "#0d0887"
             ],
             [
              0.1111111111111111,
              "#46039f"
             ],
             [
              0.2222222222222222,
              "#7201a8"
             ],
             [
              0.3333333333333333,
              "#9c179e"
             ],
             [
              0.4444444444444444,
              "#bd3786"
             ],
             [
              0.5555555555555556,
              "#d8576b"
             ],
             [
              0.6666666666666666,
              "#ed7953"
             ],
             [
              0.7777777777777778,
              "#fb9f3a"
             ],
             [
              0.8888888888888888,
              "#fdca26"
             ],
             [
              1,
              "#f0f921"
             ]
            ],
            "type": "histogram2dcontour"
           }
          ],
          "mesh3d": [
           {
            "colorbar": {
             "outlinewidth": 0,
             "ticks": ""
            },
            "type": "mesh3d"
           }
          ],
          "parcoords": [
           {
            "line": {
             "colorbar": {
              "outlinewidth": 0,
              "ticks": ""
             }
            },
            "type": "parcoords"
           }
          ],
          "pie": [
           {
            "automargin": true,
            "type": "pie"
           }
          ],
          "scatter": [
           {
            "fillpattern": {
             "fillmode": "overlay",
             "size": 10,
             "solidity": 0.2
            },
            "type": "scatter"
           }
          ],
          "scatter3d": [
           {
            "line": {
             "colorbar": {
              "outlinewidth": 0,
              "ticks": ""
             }
            },
            "marker": {
             "colorbar": {
              "outlinewidth": 0,
              "ticks": ""
             }
            },
            "type": "scatter3d"
           }
          ],
          "scattercarpet": [
           {
            "marker": {
             "colorbar": {
              "outlinewidth": 0,
              "ticks": ""
             }
            },
            "type": "scattercarpet"
           }
          ],
          "scattergeo": [
           {
            "marker": {
             "colorbar": {
              "outlinewidth": 0,
              "ticks": ""
             }
            },
            "type": "scattergeo"
           }
          ],
          "scattergl": [
           {
            "marker": {
             "colorbar": {
              "outlinewidth": 0,
              "ticks": ""
             }
            },
            "type": "scattergl"
           }
          ],
          "scattermapbox": [
           {
            "marker": {
             "colorbar": {
              "outlinewidth": 0,
              "ticks": ""
             }
            },
            "type": "scattermapbox"
           }
          ],
          "scatterpolar": [
           {
            "marker": {
             "colorbar": {
              "outlinewidth": 0,
              "ticks": ""
             }
            },
            "type": "scatterpolar"
           }
          ],
          "scatterpolargl": [
           {
            "marker": {
             "colorbar": {
              "outlinewidth": 0,
              "ticks": ""
             }
            },
            "type": "scatterpolargl"
           }
          ],
          "scatterternary": [
           {
            "marker": {
             "colorbar": {
              "outlinewidth": 0,
              "ticks": ""
             }
            },
            "type": "scatterternary"
           }
          ],
          "surface": [
           {
            "colorbar": {
             "outlinewidth": 0,
             "ticks": ""
            },
            "colorscale": [
             [
              0,
              "#0d0887"
             ],
             [
              0.1111111111111111,
              "#46039f"
             ],
             [
              0.2222222222222222,
              "#7201a8"
             ],
             [
              0.3333333333333333,
              "#9c179e"
             ],
             [
              0.4444444444444444,
              "#bd3786"
             ],
             [
              0.5555555555555556,
              "#d8576b"
             ],
             [
              0.6666666666666666,
              "#ed7953"
             ],
             [
              0.7777777777777778,
              "#fb9f3a"
             ],
             [
              0.8888888888888888,
              "#fdca26"
             ],
             [
              1,
              "#f0f921"
             ]
            ],
            "type": "surface"
           }
          ],
          "table": [
           {
            "cells": {
             "fill": {
              "color": "#EBF0F8"
             },
             "line": {
              "color": "white"
             }
            },
            "header": {
             "fill": {
              "color": "#C8D4E3"
             },
             "line": {
              "color": "white"
             }
            },
            "type": "table"
           }
          ]
         },
         "layout": {
          "annotationdefaults": {
           "arrowcolor": "#2a3f5f",
           "arrowhead": 0,
           "arrowwidth": 1
          },
          "autotypenumbers": "strict",
          "coloraxis": {
           "colorbar": {
            "outlinewidth": 0,
            "ticks": ""
           }
          },
          "colorscale": {
           "diverging": [
            [
             0,
             "#8e0152"
            ],
            [
             0.1,
             "#c51b7d"
            ],
            [
             0.2,
             "#de77ae"
            ],
            [
             0.3,
             "#f1b6da"
            ],
            [
             0.4,
             "#fde0ef"
            ],
            [
             0.5,
             "#f7f7f7"
            ],
            [
             0.6,
             "#e6f5d0"
            ],
            [
             0.7,
             "#b8e186"
            ],
            [
             0.8,
             "#7fbc41"
            ],
            [
             0.9,
             "#4d9221"
            ],
            [
             1,
             "#276419"
            ]
           ],
           "sequential": [
            [
             0,
             "#0d0887"
            ],
            [
             0.1111111111111111,
             "#46039f"
            ],
            [
             0.2222222222222222,
             "#7201a8"
            ],
            [
             0.3333333333333333,
             "#9c179e"
            ],
            [
             0.4444444444444444,
             "#bd3786"
            ],
            [
             0.5555555555555556,
             "#d8576b"
            ],
            [
             0.6666666666666666,
             "#ed7953"
            ],
            [
             0.7777777777777778,
             "#fb9f3a"
            ],
            [
             0.8888888888888888,
             "#fdca26"
            ],
            [
             1,
             "#f0f921"
            ]
           ],
           "sequentialminus": [
            [
             0,
             "#0d0887"
            ],
            [
             0.1111111111111111,
             "#46039f"
            ],
            [
             0.2222222222222222,
             "#7201a8"
            ],
            [
             0.3333333333333333,
             "#9c179e"
            ],
            [
             0.4444444444444444,
             "#bd3786"
            ],
            [
             0.5555555555555556,
             "#d8576b"
            ],
            [
             0.6666666666666666,
             "#ed7953"
            ],
            [
             0.7777777777777778,
             "#fb9f3a"
            ],
            [
             0.8888888888888888,
             "#fdca26"
            ],
            [
             1,
             "#f0f921"
            ]
           ]
          },
          "colorway": [
           "#636efa",
           "#EF553B",
           "#00cc96",
           "#ab63fa",
           "#FFA15A",
           "#19d3f3",
           "#FF6692",
           "#B6E880",
           "#FF97FF",
           "#FECB52"
          ],
          "font": {
           "color": "#2a3f5f"
          },
          "geo": {
           "bgcolor": "white",
           "lakecolor": "white",
           "landcolor": "#E5ECF6",
           "showlakes": true,
           "showland": true,
           "subunitcolor": "white"
          },
          "hoverlabel": {
           "align": "left"
          },
          "hovermode": "closest",
          "mapbox": {
           "style": "light"
          },
          "paper_bgcolor": "white",
          "plot_bgcolor": "#E5ECF6",
          "polar": {
           "angularaxis": {
            "gridcolor": "white",
            "linecolor": "white",
            "ticks": ""
           },
           "bgcolor": "#E5ECF6",
           "radialaxis": {
            "gridcolor": "white",
            "linecolor": "white",
            "ticks": ""
           }
          },
          "scene": {
           "xaxis": {
            "backgroundcolor": "#E5ECF6",
            "gridcolor": "white",
            "gridwidth": 2,
            "linecolor": "white",
            "showbackground": true,
            "ticks": "",
            "zerolinecolor": "white"
           },
           "yaxis": {
            "backgroundcolor": "#E5ECF6",
            "gridcolor": "white",
            "gridwidth": 2,
            "linecolor": "white",
            "showbackground": true,
            "ticks": "",
            "zerolinecolor": "white"
           },
           "zaxis": {
            "backgroundcolor": "#E5ECF6",
            "gridcolor": "white",
            "gridwidth": 2,
            "linecolor": "white",
            "showbackground": true,
            "ticks": "",
            "zerolinecolor": "white"
           }
          },
          "shapedefaults": {
           "line": {
            "color": "#2a3f5f"
           }
          },
          "ternary": {
           "aaxis": {
            "gridcolor": "white",
            "linecolor": "white",
            "ticks": ""
           },
           "baxis": {
            "gridcolor": "white",
            "linecolor": "white",
            "ticks": ""
           },
           "bgcolor": "#E5ECF6",
           "caxis": {
            "gridcolor": "white",
            "linecolor": "white",
            "ticks": ""
           }
          },
          "title": {
           "x": 0.05
          },
          "xaxis": {
           "automargin": true,
           "gridcolor": "white",
           "linecolor": "white",
           "ticks": "",
           "title": {
            "standoff": 15
           },
           "zerolinecolor": "white",
           "zerolinewidth": 2
          },
          "yaxis": {
           "automargin": true,
           "gridcolor": "white",
           "linecolor": "white",
           "ticks": "",
           "title": {
            "standoff": 15
           },
           "zerolinecolor": "white",
           "zerolinewidth": 2
          }
         }
        },
        "title": {
         "text": "Monopoly Board Purchase Price Against Expected Number of Gos to Payoff Purchase Price with Rent 1 House"
        },
        "xaxis": {
         "anchor": "y",
         "domain": [
          0,
          1
         ],
         "title": {
          "text": "Purchase Price"
         }
        },
        "yaxis": {
         "anchor": "x",
         "domain": [
          0,
          1
         ],
         "title": {
          "text": "Payoff Rent 1 House"
         }
        }
       }
      }
     },
     "metadata": {},
     "output_type": "display_data"
    },
    {
     "data": {
      "application/vnd.plotly.v1+json": {
       "config": {
        "plotlyServerURL": "https://plot.ly"
       },
       "data": [
        {
         "hovertemplate": "Property=Old Kent Road<br>Purchase Price=%{x}<br>Payoff Rent 2 Houses=%{y}<extra></extra>",
         "legendgroup": "Old Kent Road",
         "marker": {
          "color": "brown",
          "size": 15,
          "symbol": "circle"
         },
         "mode": "markers",
         "name": "Old Kent Road",
         "orientation": "v",
         "showlegend": true,
         "type": "scatter",
         "x": [
          60
         ],
         "xaxis": "x",
         "y": [
          288.2651847518768
         ],
         "yaxis": "y"
        },
        {
         "hovertemplate": "Property=Whitechapel Road<br>Purchase Price=%{x}<br>Payoff Rent 2 Houses=%{y}<extra></extra>",
         "legendgroup": "Whitechapel Road",
         "marker": {
          "color": "brown",
          "size": 15,
          "symbol": "circle"
         },
         "mode": "markers",
         "name": "Whitechapel Road",
         "orientation": "v",
         "showlegend": true,
         "type": "scatter",
         "x": [
          80
         ],
         "xaxis": "x",
         "y": [
          146.45040285299166
         ],
         "yaxis": "y"
        },
        {
         "hovertemplate": "Property=The Angel, Islington<br>Purchase Price=%{x}<br>Payoff Rent 2 Houses=%{y}<extra></extra>",
         "legendgroup": "The Angel, Islington",
         "marker": {
          "color": "lightblue",
          "size": 15,
          "symbol": "circle"
         },
         "mode": "markers",
         "name": "The Angel, Islington",
         "orientation": "v",
         "showlegend": true,
         "type": "scatter",
         "x": [
          100
         ],
         "xaxis": "x",
         "y": [
          93.74678182348539
         ],
         "yaxis": "y"
        },
        {
         "hovertemplate": "Property=Euston Road<br>Purchase Price=%{x}<br>Payoff Rent 2 Houses=%{y}<extra></extra>",
         "legendgroup": "Euston Road",
         "marker": {
          "color": "lightblue",
          "size": 15,
          "symbol": "circle"
         },
         "mode": "markers",
         "name": "Euston Road",
         "orientation": "v",
         "showlegend": true,
         "type": "scatter",
         "x": [
          100
         ],
         "xaxis": "x",
         "y": [
          93.04583160253263
         ],
         "yaxis": "y"
        },
        {
         "hovertemplate": "Property=Pentonville Road<br>Purchase Price=%{x}<br>Payoff Rent 2 Houses=%{y}<extra></extra>",
         "legendgroup": "Pentonville Road",
         "marker": {
          "color": "lightblue",
          "size": 15,
          "symbol": "circle"
         },
         "mode": "markers",
         "name": "Pentonville Road",
         "orientation": "v",
         "showlegend": true,
         "type": "scatter",
         "x": [
          120
         ],
         "xaxis": "x",
         "y": [
          93.38490869415413
         ],
         "yaxis": "y"
        },
        {
         "hovertemplate": "Property=Pall Mall<br>Purchase Price=%{x}<br>Payoff Rent 2 Houses=%{y}<extra></extra>",
         "legendgroup": "Pall Mall",
         "marker": {
          "color": "pink",
          "size": 15,
          "symbol": "circle"
         },
         "mode": "markers",
         "name": "Pall Mall",
         "orientation": "v",
         "showlegend": true,
         "type": "scatter",
         "x": [
          140
         ],
         "xaxis": "x",
         "y": [
          83.45704987713357
         ],
         "yaxis": "y"
        },
        {
         "hovertemplate": "Property=Whitehall<br>Purchase Price=%{x}<br>Payoff Rent 2 Houses=%{y}<extra></extra>",
         "legendgroup": "Whitehall",
         "marker": {
          "color": "pink",
          "size": 15,
          "symbol": "circle"
         },
         "mode": "markers",
         "name": "Whitehall",
         "orientation": "v",
         "showlegend": true,
         "type": "scatter",
         "x": [
          140
         ],
         "xaxis": "x",
         "y": [
          100.29233409154395
         ],
         "yaxis": "y"
        },
        {
         "hovertemplate": "Property=Northumberland Avenue<br>Purchase Price=%{x}<br>Payoff Rent 2 Houses=%{y}<extra></extra>",
         "legendgroup": "Northumberland Avenue",
         "marker": {
          "color": "pink",
          "size": 15,
          "symbol": "circle"
         },
         "mode": "markers",
         "name": "Northumberland Avenue",
         "orientation": "v",
         "showlegend": true,
         "type": "scatter",
         "x": [
          160
         ],
         "xaxis": "x",
         "y": [
          84.76880733944954
         ],
         "yaxis": "y"
        },
        {
         "hovertemplate": "Property=Bow Street<br>Purchase Price=%{x}<br>Payoff Rent 2 Houses=%{y}<extra></extra>",
         "legendgroup": "Bow Street",
         "marker": {
          "color": "orange",
          "size": 15,
          "symbol": "circle"
         },
         "mode": "markers",
         "name": "Bow Street",
         "orientation": "v",
         "showlegend": true,
         "type": "scatter",
         "x": [
          180
         ],
         "xaxis": "x",
         "y": [
          72.66399006622517
         ],
         "yaxis": "y"
        },
        {
         "hovertemplate": "Property=Marlborough Street<br>Purchase Price=%{x}<br>Payoff Rent 2 Houses=%{y}<extra></extra>",
         "legendgroup": "Marlborough Street",
         "marker": {
          "color": "orange",
          "size": 15,
          "symbol": "circle"
         },
         "mode": "markers",
         "name": "Marlborough Street",
         "orientation": "v",
         "showlegend": true,
         "type": "scatter",
         "x": [
          180
         ],
         "xaxis": "x",
         "y": [
          69.33499210110584
         ],
         "yaxis": "y"
        },
        {
         "hovertemplate": "Property=Vine Street<br>Purchase Price=%{x}<br>Payoff Rent 2 Houses=%{y}<extra></extra>",
         "legendgroup": "Vine Street",
         "marker": {
          "color": "orange",
          "size": 15,
          "symbol": "circle"
         },
         "mode": "markers",
         "name": "Vine Street",
         "orientation": "v",
         "showlegend": true,
         "type": "scatter",
         "x": [
          200
         ],
         "xaxis": "x",
         "y": [
          64.12686845552577
         ],
         "yaxis": "y"
        },
        {
         "hovertemplate": "Property=Strand<br>Purchase Price=%{x}<br>Payoff Rent 2 Houses=%{y}<extra></extra>",
         "legendgroup": "Strand",
         "marker": {
          "color": "red",
          "size": 15,
          "symbol": "circle"
         },
         "mode": "markers",
         "name": "Strand",
         "orientation": "v",
         "showlegend": true,
         "type": "scatter",
         "x": [
          220
         ],
         "xaxis": "x",
         "y": [
          80.83610515247108
         ],
         "yaxis": "y"
        },
        {
         "hovertemplate": "Property=Fleet Street<br>Purchase Price=%{x}<br>Payoff Rent 2 Houses=%{y}<extra></extra>",
         "legendgroup": "Fleet Street",
         "marker": {
          "color": "red",
          "size": 15,
          "symbol": "circle"
         },
         "mode": "markers",
         "name": "Fleet Street",
         "orientation": "v",
         "showlegend": true,
         "type": "scatter",
         "x": [
          220
         ],
         "xaxis": "x",
         "y": [
          83.03643983581767
         ],
         "yaxis": "y"
        },
        {
         "hovertemplate": "Property=Trafalgar Square<br>Purchase Price=%{x}<br>Payoff Rent 2 Houses=%{y}<extra></extra>",
         "legendgroup": "Trafalgar Square",
         "marker": {
          "color": "red",
          "size": 15,
          "symbol": "circle"
         },
         "mode": "markers",
         "name": "Trafalgar Square",
         "orientation": "v",
         "showlegend": true,
         "type": "scatter",
         "x": [
          240
         ],
         "xaxis": "x",
         "y": [
          60.48418947177017
         ],
         "yaxis": "y"
        },
        {
         "hovertemplate": "Property=Leicester Square<br>Purchase Price=%{x}<br>Payoff Rent 2 Houses=%{y}<extra></extra>",
         "legendgroup": "Leicester Square",
         "marker": {
          "color": "yellow",
          "size": 15,
          "symbol": "circle"
         },
         "mode": "markers",
         "name": "Leicester Square",
         "orientation": "v",
         "showlegend": true,
         "type": "scatter",
         "x": [
          260
         ],
         "xaxis": "x",
         "y": [
          69.0657883759965
         ],
         "yaxis": "y"
        },
        {
         "hovertemplate": "Property=Coventry Street<br>Purchase Price=%{x}<br>Payoff Rent 2 Houses=%{y}<extra></extra>",
         "legendgroup": "Coventry Street",
         "marker": {
          "color": "yellow",
          "size": 15,
          "symbol": "circle"
         },
         "mode": "markers",
         "name": "Coventry Street",
         "orientation": "v",
         "showlegend": true,
         "type": "scatter",
         "x": [
          260
         ],
         "xaxis": "x",
         "y": [
          69.81926129827721
         ],
         "yaxis": "y"
        },
        {
         "hovertemplate": "Property=Piccadilly<br>Purchase Price=%{x}<br>Payoff Rent 2 Houses=%{y}<extra></extra>",
         "legendgroup": "Piccadilly",
         "marker": {
          "color": "yellow",
          "size": 15,
          "symbol": "circle"
         },
         "mode": "markers",
         "name": "Piccadilly",
         "orientation": "v",
         "showlegend": true,
         "type": "scatter",
         "x": [
          280
         ],
         "xaxis": "x",
         "y": [
          68.8226742692762
         ],
         "yaxis": "y"
        },
        {
         "hovertemplate": "Property=Regent Street<br>Purchase Price=%{x}<br>Payoff Rent 2 Houses=%{y}<extra></extra>",
         "legendgroup": "Regent Street",
         "marker": {
          "color": "green",
          "size": 15,
          "symbol": "circle"
         },
         "mode": "markers",
         "name": "Regent Street",
         "orientation": "v",
         "showlegend": true,
         "type": "scatter",
         "x": [
          300
         ],
         "xaxis": "x",
         "y": [
          74.91476639302726
         ],
         "yaxis": "y"
        },
        {
         "hovertemplate": "Property=Oxford Street<br>Purchase Price=%{x}<br>Payoff Rent 2 Houses=%{y}<extra></extra>",
         "legendgroup": "Oxford Street",
         "marker": {
          "color": "green",
          "size": 15,
          "symbol": "circle"
         },
         "mode": "markers",
         "name": "Oxford Street",
         "orientation": "v",
         "showlegend": true,
         "type": "scatter",
         "x": [
          300
         ],
         "xaxis": "x",
         "y": [
          75.943933189497
         ],
         "yaxis": "y"
        },
        {
         "hovertemplate": "Property=Bond Street<br>Purchase Price=%{x}<br>Payoff Rent 2 Houses=%{y}<extra></extra>",
         "legendgroup": "Bond Street",
         "marker": {
          "color": "green",
          "size": 15,
          "symbol": "circle"
         },
         "mode": "markers",
         "name": "Bond Street",
         "orientation": "v",
         "showlegend": true,
         "type": "scatter",
         "x": [
          320
         ],
         "xaxis": "x",
         "y": [
          72.2918337408313
         ],
         "yaxis": "y"
        },
        {
         "hovertemplate": "Property=Park Lane<br>Purchase Price=%{x}<br>Payoff Rent 2 Houses=%{y}<extra></extra>",
         "legendgroup": "Park Lane",
         "marker": {
          "color": "darkblue",
          "size": 15,
          "symbol": "circle"
         },
         "mode": "markers",
         "name": "Park Lane",
         "orientation": "v",
         "showlegend": true,
         "type": "scatter",
         "x": [
          350
         ],
         "xaxis": "x",
         "y": [
          78.8042643923241
         ],
         "yaxis": "y"
        },
        {
         "hovertemplate": "Property=Mayfair<br>Purchase Price=%{x}<br>Payoff Rent 2 Houses=%{y}<extra></extra>",
         "legendgroup": "Mayfair",
         "marker": {
          "color": "darkblue",
          "size": 15,
          "symbol": "circle"
         },
         "mode": "markers",
         "name": "Mayfair",
         "orientation": "v",
         "showlegend": true,
         "type": "scatter",
         "x": [
          400
         ],
         "xaxis": "x",
         "y": [
          57.64292119936055
         ],
         "yaxis": "y"
        }
       ],
       "layout": {
        "legend": {
         "title": {
          "text": "Property"
         },
         "tracegroupgap": 0
        },
        "showlegend": false,
        "template": {
         "data": {
          "bar": [
           {
            "error_x": {
             "color": "#2a3f5f"
            },
            "error_y": {
             "color": "#2a3f5f"
            },
            "marker": {
             "line": {
              "color": "#E5ECF6",
              "width": 0.5
             },
             "pattern": {
              "fillmode": "overlay",
              "size": 10,
              "solidity": 0.2
             }
            },
            "type": "bar"
           }
          ],
          "barpolar": [
           {
            "marker": {
             "line": {
              "color": "#E5ECF6",
              "width": 0.5
             },
             "pattern": {
              "fillmode": "overlay",
              "size": 10,
              "solidity": 0.2
             }
            },
            "type": "barpolar"
           }
          ],
          "carpet": [
           {
            "aaxis": {
             "endlinecolor": "#2a3f5f",
             "gridcolor": "white",
             "linecolor": "white",
             "minorgridcolor": "white",
             "startlinecolor": "#2a3f5f"
            },
            "baxis": {
             "endlinecolor": "#2a3f5f",
             "gridcolor": "white",
             "linecolor": "white",
             "minorgridcolor": "white",
             "startlinecolor": "#2a3f5f"
            },
            "type": "carpet"
           }
          ],
          "choropleth": [
           {
            "colorbar": {
             "outlinewidth": 0,
             "ticks": ""
            },
            "type": "choropleth"
           }
          ],
          "contour": [
           {
            "colorbar": {
             "outlinewidth": 0,
             "ticks": ""
            },
            "colorscale": [
             [
              0,
              "#0d0887"
             ],
             [
              0.1111111111111111,
              "#46039f"
             ],
             [
              0.2222222222222222,
              "#7201a8"
             ],
             [
              0.3333333333333333,
              "#9c179e"
             ],
             [
              0.4444444444444444,
              "#bd3786"
             ],
             [
              0.5555555555555556,
              "#d8576b"
             ],
             [
              0.6666666666666666,
              "#ed7953"
             ],
             [
              0.7777777777777778,
              "#fb9f3a"
             ],
             [
              0.8888888888888888,
              "#fdca26"
             ],
             [
              1,
              "#f0f921"
             ]
            ],
            "type": "contour"
           }
          ],
          "contourcarpet": [
           {
            "colorbar": {
             "outlinewidth": 0,
             "ticks": ""
            },
            "type": "contourcarpet"
           }
          ],
          "heatmap": [
           {
            "colorbar": {
             "outlinewidth": 0,
             "ticks": ""
            },
            "colorscale": [
             [
              0,
              "#0d0887"
             ],
             [
              0.1111111111111111,
              "#46039f"
             ],
             [
              0.2222222222222222,
              "#7201a8"
             ],
             [
              0.3333333333333333,
              "#9c179e"
             ],
             [
              0.4444444444444444,
              "#bd3786"
             ],
             [
              0.5555555555555556,
              "#d8576b"
             ],
             [
              0.6666666666666666,
              "#ed7953"
             ],
             [
              0.7777777777777778,
              "#fb9f3a"
             ],
             [
              0.8888888888888888,
              "#fdca26"
             ],
             [
              1,
              "#f0f921"
             ]
            ],
            "type": "heatmap"
           }
          ],
          "heatmapgl": [
           {
            "colorbar": {
             "outlinewidth": 0,
             "ticks": ""
            },
            "colorscale": [
             [
              0,
              "#0d0887"
             ],
             [
              0.1111111111111111,
              "#46039f"
             ],
             [
              0.2222222222222222,
              "#7201a8"
             ],
             [
              0.3333333333333333,
              "#9c179e"
             ],
             [
              0.4444444444444444,
              "#bd3786"
             ],
             [
              0.5555555555555556,
              "#d8576b"
             ],
             [
              0.6666666666666666,
              "#ed7953"
             ],
             [
              0.7777777777777778,
              "#fb9f3a"
             ],
             [
              0.8888888888888888,
              "#fdca26"
             ],
             [
              1,
              "#f0f921"
             ]
            ],
            "type": "heatmapgl"
           }
          ],
          "histogram": [
           {
            "marker": {
             "pattern": {
              "fillmode": "overlay",
              "size": 10,
              "solidity": 0.2
             }
            },
            "type": "histogram"
           }
          ],
          "histogram2d": [
           {
            "colorbar": {
             "outlinewidth": 0,
             "ticks": ""
            },
            "colorscale": [
             [
              0,
              "#0d0887"
             ],
             [
              0.1111111111111111,
              "#46039f"
             ],
             [
              0.2222222222222222,
              "#7201a8"
             ],
             [
              0.3333333333333333,
              "#9c179e"
             ],
             [
              0.4444444444444444,
              "#bd3786"
             ],
             [
              0.5555555555555556,
              "#d8576b"
             ],
             [
              0.6666666666666666,
              "#ed7953"
             ],
             [
              0.7777777777777778,
              "#fb9f3a"
             ],
             [
              0.8888888888888888,
              "#fdca26"
             ],
             [
              1,
              "#f0f921"
             ]
            ],
            "type": "histogram2d"
           }
          ],
          "histogram2dcontour": [
           {
            "colorbar": {
             "outlinewidth": 0,
             "ticks": ""
            },
            "colorscale": [
             [
              0,
              "#0d0887"
             ],
             [
              0.1111111111111111,
              "#46039f"
             ],
             [
              0.2222222222222222,
              "#7201a8"
             ],
             [
              0.3333333333333333,
              "#9c179e"
             ],
             [
              0.4444444444444444,
              "#bd3786"
             ],
             [
              0.5555555555555556,
              "#d8576b"
             ],
             [
              0.6666666666666666,
              "#ed7953"
             ],
             [
              0.7777777777777778,
              "#fb9f3a"
             ],
             [
              0.8888888888888888,
              "#fdca26"
             ],
             [
              1,
              "#f0f921"
             ]
            ],
            "type": "histogram2dcontour"
           }
          ],
          "mesh3d": [
           {
            "colorbar": {
             "outlinewidth": 0,
             "ticks": ""
            },
            "type": "mesh3d"
           }
          ],
          "parcoords": [
           {
            "line": {
             "colorbar": {
              "outlinewidth": 0,
              "ticks": ""
             }
            },
            "type": "parcoords"
           }
          ],
          "pie": [
           {
            "automargin": true,
            "type": "pie"
           }
          ],
          "scatter": [
           {
            "fillpattern": {
             "fillmode": "overlay",
             "size": 10,
             "solidity": 0.2
            },
            "type": "scatter"
           }
          ],
          "scatter3d": [
           {
            "line": {
             "colorbar": {
              "outlinewidth": 0,
              "ticks": ""
             }
            },
            "marker": {
             "colorbar": {
              "outlinewidth": 0,
              "ticks": ""
             }
            },
            "type": "scatter3d"
           }
          ],
          "scattercarpet": [
           {
            "marker": {
             "colorbar": {
              "outlinewidth": 0,
              "ticks": ""
             }
            },
            "type": "scattercarpet"
           }
          ],
          "scattergeo": [
           {
            "marker": {
             "colorbar": {
              "outlinewidth": 0,
              "ticks": ""
             }
            },
            "type": "scattergeo"
           }
          ],
          "scattergl": [
           {
            "marker": {
             "colorbar": {
              "outlinewidth": 0,
              "ticks": ""
             }
            },
            "type": "scattergl"
           }
          ],
          "scattermapbox": [
           {
            "marker": {
             "colorbar": {
              "outlinewidth": 0,
              "ticks": ""
             }
            },
            "type": "scattermapbox"
           }
          ],
          "scatterpolar": [
           {
            "marker": {
             "colorbar": {
              "outlinewidth": 0,
              "ticks": ""
             }
            },
            "type": "scatterpolar"
           }
          ],
          "scatterpolargl": [
           {
            "marker": {
             "colorbar": {
              "outlinewidth": 0,
              "ticks": ""
             }
            },
            "type": "scatterpolargl"
           }
          ],
          "scatterternary": [
           {
            "marker": {
             "colorbar": {
              "outlinewidth": 0,
              "ticks": ""
             }
            },
            "type": "scatterternary"
           }
          ],
          "surface": [
           {
            "colorbar": {
             "outlinewidth": 0,
             "ticks": ""
            },
            "colorscale": [
             [
              0,
              "#0d0887"
             ],
             [
              0.1111111111111111,
              "#46039f"
             ],
             [
              0.2222222222222222,
              "#7201a8"
             ],
             [
              0.3333333333333333,
              "#9c179e"
             ],
             [
              0.4444444444444444,
              "#bd3786"
             ],
             [
              0.5555555555555556,
              "#d8576b"
             ],
             [
              0.6666666666666666,
              "#ed7953"
             ],
             [
              0.7777777777777778,
              "#fb9f3a"
             ],
             [
              0.8888888888888888,
              "#fdca26"
             ],
             [
              1,
              "#f0f921"
             ]
            ],
            "type": "surface"
           }
          ],
          "table": [
           {
            "cells": {
             "fill": {
              "color": "#EBF0F8"
             },
             "line": {
              "color": "white"
             }
            },
            "header": {
             "fill": {
              "color": "#C8D4E3"
             },
             "line": {
              "color": "white"
             }
            },
            "type": "table"
           }
          ]
         },
         "layout": {
          "annotationdefaults": {
           "arrowcolor": "#2a3f5f",
           "arrowhead": 0,
           "arrowwidth": 1
          },
          "autotypenumbers": "strict",
          "coloraxis": {
           "colorbar": {
            "outlinewidth": 0,
            "ticks": ""
           }
          },
          "colorscale": {
           "diverging": [
            [
             0,
             "#8e0152"
            ],
            [
             0.1,
             "#c51b7d"
            ],
            [
             0.2,
             "#de77ae"
            ],
            [
             0.3,
             "#f1b6da"
            ],
            [
             0.4,
             "#fde0ef"
            ],
            [
             0.5,
             "#f7f7f7"
            ],
            [
             0.6,
             "#e6f5d0"
            ],
            [
             0.7,
             "#b8e186"
            ],
            [
             0.8,
             "#7fbc41"
            ],
            [
             0.9,
             "#4d9221"
            ],
            [
             1,
             "#276419"
            ]
           ],
           "sequential": [
            [
             0,
             "#0d0887"
            ],
            [
             0.1111111111111111,
             "#46039f"
            ],
            [
             0.2222222222222222,
             "#7201a8"
            ],
            [
             0.3333333333333333,
             "#9c179e"
            ],
            [
             0.4444444444444444,
             "#bd3786"
            ],
            [
             0.5555555555555556,
             "#d8576b"
            ],
            [
             0.6666666666666666,
             "#ed7953"
            ],
            [
             0.7777777777777778,
             "#fb9f3a"
            ],
            [
             0.8888888888888888,
             "#fdca26"
            ],
            [
             1,
             "#f0f921"
            ]
           ],
           "sequentialminus": [
            [
             0,
             "#0d0887"
            ],
            [
             0.1111111111111111,
             "#46039f"
            ],
            [
             0.2222222222222222,
             "#7201a8"
            ],
            [
             0.3333333333333333,
             "#9c179e"
            ],
            [
             0.4444444444444444,
             "#bd3786"
            ],
            [
             0.5555555555555556,
             "#d8576b"
            ],
            [
             0.6666666666666666,
             "#ed7953"
            ],
            [
             0.7777777777777778,
             "#fb9f3a"
            ],
            [
             0.8888888888888888,
             "#fdca26"
            ],
            [
             1,
             "#f0f921"
            ]
           ]
          },
          "colorway": [
           "#636efa",
           "#EF553B",
           "#00cc96",
           "#ab63fa",
           "#FFA15A",
           "#19d3f3",
           "#FF6692",
           "#B6E880",
           "#FF97FF",
           "#FECB52"
          ],
          "font": {
           "color": "#2a3f5f"
          },
          "geo": {
           "bgcolor": "white",
           "lakecolor": "white",
           "landcolor": "#E5ECF6",
           "showlakes": true,
           "showland": true,
           "subunitcolor": "white"
          },
          "hoverlabel": {
           "align": "left"
          },
          "hovermode": "closest",
          "mapbox": {
           "style": "light"
          },
          "paper_bgcolor": "white",
          "plot_bgcolor": "#E5ECF6",
          "polar": {
           "angularaxis": {
            "gridcolor": "white",
            "linecolor": "white",
            "ticks": ""
           },
           "bgcolor": "#E5ECF6",
           "radialaxis": {
            "gridcolor": "white",
            "linecolor": "white",
            "ticks": ""
           }
          },
          "scene": {
           "xaxis": {
            "backgroundcolor": "#E5ECF6",
            "gridcolor": "white",
            "gridwidth": 2,
            "linecolor": "white",
            "showbackground": true,
            "ticks": "",
            "zerolinecolor": "white"
           },
           "yaxis": {
            "backgroundcolor": "#E5ECF6",
            "gridcolor": "white",
            "gridwidth": 2,
            "linecolor": "white",
            "showbackground": true,
            "ticks": "",
            "zerolinecolor": "white"
           },
           "zaxis": {
            "backgroundcolor": "#E5ECF6",
            "gridcolor": "white",
            "gridwidth": 2,
            "linecolor": "white",
            "showbackground": true,
            "ticks": "",
            "zerolinecolor": "white"
           }
          },
          "shapedefaults": {
           "line": {
            "color": "#2a3f5f"
           }
          },
          "ternary": {
           "aaxis": {
            "gridcolor": "white",
            "linecolor": "white",
            "ticks": ""
           },
           "baxis": {
            "gridcolor": "white",
            "linecolor": "white",
            "ticks": ""
           },
           "bgcolor": "#E5ECF6",
           "caxis": {
            "gridcolor": "white",
            "linecolor": "white",
            "ticks": ""
           }
          },
          "title": {
           "x": 0.05
          },
          "xaxis": {
           "automargin": true,
           "gridcolor": "white",
           "linecolor": "white",
           "ticks": "",
           "title": {
            "standoff": 15
           },
           "zerolinecolor": "white",
           "zerolinewidth": 2
          },
          "yaxis": {
           "automargin": true,
           "gridcolor": "white",
           "linecolor": "white",
           "ticks": "",
           "title": {
            "standoff": 15
           },
           "zerolinecolor": "white",
           "zerolinewidth": 2
          }
         }
        },
        "title": {
         "text": "Monopoly Board Purchase Price Against Expected Number of Gos to Payoff Purchase Price with Rent 2 Houses"
        },
        "xaxis": {
         "anchor": "y",
         "domain": [
          0,
          1
         ],
         "title": {
          "text": "Purchase Price"
         }
        },
        "yaxis": {
         "anchor": "x",
         "domain": [
          0,
          1
         ],
         "title": {
          "text": "Payoff Rent 2 Houses"
         }
        }
       }
      }
     },
     "metadata": {},
     "output_type": "display_data"
    },
    {
     "data": {
      "application/vnd.plotly.v1+json": {
       "config": {
        "plotlyServerURL": "https://plot.ly"
       },
       "data": [
        {
         "hovertemplate": "Property=Old Kent Road<br>Purchase Price=%{x}<br>Payoff Rent 3 Houses=%{y}<extra></extra>",
         "legendgroup": "Old Kent Road",
         "marker": {
          "color": "brown",
          "size": 15,
          "symbol": "circle"
         },
         "mode": "markers",
         "name": "Old Kent Road",
         "orientation": "v",
         "showlegend": true,
         "type": "scatter",
         "x": [
          60
         ],
         "xaxis": "x",
         "y": [
          126.1160183289461
         ],
         "yaxis": "y"
        },
        {
         "hovertemplate": "Property=Whitechapel Road<br>Purchase Price=%{x}<br>Payoff Rent 3 Houses=%{y}<extra></extra>",
         "legendgroup": "Whitechapel Road",
         "marker": {
          "color": "brown",
          "size": 15,
          "symbol": "circle"
         },
         "mode": "markers",
         "name": "Whitechapel Road",
         "orientation": "v",
         "showlegend": true,
         "type": "scatter",
         "x": [
          80
         ],
         "xaxis": "x",
         "y": [
          62.37702343738535
         ],
         "yaxis": "y"
        },
        {
         "hovertemplate": "Property=The Angel, Islington<br>Purchase Price=%{x}<br>Payoff Rent 3 Houses=%{y}<extra></extra>",
         "legendgroup": "The Angel, Islington",
         "marker": {
          "color": "lightblue",
          "size": 15,
          "symbol": "circle"
         },
         "mode": "markers",
         "name": "The Angel, Islington",
         "orientation": "v",
         "showlegend": true,
         "type": "scatter",
         "x": [
          100
         ],
         "xaxis": "x",
         "y": [
          39.06115909311892
         ],
         "yaxis": "y"
        },
        {
         "hovertemplate": "Property=Euston Road<br>Purchase Price=%{x}<br>Payoff Rent 3 Houses=%{y}<extra></extra>",
         "legendgroup": "Euston Road",
         "marker": {
          "color": "lightblue",
          "size": 15,
          "symbol": "circle"
         },
         "mode": "markers",
         "name": "Euston Road",
         "orientation": "v",
         "showlegend": true,
         "type": "scatter",
         "x": [
          100
         ],
         "xaxis": "x",
         "y": [
          38.76909650105526
         ],
         "yaxis": "y"
        },
        {
         "hovertemplate": "Property=Pentonville Road<br>Purchase Price=%{x}<br>Payoff Rent 3 Houses=%{y}<extra></extra>",
         "legendgroup": "Pentonville Road",
         "marker": {
          "color": "lightblue",
          "size": 15,
          "symbol": "circle"
         },
         "mode": "markers",
         "name": "Pentonville Road",
         "orientation": "v",
         "showlegend": true,
         "type": "scatter",
         "x": [
          120
         ],
         "xaxis": "x",
         "y": [
          38.20291719306305
         ],
         "yaxis": "y"
        },
        {
         "hovertemplate": "Property=Pall Mall<br>Purchase Price=%{x}<br>Payoff Rent 3 Houses=%{y}<extra></extra>",
         "legendgroup": "Pall Mall",
         "marker": {
          "color": "pink",
          "size": 15,
          "symbol": "circle"
         },
         "mode": "markers",
         "name": "Pall Mall",
         "orientation": "v",
         "showlegend": true,
         "type": "scatter",
         "x": [
          140
         ],
         "xaxis": "x",
         "y": [
          36.00108033915565
         ],
         "yaxis": "y"
        },
        {
         "hovertemplate": "Property=Whitehall<br>Purchase Price=%{x}<br>Payoff Rent 3 Houses=%{y}<extra></extra>",
         "legendgroup": "Whitehall",
         "marker": {
          "color": "pink",
          "size": 15,
          "symbol": "circle"
         },
         "mode": "markers",
         "name": "Whitehall",
         "orientation": "v",
         "showlegend": true,
         "type": "scatter",
         "x": [
          140
         ],
         "xaxis": "x",
         "y": [
          43.26335980419543
         ],
         "yaxis": "y"
        },
        {
         "hovertemplate": "Property=Northumberland Avenue<br>Purchase Price=%{x}<br>Payoff Rent 3 Houses=%{y}<extra></extra>",
         "legendgroup": "Northumberland Avenue",
         "marker": {
          "color": "pink",
          "size": 15,
          "symbol": "circle"
         },
         "mode": "markers",
         "name": "Northumberland Avenue",
         "orientation": "v",
         "showlegend": true,
         "type": "scatter",
         "x": [
          160
         ],
         "xaxis": "x",
         "y": [
          38.993651376146786
         ],
         "yaxis": "y"
        },
        {
         "hovertemplate": "Property=Bow Street<br>Purchase Price=%{x}<br>Payoff Rent 3 Houses=%{y}<extra></extra>",
         "legendgroup": "Bow Street",
         "marker": {
          "color": "orange",
          "size": 15,
          "symbol": "circle"
         },
         "mode": "markers",
         "name": "Bow Street",
         "orientation": "v",
         "showlegend": true,
         "type": "scatter",
         "x": [
          180
         ],
         "xaxis": "x",
         "y": [
          33.37676098735702
         ],
         "yaxis": "y"
        },
        {
         "hovertemplate": "Property=Marlborough Street<br>Purchase Price=%{x}<br>Payoff Rent 3 Houses=%{y}<extra></extra>",
         "legendgroup": "Marlborough Street",
         "marker": {
          "color": "orange",
          "size": 15,
          "symbol": "circle"
         },
         "mode": "markers",
         "name": "Marlborough Street",
         "orientation": "v",
         "showlegend": true,
         "type": "scatter",
         "x": [
          180
         ],
         "xaxis": "x",
         "y": [
          31.84765187419216
         ],
         "yaxis": "y"
        },
        {
         "hovertemplate": "Property=Vine Street<br>Purchase Price=%{x}<br>Payoff Rent 3 Houses=%{y}<extra></extra>",
         "legendgroup": "Vine Street",
         "marker": {
          "color": "orange",
          "size": 15,
          "symbol": "circle"
         },
         "mode": "markers",
         "name": "Vine Street",
         "orientation": "v",
         "showlegend": true,
         "type": "scatter",
         "x": [
          200
         ],
         "xaxis": "x",
         "y": [
          29.39148137544931
         ],
         "yaxis": "y"
        },
        {
         "hovertemplate": "Property=Strand<br>Purchase Price=%{x}<br>Payoff Rent 3 Houses=%{y}<extra></extra>",
         "legendgroup": "Strand",
         "marker": {
          "color": "red",
          "size": 15,
          "symbol": "circle"
         },
         "mode": "markers",
         "name": "Strand",
         "orientation": "v",
         "showlegend": true,
         "type": "scatter",
         "x": [
          220
         ],
         "xaxis": "x",
         "y": [
          37.19793300285414
         ],
         "yaxis": "y"
        },
        {
         "hovertemplate": "Property=Fleet Street<br>Purchase Price=%{x}<br>Payoff Rent 3 Houses=%{y}<extra></extra>",
         "legendgroup": "Fleet Street",
         "marker": {
          "color": "red",
          "size": 15,
          "symbol": "circle"
         },
         "mode": "markers",
         "name": "Fleet Street",
         "orientation": "v",
         "showlegend": true,
         "type": "scatter",
         "x": [
          220
         ],
         "xaxis": "x",
         "y": [
          38.21044964972379
         ],
         "yaxis": "y"
        },
        {
         "hovertemplate": "Property=Trafalgar Square<br>Purchase Price=%{x}<br>Payoff Rent 3 Houses=%{y}<extra></extra>",
         "legendgroup": "Trafalgar Square",
         "marker": {
          "color": "red",
          "size": 15,
          "symbol": "circle"
         },
         "mode": "markers",
         "name": "Trafalgar Square",
         "orientation": "v",
         "showlegend": true,
         "type": "scatter",
         "x": [
          240
         ],
         "xaxis": "x",
         "y": [
          30.914141285571418
         ],
         "yaxis": "y"
        },
        {
         "hovertemplate": "Property=Leicester Square<br>Purchase Price=%{x}<br>Payoff Rent 3 Houses=%{y}<extra></extra>",
         "legendgroup": "Leicester Square",
         "marker": {
          "color": "yellow",
          "size": 15,
          "symbol": "circle"
         },
         "mode": "markers",
         "name": "Leicester Square",
         "orientation": "v",
         "showlegend": true,
         "type": "scatter",
         "x": [
          260
         ],
         "xaxis": "x",
         "y": [
          36.12079066182138
         ],
         "yaxis": "y"
        },
        {
         "hovertemplate": "Property=Coventry Street<br>Purchase Price=%{x}<br>Payoff Rent 3 Houses=%{y}<extra></extra>",
         "legendgroup": "Coventry Street",
         "marker": {
          "color": "yellow",
          "size": 15,
          "symbol": "circle"
         },
         "mode": "markers",
         "name": "Coventry Street",
         "orientation": "v",
         "showlegend": true,
         "type": "scatter",
         "x": [
          260
         ],
         "xaxis": "x",
         "y": [
          36.51485027273739
         ],
         "yaxis": "y"
        },
        {
         "hovertemplate": "Property=Piccadilly<br>Purchase Price=%{x}<br>Payoff Rent 3 Houses=%{y}<extra></extra>",
         "legendgroup": "Piccadilly",
         "marker": {
          "color": "yellow",
          "size": 15,
          "symbol": "circle"
         },
         "mode": "markers",
         "name": "Piccadilly",
         "orientation": "v",
         "showlegend": true,
         "type": "scatter",
         "x": [
          280
         ],
         "xaxis": "x",
         "y": [
          36.68681297761823
         ],
         "yaxis": "y"
        },
        {
         "hovertemplate": "Property=Regent Street<br>Purchase Price=%{x}<br>Payoff Rent 3 Houses=%{y}<extra></extra>",
         "legendgroup": "Regent Street",
         "marker": {
          "color": "green",
          "size": 15,
          "symbol": "circle"
         },
         "mode": "markers",
         "name": "Regent Street",
         "orientation": "v",
         "showlegend": true,
         "type": "scatter",
         "x": [
          300
         ],
         "xaxis": "x",
         "y": [
          41.738226990400904
         ],
         "yaxis": "y"
        },
        {
         "hovertemplate": "Property=Oxford Street<br>Purchase Price=%{x}<br>Payoff Rent 3 Houses=%{y}<extra></extra>",
         "legendgroup": "Oxford Street",
         "marker": {
          "color": "green",
          "size": 15,
          "symbol": "circle"
         },
         "mode": "markers",
         "name": "Oxford Street",
         "orientation": "v",
         "showlegend": true,
         "type": "scatter",
         "x": [
          300
         ],
         "xaxis": "x",
         "y": [
          42.31161991986262
         ],
         "yaxis": "y"
        },
        {
         "hovertemplate": "Property=Bond Street<br>Purchase Price=%{x}<br>Payoff Rent 3 Houses=%{y}<extra></extra>",
         "legendgroup": "Bond Street",
         "marker": {
          "color": "green",
          "size": 15,
          "symbol": "circle"
         },
         "mode": "markers",
         "name": "Bond Street",
         "orientation": "v",
         "showlegend": true,
         "type": "scatter",
         "x": [
          320
         ],
         "xaxis": "x",
         "y": [
          41.56780440097799
         ],
         "yaxis": "y"
        },
        {
         "hovertemplate": "Property=Park Lane<br>Purchase Price=%{x}<br>Payoff Rent 3 Houses=%{y}<extra></extra>",
         "legendgroup": "Park Lane",
         "marker": {
          "color": "darkblue",
          "size": 15,
          "symbol": "circle"
         },
         "mode": "markers",
         "name": "Park Lane",
         "orientation": "v",
         "showlegend": true,
         "type": "scatter",
         "x": [
          350
         ],
         "xaxis": "x",
         "y": [
          45.372152225883575
         ],
         "yaxis": "y"
        },
        {
         "hovertemplate": "Property=Mayfair<br>Purchase Price=%{x}<br>Payoff Rent 3 Houses=%{y}<extra></extra>",
         "legendgroup": "Mayfair",
         "marker": {
          "color": "darkblue",
          "size": 15,
          "symbol": "circle"
         },
         "mode": "markers",
         "name": "Mayfair",
         "orientation": "v",
         "showlegend": true,
         "type": "scatter",
         "x": [
          400
         ],
         "xaxis": "x",
         "y": [
          30.880136356800296
         ],
         "yaxis": "y"
        }
       ],
       "layout": {
        "legend": {
         "title": {
          "text": "Property"
         },
         "tracegroupgap": 0
        },
        "showlegend": false,
        "template": {
         "data": {
          "bar": [
           {
            "error_x": {
             "color": "#2a3f5f"
            },
            "error_y": {
             "color": "#2a3f5f"
            },
            "marker": {
             "line": {
              "color": "#E5ECF6",
              "width": 0.5
             },
             "pattern": {
              "fillmode": "overlay",
              "size": 10,
              "solidity": 0.2
             }
            },
            "type": "bar"
           }
          ],
          "barpolar": [
           {
            "marker": {
             "line": {
              "color": "#E5ECF6",
              "width": 0.5
             },
             "pattern": {
              "fillmode": "overlay",
              "size": 10,
              "solidity": 0.2
             }
            },
            "type": "barpolar"
           }
          ],
          "carpet": [
           {
            "aaxis": {
             "endlinecolor": "#2a3f5f",
             "gridcolor": "white",
             "linecolor": "white",
             "minorgridcolor": "white",
             "startlinecolor": "#2a3f5f"
            },
            "baxis": {
             "endlinecolor": "#2a3f5f",
             "gridcolor": "white",
             "linecolor": "white",
             "minorgridcolor": "white",
             "startlinecolor": "#2a3f5f"
            },
            "type": "carpet"
           }
          ],
          "choropleth": [
           {
            "colorbar": {
             "outlinewidth": 0,
             "ticks": ""
            },
            "type": "choropleth"
           }
          ],
          "contour": [
           {
            "colorbar": {
             "outlinewidth": 0,
             "ticks": ""
            },
            "colorscale": [
             [
              0,
              "#0d0887"
             ],
             [
              0.1111111111111111,
              "#46039f"
             ],
             [
              0.2222222222222222,
              "#7201a8"
             ],
             [
              0.3333333333333333,
              "#9c179e"
             ],
             [
              0.4444444444444444,
              "#bd3786"
             ],
             [
              0.5555555555555556,
              "#d8576b"
             ],
             [
              0.6666666666666666,
              "#ed7953"
             ],
             [
              0.7777777777777778,
              "#fb9f3a"
             ],
             [
              0.8888888888888888,
              "#fdca26"
             ],
             [
              1,
              "#f0f921"
             ]
            ],
            "type": "contour"
           }
          ],
          "contourcarpet": [
           {
            "colorbar": {
             "outlinewidth": 0,
             "ticks": ""
            },
            "type": "contourcarpet"
           }
          ],
          "heatmap": [
           {
            "colorbar": {
             "outlinewidth": 0,
             "ticks": ""
            },
            "colorscale": [
             [
              0,
              "#0d0887"
             ],
             [
              0.1111111111111111,
              "#46039f"
             ],
             [
              0.2222222222222222,
              "#7201a8"
             ],
             [
              0.3333333333333333,
              "#9c179e"
             ],
             [
              0.4444444444444444,
              "#bd3786"
             ],
             [
              0.5555555555555556,
              "#d8576b"
             ],
             [
              0.6666666666666666,
              "#ed7953"
             ],
             [
              0.7777777777777778,
              "#fb9f3a"
             ],
             [
              0.8888888888888888,
              "#fdca26"
             ],
             [
              1,
              "#f0f921"
             ]
            ],
            "type": "heatmap"
           }
          ],
          "heatmapgl": [
           {
            "colorbar": {
             "outlinewidth": 0,
             "ticks": ""
            },
            "colorscale": [
             [
              0,
              "#0d0887"
             ],
             [
              0.1111111111111111,
              "#46039f"
             ],
             [
              0.2222222222222222,
              "#7201a8"
             ],
             [
              0.3333333333333333,
              "#9c179e"
             ],
             [
              0.4444444444444444,
              "#bd3786"
             ],
             [
              0.5555555555555556,
              "#d8576b"
             ],
             [
              0.6666666666666666,
              "#ed7953"
             ],
             [
              0.7777777777777778,
              "#fb9f3a"
             ],
             [
              0.8888888888888888,
              "#fdca26"
             ],
             [
              1,
              "#f0f921"
             ]
            ],
            "type": "heatmapgl"
           }
          ],
          "histogram": [
           {
            "marker": {
             "pattern": {
              "fillmode": "overlay",
              "size": 10,
              "solidity": 0.2
             }
            },
            "type": "histogram"
           }
          ],
          "histogram2d": [
           {
            "colorbar": {
             "outlinewidth": 0,
             "ticks": ""
            },
            "colorscale": [
             [
              0,
              "#0d0887"
             ],
             [
              0.1111111111111111,
              "#46039f"
             ],
             [
              0.2222222222222222,
              "#7201a8"
             ],
             [
              0.3333333333333333,
              "#9c179e"
             ],
             [
              0.4444444444444444,
              "#bd3786"
             ],
             [
              0.5555555555555556,
              "#d8576b"
             ],
             [
              0.6666666666666666,
              "#ed7953"
             ],
             [
              0.7777777777777778,
              "#fb9f3a"
             ],
             [
              0.8888888888888888,
              "#fdca26"
             ],
             [
              1,
              "#f0f921"
             ]
            ],
            "type": "histogram2d"
           }
          ],
          "histogram2dcontour": [
           {
            "colorbar": {
             "outlinewidth": 0,
             "ticks": ""
            },
            "colorscale": [
             [
              0,
              "#0d0887"
             ],
             [
              0.1111111111111111,
              "#46039f"
             ],
             [
              0.2222222222222222,
              "#7201a8"
             ],
             [
              0.3333333333333333,
              "#9c179e"
             ],
             [
              0.4444444444444444,
              "#bd3786"
             ],
             [
              0.5555555555555556,
              "#d8576b"
             ],
             [
              0.6666666666666666,
              "#ed7953"
             ],
             [
              0.7777777777777778,
              "#fb9f3a"
             ],
             [
              0.8888888888888888,
              "#fdca26"
             ],
             [
              1,
              "#f0f921"
             ]
            ],
            "type": "histogram2dcontour"
           }
          ],
          "mesh3d": [
           {
            "colorbar": {
             "outlinewidth": 0,
             "ticks": ""
            },
            "type": "mesh3d"
           }
          ],
          "parcoords": [
           {
            "line": {
             "colorbar": {
              "outlinewidth": 0,
              "ticks": ""
             }
            },
            "type": "parcoords"
           }
          ],
          "pie": [
           {
            "automargin": true,
            "type": "pie"
           }
          ],
          "scatter": [
           {
            "fillpattern": {
             "fillmode": "overlay",
             "size": 10,
             "solidity": 0.2
            },
            "type": "scatter"
           }
          ],
          "scatter3d": [
           {
            "line": {
             "colorbar": {
              "outlinewidth": 0,
              "ticks": ""
             }
            },
            "marker": {
             "colorbar": {
              "outlinewidth": 0,
              "ticks": ""
             }
            },
            "type": "scatter3d"
           }
          ],
          "scattercarpet": [
           {
            "marker": {
             "colorbar": {
              "outlinewidth": 0,
              "ticks": ""
             }
            },
            "type": "scattercarpet"
           }
          ],
          "scattergeo": [
           {
            "marker": {
             "colorbar": {
              "outlinewidth": 0,
              "ticks": ""
             }
            },
            "type": "scattergeo"
           }
          ],
          "scattergl": [
           {
            "marker": {
             "colorbar": {
              "outlinewidth": 0,
              "ticks": ""
             }
            },
            "type": "scattergl"
           }
          ],
          "scattermapbox": [
           {
            "marker": {
             "colorbar": {
              "outlinewidth": 0,
              "ticks": ""
             }
            },
            "type": "scattermapbox"
           }
          ],
          "scatterpolar": [
           {
            "marker": {
             "colorbar": {
              "outlinewidth": 0,
              "ticks": ""
             }
            },
            "type": "scatterpolar"
           }
          ],
          "scatterpolargl": [
           {
            "marker": {
             "colorbar": {
              "outlinewidth": 0,
              "ticks": ""
             }
            },
            "type": "scatterpolargl"
           }
          ],
          "scatterternary": [
           {
            "marker": {
             "colorbar": {
              "outlinewidth": 0,
              "ticks": ""
             }
            },
            "type": "scatterternary"
           }
          ],
          "surface": [
           {
            "colorbar": {
             "outlinewidth": 0,
             "ticks": ""
            },
            "colorscale": [
             [
              0,
              "#0d0887"
             ],
             [
              0.1111111111111111,
              "#46039f"
             ],
             [
              0.2222222222222222,
              "#7201a8"
             ],
             [
              0.3333333333333333,
              "#9c179e"
             ],
             [
              0.4444444444444444,
              "#bd3786"
             ],
             [
              0.5555555555555556,
              "#d8576b"
             ],
             [
              0.6666666666666666,
              "#ed7953"
             ],
             [
              0.7777777777777778,
              "#fb9f3a"
             ],
             [
              0.8888888888888888,
              "#fdca26"
             ],
             [
              1,
              "#f0f921"
             ]
            ],
            "type": "surface"
           }
          ],
          "table": [
           {
            "cells": {
             "fill": {
              "color": "#EBF0F8"
             },
             "line": {
              "color": "white"
             }
            },
            "header": {
             "fill": {
              "color": "#C8D4E3"
             },
             "line": {
              "color": "white"
             }
            },
            "type": "table"
           }
          ]
         },
         "layout": {
          "annotationdefaults": {
           "arrowcolor": "#2a3f5f",
           "arrowhead": 0,
           "arrowwidth": 1
          },
          "autotypenumbers": "strict",
          "coloraxis": {
           "colorbar": {
            "outlinewidth": 0,
            "ticks": ""
           }
          },
          "colorscale": {
           "diverging": [
            [
             0,
             "#8e0152"
            ],
            [
             0.1,
             "#c51b7d"
            ],
            [
             0.2,
             "#de77ae"
            ],
            [
             0.3,
             "#f1b6da"
            ],
            [
             0.4,
             "#fde0ef"
            ],
            [
             0.5,
             "#f7f7f7"
            ],
            [
             0.6,
             "#e6f5d0"
            ],
            [
             0.7,
             "#b8e186"
            ],
            [
             0.8,
             "#7fbc41"
            ],
            [
             0.9,
             "#4d9221"
            ],
            [
             1,
             "#276419"
            ]
           ],
           "sequential": [
            [
             0,
             "#0d0887"
            ],
            [
             0.1111111111111111,
             "#46039f"
            ],
            [
             0.2222222222222222,
             "#7201a8"
            ],
            [
             0.3333333333333333,
             "#9c179e"
            ],
            [
             0.4444444444444444,
             "#bd3786"
            ],
            [
             0.5555555555555556,
             "#d8576b"
            ],
            [
             0.6666666666666666,
             "#ed7953"
            ],
            [
             0.7777777777777778,
             "#fb9f3a"
            ],
            [
             0.8888888888888888,
             "#fdca26"
            ],
            [
             1,
             "#f0f921"
            ]
           ],
           "sequentialminus": [
            [
             0,
             "#0d0887"
            ],
            [
             0.1111111111111111,
             "#46039f"
            ],
            [
             0.2222222222222222,
             "#7201a8"
            ],
            [
             0.3333333333333333,
             "#9c179e"
            ],
            [
             0.4444444444444444,
             "#bd3786"
            ],
            [
             0.5555555555555556,
             "#d8576b"
            ],
            [
             0.6666666666666666,
             "#ed7953"
            ],
            [
             0.7777777777777778,
             "#fb9f3a"
            ],
            [
             0.8888888888888888,
             "#fdca26"
            ],
            [
             1,
             "#f0f921"
            ]
           ]
          },
          "colorway": [
           "#636efa",
           "#EF553B",
           "#00cc96",
           "#ab63fa",
           "#FFA15A",
           "#19d3f3",
           "#FF6692",
           "#B6E880",
           "#FF97FF",
           "#FECB52"
          ],
          "font": {
           "color": "#2a3f5f"
          },
          "geo": {
           "bgcolor": "white",
           "lakecolor": "white",
           "landcolor": "#E5ECF6",
           "showlakes": true,
           "showland": true,
           "subunitcolor": "white"
          },
          "hoverlabel": {
           "align": "left"
          },
          "hovermode": "closest",
          "mapbox": {
           "style": "light"
          },
          "paper_bgcolor": "white",
          "plot_bgcolor": "#E5ECF6",
          "polar": {
           "angularaxis": {
            "gridcolor": "white",
            "linecolor": "white",
            "ticks": ""
           },
           "bgcolor": "#E5ECF6",
           "radialaxis": {
            "gridcolor": "white",
            "linecolor": "white",
            "ticks": ""
           }
          },
          "scene": {
           "xaxis": {
            "backgroundcolor": "#E5ECF6",
            "gridcolor": "white",
            "gridwidth": 2,
            "linecolor": "white",
            "showbackground": true,
            "ticks": "",
            "zerolinecolor": "white"
           },
           "yaxis": {
            "backgroundcolor": "#E5ECF6",
            "gridcolor": "white",
            "gridwidth": 2,
            "linecolor": "white",
            "showbackground": true,
            "ticks": "",
            "zerolinecolor": "white"
           },
           "zaxis": {
            "backgroundcolor": "#E5ECF6",
            "gridcolor": "white",
            "gridwidth": 2,
            "linecolor": "white",
            "showbackground": true,
            "ticks": "",
            "zerolinecolor": "white"
           }
          },
          "shapedefaults": {
           "line": {
            "color": "#2a3f5f"
           }
          },
          "ternary": {
           "aaxis": {
            "gridcolor": "white",
            "linecolor": "white",
            "ticks": ""
           },
           "baxis": {
            "gridcolor": "white",
            "linecolor": "white",
            "ticks": ""
           },
           "bgcolor": "#E5ECF6",
           "caxis": {
            "gridcolor": "white",
            "linecolor": "white",
            "ticks": ""
           }
          },
          "title": {
           "x": 0.05
          },
          "xaxis": {
           "automargin": true,
           "gridcolor": "white",
           "linecolor": "white",
           "ticks": "",
           "title": {
            "standoff": 15
           },
           "zerolinecolor": "white",
           "zerolinewidth": 2
          },
          "yaxis": {
           "automargin": true,
           "gridcolor": "white",
           "linecolor": "white",
           "ticks": "",
           "title": {
            "standoff": 15
           },
           "zerolinecolor": "white",
           "zerolinewidth": 2
          }
         }
        },
        "title": {
         "text": "Monopoly Board Purchase Price Against Expected Number of Gos to Payoff Purchase Price with Rent 3 Houses"
        },
        "xaxis": {
         "anchor": "y",
         "domain": [
          0,
          1
         ],
         "title": {
          "text": "Purchase Price"
         }
        },
        "yaxis": {
         "anchor": "x",
         "domain": [
          0,
          1
         ],
         "title": {
          "text": "Payoff Rent 3 Houses"
         }
        }
       }
      }
     },
     "metadata": {},
     "output_type": "display_data"
    },
    {
     "data": {
      "application/vnd.plotly.v1+json": {
       "config": {
        "plotlyServerURL": "https://plot.ly"
       },
       "data": [
        {
         "hovertemplate": "Property=Old Kent Road<br>Purchase Price=%{x}<br>Payoff Rent 4 Houses=%{y}<extra></extra>",
         "legendgroup": "Old Kent Road",
         "marker": {
          "color": "brown",
          "size": 15,
          "symbol": "circle"
         },
         "mode": "markers",
         "name": "Old Kent Road",
         "orientation": "v",
         "showlegend": true,
         "type": "scatter",
         "x": [
          60
         ],
         "xaxis": "x",
         "y": [
          87.83079847908746
         ],
         "yaxis": "y"
        },
        {
         "hovertemplate": "Property=Whitechapel Road<br>Purchase Price=%{x}<br>Payoff Rent 4 Houses=%{y}<extra></extra>",
         "legendgroup": "Whitechapel Road",
         "marker": {
          "color": "brown",
          "size": 15,
          "symbol": "circle"
         },
         "mode": "markers",
         "name": "Whitechapel Road",
         "orientation": "v",
         "showlegend": true,
         "type": "scatter",
         "x": [
          80
         ],
         "xaxis": "x",
         "y": [
          42.714700832122574
         ],
         "yaxis": "y"
        },
        {
         "hovertemplate": "Property=The Angel, Islington<br>Purchase Price=%{x}<br>Payoff Rent 4 Houses=%{y}<extra></extra>",
         "legendgroup": "The Angel, Islington",
         "marker": {
          "color": "lightblue",
          "size": 15,
          "symbol": "circle"
         },
         "mode": "markers",
         "name": "The Angel, Islington",
         "orientation": "v",
         "showlegend": true,
         "type": "scatter",
         "x": [
          100
         ],
         "xaxis": "x",
         "y": [
          31.63953886542632
         ],
         "yaxis": "y"
        },
        {
         "hovertemplate": "Property=Euston Road<br>Purchase Price=%{x}<br>Payoff Rent 4 Houses=%{y}<extra></extra>",
         "legendgroup": "Euston Road",
         "marker": {
          "color": "lightblue",
          "size": 15,
          "symbol": "circle"
         },
         "mode": "markers",
         "name": "Euston Road",
         "orientation": "v",
         "showlegend": true,
         "type": "scatter",
         "x": [
          100
         ],
         "xaxis": "x",
         "y": [
          31.402968165854762
         ],
         "yaxis": "y"
        },
        {
         "hovertemplate": "Property=Pentonville Road<br>Purchase Price=%{x}<br>Payoff Rent 4 Houses=%{y}<extra></extra>",
         "legendgroup": "Pentonville Road",
         "marker": {
          "color": "lightblue",
          "size": 15,
          "symbol": "circle"
         },
         "mode": "markers",
         "name": "Pentonville Road",
         "orientation": "v",
         "showlegend": true,
         "type": "scatter",
         "x": [
          120
         ],
         "xaxis": "x",
         "y": [
          30.18502099204982
         ],
         "yaxis": "y"
        },
        {
         "hovertemplate": "Property=Pall Mall<br>Purchase Price=%{x}<br>Payoff Rent 4 Houses=%{y}<extra></extra>",
         "legendgroup": "Pall Mall",
         "marker": {
          "color": "pink",
          "size": 15,
          "symbol": "circle"
         },
         "mode": "markers",
         "name": "Pall Mall",
         "orientation": "v",
         "showlegend": true,
         "type": "scatter",
         "x": [
          140
         ],
         "xaxis": "x",
         "y": [
          31.81186371787209
         ],
         "yaxis": "y"
        },
        {
         "hovertemplate": "Property=Whitehall<br>Purchase Price=%{x}<br>Payoff Rent 4 Houses=%{y}<extra></extra>",
         "legendgroup": "Whitehall",
         "marker": {
          "color": "pink",
          "size": 15,
          "symbol": "circle"
         },
         "mode": "markers",
         "name": "Whitehall",
         "orientation": "v",
         "showlegend": true,
         "type": "scatter",
         "x": [
          140
         ],
         "xaxis": "x",
         "y": [
          38.229077936070865
         ],
         "yaxis": "y"
        },
        {
         "hovertemplate": "Property=Northumberland Avenue<br>Purchase Price=%{x}<br>Payoff Rent 4 Houses=%{y}<extra></extra>",
         "legendgroup": "Northumberland Avenue",
         "marker": {
          "color": "pink",
          "size": 15,
          "symbol": "circle"
         },
         "mode": "markers",
         "name": "Northumberland Avenue",
         "orientation": "v",
         "showlegend": true,
         "type": "scatter",
         "x": [
          160
         ],
         "xaxis": "x",
         "y": [
          33.90752293577982
         ],
         "yaxis": "y"
        },
        {
         "hovertemplate": "Property=Bow Street<br>Purchase Price=%{x}<br>Payoff Rent 4 Houses=%{y}<extra></extra>",
         "legendgroup": "Bow Street",
         "marker": {
          "color": "orange",
          "size": 15,
          "symbol": "circle"
         },
         "mode": "markers",
         "name": "Bow Street",
         "orientation": "v",
         "showlegend": true,
         "type": "scatter",
         "x": [
          180
         ],
         "xaxis": "x",
         "y": [
          29.57551876379691
         ],
         "yaxis": "y"
        },
        {
         "hovertemplate": "Property=Marlborough Street<br>Purchase Price=%{x}<br>Payoff Rent 4 Houses=%{y}<extra></extra>",
         "legendgroup": "Marlborough Street",
         "marker": {
          "color": "orange",
          "size": 15,
          "symbol": "circle"
         },
         "mode": "markers",
         "name": "Marlborough Street",
         "orientation": "v",
         "showlegend": true,
         "type": "scatter",
         "x": [
          180
         ],
         "xaxis": "x",
         "y": [
          28.220558188520272
         ],
         "yaxis": "y"
        },
        {
         "hovertemplate": "Property=Vine Street<br>Purchase Price=%{x}<br>Payoff Rent 4 Houses=%{y}<extra></extra>",
         "legendgroup": "Vine Street",
         "marker": {
          "color": "orange",
          "size": 15,
          "symbol": "circle"
         },
         "mode": "markers",
         "name": "Vine Street",
         "orientation": "v",
         "showlegend": true,
         "type": "scatter",
         "x": [
          200
         ],
         "xaxis": "x",
         "y": [
          26.45233323790438
         ],
         "yaxis": "y"
        },
        {
         "hovertemplate": "Property=Strand<br>Purchase Price=%{x}<br>Payoff Rent 4 Houses=%{y}<extra></extra>",
         "legendgroup": "Strand",
         "marker": {
          "color": "red",
          "size": 15,
          "symbol": "circle"
         },
         "mode": "markers",
         "name": "Strand",
         "orientation": "v",
         "showlegend": true,
         "type": "scatter",
         "x": [
          220
         ],
         "xaxis": "x",
         "y": [
          36.420662761003456
         ],
         "yaxis": "y"
        },
        {
         "hovertemplate": "Property=Fleet Street<br>Purchase Price=%{x}<br>Payoff Rent 4 Houses=%{y}<extra></extra>",
         "legendgroup": "Fleet Street",
         "marker": {
          "color": "red",
          "size": 15,
          "symbol": "circle"
         },
         "mode": "markers",
         "name": "Fleet Street",
         "orientation": "v",
         "showlegend": true,
         "type": "scatter",
         "x": [
          220
         ],
         "xaxis": "x",
         "y": [
          37.41202234361016
         ],
         "yaxis": "y"
        },
        {
         "hovertemplate": "Property=Trafalgar Square<br>Purchase Price=%{x}<br>Payoff Rent 4 Houses=%{y}<extra></extra>",
         "legendgroup": "Trafalgar Square",
         "marker": {
          "color": "red",
          "size": 15,
          "symbol": "circle"
         },
         "mode": "markers",
         "name": "Trafalgar Square",
         "orientation": "v",
         "showlegend": true,
         "type": "scatter",
         "x": [
          240
         ],
         "xaxis": "x",
         "y": [
          30.514546039811975
         ],
         "yaxis": "y"
        },
        {
         "hovertemplate": "Property=Leicester Square<br>Purchase Price=%{x}<br>Payoff Rent 4 Houses=%{y}<extra></extra>",
         "legendgroup": "Leicester Square",
         "marker": {
          "color": "yellow",
          "size": 15,
          "symbol": "circle"
         },
         "mode": "markers",
         "name": "Leicester Square",
         "orientation": "v",
         "showlegend": true,
         "type": "scatter",
         "x": [
          260
         ],
         "xaxis": "x",
         "y": [
          35.89903066136961
         ],
         "yaxis": "y"
        },
        {
         "hovertemplate": "Property=Coventry Street<br>Purchase Price=%{x}<br>Payoff Rent 4 Houses=%{y}<extra></extra>",
         "legendgroup": "Coventry Street",
         "marker": {
          "color": "yellow",
          "size": 15,
          "symbol": "circle"
         },
         "mode": "markers",
         "name": "Coventry Street",
         "orientation": "v",
         "showlegend": true,
         "type": "scatter",
         "x": [
          260
         ],
         "xaxis": "x",
         "y": [
          36.290670982511124
         ],
         "yaxis": "y"
        },
        {
         "hovertemplate": "Property=Piccadilly<br>Purchase Price=%{x}<br>Payoff Rent 4 Houses=%{y}<extra></extra>",
         "legendgroup": "Piccadilly",
         "marker": {
          "color": "yellow",
          "size": 15,
          "symbol": "circle"
         },
         "mode": "markers",
         "name": "Piccadilly",
         "orientation": "v",
         "showlegend": true,
         "type": "scatter",
         "x": [
          280
         ],
         "xaxis": "x",
         "y": [
          36.674555439035665
         ],
         "yaxis": "y"
        },
        {
         "hovertemplate": "Property=Regent Street<br>Purchase Price=%{x}<br>Payoff Rent 4 Houses=%{y}<extra></extra>",
         "legendgroup": "Regent Street",
         "marker": {
          "color": "green",
          "size": 15,
          "symbol": "circle"
         },
         "mode": "markers",
         "name": "Regent Street",
         "orientation": "v",
         "showlegend": true,
         "type": "scatter",
         "x": [
          300
         ],
         "xaxis": "x",
         "y": [
          41.73822699040091
         ],
         "yaxis": "y"
        },
        {
         "hovertemplate": "Property=Oxford Street<br>Purchase Price=%{x}<br>Payoff Rent 4 Houses=%{y}<extra></extra>",
         "legendgroup": "Oxford Street",
         "marker": {
          "color": "green",
          "size": 15,
          "symbol": "circle"
         },
         "mode": "markers",
         "name": "Oxford Street",
         "orientation": "v",
         "showlegend": true,
         "type": "scatter",
         "x": [
          300
         ],
         "xaxis": "x",
         "y": [
          42.31161991986262
         ],
         "yaxis": "y"
        },
        {
         "hovertemplate": "Property=Bond Street<br>Purchase Price=%{x}<br>Payoff Rent 4 Houses=%{y}<extra></extra>",
         "legendgroup": "Bond Street",
         "marker": {
          "color": "green",
          "size": 15,
          "symbol": "circle"
         },
         "mode": "markers",
         "name": "Bond Street",
         "orientation": "v",
         "showlegend": true,
         "type": "scatter",
         "x": [
          320
         ],
         "xaxis": "x",
         "y": [
          42.17023634881826
         ],
         "yaxis": "y"
        },
        {
         "hovertemplate": "Property=Park Lane<br>Purchase Price=%{x}<br>Payoff Rent 4 Houses=%{y}<extra></extra>",
         "legendgroup": "Park Lane",
         "marker": {
          "color": "darkblue",
          "size": 15,
          "symbol": "circle"
         },
         "mode": "markers",
         "name": "Park Lane",
         "orientation": "v",
         "showlegend": true,
         "type": "scatter",
         "x": [
          350
         ],
         "xaxis": "x",
         "y": [
          46.47430976983216
         ],
         "yaxis": "y"
        },
        {
         "hovertemplate": "Property=Mayfair<br>Purchase Price=%{x}<br>Payoff Rent 4 Houses=%{y}<extra></extra>",
         "legendgroup": "Mayfair",
         "marker": {
          "color": "darkblue",
          "size": 15,
          "symbol": "circle"
         },
         "mode": "markers",
         "name": "Mayfair",
         "orientation": "v",
         "showlegend": true,
         "type": "scatter",
         "x": [
          400
         ],
         "xaxis": "x",
         "y": [
          30.51684063495559
         ],
         "yaxis": "y"
        }
       ],
       "layout": {
        "legend": {
         "title": {
          "text": "Property"
         },
         "tracegroupgap": 0
        },
        "showlegend": false,
        "template": {
         "data": {
          "bar": [
           {
            "error_x": {
             "color": "#2a3f5f"
            },
            "error_y": {
             "color": "#2a3f5f"
            },
            "marker": {
             "line": {
              "color": "#E5ECF6",
              "width": 0.5
             },
             "pattern": {
              "fillmode": "overlay",
              "size": 10,
              "solidity": 0.2
             }
            },
            "type": "bar"
           }
          ],
          "barpolar": [
           {
            "marker": {
             "line": {
              "color": "#E5ECF6",
              "width": 0.5
             },
             "pattern": {
              "fillmode": "overlay",
              "size": 10,
              "solidity": 0.2
             }
            },
            "type": "barpolar"
           }
          ],
          "carpet": [
           {
            "aaxis": {
             "endlinecolor": "#2a3f5f",
             "gridcolor": "white",
             "linecolor": "white",
             "minorgridcolor": "white",
             "startlinecolor": "#2a3f5f"
            },
            "baxis": {
             "endlinecolor": "#2a3f5f",
             "gridcolor": "white",
             "linecolor": "white",
             "minorgridcolor": "white",
             "startlinecolor": "#2a3f5f"
            },
            "type": "carpet"
           }
          ],
          "choropleth": [
           {
            "colorbar": {
             "outlinewidth": 0,
             "ticks": ""
            },
            "type": "choropleth"
           }
          ],
          "contour": [
           {
            "colorbar": {
             "outlinewidth": 0,
             "ticks": ""
            },
            "colorscale": [
             [
              0,
              "#0d0887"
             ],
             [
              0.1111111111111111,
              "#46039f"
             ],
             [
              0.2222222222222222,
              "#7201a8"
             ],
             [
              0.3333333333333333,
              "#9c179e"
             ],
             [
              0.4444444444444444,
              "#bd3786"
             ],
             [
              0.5555555555555556,
              "#d8576b"
             ],
             [
              0.6666666666666666,
              "#ed7953"
             ],
             [
              0.7777777777777778,
              "#fb9f3a"
             ],
             [
              0.8888888888888888,
              "#fdca26"
             ],
             [
              1,
              "#f0f921"
             ]
            ],
            "type": "contour"
           }
          ],
          "contourcarpet": [
           {
            "colorbar": {
             "outlinewidth": 0,
             "ticks": ""
            },
            "type": "contourcarpet"
           }
          ],
          "heatmap": [
           {
            "colorbar": {
             "outlinewidth": 0,
             "ticks": ""
            },
            "colorscale": [
             [
              0,
              "#0d0887"
             ],
             [
              0.1111111111111111,
              "#46039f"
             ],
             [
              0.2222222222222222,
              "#7201a8"
             ],
             [
              0.3333333333333333,
              "#9c179e"
             ],
             [
              0.4444444444444444,
              "#bd3786"
             ],
             [
              0.5555555555555556,
              "#d8576b"
             ],
             [
              0.6666666666666666,
              "#ed7953"
             ],
             [
              0.7777777777777778,
              "#fb9f3a"
             ],
             [
              0.8888888888888888,
              "#fdca26"
             ],
             [
              1,
              "#f0f921"
             ]
            ],
            "type": "heatmap"
           }
          ],
          "heatmapgl": [
           {
            "colorbar": {
             "outlinewidth": 0,
             "ticks": ""
            },
            "colorscale": [
             [
              0,
              "#0d0887"
             ],
             [
              0.1111111111111111,
              "#46039f"
             ],
             [
              0.2222222222222222,
              "#7201a8"
             ],
             [
              0.3333333333333333,
              "#9c179e"
             ],
             [
              0.4444444444444444,
              "#bd3786"
             ],
             [
              0.5555555555555556,
              "#d8576b"
             ],
             [
              0.6666666666666666,
              "#ed7953"
             ],
             [
              0.7777777777777778,
              "#fb9f3a"
             ],
             [
              0.8888888888888888,
              "#fdca26"
             ],
             [
              1,
              "#f0f921"
             ]
            ],
            "type": "heatmapgl"
           }
          ],
          "histogram": [
           {
            "marker": {
             "pattern": {
              "fillmode": "overlay",
              "size": 10,
              "solidity": 0.2
             }
            },
            "type": "histogram"
           }
          ],
          "histogram2d": [
           {
            "colorbar": {
             "outlinewidth": 0,
             "ticks": ""
            },
            "colorscale": [
             [
              0,
              "#0d0887"
             ],
             [
              0.1111111111111111,
              "#46039f"
             ],
             [
              0.2222222222222222,
              "#7201a8"
             ],
             [
              0.3333333333333333,
              "#9c179e"
             ],
             [
              0.4444444444444444,
              "#bd3786"
             ],
             [
              0.5555555555555556,
              "#d8576b"
             ],
             [
              0.6666666666666666,
              "#ed7953"
             ],
             [
              0.7777777777777778,
              "#fb9f3a"
             ],
             [
              0.8888888888888888,
              "#fdca26"
             ],
             [
              1,
              "#f0f921"
             ]
            ],
            "type": "histogram2d"
           }
          ],
          "histogram2dcontour": [
           {
            "colorbar": {
             "outlinewidth": 0,
             "ticks": ""
            },
            "colorscale": [
             [
              0,
              "#0d0887"
             ],
             [
              0.1111111111111111,
              "#46039f"
             ],
             [
              0.2222222222222222,
              "#7201a8"
             ],
             [
              0.3333333333333333,
              "#9c179e"
             ],
             [
              0.4444444444444444,
              "#bd3786"
             ],
             [
              0.5555555555555556,
              "#d8576b"
             ],
             [
              0.6666666666666666,
              "#ed7953"
             ],
             [
              0.7777777777777778,
              "#fb9f3a"
             ],
             [
              0.8888888888888888,
              "#fdca26"
             ],
             [
              1,
              "#f0f921"
             ]
            ],
            "type": "histogram2dcontour"
           }
          ],
          "mesh3d": [
           {
            "colorbar": {
             "outlinewidth": 0,
             "ticks": ""
            },
            "type": "mesh3d"
           }
          ],
          "parcoords": [
           {
            "line": {
             "colorbar": {
              "outlinewidth": 0,
              "ticks": ""
             }
            },
            "type": "parcoords"
           }
          ],
          "pie": [
           {
            "automargin": true,
            "type": "pie"
           }
          ],
          "scatter": [
           {
            "fillpattern": {
             "fillmode": "overlay",
             "size": 10,
             "solidity": 0.2
            },
            "type": "scatter"
           }
          ],
          "scatter3d": [
           {
            "line": {
             "colorbar": {
              "outlinewidth": 0,
              "ticks": ""
             }
            },
            "marker": {
             "colorbar": {
              "outlinewidth": 0,
              "ticks": ""
             }
            },
            "type": "scatter3d"
           }
          ],
          "scattercarpet": [
           {
            "marker": {
             "colorbar": {
              "outlinewidth": 0,
              "ticks": ""
             }
            },
            "type": "scattercarpet"
           }
          ],
          "scattergeo": [
           {
            "marker": {
             "colorbar": {
              "outlinewidth": 0,
              "ticks": ""
             }
            },
            "type": "scattergeo"
           }
          ],
          "scattergl": [
           {
            "marker": {
             "colorbar": {
              "outlinewidth": 0,
              "ticks": ""
             }
            },
            "type": "scattergl"
           }
          ],
          "scattermapbox": [
           {
            "marker": {
             "colorbar": {
              "outlinewidth": 0,
              "ticks": ""
             }
            },
            "type": "scattermapbox"
           }
          ],
          "scatterpolar": [
           {
            "marker": {
             "colorbar": {
              "outlinewidth": 0,
              "ticks": ""
             }
            },
            "type": "scatterpolar"
           }
          ],
          "scatterpolargl": [
           {
            "marker": {
             "colorbar": {
              "outlinewidth": 0,
              "ticks": ""
             }
            },
            "type": "scatterpolargl"
           }
          ],
          "scatterternary": [
           {
            "marker": {
             "colorbar": {
              "outlinewidth": 0,
              "ticks": ""
             }
            },
            "type": "scatterternary"
           }
          ],
          "surface": [
           {
            "colorbar": {
             "outlinewidth": 0,
             "ticks": ""
            },
            "colorscale": [
             [
              0,
              "#0d0887"
             ],
             [
              0.1111111111111111,
              "#46039f"
             ],
             [
              0.2222222222222222,
              "#7201a8"
             ],
             [
              0.3333333333333333,
              "#9c179e"
             ],
             [
              0.4444444444444444,
              "#bd3786"
             ],
             [
              0.5555555555555556,
              "#d8576b"
             ],
             [
              0.6666666666666666,
              "#ed7953"
             ],
             [
              0.7777777777777778,
              "#fb9f3a"
             ],
             [
              0.8888888888888888,
              "#fdca26"
             ],
             [
              1,
              "#f0f921"
             ]
            ],
            "type": "surface"
           }
          ],
          "table": [
           {
            "cells": {
             "fill": {
              "color": "#EBF0F8"
             },
             "line": {
              "color": "white"
             }
            },
            "header": {
             "fill": {
              "color": "#C8D4E3"
             },
             "line": {
              "color": "white"
             }
            },
            "type": "table"
           }
          ]
         },
         "layout": {
          "annotationdefaults": {
           "arrowcolor": "#2a3f5f",
           "arrowhead": 0,
           "arrowwidth": 1
          },
          "autotypenumbers": "strict",
          "coloraxis": {
           "colorbar": {
            "outlinewidth": 0,
            "ticks": ""
           }
          },
          "colorscale": {
           "diverging": [
            [
             0,
             "#8e0152"
            ],
            [
             0.1,
             "#c51b7d"
            ],
            [
             0.2,
             "#de77ae"
            ],
            [
             0.3,
             "#f1b6da"
            ],
            [
             0.4,
             "#fde0ef"
            ],
            [
             0.5,
             "#f7f7f7"
            ],
            [
             0.6,
             "#e6f5d0"
            ],
            [
             0.7,
             "#b8e186"
            ],
            [
             0.8,
             "#7fbc41"
            ],
            [
             0.9,
             "#4d9221"
            ],
            [
             1,
             "#276419"
            ]
           ],
           "sequential": [
            [
             0,
             "#0d0887"
            ],
            [
             0.1111111111111111,
             "#46039f"
            ],
            [
             0.2222222222222222,
             "#7201a8"
            ],
            [
             0.3333333333333333,
             "#9c179e"
            ],
            [
             0.4444444444444444,
             "#bd3786"
            ],
            [
             0.5555555555555556,
             "#d8576b"
            ],
            [
             0.6666666666666666,
             "#ed7953"
            ],
            [
             0.7777777777777778,
             "#fb9f3a"
            ],
            [
             0.8888888888888888,
             "#fdca26"
            ],
            [
             1,
             "#f0f921"
            ]
           ],
           "sequentialminus": [
            [
             0,
             "#0d0887"
            ],
            [
             0.1111111111111111,
             "#46039f"
            ],
            [
             0.2222222222222222,
             "#7201a8"
            ],
            [
             0.3333333333333333,
             "#9c179e"
            ],
            [
             0.4444444444444444,
             "#bd3786"
            ],
            [
             0.5555555555555556,
             "#d8576b"
            ],
            [
             0.6666666666666666,
             "#ed7953"
            ],
            [
             0.7777777777777778,
             "#fb9f3a"
            ],
            [
             0.8888888888888888,
             "#fdca26"
            ],
            [
             1,
             "#f0f921"
            ]
           ]
          },
          "colorway": [
           "#636efa",
           "#EF553B",
           "#00cc96",
           "#ab63fa",
           "#FFA15A",
           "#19d3f3",
           "#FF6692",
           "#B6E880",
           "#FF97FF",
           "#FECB52"
          ],
          "font": {
           "color": "#2a3f5f"
          },
          "geo": {
           "bgcolor": "white",
           "lakecolor": "white",
           "landcolor": "#E5ECF6",
           "showlakes": true,
           "showland": true,
           "subunitcolor": "white"
          },
          "hoverlabel": {
           "align": "left"
          },
          "hovermode": "closest",
          "mapbox": {
           "style": "light"
          },
          "paper_bgcolor": "white",
          "plot_bgcolor": "#E5ECF6",
          "polar": {
           "angularaxis": {
            "gridcolor": "white",
            "linecolor": "white",
            "ticks": ""
           },
           "bgcolor": "#E5ECF6",
           "radialaxis": {
            "gridcolor": "white",
            "linecolor": "white",
            "ticks": ""
           }
          },
          "scene": {
           "xaxis": {
            "backgroundcolor": "#E5ECF6",
            "gridcolor": "white",
            "gridwidth": 2,
            "linecolor": "white",
            "showbackground": true,
            "ticks": "",
            "zerolinecolor": "white"
           },
           "yaxis": {
            "backgroundcolor": "#E5ECF6",
            "gridcolor": "white",
            "gridwidth": 2,
            "linecolor": "white",
            "showbackground": true,
            "ticks": "",
            "zerolinecolor": "white"
           },
           "zaxis": {
            "backgroundcolor": "#E5ECF6",
            "gridcolor": "white",
            "gridwidth": 2,
            "linecolor": "white",
            "showbackground": true,
            "ticks": "",
            "zerolinecolor": "white"
           }
          },
          "shapedefaults": {
           "line": {
            "color": "#2a3f5f"
           }
          },
          "ternary": {
           "aaxis": {
            "gridcolor": "white",
            "linecolor": "white",
            "ticks": ""
           },
           "baxis": {
            "gridcolor": "white",
            "linecolor": "white",
            "ticks": ""
           },
           "bgcolor": "#E5ECF6",
           "caxis": {
            "gridcolor": "white",
            "linecolor": "white",
            "ticks": ""
           }
          },
          "title": {
           "x": 0.05
          },
          "xaxis": {
           "automargin": true,
           "gridcolor": "white",
           "linecolor": "white",
           "ticks": "",
           "title": {
            "standoff": 15
           },
           "zerolinecolor": "white",
           "zerolinewidth": 2
          },
          "yaxis": {
           "automargin": true,
           "gridcolor": "white",
           "linecolor": "white",
           "ticks": "",
           "title": {
            "standoff": 15
           },
           "zerolinecolor": "white",
           "zerolinewidth": 2
          }
         }
        },
        "title": {
         "text": "Monopoly Board Purchase Price Against Expected Number of Gos to Payoff Purchase Price with Rent 4 Houses"
        },
        "xaxis": {
         "anchor": "y",
         "domain": [
          0,
          1
         ],
         "title": {
          "text": "Purchase Price"
         }
        },
        "yaxis": {
         "anchor": "x",
         "domain": [
          0,
          1
         ],
         "title": {
          "text": "Payoff Rent 4 Houses"
         }
        }
       }
      }
     },
     "metadata": {},
     "output_type": "display_data"
    },
    {
     "data": {
      "application/vnd.plotly.v1+json": {
       "config": {
        "plotlyServerURL": "https://plot.ly"
       },
       "data": [
        {
         "hovertemplate": "Property=Old Kent Road<br>Purchase Price=%{x}<br>Payoff Rent Hotel=%{y}<extra></extra>",
         "legendgroup": "Old Kent Road",
         "marker": {
          "color": "brown",
          "size": 15,
          "symbol": "circle"
         },
         "mode": "markers",
         "name": "Old Kent Road",
         "orientation": "v",
         "showlegend": true,
         "type": "scatter",
         "x": [
          60
         ],
         "xaxis": "x",
         "y": [
          67.02165545481135
         ],
         "yaxis": "y"
        },
        {
         "hovertemplate": "Property=Whitechapel Road<br>Purchase Price=%{x}<br>Payoff Rent Hotel=%{y}<extra></extra>",
         "legendgroup": "Whitechapel Road",
         "marker": {
          "color": "brown",
          "size": 15,
          "symbol": "circle"
         },
         "mode": "markers",
         "name": "Whitechapel Road",
         "orientation": "v",
         "showlegend": true,
         "type": "scatter",
         "x": [
          80
         ],
         "xaxis": "x",
         "y": [
          35.79898736406463
         ],
         "yaxis": "y"
        },
        {
         "hovertemplate": "Property=The Angel, Islington<br>Purchase Price=%{x}<br>Payoff Rent Hotel=%{y}<extra></extra>",
         "legendgroup": "The Angel, Islington",
         "marker": {
          "color": "lightblue",
          "size": 15,
          "symbol": "circle"
         },
         "mode": "markers",
         "name": "The Angel, Islington",
         "orientation": "v",
         "showlegend": true,
         "type": "scatter",
         "x": [
          100
         ],
         "xaxis": "x",
         "y": [
          26.845669340361727
         ],
         "yaxis": "y"
        },
        {
         "hovertemplate": "Property=Euston Road<br>Purchase Price=%{x}<br>Payoff Rent Hotel=%{y}<extra></extra>",
         "legendgroup": "Euston Road",
         "marker": {
          "color": "lightblue",
          "size": 15,
          "symbol": "circle"
         },
         "mode": "markers",
         "name": "Euston Road",
         "orientation": "v",
         "showlegend": true,
         "type": "scatter",
         "x": [
          100
         ],
         "xaxis": "x",
         "y": [
          26.6449426861798
         ],
         "yaxis": "y"
        },
        {
         "hovertemplate": "Property=Pentonville Road<br>Purchase Price=%{x}<br>Payoff Rent Hotel=%{y}<extra></extra>",
         "legendgroup": "Pentonville Road",
         "marker": {
          "color": "lightblue",
          "size": 15,
          "symbol": "circle"
         },
         "mode": "markers",
         "name": "Pentonville Road",
         "orientation": "v",
         "showlegend": true,
         "type": "scatter",
         "x": [
          120
         ],
         "xaxis": "x",
         "y": [
          26.176072891543203
         ],
         "yaxis": "y"
        },
        {
         "hovertemplate": "Property=Pall Mall<br>Purchase Price=%{x}<br>Payoff Rent Hotel=%{y}<extra></extra>",
         "legendgroup": "Pall Mall",
         "marker": {
          "color": "pink",
          "size": 15,
          "symbol": "circle"
         },
         "mode": "markers",
         "name": "Pall Mall",
         "orientation": "v",
         "showlegend": true,
         "type": "scatter",
         "x": [
          140
         ],
         "xaxis": "x",
         "y": [
          31.419124659626753
         ],
         "yaxis": "y"
        },
        {
         "hovertemplate": "Property=Whitehall<br>Purchase Price=%{x}<br>Payoff Rent Hotel=%{y}<extra></extra>",
         "legendgroup": "Whitehall",
         "marker": {
          "color": "pink",
          "size": 15,
          "symbol": "circle"
         },
         "mode": "markers",
         "name": "Whitehall",
         "orientation": "v",
         "showlegend": true,
         "type": "scatter",
         "x": [
          140
         ],
         "xaxis": "x",
         "y": [
          37.75711401093419
         ],
         "yaxis": "y"
        },
        {
         "hovertemplate": "Property=Northumberland Avenue<br>Purchase Price=%{x}<br>Payoff Rent Hotel=%{y}<extra></extra>",
         "legendgroup": "Northumberland Avenue",
         "marker": {
          "color": "pink",
          "size": 15,
          "symbol": "circle"
         },
         "mode": "markers",
         "name": "Northumberland Avenue",
         "orientation": "v",
         "showlegend": true,
         "type": "scatter",
         "x": [
          160
         ],
         "xaxis": "x",
         "y": [
          31.081896024464836
         ],
         "yaxis": "y"
        },
        {
         "hovertemplate": "Property=Bow Street<br>Purchase Price=%{x}<br>Payoff Rent Hotel=%{y}<extra></extra>",
         "legendgroup": "Bow Street",
         "marker": {
          "color": "orange",
          "size": 15,
          "symbol": "circle"
         },
         "mode": "markers",
         "name": "Bow Street",
         "orientation": "v",
         "showlegend": true,
         "type": "scatter",
         "x": [
          180
         ],
         "xaxis": "x",
         "y": [
          27.374799581735797
         ],
         "yaxis": "y"
        },
        {
         "hovertemplate": "Property=Marlborough Street<br>Purchase Price=%{x}<br>Payoff Rent Hotel=%{y}<extra></extra>",
         "legendgroup": "Marlborough Street",
         "marker": {
          "color": "orange",
          "size": 15,
          "symbol": "circle"
         },
         "mode": "markers",
         "name": "Marlborough Street",
         "orientation": "v",
         "showlegend": true,
         "type": "scatter",
         "x": [
          180
         ],
         "xaxis": "x",
         "y": [
          26.120661844183918
         ],
         "yaxis": "y"
        },
        {
         "hovertemplate": "Property=Vine Street<br>Purchase Price=%{x}<br>Payoff Rent Hotel=%{y}<extra></extra>",
         "legendgroup": "Vine Street",
         "marker": {
          "color": "orange",
          "size": 15,
          "symbol": "circle"
         },
         "mode": "markers",
         "name": "Vine Street",
         "orientation": "v",
         "showlegend": true,
         "type": "scatter",
         "x": [
          200
         ],
         "xaxis": "x",
         "y": [
          24.688844355377423
         ],
         "yaxis": "y"
        },
        {
         "hovertemplate": "Property=Strand<br>Purchase Price=%{x}<br>Payoff Rent Hotel=%{y}<extra></extra>",
         "legendgroup": "Strand",
         "marker": {
          "color": "red",
          "size": 15,
          "symbol": "circle"
         },
         "mode": "markers",
         "name": "Strand",
         "orientation": "v",
         "showlegend": true,
         "type": "scatter",
         "x": [
          220
         ],
         "xaxis": "x",
         "y": [
          35.90248259976966
         ],
         "yaxis": "y"
        },
        {
         "hovertemplate": "Property=Fleet Street<br>Purchase Price=%{x}<br>Payoff Rent Hotel=%{y}<extra></extra>",
         "legendgroup": "Fleet Street",
         "marker": {
          "color": "red",
          "size": 15,
          "symbol": "circle"
         },
         "mode": "markers",
         "name": "Fleet Street",
         "orientation": "v",
         "showlegend": true,
         "type": "scatter",
         "x": [
          220
         ],
         "xaxis": "x",
         "y": [
          36.87973747286774
         ],
         "yaxis": "y"
        },
        {
         "hovertemplate": "Property=Trafalgar Square<br>Purchase Price=%{x}<br>Payoff Rent Hotel=%{y}<extra></extra>",
         "legendgroup": "Trafalgar Square",
         "marker": {
          "color": "red",
          "size": 15,
          "symbol": "circle"
         },
         "mode": "markers",
         "name": "Trafalgar Square",
         "orientation": "v",
         "showlegend": true,
         "type": "scatter",
         "x": [
          240
         ],
         "xaxis": "x",
         "y": [
          30.242094735885082
         ],
         "yaxis": "y"
        },
        {
         "hovertemplate": "Property=Leicester Square<br>Purchase Price=%{x}<br>Payoff Rent Hotel=%{y}<extra></extra>",
         "legendgroup": "Leicester Square",
         "marker": {
          "color": "yellow",
          "size": 15,
          "symbol": "circle"
         },
         "mode": "markers",
         "name": "Leicester Square",
         "orientation": "v",
         "showlegend": true,
         "type": "scatter",
         "x": [
          260
         ],
         "xaxis": "x",
         "y": [
          35.74476283496838
         ],
         "yaxis": "y"
        },
        {
         "hovertemplate": "Property=Coventry Street<br>Purchase Price=%{x}<br>Payoff Rent Hotel=%{y}<extra></extra>",
         "legendgroup": "Coventry Street",
         "marker": {
          "color": "yellow",
          "size": 15,
          "symbol": "circle"
         },
         "mode": "markers",
         "name": "Coventry Street",
         "orientation": "v",
         "showlegend": true,
         "type": "scatter",
         "x": [
          260
         ],
         "xaxis": "x",
         "y": [
          36.134720171918936
         ],
         "yaxis": "y"
        },
        {
         "hovertemplate": "Property=Piccadilly<br>Purchase Price=%{x}<br>Payoff Rent Hotel=%{y}<extra></extra>",
         "legendgroup": "Piccadilly",
         "marker": {
          "color": "yellow",
          "size": 15,
          "symbol": "circle"
         },
         "mode": "markers",
         "name": "Piccadilly",
         "orientation": "v",
         "showlegend": true,
         "type": "scatter",
         "x": [
          280
         ],
         "xaxis": "x",
         "y": [
          36.66587301587302
         ],
         "yaxis": "y"
        },
        {
         "hovertemplate": "Property=Regent Street<br>Purchase Price=%{x}<br>Payoff Rent Hotel=%{y}<extra></extra>",
         "legendgroup": "Regent Street",
         "marker": {
          "color": "green",
          "size": 15,
          "symbol": "circle"
         },
         "mode": "markers",
         "name": "Regent Street",
         "orientation": "v",
         "showlegend": true,
         "type": "scatter",
         "x": [
          300
         ],
         "xaxis": "x",
         "y": [
          42.55662359805582
         ],
         "yaxis": "y"
        },
        {
         "hovertemplate": "Property=Oxford Street<br>Purchase Price=%{x}<br>Payoff Rent Hotel=%{y}<extra></extra>",
         "legendgroup": "Oxford Street",
         "marker": {
          "color": "green",
          "size": 15,
          "symbol": "circle"
         },
         "mode": "markers",
         "name": "Oxford Street",
         "orientation": "v",
         "showlegend": true,
         "type": "scatter",
         "x": [
          300
         ],
         "xaxis": "x",
         "y": [
          43.14125952613444
         ],
         "yaxis": "y"
        },
        {
         "hovertemplate": "Property=Bond Street<br>Purchase Price=%{x}<br>Payoff Rent Hotel=%{y}<extra></extra>",
         "legendgroup": "Bond Street",
         "marker": {
          "color": "green",
          "size": 15,
          "symbol": "circle"
         },
         "mode": "markers",
         "name": "Bond Street",
         "orientation": "v",
         "showlegend": true,
         "type": "scatter",
         "x": [
          320
         ],
         "xaxis": "x",
         "y": [
          42.600544882989865
         ],
         "yaxis": "y"
        },
        {
         "hovertemplate": "Property=Park Lane<br>Purchase Price=%{x}<br>Payoff Rent Hotel=%{y}<extra></extra>",
         "legendgroup": "Park Lane",
         "marker": {
          "color": "darkblue",
          "size": 15,
          "symbol": "circle"
         },
         "mode": "markers",
         "name": "Park Lane",
         "orientation": "v",
         "showlegend": true,
         "type": "scatter",
         "x": [
          350
         ],
         "xaxis": "x",
         "y": [
          47.282558635394466
         ],
         "yaxis": "y"
        },
        {
         "hovertemplate": "Property=Mayfair<br>Purchase Price=%{x}<br>Payoff Rent Hotel=%{y}<extra></extra>",
         "legendgroup": "Mayfair",
         "marker": {
          "color": "darkblue",
          "size": 15,
          "symbol": "circle"
         },
         "mode": "markers",
         "name": "Mayfair",
         "orientation": "v",
         "showlegend": true,
         "type": "scatter",
         "x": [
          400
         ],
         "xaxis": "x",
         "y": [
          30.262533629664293
         ],
         "yaxis": "y"
        }
       ],
       "layout": {
        "legend": {
         "title": {
          "text": "Property"
         },
         "tracegroupgap": 0
        },
        "showlegend": false,
        "template": {
         "data": {
          "bar": [
           {
            "error_x": {
             "color": "#2a3f5f"
            },
            "error_y": {
             "color": "#2a3f5f"
            },
            "marker": {
             "line": {
              "color": "#E5ECF6",
              "width": 0.5
             },
             "pattern": {
              "fillmode": "overlay",
              "size": 10,
              "solidity": 0.2
             }
            },
            "type": "bar"
           }
          ],
          "barpolar": [
           {
            "marker": {
             "line": {
              "color": "#E5ECF6",
              "width": 0.5
             },
             "pattern": {
              "fillmode": "overlay",
              "size": 10,
              "solidity": 0.2
             }
            },
            "type": "barpolar"
           }
          ],
          "carpet": [
           {
            "aaxis": {
             "endlinecolor": "#2a3f5f",
             "gridcolor": "white",
             "linecolor": "white",
             "minorgridcolor": "white",
             "startlinecolor": "#2a3f5f"
            },
            "baxis": {
             "endlinecolor": "#2a3f5f",
             "gridcolor": "white",
             "linecolor": "white",
             "minorgridcolor": "white",
             "startlinecolor": "#2a3f5f"
            },
            "type": "carpet"
           }
          ],
          "choropleth": [
           {
            "colorbar": {
             "outlinewidth": 0,
             "ticks": ""
            },
            "type": "choropleth"
           }
          ],
          "contour": [
           {
            "colorbar": {
             "outlinewidth": 0,
             "ticks": ""
            },
            "colorscale": [
             [
              0,
              "#0d0887"
             ],
             [
              0.1111111111111111,
              "#46039f"
             ],
             [
              0.2222222222222222,
              "#7201a8"
             ],
             [
              0.3333333333333333,
              "#9c179e"
             ],
             [
              0.4444444444444444,
              "#bd3786"
             ],
             [
              0.5555555555555556,
              "#d8576b"
             ],
             [
              0.6666666666666666,
              "#ed7953"
             ],
             [
              0.7777777777777778,
              "#fb9f3a"
             ],
             [
              0.8888888888888888,
              "#fdca26"
             ],
             [
              1,
              "#f0f921"
             ]
            ],
            "type": "contour"
           }
          ],
          "contourcarpet": [
           {
            "colorbar": {
             "outlinewidth": 0,
             "ticks": ""
            },
            "type": "contourcarpet"
           }
          ],
          "heatmap": [
           {
            "colorbar": {
             "outlinewidth": 0,
             "ticks": ""
            },
            "colorscale": [
             [
              0,
              "#0d0887"
             ],
             [
              0.1111111111111111,
              "#46039f"
             ],
             [
              0.2222222222222222,
              "#7201a8"
             ],
             [
              0.3333333333333333,
              "#9c179e"
             ],
             [
              0.4444444444444444,
              "#bd3786"
             ],
             [
              0.5555555555555556,
              "#d8576b"
             ],
             [
              0.6666666666666666,
              "#ed7953"
             ],
             [
              0.7777777777777778,
              "#fb9f3a"
             ],
             [
              0.8888888888888888,
              "#fdca26"
             ],
             [
              1,
              "#f0f921"
             ]
            ],
            "type": "heatmap"
           }
          ],
          "heatmapgl": [
           {
            "colorbar": {
             "outlinewidth": 0,
             "ticks": ""
            },
            "colorscale": [
             [
              0,
              "#0d0887"
             ],
             [
              0.1111111111111111,
              "#46039f"
             ],
             [
              0.2222222222222222,
              "#7201a8"
             ],
             [
              0.3333333333333333,
              "#9c179e"
             ],
             [
              0.4444444444444444,
              "#bd3786"
             ],
             [
              0.5555555555555556,
              "#d8576b"
             ],
             [
              0.6666666666666666,
              "#ed7953"
             ],
             [
              0.7777777777777778,
              "#fb9f3a"
             ],
             [
              0.8888888888888888,
              "#fdca26"
             ],
             [
              1,
              "#f0f921"
             ]
            ],
            "type": "heatmapgl"
           }
          ],
          "histogram": [
           {
            "marker": {
             "pattern": {
              "fillmode": "overlay",
              "size": 10,
              "solidity": 0.2
             }
            },
            "type": "histogram"
           }
          ],
          "histogram2d": [
           {
            "colorbar": {
             "outlinewidth": 0,
             "ticks": ""
            },
            "colorscale": [
             [
              0,
              "#0d0887"
             ],
             [
              0.1111111111111111,
              "#46039f"
             ],
             [
              0.2222222222222222,
              "#7201a8"
             ],
             [
              0.3333333333333333,
              "#9c179e"
             ],
             [
              0.4444444444444444,
              "#bd3786"
             ],
             [
              0.5555555555555556,
              "#d8576b"
             ],
             [
              0.6666666666666666,
              "#ed7953"
             ],
             [
              0.7777777777777778,
              "#fb9f3a"
             ],
             [
              0.8888888888888888,
              "#fdca26"
             ],
             [
              1,
              "#f0f921"
             ]
            ],
            "type": "histogram2d"
           }
          ],
          "histogram2dcontour": [
           {
            "colorbar": {
             "outlinewidth": 0,
             "ticks": ""
            },
            "colorscale": [
             [
              0,
              "#0d0887"
             ],
             [
              0.1111111111111111,
              "#46039f"
             ],
             [
              0.2222222222222222,
              "#7201a8"
             ],
             [
              0.3333333333333333,
              "#9c179e"
             ],
             [
              0.4444444444444444,
              "#bd3786"
             ],
             [
              0.5555555555555556,
              "#d8576b"
             ],
             [
              0.6666666666666666,
              "#ed7953"
             ],
             [
              0.7777777777777778,
              "#fb9f3a"
             ],
             [
              0.8888888888888888,
              "#fdca26"
             ],
             [
              1,
              "#f0f921"
             ]
            ],
            "type": "histogram2dcontour"
           }
          ],
          "mesh3d": [
           {
            "colorbar": {
             "outlinewidth": 0,
             "ticks": ""
            },
            "type": "mesh3d"
           }
          ],
          "parcoords": [
           {
            "line": {
             "colorbar": {
              "outlinewidth": 0,
              "ticks": ""
             }
            },
            "type": "parcoords"
           }
          ],
          "pie": [
           {
            "automargin": true,
            "type": "pie"
           }
          ],
          "scatter": [
           {
            "fillpattern": {
             "fillmode": "overlay",
             "size": 10,
             "solidity": 0.2
            },
            "type": "scatter"
           }
          ],
          "scatter3d": [
           {
            "line": {
             "colorbar": {
              "outlinewidth": 0,
              "ticks": ""
             }
            },
            "marker": {
             "colorbar": {
              "outlinewidth": 0,
              "ticks": ""
             }
            },
            "type": "scatter3d"
           }
          ],
          "scattercarpet": [
           {
            "marker": {
             "colorbar": {
              "outlinewidth": 0,
              "ticks": ""
             }
            },
            "type": "scattercarpet"
           }
          ],
          "scattergeo": [
           {
            "marker": {
             "colorbar": {
              "outlinewidth": 0,
              "ticks": ""
             }
            },
            "type": "scattergeo"
           }
          ],
          "scattergl": [
           {
            "marker": {
             "colorbar": {
              "outlinewidth": 0,
              "ticks": ""
             }
            },
            "type": "scattergl"
           }
          ],
          "scattermapbox": [
           {
            "marker": {
             "colorbar": {
              "outlinewidth": 0,
              "ticks": ""
             }
            },
            "type": "scattermapbox"
           }
          ],
          "scatterpolar": [
           {
            "marker": {
             "colorbar": {
              "outlinewidth": 0,
              "ticks": ""
             }
            },
            "type": "scatterpolar"
           }
          ],
          "scatterpolargl": [
           {
            "marker": {
             "colorbar": {
              "outlinewidth": 0,
              "ticks": ""
             }
            },
            "type": "scatterpolargl"
           }
          ],
          "scatterternary": [
           {
            "marker": {
             "colorbar": {
              "outlinewidth": 0,
              "ticks": ""
             }
            },
            "type": "scatterternary"
           }
          ],
          "surface": [
           {
            "colorbar": {
             "outlinewidth": 0,
             "ticks": ""
            },
            "colorscale": [
             [
              0,
              "#0d0887"
             ],
             [
              0.1111111111111111,
              "#46039f"
             ],
             [
              0.2222222222222222,
              "#7201a8"
             ],
             [
              0.3333333333333333,
              "#9c179e"
             ],
             [
              0.4444444444444444,
              "#bd3786"
             ],
             [
              0.5555555555555556,
              "#d8576b"
             ],
             [
              0.6666666666666666,
              "#ed7953"
             ],
             [
              0.7777777777777778,
              "#fb9f3a"
             ],
             [
              0.8888888888888888,
              "#fdca26"
             ],
             [
              1,
              "#f0f921"
             ]
            ],
            "type": "surface"
           }
          ],
          "table": [
           {
            "cells": {
             "fill": {
              "color": "#EBF0F8"
             },
             "line": {
              "color": "white"
             }
            },
            "header": {
             "fill": {
              "color": "#C8D4E3"
             },
             "line": {
              "color": "white"
             }
            },
            "type": "table"
           }
          ]
         },
         "layout": {
          "annotationdefaults": {
           "arrowcolor": "#2a3f5f",
           "arrowhead": 0,
           "arrowwidth": 1
          },
          "autotypenumbers": "strict",
          "coloraxis": {
           "colorbar": {
            "outlinewidth": 0,
            "ticks": ""
           }
          },
          "colorscale": {
           "diverging": [
            [
             0,
             "#8e0152"
            ],
            [
             0.1,
             "#c51b7d"
            ],
            [
             0.2,
             "#de77ae"
            ],
            [
             0.3,
             "#f1b6da"
            ],
            [
             0.4,
             "#fde0ef"
            ],
            [
             0.5,
             "#f7f7f7"
            ],
            [
             0.6,
             "#e6f5d0"
            ],
            [
             0.7,
             "#b8e186"
            ],
            [
             0.8,
             "#7fbc41"
            ],
            [
             0.9,
             "#4d9221"
            ],
            [
             1,
             "#276419"
            ]
           ],
           "sequential": [
            [
             0,
             "#0d0887"
            ],
            [
             0.1111111111111111,
             "#46039f"
            ],
            [
             0.2222222222222222,
             "#7201a8"
            ],
            [
             0.3333333333333333,
             "#9c179e"
            ],
            [
             0.4444444444444444,
             "#bd3786"
            ],
            [
             0.5555555555555556,
             "#d8576b"
            ],
            [
             0.6666666666666666,
             "#ed7953"
            ],
            [
             0.7777777777777778,
             "#fb9f3a"
            ],
            [
             0.8888888888888888,
             "#fdca26"
            ],
            [
             1,
             "#f0f921"
            ]
           ],
           "sequentialminus": [
            [
             0,
             "#0d0887"
            ],
            [
             0.1111111111111111,
             "#46039f"
            ],
            [
             0.2222222222222222,
             "#7201a8"
            ],
            [
             0.3333333333333333,
             "#9c179e"
            ],
            [
             0.4444444444444444,
             "#bd3786"
            ],
            [
             0.5555555555555556,
             "#d8576b"
            ],
            [
             0.6666666666666666,
             "#ed7953"
            ],
            [
             0.7777777777777778,
             "#fb9f3a"
            ],
            [
             0.8888888888888888,
             "#fdca26"
            ],
            [
             1,
             "#f0f921"
            ]
           ]
          },
          "colorway": [
           "#636efa",
           "#EF553B",
           "#00cc96",
           "#ab63fa",
           "#FFA15A",
           "#19d3f3",
           "#FF6692",
           "#B6E880",
           "#FF97FF",
           "#FECB52"
          ],
          "font": {
           "color": "#2a3f5f"
          },
          "geo": {
           "bgcolor": "white",
           "lakecolor": "white",
           "landcolor": "#E5ECF6",
           "showlakes": true,
           "showland": true,
           "subunitcolor": "white"
          },
          "hoverlabel": {
           "align": "left"
          },
          "hovermode": "closest",
          "mapbox": {
           "style": "light"
          },
          "paper_bgcolor": "white",
          "plot_bgcolor": "#E5ECF6",
          "polar": {
           "angularaxis": {
            "gridcolor": "white",
            "linecolor": "white",
            "ticks": ""
           },
           "bgcolor": "#E5ECF6",
           "radialaxis": {
            "gridcolor": "white",
            "linecolor": "white",
            "ticks": ""
           }
          },
          "scene": {
           "xaxis": {
            "backgroundcolor": "#E5ECF6",
            "gridcolor": "white",
            "gridwidth": 2,
            "linecolor": "white",
            "showbackground": true,
            "ticks": "",
            "zerolinecolor": "white"
           },
           "yaxis": {
            "backgroundcolor": "#E5ECF6",
            "gridcolor": "white",
            "gridwidth": 2,
            "linecolor": "white",
            "showbackground": true,
            "ticks": "",
            "zerolinecolor": "white"
           },
           "zaxis": {
            "backgroundcolor": "#E5ECF6",
            "gridcolor": "white",
            "gridwidth": 2,
            "linecolor": "white",
            "showbackground": true,
            "ticks": "",
            "zerolinecolor": "white"
           }
          },
          "shapedefaults": {
           "line": {
            "color": "#2a3f5f"
           }
          },
          "ternary": {
           "aaxis": {
            "gridcolor": "white",
            "linecolor": "white",
            "ticks": ""
           },
           "baxis": {
            "gridcolor": "white",
            "linecolor": "white",
            "ticks": ""
           },
           "bgcolor": "#E5ECF6",
           "caxis": {
            "gridcolor": "white",
            "linecolor": "white",
            "ticks": ""
           }
          },
          "title": {
           "x": 0.05
          },
          "xaxis": {
           "automargin": true,
           "gridcolor": "white",
           "linecolor": "white",
           "ticks": "",
           "title": {
            "standoff": 15
           },
           "zerolinecolor": "white",
           "zerolinewidth": 2
          },
          "yaxis": {
           "automargin": true,
           "gridcolor": "white",
           "linecolor": "white",
           "ticks": "",
           "title": {
            "standoff": 15
           },
           "zerolinecolor": "white",
           "zerolinewidth": 2
          }
         }
        },
        "title": {
         "text": "Monopoly Board Purchase Price Against Expected Number of Gos to Payoff Purchase Price with Rent Hotel"
        },
        "xaxis": {
         "anchor": "y",
         "domain": [
          0,
          1
         ],
         "title": {
          "text": "Purchase Price"
         }
        },
        "yaxis": {
         "anchor": "x",
         "domain": [
          0,
          1
         ],
         "title": {
          "text": "Payoff Rent Hotel"
         }
        }
       }
      }
     },
     "metadata": {},
     "output_type": "display_data"
    }
   ],
   "source": [
    "for idx, name in enumerate(['Rent Doubled', 'Rent 1 House', 'Rent 2 Houses', 'Rent 3 Houses', 'Rent 4 Houses', 'Rent Hotel']):\n",
    "    df_streets['Payoff ' + name] = (df_streets['Purchase Price']+idx*df_streets['House Price'])/df_streets[name + ' * Probability']\n",
    "\n",
    "    fig = px.scatter(\n",
    "        df_streets,\n",
    "        x='Purchase Price',\n",
    "        y='Payoff ' + name,\n",
    "        title=\"Monopoly Board Purchase Price Against Expected Number of Gos to Payoff Purchase Price with \"+name,\n",
    "        labels={'x': 'Purchase Price', 'y': 'Payoff '+name},\n",
    "        color='Property',\n",
    "        color_discrete_map=color_dict,\n",
    "        category_orders={\"Property\": property_names}\n",
    "    )\n",
    "\n",
    "    fig.update_traces(marker=dict(size=15))\n",
    "    fig.update_layout(showlegend=False)\n",
    "    fig.show()"
   ]
  },
  {
   "cell_type": "markdown",
   "metadata": {},
   "source": [
    "Stations"
   ]
  },
  {
   "cell_type": "code",
   "execution_count": 6,
   "metadata": {},
   "outputs": [
    {
     "data": {
      "text/html": [
       "<div>\n",
       "<style scoped>\n",
       "    .dataframe tbody tr th:only-of-type {\n",
       "        vertical-align: middle;\n",
       "    }\n",
       "\n",
       "    .dataframe tbody tr th {\n",
       "        vertical-align: top;\n",
       "    }\n",
       "\n",
       "    .dataframe thead th {\n",
       "        text-align: right;\n",
       "    }\n",
       "</style>\n",
       "<table border=\"1\" class=\"dataframe\">\n",
       "  <thead>\n",
       "    <tr style=\"text-align: right;\">\n",
       "      <th></th>\n",
       "      <th>Property</th>\n",
       "      <th>Color</th>\n",
       "      <th>Purchase Price</th>\n",
       "      <th>Probability</th>\n",
       "      <th>Rent 1 Station</th>\n",
       "      <th>Rent 2 Stations</th>\n",
       "      <th>Rent 3 Stations</th>\n",
       "      <th>Rent 4 Stations</th>\n",
       "      <th>Rent 1 Station * Probability</th>\n",
       "      <th>Rent 2 Stations * Probability</th>\n",
       "      <th>Rent 3 Stations * Probability</th>\n",
       "      <th>Rent 4 Stations * Probability</th>\n",
       "    </tr>\n",
       "  </thead>\n",
       "  <tbody>\n",
       "    <tr>\n",
       "      <th>5</th>\n",
       "      <td>King's Cross Station</td>\n",
       "      <td>black</td>\n",
       "      <td>200.0</td>\n",
       "      <td>0.028534</td>\n",
       "      <td>25</td>\n",
       "      <td>50</td>\n",
       "      <td>100</td>\n",
       "      <td>200</td>\n",
       "      <td>0.713354</td>\n",
       "      <td>1.426708</td>\n",
       "      <td>2.853417</td>\n",
       "      <td>5.706833</td>\n",
       "    </tr>\n",
       "    <tr>\n",
       "      <th>15</th>\n",
       "      <td>Marylebone Station</td>\n",
       "      <td>black</td>\n",
       "      <td>200.0</td>\n",
       "      <td>0.027698</td>\n",
       "      <td>25</td>\n",
       "      <td>50</td>\n",
       "      <td>100</td>\n",
       "      <td>200</td>\n",
       "      <td>0.692453</td>\n",
       "      <td>1.384906</td>\n",
       "      <td>2.769811</td>\n",
       "      <td>5.539622</td>\n",
       "    </tr>\n",
       "    <tr>\n",
       "      <th>25</th>\n",
       "      <td>Fenchurch St. Station</td>\n",
       "      <td>black</td>\n",
       "      <td>200.0</td>\n",
       "      <td>0.027601</td>\n",
       "      <td>25</td>\n",
       "      <td>50</td>\n",
       "      <td>100</td>\n",
       "      <td>200</td>\n",
       "      <td>0.690018</td>\n",
       "      <td>1.380035</td>\n",
       "      <td>2.760071</td>\n",
       "      <td>5.520141</td>\n",
       "    </tr>\n",
       "    <tr>\n",
       "      <th>35</th>\n",
       "      <td>Liverpool St. Station</td>\n",
       "      <td>black</td>\n",
       "      <td>200.0</td>\n",
       "      <td>0.021294</td>\n",
       "      <td>25</td>\n",
       "      <td>50</td>\n",
       "      <td>100</td>\n",
       "      <td>200</td>\n",
       "      <td>0.532344</td>\n",
       "      <td>1.064688</td>\n",
       "      <td>2.129375</td>\n",
       "      <td>4.258750</td>\n",
       "    </tr>\n",
       "  </tbody>\n",
       "</table>\n",
       "</div>"
      ],
      "text/plain": [
       "                 Property  Color  Purchase Price  Probability  Rent 1 Station  \\\n",
       "5    King's Cross Station  black           200.0     0.028534              25   \n",
       "15     Marylebone Station  black           200.0     0.027698              25   \n",
       "25  Fenchurch St. Station  black           200.0     0.027601              25   \n",
       "35  Liverpool St. Station  black           200.0     0.021294              25   \n",
       "\n",
       "    Rent 2 Stations  Rent 3 Stations  Rent 4 Stations  \\\n",
       "5                50              100              200   \n",
       "15               50              100              200   \n",
       "25               50              100              200   \n",
       "35               50              100              200   \n",
       "\n",
       "    Rent 1 Station * Probability  Rent 2 Stations * Probability  \\\n",
       "5                       0.713354                       1.426708   \n",
       "15                      0.692453                       1.384906   \n",
       "25                      0.690018                       1.380035   \n",
       "35                      0.532344                       1.064688   \n",
       "\n",
       "    Rent 3 Stations * Probability  Rent 4 Stations * Probability  \n",
       "5                        2.853417                       5.706833  \n",
       "15                       2.769811                       5.539622  \n",
       "25                       2.760071                       5.520141  \n",
       "35                       2.129375                       4.258750  "
      ]
     },
     "execution_count": 6,
     "metadata": {},
     "output_type": "execute_result"
    }
   ],
   "source": [
    "df_stations.head()"
   ]
  },
  {
   "cell_type": "code",
   "execution_count": 7,
   "metadata": {},
   "outputs": [
    {
     "data": {
      "application/vnd.plotly.v1+json": {
       "config": {
        "plotlyServerURL": "https://plot.ly"
       },
       "data": [
        {
         "alignmentgroup": "True",
         "hovertemplate": "Property=%{x}<br>Payback Period Rent 1 Station=%{y}<extra></extra>",
         "legendgroup": "King's Cross Station",
         "marker": {
          "color": "black",
          "pattern": {
           "shape": ""
          }
         },
         "name": "King's Cross Station",
         "offsetgroup": "King's Cross Station",
         "orientation": "v",
         "showlegend": true,
         "textposition": "auto",
         "type": "bar",
         "x": [
          "King's Cross Station"
         ],
         "xaxis": "x",
         "y": [
          8
         ],
         "yaxis": "y"
        },
        {
         "alignmentgroup": "True",
         "hovertemplate": "Property=%{x}<br>Payback Period Rent 1 Station=%{y}<extra></extra>",
         "legendgroup": "Marylebone Station",
         "marker": {
          "color": "black",
          "pattern": {
           "shape": ""
          }
         },
         "name": "Marylebone Station",
         "offsetgroup": "Marylebone Station",
         "orientation": "v",
         "showlegend": true,
         "textposition": "auto",
         "type": "bar",
         "x": [
          "Marylebone Station"
         ],
         "xaxis": "x",
         "y": [
          8
         ],
         "yaxis": "y"
        },
        {
         "alignmentgroup": "True",
         "hovertemplate": "Property=%{x}<br>Payback Period Rent 1 Station=%{y}<extra></extra>",
         "legendgroup": "Fenchurch St. Station",
         "marker": {
          "color": "black",
          "pattern": {
           "shape": ""
          }
         },
         "name": "Fenchurch St. Station",
         "offsetgroup": "Fenchurch St. Station",
         "orientation": "v",
         "showlegend": true,
         "textposition": "auto",
         "type": "bar",
         "x": [
          "Fenchurch St. Station"
         ],
         "xaxis": "x",
         "y": [
          8
         ],
         "yaxis": "y"
        },
        {
         "alignmentgroup": "True",
         "hovertemplate": "Property=%{x}<br>Payback Period Rent 1 Station=%{y}<extra></extra>",
         "legendgroup": "Liverpool St. Station",
         "marker": {
          "color": "black",
          "pattern": {
           "shape": ""
          }
         },
         "name": "Liverpool St. Station",
         "offsetgroup": "Liverpool St. Station",
         "orientation": "v",
         "showlegend": true,
         "textposition": "auto",
         "type": "bar",
         "x": [
          "Liverpool St. Station"
         ],
         "xaxis": "x",
         "y": [
          8
         ],
         "yaxis": "y"
        }
       ],
       "layout": {
        "barmode": "relative",
        "legend": {
         "title": {
          "text": "Property"
         },
         "tracegroupgap": 0
        },
        "showlegend": false,
        "template": {
         "data": {
          "bar": [
           {
            "error_x": {
             "color": "#2a3f5f"
            },
            "error_y": {
             "color": "#2a3f5f"
            },
            "marker": {
             "line": {
              "color": "#E5ECF6",
              "width": 0.5
             },
             "pattern": {
              "fillmode": "overlay",
              "size": 10,
              "solidity": 0.2
             }
            },
            "type": "bar"
           }
          ],
          "barpolar": [
           {
            "marker": {
             "line": {
              "color": "#E5ECF6",
              "width": 0.5
             },
             "pattern": {
              "fillmode": "overlay",
              "size": 10,
              "solidity": 0.2
             }
            },
            "type": "barpolar"
           }
          ],
          "carpet": [
           {
            "aaxis": {
             "endlinecolor": "#2a3f5f",
             "gridcolor": "white",
             "linecolor": "white",
             "minorgridcolor": "white",
             "startlinecolor": "#2a3f5f"
            },
            "baxis": {
             "endlinecolor": "#2a3f5f",
             "gridcolor": "white",
             "linecolor": "white",
             "minorgridcolor": "white",
             "startlinecolor": "#2a3f5f"
            },
            "type": "carpet"
           }
          ],
          "choropleth": [
           {
            "colorbar": {
             "outlinewidth": 0,
             "ticks": ""
            },
            "type": "choropleth"
           }
          ],
          "contour": [
           {
            "colorbar": {
             "outlinewidth": 0,
             "ticks": ""
            },
            "colorscale": [
             [
              0,
              "#0d0887"
             ],
             [
              0.1111111111111111,
              "#46039f"
             ],
             [
              0.2222222222222222,
              "#7201a8"
             ],
             [
              0.3333333333333333,
              "#9c179e"
             ],
             [
              0.4444444444444444,
              "#bd3786"
             ],
             [
              0.5555555555555556,
              "#d8576b"
             ],
             [
              0.6666666666666666,
              "#ed7953"
             ],
             [
              0.7777777777777778,
              "#fb9f3a"
             ],
             [
              0.8888888888888888,
              "#fdca26"
             ],
             [
              1,
              "#f0f921"
             ]
            ],
            "type": "contour"
           }
          ],
          "contourcarpet": [
           {
            "colorbar": {
             "outlinewidth": 0,
             "ticks": ""
            },
            "type": "contourcarpet"
           }
          ],
          "heatmap": [
           {
            "colorbar": {
             "outlinewidth": 0,
             "ticks": ""
            },
            "colorscale": [
             [
              0,
              "#0d0887"
             ],
             [
              0.1111111111111111,
              "#46039f"
             ],
             [
              0.2222222222222222,
              "#7201a8"
             ],
             [
              0.3333333333333333,
              "#9c179e"
             ],
             [
              0.4444444444444444,
              "#bd3786"
             ],
             [
              0.5555555555555556,
              "#d8576b"
             ],
             [
              0.6666666666666666,
              "#ed7953"
             ],
             [
              0.7777777777777778,
              "#fb9f3a"
             ],
             [
              0.8888888888888888,
              "#fdca26"
             ],
             [
              1,
              "#f0f921"
             ]
            ],
            "type": "heatmap"
           }
          ],
          "heatmapgl": [
           {
            "colorbar": {
             "outlinewidth": 0,
             "ticks": ""
            },
            "colorscale": [
             [
              0,
              "#0d0887"
             ],
             [
              0.1111111111111111,
              "#46039f"
             ],
             [
              0.2222222222222222,
              "#7201a8"
             ],
             [
              0.3333333333333333,
              "#9c179e"
             ],
             [
              0.4444444444444444,
              "#bd3786"
             ],
             [
              0.5555555555555556,
              "#d8576b"
             ],
             [
              0.6666666666666666,
              "#ed7953"
             ],
             [
              0.7777777777777778,
              "#fb9f3a"
             ],
             [
              0.8888888888888888,
              "#fdca26"
             ],
             [
              1,
              "#f0f921"
             ]
            ],
            "type": "heatmapgl"
           }
          ],
          "histogram": [
           {
            "marker": {
             "pattern": {
              "fillmode": "overlay",
              "size": 10,
              "solidity": 0.2
             }
            },
            "type": "histogram"
           }
          ],
          "histogram2d": [
           {
            "colorbar": {
             "outlinewidth": 0,
             "ticks": ""
            },
            "colorscale": [
             [
              0,
              "#0d0887"
             ],
             [
              0.1111111111111111,
              "#46039f"
             ],
             [
              0.2222222222222222,
              "#7201a8"
             ],
             [
              0.3333333333333333,
              "#9c179e"
             ],
             [
              0.4444444444444444,
              "#bd3786"
             ],
             [
              0.5555555555555556,
              "#d8576b"
             ],
             [
              0.6666666666666666,
              "#ed7953"
             ],
             [
              0.7777777777777778,
              "#fb9f3a"
             ],
             [
              0.8888888888888888,
              "#fdca26"
             ],
             [
              1,
              "#f0f921"
             ]
            ],
            "type": "histogram2d"
           }
          ],
          "histogram2dcontour": [
           {
            "colorbar": {
             "outlinewidth": 0,
             "ticks": ""
            },
            "colorscale": [
             [
              0,
              "#0d0887"
             ],
             [
              0.1111111111111111,
              "#46039f"
             ],
             [
              0.2222222222222222,
              "#7201a8"
             ],
             [
              0.3333333333333333,
              "#9c179e"
             ],
             [
              0.4444444444444444,
              "#bd3786"
             ],
             [
              0.5555555555555556,
              "#d8576b"
             ],
             [
              0.6666666666666666,
              "#ed7953"
             ],
             [
              0.7777777777777778,
              "#fb9f3a"
             ],
             [
              0.8888888888888888,
              "#fdca26"
             ],
             [
              1,
              "#f0f921"
             ]
            ],
            "type": "histogram2dcontour"
           }
          ],
          "mesh3d": [
           {
            "colorbar": {
             "outlinewidth": 0,
             "ticks": ""
            },
            "type": "mesh3d"
           }
          ],
          "parcoords": [
           {
            "line": {
             "colorbar": {
              "outlinewidth": 0,
              "ticks": ""
             }
            },
            "type": "parcoords"
           }
          ],
          "pie": [
           {
            "automargin": true,
            "type": "pie"
           }
          ],
          "scatter": [
           {
            "fillpattern": {
             "fillmode": "overlay",
             "size": 10,
             "solidity": 0.2
            },
            "type": "scatter"
           }
          ],
          "scatter3d": [
           {
            "line": {
             "colorbar": {
              "outlinewidth": 0,
              "ticks": ""
             }
            },
            "marker": {
             "colorbar": {
              "outlinewidth": 0,
              "ticks": ""
             }
            },
            "type": "scatter3d"
           }
          ],
          "scattercarpet": [
           {
            "marker": {
             "colorbar": {
              "outlinewidth": 0,
              "ticks": ""
             }
            },
            "type": "scattercarpet"
           }
          ],
          "scattergeo": [
           {
            "marker": {
             "colorbar": {
              "outlinewidth": 0,
              "ticks": ""
             }
            },
            "type": "scattergeo"
           }
          ],
          "scattergl": [
           {
            "marker": {
             "colorbar": {
              "outlinewidth": 0,
              "ticks": ""
             }
            },
            "type": "scattergl"
           }
          ],
          "scattermapbox": [
           {
            "marker": {
             "colorbar": {
              "outlinewidth": 0,
              "ticks": ""
             }
            },
            "type": "scattermapbox"
           }
          ],
          "scatterpolar": [
           {
            "marker": {
             "colorbar": {
              "outlinewidth": 0,
              "ticks": ""
             }
            },
            "type": "scatterpolar"
           }
          ],
          "scatterpolargl": [
           {
            "marker": {
             "colorbar": {
              "outlinewidth": 0,
              "ticks": ""
             }
            },
            "type": "scatterpolargl"
           }
          ],
          "scatterternary": [
           {
            "marker": {
             "colorbar": {
              "outlinewidth": 0,
              "ticks": ""
             }
            },
            "type": "scatterternary"
           }
          ],
          "surface": [
           {
            "colorbar": {
             "outlinewidth": 0,
             "ticks": ""
            },
            "colorscale": [
             [
              0,
              "#0d0887"
             ],
             [
              0.1111111111111111,
              "#46039f"
             ],
             [
              0.2222222222222222,
              "#7201a8"
             ],
             [
              0.3333333333333333,
              "#9c179e"
             ],
             [
              0.4444444444444444,
              "#bd3786"
             ],
             [
              0.5555555555555556,
              "#d8576b"
             ],
             [
              0.6666666666666666,
              "#ed7953"
             ],
             [
              0.7777777777777778,
              "#fb9f3a"
             ],
             [
              0.8888888888888888,
              "#fdca26"
             ],
             [
              1,
              "#f0f921"
             ]
            ],
            "type": "surface"
           }
          ],
          "table": [
           {
            "cells": {
             "fill": {
              "color": "#EBF0F8"
             },
             "line": {
              "color": "white"
             }
            },
            "header": {
             "fill": {
              "color": "#C8D4E3"
             },
             "line": {
              "color": "white"
             }
            },
            "type": "table"
           }
          ]
         },
         "layout": {
          "annotationdefaults": {
           "arrowcolor": "#2a3f5f",
           "arrowhead": 0,
           "arrowwidth": 1
          },
          "autotypenumbers": "strict",
          "coloraxis": {
           "colorbar": {
            "outlinewidth": 0,
            "ticks": ""
           }
          },
          "colorscale": {
           "diverging": [
            [
             0,
             "#8e0152"
            ],
            [
             0.1,
             "#c51b7d"
            ],
            [
             0.2,
             "#de77ae"
            ],
            [
             0.3,
             "#f1b6da"
            ],
            [
             0.4,
             "#fde0ef"
            ],
            [
             0.5,
             "#f7f7f7"
            ],
            [
             0.6,
             "#e6f5d0"
            ],
            [
             0.7,
             "#b8e186"
            ],
            [
             0.8,
             "#7fbc41"
            ],
            [
             0.9,
             "#4d9221"
            ],
            [
             1,
             "#276419"
            ]
           ],
           "sequential": [
            [
             0,
             "#0d0887"
            ],
            [
             0.1111111111111111,
             "#46039f"
            ],
            [
             0.2222222222222222,
             "#7201a8"
            ],
            [
             0.3333333333333333,
             "#9c179e"
            ],
            [
             0.4444444444444444,
             "#bd3786"
            ],
            [
             0.5555555555555556,
             "#d8576b"
            ],
            [
             0.6666666666666666,
             "#ed7953"
            ],
            [
             0.7777777777777778,
             "#fb9f3a"
            ],
            [
             0.8888888888888888,
             "#fdca26"
            ],
            [
             1,
             "#f0f921"
            ]
           ],
           "sequentialminus": [
            [
             0,
             "#0d0887"
            ],
            [
             0.1111111111111111,
             "#46039f"
            ],
            [
             0.2222222222222222,
             "#7201a8"
            ],
            [
             0.3333333333333333,
             "#9c179e"
            ],
            [
             0.4444444444444444,
             "#bd3786"
            ],
            [
             0.5555555555555556,
             "#d8576b"
            ],
            [
             0.6666666666666666,
             "#ed7953"
            ],
            [
             0.7777777777777778,
             "#fb9f3a"
            ],
            [
             0.8888888888888888,
             "#fdca26"
            ],
            [
             1,
             "#f0f921"
            ]
           ]
          },
          "colorway": [
           "#636efa",
           "#EF553B",
           "#00cc96",
           "#ab63fa",
           "#FFA15A",
           "#19d3f3",
           "#FF6692",
           "#B6E880",
           "#FF97FF",
           "#FECB52"
          ],
          "font": {
           "color": "#2a3f5f"
          },
          "geo": {
           "bgcolor": "white",
           "lakecolor": "white",
           "landcolor": "#E5ECF6",
           "showlakes": true,
           "showland": true,
           "subunitcolor": "white"
          },
          "hoverlabel": {
           "align": "left"
          },
          "hovermode": "closest",
          "mapbox": {
           "style": "light"
          },
          "paper_bgcolor": "white",
          "plot_bgcolor": "#E5ECF6",
          "polar": {
           "angularaxis": {
            "gridcolor": "white",
            "linecolor": "white",
            "ticks": ""
           },
           "bgcolor": "#E5ECF6",
           "radialaxis": {
            "gridcolor": "white",
            "linecolor": "white",
            "ticks": ""
           }
          },
          "scene": {
           "xaxis": {
            "backgroundcolor": "#E5ECF6",
            "gridcolor": "white",
            "gridwidth": 2,
            "linecolor": "white",
            "showbackground": true,
            "ticks": "",
            "zerolinecolor": "white"
           },
           "yaxis": {
            "backgroundcolor": "#E5ECF6",
            "gridcolor": "white",
            "gridwidth": 2,
            "linecolor": "white",
            "showbackground": true,
            "ticks": "",
            "zerolinecolor": "white"
           },
           "zaxis": {
            "backgroundcolor": "#E5ECF6",
            "gridcolor": "white",
            "gridwidth": 2,
            "linecolor": "white",
            "showbackground": true,
            "ticks": "",
            "zerolinecolor": "white"
           }
          },
          "shapedefaults": {
           "line": {
            "color": "#2a3f5f"
           }
          },
          "ternary": {
           "aaxis": {
            "gridcolor": "white",
            "linecolor": "white",
            "ticks": ""
           },
           "baxis": {
            "gridcolor": "white",
            "linecolor": "white",
            "ticks": ""
           },
           "bgcolor": "#E5ECF6",
           "caxis": {
            "gridcolor": "white",
            "linecolor": "white",
            "ticks": ""
           }
          },
          "title": {
           "x": 0.05
          },
          "xaxis": {
           "automargin": true,
           "gridcolor": "white",
           "linecolor": "white",
           "ticks": "",
           "title": {
            "standoff": 15
           },
           "zerolinecolor": "white",
           "zerolinewidth": 2
          },
          "yaxis": {
           "automargin": true,
           "gridcolor": "white",
           "linecolor": "white",
           "ticks": "",
           "title": {
            "standoff": 15
           },
           "zerolinecolor": "white",
           "zerolinewidth": 2
          }
         }
        },
        "title": {
         "text": "Monopoly Stations' Payback Periods for Rent 1 Station"
        },
        "xaxis": {
         "anchor": "y",
         "categoryarray": [
          "King's Cross Station",
          "Marylebone Station",
          "Fenchurch St. Station",
          "Liverpool St. Station"
         ],
         "categoryorder": "array",
         "domain": [
          0,
          1
         ],
         "title": {
          "text": "Property"
         }
        },
        "yaxis": {
         "anchor": "x",
         "domain": [
          0,
          1
         ],
         "title": {
          "text": "Payback Period Rent 1 Station"
         }
        }
       }
      }
     },
     "metadata": {},
     "output_type": "display_data"
    },
    {
     "data": {
      "application/vnd.plotly.v1+json": {
       "config": {
        "plotlyServerURL": "https://plot.ly"
       },
       "data": [
        {
         "alignmentgroup": "True",
         "hovertemplate": "Property=%{x}<br>Payback Period Rent 2 Stations=%{y}<extra></extra>",
         "legendgroup": "King's Cross Station",
         "marker": {
          "color": "black",
          "pattern": {
           "shape": ""
          }
         },
         "name": "King's Cross Station",
         "offsetgroup": "King's Cross Station",
         "orientation": "v",
         "showlegend": true,
         "textposition": "auto",
         "type": "bar",
         "x": [
          "King's Cross Station"
         ],
         "xaxis": "x",
         "y": [
          4
         ],
         "yaxis": "y"
        },
        {
         "alignmentgroup": "True",
         "hovertemplate": "Property=%{x}<br>Payback Period Rent 2 Stations=%{y}<extra></extra>",
         "legendgroup": "Marylebone Station",
         "marker": {
          "color": "black",
          "pattern": {
           "shape": ""
          }
         },
         "name": "Marylebone Station",
         "offsetgroup": "Marylebone Station",
         "orientation": "v",
         "showlegend": true,
         "textposition": "auto",
         "type": "bar",
         "x": [
          "Marylebone Station"
         ],
         "xaxis": "x",
         "y": [
          4
         ],
         "yaxis": "y"
        },
        {
         "alignmentgroup": "True",
         "hovertemplate": "Property=%{x}<br>Payback Period Rent 2 Stations=%{y}<extra></extra>",
         "legendgroup": "Fenchurch St. Station",
         "marker": {
          "color": "black",
          "pattern": {
           "shape": ""
          }
         },
         "name": "Fenchurch St. Station",
         "offsetgroup": "Fenchurch St. Station",
         "orientation": "v",
         "showlegend": true,
         "textposition": "auto",
         "type": "bar",
         "x": [
          "Fenchurch St. Station"
         ],
         "xaxis": "x",
         "y": [
          4
         ],
         "yaxis": "y"
        },
        {
         "alignmentgroup": "True",
         "hovertemplate": "Property=%{x}<br>Payback Period Rent 2 Stations=%{y}<extra></extra>",
         "legendgroup": "Liverpool St. Station",
         "marker": {
          "color": "black",
          "pattern": {
           "shape": ""
          }
         },
         "name": "Liverpool St. Station",
         "offsetgroup": "Liverpool St. Station",
         "orientation": "v",
         "showlegend": true,
         "textposition": "auto",
         "type": "bar",
         "x": [
          "Liverpool St. Station"
         ],
         "xaxis": "x",
         "y": [
          4
         ],
         "yaxis": "y"
        }
       ],
       "layout": {
        "barmode": "relative",
        "legend": {
         "title": {
          "text": "Property"
         },
         "tracegroupgap": 0
        },
        "showlegend": false,
        "template": {
         "data": {
          "bar": [
           {
            "error_x": {
             "color": "#2a3f5f"
            },
            "error_y": {
             "color": "#2a3f5f"
            },
            "marker": {
             "line": {
              "color": "#E5ECF6",
              "width": 0.5
             },
             "pattern": {
              "fillmode": "overlay",
              "size": 10,
              "solidity": 0.2
             }
            },
            "type": "bar"
           }
          ],
          "barpolar": [
           {
            "marker": {
             "line": {
              "color": "#E5ECF6",
              "width": 0.5
             },
             "pattern": {
              "fillmode": "overlay",
              "size": 10,
              "solidity": 0.2
             }
            },
            "type": "barpolar"
           }
          ],
          "carpet": [
           {
            "aaxis": {
             "endlinecolor": "#2a3f5f",
             "gridcolor": "white",
             "linecolor": "white",
             "minorgridcolor": "white",
             "startlinecolor": "#2a3f5f"
            },
            "baxis": {
             "endlinecolor": "#2a3f5f",
             "gridcolor": "white",
             "linecolor": "white",
             "minorgridcolor": "white",
             "startlinecolor": "#2a3f5f"
            },
            "type": "carpet"
           }
          ],
          "choropleth": [
           {
            "colorbar": {
             "outlinewidth": 0,
             "ticks": ""
            },
            "type": "choropleth"
           }
          ],
          "contour": [
           {
            "colorbar": {
             "outlinewidth": 0,
             "ticks": ""
            },
            "colorscale": [
             [
              0,
              "#0d0887"
             ],
             [
              0.1111111111111111,
              "#46039f"
             ],
             [
              0.2222222222222222,
              "#7201a8"
             ],
             [
              0.3333333333333333,
              "#9c179e"
             ],
             [
              0.4444444444444444,
              "#bd3786"
             ],
             [
              0.5555555555555556,
              "#d8576b"
             ],
             [
              0.6666666666666666,
              "#ed7953"
             ],
             [
              0.7777777777777778,
              "#fb9f3a"
             ],
             [
              0.8888888888888888,
              "#fdca26"
             ],
             [
              1,
              "#f0f921"
             ]
            ],
            "type": "contour"
           }
          ],
          "contourcarpet": [
           {
            "colorbar": {
             "outlinewidth": 0,
             "ticks": ""
            },
            "type": "contourcarpet"
           }
          ],
          "heatmap": [
           {
            "colorbar": {
             "outlinewidth": 0,
             "ticks": ""
            },
            "colorscale": [
             [
              0,
              "#0d0887"
             ],
             [
              0.1111111111111111,
              "#46039f"
             ],
             [
              0.2222222222222222,
              "#7201a8"
             ],
             [
              0.3333333333333333,
              "#9c179e"
             ],
             [
              0.4444444444444444,
              "#bd3786"
             ],
             [
              0.5555555555555556,
              "#d8576b"
             ],
             [
              0.6666666666666666,
              "#ed7953"
             ],
             [
              0.7777777777777778,
              "#fb9f3a"
             ],
             [
              0.8888888888888888,
              "#fdca26"
             ],
             [
              1,
              "#f0f921"
             ]
            ],
            "type": "heatmap"
           }
          ],
          "heatmapgl": [
           {
            "colorbar": {
             "outlinewidth": 0,
             "ticks": ""
            },
            "colorscale": [
             [
              0,
              "#0d0887"
             ],
             [
              0.1111111111111111,
              "#46039f"
             ],
             [
              0.2222222222222222,
              "#7201a8"
             ],
             [
              0.3333333333333333,
              "#9c179e"
             ],
             [
              0.4444444444444444,
              "#bd3786"
             ],
             [
              0.5555555555555556,
              "#d8576b"
             ],
             [
              0.6666666666666666,
              "#ed7953"
             ],
             [
              0.7777777777777778,
              "#fb9f3a"
             ],
             [
              0.8888888888888888,
              "#fdca26"
             ],
             [
              1,
              "#f0f921"
             ]
            ],
            "type": "heatmapgl"
           }
          ],
          "histogram": [
           {
            "marker": {
             "pattern": {
              "fillmode": "overlay",
              "size": 10,
              "solidity": 0.2
             }
            },
            "type": "histogram"
           }
          ],
          "histogram2d": [
           {
            "colorbar": {
             "outlinewidth": 0,
             "ticks": ""
            },
            "colorscale": [
             [
              0,
              "#0d0887"
             ],
             [
              0.1111111111111111,
              "#46039f"
             ],
             [
              0.2222222222222222,
              "#7201a8"
             ],
             [
              0.3333333333333333,
              "#9c179e"
             ],
             [
              0.4444444444444444,
              "#bd3786"
             ],
             [
              0.5555555555555556,
              "#d8576b"
             ],
             [
              0.6666666666666666,
              "#ed7953"
             ],
             [
              0.7777777777777778,
              "#fb9f3a"
             ],
             [
              0.8888888888888888,
              "#fdca26"
             ],
             [
              1,
              "#f0f921"
             ]
            ],
            "type": "histogram2d"
           }
          ],
          "histogram2dcontour": [
           {
            "colorbar": {
             "outlinewidth": 0,
             "ticks": ""
            },
            "colorscale": [
             [
              0,
              "#0d0887"
             ],
             [
              0.1111111111111111,
              "#46039f"
             ],
             [
              0.2222222222222222,
              "#7201a8"
             ],
             [
              0.3333333333333333,
              "#9c179e"
             ],
             [
              0.4444444444444444,
              "#bd3786"
             ],
             [
              0.5555555555555556,
              "#d8576b"
             ],
             [
              0.6666666666666666,
              "#ed7953"
             ],
             [
              0.7777777777777778,
              "#fb9f3a"
             ],
             [
              0.8888888888888888,
              "#fdca26"
             ],
             [
              1,
              "#f0f921"
             ]
            ],
            "type": "histogram2dcontour"
           }
          ],
          "mesh3d": [
           {
            "colorbar": {
             "outlinewidth": 0,
             "ticks": ""
            },
            "type": "mesh3d"
           }
          ],
          "parcoords": [
           {
            "line": {
             "colorbar": {
              "outlinewidth": 0,
              "ticks": ""
             }
            },
            "type": "parcoords"
           }
          ],
          "pie": [
           {
            "automargin": true,
            "type": "pie"
           }
          ],
          "scatter": [
           {
            "fillpattern": {
             "fillmode": "overlay",
             "size": 10,
             "solidity": 0.2
            },
            "type": "scatter"
           }
          ],
          "scatter3d": [
           {
            "line": {
             "colorbar": {
              "outlinewidth": 0,
              "ticks": ""
             }
            },
            "marker": {
             "colorbar": {
              "outlinewidth": 0,
              "ticks": ""
             }
            },
            "type": "scatter3d"
           }
          ],
          "scattercarpet": [
           {
            "marker": {
             "colorbar": {
              "outlinewidth": 0,
              "ticks": ""
             }
            },
            "type": "scattercarpet"
           }
          ],
          "scattergeo": [
           {
            "marker": {
             "colorbar": {
              "outlinewidth": 0,
              "ticks": ""
             }
            },
            "type": "scattergeo"
           }
          ],
          "scattergl": [
           {
            "marker": {
             "colorbar": {
              "outlinewidth": 0,
              "ticks": ""
             }
            },
            "type": "scattergl"
           }
          ],
          "scattermapbox": [
           {
            "marker": {
             "colorbar": {
              "outlinewidth": 0,
              "ticks": ""
             }
            },
            "type": "scattermapbox"
           }
          ],
          "scatterpolar": [
           {
            "marker": {
             "colorbar": {
              "outlinewidth": 0,
              "ticks": ""
             }
            },
            "type": "scatterpolar"
           }
          ],
          "scatterpolargl": [
           {
            "marker": {
             "colorbar": {
              "outlinewidth": 0,
              "ticks": ""
             }
            },
            "type": "scatterpolargl"
           }
          ],
          "scatterternary": [
           {
            "marker": {
             "colorbar": {
              "outlinewidth": 0,
              "ticks": ""
             }
            },
            "type": "scatterternary"
           }
          ],
          "surface": [
           {
            "colorbar": {
             "outlinewidth": 0,
             "ticks": ""
            },
            "colorscale": [
             [
              0,
              "#0d0887"
             ],
             [
              0.1111111111111111,
              "#46039f"
             ],
             [
              0.2222222222222222,
              "#7201a8"
             ],
             [
              0.3333333333333333,
              "#9c179e"
             ],
             [
              0.4444444444444444,
              "#bd3786"
             ],
             [
              0.5555555555555556,
              "#d8576b"
             ],
             [
              0.6666666666666666,
              "#ed7953"
             ],
             [
              0.7777777777777778,
              "#fb9f3a"
             ],
             [
              0.8888888888888888,
              "#fdca26"
             ],
             [
              1,
              "#f0f921"
             ]
            ],
            "type": "surface"
           }
          ],
          "table": [
           {
            "cells": {
             "fill": {
              "color": "#EBF0F8"
             },
             "line": {
              "color": "white"
             }
            },
            "header": {
             "fill": {
              "color": "#C8D4E3"
             },
             "line": {
              "color": "white"
             }
            },
            "type": "table"
           }
          ]
         },
         "layout": {
          "annotationdefaults": {
           "arrowcolor": "#2a3f5f",
           "arrowhead": 0,
           "arrowwidth": 1
          },
          "autotypenumbers": "strict",
          "coloraxis": {
           "colorbar": {
            "outlinewidth": 0,
            "ticks": ""
           }
          },
          "colorscale": {
           "diverging": [
            [
             0,
             "#8e0152"
            ],
            [
             0.1,
             "#c51b7d"
            ],
            [
             0.2,
             "#de77ae"
            ],
            [
             0.3,
             "#f1b6da"
            ],
            [
             0.4,
             "#fde0ef"
            ],
            [
             0.5,
             "#f7f7f7"
            ],
            [
             0.6,
             "#e6f5d0"
            ],
            [
             0.7,
             "#b8e186"
            ],
            [
             0.8,
             "#7fbc41"
            ],
            [
             0.9,
             "#4d9221"
            ],
            [
             1,
             "#276419"
            ]
           ],
           "sequential": [
            [
             0,
             "#0d0887"
            ],
            [
             0.1111111111111111,
             "#46039f"
            ],
            [
             0.2222222222222222,
             "#7201a8"
            ],
            [
             0.3333333333333333,
             "#9c179e"
            ],
            [
             0.4444444444444444,
             "#bd3786"
            ],
            [
             0.5555555555555556,
             "#d8576b"
            ],
            [
             0.6666666666666666,
             "#ed7953"
            ],
            [
             0.7777777777777778,
             "#fb9f3a"
            ],
            [
             0.8888888888888888,
             "#fdca26"
            ],
            [
             1,
             "#f0f921"
            ]
           ],
           "sequentialminus": [
            [
             0,
             "#0d0887"
            ],
            [
             0.1111111111111111,
             "#46039f"
            ],
            [
             0.2222222222222222,
             "#7201a8"
            ],
            [
             0.3333333333333333,
             "#9c179e"
            ],
            [
             0.4444444444444444,
             "#bd3786"
            ],
            [
             0.5555555555555556,
             "#d8576b"
            ],
            [
             0.6666666666666666,
             "#ed7953"
            ],
            [
             0.7777777777777778,
             "#fb9f3a"
            ],
            [
             0.8888888888888888,
             "#fdca26"
            ],
            [
             1,
             "#f0f921"
            ]
           ]
          },
          "colorway": [
           "#636efa",
           "#EF553B",
           "#00cc96",
           "#ab63fa",
           "#FFA15A",
           "#19d3f3",
           "#FF6692",
           "#B6E880",
           "#FF97FF",
           "#FECB52"
          ],
          "font": {
           "color": "#2a3f5f"
          },
          "geo": {
           "bgcolor": "white",
           "lakecolor": "white",
           "landcolor": "#E5ECF6",
           "showlakes": true,
           "showland": true,
           "subunitcolor": "white"
          },
          "hoverlabel": {
           "align": "left"
          },
          "hovermode": "closest",
          "mapbox": {
           "style": "light"
          },
          "paper_bgcolor": "white",
          "plot_bgcolor": "#E5ECF6",
          "polar": {
           "angularaxis": {
            "gridcolor": "white",
            "linecolor": "white",
            "ticks": ""
           },
           "bgcolor": "#E5ECF6",
           "radialaxis": {
            "gridcolor": "white",
            "linecolor": "white",
            "ticks": ""
           }
          },
          "scene": {
           "xaxis": {
            "backgroundcolor": "#E5ECF6",
            "gridcolor": "white",
            "gridwidth": 2,
            "linecolor": "white",
            "showbackground": true,
            "ticks": "",
            "zerolinecolor": "white"
           },
           "yaxis": {
            "backgroundcolor": "#E5ECF6",
            "gridcolor": "white",
            "gridwidth": 2,
            "linecolor": "white",
            "showbackground": true,
            "ticks": "",
            "zerolinecolor": "white"
           },
           "zaxis": {
            "backgroundcolor": "#E5ECF6",
            "gridcolor": "white",
            "gridwidth": 2,
            "linecolor": "white",
            "showbackground": true,
            "ticks": "",
            "zerolinecolor": "white"
           }
          },
          "shapedefaults": {
           "line": {
            "color": "#2a3f5f"
           }
          },
          "ternary": {
           "aaxis": {
            "gridcolor": "white",
            "linecolor": "white",
            "ticks": ""
           },
           "baxis": {
            "gridcolor": "white",
            "linecolor": "white",
            "ticks": ""
           },
           "bgcolor": "#E5ECF6",
           "caxis": {
            "gridcolor": "white",
            "linecolor": "white",
            "ticks": ""
           }
          },
          "title": {
           "x": 0.05
          },
          "xaxis": {
           "automargin": true,
           "gridcolor": "white",
           "linecolor": "white",
           "ticks": "",
           "title": {
            "standoff": 15
           },
           "zerolinecolor": "white",
           "zerolinewidth": 2
          },
          "yaxis": {
           "automargin": true,
           "gridcolor": "white",
           "linecolor": "white",
           "ticks": "",
           "title": {
            "standoff": 15
           },
           "zerolinecolor": "white",
           "zerolinewidth": 2
          }
         }
        },
        "title": {
         "text": "Monopoly Stations' Payback Periods for Rent 2 Stations"
        },
        "xaxis": {
         "anchor": "y",
         "categoryarray": [
          "King's Cross Station",
          "Marylebone Station",
          "Fenchurch St. Station",
          "Liverpool St. Station"
         ],
         "categoryorder": "array",
         "domain": [
          0,
          1
         ],
         "title": {
          "text": "Property"
         }
        },
        "yaxis": {
         "anchor": "x",
         "domain": [
          0,
          1
         ],
         "title": {
          "text": "Payback Period Rent 2 Stations"
         }
        }
       }
      }
     },
     "metadata": {},
     "output_type": "display_data"
    },
    {
     "data": {
      "application/vnd.plotly.v1+json": {
       "config": {
        "plotlyServerURL": "https://plot.ly"
       },
       "data": [
        {
         "alignmentgroup": "True",
         "hovertemplate": "Property=%{x}<br>Payback Period Rent 3 Stations=%{y}<extra></extra>",
         "legendgroup": "King's Cross Station",
         "marker": {
          "color": "black",
          "pattern": {
           "shape": ""
          }
         },
         "name": "King's Cross Station",
         "offsetgroup": "King's Cross Station",
         "orientation": "v",
         "showlegend": true,
         "textposition": "auto",
         "type": "bar",
         "x": [
          "King's Cross Station"
         ],
         "xaxis": "x",
         "y": [
          2
         ],
         "yaxis": "y"
        },
        {
         "alignmentgroup": "True",
         "hovertemplate": "Property=%{x}<br>Payback Period Rent 3 Stations=%{y}<extra></extra>",
         "legendgroup": "Marylebone Station",
         "marker": {
          "color": "black",
          "pattern": {
           "shape": ""
          }
         },
         "name": "Marylebone Station",
         "offsetgroup": "Marylebone Station",
         "orientation": "v",
         "showlegend": true,
         "textposition": "auto",
         "type": "bar",
         "x": [
          "Marylebone Station"
         ],
         "xaxis": "x",
         "y": [
          2
         ],
         "yaxis": "y"
        },
        {
         "alignmentgroup": "True",
         "hovertemplate": "Property=%{x}<br>Payback Period Rent 3 Stations=%{y}<extra></extra>",
         "legendgroup": "Fenchurch St. Station",
         "marker": {
          "color": "black",
          "pattern": {
           "shape": ""
          }
         },
         "name": "Fenchurch St. Station",
         "offsetgroup": "Fenchurch St. Station",
         "orientation": "v",
         "showlegend": true,
         "textposition": "auto",
         "type": "bar",
         "x": [
          "Fenchurch St. Station"
         ],
         "xaxis": "x",
         "y": [
          2
         ],
         "yaxis": "y"
        },
        {
         "alignmentgroup": "True",
         "hovertemplate": "Property=%{x}<br>Payback Period Rent 3 Stations=%{y}<extra></extra>",
         "legendgroup": "Liverpool St. Station",
         "marker": {
          "color": "black",
          "pattern": {
           "shape": ""
          }
         },
         "name": "Liverpool St. Station",
         "offsetgroup": "Liverpool St. Station",
         "orientation": "v",
         "showlegend": true,
         "textposition": "auto",
         "type": "bar",
         "x": [
          "Liverpool St. Station"
         ],
         "xaxis": "x",
         "y": [
          2
         ],
         "yaxis": "y"
        }
       ],
       "layout": {
        "barmode": "relative",
        "legend": {
         "title": {
          "text": "Property"
         },
         "tracegroupgap": 0
        },
        "showlegend": false,
        "template": {
         "data": {
          "bar": [
           {
            "error_x": {
             "color": "#2a3f5f"
            },
            "error_y": {
             "color": "#2a3f5f"
            },
            "marker": {
             "line": {
              "color": "#E5ECF6",
              "width": 0.5
             },
             "pattern": {
              "fillmode": "overlay",
              "size": 10,
              "solidity": 0.2
             }
            },
            "type": "bar"
           }
          ],
          "barpolar": [
           {
            "marker": {
             "line": {
              "color": "#E5ECF6",
              "width": 0.5
             },
             "pattern": {
              "fillmode": "overlay",
              "size": 10,
              "solidity": 0.2
             }
            },
            "type": "barpolar"
           }
          ],
          "carpet": [
           {
            "aaxis": {
             "endlinecolor": "#2a3f5f",
             "gridcolor": "white",
             "linecolor": "white",
             "minorgridcolor": "white",
             "startlinecolor": "#2a3f5f"
            },
            "baxis": {
             "endlinecolor": "#2a3f5f",
             "gridcolor": "white",
             "linecolor": "white",
             "minorgridcolor": "white",
             "startlinecolor": "#2a3f5f"
            },
            "type": "carpet"
           }
          ],
          "choropleth": [
           {
            "colorbar": {
             "outlinewidth": 0,
             "ticks": ""
            },
            "type": "choropleth"
           }
          ],
          "contour": [
           {
            "colorbar": {
             "outlinewidth": 0,
             "ticks": ""
            },
            "colorscale": [
             [
              0,
              "#0d0887"
             ],
             [
              0.1111111111111111,
              "#46039f"
             ],
             [
              0.2222222222222222,
              "#7201a8"
             ],
             [
              0.3333333333333333,
              "#9c179e"
             ],
             [
              0.4444444444444444,
              "#bd3786"
             ],
             [
              0.5555555555555556,
              "#d8576b"
             ],
             [
              0.6666666666666666,
              "#ed7953"
             ],
             [
              0.7777777777777778,
              "#fb9f3a"
             ],
             [
              0.8888888888888888,
              "#fdca26"
             ],
             [
              1,
              "#f0f921"
             ]
            ],
            "type": "contour"
           }
          ],
          "contourcarpet": [
           {
            "colorbar": {
             "outlinewidth": 0,
             "ticks": ""
            },
            "type": "contourcarpet"
           }
          ],
          "heatmap": [
           {
            "colorbar": {
             "outlinewidth": 0,
             "ticks": ""
            },
            "colorscale": [
             [
              0,
              "#0d0887"
             ],
             [
              0.1111111111111111,
              "#46039f"
             ],
             [
              0.2222222222222222,
              "#7201a8"
             ],
             [
              0.3333333333333333,
              "#9c179e"
             ],
             [
              0.4444444444444444,
              "#bd3786"
             ],
             [
              0.5555555555555556,
              "#d8576b"
             ],
             [
              0.6666666666666666,
              "#ed7953"
             ],
             [
              0.7777777777777778,
              "#fb9f3a"
             ],
             [
              0.8888888888888888,
              "#fdca26"
             ],
             [
              1,
              "#f0f921"
             ]
            ],
            "type": "heatmap"
           }
          ],
          "heatmapgl": [
           {
            "colorbar": {
             "outlinewidth": 0,
             "ticks": ""
            },
            "colorscale": [
             [
              0,
              "#0d0887"
             ],
             [
              0.1111111111111111,
              "#46039f"
             ],
             [
              0.2222222222222222,
              "#7201a8"
             ],
             [
              0.3333333333333333,
              "#9c179e"
             ],
             [
              0.4444444444444444,
              "#bd3786"
             ],
             [
              0.5555555555555556,
              "#d8576b"
             ],
             [
              0.6666666666666666,
              "#ed7953"
             ],
             [
              0.7777777777777778,
              "#fb9f3a"
             ],
             [
              0.8888888888888888,
              "#fdca26"
             ],
             [
              1,
              "#f0f921"
             ]
            ],
            "type": "heatmapgl"
           }
          ],
          "histogram": [
           {
            "marker": {
             "pattern": {
              "fillmode": "overlay",
              "size": 10,
              "solidity": 0.2
             }
            },
            "type": "histogram"
           }
          ],
          "histogram2d": [
           {
            "colorbar": {
             "outlinewidth": 0,
             "ticks": ""
            },
            "colorscale": [
             [
              0,
              "#0d0887"
             ],
             [
              0.1111111111111111,
              "#46039f"
             ],
             [
              0.2222222222222222,
              "#7201a8"
             ],
             [
              0.3333333333333333,
              "#9c179e"
             ],
             [
              0.4444444444444444,
              "#bd3786"
             ],
             [
              0.5555555555555556,
              "#d8576b"
             ],
             [
              0.6666666666666666,
              "#ed7953"
             ],
             [
              0.7777777777777778,
              "#fb9f3a"
             ],
             [
              0.8888888888888888,
              "#fdca26"
             ],
             [
              1,
              "#f0f921"
             ]
            ],
            "type": "histogram2d"
           }
          ],
          "histogram2dcontour": [
           {
            "colorbar": {
             "outlinewidth": 0,
             "ticks": ""
            },
            "colorscale": [
             [
              0,
              "#0d0887"
             ],
             [
              0.1111111111111111,
              "#46039f"
             ],
             [
              0.2222222222222222,
              "#7201a8"
             ],
             [
              0.3333333333333333,
              "#9c179e"
             ],
             [
              0.4444444444444444,
              "#bd3786"
             ],
             [
              0.5555555555555556,
              "#d8576b"
             ],
             [
              0.6666666666666666,
              "#ed7953"
             ],
             [
              0.7777777777777778,
              "#fb9f3a"
             ],
             [
              0.8888888888888888,
              "#fdca26"
             ],
             [
              1,
              "#f0f921"
             ]
            ],
            "type": "histogram2dcontour"
           }
          ],
          "mesh3d": [
           {
            "colorbar": {
             "outlinewidth": 0,
             "ticks": ""
            },
            "type": "mesh3d"
           }
          ],
          "parcoords": [
           {
            "line": {
             "colorbar": {
              "outlinewidth": 0,
              "ticks": ""
             }
            },
            "type": "parcoords"
           }
          ],
          "pie": [
           {
            "automargin": true,
            "type": "pie"
           }
          ],
          "scatter": [
           {
            "fillpattern": {
             "fillmode": "overlay",
             "size": 10,
             "solidity": 0.2
            },
            "type": "scatter"
           }
          ],
          "scatter3d": [
           {
            "line": {
             "colorbar": {
              "outlinewidth": 0,
              "ticks": ""
             }
            },
            "marker": {
             "colorbar": {
              "outlinewidth": 0,
              "ticks": ""
             }
            },
            "type": "scatter3d"
           }
          ],
          "scattercarpet": [
           {
            "marker": {
             "colorbar": {
              "outlinewidth": 0,
              "ticks": ""
             }
            },
            "type": "scattercarpet"
           }
          ],
          "scattergeo": [
           {
            "marker": {
             "colorbar": {
              "outlinewidth": 0,
              "ticks": ""
             }
            },
            "type": "scattergeo"
           }
          ],
          "scattergl": [
           {
            "marker": {
             "colorbar": {
              "outlinewidth": 0,
              "ticks": ""
             }
            },
            "type": "scattergl"
           }
          ],
          "scattermapbox": [
           {
            "marker": {
             "colorbar": {
              "outlinewidth": 0,
              "ticks": ""
             }
            },
            "type": "scattermapbox"
           }
          ],
          "scatterpolar": [
           {
            "marker": {
             "colorbar": {
              "outlinewidth": 0,
              "ticks": ""
             }
            },
            "type": "scatterpolar"
           }
          ],
          "scatterpolargl": [
           {
            "marker": {
             "colorbar": {
              "outlinewidth": 0,
              "ticks": ""
             }
            },
            "type": "scatterpolargl"
           }
          ],
          "scatterternary": [
           {
            "marker": {
             "colorbar": {
              "outlinewidth": 0,
              "ticks": ""
             }
            },
            "type": "scatterternary"
           }
          ],
          "surface": [
           {
            "colorbar": {
             "outlinewidth": 0,
             "ticks": ""
            },
            "colorscale": [
             [
              0,
              "#0d0887"
             ],
             [
              0.1111111111111111,
              "#46039f"
             ],
             [
              0.2222222222222222,
              "#7201a8"
             ],
             [
              0.3333333333333333,
              "#9c179e"
             ],
             [
              0.4444444444444444,
              "#bd3786"
             ],
             [
              0.5555555555555556,
              "#d8576b"
             ],
             [
              0.6666666666666666,
              "#ed7953"
             ],
             [
              0.7777777777777778,
              "#fb9f3a"
             ],
             [
              0.8888888888888888,
              "#fdca26"
             ],
             [
              1,
              "#f0f921"
             ]
            ],
            "type": "surface"
           }
          ],
          "table": [
           {
            "cells": {
             "fill": {
              "color": "#EBF0F8"
             },
             "line": {
              "color": "white"
             }
            },
            "header": {
             "fill": {
              "color": "#C8D4E3"
             },
             "line": {
              "color": "white"
             }
            },
            "type": "table"
           }
          ]
         },
         "layout": {
          "annotationdefaults": {
           "arrowcolor": "#2a3f5f",
           "arrowhead": 0,
           "arrowwidth": 1
          },
          "autotypenumbers": "strict",
          "coloraxis": {
           "colorbar": {
            "outlinewidth": 0,
            "ticks": ""
           }
          },
          "colorscale": {
           "diverging": [
            [
             0,
             "#8e0152"
            ],
            [
             0.1,
             "#c51b7d"
            ],
            [
             0.2,
             "#de77ae"
            ],
            [
             0.3,
             "#f1b6da"
            ],
            [
             0.4,
             "#fde0ef"
            ],
            [
             0.5,
             "#f7f7f7"
            ],
            [
             0.6,
             "#e6f5d0"
            ],
            [
             0.7,
             "#b8e186"
            ],
            [
             0.8,
             "#7fbc41"
            ],
            [
             0.9,
             "#4d9221"
            ],
            [
             1,
             "#276419"
            ]
           ],
           "sequential": [
            [
             0,
             "#0d0887"
            ],
            [
             0.1111111111111111,
             "#46039f"
            ],
            [
             0.2222222222222222,
             "#7201a8"
            ],
            [
             0.3333333333333333,
             "#9c179e"
            ],
            [
             0.4444444444444444,
             "#bd3786"
            ],
            [
             0.5555555555555556,
             "#d8576b"
            ],
            [
             0.6666666666666666,
             "#ed7953"
            ],
            [
             0.7777777777777778,
             "#fb9f3a"
            ],
            [
             0.8888888888888888,
             "#fdca26"
            ],
            [
             1,
             "#f0f921"
            ]
           ],
           "sequentialminus": [
            [
             0,
             "#0d0887"
            ],
            [
             0.1111111111111111,
             "#46039f"
            ],
            [
             0.2222222222222222,
             "#7201a8"
            ],
            [
             0.3333333333333333,
             "#9c179e"
            ],
            [
             0.4444444444444444,
             "#bd3786"
            ],
            [
             0.5555555555555556,
             "#d8576b"
            ],
            [
             0.6666666666666666,
             "#ed7953"
            ],
            [
             0.7777777777777778,
             "#fb9f3a"
            ],
            [
             0.8888888888888888,
             "#fdca26"
            ],
            [
             1,
             "#f0f921"
            ]
           ]
          },
          "colorway": [
           "#636efa",
           "#EF553B",
           "#00cc96",
           "#ab63fa",
           "#FFA15A",
           "#19d3f3",
           "#FF6692",
           "#B6E880",
           "#FF97FF",
           "#FECB52"
          ],
          "font": {
           "color": "#2a3f5f"
          },
          "geo": {
           "bgcolor": "white",
           "lakecolor": "white",
           "landcolor": "#E5ECF6",
           "showlakes": true,
           "showland": true,
           "subunitcolor": "white"
          },
          "hoverlabel": {
           "align": "left"
          },
          "hovermode": "closest",
          "mapbox": {
           "style": "light"
          },
          "paper_bgcolor": "white",
          "plot_bgcolor": "#E5ECF6",
          "polar": {
           "angularaxis": {
            "gridcolor": "white",
            "linecolor": "white",
            "ticks": ""
           },
           "bgcolor": "#E5ECF6",
           "radialaxis": {
            "gridcolor": "white",
            "linecolor": "white",
            "ticks": ""
           }
          },
          "scene": {
           "xaxis": {
            "backgroundcolor": "#E5ECF6",
            "gridcolor": "white",
            "gridwidth": 2,
            "linecolor": "white",
            "showbackground": true,
            "ticks": "",
            "zerolinecolor": "white"
           },
           "yaxis": {
            "backgroundcolor": "#E5ECF6",
            "gridcolor": "white",
            "gridwidth": 2,
            "linecolor": "white",
            "showbackground": true,
            "ticks": "",
            "zerolinecolor": "white"
           },
           "zaxis": {
            "backgroundcolor": "#E5ECF6",
            "gridcolor": "white",
            "gridwidth": 2,
            "linecolor": "white",
            "showbackground": true,
            "ticks": "",
            "zerolinecolor": "white"
           }
          },
          "shapedefaults": {
           "line": {
            "color": "#2a3f5f"
           }
          },
          "ternary": {
           "aaxis": {
            "gridcolor": "white",
            "linecolor": "white",
            "ticks": ""
           },
           "baxis": {
            "gridcolor": "white",
            "linecolor": "white",
            "ticks": ""
           },
           "bgcolor": "#E5ECF6",
           "caxis": {
            "gridcolor": "white",
            "linecolor": "white",
            "ticks": ""
           }
          },
          "title": {
           "x": 0.05
          },
          "xaxis": {
           "automargin": true,
           "gridcolor": "white",
           "linecolor": "white",
           "ticks": "",
           "title": {
            "standoff": 15
           },
           "zerolinecolor": "white",
           "zerolinewidth": 2
          },
          "yaxis": {
           "automargin": true,
           "gridcolor": "white",
           "linecolor": "white",
           "ticks": "",
           "title": {
            "standoff": 15
           },
           "zerolinecolor": "white",
           "zerolinewidth": 2
          }
         }
        },
        "title": {
         "text": "Monopoly Stations' Payback Periods for Rent 3 Stations"
        },
        "xaxis": {
         "anchor": "y",
         "categoryarray": [
          "King's Cross Station",
          "Marylebone Station",
          "Fenchurch St. Station",
          "Liverpool St. Station"
         ],
         "categoryorder": "array",
         "domain": [
          0,
          1
         ],
         "title": {
          "text": "Property"
         }
        },
        "yaxis": {
         "anchor": "x",
         "domain": [
          0,
          1
         ],
         "title": {
          "text": "Payback Period Rent 3 Stations"
         }
        }
       }
      }
     },
     "metadata": {},
     "output_type": "display_data"
    },
    {
     "data": {
      "application/vnd.plotly.v1+json": {
       "config": {
        "plotlyServerURL": "https://plot.ly"
       },
       "data": [
        {
         "alignmentgroup": "True",
         "hovertemplate": "Property=%{x}<br>Payback Period Rent 4 Stations=%{y}<extra></extra>",
         "legendgroup": "King's Cross Station",
         "marker": {
          "color": "black",
          "pattern": {
           "shape": ""
          }
         },
         "name": "King's Cross Station",
         "offsetgroup": "King's Cross Station",
         "orientation": "v",
         "showlegend": true,
         "textposition": "auto",
         "type": "bar",
         "x": [
          "King's Cross Station"
         ],
         "xaxis": "x",
         "y": [
          1
         ],
         "yaxis": "y"
        },
        {
         "alignmentgroup": "True",
         "hovertemplate": "Property=%{x}<br>Payback Period Rent 4 Stations=%{y}<extra></extra>",
         "legendgroup": "Marylebone Station",
         "marker": {
          "color": "black",
          "pattern": {
           "shape": ""
          }
         },
         "name": "Marylebone Station",
         "offsetgroup": "Marylebone Station",
         "orientation": "v",
         "showlegend": true,
         "textposition": "auto",
         "type": "bar",
         "x": [
          "Marylebone Station"
         ],
         "xaxis": "x",
         "y": [
          1
         ],
         "yaxis": "y"
        },
        {
         "alignmentgroup": "True",
         "hovertemplate": "Property=%{x}<br>Payback Period Rent 4 Stations=%{y}<extra></extra>",
         "legendgroup": "Fenchurch St. Station",
         "marker": {
          "color": "black",
          "pattern": {
           "shape": ""
          }
         },
         "name": "Fenchurch St. Station",
         "offsetgroup": "Fenchurch St. Station",
         "orientation": "v",
         "showlegend": true,
         "textposition": "auto",
         "type": "bar",
         "x": [
          "Fenchurch St. Station"
         ],
         "xaxis": "x",
         "y": [
          1
         ],
         "yaxis": "y"
        },
        {
         "alignmentgroup": "True",
         "hovertemplate": "Property=%{x}<br>Payback Period Rent 4 Stations=%{y}<extra></extra>",
         "legendgroup": "Liverpool St. Station",
         "marker": {
          "color": "black",
          "pattern": {
           "shape": ""
          }
         },
         "name": "Liverpool St. Station",
         "offsetgroup": "Liverpool St. Station",
         "orientation": "v",
         "showlegend": true,
         "textposition": "auto",
         "type": "bar",
         "x": [
          "Liverpool St. Station"
         ],
         "xaxis": "x",
         "y": [
          1
         ],
         "yaxis": "y"
        }
       ],
       "layout": {
        "barmode": "relative",
        "legend": {
         "title": {
          "text": "Property"
         },
         "tracegroupgap": 0
        },
        "showlegend": false,
        "template": {
         "data": {
          "bar": [
           {
            "error_x": {
             "color": "#2a3f5f"
            },
            "error_y": {
             "color": "#2a3f5f"
            },
            "marker": {
             "line": {
              "color": "#E5ECF6",
              "width": 0.5
             },
             "pattern": {
              "fillmode": "overlay",
              "size": 10,
              "solidity": 0.2
             }
            },
            "type": "bar"
           }
          ],
          "barpolar": [
           {
            "marker": {
             "line": {
              "color": "#E5ECF6",
              "width": 0.5
             },
             "pattern": {
              "fillmode": "overlay",
              "size": 10,
              "solidity": 0.2
             }
            },
            "type": "barpolar"
           }
          ],
          "carpet": [
           {
            "aaxis": {
             "endlinecolor": "#2a3f5f",
             "gridcolor": "white",
             "linecolor": "white",
             "minorgridcolor": "white",
             "startlinecolor": "#2a3f5f"
            },
            "baxis": {
             "endlinecolor": "#2a3f5f",
             "gridcolor": "white",
             "linecolor": "white",
             "minorgridcolor": "white",
             "startlinecolor": "#2a3f5f"
            },
            "type": "carpet"
           }
          ],
          "choropleth": [
           {
            "colorbar": {
             "outlinewidth": 0,
             "ticks": ""
            },
            "type": "choropleth"
           }
          ],
          "contour": [
           {
            "colorbar": {
             "outlinewidth": 0,
             "ticks": ""
            },
            "colorscale": [
             [
              0,
              "#0d0887"
             ],
             [
              0.1111111111111111,
              "#46039f"
             ],
             [
              0.2222222222222222,
              "#7201a8"
             ],
             [
              0.3333333333333333,
              "#9c179e"
             ],
             [
              0.4444444444444444,
              "#bd3786"
             ],
             [
              0.5555555555555556,
              "#d8576b"
             ],
             [
              0.6666666666666666,
              "#ed7953"
             ],
             [
              0.7777777777777778,
              "#fb9f3a"
             ],
             [
              0.8888888888888888,
              "#fdca26"
             ],
             [
              1,
              "#f0f921"
             ]
            ],
            "type": "contour"
           }
          ],
          "contourcarpet": [
           {
            "colorbar": {
             "outlinewidth": 0,
             "ticks": ""
            },
            "type": "contourcarpet"
           }
          ],
          "heatmap": [
           {
            "colorbar": {
             "outlinewidth": 0,
             "ticks": ""
            },
            "colorscale": [
             [
              0,
              "#0d0887"
             ],
             [
              0.1111111111111111,
              "#46039f"
             ],
             [
              0.2222222222222222,
              "#7201a8"
             ],
             [
              0.3333333333333333,
              "#9c179e"
             ],
             [
              0.4444444444444444,
              "#bd3786"
             ],
             [
              0.5555555555555556,
              "#d8576b"
             ],
             [
              0.6666666666666666,
              "#ed7953"
             ],
             [
              0.7777777777777778,
              "#fb9f3a"
             ],
             [
              0.8888888888888888,
              "#fdca26"
             ],
             [
              1,
              "#f0f921"
             ]
            ],
            "type": "heatmap"
           }
          ],
          "heatmapgl": [
           {
            "colorbar": {
             "outlinewidth": 0,
             "ticks": ""
            },
            "colorscale": [
             [
              0,
              "#0d0887"
             ],
             [
              0.1111111111111111,
              "#46039f"
             ],
             [
              0.2222222222222222,
              "#7201a8"
             ],
             [
              0.3333333333333333,
              "#9c179e"
             ],
             [
              0.4444444444444444,
              "#bd3786"
             ],
             [
              0.5555555555555556,
              "#d8576b"
             ],
             [
              0.6666666666666666,
              "#ed7953"
             ],
             [
              0.7777777777777778,
              "#fb9f3a"
             ],
             [
              0.8888888888888888,
              "#fdca26"
             ],
             [
              1,
              "#f0f921"
             ]
            ],
            "type": "heatmapgl"
           }
          ],
          "histogram": [
           {
            "marker": {
             "pattern": {
              "fillmode": "overlay",
              "size": 10,
              "solidity": 0.2
             }
            },
            "type": "histogram"
           }
          ],
          "histogram2d": [
           {
            "colorbar": {
             "outlinewidth": 0,
             "ticks": ""
            },
            "colorscale": [
             [
              0,
              "#0d0887"
             ],
             [
              0.1111111111111111,
              "#46039f"
             ],
             [
              0.2222222222222222,
              "#7201a8"
             ],
             [
              0.3333333333333333,
              "#9c179e"
             ],
             [
              0.4444444444444444,
              "#bd3786"
             ],
             [
              0.5555555555555556,
              "#d8576b"
             ],
             [
              0.6666666666666666,
              "#ed7953"
             ],
             [
              0.7777777777777778,
              "#fb9f3a"
             ],
             [
              0.8888888888888888,
              "#fdca26"
             ],
             [
              1,
              "#f0f921"
             ]
            ],
            "type": "histogram2d"
           }
          ],
          "histogram2dcontour": [
           {
            "colorbar": {
             "outlinewidth": 0,
             "ticks": ""
            },
            "colorscale": [
             [
              0,
              "#0d0887"
             ],
             [
              0.1111111111111111,
              "#46039f"
             ],
             [
              0.2222222222222222,
              "#7201a8"
             ],
             [
              0.3333333333333333,
              "#9c179e"
             ],
             [
              0.4444444444444444,
              "#bd3786"
             ],
             [
              0.5555555555555556,
              "#d8576b"
             ],
             [
              0.6666666666666666,
              "#ed7953"
             ],
             [
              0.7777777777777778,
              "#fb9f3a"
             ],
             [
              0.8888888888888888,
              "#fdca26"
             ],
             [
              1,
              "#f0f921"
             ]
            ],
            "type": "histogram2dcontour"
           }
          ],
          "mesh3d": [
           {
            "colorbar": {
             "outlinewidth": 0,
             "ticks": ""
            },
            "type": "mesh3d"
           }
          ],
          "parcoords": [
           {
            "line": {
             "colorbar": {
              "outlinewidth": 0,
              "ticks": ""
             }
            },
            "type": "parcoords"
           }
          ],
          "pie": [
           {
            "automargin": true,
            "type": "pie"
           }
          ],
          "scatter": [
           {
            "fillpattern": {
             "fillmode": "overlay",
             "size": 10,
             "solidity": 0.2
            },
            "type": "scatter"
           }
          ],
          "scatter3d": [
           {
            "line": {
             "colorbar": {
              "outlinewidth": 0,
              "ticks": ""
             }
            },
            "marker": {
             "colorbar": {
              "outlinewidth": 0,
              "ticks": ""
             }
            },
            "type": "scatter3d"
           }
          ],
          "scattercarpet": [
           {
            "marker": {
             "colorbar": {
              "outlinewidth": 0,
              "ticks": ""
             }
            },
            "type": "scattercarpet"
           }
          ],
          "scattergeo": [
           {
            "marker": {
             "colorbar": {
              "outlinewidth": 0,
              "ticks": ""
             }
            },
            "type": "scattergeo"
           }
          ],
          "scattergl": [
           {
            "marker": {
             "colorbar": {
              "outlinewidth": 0,
              "ticks": ""
             }
            },
            "type": "scattergl"
           }
          ],
          "scattermapbox": [
           {
            "marker": {
             "colorbar": {
              "outlinewidth": 0,
              "ticks": ""
             }
            },
            "type": "scattermapbox"
           }
          ],
          "scatterpolar": [
           {
            "marker": {
             "colorbar": {
              "outlinewidth": 0,
              "ticks": ""
             }
            },
            "type": "scatterpolar"
           }
          ],
          "scatterpolargl": [
           {
            "marker": {
             "colorbar": {
              "outlinewidth": 0,
              "ticks": ""
             }
            },
            "type": "scatterpolargl"
           }
          ],
          "scatterternary": [
           {
            "marker": {
             "colorbar": {
              "outlinewidth": 0,
              "ticks": ""
             }
            },
            "type": "scatterternary"
           }
          ],
          "surface": [
           {
            "colorbar": {
             "outlinewidth": 0,
             "ticks": ""
            },
            "colorscale": [
             [
              0,
              "#0d0887"
             ],
             [
              0.1111111111111111,
              "#46039f"
             ],
             [
              0.2222222222222222,
              "#7201a8"
             ],
             [
              0.3333333333333333,
              "#9c179e"
             ],
             [
              0.4444444444444444,
              "#bd3786"
             ],
             [
              0.5555555555555556,
              "#d8576b"
             ],
             [
              0.6666666666666666,
              "#ed7953"
             ],
             [
              0.7777777777777778,
              "#fb9f3a"
             ],
             [
              0.8888888888888888,
              "#fdca26"
             ],
             [
              1,
              "#f0f921"
             ]
            ],
            "type": "surface"
           }
          ],
          "table": [
           {
            "cells": {
             "fill": {
              "color": "#EBF0F8"
             },
             "line": {
              "color": "white"
             }
            },
            "header": {
             "fill": {
              "color": "#C8D4E3"
             },
             "line": {
              "color": "white"
             }
            },
            "type": "table"
           }
          ]
         },
         "layout": {
          "annotationdefaults": {
           "arrowcolor": "#2a3f5f",
           "arrowhead": 0,
           "arrowwidth": 1
          },
          "autotypenumbers": "strict",
          "coloraxis": {
           "colorbar": {
            "outlinewidth": 0,
            "ticks": ""
           }
          },
          "colorscale": {
           "diverging": [
            [
             0,
             "#8e0152"
            ],
            [
             0.1,
             "#c51b7d"
            ],
            [
             0.2,
             "#de77ae"
            ],
            [
             0.3,
             "#f1b6da"
            ],
            [
             0.4,
             "#fde0ef"
            ],
            [
             0.5,
             "#f7f7f7"
            ],
            [
             0.6,
             "#e6f5d0"
            ],
            [
             0.7,
             "#b8e186"
            ],
            [
             0.8,
             "#7fbc41"
            ],
            [
             0.9,
             "#4d9221"
            ],
            [
             1,
             "#276419"
            ]
           ],
           "sequential": [
            [
             0,
             "#0d0887"
            ],
            [
             0.1111111111111111,
             "#46039f"
            ],
            [
             0.2222222222222222,
             "#7201a8"
            ],
            [
             0.3333333333333333,
             "#9c179e"
            ],
            [
             0.4444444444444444,
             "#bd3786"
            ],
            [
             0.5555555555555556,
             "#d8576b"
            ],
            [
             0.6666666666666666,
             "#ed7953"
            ],
            [
             0.7777777777777778,
             "#fb9f3a"
            ],
            [
             0.8888888888888888,
             "#fdca26"
            ],
            [
             1,
             "#f0f921"
            ]
           ],
           "sequentialminus": [
            [
             0,
             "#0d0887"
            ],
            [
             0.1111111111111111,
             "#46039f"
            ],
            [
             0.2222222222222222,
             "#7201a8"
            ],
            [
             0.3333333333333333,
             "#9c179e"
            ],
            [
             0.4444444444444444,
             "#bd3786"
            ],
            [
             0.5555555555555556,
             "#d8576b"
            ],
            [
             0.6666666666666666,
             "#ed7953"
            ],
            [
             0.7777777777777778,
             "#fb9f3a"
            ],
            [
             0.8888888888888888,
             "#fdca26"
            ],
            [
             1,
             "#f0f921"
            ]
           ]
          },
          "colorway": [
           "#636efa",
           "#EF553B",
           "#00cc96",
           "#ab63fa",
           "#FFA15A",
           "#19d3f3",
           "#FF6692",
           "#B6E880",
           "#FF97FF",
           "#FECB52"
          ],
          "font": {
           "color": "#2a3f5f"
          },
          "geo": {
           "bgcolor": "white",
           "lakecolor": "white",
           "landcolor": "#E5ECF6",
           "showlakes": true,
           "showland": true,
           "subunitcolor": "white"
          },
          "hoverlabel": {
           "align": "left"
          },
          "hovermode": "closest",
          "mapbox": {
           "style": "light"
          },
          "paper_bgcolor": "white",
          "plot_bgcolor": "#E5ECF6",
          "polar": {
           "angularaxis": {
            "gridcolor": "white",
            "linecolor": "white",
            "ticks": ""
           },
           "bgcolor": "#E5ECF6",
           "radialaxis": {
            "gridcolor": "white",
            "linecolor": "white",
            "ticks": ""
           }
          },
          "scene": {
           "xaxis": {
            "backgroundcolor": "#E5ECF6",
            "gridcolor": "white",
            "gridwidth": 2,
            "linecolor": "white",
            "showbackground": true,
            "ticks": "",
            "zerolinecolor": "white"
           },
           "yaxis": {
            "backgroundcolor": "#E5ECF6",
            "gridcolor": "white",
            "gridwidth": 2,
            "linecolor": "white",
            "showbackground": true,
            "ticks": "",
            "zerolinecolor": "white"
           },
           "zaxis": {
            "backgroundcolor": "#E5ECF6",
            "gridcolor": "white",
            "gridwidth": 2,
            "linecolor": "white",
            "showbackground": true,
            "ticks": "",
            "zerolinecolor": "white"
           }
          },
          "shapedefaults": {
           "line": {
            "color": "#2a3f5f"
           }
          },
          "ternary": {
           "aaxis": {
            "gridcolor": "white",
            "linecolor": "white",
            "ticks": ""
           },
           "baxis": {
            "gridcolor": "white",
            "linecolor": "white",
            "ticks": ""
           },
           "bgcolor": "#E5ECF6",
           "caxis": {
            "gridcolor": "white",
            "linecolor": "white",
            "ticks": ""
           }
          },
          "title": {
           "x": 0.05
          },
          "xaxis": {
           "automargin": true,
           "gridcolor": "white",
           "linecolor": "white",
           "ticks": "",
           "title": {
            "standoff": 15
           },
           "zerolinecolor": "white",
           "zerolinewidth": 2
          },
          "yaxis": {
           "automargin": true,
           "gridcolor": "white",
           "linecolor": "white",
           "ticks": "",
           "title": {
            "standoff": 15
           },
           "zerolinecolor": "white",
           "zerolinewidth": 2
          }
         }
        },
        "title": {
         "text": "Monopoly Stations' Payback Periods for Rent 4 Stations"
        },
        "xaxis": {
         "anchor": "y",
         "categoryarray": [
          "King's Cross Station",
          "Marylebone Station",
          "Fenchurch St. Station",
          "Liverpool St. Station"
         ],
         "categoryorder": "array",
         "domain": [
          0,
          1
         ],
         "title": {
          "text": "Property"
         }
        },
        "yaxis": {
         "anchor": "x",
         "domain": [
          0,
          1
         ],
         "title": {
          "text": "Payback Period Rent 4 Stations"
         }
        }
       }
      }
     },
     "metadata": {},
     "output_type": "display_data"
    }
   ],
   "source": [
    "for name in ['Rent 1 Station', 'Rent 2 Stations', 'Rent 3 Stations', 'Rent 4 Stations']:\n",
    "    df_stations['Payback Period ' + name] = df_stations['Purchase Price']/df_stations[name]\n",
    "\n",
    "    fig = px.bar(\n",
    "        df_stations,\n",
    "        x='Property',\n",
    "        y='Payback Period '+name,\n",
    "        title=\"Monopoly Stations' Payback Periods for \"+name,\n",
    "        labels={'x': 'Property', 'y': 'Payback Period'},\n",
    "        color='Property',\n",
    "        color_discrete_map=color_dict\n",
    "    )\n",
    "\n",
    "    fig.update_layout(showlegend=False)\n",
    "    fig.show()"
   ]
  },
  {
   "cell_type": "markdown",
   "metadata": {},
   "source": [
    "Utilities"
   ]
  },
  {
   "cell_type": "code",
   "execution_count": 8,
   "metadata": {},
   "outputs": [],
   "source": [
    "num_trials = 1000\n",
    "rolls = np.array([])\n",
    "\n",
    "for _ in range(num_trials):\n",
    "    rolls = np.append(rolls, random.randint(1, 6) + random.randint(1, 6))\n",
    "\n",
    "df_1_utility_data = pd.DataFrame({'Water Works': df_utilities['Purchase Price'][28]/(rolls*df_utilities['Rent Multiplier 1 Utility'][28]),\n",
    "                                  'Electric Company':  df_utilities['Purchase Price'][12]/(rolls*df_utilities['Rent Multiplier 1 Utility'][12])})\n",
    "df_2_utilities_data = pd.DataFrame({'Water Works': df_utilities['Purchase Price'][28]/(rolls*df_utilities['Rent Multiplier 2 Utilities'][28]),\n",
    "                                    'Electric Company':  df_utilities['Purchase Price'][12]/(rolls*df_utilities['Rent Multiplier 2 Utilities'][12])})"
   ]
  },
  {
   "cell_type": "code",
   "execution_count": 9,
   "metadata": {},
   "outputs": [
    {
     "data": {
      "text/html": [
       "<div>\n",
       "<style scoped>\n",
       "    .dataframe tbody tr th:only-of-type {\n",
       "        vertical-align: middle;\n",
       "    }\n",
       "\n",
       "    .dataframe tbody tr th {\n",
       "        vertical-align: top;\n",
       "    }\n",
       "\n",
       "    .dataframe thead th {\n",
       "        text-align: right;\n",
       "    }\n",
       "</style>\n",
       "<table border=\"1\" class=\"dataframe\">\n",
       "  <thead>\n",
       "    <tr style=\"text-align: right;\">\n",
       "      <th></th>\n",
       "      <th>Water Works</th>\n",
       "      <th>Electric Company</th>\n",
       "    </tr>\n",
       "  </thead>\n",
       "  <tbody>\n",
       "    <tr>\n",
       "      <th>0</th>\n",
       "      <td>4.687500</td>\n",
       "      <td>4.687500</td>\n",
       "    </tr>\n",
       "    <tr>\n",
       "      <th>1</th>\n",
       "      <td>6.250000</td>\n",
       "      <td>6.250000</td>\n",
       "    </tr>\n",
       "    <tr>\n",
       "      <th>2</th>\n",
       "      <td>3.409091</td>\n",
       "      <td>3.409091</td>\n",
       "    </tr>\n",
       "    <tr>\n",
       "      <th>3</th>\n",
       "      <td>5.357143</td>\n",
       "      <td>5.357143</td>\n",
       "    </tr>\n",
       "    <tr>\n",
       "      <th>4</th>\n",
       "      <td>18.750000</td>\n",
       "      <td>18.750000</td>\n",
       "    </tr>\n",
       "  </tbody>\n",
       "</table>\n",
       "</div>"
      ],
      "text/plain": [
       "   Water Works  Electric Company\n",
       "0     4.687500          4.687500\n",
       "1     6.250000          6.250000\n",
       "2     3.409091          3.409091\n",
       "3     5.357143          5.357143\n",
       "4    18.750000         18.750000"
      ]
     },
     "execution_count": 9,
     "metadata": {},
     "output_type": "execute_result"
    }
   ],
   "source": [
    "df_1_utility_data.head()"
   ]
  },
  {
   "cell_type": "code",
   "execution_count": 10,
   "metadata": {},
   "outputs": [
    {
     "data": {
      "text/html": [
       "<div>\n",
       "<style scoped>\n",
       "    .dataframe tbody tr th:only-of-type {\n",
       "        vertical-align: middle;\n",
       "    }\n",
       "\n",
       "    .dataframe tbody tr th {\n",
       "        vertical-align: top;\n",
       "    }\n",
       "\n",
       "    .dataframe thead th {\n",
       "        text-align: right;\n",
       "    }\n",
       "</style>\n",
       "<table border=\"1\" class=\"dataframe\">\n",
       "  <thead>\n",
       "    <tr style=\"text-align: right;\">\n",
       "      <th></th>\n",
       "      <th>Water Works</th>\n",
       "      <th>Electric Company</th>\n",
       "    </tr>\n",
       "  </thead>\n",
       "  <tbody>\n",
       "    <tr>\n",
       "      <th>0</th>\n",
       "      <td>1.875000</td>\n",
       "      <td>1.875000</td>\n",
       "    </tr>\n",
       "    <tr>\n",
       "      <th>1</th>\n",
       "      <td>2.500000</td>\n",
       "      <td>2.500000</td>\n",
       "    </tr>\n",
       "    <tr>\n",
       "      <th>2</th>\n",
       "      <td>1.363636</td>\n",
       "      <td>1.363636</td>\n",
       "    </tr>\n",
       "    <tr>\n",
       "      <th>3</th>\n",
       "      <td>2.142857</td>\n",
       "      <td>2.142857</td>\n",
       "    </tr>\n",
       "    <tr>\n",
       "      <th>4</th>\n",
       "      <td>7.500000</td>\n",
       "      <td>7.500000</td>\n",
       "    </tr>\n",
       "  </tbody>\n",
       "</table>\n",
       "</div>"
      ],
      "text/plain": [
       "   Water Works  Electric Company\n",
       "0     1.875000          1.875000\n",
       "1     2.500000          2.500000\n",
       "2     1.363636          1.363636\n",
       "3     2.142857          2.142857\n",
       "4     7.500000          7.500000"
      ]
     },
     "execution_count": 10,
     "metadata": {},
     "output_type": "execute_result"
    }
   ],
   "source": [
    "df_2_utilities_data.head()"
   ]
  },
  {
   "cell_type": "code",
   "execution_count": 11,
   "metadata": {},
   "outputs": [
    {
     "data": {
      "application/vnd.plotly.v1+json": {
       "config": {
        "plotlyServerURL": "https://plot.ly"
       },
       "data": [
        {
         "alignmentgroup": "True",
         "hovertemplate": "Utility=%{x}<br>Payback period=%{y}<extra></extra>",
         "legendgroup": "",
         "marker": {
          "color": "#636efa"
         },
         "name": "1 Utility Owned",
         "notched": false,
         "offsetgroup": "",
         "orientation": "v",
         "showlegend": false,
         "type": "box",
         "x": [
          "Water Works",
          "Water Works",
          "Water Works",
          "Water Works",
          "Water Works",
          "Water Works",
          "Water Works",
          "Water Works",
          "Water Works",
          "Water Works",
          "Water Works",
          "Water Works",
          "Water Works",
          "Water Works",
          "Water Works",
          "Water Works",
          "Water Works",
          "Water Works",
          "Water Works",
          "Water Works",
          "Water Works",
          "Water Works",
          "Water Works",
          "Water Works",
          "Water Works",
          "Water Works",
          "Water Works",
          "Water Works",
          "Water Works",
          "Water Works",
          "Water Works",
          "Water Works",
          "Water Works",
          "Water Works",
          "Water Works",
          "Water Works",
          "Water Works",
          "Water Works",
          "Water Works",
          "Water Works",
          "Water Works",
          "Water Works",
          "Water Works",
          "Water Works",
          "Water Works",
          "Water Works",
          "Water Works",
          "Water Works",
          "Water Works",
          "Water Works",
          "Water Works",
          "Water Works",
          "Water Works",
          "Water Works",
          "Water Works",
          "Water Works",
          "Water Works",
          "Water Works",
          "Water Works",
          "Water Works",
          "Water Works",
          "Water Works",
          "Water Works",
          "Water Works",
          "Water Works",
          "Water Works",
          "Water Works",
          "Water Works",
          "Water Works",
          "Water Works",
          "Water Works",
          "Water Works",
          "Water Works",
          "Water Works",
          "Water Works",
          "Water Works",
          "Water Works",
          "Water Works",
          "Water Works",
          "Water Works",
          "Water Works",
          "Water Works",
          "Water Works",
          "Water Works",
          "Water Works",
          "Water Works",
          "Water Works",
          "Water Works",
          "Water Works",
          "Water Works",
          "Water Works",
          "Water Works",
          "Water Works",
          "Water Works",
          "Water Works",
          "Water Works",
          "Water Works",
          "Water Works",
          "Water Works",
          "Water Works",
          "Water Works",
          "Water Works",
          "Water Works",
          "Water Works",
          "Water Works",
          "Water Works",
          "Water Works",
          "Water Works",
          "Water Works",
          "Water Works",
          "Water Works",
          "Water Works",
          "Water Works",
          "Water Works",
          "Water Works",
          "Water Works",
          "Water Works",
          "Water Works",
          "Water Works",
          "Water Works",
          "Water Works",
          "Water Works",
          "Water Works",
          "Water Works",
          "Water Works",
          "Water Works",
          "Water Works",
          "Water Works",
          "Water Works",
          "Water Works",
          "Water Works",
          "Water Works",
          "Water Works",
          "Water Works",
          "Water Works",
          "Water Works",
          "Water Works",
          "Water Works",
          "Water Works",
          "Water Works",
          "Water Works",
          "Water Works",
          "Water Works",
          "Water Works",
          "Water Works",
          "Water Works",
          "Water Works",
          "Water Works",
          "Water Works",
          "Water Works",
          "Water Works",
          "Water Works",
          "Water Works",
          "Water Works",
          "Water Works",
          "Water Works",
          "Water Works",
          "Water Works",
          "Water Works",
          "Water Works",
          "Water Works",
          "Water Works",
          "Water Works",
          "Water Works",
          "Water Works",
          "Water Works",
          "Water Works",
          "Water Works",
          "Water Works",
          "Water Works",
          "Water Works",
          "Water Works",
          "Water Works",
          "Water Works",
          "Water Works",
          "Water Works",
          "Water Works",
          "Water Works",
          "Water Works",
          "Water Works",
          "Water Works",
          "Water Works",
          "Water Works",
          "Water Works",
          "Water Works",
          "Water Works",
          "Water Works",
          "Water Works",
          "Water Works",
          "Water Works",
          "Water Works",
          "Water Works",
          "Water Works",
          "Water Works",
          "Water Works",
          "Water Works",
          "Water Works",
          "Water Works",
          "Water Works",
          "Water Works",
          "Water Works",
          "Water Works",
          "Water Works",
          "Water Works",
          "Water Works",
          "Water Works",
          "Water Works",
          "Water Works",
          "Water Works",
          "Water Works",
          "Water Works",
          "Water Works",
          "Water Works",
          "Water Works",
          "Water Works",
          "Water Works",
          "Water Works",
          "Water Works",
          "Water Works",
          "Water Works",
          "Water Works",
          "Water Works",
          "Water Works",
          "Water Works",
          "Water Works",
          "Water Works",
          "Water Works",
          "Water Works",
          "Water Works",
          "Water Works",
          "Water Works",
          "Water Works",
          "Water Works",
          "Water Works",
          "Water Works",
          "Water Works",
          "Water Works",
          "Water Works",
          "Water Works",
          "Water Works",
          "Water Works",
          "Water Works",
          "Water Works",
          "Water Works",
          "Water Works",
          "Water Works",
          "Water Works",
          "Water Works",
          "Water Works",
          "Water Works",
          "Water Works",
          "Water Works",
          "Water Works",
          "Water Works",
          "Water Works",
          "Water Works",
          "Water Works",
          "Water Works",
          "Water Works",
          "Water Works",
          "Water Works",
          "Water Works",
          "Water Works",
          "Water Works",
          "Water Works",
          "Water Works",
          "Water Works",
          "Water Works",
          "Water Works",
          "Water Works",
          "Water Works",
          "Water Works",
          "Water Works",
          "Water Works",
          "Water Works",
          "Water Works",
          "Water Works",
          "Water Works",
          "Water Works",
          "Water Works",
          "Water Works",
          "Water Works",
          "Water Works",
          "Water Works",
          "Water Works",
          "Water Works",
          "Water Works",
          "Water Works",
          "Water Works",
          "Water Works",
          "Water Works",
          "Water Works",
          "Water Works",
          "Water Works",
          "Water Works",
          "Water Works",
          "Water Works",
          "Water Works",
          "Water Works",
          "Water Works",
          "Water Works",
          "Water Works",
          "Water Works",
          "Water Works",
          "Water Works",
          "Water Works",
          "Water Works",
          "Water Works",
          "Water Works",
          "Water Works",
          "Water Works",
          "Water Works",
          "Water Works",
          "Water Works",
          "Water Works",
          "Water Works",
          "Water Works",
          "Water Works",
          "Water Works",
          "Water Works",
          "Water Works",
          "Water Works",
          "Water Works",
          "Water Works",
          "Water Works",
          "Water Works",
          "Water Works",
          "Water Works",
          "Water Works",
          "Water Works",
          "Water Works",
          "Water Works",
          "Water Works",
          "Water Works",
          "Water Works",
          "Water Works",
          "Water Works",
          "Water Works",
          "Water Works",
          "Water Works",
          "Water Works",
          "Water Works",
          "Water Works",
          "Water Works",
          "Water Works",
          "Water Works",
          "Water Works",
          "Water Works",
          "Water Works",
          "Water Works",
          "Water Works",
          "Water Works",
          "Water Works",
          "Water Works",
          "Water Works",
          "Water Works",
          "Water Works",
          "Water Works",
          "Water Works",
          "Water Works",
          "Water Works",
          "Water Works",
          "Water Works",
          "Water Works",
          "Water Works",
          "Water Works",
          "Water Works",
          "Water Works",
          "Water Works",
          "Water Works",
          "Water Works",
          "Water Works",
          "Water Works",
          "Water Works",
          "Water Works",
          "Water Works",
          "Water Works",
          "Water Works",
          "Water Works",
          "Water Works",
          "Water Works",
          "Water Works",
          "Water Works",
          "Water Works",
          "Water Works",
          "Water Works",
          "Water Works",
          "Water Works",
          "Water Works",
          "Water Works",
          "Water Works",
          "Water Works",
          "Water Works",
          "Water Works",
          "Water Works",
          "Water Works",
          "Water Works",
          "Water Works",
          "Water Works",
          "Water Works",
          "Water Works",
          "Water Works",
          "Water Works",
          "Water Works",
          "Water Works",
          "Water Works",
          "Water Works",
          "Water Works",
          "Water Works",
          "Water Works",
          "Water Works",
          "Water Works",
          "Water Works",
          "Water Works",
          "Water Works",
          "Water Works",
          "Water Works",
          "Water Works",
          "Water Works",
          "Water Works",
          "Water Works",
          "Water Works",
          "Water Works",
          "Water Works",
          "Water Works",
          "Water Works",
          "Water Works",
          "Water Works",
          "Water Works",
          "Water Works",
          "Water Works",
          "Water Works",
          "Water Works",
          "Water Works",
          "Water Works",
          "Water Works",
          "Water Works",
          "Water Works",
          "Water Works",
          "Water Works",
          "Water Works",
          "Water Works",
          "Water Works",
          "Water Works",
          "Water Works",
          "Water Works",
          "Water Works",
          "Water Works",
          "Water Works",
          "Water Works",
          "Water Works",
          "Water Works",
          "Water Works",
          "Water Works",
          "Water Works",
          "Water Works",
          "Water Works",
          "Water Works",
          "Water Works",
          "Water Works",
          "Water Works",
          "Water Works",
          "Water Works",
          "Water Works",
          "Water Works",
          "Water Works",
          "Water Works",
          "Water Works",
          "Water Works",
          "Water Works",
          "Water Works",
          "Water Works",
          "Water Works",
          "Water Works",
          "Water Works",
          "Water Works",
          "Water Works",
          "Water Works",
          "Water Works",
          "Water Works",
          "Water Works",
          "Water Works",
          "Water Works",
          "Water Works",
          "Water Works",
          "Water Works",
          "Water Works",
          "Water Works",
          "Water Works",
          "Water Works",
          "Water Works",
          "Water Works",
          "Water Works",
          "Water Works",
          "Water Works",
          "Water Works",
          "Water Works",
          "Water Works",
          "Water Works",
          "Water Works",
          "Water Works",
          "Water Works",
          "Water Works",
          "Water Works",
          "Water Works",
          "Water Works",
          "Water Works",
          "Water Works",
          "Water Works",
          "Water Works",
          "Water Works",
          "Water Works",
          "Water Works",
          "Water Works",
          "Water Works",
          "Water Works",
          "Water Works",
          "Water Works",
          "Water Works",
          "Water Works",
          "Water Works",
          "Water Works",
          "Water Works",
          "Water Works",
          "Water Works",
          "Water Works",
          "Water Works",
          "Water Works",
          "Water Works",
          "Water Works",
          "Water Works",
          "Water Works",
          "Water Works",
          "Water Works",
          "Water Works",
          "Water Works",
          "Water Works",
          "Water Works",
          "Water Works",
          "Water Works",
          "Water Works",
          "Water Works",
          "Water Works",
          "Water Works",
          "Water Works",
          "Water Works",
          "Water Works",
          "Water Works",
          "Water Works",
          "Water Works",
          "Water Works",
          "Water Works",
          "Water Works",
          "Water Works",
          "Water Works",
          "Water Works",
          "Water Works",
          "Water Works",
          "Water Works",
          "Water Works",
          "Water Works",
          "Water Works",
          "Water Works",
          "Water Works",
          "Water Works",
          "Water Works",
          "Water Works",
          "Water Works",
          "Water Works",
          "Water Works",
          "Water Works",
          "Water Works",
          "Water Works",
          "Water Works",
          "Water Works",
          "Water Works",
          "Water Works",
          "Water Works",
          "Water Works",
          "Water Works",
          "Water Works",
          "Water Works",
          "Water Works",
          "Water Works",
          "Water Works",
          "Water Works",
          "Water Works",
          "Water Works",
          "Water Works",
          "Water Works",
          "Water Works",
          "Water Works",
          "Water Works",
          "Water Works",
          "Water Works",
          "Water Works",
          "Water Works",
          "Water Works",
          "Water Works",
          "Water Works",
          "Water Works",
          "Water Works",
          "Water Works",
          "Water Works",
          "Water Works",
          "Water Works",
          "Water Works",
          "Water Works",
          "Water Works",
          "Water Works",
          "Water Works",
          "Water Works",
          "Water Works",
          "Water Works",
          "Water Works",
          "Water Works",
          "Water Works",
          "Water Works",
          "Water Works",
          "Water Works",
          "Water Works",
          "Water Works",
          "Water Works",
          "Water Works",
          "Water Works",
          "Water Works",
          "Water Works",
          "Water Works",
          "Water Works",
          "Water Works",
          "Water Works",
          "Water Works",
          "Water Works",
          "Water Works",
          "Water Works",
          "Water Works",
          "Water Works",
          "Water Works",
          "Water Works",
          "Water Works",
          "Water Works",
          "Water Works",
          "Water Works",
          "Water Works",
          "Water Works",
          "Water Works",
          "Water Works",
          "Water Works",
          "Water Works",
          "Water Works",
          "Water Works",
          "Water Works",
          "Water Works",
          "Water Works",
          "Water Works",
          "Water Works",
          "Water Works",
          "Water Works",
          "Water Works",
          "Water Works",
          "Water Works",
          "Water Works",
          "Water Works",
          "Water Works",
          "Water Works",
          "Water Works",
          "Water Works",
          "Water Works",
          "Water Works",
          "Water Works",
          "Water Works",
          "Water Works",
          "Water Works",
          "Water Works",
          "Water Works",
          "Water Works",
          "Water Works",
          "Water Works",
          "Water Works",
          "Water Works",
          "Water Works",
          "Water Works",
          "Water Works",
          "Water Works",
          "Water Works",
          "Water Works",
          "Water Works",
          "Water Works",
          "Water Works",
          "Water Works",
          "Water Works",
          "Water Works",
          "Water Works",
          "Water Works",
          "Water Works",
          "Water Works",
          "Water Works",
          "Water Works",
          "Water Works",
          "Water Works",
          "Water Works",
          "Water Works",
          "Water Works",
          "Water Works",
          "Water Works",
          "Water Works",
          "Water Works",
          "Water Works",
          "Water Works",
          "Water Works",
          "Water Works",
          "Water Works",
          "Water Works",
          "Water Works",
          "Water Works",
          "Water Works",
          "Water Works",
          "Water Works",
          "Water Works",
          "Water Works",
          "Water Works",
          "Water Works",
          "Water Works",
          "Water Works",
          "Water Works",
          "Water Works",
          "Water Works",
          "Water Works",
          "Water Works",
          "Water Works",
          "Water Works",
          "Water Works",
          "Water Works",
          "Water Works",
          "Water Works",
          "Water Works",
          "Water Works",
          "Water Works",
          "Water Works",
          "Water Works",
          "Water Works",
          "Water Works",
          "Water Works",
          "Water Works",
          "Water Works",
          "Water Works",
          "Water Works",
          "Water Works",
          "Water Works",
          "Water Works",
          "Water Works",
          "Water Works",
          "Water Works",
          "Water Works",
          "Water Works",
          "Water Works",
          "Water Works",
          "Water Works",
          "Water Works",
          "Water Works",
          "Water Works",
          "Water Works",
          "Water Works",
          "Water Works",
          "Water Works",
          "Water Works",
          "Water Works",
          "Water Works",
          "Water Works",
          "Water Works",
          "Water Works",
          "Water Works",
          "Water Works",
          "Water Works",
          "Water Works",
          "Water Works",
          "Water Works",
          "Water Works",
          "Water Works",
          "Water Works",
          "Water Works",
          "Water Works",
          "Water Works",
          "Water Works",
          "Water Works",
          "Water Works",
          "Water Works",
          "Water Works",
          "Water Works",
          "Water Works",
          "Water Works",
          "Water Works",
          "Water Works",
          "Water Works",
          "Water Works",
          "Water Works",
          "Water Works",
          "Water Works",
          "Water Works",
          "Water Works",
          "Water Works",
          "Water Works",
          "Water Works",
          "Water Works",
          "Water Works",
          "Water Works",
          "Water Works",
          "Water Works",
          "Water Works",
          "Water Works",
          "Water Works",
          "Water Works",
          "Water Works",
          "Water Works",
          "Water Works",
          "Water Works",
          "Water Works",
          "Water Works",
          "Water Works",
          "Water Works",
          "Water Works",
          "Water Works",
          "Water Works",
          "Water Works",
          "Water Works",
          "Water Works",
          "Water Works",
          "Water Works",
          "Water Works",
          "Water Works",
          "Water Works",
          "Water Works",
          "Water Works",
          "Water Works",
          "Water Works",
          "Water Works",
          "Water Works",
          "Water Works",
          "Water Works",
          "Water Works",
          "Water Works",
          "Water Works",
          "Water Works",
          "Water Works",
          "Water Works",
          "Water Works",
          "Water Works",
          "Water Works",
          "Water Works",
          "Water Works",
          "Water Works",
          "Water Works",
          "Water Works",
          "Water Works",
          "Water Works",
          "Water Works",
          "Water Works",
          "Water Works",
          "Water Works",
          "Water Works",
          "Water Works",
          "Water Works",
          "Water Works",
          "Water Works",
          "Water Works",
          "Water Works",
          "Water Works",
          "Water Works",
          "Water Works",
          "Water Works",
          "Water Works",
          "Water Works",
          "Water Works",
          "Water Works",
          "Water Works",
          "Water Works",
          "Water Works",
          "Water Works",
          "Water Works",
          "Water Works",
          "Water Works",
          "Water Works",
          "Water Works",
          "Water Works",
          "Water Works",
          "Water Works",
          "Water Works",
          "Water Works",
          "Water Works",
          "Water Works",
          "Water Works",
          "Water Works",
          "Water Works",
          "Water Works",
          "Water Works",
          "Water Works",
          "Water Works",
          "Water Works",
          "Water Works",
          "Water Works",
          "Water Works",
          "Water Works",
          "Water Works",
          "Water Works",
          "Water Works",
          "Water Works",
          "Water Works",
          "Water Works",
          "Water Works",
          "Water Works",
          "Water Works",
          "Water Works",
          "Water Works",
          "Water Works",
          "Water Works",
          "Water Works",
          "Water Works",
          "Water Works",
          "Water Works",
          "Water Works",
          "Water Works",
          "Water Works",
          "Water Works",
          "Water Works",
          "Water Works",
          "Water Works",
          "Water Works",
          "Water Works",
          "Water Works",
          "Water Works",
          "Water Works",
          "Water Works",
          "Water Works",
          "Water Works",
          "Water Works",
          "Water Works",
          "Water Works",
          "Water Works",
          "Water Works",
          "Water Works",
          "Water Works",
          "Water Works",
          "Water Works",
          "Water Works",
          "Water Works",
          "Water Works",
          "Water Works",
          "Water Works",
          "Water Works",
          "Water Works",
          "Water Works",
          "Water Works",
          "Water Works",
          "Water Works",
          "Water Works",
          "Water Works",
          "Water Works",
          "Water Works",
          "Water Works",
          "Water Works",
          "Water Works",
          "Water Works",
          "Water Works",
          "Water Works",
          "Water Works",
          "Water Works",
          "Water Works",
          "Water Works",
          "Water Works",
          "Water Works",
          "Water Works",
          "Water Works",
          "Water Works",
          "Water Works",
          "Water Works",
          "Water Works",
          "Water Works",
          "Water Works",
          "Water Works",
          "Water Works",
          "Water Works",
          "Water Works",
          "Water Works",
          "Water Works",
          "Water Works",
          "Water Works",
          "Water Works",
          "Water Works",
          "Water Works",
          "Water Works",
          "Water Works",
          "Water Works",
          "Water Works",
          "Water Works",
          "Water Works",
          "Water Works",
          "Water Works",
          "Water Works",
          "Water Works",
          "Water Works",
          "Electric Company",
          "Electric Company",
          "Electric Company",
          "Electric Company",
          "Electric Company",
          "Electric Company",
          "Electric Company",
          "Electric Company",
          "Electric Company",
          "Electric Company",
          "Electric Company",
          "Electric Company",
          "Electric Company",
          "Electric Company",
          "Electric Company",
          "Electric Company",
          "Electric Company",
          "Electric Company",
          "Electric Company",
          "Electric Company",
          "Electric Company",
          "Electric Company",
          "Electric Company",
          "Electric Company",
          "Electric Company",
          "Electric Company",
          "Electric Company",
          "Electric Company",
          "Electric Company",
          "Electric Company",
          "Electric Company",
          "Electric Company",
          "Electric Company",
          "Electric Company",
          "Electric Company",
          "Electric Company",
          "Electric Company",
          "Electric Company",
          "Electric Company",
          "Electric Company",
          "Electric Company",
          "Electric Company",
          "Electric Company",
          "Electric Company",
          "Electric Company",
          "Electric Company",
          "Electric Company",
          "Electric Company",
          "Electric Company",
          "Electric Company",
          "Electric Company",
          "Electric Company",
          "Electric Company",
          "Electric Company",
          "Electric Company",
          "Electric Company",
          "Electric Company",
          "Electric Company",
          "Electric Company",
          "Electric Company",
          "Electric Company",
          "Electric Company",
          "Electric Company",
          "Electric Company",
          "Electric Company",
          "Electric Company",
          "Electric Company",
          "Electric Company",
          "Electric Company",
          "Electric Company",
          "Electric Company",
          "Electric Company",
          "Electric Company",
          "Electric Company",
          "Electric Company",
          "Electric Company",
          "Electric Company",
          "Electric Company",
          "Electric Company",
          "Electric Company",
          "Electric Company",
          "Electric Company",
          "Electric Company",
          "Electric Company",
          "Electric Company",
          "Electric Company",
          "Electric Company",
          "Electric Company",
          "Electric Company",
          "Electric Company",
          "Electric Company",
          "Electric Company",
          "Electric Company",
          "Electric Company",
          "Electric Company",
          "Electric Company",
          "Electric Company",
          "Electric Company",
          "Electric Company",
          "Electric Company",
          "Electric Company",
          "Electric Company",
          "Electric Company",
          "Electric Company",
          "Electric Company",
          "Electric Company",
          "Electric Company",
          "Electric Company",
          "Electric Company",
          "Electric Company",
          "Electric Company",
          "Electric Company",
          "Electric Company",
          "Electric Company",
          "Electric Company",
          "Electric Company",
          "Electric Company",
          "Electric Company",
          "Electric Company",
          "Electric Company",
          "Electric Company",
          "Electric Company",
          "Electric Company",
          "Electric Company",
          "Electric Company",
          "Electric Company",
          "Electric Company",
          "Electric Company",
          "Electric Company",
          "Electric Company",
          "Electric Company",
          "Electric Company",
          "Electric Company",
          "Electric Company",
          "Electric Company",
          "Electric Company",
          "Electric Company",
          "Electric Company",
          "Electric Company",
          "Electric Company",
          "Electric Company",
          "Electric Company",
          "Electric Company",
          "Electric Company",
          "Electric Company",
          "Electric Company",
          "Electric Company",
          "Electric Company",
          "Electric Company",
          "Electric Company",
          "Electric Company",
          "Electric Company",
          "Electric Company",
          "Electric Company",
          "Electric Company",
          "Electric Company",
          "Electric Company",
          "Electric Company",
          "Electric Company",
          "Electric Company",
          "Electric Company",
          "Electric Company",
          "Electric Company",
          "Electric Company",
          "Electric Company",
          "Electric Company",
          "Electric Company",
          "Electric Company",
          "Electric Company",
          "Electric Company",
          "Electric Company",
          "Electric Company",
          "Electric Company",
          "Electric Company",
          "Electric Company",
          "Electric Company",
          "Electric Company",
          "Electric Company",
          "Electric Company",
          "Electric Company",
          "Electric Company",
          "Electric Company",
          "Electric Company",
          "Electric Company",
          "Electric Company",
          "Electric Company",
          "Electric Company",
          "Electric Company",
          "Electric Company",
          "Electric Company",
          "Electric Company",
          "Electric Company",
          "Electric Company",
          "Electric Company",
          "Electric Company",
          "Electric Company",
          "Electric Company",
          "Electric Company",
          "Electric Company",
          "Electric Company",
          "Electric Company",
          "Electric Company",
          "Electric Company",
          "Electric Company",
          "Electric Company",
          "Electric Company",
          "Electric Company",
          "Electric Company",
          "Electric Company",
          "Electric Company",
          "Electric Company",
          "Electric Company",
          "Electric Company",
          "Electric Company",
          "Electric Company",
          "Electric Company",
          "Electric Company",
          "Electric Company",
          "Electric Company",
          "Electric Company",
          "Electric Company",
          "Electric Company",
          "Electric Company",
          "Electric Company",
          "Electric Company",
          "Electric Company",
          "Electric Company",
          "Electric Company",
          "Electric Company",
          "Electric Company",
          "Electric Company",
          "Electric Company",
          "Electric Company",
          "Electric Company",
          "Electric Company",
          "Electric Company",
          "Electric Company",
          "Electric Company",
          "Electric Company",
          "Electric Company",
          "Electric Company",
          "Electric Company",
          "Electric Company",
          "Electric Company",
          "Electric Company",
          "Electric Company",
          "Electric Company",
          "Electric Company",
          "Electric Company",
          "Electric Company",
          "Electric Company",
          "Electric Company",
          "Electric Company",
          "Electric Company",
          "Electric Company",
          "Electric Company",
          "Electric Company",
          "Electric Company",
          "Electric Company",
          "Electric Company",
          "Electric Company",
          "Electric Company",
          "Electric Company",
          "Electric Company",
          "Electric Company",
          "Electric Company",
          "Electric Company",
          "Electric Company",
          "Electric Company",
          "Electric Company",
          "Electric Company",
          "Electric Company",
          "Electric Company",
          "Electric Company",
          "Electric Company",
          "Electric Company",
          "Electric Company",
          "Electric Company",
          "Electric Company",
          "Electric Company",
          "Electric Company",
          "Electric Company",
          "Electric Company",
          "Electric Company",
          "Electric Company",
          "Electric Company",
          "Electric Company",
          "Electric Company",
          "Electric Company",
          "Electric Company",
          "Electric Company",
          "Electric Company",
          "Electric Company",
          "Electric Company",
          "Electric Company",
          "Electric Company",
          "Electric Company",
          "Electric Company",
          "Electric Company",
          "Electric Company",
          "Electric Company",
          "Electric Company",
          "Electric Company",
          "Electric Company",
          "Electric Company",
          "Electric Company",
          "Electric Company",
          "Electric Company",
          "Electric Company",
          "Electric Company",
          "Electric Company",
          "Electric Company",
          "Electric Company",
          "Electric Company",
          "Electric Company",
          "Electric Company",
          "Electric Company",
          "Electric Company",
          "Electric Company",
          "Electric Company",
          "Electric Company",
          "Electric Company",
          "Electric Company",
          "Electric Company",
          "Electric Company",
          "Electric Company",
          "Electric Company",
          "Electric Company",
          "Electric Company",
          "Electric Company",
          "Electric Company",
          "Electric Company",
          "Electric Company",
          "Electric Company",
          "Electric Company",
          "Electric Company",
          "Electric Company",
          "Electric Company",
          "Electric Company",
          "Electric Company",
          "Electric Company",
          "Electric Company",
          "Electric Company",
          "Electric Company",
          "Electric Company",
          "Electric Company",
          "Electric Company",
          "Electric Company",
          "Electric Company",
          "Electric Company",
          "Electric Company",
          "Electric Company",
          "Electric Company",
          "Electric Company",
          "Electric Company",
          "Electric Company",
          "Electric Company",
          "Electric Company",
          "Electric Company",
          "Electric Company",
          "Electric Company",
          "Electric Company",
          "Electric Company",
          "Electric Company",
          "Electric Company",
          "Electric Company",
          "Electric Company",
          "Electric Company",
          "Electric Company",
          "Electric Company",
          "Electric Company",
          "Electric Company",
          "Electric Company",
          "Electric Company",
          "Electric Company",
          "Electric Company",
          "Electric Company",
          "Electric Company",
          "Electric Company",
          "Electric Company",
          "Electric Company",
          "Electric Company",
          "Electric Company",
          "Electric Company",
          "Electric Company",
          "Electric Company",
          "Electric Company",
          "Electric Company",
          "Electric Company",
          "Electric Company",
          "Electric Company",
          "Electric Company",
          "Electric Company",
          "Electric Company",
          "Electric Company",
          "Electric Company",
          "Electric Company",
          "Electric Company",
          "Electric Company",
          "Electric Company",
          "Electric Company",
          "Electric Company",
          "Electric Company",
          "Electric Company",
          "Electric Company",
          "Electric Company",
          "Electric Company",
          "Electric Company",
          "Electric Company",
          "Electric Company",
          "Electric Company",
          "Electric Company",
          "Electric Company",
          "Electric Company",
          "Electric Company",
          "Electric Company",
          "Electric Company",
          "Electric Company",
          "Electric Company",
          "Electric Company",
          "Electric Company",
          "Electric Company",
          "Electric Company",
          "Electric Company",
          "Electric Company",
          "Electric Company",
          "Electric Company",
          "Electric Company",
          "Electric Company",
          "Electric Company",
          "Electric Company",
          "Electric Company",
          "Electric Company",
          "Electric Company",
          "Electric Company",
          "Electric Company",
          "Electric Company",
          "Electric Company",
          "Electric Company",
          "Electric Company",
          "Electric Company",
          "Electric Company",
          "Electric Company",
          "Electric Company",
          "Electric Company",
          "Electric Company",
          "Electric Company",
          "Electric Company",
          "Electric Company",
          "Electric Company",
          "Electric Company",
          "Electric Company",
          "Electric Company",
          "Electric Company",
          "Electric Company",
          "Electric Company",
          "Electric Company",
          "Electric Company",
          "Electric Company",
          "Electric Company",
          "Electric Company",
          "Electric Company",
          "Electric Company",
          "Electric Company",
          "Electric Company",
          "Electric Company",
          "Electric Company",
          "Electric Company",
          "Electric Company",
          "Electric Company",
          "Electric Company",
          "Electric Company",
          "Electric Company",
          "Electric Company",
          "Electric Company",
          "Electric Company",
          "Electric Company",
          "Electric Company",
          "Electric Company",
          "Electric Company",
          "Electric Company",
          "Electric Company",
          "Electric Company",
          "Electric Company",
          "Electric Company",
          "Electric Company",
          "Electric Company",
          "Electric Company",
          "Electric Company",
          "Electric Company",
          "Electric Company",
          "Electric Company",
          "Electric Company",
          "Electric Company",
          "Electric Company",
          "Electric Company",
          "Electric Company",
          "Electric Company",
          "Electric Company",
          "Electric Company",
          "Electric Company",
          "Electric Company",
          "Electric Company",
          "Electric Company",
          "Electric Company",
          "Electric Company",
          "Electric Company",
          "Electric Company",
          "Electric Company",
          "Electric Company",
          "Electric Company",
          "Electric Company",
          "Electric Company",
          "Electric Company",
          "Electric Company",
          "Electric Company",
          "Electric Company",
          "Electric Company",
          "Electric Company",
          "Electric Company",
          "Electric Company",
          "Electric Company",
          "Electric Company",
          "Electric Company",
          "Electric Company",
          "Electric Company",
          "Electric Company",
          "Electric Company",
          "Electric Company",
          "Electric Company",
          "Electric Company",
          "Electric Company",
          "Electric Company",
          "Electric Company",
          "Electric Company",
          "Electric Company",
          "Electric Company",
          "Electric Company",
          "Electric Company",
          "Electric Company",
          "Electric Company",
          "Electric Company",
          "Electric Company",
          "Electric Company",
          "Electric Company",
          "Electric Company",
          "Electric Company",
          "Electric Company",
          "Electric Company",
          "Electric Company",
          "Electric Company",
          "Electric Company",
          "Electric Company",
          "Electric Company",
          "Electric Company",
          "Electric Company",
          "Electric Company",
          "Electric Company",
          "Electric Company",
          "Electric Company",
          "Electric Company",
          "Electric Company",
          "Electric Company",
          "Electric Company",
          "Electric Company",
          "Electric Company",
          "Electric Company",
          "Electric Company",
          "Electric Company",
          "Electric Company",
          "Electric Company",
          "Electric Company",
          "Electric Company",
          "Electric Company",
          "Electric Company",
          "Electric Company",
          "Electric Company",
          "Electric Company",
          "Electric Company",
          "Electric Company",
          "Electric Company",
          "Electric Company",
          "Electric Company",
          "Electric Company",
          "Electric Company",
          "Electric Company",
          "Electric Company",
          "Electric Company",
          "Electric Company",
          "Electric Company",
          "Electric Company",
          "Electric Company",
          "Electric Company",
          "Electric Company",
          "Electric Company",
          "Electric Company",
          "Electric Company",
          "Electric Company",
          "Electric Company",
          "Electric Company",
          "Electric Company",
          "Electric Company",
          "Electric Company",
          "Electric Company",
          "Electric Company",
          "Electric Company",
          "Electric Company",
          "Electric Company",
          "Electric Company",
          "Electric Company",
          "Electric Company",
          "Electric Company",
          "Electric Company",
          "Electric Company",
          "Electric Company",
          "Electric Company",
          "Electric Company",
          "Electric Company",
          "Electric Company",
          "Electric Company",
          "Electric Company",
          "Electric Company",
          "Electric Company",
          "Electric Company",
          "Electric Company",
          "Electric Company",
          "Electric Company",
          "Electric Company",
          "Electric Company",
          "Electric Company",
          "Electric Company",
          "Electric Company",
          "Electric Company",
          "Electric Company",
          "Electric Company",
          "Electric Company",
          "Electric Company",
          "Electric Company",
          "Electric Company",
          "Electric Company",
          "Electric Company",
          "Electric Company",
          "Electric Company",
          "Electric Company",
          "Electric Company",
          "Electric Company",
          "Electric Company",
          "Electric Company",
          "Electric Company",
          "Electric Company",
          "Electric Company",
          "Electric Company",
          "Electric Company",
          "Electric Company",
          "Electric Company",
          "Electric Company",
          "Electric Company",
          "Electric Company",
          "Electric Company",
          "Electric Company",
          "Electric Company",
          "Electric Company",
          "Electric Company",
          "Electric Company",
          "Electric Company",
          "Electric Company",
          "Electric Company",
          "Electric Company",
          "Electric Company",
          "Electric Company",
          "Electric Company",
          "Electric Company",
          "Electric Company",
          "Electric Company",
          "Electric Company",
          "Electric Company",
          "Electric Company",
          "Electric Company",
          "Electric Company",
          "Electric Company",
          "Electric Company",
          "Electric Company",
          "Electric Company",
          "Electric Company",
          "Electric Company",
          "Electric Company",
          "Electric Company",
          "Electric Company",
          "Electric Company",
          "Electric Company",
          "Electric Company",
          "Electric Company",
          "Electric Company",
          "Electric Company",
          "Electric Company",
          "Electric Company",
          "Electric Company",
          "Electric Company",
          "Electric Company",
          "Electric Company",
          "Electric Company",
          "Electric Company",
          "Electric Company",
          "Electric Company",
          "Electric Company",
          "Electric Company",
          "Electric Company",
          "Electric Company",
          "Electric Company",
          "Electric Company",
          "Electric Company",
          "Electric Company",
          "Electric Company",
          "Electric Company",
          "Electric Company",
          "Electric Company",
          "Electric Company",
          "Electric Company",
          "Electric Company",
          "Electric Company",
          "Electric Company",
          "Electric Company",
          "Electric Company",
          "Electric Company",
          "Electric Company",
          "Electric Company",
          "Electric Company",
          "Electric Company",
          "Electric Company",
          "Electric Company",
          "Electric Company",
          "Electric Company",
          "Electric Company",
          "Electric Company",
          "Electric Company",
          "Electric Company",
          "Electric Company",
          "Electric Company",
          "Electric Company",
          "Electric Company",
          "Electric Company",
          "Electric Company",
          "Electric Company",
          "Electric Company",
          "Electric Company",
          "Electric Company",
          "Electric Company",
          "Electric Company",
          "Electric Company",
          "Electric Company",
          "Electric Company",
          "Electric Company",
          "Electric Company",
          "Electric Company",
          "Electric Company",
          "Electric Company",
          "Electric Company",
          "Electric Company",
          "Electric Company",
          "Electric Company",
          "Electric Company",
          "Electric Company",
          "Electric Company",
          "Electric Company",
          "Electric Company",
          "Electric Company",
          "Electric Company",
          "Electric Company",
          "Electric Company",
          "Electric Company",
          "Electric Company",
          "Electric Company",
          "Electric Company",
          "Electric Company",
          "Electric Company",
          "Electric Company",
          "Electric Company",
          "Electric Company",
          "Electric Company",
          "Electric Company",
          "Electric Company",
          "Electric Company",
          "Electric Company",
          "Electric Company",
          "Electric Company",
          "Electric Company",
          "Electric Company",
          "Electric Company",
          "Electric Company",
          "Electric Company",
          "Electric Company",
          "Electric Company",
          "Electric Company",
          "Electric Company",
          "Electric Company",
          "Electric Company",
          "Electric Company",
          "Electric Company",
          "Electric Company",
          "Electric Company",
          "Electric Company",
          "Electric Company",
          "Electric Company",
          "Electric Company",
          "Electric Company",
          "Electric Company",
          "Electric Company",
          "Electric Company",
          "Electric Company",
          "Electric Company",
          "Electric Company",
          "Electric Company",
          "Electric Company",
          "Electric Company",
          "Electric Company",
          "Electric Company",
          "Electric Company",
          "Electric Company",
          "Electric Company",
          "Electric Company",
          "Electric Company",
          "Electric Company",
          "Electric Company",
          "Electric Company",
          "Electric Company",
          "Electric Company",
          "Electric Company",
          "Electric Company",
          "Electric Company",
          "Electric Company",
          "Electric Company",
          "Electric Company",
          "Electric Company",
          "Electric Company",
          "Electric Company",
          "Electric Company",
          "Electric Company",
          "Electric Company",
          "Electric Company",
          "Electric Company",
          "Electric Company",
          "Electric Company",
          "Electric Company",
          "Electric Company",
          "Electric Company",
          "Electric Company",
          "Electric Company",
          "Electric Company",
          "Electric Company",
          "Electric Company",
          "Electric Company",
          "Electric Company",
          "Electric Company",
          "Electric Company",
          "Electric Company",
          "Electric Company",
          "Electric Company",
          "Electric Company",
          "Electric Company",
          "Electric Company",
          "Electric Company",
          "Electric Company",
          "Electric Company",
          "Electric Company",
          "Electric Company",
          "Electric Company",
          "Electric Company",
          "Electric Company",
          "Electric Company",
          "Electric Company",
          "Electric Company",
          "Electric Company",
          "Electric Company",
          "Electric Company",
          "Electric Company",
          "Electric Company",
          "Electric Company",
          "Electric Company",
          "Electric Company",
          "Electric Company",
          "Electric Company",
          "Electric Company",
          "Electric Company",
          "Electric Company",
          "Electric Company",
          "Electric Company",
          "Electric Company",
          "Electric Company",
          "Electric Company",
          "Electric Company",
          "Electric Company",
          "Electric Company",
          "Electric Company",
          "Electric Company",
          "Electric Company",
          "Electric Company",
          "Electric Company",
          "Electric Company",
          "Electric Company",
          "Electric Company",
          "Electric Company",
          "Electric Company",
          "Electric Company",
          "Electric Company",
          "Electric Company",
          "Electric Company",
          "Electric Company",
          "Electric Company",
          "Electric Company",
          "Electric Company",
          "Electric Company",
          "Electric Company",
          "Electric Company",
          "Electric Company",
          "Electric Company",
          "Electric Company",
          "Electric Company",
          "Electric Company",
          "Electric Company",
          "Electric Company",
          "Electric Company",
          "Electric Company",
          "Electric Company",
          "Electric Company",
          "Electric Company",
          "Electric Company",
          "Electric Company",
          "Electric Company",
          "Electric Company",
          "Electric Company",
          "Electric Company",
          "Electric Company",
          "Electric Company",
          "Electric Company",
          "Electric Company",
          "Electric Company",
          "Electric Company",
          "Electric Company",
          "Electric Company",
          "Electric Company",
          "Electric Company",
          "Electric Company",
          "Electric Company",
          "Electric Company",
          "Electric Company",
          "Electric Company",
          "Electric Company",
          "Electric Company",
          "Electric Company",
          "Electric Company",
          "Electric Company",
          "Electric Company",
          "Electric Company",
          "Electric Company",
          "Electric Company",
          "Electric Company",
          "Electric Company",
          "Electric Company",
          "Electric Company",
          "Electric Company",
          "Electric Company",
          "Electric Company",
          "Electric Company",
          "Electric Company",
          "Electric Company",
          "Electric Company",
          "Electric Company",
          "Electric Company",
          "Electric Company",
          "Electric Company",
          "Electric Company",
          "Electric Company",
          "Electric Company",
          "Electric Company",
          "Electric Company",
          "Electric Company",
          "Electric Company",
          "Electric Company",
          "Electric Company",
          "Electric Company",
          "Electric Company",
          "Electric Company",
          "Electric Company",
          "Electric Company",
          "Electric Company",
          "Electric Company",
          "Electric Company",
          "Electric Company",
          "Electric Company",
          "Electric Company",
          "Electric Company",
          "Electric Company",
          "Electric Company",
          "Electric Company",
          "Electric Company",
          "Electric Company",
          "Electric Company",
          "Electric Company",
          "Electric Company",
          "Electric Company"
         ],
         "x0": " ",
         "xaxis": "x",
         "y": [
          4.6875,
          6.25,
          3.409090909090909,
          5.357142857142857,
          18.75,
          6.25,
          6.25,
          3.75,
          5.357142857142857,
          3.75,
          4.6875,
          4.166666666666667,
          3.125,
          12.5,
          9.375,
          4.6875,
          4.166666666666667,
          4.6875,
          7.5,
          6.25,
          6.25,
          7.5,
          5.357142857142857,
          18.75,
          4.6875,
          5.357142857142857,
          7.5,
          9.375,
          5.357142857142857,
          6.25,
          7.5,
          5.357142857142857,
          3.75,
          9.375,
          4.6875,
          7.5,
          4.6875,
          3.409090909090909,
          9.375,
          6.25,
          4.166666666666667,
          6.25,
          4.6875,
          3.75,
          3.125,
          4.6875,
          12.5,
          7.5,
          4.166666666666667,
          5.357142857142857,
          6.25,
          6.25,
          7.5,
          6.25,
          12.5,
          4.6875,
          7.5,
          7.5,
          6.25,
          9.375,
          7.5,
          5.357142857142857,
          4.6875,
          9.375,
          7.5,
          3.125,
          6.25,
          4.166666666666667,
          4.6875,
          6.25,
          12.5,
          5.357142857142857,
          4.6875,
          7.5,
          5.357142857142857,
          4.6875,
          4.166666666666667,
          6.25,
          7.5,
          4.6875,
          6.25,
          9.375,
          7.5,
          3.409090909090909,
          6.25,
          4.166666666666667,
          7.5,
          4.6875,
          7.5,
          7.5,
          6.25,
          3.75,
          6.25,
          4.6875,
          7.5,
          5.357142857142857,
          5.357142857142857,
          5.357142857142857,
          18.75,
          3.409090909090909,
          3.75,
          4.6875,
          5.357142857142857,
          3.125,
          9.375,
          9.375,
          7.5,
          5.357142857142857,
          6.25,
          4.6875,
          6.25,
          4.6875,
          6.25,
          12.5,
          5.357142857142857,
          4.6875,
          9.375,
          5.357142857142857,
          4.166666666666667,
          9.375,
          5.357142857142857,
          5.357142857142857,
          4.6875,
          4.166666666666667,
          6.25,
          9.375,
          3.75,
          9.375,
          5.357142857142857,
          4.6875,
          4.6875,
          3.75,
          7.5,
          3.75,
          3.75,
          4.166666666666667,
          4.6875,
          7.5,
          3.75,
          7.5,
          9.375,
          3.409090909090909,
          12.5,
          5.357142857142857,
          6.25,
          4.166666666666667,
          5.357142857142857,
          5.357142857142857,
          5.357142857142857,
          4.6875,
          9.375,
          6.25,
          3.125,
          6.25,
          4.166666666666667,
          3.75,
          7.5,
          5.357142857142857,
          3.409090909090909,
          4.6875,
          5.357142857142857,
          4.166666666666667,
          4.166666666666667,
          5.357142857142857,
          4.166666666666667,
          12.5,
          4.6875,
          7.5,
          4.166666666666667,
          5.357142857142857,
          4.6875,
          18.75,
          6.25,
          6.25,
          5.357142857142857,
          6.25,
          4.166666666666667,
          4.166666666666667,
          7.5,
          12.5,
          7.5,
          5.357142857142857,
          3.75,
          4.6875,
          3.409090909090909,
          5.357142857142857,
          3.409090909090909,
          3.75,
          3.409090909090909,
          9.375,
          9.375,
          3.75,
          3.75,
          5.357142857142857,
          4.6875,
          9.375,
          3.75,
          4.6875,
          4.166666666666667,
          5.357142857142857,
          9.375,
          4.166666666666667,
          18.75,
          6.25,
          3.125,
          4.6875,
          6.25,
          4.166666666666667,
          6.25,
          7.5,
          4.6875,
          7.5,
          5.357142857142857,
          3.75,
          6.25,
          3.409090909090909,
          7.5,
          4.166666666666667,
          9.375,
          5.357142857142857,
          4.166666666666667,
          9.375,
          4.6875,
          3.409090909090909,
          6.25,
          5.357142857142857,
          3.409090909090909,
          7.5,
          6.25,
          4.6875,
          5.357142857142857,
          4.6875,
          5.357142857142857,
          4.6875,
          4.166666666666667,
          7.5,
          6.25,
          12.5,
          5.357142857142857,
          9.375,
          4.6875,
          3.125,
          4.166666666666667,
          4.166666666666667,
          12.5,
          3.75,
          5.357142857142857,
          12.5,
          5.357142857142857,
          18.75,
          6.25,
          7.5,
          5.357142857142857,
          3.75,
          4.166666666666667,
          4.166666666666667,
          5.357142857142857,
          4.6875,
          5.357142857142857,
          9.375,
          4.166666666666667,
          5.357142857142857,
          4.166666666666667,
          5.357142857142857,
          4.166666666666667,
          6.25,
          5.357142857142857,
          7.5,
          6.25,
          6.25,
          6.25,
          4.6875,
          4.6875,
          7.5,
          6.25,
          4.6875,
          4.166666666666667,
          9.375,
          9.375,
          12.5,
          4.6875,
          3.409090909090909,
          7.5,
          3.75,
          3.75,
          5.357142857142857,
          4.166666666666667,
          3.75,
          5.357142857142857,
          3.409090909090909,
          3.75,
          7.5,
          4.6875,
          7.5,
          7.5,
          4.6875,
          12.5,
          6.25,
          7.5,
          4.6875,
          6.25,
          5.357142857142857,
          12.5,
          3.75,
          7.5,
          7.5,
          12.5,
          3.75,
          5.357142857142857,
          7.5,
          6.25,
          3.409090909090909,
          7.5,
          5.357142857142857,
          3.409090909090909,
          9.375,
          4.6875,
          5.357142857142857,
          3.75,
          5.357142857142857,
          5.357142857142857,
          4.6875,
          7.5,
          7.5,
          7.5,
          18.75,
          7.5,
          12.5,
          9.375,
          7.5,
          4.6875,
          3.409090909090909,
          4.6875,
          4.166666666666667,
          6.25,
          3.409090909090909,
          5.357142857142857,
          12.5,
          4.166666666666667,
          7.5,
          7.5,
          6.25,
          18.75,
          4.6875,
          4.6875,
          5.357142857142857,
          4.166666666666667,
          9.375,
          7.5,
          4.6875,
          4.6875,
          4.6875,
          4.166666666666667,
          3.125,
          5.357142857142857,
          4.166666666666667,
          5.357142857142857,
          3.75,
          5.357142857142857,
          9.375,
          3.75,
          6.25,
          6.25,
          5.357142857142857,
          4.6875,
          12.5,
          9.375,
          4.6875,
          9.375,
          3.409090909090909,
          4.166666666666667,
          12.5,
          3.75,
          7.5,
          4.6875,
          12.5,
          3.125,
          18.75,
          7.5,
          5.357142857142857,
          9.375,
          7.5,
          12.5,
          3.75,
          4.6875,
          5.357142857142857,
          4.166666666666667,
          4.166666666666667,
          6.25,
          3.75,
          4.6875,
          6.25,
          12.5,
          3.409090909090909,
          3.409090909090909,
          7.5,
          6.25,
          12.5,
          5.357142857142857,
          5.357142857142857,
          4.166666666666667,
          4.166666666666667,
          7.5,
          6.25,
          7.5,
          3.75,
          5.357142857142857,
          18.75,
          4.166666666666667,
          7.5,
          5.357142857142857,
          4.166666666666667,
          7.5,
          3.75,
          3.409090909090909,
          6.25,
          3.75,
          9.375,
          4.166666666666667,
          3.75,
          3.75,
          4.6875,
          3.75,
          4.6875,
          9.375,
          4.6875,
          4.6875,
          5.357142857142857,
          6.25,
          5.357142857142857,
          6.25,
          9.375,
          3.75,
          12.5,
          9.375,
          7.5,
          5.357142857142857,
          3.75,
          3.75,
          4.6875,
          4.166666666666667,
          3.75,
          5.357142857142857,
          12.5,
          3.75,
          12.5,
          4.6875,
          3.75,
          3.409090909090909,
          4.6875,
          4.6875,
          5.357142857142857,
          3.125,
          4.166666666666667,
          4.6875,
          9.375,
          4.166666666666667,
          3.409090909090909,
          7.5,
          7.5,
          5.357142857142857,
          4.166666666666667,
          4.166666666666667,
          4.6875,
          9.375,
          7.5,
          3.75,
          7.5,
          4.166666666666667,
          18.75,
          12.5,
          6.25,
          4.6875,
          3.409090909090909,
          7.5,
          12.5,
          4.6875,
          9.375,
          3.75,
          4.166666666666667,
          5.357142857142857,
          3.125,
          3.125,
          3.409090909090909,
          18.75,
          4.166666666666667,
          6.25,
          12.5,
          4.6875,
          4.6875,
          5.357142857142857,
          7.5,
          3.409090909090909,
          5.357142857142857,
          5.357142857142857,
          6.25,
          3.75,
          4.6875,
          18.75,
          4.166666666666667,
          4.166666666666667,
          5.357142857142857,
          6.25,
          4.166666666666667,
          12.5,
          12.5,
          5.357142857142857,
          3.75,
          6.25,
          4.6875,
          7.5,
          5.357142857142857,
          18.75,
          4.166666666666667,
          7.5,
          7.5,
          5.357142857142857,
          12.5,
          4.166666666666667,
          7.5,
          5.357142857142857,
          7.5,
          3.409090909090909,
          3.409090909090909,
          4.166666666666667,
          6.25,
          12.5,
          3.75,
          5.357142857142857,
          4.166666666666667,
          3.125,
          12.5,
          4.6875,
          3.125,
          3.409090909090909,
          18.75,
          7.5,
          7.5,
          7.5,
          4.6875,
          4.6875,
          4.6875,
          7.5,
          6.25,
          4.6875,
          3.409090909090909,
          12.5,
          3.75,
          7.5,
          4.6875,
          9.375,
          6.25,
          6.25,
          4.6875,
          3.125,
          6.25,
          4.166666666666667,
          5.357142857142857,
          9.375,
          3.75,
          4.166666666666667,
          5.357142857142857,
          5.357142857142857,
          4.166666666666667,
          6.25,
          18.75,
          6.25,
          7.5,
          5.357142857142857,
          3.75,
          5.357142857142857,
          18.75,
          3.75,
          5.357142857142857,
          18.75,
          9.375,
          6.25,
          6.25,
          4.166666666666667,
          4.6875,
          7.5,
          9.375,
          5.357142857142857,
          12.5,
          4.6875,
          6.25,
          4.6875,
          3.409090909090909,
          5.357142857142857,
          4.6875,
          4.166666666666667,
          4.166666666666667,
          4.6875,
          3.75,
          5.357142857142857,
          5.357142857142857,
          5.357142857142857,
          7.5,
          6.25,
          4.166666666666667,
          18.75,
          4.166666666666667,
          4.166666666666667,
          4.6875,
          3.409090909090909,
          4.6875,
          6.25,
          3.125,
          3.409090909090909,
          12.5,
          5.357142857142857,
          5.357142857142857,
          5.357142857142857,
          4.166666666666667,
          3.409090909090909,
          18.75,
          7.5,
          3.75,
          4.6875,
          5.357142857142857,
          12.5,
          9.375,
          5.357142857142857,
          3.125,
          6.25,
          4.6875,
          7.5,
          4.166666666666667,
          6.25,
          4.166666666666667,
          3.75,
          6.25,
          3.125,
          4.166666666666667,
          9.375,
          4.166666666666667,
          7.5,
          7.5,
          3.75,
          4.6875,
          5.357142857142857,
          7.5,
          5.357142857142857,
          6.25,
          6.25,
          7.5,
          12.5,
          4.6875,
          12.5,
          4.6875,
          4.6875,
          9.375,
          4.6875,
          3.409090909090909,
          3.409090909090909,
          6.25,
          12.5,
          5.357142857142857,
          7.5,
          7.5,
          4.6875,
          5.357142857142857,
          4.6875,
          5.357142857142857,
          3.75,
          3.409090909090909,
          6.25,
          4.6875,
          3.75,
          4.6875,
          9.375,
          3.75,
          4.166666666666667,
          12.5,
          6.25,
          7.5,
          9.375,
          9.375,
          5.357142857142857,
          4.6875,
          3.75,
          4.166666666666667,
          4.166666666666667,
          5.357142857142857,
          12.5,
          7.5,
          3.75,
          3.409090909090909,
          6.25,
          3.409090909090909,
          3.409090909090909,
          9.375,
          4.166666666666667,
          6.25,
          7.5,
          18.75,
          3.125,
          5.357142857142857,
          4.166666666666667,
          5.357142857142857,
          3.75,
          5.357142857142857,
          7.5,
          3.125,
          9.375,
          4.166666666666667,
          4.6875,
          6.25,
          4.6875,
          3.125,
          12.5,
          4.6875,
          5.357142857142857,
          3.125,
          5.357142857142857,
          3.75,
          7.5,
          5.357142857142857,
          5.357142857142857,
          5.357142857142857,
          5.357142857142857,
          6.25,
          5.357142857142857,
          12.5,
          5.357142857142857,
          12.5,
          4.166666666666667,
          3.125,
          3.75,
          4.6875,
          12.5,
          5.357142857142857,
          5.357142857142857,
          6.25,
          4.6875,
          9.375,
          7.5,
          3.409090909090909,
          4.166666666666667,
          4.166666666666667,
          4.6875,
          7.5,
          4.6875,
          4.166666666666667,
          7.5,
          4.6875,
          9.375,
          6.25,
          6.25,
          12.5,
          3.409090909090909,
          4.166666666666667,
          7.5,
          7.5,
          7.5,
          6.25,
          3.75,
          9.375,
          4.6875,
          6.25,
          6.25,
          3.125,
          5.357142857142857,
          9.375,
          12.5,
          7.5,
          5.357142857142857,
          4.166666666666667,
          6.25,
          6.25,
          3.409090909090909,
          5.357142857142857,
          5.357142857142857,
          7.5,
          3.75,
          4.166666666666667,
          4.6875,
          6.25,
          4.6875,
          4.166666666666667,
          5.357142857142857,
          3.75,
          4.6875,
          4.6875,
          3.125,
          12.5,
          9.375,
          7.5,
          7.5,
          4.6875,
          3.125,
          7.5,
          3.75,
          5.357142857142857,
          5.357142857142857,
          3.125,
          4.166666666666667,
          3.75,
          4.166666666666667,
          12.5,
          3.75,
          6.25,
          9.375,
          3.75,
          5.357142857142857,
          6.25,
          5.357142857142857,
          4.166666666666667,
          5.357142857142857,
          7.5,
          12.5,
          6.25,
          9.375,
          3.75,
          3.75,
          5.357142857142857,
          7.5,
          9.375,
          3.409090909090909,
          5.357142857142857,
          5.357142857142857,
          5.357142857142857,
          5.357142857142857,
          3.75,
          6.25,
          12.5,
          4.6875,
          4.166666666666667,
          4.166666666666667,
          9.375,
          6.25,
          3.125,
          3.75,
          6.25,
          4.6875,
          4.6875,
          4.166666666666667,
          4.166666666666667,
          5.357142857142857,
          3.409090909090909,
          4.166666666666667,
          12.5,
          4.6875,
          5.357142857142857,
          4.166666666666667,
          18.75,
          5.357142857142857,
          3.75,
          6.25,
          9.375,
          5.357142857142857,
          6.25,
          4.166666666666667,
          6.25,
          3.75,
          6.25,
          5.357142857142857,
          4.6875,
          4.166666666666667,
          3.409090909090909,
          9.375,
          18.75,
          3.75,
          3.75,
          7.5,
          3.75,
          3.75,
          9.375,
          9.375,
          5.357142857142857,
          3.75,
          5.357142857142857,
          3.409090909090909,
          12.5,
          4.6875,
          12.5,
          5.357142857142857,
          4.6875,
          5.357142857142857,
          4.166666666666667,
          6.25,
          5.357142857142857,
          9.375,
          6.25,
          6.25,
          4.6875,
          4.6875,
          6.25,
          3.409090909090909,
          6.25,
          9.375,
          5.357142857142857,
          5.357142857142857,
          18.75,
          3.125,
          4.6875,
          4.166666666666667,
          6.25,
          9.375,
          4.166666666666667,
          4.6875,
          3.75,
          7.5,
          3.125,
          6.25,
          4.6875,
          3.75,
          5.357142857142857,
          4.6875,
          3.409090909090909,
          7.5,
          4.166666666666667,
          4.6875,
          5.357142857142857,
          7.5,
          6.25,
          5.357142857142857,
          6.25,
          3.409090909090909,
          6.25,
          6.25,
          4.6875,
          3.75,
          12.5,
          12.5,
          4.6875,
          5.357142857142857,
          6.25,
          3.75,
          6.25,
          7.5,
          7.5,
          5.357142857142857,
          4.6875,
          18.75,
          4.166666666666667,
          7.5,
          6.25,
          9.375,
          6.25,
          5.357142857142857,
          5.357142857142857,
          3.409090909090909,
          5.357142857142857,
          7.5,
          12.5,
          18.75,
          3.409090909090909,
          5.357142857142857,
          6.25,
          4.166666666666667,
          4.6875,
          5.357142857142857,
          4.6875,
          3.75,
          12.5,
          5.357142857142857,
          4.166666666666667,
          4.166666666666667,
          4.6875,
          3.75,
          7.5,
          12.5,
          4.6875,
          4.6875,
          9.375,
          5.357142857142857,
          4.166666666666667,
          6.25,
          7.5,
          3.125,
          5.357142857142857,
          4.166666666666667,
          3.75,
          4.166666666666667,
          7.5,
          9.375,
          3.409090909090909,
          6.25,
          4.6875,
          3.409090909090909,
          3.75,
          6.25,
          6.25,
          5.357142857142857,
          9.375,
          4.6875,
          4.6875,
          5.357142857142857,
          3.125,
          4.6875,
          12.5,
          4.6875,
          6.25,
          5.357142857142857,
          7.5,
          5.357142857142857,
          6.25,
          18.75,
          5.357142857142857,
          4.6875,
          6.25,
          3.409090909090909,
          5.357142857142857,
          18.75,
          6.25,
          6.25,
          3.75,
          5.357142857142857,
          3.75,
          4.6875,
          4.166666666666667,
          3.125,
          12.5,
          9.375,
          4.6875,
          4.166666666666667,
          4.6875,
          7.5,
          6.25,
          6.25,
          7.5,
          5.357142857142857,
          18.75,
          4.6875,
          5.357142857142857,
          7.5,
          9.375,
          5.357142857142857,
          6.25,
          7.5,
          5.357142857142857,
          3.75,
          9.375,
          4.6875,
          7.5,
          4.6875,
          3.409090909090909,
          9.375,
          6.25,
          4.166666666666667,
          6.25,
          4.6875,
          3.75,
          3.125,
          4.6875,
          12.5,
          7.5,
          4.166666666666667,
          5.357142857142857,
          6.25,
          6.25,
          7.5,
          6.25,
          12.5,
          4.6875,
          7.5,
          7.5,
          6.25,
          9.375,
          7.5,
          5.357142857142857,
          4.6875,
          9.375,
          7.5,
          3.125,
          6.25,
          4.166666666666667,
          4.6875,
          6.25,
          12.5,
          5.357142857142857,
          4.6875,
          7.5,
          5.357142857142857,
          4.6875,
          4.166666666666667,
          6.25,
          7.5,
          4.6875,
          6.25,
          9.375,
          7.5,
          3.409090909090909,
          6.25,
          4.166666666666667,
          7.5,
          4.6875,
          7.5,
          7.5,
          6.25,
          3.75,
          6.25,
          4.6875,
          7.5,
          5.357142857142857,
          5.357142857142857,
          5.357142857142857,
          18.75,
          3.409090909090909,
          3.75,
          4.6875,
          5.357142857142857,
          3.125,
          9.375,
          9.375,
          7.5,
          5.357142857142857,
          6.25,
          4.6875,
          6.25,
          4.6875,
          6.25,
          12.5,
          5.357142857142857,
          4.6875,
          9.375,
          5.357142857142857,
          4.166666666666667,
          9.375,
          5.357142857142857,
          5.357142857142857,
          4.6875,
          4.166666666666667,
          6.25,
          9.375,
          3.75,
          9.375,
          5.357142857142857,
          4.6875,
          4.6875,
          3.75,
          7.5,
          3.75,
          3.75,
          4.166666666666667,
          4.6875,
          7.5,
          3.75,
          7.5,
          9.375,
          3.409090909090909,
          12.5,
          5.357142857142857,
          6.25,
          4.166666666666667,
          5.357142857142857,
          5.357142857142857,
          5.357142857142857,
          4.6875,
          9.375,
          6.25,
          3.125,
          6.25,
          4.166666666666667,
          3.75,
          7.5,
          5.357142857142857,
          3.409090909090909,
          4.6875,
          5.357142857142857,
          4.166666666666667,
          4.166666666666667,
          5.357142857142857,
          4.166666666666667,
          12.5,
          4.6875,
          7.5,
          4.166666666666667,
          5.357142857142857,
          4.6875,
          18.75,
          6.25,
          6.25,
          5.357142857142857,
          6.25,
          4.166666666666667,
          4.166666666666667,
          7.5,
          12.5,
          7.5,
          5.357142857142857,
          3.75,
          4.6875,
          3.409090909090909,
          5.357142857142857,
          3.409090909090909,
          3.75,
          3.409090909090909,
          9.375,
          9.375,
          3.75,
          3.75,
          5.357142857142857,
          4.6875,
          9.375,
          3.75,
          4.6875,
          4.166666666666667,
          5.357142857142857,
          9.375,
          4.166666666666667,
          18.75,
          6.25,
          3.125,
          4.6875,
          6.25,
          4.166666666666667,
          6.25,
          7.5,
          4.6875,
          7.5,
          5.357142857142857,
          3.75,
          6.25,
          3.409090909090909,
          7.5,
          4.166666666666667,
          9.375,
          5.357142857142857,
          4.166666666666667,
          9.375,
          4.6875,
          3.409090909090909,
          6.25,
          5.357142857142857,
          3.409090909090909,
          7.5,
          6.25,
          4.6875,
          5.357142857142857,
          4.6875,
          5.357142857142857,
          4.6875,
          4.166666666666667,
          7.5,
          6.25,
          12.5,
          5.357142857142857,
          9.375,
          4.6875,
          3.125,
          4.166666666666667,
          4.166666666666667,
          12.5,
          3.75,
          5.357142857142857,
          12.5,
          5.357142857142857,
          18.75,
          6.25,
          7.5,
          5.357142857142857,
          3.75,
          4.166666666666667,
          4.166666666666667,
          5.357142857142857,
          4.6875,
          5.357142857142857,
          9.375,
          4.166666666666667,
          5.357142857142857,
          4.166666666666667,
          5.357142857142857,
          4.166666666666667,
          6.25,
          5.357142857142857,
          7.5,
          6.25,
          6.25,
          6.25,
          4.6875,
          4.6875,
          7.5,
          6.25,
          4.6875,
          4.166666666666667,
          9.375,
          9.375,
          12.5,
          4.6875,
          3.409090909090909,
          7.5,
          3.75,
          3.75,
          5.357142857142857,
          4.166666666666667,
          3.75,
          5.357142857142857,
          3.409090909090909,
          3.75,
          7.5,
          4.6875,
          7.5,
          7.5,
          4.6875,
          12.5,
          6.25,
          7.5,
          4.6875,
          6.25,
          5.357142857142857,
          12.5,
          3.75,
          7.5,
          7.5,
          12.5,
          3.75,
          5.357142857142857,
          7.5,
          6.25,
          3.409090909090909,
          7.5,
          5.357142857142857,
          3.409090909090909,
          9.375,
          4.6875,
          5.357142857142857,
          3.75,
          5.357142857142857,
          5.357142857142857,
          4.6875,
          7.5,
          7.5,
          7.5,
          18.75,
          7.5,
          12.5,
          9.375,
          7.5,
          4.6875,
          3.409090909090909,
          4.6875,
          4.166666666666667,
          6.25,
          3.409090909090909,
          5.357142857142857,
          12.5,
          4.166666666666667,
          7.5,
          7.5,
          6.25,
          18.75,
          4.6875,
          4.6875,
          5.357142857142857,
          4.166666666666667,
          9.375,
          7.5,
          4.6875,
          4.6875,
          4.6875,
          4.166666666666667,
          3.125,
          5.357142857142857,
          4.166666666666667,
          5.357142857142857,
          3.75,
          5.357142857142857,
          9.375,
          3.75,
          6.25,
          6.25,
          5.357142857142857,
          4.6875,
          12.5,
          9.375,
          4.6875,
          9.375,
          3.409090909090909,
          4.166666666666667,
          12.5,
          3.75,
          7.5,
          4.6875,
          12.5,
          3.125,
          18.75,
          7.5,
          5.357142857142857,
          9.375,
          7.5,
          12.5,
          3.75,
          4.6875,
          5.357142857142857,
          4.166666666666667,
          4.166666666666667,
          6.25,
          3.75,
          4.6875,
          6.25,
          12.5,
          3.409090909090909,
          3.409090909090909,
          7.5,
          6.25,
          12.5,
          5.357142857142857,
          5.357142857142857,
          4.166666666666667,
          4.166666666666667,
          7.5,
          6.25,
          7.5,
          3.75,
          5.357142857142857,
          18.75,
          4.166666666666667,
          7.5,
          5.357142857142857,
          4.166666666666667,
          7.5,
          3.75,
          3.409090909090909,
          6.25,
          3.75,
          9.375,
          4.166666666666667,
          3.75,
          3.75,
          4.6875,
          3.75,
          4.6875,
          9.375,
          4.6875,
          4.6875,
          5.357142857142857,
          6.25,
          5.357142857142857,
          6.25,
          9.375,
          3.75,
          12.5,
          9.375,
          7.5,
          5.357142857142857,
          3.75,
          3.75,
          4.6875,
          4.166666666666667,
          3.75,
          5.357142857142857,
          12.5,
          3.75,
          12.5,
          4.6875,
          3.75,
          3.409090909090909,
          4.6875,
          4.6875,
          5.357142857142857,
          3.125,
          4.166666666666667,
          4.6875,
          9.375,
          4.166666666666667,
          3.409090909090909,
          7.5,
          7.5,
          5.357142857142857,
          4.166666666666667,
          4.166666666666667,
          4.6875,
          9.375,
          7.5,
          3.75,
          7.5,
          4.166666666666667,
          18.75,
          12.5,
          6.25,
          4.6875,
          3.409090909090909,
          7.5,
          12.5,
          4.6875,
          9.375,
          3.75,
          4.166666666666667,
          5.357142857142857,
          3.125,
          3.125,
          3.409090909090909,
          18.75,
          4.166666666666667,
          6.25,
          12.5,
          4.6875,
          4.6875,
          5.357142857142857,
          7.5,
          3.409090909090909,
          5.357142857142857,
          5.357142857142857,
          6.25,
          3.75,
          4.6875,
          18.75,
          4.166666666666667,
          4.166666666666667,
          5.357142857142857,
          6.25,
          4.166666666666667,
          12.5,
          12.5,
          5.357142857142857,
          3.75,
          6.25,
          4.6875,
          7.5,
          5.357142857142857,
          18.75,
          4.166666666666667,
          7.5,
          7.5,
          5.357142857142857,
          12.5,
          4.166666666666667,
          7.5,
          5.357142857142857,
          7.5,
          3.409090909090909,
          3.409090909090909,
          4.166666666666667,
          6.25,
          12.5,
          3.75,
          5.357142857142857,
          4.166666666666667,
          3.125,
          12.5,
          4.6875,
          3.125,
          3.409090909090909,
          18.75,
          7.5,
          7.5,
          7.5,
          4.6875,
          4.6875,
          4.6875,
          7.5,
          6.25,
          4.6875,
          3.409090909090909,
          12.5,
          3.75,
          7.5,
          4.6875,
          9.375,
          6.25,
          6.25,
          4.6875,
          3.125,
          6.25,
          4.166666666666667,
          5.357142857142857,
          9.375,
          3.75,
          4.166666666666667,
          5.357142857142857,
          5.357142857142857,
          4.166666666666667,
          6.25,
          18.75,
          6.25,
          7.5,
          5.357142857142857,
          3.75,
          5.357142857142857,
          18.75,
          3.75,
          5.357142857142857,
          18.75,
          9.375,
          6.25,
          6.25,
          4.166666666666667,
          4.6875,
          7.5,
          9.375,
          5.357142857142857,
          12.5,
          4.6875,
          6.25,
          4.6875,
          3.409090909090909,
          5.357142857142857,
          4.6875,
          4.166666666666667,
          4.166666666666667,
          4.6875,
          3.75,
          5.357142857142857,
          5.357142857142857,
          5.357142857142857,
          7.5,
          6.25,
          4.166666666666667,
          18.75,
          4.166666666666667,
          4.166666666666667,
          4.6875,
          3.409090909090909,
          4.6875,
          6.25,
          3.125,
          3.409090909090909,
          12.5,
          5.357142857142857,
          5.357142857142857,
          5.357142857142857,
          4.166666666666667,
          3.409090909090909,
          18.75,
          7.5,
          3.75,
          4.6875,
          5.357142857142857,
          12.5,
          9.375,
          5.357142857142857,
          3.125,
          6.25,
          4.6875,
          7.5,
          4.166666666666667,
          6.25,
          4.166666666666667,
          3.75,
          6.25,
          3.125,
          4.166666666666667,
          9.375,
          4.166666666666667,
          7.5,
          7.5,
          3.75,
          4.6875,
          5.357142857142857,
          7.5,
          5.357142857142857,
          6.25,
          6.25,
          7.5,
          12.5,
          4.6875,
          12.5,
          4.6875,
          4.6875,
          9.375,
          4.6875,
          3.409090909090909,
          3.409090909090909,
          6.25,
          12.5,
          5.357142857142857,
          7.5,
          7.5,
          4.6875,
          5.357142857142857,
          4.6875,
          5.357142857142857,
          3.75,
          3.409090909090909,
          6.25,
          4.6875,
          3.75,
          4.6875,
          9.375,
          3.75,
          4.166666666666667,
          12.5,
          6.25,
          7.5,
          9.375,
          9.375,
          5.357142857142857,
          4.6875,
          3.75,
          4.166666666666667,
          4.166666666666667,
          5.357142857142857,
          12.5,
          7.5,
          3.75,
          3.409090909090909,
          6.25,
          3.409090909090909,
          3.409090909090909,
          9.375,
          4.166666666666667,
          6.25,
          7.5,
          18.75,
          3.125,
          5.357142857142857,
          4.166666666666667,
          5.357142857142857,
          3.75,
          5.357142857142857,
          7.5,
          3.125,
          9.375,
          4.166666666666667,
          4.6875,
          6.25,
          4.6875,
          3.125,
          12.5,
          4.6875,
          5.357142857142857,
          3.125,
          5.357142857142857,
          3.75,
          7.5,
          5.357142857142857,
          5.357142857142857,
          5.357142857142857,
          5.357142857142857,
          6.25,
          5.357142857142857,
          12.5,
          5.357142857142857,
          12.5,
          4.166666666666667,
          3.125,
          3.75,
          4.6875,
          12.5,
          5.357142857142857,
          5.357142857142857,
          6.25,
          4.6875,
          9.375,
          7.5,
          3.409090909090909,
          4.166666666666667,
          4.166666666666667,
          4.6875,
          7.5,
          4.6875,
          4.166666666666667,
          7.5,
          4.6875,
          9.375,
          6.25,
          6.25,
          12.5,
          3.409090909090909,
          4.166666666666667,
          7.5,
          7.5,
          7.5,
          6.25,
          3.75,
          9.375,
          4.6875,
          6.25,
          6.25,
          3.125,
          5.357142857142857,
          9.375,
          12.5,
          7.5,
          5.357142857142857,
          4.166666666666667,
          6.25,
          6.25,
          3.409090909090909,
          5.357142857142857,
          5.357142857142857,
          7.5,
          3.75,
          4.166666666666667,
          4.6875,
          6.25,
          4.6875,
          4.166666666666667,
          5.357142857142857,
          3.75,
          4.6875,
          4.6875,
          3.125,
          12.5,
          9.375,
          7.5,
          7.5,
          4.6875,
          3.125,
          7.5,
          3.75,
          5.357142857142857,
          5.357142857142857,
          3.125,
          4.166666666666667,
          3.75,
          4.166666666666667,
          12.5,
          3.75,
          6.25,
          9.375,
          3.75,
          5.357142857142857,
          6.25,
          5.357142857142857,
          4.166666666666667,
          5.357142857142857,
          7.5,
          12.5,
          6.25,
          9.375,
          3.75,
          3.75,
          5.357142857142857,
          7.5,
          9.375,
          3.409090909090909,
          5.357142857142857,
          5.357142857142857,
          5.357142857142857,
          5.357142857142857,
          3.75,
          6.25,
          12.5,
          4.6875,
          4.166666666666667,
          4.166666666666667,
          9.375,
          6.25,
          3.125,
          3.75,
          6.25,
          4.6875,
          4.6875,
          4.166666666666667,
          4.166666666666667,
          5.357142857142857,
          3.409090909090909,
          4.166666666666667,
          12.5,
          4.6875,
          5.357142857142857,
          4.166666666666667,
          18.75,
          5.357142857142857,
          3.75,
          6.25,
          9.375,
          5.357142857142857,
          6.25,
          4.166666666666667,
          6.25,
          3.75,
          6.25,
          5.357142857142857,
          4.6875,
          4.166666666666667,
          3.409090909090909,
          9.375,
          18.75,
          3.75,
          3.75,
          7.5,
          3.75,
          3.75,
          9.375,
          9.375,
          5.357142857142857,
          3.75,
          5.357142857142857,
          3.409090909090909,
          12.5,
          4.6875,
          12.5,
          5.357142857142857,
          4.6875,
          5.357142857142857,
          4.166666666666667,
          6.25,
          5.357142857142857,
          9.375,
          6.25,
          6.25,
          4.6875,
          4.6875,
          6.25,
          3.409090909090909,
          6.25,
          9.375,
          5.357142857142857,
          5.357142857142857,
          18.75,
          3.125,
          4.6875,
          4.166666666666667,
          6.25,
          9.375,
          4.166666666666667,
          4.6875,
          3.75,
          7.5,
          3.125,
          6.25,
          4.6875,
          3.75,
          5.357142857142857,
          4.6875,
          3.409090909090909,
          7.5,
          4.166666666666667,
          4.6875,
          5.357142857142857,
          7.5,
          6.25,
          5.357142857142857,
          6.25,
          3.409090909090909,
          6.25,
          6.25,
          4.6875,
          3.75,
          12.5,
          12.5,
          4.6875,
          5.357142857142857,
          6.25,
          3.75,
          6.25,
          7.5,
          7.5,
          5.357142857142857,
          4.6875,
          18.75,
          4.166666666666667,
          7.5,
          6.25,
          9.375,
          6.25,
          5.357142857142857,
          5.357142857142857,
          3.409090909090909,
          5.357142857142857,
          7.5,
          12.5,
          18.75,
          3.409090909090909,
          5.357142857142857,
          6.25,
          4.166666666666667,
          4.6875,
          5.357142857142857,
          4.6875,
          3.75,
          12.5,
          5.357142857142857,
          4.166666666666667,
          4.166666666666667,
          4.6875,
          3.75,
          7.5,
          12.5,
          4.6875,
          4.6875,
          9.375,
          5.357142857142857,
          4.166666666666667,
          6.25,
          7.5,
          3.125,
          5.357142857142857,
          4.166666666666667,
          3.75,
          4.166666666666667,
          7.5,
          9.375,
          3.409090909090909,
          6.25,
          4.6875,
          3.409090909090909,
          3.75,
          6.25,
          6.25,
          5.357142857142857,
          9.375,
          4.6875,
          4.6875,
          5.357142857142857,
          3.125,
          4.6875,
          12.5,
          4.6875,
          6.25,
          5.357142857142857,
          7.5,
          5.357142857142857,
          6.25,
          18.75,
          5.357142857142857
         ],
         "y0": " ",
         "yaxis": "y"
        },
        {
         "alignmentgroup": "True",
         "hovertemplate": "variable=%{x}<br>value=%{y}<extra></extra>",
         "legendgroup": "",
         "line": {
          "color": "red"
         },
         "marker": {
          "color": "red"
         },
         "name": "2 Utilities Owned",
         "notched": false,
         "offsetgroup": "",
         "orientation": "v",
         "showlegend": false,
         "type": "box",
         "x": [
          "Water Works",
          "Water Works",
          "Water Works",
          "Water Works",
          "Water Works",
          "Water Works",
          "Water Works",
          "Water Works",
          "Water Works",
          "Water Works",
          "Water Works",
          "Water Works",
          "Water Works",
          "Water Works",
          "Water Works",
          "Water Works",
          "Water Works",
          "Water Works",
          "Water Works",
          "Water Works",
          "Water Works",
          "Water Works",
          "Water Works",
          "Water Works",
          "Water Works",
          "Water Works",
          "Water Works",
          "Water Works",
          "Water Works",
          "Water Works",
          "Water Works",
          "Water Works",
          "Water Works",
          "Water Works",
          "Water Works",
          "Water Works",
          "Water Works",
          "Water Works",
          "Water Works",
          "Water Works",
          "Water Works",
          "Water Works",
          "Water Works",
          "Water Works",
          "Water Works",
          "Water Works",
          "Water Works",
          "Water Works",
          "Water Works",
          "Water Works",
          "Water Works",
          "Water Works",
          "Water Works",
          "Water Works",
          "Water Works",
          "Water Works",
          "Water Works",
          "Water Works",
          "Water Works",
          "Water Works",
          "Water Works",
          "Water Works",
          "Water Works",
          "Water Works",
          "Water Works",
          "Water Works",
          "Water Works",
          "Water Works",
          "Water Works",
          "Water Works",
          "Water Works",
          "Water Works",
          "Water Works",
          "Water Works",
          "Water Works",
          "Water Works",
          "Water Works",
          "Water Works",
          "Water Works",
          "Water Works",
          "Water Works",
          "Water Works",
          "Water Works",
          "Water Works",
          "Water Works",
          "Water Works",
          "Water Works",
          "Water Works",
          "Water Works",
          "Water Works",
          "Water Works",
          "Water Works",
          "Water Works",
          "Water Works",
          "Water Works",
          "Water Works",
          "Water Works",
          "Water Works",
          "Water Works",
          "Water Works",
          "Water Works",
          "Water Works",
          "Water Works",
          "Water Works",
          "Water Works",
          "Water Works",
          "Water Works",
          "Water Works",
          "Water Works",
          "Water Works",
          "Water Works",
          "Water Works",
          "Water Works",
          "Water Works",
          "Water Works",
          "Water Works",
          "Water Works",
          "Water Works",
          "Water Works",
          "Water Works",
          "Water Works",
          "Water Works",
          "Water Works",
          "Water Works",
          "Water Works",
          "Water Works",
          "Water Works",
          "Water Works",
          "Water Works",
          "Water Works",
          "Water Works",
          "Water Works",
          "Water Works",
          "Water Works",
          "Water Works",
          "Water Works",
          "Water Works",
          "Water Works",
          "Water Works",
          "Water Works",
          "Water Works",
          "Water Works",
          "Water Works",
          "Water Works",
          "Water Works",
          "Water Works",
          "Water Works",
          "Water Works",
          "Water Works",
          "Water Works",
          "Water Works",
          "Water Works",
          "Water Works",
          "Water Works",
          "Water Works",
          "Water Works",
          "Water Works",
          "Water Works",
          "Water Works",
          "Water Works",
          "Water Works",
          "Water Works",
          "Water Works",
          "Water Works",
          "Water Works",
          "Water Works",
          "Water Works",
          "Water Works",
          "Water Works",
          "Water Works",
          "Water Works",
          "Water Works",
          "Water Works",
          "Water Works",
          "Water Works",
          "Water Works",
          "Water Works",
          "Water Works",
          "Water Works",
          "Water Works",
          "Water Works",
          "Water Works",
          "Water Works",
          "Water Works",
          "Water Works",
          "Water Works",
          "Water Works",
          "Water Works",
          "Water Works",
          "Water Works",
          "Water Works",
          "Water Works",
          "Water Works",
          "Water Works",
          "Water Works",
          "Water Works",
          "Water Works",
          "Water Works",
          "Water Works",
          "Water Works",
          "Water Works",
          "Water Works",
          "Water Works",
          "Water Works",
          "Water Works",
          "Water Works",
          "Water Works",
          "Water Works",
          "Water Works",
          "Water Works",
          "Water Works",
          "Water Works",
          "Water Works",
          "Water Works",
          "Water Works",
          "Water Works",
          "Water Works",
          "Water Works",
          "Water Works",
          "Water Works",
          "Water Works",
          "Water Works",
          "Water Works",
          "Water Works",
          "Water Works",
          "Water Works",
          "Water Works",
          "Water Works",
          "Water Works",
          "Water Works",
          "Water Works",
          "Water Works",
          "Water Works",
          "Water Works",
          "Water Works",
          "Water Works",
          "Water Works",
          "Water Works",
          "Water Works",
          "Water Works",
          "Water Works",
          "Water Works",
          "Water Works",
          "Water Works",
          "Water Works",
          "Water Works",
          "Water Works",
          "Water Works",
          "Water Works",
          "Water Works",
          "Water Works",
          "Water Works",
          "Water Works",
          "Water Works",
          "Water Works",
          "Water Works",
          "Water Works",
          "Water Works",
          "Water Works",
          "Water Works",
          "Water Works",
          "Water Works",
          "Water Works",
          "Water Works",
          "Water Works",
          "Water Works",
          "Water Works",
          "Water Works",
          "Water Works",
          "Water Works",
          "Water Works",
          "Water Works",
          "Water Works",
          "Water Works",
          "Water Works",
          "Water Works",
          "Water Works",
          "Water Works",
          "Water Works",
          "Water Works",
          "Water Works",
          "Water Works",
          "Water Works",
          "Water Works",
          "Water Works",
          "Water Works",
          "Water Works",
          "Water Works",
          "Water Works",
          "Water Works",
          "Water Works",
          "Water Works",
          "Water Works",
          "Water Works",
          "Water Works",
          "Water Works",
          "Water Works",
          "Water Works",
          "Water Works",
          "Water Works",
          "Water Works",
          "Water Works",
          "Water Works",
          "Water Works",
          "Water Works",
          "Water Works",
          "Water Works",
          "Water Works",
          "Water Works",
          "Water Works",
          "Water Works",
          "Water Works",
          "Water Works",
          "Water Works",
          "Water Works",
          "Water Works",
          "Water Works",
          "Water Works",
          "Water Works",
          "Water Works",
          "Water Works",
          "Water Works",
          "Water Works",
          "Water Works",
          "Water Works",
          "Water Works",
          "Water Works",
          "Water Works",
          "Water Works",
          "Water Works",
          "Water Works",
          "Water Works",
          "Water Works",
          "Water Works",
          "Water Works",
          "Water Works",
          "Water Works",
          "Water Works",
          "Water Works",
          "Water Works",
          "Water Works",
          "Water Works",
          "Water Works",
          "Water Works",
          "Water Works",
          "Water Works",
          "Water Works",
          "Water Works",
          "Water Works",
          "Water Works",
          "Water Works",
          "Water Works",
          "Water Works",
          "Water Works",
          "Water Works",
          "Water Works",
          "Water Works",
          "Water Works",
          "Water Works",
          "Water Works",
          "Water Works",
          "Water Works",
          "Water Works",
          "Water Works",
          "Water Works",
          "Water Works",
          "Water Works",
          "Water Works",
          "Water Works",
          "Water Works",
          "Water Works",
          "Water Works",
          "Water Works",
          "Water Works",
          "Water Works",
          "Water Works",
          "Water Works",
          "Water Works",
          "Water Works",
          "Water Works",
          "Water Works",
          "Water Works",
          "Water Works",
          "Water Works",
          "Water Works",
          "Water Works",
          "Water Works",
          "Water Works",
          "Water Works",
          "Water Works",
          "Water Works",
          "Water Works",
          "Water Works",
          "Water Works",
          "Water Works",
          "Water Works",
          "Water Works",
          "Water Works",
          "Water Works",
          "Water Works",
          "Water Works",
          "Water Works",
          "Water Works",
          "Water Works",
          "Water Works",
          "Water Works",
          "Water Works",
          "Water Works",
          "Water Works",
          "Water Works",
          "Water Works",
          "Water Works",
          "Water Works",
          "Water Works",
          "Water Works",
          "Water Works",
          "Water Works",
          "Water Works",
          "Water Works",
          "Water Works",
          "Water Works",
          "Water Works",
          "Water Works",
          "Water Works",
          "Water Works",
          "Water Works",
          "Water Works",
          "Water Works",
          "Water Works",
          "Water Works",
          "Water Works",
          "Water Works",
          "Water Works",
          "Water Works",
          "Water Works",
          "Water Works",
          "Water Works",
          "Water Works",
          "Water Works",
          "Water Works",
          "Water Works",
          "Water Works",
          "Water Works",
          "Water Works",
          "Water Works",
          "Water Works",
          "Water Works",
          "Water Works",
          "Water Works",
          "Water Works",
          "Water Works",
          "Water Works",
          "Water Works",
          "Water Works",
          "Water Works",
          "Water Works",
          "Water Works",
          "Water Works",
          "Water Works",
          "Water Works",
          "Water Works",
          "Water Works",
          "Water Works",
          "Water Works",
          "Water Works",
          "Water Works",
          "Water Works",
          "Water Works",
          "Water Works",
          "Water Works",
          "Water Works",
          "Water Works",
          "Water Works",
          "Water Works",
          "Water Works",
          "Water Works",
          "Water Works",
          "Water Works",
          "Water Works",
          "Water Works",
          "Water Works",
          "Water Works",
          "Water Works",
          "Water Works",
          "Water Works",
          "Water Works",
          "Water Works",
          "Water Works",
          "Water Works",
          "Water Works",
          "Water Works",
          "Water Works",
          "Water Works",
          "Water Works",
          "Water Works",
          "Water Works",
          "Water Works",
          "Water Works",
          "Water Works",
          "Water Works",
          "Water Works",
          "Water Works",
          "Water Works",
          "Water Works",
          "Water Works",
          "Water Works",
          "Water Works",
          "Water Works",
          "Water Works",
          "Water Works",
          "Water Works",
          "Water Works",
          "Water Works",
          "Water Works",
          "Water Works",
          "Water Works",
          "Water Works",
          "Water Works",
          "Water Works",
          "Water Works",
          "Water Works",
          "Water Works",
          "Water Works",
          "Water Works",
          "Water Works",
          "Water Works",
          "Water Works",
          "Water Works",
          "Water Works",
          "Water Works",
          "Water Works",
          "Water Works",
          "Water Works",
          "Water Works",
          "Water Works",
          "Water Works",
          "Water Works",
          "Water Works",
          "Water Works",
          "Water Works",
          "Water Works",
          "Water Works",
          "Water Works",
          "Water Works",
          "Water Works",
          "Water Works",
          "Water Works",
          "Water Works",
          "Water Works",
          "Water Works",
          "Water Works",
          "Water Works",
          "Water Works",
          "Water Works",
          "Water Works",
          "Water Works",
          "Water Works",
          "Water Works",
          "Water Works",
          "Water Works",
          "Water Works",
          "Water Works",
          "Water Works",
          "Water Works",
          "Water Works",
          "Water Works",
          "Water Works",
          "Water Works",
          "Water Works",
          "Water Works",
          "Water Works",
          "Water Works",
          "Water Works",
          "Water Works",
          "Water Works",
          "Water Works",
          "Water Works",
          "Water Works",
          "Water Works",
          "Water Works",
          "Water Works",
          "Water Works",
          "Water Works",
          "Water Works",
          "Water Works",
          "Water Works",
          "Water Works",
          "Water Works",
          "Water Works",
          "Water Works",
          "Water Works",
          "Water Works",
          "Water Works",
          "Water Works",
          "Water Works",
          "Water Works",
          "Water Works",
          "Water Works",
          "Water Works",
          "Water Works",
          "Water Works",
          "Water Works",
          "Water Works",
          "Water Works",
          "Water Works",
          "Water Works",
          "Water Works",
          "Water Works",
          "Water Works",
          "Water Works",
          "Water Works",
          "Water Works",
          "Water Works",
          "Water Works",
          "Water Works",
          "Water Works",
          "Water Works",
          "Water Works",
          "Water Works",
          "Water Works",
          "Water Works",
          "Water Works",
          "Water Works",
          "Water Works",
          "Water Works",
          "Water Works",
          "Water Works",
          "Water Works",
          "Water Works",
          "Water Works",
          "Water Works",
          "Water Works",
          "Water Works",
          "Water Works",
          "Water Works",
          "Water Works",
          "Water Works",
          "Water Works",
          "Water Works",
          "Water Works",
          "Water Works",
          "Water Works",
          "Water Works",
          "Water Works",
          "Water Works",
          "Water Works",
          "Water Works",
          "Water Works",
          "Water Works",
          "Water Works",
          "Water Works",
          "Water Works",
          "Water Works",
          "Water Works",
          "Water Works",
          "Water Works",
          "Water Works",
          "Water Works",
          "Water Works",
          "Water Works",
          "Water Works",
          "Water Works",
          "Water Works",
          "Water Works",
          "Water Works",
          "Water Works",
          "Water Works",
          "Water Works",
          "Water Works",
          "Water Works",
          "Water Works",
          "Water Works",
          "Water Works",
          "Water Works",
          "Water Works",
          "Water Works",
          "Water Works",
          "Water Works",
          "Water Works",
          "Water Works",
          "Water Works",
          "Water Works",
          "Water Works",
          "Water Works",
          "Water Works",
          "Water Works",
          "Water Works",
          "Water Works",
          "Water Works",
          "Water Works",
          "Water Works",
          "Water Works",
          "Water Works",
          "Water Works",
          "Water Works",
          "Water Works",
          "Water Works",
          "Water Works",
          "Water Works",
          "Water Works",
          "Water Works",
          "Water Works",
          "Water Works",
          "Water Works",
          "Water Works",
          "Water Works",
          "Water Works",
          "Water Works",
          "Water Works",
          "Water Works",
          "Water Works",
          "Water Works",
          "Water Works",
          "Water Works",
          "Water Works",
          "Water Works",
          "Water Works",
          "Water Works",
          "Water Works",
          "Water Works",
          "Water Works",
          "Water Works",
          "Water Works",
          "Water Works",
          "Water Works",
          "Water Works",
          "Water Works",
          "Water Works",
          "Water Works",
          "Water Works",
          "Water Works",
          "Water Works",
          "Water Works",
          "Water Works",
          "Water Works",
          "Water Works",
          "Water Works",
          "Water Works",
          "Water Works",
          "Water Works",
          "Water Works",
          "Water Works",
          "Water Works",
          "Water Works",
          "Water Works",
          "Water Works",
          "Water Works",
          "Water Works",
          "Water Works",
          "Water Works",
          "Water Works",
          "Water Works",
          "Water Works",
          "Water Works",
          "Water Works",
          "Water Works",
          "Water Works",
          "Water Works",
          "Water Works",
          "Water Works",
          "Water Works",
          "Water Works",
          "Water Works",
          "Water Works",
          "Water Works",
          "Water Works",
          "Water Works",
          "Water Works",
          "Water Works",
          "Water Works",
          "Water Works",
          "Water Works",
          "Water Works",
          "Water Works",
          "Water Works",
          "Water Works",
          "Water Works",
          "Water Works",
          "Water Works",
          "Water Works",
          "Water Works",
          "Water Works",
          "Water Works",
          "Water Works",
          "Water Works",
          "Water Works",
          "Water Works",
          "Water Works",
          "Water Works",
          "Water Works",
          "Water Works",
          "Water Works",
          "Water Works",
          "Water Works",
          "Water Works",
          "Water Works",
          "Water Works",
          "Water Works",
          "Water Works",
          "Water Works",
          "Water Works",
          "Water Works",
          "Water Works",
          "Water Works",
          "Water Works",
          "Water Works",
          "Water Works",
          "Water Works",
          "Water Works",
          "Water Works",
          "Water Works",
          "Water Works",
          "Water Works",
          "Water Works",
          "Water Works",
          "Water Works",
          "Water Works",
          "Water Works",
          "Water Works",
          "Water Works",
          "Water Works",
          "Water Works",
          "Water Works",
          "Water Works",
          "Water Works",
          "Water Works",
          "Water Works",
          "Water Works",
          "Water Works",
          "Water Works",
          "Water Works",
          "Water Works",
          "Water Works",
          "Water Works",
          "Water Works",
          "Water Works",
          "Water Works",
          "Water Works",
          "Water Works",
          "Water Works",
          "Water Works",
          "Water Works",
          "Water Works",
          "Water Works",
          "Water Works",
          "Water Works",
          "Water Works",
          "Water Works",
          "Water Works",
          "Water Works",
          "Water Works",
          "Water Works",
          "Water Works",
          "Water Works",
          "Water Works",
          "Water Works",
          "Water Works",
          "Water Works",
          "Water Works",
          "Water Works",
          "Water Works",
          "Water Works",
          "Water Works",
          "Water Works",
          "Water Works",
          "Water Works",
          "Water Works",
          "Water Works",
          "Water Works",
          "Water Works",
          "Water Works",
          "Water Works",
          "Water Works",
          "Water Works",
          "Water Works",
          "Water Works",
          "Water Works",
          "Water Works",
          "Water Works",
          "Water Works",
          "Water Works",
          "Water Works",
          "Water Works",
          "Water Works",
          "Water Works",
          "Water Works",
          "Water Works",
          "Water Works",
          "Water Works",
          "Water Works",
          "Water Works",
          "Water Works",
          "Water Works",
          "Water Works",
          "Water Works",
          "Water Works",
          "Water Works",
          "Water Works",
          "Water Works",
          "Water Works",
          "Water Works",
          "Water Works",
          "Water Works",
          "Water Works",
          "Water Works",
          "Water Works",
          "Water Works",
          "Water Works",
          "Water Works",
          "Water Works",
          "Water Works",
          "Water Works",
          "Water Works",
          "Water Works",
          "Water Works",
          "Water Works",
          "Water Works",
          "Water Works",
          "Water Works",
          "Water Works",
          "Water Works",
          "Water Works",
          "Water Works",
          "Water Works",
          "Water Works",
          "Water Works",
          "Water Works",
          "Water Works",
          "Water Works",
          "Water Works",
          "Water Works",
          "Water Works",
          "Water Works",
          "Water Works",
          "Water Works",
          "Water Works",
          "Water Works",
          "Water Works",
          "Water Works",
          "Water Works",
          "Water Works",
          "Water Works",
          "Water Works",
          "Water Works",
          "Water Works",
          "Water Works",
          "Water Works",
          "Water Works",
          "Water Works",
          "Water Works",
          "Water Works",
          "Water Works",
          "Water Works",
          "Water Works",
          "Water Works",
          "Water Works",
          "Water Works",
          "Water Works",
          "Water Works",
          "Water Works",
          "Water Works",
          "Water Works",
          "Water Works",
          "Water Works",
          "Water Works",
          "Water Works",
          "Water Works",
          "Water Works",
          "Water Works",
          "Water Works",
          "Water Works",
          "Water Works",
          "Water Works",
          "Water Works",
          "Water Works",
          "Water Works",
          "Water Works",
          "Water Works",
          "Water Works",
          "Water Works",
          "Water Works",
          "Water Works",
          "Water Works",
          "Water Works",
          "Water Works",
          "Water Works",
          "Water Works",
          "Water Works",
          "Water Works",
          "Water Works",
          "Water Works",
          "Water Works",
          "Water Works",
          "Water Works",
          "Water Works",
          "Water Works",
          "Water Works",
          "Water Works",
          "Water Works",
          "Water Works",
          "Electric Company",
          "Electric Company",
          "Electric Company",
          "Electric Company",
          "Electric Company",
          "Electric Company",
          "Electric Company",
          "Electric Company",
          "Electric Company",
          "Electric Company",
          "Electric Company",
          "Electric Company",
          "Electric Company",
          "Electric Company",
          "Electric Company",
          "Electric Company",
          "Electric Company",
          "Electric Company",
          "Electric Company",
          "Electric Company",
          "Electric Company",
          "Electric Company",
          "Electric Company",
          "Electric Company",
          "Electric Company",
          "Electric Company",
          "Electric Company",
          "Electric Company",
          "Electric Company",
          "Electric Company",
          "Electric Company",
          "Electric Company",
          "Electric Company",
          "Electric Company",
          "Electric Company",
          "Electric Company",
          "Electric Company",
          "Electric Company",
          "Electric Company",
          "Electric Company",
          "Electric Company",
          "Electric Company",
          "Electric Company",
          "Electric Company",
          "Electric Company",
          "Electric Company",
          "Electric Company",
          "Electric Company",
          "Electric Company",
          "Electric Company",
          "Electric Company",
          "Electric Company",
          "Electric Company",
          "Electric Company",
          "Electric Company",
          "Electric Company",
          "Electric Company",
          "Electric Company",
          "Electric Company",
          "Electric Company",
          "Electric Company",
          "Electric Company",
          "Electric Company",
          "Electric Company",
          "Electric Company",
          "Electric Company",
          "Electric Company",
          "Electric Company",
          "Electric Company",
          "Electric Company",
          "Electric Company",
          "Electric Company",
          "Electric Company",
          "Electric Company",
          "Electric Company",
          "Electric Company",
          "Electric Company",
          "Electric Company",
          "Electric Company",
          "Electric Company",
          "Electric Company",
          "Electric Company",
          "Electric Company",
          "Electric Company",
          "Electric Company",
          "Electric Company",
          "Electric Company",
          "Electric Company",
          "Electric Company",
          "Electric Company",
          "Electric Company",
          "Electric Company",
          "Electric Company",
          "Electric Company",
          "Electric Company",
          "Electric Company",
          "Electric Company",
          "Electric Company",
          "Electric Company",
          "Electric Company",
          "Electric Company",
          "Electric Company",
          "Electric Company",
          "Electric Company",
          "Electric Company",
          "Electric Company",
          "Electric Company",
          "Electric Company",
          "Electric Company",
          "Electric Company",
          "Electric Company",
          "Electric Company",
          "Electric Company",
          "Electric Company",
          "Electric Company",
          "Electric Company",
          "Electric Company",
          "Electric Company",
          "Electric Company",
          "Electric Company",
          "Electric Company",
          "Electric Company",
          "Electric Company",
          "Electric Company",
          "Electric Company",
          "Electric Company",
          "Electric Company",
          "Electric Company",
          "Electric Company",
          "Electric Company",
          "Electric Company",
          "Electric Company",
          "Electric Company",
          "Electric Company",
          "Electric Company",
          "Electric Company",
          "Electric Company",
          "Electric Company",
          "Electric Company",
          "Electric Company",
          "Electric Company",
          "Electric Company",
          "Electric Company",
          "Electric Company",
          "Electric Company",
          "Electric Company",
          "Electric Company",
          "Electric Company",
          "Electric Company",
          "Electric Company",
          "Electric Company",
          "Electric Company",
          "Electric Company",
          "Electric Company",
          "Electric Company",
          "Electric Company",
          "Electric Company",
          "Electric Company",
          "Electric Company",
          "Electric Company",
          "Electric Company",
          "Electric Company",
          "Electric Company",
          "Electric Company",
          "Electric Company",
          "Electric Company",
          "Electric Company",
          "Electric Company",
          "Electric Company",
          "Electric Company",
          "Electric Company",
          "Electric Company",
          "Electric Company",
          "Electric Company",
          "Electric Company",
          "Electric Company",
          "Electric Company",
          "Electric Company",
          "Electric Company",
          "Electric Company",
          "Electric Company",
          "Electric Company",
          "Electric Company",
          "Electric Company",
          "Electric Company",
          "Electric Company",
          "Electric Company",
          "Electric Company",
          "Electric Company",
          "Electric Company",
          "Electric Company",
          "Electric Company",
          "Electric Company",
          "Electric Company",
          "Electric Company",
          "Electric Company",
          "Electric Company",
          "Electric Company",
          "Electric Company",
          "Electric Company",
          "Electric Company",
          "Electric Company",
          "Electric Company",
          "Electric Company",
          "Electric Company",
          "Electric Company",
          "Electric Company",
          "Electric Company",
          "Electric Company",
          "Electric Company",
          "Electric Company",
          "Electric Company",
          "Electric Company",
          "Electric Company",
          "Electric Company",
          "Electric Company",
          "Electric Company",
          "Electric Company",
          "Electric Company",
          "Electric Company",
          "Electric Company",
          "Electric Company",
          "Electric Company",
          "Electric Company",
          "Electric Company",
          "Electric Company",
          "Electric Company",
          "Electric Company",
          "Electric Company",
          "Electric Company",
          "Electric Company",
          "Electric Company",
          "Electric Company",
          "Electric Company",
          "Electric Company",
          "Electric Company",
          "Electric Company",
          "Electric Company",
          "Electric Company",
          "Electric Company",
          "Electric Company",
          "Electric Company",
          "Electric Company",
          "Electric Company",
          "Electric Company",
          "Electric Company",
          "Electric Company",
          "Electric Company",
          "Electric Company",
          "Electric Company",
          "Electric Company",
          "Electric Company",
          "Electric Company",
          "Electric Company",
          "Electric Company",
          "Electric Company",
          "Electric Company",
          "Electric Company",
          "Electric Company",
          "Electric Company",
          "Electric Company",
          "Electric Company",
          "Electric Company",
          "Electric Company",
          "Electric Company",
          "Electric Company",
          "Electric Company",
          "Electric Company",
          "Electric Company",
          "Electric Company",
          "Electric Company",
          "Electric Company",
          "Electric Company",
          "Electric Company",
          "Electric Company",
          "Electric Company",
          "Electric Company",
          "Electric Company",
          "Electric Company",
          "Electric Company",
          "Electric Company",
          "Electric Company",
          "Electric Company",
          "Electric Company",
          "Electric Company",
          "Electric Company",
          "Electric Company",
          "Electric Company",
          "Electric Company",
          "Electric Company",
          "Electric Company",
          "Electric Company",
          "Electric Company",
          "Electric Company",
          "Electric Company",
          "Electric Company",
          "Electric Company",
          "Electric Company",
          "Electric Company",
          "Electric Company",
          "Electric Company",
          "Electric Company",
          "Electric Company",
          "Electric Company",
          "Electric Company",
          "Electric Company",
          "Electric Company",
          "Electric Company",
          "Electric Company",
          "Electric Company",
          "Electric Company",
          "Electric Company",
          "Electric Company",
          "Electric Company",
          "Electric Company",
          "Electric Company",
          "Electric Company",
          "Electric Company",
          "Electric Company",
          "Electric Company",
          "Electric Company",
          "Electric Company",
          "Electric Company",
          "Electric Company",
          "Electric Company",
          "Electric Company",
          "Electric Company",
          "Electric Company",
          "Electric Company",
          "Electric Company",
          "Electric Company",
          "Electric Company",
          "Electric Company",
          "Electric Company",
          "Electric Company",
          "Electric Company",
          "Electric Company",
          "Electric Company",
          "Electric Company",
          "Electric Company",
          "Electric Company",
          "Electric Company",
          "Electric Company",
          "Electric Company",
          "Electric Company",
          "Electric Company",
          "Electric Company",
          "Electric Company",
          "Electric Company",
          "Electric Company",
          "Electric Company",
          "Electric Company",
          "Electric Company",
          "Electric Company",
          "Electric Company",
          "Electric Company",
          "Electric Company",
          "Electric Company",
          "Electric Company",
          "Electric Company",
          "Electric Company",
          "Electric Company",
          "Electric Company",
          "Electric Company",
          "Electric Company",
          "Electric Company",
          "Electric Company",
          "Electric Company",
          "Electric Company",
          "Electric Company",
          "Electric Company",
          "Electric Company",
          "Electric Company",
          "Electric Company",
          "Electric Company",
          "Electric Company",
          "Electric Company",
          "Electric Company",
          "Electric Company",
          "Electric Company",
          "Electric Company",
          "Electric Company",
          "Electric Company",
          "Electric Company",
          "Electric Company",
          "Electric Company",
          "Electric Company",
          "Electric Company",
          "Electric Company",
          "Electric Company",
          "Electric Company",
          "Electric Company",
          "Electric Company",
          "Electric Company",
          "Electric Company",
          "Electric Company",
          "Electric Company",
          "Electric Company",
          "Electric Company",
          "Electric Company",
          "Electric Company",
          "Electric Company",
          "Electric Company",
          "Electric Company",
          "Electric Company",
          "Electric Company",
          "Electric Company",
          "Electric Company",
          "Electric Company",
          "Electric Company",
          "Electric Company",
          "Electric Company",
          "Electric Company",
          "Electric Company",
          "Electric Company",
          "Electric Company",
          "Electric Company",
          "Electric Company",
          "Electric Company",
          "Electric Company",
          "Electric Company",
          "Electric Company",
          "Electric Company",
          "Electric Company",
          "Electric Company",
          "Electric Company",
          "Electric Company",
          "Electric Company",
          "Electric Company",
          "Electric Company",
          "Electric Company",
          "Electric Company",
          "Electric Company",
          "Electric Company",
          "Electric Company",
          "Electric Company",
          "Electric Company",
          "Electric Company",
          "Electric Company",
          "Electric Company",
          "Electric Company",
          "Electric Company",
          "Electric Company",
          "Electric Company",
          "Electric Company",
          "Electric Company",
          "Electric Company",
          "Electric Company",
          "Electric Company",
          "Electric Company",
          "Electric Company",
          "Electric Company",
          "Electric Company",
          "Electric Company",
          "Electric Company",
          "Electric Company",
          "Electric Company",
          "Electric Company",
          "Electric Company",
          "Electric Company",
          "Electric Company",
          "Electric Company",
          "Electric Company",
          "Electric Company",
          "Electric Company",
          "Electric Company",
          "Electric Company",
          "Electric Company",
          "Electric Company",
          "Electric Company",
          "Electric Company",
          "Electric Company",
          "Electric Company",
          "Electric Company",
          "Electric Company",
          "Electric Company",
          "Electric Company",
          "Electric Company",
          "Electric Company",
          "Electric Company",
          "Electric Company",
          "Electric Company",
          "Electric Company",
          "Electric Company",
          "Electric Company",
          "Electric Company",
          "Electric Company",
          "Electric Company",
          "Electric Company",
          "Electric Company",
          "Electric Company",
          "Electric Company",
          "Electric Company",
          "Electric Company",
          "Electric Company",
          "Electric Company",
          "Electric Company",
          "Electric Company",
          "Electric Company",
          "Electric Company",
          "Electric Company",
          "Electric Company",
          "Electric Company",
          "Electric Company",
          "Electric Company",
          "Electric Company",
          "Electric Company",
          "Electric Company",
          "Electric Company",
          "Electric Company",
          "Electric Company",
          "Electric Company",
          "Electric Company",
          "Electric Company",
          "Electric Company",
          "Electric Company",
          "Electric Company",
          "Electric Company",
          "Electric Company",
          "Electric Company",
          "Electric Company",
          "Electric Company",
          "Electric Company",
          "Electric Company",
          "Electric Company",
          "Electric Company",
          "Electric Company",
          "Electric Company",
          "Electric Company",
          "Electric Company",
          "Electric Company",
          "Electric Company",
          "Electric Company",
          "Electric Company",
          "Electric Company",
          "Electric Company",
          "Electric Company",
          "Electric Company",
          "Electric Company",
          "Electric Company",
          "Electric Company",
          "Electric Company",
          "Electric Company",
          "Electric Company",
          "Electric Company",
          "Electric Company",
          "Electric Company",
          "Electric Company",
          "Electric Company",
          "Electric Company",
          "Electric Company",
          "Electric Company",
          "Electric Company",
          "Electric Company",
          "Electric Company",
          "Electric Company",
          "Electric Company",
          "Electric Company",
          "Electric Company",
          "Electric Company",
          "Electric Company",
          "Electric Company",
          "Electric Company",
          "Electric Company",
          "Electric Company",
          "Electric Company",
          "Electric Company",
          "Electric Company",
          "Electric Company",
          "Electric Company",
          "Electric Company",
          "Electric Company",
          "Electric Company",
          "Electric Company",
          "Electric Company",
          "Electric Company",
          "Electric Company",
          "Electric Company",
          "Electric Company",
          "Electric Company",
          "Electric Company",
          "Electric Company",
          "Electric Company",
          "Electric Company",
          "Electric Company",
          "Electric Company",
          "Electric Company",
          "Electric Company",
          "Electric Company",
          "Electric Company",
          "Electric Company",
          "Electric Company",
          "Electric Company",
          "Electric Company",
          "Electric Company",
          "Electric Company",
          "Electric Company",
          "Electric Company",
          "Electric Company",
          "Electric Company",
          "Electric Company",
          "Electric Company",
          "Electric Company",
          "Electric Company",
          "Electric Company",
          "Electric Company",
          "Electric Company",
          "Electric Company",
          "Electric Company",
          "Electric Company",
          "Electric Company",
          "Electric Company",
          "Electric Company",
          "Electric Company",
          "Electric Company",
          "Electric Company",
          "Electric Company",
          "Electric Company",
          "Electric Company",
          "Electric Company",
          "Electric Company",
          "Electric Company",
          "Electric Company",
          "Electric Company",
          "Electric Company",
          "Electric Company",
          "Electric Company",
          "Electric Company",
          "Electric Company",
          "Electric Company",
          "Electric Company",
          "Electric Company",
          "Electric Company",
          "Electric Company",
          "Electric Company",
          "Electric Company",
          "Electric Company",
          "Electric Company",
          "Electric Company",
          "Electric Company",
          "Electric Company",
          "Electric Company",
          "Electric Company",
          "Electric Company",
          "Electric Company",
          "Electric Company",
          "Electric Company",
          "Electric Company",
          "Electric Company",
          "Electric Company",
          "Electric Company",
          "Electric Company",
          "Electric Company",
          "Electric Company",
          "Electric Company",
          "Electric Company",
          "Electric Company",
          "Electric Company",
          "Electric Company",
          "Electric Company",
          "Electric Company",
          "Electric Company",
          "Electric Company",
          "Electric Company",
          "Electric Company",
          "Electric Company",
          "Electric Company",
          "Electric Company",
          "Electric Company",
          "Electric Company",
          "Electric Company",
          "Electric Company",
          "Electric Company",
          "Electric Company",
          "Electric Company",
          "Electric Company",
          "Electric Company",
          "Electric Company",
          "Electric Company",
          "Electric Company",
          "Electric Company",
          "Electric Company",
          "Electric Company",
          "Electric Company",
          "Electric Company",
          "Electric Company",
          "Electric Company",
          "Electric Company",
          "Electric Company",
          "Electric Company",
          "Electric Company",
          "Electric Company",
          "Electric Company",
          "Electric Company",
          "Electric Company",
          "Electric Company",
          "Electric Company",
          "Electric Company",
          "Electric Company",
          "Electric Company",
          "Electric Company",
          "Electric Company",
          "Electric Company",
          "Electric Company",
          "Electric Company",
          "Electric Company",
          "Electric Company",
          "Electric Company",
          "Electric Company",
          "Electric Company",
          "Electric Company",
          "Electric Company",
          "Electric Company",
          "Electric Company",
          "Electric Company",
          "Electric Company",
          "Electric Company",
          "Electric Company",
          "Electric Company",
          "Electric Company",
          "Electric Company",
          "Electric Company",
          "Electric Company",
          "Electric Company",
          "Electric Company",
          "Electric Company",
          "Electric Company",
          "Electric Company",
          "Electric Company",
          "Electric Company",
          "Electric Company",
          "Electric Company",
          "Electric Company",
          "Electric Company",
          "Electric Company",
          "Electric Company",
          "Electric Company",
          "Electric Company",
          "Electric Company",
          "Electric Company",
          "Electric Company",
          "Electric Company",
          "Electric Company",
          "Electric Company",
          "Electric Company",
          "Electric Company",
          "Electric Company",
          "Electric Company",
          "Electric Company",
          "Electric Company",
          "Electric Company",
          "Electric Company",
          "Electric Company",
          "Electric Company",
          "Electric Company",
          "Electric Company",
          "Electric Company",
          "Electric Company",
          "Electric Company",
          "Electric Company",
          "Electric Company",
          "Electric Company",
          "Electric Company",
          "Electric Company",
          "Electric Company",
          "Electric Company",
          "Electric Company",
          "Electric Company",
          "Electric Company",
          "Electric Company",
          "Electric Company",
          "Electric Company",
          "Electric Company",
          "Electric Company",
          "Electric Company",
          "Electric Company",
          "Electric Company",
          "Electric Company",
          "Electric Company",
          "Electric Company",
          "Electric Company",
          "Electric Company",
          "Electric Company",
          "Electric Company",
          "Electric Company",
          "Electric Company",
          "Electric Company",
          "Electric Company",
          "Electric Company",
          "Electric Company",
          "Electric Company",
          "Electric Company",
          "Electric Company",
          "Electric Company",
          "Electric Company",
          "Electric Company",
          "Electric Company",
          "Electric Company",
          "Electric Company",
          "Electric Company",
          "Electric Company",
          "Electric Company",
          "Electric Company",
          "Electric Company",
          "Electric Company",
          "Electric Company",
          "Electric Company",
          "Electric Company",
          "Electric Company",
          "Electric Company",
          "Electric Company",
          "Electric Company",
          "Electric Company",
          "Electric Company",
          "Electric Company",
          "Electric Company",
          "Electric Company",
          "Electric Company",
          "Electric Company",
          "Electric Company",
          "Electric Company",
          "Electric Company",
          "Electric Company",
          "Electric Company",
          "Electric Company",
          "Electric Company",
          "Electric Company",
          "Electric Company",
          "Electric Company",
          "Electric Company",
          "Electric Company",
          "Electric Company",
          "Electric Company",
          "Electric Company",
          "Electric Company",
          "Electric Company",
          "Electric Company",
          "Electric Company",
          "Electric Company",
          "Electric Company",
          "Electric Company",
          "Electric Company",
          "Electric Company",
          "Electric Company",
          "Electric Company",
          "Electric Company",
          "Electric Company",
          "Electric Company",
          "Electric Company",
          "Electric Company",
          "Electric Company",
          "Electric Company",
          "Electric Company",
          "Electric Company",
          "Electric Company",
          "Electric Company",
          "Electric Company",
          "Electric Company",
          "Electric Company",
          "Electric Company",
          "Electric Company",
          "Electric Company",
          "Electric Company",
          "Electric Company",
          "Electric Company",
          "Electric Company",
          "Electric Company",
          "Electric Company",
          "Electric Company",
          "Electric Company",
          "Electric Company",
          "Electric Company",
          "Electric Company",
          "Electric Company",
          "Electric Company",
          "Electric Company",
          "Electric Company",
          "Electric Company",
          "Electric Company",
          "Electric Company",
          "Electric Company",
          "Electric Company",
          "Electric Company",
          "Electric Company",
          "Electric Company",
          "Electric Company",
          "Electric Company",
          "Electric Company",
          "Electric Company",
          "Electric Company",
          "Electric Company",
          "Electric Company",
          "Electric Company",
          "Electric Company",
          "Electric Company",
          "Electric Company",
          "Electric Company",
          "Electric Company",
          "Electric Company",
          "Electric Company",
          "Electric Company",
          "Electric Company",
          "Electric Company",
          "Electric Company",
          "Electric Company",
          "Electric Company",
          "Electric Company",
          "Electric Company",
          "Electric Company",
          "Electric Company",
          "Electric Company",
          "Electric Company",
          "Electric Company",
          "Electric Company",
          "Electric Company",
          "Electric Company",
          "Electric Company",
          "Electric Company",
          "Electric Company",
          "Electric Company",
          "Electric Company",
          "Electric Company",
          "Electric Company",
          "Electric Company",
          "Electric Company",
          "Electric Company",
          "Electric Company",
          "Electric Company",
          "Electric Company",
          "Electric Company",
          "Electric Company",
          "Electric Company",
          "Electric Company",
          "Electric Company",
          "Electric Company",
          "Electric Company",
          "Electric Company",
          "Electric Company",
          "Electric Company",
          "Electric Company",
          "Electric Company",
          "Electric Company",
          "Electric Company",
          "Electric Company",
          "Electric Company",
          "Electric Company",
          "Electric Company",
          "Electric Company",
          "Electric Company",
          "Electric Company",
          "Electric Company",
          "Electric Company",
          "Electric Company",
          "Electric Company",
          "Electric Company",
          "Electric Company",
          "Electric Company",
          "Electric Company",
          "Electric Company",
          "Electric Company",
          "Electric Company",
          "Electric Company",
          "Electric Company",
          "Electric Company",
          "Electric Company",
          "Electric Company",
          "Electric Company",
          "Electric Company",
          "Electric Company",
          "Electric Company",
          "Electric Company",
          "Electric Company",
          "Electric Company",
          "Electric Company",
          "Electric Company",
          "Electric Company",
          "Electric Company",
          "Electric Company",
          "Electric Company",
          "Electric Company",
          "Electric Company",
          "Electric Company",
          "Electric Company",
          "Electric Company",
          "Electric Company",
          "Electric Company",
          "Electric Company",
          "Electric Company",
          "Electric Company",
          "Electric Company",
          "Electric Company",
          "Electric Company",
          "Electric Company",
          "Electric Company",
          "Electric Company",
          "Electric Company",
          "Electric Company",
          "Electric Company",
          "Electric Company",
          "Electric Company"
         ],
         "x0": " ",
         "xaxis": "x",
         "y": [
          1.875,
          2.5,
          1.3636363636363635,
          2.142857142857143,
          7.5,
          2.5,
          2.5,
          1.5,
          2.142857142857143,
          1.5,
          1.875,
          1.6666666666666667,
          1.25,
          5,
          3.75,
          1.875,
          1.6666666666666667,
          1.875,
          3,
          2.5,
          2.5,
          3,
          2.142857142857143,
          7.5,
          1.875,
          2.142857142857143,
          3,
          3.75,
          2.142857142857143,
          2.5,
          3,
          2.142857142857143,
          1.5,
          3.75,
          1.875,
          3,
          1.875,
          1.3636363636363635,
          3.75,
          2.5,
          1.6666666666666667,
          2.5,
          1.875,
          1.5,
          1.25,
          1.875,
          5,
          3,
          1.6666666666666667,
          2.142857142857143,
          2.5,
          2.5,
          3,
          2.5,
          5,
          1.875,
          3,
          3,
          2.5,
          3.75,
          3,
          2.142857142857143,
          1.875,
          3.75,
          3,
          1.25,
          2.5,
          1.6666666666666667,
          1.875,
          2.5,
          5,
          2.142857142857143,
          1.875,
          3,
          2.142857142857143,
          1.875,
          1.6666666666666667,
          2.5,
          3,
          1.875,
          2.5,
          3.75,
          3,
          1.3636363636363635,
          2.5,
          1.6666666666666667,
          3,
          1.875,
          3,
          3,
          2.5,
          1.5,
          2.5,
          1.875,
          3,
          2.142857142857143,
          2.142857142857143,
          2.142857142857143,
          7.5,
          1.3636363636363635,
          1.5,
          1.875,
          2.142857142857143,
          1.25,
          3.75,
          3.75,
          3,
          2.142857142857143,
          2.5,
          1.875,
          2.5,
          1.875,
          2.5,
          5,
          2.142857142857143,
          1.875,
          3.75,
          2.142857142857143,
          1.6666666666666667,
          3.75,
          2.142857142857143,
          2.142857142857143,
          1.875,
          1.6666666666666667,
          2.5,
          3.75,
          1.5,
          3.75,
          2.142857142857143,
          1.875,
          1.875,
          1.5,
          3,
          1.5,
          1.5,
          1.6666666666666667,
          1.875,
          3,
          1.5,
          3,
          3.75,
          1.3636363636363635,
          5,
          2.142857142857143,
          2.5,
          1.6666666666666667,
          2.142857142857143,
          2.142857142857143,
          2.142857142857143,
          1.875,
          3.75,
          2.5,
          1.25,
          2.5,
          1.6666666666666667,
          1.5,
          3,
          2.142857142857143,
          1.3636363636363635,
          1.875,
          2.142857142857143,
          1.6666666666666667,
          1.6666666666666667,
          2.142857142857143,
          1.6666666666666667,
          5,
          1.875,
          3,
          1.6666666666666667,
          2.142857142857143,
          1.875,
          7.5,
          2.5,
          2.5,
          2.142857142857143,
          2.5,
          1.6666666666666667,
          1.6666666666666667,
          3,
          5,
          3,
          2.142857142857143,
          1.5,
          1.875,
          1.3636363636363635,
          2.142857142857143,
          1.3636363636363635,
          1.5,
          1.3636363636363635,
          3.75,
          3.75,
          1.5,
          1.5,
          2.142857142857143,
          1.875,
          3.75,
          1.5,
          1.875,
          1.6666666666666667,
          2.142857142857143,
          3.75,
          1.6666666666666667,
          7.5,
          2.5,
          1.25,
          1.875,
          2.5,
          1.6666666666666667,
          2.5,
          3,
          1.875,
          3,
          2.142857142857143,
          1.5,
          2.5,
          1.3636363636363635,
          3,
          1.6666666666666667,
          3.75,
          2.142857142857143,
          1.6666666666666667,
          3.75,
          1.875,
          1.3636363636363635,
          2.5,
          2.142857142857143,
          1.3636363636363635,
          3,
          2.5,
          1.875,
          2.142857142857143,
          1.875,
          2.142857142857143,
          1.875,
          1.6666666666666667,
          3,
          2.5,
          5,
          2.142857142857143,
          3.75,
          1.875,
          1.25,
          1.6666666666666667,
          1.6666666666666667,
          5,
          1.5,
          2.142857142857143,
          5,
          2.142857142857143,
          7.5,
          2.5,
          3,
          2.142857142857143,
          1.5,
          1.6666666666666667,
          1.6666666666666667,
          2.142857142857143,
          1.875,
          2.142857142857143,
          3.75,
          1.6666666666666667,
          2.142857142857143,
          1.6666666666666667,
          2.142857142857143,
          1.6666666666666667,
          2.5,
          2.142857142857143,
          3,
          2.5,
          2.5,
          2.5,
          1.875,
          1.875,
          3,
          2.5,
          1.875,
          1.6666666666666667,
          3.75,
          3.75,
          5,
          1.875,
          1.3636363636363635,
          3,
          1.5,
          1.5,
          2.142857142857143,
          1.6666666666666667,
          1.5,
          2.142857142857143,
          1.3636363636363635,
          1.5,
          3,
          1.875,
          3,
          3,
          1.875,
          5,
          2.5,
          3,
          1.875,
          2.5,
          2.142857142857143,
          5,
          1.5,
          3,
          3,
          5,
          1.5,
          2.142857142857143,
          3,
          2.5,
          1.3636363636363635,
          3,
          2.142857142857143,
          1.3636363636363635,
          3.75,
          1.875,
          2.142857142857143,
          1.5,
          2.142857142857143,
          2.142857142857143,
          1.875,
          3,
          3,
          3,
          7.5,
          3,
          5,
          3.75,
          3,
          1.875,
          1.3636363636363635,
          1.875,
          1.6666666666666667,
          2.5,
          1.3636363636363635,
          2.142857142857143,
          5,
          1.6666666666666667,
          3,
          3,
          2.5,
          7.5,
          1.875,
          1.875,
          2.142857142857143,
          1.6666666666666667,
          3.75,
          3,
          1.875,
          1.875,
          1.875,
          1.6666666666666667,
          1.25,
          2.142857142857143,
          1.6666666666666667,
          2.142857142857143,
          1.5,
          2.142857142857143,
          3.75,
          1.5,
          2.5,
          2.5,
          2.142857142857143,
          1.875,
          5,
          3.75,
          1.875,
          3.75,
          1.3636363636363635,
          1.6666666666666667,
          5,
          1.5,
          3,
          1.875,
          5,
          1.25,
          7.5,
          3,
          2.142857142857143,
          3.75,
          3,
          5,
          1.5,
          1.875,
          2.142857142857143,
          1.6666666666666667,
          1.6666666666666667,
          2.5,
          1.5,
          1.875,
          2.5,
          5,
          1.3636363636363635,
          1.3636363636363635,
          3,
          2.5,
          5,
          2.142857142857143,
          2.142857142857143,
          1.6666666666666667,
          1.6666666666666667,
          3,
          2.5,
          3,
          1.5,
          2.142857142857143,
          7.5,
          1.6666666666666667,
          3,
          2.142857142857143,
          1.6666666666666667,
          3,
          1.5,
          1.3636363636363635,
          2.5,
          1.5,
          3.75,
          1.6666666666666667,
          1.5,
          1.5,
          1.875,
          1.5,
          1.875,
          3.75,
          1.875,
          1.875,
          2.142857142857143,
          2.5,
          2.142857142857143,
          2.5,
          3.75,
          1.5,
          5,
          3.75,
          3,
          2.142857142857143,
          1.5,
          1.5,
          1.875,
          1.6666666666666667,
          1.5,
          2.142857142857143,
          5,
          1.5,
          5,
          1.875,
          1.5,
          1.3636363636363635,
          1.875,
          1.875,
          2.142857142857143,
          1.25,
          1.6666666666666667,
          1.875,
          3.75,
          1.6666666666666667,
          1.3636363636363635,
          3,
          3,
          2.142857142857143,
          1.6666666666666667,
          1.6666666666666667,
          1.875,
          3.75,
          3,
          1.5,
          3,
          1.6666666666666667,
          7.5,
          5,
          2.5,
          1.875,
          1.3636363636363635,
          3,
          5,
          1.875,
          3.75,
          1.5,
          1.6666666666666667,
          2.142857142857143,
          1.25,
          1.25,
          1.3636363636363635,
          7.5,
          1.6666666666666667,
          2.5,
          5,
          1.875,
          1.875,
          2.142857142857143,
          3,
          1.3636363636363635,
          2.142857142857143,
          2.142857142857143,
          2.5,
          1.5,
          1.875,
          7.5,
          1.6666666666666667,
          1.6666666666666667,
          2.142857142857143,
          2.5,
          1.6666666666666667,
          5,
          5,
          2.142857142857143,
          1.5,
          2.5,
          1.875,
          3,
          2.142857142857143,
          7.5,
          1.6666666666666667,
          3,
          3,
          2.142857142857143,
          5,
          1.6666666666666667,
          3,
          2.142857142857143,
          3,
          1.3636363636363635,
          1.3636363636363635,
          1.6666666666666667,
          2.5,
          5,
          1.5,
          2.142857142857143,
          1.6666666666666667,
          1.25,
          5,
          1.875,
          1.25,
          1.3636363636363635,
          7.5,
          3,
          3,
          3,
          1.875,
          1.875,
          1.875,
          3,
          2.5,
          1.875,
          1.3636363636363635,
          5,
          1.5,
          3,
          1.875,
          3.75,
          2.5,
          2.5,
          1.875,
          1.25,
          2.5,
          1.6666666666666667,
          2.142857142857143,
          3.75,
          1.5,
          1.6666666666666667,
          2.142857142857143,
          2.142857142857143,
          1.6666666666666667,
          2.5,
          7.5,
          2.5,
          3,
          2.142857142857143,
          1.5,
          2.142857142857143,
          7.5,
          1.5,
          2.142857142857143,
          7.5,
          3.75,
          2.5,
          2.5,
          1.6666666666666667,
          1.875,
          3,
          3.75,
          2.142857142857143,
          5,
          1.875,
          2.5,
          1.875,
          1.3636363636363635,
          2.142857142857143,
          1.875,
          1.6666666666666667,
          1.6666666666666667,
          1.875,
          1.5,
          2.142857142857143,
          2.142857142857143,
          2.142857142857143,
          3,
          2.5,
          1.6666666666666667,
          7.5,
          1.6666666666666667,
          1.6666666666666667,
          1.875,
          1.3636363636363635,
          1.875,
          2.5,
          1.25,
          1.3636363636363635,
          5,
          2.142857142857143,
          2.142857142857143,
          2.142857142857143,
          1.6666666666666667,
          1.3636363636363635,
          7.5,
          3,
          1.5,
          1.875,
          2.142857142857143,
          5,
          3.75,
          2.142857142857143,
          1.25,
          2.5,
          1.875,
          3,
          1.6666666666666667,
          2.5,
          1.6666666666666667,
          1.5,
          2.5,
          1.25,
          1.6666666666666667,
          3.75,
          1.6666666666666667,
          3,
          3,
          1.5,
          1.875,
          2.142857142857143,
          3,
          2.142857142857143,
          2.5,
          2.5,
          3,
          5,
          1.875,
          5,
          1.875,
          1.875,
          3.75,
          1.875,
          1.3636363636363635,
          1.3636363636363635,
          2.5,
          5,
          2.142857142857143,
          3,
          3,
          1.875,
          2.142857142857143,
          1.875,
          2.142857142857143,
          1.5,
          1.3636363636363635,
          2.5,
          1.875,
          1.5,
          1.875,
          3.75,
          1.5,
          1.6666666666666667,
          5,
          2.5,
          3,
          3.75,
          3.75,
          2.142857142857143,
          1.875,
          1.5,
          1.6666666666666667,
          1.6666666666666667,
          2.142857142857143,
          5,
          3,
          1.5,
          1.3636363636363635,
          2.5,
          1.3636363636363635,
          1.3636363636363635,
          3.75,
          1.6666666666666667,
          2.5,
          3,
          7.5,
          1.25,
          2.142857142857143,
          1.6666666666666667,
          2.142857142857143,
          1.5,
          2.142857142857143,
          3,
          1.25,
          3.75,
          1.6666666666666667,
          1.875,
          2.5,
          1.875,
          1.25,
          5,
          1.875,
          2.142857142857143,
          1.25,
          2.142857142857143,
          1.5,
          3,
          2.142857142857143,
          2.142857142857143,
          2.142857142857143,
          2.142857142857143,
          2.5,
          2.142857142857143,
          5,
          2.142857142857143,
          5,
          1.6666666666666667,
          1.25,
          1.5,
          1.875,
          5,
          2.142857142857143,
          2.142857142857143,
          2.5,
          1.875,
          3.75,
          3,
          1.3636363636363635,
          1.6666666666666667,
          1.6666666666666667,
          1.875,
          3,
          1.875,
          1.6666666666666667,
          3,
          1.875,
          3.75,
          2.5,
          2.5,
          5,
          1.3636363636363635,
          1.6666666666666667,
          3,
          3,
          3,
          2.5,
          1.5,
          3.75,
          1.875,
          2.5,
          2.5,
          1.25,
          2.142857142857143,
          3.75,
          5,
          3,
          2.142857142857143,
          1.6666666666666667,
          2.5,
          2.5,
          1.3636363636363635,
          2.142857142857143,
          2.142857142857143,
          3,
          1.5,
          1.6666666666666667,
          1.875,
          2.5,
          1.875,
          1.6666666666666667,
          2.142857142857143,
          1.5,
          1.875,
          1.875,
          1.25,
          5,
          3.75,
          3,
          3,
          1.875,
          1.25,
          3,
          1.5,
          2.142857142857143,
          2.142857142857143,
          1.25,
          1.6666666666666667,
          1.5,
          1.6666666666666667,
          5,
          1.5,
          2.5,
          3.75,
          1.5,
          2.142857142857143,
          2.5,
          2.142857142857143,
          1.6666666666666667,
          2.142857142857143,
          3,
          5,
          2.5,
          3.75,
          1.5,
          1.5,
          2.142857142857143,
          3,
          3.75,
          1.3636363636363635,
          2.142857142857143,
          2.142857142857143,
          2.142857142857143,
          2.142857142857143,
          1.5,
          2.5,
          5,
          1.875,
          1.6666666666666667,
          1.6666666666666667,
          3.75,
          2.5,
          1.25,
          1.5,
          2.5,
          1.875,
          1.875,
          1.6666666666666667,
          1.6666666666666667,
          2.142857142857143,
          1.3636363636363635,
          1.6666666666666667,
          5,
          1.875,
          2.142857142857143,
          1.6666666666666667,
          7.5,
          2.142857142857143,
          1.5,
          2.5,
          3.75,
          2.142857142857143,
          2.5,
          1.6666666666666667,
          2.5,
          1.5,
          2.5,
          2.142857142857143,
          1.875,
          1.6666666666666667,
          1.3636363636363635,
          3.75,
          7.5,
          1.5,
          1.5,
          3,
          1.5,
          1.5,
          3.75,
          3.75,
          2.142857142857143,
          1.5,
          2.142857142857143,
          1.3636363636363635,
          5,
          1.875,
          5,
          2.142857142857143,
          1.875,
          2.142857142857143,
          1.6666666666666667,
          2.5,
          2.142857142857143,
          3.75,
          2.5,
          2.5,
          1.875,
          1.875,
          2.5,
          1.3636363636363635,
          2.5,
          3.75,
          2.142857142857143,
          2.142857142857143,
          7.5,
          1.25,
          1.875,
          1.6666666666666667,
          2.5,
          3.75,
          1.6666666666666667,
          1.875,
          1.5,
          3,
          1.25,
          2.5,
          1.875,
          1.5,
          2.142857142857143,
          1.875,
          1.3636363636363635,
          3,
          1.6666666666666667,
          1.875,
          2.142857142857143,
          3,
          2.5,
          2.142857142857143,
          2.5,
          1.3636363636363635,
          2.5,
          2.5,
          1.875,
          1.5,
          5,
          5,
          1.875,
          2.142857142857143,
          2.5,
          1.5,
          2.5,
          3,
          3,
          2.142857142857143,
          1.875,
          7.5,
          1.6666666666666667,
          3,
          2.5,
          3.75,
          2.5,
          2.142857142857143,
          2.142857142857143,
          1.3636363636363635,
          2.142857142857143,
          3,
          5,
          7.5,
          1.3636363636363635,
          2.142857142857143,
          2.5,
          1.6666666666666667,
          1.875,
          2.142857142857143,
          1.875,
          1.5,
          5,
          2.142857142857143,
          1.6666666666666667,
          1.6666666666666667,
          1.875,
          1.5,
          3,
          5,
          1.875,
          1.875,
          3.75,
          2.142857142857143,
          1.6666666666666667,
          2.5,
          3,
          1.25,
          2.142857142857143,
          1.6666666666666667,
          1.5,
          1.6666666666666667,
          3,
          3.75,
          1.3636363636363635,
          2.5,
          1.875,
          1.3636363636363635,
          1.5,
          2.5,
          2.5,
          2.142857142857143,
          3.75,
          1.875,
          1.875,
          2.142857142857143,
          1.25,
          1.875,
          5,
          1.875,
          2.5,
          2.142857142857143,
          3,
          2.142857142857143,
          2.5,
          7.5,
          2.142857142857143,
          1.875,
          2.5,
          1.3636363636363635,
          2.142857142857143,
          7.5,
          2.5,
          2.5,
          1.5,
          2.142857142857143,
          1.5,
          1.875,
          1.6666666666666667,
          1.25,
          5,
          3.75,
          1.875,
          1.6666666666666667,
          1.875,
          3,
          2.5,
          2.5,
          3,
          2.142857142857143,
          7.5,
          1.875,
          2.142857142857143,
          3,
          3.75,
          2.142857142857143,
          2.5,
          3,
          2.142857142857143,
          1.5,
          3.75,
          1.875,
          3,
          1.875,
          1.3636363636363635,
          3.75,
          2.5,
          1.6666666666666667,
          2.5,
          1.875,
          1.5,
          1.25,
          1.875,
          5,
          3,
          1.6666666666666667,
          2.142857142857143,
          2.5,
          2.5,
          3,
          2.5,
          5,
          1.875,
          3,
          3,
          2.5,
          3.75,
          3,
          2.142857142857143,
          1.875,
          3.75,
          3,
          1.25,
          2.5,
          1.6666666666666667,
          1.875,
          2.5,
          5,
          2.142857142857143,
          1.875,
          3,
          2.142857142857143,
          1.875,
          1.6666666666666667,
          2.5,
          3,
          1.875,
          2.5,
          3.75,
          3,
          1.3636363636363635,
          2.5,
          1.6666666666666667,
          3,
          1.875,
          3,
          3,
          2.5,
          1.5,
          2.5,
          1.875,
          3,
          2.142857142857143,
          2.142857142857143,
          2.142857142857143,
          7.5,
          1.3636363636363635,
          1.5,
          1.875,
          2.142857142857143,
          1.25,
          3.75,
          3.75,
          3,
          2.142857142857143,
          2.5,
          1.875,
          2.5,
          1.875,
          2.5,
          5,
          2.142857142857143,
          1.875,
          3.75,
          2.142857142857143,
          1.6666666666666667,
          3.75,
          2.142857142857143,
          2.142857142857143,
          1.875,
          1.6666666666666667,
          2.5,
          3.75,
          1.5,
          3.75,
          2.142857142857143,
          1.875,
          1.875,
          1.5,
          3,
          1.5,
          1.5,
          1.6666666666666667,
          1.875,
          3,
          1.5,
          3,
          3.75,
          1.3636363636363635,
          5,
          2.142857142857143,
          2.5,
          1.6666666666666667,
          2.142857142857143,
          2.142857142857143,
          2.142857142857143,
          1.875,
          3.75,
          2.5,
          1.25,
          2.5,
          1.6666666666666667,
          1.5,
          3,
          2.142857142857143,
          1.3636363636363635,
          1.875,
          2.142857142857143,
          1.6666666666666667,
          1.6666666666666667,
          2.142857142857143,
          1.6666666666666667,
          5,
          1.875,
          3,
          1.6666666666666667,
          2.142857142857143,
          1.875,
          7.5,
          2.5,
          2.5,
          2.142857142857143,
          2.5,
          1.6666666666666667,
          1.6666666666666667,
          3,
          5,
          3,
          2.142857142857143,
          1.5,
          1.875,
          1.3636363636363635,
          2.142857142857143,
          1.3636363636363635,
          1.5,
          1.3636363636363635,
          3.75,
          3.75,
          1.5,
          1.5,
          2.142857142857143,
          1.875,
          3.75,
          1.5,
          1.875,
          1.6666666666666667,
          2.142857142857143,
          3.75,
          1.6666666666666667,
          7.5,
          2.5,
          1.25,
          1.875,
          2.5,
          1.6666666666666667,
          2.5,
          3,
          1.875,
          3,
          2.142857142857143,
          1.5,
          2.5,
          1.3636363636363635,
          3,
          1.6666666666666667,
          3.75,
          2.142857142857143,
          1.6666666666666667,
          3.75,
          1.875,
          1.3636363636363635,
          2.5,
          2.142857142857143,
          1.3636363636363635,
          3,
          2.5,
          1.875,
          2.142857142857143,
          1.875,
          2.142857142857143,
          1.875,
          1.6666666666666667,
          3,
          2.5,
          5,
          2.142857142857143,
          3.75,
          1.875,
          1.25,
          1.6666666666666667,
          1.6666666666666667,
          5,
          1.5,
          2.142857142857143,
          5,
          2.142857142857143,
          7.5,
          2.5,
          3,
          2.142857142857143,
          1.5,
          1.6666666666666667,
          1.6666666666666667,
          2.142857142857143,
          1.875,
          2.142857142857143,
          3.75,
          1.6666666666666667,
          2.142857142857143,
          1.6666666666666667,
          2.142857142857143,
          1.6666666666666667,
          2.5,
          2.142857142857143,
          3,
          2.5,
          2.5,
          2.5,
          1.875,
          1.875,
          3,
          2.5,
          1.875,
          1.6666666666666667,
          3.75,
          3.75,
          5,
          1.875,
          1.3636363636363635,
          3,
          1.5,
          1.5,
          2.142857142857143,
          1.6666666666666667,
          1.5,
          2.142857142857143,
          1.3636363636363635,
          1.5,
          3,
          1.875,
          3,
          3,
          1.875,
          5,
          2.5,
          3,
          1.875,
          2.5,
          2.142857142857143,
          5,
          1.5,
          3,
          3,
          5,
          1.5,
          2.142857142857143,
          3,
          2.5,
          1.3636363636363635,
          3,
          2.142857142857143,
          1.3636363636363635,
          3.75,
          1.875,
          2.142857142857143,
          1.5,
          2.142857142857143,
          2.142857142857143,
          1.875,
          3,
          3,
          3,
          7.5,
          3,
          5,
          3.75,
          3,
          1.875,
          1.3636363636363635,
          1.875,
          1.6666666666666667,
          2.5,
          1.3636363636363635,
          2.142857142857143,
          5,
          1.6666666666666667,
          3,
          3,
          2.5,
          7.5,
          1.875,
          1.875,
          2.142857142857143,
          1.6666666666666667,
          3.75,
          3,
          1.875,
          1.875,
          1.875,
          1.6666666666666667,
          1.25,
          2.142857142857143,
          1.6666666666666667,
          2.142857142857143,
          1.5,
          2.142857142857143,
          3.75,
          1.5,
          2.5,
          2.5,
          2.142857142857143,
          1.875,
          5,
          3.75,
          1.875,
          3.75,
          1.3636363636363635,
          1.6666666666666667,
          5,
          1.5,
          3,
          1.875,
          5,
          1.25,
          7.5,
          3,
          2.142857142857143,
          3.75,
          3,
          5,
          1.5,
          1.875,
          2.142857142857143,
          1.6666666666666667,
          1.6666666666666667,
          2.5,
          1.5,
          1.875,
          2.5,
          5,
          1.3636363636363635,
          1.3636363636363635,
          3,
          2.5,
          5,
          2.142857142857143,
          2.142857142857143,
          1.6666666666666667,
          1.6666666666666667,
          3,
          2.5,
          3,
          1.5,
          2.142857142857143,
          7.5,
          1.6666666666666667,
          3,
          2.142857142857143,
          1.6666666666666667,
          3,
          1.5,
          1.3636363636363635,
          2.5,
          1.5,
          3.75,
          1.6666666666666667,
          1.5,
          1.5,
          1.875,
          1.5,
          1.875,
          3.75,
          1.875,
          1.875,
          2.142857142857143,
          2.5,
          2.142857142857143,
          2.5,
          3.75,
          1.5,
          5,
          3.75,
          3,
          2.142857142857143,
          1.5,
          1.5,
          1.875,
          1.6666666666666667,
          1.5,
          2.142857142857143,
          5,
          1.5,
          5,
          1.875,
          1.5,
          1.3636363636363635,
          1.875,
          1.875,
          2.142857142857143,
          1.25,
          1.6666666666666667,
          1.875,
          3.75,
          1.6666666666666667,
          1.3636363636363635,
          3,
          3,
          2.142857142857143,
          1.6666666666666667,
          1.6666666666666667,
          1.875,
          3.75,
          3,
          1.5,
          3,
          1.6666666666666667,
          7.5,
          5,
          2.5,
          1.875,
          1.3636363636363635,
          3,
          5,
          1.875,
          3.75,
          1.5,
          1.6666666666666667,
          2.142857142857143,
          1.25,
          1.25,
          1.3636363636363635,
          7.5,
          1.6666666666666667,
          2.5,
          5,
          1.875,
          1.875,
          2.142857142857143,
          3,
          1.3636363636363635,
          2.142857142857143,
          2.142857142857143,
          2.5,
          1.5,
          1.875,
          7.5,
          1.6666666666666667,
          1.6666666666666667,
          2.142857142857143,
          2.5,
          1.6666666666666667,
          5,
          5,
          2.142857142857143,
          1.5,
          2.5,
          1.875,
          3,
          2.142857142857143,
          7.5,
          1.6666666666666667,
          3,
          3,
          2.142857142857143,
          5,
          1.6666666666666667,
          3,
          2.142857142857143,
          3,
          1.3636363636363635,
          1.3636363636363635,
          1.6666666666666667,
          2.5,
          5,
          1.5,
          2.142857142857143,
          1.6666666666666667,
          1.25,
          5,
          1.875,
          1.25,
          1.3636363636363635,
          7.5,
          3,
          3,
          3,
          1.875,
          1.875,
          1.875,
          3,
          2.5,
          1.875,
          1.3636363636363635,
          5,
          1.5,
          3,
          1.875,
          3.75,
          2.5,
          2.5,
          1.875,
          1.25,
          2.5,
          1.6666666666666667,
          2.142857142857143,
          3.75,
          1.5,
          1.6666666666666667,
          2.142857142857143,
          2.142857142857143,
          1.6666666666666667,
          2.5,
          7.5,
          2.5,
          3,
          2.142857142857143,
          1.5,
          2.142857142857143,
          7.5,
          1.5,
          2.142857142857143,
          7.5,
          3.75,
          2.5,
          2.5,
          1.6666666666666667,
          1.875,
          3,
          3.75,
          2.142857142857143,
          5,
          1.875,
          2.5,
          1.875,
          1.3636363636363635,
          2.142857142857143,
          1.875,
          1.6666666666666667,
          1.6666666666666667,
          1.875,
          1.5,
          2.142857142857143,
          2.142857142857143,
          2.142857142857143,
          3,
          2.5,
          1.6666666666666667,
          7.5,
          1.6666666666666667,
          1.6666666666666667,
          1.875,
          1.3636363636363635,
          1.875,
          2.5,
          1.25,
          1.3636363636363635,
          5,
          2.142857142857143,
          2.142857142857143,
          2.142857142857143,
          1.6666666666666667,
          1.3636363636363635,
          7.5,
          3,
          1.5,
          1.875,
          2.142857142857143,
          5,
          3.75,
          2.142857142857143,
          1.25,
          2.5,
          1.875,
          3,
          1.6666666666666667,
          2.5,
          1.6666666666666667,
          1.5,
          2.5,
          1.25,
          1.6666666666666667,
          3.75,
          1.6666666666666667,
          3,
          3,
          1.5,
          1.875,
          2.142857142857143,
          3,
          2.142857142857143,
          2.5,
          2.5,
          3,
          5,
          1.875,
          5,
          1.875,
          1.875,
          3.75,
          1.875,
          1.3636363636363635,
          1.3636363636363635,
          2.5,
          5,
          2.142857142857143,
          3,
          3,
          1.875,
          2.142857142857143,
          1.875,
          2.142857142857143,
          1.5,
          1.3636363636363635,
          2.5,
          1.875,
          1.5,
          1.875,
          3.75,
          1.5,
          1.6666666666666667,
          5,
          2.5,
          3,
          3.75,
          3.75,
          2.142857142857143,
          1.875,
          1.5,
          1.6666666666666667,
          1.6666666666666667,
          2.142857142857143,
          5,
          3,
          1.5,
          1.3636363636363635,
          2.5,
          1.3636363636363635,
          1.3636363636363635,
          3.75,
          1.6666666666666667,
          2.5,
          3,
          7.5,
          1.25,
          2.142857142857143,
          1.6666666666666667,
          2.142857142857143,
          1.5,
          2.142857142857143,
          3,
          1.25,
          3.75,
          1.6666666666666667,
          1.875,
          2.5,
          1.875,
          1.25,
          5,
          1.875,
          2.142857142857143,
          1.25,
          2.142857142857143,
          1.5,
          3,
          2.142857142857143,
          2.142857142857143,
          2.142857142857143,
          2.142857142857143,
          2.5,
          2.142857142857143,
          5,
          2.142857142857143,
          5,
          1.6666666666666667,
          1.25,
          1.5,
          1.875,
          5,
          2.142857142857143,
          2.142857142857143,
          2.5,
          1.875,
          3.75,
          3,
          1.3636363636363635,
          1.6666666666666667,
          1.6666666666666667,
          1.875,
          3,
          1.875,
          1.6666666666666667,
          3,
          1.875,
          3.75,
          2.5,
          2.5,
          5,
          1.3636363636363635,
          1.6666666666666667,
          3,
          3,
          3,
          2.5,
          1.5,
          3.75,
          1.875,
          2.5,
          2.5,
          1.25,
          2.142857142857143,
          3.75,
          5,
          3,
          2.142857142857143,
          1.6666666666666667,
          2.5,
          2.5,
          1.3636363636363635,
          2.142857142857143,
          2.142857142857143,
          3,
          1.5,
          1.6666666666666667,
          1.875,
          2.5,
          1.875,
          1.6666666666666667,
          2.142857142857143,
          1.5,
          1.875,
          1.875,
          1.25,
          5,
          3.75,
          3,
          3,
          1.875,
          1.25,
          3,
          1.5,
          2.142857142857143,
          2.142857142857143,
          1.25,
          1.6666666666666667,
          1.5,
          1.6666666666666667,
          5,
          1.5,
          2.5,
          3.75,
          1.5,
          2.142857142857143,
          2.5,
          2.142857142857143,
          1.6666666666666667,
          2.142857142857143,
          3,
          5,
          2.5,
          3.75,
          1.5,
          1.5,
          2.142857142857143,
          3,
          3.75,
          1.3636363636363635,
          2.142857142857143,
          2.142857142857143,
          2.142857142857143,
          2.142857142857143,
          1.5,
          2.5,
          5,
          1.875,
          1.6666666666666667,
          1.6666666666666667,
          3.75,
          2.5,
          1.25,
          1.5,
          2.5,
          1.875,
          1.875,
          1.6666666666666667,
          1.6666666666666667,
          2.142857142857143,
          1.3636363636363635,
          1.6666666666666667,
          5,
          1.875,
          2.142857142857143,
          1.6666666666666667,
          7.5,
          2.142857142857143,
          1.5,
          2.5,
          3.75,
          2.142857142857143,
          2.5,
          1.6666666666666667,
          2.5,
          1.5,
          2.5,
          2.142857142857143,
          1.875,
          1.6666666666666667,
          1.3636363636363635,
          3.75,
          7.5,
          1.5,
          1.5,
          3,
          1.5,
          1.5,
          3.75,
          3.75,
          2.142857142857143,
          1.5,
          2.142857142857143,
          1.3636363636363635,
          5,
          1.875,
          5,
          2.142857142857143,
          1.875,
          2.142857142857143,
          1.6666666666666667,
          2.5,
          2.142857142857143,
          3.75,
          2.5,
          2.5,
          1.875,
          1.875,
          2.5,
          1.3636363636363635,
          2.5,
          3.75,
          2.142857142857143,
          2.142857142857143,
          7.5,
          1.25,
          1.875,
          1.6666666666666667,
          2.5,
          3.75,
          1.6666666666666667,
          1.875,
          1.5,
          3,
          1.25,
          2.5,
          1.875,
          1.5,
          2.142857142857143,
          1.875,
          1.3636363636363635,
          3,
          1.6666666666666667,
          1.875,
          2.142857142857143,
          3,
          2.5,
          2.142857142857143,
          2.5,
          1.3636363636363635,
          2.5,
          2.5,
          1.875,
          1.5,
          5,
          5,
          1.875,
          2.142857142857143,
          2.5,
          1.5,
          2.5,
          3,
          3,
          2.142857142857143,
          1.875,
          7.5,
          1.6666666666666667,
          3,
          2.5,
          3.75,
          2.5,
          2.142857142857143,
          2.142857142857143,
          1.3636363636363635,
          2.142857142857143,
          3,
          5,
          7.5,
          1.3636363636363635,
          2.142857142857143,
          2.5,
          1.6666666666666667,
          1.875,
          2.142857142857143,
          1.875,
          1.5,
          5,
          2.142857142857143,
          1.6666666666666667,
          1.6666666666666667,
          1.875,
          1.5,
          3,
          5,
          1.875,
          1.875,
          3.75,
          2.142857142857143,
          1.6666666666666667,
          2.5,
          3,
          1.25,
          2.142857142857143,
          1.6666666666666667,
          1.5,
          1.6666666666666667,
          3,
          3.75,
          1.3636363636363635,
          2.5,
          1.875,
          1.3636363636363635,
          1.5,
          2.5,
          2.5,
          2.142857142857143,
          3.75,
          1.875,
          1.875,
          2.142857142857143,
          1.25,
          1.875,
          5,
          1.875,
          2.5,
          2.142857142857143,
          3,
          2.142857142857143,
          2.5,
          7.5,
          2.142857142857143
         ],
         "y0": " ",
         "yaxis": "y"
        }
       ],
       "layout": {
        "boxmode": "group",
        "legend": {
         "tracegroupgap": 0
        },
        "template": {
         "data": {
          "bar": [
           {
            "error_x": {
             "color": "#2a3f5f"
            },
            "error_y": {
             "color": "#2a3f5f"
            },
            "marker": {
             "line": {
              "color": "#E5ECF6",
              "width": 0.5
             },
             "pattern": {
              "fillmode": "overlay",
              "size": 10,
              "solidity": 0.2
             }
            },
            "type": "bar"
           }
          ],
          "barpolar": [
           {
            "marker": {
             "line": {
              "color": "#E5ECF6",
              "width": 0.5
             },
             "pattern": {
              "fillmode": "overlay",
              "size": 10,
              "solidity": 0.2
             }
            },
            "type": "barpolar"
           }
          ],
          "carpet": [
           {
            "aaxis": {
             "endlinecolor": "#2a3f5f",
             "gridcolor": "white",
             "linecolor": "white",
             "minorgridcolor": "white",
             "startlinecolor": "#2a3f5f"
            },
            "baxis": {
             "endlinecolor": "#2a3f5f",
             "gridcolor": "white",
             "linecolor": "white",
             "minorgridcolor": "white",
             "startlinecolor": "#2a3f5f"
            },
            "type": "carpet"
           }
          ],
          "choropleth": [
           {
            "colorbar": {
             "outlinewidth": 0,
             "ticks": ""
            },
            "type": "choropleth"
           }
          ],
          "contour": [
           {
            "colorbar": {
             "outlinewidth": 0,
             "ticks": ""
            },
            "colorscale": [
             [
              0,
              "#0d0887"
             ],
             [
              0.1111111111111111,
              "#46039f"
             ],
             [
              0.2222222222222222,
              "#7201a8"
             ],
             [
              0.3333333333333333,
              "#9c179e"
             ],
             [
              0.4444444444444444,
              "#bd3786"
             ],
             [
              0.5555555555555556,
              "#d8576b"
             ],
             [
              0.6666666666666666,
              "#ed7953"
             ],
             [
              0.7777777777777778,
              "#fb9f3a"
             ],
             [
              0.8888888888888888,
              "#fdca26"
             ],
             [
              1,
              "#f0f921"
             ]
            ],
            "type": "contour"
           }
          ],
          "contourcarpet": [
           {
            "colorbar": {
             "outlinewidth": 0,
             "ticks": ""
            },
            "type": "contourcarpet"
           }
          ],
          "heatmap": [
           {
            "colorbar": {
             "outlinewidth": 0,
             "ticks": ""
            },
            "colorscale": [
             [
              0,
              "#0d0887"
             ],
             [
              0.1111111111111111,
              "#46039f"
             ],
             [
              0.2222222222222222,
              "#7201a8"
             ],
             [
              0.3333333333333333,
              "#9c179e"
             ],
             [
              0.4444444444444444,
              "#bd3786"
             ],
             [
              0.5555555555555556,
              "#d8576b"
             ],
             [
              0.6666666666666666,
              "#ed7953"
             ],
             [
              0.7777777777777778,
              "#fb9f3a"
             ],
             [
              0.8888888888888888,
              "#fdca26"
             ],
             [
              1,
              "#f0f921"
             ]
            ],
            "type": "heatmap"
           }
          ],
          "heatmapgl": [
           {
            "colorbar": {
             "outlinewidth": 0,
             "ticks": ""
            },
            "colorscale": [
             [
              0,
              "#0d0887"
             ],
             [
              0.1111111111111111,
              "#46039f"
             ],
             [
              0.2222222222222222,
              "#7201a8"
             ],
             [
              0.3333333333333333,
              "#9c179e"
             ],
             [
              0.4444444444444444,
              "#bd3786"
             ],
             [
              0.5555555555555556,
              "#d8576b"
             ],
             [
              0.6666666666666666,
              "#ed7953"
             ],
             [
              0.7777777777777778,
              "#fb9f3a"
             ],
             [
              0.8888888888888888,
              "#fdca26"
             ],
             [
              1,
              "#f0f921"
             ]
            ],
            "type": "heatmapgl"
           }
          ],
          "histogram": [
           {
            "marker": {
             "pattern": {
              "fillmode": "overlay",
              "size": 10,
              "solidity": 0.2
             }
            },
            "type": "histogram"
           }
          ],
          "histogram2d": [
           {
            "colorbar": {
             "outlinewidth": 0,
             "ticks": ""
            },
            "colorscale": [
             [
              0,
              "#0d0887"
             ],
             [
              0.1111111111111111,
              "#46039f"
             ],
             [
              0.2222222222222222,
              "#7201a8"
             ],
             [
              0.3333333333333333,
              "#9c179e"
             ],
             [
              0.4444444444444444,
              "#bd3786"
             ],
             [
              0.5555555555555556,
              "#d8576b"
             ],
             [
              0.6666666666666666,
              "#ed7953"
             ],
             [
              0.7777777777777778,
              "#fb9f3a"
             ],
             [
              0.8888888888888888,
              "#fdca26"
             ],
             [
              1,
              "#f0f921"
             ]
            ],
            "type": "histogram2d"
           }
          ],
          "histogram2dcontour": [
           {
            "colorbar": {
             "outlinewidth": 0,
             "ticks": ""
            },
            "colorscale": [
             [
              0,
              "#0d0887"
             ],
             [
              0.1111111111111111,
              "#46039f"
             ],
             [
              0.2222222222222222,
              "#7201a8"
             ],
             [
              0.3333333333333333,
              "#9c179e"
             ],
             [
              0.4444444444444444,
              "#bd3786"
             ],
             [
              0.5555555555555556,
              "#d8576b"
             ],
             [
              0.6666666666666666,
              "#ed7953"
             ],
             [
              0.7777777777777778,
              "#fb9f3a"
             ],
             [
              0.8888888888888888,
              "#fdca26"
             ],
             [
              1,
              "#f0f921"
             ]
            ],
            "type": "histogram2dcontour"
           }
          ],
          "mesh3d": [
           {
            "colorbar": {
             "outlinewidth": 0,
             "ticks": ""
            },
            "type": "mesh3d"
           }
          ],
          "parcoords": [
           {
            "line": {
             "colorbar": {
              "outlinewidth": 0,
              "ticks": ""
             }
            },
            "type": "parcoords"
           }
          ],
          "pie": [
           {
            "automargin": true,
            "type": "pie"
           }
          ],
          "scatter": [
           {
            "fillpattern": {
             "fillmode": "overlay",
             "size": 10,
             "solidity": 0.2
            },
            "type": "scatter"
           }
          ],
          "scatter3d": [
           {
            "line": {
             "colorbar": {
              "outlinewidth": 0,
              "ticks": ""
             }
            },
            "marker": {
             "colorbar": {
              "outlinewidth": 0,
              "ticks": ""
             }
            },
            "type": "scatter3d"
           }
          ],
          "scattercarpet": [
           {
            "marker": {
             "colorbar": {
              "outlinewidth": 0,
              "ticks": ""
             }
            },
            "type": "scattercarpet"
           }
          ],
          "scattergeo": [
           {
            "marker": {
             "colorbar": {
              "outlinewidth": 0,
              "ticks": ""
             }
            },
            "type": "scattergeo"
           }
          ],
          "scattergl": [
           {
            "marker": {
             "colorbar": {
              "outlinewidth": 0,
              "ticks": ""
             }
            },
            "type": "scattergl"
           }
          ],
          "scattermapbox": [
           {
            "marker": {
             "colorbar": {
              "outlinewidth": 0,
              "ticks": ""
             }
            },
            "type": "scattermapbox"
           }
          ],
          "scatterpolar": [
           {
            "marker": {
             "colorbar": {
              "outlinewidth": 0,
              "ticks": ""
             }
            },
            "type": "scatterpolar"
           }
          ],
          "scatterpolargl": [
           {
            "marker": {
             "colorbar": {
              "outlinewidth": 0,
              "ticks": ""
             }
            },
            "type": "scatterpolargl"
           }
          ],
          "scatterternary": [
           {
            "marker": {
             "colorbar": {
              "outlinewidth": 0,
              "ticks": ""
             }
            },
            "type": "scatterternary"
           }
          ],
          "surface": [
           {
            "colorbar": {
             "outlinewidth": 0,
             "ticks": ""
            },
            "colorscale": [
             [
              0,
              "#0d0887"
             ],
             [
              0.1111111111111111,
              "#46039f"
             ],
             [
              0.2222222222222222,
              "#7201a8"
             ],
             [
              0.3333333333333333,
              "#9c179e"
             ],
             [
              0.4444444444444444,
              "#bd3786"
             ],
             [
              0.5555555555555556,
              "#d8576b"
             ],
             [
              0.6666666666666666,
              "#ed7953"
             ],
             [
              0.7777777777777778,
              "#fb9f3a"
             ],
             [
              0.8888888888888888,
              "#fdca26"
             ],
             [
              1,
              "#f0f921"
             ]
            ],
            "type": "surface"
           }
          ],
          "table": [
           {
            "cells": {
             "fill": {
              "color": "#EBF0F8"
             },
             "line": {
              "color": "white"
             }
            },
            "header": {
             "fill": {
              "color": "#C8D4E3"
             },
             "line": {
              "color": "white"
             }
            },
            "type": "table"
           }
          ]
         },
         "layout": {
          "annotationdefaults": {
           "arrowcolor": "#2a3f5f",
           "arrowhead": 0,
           "arrowwidth": 1
          },
          "autotypenumbers": "strict",
          "coloraxis": {
           "colorbar": {
            "outlinewidth": 0,
            "ticks": ""
           }
          },
          "colorscale": {
           "diverging": [
            [
             0,
             "#8e0152"
            ],
            [
             0.1,
             "#c51b7d"
            ],
            [
             0.2,
             "#de77ae"
            ],
            [
             0.3,
             "#f1b6da"
            ],
            [
             0.4,
             "#fde0ef"
            ],
            [
             0.5,
             "#f7f7f7"
            ],
            [
             0.6,
             "#e6f5d0"
            ],
            [
             0.7,
             "#b8e186"
            ],
            [
             0.8,
             "#7fbc41"
            ],
            [
             0.9,
             "#4d9221"
            ],
            [
             1,
             "#276419"
            ]
           ],
           "sequential": [
            [
             0,
             "#0d0887"
            ],
            [
             0.1111111111111111,
             "#46039f"
            ],
            [
             0.2222222222222222,
             "#7201a8"
            ],
            [
             0.3333333333333333,
             "#9c179e"
            ],
            [
             0.4444444444444444,
             "#bd3786"
            ],
            [
             0.5555555555555556,
             "#d8576b"
            ],
            [
             0.6666666666666666,
             "#ed7953"
            ],
            [
             0.7777777777777778,
             "#fb9f3a"
            ],
            [
             0.8888888888888888,
             "#fdca26"
            ],
            [
             1,
             "#f0f921"
            ]
           ],
           "sequentialminus": [
            [
             0,
             "#0d0887"
            ],
            [
             0.1111111111111111,
             "#46039f"
            ],
            [
             0.2222222222222222,
             "#7201a8"
            ],
            [
             0.3333333333333333,
             "#9c179e"
            ],
            [
             0.4444444444444444,
             "#bd3786"
            ],
            [
             0.5555555555555556,
             "#d8576b"
            ],
            [
             0.6666666666666666,
             "#ed7953"
            ],
            [
             0.7777777777777778,
             "#fb9f3a"
            ],
            [
             0.8888888888888888,
             "#fdca26"
            ],
            [
             1,
             "#f0f921"
            ]
           ]
          },
          "colorway": [
           "#636efa",
           "#EF553B",
           "#00cc96",
           "#ab63fa",
           "#FFA15A",
           "#19d3f3",
           "#FF6692",
           "#B6E880",
           "#FF97FF",
           "#FECB52"
          ],
          "font": {
           "color": "#2a3f5f"
          },
          "geo": {
           "bgcolor": "white",
           "lakecolor": "white",
           "landcolor": "#E5ECF6",
           "showlakes": true,
           "showland": true,
           "subunitcolor": "white"
          },
          "hoverlabel": {
           "align": "left"
          },
          "hovermode": "closest",
          "mapbox": {
           "style": "light"
          },
          "paper_bgcolor": "white",
          "plot_bgcolor": "#E5ECF6",
          "polar": {
           "angularaxis": {
            "gridcolor": "white",
            "linecolor": "white",
            "ticks": ""
           },
           "bgcolor": "#E5ECF6",
           "radialaxis": {
            "gridcolor": "white",
            "linecolor": "white",
            "ticks": ""
           }
          },
          "scene": {
           "xaxis": {
            "backgroundcolor": "#E5ECF6",
            "gridcolor": "white",
            "gridwidth": 2,
            "linecolor": "white",
            "showbackground": true,
            "ticks": "",
            "zerolinecolor": "white"
           },
           "yaxis": {
            "backgroundcolor": "#E5ECF6",
            "gridcolor": "white",
            "gridwidth": 2,
            "linecolor": "white",
            "showbackground": true,
            "ticks": "",
            "zerolinecolor": "white"
           },
           "zaxis": {
            "backgroundcolor": "#E5ECF6",
            "gridcolor": "white",
            "gridwidth": 2,
            "linecolor": "white",
            "showbackground": true,
            "ticks": "",
            "zerolinecolor": "white"
           }
          },
          "shapedefaults": {
           "line": {
            "color": "#2a3f5f"
           }
          },
          "ternary": {
           "aaxis": {
            "gridcolor": "white",
            "linecolor": "white",
            "ticks": ""
           },
           "baxis": {
            "gridcolor": "white",
            "linecolor": "white",
            "ticks": ""
           },
           "bgcolor": "#E5ECF6",
           "caxis": {
            "gridcolor": "white",
            "linecolor": "white",
            "ticks": ""
           }
          },
          "title": {
           "x": 0.05
          },
          "xaxis": {
           "automargin": true,
           "gridcolor": "white",
           "linecolor": "white",
           "ticks": "",
           "title": {
            "standoff": 15
           },
           "zerolinecolor": "white",
           "zerolinewidth": 2
          },
          "yaxis": {
           "automargin": true,
           "gridcolor": "white",
           "linecolor": "white",
           "ticks": "",
           "title": {
            "standoff": 15
           },
           "zerolinecolor": "white",
           "zerolinewidth": 2
          }
         }
        },
        "title": {
         "text": "Payback Period for Utilities"
        },
        "xaxis": {
         "anchor": "y",
         "domain": [
          0,
          1
         ],
         "title": {
          "text": "Utility"
         }
        },
        "yaxis": {
         "anchor": "x",
         "domain": [
          0,
          1
         ],
         "title": {
          "text": "Payback period"
         }
        }
       }
      }
     },
     "metadata": {},
     "output_type": "display_data"
    }
   ],
   "source": [
    "fig = px.box(df_1_utility_data,\n",
    "        title='Payback Period for Utilities',\n",
    "        labels={'variable': 'Utility', 'value': 'Payback period'})\n",
    "fig.add_trace(px.box(df_2_utilities_data).data[0])\n",
    "\n",
    "fig.data[1].update(line_color='red', marker_color = 'red')\n",
    "fig.data[0].name = '1 Utility Owned'\n",
    "fig.data[1].name = '2 Utilities Owned'\n",
    "\n",
    "fig.show()"
   ]
  }
 ],
 "metadata": {
  "kernelspec": {
   "display_name": "Python 3",
   "language": "python",
   "name": "python3"
  },
  "language_info": {
   "codemirror_mode": {
    "name": "ipython",
    "version": 3
   },
   "file_extension": ".py",
   "mimetype": "text/x-python",
   "name": "python",
   "nbconvert_exporter": "python",
   "pygments_lexer": "ipython3",
   "version": "3.10.2"
  }
 },
 "nbformat": 4,
 "nbformat_minor": 2
}
