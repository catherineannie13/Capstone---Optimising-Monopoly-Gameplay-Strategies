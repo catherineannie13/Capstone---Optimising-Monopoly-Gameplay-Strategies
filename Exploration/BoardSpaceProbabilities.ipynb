{
 "cells": [
  {
   "cell_type": "markdown",
   "metadata": {},
   "source": [
    "Simplifications made:\n",
    "* jail: assumes player rolls to get out of jail and only pays to get out after 3 turns OR with p = 0.5\n",
    "* get out of jail free card is played with p = 0.5 if posessed\n",
    "* assumes number of goes per game is normally distributed with mean = 30 and SD = 5 (discretised normal since the number of goes needs to be integer value)\n",
    "\n",
    "now accounts for this:\n",
    "* if a player draws a chance card where they need to move a certain number of spaces, they don't take action on the space they move to (this is fairly accurate since there are only 3 spaces that are 3 spaces back from chance - 2 properties and 1 community chest)\n",
    "* community chest and chance cards would not be random, instead there would be a randomised set order"
   ]
  },
  {
   "cell_type": "markdown",
   "metadata": {},
   "source": [
    "card lists taken from: https://www.monopolyland.com/list-monopoly-chance-community-chest-cards/"
   ]
  },
  {
   "cell_type": "code",
   "execution_count": 1,
   "metadata": {},
   "outputs": [
    {
     "data": {
      "application/vnd.plotly.v1+json": {
       "config": {
        "plotlyServerURL": "https://plot.ly"
       },
       "data": [
        {
         "alignmentgroup": "True",
         "hovertemplate": "Property=%{x}<br>Probability=%{y}<extra></extra>",
         "legendgroup": "Go",
         "marker": {
          "color": "lightgray",
          "pattern": {
           "shape": ""
          }
         },
         "name": "Go",
         "offsetgroup": "Go",
         "orientation": "v",
         "showlegend": true,
         "textposition": "auto",
         "type": "bar",
         "x": [
          "Go"
         ],
         "xaxis": "x",
         "y": [
          0.027404105888708806
         ],
         "yaxis": "y"
        },
        {
         "alignmentgroup": "True",
         "hovertemplate": "Property=%{x}<br>Probability=%{y}<extra></extra>",
         "legendgroup": "Old Kent Road",
         "marker": {
          "color": "brown",
          "pattern": {
           "shape": ""
          }
         },
         "name": "Old Kent Road",
         "offsetgroup": "Old Kent Road",
         "orientation": "v",
         "showlegend": true,
         "textposition": "auto",
         "type": "bar",
         "x": [
          "Old Kent Road"
         ],
         "xaxis": "x",
         "y": [
          0.018444084278768234
         ],
         "yaxis": "y"
        },
        {
         "alignmentgroup": "True",
         "hovertemplate": "Property=%{x}<br>Probability=%{y}<extra></extra>",
         "legendgroup": "Community Chest 1",
         "marker": {
          "color": "lightgray",
          "pattern": {
           "shape": ""
          }
         },
         "name": "Community Chest 1",
         "offsetgroup": "Community Chest 1",
         "orientation": "v",
         "showlegend": true,
         "textposition": "auto",
         "type": "bar",
         "x": [
          "Community Chest 1"
         ],
         "xaxis": "x",
         "y": [
          0.019494867639113993
         ],
         "yaxis": "y"
        },
        {
         "alignmentgroup": "True",
         "hovertemplate": "Property=%{x}<br>Probability=%{y}<extra></extra>",
         "legendgroup": "Whitechapel Road",
         "marker": {
          "color": "brown",
          "pattern": {
           "shape": ""
          }
         },
         "name": "Whitechapel Road",
         "offsetgroup": "Whitechapel Road",
         "orientation": "v",
         "showlegend": true,
         "textposition": "auto",
         "type": "bar",
         "x": [
          "Whitechapel Road"
         ],
         "xaxis": "x",
         "y": [
          0.02003781739600216
         ],
         "yaxis": "y"
        },
        {
         "alignmentgroup": "True",
         "hovertemplate": "Property=%{x}<br>Probability=%{y}<extra></extra>",
         "legendgroup": "Income Tax",
         "marker": {
          "color": "lightgray",
          "pattern": {
           "shape": ""
          }
         },
         "name": "Income Tax",
         "offsetgroup": "Income Tax",
         "orientation": "v",
         "showlegend": true,
         "textposition": "auto",
         "type": "bar",
         "x": [
          "Income Tax"
         ],
         "xaxis": "x",
         "y": [
          0.0228957320367369
         ],
         "yaxis": "y"
        },
        {
         "alignmentgroup": "True",
         "hovertemplate": "Property=%{x}<br>Probability=%{y}<extra></extra>",
         "legendgroup": "King's Cross Station",
         "marker": {
          "color": "black",
          "pattern": {
           "shape": ""
          }
         },
         "name": "King's Cross Station",
         "offsetgroup": "King's Cross Station",
         "orientation": "v",
         "showlegend": true,
         "textposition": "auto",
         "type": "bar",
         "x": [
          "King's Cross Station"
         ],
         "xaxis": "x",
         "y": [
          0.02843057806591032
         ],
         "yaxis": "y"
        },
        {
         "alignmentgroup": "True",
         "hovertemplate": "Property=%{x}<br>Probability=%{y}<extra></extra>",
         "legendgroup": "The Angel, Islington",
         "marker": {
          "color": "lightblue",
          "pattern": {
           "shape": ""
          }
         },
         "name": "The Angel, Islington",
         "offsetgroup": "The Angel, Islington",
         "orientation": "v",
         "showlegend": true,
         "textposition": "auto",
         "type": "bar",
         "x": [
          "The Angel, Islington"
         ],
         "xaxis": "x",
         "y": [
          0.022992976769313885
         ],
         "yaxis": "y"
        },
        {
         "alignmentgroup": "True",
         "hovertemplate": "Property=%{x}<br>Probability=%{y}<extra></extra>",
         "legendgroup": "Chance 1",
         "marker": {
          "color": "lightgray",
          "pattern": {
           "shape": ""
          }
         },
         "name": "Chance 1",
         "offsetgroup": "Chance 1",
         "orientation": "v",
         "showlegend": true,
         "textposition": "auto",
         "type": "bar",
         "x": [
          "Chance 1"
         ],
         "xaxis": "x",
         "y": [
          0.024497568881685576
         ],
         "yaxis": "y"
        },
        {
         "alignmentgroup": "True",
         "hovertemplate": "Property=%{x}<br>Probability=%{y}<extra></extra>",
         "legendgroup": "Euston Road",
         "marker": {
          "color": "lightblue",
          "pattern": {
           "shape": ""
          }
         },
         "name": "Euston Road",
         "offsetgroup": "Euston Road",
         "orientation": "v",
         "showlegend": true,
         "textposition": "auto",
         "type": "bar",
         "x": [
          "Euston Road"
         ],
         "xaxis": "x",
         "y": [
          0.023962722852512157
         ],
         "yaxis": "y"
        },
        {
         "alignmentgroup": "True",
         "hovertemplate": "Property=%{x}<br>Probability=%{y}<extra></extra>",
         "legendgroup": "Pentonville Road",
         "marker": {
          "color": "lightblue",
          "pattern": {
           "shape": ""
          }
         },
         "name": "Pentonville Road",
         "offsetgroup": "Pentonville Road",
         "orientation": "v",
         "showlegend": true,
         "textposition": "auto",
         "type": "bar",
         "x": [
          "Pentonville Road"
         ],
         "xaxis": "x",
         "y": [
          0.023951917882225823
         ],
         "yaxis": "y"
        },
        {
         "alignmentgroup": "True",
         "hovertemplate": "Property=%{x}<br>Probability=%{y}<extra></extra>",
         "legendgroup": "Jail",
         "marker": {
          "color": "lightgray",
          "pattern": {
           "shape": ""
          }
         },
         "name": "Jail",
         "offsetgroup": "Jail",
         "orientation": "v",
         "showlegend": true,
         "textposition": "auto",
         "type": "bar",
         "x": [
          "Jail"
         ],
         "xaxis": "x",
         "y": [
          0.054062668827660726
         ],
         "yaxis": "y"
        },
        {
         "alignmentgroup": "True",
         "hovertemplate": "Property=%{x}<br>Probability=%{y}<extra></extra>",
         "legendgroup": "Pall Mall",
         "marker": {
          "color": "pink",
          "pattern": {
           "shape": ""
          }
         },
         "name": "Pall Mall",
         "offsetgroup": "Pall Mall",
         "orientation": "v",
         "showlegend": true,
         "textposition": "auto",
         "type": "bar",
         "x": [
          "Pall Mall"
         ],
         "xaxis": "x",
         "y": [
          0.026831442463533226
         ],
         "yaxis": "y"
        },
        {
         "alignmentgroup": "True",
         "hovertemplate": "Property=%{x}<br>Probability=%{y}<extra></extra>",
         "legendgroup": "Electric Company",
         "marker": {
          "color": "lightgray",
          "pattern": {
           "shape": ""
          }
         },
         "name": "Electric Company",
         "offsetgroup": "Electric Company",
         "orientation": "v",
         "showlegend": true,
         "textposition": "auto",
         "type": "bar",
         "x": [
          "Electric Company"
         ],
         "xaxis": "x",
         "y": [
          0.025891410048622367
         ],
         "yaxis": "y"
        },
        {
         "alignmentgroup": "True",
         "hovertemplate": "Property=%{x}<br>Probability=%{y}<extra></extra>",
         "legendgroup": "Whitehall",
         "marker": {
          "color": "pink",
          "pattern": {
           "shape": ""
          }
         },
         "name": "Whitehall",
         "offsetgroup": "Whitehall",
         "orientation": "v",
         "showlegend": true,
         "textposition": "auto",
         "type": "bar",
         "x": [
          "Whitehall"
         ],
         "xaxis": "x",
         "y": [
          0.022374392220421393
         ],
         "yaxis": "y"
        },
        {
         "alignmentgroup": "True",
         "hovertemplate": "Property=%{x}<br>Probability=%{y}<extra></extra>",
         "legendgroup": "Northumberland Avenue",
         "marker": {
          "color": "pink",
          "pattern": {
           "shape": ""
          }
         },
         "name": "Northumberland Avenue",
         "offsetgroup": "Northumberland Avenue",
         "orientation": "v",
         "showlegend": true,
         "textposition": "auto",
         "type": "bar",
         "x": [
          "Northumberland Avenue"
         ],
         "xaxis": "x",
         "y": [
          0.02373851971907077
         ],
         "yaxis": "y"
        },
        {
         "alignmentgroup": "True",
         "hovertemplate": "Property=%{x}<br>Probability=%{y}<extra></extra>",
         "legendgroup": "Marylebone Station",
         "marker": {
          "color": "black",
          "pattern": {
           "shape": ""
          }
         },
         "name": "Marylebone Station",
         "offsetgroup": "Marylebone Station",
         "orientation": "v",
         "showlegend": true,
         "textposition": "auto",
         "type": "bar",
         "x": [
          "Marylebone Station"
         ],
         "xaxis": "x",
         "y": [
          0.02738789843327931
         ],
         "yaxis": "y"
        },
        {
         "alignmentgroup": "True",
         "hovertemplate": "Property=%{x}<br>Probability=%{y}<extra></extra>",
         "legendgroup": "Bow Street",
         "marker": {
          "color": "orange",
          "pattern": {
           "shape": ""
          }
         },
         "name": "Bow Street",
         "offsetgroup": "Bow Street",
         "orientation": "v",
         "showlegend": true,
         "textposition": "auto",
         "type": "bar",
         "x": [
          "Bow Street"
         ],
         "xaxis": "x",
         "y": [
          0.02642085359265262
         ],
         "yaxis": "y"
        },
        {
         "alignmentgroup": "True",
         "hovertemplate": "Property=%{x}<br>Probability=%{y}<extra></extra>",
         "legendgroup": "Community Chest 2",
         "marker": {
          "color": "lightgray",
          "pattern": {
           "shape": ""
          }
         },
         "name": "Community Chest 2",
         "offsetgroup": "Community Chest 2",
         "orientation": "v",
         "showlegend": true,
         "textposition": "auto",
         "type": "bar",
         "x": [
          "Community Chest 2"
         ],
         "xaxis": "x",
         "y": [
          0.02719340896812534
         ],
         "yaxis": "y"
        },
        {
         "alignmentgroup": "True",
         "hovertemplate": "Property=%{x}<br>Probability=%{y}<extra></extra>",
         "legendgroup": "Marlborough Street",
         "marker": {
          "color": "orange",
          "pattern": {
           "shape": ""
          }
         },
         "name": "Marlborough Street",
         "offsetgroup": "Marlborough Street",
         "orientation": "v",
         "showlegend": true,
         "textposition": "auto",
         "type": "bar",
         "x": [
          "Marlborough Street"
         ],
         "xaxis": "x",
         "y": [
          0.02769584008643976
         ],
         "yaxis": "y"
        },
        {
         "alignmentgroup": "True",
         "hovertemplate": "Property=%{x}<br>Probability=%{y}<extra></extra>",
         "legendgroup": "Vine Street",
         "marker": {
          "color": "orange",
          "pattern": {
           "shape": ""
          }
         },
         "name": "Vine Street",
         "offsetgroup": "Vine Street",
         "orientation": "v",
         "showlegend": true,
         "textposition": "auto",
         "type": "bar",
         "x": [
          "Vine Street"
         ],
         "xaxis": "x",
         "y": [
          0.02867368989735278
         ],
         "yaxis": "y"
        },
        {
         "alignmentgroup": "True",
         "hovertemplate": "Property=%{x}<br>Probability=%{y}<extra></extra>",
         "legendgroup": "Free Parking",
         "marker": {
          "color": "lightgray",
          "pattern": {
           "shape": ""
          }
         },
         "name": "Free Parking",
         "offsetgroup": "Free Parking",
         "orientation": "v",
         "showlegend": true,
         "textposition": "auto",
         "type": "bar",
         "x": [
          "Free Parking"
         ],
         "xaxis": "x",
         "y": [
          0.02681523500810373
         ],
         "yaxis": "y"
        },
        {
         "alignmentgroup": "True",
         "hovertemplate": "Property=%{x}<br>Probability=%{y}<extra></extra>",
         "legendgroup": "Strand",
         "marker": {
          "color": "red",
          "pattern": {
           "shape": ""
          }
         },
         "name": "Strand",
         "offsetgroup": "Strand",
         "orientation": "v",
         "showlegend": true,
         "textposition": "auto",
         "type": "bar",
         "x": [
          "Strand"
         ],
         "xaxis": "x",
         "y": [
          0.025650999459751484
         ],
         "yaxis": "y"
        },
        {
         "alignmentgroup": "True",
         "hovertemplate": "Property=%{x}<br>Probability=%{y}<extra></extra>",
         "legendgroup": "Chance 2",
         "marker": {
          "color": "lightgray",
          "pattern": {
           "shape": ""
          }
         },
         "name": "Chance 2",
         "offsetgroup": "Chance 2",
         "orientation": "v",
         "showlegend": true,
         "textposition": "auto",
         "type": "bar",
         "x": [
          "Chance 2"
         ],
         "xaxis": "x",
         "y": [
          0.025883306320907618
         ],
         "yaxis": "y"
        },
        {
         "alignmentgroup": "True",
         "hovertemplate": "Property=%{x}<br>Probability=%{y}<extra></extra>",
         "legendgroup": "Fleet Street",
         "marker": {
          "color": "red",
          "pattern": {
           "shape": ""
          }
         },
         "name": "Fleet Street",
         "offsetgroup": "Fleet Street",
         "orientation": "v",
         "showlegend": true,
         "textposition": "auto",
         "type": "bar",
         "x": [
          "Fleet Street"
         ],
         "xaxis": "x",
         "y": [
          0.025199891950297138
         ],
         "yaxis": "y"
        },
        {
         "alignmentgroup": "True",
         "hovertemplate": "Property=%{x}<br>Probability=%{y}<extra></extra>",
         "legendgroup": "Trafalgar Square",
         "marker": {
          "color": "red",
          "pattern": {
           "shape": ""
          }
         },
         "name": "Trafalgar Square",
         "offsetgroup": "Trafalgar Square",
         "orientation": "v",
         "showlegend": true,
         "textposition": "auto",
         "type": "bar",
         "x": [
          "Trafalgar Square"
         ],
         "xaxis": "x",
         "y": [
          0.028868179362506755
         ],
         "yaxis": "y"
        },
        {
         "alignmentgroup": "True",
         "hovertemplate": "Property=%{x}<br>Probability=%{y}<extra></extra>",
         "legendgroup": "Fenchurch St. Station",
         "marker": {
          "color": "black",
          "pattern": {
           "shape": ""
          }
         },
         "name": "Fenchurch St. Station",
         "offsetgroup": "Fenchurch St. Station",
         "orientation": "v",
         "showlegend": true,
         "textposition": "auto",
         "type": "bar",
         "x": [
          "Fenchurch St. Station"
         ],
         "xaxis": "x",
         "y": [
          0.02821717990275527
         ],
         "yaxis": "y"
        },
        {
         "alignmentgroup": "True",
         "hovertemplate": "Property=%{x}<br>Probability=%{y}<extra></extra>",
         "legendgroup": "Leicester Square",
         "marker": {
          "color": "yellow",
          "pattern": {
           "shape": ""
          }
         },
         "name": "Leicester Square",
         "offsetgroup": "Leicester Square",
         "orientation": "v",
         "showlegend": true,
         "textposition": "auto",
         "type": "bar",
         "x": [
          "Leicester Square"
         ],
         "xaxis": "x",
         "y": [
          0.024651539708265804
         ],
         "yaxis": "y"
        },
        {
         "alignmentgroup": "True",
         "hovertemplate": "Property=%{x}<br>Probability=%{y}<extra></extra>",
         "legendgroup": "Coventry Street",
         "marker": {
          "color": "yellow",
          "pattern": {
           "shape": ""
          }
         },
         "name": "Coventry Street",
         "offsetgroup": "Coventry Street",
         "orientation": "v",
         "showlegend": true,
         "textposition": "auto",
         "type": "bar",
         "x": [
          "Coventry Street"
         ],
         "xaxis": "x",
         "y": [
          0.024551593733117234
         ],
         "yaxis": "y"
        },
        {
         "alignmentgroup": "True",
         "hovertemplate": "Property=%{x}<br>Probability=%{y}<extra></extra>",
         "legendgroup": "Water Works",
         "marker": {
          "color": "lightgray",
          "pattern": {
           "shape": ""
          }
         },
         "name": "Water Works",
         "offsetgroup": "Water Works",
         "orientation": "v",
         "showlegend": true,
         "textposition": "auto",
         "type": "bar",
         "x": [
          "Water Works"
         ],
         "xaxis": "x",
         "y": [
          0.02521339816315505
         ],
         "yaxis": "y"
        },
        {
         "alignmentgroup": "True",
         "hovertemplate": "Property=%{x}<br>Probability=%{y}<extra></extra>",
         "legendgroup": "Piccadilly",
         "marker": {
          "color": "yellow",
          "pattern": {
           "shape": ""
          }
         },
         "name": "Piccadilly",
         "offsetgroup": "Piccadilly",
         "orientation": "v",
         "showlegend": true,
         "textposition": "auto",
         "type": "bar",
         "x": [
          "Piccadilly"
         ],
         "xaxis": "x",
         "y": [
          0.0232117774176121
         ],
         "yaxis": "y"
        },
        {
         "alignmentgroup": "True",
         "hovertemplate": "Property=%{x}<br>Probability=%{y}<extra></extra>",
         "legendgroup": "Go to Jail",
         "marker": {
          "color": "lightgray",
          "pattern": {
           "shape": ""
          }
         },
         "name": "Go to Jail",
         "offsetgroup": "Go to Jail",
         "orientation": "v",
         "showlegend": true,
         "textposition": "auto",
         "type": "bar",
         "x": [
          "Go to Jail"
         ],
         "xaxis": "x",
         "y": [
          0.02391139924365208
         ],
         "yaxis": "y"
        },
        {
         "alignmentgroup": "True",
         "hovertemplate": "Property=%{x}<br>Probability=%{y}<extra></extra>",
         "legendgroup": "Regent Street",
         "marker": {
          "color": "green",
          "pattern": {
           "shape": ""
          }
         },
         "name": "Regent Street",
         "offsetgroup": "Regent Street",
         "orientation": "v",
         "showlegend": true,
         "textposition": "auto",
         "type": "bar",
         "x": [
          "Regent Street"
         ],
         "xaxis": "x",
         "y": [
          0.02365207995678012
         ],
         "yaxis": "y"
        },
        {
         "alignmentgroup": "True",
         "hovertemplate": "Property=%{x}<br>Probability=%{y}<extra></extra>",
         "legendgroup": "Oxford Street",
         "marker": {
          "color": "green",
          "pattern": {
           "shape": ""
          }
         },
         "name": "Oxford Street",
         "offsetgroup": "Oxford Street",
         "orientation": "v",
         "showlegend": true,
         "textposition": "auto",
         "type": "bar",
         "x": [
          "Oxford Street"
         ],
         "xaxis": "x",
         "y": [
          0.02380064829821718
         ],
         "yaxis": "y"
        },
        {
         "alignmentgroup": "True",
         "hovertemplate": "Property=%{x}<br>Probability=%{y}<extra></extra>",
         "legendgroup": "Community Chest 3",
         "marker": {
          "color": "lightgray",
          "pattern": {
           "shape": ""
          }
         },
         "name": "Community Chest 3",
         "offsetgroup": "Community Chest 3",
         "orientation": "v",
         "showlegend": true,
         "textposition": "auto",
         "type": "bar",
         "x": [
          "Community Chest 3"
         ],
         "xaxis": "x",
         "y": [
          0.023641274986493786
         ],
         "yaxis": "y"
        },
        {
         "alignmentgroup": "True",
         "hovertemplate": "Property=%{x}<br>Probability=%{y}<extra></extra>",
         "legendgroup": "Bond Street",
         "marker": {
          "color": "green",
          "pattern": {
           "shape": ""
          }
         },
         "name": "Bond Street",
         "offsetgroup": "Bond Street",
         "orientation": "v",
         "showlegend": true,
         "textposition": "auto",
         "type": "bar",
         "x": [
          "Bond Street"
         ],
         "xaxis": "x",
         "y": [
          0.022301458670988653
         ],
         "yaxis": "y"
        },
        {
         "alignmentgroup": "True",
         "hovertemplate": "Property=%{x}<br>Probability=%{y}<extra></extra>",
         "legendgroup": "Liverpool St. Station",
         "marker": {
          "color": "black",
          "pattern": {
           "shape": ""
          }
         },
         "name": "Liverpool St. Station",
         "offsetgroup": "Liverpool St. Station",
         "orientation": "v",
         "showlegend": true,
         "textposition": "auto",
         "type": "bar",
         "x": [
          "Liverpool St. Station"
         ],
         "xaxis": "x",
         "y": [
          0.021158833063209075
         ],
         "yaxis": "y"
        },
        {
         "alignmentgroup": "True",
         "hovertemplate": "Property=%{x}<br>Probability=%{y}<extra></extra>",
         "legendgroup": "Chance 3",
         "marker": {
          "color": "lightgray",
          "pattern": {
           "shape": ""
          }
         },
         "name": "Chance 3",
         "offsetgroup": "Chance 3",
         "orientation": "v",
         "showlegend": true,
         "textposition": "auto",
         "type": "bar",
         "x": [
          "Chance 3"
         ],
         "xaxis": "x",
         "y": [
          0.020456509994597513
         ],
         "yaxis": "y"
        },
        {
         "alignmentgroup": "True",
         "hovertemplate": "Property=%{x}<br>Probability=%{y}<extra></extra>",
         "legendgroup": "Park Lane",
         "marker": {
          "color": "darkblue",
          "pattern": {
           "shape": ""
          }
         },
         "name": "Park Lane",
         "offsetgroup": "Park Lane",
         "orientation": "v",
         "showlegend": true,
         "textposition": "auto",
         "type": "bar",
         "x": [
          "Park Lane"
         ],
         "xaxis": "x",
         "y": [
          0.018978930307941653
         ],
         "yaxis": "y"
        },
        {
         "alignmentgroup": "True",
         "hovertemplate": "Property=%{x}<br>Probability=%{y}<extra></extra>",
         "legendgroup": "Super Tax",
         "marker": {
          "color": "lightgray",
          "pattern": {
           "shape": ""
          }
         },
         "name": "Super Tax",
         "offsetgroup": "Super Tax",
         "orientation": "v",
         "showlegend": true,
         "textposition": "auto",
         "type": "bar",
         "x": [
          "Super Tax"
         ],
         "xaxis": "x",
         "y": [
          0.018787142085359265
         ],
         "yaxis": "y"
        },
        {
         "alignmentgroup": "True",
         "hovertemplate": "Property=%{x}<br>Probability=%{y}<extra></extra>",
         "legendgroup": "Mayfair",
         "marker": {
          "color": "darkblue",
          "pattern": {
           "shape": ""
          }
         },
         "name": "Mayfair",
         "offsetgroup": "Mayfair",
         "orientation": "v",
         "showlegend": true,
         "textposition": "auto",
         "type": "bar",
         "x": [
          "Mayfair"
         ],
         "xaxis": "x",
         "y": [
          0.02266612641815235
         ],
         "yaxis": "y"
        }
       ],
       "layout": {
        "barmode": "relative",
        "legend": {
         "title": {
          "text": "Property"
         },
         "tracegroupgap": 0
        },
        "showlegend": false,
        "template": {
         "data": {
          "bar": [
           {
            "error_x": {
             "color": "#2a3f5f"
            },
            "error_y": {
             "color": "#2a3f5f"
            },
            "marker": {
             "line": {
              "color": "#E5ECF6",
              "width": 0.5
             },
             "pattern": {
              "fillmode": "overlay",
              "size": 10,
              "solidity": 0.2
             }
            },
            "type": "bar"
           }
          ],
          "barpolar": [
           {
            "marker": {
             "line": {
              "color": "#E5ECF6",
              "width": 0.5
             },
             "pattern": {
              "fillmode": "overlay",
              "size": 10,
              "solidity": 0.2
             }
            },
            "type": "barpolar"
           }
          ],
          "carpet": [
           {
            "aaxis": {
             "endlinecolor": "#2a3f5f",
             "gridcolor": "white",
             "linecolor": "white",
             "minorgridcolor": "white",
             "startlinecolor": "#2a3f5f"
            },
            "baxis": {
             "endlinecolor": "#2a3f5f",
             "gridcolor": "white",
             "linecolor": "white",
             "minorgridcolor": "white",
             "startlinecolor": "#2a3f5f"
            },
            "type": "carpet"
           }
          ],
          "choropleth": [
           {
            "colorbar": {
             "outlinewidth": 0,
             "ticks": ""
            },
            "type": "choropleth"
           }
          ],
          "contour": [
           {
            "colorbar": {
             "outlinewidth": 0,
             "ticks": ""
            },
            "colorscale": [
             [
              0,
              "#0d0887"
             ],
             [
              0.1111111111111111,
              "#46039f"
             ],
             [
              0.2222222222222222,
              "#7201a8"
             ],
             [
              0.3333333333333333,
              "#9c179e"
             ],
             [
              0.4444444444444444,
              "#bd3786"
             ],
             [
              0.5555555555555556,
              "#d8576b"
             ],
             [
              0.6666666666666666,
              "#ed7953"
             ],
             [
              0.7777777777777778,
              "#fb9f3a"
             ],
             [
              0.8888888888888888,
              "#fdca26"
             ],
             [
              1,
              "#f0f921"
             ]
            ],
            "type": "contour"
           }
          ],
          "contourcarpet": [
           {
            "colorbar": {
             "outlinewidth": 0,
             "ticks": ""
            },
            "type": "contourcarpet"
           }
          ],
          "heatmap": [
           {
            "colorbar": {
             "outlinewidth": 0,
             "ticks": ""
            },
            "colorscale": [
             [
              0,
              "#0d0887"
             ],
             [
              0.1111111111111111,
              "#46039f"
             ],
             [
              0.2222222222222222,
              "#7201a8"
             ],
             [
              0.3333333333333333,
              "#9c179e"
             ],
             [
              0.4444444444444444,
              "#bd3786"
             ],
             [
              0.5555555555555556,
              "#d8576b"
             ],
             [
              0.6666666666666666,
              "#ed7953"
             ],
             [
              0.7777777777777778,
              "#fb9f3a"
             ],
             [
              0.8888888888888888,
              "#fdca26"
             ],
             [
              1,
              "#f0f921"
             ]
            ],
            "type": "heatmap"
           }
          ],
          "heatmapgl": [
           {
            "colorbar": {
             "outlinewidth": 0,
             "ticks": ""
            },
            "colorscale": [
             [
              0,
              "#0d0887"
             ],
             [
              0.1111111111111111,
              "#46039f"
             ],
             [
              0.2222222222222222,
              "#7201a8"
             ],
             [
              0.3333333333333333,
              "#9c179e"
             ],
             [
              0.4444444444444444,
              "#bd3786"
             ],
             [
              0.5555555555555556,
              "#d8576b"
             ],
             [
              0.6666666666666666,
              "#ed7953"
             ],
             [
              0.7777777777777778,
              "#fb9f3a"
             ],
             [
              0.8888888888888888,
              "#fdca26"
             ],
             [
              1,
              "#f0f921"
             ]
            ],
            "type": "heatmapgl"
           }
          ],
          "histogram": [
           {
            "marker": {
             "pattern": {
              "fillmode": "overlay",
              "size": 10,
              "solidity": 0.2
             }
            },
            "type": "histogram"
           }
          ],
          "histogram2d": [
           {
            "colorbar": {
             "outlinewidth": 0,
             "ticks": ""
            },
            "colorscale": [
             [
              0,
              "#0d0887"
             ],
             [
              0.1111111111111111,
              "#46039f"
             ],
             [
              0.2222222222222222,
              "#7201a8"
             ],
             [
              0.3333333333333333,
              "#9c179e"
             ],
             [
              0.4444444444444444,
              "#bd3786"
             ],
             [
              0.5555555555555556,
              "#d8576b"
             ],
             [
              0.6666666666666666,
              "#ed7953"
             ],
             [
              0.7777777777777778,
              "#fb9f3a"
             ],
             [
              0.8888888888888888,
              "#fdca26"
             ],
             [
              1,
              "#f0f921"
             ]
            ],
            "type": "histogram2d"
           }
          ],
          "histogram2dcontour": [
           {
            "colorbar": {
             "outlinewidth": 0,
             "ticks": ""
            },
            "colorscale": [
             [
              0,
              "#0d0887"
             ],
             [
              0.1111111111111111,
              "#46039f"
             ],
             [
              0.2222222222222222,
              "#7201a8"
             ],
             [
              0.3333333333333333,
              "#9c179e"
             ],
             [
              0.4444444444444444,
              "#bd3786"
             ],
             [
              0.5555555555555556,
              "#d8576b"
             ],
             [
              0.6666666666666666,
              "#ed7953"
             ],
             [
              0.7777777777777778,
              "#fb9f3a"
             ],
             [
              0.8888888888888888,
              "#fdca26"
             ],
             [
              1,
              "#f0f921"
             ]
            ],
            "type": "histogram2dcontour"
           }
          ],
          "mesh3d": [
           {
            "colorbar": {
             "outlinewidth": 0,
             "ticks": ""
            },
            "type": "mesh3d"
           }
          ],
          "parcoords": [
           {
            "line": {
             "colorbar": {
              "outlinewidth": 0,
              "ticks": ""
             }
            },
            "type": "parcoords"
           }
          ],
          "pie": [
           {
            "automargin": true,
            "type": "pie"
           }
          ],
          "scatter": [
           {
            "fillpattern": {
             "fillmode": "overlay",
             "size": 10,
             "solidity": 0.2
            },
            "type": "scatter"
           }
          ],
          "scatter3d": [
           {
            "line": {
             "colorbar": {
              "outlinewidth": 0,
              "ticks": ""
             }
            },
            "marker": {
             "colorbar": {
              "outlinewidth": 0,
              "ticks": ""
             }
            },
            "type": "scatter3d"
           }
          ],
          "scattercarpet": [
           {
            "marker": {
             "colorbar": {
              "outlinewidth": 0,
              "ticks": ""
             }
            },
            "type": "scattercarpet"
           }
          ],
          "scattergeo": [
           {
            "marker": {
             "colorbar": {
              "outlinewidth": 0,
              "ticks": ""
             }
            },
            "type": "scattergeo"
           }
          ],
          "scattergl": [
           {
            "marker": {
             "colorbar": {
              "outlinewidth": 0,
              "ticks": ""
             }
            },
            "type": "scattergl"
           }
          ],
          "scattermapbox": [
           {
            "marker": {
             "colorbar": {
              "outlinewidth": 0,
              "ticks": ""
             }
            },
            "type": "scattermapbox"
           }
          ],
          "scatterpolar": [
           {
            "marker": {
             "colorbar": {
              "outlinewidth": 0,
              "ticks": ""
             }
            },
            "type": "scatterpolar"
           }
          ],
          "scatterpolargl": [
           {
            "marker": {
             "colorbar": {
              "outlinewidth": 0,
              "ticks": ""
             }
            },
            "type": "scatterpolargl"
           }
          ],
          "scatterternary": [
           {
            "marker": {
             "colorbar": {
              "outlinewidth": 0,
              "ticks": ""
             }
            },
            "type": "scatterternary"
           }
          ],
          "surface": [
           {
            "colorbar": {
             "outlinewidth": 0,
             "ticks": ""
            },
            "colorscale": [
             [
              0,
              "#0d0887"
             ],
             [
              0.1111111111111111,
              "#46039f"
             ],
             [
              0.2222222222222222,
              "#7201a8"
             ],
             [
              0.3333333333333333,
              "#9c179e"
             ],
             [
              0.4444444444444444,
              "#bd3786"
             ],
             [
              0.5555555555555556,
              "#d8576b"
             ],
             [
              0.6666666666666666,
              "#ed7953"
             ],
             [
              0.7777777777777778,
              "#fb9f3a"
             ],
             [
              0.8888888888888888,
              "#fdca26"
             ],
             [
              1,
              "#f0f921"
             ]
            ],
            "type": "surface"
           }
          ],
          "table": [
           {
            "cells": {
             "fill": {
              "color": "#EBF0F8"
             },
             "line": {
              "color": "white"
             }
            },
            "header": {
             "fill": {
              "color": "#C8D4E3"
             },
             "line": {
              "color": "white"
             }
            },
            "type": "table"
           }
          ]
         },
         "layout": {
          "annotationdefaults": {
           "arrowcolor": "#2a3f5f",
           "arrowhead": 0,
           "arrowwidth": 1
          },
          "autotypenumbers": "strict",
          "coloraxis": {
           "colorbar": {
            "outlinewidth": 0,
            "ticks": ""
           }
          },
          "colorscale": {
           "diverging": [
            [
             0,
             "#8e0152"
            ],
            [
             0.1,
             "#c51b7d"
            ],
            [
             0.2,
             "#de77ae"
            ],
            [
             0.3,
             "#f1b6da"
            ],
            [
             0.4,
             "#fde0ef"
            ],
            [
             0.5,
             "#f7f7f7"
            ],
            [
             0.6,
             "#e6f5d0"
            ],
            [
             0.7,
             "#b8e186"
            ],
            [
             0.8,
             "#7fbc41"
            ],
            [
             0.9,
             "#4d9221"
            ],
            [
             1,
             "#276419"
            ]
           ],
           "sequential": [
            [
             0,
             "#0d0887"
            ],
            [
             0.1111111111111111,
             "#46039f"
            ],
            [
             0.2222222222222222,
             "#7201a8"
            ],
            [
             0.3333333333333333,
             "#9c179e"
            ],
            [
             0.4444444444444444,
             "#bd3786"
            ],
            [
             0.5555555555555556,
             "#d8576b"
            ],
            [
             0.6666666666666666,
             "#ed7953"
            ],
            [
             0.7777777777777778,
             "#fb9f3a"
            ],
            [
             0.8888888888888888,
             "#fdca26"
            ],
            [
             1,
             "#f0f921"
            ]
           ],
           "sequentialminus": [
            [
             0,
             "#0d0887"
            ],
            [
             0.1111111111111111,
             "#46039f"
            ],
            [
             0.2222222222222222,
             "#7201a8"
            ],
            [
             0.3333333333333333,
             "#9c179e"
            ],
            [
             0.4444444444444444,
             "#bd3786"
            ],
            [
             0.5555555555555556,
             "#d8576b"
            ],
            [
             0.6666666666666666,
             "#ed7953"
            ],
            [
             0.7777777777777778,
             "#fb9f3a"
            ],
            [
             0.8888888888888888,
             "#fdca26"
            ],
            [
             1,
             "#f0f921"
            ]
           ]
          },
          "colorway": [
           "#636efa",
           "#EF553B",
           "#00cc96",
           "#ab63fa",
           "#FFA15A",
           "#19d3f3",
           "#FF6692",
           "#B6E880",
           "#FF97FF",
           "#FECB52"
          ],
          "font": {
           "color": "#2a3f5f"
          },
          "geo": {
           "bgcolor": "white",
           "lakecolor": "white",
           "landcolor": "#E5ECF6",
           "showlakes": true,
           "showland": true,
           "subunitcolor": "white"
          },
          "hoverlabel": {
           "align": "left"
          },
          "hovermode": "closest",
          "mapbox": {
           "style": "light"
          },
          "paper_bgcolor": "white",
          "plot_bgcolor": "#E5ECF6",
          "polar": {
           "angularaxis": {
            "gridcolor": "white",
            "linecolor": "white",
            "ticks": ""
           },
           "bgcolor": "#E5ECF6",
           "radialaxis": {
            "gridcolor": "white",
            "linecolor": "white",
            "ticks": ""
           }
          },
          "scene": {
           "xaxis": {
            "backgroundcolor": "#E5ECF6",
            "gridcolor": "white",
            "gridwidth": 2,
            "linecolor": "white",
            "showbackground": true,
            "ticks": "",
            "zerolinecolor": "white"
           },
           "yaxis": {
            "backgroundcolor": "#E5ECF6",
            "gridcolor": "white",
            "gridwidth": 2,
            "linecolor": "white",
            "showbackground": true,
            "ticks": "",
            "zerolinecolor": "white"
           },
           "zaxis": {
            "backgroundcolor": "#E5ECF6",
            "gridcolor": "white",
            "gridwidth": 2,
            "linecolor": "white",
            "showbackground": true,
            "ticks": "",
            "zerolinecolor": "white"
           }
          },
          "shapedefaults": {
           "line": {
            "color": "#2a3f5f"
           }
          },
          "ternary": {
           "aaxis": {
            "gridcolor": "white",
            "linecolor": "white",
            "ticks": ""
           },
           "baxis": {
            "gridcolor": "white",
            "linecolor": "white",
            "ticks": ""
           },
           "bgcolor": "#E5ECF6",
           "caxis": {
            "gridcolor": "white",
            "linecolor": "white",
            "ticks": ""
           }
          },
          "title": {
           "x": 0.05
          },
          "xaxis": {
           "automargin": true,
           "gridcolor": "white",
           "linecolor": "white",
           "ticks": "",
           "title": {
            "standoff": 15
           },
           "zerolinecolor": "white",
           "zerolinewidth": 2
          },
          "yaxis": {
           "automargin": true,
           "gridcolor": "white",
           "linecolor": "white",
           "ticks": "",
           "title": {
            "standoff": 15
           },
           "zerolinecolor": "white",
           "zerolinewidth": 2
          }
         }
        },
        "title": {
         "text": "Monopoly Board Space Probabilities"
        },
        "xaxis": {
         "anchor": "y",
         "categoryarray": [
          "Go",
          "Old Kent Road",
          "Community Chest 1",
          "Whitechapel Road",
          "Income Tax",
          "King's Cross Station",
          "The Angel, Islington",
          "Chance 1",
          "Euston Road",
          "Pentonville Road",
          "Jail",
          "Pall Mall",
          "Electric Company",
          "Whitehall",
          "Northumberland Avenue",
          "Marylebone Station",
          "Bow Street",
          "Community Chest 2",
          "Marlborough Street",
          "Vine Street",
          "Free Parking",
          "Strand",
          "Chance 2",
          "Fleet Street",
          "Trafalgar Square",
          "Fenchurch St. Station",
          "Leicester Square",
          "Coventry Street",
          "Water Works",
          "Piccadilly",
          "Go to Jail",
          "Regent Street",
          "Oxford Street",
          "Community Chest 3",
          "Bond Street",
          "Liverpool St. Station",
          "Chance 3",
          "Park Lane",
          "Super Tax",
          "Mayfair"
         ],
         "categoryorder": "array",
         "domain": [
          0,
          1
         ],
         "tickangle": 45,
         "tickfont": {
          "size": 8
         },
         "title": {
          "text": "Property"
         }
        },
        "yaxis": {
         "anchor": "x",
         "domain": [
          0,
          1
         ],
         "title": {
          "text": "Probability"
         }
        }
       }
      }
     },
     "metadata": {},
     "output_type": "display_data"
    }
   ],
   "source": [
    "import random\n",
    "import numpy as np\n",
    "import plotly.express as px\n",
    "import pandas as pd\n",
    "import scipy.stats as sts\n",
    "\n",
    "# Define the Monopoly board with London-themed property names and their corresponding colors\n",
    "\n",
    "monopoly_board_london = [\n",
    "    (\"Go\", \"lightgray\", None, None, None, None, None, None, None, None),\n",
    "    (\"Old Kent Road\", \"brown\", 2, 10, 30, 90, 160, 250, 60, 50),\n",
    "    (\"Community Chest 1\", \"lightgray\", None, None, None, None, None, None, None, None),\n",
    "    (\"Whitechapel Road\", \"brown\", 4, 20, 60, 180, 320, 450, 80, 50),\n",
    "    (\"Income Tax\", \"lightgray\", None, None, None, None, None, None, None, None),\n",
    "    (\"King's Cross Station\", \"black\", None, None, None, None, None, None, 200, None),\n",
    "    (\"The Angel, Islington\", \"lightblue\", 6, 30, 90, 270, 400, 550, 100, 50),\n",
    "    (\"Chance 1\", \"lightgray\", None, None, None, None, None, None, None, None),\n",
    "    (\"Euston Road\", \"lightblue\", 6, 30, 90, 270, 400, 550, 100, 50),\n",
    "    (\"Pentonville Road\", \"lightblue\", 8, 40, 100, 300, 450, 600, 120, 50),\n",
    "    (\"Jail\", \"lightgray\", None, None, None, None, None, None, None, None),\n",
    "    (\"Pall Mall\", \"pink\", 10, 50, 150, 450, 625, 750, 140, 100),\n",
    "    (\"Electric Company\", \"lightgray\", None, None, None, None, None, None, 150, None),\n",
    "    (\"Whitehall\", \"pink\", 10, 50, 150, 450, 625, 750, 140, 100),\n",
    "    (\"Northumberland Avenue\", \"pink\", 12, 60, 180, 500, 700, 900, 160, 100),\n",
    "    (\"Marylebone Station\", \"black\", None, None, None, None, None, None, 200, None),\n",
    "    (\"Bow Street\", \"orange\", 14, 70, 200, 550, 750, 950, 180, 100),\n",
    "    (\"Community Chest 2\", \"lightgray\", None, None, None, None, None, None, None, None),\n",
    "    (\"Marlborough Street\", \"orange\", 14, 70, 200, 550, 750, 950, 180, 100),\n",
    "    (\"Vine Street\", \"orange\", 16, 80, 220, 600, 800, 1000, 200, 100),\n",
    "    (\"Free Parking\", \"lightgray\", None, None, None, None, None, None, None, None),\n",
    "    (\"Strand\", \"red\", 18, 90, 250, 700, 875, 1050, 220, 150),\n",
    "    (\"Chance 2\", \"lightgray\", None, None, None, None, None, None, None, None),\n",
    "    (\"Fleet Street\", \"red\", 18, 90, 250, 700, 875, 1050, 220, 150),\n",
    "    (\"Trafalgar Square\", \"red\", 20, 100, 300, 750, 925, 1100, 240, 150),\n",
    "    (\"Fenchurch St. Station\", \"black\", None, None, None, None, None, None, 200, None),\n",
    "    (\"Leicester Square\", \"yellow\", 22, 110, 330, 800, 975, 1150, 260, 150),\n",
    "    (\"Coventry Street\", \"yellow\", 22, 110, 330, 800, 975, 1150, 260, 150),\n",
    "    (\"Water Works\", \"lightgray\", None, None, None, None, None, None, 150, None),\n",
    "    (\"Piccadilly\", \"yellow\", 24, 120, 360, 850, 1025, 1200, 280, 150),\n",
    "    (\"Go to Jail\", \"lightgray\", None, None, None, None, None, None, None, None),\n",
    "    (\"Regent Street\", \"green\", 26, 130, 390, 900, 1100, 1275, 300, 200),\n",
    "    (\"Oxford Street\", \"green\", 26, 130, 390, 900, 1100, 1275, 300, 200),\n",
    "    (\"Community Chest 3\", \"lightgray\", None, None, None, None, None, None, None, None),\n",
    "    (\"Bond Street\", \"green\", 28, 150, 450, 1000, 1200, 1400, 320, 200),\n",
    "    (\"Liverpool St. Station\", \"black\", None, None, None, None, None, None, 200, None),\n",
    "    (\"Chance 3\", \"lightgray\", None, None, None, None, None, None, None, None),\n",
    "    (\"Park Lane\", \"darkblue\", 35, 175, 500, 1100, 1300, 1500, 350, 200),\n",
    "    (\"Super Tax\", \"lightgray\", None, None, None, None, None, None, None, None),\n",
    "    (\"Mayfair\", \"darkblue\", 50, 200, 600, 1400, 1700, 2000, 400, 200)\n",
    "]\n",
    "\n",
    "chance_cards = [\n",
    "    \"Advance to Go.\",\n",
    "    \"Advance to Trafalgar Square. If you pass Go, collect £200.\",\n",
    "    \"Advance to Mayfair.\",\n",
    "    \"Advance to Pall Mall. If you pass Go, collect £200.\",\n",
    "    \"Advance to the nearest Station. If unowned, you may buy it from the Bank. If owned, pay the owner twice the rental to which they are otherwise entitled.\",\n",
    "    \"Advance to the nearest Station. If unowned, you may buy it from the Bank. If owned, pay the owner twice the rental to which they are otherwise entitled.\",\n",
    "    \"Advance token to nearest Utility. If unowned, you may buy it from the Bank. If owned, throw dice and pay owner a total ten times the amount thrown.\",\n",
    "    \"Bank pays you a dividend of £50.\",\n",
    "    \"Get Out of Jail Free.\",\n",
    "    \"Go back 3 Spaces.\",\n",
    "    \"Go to Jail. Go directly to Jail, do not pass Go, do not collect £200.\",\n",
    "    \"Make general repairs on all your property. For each house pay £25. For each hotel pay £100\",\n",
    "    \"Speeding fine £15.\",\n",
    "    \"Take a trip to King's Cross Station. If you pass Go, collect £200.\",\n",
    "    \"You have been elected Chairman of the Board. Pay each player £50.\",\n",
    "    \"Your building loan matures. Collect £150.\"\n",
    "]\n",
    "\n",
    "community_chest_cards = [\n",
    "    \"Advance to Go.\",\n",
    "    \"Bank error in your favor. Collect £200.\",\n",
    "    \"Doctor’s fee. Pay £50.\",\n",
    "    \"From sale of stock you get £50.\",\n",
    "    \"Get Out of Jail Free.\",\n",
    "    \"Go to Jail. Go directly to jail, do not pass Go, do not collect £200.\",\n",
    "    \"Holiday fund matures. Receive £100.\",\n",
    "    \"Income tax refund. Collect £20.\",\n",
    "    \"It is your birthday. Collect £10 from every player.\",\n",
    "    \"Life insurance matures. Collect £100.\",\n",
    "    \"Pay hospital fees of £100.\",\n",
    "    \"Pay school fees of £50.\",\n",
    "    \"Receive £25 consultancy fee.\",\n",
    "    \"You are assessed for street repairs. £40 per house. £115 per hotel.\",\n",
    "    \"You have won second prize in a beauty contest. Collect £10.\",\n",
    "    \"You inherit £100.\"\n",
    "]\n",
    "\n",
    "# Create a DataFrame to store property names and probabilities\n",
    "property_names = [prop[0] for prop in monopoly_board_london]\n",
    "property_colors = [prop[1] for prop in monopoly_board_london]\n",
    "property_cost = [prop[8] for prop in monopoly_board_london]\n",
    "property_house_cost = [prop[9] for prop in monopoly_board_london]\n",
    "property_rent = [prop[2] for prop in monopoly_board_london]\n",
    "property_rent_doubled = [(prop[2] * 2) if prop[2] is not None else None for prop in monopoly_board_london]\n",
    "property_rent_1 = [prop[3] for prop in monopoly_board_london]\n",
    "property_rent_2 = [prop[4] for prop in monopoly_board_london]\n",
    "property_rent_3 = [prop[5] for prop in monopoly_board_london]\n",
    "property_rent_4 = [prop[6] for prop in monopoly_board_london]\n",
    "property_rent_hotel = [prop[7] for prop in monopoly_board_london]\n",
    "df = pd.DataFrame({'Property': property_names, 'Color': property_colors, 'Purchase Price': property_cost, 'House Price': property_house_cost,\n",
    "                   'Rent': property_rent, 'Rent Doubled': property_rent_doubled,\n",
    "                   'Rent 1 House': property_rent_1, 'Rent 2 Houses': property_rent_2, 'Rent 3 Houses': property_rent_3,\n",
    "                   'Rent 4 Houses': property_rent_4, 'Rent Hotel': property_rent_hotel, 'Probability': 0})\n",
    "\n",
    "# Create dictionaries to map property names to their indices and colors\n",
    "property_indices = {property_name: idx for idx, property_name in enumerate(property_names)}\n",
    "color_dict = {property_name: color for property_name, color in zip(property_names, property_colors)}\n",
    "\n",
    "# Define the number of simulation rounds and the starting position\n",
    "num_simulations = 10000\n",
    "num_moves_mean = 30 # change to the average number of gos for a monopoly game per player\n",
    "num_moves_sd = 5\n",
    "start_position = 0\n",
    "num_spaces = len(monopoly_board_london)\n",
    "num_chance_cards = len(chance_cards)\n",
    "num_community_chest_cards = len(community_chest_cards)\n",
    "\n",
    "# initialise probabilities\n",
    "p_paying_jail = 0.5\n",
    "p_using_get_out_jail = 0.5\n",
    "\n",
    "# Initialise a list to keep track of the frequency of landing on each space\n",
    "space_freq = [0] * num_spaces\n",
    "\n",
    "# Simulate the player's random walk and update frequencies\n",
    "for _ in range(num_simulations):\n",
    "    position = start_position\n",
    "    jail_rounds = 0\n",
    "    in_jail = False\n",
    "    get_out_jail = False\n",
    "\n",
    "    # randomise order of chance and community chest cards and set current top card\n",
    "    random.shuffle(chance_cards)\n",
    "    random.shuffle(community_chest_cards)\n",
    "    top_chance_card_idx = 0\n",
    "    top_community_chest_card_idx = 0\n",
    "\n",
    "    # randomise number of moves using normal distribution\n",
    "    num_moves = int(sts.norm(loc = num_moves_mean, scale = num_moves_sd).rvs(size = 1)[0])\n",
    "\n",
    "    for _ in range(num_moves):\n",
    "        turn = True\n",
    "        doubles_count = 0\n",
    "\n",
    "        while turn:\n",
    "            # Roll two dice\n",
    "            die1 = random.randint(1, 6)\n",
    "            die2 = random.randint(1, 6)\n",
    "\n",
    "            # Check for doubles\n",
    "            if die1 == die2:\n",
    "                doubles_count += 1\n",
    "            else:\n",
    "                turn = False\n",
    "\n",
    "            # Check if player is rolling to get out of jail or if they have a get out of jail card or if they will pay to get out\n",
    "            if in_jail:\n",
    "                if get_out_jail and random.random() < p_using_get_out_jail:\n",
    "                    in_jail = False\n",
    "                    get_out_jail = False\n",
    "                elif random.random() < p_paying_jail:\n",
    "                    in_jail = False\n",
    "                elif die1 == die2:\n",
    "                    in_jail = False\n",
    "                elif jail_rounds == 3:\n",
    "                    in_jail = False\n",
    "                else:\n",
    "                    jail_rounds += 1\n",
    "                    continue\n",
    "\n",
    "            position = (position + die1 + die2) % num_spaces\n",
    "\n",
    "            # If the player rolls three doubles in a row, go to jail\n",
    "            if doubles_count == 3:\n",
    "                # add current position before moving\n",
    "                space_freq[position] += 1\n",
    "\n",
    "                position = property_indices[\"Jail\"]\n",
    "                in_jail = True\n",
    "                turn = False\n",
    "\n",
    "            # If the player lands on jail, their turn is over\n",
    "            elif property_names[position] == \"Jail\":\n",
    "                turn = False\n",
    "\n",
    "            # If the player lands on \"Go to Jail\", they move to jail and their turn is over\n",
    "            elif property_names[position] == \"Go to Jail\":\n",
    "                # add current position before moving\n",
    "                space_freq[position] += 1\n",
    "\n",
    "                position = property_indices[\"Jail\"]\n",
    "                in_jail = True\n",
    "                turn = False\n",
    "\n",
    "            # If the players lands on a chance position\n",
    "            elif property_names[position][:6] == \"Chance\":\n",
    "                # Simulate drawing a Chance card\n",
    "                chance_card = chance_cards[top_chance_card_idx]\n",
    "                top_chance_card_idx = (top_chance_card_idx + 1) % num_chance_cards\n",
    "\n",
    "                if \"Advance to the nearest Station\" in chance_card:\n",
    "                    # add current position before moving\n",
    "                    space_freq[position] += 1\n",
    "\n",
    "                    pos_king = property_indices[\"King's Cross Station\"]\n",
    "                    pos_mar = property_indices[\"Marylebone Station\"]\n",
    "                    pos_fen = property_indices[\"Fenchurch St. Station\"]\n",
    "                    pos_liv = property_indices[\"Liverpool St. Station\"]\n",
    "\n",
    "                    if pos_king < position: dist_to_king = num_spaces + (pos_king - position)\n",
    "                    else: dist_to_king = pos_king - position\n",
    "                    if pos_mar < position: dist_to_mar = num_spaces + (pos_mar - position)\n",
    "                    else: dist_to_mar = pos_mar - position\n",
    "                    if pos_fen < position: dist_to_fen = num_spaces + (pos_fen - position)\n",
    "                    else: dist_to_fen = pos_fen - position\n",
    "                    if pos_liv < position: dist_to_liv = num_spaces + (pos_liv - position)\n",
    "                    else: dist_to_liv = pos_liv - position\n",
    "\n",
    "                    minimum_distance = min([dist_to_king, dist_to_mar, dist_to_fen, dist_to_liv])\n",
    "                    position += minimum_distance\n",
    "                    position = position % num_spaces\n",
    "\n",
    "                elif \"Advance token to nearest Utility\" in chance_card:\n",
    "                    # add current position before moving\n",
    "                    space_freq[position] += 1\n",
    "\n",
    "                    pos_elec = property_indices[\"Electric Company\"]\n",
    "                    pos_water = property_indices[\"Water Works\"]\n",
    "\n",
    "                    if pos_elec < position: dist_to_elec = num_spaces + (pos_elec - position)\n",
    "                    else: dist_to_elec = pos_elec - position\n",
    "                    if pos_water < position: dist_to_water = num_spaces + (pos_water - position)\n",
    "                    else: dist_to_water = pos_water - position\n",
    "\n",
    "                    minimum_distance = min([dist_to_elec, dist_to_water])\n",
    "                    position += minimum_distance\n",
    "                    position = position % num_spaces\n",
    "\n",
    "                # Implement the effects of the Chance card\n",
    "                elif \"Advance to\" in chance_card:\n",
    "                    # add current position before moving\n",
    "                    space_freq[position] += 1\n",
    "\n",
    "                    # Move the player to the specified property\n",
    "                    target_property = chance_card.split(\"Advance to \")[1].split(\".\")[0]\n",
    "                    position = property_indices[target_property]\n",
    "\n",
    "                elif \"Go back to\" in chance_card:\n",
    "                    # add current position before moving\n",
    "                    space_freq[position] += 1\n",
    "\n",
    "                    # Move the player to the specified property\n",
    "                    target_property = chance_card.split(\"Go back to \")[1].split(\".\")[0]\n",
    "                    position = property_indices[target_property]\n",
    "\n",
    "                elif \"Take a trip to\" in chance_card:\n",
    "                    # add current position before moving\n",
    "                    space_freq[position] += 1\n",
    "\n",
    "                    # Move the player to the specified property\n",
    "                    target_property = chance_card.split(\"Take a trip to \")[1].split(\".\")[0]\n",
    "                    position = property_indices[target_property]\n",
    "\n",
    "                elif \"Go directly to jail\" in chance_card:\n",
    "                    # add current position before moving\n",
    "                    space_freq[position] += 1\n",
    "\n",
    "                    # Send the player to jail\n",
    "                    in_jail = True\n",
    "                    position = property_indices[\"Jail\"]\n",
    "\n",
    "                elif \"Go back\" in chance_card:\n",
    "                    # add current position before moving\n",
    "                    space_freq[position] += 1\n",
    "\n",
    "                    # Send the player back by x spaces\n",
    "                    position -= int(chance_card.split()[2])\n",
    "\n",
    "                elif \"Get Out of Jail Free.\" in chance_card:\n",
    "                    get_out_jail = True\n",
    "\n",
    "            # if rather than elif to allow for chance situation in which player moves back 3 spaces to community chest\n",
    "            if property_names[position][:15] == \"Community Chest\":\n",
    "                # Simulate drawing a Community Chest card\n",
    "                community_chest_card = community_chest_cards[top_community_chest_card_idx]\n",
    "                top_community_chest_card_idx = (top_community_chest_card_idx + 1) % num_community_chest_cards\n",
    "\n",
    "                # Implement the effects of the Chance card\n",
    "                if \"Advance to\" in community_chest_card:\n",
    "                    # add current position before moving\n",
    "                    space_freq[position] += 1\n",
    "\n",
    "                    # Move the player to the specified property\n",
    "                    target_property = community_chest_card.split(\"Advance to \")[1].split(\".\")[0]\n",
    "                    position = property_indices[target_property]\n",
    "\n",
    "                elif \"Go directly to jail\" in community_chest_card:\n",
    "                    # add current position before moving\n",
    "                    space_freq[position] += 1\n",
    "\n",
    "                    # Send the player to jail\n",
    "                    in_jail = True\n",
    "                    position = property_indices[\"Jail\"]\n",
    "\n",
    "                elif \"Get Out of Jail Free.\" in community_chest_card:\n",
    "                    get_out_jail = True\n",
    "\n",
    "            # Update the frequency of landing on the current space\n",
    "            space_freq[position] += 1\n",
    "\n",
    "# Calculate probabilities by normalizing the frequencies\n",
    "space_probabilities = np.array(space_freq) / sum(space_freq)\n",
    "\n",
    "# Update the DataFrame with the calculated probabilities\n",
    "df['Probability'] = space_probabilities\n",
    "\n",
    "# Create a bar chart with custom colors and specified x-axis order\n",
    "fig = px.bar(\n",
    "    df,\n",
    "    x='Property',\n",
    "    y='Probability',\n",
    "    title=\"Monopoly Board Space Probabilities\",\n",
    "    labels={'x': 'Space', 'y': 'Probability'},\n",
    "    color='Property',\n",
    "    color_discrete_map=color_dict,\n",
    "    category_orders={\"Property\": property_names}\n",
    ")\n",
    "\n",
    "#fig.update_yaxes(range=[0.02, 0.03])\n",
    "fig.update_layout(showlegend=False)\n",
    "fig.update_xaxes(tickangle=45, tickfont=dict(size=8))\n",
    "fig.show()"
   ]
  },
  {
   "cell_type": "code",
   "execution_count": 2,
   "metadata": {},
   "outputs": [
    {
     "data": {
      "text/html": [
       "<div>\n",
       "<style scoped>\n",
       "    .dataframe tbody tr th:only-of-type {\n",
       "        vertical-align: middle;\n",
       "    }\n",
       "\n",
       "    .dataframe tbody tr th {\n",
       "        vertical-align: top;\n",
       "    }\n",
       "\n",
       "    .dataframe thead th {\n",
       "        text-align: right;\n",
       "    }\n",
       "</style>\n",
       "<table border=\"1\" class=\"dataframe\">\n",
       "  <thead>\n",
       "    <tr style=\"text-align: right;\">\n",
       "      <th></th>\n",
       "      <th>Property</th>\n",
       "      <th>Color</th>\n",
       "      <th>Purchase Price</th>\n",
       "      <th>House Price</th>\n",
       "      <th>Rent</th>\n",
       "      <th>Rent Doubled</th>\n",
       "      <th>Rent 1 House</th>\n",
       "      <th>Rent 2 Houses</th>\n",
       "      <th>Rent 3 Houses</th>\n",
       "      <th>Rent 4 Houses</th>\n",
       "      <th>Rent Hotel</th>\n",
       "      <th>Probability</th>\n",
       "    </tr>\n",
       "  </thead>\n",
       "  <tbody>\n",
       "    <tr>\n",
       "      <th>0</th>\n",
       "      <td>Go</td>\n",
       "      <td>lightgray</td>\n",
       "      <td>NaN</td>\n",
       "      <td>NaN</td>\n",
       "      <td>NaN</td>\n",
       "      <td>NaN</td>\n",
       "      <td>NaN</td>\n",
       "      <td>NaN</td>\n",
       "      <td>NaN</td>\n",
       "      <td>NaN</td>\n",
       "      <td>NaN</td>\n",
       "      <td>0.027404</td>\n",
       "    </tr>\n",
       "    <tr>\n",
       "      <th>1</th>\n",
       "      <td>Old Kent Road</td>\n",
       "      <td>brown</td>\n",
       "      <td>60.0</td>\n",
       "      <td>50.0</td>\n",
       "      <td>2.0</td>\n",
       "      <td>4.0</td>\n",
       "      <td>10.0</td>\n",
       "      <td>30.0</td>\n",
       "      <td>90.0</td>\n",
       "      <td>160.0</td>\n",
       "      <td>250.0</td>\n",
       "      <td>0.018444</td>\n",
       "    </tr>\n",
       "    <tr>\n",
       "      <th>2</th>\n",
       "      <td>Community Chest 1</td>\n",
       "      <td>lightgray</td>\n",
       "      <td>NaN</td>\n",
       "      <td>NaN</td>\n",
       "      <td>NaN</td>\n",
       "      <td>NaN</td>\n",
       "      <td>NaN</td>\n",
       "      <td>NaN</td>\n",
       "      <td>NaN</td>\n",
       "      <td>NaN</td>\n",
       "      <td>NaN</td>\n",
       "      <td>0.019495</td>\n",
       "    </tr>\n",
       "    <tr>\n",
       "      <th>3</th>\n",
       "      <td>Whitechapel Road</td>\n",
       "      <td>brown</td>\n",
       "      <td>80.0</td>\n",
       "      <td>50.0</td>\n",
       "      <td>4.0</td>\n",
       "      <td>8.0</td>\n",
       "      <td>20.0</td>\n",
       "      <td>60.0</td>\n",
       "      <td>180.0</td>\n",
       "      <td>320.0</td>\n",
       "      <td>450.0</td>\n",
       "      <td>0.020038</td>\n",
       "    </tr>\n",
       "    <tr>\n",
       "      <th>4</th>\n",
       "      <td>Income Tax</td>\n",
       "      <td>lightgray</td>\n",
       "      <td>NaN</td>\n",
       "      <td>NaN</td>\n",
       "      <td>NaN</td>\n",
       "      <td>NaN</td>\n",
       "      <td>NaN</td>\n",
       "      <td>NaN</td>\n",
       "      <td>NaN</td>\n",
       "      <td>NaN</td>\n",
       "      <td>NaN</td>\n",
       "      <td>0.022896</td>\n",
       "    </tr>\n",
       "  </tbody>\n",
       "</table>\n",
       "</div>"
      ],
      "text/plain": [
       "            Property      Color  Purchase Price  House Price  Rent  \\\n",
       "0                 Go  lightgray             NaN          NaN   NaN   \n",
       "1      Old Kent Road      brown            60.0         50.0   2.0   \n",
       "2  Community Chest 1  lightgray             NaN          NaN   NaN   \n",
       "3   Whitechapel Road      brown            80.0         50.0   4.0   \n",
       "4         Income Tax  lightgray             NaN          NaN   NaN   \n",
       "\n",
       "   Rent Doubled  Rent 1 House  Rent 2 Houses  Rent 3 Houses  Rent 4 Houses  \\\n",
       "0           NaN           NaN            NaN            NaN            NaN   \n",
       "1           4.0          10.0           30.0           90.0          160.0   \n",
       "2           NaN           NaN            NaN            NaN            NaN   \n",
       "3           8.0          20.0           60.0          180.0          320.0   \n",
       "4           NaN           NaN            NaN            NaN            NaN   \n",
       "\n",
       "   Rent Hotel  Probability  \n",
       "0         NaN     0.027404  \n",
       "1       250.0     0.018444  \n",
       "2         NaN     0.019495  \n",
       "3       450.0     0.020038  \n",
       "4         NaN     0.022896  "
      ]
     },
     "execution_count": 2,
     "metadata": {},
     "output_type": "execute_result"
    }
   ],
   "source": [
    "df.head()"
   ]
  },
  {
   "cell_type": "code",
   "execution_count": null,
   "metadata": {},
   "outputs": [],
   "source": []
  }
 ],
 "metadata": {
  "kernelspec": {
   "display_name": "Python 3",
   "language": "python",
   "name": "python3"
  },
  "language_info": {
   "codemirror_mode": {
    "name": "ipython",
    "version": 3
   },
   "file_extension": ".py",
   "mimetype": "text/x-python",
   "name": "python",
   "nbconvert_exporter": "python",
   "pygments_lexer": "ipython3",
   "version": "3.10.2"
  }
 },
 "nbformat": 4,
 "nbformat_minor": 2
}
