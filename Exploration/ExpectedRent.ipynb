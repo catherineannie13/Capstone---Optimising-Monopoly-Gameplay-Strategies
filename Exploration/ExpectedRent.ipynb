{
 "cells": [
  {
   "cell_type": "code",
   "execution_count": 15,
   "metadata": {},
   "outputs": [],
   "source": [
    "%%capture\n",
    "%run \"C:\\\\Users\\\\cathe\\\\OneDrive\\\\Documents\\\\Capstone - Optimising Monopoly Gameplay Strategies\\\\Exploration\\\\BoardSpaceProbabilities.ipynb\""
   ]
  },
  {
   "cell_type": "code",
   "execution_count": 3,
   "metadata": {},
   "outputs": [
    {
     "data": {
      "text/html": [
       "<div>\n",
       "<style scoped>\n",
       "    .dataframe tbody tr th:only-of-type {\n",
       "        vertical-align: middle;\n",
       "    }\n",
       "\n",
       "    .dataframe tbody tr th {\n",
       "        vertical-align: top;\n",
       "    }\n",
       "\n",
       "    .dataframe thead th {\n",
       "        text-align: right;\n",
       "    }\n",
       "</style>\n",
       "<table border=\"1\" class=\"dataframe\">\n",
       "  <thead>\n",
       "    <tr style=\"text-align: right;\">\n",
       "      <th></th>\n",
       "      <th>Property</th>\n",
       "      <th>Color</th>\n",
       "      <th>Purchase Price</th>\n",
       "      <th>House Price</th>\n",
       "      <th>Rent</th>\n",
       "      <th>Rent Doubled</th>\n",
       "      <th>Rent 1 House</th>\n",
       "      <th>Rent 2 Houses</th>\n",
       "      <th>Rent 3 Houses</th>\n",
       "      <th>Rent 4 Houses</th>\n",
       "      <th>Rent Hotel</th>\n",
       "      <th>Probability</th>\n",
       "    </tr>\n",
       "  </thead>\n",
       "  <tbody>\n",
       "    <tr>\n",
       "      <th>1</th>\n",
       "      <td>Old Kent Road</td>\n",
       "      <td>brown</td>\n",
       "      <td>60.0</td>\n",
       "      <td>50.0</td>\n",
       "      <td>2.0</td>\n",
       "      <td>4.0</td>\n",
       "      <td>10.0</td>\n",
       "      <td>30.0</td>\n",
       "      <td>90.0</td>\n",
       "      <td>160.0</td>\n",
       "      <td>250.0</td>\n",
       "      <td>0.018405</td>\n",
       "    </tr>\n",
       "    <tr>\n",
       "      <th>3</th>\n",
       "      <td>Whitechapel Road</td>\n",
       "      <td>brown</td>\n",
       "      <td>80.0</td>\n",
       "      <td>50.0</td>\n",
       "      <td>4.0</td>\n",
       "      <td>8.0</td>\n",
       "      <td>20.0</td>\n",
       "      <td>60.0</td>\n",
       "      <td>180.0</td>\n",
       "      <td>320.0</td>\n",
       "      <td>450.0</td>\n",
       "      <td>0.020257</td>\n",
       "    </tr>\n",
       "    <tr>\n",
       "      <th>6</th>\n",
       "      <td>The Angel, Islington</td>\n",
       "      <td>lightblue</td>\n",
       "      <td>100.0</td>\n",
       "      <td>50.0</td>\n",
       "      <td>6.0</td>\n",
       "      <td>12.0</td>\n",
       "      <td>30.0</td>\n",
       "      <td>90.0</td>\n",
       "      <td>270.0</td>\n",
       "      <td>400.0</td>\n",
       "      <td>550.0</td>\n",
       "      <td>0.023319</td>\n",
       "    </tr>\n",
       "    <tr>\n",
       "      <th>8</th>\n",
       "      <td>Euston Road</td>\n",
       "      <td>lightblue</td>\n",
       "      <td>100.0</td>\n",
       "      <td>50.0</td>\n",
       "      <td>6.0</td>\n",
       "      <td>12.0</td>\n",
       "      <td>30.0</td>\n",
       "      <td>90.0</td>\n",
       "      <td>270.0</td>\n",
       "      <td>400.0</td>\n",
       "      <td>550.0</td>\n",
       "      <td>0.024175</td>\n",
       "    </tr>\n",
       "    <tr>\n",
       "      <th>9</th>\n",
       "      <td>Pentonville Road</td>\n",
       "      <td>lightblue</td>\n",
       "      <td>120.0</td>\n",
       "      <td>50.0</td>\n",
       "      <td>8.0</td>\n",
       "      <td>16.0</td>\n",
       "      <td>40.0</td>\n",
       "      <td>100.0</td>\n",
       "      <td>300.0</td>\n",
       "      <td>450.0</td>\n",
       "      <td>600.0</td>\n",
       "      <td>0.023586</td>\n",
       "    </tr>\n",
       "  </tbody>\n",
       "</table>\n",
       "</div>"
      ],
      "text/plain": [
       "               Property      Color  Purchase Price  House Price  Rent  \\\n",
       "1         Old Kent Road      brown            60.0         50.0   2.0   \n",
       "3      Whitechapel Road      brown            80.0         50.0   4.0   \n",
       "6  The Angel, Islington  lightblue           100.0         50.0   6.0   \n",
       "8           Euston Road  lightblue           100.0         50.0   6.0   \n",
       "9      Pentonville Road  lightblue           120.0         50.0   8.0   \n",
       "\n",
       "   Rent Doubled  Rent 1 House  Rent 2 Houses  Rent 3 Houses  Rent 4 Houses  \\\n",
       "1           4.0          10.0           30.0           90.0          160.0   \n",
       "3           8.0          20.0           60.0          180.0          320.0   \n",
       "6          12.0          30.0           90.0          270.0          400.0   \n",
       "8          12.0          30.0           90.0          270.0          400.0   \n",
       "9          16.0          40.0          100.0          300.0          450.0   \n",
       "\n",
       "   Rent Hotel  Probability  \n",
       "1       250.0     0.018405  \n",
       "3       450.0     0.020257  \n",
       "6       550.0     0.023319  \n",
       "8       550.0     0.024175  \n",
       "9       600.0     0.023586  "
      ]
     },
     "execution_count": 3,
     "metadata": {},
     "output_type": "execute_result"
    }
   ],
   "source": [
    "street_properties = [\n",
    "    \"Old Kent Road\",\n",
    "    \"Whitechapel Road\",\n",
    "    \"The Angel, Islington\",\n",
    "    \"Euston Road\",\n",
    "    \"Pentonville Road\",\n",
    "    \"Pall Mall\",\n",
    "    \"Whitehall\",\n",
    "    \"Northumberland Avenue\",\n",
    "    \"Bow Street\",\n",
    "    \"Marlborough Street\",\n",
    "    \"Vine Street\",\n",
    "    \"Strand\",\n",
    "    \"Fleet Street\",\n",
    "    \"Trafalgar Square\",\n",
    "    \"Leicester Square\",\n",
    "    \"Coventry Street\",\n",
    "    \"Piccadilly\",\n",
    "    \"Regent Street\",\n",
    "    \"Oxford Street\",\n",
    "    \"Bond Street\",\n",
    "    \"Park Lane\",\n",
    "    \"Mayfair\"\n",
    "    ]\n",
    "\n",
    "df_streets = df[df['Property'].isin(street_properties)].copy()\n",
    "df_streets.head()"
   ]
  },
  {
   "cell_type": "code",
   "execution_count": 4,
   "metadata": {},
   "outputs": [
    {
     "data": {
      "text/html": [
       "<div>\n",
       "<style scoped>\n",
       "    .dataframe tbody tr th:only-of-type {\n",
       "        vertical-align: middle;\n",
       "    }\n",
       "\n",
       "    .dataframe tbody tr th {\n",
       "        vertical-align: top;\n",
       "    }\n",
       "\n",
       "    .dataframe thead th {\n",
       "        text-align: right;\n",
       "    }\n",
       "</style>\n",
       "<table border=\"1\" class=\"dataframe\">\n",
       "  <thead>\n",
       "    <tr style=\"text-align: right;\">\n",
       "      <th></th>\n",
       "      <th>Property</th>\n",
       "      <th>Color</th>\n",
       "      <th>Purchase Price</th>\n",
       "      <th>Probability</th>\n",
       "      <th>Rent 1 Station</th>\n",
       "      <th>Rent 2 Stations</th>\n",
       "      <th>Rent 3 Stations</th>\n",
       "      <th>Rent 4 Stations</th>\n",
       "    </tr>\n",
       "  </thead>\n",
       "  <tbody>\n",
       "    <tr>\n",
       "      <th>5</th>\n",
       "      <td>King's Cross Station</td>\n",
       "      <td>black</td>\n",
       "      <td>200.0</td>\n",
       "      <td>0.029092</td>\n",
       "      <td>25</td>\n",
       "      <td>50</td>\n",
       "      <td>100</td>\n",
       "      <td>200</td>\n",
       "    </tr>\n",
       "    <tr>\n",
       "      <th>15</th>\n",
       "      <td>Marylebone Station</td>\n",
       "      <td>black</td>\n",
       "      <td>200.0</td>\n",
       "      <td>0.027675</td>\n",
       "      <td>25</td>\n",
       "      <td>50</td>\n",
       "      <td>100</td>\n",
       "      <td>200</td>\n",
       "    </tr>\n",
       "    <tr>\n",
       "      <th>25</th>\n",
       "      <td>Fenchurch St. Station</td>\n",
       "      <td>black</td>\n",
       "      <td>200.0</td>\n",
       "      <td>0.028143</td>\n",
       "      <td>25</td>\n",
       "      <td>50</td>\n",
       "      <td>100</td>\n",
       "      <td>200</td>\n",
       "    </tr>\n",
       "    <tr>\n",
       "      <th>35</th>\n",
       "      <td>Liverpool St. Station</td>\n",
       "      <td>black</td>\n",
       "      <td>200.0</td>\n",
       "      <td>0.021424</td>\n",
       "      <td>25</td>\n",
       "      <td>50</td>\n",
       "      <td>100</td>\n",
       "      <td>200</td>\n",
       "    </tr>\n",
       "  </tbody>\n",
       "</table>\n",
       "</div>"
      ],
      "text/plain": [
       "                 Property  Color  Purchase Price  Probability  Rent 1 Station  \\\n",
       "5    King's Cross Station  black           200.0     0.029092              25   \n",
       "15     Marylebone Station  black           200.0     0.027675              25   \n",
       "25  Fenchurch St. Station  black           200.0     0.028143              25   \n",
       "35  Liverpool St. Station  black           200.0     0.021424              25   \n",
       "\n",
       "    Rent 2 Stations  Rent 3 Stations  Rent 4 Stations  \n",
       "5                50              100              200  \n",
       "15               50              100              200  \n",
       "25               50              100              200  \n",
       "35               50              100              200  "
      ]
     },
     "execution_count": 4,
     "metadata": {},
     "output_type": "execute_result"
    }
   ],
   "source": [
    "station_properties = [\n",
    "    \"Marylebone Station\",\n",
    "    \"Fenchurch St. Station\",\n",
    "    \"Liverpool St. Station\",\n",
    "    \"King's Cross Station\"\n",
    "    ]\n",
    "\n",
    "df_stations = df[df['Property'].isin(station_properties)].copy()\n",
    "df_stations = df_stations[['Property', 'Color', 'Purchase Price', 'Probability']]\n",
    "df_stations['Rent 1 Station'] = [25]*4\n",
    "df_stations['Rent 2 Stations'] = [50]*4\n",
    "df_stations['Rent 3 Stations'] = [100]*4\n",
    "df_stations['Rent 4 Stations'] = [200]*4\n",
    "df_stations.head()"
   ]
  },
  {
   "cell_type": "code",
   "execution_count": 5,
   "metadata": {},
   "outputs": [
    {
     "data": {
      "text/html": [
       "<div>\n",
       "<style scoped>\n",
       "    .dataframe tbody tr th:only-of-type {\n",
       "        vertical-align: middle;\n",
       "    }\n",
       "\n",
       "    .dataframe tbody tr th {\n",
       "        vertical-align: top;\n",
       "    }\n",
       "\n",
       "    .dataframe thead th {\n",
       "        text-align: right;\n",
       "    }\n",
       "</style>\n",
       "<table border=\"1\" class=\"dataframe\">\n",
       "  <thead>\n",
       "    <tr style=\"text-align: right;\">\n",
       "      <th></th>\n",
       "      <th>Property</th>\n",
       "      <th>Color</th>\n",
       "      <th>Purchase Price</th>\n",
       "      <th>Probability</th>\n",
       "      <th>Rent Multiplier 1 Utility</th>\n",
       "      <th>Rent Multiplier 2 Utilities</th>\n",
       "    </tr>\n",
       "  </thead>\n",
       "  <tbody>\n",
       "    <tr>\n",
       "      <th>12</th>\n",
       "      <td>Electric Company</td>\n",
       "      <td>lightgray</td>\n",
       "      <td>150.0</td>\n",
       "      <td>0.026102</td>\n",
       "      <td>4</td>\n",
       "      <td>10</td>\n",
       "    </tr>\n",
       "    <tr>\n",
       "      <th>28</th>\n",
       "      <td>Water Works</td>\n",
       "      <td>lightgray</td>\n",
       "      <td>150.0</td>\n",
       "      <td>0.025524</td>\n",
       "      <td>4</td>\n",
       "      <td>10</td>\n",
       "    </tr>\n",
       "  </tbody>\n",
       "</table>\n",
       "</div>"
      ],
      "text/plain": [
       "            Property      Color  Purchase Price  Probability  \\\n",
       "12  Electric Company  lightgray           150.0     0.026102   \n",
       "28       Water Works  lightgray           150.0     0.025524   \n",
       "\n",
       "    Rent Multiplier 1 Utility  Rent Multiplier 2 Utilities  \n",
       "12                          4                           10  \n",
       "28                          4                           10  "
      ]
     },
     "execution_count": 5,
     "metadata": {},
     "output_type": "execute_result"
    }
   ],
   "source": [
    "utility_properties = [\n",
    "    \"Electric Company\",\n",
    "    \"Water Works\"\n",
    "]\n",
    "\n",
    "df_utilities = df[df['Property'].isin(utility_properties)].copy()\n",
    "df_utilities = df_utilities[['Property', 'Color', 'Purchase Price', 'Probability']]\n",
    "df_utilities['Rent Multiplier 1 Utility'] = [4]*2\n",
    "df_utilities['Rent Multiplier 2 Utilities'] = [10]*2\n",
    "df_utilities.head()"
   ]
  },
  {
   "cell_type": "markdown",
   "metadata": {},
   "source": [
    "Plot probabilities of landing against rent:"
   ]
  },
  {
   "cell_type": "code",
   "execution_count": 6,
   "metadata": {},
   "outputs": [
    {
     "data": {
      "text/html": [
       "<div>\n",
       "<style scoped>\n",
       "    .dataframe tbody tr th:only-of-type {\n",
       "        vertical-align: middle;\n",
       "    }\n",
       "\n",
       "    .dataframe tbody tr th {\n",
       "        vertical-align: top;\n",
       "    }\n",
       "\n",
       "    .dataframe thead th {\n",
       "        text-align: right;\n",
       "    }\n",
       "</style>\n",
       "<table border=\"1\" class=\"dataframe\">\n",
       "  <thead>\n",
       "    <tr style=\"text-align: right;\">\n",
       "      <th></th>\n",
       "      <th>Property</th>\n",
       "      <th>Color</th>\n",
       "      <th>Purchase Price</th>\n",
       "      <th>House Price</th>\n",
       "      <th>Rent</th>\n",
       "      <th>Rent Doubled</th>\n",
       "      <th>Rent 1 House</th>\n",
       "      <th>Rent 2 Houses</th>\n",
       "      <th>Rent 3 Houses</th>\n",
       "      <th>Rent 4 Houses</th>\n",
       "      <th>Rent Hotel</th>\n",
       "      <th>Probability</th>\n",
       "      <th>Rent * Probability</th>\n",
       "    </tr>\n",
       "  </thead>\n",
       "  <tbody>\n",
       "    <tr>\n",
       "      <th>1</th>\n",
       "      <td>Old Kent Road</td>\n",
       "      <td>brown</td>\n",
       "      <td>60.0</td>\n",
       "      <td>50.0</td>\n",
       "      <td>2.0</td>\n",
       "      <td>4.0</td>\n",
       "      <td>10.0</td>\n",
       "      <td>30.0</td>\n",
       "      <td>90.0</td>\n",
       "      <td>160.0</td>\n",
       "      <td>250.0</td>\n",
       "      <td>0.018405</td>\n",
       "      <td>0.036810</td>\n",
       "    </tr>\n",
       "    <tr>\n",
       "      <th>3</th>\n",
       "      <td>Whitechapel Road</td>\n",
       "      <td>brown</td>\n",
       "      <td>80.0</td>\n",
       "      <td>50.0</td>\n",
       "      <td>4.0</td>\n",
       "      <td>8.0</td>\n",
       "      <td>20.0</td>\n",
       "      <td>60.0</td>\n",
       "      <td>180.0</td>\n",
       "      <td>320.0</td>\n",
       "      <td>450.0</td>\n",
       "      <td>0.020257</td>\n",
       "      <td>0.081026</td>\n",
       "    </tr>\n",
       "    <tr>\n",
       "      <th>6</th>\n",
       "      <td>The Angel, Islington</td>\n",
       "      <td>lightblue</td>\n",
       "      <td>100.0</td>\n",
       "      <td>50.0</td>\n",
       "      <td>6.0</td>\n",
       "      <td>12.0</td>\n",
       "      <td>30.0</td>\n",
       "      <td>90.0</td>\n",
       "      <td>270.0</td>\n",
       "      <td>400.0</td>\n",
       "      <td>550.0</td>\n",
       "      <td>0.023319</td>\n",
       "      <td>0.139912</td>\n",
       "    </tr>\n",
       "    <tr>\n",
       "      <th>8</th>\n",
       "      <td>Euston Road</td>\n",
       "      <td>lightblue</td>\n",
       "      <td>100.0</td>\n",
       "      <td>50.0</td>\n",
       "      <td>6.0</td>\n",
       "      <td>12.0</td>\n",
       "      <td>30.0</td>\n",
       "      <td>90.0</td>\n",
       "      <td>270.0</td>\n",
       "      <td>400.0</td>\n",
       "      <td>550.0</td>\n",
       "      <td>0.024175</td>\n",
       "      <td>0.145052</td>\n",
       "    </tr>\n",
       "    <tr>\n",
       "      <th>9</th>\n",
       "      <td>Pentonville Road</td>\n",
       "      <td>lightblue</td>\n",
       "      <td>120.0</td>\n",
       "      <td>50.0</td>\n",
       "      <td>8.0</td>\n",
       "      <td>16.0</td>\n",
       "      <td>40.0</td>\n",
       "      <td>100.0</td>\n",
       "      <td>300.0</td>\n",
       "      <td>450.0</td>\n",
       "      <td>600.0</td>\n",
       "      <td>0.023586</td>\n",
       "      <td>0.188690</td>\n",
       "    </tr>\n",
       "  </tbody>\n",
       "</table>\n",
       "</div>"
      ],
      "text/plain": [
       "               Property      Color  Purchase Price  House Price  Rent  \\\n",
       "1         Old Kent Road      brown            60.0         50.0   2.0   \n",
       "3      Whitechapel Road      brown            80.0         50.0   4.0   \n",
       "6  The Angel, Islington  lightblue           100.0         50.0   6.0   \n",
       "8           Euston Road  lightblue           100.0         50.0   6.0   \n",
       "9      Pentonville Road  lightblue           120.0         50.0   8.0   \n",
       "\n",
       "   Rent Doubled  Rent 1 House  Rent 2 Houses  Rent 3 Houses  Rent 4 Houses  \\\n",
       "1           4.0          10.0           30.0           90.0          160.0   \n",
       "3           8.0          20.0           60.0          180.0          320.0   \n",
       "6          12.0          30.0           90.0          270.0          400.0   \n",
       "8          12.0          30.0           90.0          270.0          400.0   \n",
       "9          16.0          40.0          100.0          300.0          450.0   \n",
       "\n",
       "   Rent Hotel  Probability  Rent * Probability  \n",
       "1       250.0     0.018405            0.036810  \n",
       "3       450.0     0.020257            0.081026  \n",
       "6       550.0     0.023319            0.139912  \n",
       "8       550.0     0.024175            0.145052  \n",
       "9       600.0     0.023586            0.188690  "
      ]
     },
     "execution_count": 6,
     "metadata": {},
     "output_type": "execute_result"
    }
   ],
   "source": [
    "df_streets['Rent * Probability'] = df_streets['Rent'] * df_streets['Probability']\n",
    "df_streets.head()"
   ]
  },
  {
   "cell_type": "markdown",
   "metadata": {},
   "source": [
    "The size of the scatterpoints below represents the probability of landing on the property each go multiplied by the rent for that property. In other words, this is the expected income per go."
   ]
  },
  {
   "cell_type": "code",
   "execution_count": 7,
   "metadata": {},
   "outputs": [
    {
     "data": {
      "application/vnd.plotly.v1+json": {
       "config": {
        "plotlyServerURL": "https://plot.ly"
       },
       "data": [
        {
         "hovertemplate": "Property=Old Kent Road<br>Rent=%{x}<br>Probability=%{y}<br>Rent * Probability=%{marker.size}<extra></extra>",
         "legendgroup": "Old Kent Road",
         "marker": {
          "color": "brown",
          "size": [
           0.03681041286040151
          ],
          "sizemode": "area",
          "sizeref": 0.0028499691895222754,
          "symbol": "circle"
         },
         "mode": "markers",
         "name": "Old Kent Road",
         "orientation": "v",
         "showlegend": true,
         "type": "scatter",
         "x": [
          2
         ],
         "xaxis": "x",
         "y": [
          0.018405206430200754
         ],
         "yaxis": "y"
        },
        {
         "hovertemplate": "Property=Whitechapel Road<br>Rent=%{x}<br>Probability=%{y}<br>Rent * Probability=%{marker.size}<extra></extra>",
         "legendgroup": "Whitechapel Road",
         "marker": {
          "color": "brown",
          "size": [
           0.0810261510686371
          ],
          "sizemode": "area",
          "sizeref": 0.0028499691895222754,
          "symbol": "circle"
         },
         "mode": "markers",
         "name": "Whitechapel Road",
         "orientation": "v",
         "showlegend": true,
         "type": "scatter",
         "x": [
          4
         ],
         "xaxis": "x",
         "y": [
          0.020256537767159275
         ],
         "yaxis": "y"
        },
        {
         "hovertemplate": "Property=The Angel, Islington<br>Rent=%{x}<br>Probability=%{y}<br>Rent * Probability=%{marker.size}<extra></extra>",
         "legendgroup": "The Angel, Islington",
         "marker": {
          "color": "lightblue",
          "size": [
           0.13991200095134104
          ],
          "sizemode": "area",
          "sizeref": 0.0028499691895222754,
          "symbol": "circle"
         },
         "mode": "markers",
         "name": "The Angel, Islington",
         "orientation": "v",
         "showlegend": true,
         "type": "scatter",
         "x": [
          6
         ],
         "xaxis": "x",
         "y": [
          0.02331866682522351
         ],
         "yaxis": "y"
        },
        {
         "hovertemplate": "Property=Euston Road<br>Rent=%{x}<br>Probability=%{y}<br>Rent * Probability=%{marker.size}<extra></extra>",
         "legendgroup": "Euston Road",
         "marker": {
          "color": "lightblue",
          "size": [
           0.14505248591907116
          ],
          "sizemode": "area",
          "sizeref": 0.0028499691895222754,
          "symbol": "circle"
         },
         "mode": "markers",
         "name": "Euston Road",
         "orientation": "v",
         "showlegend": true,
         "type": "scatter",
         "x": [
          6
         ],
         "xaxis": "x",
         "y": [
          0.02417541431984519
         ],
         "yaxis": "y"
        },
        {
         "hovertemplate": "Property=Pentonville Road<br>Rent=%{x}<br>Probability=%{y}<br>Rent * Probability=%{marker.size}<extra></extra>",
         "legendgroup": "Pentonville Road",
         "marker": {
          "color": "lightblue",
          "size": [
           0.1886898520016
          ],
          "sizemode": "area",
          "sizeref": 0.0028499691895222754,
          "symbol": "circle"
         },
         "mode": "markers",
         "name": "Pentonville Road",
         "orientation": "v",
         "showlegend": true,
         "type": "scatter",
         "x": [
          8
         ],
         "xaxis": "x",
         "y": [
          0.0235862315002
         ],
         "yaxis": "y"
        },
        {
         "hovertemplate": "Property=Pall Mall<br>Rent=%{x}<br>Probability=%{y}<br>Rent * Probability=%{marker.size}<extra></extra>",
         "legendgroup": "Pall Mall",
         "marker": {
          "color": "pink",
          "size": [
           0.2669430600750262
          ],
          "sizemode": "area",
          "sizeref": 0.0028499691895222754,
          "symbol": "circle"
         },
         "mode": "markers",
         "name": "Pall Mall",
         "orientation": "v",
         "showlegend": true,
         "type": "scatter",
         "x": [
          10
         ],
         "xaxis": "x",
         "y": [
          0.02669430600750262
         ],
         "yaxis": "y"
        },
        {
         "hovertemplate": "Property=Whitehall<br>Rent=%{x}<br>Probability=%{y}<br>Rent * Probability=%{marker.size}<extra></extra>",
         "legendgroup": "Whitehall",
         "marker": {
          "color": "pink",
          "size": [
           0.22602458351801602
          ],
          "sizemode": "area",
          "sizeref": 0.0028499691895222754,
          "symbol": "circle"
         },
         "mode": "markers",
         "name": "Whitehall",
         "orientation": "v",
         "showlegend": true,
         "type": "scatter",
         "x": [
          10
         ],
         "xaxis": "x",
         "y": [
          0.0226024583518016
         ],
         "yaxis": "y"
        },
        {
         "hovertemplate": "Property=Northumberland Avenue<br>Rent=%{x}<br>Probability=%{y}<br>Rent * Probability=%{marker.size}<extra></extra>",
         "legendgroup": "Northumberland Avenue",
         "marker": {
          "color": "pink",
          "size": [
           0.2854996162203652
          ],
          "sizemode": "area",
          "sizeref": 0.0028499691895222754,
          "symbol": "circle"
         },
         "mode": "markers",
         "name": "Northumberland Avenue",
         "orientation": "v",
         "showlegend": true,
         "type": "scatter",
         "x": [
          12
         ],
         "xaxis": "x",
         "y": [
          0.02379163468503043
         ],
         "yaxis": "y"
        },
        {
         "hovertemplate": "Property=Bow Street<br>Rent=%{x}<br>Probability=%{y}<br>Rent * Probability=%{marker.size}<extra></extra>",
         "legendgroup": "Bow Street",
         "marker": {
          "color": "orange",
          "size": [
           0.3655473994875731
          ],
          "sizemode": "area",
          "sizeref": 0.0028499691895222754,
          "symbol": "circle"
         },
         "mode": "markers",
         "name": "Bow Street",
         "orientation": "v",
         "showlegend": true,
         "type": "scatter",
         "x": [
          14
         ],
         "xaxis": "x",
         "y": [
          0.02611052853482665
         ],
         "yaxis": "y"
        },
        {
         "hovertemplate": "Property=Marlborough Street<br>Rent=%{x}<br>Probability=%{y}<br>Rent * Probability=%{marker.size}<extra></extra>",
         "legendgroup": "Marlborough Street",
         "marker": {
          "color": "orange",
          "size": [
           0.38109858271802466
          ],
          "sizemode": "area",
          "sizeref": 0.0028499691895222754,
          "symbol": "circle"
         },
         "mode": "markers",
         "name": "Marlborough Street",
         "orientation": "v",
         "showlegend": true,
         "type": "scatter",
         "x": [
          14
         ],
         "xaxis": "x",
         "y": [
          0.027221327337001763
         ],
         "yaxis": "y"
        },
        {
         "hovertemplate": "Property=Vine Street<br>Rent=%{x}<br>Probability=%{y}<br>Rent * Probability=%{marker.size}<extra></extra>",
         "legendgroup": "Vine Street",
         "marker": {
          "color": "orange",
          "size": [
           0.45478427260245835
          ],
          "sizemode": "area",
          "sizeref": 0.0028499691895222754,
          "symbol": "circle"
         },
         "mode": "markers",
         "name": "Vine Street",
         "orientation": "v",
         "showlegend": true,
         "type": "scatter",
         "x": [
          16
         ],
         "xaxis": "x",
         "y": [
          0.028424017037653647
         ],
         "yaxis": "y"
        },
        {
         "hovertemplate": "Property=Strand<br>Rent=%{x}<br>Probability=%{y}<br>Rent * Probability=%{marker.size}<extra></extra>",
         "legendgroup": "Strand",
         "marker": {
          "color": "red",
          "size": [
           0.4598220559777732
          ],
          "sizemode": "area",
          "sizeref": 0.0028499691895222754,
          "symbol": "circle"
         },
         "mode": "markers",
         "name": "Strand",
         "orientation": "v",
         "showlegend": true,
         "type": "scatter",
         "x": [
          18
         ],
         "xaxis": "x",
         "y": [
          0.025545669776542955
         ],
         "yaxis": "y"
        },
        {
         "hovertemplate": "Property=Fleet Street<br>Rent=%{x}<br>Probability=%{y}<br>Rent * Probability=%{marker.size}<extra></extra>",
         "legendgroup": "Fleet Street",
         "marker": {
          "color": "red",
          "size": [
           0.45028702392406567
          ],
          "sizemode": "area",
          "sizeref": 0.0028499691895222754,
          "symbol": "circle"
         },
         "mode": "markers",
         "name": "Fleet Street",
         "orientation": "v",
         "showlegend": true,
         "type": "scatter",
         "x": [
          18
         ],
         "xaxis": "x",
         "y": [
          0.025015945773559204
         ],
         "yaxis": "y"
        },
        {
         "hovertemplate": "Property=Trafalgar Square<br>Rent=%{x}<br>Probability=%{y}<br>Rent * Probability=%{marker.size}<extra></extra>",
         "legendgroup": "Trafalgar Square",
         "marker": {
          "color": "red",
          "size": [
           0.5816153338882822
          ],
          "sizemode": "area",
          "sizeref": 0.0028499691895222754,
          "symbol": "circle"
         },
         "mode": "markers",
         "name": "Trafalgar Square",
         "orientation": "v",
         "showlegend": true,
         "type": "scatter",
         "x": [
          20
         ],
         "xaxis": "x",
         "y": [
          0.029080766694414114
         ],
         "yaxis": "y"
        },
        {
         "hovertemplate": "Property=Leicester Square<br>Rent=%{x}<br>Probability=%{y}<br>Rent * Probability=%{marker.size}<extra></extra>",
         "legendgroup": "Leicester Square",
         "marker": {
          "color": "yellow",
          "size": [
           0.5405995610858261
          ],
          "sizemode": "area",
          "sizeref": 0.0028499691895222754,
          "symbol": "circle"
         },
         "mode": "markers",
         "name": "Leicester Square",
         "orientation": "v",
         "showlegend": true,
         "type": "scatter",
         "x": [
          22
         ],
         "xaxis": "x",
         "y": [
          0.024572707322083005
         ],
         "yaxis": "y"
        },
        {
         "hovertemplate": "Property=Coventry Street<br>Rent=%{x}<br>Probability=%{y}<br>Rent * Probability=%{marker.size}<extra></extra>",
         "legendgroup": "Coventry Street",
         "marker": {
          "color": "yellow",
          "size": [
           0.5318591150365942
          ],
          "sizemode": "area",
          "sizeref": 0.0028499691895222754,
          "symbol": "circle"
         },
         "mode": "markers",
         "name": "Coventry Street",
         "orientation": "v",
         "showlegend": true,
         "type": "scatter",
         "x": [
          22
         ],
         "xaxis": "x",
         "y": [
          0.02417541431984519
         ],
         "yaxis": "y"
        },
        {
         "hovertemplate": "Property=Piccadilly<br>Rent=%{x}<br>Probability=%{y}<br>Rent * Probability=%{marker.size}<extra></extra>",
         "legendgroup": "Piccadilly",
         "marker": {
          "color": "yellow",
          "size": [
           0.5566642522783537
          ],
          "sizemode": "area",
          "sizeref": 0.0028499691895222754,
          "symbol": "circle"
         },
         "mode": "markers",
         "name": "Piccadilly",
         "orientation": "v",
         "showlegend": true,
         "type": "scatter",
         "x": [
          24
         ],
         "xaxis": "x",
         "y": [
          0.023194343844931405
         ],
         "yaxis": "y"
        },
        {
         "hovertemplate": "Property=Regent Street<br>Rent=%{x}<br>Probability=%{y}<br>Rent * Probability=%{marker.size}<extra></extra>",
         "legendgroup": "Regent Street",
         "marker": {
          "color": "green",
          "size": [
           0.6294742759537735
          ],
          "sizemode": "area",
          "sizeref": 0.0028499691895222754,
          "symbol": "circle"
         },
         "mode": "markers",
         "name": "Regent Street",
         "orientation": "v",
         "showlegend": true,
         "type": "scatter",
         "x": [
          26
         ],
         "xaxis": "x",
         "y": [
          0.024210549075145135
         ],
         "yaxis": "y"
        },
        {
         "hovertemplate": "Property=Oxford Street<br>Rent=%{x}<br>Probability=%{y}<br>Rent * Probability=%{marker.size}<extra></extra>",
         "legendgroup": "Oxford Street",
         "marker": {
          "color": "green",
          "size": [
           0.610150160538805
          ],
          "sizemode": "area",
          "sizeref": 0.0028499691895222754,
          "symbol": "circle"
         },
         "mode": "markers",
         "name": "Oxford Street",
         "orientation": "v",
         "showlegend": true,
         "type": "scatter",
         "x": [
          26
         ],
         "xaxis": "x",
         "y": [
          0.023467313866877115
         ],
         "yaxis": "y"
        },
        {
         "hovertemplate": "Property=Bond Street<br>Rent=%{x}<br>Probability=%{y}<br>Rent * Probability=%{marker.size}<extra></extra>",
         "legendgroup": "Bond Street",
         "marker": {
          "color": "green",
          "size": [
           0.6296148149749732
          ],
          "sizemode": "area",
          "sizeref": 0.0028499691895222754,
          "symbol": "circle"
         },
         "mode": "markers",
         "name": "Bond Street",
         "orientation": "v",
         "showlegend": true,
         "type": "scatter",
         "x": [
          28
         ],
         "xaxis": "x",
         "y": [
          0.02248624339196333
         ],
         "yaxis": "y"
        },
        {
         "hovertemplate": "Property=Park Lane<br>Rent=%{x}<br>Probability=%{y}<br>Rent * Probability=%{marker.size}<extra></extra>",
         "legendgroup": "Park Lane",
         "marker": {
          "color": "darkblue",
          "size": [
           0.6642360623128398
          ],
          "sizemode": "area",
          "sizeref": 0.0028499691895222754,
          "symbol": "circle"
         },
         "mode": "markers",
         "name": "Park Lane",
         "orientation": "v",
         "showlegend": true,
         "type": "scatter",
         "x": [
          35
         ],
         "xaxis": "x",
         "y": [
          0.01897817320893828
         ],
         "yaxis": "y"
        },
        {
         "hovertemplate": "Property=Mayfair<br>Rent=%{x}<br>Probability=%{y}<br>Rent * Probability=%{marker.size}<extra></extra>",
         "legendgroup": "Mayfair",
         "marker": {
          "color": "darkblue",
          "size": [
           1.1399876758089103
          ],
          "sizemode": "area",
          "sizeref": 0.0028499691895222754,
          "symbol": "circle"
         },
         "mode": "markers",
         "name": "Mayfair",
         "orientation": "v",
         "showlegend": true,
         "type": "scatter",
         "x": [
          50
         ],
         "xaxis": "x",
         "y": [
          0.022799753516178203
         ],
         "yaxis": "y"
        }
       ],
       "layout": {
        "legend": {
         "itemsizing": "constant",
         "title": {
          "text": "Property"
         },
         "tracegroupgap": 0
        },
        "showlegend": false,
        "template": {
         "data": {
          "bar": [
           {
            "error_x": {
             "color": "#2a3f5f"
            },
            "error_y": {
             "color": "#2a3f5f"
            },
            "marker": {
             "line": {
              "color": "#E5ECF6",
              "width": 0.5
             },
             "pattern": {
              "fillmode": "overlay",
              "size": 10,
              "solidity": 0.2
             }
            },
            "type": "bar"
           }
          ],
          "barpolar": [
           {
            "marker": {
             "line": {
              "color": "#E5ECF6",
              "width": 0.5
             },
             "pattern": {
              "fillmode": "overlay",
              "size": 10,
              "solidity": 0.2
             }
            },
            "type": "barpolar"
           }
          ],
          "carpet": [
           {
            "aaxis": {
             "endlinecolor": "#2a3f5f",
             "gridcolor": "white",
             "linecolor": "white",
             "minorgridcolor": "white",
             "startlinecolor": "#2a3f5f"
            },
            "baxis": {
             "endlinecolor": "#2a3f5f",
             "gridcolor": "white",
             "linecolor": "white",
             "minorgridcolor": "white",
             "startlinecolor": "#2a3f5f"
            },
            "type": "carpet"
           }
          ],
          "choropleth": [
           {
            "colorbar": {
             "outlinewidth": 0,
             "ticks": ""
            },
            "type": "choropleth"
           }
          ],
          "contour": [
           {
            "colorbar": {
             "outlinewidth": 0,
             "ticks": ""
            },
            "colorscale": [
             [
              0,
              "#0d0887"
             ],
             [
              0.1111111111111111,
              "#46039f"
             ],
             [
              0.2222222222222222,
              "#7201a8"
             ],
             [
              0.3333333333333333,
              "#9c179e"
             ],
             [
              0.4444444444444444,
              "#bd3786"
             ],
             [
              0.5555555555555556,
              "#d8576b"
             ],
             [
              0.6666666666666666,
              "#ed7953"
             ],
             [
              0.7777777777777778,
              "#fb9f3a"
             ],
             [
              0.8888888888888888,
              "#fdca26"
             ],
             [
              1,
              "#f0f921"
             ]
            ],
            "type": "contour"
           }
          ],
          "contourcarpet": [
           {
            "colorbar": {
             "outlinewidth": 0,
             "ticks": ""
            },
            "type": "contourcarpet"
           }
          ],
          "heatmap": [
           {
            "colorbar": {
             "outlinewidth": 0,
             "ticks": ""
            },
            "colorscale": [
             [
              0,
              "#0d0887"
             ],
             [
              0.1111111111111111,
              "#46039f"
             ],
             [
              0.2222222222222222,
              "#7201a8"
             ],
             [
              0.3333333333333333,
              "#9c179e"
             ],
             [
              0.4444444444444444,
              "#bd3786"
             ],
             [
              0.5555555555555556,
              "#d8576b"
             ],
             [
              0.6666666666666666,
              "#ed7953"
             ],
             [
              0.7777777777777778,
              "#fb9f3a"
             ],
             [
              0.8888888888888888,
              "#fdca26"
             ],
             [
              1,
              "#f0f921"
             ]
            ],
            "type": "heatmap"
           }
          ],
          "heatmapgl": [
           {
            "colorbar": {
             "outlinewidth": 0,
             "ticks": ""
            },
            "colorscale": [
             [
              0,
              "#0d0887"
             ],
             [
              0.1111111111111111,
              "#46039f"
             ],
             [
              0.2222222222222222,
              "#7201a8"
             ],
             [
              0.3333333333333333,
              "#9c179e"
             ],
             [
              0.4444444444444444,
              "#bd3786"
             ],
             [
              0.5555555555555556,
              "#d8576b"
             ],
             [
              0.6666666666666666,
              "#ed7953"
             ],
             [
              0.7777777777777778,
              "#fb9f3a"
             ],
             [
              0.8888888888888888,
              "#fdca26"
             ],
             [
              1,
              "#f0f921"
             ]
            ],
            "type": "heatmapgl"
           }
          ],
          "histogram": [
           {
            "marker": {
             "pattern": {
              "fillmode": "overlay",
              "size": 10,
              "solidity": 0.2
             }
            },
            "type": "histogram"
           }
          ],
          "histogram2d": [
           {
            "colorbar": {
             "outlinewidth": 0,
             "ticks": ""
            },
            "colorscale": [
             [
              0,
              "#0d0887"
             ],
             [
              0.1111111111111111,
              "#46039f"
             ],
             [
              0.2222222222222222,
              "#7201a8"
             ],
             [
              0.3333333333333333,
              "#9c179e"
             ],
             [
              0.4444444444444444,
              "#bd3786"
             ],
             [
              0.5555555555555556,
              "#d8576b"
             ],
             [
              0.6666666666666666,
              "#ed7953"
             ],
             [
              0.7777777777777778,
              "#fb9f3a"
             ],
             [
              0.8888888888888888,
              "#fdca26"
             ],
             [
              1,
              "#f0f921"
             ]
            ],
            "type": "histogram2d"
           }
          ],
          "histogram2dcontour": [
           {
            "colorbar": {
             "outlinewidth": 0,
             "ticks": ""
            },
            "colorscale": [
             [
              0,
              "#0d0887"
             ],
             [
              0.1111111111111111,
              "#46039f"
             ],
             [
              0.2222222222222222,
              "#7201a8"
             ],
             [
              0.3333333333333333,
              "#9c179e"
             ],
             [
              0.4444444444444444,
              "#bd3786"
             ],
             [
              0.5555555555555556,
              "#d8576b"
             ],
             [
              0.6666666666666666,
              "#ed7953"
             ],
             [
              0.7777777777777778,
              "#fb9f3a"
             ],
             [
              0.8888888888888888,
              "#fdca26"
             ],
             [
              1,
              "#f0f921"
             ]
            ],
            "type": "histogram2dcontour"
           }
          ],
          "mesh3d": [
           {
            "colorbar": {
             "outlinewidth": 0,
             "ticks": ""
            },
            "type": "mesh3d"
           }
          ],
          "parcoords": [
           {
            "line": {
             "colorbar": {
              "outlinewidth": 0,
              "ticks": ""
             }
            },
            "type": "parcoords"
           }
          ],
          "pie": [
           {
            "automargin": true,
            "type": "pie"
           }
          ],
          "scatter": [
           {
            "fillpattern": {
             "fillmode": "overlay",
             "size": 10,
             "solidity": 0.2
            },
            "type": "scatter"
           }
          ],
          "scatter3d": [
           {
            "line": {
             "colorbar": {
              "outlinewidth": 0,
              "ticks": ""
             }
            },
            "marker": {
             "colorbar": {
              "outlinewidth": 0,
              "ticks": ""
             }
            },
            "type": "scatter3d"
           }
          ],
          "scattercarpet": [
           {
            "marker": {
             "colorbar": {
              "outlinewidth": 0,
              "ticks": ""
             }
            },
            "type": "scattercarpet"
           }
          ],
          "scattergeo": [
           {
            "marker": {
             "colorbar": {
              "outlinewidth": 0,
              "ticks": ""
             }
            },
            "type": "scattergeo"
           }
          ],
          "scattergl": [
           {
            "marker": {
             "colorbar": {
              "outlinewidth": 0,
              "ticks": ""
             }
            },
            "type": "scattergl"
           }
          ],
          "scattermapbox": [
           {
            "marker": {
             "colorbar": {
              "outlinewidth": 0,
              "ticks": ""
             }
            },
            "type": "scattermapbox"
           }
          ],
          "scatterpolar": [
           {
            "marker": {
             "colorbar": {
              "outlinewidth": 0,
              "ticks": ""
             }
            },
            "type": "scatterpolar"
           }
          ],
          "scatterpolargl": [
           {
            "marker": {
             "colorbar": {
              "outlinewidth": 0,
              "ticks": ""
             }
            },
            "type": "scatterpolargl"
           }
          ],
          "scatterternary": [
           {
            "marker": {
             "colorbar": {
              "outlinewidth": 0,
              "ticks": ""
             }
            },
            "type": "scatterternary"
           }
          ],
          "surface": [
           {
            "colorbar": {
             "outlinewidth": 0,
             "ticks": ""
            },
            "colorscale": [
             [
              0,
              "#0d0887"
             ],
             [
              0.1111111111111111,
              "#46039f"
             ],
             [
              0.2222222222222222,
              "#7201a8"
             ],
             [
              0.3333333333333333,
              "#9c179e"
             ],
             [
              0.4444444444444444,
              "#bd3786"
             ],
             [
              0.5555555555555556,
              "#d8576b"
             ],
             [
              0.6666666666666666,
              "#ed7953"
             ],
             [
              0.7777777777777778,
              "#fb9f3a"
             ],
             [
              0.8888888888888888,
              "#fdca26"
             ],
             [
              1,
              "#f0f921"
             ]
            ],
            "type": "surface"
           }
          ],
          "table": [
           {
            "cells": {
             "fill": {
              "color": "#EBF0F8"
             },
             "line": {
              "color": "white"
             }
            },
            "header": {
             "fill": {
              "color": "#C8D4E3"
             },
             "line": {
              "color": "white"
             }
            },
            "type": "table"
           }
          ]
         },
         "layout": {
          "annotationdefaults": {
           "arrowcolor": "#2a3f5f",
           "arrowhead": 0,
           "arrowwidth": 1
          },
          "autotypenumbers": "strict",
          "coloraxis": {
           "colorbar": {
            "outlinewidth": 0,
            "ticks": ""
           }
          },
          "colorscale": {
           "diverging": [
            [
             0,
             "#8e0152"
            ],
            [
             0.1,
             "#c51b7d"
            ],
            [
             0.2,
             "#de77ae"
            ],
            [
             0.3,
             "#f1b6da"
            ],
            [
             0.4,
             "#fde0ef"
            ],
            [
             0.5,
             "#f7f7f7"
            ],
            [
             0.6,
             "#e6f5d0"
            ],
            [
             0.7,
             "#b8e186"
            ],
            [
             0.8,
             "#7fbc41"
            ],
            [
             0.9,
             "#4d9221"
            ],
            [
             1,
             "#276419"
            ]
           ],
           "sequential": [
            [
             0,
             "#0d0887"
            ],
            [
             0.1111111111111111,
             "#46039f"
            ],
            [
             0.2222222222222222,
             "#7201a8"
            ],
            [
             0.3333333333333333,
             "#9c179e"
            ],
            [
             0.4444444444444444,
             "#bd3786"
            ],
            [
             0.5555555555555556,
             "#d8576b"
            ],
            [
             0.6666666666666666,
             "#ed7953"
            ],
            [
             0.7777777777777778,
             "#fb9f3a"
            ],
            [
             0.8888888888888888,
             "#fdca26"
            ],
            [
             1,
             "#f0f921"
            ]
           ],
           "sequentialminus": [
            [
             0,
             "#0d0887"
            ],
            [
             0.1111111111111111,
             "#46039f"
            ],
            [
             0.2222222222222222,
             "#7201a8"
            ],
            [
             0.3333333333333333,
             "#9c179e"
            ],
            [
             0.4444444444444444,
             "#bd3786"
            ],
            [
             0.5555555555555556,
             "#d8576b"
            ],
            [
             0.6666666666666666,
             "#ed7953"
            ],
            [
             0.7777777777777778,
             "#fb9f3a"
            ],
            [
             0.8888888888888888,
             "#fdca26"
            ],
            [
             1,
             "#f0f921"
            ]
           ]
          },
          "colorway": [
           "#636efa",
           "#EF553B",
           "#00cc96",
           "#ab63fa",
           "#FFA15A",
           "#19d3f3",
           "#FF6692",
           "#B6E880",
           "#FF97FF",
           "#FECB52"
          ],
          "font": {
           "color": "#2a3f5f"
          },
          "geo": {
           "bgcolor": "white",
           "lakecolor": "white",
           "landcolor": "#E5ECF6",
           "showlakes": true,
           "showland": true,
           "subunitcolor": "white"
          },
          "hoverlabel": {
           "align": "left"
          },
          "hovermode": "closest",
          "mapbox": {
           "style": "light"
          },
          "paper_bgcolor": "white",
          "plot_bgcolor": "#E5ECF6",
          "polar": {
           "angularaxis": {
            "gridcolor": "white",
            "linecolor": "white",
            "ticks": ""
           },
           "bgcolor": "#E5ECF6",
           "radialaxis": {
            "gridcolor": "white",
            "linecolor": "white",
            "ticks": ""
           }
          },
          "scene": {
           "xaxis": {
            "backgroundcolor": "#E5ECF6",
            "gridcolor": "white",
            "gridwidth": 2,
            "linecolor": "white",
            "showbackground": true,
            "ticks": "",
            "zerolinecolor": "white"
           },
           "yaxis": {
            "backgroundcolor": "#E5ECF6",
            "gridcolor": "white",
            "gridwidth": 2,
            "linecolor": "white",
            "showbackground": true,
            "ticks": "",
            "zerolinecolor": "white"
           },
           "zaxis": {
            "backgroundcolor": "#E5ECF6",
            "gridcolor": "white",
            "gridwidth": 2,
            "linecolor": "white",
            "showbackground": true,
            "ticks": "",
            "zerolinecolor": "white"
           }
          },
          "shapedefaults": {
           "line": {
            "color": "#2a3f5f"
           }
          },
          "ternary": {
           "aaxis": {
            "gridcolor": "white",
            "linecolor": "white",
            "ticks": ""
           },
           "baxis": {
            "gridcolor": "white",
            "linecolor": "white",
            "ticks": ""
           },
           "bgcolor": "#E5ECF6",
           "caxis": {
            "gridcolor": "white",
            "linecolor": "white",
            "ticks": ""
           }
          },
          "title": {
           "x": 0.05
          },
          "xaxis": {
           "automargin": true,
           "gridcolor": "white",
           "linecolor": "white",
           "ticks": "",
           "title": {
            "standoff": 15
           },
           "zerolinecolor": "white",
           "zerolinewidth": 2
          },
          "yaxis": {
           "automargin": true,
           "gridcolor": "white",
           "linecolor": "white",
           "ticks": "",
           "title": {
            "standoff": 15
           },
           "zerolinecolor": "white",
           "zerolinewidth": 2
          }
         }
        },
        "title": {
         "text": "Monopoly Board Street Probabilities Against Rent"
        },
        "xaxis": {
         "anchor": "y",
         "domain": [
          0,
          1
         ],
         "title": {
          "text": "Rent"
         }
        },
        "yaxis": {
         "anchor": "x",
         "domain": [
          0,
          1
         ],
         "range": [
          0.018,
          0.03
         ],
         "title": {
          "text": "Probability"
         }
        }
       }
      }
     },
     "metadata": {},
     "output_type": "display_data"
    }
   ],
   "source": [
    "fig = px.scatter(\n",
    "    df_streets,\n",
    "    x='Rent',\n",
    "    y='Probability',\n",
    "    title=\"Monopoly Board Street Probabilities Against Rent\",\n",
    "    labels={'x': 'Rent', 'y': 'Probability'},\n",
    "    color='Property',\n",
    "    color_discrete_map=color_dict,\n",
    "    size = \"Rent * Probability\"\n",
    ")\n",
    "\n",
    "fig.update_yaxes(range=[0.018, 0.03])\n",
    "fig.update_layout(showlegend=False)\n",
    "fig.show()"
   ]
  },
  {
   "cell_type": "code",
   "execution_count": 8,
   "metadata": {},
   "outputs": [
    {
     "data": {
      "application/vnd.plotly.v1+json": {
       "config": {
        "plotlyServerURL": "https://plot.ly"
       },
       "data": [
        {
         "hovertemplate": "Property=Old Kent Road<br>Rent Doubled=%{x}<br>Probability=%{y}<br>Rent Doubled * Probability=%{marker.size}<extra></extra>",
         "legendgroup": "Old Kent Road",
         "marker": {
          "color": "brown",
          "size": [
           0.07362082572080302
          ],
          "sizemode": "area",
          "sizeref": 0.005699938379044551,
          "symbol": "circle"
         },
         "mode": "markers",
         "name": "Old Kent Road",
         "orientation": "v",
         "showlegend": true,
         "type": "scatter",
         "x": [
          4
         ],
         "xaxis": "x",
         "y": [
          0.018405206430200754
         ],
         "yaxis": "y"
        },
        {
         "hovertemplate": "Property=Whitechapel Road<br>Rent Doubled=%{x}<br>Probability=%{y}<br>Rent Doubled * Probability=%{marker.size}<extra></extra>",
         "legendgroup": "Whitechapel Road",
         "marker": {
          "color": "brown",
          "size": [
           0.1620523021372742
          ],
          "sizemode": "area",
          "sizeref": 0.005699938379044551,
          "symbol": "circle"
         },
         "mode": "markers",
         "name": "Whitechapel Road",
         "orientation": "v",
         "showlegend": true,
         "type": "scatter",
         "x": [
          8
         ],
         "xaxis": "x",
         "y": [
          0.020256537767159275
         ],
         "yaxis": "y"
        },
        {
         "hovertemplate": "Property=The Angel, Islington<br>Rent Doubled=%{x}<br>Probability=%{y}<br>Rent Doubled * Probability=%{marker.size}<extra></extra>",
         "legendgroup": "The Angel, Islington",
         "marker": {
          "color": "lightblue",
          "size": [
           0.2798240019026821
          ],
          "sizemode": "area",
          "sizeref": 0.005699938379044551,
          "symbol": "circle"
         },
         "mode": "markers",
         "name": "The Angel, Islington",
         "orientation": "v",
         "showlegend": true,
         "type": "scatter",
         "x": [
          12
         ],
         "xaxis": "x",
         "y": [
          0.02331866682522351
         ],
         "yaxis": "y"
        },
        {
         "hovertemplate": "Property=Euston Road<br>Rent Doubled=%{x}<br>Probability=%{y}<br>Rent Doubled * Probability=%{marker.size}<extra></extra>",
         "legendgroup": "Euston Road",
         "marker": {
          "color": "lightblue",
          "size": [
           0.2901049718381423
          ],
          "sizemode": "area",
          "sizeref": 0.005699938379044551,
          "symbol": "circle"
         },
         "mode": "markers",
         "name": "Euston Road",
         "orientation": "v",
         "showlegend": true,
         "type": "scatter",
         "x": [
          12
         ],
         "xaxis": "x",
         "y": [
          0.02417541431984519
         ],
         "yaxis": "y"
        },
        {
         "hovertemplate": "Property=Pentonville Road<br>Rent Doubled=%{x}<br>Probability=%{y}<br>Rent Doubled * Probability=%{marker.size}<extra></extra>",
         "legendgroup": "Pentonville Road",
         "marker": {
          "color": "lightblue",
          "size": [
           0.3773797040032
          ],
          "sizemode": "area",
          "sizeref": 0.005699938379044551,
          "symbol": "circle"
         },
         "mode": "markers",
         "name": "Pentonville Road",
         "orientation": "v",
         "showlegend": true,
         "type": "scatter",
         "x": [
          16
         ],
         "xaxis": "x",
         "y": [
          0.0235862315002
         ],
         "yaxis": "y"
        },
        {
         "hovertemplate": "Property=Pall Mall<br>Rent Doubled=%{x}<br>Probability=%{y}<br>Rent Doubled * Probability=%{marker.size}<extra></extra>",
         "legendgroup": "Pall Mall",
         "marker": {
          "color": "pink",
          "size": [
           0.5338861201500524
          ],
          "sizemode": "area",
          "sizeref": 0.005699938379044551,
          "symbol": "circle"
         },
         "mode": "markers",
         "name": "Pall Mall",
         "orientation": "v",
         "showlegend": true,
         "type": "scatter",
         "x": [
          20
         ],
         "xaxis": "x",
         "y": [
          0.02669430600750262
         ],
         "yaxis": "y"
        },
        {
         "hovertemplate": "Property=Whitehall<br>Rent Doubled=%{x}<br>Probability=%{y}<br>Rent Doubled * Probability=%{marker.size}<extra></extra>",
         "legendgroup": "Whitehall",
         "marker": {
          "color": "pink",
          "size": [
           0.45204916703603204
          ],
          "sizemode": "area",
          "sizeref": 0.005699938379044551,
          "symbol": "circle"
         },
         "mode": "markers",
         "name": "Whitehall",
         "orientation": "v",
         "showlegend": true,
         "type": "scatter",
         "x": [
          20
         ],
         "xaxis": "x",
         "y": [
          0.0226024583518016
         ],
         "yaxis": "y"
        },
        {
         "hovertemplate": "Property=Northumberland Avenue<br>Rent Doubled=%{x}<br>Probability=%{y}<br>Rent Doubled * Probability=%{marker.size}<extra></extra>",
         "legendgroup": "Northumberland Avenue",
         "marker": {
          "color": "pink",
          "size": [
           0.5709992324407304
          ],
          "sizemode": "area",
          "sizeref": 0.005699938379044551,
          "symbol": "circle"
         },
         "mode": "markers",
         "name": "Northumberland Avenue",
         "orientation": "v",
         "showlegend": true,
         "type": "scatter",
         "x": [
          24
         ],
         "xaxis": "x",
         "y": [
          0.02379163468503043
         ],
         "yaxis": "y"
        },
        {
         "hovertemplate": "Property=Bow Street<br>Rent Doubled=%{x}<br>Probability=%{y}<br>Rent Doubled * Probability=%{marker.size}<extra></extra>",
         "legendgroup": "Bow Street",
         "marker": {
          "color": "orange",
          "size": [
           0.7310947989751462
          ],
          "sizemode": "area",
          "sizeref": 0.005699938379044551,
          "symbol": "circle"
         },
         "mode": "markers",
         "name": "Bow Street",
         "orientation": "v",
         "showlegend": true,
         "type": "scatter",
         "x": [
          28
         ],
         "xaxis": "x",
         "y": [
          0.02611052853482665
         ],
         "yaxis": "y"
        },
        {
         "hovertemplate": "Property=Marlborough Street<br>Rent Doubled=%{x}<br>Probability=%{y}<br>Rent Doubled * Probability=%{marker.size}<extra></extra>",
         "legendgroup": "Marlborough Street",
         "marker": {
          "color": "orange",
          "size": [
           0.7621971654360493
          ],
          "sizemode": "area",
          "sizeref": 0.005699938379044551,
          "symbol": "circle"
         },
         "mode": "markers",
         "name": "Marlborough Street",
         "orientation": "v",
         "showlegend": true,
         "type": "scatter",
         "x": [
          28
         ],
         "xaxis": "x",
         "y": [
          0.027221327337001763
         ],
         "yaxis": "y"
        },
        {
         "hovertemplate": "Property=Vine Street<br>Rent Doubled=%{x}<br>Probability=%{y}<br>Rent Doubled * Probability=%{marker.size}<extra></extra>",
         "legendgroup": "Vine Street",
         "marker": {
          "color": "orange",
          "size": [
           0.9095685452049167
          ],
          "sizemode": "area",
          "sizeref": 0.005699938379044551,
          "symbol": "circle"
         },
         "mode": "markers",
         "name": "Vine Street",
         "orientation": "v",
         "showlegend": true,
         "type": "scatter",
         "x": [
          32
         ],
         "xaxis": "x",
         "y": [
          0.028424017037653647
         ],
         "yaxis": "y"
        },
        {
         "hovertemplate": "Property=Strand<br>Rent Doubled=%{x}<br>Probability=%{y}<br>Rent Doubled * Probability=%{marker.size}<extra></extra>",
         "legendgroup": "Strand",
         "marker": {
          "color": "red",
          "size": [
           0.9196441119555464
          ],
          "sizemode": "area",
          "sizeref": 0.005699938379044551,
          "symbol": "circle"
         },
         "mode": "markers",
         "name": "Strand",
         "orientation": "v",
         "showlegend": true,
         "type": "scatter",
         "x": [
          36
         ],
         "xaxis": "x",
         "y": [
          0.025545669776542955
         ],
         "yaxis": "y"
        },
        {
         "hovertemplate": "Property=Fleet Street<br>Rent Doubled=%{x}<br>Probability=%{y}<br>Rent Doubled * Probability=%{marker.size}<extra></extra>",
         "legendgroup": "Fleet Street",
         "marker": {
          "color": "red",
          "size": [
           0.9005740478481313
          ],
          "sizemode": "area",
          "sizeref": 0.005699938379044551,
          "symbol": "circle"
         },
         "mode": "markers",
         "name": "Fleet Street",
         "orientation": "v",
         "showlegend": true,
         "type": "scatter",
         "x": [
          36
         ],
         "xaxis": "x",
         "y": [
          0.025015945773559204
         ],
         "yaxis": "y"
        },
        {
         "hovertemplate": "Property=Trafalgar Square<br>Rent Doubled=%{x}<br>Probability=%{y}<br>Rent Doubled * Probability=%{marker.size}<extra></extra>",
         "legendgroup": "Trafalgar Square",
         "marker": {
          "color": "red",
          "size": [
           1.1632306677765645
          ],
          "sizemode": "area",
          "sizeref": 0.005699938379044551,
          "symbol": "circle"
         },
         "mode": "markers",
         "name": "Trafalgar Square",
         "orientation": "v",
         "showlegend": true,
         "type": "scatter",
         "x": [
          40
         ],
         "xaxis": "x",
         "y": [
          0.029080766694414114
         ],
         "yaxis": "y"
        },
        {
         "hovertemplate": "Property=Leicester Square<br>Rent Doubled=%{x}<br>Probability=%{y}<br>Rent Doubled * Probability=%{marker.size}<extra></extra>",
         "legendgroup": "Leicester Square",
         "marker": {
          "color": "yellow",
          "size": [
           1.0811991221716521
          ],
          "sizemode": "area",
          "sizeref": 0.005699938379044551,
          "symbol": "circle"
         },
         "mode": "markers",
         "name": "Leicester Square",
         "orientation": "v",
         "showlegend": true,
         "type": "scatter",
         "x": [
          44
         ],
         "xaxis": "x",
         "y": [
          0.024572707322083005
         ],
         "yaxis": "y"
        },
        {
         "hovertemplate": "Property=Coventry Street<br>Rent Doubled=%{x}<br>Probability=%{y}<br>Rent Doubled * Probability=%{marker.size}<extra></extra>",
         "legendgroup": "Coventry Street",
         "marker": {
          "color": "yellow",
          "size": [
           1.0637182300731884
          ],
          "sizemode": "area",
          "sizeref": 0.005699938379044551,
          "symbol": "circle"
         },
         "mode": "markers",
         "name": "Coventry Street",
         "orientation": "v",
         "showlegend": true,
         "type": "scatter",
         "x": [
          44
         ],
         "xaxis": "x",
         "y": [
          0.02417541431984519
         ],
         "yaxis": "y"
        },
        {
         "hovertemplate": "Property=Piccadilly<br>Rent Doubled=%{x}<br>Probability=%{y}<br>Rent Doubled * Probability=%{marker.size}<extra></extra>",
         "legendgroup": "Piccadilly",
         "marker": {
          "color": "yellow",
          "size": [
           1.1133285045567074
          ],
          "sizemode": "area",
          "sizeref": 0.005699938379044551,
          "symbol": "circle"
         },
         "mode": "markers",
         "name": "Piccadilly",
         "orientation": "v",
         "showlegend": true,
         "type": "scatter",
         "x": [
          48
         ],
         "xaxis": "x",
         "y": [
          0.023194343844931405
         ],
         "yaxis": "y"
        },
        {
         "hovertemplate": "Property=Regent Street<br>Rent Doubled=%{x}<br>Probability=%{y}<br>Rent Doubled * Probability=%{marker.size}<extra></extra>",
         "legendgroup": "Regent Street",
         "marker": {
          "color": "green",
          "size": [
           1.258948551907547
          ],
          "sizemode": "area",
          "sizeref": 0.005699938379044551,
          "symbol": "circle"
         },
         "mode": "markers",
         "name": "Regent Street",
         "orientation": "v",
         "showlegend": true,
         "type": "scatter",
         "x": [
          52
         ],
         "xaxis": "x",
         "y": [
          0.024210549075145135
         ],
         "yaxis": "y"
        },
        {
         "hovertemplate": "Property=Oxford Street<br>Rent Doubled=%{x}<br>Probability=%{y}<br>Rent Doubled * Probability=%{marker.size}<extra></extra>",
         "legendgroup": "Oxford Street",
         "marker": {
          "color": "green",
          "size": [
           1.22030032107761
          ],
          "sizemode": "area",
          "sizeref": 0.005699938379044551,
          "symbol": "circle"
         },
         "mode": "markers",
         "name": "Oxford Street",
         "orientation": "v",
         "showlegend": true,
         "type": "scatter",
         "x": [
          52
         ],
         "xaxis": "x",
         "y": [
          0.023467313866877115
         ],
         "yaxis": "y"
        },
        {
         "hovertemplate": "Property=Bond Street<br>Rent Doubled=%{x}<br>Probability=%{y}<br>Rent Doubled * Probability=%{marker.size}<extra></extra>",
         "legendgroup": "Bond Street",
         "marker": {
          "color": "green",
          "size": [
           1.2592296299499464
          ],
          "sizemode": "area",
          "sizeref": 0.005699938379044551,
          "symbol": "circle"
         },
         "mode": "markers",
         "name": "Bond Street",
         "orientation": "v",
         "showlegend": true,
         "type": "scatter",
         "x": [
          56
         ],
         "xaxis": "x",
         "y": [
          0.02248624339196333
         ],
         "yaxis": "y"
        },
        {
         "hovertemplate": "Property=Park Lane<br>Rent Doubled=%{x}<br>Probability=%{y}<br>Rent Doubled * Probability=%{marker.size}<extra></extra>",
         "legendgroup": "Park Lane",
         "marker": {
          "color": "darkblue",
          "size": [
           1.3284721246256797
          ],
          "sizemode": "area",
          "sizeref": 0.005699938379044551,
          "symbol": "circle"
         },
         "mode": "markers",
         "name": "Park Lane",
         "orientation": "v",
         "showlegend": true,
         "type": "scatter",
         "x": [
          70
         ],
         "xaxis": "x",
         "y": [
          0.01897817320893828
         ],
         "yaxis": "y"
        },
        {
         "hovertemplate": "Property=Mayfair<br>Rent Doubled=%{x}<br>Probability=%{y}<br>Rent Doubled * Probability=%{marker.size}<extra></extra>",
         "legendgroup": "Mayfair",
         "marker": {
          "color": "darkblue",
          "size": [
           2.2799753516178205
          ],
          "sizemode": "area",
          "sizeref": 0.005699938379044551,
          "symbol": "circle"
         },
         "mode": "markers",
         "name": "Mayfair",
         "orientation": "v",
         "showlegend": true,
         "type": "scatter",
         "x": [
          100
         ],
         "xaxis": "x",
         "y": [
          0.022799753516178203
         ],
         "yaxis": "y"
        }
       ],
       "layout": {
        "legend": {
         "itemsizing": "constant",
         "title": {
          "text": "Property"
         },
         "tracegroupgap": 0
        },
        "showlegend": false,
        "template": {
         "data": {
          "bar": [
           {
            "error_x": {
             "color": "#2a3f5f"
            },
            "error_y": {
             "color": "#2a3f5f"
            },
            "marker": {
             "line": {
              "color": "#E5ECF6",
              "width": 0.5
             },
             "pattern": {
              "fillmode": "overlay",
              "size": 10,
              "solidity": 0.2
             }
            },
            "type": "bar"
           }
          ],
          "barpolar": [
           {
            "marker": {
             "line": {
              "color": "#E5ECF6",
              "width": 0.5
             },
             "pattern": {
              "fillmode": "overlay",
              "size": 10,
              "solidity": 0.2
             }
            },
            "type": "barpolar"
           }
          ],
          "carpet": [
           {
            "aaxis": {
             "endlinecolor": "#2a3f5f",
             "gridcolor": "white",
             "linecolor": "white",
             "minorgridcolor": "white",
             "startlinecolor": "#2a3f5f"
            },
            "baxis": {
             "endlinecolor": "#2a3f5f",
             "gridcolor": "white",
             "linecolor": "white",
             "minorgridcolor": "white",
             "startlinecolor": "#2a3f5f"
            },
            "type": "carpet"
           }
          ],
          "choropleth": [
           {
            "colorbar": {
             "outlinewidth": 0,
             "ticks": ""
            },
            "type": "choropleth"
           }
          ],
          "contour": [
           {
            "colorbar": {
             "outlinewidth": 0,
             "ticks": ""
            },
            "colorscale": [
             [
              0,
              "#0d0887"
             ],
             [
              0.1111111111111111,
              "#46039f"
             ],
             [
              0.2222222222222222,
              "#7201a8"
             ],
             [
              0.3333333333333333,
              "#9c179e"
             ],
             [
              0.4444444444444444,
              "#bd3786"
             ],
             [
              0.5555555555555556,
              "#d8576b"
             ],
             [
              0.6666666666666666,
              "#ed7953"
             ],
             [
              0.7777777777777778,
              "#fb9f3a"
             ],
             [
              0.8888888888888888,
              "#fdca26"
             ],
             [
              1,
              "#f0f921"
             ]
            ],
            "type": "contour"
           }
          ],
          "contourcarpet": [
           {
            "colorbar": {
             "outlinewidth": 0,
             "ticks": ""
            },
            "type": "contourcarpet"
           }
          ],
          "heatmap": [
           {
            "colorbar": {
             "outlinewidth": 0,
             "ticks": ""
            },
            "colorscale": [
             [
              0,
              "#0d0887"
             ],
             [
              0.1111111111111111,
              "#46039f"
             ],
             [
              0.2222222222222222,
              "#7201a8"
             ],
             [
              0.3333333333333333,
              "#9c179e"
             ],
             [
              0.4444444444444444,
              "#bd3786"
             ],
             [
              0.5555555555555556,
              "#d8576b"
             ],
             [
              0.6666666666666666,
              "#ed7953"
             ],
             [
              0.7777777777777778,
              "#fb9f3a"
             ],
             [
              0.8888888888888888,
              "#fdca26"
             ],
             [
              1,
              "#f0f921"
             ]
            ],
            "type": "heatmap"
           }
          ],
          "heatmapgl": [
           {
            "colorbar": {
             "outlinewidth": 0,
             "ticks": ""
            },
            "colorscale": [
             [
              0,
              "#0d0887"
             ],
             [
              0.1111111111111111,
              "#46039f"
             ],
             [
              0.2222222222222222,
              "#7201a8"
             ],
             [
              0.3333333333333333,
              "#9c179e"
             ],
             [
              0.4444444444444444,
              "#bd3786"
             ],
             [
              0.5555555555555556,
              "#d8576b"
             ],
             [
              0.6666666666666666,
              "#ed7953"
             ],
             [
              0.7777777777777778,
              "#fb9f3a"
             ],
             [
              0.8888888888888888,
              "#fdca26"
             ],
             [
              1,
              "#f0f921"
             ]
            ],
            "type": "heatmapgl"
           }
          ],
          "histogram": [
           {
            "marker": {
             "pattern": {
              "fillmode": "overlay",
              "size": 10,
              "solidity": 0.2
             }
            },
            "type": "histogram"
           }
          ],
          "histogram2d": [
           {
            "colorbar": {
             "outlinewidth": 0,
             "ticks": ""
            },
            "colorscale": [
             [
              0,
              "#0d0887"
             ],
             [
              0.1111111111111111,
              "#46039f"
             ],
             [
              0.2222222222222222,
              "#7201a8"
             ],
             [
              0.3333333333333333,
              "#9c179e"
             ],
             [
              0.4444444444444444,
              "#bd3786"
             ],
             [
              0.5555555555555556,
              "#d8576b"
             ],
             [
              0.6666666666666666,
              "#ed7953"
             ],
             [
              0.7777777777777778,
              "#fb9f3a"
             ],
             [
              0.8888888888888888,
              "#fdca26"
             ],
             [
              1,
              "#f0f921"
             ]
            ],
            "type": "histogram2d"
           }
          ],
          "histogram2dcontour": [
           {
            "colorbar": {
             "outlinewidth": 0,
             "ticks": ""
            },
            "colorscale": [
             [
              0,
              "#0d0887"
             ],
             [
              0.1111111111111111,
              "#46039f"
             ],
             [
              0.2222222222222222,
              "#7201a8"
             ],
             [
              0.3333333333333333,
              "#9c179e"
             ],
             [
              0.4444444444444444,
              "#bd3786"
             ],
             [
              0.5555555555555556,
              "#d8576b"
             ],
             [
              0.6666666666666666,
              "#ed7953"
             ],
             [
              0.7777777777777778,
              "#fb9f3a"
             ],
             [
              0.8888888888888888,
              "#fdca26"
             ],
             [
              1,
              "#f0f921"
             ]
            ],
            "type": "histogram2dcontour"
           }
          ],
          "mesh3d": [
           {
            "colorbar": {
             "outlinewidth": 0,
             "ticks": ""
            },
            "type": "mesh3d"
           }
          ],
          "parcoords": [
           {
            "line": {
             "colorbar": {
              "outlinewidth": 0,
              "ticks": ""
             }
            },
            "type": "parcoords"
           }
          ],
          "pie": [
           {
            "automargin": true,
            "type": "pie"
           }
          ],
          "scatter": [
           {
            "fillpattern": {
             "fillmode": "overlay",
             "size": 10,
             "solidity": 0.2
            },
            "type": "scatter"
           }
          ],
          "scatter3d": [
           {
            "line": {
             "colorbar": {
              "outlinewidth": 0,
              "ticks": ""
             }
            },
            "marker": {
             "colorbar": {
              "outlinewidth": 0,
              "ticks": ""
             }
            },
            "type": "scatter3d"
           }
          ],
          "scattercarpet": [
           {
            "marker": {
             "colorbar": {
              "outlinewidth": 0,
              "ticks": ""
             }
            },
            "type": "scattercarpet"
           }
          ],
          "scattergeo": [
           {
            "marker": {
             "colorbar": {
              "outlinewidth": 0,
              "ticks": ""
             }
            },
            "type": "scattergeo"
           }
          ],
          "scattergl": [
           {
            "marker": {
             "colorbar": {
              "outlinewidth": 0,
              "ticks": ""
             }
            },
            "type": "scattergl"
           }
          ],
          "scattermapbox": [
           {
            "marker": {
             "colorbar": {
              "outlinewidth": 0,
              "ticks": ""
             }
            },
            "type": "scattermapbox"
           }
          ],
          "scatterpolar": [
           {
            "marker": {
             "colorbar": {
              "outlinewidth": 0,
              "ticks": ""
             }
            },
            "type": "scatterpolar"
           }
          ],
          "scatterpolargl": [
           {
            "marker": {
             "colorbar": {
              "outlinewidth": 0,
              "ticks": ""
             }
            },
            "type": "scatterpolargl"
           }
          ],
          "scatterternary": [
           {
            "marker": {
             "colorbar": {
              "outlinewidth": 0,
              "ticks": ""
             }
            },
            "type": "scatterternary"
           }
          ],
          "surface": [
           {
            "colorbar": {
             "outlinewidth": 0,
             "ticks": ""
            },
            "colorscale": [
             [
              0,
              "#0d0887"
             ],
             [
              0.1111111111111111,
              "#46039f"
             ],
             [
              0.2222222222222222,
              "#7201a8"
             ],
             [
              0.3333333333333333,
              "#9c179e"
             ],
             [
              0.4444444444444444,
              "#bd3786"
             ],
             [
              0.5555555555555556,
              "#d8576b"
             ],
             [
              0.6666666666666666,
              "#ed7953"
             ],
             [
              0.7777777777777778,
              "#fb9f3a"
             ],
             [
              0.8888888888888888,
              "#fdca26"
             ],
             [
              1,
              "#f0f921"
             ]
            ],
            "type": "surface"
           }
          ],
          "table": [
           {
            "cells": {
             "fill": {
              "color": "#EBF0F8"
             },
             "line": {
              "color": "white"
             }
            },
            "header": {
             "fill": {
              "color": "#C8D4E3"
             },
             "line": {
              "color": "white"
             }
            },
            "type": "table"
           }
          ]
         },
         "layout": {
          "annotationdefaults": {
           "arrowcolor": "#2a3f5f",
           "arrowhead": 0,
           "arrowwidth": 1
          },
          "autotypenumbers": "strict",
          "coloraxis": {
           "colorbar": {
            "outlinewidth": 0,
            "ticks": ""
           }
          },
          "colorscale": {
           "diverging": [
            [
             0,
             "#8e0152"
            ],
            [
             0.1,
             "#c51b7d"
            ],
            [
             0.2,
             "#de77ae"
            ],
            [
             0.3,
             "#f1b6da"
            ],
            [
             0.4,
             "#fde0ef"
            ],
            [
             0.5,
             "#f7f7f7"
            ],
            [
             0.6,
             "#e6f5d0"
            ],
            [
             0.7,
             "#b8e186"
            ],
            [
             0.8,
             "#7fbc41"
            ],
            [
             0.9,
             "#4d9221"
            ],
            [
             1,
             "#276419"
            ]
           ],
           "sequential": [
            [
             0,
             "#0d0887"
            ],
            [
             0.1111111111111111,
             "#46039f"
            ],
            [
             0.2222222222222222,
             "#7201a8"
            ],
            [
             0.3333333333333333,
             "#9c179e"
            ],
            [
             0.4444444444444444,
             "#bd3786"
            ],
            [
             0.5555555555555556,
             "#d8576b"
            ],
            [
             0.6666666666666666,
             "#ed7953"
            ],
            [
             0.7777777777777778,
             "#fb9f3a"
            ],
            [
             0.8888888888888888,
             "#fdca26"
            ],
            [
             1,
             "#f0f921"
            ]
           ],
           "sequentialminus": [
            [
             0,
             "#0d0887"
            ],
            [
             0.1111111111111111,
             "#46039f"
            ],
            [
             0.2222222222222222,
             "#7201a8"
            ],
            [
             0.3333333333333333,
             "#9c179e"
            ],
            [
             0.4444444444444444,
             "#bd3786"
            ],
            [
             0.5555555555555556,
             "#d8576b"
            ],
            [
             0.6666666666666666,
             "#ed7953"
            ],
            [
             0.7777777777777778,
             "#fb9f3a"
            ],
            [
             0.8888888888888888,
             "#fdca26"
            ],
            [
             1,
             "#f0f921"
            ]
           ]
          },
          "colorway": [
           "#636efa",
           "#EF553B",
           "#00cc96",
           "#ab63fa",
           "#FFA15A",
           "#19d3f3",
           "#FF6692",
           "#B6E880",
           "#FF97FF",
           "#FECB52"
          ],
          "font": {
           "color": "#2a3f5f"
          },
          "geo": {
           "bgcolor": "white",
           "lakecolor": "white",
           "landcolor": "#E5ECF6",
           "showlakes": true,
           "showland": true,
           "subunitcolor": "white"
          },
          "hoverlabel": {
           "align": "left"
          },
          "hovermode": "closest",
          "mapbox": {
           "style": "light"
          },
          "paper_bgcolor": "white",
          "plot_bgcolor": "#E5ECF6",
          "polar": {
           "angularaxis": {
            "gridcolor": "white",
            "linecolor": "white",
            "ticks": ""
           },
           "bgcolor": "#E5ECF6",
           "radialaxis": {
            "gridcolor": "white",
            "linecolor": "white",
            "ticks": ""
           }
          },
          "scene": {
           "xaxis": {
            "backgroundcolor": "#E5ECF6",
            "gridcolor": "white",
            "gridwidth": 2,
            "linecolor": "white",
            "showbackground": true,
            "ticks": "",
            "zerolinecolor": "white"
           },
           "yaxis": {
            "backgroundcolor": "#E5ECF6",
            "gridcolor": "white",
            "gridwidth": 2,
            "linecolor": "white",
            "showbackground": true,
            "ticks": "",
            "zerolinecolor": "white"
           },
           "zaxis": {
            "backgroundcolor": "#E5ECF6",
            "gridcolor": "white",
            "gridwidth": 2,
            "linecolor": "white",
            "showbackground": true,
            "ticks": "",
            "zerolinecolor": "white"
           }
          },
          "shapedefaults": {
           "line": {
            "color": "#2a3f5f"
           }
          },
          "ternary": {
           "aaxis": {
            "gridcolor": "white",
            "linecolor": "white",
            "ticks": ""
           },
           "baxis": {
            "gridcolor": "white",
            "linecolor": "white",
            "ticks": ""
           },
           "bgcolor": "#E5ECF6",
           "caxis": {
            "gridcolor": "white",
            "linecolor": "white",
            "ticks": ""
           }
          },
          "title": {
           "x": 0.05
          },
          "xaxis": {
           "automargin": true,
           "gridcolor": "white",
           "linecolor": "white",
           "ticks": "",
           "title": {
            "standoff": 15
           },
           "zerolinecolor": "white",
           "zerolinewidth": 2
          },
          "yaxis": {
           "automargin": true,
           "gridcolor": "white",
           "linecolor": "white",
           "ticks": "",
           "title": {
            "standoff": 15
           },
           "zerolinecolor": "white",
           "zerolinewidth": 2
          }
         }
        },
        "title": {
         "text": "Monopoly Board Street Probabilities Against Rent Doubled"
        },
        "xaxis": {
         "anchor": "y",
         "domain": [
          0,
          1
         ],
         "title": {
          "text": "Rent Doubled"
         }
        },
        "yaxis": {
         "anchor": "x",
         "domain": [
          0,
          1
         ],
         "range": [
          0.018,
          0.03
         ],
         "title": {
          "text": "Probability"
         }
        }
       }
      }
     },
     "metadata": {},
     "output_type": "display_data"
    },
    {
     "data": {
      "application/vnd.plotly.v1+json": {
       "config": {
        "plotlyServerURL": "https://plot.ly"
       },
       "data": [
        {
         "hovertemplate": "Property=Old Kent Road<br>Rent 1 House=%{x}<br>Probability=%{y}<br>Rent 1 House * Probability=%{marker.size}<extra></extra>",
         "legendgroup": "Old Kent Road",
         "marker": {
          "color": "brown",
          "size": [
           0.18405206430200755
          ],
          "sizemode": "area",
          "sizeref": 0.011399876758089102,
          "symbol": "circle"
         },
         "mode": "markers",
         "name": "Old Kent Road",
         "orientation": "v",
         "showlegend": true,
         "type": "scatter",
         "x": [
          10
         ],
         "xaxis": "x",
         "y": [
          0.018405206430200754
         ],
         "yaxis": "y"
        },
        {
         "hovertemplate": "Property=Whitechapel Road<br>Rent 1 House=%{x}<br>Probability=%{y}<br>Rent 1 House * Probability=%{marker.size}<extra></extra>",
         "legendgroup": "Whitechapel Road",
         "marker": {
          "color": "brown",
          "size": [
           0.4051307553431855
          ],
          "sizemode": "area",
          "sizeref": 0.011399876758089102,
          "symbol": "circle"
         },
         "mode": "markers",
         "name": "Whitechapel Road",
         "orientation": "v",
         "showlegend": true,
         "type": "scatter",
         "x": [
          20
         ],
         "xaxis": "x",
         "y": [
          0.020256537767159275
         ],
         "yaxis": "y"
        },
        {
         "hovertemplate": "Property=The Angel, Islington<br>Rent 1 House=%{x}<br>Probability=%{y}<br>Rent 1 House * Probability=%{marker.size}<extra></extra>",
         "legendgroup": "The Angel, Islington",
         "marker": {
          "color": "lightblue",
          "size": [
           0.6995600047567053
          ],
          "sizemode": "area",
          "sizeref": 0.011399876758089102,
          "symbol": "circle"
         },
         "mode": "markers",
         "name": "The Angel, Islington",
         "orientation": "v",
         "showlegend": true,
         "type": "scatter",
         "x": [
          30
         ],
         "xaxis": "x",
         "y": [
          0.02331866682522351
         ],
         "yaxis": "y"
        },
        {
         "hovertemplate": "Property=Euston Road<br>Rent 1 House=%{x}<br>Probability=%{y}<br>Rent 1 House * Probability=%{marker.size}<extra></extra>",
         "legendgroup": "Euston Road",
         "marker": {
          "color": "lightblue",
          "size": [
           0.7252624295953557
          ],
          "sizemode": "area",
          "sizeref": 0.011399876758089102,
          "symbol": "circle"
         },
         "mode": "markers",
         "name": "Euston Road",
         "orientation": "v",
         "showlegend": true,
         "type": "scatter",
         "x": [
          30
         ],
         "xaxis": "x",
         "y": [
          0.02417541431984519
         ],
         "yaxis": "y"
        },
        {
         "hovertemplate": "Property=Pentonville Road<br>Rent 1 House=%{x}<br>Probability=%{y}<br>Rent 1 House * Probability=%{marker.size}<extra></extra>",
         "legendgroup": "Pentonville Road",
         "marker": {
          "color": "lightblue",
          "size": [
           0.943449260008
          ],
          "sizemode": "area",
          "sizeref": 0.011399876758089102,
          "symbol": "circle"
         },
         "mode": "markers",
         "name": "Pentonville Road",
         "orientation": "v",
         "showlegend": true,
         "type": "scatter",
         "x": [
          40
         ],
         "xaxis": "x",
         "y": [
          0.0235862315002
         ],
         "yaxis": "y"
        },
        {
         "hovertemplate": "Property=Pall Mall<br>Rent 1 House=%{x}<br>Probability=%{y}<br>Rent 1 House * Probability=%{marker.size}<extra></extra>",
         "legendgroup": "Pall Mall",
         "marker": {
          "color": "pink",
          "size": [
           1.334715300375131
          ],
          "sizemode": "area",
          "sizeref": 0.011399876758089102,
          "symbol": "circle"
         },
         "mode": "markers",
         "name": "Pall Mall",
         "orientation": "v",
         "showlegend": true,
         "type": "scatter",
         "x": [
          50
         ],
         "xaxis": "x",
         "y": [
          0.02669430600750262
         ],
         "yaxis": "y"
        },
        {
         "hovertemplate": "Property=Whitehall<br>Rent 1 House=%{x}<br>Probability=%{y}<br>Rent 1 House * Probability=%{marker.size}<extra></extra>",
         "legendgroup": "Whitehall",
         "marker": {
          "color": "pink",
          "size": [
           1.13012291759008
          ],
          "sizemode": "area",
          "sizeref": 0.011399876758089102,
          "symbol": "circle"
         },
         "mode": "markers",
         "name": "Whitehall",
         "orientation": "v",
         "showlegend": true,
         "type": "scatter",
         "x": [
          50
         ],
         "xaxis": "x",
         "y": [
          0.0226024583518016
         ],
         "yaxis": "y"
        },
        {
         "hovertemplate": "Property=Northumberland Avenue<br>Rent 1 House=%{x}<br>Probability=%{y}<br>Rent 1 House * Probability=%{marker.size}<extra></extra>",
         "legendgroup": "Northumberland Avenue",
         "marker": {
          "color": "pink",
          "size": [
           1.4274980811018259
          ],
          "sizemode": "area",
          "sizeref": 0.011399876758089102,
          "symbol": "circle"
         },
         "mode": "markers",
         "name": "Northumberland Avenue",
         "orientation": "v",
         "showlegend": true,
         "type": "scatter",
         "x": [
          60
         ],
         "xaxis": "x",
         "y": [
          0.02379163468503043
         ],
         "yaxis": "y"
        },
        {
         "hovertemplate": "Property=Bow Street<br>Rent 1 House=%{x}<br>Probability=%{y}<br>Rent 1 House * Probability=%{marker.size}<extra></extra>",
         "legendgroup": "Bow Street",
         "marker": {
          "color": "orange",
          "size": [
           1.8277369974378654
          ],
          "sizemode": "area",
          "sizeref": 0.011399876758089102,
          "symbol": "circle"
         },
         "mode": "markers",
         "name": "Bow Street",
         "orientation": "v",
         "showlegend": true,
         "type": "scatter",
         "x": [
          70
         ],
         "xaxis": "x",
         "y": [
          0.02611052853482665
         ],
         "yaxis": "y"
        },
        {
         "hovertemplate": "Property=Marlborough Street<br>Rent 1 House=%{x}<br>Probability=%{y}<br>Rent 1 House * Probability=%{marker.size}<extra></extra>",
         "legendgroup": "Marlborough Street",
         "marker": {
          "color": "orange",
          "size": [
           1.9054929135901235
          ],
          "sizemode": "area",
          "sizeref": 0.011399876758089102,
          "symbol": "circle"
         },
         "mode": "markers",
         "name": "Marlborough Street",
         "orientation": "v",
         "showlegend": true,
         "type": "scatter",
         "x": [
          70
         ],
         "xaxis": "x",
         "y": [
          0.027221327337001763
         ],
         "yaxis": "y"
        },
        {
         "hovertemplate": "Property=Vine Street<br>Rent 1 House=%{x}<br>Probability=%{y}<br>Rent 1 House * Probability=%{marker.size}<extra></extra>",
         "legendgroup": "Vine Street",
         "marker": {
          "color": "orange",
          "size": [
           2.273921363012292
          ],
          "sizemode": "area",
          "sizeref": 0.011399876758089102,
          "symbol": "circle"
         },
         "mode": "markers",
         "name": "Vine Street",
         "orientation": "v",
         "showlegend": true,
         "type": "scatter",
         "x": [
          80
         ],
         "xaxis": "x",
         "y": [
          0.028424017037653647
         ],
         "yaxis": "y"
        },
        {
         "hovertemplate": "Property=Strand<br>Rent 1 House=%{x}<br>Probability=%{y}<br>Rent 1 House * Probability=%{marker.size}<extra></extra>",
         "legendgroup": "Strand",
         "marker": {
          "color": "red",
          "size": [
           2.299110279888866
          ],
          "sizemode": "area",
          "sizeref": 0.011399876758089102,
          "symbol": "circle"
         },
         "mode": "markers",
         "name": "Strand",
         "orientation": "v",
         "showlegend": true,
         "type": "scatter",
         "x": [
          90
         ],
         "xaxis": "x",
         "y": [
          0.025545669776542955
         ],
         "yaxis": "y"
        },
        {
         "hovertemplate": "Property=Fleet Street<br>Rent 1 House=%{x}<br>Probability=%{y}<br>Rent 1 House * Probability=%{marker.size}<extra></extra>",
         "legendgroup": "Fleet Street",
         "marker": {
          "color": "red",
          "size": [
           2.251435119620328
          ],
          "sizemode": "area",
          "sizeref": 0.011399876758089102,
          "symbol": "circle"
         },
         "mode": "markers",
         "name": "Fleet Street",
         "orientation": "v",
         "showlegend": true,
         "type": "scatter",
         "x": [
          90
         ],
         "xaxis": "x",
         "y": [
          0.025015945773559204
         ],
         "yaxis": "y"
        },
        {
         "hovertemplate": "Property=Trafalgar Square<br>Rent 1 House=%{x}<br>Probability=%{y}<br>Rent 1 House * Probability=%{marker.size}<extra></extra>",
         "legendgroup": "Trafalgar Square",
         "marker": {
          "color": "red",
          "size": [
           2.9080766694414115
          ],
          "sizemode": "area",
          "sizeref": 0.011399876758089102,
          "symbol": "circle"
         },
         "mode": "markers",
         "name": "Trafalgar Square",
         "orientation": "v",
         "showlegend": true,
         "type": "scatter",
         "x": [
          100
         ],
         "xaxis": "x",
         "y": [
          0.029080766694414114
         ],
         "yaxis": "y"
        },
        {
         "hovertemplate": "Property=Leicester Square<br>Rent 1 House=%{x}<br>Probability=%{y}<br>Rent 1 House * Probability=%{marker.size}<extra></extra>",
         "legendgroup": "Leicester Square",
         "marker": {
          "color": "yellow",
          "size": [
           2.7029978054291304
          ],
          "sizemode": "area",
          "sizeref": 0.011399876758089102,
          "symbol": "circle"
         },
         "mode": "markers",
         "name": "Leicester Square",
         "orientation": "v",
         "showlegend": true,
         "type": "scatter",
         "x": [
          110
         ],
         "xaxis": "x",
         "y": [
          0.024572707322083005
         ],
         "yaxis": "y"
        },
        {
         "hovertemplate": "Property=Coventry Street<br>Rent 1 House=%{x}<br>Probability=%{y}<br>Rent 1 House * Probability=%{marker.size}<extra></extra>",
         "legendgroup": "Coventry Street",
         "marker": {
          "color": "yellow",
          "size": [
           2.659295575182971
          ],
          "sizemode": "area",
          "sizeref": 0.011399876758089102,
          "symbol": "circle"
         },
         "mode": "markers",
         "name": "Coventry Street",
         "orientation": "v",
         "showlegend": true,
         "type": "scatter",
         "x": [
          110
         ],
         "xaxis": "x",
         "y": [
          0.02417541431984519
         ],
         "yaxis": "y"
        },
        {
         "hovertemplate": "Property=Piccadilly<br>Rent 1 House=%{x}<br>Probability=%{y}<br>Rent 1 House * Probability=%{marker.size}<extra></extra>",
         "legendgroup": "Piccadilly",
         "marker": {
          "color": "yellow",
          "size": [
           2.7833212613917686
          ],
          "sizemode": "area",
          "sizeref": 0.011399876758089102,
          "symbol": "circle"
         },
         "mode": "markers",
         "name": "Piccadilly",
         "orientation": "v",
         "showlegend": true,
         "type": "scatter",
         "x": [
          120
         ],
         "xaxis": "x",
         "y": [
          0.023194343844931405
         ],
         "yaxis": "y"
        },
        {
         "hovertemplate": "Property=Regent Street<br>Rent 1 House=%{x}<br>Probability=%{y}<br>Rent 1 House * Probability=%{marker.size}<extra></extra>",
         "legendgroup": "Regent Street",
         "marker": {
          "color": "green",
          "size": [
           3.1473713797688676
          ],
          "sizemode": "area",
          "sizeref": 0.011399876758089102,
          "symbol": "circle"
         },
         "mode": "markers",
         "name": "Regent Street",
         "orientation": "v",
         "showlegend": true,
         "type": "scatter",
         "x": [
          130
         ],
         "xaxis": "x",
         "y": [
          0.024210549075145135
         ],
         "yaxis": "y"
        },
        {
         "hovertemplate": "Property=Oxford Street<br>Rent 1 House=%{x}<br>Probability=%{y}<br>Rent 1 House * Probability=%{marker.size}<extra></extra>",
         "legendgroup": "Oxford Street",
         "marker": {
          "color": "green",
          "size": [
           3.050750802694025
          ],
          "sizemode": "area",
          "sizeref": 0.011399876758089102,
          "symbol": "circle"
         },
         "mode": "markers",
         "name": "Oxford Street",
         "orientation": "v",
         "showlegend": true,
         "type": "scatter",
         "x": [
          130
         ],
         "xaxis": "x",
         "y": [
          0.023467313866877115
         ],
         "yaxis": "y"
        },
        {
         "hovertemplate": "Property=Bond Street<br>Rent 1 House=%{x}<br>Probability=%{y}<br>Rent 1 House * Probability=%{marker.size}<extra></extra>",
         "legendgroup": "Bond Street",
         "marker": {
          "color": "green",
          "size": [
           3.3729365087944996
          ],
          "sizemode": "area",
          "sizeref": 0.011399876758089102,
          "symbol": "circle"
         },
         "mode": "markers",
         "name": "Bond Street",
         "orientation": "v",
         "showlegend": true,
         "type": "scatter",
         "x": [
          150
         ],
         "xaxis": "x",
         "y": [
          0.02248624339196333
         ],
         "yaxis": "y"
        },
        {
         "hovertemplate": "Property=Park Lane<br>Rent 1 House=%{x}<br>Probability=%{y}<br>Rent 1 House * Probability=%{marker.size}<extra></extra>",
         "legendgroup": "Park Lane",
         "marker": {
          "color": "darkblue",
          "size": [
           3.3211803115641994
          ],
          "sizemode": "area",
          "sizeref": 0.011399876758089102,
          "symbol": "circle"
         },
         "mode": "markers",
         "name": "Park Lane",
         "orientation": "v",
         "showlegend": true,
         "type": "scatter",
         "x": [
          175
         ],
         "xaxis": "x",
         "y": [
          0.01897817320893828
         ],
         "yaxis": "y"
        },
        {
         "hovertemplate": "Property=Mayfair<br>Rent 1 House=%{x}<br>Probability=%{y}<br>Rent 1 House * Probability=%{marker.size}<extra></extra>",
         "legendgroup": "Mayfair",
         "marker": {
          "color": "darkblue",
          "size": [
           4.559950703235641
          ],
          "sizemode": "area",
          "sizeref": 0.011399876758089102,
          "symbol": "circle"
         },
         "mode": "markers",
         "name": "Mayfair",
         "orientation": "v",
         "showlegend": true,
         "type": "scatter",
         "x": [
          200
         ],
         "xaxis": "x",
         "y": [
          0.022799753516178203
         ],
         "yaxis": "y"
        }
       ],
       "layout": {
        "legend": {
         "itemsizing": "constant",
         "title": {
          "text": "Property"
         },
         "tracegroupgap": 0
        },
        "showlegend": false,
        "template": {
         "data": {
          "bar": [
           {
            "error_x": {
             "color": "#2a3f5f"
            },
            "error_y": {
             "color": "#2a3f5f"
            },
            "marker": {
             "line": {
              "color": "#E5ECF6",
              "width": 0.5
             },
             "pattern": {
              "fillmode": "overlay",
              "size": 10,
              "solidity": 0.2
             }
            },
            "type": "bar"
           }
          ],
          "barpolar": [
           {
            "marker": {
             "line": {
              "color": "#E5ECF6",
              "width": 0.5
             },
             "pattern": {
              "fillmode": "overlay",
              "size": 10,
              "solidity": 0.2
             }
            },
            "type": "barpolar"
           }
          ],
          "carpet": [
           {
            "aaxis": {
             "endlinecolor": "#2a3f5f",
             "gridcolor": "white",
             "linecolor": "white",
             "minorgridcolor": "white",
             "startlinecolor": "#2a3f5f"
            },
            "baxis": {
             "endlinecolor": "#2a3f5f",
             "gridcolor": "white",
             "linecolor": "white",
             "minorgridcolor": "white",
             "startlinecolor": "#2a3f5f"
            },
            "type": "carpet"
           }
          ],
          "choropleth": [
           {
            "colorbar": {
             "outlinewidth": 0,
             "ticks": ""
            },
            "type": "choropleth"
           }
          ],
          "contour": [
           {
            "colorbar": {
             "outlinewidth": 0,
             "ticks": ""
            },
            "colorscale": [
             [
              0,
              "#0d0887"
             ],
             [
              0.1111111111111111,
              "#46039f"
             ],
             [
              0.2222222222222222,
              "#7201a8"
             ],
             [
              0.3333333333333333,
              "#9c179e"
             ],
             [
              0.4444444444444444,
              "#bd3786"
             ],
             [
              0.5555555555555556,
              "#d8576b"
             ],
             [
              0.6666666666666666,
              "#ed7953"
             ],
             [
              0.7777777777777778,
              "#fb9f3a"
             ],
             [
              0.8888888888888888,
              "#fdca26"
             ],
             [
              1,
              "#f0f921"
             ]
            ],
            "type": "contour"
           }
          ],
          "contourcarpet": [
           {
            "colorbar": {
             "outlinewidth": 0,
             "ticks": ""
            },
            "type": "contourcarpet"
           }
          ],
          "heatmap": [
           {
            "colorbar": {
             "outlinewidth": 0,
             "ticks": ""
            },
            "colorscale": [
             [
              0,
              "#0d0887"
             ],
             [
              0.1111111111111111,
              "#46039f"
             ],
             [
              0.2222222222222222,
              "#7201a8"
             ],
             [
              0.3333333333333333,
              "#9c179e"
             ],
             [
              0.4444444444444444,
              "#bd3786"
             ],
             [
              0.5555555555555556,
              "#d8576b"
             ],
             [
              0.6666666666666666,
              "#ed7953"
             ],
             [
              0.7777777777777778,
              "#fb9f3a"
             ],
             [
              0.8888888888888888,
              "#fdca26"
             ],
             [
              1,
              "#f0f921"
             ]
            ],
            "type": "heatmap"
           }
          ],
          "heatmapgl": [
           {
            "colorbar": {
             "outlinewidth": 0,
             "ticks": ""
            },
            "colorscale": [
             [
              0,
              "#0d0887"
             ],
             [
              0.1111111111111111,
              "#46039f"
             ],
             [
              0.2222222222222222,
              "#7201a8"
             ],
             [
              0.3333333333333333,
              "#9c179e"
             ],
             [
              0.4444444444444444,
              "#bd3786"
             ],
             [
              0.5555555555555556,
              "#d8576b"
             ],
             [
              0.6666666666666666,
              "#ed7953"
             ],
             [
              0.7777777777777778,
              "#fb9f3a"
             ],
             [
              0.8888888888888888,
              "#fdca26"
             ],
             [
              1,
              "#f0f921"
             ]
            ],
            "type": "heatmapgl"
           }
          ],
          "histogram": [
           {
            "marker": {
             "pattern": {
              "fillmode": "overlay",
              "size": 10,
              "solidity": 0.2
             }
            },
            "type": "histogram"
           }
          ],
          "histogram2d": [
           {
            "colorbar": {
             "outlinewidth": 0,
             "ticks": ""
            },
            "colorscale": [
             [
              0,
              "#0d0887"
             ],
             [
              0.1111111111111111,
              "#46039f"
             ],
             [
              0.2222222222222222,
              "#7201a8"
             ],
             [
              0.3333333333333333,
              "#9c179e"
             ],
             [
              0.4444444444444444,
              "#bd3786"
             ],
             [
              0.5555555555555556,
              "#d8576b"
             ],
             [
              0.6666666666666666,
              "#ed7953"
             ],
             [
              0.7777777777777778,
              "#fb9f3a"
             ],
             [
              0.8888888888888888,
              "#fdca26"
             ],
             [
              1,
              "#f0f921"
             ]
            ],
            "type": "histogram2d"
           }
          ],
          "histogram2dcontour": [
           {
            "colorbar": {
             "outlinewidth": 0,
             "ticks": ""
            },
            "colorscale": [
             [
              0,
              "#0d0887"
             ],
             [
              0.1111111111111111,
              "#46039f"
             ],
             [
              0.2222222222222222,
              "#7201a8"
             ],
             [
              0.3333333333333333,
              "#9c179e"
             ],
             [
              0.4444444444444444,
              "#bd3786"
             ],
             [
              0.5555555555555556,
              "#d8576b"
             ],
             [
              0.6666666666666666,
              "#ed7953"
             ],
             [
              0.7777777777777778,
              "#fb9f3a"
             ],
             [
              0.8888888888888888,
              "#fdca26"
             ],
             [
              1,
              "#f0f921"
             ]
            ],
            "type": "histogram2dcontour"
           }
          ],
          "mesh3d": [
           {
            "colorbar": {
             "outlinewidth": 0,
             "ticks": ""
            },
            "type": "mesh3d"
           }
          ],
          "parcoords": [
           {
            "line": {
             "colorbar": {
              "outlinewidth": 0,
              "ticks": ""
             }
            },
            "type": "parcoords"
           }
          ],
          "pie": [
           {
            "automargin": true,
            "type": "pie"
           }
          ],
          "scatter": [
           {
            "fillpattern": {
             "fillmode": "overlay",
             "size": 10,
             "solidity": 0.2
            },
            "type": "scatter"
           }
          ],
          "scatter3d": [
           {
            "line": {
             "colorbar": {
              "outlinewidth": 0,
              "ticks": ""
             }
            },
            "marker": {
             "colorbar": {
              "outlinewidth": 0,
              "ticks": ""
             }
            },
            "type": "scatter3d"
           }
          ],
          "scattercarpet": [
           {
            "marker": {
             "colorbar": {
              "outlinewidth": 0,
              "ticks": ""
             }
            },
            "type": "scattercarpet"
           }
          ],
          "scattergeo": [
           {
            "marker": {
             "colorbar": {
              "outlinewidth": 0,
              "ticks": ""
             }
            },
            "type": "scattergeo"
           }
          ],
          "scattergl": [
           {
            "marker": {
             "colorbar": {
              "outlinewidth": 0,
              "ticks": ""
             }
            },
            "type": "scattergl"
           }
          ],
          "scattermapbox": [
           {
            "marker": {
             "colorbar": {
              "outlinewidth": 0,
              "ticks": ""
             }
            },
            "type": "scattermapbox"
           }
          ],
          "scatterpolar": [
           {
            "marker": {
             "colorbar": {
              "outlinewidth": 0,
              "ticks": ""
             }
            },
            "type": "scatterpolar"
           }
          ],
          "scatterpolargl": [
           {
            "marker": {
             "colorbar": {
              "outlinewidth": 0,
              "ticks": ""
             }
            },
            "type": "scatterpolargl"
           }
          ],
          "scatterternary": [
           {
            "marker": {
             "colorbar": {
              "outlinewidth": 0,
              "ticks": ""
             }
            },
            "type": "scatterternary"
           }
          ],
          "surface": [
           {
            "colorbar": {
             "outlinewidth": 0,
             "ticks": ""
            },
            "colorscale": [
             [
              0,
              "#0d0887"
             ],
             [
              0.1111111111111111,
              "#46039f"
             ],
             [
              0.2222222222222222,
              "#7201a8"
             ],
             [
              0.3333333333333333,
              "#9c179e"
             ],
             [
              0.4444444444444444,
              "#bd3786"
             ],
             [
              0.5555555555555556,
              "#d8576b"
             ],
             [
              0.6666666666666666,
              "#ed7953"
             ],
             [
              0.7777777777777778,
              "#fb9f3a"
             ],
             [
              0.8888888888888888,
              "#fdca26"
             ],
             [
              1,
              "#f0f921"
             ]
            ],
            "type": "surface"
           }
          ],
          "table": [
           {
            "cells": {
             "fill": {
              "color": "#EBF0F8"
             },
             "line": {
              "color": "white"
             }
            },
            "header": {
             "fill": {
              "color": "#C8D4E3"
             },
             "line": {
              "color": "white"
             }
            },
            "type": "table"
           }
          ]
         },
         "layout": {
          "annotationdefaults": {
           "arrowcolor": "#2a3f5f",
           "arrowhead": 0,
           "arrowwidth": 1
          },
          "autotypenumbers": "strict",
          "coloraxis": {
           "colorbar": {
            "outlinewidth": 0,
            "ticks": ""
           }
          },
          "colorscale": {
           "diverging": [
            [
             0,
             "#8e0152"
            ],
            [
             0.1,
             "#c51b7d"
            ],
            [
             0.2,
             "#de77ae"
            ],
            [
             0.3,
             "#f1b6da"
            ],
            [
             0.4,
             "#fde0ef"
            ],
            [
             0.5,
             "#f7f7f7"
            ],
            [
             0.6,
             "#e6f5d0"
            ],
            [
             0.7,
             "#b8e186"
            ],
            [
             0.8,
             "#7fbc41"
            ],
            [
             0.9,
             "#4d9221"
            ],
            [
             1,
             "#276419"
            ]
           ],
           "sequential": [
            [
             0,
             "#0d0887"
            ],
            [
             0.1111111111111111,
             "#46039f"
            ],
            [
             0.2222222222222222,
             "#7201a8"
            ],
            [
             0.3333333333333333,
             "#9c179e"
            ],
            [
             0.4444444444444444,
             "#bd3786"
            ],
            [
             0.5555555555555556,
             "#d8576b"
            ],
            [
             0.6666666666666666,
             "#ed7953"
            ],
            [
             0.7777777777777778,
             "#fb9f3a"
            ],
            [
             0.8888888888888888,
             "#fdca26"
            ],
            [
             1,
             "#f0f921"
            ]
           ],
           "sequentialminus": [
            [
             0,
             "#0d0887"
            ],
            [
             0.1111111111111111,
             "#46039f"
            ],
            [
             0.2222222222222222,
             "#7201a8"
            ],
            [
             0.3333333333333333,
             "#9c179e"
            ],
            [
             0.4444444444444444,
             "#bd3786"
            ],
            [
             0.5555555555555556,
             "#d8576b"
            ],
            [
             0.6666666666666666,
             "#ed7953"
            ],
            [
             0.7777777777777778,
             "#fb9f3a"
            ],
            [
             0.8888888888888888,
             "#fdca26"
            ],
            [
             1,
             "#f0f921"
            ]
           ]
          },
          "colorway": [
           "#636efa",
           "#EF553B",
           "#00cc96",
           "#ab63fa",
           "#FFA15A",
           "#19d3f3",
           "#FF6692",
           "#B6E880",
           "#FF97FF",
           "#FECB52"
          ],
          "font": {
           "color": "#2a3f5f"
          },
          "geo": {
           "bgcolor": "white",
           "lakecolor": "white",
           "landcolor": "#E5ECF6",
           "showlakes": true,
           "showland": true,
           "subunitcolor": "white"
          },
          "hoverlabel": {
           "align": "left"
          },
          "hovermode": "closest",
          "mapbox": {
           "style": "light"
          },
          "paper_bgcolor": "white",
          "plot_bgcolor": "#E5ECF6",
          "polar": {
           "angularaxis": {
            "gridcolor": "white",
            "linecolor": "white",
            "ticks": ""
           },
           "bgcolor": "#E5ECF6",
           "radialaxis": {
            "gridcolor": "white",
            "linecolor": "white",
            "ticks": ""
           }
          },
          "scene": {
           "xaxis": {
            "backgroundcolor": "#E5ECF6",
            "gridcolor": "white",
            "gridwidth": 2,
            "linecolor": "white",
            "showbackground": true,
            "ticks": "",
            "zerolinecolor": "white"
           },
           "yaxis": {
            "backgroundcolor": "#E5ECF6",
            "gridcolor": "white",
            "gridwidth": 2,
            "linecolor": "white",
            "showbackground": true,
            "ticks": "",
            "zerolinecolor": "white"
           },
           "zaxis": {
            "backgroundcolor": "#E5ECF6",
            "gridcolor": "white",
            "gridwidth": 2,
            "linecolor": "white",
            "showbackground": true,
            "ticks": "",
            "zerolinecolor": "white"
           }
          },
          "shapedefaults": {
           "line": {
            "color": "#2a3f5f"
           }
          },
          "ternary": {
           "aaxis": {
            "gridcolor": "white",
            "linecolor": "white",
            "ticks": ""
           },
           "baxis": {
            "gridcolor": "white",
            "linecolor": "white",
            "ticks": ""
           },
           "bgcolor": "#E5ECF6",
           "caxis": {
            "gridcolor": "white",
            "linecolor": "white",
            "ticks": ""
           }
          },
          "title": {
           "x": 0.05
          },
          "xaxis": {
           "automargin": true,
           "gridcolor": "white",
           "linecolor": "white",
           "ticks": "",
           "title": {
            "standoff": 15
           },
           "zerolinecolor": "white",
           "zerolinewidth": 2
          },
          "yaxis": {
           "automargin": true,
           "gridcolor": "white",
           "linecolor": "white",
           "ticks": "",
           "title": {
            "standoff": 15
           },
           "zerolinecolor": "white",
           "zerolinewidth": 2
          }
         }
        },
        "title": {
         "text": "Monopoly Board Street Probabilities Against Rent 1 House"
        },
        "xaxis": {
         "anchor": "y",
         "domain": [
          0,
          1
         ],
         "title": {
          "text": "Rent 1 House"
         }
        },
        "yaxis": {
         "anchor": "x",
         "domain": [
          0,
          1
         ],
         "range": [
          0.018,
          0.03
         ],
         "title": {
          "text": "Probability"
         }
        }
       }
      }
     },
     "metadata": {},
     "output_type": "display_data"
    },
    {
     "data": {
      "application/vnd.plotly.v1+json": {
       "config": {
        "plotlyServerURL": "https://plot.ly"
       },
       "data": [
        {
         "hovertemplate": "Property=Old Kent Road<br>Rent 2 Houses=%{x}<br>Probability=%{y}<br>Rent 2 Houses * Probability=%{marker.size}<extra></extra>",
         "legendgroup": "Old Kent Road",
         "marker": {
          "color": "brown",
          "size": [
           0.5521561929060226
          ],
          "sizemode": "area",
          "sizeref": 0.034199630274267305,
          "symbol": "circle"
         },
         "mode": "markers",
         "name": "Old Kent Road",
         "orientation": "v",
         "showlegend": true,
         "type": "scatter",
         "x": [
          30
         ],
         "xaxis": "x",
         "y": [
          0.018405206430200754
         ],
         "yaxis": "y"
        },
        {
         "hovertemplate": "Property=Whitechapel Road<br>Rent 2 Houses=%{x}<br>Probability=%{y}<br>Rent 2 Houses * Probability=%{marker.size}<extra></extra>",
         "legendgroup": "Whitechapel Road",
         "marker": {
          "color": "brown",
          "size": [
           1.2153922660295564
          ],
          "sizemode": "area",
          "sizeref": 0.034199630274267305,
          "symbol": "circle"
         },
         "mode": "markers",
         "name": "Whitechapel Road",
         "orientation": "v",
         "showlegend": true,
         "type": "scatter",
         "x": [
          60
         ],
         "xaxis": "x",
         "y": [
          0.020256537767159275
         ],
         "yaxis": "y"
        },
        {
         "hovertemplate": "Property=The Angel, Islington<br>Rent 2 Houses=%{x}<br>Probability=%{y}<br>Rent 2 Houses * Probability=%{marker.size}<extra></extra>",
         "legendgroup": "The Angel, Islington",
         "marker": {
          "color": "lightblue",
          "size": [
           2.0986800142701156
          ],
          "sizemode": "area",
          "sizeref": 0.034199630274267305,
          "symbol": "circle"
         },
         "mode": "markers",
         "name": "The Angel, Islington",
         "orientation": "v",
         "showlegend": true,
         "type": "scatter",
         "x": [
          90
         ],
         "xaxis": "x",
         "y": [
          0.02331866682522351
         ],
         "yaxis": "y"
        },
        {
         "hovertemplate": "Property=Euston Road<br>Rent 2 Houses=%{x}<br>Probability=%{y}<br>Rent 2 Houses * Probability=%{marker.size}<extra></extra>",
         "legendgroup": "Euston Road",
         "marker": {
          "color": "lightblue",
          "size": [
           2.175787288786067
          ],
          "sizemode": "area",
          "sizeref": 0.034199630274267305,
          "symbol": "circle"
         },
         "mode": "markers",
         "name": "Euston Road",
         "orientation": "v",
         "showlegend": true,
         "type": "scatter",
         "x": [
          90
         ],
         "xaxis": "x",
         "y": [
          0.02417541431984519
         ],
         "yaxis": "y"
        },
        {
         "hovertemplate": "Property=Pentonville Road<br>Rent 2 Houses=%{x}<br>Probability=%{y}<br>Rent 2 Houses * Probability=%{marker.size}<extra></extra>",
         "legendgroup": "Pentonville Road",
         "marker": {
          "color": "lightblue",
          "size": [
           2.3586231500199997
          ],
          "sizemode": "area",
          "sizeref": 0.034199630274267305,
          "symbol": "circle"
         },
         "mode": "markers",
         "name": "Pentonville Road",
         "orientation": "v",
         "showlegend": true,
         "type": "scatter",
         "x": [
          100
         ],
         "xaxis": "x",
         "y": [
          0.0235862315002
         ],
         "yaxis": "y"
        },
        {
         "hovertemplate": "Property=Pall Mall<br>Rent 2 Houses=%{x}<br>Probability=%{y}<br>Rent 2 Houses * Probability=%{marker.size}<extra></extra>",
         "legendgroup": "Pall Mall",
         "marker": {
          "color": "pink",
          "size": [
           4.004145901125393
          ],
          "sizemode": "area",
          "sizeref": 0.034199630274267305,
          "symbol": "circle"
         },
         "mode": "markers",
         "name": "Pall Mall",
         "orientation": "v",
         "showlegend": true,
         "type": "scatter",
         "x": [
          150
         ],
         "xaxis": "x",
         "y": [
          0.02669430600750262
         ],
         "yaxis": "y"
        },
        {
         "hovertemplate": "Property=Whitehall<br>Rent 2 Houses=%{x}<br>Probability=%{y}<br>Rent 2 Houses * Probability=%{marker.size}<extra></extra>",
         "legendgroup": "Whitehall",
         "marker": {
          "color": "pink",
          "size": [
           3.39036875277024
          ],
          "sizemode": "area",
          "sizeref": 0.034199630274267305,
          "symbol": "circle"
         },
         "mode": "markers",
         "name": "Whitehall",
         "orientation": "v",
         "showlegend": true,
         "type": "scatter",
         "x": [
          150
         ],
         "xaxis": "x",
         "y": [
          0.0226024583518016
         ],
         "yaxis": "y"
        },
        {
         "hovertemplate": "Property=Northumberland Avenue<br>Rent 2 Houses=%{x}<br>Probability=%{y}<br>Rent 2 Houses * Probability=%{marker.size}<extra></extra>",
         "legendgroup": "Northumberland Avenue",
         "marker": {
          "color": "pink",
          "size": [
           4.282494243305478
          ],
          "sizemode": "area",
          "sizeref": 0.034199630274267305,
          "symbol": "circle"
         },
         "mode": "markers",
         "name": "Northumberland Avenue",
         "orientation": "v",
         "showlegend": true,
         "type": "scatter",
         "x": [
          180
         ],
         "xaxis": "x",
         "y": [
          0.02379163468503043
         ],
         "yaxis": "y"
        },
        {
         "hovertemplate": "Property=Bow Street<br>Rent 2 Houses=%{x}<br>Probability=%{y}<br>Rent 2 Houses * Probability=%{marker.size}<extra></extra>",
         "legendgroup": "Bow Street",
         "marker": {
          "color": "orange",
          "size": [
           5.22210570696533
          ],
          "sizemode": "area",
          "sizeref": 0.034199630274267305,
          "symbol": "circle"
         },
         "mode": "markers",
         "name": "Bow Street",
         "orientation": "v",
         "showlegend": true,
         "type": "scatter",
         "x": [
          200
         ],
         "xaxis": "x",
         "y": [
          0.02611052853482665
         ],
         "yaxis": "y"
        },
        {
         "hovertemplate": "Property=Marlborough Street<br>Rent 2 Houses=%{x}<br>Probability=%{y}<br>Rent 2 Houses * Probability=%{marker.size}<extra></extra>",
         "legendgroup": "Marlborough Street",
         "marker": {
          "color": "orange",
          "size": [
           5.444265467400353
          ],
          "sizemode": "area",
          "sizeref": 0.034199630274267305,
          "symbol": "circle"
         },
         "mode": "markers",
         "name": "Marlborough Street",
         "orientation": "v",
         "showlegend": true,
         "type": "scatter",
         "x": [
          200
         ],
         "xaxis": "x",
         "y": [
          0.027221327337001763
         ],
         "yaxis": "y"
        },
        {
         "hovertemplate": "Property=Vine Street<br>Rent 2 Houses=%{x}<br>Probability=%{y}<br>Rent 2 Houses * Probability=%{marker.size}<extra></extra>",
         "legendgroup": "Vine Street",
         "marker": {
          "color": "orange",
          "size": [
           6.253283748283803
          ],
          "sizemode": "area",
          "sizeref": 0.034199630274267305,
          "symbol": "circle"
         },
         "mode": "markers",
         "name": "Vine Street",
         "orientation": "v",
         "showlegend": true,
         "type": "scatter",
         "x": [
          220
         ],
         "xaxis": "x",
         "y": [
          0.028424017037653647
         ],
         "yaxis": "y"
        },
        {
         "hovertemplate": "Property=Strand<br>Rent 2 Houses=%{x}<br>Probability=%{y}<br>Rent 2 Houses * Probability=%{marker.size}<extra></extra>",
         "legendgroup": "Strand",
         "marker": {
          "color": "red",
          "size": [
           6.386417444135739
          ],
          "sizemode": "area",
          "sizeref": 0.034199630274267305,
          "symbol": "circle"
         },
         "mode": "markers",
         "name": "Strand",
         "orientation": "v",
         "showlegend": true,
         "type": "scatter",
         "x": [
          250
         ],
         "xaxis": "x",
         "y": [
          0.025545669776542955
         ],
         "yaxis": "y"
        },
        {
         "hovertemplate": "Property=Fleet Street<br>Rent 2 Houses=%{x}<br>Probability=%{y}<br>Rent 2 Houses * Probability=%{marker.size}<extra></extra>",
         "legendgroup": "Fleet Street",
         "marker": {
          "color": "red",
          "size": [
           6.253986443389801
          ],
          "sizemode": "area",
          "sizeref": 0.034199630274267305,
          "symbol": "circle"
         },
         "mode": "markers",
         "name": "Fleet Street",
         "orientation": "v",
         "showlegend": true,
         "type": "scatter",
         "x": [
          250
         ],
         "xaxis": "x",
         "y": [
          0.025015945773559204
         ],
         "yaxis": "y"
        },
        {
         "hovertemplate": "Property=Trafalgar Square<br>Rent 2 Houses=%{x}<br>Probability=%{y}<br>Rent 2 Houses * Probability=%{marker.size}<extra></extra>",
         "legendgroup": "Trafalgar Square",
         "marker": {
          "color": "red",
          "size": [
           8.724230008324234
          ],
          "sizemode": "area",
          "sizeref": 0.034199630274267305,
          "symbol": "circle"
         },
         "mode": "markers",
         "name": "Trafalgar Square",
         "orientation": "v",
         "showlegend": true,
         "type": "scatter",
         "x": [
          300
         ],
         "xaxis": "x",
         "y": [
          0.029080766694414114
         ],
         "yaxis": "y"
        },
        {
         "hovertemplate": "Property=Leicester Square<br>Rent 2 Houses=%{x}<br>Probability=%{y}<br>Rent 2 Houses * Probability=%{marker.size}<extra></extra>",
         "legendgroup": "Leicester Square",
         "marker": {
          "color": "yellow",
          "size": [
           8.108993416287392
          ],
          "sizemode": "area",
          "sizeref": 0.034199630274267305,
          "symbol": "circle"
         },
         "mode": "markers",
         "name": "Leicester Square",
         "orientation": "v",
         "showlegend": true,
         "type": "scatter",
         "x": [
          330
         ],
         "xaxis": "x",
         "y": [
          0.024572707322083005
         ],
         "yaxis": "y"
        },
        {
         "hovertemplate": "Property=Coventry Street<br>Rent 2 Houses=%{x}<br>Probability=%{y}<br>Rent 2 Houses * Probability=%{marker.size}<extra></extra>",
         "legendgroup": "Coventry Street",
         "marker": {
          "color": "yellow",
          "size": [
           7.977886725548913
          ],
          "sizemode": "area",
          "sizeref": 0.034199630274267305,
          "symbol": "circle"
         },
         "mode": "markers",
         "name": "Coventry Street",
         "orientation": "v",
         "showlegend": true,
         "type": "scatter",
         "x": [
          330
         ],
         "xaxis": "x",
         "y": [
          0.02417541431984519
         ],
         "yaxis": "y"
        },
        {
         "hovertemplate": "Property=Piccadilly<br>Rent 2 Houses=%{x}<br>Probability=%{y}<br>Rent 2 Houses * Probability=%{marker.size}<extra></extra>",
         "legendgroup": "Piccadilly",
         "marker": {
          "color": "yellow",
          "size": [
           8.349963784175307
          ],
          "sizemode": "area",
          "sizeref": 0.034199630274267305,
          "symbol": "circle"
         },
         "mode": "markers",
         "name": "Piccadilly",
         "orientation": "v",
         "showlegend": true,
         "type": "scatter",
         "x": [
          360
         ],
         "xaxis": "x",
         "y": [
          0.023194343844931405
         ],
         "yaxis": "y"
        },
        {
         "hovertemplate": "Property=Regent Street<br>Rent 2 Houses=%{x}<br>Probability=%{y}<br>Rent 2 Houses * Probability=%{marker.size}<extra></extra>",
         "legendgroup": "Regent Street",
         "marker": {
          "color": "green",
          "size": [
           9.442114139306602
          ],
          "sizemode": "area",
          "sizeref": 0.034199630274267305,
          "symbol": "circle"
         },
         "mode": "markers",
         "name": "Regent Street",
         "orientation": "v",
         "showlegend": true,
         "type": "scatter",
         "x": [
          390
         ],
         "xaxis": "x",
         "y": [
          0.024210549075145135
         ],
         "yaxis": "y"
        },
        {
         "hovertemplate": "Property=Oxford Street<br>Rent 2 Houses=%{x}<br>Probability=%{y}<br>Rent 2 Houses * Probability=%{marker.size}<extra></extra>",
         "legendgroup": "Oxford Street",
         "marker": {
          "color": "green",
          "size": [
           9.152252408082076
          ],
          "sizemode": "area",
          "sizeref": 0.034199630274267305,
          "symbol": "circle"
         },
         "mode": "markers",
         "name": "Oxford Street",
         "orientation": "v",
         "showlegend": true,
         "type": "scatter",
         "x": [
          390
         ],
         "xaxis": "x",
         "y": [
          0.023467313866877115
         ],
         "yaxis": "y"
        },
        {
         "hovertemplate": "Property=Bond Street<br>Rent 2 Houses=%{x}<br>Probability=%{y}<br>Rent 2 Houses * Probability=%{marker.size}<extra></extra>",
         "legendgroup": "Bond Street",
         "marker": {
          "color": "green",
          "size": [
           10.118809526383497
          ],
          "sizemode": "area",
          "sizeref": 0.034199630274267305,
          "symbol": "circle"
         },
         "mode": "markers",
         "name": "Bond Street",
         "orientation": "v",
         "showlegend": true,
         "type": "scatter",
         "x": [
          450
         ],
         "xaxis": "x",
         "y": [
          0.02248624339196333
         ],
         "yaxis": "y"
        },
        {
         "hovertemplate": "Property=Park Lane<br>Rent 2 Houses=%{x}<br>Probability=%{y}<br>Rent 2 Houses * Probability=%{marker.size}<extra></extra>",
         "legendgroup": "Park Lane",
         "marker": {
          "color": "darkblue",
          "size": [
           9.48908660446914
          ],
          "sizemode": "area",
          "sizeref": 0.034199630274267305,
          "symbol": "circle"
         },
         "mode": "markers",
         "name": "Park Lane",
         "orientation": "v",
         "showlegend": true,
         "type": "scatter",
         "x": [
          500
         ],
         "xaxis": "x",
         "y": [
          0.01897817320893828
         ],
         "yaxis": "y"
        },
        {
         "hovertemplate": "Property=Mayfair<br>Rent 2 Houses=%{x}<br>Probability=%{y}<br>Rent 2 Houses * Probability=%{marker.size}<extra></extra>",
         "legendgroup": "Mayfair",
         "marker": {
          "color": "darkblue",
          "size": [
           13.679852109706921
          ],
          "sizemode": "area",
          "sizeref": 0.034199630274267305,
          "symbol": "circle"
         },
         "mode": "markers",
         "name": "Mayfair",
         "orientation": "v",
         "showlegend": true,
         "type": "scatter",
         "x": [
          600
         ],
         "xaxis": "x",
         "y": [
          0.022799753516178203
         ],
         "yaxis": "y"
        }
       ],
       "layout": {
        "legend": {
         "itemsizing": "constant",
         "title": {
          "text": "Property"
         },
         "tracegroupgap": 0
        },
        "showlegend": false,
        "template": {
         "data": {
          "bar": [
           {
            "error_x": {
             "color": "#2a3f5f"
            },
            "error_y": {
             "color": "#2a3f5f"
            },
            "marker": {
             "line": {
              "color": "#E5ECF6",
              "width": 0.5
             },
             "pattern": {
              "fillmode": "overlay",
              "size": 10,
              "solidity": 0.2
             }
            },
            "type": "bar"
           }
          ],
          "barpolar": [
           {
            "marker": {
             "line": {
              "color": "#E5ECF6",
              "width": 0.5
             },
             "pattern": {
              "fillmode": "overlay",
              "size": 10,
              "solidity": 0.2
             }
            },
            "type": "barpolar"
           }
          ],
          "carpet": [
           {
            "aaxis": {
             "endlinecolor": "#2a3f5f",
             "gridcolor": "white",
             "linecolor": "white",
             "minorgridcolor": "white",
             "startlinecolor": "#2a3f5f"
            },
            "baxis": {
             "endlinecolor": "#2a3f5f",
             "gridcolor": "white",
             "linecolor": "white",
             "minorgridcolor": "white",
             "startlinecolor": "#2a3f5f"
            },
            "type": "carpet"
           }
          ],
          "choropleth": [
           {
            "colorbar": {
             "outlinewidth": 0,
             "ticks": ""
            },
            "type": "choropleth"
           }
          ],
          "contour": [
           {
            "colorbar": {
             "outlinewidth": 0,
             "ticks": ""
            },
            "colorscale": [
             [
              0,
              "#0d0887"
             ],
             [
              0.1111111111111111,
              "#46039f"
             ],
             [
              0.2222222222222222,
              "#7201a8"
             ],
             [
              0.3333333333333333,
              "#9c179e"
             ],
             [
              0.4444444444444444,
              "#bd3786"
             ],
             [
              0.5555555555555556,
              "#d8576b"
             ],
             [
              0.6666666666666666,
              "#ed7953"
             ],
             [
              0.7777777777777778,
              "#fb9f3a"
             ],
             [
              0.8888888888888888,
              "#fdca26"
             ],
             [
              1,
              "#f0f921"
             ]
            ],
            "type": "contour"
           }
          ],
          "contourcarpet": [
           {
            "colorbar": {
             "outlinewidth": 0,
             "ticks": ""
            },
            "type": "contourcarpet"
           }
          ],
          "heatmap": [
           {
            "colorbar": {
             "outlinewidth": 0,
             "ticks": ""
            },
            "colorscale": [
             [
              0,
              "#0d0887"
             ],
             [
              0.1111111111111111,
              "#46039f"
             ],
             [
              0.2222222222222222,
              "#7201a8"
             ],
             [
              0.3333333333333333,
              "#9c179e"
             ],
             [
              0.4444444444444444,
              "#bd3786"
             ],
             [
              0.5555555555555556,
              "#d8576b"
             ],
             [
              0.6666666666666666,
              "#ed7953"
             ],
             [
              0.7777777777777778,
              "#fb9f3a"
             ],
             [
              0.8888888888888888,
              "#fdca26"
             ],
             [
              1,
              "#f0f921"
             ]
            ],
            "type": "heatmap"
           }
          ],
          "heatmapgl": [
           {
            "colorbar": {
             "outlinewidth": 0,
             "ticks": ""
            },
            "colorscale": [
             [
              0,
              "#0d0887"
             ],
             [
              0.1111111111111111,
              "#46039f"
             ],
             [
              0.2222222222222222,
              "#7201a8"
             ],
             [
              0.3333333333333333,
              "#9c179e"
             ],
             [
              0.4444444444444444,
              "#bd3786"
             ],
             [
              0.5555555555555556,
              "#d8576b"
             ],
             [
              0.6666666666666666,
              "#ed7953"
             ],
             [
              0.7777777777777778,
              "#fb9f3a"
             ],
             [
              0.8888888888888888,
              "#fdca26"
             ],
             [
              1,
              "#f0f921"
             ]
            ],
            "type": "heatmapgl"
           }
          ],
          "histogram": [
           {
            "marker": {
             "pattern": {
              "fillmode": "overlay",
              "size": 10,
              "solidity": 0.2
             }
            },
            "type": "histogram"
           }
          ],
          "histogram2d": [
           {
            "colorbar": {
             "outlinewidth": 0,
             "ticks": ""
            },
            "colorscale": [
             [
              0,
              "#0d0887"
             ],
             [
              0.1111111111111111,
              "#46039f"
             ],
             [
              0.2222222222222222,
              "#7201a8"
             ],
             [
              0.3333333333333333,
              "#9c179e"
             ],
             [
              0.4444444444444444,
              "#bd3786"
             ],
             [
              0.5555555555555556,
              "#d8576b"
             ],
             [
              0.6666666666666666,
              "#ed7953"
             ],
             [
              0.7777777777777778,
              "#fb9f3a"
             ],
             [
              0.8888888888888888,
              "#fdca26"
             ],
             [
              1,
              "#f0f921"
             ]
            ],
            "type": "histogram2d"
           }
          ],
          "histogram2dcontour": [
           {
            "colorbar": {
             "outlinewidth": 0,
             "ticks": ""
            },
            "colorscale": [
             [
              0,
              "#0d0887"
             ],
             [
              0.1111111111111111,
              "#46039f"
             ],
             [
              0.2222222222222222,
              "#7201a8"
             ],
             [
              0.3333333333333333,
              "#9c179e"
             ],
             [
              0.4444444444444444,
              "#bd3786"
             ],
             [
              0.5555555555555556,
              "#d8576b"
             ],
             [
              0.6666666666666666,
              "#ed7953"
             ],
             [
              0.7777777777777778,
              "#fb9f3a"
             ],
             [
              0.8888888888888888,
              "#fdca26"
             ],
             [
              1,
              "#f0f921"
             ]
            ],
            "type": "histogram2dcontour"
           }
          ],
          "mesh3d": [
           {
            "colorbar": {
             "outlinewidth": 0,
             "ticks": ""
            },
            "type": "mesh3d"
           }
          ],
          "parcoords": [
           {
            "line": {
             "colorbar": {
              "outlinewidth": 0,
              "ticks": ""
             }
            },
            "type": "parcoords"
           }
          ],
          "pie": [
           {
            "automargin": true,
            "type": "pie"
           }
          ],
          "scatter": [
           {
            "fillpattern": {
             "fillmode": "overlay",
             "size": 10,
             "solidity": 0.2
            },
            "type": "scatter"
           }
          ],
          "scatter3d": [
           {
            "line": {
             "colorbar": {
              "outlinewidth": 0,
              "ticks": ""
             }
            },
            "marker": {
             "colorbar": {
              "outlinewidth": 0,
              "ticks": ""
             }
            },
            "type": "scatter3d"
           }
          ],
          "scattercarpet": [
           {
            "marker": {
             "colorbar": {
              "outlinewidth": 0,
              "ticks": ""
             }
            },
            "type": "scattercarpet"
           }
          ],
          "scattergeo": [
           {
            "marker": {
             "colorbar": {
              "outlinewidth": 0,
              "ticks": ""
             }
            },
            "type": "scattergeo"
           }
          ],
          "scattergl": [
           {
            "marker": {
             "colorbar": {
              "outlinewidth": 0,
              "ticks": ""
             }
            },
            "type": "scattergl"
           }
          ],
          "scattermapbox": [
           {
            "marker": {
             "colorbar": {
              "outlinewidth": 0,
              "ticks": ""
             }
            },
            "type": "scattermapbox"
           }
          ],
          "scatterpolar": [
           {
            "marker": {
             "colorbar": {
              "outlinewidth": 0,
              "ticks": ""
             }
            },
            "type": "scatterpolar"
           }
          ],
          "scatterpolargl": [
           {
            "marker": {
             "colorbar": {
              "outlinewidth": 0,
              "ticks": ""
             }
            },
            "type": "scatterpolargl"
           }
          ],
          "scatterternary": [
           {
            "marker": {
             "colorbar": {
              "outlinewidth": 0,
              "ticks": ""
             }
            },
            "type": "scatterternary"
           }
          ],
          "surface": [
           {
            "colorbar": {
             "outlinewidth": 0,
             "ticks": ""
            },
            "colorscale": [
             [
              0,
              "#0d0887"
             ],
             [
              0.1111111111111111,
              "#46039f"
             ],
             [
              0.2222222222222222,
              "#7201a8"
             ],
             [
              0.3333333333333333,
              "#9c179e"
             ],
             [
              0.4444444444444444,
              "#bd3786"
             ],
             [
              0.5555555555555556,
              "#d8576b"
             ],
             [
              0.6666666666666666,
              "#ed7953"
             ],
             [
              0.7777777777777778,
              "#fb9f3a"
             ],
             [
              0.8888888888888888,
              "#fdca26"
             ],
             [
              1,
              "#f0f921"
             ]
            ],
            "type": "surface"
           }
          ],
          "table": [
           {
            "cells": {
             "fill": {
              "color": "#EBF0F8"
             },
             "line": {
              "color": "white"
             }
            },
            "header": {
             "fill": {
              "color": "#C8D4E3"
             },
             "line": {
              "color": "white"
             }
            },
            "type": "table"
           }
          ]
         },
         "layout": {
          "annotationdefaults": {
           "arrowcolor": "#2a3f5f",
           "arrowhead": 0,
           "arrowwidth": 1
          },
          "autotypenumbers": "strict",
          "coloraxis": {
           "colorbar": {
            "outlinewidth": 0,
            "ticks": ""
           }
          },
          "colorscale": {
           "diverging": [
            [
             0,
             "#8e0152"
            ],
            [
             0.1,
             "#c51b7d"
            ],
            [
             0.2,
             "#de77ae"
            ],
            [
             0.3,
             "#f1b6da"
            ],
            [
             0.4,
             "#fde0ef"
            ],
            [
             0.5,
             "#f7f7f7"
            ],
            [
             0.6,
             "#e6f5d0"
            ],
            [
             0.7,
             "#b8e186"
            ],
            [
             0.8,
             "#7fbc41"
            ],
            [
             0.9,
             "#4d9221"
            ],
            [
             1,
             "#276419"
            ]
           ],
           "sequential": [
            [
             0,
             "#0d0887"
            ],
            [
             0.1111111111111111,
             "#46039f"
            ],
            [
             0.2222222222222222,
             "#7201a8"
            ],
            [
             0.3333333333333333,
             "#9c179e"
            ],
            [
             0.4444444444444444,
             "#bd3786"
            ],
            [
             0.5555555555555556,
             "#d8576b"
            ],
            [
             0.6666666666666666,
             "#ed7953"
            ],
            [
             0.7777777777777778,
             "#fb9f3a"
            ],
            [
             0.8888888888888888,
             "#fdca26"
            ],
            [
             1,
             "#f0f921"
            ]
           ],
           "sequentialminus": [
            [
             0,
             "#0d0887"
            ],
            [
             0.1111111111111111,
             "#46039f"
            ],
            [
             0.2222222222222222,
             "#7201a8"
            ],
            [
             0.3333333333333333,
             "#9c179e"
            ],
            [
             0.4444444444444444,
             "#bd3786"
            ],
            [
             0.5555555555555556,
             "#d8576b"
            ],
            [
             0.6666666666666666,
             "#ed7953"
            ],
            [
             0.7777777777777778,
             "#fb9f3a"
            ],
            [
             0.8888888888888888,
             "#fdca26"
            ],
            [
             1,
             "#f0f921"
            ]
           ]
          },
          "colorway": [
           "#636efa",
           "#EF553B",
           "#00cc96",
           "#ab63fa",
           "#FFA15A",
           "#19d3f3",
           "#FF6692",
           "#B6E880",
           "#FF97FF",
           "#FECB52"
          ],
          "font": {
           "color": "#2a3f5f"
          },
          "geo": {
           "bgcolor": "white",
           "lakecolor": "white",
           "landcolor": "#E5ECF6",
           "showlakes": true,
           "showland": true,
           "subunitcolor": "white"
          },
          "hoverlabel": {
           "align": "left"
          },
          "hovermode": "closest",
          "mapbox": {
           "style": "light"
          },
          "paper_bgcolor": "white",
          "plot_bgcolor": "#E5ECF6",
          "polar": {
           "angularaxis": {
            "gridcolor": "white",
            "linecolor": "white",
            "ticks": ""
           },
           "bgcolor": "#E5ECF6",
           "radialaxis": {
            "gridcolor": "white",
            "linecolor": "white",
            "ticks": ""
           }
          },
          "scene": {
           "xaxis": {
            "backgroundcolor": "#E5ECF6",
            "gridcolor": "white",
            "gridwidth": 2,
            "linecolor": "white",
            "showbackground": true,
            "ticks": "",
            "zerolinecolor": "white"
           },
           "yaxis": {
            "backgroundcolor": "#E5ECF6",
            "gridcolor": "white",
            "gridwidth": 2,
            "linecolor": "white",
            "showbackground": true,
            "ticks": "",
            "zerolinecolor": "white"
           },
           "zaxis": {
            "backgroundcolor": "#E5ECF6",
            "gridcolor": "white",
            "gridwidth": 2,
            "linecolor": "white",
            "showbackground": true,
            "ticks": "",
            "zerolinecolor": "white"
           }
          },
          "shapedefaults": {
           "line": {
            "color": "#2a3f5f"
           }
          },
          "ternary": {
           "aaxis": {
            "gridcolor": "white",
            "linecolor": "white",
            "ticks": ""
           },
           "baxis": {
            "gridcolor": "white",
            "linecolor": "white",
            "ticks": ""
           },
           "bgcolor": "#E5ECF6",
           "caxis": {
            "gridcolor": "white",
            "linecolor": "white",
            "ticks": ""
           }
          },
          "title": {
           "x": 0.05
          },
          "xaxis": {
           "automargin": true,
           "gridcolor": "white",
           "linecolor": "white",
           "ticks": "",
           "title": {
            "standoff": 15
           },
           "zerolinecolor": "white",
           "zerolinewidth": 2
          },
          "yaxis": {
           "automargin": true,
           "gridcolor": "white",
           "linecolor": "white",
           "ticks": "",
           "title": {
            "standoff": 15
           },
           "zerolinecolor": "white",
           "zerolinewidth": 2
          }
         }
        },
        "title": {
         "text": "Monopoly Board Street Probabilities Against Rent 2 Houses"
        },
        "xaxis": {
         "anchor": "y",
         "domain": [
          0,
          1
         ],
         "title": {
          "text": "Rent 2 Houses"
         }
        },
        "yaxis": {
         "anchor": "x",
         "domain": [
          0,
          1
         ],
         "range": [
          0.018,
          0.03
         ],
         "title": {
          "text": "Probability"
         }
        }
       }
      }
     },
     "metadata": {},
     "output_type": "display_data"
    },
    {
     "data": {
      "application/vnd.plotly.v1+json": {
       "config": {
        "plotlyServerURL": "https://plot.ly"
       },
       "data": [
        {
         "hovertemplate": "Property=Old Kent Road<br>Rent 3 Houses=%{x}<br>Probability=%{y}<br>Rent 3 Houses * Probability=%{marker.size}<extra></extra>",
         "legendgroup": "Old Kent Road",
         "marker": {
          "color": "brown",
          "size": [
           1.6564685787180677
          ],
          "sizemode": "area",
          "sizeref": 0.07979913730662372,
          "symbol": "circle"
         },
         "mode": "markers",
         "name": "Old Kent Road",
         "orientation": "v",
         "showlegend": true,
         "type": "scatter",
         "x": [
          90
         ],
         "xaxis": "x",
         "y": [
          0.018405206430200754
         ],
         "yaxis": "y"
        },
        {
         "hovertemplate": "Property=Whitechapel Road<br>Rent 3 Houses=%{x}<br>Probability=%{y}<br>Rent 3 Houses * Probability=%{marker.size}<extra></extra>",
         "legendgroup": "Whitechapel Road",
         "marker": {
          "color": "brown",
          "size": [
           3.6461767980886695
          ],
          "sizemode": "area",
          "sizeref": 0.07979913730662372,
          "symbol": "circle"
         },
         "mode": "markers",
         "name": "Whitechapel Road",
         "orientation": "v",
         "showlegend": true,
         "type": "scatter",
         "x": [
          180
         ],
         "xaxis": "x",
         "y": [
          0.020256537767159275
         ],
         "yaxis": "y"
        },
        {
         "hovertemplate": "Property=The Angel, Islington<br>Rent 3 Houses=%{x}<br>Probability=%{y}<br>Rent 3 Houses * Probability=%{marker.size}<extra></extra>",
         "legendgroup": "The Angel, Islington",
         "marker": {
          "color": "lightblue",
          "size": [
           6.296040042810348
          ],
          "sizemode": "area",
          "sizeref": 0.07979913730662372,
          "symbol": "circle"
         },
         "mode": "markers",
         "name": "The Angel, Islington",
         "orientation": "v",
         "showlegend": true,
         "type": "scatter",
         "x": [
          270
         ],
         "xaxis": "x",
         "y": [
          0.02331866682522351
         ],
         "yaxis": "y"
        },
        {
         "hovertemplate": "Property=Euston Road<br>Rent 3 Houses=%{x}<br>Probability=%{y}<br>Rent 3 Houses * Probability=%{marker.size}<extra></extra>",
         "legendgroup": "Euston Road",
         "marker": {
          "color": "lightblue",
          "size": [
           6.527361866358202
          ],
          "sizemode": "area",
          "sizeref": 0.07979913730662372,
          "symbol": "circle"
         },
         "mode": "markers",
         "name": "Euston Road",
         "orientation": "v",
         "showlegend": true,
         "type": "scatter",
         "x": [
          270
         ],
         "xaxis": "x",
         "y": [
          0.02417541431984519
         ],
         "yaxis": "y"
        },
        {
         "hovertemplate": "Property=Pentonville Road<br>Rent 3 Houses=%{x}<br>Probability=%{y}<br>Rent 3 Houses * Probability=%{marker.size}<extra></extra>",
         "legendgroup": "Pentonville Road",
         "marker": {
          "color": "lightblue",
          "size": [
           7.07586945006
          ],
          "sizemode": "area",
          "sizeref": 0.07979913730662372,
          "symbol": "circle"
         },
         "mode": "markers",
         "name": "Pentonville Road",
         "orientation": "v",
         "showlegend": true,
         "type": "scatter",
         "x": [
          300
         ],
         "xaxis": "x",
         "y": [
          0.0235862315002
         ],
         "yaxis": "y"
        },
        {
         "hovertemplate": "Property=Pall Mall<br>Rent 3 Houses=%{x}<br>Probability=%{y}<br>Rent 3 Houses * Probability=%{marker.size}<extra></extra>",
         "legendgroup": "Pall Mall",
         "marker": {
          "color": "pink",
          "size": [
           12.012437703376179
          ],
          "sizemode": "area",
          "sizeref": 0.07979913730662372,
          "symbol": "circle"
         },
         "mode": "markers",
         "name": "Pall Mall",
         "orientation": "v",
         "showlegend": true,
         "type": "scatter",
         "x": [
          450
         ],
         "xaxis": "x",
         "y": [
          0.02669430600750262
         ],
         "yaxis": "y"
        },
        {
         "hovertemplate": "Property=Whitehall<br>Rent 3 Houses=%{x}<br>Probability=%{y}<br>Rent 3 Houses * Probability=%{marker.size}<extra></extra>",
         "legendgroup": "Whitehall",
         "marker": {
          "color": "pink",
          "size": [
           10.17110625831072
          ],
          "sizemode": "area",
          "sizeref": 0.07979913730662372,
          "symbol": "circle"
         },
         "mode": "markers",
         "name": "Whitehall",
         "orientation": "v",
         "showlegend": true,
         "type": "scatter",
         "x": [
          450
         ],
         "xaxis": "x",
         "y": [
          0.0226024583518016
         ],
         "yaxis": "y"
        },
        {
         "hovertemplate": "Property=Northumberland Avenue<br>Rent 3 Houses=%{x}<br>Probability=%{y}<br>Rent 3 Houses * Probability=%{marker.size}<extra></extra>",
         "legendgroup": "Northumberland Avenue",
         "marker": {
          "color": "pink",
          "size": [
           11.895817342515215
          ],
          "sizemode": "area",
          "sizeref": 0.07979913730662372,
          "symbol": "circle"
         },
         "mode": "markers",
         "name": "Northumberland Avenue",
         "orientation": "v",
         "showlegend": true,
         "type": "scatter",
         "x": [
          500
         ],
         "xaxis": "x",
         "y": [
          0.02379163468503043
         ],
         "yaxis": "y"
        },
        {
         "hovertemplate": "Property=Bow Street<br>Rent 3 Houses=%{x}<br>Probability=%{y}<br>Rent 3 Houses * Probability=%{marker.size}<extra></extra>",
         "legendgroup": "Bow Street",
         "marker": {
          "color": "orange",
          "size": [
           14.360790694154657
          ],
          "sizemode": "area",
          "sizeref": 0.07979913730662372,
          "symbol": "circle"
         },
         "mode": "markers",
         "name": "Bow Street",
         "orientation": "v",
         "showlegend": true,
         "type": "scatter",
         "x": [
          550
         ],
         "xaxis": "x",
         "y": [
          0.02611052853482665
         ],
         "yaxis": "y"
        },
        {
         "hovertemplate": "Property=Marlborough Street<br>Rent 3 Houses=%{x}<br>Probability=%{y}<br>Rent 3 Houses * Probability=%{marker.size}<extra></extra>",
         "legendgroup": "Marlborough Street",
         "marker": {
          "color": "orange",
          "size": [
           14.97173003535097
          ],
          "sizemode": "area",
          "sizeref": 0.07979913730662372,
          "symbol": "circle"
         },
         "mode": "markers",
         "name": "Marlborough Street",
         "orientation": "v",
         "showlegend": true,
         "type": "scatter",
         "x": [
          550
         ],
         "xaxis": "x",
         "y": [
          0.027221327337001763
         ],
         "yaxis": "y"
        },
        {
         "hovertemplate": "Property=Vine Street<br>Rent 3 Houses=%{x}<br>Probability=%{y}<br>Rent 3 Houses * Probability=%{marker.size}<extra></extra>",
         "legendgroup": "Vine Street",
         "marker": {
          "color": "orange",
          "size": [
           17.05441022259219
          ],
          "sizemode": "area",
          "sizeref": 0.07979913730662372,
          "symbol": "circle"
         },
         "mode": "markers",
         "name": "Vine Street",
         "orientation": "v",
         "showlegend": true,
         "type": "scatter",
         "x": [
          600
         ],
         "xaxis": "x",
         "y": [
          0.028424017037653647
         ],
         "yaxis": "y"
        },
        {
         "hovertemplate": "Property=Strand<br>Rent 3 Houses=%{x}<br>Probability=%{y}<br>Rent 3 Houses * Probability=%{marker.size}<extra></extra>",
         "legendgroup": "Strand",
         "marker": {
          "color": "red",
          "size": [
           17.88196884358007
          ],
          "sizemode": "area",
          "sizeref": 0.07979913730662372,
          "symbol": "circle"
         },
         "mode": "markers",
         "name": "Strand",
         "orientation": "v",
         "showlegend": true,
         "type": "scatter",
         "x": [
          700
         ],
         "xaxis": "x",
         "y": [
          0.025545669776542955
         ],
         "yaxis": "y"
        },
        {
         "hovertemplate": "Property=Fleet Street<br>Rent 3 Houses=%{x}<br>Probability=%{y}<br>Rent 3 Houses * Probability=%{marker.size}<extra></extra>",
         "legendgroup": "Fleet Street",
         "marker": {
          "color": "red",
          "size": [
           17.511162041491442
          ],
          "sizemode": "area",
          "sizeref": 0.07979913730662372,
          "symbol": "circle"
         },
         "mode": "markers",
         "name": "Fleet Street",
         "orientation": "v",
         "showlegend": true,
         "type": "scatter",
         "x": [
          700
         ],
         "xaxis": "x",
         "y": [
          0.025015945773559204
         ],
         "yaxis": "y"
        },
        {
         "hovertemplate": "Property=Trafalgar Square<br>Rent 3 Houses=%{x}<br>Probability=%{y}<br>Rent 3 Houses * Probability=%{marker.size}<extra></extra>",
         "legendgroup": "Trafalgar Square",
         "marker": {
          "color": "red",
          "size": [
           21.810575020810585
          ],
          "sizemode": "area",
          "sizeref": 0.07979913730662372,
          "symbol": "circle"
         },
         "mode": "markers",
         "name": "Trafalgar Square",
         "orientation": "v",
         "showlegend": true,
         "type": "scatter",
         "x": [
          750
         ],
         "xaxis": "x",
         "y": [
          0.029080766694414114
         ],
         "yaxis": "y"
        },
        {
         "hovertemplate": "Property=Leicester Square<br>Rent 3 Houses=%{x}<br>Probability=%{y}<br>Rent 3 Houses * Probability=%{marker.size}<extra></extra>",
         "legendgroup": "Leicester Square",
         "marker": {
          "color": "yellow",
          "size": [
           19.658165857666404
          ],
          "sizemode": "area",
          "sizeref": 0.07979913730662372,
          "symbol": "circle"
         },
         "mode": "markers",
         "name": "Leicester Square",
         "orientation": "v",
         "showlegend": true,
         "type": "scatter",
         "x": [
          800
         ],
         "xaxis": "x",
         "y": [
          0.024572707322083005
         ],
         "yaxis": "y"
        },
        {
         "hovertemplate": "Property=Coventry Street<br>Rent 3 Houses=%{x}<br>Probability=%{y}<br>Rent 3 Houses * Probability=%{marker.size}<extra></extra>",
         "legendgroup": "Coventry Street",
         "marker": {
          "color": "yellow",
          "size": [
           19.340331455876154
          ],
          "sizemode": "area",
          "sizeref": 0.07979913730662372,
          "symbol": "circle"
         },
         "mode": "markers",
         "name": "Coventry Street",
         "orientation": "v",
         "showlegend": true,
         "type": "scatter",
         "x": [
          800
         ],
         "xaxis": "x",
         "y": [
          0.02417541431984519
         ],
         "yaxis": "y"
        },
        {
         "hovertemplate": "Property=Piccadilly<br>Rent 3 Houses=%{x}<br>Probability=%{y}<br>Rent 3 Houses * Probability=%{marker.size}<extra></extra>",
         "legendgroup": "Piccadilly",
         "marker": {
          "color": "yellow",
          "size": [
           19.715192268191693
          ],
          "sizemode": "area",
          "sizeref": 0.07979913730662372,
          "symbol": "circle"
         },
         "mode": "markers",
         "name": "Piccadilly",
         "orientation": "v",
         "showlegend": true,
         "type": "scatter",
         "x": [
          850
         ],
         "xaxis": "x",
         "y": [
          0.023194343844931405
         ],
         "yaxis": "y"
        },
        {
         "hovertemplate": "Property=Regent Street<br>Rent 3 Houses=%{x}<br>Probability=%{y}<br>Rent 3 Houses * Probability=%{marker.size}<extra></extra>",
         "legendgroup": "Regent Street",
         "marker": {
          "color": "green",
          "size": [
           21.78949416763062
          ],
          "sizemode": "area",
          "sizeref": 0.07979913730662372,
          "symbol": "circle"
         },
         "mode": "markers",
         "name": "Regent Street",
         "orientation": "v",
         "showlegend": true,
         "type": "scatter",
         "x": [
          900
         ],
         "xaxis": "x",
         "y": [
          0.024210549075145135
         ],
         "yaxis": "y"
        },
        {
         "hovertemplate": "Property=Oxford Street<br>Rent 3 Houses=%{x}<br>Probability=%{y}<br>Rent 3 Houses * Probability=%{marker.size}<extra></extra>",
         "legendgroup": "Oxford Street",
         "marker": {
          "color": "green",
          "size": [
           21.120582480189405
          ],
          "sizemode": "area",
          "sizeref": 0.07979913730662372,
          "symbol": "circle"
         },
         "mode": "markers",
         "name": "Oxford Street",
         "orientation": "v",
         "showlegend": true,
         "type": "scatter",
         "x": [
          900
         ],
         "xaxis": "x",
         "y": [
          0.023467313866877115
         ],
         "yaxis": "y"
        },
        {
         "hovertemplate": "Property=Bond Street<br>Rent 3 Houses=%{x}<br>Probability=%{y}<br>Rent 3 Houses * Probability=%{marker.size}<extra></extra>",
         "legendgroup": "Bond Street",
         "marker": {
          "color": "green",
          "size": [
           22.48624339196333
          ],
          "sizemode": "area",
          "sizeref": 0.07979913730662372,
          "symbol": "circle"
         },
         "mode": "markers",
         "name": "Bond Street",
         "orientation": "v",
         "showlegend": true,
         "type": "scatter",
         "x": [
          1000
         ],
         "xaxis": "x",
         "y": [
          0.02248624339196333
         ],
         "yaxis": "y"
        },
        {
         "hovertemplate": "Property=Park Lane<br>Rent 3 Houses=%{x}<br>Probability=%{y}<br>Rent 3 Houses * Probability=%{marker.size}<extra></extra>",
         "legendgroup": "Park Lane",
         "marker": {
          "color": "darkblue",
          "size": [
           20.87599052983211
          ],
          "sizemode": "area",
          "sizeref": 0.07979913730662372,
          "symbol": "circle"
         },
         "mode": "markers",
         "name": "Park Lane",
         "orientation": "v",
         "showlegend": true,
         "type": "scatter",
         "x": [
          1100
         ],
         "xaxis": "x",
         "y": [
          0.01897817320893828
         ],
         "yaxis": "y"
        },
        {
         "hovertemplate": "Property=Mayfair<br>Rent 3 Houses=%{x}<br>Probability=%{y}<br>Rent 3 Houses * Probability=%{marker.size}<extra></extra>",
         "legendgroup": "Mayfair",
         "marker": {
          "color": "darkblue",
          "size": [
           31.919654922649485
          ],
          "sizemode": "area",
          "sizeref": 0.07979913730662372,
          "symbol": "circle"
         },
         "mode": "markers",
         "name": "Mayfair",
         "orientation": "v",
         "showlegend": true,
         "type": "scatter",
         "x": [
          1400
         ],
         "xaxis": "x",
         "y": [
          0.022799753516178203
         ],
         "yaxis": "y"
        }
       ],
       "layout": {
        "legend": {
         "itemsizing": "constant",
         "title": {
          "text": "Property"
         },
         "tracegroupgap": 0
        },
        "showlegend": false,
        "template": {
         "data": {
          "bar": [
           {
            "error_x": {
             "color": "#2a3f5f"
            },
            "error_y": {
             "color": "#2a3f5f"
            },
            "marker": {
             "line": {
              "color": "#E5ECF6",
              "width": 0.5
             },
             "pattern": {
              "fillmode": "overlay",
              "size": 10,
              "solidity": 0.2
             }
            },
            "type": "bar"
           }
          ],
          "barpolar": [
           {
            "marker": {
             "line": {
              "color": "#E5ECF6",
              "width": 0.5
             },
             "pattern": {
              "fillmode": "overlay",
              "size": 10,
              "solidity": 0.2
             }
            },
            "type": "barpolar"
           }
          ],
          "carpet": [
           {
            "aaxis": {
             "endlinecolor": "#2a3f5f",
             "gridcolor": "white",
             "linecolor": "white",
             "minorgridcolor": "white",
             "startlinecolor": "#2a3f5f"
            },
            "baxis": {
             "endlinecolor": "#2a3f5f",
             "gridcolor": "white",
             "linecolor": "white",
             "minorgridcolor": "white",
             "startlinecolor": "#2a3f5f"
            },
            "type": "carpet"
           }
          ],
          "choropleth": [
           {
            "colorbar": {
             "outlinewidth": 0,
             "ticks": ""
            },
            "type": "choropleth"
           }
          ],
          "contour": [
           {
            "colorbar": {
             "outlinewidth": 0,
             "ticks": ""
            },
            "colorscale": [
             [
              0,
              "#0d0887"
             ],
             [
              0.1111111111111111,
              "#46039f"
             ],
             [
              0.2222222222222222,
              "#7201a8"
             ],
             [
              0.3333333333333333,
              "#9c179e"
             ],
             [
              0.4444444444444444,
              "#bd3786"
             ],
             [
              0.5555555555555556,
              "#d8576b"
             ],
             [
              0.6666666666666666,
              "#ed7953"
             ],
             [
              0.7777777777777778,
              "#fb9f3a"
             ],
             [
              0.8888888888888888,
              "#fdca26"
             ],
             [
              1,
              "#f0f921"
             ]
            ],
            "type": "contour"
           }
          ],
          "contourcarpet": [
           {
            "colorbar": {
             "outlinewidth": 0,
             "ticks": ""
            },
            "type": "contourcarpet"
           }
          ],
          "heatmap": [
           {
            "colorbar": {
             "outlinewidth": 0,
             "ticks": ""
            },
            "colorscale": [
             [
              0,
              "#0d0887"
             ],
             [
              0.1111111111111111,
              "#46039f"
             ],
             [
              0.2222222222222222,
              "#7201a8"
             ],
             [
              0.3333333333333333,
              "#9c179e"
             ],
             [
              0.4444444444444444,
              "#bd3786"
             ],
             [
              0.5555555555555556,
              "#d8576b"
             ],
             [
              0.6666666666666666,
              "#ed7953"
             ],
             [
              0.7777777777777778,
              "#fb9f3a"
             ],
             [
              0.8888888888888888,
              "#fdca26"
             ],
             [
              1,
              "#f0f921"
             ]
            ],
            "type": "heatmap"
           }
          ],
          "heatmapgl": [
           {
            "colorbar": {
             "outlinewidth": 0,
             "ticks": ""
            },
            "colorscale": [
             [
              0,
              "#0d0887"
             ],
             [
              0.1111111111111111,
              "#46039f"
             ],
             [
              0.2222222222222222,
              "#7201a8"
             ],
             [
              0.3333333333333333,
              "#9c179e"
             ],
             [
              0.4444444444444444,
              "#bd3786"
             ],
             [
              0.5555555555555556,
              "#d8576b"
             ],
             [
              0.6666666666666666,
              "#ed7953"
             ],
             [
              0.7777777777777778,
              "#fb9f3a"
             ],
             [
              0.8888888888888888,
              "#fdca26"
             ],
             [
              1,
              "#f0f921"
             ]
            ],
            "type": "heatmapgl"
           }
          ],
          "histogram": [
           {
            "marker": {
             "pattern": {
              "fillmode": "overlay",
              "size": 10,
              "solidity": 0.2
             }
            },
            "type": "histogram"
           }
          ],
          "histogram2d": [
           {
            "colorbar": {
             "outlinewidth": 0,
             "ticks": ""
            },
            "colorscale": [
             [
              0,
              "#0d0887"
             ],
             [
              0.1111111111111111,
              "#46039f"
             ],
             [
              0.2222222222222222,
              "#7201a8"
             ],
             [
              0.3333333333333333,
              "#9c179e"
             ],
             [
              0.4444444444444444,
              "#bd3786"
             ],
             [
              0.5555555555555556,
              "#d8576b"
             ],
             [
              0.6666666666666666,
              "#ed7953"
             ],
             [
              0.7777777777777778,
              "#fb9f3a"
             ],
             [
              0.8888888888888888,
              "#fdca26"
             ],
             [
              1,
              "#f0f921"
             ]
            ],
            "type": "histogram2d"
           }
          ],
          "histogram2dcontour": [
           {
            "colorbar": {
             "outlinewidth": 0,
             "ticks": ""
            },
            "colorscale": [
             [
              0,
              "#0d0887"
             ],
             [
              0.1111111111111111,
              "#46039f"
             ],
             [
              0.2222222222222222,
              "#7201a8"
             ],
             [
              0.3333333333333333,
              "#9c179e"
             ],
             [
              0.4444444444444444,
              "#bd3786"
             ],
             [
              0.5555555555555556,
              "#d8576b"
             ],
             [
              0.6666666666666666,
              "#ed7953"
             ],
             [
              0.7777777777777778,
              "#fb9f3a"
             ],
             [
              0.8888888888888888,
              "#fdca26"
             ],
             [
              1,
              "#f0f921"
             ]
            ],
            "type": "histogram2dcontour"
           }
          ],
          "mesh3d": [
           {
            "colorbar": {
             "outlinewidth": 0,
             "ticks": ""
            },
            "type": "mesh3d"
           }
          ],
          "parcoords": [
           {
            "line": {
             "colorbar": {
              "outlinewidth": 0,
              "ticks": ""
             }
            },
            "type": "parcoords"
           }
          ],
          "pie": [
           {
            "automargin": true,
            "type": "pie"
           }
          ],
          "scatter": [
           {
            "fillpattern": {
             "fillmode": "overlay",
             "size": 10,
             "solidity": 0.2
            },
            "type": "scatter"
           }
          ],
          "scatter3d": [
           {
            "line": {
             "colorbar": {
              "outlinewidth": 0,
              "ticks": ""
             }
            },
            "marker": {
             "colorbar": {
              "outlinewidth": 0,
              "ticks": ""
             }
            },
            "type": "scatter3d"
           }
          ],
          "scattercarpet": [
           {
            "marker": {
             "colorbar": {
              "outlinewidth": 0,
              "ticks": ""
             }
            },
            "type": "scattercarpet"
           }
          ],
          "scattergeo": [
           {
            "marker": {
             "colorbar": {
              "outlinewidth": 0,
              "ticks": ""
             }
            },
            "type": "scattergeo"
           }
          ],
          "scattergl": [
           {
            "marker": {
             "colorbar": {
              "outlinewidth": 0,
              "ticks": ""
             }
            },
            "type": "scattergl"
           }
          ],
          "scattermapbox": [
           {
            "marker": {
             "colorbar": {
              "outlinewidth": 0,
              "ticks": ""
             }
            },
            "type": "scattermapbox"
           }
          ],
          "scatterpolar": [
           {
            "marker": {
             "colorbar": {
              "outlinewidth": 0,
              "ticks": ""
             }
            },
            "type": "scatterpolar"
           }
          ],
          "scatterpolargl": [
           {
            "marker": {
             "colorbar": {
              "outlinewidth": 0,
              "ticks": ""
             }
            },
            "type": "scatterpolargl"
           }
          ],
          "scatterternary": [
           {
            "marker": {
             "colorbar": {
              "outlinewidth": 0,
              "ticks": ""
             }
            },
            "type": "scatterternary"
           }
          ],
          "surface": [
           {
            "colorbar": {
             "outlinewidth": 0,
             "ticks": ""
            },
            "colorscale": [
             [
              0,
              "#0d0887"
             ],
             [
              0.1111111111111111,
              "#46039f"
             ],
             [
              0.2222222222222222,
              "#7201a8"
             ],
             [
              0.3333333333333333,
              "#9c179e"
             ],
             [
              0.4444444444444444,
              "#bd3786"
             ],
             [
              0.5555555555555556,
              "#d8576b"
             ],
             [
              0.6666666666666666,
              "#ed7953"
             ],
             [
              0.7777777777777778,
              "#fb9f3a"
             ],
             [
              0.8888888888888888,
              "#fdca26"
             ],
             [
              1,
              "#f0f921"
             ]
            ],
            "type": "surface"
           }
          ],
          "table": [
           {
            "cells": {
             "fill": {
              "color": "#EBF0F8"
             },
             "line": {
              "color": "white"
             }
            },
            "header": {
             "fill": {
              "color": "#C8D4E3"
             },
             "line": {
              "color": "white"
             }
            },
            "type": "table"
           }
          ]
         },
         "layout": {
          "annotationdefaults": {
           "arrowcolor": "#2a3f5f",
           "arrowhead": 0,
           "arrowwidth": 1
          },
          "autotypenumbers": "strict",
          "coloraxis": {
           "colorbar": {
            "outlinewidth": 0,
            "ticks": ""
           }
          },
          "colorscale": {
           "diverging": [
            [
             0,
             "#8e0152"
            ],
            [
             0.1,
             "#c51b7d"
            ],
            [
             0.2,
             "#de77ae"
            ],
            [
             0.3,
             "#f1b6da"
            ],
            [
             0.4,
             "#fde0ef"
            ],
            [
             0.5,
             "#f7f7f7"
            ],
            [
             0.6,
             "#e6f5d0"
            ],
            [
             0.7,
             "#b8e186"
            ],
            [
             0.8,
             "#7fbc41"
            ],
            [
             0.9,
             "#4d9221"
            ],
            [
             1,
             "#276419"
            ]
           ],
           "sequential": [
            [
             0,
             "#0d0887"
            ],
            [
             0.1111111111111111,
             "#46039f"
            ],
            [
             0.2222222222222222,
             "#7201a8"
            ],
            [
             0.3333333333333333,
             "#9c179e"
            ],
            [
             0.4444444444444444,
             "#bd3786"
            ],
            [
             0.5555555555555556,
             "#d8576b"
            ],
            [
             0.6666666666666666,
             "#ed7953"
            ],
            [
             0.7777777777777778,
             "#fb9f3a"
            ],
            [
             0.8888888888888888,
             "#fdca26"
            ],
            [
             1,
             "#f0f921"
            ]
           ],
           "sequentialminus": [
            [
             0,
             "#0d0887"
            ],
            [
             0.1111111111111111,
             "#46039f"
            ],
            [
             0.2222222222222222,
             "#7201a8"
            ],
            [
             0.3333333333333333,
             "#9c179e"
            ],
            [
             0.4444444444444444,
             "#bd3786"
            ],
            [
             0.5555555555555556,
             "#d8576b"
            ],
            [
             0.6666666666666666,
             "#ed7953"
            ],
            [
             0.7777777777777778,
             "#fb9f3a"
            ],
            [
             0.8888888888888888,
             "#fdca26"
            ],
            [
             1,
             "#f0f921"
            ]
           ]
          },
          "colorway": [
           "#636efa",
           "#EF553B",
           "#00cc96",
           "#ab63fa",
           "#FFA15A",
           "#19d3f3",
           "#FF6692",
           "#B6E880",
           "#FF97FF",
           "#FECB52"
          ],
          "font": {
           "color": "#2a3f5f"
          },
          "geo": {
           "bgcolor": "white",
           "lakecolor": "white",
           "landcolor": "#E5ECF6",
           "showlakes": true,
           "showland": true,
           "subunitcolor": "white"
          },
          "hoverlabel": {
           "align": "left"
          },
          "hovermode": "closest",
          "mapbox": {
           "style": "light"
          },
          "paper_bgcolor": "white",
          "plot_bgcolor": "#E5ECF6",
          "polar": {
           "angularaxis": {
            "gridcolor": "white",
            "linecolor": "white",
            "ticks": ""
           },
           "bgcolor": "#E5ECF6",
           "radialaxis": {
            "gridcolor": "white",
            "linecolor": "white",
            "ticks": ""
           }
          },
          "scene": {
           "xaxis": {
            "backgroundcolor": "#E5ECF6",
            "gridcolor": "white",
            "gridwidth": 2,
            "linecolor": "white",
            "showbackground": true,
            "ticks": "",
            "zerolinecolor": "white"
           },
           "yaxis": {
            "backgroundcolor": "#E5ECF6",
            "gridcolor": "white",
            "gridwidth": 2,
            "linecolor": "white",
            "showbackground": true,
            "ticks": "",
            "zerolinecolor": "white"
           },
           "zaxis": {
            "backgroundcolor": "#E5ECF6",
            "gridcolor": "white",
            "gridwidth": 2,
            "linecolor": "white",
            "showbackground": true,
            "ticks": "",
            "zerolinecolor": "white"
           }
          },
          "shapedefaults": {
           "line": {
            "color": "#2a3f5f"
           }
          },
          "ternary": {
           "aaxis": {
            "gridcolor": "white",
            "linecolor": "white",
            "ticks": ""
           },
           "baxis": {
            "gridcolor": "white",
            "linecolor": "white",
            "ticks": ""
           },
           "bgcolor": "#E5ECF6",
           "caxis": {
            "gridcolor": "white",
            "linecolor": "white",
            "ticks": ""
           }
          },
          "title": {
           "x": 0.05
          },
          "xaxis": {
           "automargin": true,
           "gridcolor": "white",
           "linecolor": "white",
           "ticks": "",
           "title": {
            "standoff": 15
           },
           "zerolinecolor": "white",
           "zerolinewidth": 2
          },
          "yaxis": {
           "automargin": true,
           "gridcolor": "white",
           "linecolor": "white",
           "ticks": "",
           "title": {
            "standoff": 15
           },
           "zerolinecolor": "white",
           "zerolinewidth": 2
          }
         }
        },
        "title": {
         "text": "Monopoly Board Street Probabilities Against Rent 3 Houses"
        },
        "xaxis": {
         "anchor": "y",
         "domain": [
          0,
          1
         ],
         "title": {
          "text": "Rent 3 Houses"
         }
        },
        "yaxis": {
         "anchor": "x",
         "domain": [
          0,
          1
         ],
         "range": [
          0.018,
          0.03
         ],
         "title": {
          "text": "Probability"
         }
        }
       }
      }
     },
     "metadata": {},
     "output_type": "display_data"
    },
    {
     "data": {
      "application/vnd.plotly.v1+json": {
       "config": {
        "plotlyServerURL": "https://plot.ly"
       },
       "data": [
        {
         "hovertemplate": "Property=Old Kent Road<br>Rent 4 Houses=%{x}<br>Probability=%{y}<br>Rent 4 Houses * Probability=%{marker.size}<extra></extra>",
         "legendgroup": "Old Kent Road",
         "marker": {
          "color": "brown",
          "size": [
           2.9448330288321207
          ],
          "sizemode": "area",
          "sizeref": 0.09689895244375736,
          "symbol": "circle"
         },
         "mode": "markers",
         "name": "Old Kent Road",
         "orientation": "v",
         "showlegend": true,
         "type": "scatter",
         "x": [
          160
         ],
         "xaxis": "x",
         "y": [
          0.018405206430200754
         ],
         "yaxis": "y"
        },
        {
         "hovertemplate": "Property=Whitechapel Road<br>Rent 4 Houses=%{x}<br>Probability=%{y}<br>Rent 4 Houses * Probability=%{marker.size}<extra></extra>",
         "legendgroup": "Whitechapel Road",
         "marker": {
          "color": "brown",
          "size": [
           6.482092085490968
          ],
          "sizemode": "area",
          "sizeref": 0.09689895244375736,
          "symbol": "circle"
         },
         "mode": "markers",
         "name": "Whitechapel Road",
         "orientation": "v",
         "showlegend": true,
         "type": "scatter",
         "x": [
          320
         ],
         "xaxis": "x",
         "y": [
          0.020256537767159275
         ],
         "yaxis": "y"
        },
        {
         "hovertemplate": "Property=The Angel, Islington<br>Rent 4 Houses=%{x}<br>Probability=%{y}<br>Rent 4 Houses * Probability=%{marker.size}<extra></extra>",
         "legendgroup": "The Angel, Islington",
         "marker": {
          "color": "lightblue",
          "size": [
           9.327466730089403
          ],
          "sizemode": "area",
          "sizeref": 0.09689895244375736,
          "symbol": "circle"
         },
         "mode": "markers",
         "name": "The Angel, Islington",
         "orientation": "v",
         "showlegend": true,
         "type": "scatter",
         "x": [
          400
         ],
         "xaxis": "x",
         "y": [
          0.02331866682522351
         ],
         "yaxis": "y"
        },
        {
         "hovertemplate": "Property=Euston Road<br>Rent 4 Houses=%{x}<br>Probability=%{y}<br>Rent 4 Houses * Probability=%{marker.size}<extra></extra>",
         "legendgroup": "Euston Road",
         "marker": {
          "color": "lightblue",
          "size": [
           9.670165727938077
          ],
          "sizemode": "area",
          "sizeref": 0.09689895244375736,
          "symbol": "circle"
         },
         "mode": "markers",
         "name": "Euston Road",
         "orientation": "v",
         "showlegend": true,
         "type": "scatter",
         "x": [
          400
         ],
         "xaxis": "x",
         "y": [
          0.02417541431984519
         ],
         "yaxis": "y"
        },
        {
         "hovertemplate": "Property=Pentonville Road<br>Rent 4 Houses=%{x}<br>Probability=%{y}<br>Rent 4 Houses * Probability=%{marker.size}<extra></extra>",
         "legendgroup": "Pentonville Road",
         "marker": {
          "color": "lightblue",
          "size": [
           10.61380417509
          ],
          "sizemode": "area",
          "sizeref": 0.09689895244375736,
          "symbol": "circle"
         },
         "mode": "markers",
         "name": "Pentonville Road",
         "orientation": "v",
         "showlegend": true,
         "type": "scatter",
         "x": [
          450
         ],
         "xaxis": "x",
         "y": [
          0.0235862315002
         ],
         "yaxis": "y"
        },
        {
         "hovertemplate": "Property=Pall Mall<br>Rent 4 Houses=%{x}<br>Probability=%{y}<br>Rent 4 Houses * Probability=%{marker.size}<extra></extra>",
         "legendgroup": "Pall Mall",
         "marker": {
          "color": "pink",
          "size": [
           16.683941254689138
          ],
          "sizemode": "area",
          "sizeref": 0.09689895244375736,
          "symbol": "circle"
         },
         "mode": "markers",
         "name": "Pall Mall",
         "orientation": "v",
         "showlegend": true,
         "type": "scatter",
         "x": [
          625
         ],
         "xaxis": "x",
         "y": [
          0.02669430600750262
         ],
         "yaxis": "y"
        },
        {
         "hovertemplate": "Property=Whitehall<br>Rent 4 Houses=%{x}<br>Probability=%{y}<br>Rent 4 Houses * Probability=%{marker.size}<extra></extra>",
         "legendgroup": "Whitehall",
         "marker": {
          "color": "pink",
          "size": [
           14.126536469876001
          ],
          "sizemode": "area",
          "sizeref": 0.09689895244375736,
          "symbol": "circle"
         },
         "mode": "markers",
         "name": "Whitehall",
         "orientation": "v",
         "showlegend": true,
         "type": "scatter",
         "x": [
          625
         ],
         "xaxis": "x",
         "y": [
          0.0226024583518016
         ],
         "yaxis": "y"
        },
        {
         "hovertemplate": "Property=Northumberland Avenue<br>Rent 4 Houses=%{x}<br>Probability=%{y}<br>Rent 4 Houses * Probability=%{marker.size}<extra></extra>",
         "legendgroup": "Northumberland Avenue",
         "marker": {
          "color": "pink",
          "size": [
           16.6541442795213
          ],
          "sizemode": "area",
          "sizeref": 0.09689895244375736,
          "symbol": "circle"
         },
         "mode": "markers",
         "name": "Northumberland Avenue",
         "orientation": "v",
         "showlegend": true,
         "type": "scatter",
         "x": [
          700
         ],
         "xaxis": "x",
         "y": [
          0.02379163468503043
         ],
         "yaxis": "y"
        },
        {
         "hovertemplate": "Property=Bow Street<br>Rent 4 Houses=%{x}<br>Probability=%{y}<br>Rent 4 Houses * Probability=%{marker.size}<extra></extra>",
         "legendgroup": "Bow Street",
         "marker": {
          "color": "orange",
          "size": [
           19.58289640111999
          ],
          "sizemode": "area",
          "sizeref": 0.09689895244375736,
          "symbol": "circle"
         },
         "mode": "markers",
         "name": "Bow Street",
         "orientation": "v",
         "showlegend": true,
         "type": "scatter",
         "x": [
          750
         ],
         "xaxis": "x",
         "y": [
          0.02611052853482665
         ],
         "yaxis": "y"
        },
        {
         "hovertemplate": "Property=Marlborough Street<br>Rent 4 Houses=%{x}<br>Probability=%{y}<br>Rent 4 Houses * Probability=%{marker.size}<extra></extra>",
         "legendgroup": "Marlborough Street",
         "marker": {
          "color": "orange",
          "size": [
           20.415995502751322
          ],
          "sizemode": "area",
          "sizeref": 0.09689895244375736,
          "symbol": "circle"
         },
         "mode": "markers",
         "name": "Marlborough Street",
         "orientation": "v",
         "showlegend": true,
         "type": "scatter",
         "x": [
          750
         ],
         "xaxis": "x",
         "y": [
          0.027221327337001763
         ],
         "yaxis": "y"
        },
        {
         "hovertemplate": "Property=Vine Street<br>Rent 4 Houses=%{x}<br>Probability=%{y}<br>Rent 4 Houses * Probability=%{marker.size}<extra></extra>",
         "legendgroup": "Vine Street",
         "marker": {
          "color": "orange",
          "size": [
           22.73921363012292
          ],
          "sizemode": "area",
          "sizeref": 0.09689895244375736,
          "symbol": "circle"
         },
         "mode": "markers",
         "name": "Vine Street",
         "orientation": "v",
         "showlegend": true,
         "type": "scatter",
         "x": [
          800
         ],
         "xaxis": "x",
         "y": [
          0.028424017037653647
         ],
         "yaxis": "y"
        },
        {
         "hovertemplate": "Property=Strand<br>Rent 4 Houses=%{x}<br>Probability=%{y}<br>Rent 4 Houses * Probability=%{marker.size}<extra></extra>",
         "legendgroup": "Strand",
         "marker": {
          "color": "red",
          "size": [
           22.352461054475086
          ],
          "sizemode": "area",
          "sizeref": 0.09689895244375736,
          "symbol": "circle"
         },
         "mode": "markers",
         "name": "Strand",
         "orientation": "v",
         "showlegend": true,
         "type": "scatter",
         "x": [
          875
         ],
         "xaxis": "x",
         "y": [
          0.025545669776542955
         ],
         "yaxis": "y"
        },
        {
         "hovertemplate": "Property=Fleet Street<br>Rent 4 Houses=%{x}<br>Probability=%{y}<br>Rent 4 Houses * Probability=%{marker.size}<extra></extra>",
         "legendgroup": "Fleet Street",
         "marker": {
          "color": "red",
          "size": [
           21.888952551864303
          ],
          "sizemode": "area",
          "sizeref": 0.09689895244375736,
          "symbol": "circle"
         },
         "mode": "markers",
         "name": "Fleet Street",
         "orientation": "v",
         "showlegend": true,
         "type": "scatter",
         "x": [
          875
         ],
         "xaxis": "x",
         "y": [
          0.025015945773559204
         ],
         "yaxis": "y"
        },
        {
         "hovertemplate": "Property=Trafalgar Square<br>Rent 4 Houses=%{x}<br>Probability=%{y}<br>Rent 4 Houses * Probability=%{marker.size}<extra></extra>",
         "legendgroup": "Trafalgar Square",
         "marker": {
          "color": "red",
          "size": [
           26.899709192333056
          ],
          "sizemode": "area",
          "sizeref": 0.09689895244375736,
          "symbol": "circle"
         },
         "mode": "markers",
         "name": "Trafalgar Square",
         "orientation": "v",
         "showlegend": true,
         "type": "scatter",
         "x": [
          925
         ],
         "xaxis": "x",
         "y": [
          0.029080766694414114
         ],
         "yaxis": "y"
        },
        {
         "hovertemplate": "Property=Leicester Square<br>Rent 4 Houses=%{x}<br>Probability=%{y}<br>Rent 4 Houses * Probability=%{marker.size}<extra></extra>",
         "legendgroup": "Leicester Square",
         "marker": {
          "color": "yellow",
          "size": [
           23.95838963903093
          ],
          "sizemode": "area",
          "sizeref": 0.09689895244375736,
          "symbol": "circle"
         },
         "mode": "markers",
         "name": "Leicester Square",
         "orientation": "v",
         "showlegend": true,
         "type": "scatter",
         "x": [
          975
         ],
         "xaxis": "x",
         "y": [
          0.024572707322083005
         ],
         "yaxis": "y"
        },
        {
         "hovertemplate": "Property=Coventry Street<br>Rent 4 Houses=%{x}<br>Probability=%{y}<br>Rent 4 Houses * Probability=%{marker.size}<extra></extra>",
         "legendgroup": "Coventry Street",
         "marker": {
          "color": "yellow",
          "size": [
           23.571028961849063
          ],
          "sizemode": "area",
          "sizeref": 0.09689895244375736,
          "symbol": "circle"
         },
         "mode": "markers",
         "name": "Coventry Street",
         "orientation": "v",
         "showlegend": true,
         "type": "scatter",
         "x": [
          975
         ],
         "xaxis": "x",
         "y": [
          0.02417541431984519
         ],
         "yaxis": "y"
        },
        {
         "hovertemplate": "Property=Piccadilly<br>Rent 4 Houses=%{x}<br>Probability=%{y}<br>Rent 4 Houses * Probability=%{marker.size}<extra></extra>",
         "legendgroup": "Piccadilly",
         "marker": {
          "color": "yellow",
          "size": [
           23.77420244105469
          ],
          "sizemode": "area",
          "sizeref": 0.09689895244375736,
          "symbol": "circle"
         },
         "mode": "markers",
         "name": "Piccadilly",
         "orientation": "v",
         "showlegend": true,
         "type": "scatter",
         "x": [
          1025
         ],
         "xaxis": "x",
         "y": [
          0.023194343844931405
         ],
         "yaxis": "y"
        },
        {
         "hovertemplate": "Property=Regent Street<br>Rent 4 Houses=%{x}<br>Probability=%{y}<br>Rent 4 Houses * Probability=%{marker.size}<extra></extra>",
         "legendgroup": "Regent Street",
         "marker": {
          "color": "green",
          "size": [
           26.631603982659648
          ],
          "sizemode": "area",
          "sizeref": 0.09689895244375736,
          "symbol": "circle"
         },
         "mode": "markers",
         "name": "Regent Street",
         "orientation": "v",
         "showlegend": true,
         "type": "scatter",
         "x": [
          1100
         ],
         "xaxis": "x",
         "y": [
          0.024210549075145135
         ],
         "yaxis": "y"
        },
        {
         "hovertemplate": "Property=Oxford Street<br>Rent 4 Houses=%{x}<br>Probability=%{y}<br>Rent 4 Houses * Probability=%{marker.size}<extra></extra>",
         "legendgroup": "Oxford Street",
         "marker": {
          "color": "green",
          "size": [
           25.814045253564828
          ],
          "sizemode": "area",
          "sizeref": 0.09689895244375736,
          "symbol": "circle"
         },
         "mode": "markers",
         "name": "Oxford Street",
         "orientation": "v",
         "showlegend": true,
         "type": "scatter",
         "x": [
          1100
         ],
         "xaxis": "x",
         "y": [
          0.023467313866877115
         ],
         "yaxis": "y"
        },
        {
         "hovertemplate": "Property=Bond Street<br>Rent 4 Houses=%{x}<br>Probability=%{y}<br>Rent 4 Houses * Probability=%{marker.size}<extra></extra>",
         "legendgroup": "Bond Street",
         "marker": {
          "color": "green",
          "size": [
           26.983492070355997
          ],
          "sizemode": "area",
          "sizeref": 0.09689895244375736,
          "symbol": "circle"
         },
         "mode": "markers",
         "name": "Bond Street",
         "orientation": "v",
         "showlegend": true,
         "type": "scatter",
         "x": [
          1200
         ],
         "xaxis": "x",
         "y": [
          0.02248624339196333
         ],
         "yaxis": "y"
        },
        {
         "hovertemplate": "Property=Park Lane<br>Rent 4 Houses=%{x}<br>Probability=%{y}<br>Rent 4 Houses * Probability=%{marker.size}<extra></extra>",
         "legendgroup": "Park Lane",
         "marker": {
          "color": "darkblue",
          "size": [
           24.671625171619766
          ],
          "sizemode": "area",
          "sizeref": 0.09689895244375736,
          "symbol": "circle"
         },
         "mode": "markers",
         "name": "Park Lane",
         "orientation": "v",
         "showlegend": true,
         "type": "scatter",
         "x": [
          1300
         ],
         "xaxis": "x",
         "y": [
          0.01897817320893828
         ],
         "yaxis": "y"
        },
        {
         "hovertemplate": "Property=Mayfair<br>Rent 4 Houses=%{x}<br>Probability=%{y}<br>Rent 4 Houses * Probability=%{marker.size}<extra></extra>",
         "legendgroup": "Mayfair",
         "marker": {
          "color": "darkblue",
          "size": [
           38.75958097750294
          ],
          "sizemode": "area",
          "sizeref": 0.09689895244375736,
          "symbol": "circle"
         },
         "mode": "markers",
         "name": "Mayfair",
         "orientation": "v",
         "showlegend": true,
         "type": "scatter",
         "x": [
          1700
         ],
         "xaxis": "x",
         "y": [
          0.022799753516178203
         ],
         "yaxis": "y"
        }
       ],
       "layout": {
        "legend": {
         "itemsizing": "constant",
         "title": {
          "text": "Property"
         },
         "tracegroupgap": 0
        },
        "showlegend": false,
        "template": {
         "data": {
          "bar": [
           {
            "error_x": {
             "color": "#2a3f5f"
            },
            "error_y": {
             "color": "#2a3f5f"
            },
            "marker": {
             "line": {
              "color": "#E5ECF6",
              "width": 0.5
             },
             "pattern": {
              "fillmode": "overlay",
              "size": 10,
              "solidity": 0.2
             }
            },
            "type": "bar"
           }
          ],
          "barpolar": [
           {
            "marker": {
             "line": {
              "color": "#E5ECF6",
              "width": 0.5
             },
             "pattern": {
              "fillmode": "overlay",
              "size": 10,
              "solidity": 0.2
             }
            },
            "type": "barpolar"
           }
          ],
          "carpet": [
           {
            "aaxis": {
             "endlinecolor": "#2a3f5f",
             "gridcolor": "white",
             "linecolor": "white",
             "minorgridcolor": "white",
             "startlinecolor": "#2a3f5f"
            },
            "baxis": {
             "endlinecolor": "#2a3f5f",
             "gridcolor": "white",
             "linecolor": "white",
             "minorgridcolor": "white",
             "startlinecolor": "#2a3f5f"
            },
            "type": "carpet"
           }
          ],
          "choropleth": [
           {
            "colorbar": {
             "outlinewidth": 0,
             "ticks": ""
            },
            "type": "choropleth"
           }
          ],
          "contour": [
           {
            "colorbar": {
             "outlinewidth": 0,
             "ticks": ""
            },
            "colorscale": [
             [
              0,
              "#0d0887"
             ],
             [
              0.1111111111111111,
              "#46039f"
             ],
             [
              0.2222222222222222,
              "#7201a8"
             ],
             [
              0.3333333333333333,
              "#9c179e"
             ],
             [
              0.4444444444444444,
              "#bd3786"
             ],
             [
              0.5555555555555556,
              "#d8576b"
             ],
             [
              0.6666666666666666,
              "#ed7953"
             ],
             [
              0.7777777777777778,
              "#fb9f3a"
             ],
             [
              0.8888888888888888,
              "#fdca26"
             ],
             [
              1,
              "#f0f921"
             ]
            ],
            "type": "contour"
           }
          ],
          "contourcarpet": [
           {
            "colorbar": {
             "outlinewidth": 0,
             "ticks": ""
            },
            "type": "contourcarpet"
           }
          ],
          "heatmap": [
           {
            "colorbar": {
             "outlinewidth": 0,
             "ticks": ""
            },
            "colorscale": [
             [
              0,
              "#0d0887"
             ],
             [
              0.1111111111111111,
              "#46039f"
             ],
             [
              0.2222222222222222,
              "#7201a8"
             ],
             [
              0.3333333333333333,
              "#9c179e"
             ],
             [
              0.4444444444444444,
              "#bd3786"
             ],
             [
              0.5555555555555556,
              "#d8576b"
             ],
             [
              0.6666666666666666,
              "#ed7953"
             ],
             [
              0.7777777777777778,
              "#fb9f3a"
             ],
             [
              0.8888888888888888,
              "#fdca26"
             ],
             [
              1,
              "#f0f921"
             ]
            ],
            "type": "heatmap"
           }
          ],
          "heatmapgl": [
           {
            "colorbar": {
             "outlinewidth": 0,
             "ticks": ""
            },
            "colorscale": [
             [
              0,
              "#0d0887"
             ],
             [
              0.1111111111111111,
              "#46039f"
             ],
             [
              0.2222222222222222,
              "#7201a8"
             ],
             [
              0.3333333333333333,
              "#9c179e"
             ],
             [
              0.4444444444444444,
              "#bd3786"
             ],
             [
              0.5555555555555556,
              "#d8576b"
             ],
             [
              0.6666666666666666,
              "#ed7953"
             ],
             [
              0.7777777777777778,
              "#fb9f3a"
             ],
             [
              0.8888888888888888,
              "#fdca26"
             ],
             [
              1,
              "#f0f921"
             ]
            ],
            "type": "heatmapgl"
           }
          ],
          "histogram": [
           {
            "marker": {
             "pattern": {
              "fillmode": "overlay",
              "size": 10,
              "solidity": 0.2
             }
            },
            "type": "histogram"
           }
          ],
          "histogram2d": [
           {
            "colorbar": {
             "outlinewidth": 0,
             "ticks": ""
            },
            "colorscale": [
             [
              0,
              "#0d0887"
             ],
             [
              0.1111111111111111,
              "#46039f"
             ],
             [
              0.2222222222222222,
              "#7201a8"
             ],
             [
              0.3333333333333333,
              "#9c179e"
             ],
             [
              0.4444444444444444,
              "#bd3786"
             ],
             [
              0.5555555555555556,
              "#d8576b"
             ],
             [
              0.6666666666666666,
              "#ed7953"
             ],
             [
              0.7777777777777778,
              "#fb9f3a"
             ],
             [
              0.8888888888888888,
              "#fdca26"
             ],
             [
              1,
              "#f0f921"
             ]
            ],
            "type": "histogram2d"
           }
          ],
          "histogram2dcontour": [
           {
            "colorbar": {
             "outlinewidth": 0,
             "ticks": ""
            },
            "colorscale": [
             [
              0,
              "#0d0887"
             ],
             [
              0.1111111111111111,
              "#46039f"
             ],
             [
              0.2222222222222222,
              "#7201a8"
             ],
             [
              0.3333333333333333,
              "#9c179e"
             ],
             [
              0.4444444444444444,
              "#bd3786"
             ],
             [
              0.5555555555555556,
              "#d8576b"
             ],
             [
              0.6666666666666666,
              "#ed7953"
             ],
             [
              0.7777777777777778,
              "#fb9f3a"
             ],
             [
              0.8888888888888888,
              "#fdca26"
             ],
             [
              1,
              "#f0f921"
             ]
            ],
            "type": "histogram2dcontour"
           }
          ],
          "mesh3d": [
           {
            "colorbar": {
             "outlinewidth": 0,
             "ticks": ""
            },
            "type": "mesh3d"
           }
          ],
          "parcoords": [
           {
            "line": {
             "colorbar": {
              "outlinewidth": 0,
              "ticks": ""
             }
            },
            "type": "parcoords"
           }
          ],
          "pie": [
           {
            "automargin": true,
            "type": "pie"
           }
          ],
          "scatter": [
           {
            "fillpattern": {
             "fillmode": "overlay",
             "size": 10,
             "solidity": 0.2
            },
            "type": "scatter"
           }
          ],
          "scatter3d": [
           {
            "line": {
             "colorbar": {
              "outlinewidth": 0,
              "ticks": ""
             }
            },
            "marker": {
             "colorbar": {
              "outlinewidth": 0,
              "ticks": ""
             }
            },
            "type": "scatter3d"
           }
          ],
          "scattercarpet": [
           {
            "marker": {
             "colorbar": {
              "outlinewidth": 0,
              "ticks": ""
             }
            },
            "type": "scattercarpet"
           }
          ],
          "scattergeo": [
           {
            "marker": {
             "colorbar": {
              "outlinewidth": 0,
              "ticks": ""
             }
            },
            "type": "scattergeo"
           }
          ],
          "scattergl": [
           {
            "marker": {
             "colorbar": {
              "outlinewidth": 0,
              "ticks": ""
             }
            },
            "type": "scattergl"
           }
          ],
          "scattermapbox": [
           {
            "marker": {
             "colorbar": {
              "outlinewidth": 0,
              "ticks": ""
             }
            },
            "type": "scattermapbox"
           }
          ],
          "scatterpolar": [
           {
            "marker": {
             "colorbar": {
              "outlinewidth": 0,
              "ticks": ""
             }
            },
            "type": "scatterpolar"
           }
          ],
          "scatterpolargl": [
           {
            "marker": {
             "colorbar": {
              "outlinewidth": 0,
              "ticks": ""
             }
            },
            "type": "scatterpolargl"
           }
          ],
          "scatterternary": [
           {
            "marker": {
             "colorbar": {
              "outlinewidth": 0,
              "ticks": ""
             }
            },
            "type": "scatterternary"
           }
          ],
          "surface": [
           {
            "colorbar": {
             "outlinewidth": 0,
             "ticks": ""
            },
            "colorscale": [
             [
              0,
              "#0d0887"
             ],
             [
              0.1111111111111111,
              "#46039f"
             ],
             [
              0.2222222222222222,
              "#7201a8"
             ],
             [
              0.3333333333333333,
              "#9c179e"
             ],
             [
              0.4444444444444444,
              "#bd3786"
             ],
             [
              0.5555555555555556,
              "#d8576b"
             ],
             [
              0.6666666666666666,
              "#ed7953"
             ],
             [
              0.7777777777777778,
              "#fb9f3a"
             ],
             [
              0.8888888888888888,
              "#fdca26"
             ],
             [
              1,
              "#f0f921"
             ]
            ],
            "type": "surface"
           }
          ],
          "table": [
           {
            "cells": {
             "fill": {
              "color": "#EBF0F8"
             },
             "line": {
              "color": "white"
             }
            },
            "header": {
             "fill": {
              "color": "#C8D4E3"
             },
             "line": {
              "color": "white"
             }
            },
            "type": "table"
           }
          ]
         },
         "layout": {
          "annotationdefaults": {
           "arrowcolor": "#2a3f5f",
           "arrowhead": 0,
           "arrowwidth": 1
          },
          "autotypenumbers": "strict",
          "coloraxis": {
           "colorbar": {
            "outlinewidth": 0,
            "ticks": ""
           }
          },
          "colorscale": {
           "diverging": [
            [
             0,
             "#8e0152"
            ],
            [
             0.1,
             "#c51b7d"
            ],
            [
             0.2,
             "#de77ae"
            ],
            [
             0.3,
             "#f1b6da"
            ],
            [
             0.4,
             "#fde0ef"
            ],
            [
             0.5,
             "#f7f7f7"
            ],
            [
             0.6,
             "#e6f5d0"
            ],
            [
             0.7,
             "#b8e186"
            ],
            [
             0.8,
             "#7fbc41"
            ],
            [
             0.9,
             "#4d9221"
            ],
            [
             1,
             "#276419"
            ]
           ],
           "sequential": [
            [
             0,
             "#0d0887"
            ],
            [
             0.1111111111111111,
             "#46039f"
            ],
            [
             0.2222222222222222,
             "#7201a8"
            ],
            [
             0.3333333333333333,
             "#9c179e"
            ],
            [
             0.4444444444444444,
             "#bd3786"
            ],
            [
             0.5555555555555556,
             "#d8576b"
            ],
            [
             0.6666666666666666,
             "#ed7953"
            ],
            [
             0.7777777777777778,
             "#fb9f3a"
            ],
            [
             0.8888888888888888,
             "#fdca26"
            ],
            [
             1,
             "#f0f921"
            ]
           ],
           "sequentialminus": [
            [
             0,
             "#0d0887"
            ],
            [
             0.1111111111111111,
             "#46039f"
            ],
            [
             0.2222222222222222,
             "#7201a8"
            ],
            [
             0.3333333333333333,
             "#9c179e"
            ],
            [
             0.4444444444444444,
             "#bd3786"
            ],
            [
             0.5555555555555556,
             "#d8576b"
            ],
            [
             0.6666666666666666,
             "#ed7953"
            ],
            [
             0.7777777777777778,
             "#fb9f3a"
            ],
            [
             0.8888888888888888,
             "#fdca26"
            ],
            [
             1,
             "#f0f921"
            ]
           ]
          },
          "colorway": [
           "#636efa",
           "#EF553B",
           "#00cc96",
           "#ab63fa",
           "#FFA15A",
           "#19d3f3",
           "#FF6692",
           "#B6E880",
           "#FF97FF",
           "#FECB52"
          ],
          "font": {
           "color": "#2a3f5f"
          },
          "geo": {
           "bgcolor": "white",
           "lakecolor": "white",
           "landcolor": "#E5ECF6",
           "showlakes": true,
           "showland": true,
           "subunitcolor": "white"
          },
          "hoverlabel": {
           "align": "left"
          },
          "hovermode": "closest",
          "mapbox": {
           "style": "light"
          },
          "paper_bgcolor": "white",
          "plot_bgcolor": "#E5ECF6",
          "polar": {
           "angularaxis": {
            "gridcolor": "white",
            "linecolor": "white",
            "ticks": ""
           },
           "bgcolor": "#E5ECF6",
           "radialaxis": {
            "gridcolor": "white",
            "linecolor": "white",
            "ticks": ""
           }
          },
          "scene": {
           "xaxis": {
            "backgroundcolor": "#E5ECF6",
            "gridcolor": "white",
            "gridwidth": 2,
            "linecolor": "white",
            "showbackground": true,
            "ticks": "",
            "zerolinecolor": "white"
           },
           "yaxis": {
            "backgroundcolor": "#E5ECF6",
            "gridcolor": "white",
            "gridwidth": 2,
            "linecolor": "white",
            "showbackground": true,
            "ticks": "",
            "zerolinecolor": "white"
           },
           "zaxis": {
            "backgroundcolor": "#E5ECF6",
            "gridcolor": "white",
            "gridwidth": 2,
            "linecolor": "white",
            "showbackground": true,
            "ticks": "",
            "zerolinecolor": "white"
           }
          },
          "shapedefaults": {
           "line": {
            "color": "#2a3f5f"
           }
          },
          "ternary": {
           "aaxis": {
            "gridcolor": "white",
            "linecolor": "white",
            "ticks": ""
           },
           "baxis": {
            "gridcolor": "white",
            "linecolor": "white",
            "ticks": ""
           },
           "bgcolor": "#E5ECF6",
           "caxis": {
            "gridcolor": "white",
            "linecolor": "white",
            "ticks": ""
           }
          },
          "title": {
           "x": 0.05
          },
          "xaxis": {
           "automargin": true,
           "gridcolor": "white",
           "linecolor": "white",
           "ticks": "",
           "title": {
            "standoff": 15
           },
           "zerolinecolor": "white",
           "zerolinewidth": 2
          },
          "yaxis": {
           "automargin": true,
           "gridcolor": "white",
           "linecolor": "white",
           "ticks": "",
           "title": {
            "standoff": 15
           },
           "zerolinecolor": "white",
           "zerolinewidth": 2
          }
         }
        },
        "title": {
         "text": "Monopoly Board Street Probabilities Against Rent 4 Houses"
        },
        "xaxis": {
         "anchor": "y",
         "domain": [
          0,
          1
         ],
         "title": {
          "text": "Rent 4 Houses"
         }
        },
        "yaxis": {
         "anchor": "x",
         "domain": [
          0,
          1
         ],
         "range": [
          0.018,
          0.03
         ],
         "title": {
          "text": "Probability"
         }
        }
       }
      }
     },
     "metadata": {},
     "output_type": "display_data"
    },
    {
     "data": {
      "application/vnd.plotly.v1+json": {
       "config": {
        "plotlyServerURL": "https://plot.ly"
       },
       "data": [
        {
         "hovertemplate": "Property=Old Kent Road<br>Rent Hotel=%{x}<br>Probability=%{y}<br>Rent Hotel * Probability=%{marker.size}<extra></extra>",
         "legendgroup": "Old Kent Road",
         "marker": {
          "color": "brown",
          "size": [
           4.601301607550188
          ],
          "sizemode": "area",
          "sizeref": 0.11399876758089102,
          "symbol": "circle"
         },
         "mode": "markers",
         "name": "Old Kent Road",
         "orientation": "v",
         "showlegend": true,
         "type": "scatter",
         "x": [
          250
         ],
         "xaxis": "x",
         "y": [
          0.018405206430200754
         ],
         "yaxis": "y"
        },
        {
         "hovertemplate": "Property=Whitechapel Road<br>Rent Hotel=%{x}<br>Probability=%{y}<br>Rent Hotel * Probability=%{marker.size}<extra></extra>",
         "legendgroup": "Whitechapel Road",
         "marker": {
          "color": "brown",
          "size": [
           9.115441995221675
          ],
          "sizemode": "area",
          "sizeref": 0.11399876758089102,
          "symbol": "circle"
         },
         "mode": "markers",
         "name": "Whitechapel Road",
         "orientation": "v",
         "showlegend": true,
         "type": "scatter",
         "x": [
          450
         ],
         "xaxis": "x",
         "y": [
          0.020256537767159275
         ],
         "yaxis": "y"
        },
        {
         "hovertemplate": "Property=The Angel, Islington<br>Rent Hotel=%{x}<br>Probability=%{y}<br>Rent Hotel * Probability=%{marker.size}<extra></extra>",
         "legendgroup": "The Angel, Islington",
         "marker": {
          "color": "lightblue",
          "size": [
           12.82526675387293
          ],
          "sizemode": "area",
          "sizeref": 0.11399876758089102,
          "symbol": "circle"
         },
         "mode": "markers",
         "name": "The Angel, Islington",
         "orientation": "v",
         "showlegend": true,
         "type": "scatter",
         "x": [
          550
         ],
         "xaxis": "x",
         "y": [
          0.02331866682522351
         ],
         "yaxis": "y"
        },
        {
         "hovertemplate": "Property=Euston Road<br>Rent Hotel=%{x}<br>Probability=%{y}<br>Rent Hotel * Probability=%{marker.size}<extra></extra>",
         "legendgroup": "Euston Road",
         "marker": {
          "color": "lightblue",
          "size": [
           13.296477875914855
          ],
          "sizemode": "area",
          "sizeref": 0.11399876758089102,
          "symbol": "circle"
         },
         "mode": "markers",
         "name": "Euston Road",
         "orientation": "v",
         "showlegend": true,
         "type": "scatter",
         "x": [
          550
         ],
         "xaxis": "x",
         "y": [
          0.02417541431984519
         ],
         "yaxis": "y"
        },
        {
         "hovertemplate": "Property=Pentonville Road<br>Rent Hotel=%{x}<br>Probability=%{y}<br>Rent Hotel * Probability=%{marker.size}<extra></extra>",
         "legendgroup": "Pentonville Road",
         "marker": {
          "color": "lightblue",
          "size": [
           14.15173890012
          ],
          "sizemode": "area",
          "sizeref": 0.11399876758089102,
          "symbol": "circle"
         },
         "mode": "markers",
         "name": "Pentonville Road",
         "orientation": "v",
         "showlegend": true,
         "type": "scatter",
         "x": [
          600
         ],
         "xaxis": "x",
         "y": [
          0.0235862315002
         ],
         "yaxis": "y"
        },
        {
         "hovertemplate": "Property=Pall Mall<br>Rent Hotel=%{x}<br>Probability=%{y}<br>Rent Hotel * Probability=%{marker.size}<extra></extra>",
         "legendgroup": "Pall Mall",
         "marker": {
          "color": "pink",
          "size": [
           20.020729505626967
          ],
          "sizemode": "area",
          "sizeref": 0.11399876758089102,
          "symbol": "circle"
         },
         "mode": "markers",
         "name": "Pall Mall",
         "orientation": "v",
         "showlegend": true,
         "type": "scatter",
         "x": [
          750
         ],
         "xaxis": "x",
         "y": [
          0.02669430600750262
         ],
         "yaxis": "y"
        },
        {
         "hovertemplate": "Property=Whitehall<br>Rent Hotel=%{x}<br>Probability=%{y}<br>Rent Hotel * Probability=%{marker.size}<extra></extra>",
         "legendgroup": "Whitehall",
         "marker": {
          "color": "pink",
          "size": [
           16.9518437638512
          ],
          "sizemode": "area",
          "sizeref": 0.11399876758089102,
          "symbol": "circle"
         },
         "mode": "markers",
         "name": "Whitehall",
         "orientation": "v",
         "showlegend": true,
         "type": "scatter",
         "x": [
          750
         ],
         "xaxis": "x",
         "y": [
          0.0226024583518016
         ],
         "yaxis": "y"
        },
        {
         "hovertemplate": "Property=Northumberland Avenue<br>Rent Hotel=%{x}<br>Probability=%{y}<br>Rent Hotel * Probability=%{marker.size}<extra></extra>",
         "legendgroup": "Northumberland Avenue",
         "marker": {
          "color": "pink",
          "size": [
           21.412471216527386
          ],
          "sizemode": "area",
          "sizeref": 0.11399876758089102,
          "symbol": "circle"
         },
         "mode": "markers",
         "name": "Northumberland Avenue",
         "orientation": "v",
         "showlegend": true,
         "type": "scatter",
         "x": [
          900
         ],
         "xaxis": "x",
         "y": [
          0.02379163468503043
         ],
         "yaxis": "y"
        },
        {
         "hovertemplate": "Property=Bow Street<br>Rent Hotel=%{x}<br>Probability=%{y}<br>Rent Hotel * Probability=%{marker.size}<extra></extra>",
         "legendgroup": "Bow Street",
         "marker": {
          "color": "orange",
          "size": [
           24.80500210808532
          ],
          "sizemode": "area",
          "sizeref": 0.11399876758089102,
          "symbol": "circle"
         },
         "mode": "markers",
         "name": "Bow Street",
         "orientation": "v",
         "showlegend": true,
         "type": "scatter",
         "x": [
          950
         ],
         "xaxis": "x",
         "y": [
          0.02611052853482665
         ],
         "yaxis": "y"
        },
        {
         "hovertemplate": "Property=Marlborough Street<br>Rent Hotel=%{x}<br>Probability=%{y}<br>Rent Hotel * Probability=%{marker.size}<extra></extra>",
         "legendgroup": "Marlborough Street",
         "marker": {
          "color": "orange",
          "size": [
           25.860260970151675
          ],
          "sizemode": "area",
          "sizeref": 0.11399876758089102,
          "symbol": "circle"
         },
         "mode": "markers",
         "name": "Marlborough Street",
         "orientation": "v",
         "showlegend": true,
         "type": "scatter",
         "x": [
          950
         ],
         "xaxis": "x",
         "y": [
          0.027221327337001763
         ],
         "yaxis": "y"
        },
        {
         "hovertemplate": "Property=Vine Street<br>Rent Hotel=%{x}<br>Probability=%{y}<br>Rent Hotel * Probability=%{marker.size}<extra></extra>",
         "legendgroup": "Vine Street",
         "marker": {
          "color": "orange",
          "size": [
           28.42401703765365
          ],
          "sizemode": "area",
          "sizeref": 0.11399876758089102,
          "symbol": "circle"
         },
         "mode": "markers",
         "name": "Vine Street",
         "orientation": "v",
         "showlegend": true,
         "type": "scatter",
         "x": [
          1000
         ],
         "xaxis": "x",
         "y": [
          0.028424017037653647
         ],
         "yaxis": "y"
        },
        {
         "hovertemplate": "Property=Strand<br>Rent Hotel=%{x}<br>Probability=%{y}<br>Rent Hotel * Probability=%{marker.size}<extra></extra>",
         "legendgroup": "Strand",
         "marker": {
          "color": "red",
          "size": [
           26.822953265370103
          ],
          "sizemode": "area",
          "sizeref": 0.11399876758089102,
          "symbol": "circle"
         },
         "mode": "markers",
         "name": "Strand",
         "orientation": "v",
         "showlegend": true,
         "type": "scatter",
         "x": [
          1050
         ],
         "xaxis": "x",
         "y": [
          0.025545669776542955
         ],
         "yaxis": "y"
        },
        {
         "hovertemplate": "Property=Fleet Street<br>Rent Hotel=%{x}<br>Probability=%{y}<br>Rent Hotel * Probability=%{marker.size}<extra></extra>",
         "legendgroup": "Fleet Street",
         "marker": {
          "color": "red",
          "size": [
           26.266743062237165
          ],
          "sizemode": "area",
          "sizeref": 0.11399876758089102,
          "symbol": "circle"
         },
         "mode": "markers",
         "name": "Fleet Street",
         "orientation": "v",
         "showlegend": true,
         "type": "scatter",
         "x": [
          1050
         ],
         "xaxis": "x",
         "y": [
          0.025015945773559204
         ],
         "yaxis": "y"
        },
        {
         "hovertemplate": "Property=Trafalgar Square<br>Rent Hotel=%{x}<br>Probability=%{y}<br>Rent Hotel * Probability=%{marker.size}<extra></extra>",
         "legendgroup": "Trafalgar Square",
         "marker": {
          "color": "red",
          "size": [
           31.988843363855526
          ],
          "sizemode": "area",
          "sizeref": 0.11399876758089102,
          "symbol": "circle"
         },
         "mode": "markers",
         "name": "Trafalgar Square",
         "orientation": "v",
         "showlegend": true,
         "type": "scatter",
         "x": [
          1100
         ],
         "xaxis": "x",
         "y": [
          0.029080766694414114
         ],
         "yaxis": "y"
        },
        {
         "hovertemplate": "Property=Leicester Square<br>Rent Hotel=%{x}<br>Probability=%{y}<br>Rent Hotel * Probability=%{marker.size}<extra></extra>",
         "legendgroup": "Leicester Square",
         "marker": {
          "color": "yellow",
          "size": [
           28.258613420395456
          ],
          "sizemode": "area",
          "sizeref": 0.11399876758089102,
          "symbol": "circle"
         },
         "mode": "markers",
         "name": "Leicester Square",
         "orientation": "v",
         "showlegend": true,
         "type": "scatter",
         "x": [
          1150
         ],
         "xaxis": "x",
         "y": [
          0.024572707322083005
         ],
         "yaxis": "y"
        },
        {
         "hovertemplate": "Property=Coventry Street<br>Rent Hotel=%{x}<br>Probability=%{y}<br>Rent Hotel * Probability=%{marker.size}<extra></extra>",
         "legendgroup": "Coventry Street",
         "marker": {
          "color": "yellow",
          "size": [
           27.801726467821968
          ],
          "sizemode": "area",
          "sizeref": 0.11399876758089102,
          "symbol": "circle"
         },
         "mode": "markers",
         "name": "Coventry Street",
         "orientation": "v",
         "showlegend": true,
         "type": "scatter",
         "x": [
          1150
         ],
         "xaxis": "x",
         "y": [
          0.02417541431984519
         ],
         "yaxis": "y"
        },
        {
         "hovertemplate": "Property=Piccadilly<br>Rent Hotel=%{x}<br>Probability=%{y}<br>Rent Hotel * Probability=%{marker.size}<extra></extra>",
         "legendgroup": "Piccadilly",
         "marker": {
          "color": "yellow",
          "size": [
           27.833212613917688
          ],
          "sizemode": "area",
          "sizeref": 0.11399876758089102,
          "symbol": "circle"
         },
         "mode": "markers",
         "name": "Piccadilly",
         "orientation": "v",
         "showlegend": true,
         "type": "scatter",
         "x": [
          1200
         ],
         "xaxis": "x",
         "y": [
          0.023194343844931405
         ],
         "yaxis": "y"
        },
        {
         "hovertemplate": "Property=Regent Street<br>Rent Hotel=%{x}<br>Probability=%{y}<br>Rent Hotel * Probability=%{marker.size}<extra></extra>",
         "legendgroup": "Regent Street",
         "marker": {
          "color": "green",
          "size": [
           30.868450070810045
          ],
          "sizemode": "area",
          "sizeref": 0.11399876758089102,
          "symbol": "circle"
         },
         "mode": "markers",
         "name": "Regent Street",
         "orientation": "v",
         "showlegend": true,
         "type": "scatter",
         "x": [
          1275
         ],
         "xaxis": "x",
         "y": [
          0.024210549075145135
         ],
         "yaxis": "y"
        },
        {
         "hovertemplate": "Property=Oxford Street<br>Rent Hotel=%{x}<br>Probability=%{y}<br>Rent Hotel * Probability=%{marker.size}<extra></extra>",
         "legendgroup": "Oxford Street",
         "marker": {
          "color": "green",
          "size": [
           29.920825180268324
          ],
          "sizemode": "area",
          "sizeref": 0.11399876758089102,
          "symbol": "circle"
         },
         "mode": "markers",
         "name": "Oxford Street",
         "orientation": "v",
         "showlegend": true,
         "type": "scatter",
         "x": [
          1275
         ],
         "xaxis": "x",
         "y": [
          0.023467313866877115
         ],
         "yaxis": "y"
        },
        {
         "hovertemplate": "Property=Bond Street<br>Rent Hotel=%{x}<br>Probability=%{y}<br>Rent Hotel * Probability=%{marker.size}<extra></extra>",
         "legendgroup": "Bond Street",
         "marker": {
          "color": "green",
          "size": [
           31.480740748748662
          ],
          "sizemode": "area",
          "sizeref": 0.11399876758089102,
          "symbol": "circle"
         },
         "mode": "markers",
         "name": "Bond Street",
         "orientation": "v",
         "showlegend": true,
         "type": "scatter",
         "x": [
          1400
         ],
         "xaxis": "x",
         "y": [
          0.02248624339196333
         ],
         "yaxis": "y"
        },
        {
         "hovertemplate": "Property=Park Lane<br>Rent Hotel=%{x}<br>Probability=%{y}<br>Rent Hotel * Probability=%{marker.size}<extra></extra>",
         "legendgroup": "Park Lane",
         "marker": {
          "color": "darkblue",
          "size": [
           28.46725981340742
          ],
          "sizemode": "area",
          "sizeref": 0.11399876758089102,
          "symbol": "circle"
         },
         "mode": "markers",
         "name": "Park Lane",
         "orientation": "v",
         "showlegend": true,
         "type": "scatter",
         "x": [
          1500
         ],
         "xaxis": "x",
         "y": [
          0.01897817320893828
         ],
         "yaxis": "y"
        },
        {
         "hovertemplate": "Property=Mayfair<br>Rent Hotel=%{x}<br>Probability=%{y}<br>Rent Hotel * Probability=%{marker.size}<extra></extra>",
         "legendgroup": "Mayfair",
         "marker": {
          "color": "darkblue",
          "size": [
           45.59950703235641
          ],
          "sizemode": "area",
          "sizeref": 0.11399876758089102,
          "symbol": "circle"
         },
         "mode": "markers",
         "name": "Mayfair",
         "orientation": "v",
         "showlegend": true,
         "type": "scatter",
         "x": [
          2000
         ],
         "xaxis": "x",
         "y": [
          0.022799753516178203
         ],
         "yaxis": "y"
        }
       ],
       "layout": {
        "legend": {
         "itemsizing": "constant",
         "title": {
          "text": "Property"
         },
         "tracegroupgap": 0
        },
        "showlegend": false,
        "template": {
         "data": {
          "bar": [
           {
            "error_x": {
             "color": "#2a3f5f"
            },
            "error_y": {
             "color": "#2a3f5f"
            },
            "marker": {
             "line": {
              "color": "#E5ECF6",
              "width": 0.5
             },
             "pattern": {
              "fillmode": "overlay",
              "size": 10,
              "solidity": 0.2
             }
            },
            "type": "bar"
           }
          ],
          "barpolar": [
           {
            "marker": {
             "line": {
              "color": "#E5ECF6",
              "width": 0.5
             },
             "pattern": {
              "fillmode": "overlay",
              "size": 10,
              "solidity": 0.2
             }
            },
            "type": "barpolar"
           }
          ],
          "carpet": [
           {
            "aaxis": {
             "endlinecolor": "#2a3f5f",
             "gridcolor": "white",
             "linecolor": "white",
             "minorgridcolor": "white",
             "startlinecolor": "#2a3f5f"
            },
            "baxis": {
             "endlinecolor": "#2a3f5f",
             "gridcolor": "white",
             "linecolor": "white",
             "minorgridcolor": "white",
             "startlinecolor": "#2a3f5f"
            },
            "type": "carpet"
           }
          ],
          "choropleth": [
           {
            "colorbar": {
             "outlinewidth": 0,
             "ticks": ""
            },
            "type": "choropleth"
           }
          ],
          "contour": [
           {
            "colorbar": {
             "outlinewidth": 0,
             "ticks": ""
            },
            "colorscale": [
             [
              0,
              "#0d0887"
             ],
             [
              0.1111111111111111,
              "#46039f"
             ],
             [
              0.2222222222222222,
              "#7201a8"
             ],
             [
              0.3333333333333333,
              "#9c179e"
             ],
             [
              0.4444444444444444,
              "#bd3786"
             ],
             [
              0.5555555555555556,
              "#d8576b"
             ],
             [
              0.6666666666666666,
              "#ed7953"
             ],
             [
              0.7777777777777778,
              "#fb9f3a"
             ],
             [
              0.8888888888888888,
              "#fdca26"
             ],
             [
              1,
              "#f0f921"
             ]
            ],
            "type": "contour"
           }
          ],
          "contourcarpet": [
           {
            "colorbar": {
             "outlinewidth": 0,
             "ticks": ""
            },
            "type": "contourcarpet"
           }
          ],
          "heatmap": [
           {
            "colorbar": {
             "outlinewidth": 0,
             "ticks": ""
            },
            "colorscale": [
             [
              0,
              "#0d0887"
             ],
             [
              0.1111111111111111,
              "#46039f"
             ],
             [
              0.2222222222222222,
              "#7201a8"
             ],
             [
              0.3333333333333333,
              "#9c179e"
             ],
             [
              0.4444444444444444,
              "#bd3786"
             ],
             [
              0.5555555555555556,
              "#d8576b"
             ],
             [
              0.6666666666666666,
              "#ed7953"
             ],
             [
              0.7777777777777778,
              "#fb9f3a"
             ],
             [
              0.8888888888888888,
              "#fdca26"
             ],
             [
              1,
              "#f0f921"
             ]
            ],
            "type": "heatmap"
           }
          ],
          "heatmapgl": [
           {
            "colorbar": {
             "outlinewidth": 0,
             "ticks": ""
            },
            "colorscale": [
             [
              0,
              "#0d0887"
             ],
             [
              0.1111111111111111,
              "#46039f"
             ],
             [
              0.2222222222222222,
              "#7201a8"
             ],
             [
              0.3333333333333333,
              "#9c179e"
             ],
             [
              0.4444444444444444,
              "#bd3786"
             ],
             [
              0.5555555555555556,
              "#d8576b"
             ],
             [
              0.6666666666666666,
              "#ed7953"
             ],
             [
              0.7777777777777778,
              "#fb9f3a"
             ],
             [
              0.8888888888888888,
              "#fdca26"
             ],
             [
              1,
              "#f0f921"
             ]
            ],
            "type": "heatmapgl"
           }
          ],
          "histogram": [
           {
            "marker": {
             "pattern": {
              "fillmode": "overlay",
              "size": 10,
              "solidity": 0.2
             }
            },
            "type": "histogram"
           }
          ],
          "histogram2d": [
           {
            "colorbar": {
             "outlinewidth": 0,
             "ticks": ""
            },
            "colorscale": [
             [
              0,
              "#0d0887"
             ],
             [
              0.1111111111111111,
              "#46039f"
             ],
             [
              0.2222222222222222,
              "#7201a8"
             ],
             [
              0.3333333333333333,
              "#9c179e"
             ],
             [
              0.4444444444444444,
              "#bd3786"
             ],
             [
              0.5555555555555556,
              "#d8576b"
             ],
             [
              0.6666666666666666,
              "#ed7953"
             ],
             [
              0.7777777777777778,
              "#fb9f3a"
             ],
             [
              0.8888888888888888,
              "#fdca26"
             ],
             [
              1,
              "#f0f921"
             ]
            ],
            "type": "histogram2d"
           }
          ],
          "histogram2dcontour": [
           {
            "colorbar": {
             "outlinewidth": 0,
             "ticks": ""
            },
            "colorscale": [
             [
              0,
              "#0d0887"
             ],
             [
              0.1111111111111111,
              "#46039f"
             ],
             [
              0.2222222222222222,
              "#7201a8"
             ],
             [
              0.3333333333333333,
              "#9c179e"
             ],
             [
              0.4444444444444444,
              "#bd3786"
             ],
             [
              0.5555555555555556,
              "#d8576b"
             ],
             [
              0.6666666666666666,
              "#ed7953"
             ],
             [
              0.7777777777777778,
              "#fb9f3a"
             ],
             [
              0.8888888888888888,
              "#fdca26"
             ],
             [
              1,
              "#f0f921"
             ]
            ],
            "type": "histogram2dcontour"
           }
          ],
          "mesh3d": [
           {
            "colorbar": {
             "outlinewidth": 0,
             "ticks": ""
            },
            "type": "mesh3d"
           }
          ],
          "parcoords": [
           {
            "line": {
             "colorbar": {
              "outlinewidth": 0,
              "ticks": ""
             }
            },
            "type": "parcoords"
           }
          ],
          "pie": [
           {
            "automargin": true,
            "type": "pie"
           }
          ],
          "scatter": [
           {
            "fillpattern": {
             "fillmode": "overlay",
             "size": 10,
             "solidity": 0.2
            },
            "type": "scatter"
           }
          ],
          "scatter3d": [
           {
            "line": {
             "colorbar": {
              "outlinewidth": 0,
              "ticks": ""
             }
            },
            "marker": {
             "colorbar": {
              "outlinewidth": 0,
              "ticks": ""
             }
            },
            "type": "scatter3d"
           }
          ],
          "scattercarpet": [
           {
            "marker": {
             "colorbar": {
              "outlinewidth": 0,
              "ticks": ""
             }
            },
            "type": "scattercarpet"
           }
          ],
          "scattergeo": [
           {
            "marker": {
             "colorbar": {
              "outlinewidth": 0,
              "ticks": ""
             }
            },
            "type": "scattergeo"
           }
          ],
          "scattergl": [
           {
            "marker": {
             "colorbar": {
              "outlinewidth": 0,
              "ticks": ""
             }
            },
            "type": "scattergl"
           }
          ],
          "scattermapbox": [
           {
            "marker": {
             "colorbar": {
              "outlinewidth": 0,
              "ticks": ""
             }
            },
            "type": "scattermapbox"
           }
          ],
          "scatterpolar": [
           {
            "marker": {
             "colorbar": {
              "outlinewidth": 0,
              "ticks": ""
             }
            },
            "type": "scatterpolar"
           }
          ],
          "scatterpolargl": [
           {
            "marker": {
             "colorbar": {
              "outlinewidth": 0,
              "ticks": ""
             }
            },
            "type": "scatterpolargl"
           }
          ],
          "scatterternary": [
           {
            "marker": {
             "colorbar": {
              "outlinewidth": 0,
              "ticks": ""
             }
            },
            "type": "scatterternary"
           }
          ],
          "surface": [
           {
            "colorbar": {
             "outlinewidth": 0,
             "ticks": ""
            },
            "colorscale": [
             [
              0,
              "#0d0887"
             ],
             [
              0.1111111111111111,
              "#46039f"
             ],
             [
              0.2222222222222222,
              "#7201a8"
             ],
             [
              0.3333333333333333,
              "#9c179e"
             ],
             [
              0.4444444444444444,
              "#bd3786"
             ],
             [
              0.5555555555555556,
              "#d8576b"
             ],
             [
              0.6666666666666666,
              "#ed7953"
             ],
             [
              0.7777777777777778,
              "#fb9f3a"
             ],
             [
              0.8888888888888888,
              "#fdca26"
             ],
             [
              1,
              "#f0f921"
             ]
            ],
            "type": "surface"
           }
          ],
          "table": [
           {
            "cells": {
             "fill": {
              "color": "#EBF0F8"
             },
             "line": {
              "color": "white"
             }
            },
            "header": {
             "fill": {
              "color": "#C8D4E3"
             },
             "line": {
              "color": "white"
             }
            },
            "type": "table"
           }
          ]
         },
         "layout": {
          "annotationdefaults": {
           "arrowcolor": "#2a3f5f",
           "arrowhead": 0,
           "arrowwidth": 1
          },
          "autotypenumbers": "strict",
          "coloraxis": {
           "colorbar": {
            "outlinewidth": 0,
            "ticks": ""
           }
          },
          "colorscale": {
           "diverging": [
            [
             0,
             "#8e0152"
            ],
            [
             0.1,
             "#c51b7d"
            ],
            [
             0.2,
             "#de77ae"
            ],
            [
             0.3,
             "#f1b6da"
            ],
            [
             0.4,
             "#fde0ef"
            ],
            [
             0.5,
             "#f7f7f7"
            ],
            [
             0.6,
             "#e6f5d0"
            ],
            [
             0.7,
             "#b8e186"
            ],
            [
             0.8,
             "#7fbc41"
            ],
            [
             0.9,
             "#4d9221"
            ],
            [
             1,
             "#276419"
            ]
           ],
           "sequential": [
            [
             0,
             "#0d0887"
            ],
            [
             0.1111111111111111,
             "#46039f"
            ],
            [
             0.2222222222222222,
             "#7201a8"
            ],
            [
             0.3333333333333333,
             "#9c179e"
            ],
            [
             0.4444444444444444,
             "#bd3786"
            ],
            [
             0.5555555555555556,
             "#d8576b"
            ],
            [
             0.6666666666666666,
             "#ed7953"
            ],
            [
             0.7777777777777778,
             "#fb9f3a"
            ],
            [
             0.8888888888888888,
             "#fdca26"
            ],
            [
             1,
             "#f0f921"
            ]
           ],
           "sequentialminus": [
            [
             0,
             "#0d0887"
            ],
            [
             0.1111111111111111,
             "#46039f"
            ],
            [
             0.2222222222222222,
             "#7201a8"
            ],
            [
             0.3333333333333333,
             "#9c179e"
            ],
            [
             0.4444444444444444,
             "#bd3786"
            ],
            [
             0.5555555555555556,
             "#d8576b"
            ],
            [
             0.6666666666666666,
             "#ed7953"
            ],
            [
             0.7777777777777778,
             "#fb9f3a"
            ],
            [
             0.8888888888888888,
             "#fdca26"
            ],
            [
             1,
             "#f0f921"
            ]
           ]
          },
          "colorway": [
           "#636efa",
           "#EF553B",
           "#00cc96",
           "#ab63fa",
           "#FFA15A",
           "#19d3f3",
           "#FF6692",
           "#B6E880",
           "#FF97FF",
           "#FECB52"
          ],
          "font": {
           "color": "#2a3f5f"
          },
          "geo": {
           "bgcolor": "white",
           "lakecolor": "white",
           "landcolor": "#E5ECF6",
           "showlakes": true,
           "showland": true,
           "subunitcolor": "white"
          },
          "hoverlabel": {
           "align": "left"
          },
          "hovermode": "closest",
          "mapbox": {
           "style": "light"
          },
          "paper_bgcolor": "white",
          "plot_bgcolor": "#E5ECF6",
          "polar": {
           "angularaxis": {
            "gridcolor": "white",
            "linecolor": "white",
            "ticks": ""
           },
           "bgcolor": "#E5ECF6",
           "radialaxis": {
            "gridcolor": "white",
            "linecolor": "white",
            "ticks": ""
           }
          },
          "scene": {
           "xaxis": {
            "backgroundcolor": "#E5ECF6",
            "gridcolor": "white",
            "gridwidth": 2,
            "linecolor": "white",
            "showbackground": true,
            "ticks": "",
            "zerolinecolor": "white"
           },
           "yaxis": {
            "backgroundcolor": "#E5ECF6",
            "gridcolor": "white",
            "gridwidth": 2,
            "linecolor": "white",
            "showbackground": true,
            "ticks": "",
            "zerolinecolor": "white"
           },
           "zaxis": {
            "backgroundcolor": "#E5ECF6",
            "gridcolor": "white",
            "gridwidth": 2,
            "linecolor": "white",
            "showbackground": true,
            "ticks": "",
            "zerolinecolor": "white"
           }
          },
          "shapedefaults": {
           "line": {
            "color": "#2a3f5f"
           }
          },
          "ternary": {
           "aaxis": {
            "gridcolor": "white",
            "linecolor": "white",
            "ticks": ""
           },
           "baxis": {
            "gridcolor": "white",
            "linecolor": "white",
            "ticks": ""
           },
           "bgcolor": "#E5ECF6",
           "caxis": {
            "gridcolor": "white",
            "linecolor": "white",
            "ticks": ""
           }
          },
          "title": {
           "x": 0.05
          },
          "xaxis": {
           "automargin": true,
           "gridcolor": "white",
           "linecolor": "white",
           "ticks": "",
           "title": {
            "standoff": 15
           },
           "zerolinecolor": "white",
           "zerolinewidth": 2
          },
          "yaxis": {
           "automargin": true,
           "gridcolor": "white",
           "linecolor": "white",
           "ticks": "",
           "title": {
            "standoff": 15
           },
           "zerolinecolor": "white",
           "zerolinewidth": 2
          }
         }
        },
        "title": {
         "text": "Monopoly Board Street Probabilities Against Rent Hotel"
        },
        "xaxis": {
         "anchor": "y",
         "domain": [
          0,
          1
         ],
         "title": {
          "text": "Rent Hotel"
         }
        },
        "yaxis": {
         "anchor": "x",
         "domain": [
          0,
          1
         ],
         "range": [
          0.018,
          0.03
         ],
         "title": {
          "text": "Probability"
         }
        }
       }
      }
     },
     "metadata": {},
     "output_type": "display_data"
    }
   ],
   "source": [
    "for name in ['Rent Doubled', 'Rent 1 House', 'Rent 2 Houses', 'Rent 3 Houses', 'Rent 4 Houses', 'Rent Hotel']:\n",
    "    df_streets[name + ' * Probability'] = df_streets[name] * df_streets['Probability']\n",
    "\n",
    "    fig = px.scatter(\n",
    "        df_streets,\n",
    "        x=name,\n",
    "        y='Probability',\n",
    "        title=\"Monopoly Board Street Probabilities Against \" + name,\n",
    "        labels={'x': name, 'y': 'Probability'},\n",
    "        color='Property',\n",
    "        color_discrete_map=color_dict,\n",
    "        size = name + \" * Probability\"\n",
    "    )\n",
    "\n",
    "    fig.update_yaxes(range=[0.018, 0.03])\n",
    "    fig.update_layout(showlegend=False)\n",
    "    fig.show()"
   ]
  },
  {
   "cell_type": "markdown",
   "metadata": {},
   "source": [
    "stations"
   ]
  },
  {
   "cell_type": "code",
   "execution_count": 9,
   "metadata": {},
   "outputs": [
    {
     "data": {
      "application/vnd.plotly.v1+json": {
       "config": {
        "plotlyServerURL": "https://plot.ly"
       },
       "data": [
        {
         "hovertemplate": "Property=King's Cross Station<br>Rent 1 Station=%{x}<br>Probability=%{y}<br>Rent 1 Station * Probability=%{marker.size}<extra></extra>",
         "legendgroup": "King's Cross Station",
         "marker": {
          "color": "black",
          "size": [
           0.727289434708814
          ],
          "sizemode": "area",
          "sizeref": 0.0018182235867720351,
          "symbol": "circle"
         },
         "mode": "markers",
         "name": "King's Cross Station",
         "orientation": "v",
         "showlegend": true,
         "type": "scatter",
         "x": [
          25
         ],
         "xaxis": "x",
         "y": [
          0.02909157738835256
         ],
         "yaxis": "y"
        },
        {
         "hovertemplate": "Property=Marylebone Station<br>Rent 1 Station=%{x}<br>Probability=%{y}<br>Rent 1 Station * Probability=%{marker.size}<extra></extra>",
         "legendgroup": "Marylebone Station",
         "marker": {
          "color": "black",
          "size": [
           0.6918844120604102
          ],
          "sizemode": "area",
          "sizeref": 0.0018182235867720351,
          "symbol": "circle"
         },
         "mode": "markers",
         "name": "Marylebone Station",
         "orientation": "v",
         "showlegend": true,
         "type": "scatter",
         "x": [
          25
         ],
         "xaxis": "x",
         "y": [
          0.027675376482416407
         ],
         "yaxis": "y"
        },
        {
         "hovertemplate": "Property=Fenchurch St. Station<br>Rent 1 Station=%{x}<br>Probability=%{y}<br>Rent 1 Station * Probability=%{marker.size}<extra></extra>",
         "legendgroup": "Fenchurch St. Station",
         "marker": {
          "color": "black",
          "size": [
           0.7035734748813526
          ],
          "sizemode": "area",
          "sizeref": 0.0018182235867720351,
          "symbol": "circle"
         },
         "mode": "markers",
         "name": "Fenchurch St. Station",
         "orientation": "v",
         "showlegend": true,
         "type": "scatter",
         "x": [
          25
         ],
         "xaxis": "x",
         "y": [
          0.028142938995254104
         ],
         "yaxis": "y"
        },
        {
         "hovertemplate": "Property=Liverpool St. Station<br>Rent 1 Station=%{x}<br>Probability=%{y}<br>Rent 1 Station * Probability=%{marker.size}<extra></extra>",
         "legendgroup": "Liverpool St. Station",
         "marker": {
          "color": "black",
          "size": [
           0.5356023178127803
          ],
          "sizemode": "area",
          "sizeref": 0.0018182235867720351,
          "symbol": "circle"
         },
         "mode": "markers",
         "name": "Liverpool St. Station",
         "orientation": "v",
         "showlegend": true,
         "type": "scatter",
         "x": [
          25
         ],
         "xaxis": "x",
         "y": [
          0.021424092712511215
         ],
         "yaxis": "y"
        }
       ],
       "layout": {
        "legend": {
         "itemsizing": "constant",
         "title": {
          "text": "Property"
         },
         "tracegroupgap": 0
        },
        "showlegend": false,
        "template": {
         "data": {
          "bar": [
           {
            "error_x": {
             "color": "#2a3f5f"
            },
            "error_y": {
             "color": "#2a3f5f"
            },
            "marker": {
             "line": {
              "color": "#E5ECF6",
              "width": 0.5
             },
             "pattern": {
              "fillmode": "overlay",
              "size": 10,
              "solidity": 0.2
             }
            },
            "type": "bar"
           }
          ],
          "barpolar": [
           {
            "marker": {
             "line": {
              "color": "#E5ECF6",
              "width": 0.5
             },
             "pattern": {
              "fillmode": "overlay",
              "size": 10,
              "solidity": 0.2
             }
            },
            "type": "barpolar"
           }
          ],
          "carpet": [
           {
            "aaxis": {
             "endlinecolor": "#2a3f5f",
             "gridcolor": "white",
             "linecolor": "white",
             "minorgridcolor": "white",
             "startlinecolor": "#2a3f5f"
            },
            "baxis": {
             "endlinecolor": "#2a3f5f",
             "gridcolor": "white",
             "linecolor": "white",
             "minorgridcolor": "white",
             "startlinecolor": "#2a3f5f"
            },
            "type": "carpet"
           }
          ],
          "choropleth": [
           {
            "colorbar": {
             "outlinewidth": 0,
             "ticks": ""
            },
            "type": "choropleth"
           }
          ],
          "contour": [
           {
            "colorbar": {
             "outlinewidth": 0,
             "ticks": ""
            },
            "colorscale": [
             [
              0,
              "#0d0887"
             ],
             [
              0.1111111111111111,
              "#46039f"
             ],
             [
              0.2222222222222222,
              "#7201a8"
             ],
             [
              0.3333333333333333,
              "#9c179e"
             ],
             [
              0.4444444444444444,
              "#bd3786"
             ],
             [
              0.5555555555555556,
              "#d8576b"
             ],
             [
              0.6666666666666666,
              "#ed7953"
             ],
             [
              0.7777777777777778,
              "#fb9f3a"
             ],
             [
              0.8888888888888888,
              "#fdca26"
             ],
             [
              1,
              "#f0f921"
             ]
            ],
            "type": "contour"
           }
          ],
          "contourcarpet": [
           {
            "colorbar": {
             "outlinewidth": 0,
             "ticks": ""
            },
            "type": "contourcarpet"
           }
          ],
          "heatmap": [
           {
            "colorbar": {
             "outlinewidth": 0,
             "ticks": ""
            },
            "colorscale": [
             [
              0,
              "#0d0887"
             ],
             [
              0.1111111111111111,
              "#46039f"
             ],
             [
              0.2222222222222222,
              "#7201a8"
             ],
             [
              0.3333333333333333,
              "#9c179e"
             ],
             [
              0.4444444444444444,
              "#bd3786"
             ],
             [
              0.5555555555555556,
              "#d8576b"
             ],
             [
              0.6666666666666666,
              "#ed7953"
             ],
             [
              0.7777777777777778,
              "#fb9f3a"
             ],
             [
              0.8888888888888888,
              "#fdca26"
             ],
             [
              1,
              "#f0f921"
             ]
            ],
            "type": "heatmap"
           }
          ],
          "heatmapgl": [
           {
            "colorbar": {
             "outlinewidth": 0,
             "ticks": ""
            },
            "colorscale": [
             [
              0,
              "#0d0887"
             ],
             [
              0.1111111111111111,
              "#46039f"
             ],
             [
              0.2222222222222222,
              "#7201a8"
             ],
             [
              0.3333333333333333,
              "#9c179e"
             ],
             [
              0.4444444444444444,
              "#bd3786"
             ],
             [
              0.5555555555555556,
              "#d8576b"
             ],
             [
              0.6666666666666666,
              "#ed7953"
             ],
             [
              0.7777777777777778,
              "#fb9f3a"
             ],
             [
              0.8888888888888888,
              "#fdca26"
             ],
             [
              1,
              "#f0f921"
             ]
            ],
            "type": "heatmapgl"
           }
          ],
          "histogram": [
           {
            "marker": {
             "pattern": {
              "fillmode": "overlay",
              "size": 10,
              "solidity": 0.2
             }
            },
            "type": "histogram"
           }
          ],
          "histogram2d": [
           {
            "colorbar": {
             "outlinewidth": 0,
             "ticks": ""
            },
            "colorscale": [
             [
              0,
              "#0d0887"
             ],
             [
              0.1111111111111111,
              "#46039f"
             ],
             [
              0.2222222222222222,
              "#7201a8"
             ],
             [
              0.3333333333333333,
              "#9c179e"
             ],
             [
              0.4444444444444444,
              "#bd3786"
             ],
             [
              0.5555555555555556,
              "#d8576b"
             ],
             [
              0.6666666666666666,
              "#ed7953"
             ],
             [
              0.7777777777777778,
              "#fb9f3a"
             ],
             [
              0.8888888888888888,
              "#fdca26"
             ],
             [
              1,
              "#f0f921"
             ]
            ],
            "type": "histogram2d"
           }
          ],
          "histogram2dcontour": [
           {
            "colorbar": {
             "outlinewidth": 0,
             "ticks": ""
            },
            "colorscale": [
             [
              0,
              "#0d0887"
             ],
             [
              0.1111111111111111,
              "#46039f"
             ],
             [
              0.2222222222222222,
              "#7201a8"
             ],
             [
              0.3333333333333333,
              "#9c179e"
             ],
             [
              0.4444444444444444,
              "#bd3786"
             ],
             [
              0.5555555555555556,
              "#d8576b"
             ],
             [
              0.6666666666666666,
              "#ed7953"
             ],
             [
              0.7777777777777778,
              "#fb9f3a"
             ],
             [
              0.8888888888888888,
              "#fdca26"
             ],
             [
              1,
              "#f0f921"
             ]
            ],
            "type": "histogram2dcontour"
           }
          ],
          "mesh3d": [
           {
            "colorbar": {
             "outlinewidth": 0,
             "ticks": ""
            },
            "type": "mesh3d"
           }
          ],
          "parcoords": [
           {
            "line": {
             "colorbar": {
              "outlinewidth": 0,
              "ticks": ""
             }
            },
            "type": "parcoords"
           }
          ],
          "pie": [
           {
            "automargin": true,
            "type": "pie"
           }
          ],
          "scatter": [
           {
            "fillpattern": {
             "fillmode": "overlay",
             "size": 10,
             "solidity": 0.2
            },
            "type": "scatter"
           }
          ],
          "scatter3d": [
           {
            "line": {
             "colorbar": {
              "outlinewidth": 0,
              "ticks": ""
             }
            },
            "marker": {
             "colorbar": {
              "outlinewidth": 0,
              "ticks": ""
             }
            },
            "type": "scatter3d"
           }
          ],
          "scattercarpet": [
           {
            "marker": {
             "colorbar": {
              "outlinewidth": 0,
              "ticks": ""
             }
            },
            "type": "scattercarpet"
           }
          ],
          "scattergeo": [
           {
            "marker": {
             "colorbar": {
              "outlinewidth": 0,
              "ticks": ""
             }
            },
            "type": "scattergeo"
           }
          ],
          "scattergl": [
           {
            "marker": {
             "colorbar": {
              "outlinewidth": 0,
              "ticks": ""
             }
            },
            "type": "scattergl"
           }
          ],
          "scattermapbox": [
           {
            "marker": {
             "colorbar": {
              "outlinewidth": 0,
              "ticks": ""
             }
            },
            "type": "scattermapbox"
           }
          ],
          "scatterpolar": [
           {
            "marker": {
             "colorbar": {
              "outlinewidth": 0,
              "ticks": ""
             }
            },
            "type": "scatterpolar"
           }
          ],
          "scatterpolargl": [
           {
            "marker": {
             "colorbar": {
              "outlinewidth": 0,
              "ticks": ""
             }
            },
            "type": "scatterpolargl"
           }
          ],
          "scatterternary": [
           {
            "marker": {
             "colorbar": {
              "outlinewidth": 0,
              "ticks": ""
             }
            },
            "type": "scatterternary"
           }
          ],
          "surface": [
           {
            "colorbar": {
             "outlinewidth": 0,
             "ticks": ""
            },
            "colorscale": [
             [
              0,
              "#0d0887"
             ],
             [
              0.1111111111111111,
              "#46039f"
             ],
             [
              0.2222222222222222,
              "#7201a8"
             ],
             [
              0.3333333333333333,
              "#9c179e"
             ],
             [
              0.4444444444444444,
              "#bd3786"
             ],
             [
              0.5555555555555556,
              "#d8576b"
             ],
             [
              0.6666666666666666,
              "#ed7953"
             ],
             [
              0.7777777777777778,
              "#fb9f3a"
             ],
             [
              0.8888888888888888,
              "#fdca26"
             ],
             [
              1,
              "#f0f921"
             ]
            ],
            "type": "surface"
           }
          ],
          "table": [
           {
            "cells": {
             "fill": {
              "color": "#EBF0F8"
             },
             "line": {
              "color": "white"
             }
            },
            "header": {
             "fill": {
              "color": "#C8D4E3"
             },
             "line": {
              "color": "white"
             }
            },
            "type": "table"
           }
          ]
         },
         "layout": {
          "annotationdefaults": {
           "arrowcolor": "#2a3f5f",
           "arrowhead": 0,
           "arrowwidth": 1
          },
          "autotypenumbers": "strict",
          "coloraxis": {
           "colorbar": {
            "outlinewidth": 0,
            "ticks": ""
           }
          },
          "colorscale": {
           "diverging": [
            [
             0,
             "#8e0152"
            ],
            [
             0.1,
             "#c51b7d"
            ],
            [
             0.2,
             "#de77ae"
            ],
            [
             0.3,
             "#f1b6da"
            ],
            [
             0.4,
             "#fde0ef"
            ],
            [
             0.5,
             "#f7f7f7"
            ],
            [
             0.6,
             "#e6f5d0"
            ],
            [
             0.7,
             "#b8e186"
            ],
            [
             0.8,
             "#7fbc41"
            ],
            [
             0.9,
             "#4d9221"
            ],
            [
             1,
             "#276419"
            ]
           ],
           "sequential": [
            [
             0,
             "#0d0887"
            ],
            [
             0.1111111111111111,
             "#46039f"
            ],
            [
             0.2222222222222222,
             "#7201a8"
            ],
            [
             0.3333333333333333,
             "#9c179e"
            ],
            [
             0.4444444444444444,
             "#bd3786"
            ],
            [
             0.5555555555555556,
             "#d8576b"
            ],
            [
             0.6666666666666666,
             "#ed7953"
            ],
            [
             0.7777777777777778,
             "#fb9f3a"
            ],
            [
             0.8888888888888888,
             "#fdca26"
            ],
            [
             1,
             "#f0f921"
            ]
           ],
           "sequentialminus": [
            [
             0,
             "#0d0887"
            ],
            [
             0.1111111111111111,
             "#46039f"
            ],
            [
             0.2222222222222222,
             "#7201a8"
            ],
            [
             0.3333333333333333,
             "#9c179e"
            ],
            [
             0.4444444444444444,
             "#bd3786"
            ],
            [
             0.5555555555555556,
             "#d8576b"
            ],
            [
             0.6666666666666666,
             "#ed7953"
            ],
            [
             0.7777777777777778,
             "#fb9f3a"
            ],
            [
             0.8888888888888888,
             "#fdca26"
            ],
            [
             1,
             "#f0f921"
            ]
           ]
          },
          "colorway": [
           "#636efa",
           "#EF553B",
           "#00cc96",
           "#ab63fa",
           "#FFA15A",
           "#19d3f3",
           "#FF6692",
           "#B6E880",
           "#FF97FF",
           "#FECB52"
          ],
          "font": {
           "color": "#2a3f5f"
          },
          "geo": {
           "bgcolor": "white",
           "lakecolor": "white",
           "landcolor": "#E5ECF6",
           "showlakes": true,
           "showland": true,
           "subunitcolor": "white"
          },
          "hoverlabel": {
           "align": "left"
          },
          "hovermode": "closest",
          "mapbox": {
           "style": "light"
          },
          "paper_bgcolor": "white",
          "plot_bgcolor": "#E5ECF6",
          "polar": {
           "angularaxis": {
            "gridcolor": "white",
            "linecolor": "white",
            "ticks": ""
           },
           "bgcolor": "#E5ECF6",
           "radialaxis": {
            "gridcolor": "white",
            "linecolor": "white",
            "ticks": ""
           }
          },
          "scene": {
           "xaxis": {
            "backgroundcolor": "#E5ECF6",
            "gridcolor": "white",
            "gridwidth": 2,
            "linecolor": "white",
            "showbackground": true,
            "ticks": "",
            "zerolinecolor": "white"
           },
           "yaxis": {
            "backgroundcolor": "#E5ECF6",
            "gridcolor": "white",
            "gridwidth": 2,
            "linecolor": "white",
            "showbackground": true,
            "ticks": "",
            "zerolinecolor": "white"
           },
           "zaxis": {
            "backgroundcolor": "#E5ECF6",
            "gridcolor": "white",
            "gridwidth": 2,
            "linecolor": "white",
            "showbackground": true,
            "ticks": "",
            "zerolinecolor": "white"
           }
          },
          "shapedefaults": {
           "line": {
            "color": "#2a3f5f"
           }
          },
          "ternary": {
           "aaxis": {
            "gridcolor": "white",
            "linecolor": "white",
            "ticks": ""
           },
           "baxis": {
            "gridcolor": "white",
            "linecolor": "white",
            "ticks": ""
           },
           "bgcolor": "#E5ECF6",
           "caxis": {
            "gridcolor": "white",
            "linecolor": "white",
            "ticks": ""
           }
          },
          "title": {
           "x": 0.05
          },
          "xaxis": {
           "automargin": true,
           "gridcolor": "white",
           "linecolor": "white",
           "ticks": "",
           "title": {
            "standoff": 15
           },
           "zerolinecolor": "white",
           "zerolinewidth": 2
          },
          "yaxis": {
           "automargin": true,
           "gridcolor": "white",
           "linecolor": "white",
           "ticks": "",
           "title": {
            "standoff": 15
           },
           "zerolinecolor": "white",
           "zerolinewidth": 2
          }
         }
        },
        "title": {
         "text": "Monopoly Board Station Probabilities Against Rent 1 Station"
        },
        "xaxis": {
         "anchor": "y",
         "domain": [
          0,
          1
         ],
         "title": {
          "text": "Rent 1 Station"
         }
        },
        "yaxis": {
         "anchor": "x",
         "domain": [
          0,
          1
         ],
         "title": {
          "text": "Probability"
         }
        }
       }
      }
     },
     "metadata": {},
     "output_type": "display_data"
    },
    {
     "data": {
      "application/vnd.plotly.v1+json": {
       "config": {
        "plotlyServerURL": "https://plot.ly"
       },
       "data": [
        {
         "hovertemplate": "Property=King's Cross Station<br>Rent 2 Stations=%{x}<br>Probability=%{y}<br>Rent 2 Stations * Probability=%{marker.size}<extra></extra>",
         "legendgroup": "King's Cross Station",
         "marker": {
          "color": "black",
          "size": [
           1.454578869417628
          ],
          "sizemode": "area",
          "sizeref": 0.0036364471735440703,
          "symbol": "circle"
         },
         "mode": "markers",
         "name": "King's Cross Station",
         "orientation": "v",
         "showlegend": true,
         "type": "scatter",
         "x": [
          50
         ],
         "xaxis": "x",
         "y": [
          0.02909157738835256
         ],
         "yaxis": "y"
        },
        {
         "hovertemplate": "Property=Marylebone Station<br>Rent 2 Stations=%{x}<br>Probability=%{y}<br>Rent 2 Stations * Probability=%{marker.size}<extra></extra>",
         "legendgroup": "Marylebone Station",
         "marker": {
          "color": "black",
          "size": [
           1.3837688241208204
          ],
          "sizemode": "area",
          "sizeref": 0.0036364471735440703,
          "symbol": "circle"
         },
         "mode": "markers",
         "name": "Marylebone Station",
         "orientation": "v",
         "showlegend": true,
         "type": "scatter",
         "x": [
          50
         ],
         "xaxis": "x",
         "y": [
          0.027675376482416407
         ],
         "yaxis": "y"
        },
        {
         "hovertemplate": "Property=Fenchurch St. Station<br>Rent 2 Stations=%{x}<br>Probability=%{y}<br>Rent 2 Stations * Probability=%{marker.size}<extra></extra>",
         "legendgroup": "Fenchurch St. Station",
         "marker": {
          "color": "black",
          "size": [
           1.4071469497627052
          ],
          "sizemode": "area",
          "sizeref": 0.0036364471735440703,
          "symbol": "circle"
         },
         "mode": "markers",
         "name": "Fenchurch St. Station",
         "orientation": "v",
         "showlegend": true,
         "type": "scatter",
         "x": [
          50
         ],
         "xaxis": "x",
         "y": [
          0.028142938995254104
         ],
         "yaxis": "y"
        },
        {
         "hovertemplate": "Property=Liverpool St. Station<br>Rent 2 Stations=%{x}<br>Probability=%{y}<br>Rent 2 Stations * Probability=%{marker.size}<extra></extra>",
         "legendgroup": "Liverpool St. Station",
         "marker": {
          "color": "black",
          "size": [
           1.0712046356255607
          ],
          "sizemode": "area",
          "sizeref": 0.0036364471735440703,
          "symbol": "circle"
         },
         "mode": "markers",
         "name": "Liverpool St. Station",
         "orientation": "v",
         "showlegend": true,
         "type": "scatter",
         "x": [
          50
         ],
         "xaxis": "x",
         "y": [
          0.021424092712511215
         ],
         "yaxis": "y"
        }
       ],
       "layout": {
        "legend": {
         "itemsizing": "constant",
         "title": {
          "text": "Property"
         },
         "tracegroupgap": 0
        },
        "showlegend": false,
        "template": {
         "data": {
          "bar": [
           {
            "error_x": {
             "color": "#2a3f5f"
            },
            "error_y": {
             "color": "#2a3f5f"
            },
            "marker": {
             "line": {
              "color": "#E5ECF6",
              "width": 0.5
             },
             "pattern": {
              "fillmode": "overlay",
              "size": 10,
              "solidity": 0.2
             }
            },
            "type": "bar"
           }
          ],
          "barpolar": [
           {
            "marker": {
             "line": {
              "color": "#E5ECF6",
              "width": 0.5
             },
             "pattern": {
              "fillmode": "overlay",
              "size": 10,
              "solidity": 0.2
             }
            },
            "type": "barpolar"
           }
          ],
          "carpet": [
           {
            "aaxis": {
             "endlinecolor": "#2a3f5f",
             "gridcolor": "white",
             "linecolor": "white",
             "minorgridcolor": "white",
             "startlinecolor": "#2a3f5f"
            },
            "baxis": {
             "endlinecolor": "#2a3f5f",
             "gridcolor": "white",
             "linecolor": "white",
             "minorgridcolor": "white",
             "startlinecolor": "#2a3f5f"
            },
            "type": "carpet"
           }
          ],
          "choropleth": [
           {
            "colorbar": {
             "outlinewidth": 0,
             "ticks": ""
            },
            "type": "choropleth"
           }
          ],
          "contour": [
           {
            "colorbar": {
             "outlinewidth": 0,
             "ticks": ""
            },
            "colorscale": [
             [
              0,
              "#0d0887"
             ],
             [
              0.1111111111111111,
              "#46039f"
             ],
             [
              0.2222222222222222,
              "#7201a8"
             ],
             [
              0.3333333333333333,
              "#9c179e"
             ],
             [
              0.4444444444444444,
              "#bd3786"
             ],
             [
              0.5555555555555556,
              "#d8576b"
             ],
             [
              0.6666666666666666,
              "#ed7953"
             ],
             [
              0.7777777777777778,
              "#fb9f3a"
             ],
             [
              0.8888888888888888,
              "#fdca26"
             ],
             [
              1,
              "#f0f921"
             ]
            ],
            "type": "contour"
           }
          ],
          "contourcarpet": [
           {
            "colorbar": {
             "outlinewidth": 0,
             "ticks": ""
            },
            "type": "contourcarpet"
           }
          ],
          "heatmap": [
           {
            "colorbar": {
             "outlinewidth": 0,
             "ticks": ""
            },
            "colorscale": [
             [
              0,
              "#0d0887"
             ],
             [
              0.1111111111111111,
              "#46039f"
             ],
             [
              0.2222222222222222,
              "#7201a8"
             ],
             [
              0.3333333333333333,
              "#9c179e"
             ],
             [
              0.4444444444444444,
              "#bd3786"
             ],
             [
              0.5555555555555556,
              "#d8576b"
             ],
             [
              0.6666666666666666,
              "#ed7953"
             ],
             [
              0.7777777777777778,
              "#fb9f3a"
             ],
             [
              0.8888888888888888,
              "#fdca26"
             ],
             [
              1,
              "#f0f921"
             ]
            ],
            "type": "heatmap"
           }
          ],
          "heatmapgl": [
           {
            "colorbar": {
             "outlinewidth": 0,
             "ticks": ""
            },
            "colorscale": [
             [
              0,
              "#0d0887"
             ],
             [
              0.1111111111111111,
              "#46039f"
             ],
             [
              0.2222222222222222,
              "#7201a8"
             ],
             [
              0.3333333333333333,
              "#9c179e"
             ],
             [
              0.4444444444444444,
              "#bd3786"
             ],
             [
              0.5555555555555556,
              "#d8576b"
             ],
             [
              0.6666666666666666,
              "#ed7953"
             ],
             [
              0.7777777777777778,
              "#fb9f3a"
             ],
             [
              0.8888888888888888,
              "#fdca26"
             ],
             [
              1,
              "#f0f921"
             ]
            ],
            "type": "heatmapgl"
           }
          ],
          "histogram": [
           {
            "marker": {
             "pattern": {
              "fillmode": "overlay",
              "size": 10,
              "solidity": 0.2
             }
            },
            "type": "histogram"
           }
          ],
          "histogram2d": [
           {
            "colorbar": {
             "outlinewidth": 0,
             "ticks": ""
            },
            "colorscale": [
             [
              0,
              "#0d0887"
             ],
             [
              0.1111111111111111,
              "#46039f"
             ],
             [
              0.2222222222222222,
              "#7201a8"
             ],
             [
              0.3333333333333333,
              "#9c179e"
             ],
             [
              0.4444444444444444,
              "#bd3786"
             ],
             [
              0.5555555555555556,
              "#d8576b"
             ],
             [
              0.6666666666666666,
              "#ed7953"
             ],
             [
              0.7777777777777778,
              "#fb9f3a"
             ],
             [
              0.8888888888888888,
              "#fdca26"
             ],
             [
              1,
              "#f0f921"
             ]
            ],
            "type": "histogram2d"
           }
          ],
          "histogram2dcontour": [
           {
            "colorbar": {
             "outlinewidth": 0,
             "ticks": ""
            },
            "colorscale": [
             [
              0,
              "#0d0887"
             ],
             [
              0.1111111111111111,
              "#46039f"
             ],
             [
              0.2222222222222222,
              "#7201a8"
             ],
             [
              0.3333333333333333,
              "#9c179e"
             ],
             [
              0.4444444444444444,
              "#bd3786"
             ],
             [
              0.5555555555555556,
              "#d8576b"
             ],
             [
              0.6666666666666666,
              "#ed7953"
             ],
             [
              0.7777777777777778,
              "#fb9f3a"
             ],
             [
              0.8888888888888888,
              "#fdca26"
             ],
             [
              1,
              "#f0f921"
             ]
            ],
            "type": "histogram2dcontour"
           }
          ],
          "mesh3d": [
           {
            "colorbar": {
             "outlinewidth": 0,
             "ticks": ""
            },
            "type": "mesh3d"
           }
          ],
          "parcoords": [
           {
            "line": {
             "colorbar": {
              "outlinewidth": 0,
              "ticks": ""
             }
            },
            "type": "parcoords"
           }
          ],
          "pie": [
           {
            "automargin": true,
            "type": "pie"
           }
          ],
          "scatter": [
           {
            "fillpattern": {
             "fillmode": "overlay",
             "size": 10,
             "solidity": 0.2
            },
            "type": "scatter"
           }
          ],
          "scatter3d": [
           {
            "line": {
             "colorbar": {
              "outlinewidth": 0,
              "ticks": ""
             }
            },
            "marker": {
             "colorbar": {
              "outlinewidth": 0,
              "ticks": ""
             }
            },
            "type": "scatter3d"
           }
          ],
          "scattercarpet": [
           {
            "marker": {
             "colorbar": {
              "outlinewidth": 0,
              "ticks": ""
             }
            },
            "type": "scattercarpet"
           }
          ],
          "scattergeo": [
           {
            "marker": {
             "colorbar": {
              "outlinewidth": 0,
              "ticks": ""
             }
            },
            "type": "scattergeo"
           }
          ],
          "scattergl": [
           {
            "marker": {
             "colorbar": {
              "outlinewidth": 0,
              "ticks": ""
             }
            },
            "type": "scattergl"
           }
          ],
          "scattermapbox": [
           {
            "marker": {
             "colorbar": {
              "outlinewidth": 0,
              "ticks": ""
             }
            },
            "type": "scattermapbox"
           }
          ],
          "scatterpolar": [
           {
            "marker": {
             "colorbar": {
              "outlinewidth": 0,
              "ticks": ""
             }
            },
            "type": "scatterpolar"
           }
          ],
          "scatterpolargl": [
           {
            "marker": {
             "colorbar": {
              "outlinewidth": 0,
              "ticks": ""
             }
            },
            "type": "scatterpolargl"
           }
          ],
          "scatterternary": [
           {
            "marker": {
             "colorbar": {
              "outlinewidth": 0,
              "ticks": ""
             }
            },
            "type": "scatterternary"
           }
          ],
          "surface": [
           {
            "colorbar": {
             "outlinewidth": 0,
             "ticks": ""
            },
            "colorscale": [
             [
              0,
              "#0d0887"
             ],
             [
              0.1111111111111111,
              "#46039f"
             ],
             [
              0.2222222222222222,
              "#7201a8"
             ],
             [
              0.3333333333333333,
              "#9c179e"
             ],
             [
              0.4444444444444444,
              "#bd3786"
             ],
             [
              0.5555555555555556,
              "#d8576b"
             ],
             [
              0.6666666666666666,
              "#ed7953"
             ],
             [
              0.7777777777777778,
              "#fb9f3a"
             ],
             [
              0.8888888888888888,
              "#fdca26"
             ],
             [
              1,
              "#f0f921"
             ]
            ],
            "type": "surface"
           }
          ],
          "table": [
           {
            "cells": {
             "fill": {
              "color": "#EBF0F8"
             },
             "line": {
              "color": "white"
             }
            },
            "header": {
             "fill": {
              "color": "#C8D4E3"
             },
             "line": {
              "color": "white"
             }
            },
            "type": "table"
           }
          ]
         },
         "layout": {
          "annotationdefaults": {
           "arrowcolor": "#2a3f5f",
           "arrowhead": 0,
           "arrowwidth": 1
          },
          "autotypenumbers": "strict",
          "coloraxis": {
           "colorbar": {
            "outlinewidth": 0,
            "ticks": ""
           }
          },
          "colorscale": {
           "diverging": [
            [
             0,
             "#8e0152"
            ],
            [
             0.1,
             "#c51b7d"
            ],
            [
             0.2,
             "#de77ae"
            ],
            [
             0.3,
             "#f1b6da"
            ],
            [
             0.4,
             "#fde0ef"
            ],
            [
             0.5,
             "#f7f7f7"
            ],
            [
             0.6,
             "#e6f5d0"
            ],
            [
             0.7,
             "#b8e186"
            ],
            [
             0.8,
             "#7fbc41"
            ],
            [
             0.9,
             "#4d9221"
            ],
            [
             1,
             "#276419"
            ]
           ],
           "sequential": [
            [
             0,
             "#0d0887"
            ],
            [
             0.1111111111111111,
             "#46039f"
            ],
            [
             0.2222222222222222,
             "#7201a8"
            ],
            [
             0.3333333333333333,
             "#9c179e"
            ],
            [
             0.4444444444444444,
             "#bd3786"
            ],
            [
             0.5555555555555556,
             "#d8576b"
            ],
            [
             0.6666666666666666,
             "#ed7953"
            ],
            [
             0.7777777777777778,
             "#fb9f3a"
            ],
            [
             0.8888888888888888,
             "#fdca26"
            ],
            [
             1,
             "#f0f921"
            ]
           ],
           "sequentialminus": [
            [
             0,
             "#0d0887"
            ],
            [
             0.1111111111111111,
             "#46039f"
            ],
            [
             0.2222222222222222,
             "#7201a8"
            ],
            [
             0.3333333333333333,
             "#9c179e"
            ],
            [
             0.4444444444444444,
             "#bd3786"
            ],
            [
             0.5555555555555556,
             "#d8576b"
            ],
            [
             0.6666666666666666,
             "#ed7953"
            ],
            [
             0.7777777777777778,
             "#fb9f3a"
            ],
            [
             0.8888888888888888,
             "#fdca26"
            ],
            [
             1,
             "#f0f921"
            ]
           ]
          },
          "colorway": [
           "#636efa",
           "#EF553B",
           "#00cc96",
           "#ab63fa",
           "#FFA15A",
           "#19d3f3",
           "#FF6692",
           "#B6E880",
           "#FF97FF",
           "#FECB52"
          ],
          "font": {
           "color": "#2a3f5f"
          },
          "geo": {
           "bgcolor": "white",
           "lakecolor": "white",
           "landcolor": "#E5ECF6",
           "showlakes": true,
           "showland": true,
           "subunitcolor": "white"
          },
          "hoverlabel": {
           "align": "left"
          },
          "hovermode": "closest",
          "mapbox": {
           "style": "light"
          },
          "paper_bgcolor": "white",
          "plot_bgcolor": "#E5ECF6",
          "polar": {
           "angularaxis": {
            "gridcolor": "white",
            "linecolor": "white",
            "ticks": ""
           },
           "bgcolor": "#E5ECF6",
           "radialaxis": {
            "gridcolor": "white",
            "linecolor": "white",
            "ticks": ""
           }
          },
          "scene": {
           "xaxis": {
            "backgroundcolor": "#E5ECF6",
            "gridcolor": "white",
            "gridwidth": 2,
            "linecolor": "white",
            "showbackground": true,
            "ticks": "",
            "zerolinecolor": "white"
           },
           "yaxis": {
            "backgroundcolor": "#E5ECF6",
            "gridcolor": "white",
            "gridwidth": 2,
            "linecolor": "white",
            "showbackground": true,
            "ticks": "",
            "zerolinecolor": "white"
           },
           "zaxis": {
            "backgroundcolor": "#E5ECF6",
            "gridcolor": "white",
            "gridwidth": 2,
            "linecolor": "white",
            "showbackground": true,
            "ticks": "",
            "zerolinecolor": "white"
           }
          },
          "shapedefaults": {
           "line": {
            "color": "#2a3f5f"
           }
          },
          "ternary": {
           "aaxis": {
            "gridcolor": "white",
            "linecolor": "white",
            "ticks": ""
           },
           "baxis": {
            "gridcolor": "white",
            "linecolor": "white",
            "ticks": ""
           },
           "bgcolor": "#E5ECF6",
           "caxis": {
            "gridcolor": "white",
            "linecolor": "white",
            "ticks": ""
           }
          },
          "title": {
           "x": 0.05
          },
          "xaxis": {
           "automargin": true,
           "gridcolor": "white",
           "linecolor": "white",
           "ticks": "",
           "title": {
            "standoff": 15
           },
           "zerolinecolor": "white",
           "zerolinewidth": 2
          },
          "yaxis": {
           "automargin": true,
           "gridcolor": "white",
           "linecolor": "white",
           "ticks": "",
           "title": {
            "standoff": 15
           },
           "zerolinecolor": "white",
           "zerolinewidth": 2
          }
         }
        },
        "title": {
         "text": "Monopoly Board Station Probabilities Against Rent 2 Stations"
        },
        "xaxis": {
         "anchor": "y",
         "domain": [
          0,
          1
         ],
         "title": {
          "text": "Rent 2 Stations"
         }
        },
        "yaxis": {
         "anchor": "x",
         "domain": [
          0,
          1
         ],
         "title": {
          "text": "Probability"
         }
        }
       }
      }
     },
     "metadata": {},
     "output_type": "display_data"
    },
    {
     "data": {
      "application/vnd.plotly.v1+json": {
       "config": {
        "plotlyServerURL": "https://plot.ly"
       },
       "data": [
        {
         "hovertemplate": "Property=King's Cross Station<br>Rent 3 Stations=%{x}<br>Probability=%{y}<br>Rent 3 Stations * Probability=%{marker.size}<extra></extra>",
         "legendgroup": "King's Cross Station",
         "marker": {
          "color": "black",
          "size": [
           2.909157738835256
          ],
          "sizemode": "area",
          "sizeref": 0.007272894347088141,
          "symbol": "circle"
         },
         "mode": "markers",
         "name": "King's Cross Station",
         "orientation": "v",
         "showlegend": true,
         "type": "scatter",
         "x": [
          100
         ],
         "xaxis": "x",
         "y": [
          0.02909157738835256
         ],
         "yaxis": "y"
        },
        {
         "hovertemplate": "Property=Marylebone Station<br>Rent 3 Stations=%{x}<br>Probability=%{y}<br>Rent 3 Stations * Probability=%{marker.size}<extra></extra>",
         "legendgroup": "Marylebone Station",
         "marker": {
          "color": "black",
          "size": [
           2.7675376482416407
          ],
          "sizemode": "area",
          "sizeref": 0.007272894347088141,
          "symbol": "circle"
         },
         "mode": "markers",
         "name": "Marylebone Station",
         "orientation": "v",
         "showlegend": true,
         "type": "scatter",
         "x": [
          100
         ],
         "xaxis": "x",
         "y": [
          0.027675376482416407
         ],
         "yaxis": "y"
        },
        {
         "hovertemplate": "Property=Fenchurch St. Station<br>Rent 3 Stations=%{x}<br>Probability=%{y}<br>Rent 3 Stations * Probability=%{marker.size}<extra></extra>",
         "legendgroup": "Fenchurch St. Station",
         "marker": {
          "color": "black",
          "size": [
           2.8142938995254103
          ],
          "sizemode": "area",
          "sizeref": 0.007272894347088141,
          "symbol": "circle"
         },
         "mode": "markers",
         "name": "Fenchurch St. Station",
         "orientation": "v",
         "showlegend": true,
         "type": "scatter",
         "x": [
          100
         ],
         "xaxis": "x",
         "y": [
          0.028142938995254104
         ],
         "yaxis": "y"
        },
        {
         "hovertemplate": "Property=Liverpool St. Station<br>Rent 3 Stations=%{x}<br>Probability=%{y}<br>Rent 3 Stations * Probability=%{marker.size}<extra></extra>",
         "legendgroup": "Liverpool St. Station",
         "marker": {
          "color": "black",
          "size": [
           2.1424092712511213
          ],
          "sizemode": "area",
          "sizeref": 0.007272894347088141,
          "symbol": "circle"
         },
         "mode": "markers",
         "name": "Liverpool St. Station",
         "orientation": "v",
         "showlegend": true,
         "type": "scatter",
         "x": [
          100
         ],
         "xaxis": "x",
         "y": [
          0.021424092712511215
         ],
         "yaxis": "y"
        }
       ],
       "layout": {
        "legend": {
         "itemsizing": "constant",
         "title": {
          "text": "Property"
         },
         "tracegroupgap": 0
        },
        "showlegend": false,
        "template": {
         "data": {
          "bar": [
           {
            "error_x": {
             "color": "#2a3f5f"
            },
            "error_y": {
             "color": "#2a3f5f"
            },
            "marker": {
             "line": {
              "color": "#E5ECF6",
              "width": 0.5
             },
             "pattern": {
              "fillmode": "overlay",
              "size": 10,
              "solidity": 0.2
             }
            },
            "type": "bar"
           }
          ],
          "barpolar": [
           {
            "marker": {
             "line": {
              "color": "#E5ECF6",
              "width": 0.5
             },
             "pattern": {
              "fillmode": "overlay",
              "size": 10,
              "solidity": 0.2
             }
            },
            "type": "barpolar"
           }
          ],
          "carpet": [
           {
            "aaxis": {
             "endlinecolor": "#2a3f5f",
             "gridcolor": "white",
             "linecolor": "white",
             "minorgridcolor": "white",
             "startlinecolor": "#2a3f5f"
            },
            "baxis": {
             "endlinecolor": "#2a3f5f",
             "gridcolor": "white",
             "linecolor": "white",
             "minorgridcolor": "white",
             "startlinecolor": "#2a3f5f"
            },
            "type": "carpet"
           }
          ],
          "choropleth": [
           {
            "colorbar": {
             "outlinewidth": 0,
             "ticks": ""
            },
            "type": "choropleth"
           }
          ],
          "contour": [
           {
            "colorbar": {
             "outlinewidth": 0,
             "ticks": ""
            },
            "colorscale": [
             [
              0,
              "#0d0887"
             ],
             [
              0.1111111111111111,
              "#46039f"
             ],
             [
              0.2222222222222222,
              "#7201a8"
             ],
             [
              0.3333333333333333,
              "#9c179e"
             ],
             [
              0.4444444444444444,
              "#bd3786"
             ],
             [
              0.5555555555555556,
              "#d8576b"
             ],
             [
              0.6666666666666666,
              "#ed7953"
             ],
             [
              0.7777777777777778,
              "#fb9f3a"
             ],
             [
              0.8888888888888888,
              "#fdca26"
             ],
             [
              1,
              "#f0f921"
             ]
            ],
            "type": "contour"
           }
          ],
          "contourcarpet": [
           {
            "colorbar": {
             "outlinewidth": 0,
             "ticks": ""
            },
            "type": "contourcarpet"
           }
          ],
          "heatmap": [
           {
            "colorbar": {
             "outlinewidth": 0,
             "ticks": ""
            },
            "colorscale": [
             [
              0,
              "#0d0887"
             ],
             [
              0.1111111111111111,
              "#46039f"
             ],
             [
              0.2222222222222222,
              "#7201a8"
             ],
             [
              0.3333333333333333,
              "#9c179e"
             ],
             [
              0.4444444444444444,
              "#bd3786"
             ],
             [
              0.5555555555555556,
              "#d8576b"
             ],
             [
              0.6666666666666666,
              "#ed7953"
             ],
             [
              0.7777777777777778,
              "#fb9f3a"
             ],
             [
              0.8888888888888888,
              "#fdca26"
             ],
             [
              1,
              "#f0f921"
             ]
            ],
            "type": "heatmap"
           }
          ],
          "heatmapgl": [
           {
            "colorbar": {
             "outlinewidth": 0,
             "ticks": ""
            },
            "colorscale": [
             [
              0,
              "#0d0887"
             ],
             [
              0.1111111111111111,
              "#46039f"
             ],
             [
              0.2222222222222222,
              "#7201a8"
             ],
             [
              0.3333333333333333,
              "#9c179e"
             ],
             [
              0.4444444444444444,
              "#bd3786"
             ],
             [
              0.5555555555555556,
              "#d8576b"
             ],
             [
              0.6666666666666666,
              "#ed7953"
             ],
             [
              0.7777777777777778,
              "#fb9f3a"
             ],
             [
              0.8888888888888888,
              "#fdca26"
             ],
             [
              1,
              "#f0f921"
             ]
            ],
            "type": "heatmapgl"
           }
          ],
          "histogram": [
           {
            "marker": {
             "pattern": {
              "fillmode": "overlay",
              "size": 10,
              "solidity": 0.2
             }
            },
            "type": "histogram"
           }
          ],
          "histogram2d": [
           {
            "colorbar": {
             "outlinewidth": 0,
             "ticks": ""
            },
            "colorscale": [
             [
              0,
              "#0d0887"
             ],
             [
              0.1111111111111111,
              "#46039f"
             ],
             [
              0.2222222222222222,
              "#7201a8"
             ],
             [
              0.3333333333333333,
              "#9c179e"
             ],
             [
              0.4444444444444444,
              "#bd3786"
             ],
             [
              0.5555555555555556,
              "#d8576b"
             ],
             [
              0.6666666666666666,
              "#ed7953"
             ],
             [
              0.7777777777777778,
              "#fb9f3a"
             ],
             [
              0.8888888888888888,
              "#fdca26"
             ],
             [
              1,
              "#f0f921"
             ]
            ],
            "type": "histogram2d"
           }
          ],
          "histogram2dcontour": [
           {
            "colorbar": {
             "outlinewidth": 0,
             "ticks": ""
            },
            "colorscale": [
             [
              0,
              "#0d0887"
             ],
             [
              0.1111111111111111,
              "#46039f"
             ],
             [
              0.2222222222222222,
              "#7201a8"
             ],
             [
              0.3333333333333333,
              "#9c179e"
             ],
             [
              0.4444444444444444,
              "#bd3786"
             ],
             [
              0.5555555555555556,
              "#d8576b"
             ],
             [
              0.6666666666666666,
              "#ed7953"
             ],
             [
              0.7777777777777778,
              "#fb9f3a"
             ],
             [
              0.8888888888888888,
              "#fdca26"
             ],
             [
              1,
              "#f0f921"
             ]
            ],
            "type": "histogram2dcontour"
           }
          ],
          "mesh3d": [
           {
            "colorbar": {
             "outlinewidth": 0,
             "ticks": ""
            },
            "type": "mesh3d"
           }
          ],
          "parcoords": [
           {
            "line": {
             "colorbar": {
              "outlinewidth": 0,
              "ticks": ""
             }
            },
            "type": "parcoords"
           }
          ],
          "pie": [
           {
            "automargin": true,
            "type": "pie"
           }
          ],
          "scatter": [
           {
            "fillpattern": {
             "fillmode": "overlay",
             "size": 10,
             "solidity": 0.2
            },
            "type": "scatter"
           }
          ],
          "scatter3d": [
           {
            "line": {
             "colorbar": {
              "outlinewidth": 0,
              "ticks": ""
             }
            },
            "marker": {
             "colorbar": {
              "outlinewidth": 0,
              "ticks": ""
             }
            },
            "type": "scatter3d"
           }
          ],
          "scattercarpet": [
           {
            "marker": {
             "colorbar": {
              "outlinewidth": 0,
              "ticks": ""
             }
            },
            "type": "scattercarpet"
           }
          ],
          "scattergeo": [
           {
            "marker": {
             "colorbar": {
              "outlinewidth": 0,
              "ticks": ""
             }
            },
            "type": "scattergeo"
           }
          ],
          "scattergl": [
           {
            "marker": {
             "colorbar": {
              "outlinewidth": 0,
              "ticks": ""
             }
            },
            "type": "scattergl"
           }
          ],
          "scattermapbox": [
           {
            "marker": {
             "colorbar": {
              "outlinewidth": 0,
              "ticks": ""
             }
            },
            "type": "scattermapbox"
           }
          ],
          "scatterpolar": [
           {
            "marker": {
             "colorbar": {
              "outlinewidth": 0,
              "ticks": ""
             }
            },
            "type": "scatterpolar"
           }
          ],
          "scatterpolargl": [
           {
            "marker": {
             "colorbar": {
              "outlinewidth": 0,
              "ticks": ""
             }
            },
            "type": "scatterpolargl"
           }
          ],
          "scatterternary": [
           {
            "marker": {
             "colorbar": {
              "outlinewidth": 0,
              "ticks": ""
             }
            },
            "type": "scatterternary"
           }
          ],
          "surface": [
           {
            "colorbar": {
             "outlinewidth": 0,
             "ticks": ""
            },
            "colorscale": [
             [
              0,
              "#0d0887"
             ],
             [
              0.1111111111111111,
              "#46039f"
             ],
             [
              0.2222222222222222,
              "#7201a8"
             ],
             [
              0.3333333333333333,
              "#9c179e"
             ],
             [
              0.4444444444444444,
              "#bd3786"
             ],
             [
              0.5555555555555556,
              "#d8576b"
             ],
             [
              0.6666666666666666,
              "#ed7953"
             ],
             [
              0.7777777777777778,
              "#fb9f3a"
             ],
             [
              0.8888888888888888,
              "#fdca26"
             ],
             [
              1,
              "#f0f921"
             ]
            ],
            "type": "surface"
           }
          ],
          "table": [
           {
            "cells": {
             "fill": {
              "color": "#EBF0F8"
             },
             "line": {
              "color": "white"
             }
            },
            "header": {
             "fill": {
              "color": "#C8D4E3"
             },
             "line": {
              "color": "white"
             }
            },
            "type": "table"
           }
          ]
         },
         "layout": {
          "annotationdefaults": {
           "arrowcolor": "#2a3f5f",
           "arrowhead": 0,
           "arrowwidth": 1
          },
          "autotypenumbers": "strict",
          "coloraxis": {
           "colorbar": {
            "outlinewidth": 0,
            "ticks": ""
           }
          },
          "colorscale": {
           "diverging": [
            [
             0,
             "#8e0152"
            ],
            [
             0.1,
             "#c51b7d"
            ],
            [
             0.2,
             "#de77ae"
            ],
            [
             0.3,
             "#f1b6da"
            ],
            [
             0.4,
             "#fde0ef"
            ],
            [
             0.5,
             "#f7f7f7"
            ],
            [
             0.6,
             "#e6f5d0"
            ],
            [
             0.7,
             "#b8e186"
            ],
            [
             0.8,
             "#7fbc41"
            ],
            [
             0.9,
             "#4d9221"
            ],
            [
             1,
             "#276419"
            ]
           ],
           "sequential": [
            [
             0,
             "#0d0887"
            ],
            [
             0.1111111111111111,
             "#46039f"
            ],
            [
             0.2222222222222222,
             "#7201a8"
            ],
            [
             0.3333333333333333,
             "#9c179e"
            ],
            [
             0.4444444444444444,
             "#bd3786"
            ],
            [
             0.5555555555555556,
             "#d8576b"
            ],
            [
             0.6666666666666666,
             "#ed7953"
            ],
            [
             0.7777777777777778,
             "#fb9f3a"
            ],
            [
             0.8888888888888888,
             "#fdca26"
            ],
            [
             1,
             "#f0f921"
            ]
           ],
           "sequentialminus": [
            [
             0,
             "#0d0887"
            ],
            [
             0.1111111111111111,
             "#46039f"
            ],
            [
             0.2222222222222222,
             "#7201a8"
            ],
            [
             0.3333333333333333,
             "#9c179e"
            ],
            [
             0.4444444444444444,
             "#bd3786"
            ],
            [
             0.5555555555555556,
             "#d8576b"
            ],
            [
             0.6666666666666666,
             "#ed7953"
            ],
            [
             0.7777777777777778,
             "#fb9f3a"
            ],
            [
             0.8888888888888888,
             "#fdca26"
            ],
            [
             1,
             "#f0f921"
            ]
           ]
          },
          "colorway": [
           "#636efa",
           "#EF553B",
           "#00cc96",
           "#ab63fa",
           "#FFA15A",
           "#19d3f3",
           "#FF6692",
           "#B6E880",
           "#FF97FF",
           "#FECB52"
          ],
          "font": {
           "color": "#2a3f5f"
          },
          "geo": {
           "bgcolor": "white",
           "lakecolor": "white",
           "landcolor": "#E5ECF6",
           "showlakes": true,
           "showland": true,
           "subunitcolor": "white"
          },
          "hoverlabel": {
           "align": "left"
          },
          "hovermode": "closest",
          "mapbox": {
           "style": "light"
          },
          "paper_bgcolor": "white",
          "plot_bgcolor": "#E5ECF6",
          "polar": {
           "angularaxis": {
            "gridcolor": "white",
            "linecolor": "white",
            "ticks": ""
           },
           "bgcolor": "#E5ECF6",
           "radialaxis": {
            "gridcolor": "white",
            "linecolor": "white",
            "ticks": ""
           }
          },
          "scene": {
           "xaxis": {
            "backgroundcolor": "#E5ECF6",
            "gridcolor": "white",
            "gridwidth": 2,
            "linecolor": "white",
            "showbackground": true,
            "ticks": "",
            "zerolinecolor": "white"
           },
           "yaxis": {
            "backgroundcolor": "#E5ECF6",
            "gridcolor": "white",
            "gridwidth": 2,
            "linecolor": "white",
            "showbackground": true,
            "ticks": "",
            "zerolinecolor": "white"
           },
           "zaxis": {
            "backgroundcolor": "#E5ECF6",
            "gridcolor": "white",
            "gridwidth": 2,
            "linecolor": "white",
            "showbackground": true,
            "ticks": "",
            "zerolinecolor": "white"
           }
          },
          "shapedefaults": {
           "line": {
            "color": "#2a3f5f"
           }
          },
          "ternary": {
           "aaxis": {
            "gridcolor": "white",
            "linecolor": "white",
            "ticks": ""
           },
           "baxis": {
            "gridcolor": "white",
            "linecolor": "white",
            "ticks": ""
           },
           "bgcolor": "#E5ECF6",
           "caxis": {
            "gridcolor": "white",
            "linecolor": "white",
            "ticks": ""
           }
          },
          "title": {
           "x": 0.05
          },
          "xaxis": {
           "automargin": true,
           "gridcolor": "white",
           "linecolor": "white",
           "ticks": "",
           "title": {
            "standoff": 15
           },
           "zerolinecolor": "white",
           "zerolinewidth": 2
          },
          "yaxis": {
           "automargin": true,
           "gridcolor": "white",
           "linecolor": "white",
           "ticks": "",
           "title": {
            "standoff": 15
           },
           "zerolinecolor": "white",
           "zerolinewidth": 2
          }
         }
        },
        "title": {
         "text": "Monopoly Board Station Probabilities Against Rent 3 Stations"
        },
        "xaxis": {
         "anchor": "y",
         "domain": [
          0,
          1
         ],
         "title": {
          "text": "Rent 3 Stations"
         }
        },
        "yaxis": {
         "anchor": "x",
         "domain": [
          0,
          1
         ],
         "title": {
          "text": "Probability"
         }
        }
       }
      }
     },
     "metadata": {},
     "output_type": "display_data"
    },
    {
     "data": {
      "application/vnd.plotly.v1+json": {
       "config": {
        "plotlyServerURL": "https://plot.ly"
       },
       "data": [
        {
         "hovertemplate": "Property=King's Cross Station<br>Rent 4 Stations=%{x}<br>Probability=%{y}<br>Rent 4 Stations * Probability=%{marker.size}<extra></extra>",
         "legendgroup": "King's Cross Station",
         "marker": {
          "color": "black",
          "size": [
           5.818315477670512
          ],
          "sizemode": "area",
          "sizeref": 0.014545788694176281,
          "symbol": "circle"
         },
         "mode": "markers",
         "name": "King's Cross Station",
         "orientation": "v",
         "showlegend": true,
         "type": "scatter",
         "x": [
          200
         ],
         "xaxis": "x",
         "y": [
          0.02909157738835256
         ],
         "yaxis": "y"
        },
        {
         "hovertemplate": "Property=Marylebone Station<br>Rent 4 Stations=%{x}<br>Probability=%{y}<br>Rent 4 Stations * Probability=%{marker.size}<extra></extra>",
         "legendgroup": "Marylebone Station",
         "marker": {
          "color": "black",
          "size": [
           5.5350752964832814
          ],
          "sizemode": "area",
          "sizeref": 0.014545788694176281,
          "symbol": "circle"
         },
         "mode": "markers",
         "name": "Marylebone Station",
         "orientation": "v",
         "showlegend": true,
         "type": "scatter",
         "x": [
          200
         ],
         "xaxis": "x",
         "y": [
          0.027675376482416407
         ],
         "yaxis": "y"
        },
        {
         "hovertemplate": "Property=Fenchurch St. Station<br>Rent 4 Stations=%{x}<br>Probability=%{y}<br>Rent 4 Stations * Probability=%{marker.size}<extra></extra>",
         "legendgroup": "Fenchurch St. Station",
         "marker": {
          "color": "black",
          "size": [
           5.628587799050821
          ],
          "sizemode": "area",
          "sizeref": 0.014545788694176281,
          "symbol": "circle"
         },
         "mode": "markers",
         "name": "Fenchurch St. Station",
         "orientation": "v",
         "showlegend": true,
         "type": "scatter",
         "x": [
          200
         ],
         "xaxis": "x",
         "y": [
          0.028142938995254104
         ],
         "yaxis": "y"
        },
        {
         "hovertemplate": "Property=Liverpool St. Station<br>Rent 4 Stations=%{x}<br>Probability=%{y}<br>Rent 4 Stations * Probability=%{marker.size}<extra></extra>",
         "legendgroup": "Liverpool St. Station",
         "marker": {
          "color": "black",
          "size": [
           4.284818542502243
          ],
          "sizemode": "area",
          "sizeref": 0.014545788694176281,
          "symbol": "circle"
         },
         "mode": "markers",
         "name": "Liverpool St. Station",
         "orientation": "v",
         "showlegend": true,
         "type": "scatter",
         "x": [
          200
         ],
         "xaxis": "x",
         "y": [
          0.021424092712511215
         ],
         "yaxis": "y"
        }
       ],
       "layout": {
        "legend": {
         "itemsizing": "constant",
         "title": {
          "text": "Property"
         },
         "tracegroupgap": 0
        },
        "showlegend": false,
        "template": {
         "data": {
          "bar": [
           {
            "error_x": {
             "color": "#2a3f5f"
            },
            "error_y": {
             "color": "#2a3f5f"
            },
            "marker": {
             "line": {
              "color": "#E5ECF6",
              "width": 0.5
             },
             "pattern": {
              "fillmode": "overlay",
              "size": 10,
              "solidity": 0.2
             }
            },
            "type": "bar"
           }
          ],
          "barpolar": [
           {
            "marker": {
             "line": {
              "color": "#E5ECF6",
              "width": 0.5
             },
             "pattern": {
              "fillmode": "overlay",
              "size": 10,
              "solidity": 0.2
             }
            },
            "type": "barpolar"
           }
          ],
          "carpet": [
           {
            "aaxis": {
             "endlinecolor": "#2a3f5f",
             "gridcolor": "white",
             "linecolor": "white",
             "minorgridcolor": "white",
             "startlinecolor": "#2a3f5f"
            },
            "baxis": {
             "endlinecolor": "#2a3f5f",
             "gridcolor": "white",
             "linecolor": "white",
             "minorgridcolor": "white",
             "startlinecolor": "#2a3f5f"
            },
            "type": "carpet"
           }
          ],
          "choropleth": [
           {
            "colorbar": {
             "outlinewidth": 0,
             "ticks": ""
            },
            "type": "choropleth"
           }
          ],
          "contour": [
           {
            "colorbar": {
             "outlinewidth": 0,
             "ticks": ""
            },
            "colorscale": [
             [
              0,
              "#0d0887"
             ],
             [
              0.1111111111111111,
              "#46039f"
             ],
             [
              0.2222222222222222,
              "#7201a8"
             ],
             [
              0.3333333333333333,
              "#9c179e"
             ],
             [
              0.4444444444444444,
              "#bd3786"
             ],
             [
              0.5555555555555556,
              "#d8576b"
             ],
             [
              0.6666666666666666,
              "#ed7953"
             ],
             [
              0.7777777777777778,
              "#fb9f3a"
             ],
             [
              0.8888888888888888,
              "#fdca26"
             ],
             [
              1,
              "#f0f921"
             ]
            ],
            "type": "contour"
           }
          ],
          "contourcarpet": [
           {
            "colorbar": {
             "outlinewidth": 0,
             "ticks": ""
            },
            "type": "contourcarpet"
           }
          ],
          "heatmap": [
           {
            "colorbar": {
             "outlinewidth": 0,
             "ticks": ""
            },
            "colorscale": [
             [
              0,
              "#0d0887"
             ],
             [
              0.1111111111111111,
              "#46039f"
             ],
             [
              0.2222222222222222,
              "#7201a8"
             ],
             [
              0.3333333333333333,
              "#9c179e"
             ],
             [
              0.4444444444444444,
              "#bd3786"
             ],
             [
              0.5555555555555556,
              "#d8576b"
             ],
             [
              0.6666666666666666,
              "#ed7953"
             ],
             [
              0.7777777777777778,
              "#fb9f3a"
             ],
             [
              0.8888888888888888,
              "#fdca26"
             ],
             [
              1,
              "#f0f921"
             ]
            ],
            "type": "heatmap"
           }
          ],
          "heatmapgl": [
           {
            "colorbar": {
             "outlinewidth": 0,
             "ticks": ""
            },
            "colorscale": [
             [
              0,
              "#0d0887"
             ],
             [
              0.1111111111111111,
              "#46039f"
             ],
             [
              0.2222222222222222,
              "#7201a8"
             ],
             [
              0.3333333333333333,
              "#9c179e"
             ],
             [
              0.4444444444444444,
              "#bd3786"
             ],
             [
              0.5555555555555556,
              "#d8576b"
             ],
             [
              0.6666666666666666,
              "#ed7953"
             ],
             [
              0.7777777777777778,
              "#fb9f3a"
             ],
             [
              0.8888888888888888,
              "#fdca26"
             ],
             [
              1,
              "#f0f921"
             ]
            ],
            "type": "heatmapgl"
           }
          ],
          "histogram": [
           {
            "marker": {
             "pattern": {
              "fillmode": "overlay",
              "size": 10,
              "solidity": 0.2
             }
            },
            "type": "histogram"
           }
          ],
          "histogram2d": [
           {
            "colorbar": {
             "outlinewidth": 0,
             "ticks": ""
            },
            "colorscale": [
             [
              0,
              "#0d0887"
             ],
             [
              0.1111111111111111,
              "#46039f"
             ],
             [
              0.2222222222222222,
              "#7201a8"
             ],
             [
              0.3333333333333333,
              "#9c179e"
             ],
             [
              0.4444444444444444,
              "#bd3786"
             ],
             [
              0.5555555555555556,
              "#d8576b"
             ],
             [
              0.6666666666666666,
              "#ed7953"
             ],
             [
              0.7777777777777778,
              "#fb9f3a"
             ],
             [
              0.8888888888888888,
              "#fdca26"
             ],
             [
              1,
              "#f0f921"
             ]
            ],
            "type": "histogram2d"
           }
          ],
          "histogram2dcontour": [
           {
            "colorbar": {
             "outlinewidth": 0,
             "ticks": ""
            },
            "colorscale": [
             [
              0,
              "#0d0887"
             ],
             [
              0.1111111111111111,
              "#46039f"
             ],
             [
              0.2222222222222222,
              "#7201a8"
             ],
             [
              0.3333333333333333,
              "#9c179e"
             ],
             [
              0.4444444444444444,
              "#bd3786"
             ],
             [
              0.5555555555555556,
              "#d8576b"
             ],
             [
              0.6666666666666666,
              "#ed7953"
             ],
             [
              0.7777777777777778,
              "#fb9f3a"
             ],
             [
              0.8888888888888888,
              "#fdca26"
             ],
             [
              1,
              "#f0f921"
             ]
            ],
            "type": "histogram2dcontour"
           }
          ],
          "mesh3d": [
           {
            "colorbar": {
             "outlinewidth": 0,
             "ticks": ""
            },
            "type": "mesh3d"
           }
          ],
          "parcoords": [
           {
            "line": {
             "colorbar": {
              "outlinewidth": 0,
              "ticks": ""
             }
            },
            "type": "parcoords"
           }
          ],
          "pie": [
           {
            "automargin": true,
            "type": "pie"
           }
          ],
          "scatter": [
           {
            "fillpattern": {
             "fillmode": "overlay",
             "size": 10,
             "solidity": 0.2
            },
            "type": "scatter"
           }
          ],
          "scatter3d": [
           {
            "line": {
             "colorbar": {
              "outlinewidth": 0,
              "ticks": ""
             }
            },
            "marker": {
             "colorbar": {
              "outlinewidth": 0,
              "ticks": ""
             }
            },
            "type": "scatter3d"
           }
          ],
          "scattercarpet": [
           {
            "marker": {
             "colorbar": {
              "outlinewidth": 0,
              "ticks": ""
             }
            },
            "type": "scattercarpet"
           }
          ],
          "scattergeo": [
           {
            "marker": {
             "colorbar": {
              "outlinewidth": 0,
              "ticks": ""
             }
            },
            "type": "scattergeo"
           }
          ],
          "scattergl": [
           {
            "marker": {
             "colorbar": {
              "outlinewidth": 0,
              "ticks": ""
             }
            },
            "type": "scattergl"
           }
          ],
          "scattermapbox": [
           {
            "marker": {
             "colorbar": {
              "outlinewidth": 0,
              "ticks": ""
             }
            },
            "type": "scattermapbox"
           }
          ],
          "scatterpolar": [
           {
            "marker": {
             "colorbar": {
              "outlinewidth": 0,
              "ticks": ""
             }
            },
            "type": "scatterpolar"
           }
          ],
          "scatterpolargl": [
           {
            "marker": {
             "colorbar": {
              "outlinewidth": 0,
              "ticks": ""
             }
            },
            "type": "scatterpolargl"
           }
          ],
          "scatterternary": [
           {
            "marker": {
             "colorbar": {
              "outlinewidth": 0,
              "ticks": ""
             }
            },
            "type": "scatterternary"
           }
          ],
          "surface": [
           {
            "colorbar": {
             "outlinewidth": 0,
             "ticks": ""
            },
            "colorscale": [
             [
              0,
              "#0d0887"
             ],
             [
              0.1111111111111111,
              "#46039f"
             ],
             [
              0.2222222222222222,
              "#7201a8"
             ],
             [
              0.3333333333333333,
              "#9c179e"
             ],
             [
              0.4444444444444444,
              "#bd3786"
             ],
             [
              0.5555555555555556,
              "#d8576b"
             ],
             [
              0.6666666666666666,
              "#ed7953"
             ],
             [
              0.7777777777777778,
              "#fb9f3a"
             ],
             [
              0.8888888888888888,
              "#fdca26"
             ],
             [
              1,
              "#f0f921"
             ]
            ],
            "type": "surface"
           }
          ],
          "table": [
           {
            "cells": {
             "fill": {
              "color": "#EBF0F8"
             },
             "line": {
              "color": "white"
             }
            },
            "header": {
             "fill": {
              "color": "#C8D4E3"
             },
             "line": {
              "color": "white"
             }
            },
            "type": "table"
           }
          ]
         },
         "layout": {
          "annotationdefaults": {
           "arrowcolor": "#2a3f5f",
           "arrowhead": 0,
           "arrowwidth": 1
          },
          "autotypenumbers": "strict",
          "coloraxis": {
           "colorbar": {
            "outlinewidth": 0,
            "ticks": ""
           }
          },
          "colorscale": {
           "diverging": [
            [
             0,
             "#8e0152"
            ],
            [
             0.1,
             "#c51b7d"
            ],
            [
             0.2,
             "#de77ae"
            ],
            [
             0.3,
             "#f1b6da"
            ],
            [
             0.4,
             "#fde0ef"
            ],
            [
             0.5,
             "#f7f7f7"
            ],
            [
             0.6,
             "#e6f5d0"
            ],
            [
             0.7,
             "#b8e186"
            ],
            [
             0.8,
             "#7fbc41"
            ],
            [
             0.9,
             "#4d9221"
            ],
            [
             1,
             "#276419"
            ]
           ],
           "sequential": [
            [
             0,
             "#0d0887"
            ],
            [
             0.1111111111111111,
             "#46039f"
            ],
            [
             0.2222222222222222,
             "#7201a8"
            ],
            [
             0.3333333333333333,
             "#9c179e"
            ],
            [
             0.4444444444444444,
             "#bd3786"
            ],
            [
             0.5555555555555556,
             "#d8576b"
            ],
            [
             0.6666666666666666,
             "#ed7953"
            ],
            [
             0.7777777777777778,
             "#fb9f3a"
            ],
            [
             0.8888888888888888,
             "#fdca26"
            ],
            [
             1,
             "#f0f921"
            ]
           ],
           "sequentialminus": [
            [
             0,
             "#0d0887"
            ],
            [
             0.1111111111111111,
             "#46039f"
            ],
            [
             0.2222222222222222,
             "#7201a8"
            ],
            [
             0.3333333333333333,
             "#9c179e"
            ],
            [
             0.4444444444444444,
             "#bd3786"
            ],
            [
             0.5555555555555556,
             "#d8576b"
            ],
            [
             0.6666666666666666,
             "#ed7953"
            ],
            [
             0.7777777777777778,
             "#fb9f3a"
            ],
            [
             0.8888888888888888,
             "#fdca26"
            ],
            [
             1,
             "#f0f921"
            ]
           ]
          },
          "colorway": [
           "#636efa",
           "#EF553B",
           "#00cc96",
           "#ab63fa",
           "#FFA15A",
           "#19d3f3",
           "#FF6692",
           "#B6E880",
           "#FF97FF",
           "#FECB52"
          ],
          "font": {
           "color": "#2a3f5f"
          },
          "geo": {
           "bgcolor": "white",
           "lakecolor": "white",
           "landcolor": "#E5ECF6",
           "showlakes": true,
           "showland": true,
           "subunitcolor": "white"
          },
          "hoverlabel": {
           "align": "left"
          },
          "hovermode": "closest",
          "mapbox": {
           "style": "light"
          },
          "paper_bgcolor": "white",
          "plot_bgcolor": "#E5ECF6",
          "polar": {
           "angularaxis": {
            "gridcolor": "white",
            "linecolor": "white",
            "ticks": ""
           },
           "bgcolor": "#E5ECF6",
           "radialaxis": {
            "gridcolor": "white",
            "linecolor": "white",
            "ticks": ""
           }
          },
          "scene": {
           "xaxis": {
            "backgroundcolor": "#E5ECF6",
            "gridcolor": "white",
            "gridwidth": 2,
            "linecolor": "white",
            "showbackground": true,
            "ticks": "",
            "zerolinecolor": "white"
           },
           "yaxis": {
            "backgroundcolor": "#E5ECF6",
            "gridcolor": "white",
            "gridwidth": 2,
            "linecolor": "white",
            "showbackground": true,
            "ticks": "",
            "zerolinecolor": "white"
           },
           "zaxis": {
            "backgroundcolor": "#E5ECF6",
            "gridcolor": "white",
            "gridwidth": 2,
            "linecolor": "white",
            "showbackground": true,
            "ticks": "",
            "zerolinecolor": "white"
           }
          },
          "shapedefaults": {
           "line": {
            "color": "#2a3f5f"
           }
          },
          "ternary": {
           "aaxis": {
            "gridcolor": "white",
            "linecolor": "white",
            "ticks": ""
           },
           "baxis": {
            "gridcolor": "white",
            "linecolor": "white",
            "ticks": ""
           },
           "bgcolor": "#E5ECF6",
           "caxis": {
            "gridcolor": "white",
            "linecolor": "white",
            "ticks": ""
           }
          },
          "title": {
           "x": 0.05
          },
          "xaxis": {
           "automargin": true,
           "gridcolor": "white",
           "linecolor": "white",
           "ticks": "",
           "title": {
            "standoff": 15
           },
           "zerolinecolor": "white",
           "zerolinewidth": 2
          },
          "yaxis": {
           "automargin": true,
           "gridcolor": "white",
           "linecolor": "white",
           "ticks": "",
           "title": {
            "standoff": 15
           },
           "zerolinecolor": "white",
           "zerolinewidth": 2
          }
         }
        },
        "title": {
         "text": "Monopoly Board Station Probabilities Against Rent 4 Stations"
        },
        "xaxis": {
         "anchor": "y",
         "domain": [
          0,
          1
         ],
         "title": {
          "text": "Rent 4 Stations"
         }
        },
        "yaxis": {
         "anchor": "x",
         "domain": [
          0,
          1
         ],
         "title": {
          "text": "Probability"
         }
        }
       }
      }
     },
     "metadata": {},
     "output_type": "display_data"
    }
   ],
   "source": [
    "for name in ['Rent 1 Station', 'Rent 2 Stations', 'Rent 3 Stations', 'Rent 4 Stations']:\n",
    "    df_stations[name + ' * Probability'] = df_stations[name] * df_stations['Probability']\n",
    "\n",
    "    fig = px.scatter(\n",
    "        df_stations,\n",
    "        x=name,\n",
    "        y='Probability',\n",
    "        title=\"Monopoly Board Station Probabilities Against \" + name,\n",
    "        labels={'x': name, 'y': 'Probability'},\n",
    "        color='Property',\n",
    "        color_discrete_map=color_dict,\n",
    "        size = name + \" * Probability\"\n",
    "    )\n",
    "\n",
    "    fig.update_layout(showlegend=False)\n",
    "    fig.show()"
   ]
  },
  {
   "cell_type": "markdown",
   "metadata": {},
   "source": [
    "utilities"
   ]
  },
  {
   "cell_type": "code",
   "execution_count": 10,
   "metadata": {},
   "outputs": [],
   "source": [
    "num_trials = 1000\n",
    "rolls = np.array([])\n",
    "\n",
    "for _ in range(num_trials):\n",
    "    rolls = np.append(rolls, random.randint(1, 6) + random.randint(1, 6))\n",
    "\n",
    "df_1_utility_data = pd.DataFrame({'Water Works': rolls*df_utilities['Rent Multiplier 1 Utility'][28]*df_utilities['Probability'][28],\n",
    "                                  'Electric Company':  rolls*df_utilities['Rent Multiplier 1 Utility'][12]*df_utilities['Probability'][12]})\n",
    "df_2_utilities_data = pd.DataFrame({'Water Works': rolls*df_utilities['Rent Multiplier 2 Utilities'][28]*df_utilities['Probability'][28],\n",
    "                                    'Electric Company':  rolls*df_utilities['Rent Multiplier 2 Utilities'][12]*df_utilities['Probability'][12]})"
   ]
  },
  {
   "cell_type": "code",
   "execution_count": 11,
   "metadata": {},
   "outputs": [
    {
     "data": {
      "text/html": [
       "<div>\n",
       "<style scoped>\n",
       "    .dataframe tbody tr th:only-of-type {\n",
       "        vertical-align: middle;\n",
       "    }\n",
       "\n",
       "    .dataframe tbody tr th {\n",
       "        vertical-align: top;\n",
       "    }\n",
       "\n",
       "    .dataframe thead th {\n",
       "        text-align: right;\n",
       "    }\n",
       "</style>\n",
       "<table border=\"1\" class=\"dataframe\">\n",
       "  <thead>\n",
       "    <tr style=\"text-align: right;\">\n",
       "      <th></th>\n",
       "      <th>Water Works</th>\n",
       "      <th>Electric Company</th>\n",
       "    </tr>\n",
       "  </thead>\n",
       "  <tbody>\n",
       "    <tr>\n",
       "      <th>0</th>\n",
       "      <td>0.816770</td>\n",
       "      <td>0.835277</td>\n",
       "    </tr>\n",
       "    <tr>\n",
       "      <th>1</th>\n",
       "      <td>0.816770</td>\n",
       "      <td>0.835277</td>\n",
       "    </tr>\n",
       "    <tr>\n",
       "      <th>2</th>\n",
       "      <td>0.408385</td>\n",
       "      <td>0.417639</td>\n",
       "    </tr>\n",
       "    <tr>\n",
       "      <th>3</th>\n",
       "      <td>0.816770</td>\n",
       "      <td>0.835277</td>\n",
       "    </tr>\n",
       "    <tr>\n",
       "      <th>4</th>\n",
       "      <td>0.612577</td>\n",
       "      <td>0.626458</td>\n",
       "    </tr>\n",
       "  </tbody>\n",
       "</table>\n",
       "</div>"
      ],
      "text/plain": [
       "   Water Works  Electric Company\n",
       "0     0.816770          0.835277\n",
       "1     0.816770          0.835277\n",
       "2     0.408385          0.417639\n",
       "3     0.816770          0.835277\n",
       "4     0.612577          0.626458"
      ]
     },
     "execution_count": 11,
     "metadata": {},
     "output_type": "execute_result"
    }
   ],
   "source": [
    "df_1_utility_data.head()"
   ]
  },
  {
   "cell_type": "code",
   "execution_count": 12,
   "metadata": {},
   "outputs": [
    {
     "data": {
      "text/html": [
       "<div>\n",
       "<style scoped>\n",
       "    .dataframe tbody tr th:only-of-type {\n",
       "        vertical-align: middle;\n",
       "    }\n",
       "\n",
       "    .dataframe tbody tr th {\n",
       "        vertical-align: top;\n",
       "    }\n",
       "\n",
       "    .dataframe thead th {\n",
       "        text-align: right;\n",
       "    }\n",
       "</style>\n",
       "<table border=\"1\" class=\"dataframe\">\n",
       "  <thead>\n",
       "    <tr style=\"text-align: right;\">\n",
       "      <th></th>\n",
       "      <th>Water Works</th>\n",
       "      <th>Electric Company</th>\n",
       "    </tr>\n",
       "  </thead>\n",
       "  <tbody>\n",
       "    <tr>\n",
       "      <th>0</th>\n",
       "      <td>2.041924</td>\n",
       "      <td>2.088194</td>\n",
       "    </tr>\n",
       "    <tr>\n",
       "      <th>1</th>\n",
       "      <td>2.041924</td>\n",
       "      <td>2.088194</td>\n",
       "    </tr>\n",
       "    <tr>\n",
       "      <th>2</th>\n",
       "      <td>1.020962</td>\n",
       "      <td>1.044097</td>\n",
       "    </tr>\n",
       "    <tr>\n",
       "      <th>3</th>\n",
       "      <td>2.041924</td>\n",
       "      <td>2.088194</td>\n",
       "    </tr>\n",
       "    <tr>\n",
       "      <th>4</th>\n",
       "      <td>1.531443</td>\n",
       "      <td>1.566145</td>\n",
       "    </tr>\n",
       "  </tbody>\n",
       "</table>\n",
       "</div>"
      ],
      "text/plain": [
       "   Water Works  Electric Company\n",
       "0     2.041924          2.088194\n",
       "1     2.041924          2.088194\n",
       "2     1.020962          1.044097\n",
       "3     2.041924          2.088194\n",
       "4     1.531443          1.566145"
      ]
     },
     "execution_count": 12,
     "metadata": {},
     "output_type": "execute_result"
    }
   ],
   "source": [
    "df_2_utilities_data.head()"
   ]
  },
  {
   "cell_type": "code",
   "execution_count": 13,
   "metadata": {},
   "outputs": [
    {
     "data": {
      "application/vnd.plotly.v1+json": {
       "config": {
        "plotlyServerURL": "https://plot.ly"
       },
       "data": [
        {
         "alignmentgroup": "True",
         "hovertemplate": "Utility=%{x}<br>Expected Rent=%{y}<extra></extra>",
         "legendgroup": "",
         "marker": {
          "color": "#636efa"
         },
         "name": "1 Utility Owned",
         "notched": false,
         "offsetgroup": "",
         "orientation": "v",
         "showlegend": false,
         "type": "box",
         "x": [
          "Water Works",
          "Water Works",
          "Water Works",
          "Water Works",
          "Water Works",
          "Water Works",
          "Water Works",
          "Water Works",
          "Water Works",
          "Water Works",
          "Water Works",
          "Water Works",
          "Water Works",
          "Water Works",
          "Water Works",
          "Water Works",
          "Water Works",
          "Water Works",
          "Water Works",
          "Water Works",
          "Water Works",
          "Water Works",
          "Water Works",
          "Water Works",
          "Water Works",
          "Water Works",
          "Water Works",
          "Water Works",
          "Water Works",
          "Water Works",
          "Water Works",
          "Water Works",
          "Water Works",
          "Water Works",
          "Water Works",
          "Water Works",
          "Water Works",
          "Water Works",
          "Water Works",
          "Water Works",
          "Water Works",
          "Water Works",
          "Water Works",
          "Water Works",
          "Water Works",
          "Water Works",
          "Water Works",
          "Water Works",
          "Water Works",
          "Water Works",
          "Water Works",
          "Water Works",
          "Water Works",
          "Water Works",
          "Water Works",
          "Water Works",
          "Water Works",
          "Water Works",
          "Water Works",
          "Water Works",
          "Water Works",
          "Water Works",
          "Water Works",
          "Water Works",
          "Water Works",
          "Water Works",
          "Water Works",
          "Water Works",
          "Water Works",
          "Water Works",
          "Water Works",
          "Water Works",
          "Water Works",
          "Water Works",
          "Water Works",
          "Water Works",
          "Water Works",
          "Water Works",
          "Water Works",
          "Water Works",
          "Water Works",
          "Water Works",
          "Water Works",
          "Water Works",
          "Water Works",
          "Water Works",
          "Water Works",
          "Water Works",
          "Water Works",
          "Water Works",
          "Water Works",
          "Water Works",
          "Water Works",
          "Water Works",
          "Water Works",
          "Water Works",
          "Water Works",
          "Water Works",
          "Water Works",
          "Water Works",
          "Water Works",
          "Water Works",
          "Water Works",
          "Water Works",
          "Water Works",
          "Water Works",
          "Water Works",
          "Water Works",
          "Water Works",
          "Water Works",
          "Water Works",
          "Water Works",
          "Water Works",
          "Water Works",
          "Water Works",
          "Water Works",
          "Water Works",
          "Water Works",
          "Water Works",
          "Water Works",
          "Water Works",
          "Water Works",
          "Water Works",
          "Water Works",
          "Water Works",
          "Water Works",
          "Water Works",
          "Water Works",
          "Water Works",
          "Water Works",
          "Water Works",
          "Water Works",
          "Water Works",
          "Water Works",
          "Water Works",
          "Water Works",
          "Water Works",
          "Water Works",
          "Water Works",
          "Water Works",
          "Water Works",
          "Water Works",
          "Water Works",
          "Water Works",
          "Water Works",
          "Water Works",
          "Water Works",
          "Water Works",
          "Water Works",
          "Water Works",
          "Water Works",
          "Water Works",
          "Water Works",
          "Water Works",
          "Water Works",
          "Water Works",
          "Water Works",
          "Water Works",
          "Water Works",
          "Water Works",
          "Water Works",
          "Water Works",
          "Water Works",
          "Water Works",
          "Water Works",
          "Water Works",
          "Water Works",
          "Water Works",
          "Water Works",
          "Water Works",
          "Water Works",
          "Water Works",
          "Water Works",
          "Water Works",
          "Water Works",
          "Water Works",
          "Water Works",
          "Water Works",
          "Water Works",
          "Water Works",
          "Water Works",
          "Water Works",
          "Water Works",
          "Water Works",
          "Water Works",
          "Water Works",
          "Water Works",
          "Water Works",
          "Water Works",
          "Water Works",
          "Water Works",
          "Water Works",
          "Water Works",
          "Water Works",
          "Water Works",
          "Water Works",
          "Water Works",
          "Water Works",
          "Water Works",
          "Water Works",
          "Water Works",
          "Water Works",
          "Water Works",
          "Water Works",
          "Water Works",
          "Water Works",
          "Water Works",
          "Water Works",
          "Water Works",
          "Water Works",
          "Water Works",
          "Water Works",
          "Water Works",
          "Water Works",
          "Water Works",
          "Water Works",
          "Water Works",
          "Water Works",
          "Water Works",
          "Water Works",
          "Water Works",
          "Water Works",
          "Water Works",
          "Water Works",
          "Water Works",
          "Water Works",
          "Water Works",
          "Water Works",
          "Water Works",
          "Water Works",
          "Water Works",
          "Water Works",
          "Water Works",
          "Water Works",
          "Water Works",
          "Water Works",
          "Water Works",
          "Water Works",
          "Water Works",
          "Water Works",
          "Water Works",
          "Water Works",
          "Water Works",
          "Water Works",
          "Water Works",
          "Water Works",
          "Water Works",
          "Water Works",
          "Water Works",
          "Water Works",
          "Water Works",
          "Water Works",
          "Water Works",
          "Water Works",
          "Water Works",
          "Water Works",
          "Water Works",
          "Water Works",
          "Water Works",
          "Water Works",
          "Water Works",
          "Water Works",
          "Water Works",
          "Water Works",
          "Water Works",
          "Water Works",
          "Water Works",
          "Water Works",
          "Water Works",
          "Water Works",
          "Water Works",
          "Water Works",
          "Water Works",
          "Water Works",
          "Water Works",
          "Water Works",
          "Water Works",
          "Water Works",
          "Water Works",
          "Water Works",
          "Water Works",
          "Water Works",
          "Water Works",
          "Water Works",
          "Water Works",
          "Water Works",
          "Water Works",
          "Water Works",
          "Water Works",
          "Water Works",
          "Water Works",
          "Water Works",
          "Water Works",
          "Water Works",
          "Water Works",
          "Water Works",
          "Water Works",
          "Water Works",
          "Water Works",
          "Water Works",
          "Water Works",
          "Water Works",
          "Water Works",
          "Water Works",
          "Water Works",
          "Water Works",
          "Water Works",
          "Water Works",
          "Water Works",
          "Water Works",
          "Water Works",
          "Water Works",
          "Water Works",
          "Water Works",
          "Water Works",
          "Water Works",
          "Water Works",
          "Water Works",
          "Water Works",
          "Water Works",
          "Water Works",
          "Water Works",
          "Water Works",
          "Water Works",
          "Water Works",
          "Water Works",
          "Water Works",
          "Water Works",
          "Water Works",
          "Water Works",
          "Water Works",
          "Water Works",
          "Water Works",
          "Water Works",
          "Water Works",
          "Water Works",
          "Water Works",
          "Water Works",
          "Water Works",
          "Water Works",
          "Water Works",
          "Water Works",
          "Water Works",
          "Water Works",
          "Water Works",
          "Water Works",
          "Water Works",
          "Water Works",
          "Water Works",
          "Water Works",
          "Water Works",
          "Water Works",
          "Water Works",
          "Water Works",
          "Water Works",
          "Water Works",
          "Water Works",
          "Water Works",
          "Water Works",
          "Water Works",
          "Water Works",
          "Water Works",
          "Water Works",
          "Water Works",
          "Water Works",
          "Water Works",
          "Water Works",
          "Water Works",
          "Water Works",
          "Water Works",
          "Water Works",
          "Water Works",
          "Water Works",
          "Water Works",
          "Water Works",
          "Water Works",
          "Water Works",
          "Water Works",
          "Water Works",
          "Water Works",
          "Water Works",
          "Water Works",
          "Water Works",
          "Water Works",
          "Water Works",
          "Water Works",
          "Water Works",
          "Water Works",
          "Water Works",
          "Water Works",
          "Water Works",
          "Water Works",
          "Water Works",
          "Water Works",
          "Water Works",
          "Water Works",
          "Water Works",
          "Water Works",
          "Water Works",
          "Water Works",
          "Water Works",
          "Water Works",
          "Water Works",
          "Water Works",
          "Water Works",
          "Water Works",
          "Water Works",
          "Water Works",
          "Water Works",
          "Water Works",
          "Water Works",
          "Water Works",
          "Water Works",
          "Water Works",
          "Water Works",
          "Water Works",
          "Water Works",
          "Water Works",
          "Water Works",
          "Water Works",
          "Water Works",
          "Water Works",
          "Water Works",
          "Water Works",
          "Water Works",
          "Water Works",
          "Water Works",
          "Water Works",
          "Water Works",
          "Water Works",
          "Water Works",
          "Water Works",
          "Water Works",
          "Water Works",
          "Water Works",
          "Water Works",
          "Water Works",
          "Water Works",
          "Water Works",
          "Water Works",
          "Water Works",
          "Water Works",
          "Water Works",
          "Water Works",
          "Water Works",
          "Water Works",
          "Water Works",
          "Water Works",
          "Water Works",
          "Water Works",
          "Water Works",
          "Water Works",
          "Water Works",
          "Water Works",
          "Water Works",
          "Water Works",
          "Water Works",
          "Water Works",
          "Water Works",
          "Water Works",
          "Water Works",
          "Water Works",
          "Water Works",
          "Water Works",
          "Water Works",
          "Water Works",
          "Water Works",
          "Water Works",
          "Water Works",
          "Water Works",
          "Water Works",
          "Water Works",
          "Water Works",
          "Water Works",
          "Water Works",
          "Water Works",
          "Water Works",
          "Water Works",
          "Water Works",
          "Water Works",
          "Water Works",
          "Water Works",
          "Water Works",
          "Water Works",
          "Water Works",
          "Water Works",
          "Water Works",
          "Water Works",
          "Water Works",
          "Water Works",
          "Water Works",
          "Water Works",
          "Water Works",
          "Water Works",
          "Water Works",
          "Water Works",
          "Water Works",
          "Water Works",
          "Water Works",
          "Water Works",
          "Water Works",
          "Water Works",
          "Water Works",
          "Water Works",
          "Water Works",
          "Water Works",
          "Water Works",
          "Water Works",
          "Water Works",
          "Water Works",
          "Water Works",
          "Water Works",
          "Water Works",
          "Water Works",
          "Water Works",
          "Water Works",
          "Water Works",
          "Water Works",
          "Water Works",
          "Water Works",
          "Water Works",
          "Water Works",
          "Water Works",
          "Water Works",
          "Water Works",
          "Water Works",
          "Water Works",
          "Water Works",
          "Water Works",
          "Water Works",
          "Water Works",
          "Water Works",
          "Water Works",
          "Water Works",
          "Water Works",
          "Water Works",
          "Water Works",
          "Water Works",
          "Water Works",
          "Water Works",
          "Water Works",
          "Water Works",
          "Water Works",
          "Water Works",
          "Water Works",
          "Water Works",
          "Water Works",
          "Water Works",
          "Water Works",
          "Water Works",
          "Water Works",
          "Water Works",
          "Water Works",
          "Water Works",
          "Water Works",
          "Water Works",
          "Water Works",
          "Water Works",
          "Water Works",
          "Water Works",
          "Water Works",
          "Water Works",
          "Water Works",
          "Water Works",
          "Water Works",
          "Water Works",
          "Water Works",
          "Water Works",
          "Water Works",
          "Water Works",
          "Water Works",
          "Water Works",
          "Water Works",
          "Water Works",
          "Water Works",
          "Water Works",
          "Water Works",
          "Water Works",
          "Water Works",
          "Water Works",
          "Water Works",
          "Water Works",
          "Water Works",
          "Water Works",
          "Water Works",
          "Water Works",
          "Water Works",
          "Water Works",
          "Water Works",
          "Water Works",
          "Water Works",
          "Water Works",
          "Water Works",
          "Water Works",
          "Water Works",
          "Water Works",
          "Water Works",
          "Water Works",
          "Water Works",
          "Water Works",
          "Water Works",
          "Water Works",
          "Water Works",
          "Water Works",
          "Water Works",
          "Water Works",
          "Water Works",
          "Water Works",
          "Water Works",
          "Water Works",
          "Water Works",
          "Water Works",
          "Water Works",
          "Water Works",
          "Water Works",
          "Water Works",
          "Water Works",
          "Water Works",
          "Water Works",
          "Water Works",
          "Water Works",
          "Water Works",
          "Water Works",
          "Water Works",
          "Water Works",
          "Water Works",
          "Water Works",
          "Water Works",
          "Water Works",
          "Water Works",
          "Water Works",
          "Water Works",
          "Water Works",
          "Water Works",
          "Water Works",
          "Water Works",
          "Water Works",
          "Water Works",
          "Water Works",
          "Water Works",
          "Water Works",
          "Water Works",
          "Water Works",
          "Water Works",
          "Water Works",
          "Water Works",
          "Water Works",
          "Water Works",
          "Water Works",
          "Water Works",
          "Water Works",
          "Water Works",
          "Water Works",
          "Water Works",
          "Water Works",
          "Water Works",
          "Water Works",
          "Water Works",
          "Water Works",
          "Water Works",
          "Water Works",
          "Water Works",
          "Water Works",
          "Water Works",
          "Water Works",
          "Water Works",
          "Water Works",
          "Water Works",
          "Water Works",
          "Water Works",
          "Water Works",
          "Water Works",
          "Water Works",
          "Water Works",
          "Water Works",
          "Water Works",
          "Water Works",
          "Water Works",
          "Water Works",
          "Water Works",
          "Water Works",
          "Water Works",
          "Water Works",
          "Water Works",
          "Water Works",
          "Water Works",
          "Water Works",
          "Water Works",
          "Water Works",
          "Water Works",
          "Water Works",
          "Water Works",
          "Water Works",
          "Water Works",
          "Water Works",
          "Water Works",
          "Water Works",
          "Water Works",
          "Water Works",
          "Water Works",
          "Water Works",
          "Water Works",
          "Water Works",
          "Water Works",
          "Water Works",
          "Water Works",
          "Water Works",
          "Water Works",
          "Water Works",
          "Water Works",
          "Water Works",
          "Water Works",
          "Water Works",
          "Water Works",
          "Water Works",
          "Water Works",
          "Water Works",
          "Water Works",
          "Water Works",
          "Water Works",
          "Water Works",
          "Water Works",
          "Water Works",
          "Water Works",
          "Water Works",
          "Water Works",
          "Water Works",
          "Water Works",
          "Water Works",
          "Water Works",
          "Water Works",
          "Water Works",
          "Water Works",
          "Water Works",
          "Water Works",
          "Water Works",
          "Water Works",
          "Water Works",
          "Water Works",
          "Water Works",
          "Water Works",
          "Water Works",
          "Water Works",
          "Water Works",
          "Water Works",
          "Water Works",
          "Water Works",
          "Water Works",
          "Water Works",
          "Water Works",
          "Water Works",
          "Water Works",
          "Water Works",
          "Water Works",
          "Water Works",
          "Water Works",
          "Water Works",
          "Water Works",
          "Water Works",
          "Water Works",
          "Water Works",
          "Water Works",
          "Water Works",
          "Water Works",
          "Water Works",
          "Water Works",
          "Water Works",
          "Water Works",
          "Water Works",
          "Water Works",
          "Water Works",
          "Water Works",
          "Water Works",
          "Water Works",
          "Water Works",
          "Water Works",
          "Water Works",
          "Water Works",
          "Water Works",
          "Water Works",
          "Water Works",
          "Water Works",
          "Water Works",
          "Water Works",
          "Water Works",
          "Water Works",
          "Water Works",
          "Water Works",
          "Water Works",
          "Water Works",
          "Water Works",
          "Water Works",
          "Water Works",
          "Water Works",
          "Water Works",
          "Water Works",
          "Water Works",
          "Water Works",
          "Water Works",
          "Water Works",
          "Water Works",
          "Water Works",
          "Water Works",
          "Water Works",
          "Water Works",
          "Water Works",
          "Water Works",
          "Water Works",
          "Water Works",
          "Water Works",
          "Water Works",
          "Water Works",
          "Water Works",
          "Water Works",
          "Water Works",
          "Water Works",
          "Water Works",
          "Water Works",
          "Water Works",
          "Water Works",
          "Water Works",
          "Water Works",
          "Water Works",
          "Water Works",
          "Water Works",
          "Water Works",
          "Water Works",
          "Water Works",
          "Water Works",
          "Water Works",
          "Water Works",
          "Water Works",
          "Water Works",
          "Water Works",
          "Water Works",
          "Water Works",
          "Water Works",
          "Water Works",
          "Water Works",
          "Water Works",
          "Water Works",
          "Water Works",
          "Water Works",
          "Water Works",
          "Water Works",
          "Water Works",
          "Water Works",
          "Water Works",
          "Water Works",
          "Water Works",
          "Water Works",
          "Water Works",
          "Water Works",
          "Water Works",
          "Water Works",
          "Water Works",
          "Water Works",
          "Water Works",
          "Water Works",
          "Water Works",
          "Water Works",
          "Water Works",
          "Water Works",
          "Water Works",
          "Water Works",
          "Water Works",
          "Water Works",
          "Water Works",
          "Water Works",
          "Water Works",
          "Water Works",
          "Water Works",
          "Water Works",
          "Water Works",
          "Water Works",
          "Water Works",
          "Water Works",
          "Water Works",
          "Water Works",
          "Water Works",
          "Water Works",
          "Water Works",
          "Water Works",
          "Water Works",
          "Water Works",
          "Water Works",
          "Water Works",
          "Water Works",
          "Water Works",
          "Water Works",
          "Water Works",
          "Water Works",
          "Water Works",
          "Water Works",
          "Water Works",
          "Water Works",
          "Water Works",
          "Water Works",
          "Water Works",
          "Water Works",
          "Water Works",
          "Water Works",
          "Water Works",
          "Water Works",
          "Water Works",
          "Water Works",
          "Water Works",
          "Water Works",
          "Water Works",
          "Water Works",
          "Water Works",
          "Water Works",
          "Water Works",
          "Water Works",
          "Water Works",
          "Water Works",
          "Water Works",
          "Water Works",
          "Water Works",
          "Water Works",
          "Water Works",
          "Water Works",
          "Water Works",
          "Water Works",
          "Water Works",
          "Water Works",
          "Water Works",
          "Water Works",
          "Water Works",
          "Water Works",
          "Water Works",
          "Water Works",
          "Water Works",
          "Water Works",
          "Water Works",
          "Water Works",
          "Water Works",
          "Water Works",
          "Water Works",
          "Water Works",
          "Water Works",
          "Water Works",
          "Water Works",
          "Water Works",
          "Water Works",
          "Water Works",
          "Water Works",
          "Water Works",
          "Water Works",
          "Water Works",
          "Water Works",
          "Water Works",
          "Water Works",
          "Water Works",
          "Water Works",
          "Water Works",
          "Water Works",
          "Water Works",
          "Water Works",
          "Water Works",
          "Water Works",
          "Water Works",
          "Water Works",
          "Water Works",
          "Water Works",
          "Water Works",
          "Water Works",
          "Water Works",
          "Water Works",
          "Water Works",
          "Water Works",
          "Water Works",
          "Water Works",
          "Water Works",
          "Water Works",
          "Water Works",
          "Water Works",
          "Water Works",
          "Water Works",
          "Water Works",
          "Water Works",
          "Water Works",
          "Water Works",
          "Water Works",
          "Water Works",
          "Water Works",
          "Water Works",
          "Water Works",
          "Water Works",
          "Water Works",
          "Water Works",
          "Water Works",
          "Water Works",
          "Water Works",
          "Water Works",
          "Water Works",
          "Water Works",
          "Water Works",
          "Water Works",
          "Water Works",
          "Electric Company",
          "Electric Company",
          "Electric Company",
          "Electric Company",
          "Electric Company",
          "Electric Company",
          "Electric Company",
          "Electric Company",
          "Electric Company",
          "Electric Company",
          "Electric Company",
          "Electric Company",
          "Electric Company",
          "Electric Company",
          "Electric Company",
          "Electric Company",
          "Electric Company",
          "Electric Company",
          "Electric Company",
          "Electric Company",
          "Electric Company",
          "Electric Company",
          "Electric Company",
          "Electric Company",
          "Electric Company",
          "Electric Company",
          "Electric Company",
          "Electric Company",
          "Electric Company",
          "Electric Company",
          "Electric Company",
          "Electric Company",
          "Electric Company",
          "Electric Company",
          "Electric Company",
          "Electric Company",
          "Electric Company",
          "Electric Company",
          "Electric Company",
          "Electric Company",
          "Electric Company",
          "Electric Company",
          "Electric Company",
          "Electric Company",
          "Electric Company",
          "Electric Company",
          "Electric Company",
          "Electric Company",
          "Electric Company",
          "Electric Company",
          "Electric Company",
          "Electric Company",
          "Electric Company",
          "Electric Company",
          "Electric Company",
          "Electric Company",
          "Electric Company",
          "Electric Company",
          "Electric Company",
          "Electric Company",
          "Electric Company",
          "Electric Company",
          "Electric Company",
          "Electric Company",
          "Electric Company",
          "Electric Company",
          "Electric Company",
          "Electric Company",
          "Electric Company",
          "Electric Company",
          "Electric Company",
          "Electric Company",
          "Electric Company",
          "Electric Company",
          "Electric Company",
          "Electric Company",
          "Electric Company",
          "Electric Company",
          "Electric Company",
          "Electric Company",
          "Electric Company",
          "Electric Company",
          "Electric Company",
          "Electric Company",
          "Electric Company",
          "Electric Company",
          "Electric Company",
          "Electric Company",
          "Electric Company",
          "Electric Company",
          "Electric Company",
          "Electric Company",
          "Electric Company",
          "Electric Company",
          "Electric Company",
          "Electric Company",
          "Electric Company",
          "Electric Company",
          "Electric Company",
          "Electric Company",
          "Electric Company",
          "Electric Company",
          "Electric Company",
          "Electric Company",
          "Electric Company",
          "Electric Company",
          "Electric Company",
          "Electric Company",
          "Electric Company",
          "Electric Company",
          "Electric Company",
          "Electric Company",
          "Electric Company",
          "Electric Company",
          "Electric Company",
          "Electric Company",
          "Electric Company",
          "Electric Company",
          "Electric Company",
          "Electric Company",
          "Electric Company",
          "Electric Company",
          "Electric Company",
          "Electric Company",
          "Electric Company",
          "Electric Company",
          "Electric Company",
          "Electric Company",
          "Electric Company",
          "Electric Company",
          "Electric Company",
          "Electric Company",
          "Electric Company",
          "Electric Company",
          "Electric Company",
          "Electric Company",
          "Electric Company",
          "Electric Company",
          "Electric Company",
          "Electric Company",
          "Electric Company",
          "Electric Company",
          "Electric Company",
          "Electric Company",
          "Electric Company",
          "Electric Company",
          "Electric Company",
          "Electric Company",
          "Electric Company",
          "Electric Company",
          "Electric Company",
          "Electric Company",
          "Electric Company",
          "Electric Company",
          "Electric Company",
          "Electric Company",
          "Electric Company",
          "Electric Company",
          "Electric Company",
          "Electric Company",
          "Electric Company",
          "Electric Company",
          "Electric Company",
          "Electric Company",
          "Electric Company",
          "Electric Company",
          "Electric Company",
          "Electric Company",
          "Electric Company",
          "Electric Company",
          "Electric Company",
          "Electric Company",
          "Electric Company",
          "Electric Company",
          "Electric Company",
          "Electric Company",
          "Electric Company",
          "Electric Company",
          "Electric Company",
          "Electric Company",
          "Electric Company",
          "Electric Company",
          "Electric Company",
          "Electric Company",
          "Electric Company",
          "Electric Company",
          "Electric Company",
          "Electric Company",
          "Electric Company",
          "Electric Company",
          "Electric Company",
          "Electric Company",
          "Electric Company",
          "Electric Company",
          "Electric Company",
          "Electric Company",
          "Electric Company",
          "Electric Company",
          "Electric Company",
          "Electric Company",
          "Electric Company",
          "Electric Company",
          "Electric Company",
          "Electric Company",
          "Electric Company",
          "Electric Company",
          "Electric Company",
          "Electric Company",
          "Electric Company",
          "Electric Company",
          "Electric Company",
          "Electric Company",
          "Electric Company",
          "Electric Company",
          "Electric Company",
          "Electric Company",
          "Electric Company",
          "Electric Company",
          "Electric Company",
          "Electric Company",
          "Electric Company",
          "Electric Company",
          "Electric Company",
          "Electric Company",
          "Electric Company",
          "Electric Company",
          "Electric Company",
          "Electric Company",
          "Electric Company",
          "Electric Company",
          "Electric Company",
          "Electric Company",
          "Electric Company",
          "Electric Company",
          "Electric Company",
          "Electric Company",
          "Electric Company",
          "Electric Company",
          "Electric Company",
          "Electric Company",
          "Electric Company",
          "Electric Company",
          "Electric Company",
          "Electric Company",
          "Electric Company",
          "Electric Company",
          "Electric Company",
          "Electric Company",
          "Electric Company",
          "Electric Company",
          "Electric Company",
          "Electric Company",
          "Electric Company",
          "Electric Company",
          "Electric Company",
          "Electric Company",
          "Electric Company",
          "Electric Company",
          "Electric Company",
          "Electric Company",
          "Electric Company",
          "Electric Company",
          "Electric Company",
          "Electric Company",
          "Electric Company",
          "Electric Company",
          "Electric Company",
          "Electric Company",
          "Electric Company",
          "Electric Company",
          "Electric Company",
          "Electric Company",
          "Electric Company",
          "Electric Company",
          "Electric Company",
          "Electric Company",
          "Electric Company",
          "Electric Company",
          "Electric Company",
          "Electric Company",
          "Electric Company",
          "Electric Company",
          "Electric Company",
          "Electric Company",
          "Electric Company",
          "Electric Company",
          "Electric Company",
          "Electric Company",
          "Electric Company",
          "Electric Company",
          "Electric Company",
          "Electric Company",
          "Electric Company",
          "Electric Company",
          "Electric Company",
          "Electric Company",
          "Electric Company",
          "Electric Company",
          "Electric Company",
          "Electric Company",
          "Electric Company",
          "Electric Company",
          "Electric Company",
          "Electric Company",
          "Electric Company",
          "Electric Company",
          "Electric Company",
          "Electric Company",
          "Electric Company",
          "Electric Company",
          "Electric Company",
          "Electric Company",
          "Electric Company",
          "Electric Company",
          "Electric Company",
          "Electric Company",
          "Electric Company",
          "Electric Company",
          "Electric Company",
          "Electric Company",
          "Electric Company",
          "Electric Company",
          "Electric Company",
          "Electric Company",
          "Electric Company",
          "Electric Company",
          "Electric Company",
          "Electric Company",
          "Electric Company",
          "Electric Company",
          "Electric Company",
          "Electric Company",
          "Electric Company",
          "Electric Company",
          "Electric Company",
          "Electric Company",
          "Electric Company",
          "Electric Company",
          "Electric Company",
          "Electric Company",
          "Electric Company",
          "Electric Company",
          "Electric Company",
          "Electric Company",
          "Electric Company",
          "Electric Company",
          "Electric Company",
          "Electric Company",
          "Electric Company",
          "Electric Company",
          "Electric Company",
          "Electric Company",
          "Electric Company",
          "Electric Company",
          "Electric Company",
          "Electric Company",
          "Electric Company",
          "Electric Company",
          "Electric Company",
          "Electric Company",
          "Electric Company",
          "Electric Company",
          "Electric Company",
          "Electric Company",
          "Electric Company",
          "Electric Company",
          "Electric Company",
          "Electric Company",
          "Electric Company",
          "Electric Company",
          "Electric Company",
          "Electric Company",
          "Electric Company",
          "Electric Company",
          "Electric Company",
          "Electric Company",
          "Electric Company",
          "Electric Company",
          "Electric Company",
          "Electric Company",
          "Electric Company",
          "Electric Company",
          "Electric Company",
          "Electric Company",
          "Electric Company",
          "Electric Company",
          "Electric Company",
          "Electric Company",
          "Electric Company",
          "Electric Company",
          "Electric Company",
          "Electric Company",
          "Electric Company",
          "Electric Company",
          "Electric Company",
          "Electric Company",
          "Electric Company",
          "Electric Company",
          "Electric Company",
          "Electric Company",
          "Electric Company",
          "Electric Company",
          "Electric Company",
          "Electric Company",
          "Electric Company",
          "Electric Company",
          "Electric Company",
          "Electric Company",
          "Electric Company",
          "Electric Company",
          "Electric Company",
          "Electric Company",
          "Electric Company",
          "Electric Company",
          "Electric Company",
          "Electric Company",
          "Electric Company",
          "Electric Company",
          "Electric Company",
          "Electric Company",
          "Electric Company",
          "Electric Company",
          "Electric Company",
          "Electric Company",
          "Electric Company",
          "Electric Company",
          "Electric Company",
          "Electric Company",
          "Electric Company",
          "Electric Company",
          "Electric Company",
          "Electric Company",
          "Electric Company",
          "Electric Company",
          "Electric Company",
          "Electric Company",
          "Electric Company",
          "Electric Company",
          "Electric Company",
          "Electric Company",
          "Electric Company",
          "Electric Company",
          "Electric Company",
          "Electric Company",
          "Electric Company",
          "Electric Company",
          "Electric Company",
          "Electric Company",
          "Electric Company",
          "Electric Company",
          "Electric Company",
          "Electric Company",
          "Electric Company",
          "Electric Company",
          "Electric Company",
          "Electric Company",
          "Electric Company",
          "Electric Company",
          "Electric Company",
          "Electric Company",
          "Electric Company",
          "Electric Company",
          "Electric Company",
          "Electric Company",
          "Electric Company",
          "Electric Company",
          "Electric Company",
          "Electric Company",
          "Electric Company",
          "Electric Company",
          "Electric Company",
          "Electric Company",
          "Electric Company",
          "Electric Company",
          "Electric Company",
          "Electric Company",
          "Electric Company",
          "Electric Company",
          "Electric Company",
          "Electric Company",
          "Electric Company",
          "Electric Company",
          "Electric Company",
          "Electric Company",
          "Electric Company",
          "Electric Company",
          "Electric Company",
          "Electric Company",
          "Electric Company",
          "Electric Company",
          "Electric Company",
          "Electric Company",
          "Electric Company",
          "Electric Company",
          "Electric Company",
          "Electric Company",
          "Electric Company",
          "Electric Company",
          "Electric Company",
          "Electric Company",
          "Electric Company",
          "Electric Company",
          "Electric Company",
          "Electric Company",
          "Electric Company",
          "Electric Company",
          "Electric Company",
          "Electric Company",
          "Electric Company",
          "Electric Company",
          "Electric Company",
          "Electric Company",
          "Electric Company",
          "Electric Company",
          "Electric Company",
          "Electric Company",
          "Electric Company",
          "Electric Company",
          "Electric Company",
          "Electric Company",
          "Electric Company",
          "Electric Company",
          "Electric Company",
          "Electric Company",
          "Electric Company",
          "Electric Company",
          "Electric Company",
          "Electric Company",
          "Electric Company",
          "Electric Company",
          "Electric Company",
          "Electric Company",
          "Electric Company",
          "Electric Company",
          "Electric Company",
          "Electric Company",
          "Electric Company",
          "Electric Company",
          "Electric Company",
          "Electric Company",
          "Electric Company",
          "Electric Company",
          "Electric Company",
          "Electric Company",
          "Electric Company",
          "Electric Company",
          "Electric Company",
          "Electric Company",
          "Electric Company",
          "Electric Company",
          "Electric Company",
          "Electric Company",
          "Electric Company",
          "Electric Company",
          "Electric Company",
          "Electric Company",
          "Electric Company",
          "Electric Company",
          "Electric Company",
          "Electric Company",
          "Electric Company",
          "Electric Company",
          "Electric Company",
          "Electric Company",
          "Electric Company",
          "Electric Company",
          "Electric Company",
          "Electric Company",
          "Electric Company",
          "Electric Company",
          "Electric Company",
          "Electric Company",
          "Electric Company",
          "Electric Company",
          "Electric Company",
          "Electric Company",
          "Electric Company",
          "Electric Company",
          "Electric Company",
          "Electric Company",
          "Electric Company",
          "Electric Company",
          "Electric Company",
          "Electric Company",
          "Electric Company",
          "Electric Company",
          "Electric Company",
          "Electric Company",
          "Electric Company",
          "Electric Company",
          "Electric Company",
          "Electric Company",
          "Electric Company",
          "Electric Company",
          "Electric Company",
          "Electric Company",
          "Electric Company",
          "Electric Company",
          "Electric Company",
          "Electric Company",
          "Electric Company",
          "Electric Company",
          "Electric Company",
          "Electric Company",
          "Electric Company",
          "Electric Company",
          "Electric Company",
          "Electric Company",
          "Electric Company",
          "Electric Company",
          "Electric Company",
          "Electric Company",
          "Electric Company",
          "Electric Company",
          "Electric Company",
          "Electric Company",
          "Electric Company",
          "Electric Company",
          "Electric Company",
          "Electric Company",
          "Electric Company",
          "Electric Company",
          "Electric Company",
          "Electric Company",
          "Electric Company",
          "Electric Company",
          "Electric Company",
          "Electric Company",
          "Electric Company",
          "Electric Company",
          "Electric Company",
          "Electric Company",
          "Electric Company",
          "Electric Company",
          "Electric Company",
          "Electric Company",
          "Electric Company",
          "Electric Company",
          "Electric Company",
          "Electric Company",
          "Electric Company",
          "Electric Company",
          "Electric Company",
          "Electric Company",
          "Electric Company",
          "Electric Company",
          "Electric Company",
          "Electric Company",
          "Electric Company",
          "Electric Company",
          "Electric Company",
          "Electric Company",
          "Electric Company",
          "Electric Company",
          "Electric Company",
          "Electric Company",
          "Electric Company",
          "Electric Company",
          "Electric Company",
          "Electric Company",
          "Electric Company",
          "Electric Company",
          "Electric Company",
          "Electric Company",
          "Electric Company",
          "Electric Company",
          "Electric Company",
          "Electric Company",
          "Electric Company",
          "Electric Company",
          "Electric Company",
          "Electric Company",
          "Electric Company",
          "Electric Company",
          "Electric Company",
          "Electric Company",
          "Electric Company",
          "Electric Company",
          "Electric Company",
          "Electric Company",
          "Electric Company",
          "Electric Company",
          "Electric Company",
          "Electric Company",
          "Electric Company",
          "Electric Company",
          "Electric Company",
          "Electric Company",
          "Electric Company",
          "Electric Company",
          "Electric Company",
          "Electric Company",
          "Electric Company",
          "Electric Company",
          "Electric Company",
          "Electric Company",
          "Electric Company",
          "Electric Company",
          "Electric Company",
          "Electric Company",
          "Electric Company",
          "Electric Company",
          "Electric Company",
          "Electric Company",
          "Electric Company",
          "Electric Company",
          "Electric Company",
          "Electric Company",
          "Electric Company",
          "Electric Company",
          "Electric Company",
          "Electric Company",
          "Electric Company",
          "Electric Company",
          "Electric Company",
          "Electric Company",
          "Electric Company",
          "Electric Company",
          "Electric Company",
          "Electric Company",
          "Electric Company",
          "Electric Company",
          "Electric Company",
          "Electric Company",
          "Electric Company",
          "Electric Company",
          "Electric Company",
          "Electric Company",
          "Electric Company",
          "Electric Company",
          "Electric Company",
          "Electric Company",
          "Electric Company",
          "Electric Company",
          "Electric Company",
          "Electric Company",
          "Electric Company",
          "Electric Company",
          "Electric Company",
          "Electric Company",
          "Electric Company",
          "Electric Company",
          "Electric Company",
          "Electric Company",
          "Electric Company",
          "Electric Company",
          "Electric Company",
          "Electric Company",
          "Electric Company",
          "Electric Company",
          "Electric Company",
          "Electric Company",
          "Electric Company",
          "Electric Company",
          "Electric Company",
          "Electric Company",
          "Electric Company",
          "Electric Company",
          "Electric Company",
          "Electric Company",
          "Electric Company",
          "Electric Company",
          "Electric Company",
          "Electric Company",
          "Electric Company",
          "Electric Company",
          "Electric Company",
          "Electric Company",
          "Electric Company",
          "Electric Company",
          "Electric Company",
          "Electric Company",
          "Electric Company",
          "Electric Company",
          "Electric Company",
          "Electric Company",
          "Electric Company",
          "Electric Company",
          "Electric Company",
          "Electric Company",
          "Electric Company",
          "Electric Company",
          "Electric Company",
          "Electric Company",
          "Electric Company",
          "Electric Company",
          "Electric Company",
          "Electric Company",
          "Electric Company",
          "Electric Company",
          "Electric Company",
          "Electric Company",
          "Electric Company",
          "Electric Company",
          "Electric Company",
          "Electric Company",
          "Electric Company",
          "Electric Company",
          "Electric Company",
          "Electric Company",
          "Electric Company",
          "Electric Company",
          "Electric Company",
          "Electric Company",
          "Electric Company",
          "Electric Company",
          "Electric Company",
          "Electric Company",
          "Electric Company",
          "Electric Company",
          "Electric Company",
          "Electric Company",
          "Electric Company",
          "Electric Company",
          "Electric Company",
          "Electric Company",
          "Electric Company",
          "Electric Company",
          "Electric Company",
          "Electric Company",
          "Electric Company",
          "Electric Company",
          "Electric Company",
          "Electric Company",
          "Electric Company",
          "Electric Company",
          "Electric Company",
          "Electric Company",
          "Electric Company",
          "Electric Company",
          "Electric Company",
          "Electric Company",
          "Electric Company",
          "Electric Company",
          "Electric Company",
          "Electric Company",
          "Electric Company",
          "Electric Company",
          "Electric Company",
          "Electric Company",
          "Electric Company",
          "Electric Company",
          "Electric Company",
          "Electric Company",
          "Electric Company",
          "Electric Company",
          "Electric Company",
          "Electric Company",
          "Electric Company",
          "Electric Company",
          "Electric Company",
          "Electric Company",
          "Electric Company",
          "Electric Company",
          "Electric Company",
          "Electric Company",
          "Electric Company",
          "Electric Company",
          "Electric Company",
          "Electric Company",
          "Electric Company",
          "Electric Company",
          "Electric Company",
          "Electric Company",
          "Electric Company",
          "Electric Company",
          "Electric Company",
          "Electric Company",
          "Electric Company",
          "Electric Company",
          "Electric Company",
          "Electric Company",
          "Electric Company",
          "Electric Company",
          "Electric Company",
          "Electric Company",
          "Electric Company",
          "Electric Company",
          "Electric Company",
          "Electric Company",
          "Electric Company",
          "Electric Company",
          "Electric Company",
          "Electric Company",
          "Electric Company",
          "Electric Company",
          "Electric Company",
          "Electric Company",
          "Electric Company",
          "Electric Company",
          "Electric Company",
          "Electric Company",
          "Electric Company",
          "Electric Company",
          "Electric Company",
          "Electric Company",
          "Electric Company",
          "Electric Company",
          "Electric Company",
          "Electric Company",
          "Electric Company",
          "Electric Company",
          "Electric Company",
          "Electric Company",
          "Electric Company",
          "Electric Company",
          "Electric Company",
          "Electric Company",
          "Electric Company",
          "Electric Company",
          "Electric Company",
          "Electric Company",
          "Electric Company",
          "Electric Company",
          "Electric Company",
          "Electric Company",
          "Electric Company",
          "Electric Company",
          "Electric Company",
          "Electric Company",
          "Electric Company",
          "Electric Company",
          "Electric Company",
          "Electric Company",
          "Electric Company",
          "Electric Company",
          "Electric Company",
          "Electric Company",
          "Electric Company",
          "Electric Company",
          "Electric Company",
          "Electric Company",
          "Electric Company",
          "Electric Company",
          "Electric Company",
          "Electric Company",
          "Electric Company",
          "Electric Company",
          "Electric Company",
          "Electric Company",
          "Electric Company",
          "Electric Company",
          "Electric Company",
          "Electric Company",
          "Electric Company",
          "Electric Company",
          "Electric Company",
          "Electric Company",
          "Electric Company",
          "Electric Company",
          "Electric Company",
          "Electric Company",
          "Electric Company",
          "Electric Company",
          "Electric Company",
          "Electric Company",
          "Electric Company",
          "Electric Company",
          "Electric Company",
          "Electric Company",
          "Electric Company",
          "Electric Company",
          "Electric Company",
          "Electric Company",
          "Electric Company",
          "Electric Company",
          "Electric Company",
          "Electric Company",
          "Electric Company",
          "Electric Company",
          "Electric Company",
          "Electric Company",
          "Electric Company",
          "Electric Company",
          "Electric Company",
          "Electric Company",
          "Electric Company",
          "Electric Company",
          "Electric Company",
          "Electric Company",
          "Electric Company",
          "Electric Company",
          "Electric Company",
          "Electric Company",
          "Electric Company",
          "Electric Company",
          "Electric Company",
          "Electric Company",
          "Electric Company",
          "Electric Company",
          "Electric Company",
          "Electric Company",
          "Electric Company",
          "Electric Company",
          "Electric Company",
          "Electric Company",
          "Electric Company",
          "Electric Company",
          "Electric Company",
          "Electric Company"
         ],
         "x0": " ",
         "xaxis": "x",
         "y": [
          0.8167695484373142,
          0.8167695484373142,
          0.4083847742186571,
          0.8167695484373142,
          0.6125771613279857,
          0.8167695484373142,
          0.7146733548826499,
          1.0209619355466428,
          1.0209619355466428,
          0.8167695484373142,
          0.6125771613279857,
          0.6125771613279857,
          0.7146733548826499,
          0.7146733548826499,
          0.7146733548826499,
          0.9188657419919785,
          0.30628858066399284,
          1.0209619355466428,
          0.7146733548826499,
          0.5104809677733214,
          1.0209619355466428,
          0.6125771613279857,
          1.0209619355466428,
          0.9188657419919785,
          0.9188657419919785,
          0.7146733548826499,
          0.7146733548826499,
          0.8167695484373142,
          0.8167695484373142,
          0.8167695484373142,
          0.5104809677733214,
          0.9188657419919785,
          0.8167695484373142,
          0.6125771613279857,
          0.6125771613279857,
          0.6125771613279857,
          0.7146733548826499,
          0.9188657419919785,
          0.6125771613279857,
          0.7146733548826499,
          0.9188657419919785,
          0.6125771613279857,
          0.9188657419919785,
          0.8167695484373142,
          0.8167695484373142,
          0.5104809677733214,
          0.8167695484373142,
          0.6125771613279857,
          1.123058129101307,
          0.7146733548826499,
          0.7146733548826499,
          1.0209619355466428,
          0.8167695484373142,
          0.8167695484373142,
          0.5104809677733214,
          0.20419238710932855,
          0.7146733548826499,
          0.20419238710932855,
          0.9188657419919785,
          0.5104809677733214,
          0.8167695484373142,
          0.9188657419919785,
          1.0209619355466428,
          1.2251543226559714,
          0.5104809677733214,
          0.7146733548826499,
          0.7146733548826499,
          0.7146733548826499,
          0.7146733548826499,
          0.5104809677733214,
          0.7146733548826499,
          0.6125771613279857,
          0.6125771613279857,
          0.9188657419919785,
          0.8167695484373142,
          0.6125771613279857,
          0.30628858066399284,
          1.0209619355466428,
          0.8167695484373142,
          1.123058129101307,
          0.4083847742186571,
          0.7146733548826499,
          0.4083847742186571,
          0.5104809677733214,
          0.7146733548826499,
          0.8167695484373142,
          0.7146733548826499,
          1.0209619355466428,
          0.5104809677733214,
          1.0209619355466428,
          0.30628858066399284,
          0.7146733548826499,
          0.20419238710932855,
          1.0209619355466428,
          0.6125771613279857,
          1.0209619355466428,
          0.5104809677733214,
          0.6125771613279857,
          0.5104809677733214,
          0.7146733548826499,
          0.20419238710932855,
          0.9188657419919785,
          0.7146733548826499,
          0.4083847742186571,
          0.5104809677733214,
          0.7146733548826499,
          0.30628858066399284,
          0.5104809677733214,
          0.7146733548826499,
          0.5104809677733214,
          0.7146733548826499,
          0.7146733548826499,
          1.0209619355466428,
          0.6125771613279857,
          0.9188657419919785,
          0.6125771613279857,
          0.7146733548826499,
          0.4083847742186571,
          0.4083847742186571,
          1.0209619355466428,
          0.7146733548826499,
          0.8167695484373142,
          0.30628858066399284,
          0.8167695484373142,
          0.6125771613279857,
          1.0209619355466428,
          0.5104809677733214,
          0.5104809677733214,
          0.7146733548826499,
          1.0209619355466428,
          0.6125771613279857,
          0.9188657419919785,
          0.20419238710932855,
          0.4083847742186571,
          0.8167695484373142,
          0.7146733548826499,
          1.0209619355466428,
          0.30628858066399284,
          0.7146733548826499,
          0.9188657419919785,
          0.7146733548826499,
          1.123058129101307,
          0.6125771613279857,
          0.8167695484373142,
          0.7146733548826499,
          0.5104809677733214,
          0.9188657419919785,
          0.5104809677733214,
          1.123058129101307,
          1.0209619355466428,
          0.6125771613279857,
          0.9188657419919785,
          0.7146733548826499,
          1.0209619355466428,
          0.7146733548826499,
          0.9188657419919785,
          0.7146733548826499,
          1.2251543226559714,
          0.30628858066399284,
          0.4083847742186571,
          0.9188657419919785,
          0.30628858066399284,
          0.7146733548826499,
          0.7146733548826499,
          1.0209619355466428,
          0.8167695484373142,
          0.6125771613279857,
          0.5104809677733214,
          0.9188657419919785,
          1.123058129101307,
          0.6125771613279857,
          0.20419238710932855,
          0.4083847742186571,
          0.7146733548826499,
          0.7146733548826499,
          1.2251543226559714,
          0.7146733548826499,
          0.9188657419919785,
          0.5104809677733214,
          0.6125771613279857,
          0.6125771613279857,
          0.7146733548826499,
          0.6125771613279857,
          0.6125771613279857,
          0.30628858066399284,
          0.4083847742186571,
          0.6125771613279857,
          0.5104809677733214,
          0.20419238710932855,
          0.9188657419919785,
          0.7146733548826499,
          1.123058129101307,
          0.7146733548826499,
          0.5104809677733214,
          0.8167695484373142,
          1.123058129101307,
          0.30628858066399284,
          0.30628858066399284,
          1.0209619355466428,
          1.2251543226559714,
          1.2251543226559714,
          0.4083847742186571,
          0.5104809677733214,
          0.5104809677733214,
          0.9188657419919785,
          0.4083847742186571,
          0.9188657419919785,
          0.30628858066399284,
          0.20419238710932855,
          0.8167695484373142,
          1.2251543226559714,
          0.4083847742186571,
          0.4083847742186571,
          1.2251543226559714,
          0.30628858066399284,
          1.2251543226559714,
          1.0209619355466428,
          0.7146733548826499,
          1.123058129101307,
          0.4083847742186571,
          0.4083847742186571,
          0.6125771613279857,
          0.8167695484373142,
          0.6125771613279857,
          0.5104809677733214,
          0.7146733548826499,
          0.4083847742186571,
          1.0209619355466428,
          0.7146733548826499,
          0.9188657419919785,
          1.123058129101307,
          0.6125771613279857,
          0.7146733548826499,
          0.4083847742186571,
          0.4083847742186571,
          1.0209619355466428,
          0.7146733548826499,
          0.6125771613279857,
          0.8167695484373142,
          0.4083847742186571,
          0.4083847742186571,
          1.0209619355466428,
          0.8167695484373142,
          1.2251543226559714,
          1.0209619355466428,
          1.123058129101307,
          0.30628858066399284,
          1.123058129101307,
          0.6125771613279857,
          1.123058129101307,
          1.123058129101307,
          0.5104809677733214,
          1.0209619355466428,
          0.5104809677733214,
          0.8167695484373142,
          0.7146733548826499,
          0.9188657419919785,
          1.0209619355466428,
          0.9188657419919785,
          0.4083847742186571,
          0.8167695484373142,
          0.7146733548826499,
          0.6125771613279857,
          0.9188657419919785,
          0.30628858066399284,
          0.5104809677733214,
          1.0209619355466428,
          1.0209619355466428,
          0.5104809677733214,
          0.9188657419919785,
          1.2251543226559714,
          0.6125771613279857,
          0.5104809677733214,
          0.30628858066399284,
          0.4083847742186571,
          0.6125771613279857,
          0.6125771613279857,
          1.0209619355466428,
          0.30628858066399284,
          1.0209619355466428,
          0.30628858066399284,
          0.9188657419919785,
          1.123058129101307,
          0.5104809677733214,
          0.7146733548826499,
          0.5104809677733214,
          0.9188657419919785,
          0.4083847742186571,
          0.5104809677733214,
          1.123058129101307,
          0.9188657419919785,
          0.9188657419919785,
          1.123058129101307,
          1.123058129101307,
          0.7146733548826499,
          1.0209619355466428,
          0.4083847742186571,
          0.6125771613279857,
          0.5104809677733214,
          1.0209619355466428,
          0.8167695484373142,
          1.0209619355466428,
          1.0209619355466428,
          0.8167695484373142,
          0.9188657419919785,
          0.4083847742186571,
          0.8167695484373142,
          0.9188657419919785,
          0.30628858066399284,
          1.0209619355466428,
          0.5104809677733214,
          0.5104809677733214,
          0.6125771613279857,
          0.20419238710932855,
          0.7146733548826499,
          0.7146733548826499,
          0.6125771613279857,
          0.4083847742186571,
          0.5104809677733214,
          1.123058129101307,
          0.7146733548826499,
          0.20419238710932855,
          0.30628858066399284,
          0.9188657419919785,
          0.8167695484373142,
          0.6125771613279857,
          0.6125771613279857,
          0.7146733548826499,
          0.5104809677733214,
          0.5104809677733214,
          0.5104809677733214,
          0.5104809677733214,
          0.4083847742186571,
          0.20419238710932855,
          0.9188657419919785,
          1.2251543226559714,
          0.8167695484373142,
          0.7146733548826499,
          0.7146733548826499,
          1.2251543226559714,
          0.7146733548826499,
          0.5104809677733214,
          0.4083847742186571,
          0.5104809677733214,
          0.4083847742186571,
          0.6125771613279857,
          0.5104809677733214,
          0.8167695484373142,
          1.2251543226559714,
          0.9188657419919785,
          0.6125771613279857,
          0.9188657419919785,
          0.9188657419919785,
          1.123058129101307,
          0.7146733548826499,
          0.6125771613279857,
          0.6125771613279857,
          0.8167695484373142,
          0.4083847742186571,
          1.0209619355466428,
          0.5104809677733214,
          0.9188657419919785,
          1.123058129101307,
          0.6125771613279857,
          0.8167695484373142,
          0.30628858066399284,
          0.7146733548826499,
          0.6125771613279857,
          0.5104809677733214,
          1.0209619355466428,
          0.6125771613279857,
          0.6125771613279857,
          0.7146733548826499,
          0.7146733548826499,
          0.6125771613279857,
          1.123058129101307,
          0.5104809677733214,
          1.123058129101307,
          0.6125771613279857,
          0.5104809677733214,
          0.4083847742186571,
          0.8167695484373142,
          1.2251543226559714,
          0.30628858066399284,
          0.7146733548826499,
          0.5104809677733214,
          0.4083847742186571,
          0.6125771613279857,
          0.8167695484373142,
          0.6125771613279857,
          0.6125771613279857,
          0.6125771613279857,
          0.9188657419919785,
          0.6125771613279857,
          0.9188657419919785,
          1.123058129101307,
          0.4083847742186571,
          0.5104809677733214,
          0.6125771613279857,
          1.123058129101307,
          0.7146733548826499,
          0.6125771613279857,
          0.7146733548826499,
          0.8167695484373142,
          0.9188657419919785,
          0.4083847742186571,
          0.7146733548826499,
          0.7146733548826499,
          0.6125771613279857,
          0.6125771613279857,
          0.5104809677733214,
          0.7146733548826499,
          0.6125771613279857,
          0.7146733548826499,
          0.20419238710932855,
          0.7146733548826499,
          1.2251543226559714,
          0.9188657419919785,
          0.4083847742186571,
          0.8167695484373142,
          0.30628858066399284,
          0.8167695484373142,
          0.8167695484373142,
          0.6125771613279857,
          0.7146733548826499,
          0.7146733548826499,
          0.7146733548826499,
          0.6125771613279857,
          0.8167695484373142,
          0.5104809677733214,
          0.6125771613279857,
          1.2251543226559714,
          0.7146733548826499,
          0.30628858066399284,
          0.6125771613279857,
          0.6125771613279857,
          0.7146733548826499,
          0.4083847742186571,
          0.7146733548826499,
          1.123058129101307,
          0.7146733548826499,
          0.4083847742186571,
          0.20419238710932855,
          0.7146733548826499,
          1.2251543226559714,
          0.4083847742186571,
          0.7146733548826499,
          0.7146733548826499,
          0.6125771613279857,
          0.6125771613279857,
          0.6125771613279857,
          0.4083847742186571,
          0.4083847742186571,
          0.5104809677733214,
          0.9188657419919785,
          0.5104809677733214,
          0.6125771613279857,
          0.5104809677733214,
          0.9188657419919785,
          1.0209619355466428,
          0.5104809677733214,
          0.6125771613279857,
          0.7146733548826499,
          0.7146733548826499,
          1.2251543226559714,
          0.6125771613279857,
          0.7146733548826499,
          1.0209619355466428,
          0.8167695484373142,
          0.6125771613279857,
          0.7146733548826499,
          1.0209619355466428,
          1.123058129101307,
          1.0209619355466428,
          0.7146733548826499,
          0.8167695484373142,
          0.4083847742186571,
          0.4083847742186571,
          0.30628858066399284,
          1.123058129101307,
          0.4083847742186571,
          0.7146733548826499,
          0.7146733548826499,
          0.6125771613279857,
          0.8167695484373142,
          0.8167695484373142,
          0.30628858066399284,
          0.6125771613279857,
          0.5104809677733214,
          0.7146733548826499,
          0.8167695484373142,
          0.4083847742186571,
          1.2251543226559714,
          1.123058129101307,
          0.6125771613279857,
          1.0209619355466428,
          0.7146733548826499,
          0.8167695484373142,
          1.2251543226559714,
          0.6125771613279857,
          0.9188657419919785,
          0.7146733548826499,
          0.9188657419919785,
          0.8167695484373142,
          0.8167695484373142,
          1.0209619355466428,
          0.8167695484373142,
          1.123058129101307,
          0.8167695484373142,
          0.7146733548826499,
          0.7146733548826499,
          1.123058129101307,
          0.7146733548826499,
          0.30628858066399284,
          0.4083847742186571,
          0.5104809677733214,
          0.9188657419919785,
          1.0209619355466428,
          0.6125771613279857,
          0.7146733548826499,
          0.30628858066399284,
          0.8167695484373142,
          0.7146733548826499,
          0.6125771613279857,
          0.5104809677733214,
          1.0209619355466428,
          0.5104809677733214,
          0.6125771613279857,
          0.20419238710932855,
          1.123058129101307,
          0.7146733548826499,
          0.5104809677733214,
          1.0209619355466428,
          0.8167695484373142,
          0.4083847742186571,
          0.9188657419919785,
          0.7146733548826499,
          1.0209619355466428,
          1.123058129101307,
          0.30628858066399284,
          0.4083847742186571,
          0.7146733548826499,
          0.8167695484373142,
          0.6125771613279857,
          0.6125771613279857,
          0.4083847742186571,
          1.2251543226559714,
          1.2251543226559714,
          0.30628858066399284,
          0.7146733548826499,
          0.8167695484373142,
          1.0209619355466428,
          0.8167695484373142,
          0.8167695484373142,
          0.30628858066399284,
          0.7146733548826499,
          0.6125771613279857,
          0.9188657419919785,
          0.9188657419919785,
          0.30628858066399284,
          1.2251543226559714,
          0.6125771613279857,
          1.123058129101307,
          0.6125771613279857,
          0.6125771613279857,
          0.6125771613279857,
          0.8167695484373142,
          0.9188657419919785,
          1.0209619355466428,
          1.123058129101307,
          1.2251543226559714,
          0.7146733548826499,
          1.0209619355466428,
          1.2251543226559714,
          0.6125771613279857,
          0.5104809677733214,
          0.6125771613279857,
          0.5104809677733214,
          1.123058129101307,
          1.123058129101307,
          0.7146733548826499,
          1.0209619355466428,
          1.0209619355466428,
          0.30628858066399284,
          0.8167695484373142,
          0.5104809677733214,
          0.5104809677733214,
          0.9188657419919785,
          0.6125771613279857,
          0.5104809677733214,
          0.7146733548826499,
          0.20419238710932855,
          0.6125771613279857,
          0.9188657419919785,
          0.8167695484373142,
          1.0209619355466428,
          0.5104809677733214,
          0.7146733548826499,
          0.6125771613279857,
          0.7146733548826499,
          0.5104809677733214,
          0.8167695484373142,
          1.0209619355466428,
          0.9188657419919785,
          0.6125771613279857,
          0.20419238710932855,
          0.8167695484373142,
          0.6125771613279857,
          0.30628858066399284,
          0.6125771613279857,
          1.0209619355466428,
          0.7146733548826499,
          1.123058129101307,
          1.0209619355466428,
          0.4083847742186571,
          0.7146733548826499,
          0.8167695484373142,
          0.8167695484373142,
          0.7146733548826499,
          1.0209619355466428,
          0.7146733548826499,
          0.8167695484373142,
          0.7146733548826499,
          0.5104809677733214,
          0.8167695484373142,
          0.20419238710932855,
          0.5104809677733214,
          1.123058129101307,
          0.7146733548826499,
          0.9188657419919785,
          0.20419238710932855,
          0.6125771613279857,
          0.5104809677733214,
          0.7146733548826499,
          0.7146733548826499,
          0.6125771613279857,
          0.7146733548826499,
          0.6125771613279857,
          0.30628858066399284,
          0.9188657419919785,
          1.123058129101307,
          0.7146733548826499,
          0.7146733548826499,
          0.9188657419919785,
          0.6125771613279857,
          1.2251543226559714,
          0.8167695484373142,
          0.7146733548826499,
          0.6125771613279857,
          0.7146733548826499,
          0.7146733548826499,
          0.30628858066399284,
          0.7146733548826499,
          0.6125771613279857,
          0.7146733548826499,
          0.9188657419919785,
          0.7146733548826499,
          0.7146733548826499,
          0.7146733548826499,
          0.7146733548826499,
          0.9188657419919785,
          0.4083847742186571,
          1.0209619355466428,
          0.7146733548826499,
          0.7146733548826499,
          0.4083847742186571,
          0.9188657419919785,
          0.4083847742186571,
          0.6125771613279857,
          0.4083847742186571,
          0.9188657419919785,
          0.6125771613279857,
          0.5104809677733214,
          0.8167695484373142,
          0.8167695484373142,
          0.30628858066399284,
          1.0209619355466428,
          0.7146733548826499,
          0.9188657419919785,
          0.6125771613279857,
          0.8167695484373142,
          0.8167695484373142,
          0.9188657419919785,
          0.9188657419919785,
          0.7146733548826499,
          0.30628858066399284,
          0.9188657419919785,
          0.6125771613279857,
          1.2251543226559714,
          0.7146733548826499,
          0.8167695484373142,
          0.7146733548826499,
          0.7146733548826499,
          0.6125771613279857,
          0.8167695484373142,
          0.6125771613279857,
          0.7146733548826499,
          0.4083847742186571,
          0.7146733548826499,
          0.7146733548826499,
          0.4083847742186571,
          0.7146733548826499,
          0.8167695484373142,
          0.9188657419919785,
          0.5104809677733214,
          0.8167695484373142,
          1.2251543226559714,
          0.6125771613279857,
          1.0209619355466428,
          0.5104809677733214,
          0.20419238710932855,
          0.7146733548826499,
          0.9188657419919785,
          0.9188657419919785,
          0.9188657419919785,
          0.20419238710932855,
          0.6125771613279857,
          0.30628858066399284,
          0.6125771613279857,
          0.5104809677733214,
          0.9188657419919785,
          0.7146733548826499,
          0.30628858066399284,
          1.0209619355466428,
          0.9188657419919785,
          0.6125771613279857,
          0.8167695484373142,
          0.20419238710932855,
          0.8167695484373142,
          0.6125771613279857,
          0.6125771613279857,
          0.8167695484373142,
          1.123058129101307,
          0.30628858066399284,
          0.5104809677733214,
          0.8167695484373142,
          0.5104809677733214,
          1.0209619355466428,
          0.6125771613279857,
          0.4083847742186571,
          1.0209619355466428,
          0.20419238710932855,
          0.20419238710932855,
          0.5104809677733214,
          1.123058129101307,
          0.5104809677733214,
          0.4083847742186571,
          0.5104809677733214,
          0.8167695484373142,
          0.5104809677733214,
          0.5104809677733214,
          1.0209619355466428,
          0.5104809677733214,
          0.5104809677733214,
          0.30628858066399284,
          1.123058129101307,
          0.9188657419919785,
          0.8167695484373142,
          0.30628858066399284,
          0.7146733548826499,
          0.20419238710932855,
          1.2251543226559714,
          0.4083847742186571,
          0.7146733548826499,
          0.7146733548826499,
          0.5104809677733214,
          0.5104809677733214,
          0.8167695484373142,
          0.8167695484373142,
          0.20419238710932855,
          0.4083847742186571,
          0.30628858066399284,
          0.9188657419919785,
          0.6125771613279857,
          0.7146733548826499,
          0.30628858066399284,
          0.6125771613279857,
          0.7146733548826499,
          0.7146733548826499,
          0.30628858066399284,
          0.6125771613279857,
          0.5104809677733214,
          0.6125771613279857,
          1.123058129101307,
          0.8167695484373142,
          0.7146733548826499,
          1.0209619355466428,
          0.30628858066399284,
          0.8167695484373142,
          0.5104809677733214,
          0.8167695484373142,
          0.4083847742186571,
          0.4083847742186571,
          0.30628858066399284,
          0.6125771613279857,
          0.6125771613279857,
          0.7146733548826499,
          0.8167695484373142,
          1.2251543226559714,
          0.30628858066399284,
          1.123058129101307,
          1.123058129101307,
          0.7146733548826499,
          0.7146733548826499,
          0.30628858066399284,
          0.9188657419919785,
          0.4083847742186571,
          0.5104809677733214,
          1.123058129101307,
          0.8167695484373142,
          0.30628858066399284,
          0.7146733548826499,
          0.6125771613279857,
          0.5104809677733214,
          0.6125771613279857,
          0.5104809677733214,
          0.9188657419919785,
          0.6125771613279857,
          0.9188657419919785,
          0.9188657419919785,
          1.0209619355466428,
          0.4083847742186571,
          0.5104809677733214,
          0.7146733548826499,
          0.20419238710932855,
          0.6125771613279857,
          1.123058129101307,
          0.4083847742186571,
          0.7146733548826499,
          0.8167695484373142,
          1.2251543226559714,
          0.8167695484373142,
          0.8167695484373142,
          0.7146733548826499,
          0.30628858066399284,
          0.7146733548826499,
          1.123058129101307,
          1.2251543226559714,
          0.9188657419919785,
          1.0209619355466428,
          0.9188657419919785,
          0.8167695484373142,
          1.0209619355466428,
          0.8167695484373142,
          1.123058129101307,
          0.9188657419919785,
          0.8167695484373142,
          0.9188657419919785,
          0.9188657419919785,
          0.5104809677733214,
          0.7146733548826499,
          0.6125771613279857,
          0.8167695484373142,
          0.8167695484373142,
          1.123058129101307,
          1.2251543226559714,
          0.6125771613279857,
          1.2251543226559714,
          0.4083847742186571,
          0.7146733548826499,
          0.30628858066399284,
          0.6125771613279857,
          0.6125771613279857,
          0.7146733548826499,
          0.7146733548826499,
          1.123058129101307,
          0.8167695484373142,
          0.6125771613279857,
          0.6125771613279857,
          0.9188657419919785,
          0.4083847742186571,
          0.4083847742186571,
          0.30628858066399284,
          0.6125771613279857,
          0.20419238710932855,
          0.8167695484373142,
          0.7146733548826499,
          0.9188657419919785,
          0.9188657419919785,
          0.5104809677733214,
          0.8167695484373142,
          0.30628858066399284,
          0.8167695484373142,
          0.7146733548826499,
          0.5104809677733214,
          0.5104809677733214,
          0.8167695484373142,
          0.9188657419919785,
          0.8167695484373142,
          0.30628858066399284,
          0.5104809677733214,
          0.7146733548826499,
          0.5104809677733214,
          0.9188657419919785,
          0.6125771613279857,
          0.7146733548826499,
          0.5104809677733214,
          0.9188657419919785,
          1.123058129101307,
          1.2251543226559714,
          0.8167695484373142,
          0.8167695484373142,
          1.123058129101307,
          0.8167695484373142,
          0.6125771613279857,
          1.0209619355466428,
          0.30628858066399284,
          0.7146733548826499,
          1.0209619355466428,
          1.123058129101307,
          0.8167695484373142,
          1.123058129101307,
          0.7146733548826499,
          0.5104809677733214,
          0.5104809677733214,
          1.123058129101307,
          0.20419238710932855,
          0.30628858066399284,
          0.4083847742186571,
          1.2251543226559714,
          0.8167695484373142,
          0.8167695484373142,
          0.7146733548826499,
          0.9188657419919785,
          0.7146733548826499,
          0.30628858066399284,
          0.7146733548826499,
          0.5104809677733214,
          0.5104809677733214,
          0.8167695484373142,
          0.9188657419919785,
          0.7146733548826499,
          0.9188657419919785,
          0.6125771613279857,
          0.4083847742186571,
          0.4083847742186571,
          0.5104809677733214,
          0.5104809677733214,
          0.8167695484373142,
          0.8167695484373142,
          0.4083847742186571,
          0.20419238710932855,
          0.5104809677733214,
          0.7146733548826499,
          0.30628858066399284,
          0.7146733548826499,
          1.2251543226559714,
          0.9188657419919785,
          0.7146733548826499,
          0.8167695484373142,
          0.7146733548826499,
          0.7146733548826499,
          0.8167695484373142,
          0.5104809677733214,
          0.9188657419919785,
          0.7146733548826499,
          0.7146733548826499,
          1.123058129101307,
          0.8167695484373142,
          0.30628858066399284,
          0.5104809677733214,
          0.9188657419919785,
          0.5104809677733214,
          0.7146733548826499,
          0.6125771613279857,
          0.5104809677733214,
          1.0209619355466428,
          1.123058129101307,
          0.9188657419919785,
          0.8167695484373142,
          0.5104809677733214,
          0.5104809677733214,
          0.4083847742186571,
          0.9188657419919785,
          0.6125771613279857,
          0.5104809677733214,
          0.5104809677733214,
          0.6125771613279857,
          0.8167695484373142,
          0.30628858066399284,
          0.8167695484373142,
          0.7146733548826499,
          0.9188657419919785,
          0.7146733548826499,
          0.7146733548826499,
          1.0209619355466428,
          0.5104809677733214,
          0.8167695484373142,
          0.9188657419919785,
          0.9188657419919785,
          0.7146733548826499,
          1.0209619355466428,
          0.8167695484373142,
          0.7146733548826499,
          0.8167695484373142,
          0.30628858066399284,
          0.7146733548826499,
          1.123058129101307,
          1.2251543226559714,
          0.8167695484373142,
          0.8352774564599301,
          0.8352774564599301,
          0.41763872822996506,
          0.8352774564599301,
          0.6264580923449476,
          0.8352774564599301,
          0.7308677744024389,
          1.0440968205749126,
          1.0440968205749126,
          0.8352774564599301,
          0.6264580923449476,
          0.6264580923449476,
          0.7308677744024389,
          0.7308677744024389,
          0.7308677744024389,
          0.9396871385174214,
          0.3132290461724738,
          1.0440968205749126,
          0.7308677744024389,
          0.5220484102874563,
          1.0440968205749126,
          0.6264580923449476,
          1.0440968205749126,
          0.9396871385174214,
          0.9396871385174214,
          0.7308677744024389,
          0.7308677744024389,
          0.8352774564599301,
          0.8352774564599301,
          0.8352774564599301,
          0.5220484102874563,
          0.9396871385174214,
          0.8352774564599301,
          0.6264580923449476,
          0.6264580923449476,
          0.6264580923449476,
          0.7308677744024389,
          0.9396871385174214,
          0.6264580923449476,
          0.7308677744024389,
          0.9396871385174214,
          0.6264580923449476,
          0.9396871385174214,
          0.8352774564599301,
          0.8352774564599301,
          0.5220484102874563,
          0.8352774564599301,
          0.6264580923449476,
          1.148506502632404,
          0.7308677744024389,
          0.7308677744024389,
          1.0440968205749126,
          0.8352774564599301,
          0.8352774564599301,
          0.5220484102874563,
          0.20881936411498253,
          0.7308677744024389,
          0.20881936411498253,
          0.9396871385174214,
          0.5220484102874563,
          0.8352774564599301,
          0.9396871385174214,
          1.0440968205749126,
          1.2529161846898953,
          0.5220484102874563,
          0.7308677744024389,
          0.7308677744024389,
          0.7308677744024389,
          0.7308677744024389,
          0.5220484102874563,
          0.7308677744024389,
          0.6264580923449476,
          0.6264580923449476,
          0.9396871385174214,
          0.8352774564599301,
          0.6264580923449476,
          0.3132290461724738,
          1.0440968205749126,
          0.8352774564599301,
          1.148506502632404,
          0.41763872822996506,
          0.7308677744024389,
          0.41763872822996506,
          0.5220484102874563,
          0.7308677744024389,
          0.8352774564599301,
          0.7308677744024389,
          1.0440968205749126,
          0.5220484102874563,
          1.0440968205749126,
          0.3132290461724738,
          0.7308677744024389,
          0.20881936411498253,
          1.0440968205749126,
          0.6264580923449476,
          1.0440968205749126,
          0.5220484102874563,
          0.6264580923449476,
          0.5220484102874563,
          0.7308677744024389,
          0.20881936411498253,
          0.9396871385174214,
          0.7308677744024389,
          0.41763872822996506,
          0.5220484102874563,
          0.7308677744024389,
          0.3132290461724738,
          0.5220484102874563,
          0.7308677744024389,
          0.5220484102874563,
          0.7308677744024389,
          0.7308677744024389,
          1.0440968205749126,
          0.6264580923449476,
          0.9396871385174214,
          0.6264580923449476,
          0.7308677744024389,
          0.41763872822996506,
          0.41763872822996506,
          1.0440968205749126,
          0.7308677744024389,
          0.8352774564599301,
          0.3132290461724738,
          0.8352774564599301,
          0.6264580923449476,
          1.0440968205749126,
          0.5220484102874563,
          0.5220484102874563,
          0.7308677744024389,
          1.0440968205749126,
          0.6264580923449476,
          0.9396871385174214,
          0.20881936411498253,
          0.41763872822996506,
          0.8352774564599301,
          0.7308677744024389,
          1.0440968205749126,
          0.3132290461724738,
          0.7308677744024389,
          0.9396871385174214,
          0.7308677744024389,
          1.148506502632404,
          0.6264580923449476,
          0.8352774564599301,
          0.7308677744024389,
          0.5220484102874563,
          0.9396871385174214,
          0.5220484102874563,
          1.148506502632404,
          1.0440968205749126,
          0.6264580923449476,
          0.9396871385174214,
          0.7308677744024389,
          1.0440968205749126,
          0.7308677744024389,
          0.9396871385174214,
          0.7308677744024389,
          1.2529161846898953,
          0.3132290461724738,
          0.41763872822996506,
          0.9396871385174214,
          0.3132290461724738,
          0.7308677744024389,
          0.7308677744024389,
          1.0440968205749126,
          0.8352774564599301,
          0.6264580923449476,
          0.5220484102874563,
          0.9396871385174214,
          1.148506502632404,
          0.6264580923449476,
          0.20881936411498253,
          0.41763872822996506,
          0.7308677744024389,
          0.7308677744024389,
          1.2529161846898953,
          0.7308677744024389,
          0.9396871385174214,
          0.5220484102874563,
          0.6264580923449476,
          0.6264580923449476,
          0.7308677744024389,
          0.6264580923449476,
          0.6264580923449476,
          0.3132290461724738,
          0.41763872822996506,
          0.6264580923449476,
          0.5220484102874563,
          0.20881936411498253,
          0.9396871385174214,
          0.7308677744024389,
          1.148506502632404,
          0.7308677744024389,
          0.5220484102874563,
          0.8352774564599301,
          1.148506502632404,
          0.3132290461724738,
          0.3132290461724738,
          1.0440968205749126,
          1.2529161846898953,
          1.2529161846898953,
          0.41763872822996506,
          0.5220484102874563,
          0.5220484102874563,
          0.9396871385174214,
          0.41763872822996506,
          0.9396871385174214,
          0.3132290461724738,
          0.20881936411498253,
          0.8352774564599301,
          1.2529161846898953,
          0.41763872822996506,
          0.41763872822996506,
          1.2529161846898953,
          0.3132290461724738,
          1.2529161846898953,
          1.0440968205749126,
          0.7308677744024389,
          1.148506502632404,
          0.41763872822996506,
          0.41763872822996506,
          0.6264580923449476,
          0.8352774564599301,
          0.6264580923449476,
          0.5220484102874563,
          0.7308677744024389,
          0.41763872822996506,
          1.0440968205749126,
          0.7308677744024389,
          0.9396871385174214,
          1.148506502632404,
          0.6264580923449476,
          0.7308677744024389,
          0.41763872822996506,
          0.41763872822996506,
          1.0440968205749126,
          0.7308677744024389,
          0.6264580923449476,
          0.8352774564599301,
          0.41763872822996506,
          0.41763872822996506,
          1.0440968205749126,
          0.8352774564599301,
          1.2529161846898953,
          1.0440968205749126,
          1.148506502632404,
          0.3132290461724738,
          1.148506502632404,
          0.6264580923449476,
          1.148506502632404,
          1.148506502632404,
          0.5220484102874563,
          1.0440968205749126,
          0.5220484102874563,
          0.8352774564599301,
          0.7308677744024389,
          0.9396871385174214,
          1.0440968205749126,
          0.9396871385174214,
          0.41763872822996506,
          0.8352774564599301,
          0.7308677744024389,
          0.6264580923449476,
          0.9396871385174214,
          0.3132290461724738,
          0.5220484102874563,
          1.0440968205749126,
          1.0440968205749126,
          0.5220484102874563,
          0.9396871385174214,
          1.2529161846898953,
          0.6264580923449476,
          0.5220484102874563,
          0.3132290461724738,
          0.41763872822996506,
          0.6264580923449476,
          0.6264580923449476,
          1.0440968205749126,
          0.3132290461724738,
          1.0440968205749126,
          0.3132290461724738,
          0.9396871385174214,
          1.148506502632404,
          0.5220484102874563,
          0.7308677744024389,
          0.5220484102874563,
          0.9396871385174214,
          0.41763872822996506,
          0.5220484102874563,
          1.148506502632404,
          0.9396871385174214,
          0.9396871385174214,
          1.148506502632404,
          1.148506502632404,
          0.7308677744024389,
          1.0440968205749126,
          0.41763872822996506,
          0.6264580923449476,
          0.5220484102874563,
          1.0440968205749126,
          0.8352774564599301,
          1.0440968205749126,
          1.0440968205749126,
          0.8352774564599301,
          0.9396871385174214,
          0.41763872822996506,
          0.8352774564599301,
          0.9396871385174214,
          0.3132290461724738,
          1.0440968205749126,
          0.5220484102874563,
          0.5220484102874563,
          0.6264580923449476,
          0.20881936411498253,
          0.7308677744024389,
          0.7308677744024389,
          0.6264580923449476,
          0.41763872822996506,
          0.5220484102874563,
          1.148506502632404,
          0.7308677744024389,
          0.20881936411498253,
          0.3132290461724738,
          0.9396871385174214,
          0.8352774564599301,
          0.6264580923449476,
          0.6264580923449476,
          0.7308677744024389,
          0.5220484102874563,
          0.5220484102874563,
          0.5220484102874563,
          0.5220484102874563,
          0.41763872822996506,
          0.20881936411498253,
          0.9396871385174214,
          1.2529161846898953,
          0.8352774564599301,
          0.7308677744024389,
          0.7308677744024389,
          1.2529161846898953,
          0.7308677744024389,
          0.5220484102874563,
          0.41763872822996506,
          0.5220484102874563,
          0.41763872822996506,
          0.6264580923449476,
          0.5220484102874563,
          0.8352774564599301,
          1.2529161846898953,
          0.9396871385174214,
          0.6264580923449476,
          0.9396871385174214,
          0.9396871385174214,
          1.148506502632404,
          0.7308677744024389,
          0.6264580923449476,
          0.6264580923449476,
          0.8352774564599301,
          0.41763872822996506,
          1.0440968205749126,
          0.5220484102874563,
          0.9396871385174214,
          1.148506502632404,
          0.6264580923449476,
          0.8352774564599301,
          0.3132290461724738,
          0.7308677744024389,
          0.6264580923449476,
          0.5220484102874563,
          1.0440968205749126,
          0.6264580923449476,
          0.6264580923449476,
          0.7308677744024389,
          0.7308677744024389,
          0.6264580923449476,
          1.148506502632404,
          0.5220484102874563,
          1.148506502632404,
          0.6264580923449476,
          0.5220484102874563,
          0.41763872822996506,
          0.8352774564599301,
          1.2529161846898953,
          0.3132290461724738,
          0.7308677744024389,
          0.5220484102874563,
          0.41763872822996506,
          0.6264580923449476,
          0.8352774564599301,
          0.6264580923449476,
          0.6264580923449476,
          0.6264580923449476,
          0.9396871385174214,
          0.6264580923449476,
          0.9396871385174214,
          1.148506502632404,
          0.41763872822996506,
          0.5220484102874563,
          0.6264580923449476,
          1.148506502632404,
          0.7308677744024389,
          0.6264580923449476,
          0.7308677744024389,
          0.8352774564599301,
          0.9396871385174214,
          0.41763872822996506,
          0.7308677744024389,
          0.7308677744024389,
          0.6264580923449476,
          0.6264580923449476,
          0.5220484102874563,
          0.7308677744024389,
          0.6264580923449476,
          0.7308677744024389,
          0.20881936411498253,
          0.7308677744024389,
          1.2529161846898953,
          0.9396871385174214,
          0.41763872822996506,
          0.8352774564599301,
          0.3132290461724738,
          0.8352774564599301,
          0.8352774564599301,
          0.6264580923449476,
          0.7308677744024389,
          0.7308677744024389,
          0.7308677744024389,
          0.6264580923449476,
          0.8352774564599301,
          0.5220484102874563,
          0.6264580923449476,
          1.2529161846898953,
          0.7308677744024389,
          0.3132290461724738,
          0.6264580923449476,
          0.6264580923449476,
          0.7308677744024389,
          0.41763872822996506,
          0.7308677744024389,
          1.148506502632404,
          0.7308677744024389,
          0.41763872822996506,
          0.20881936411498253,
          0.7308677744024389,
          1.2529161846898953,
          0.41763872822996506,
          0.7308677744024389,
          0.7308677744024389,
          0.6264580923449476,
          0.6264580923449476,
          0.6264580923449476,
          0.41763872822996506,
          0.41763872822996506,
          0.5220484102874563,
          0.9396871385174214,
          0.5220484102874563,
          0.6264580923449476,
          0.5220484102874563,
          0.9396871385174214,
          1.0440968205749126,
          0.5220484102874563,
          0.6264580923449476,
          0.7308677744024389,
          0.7308677744024389,
          1.2529161846898953,
          0.6264580923449476,
          0.7308677744024389,
          1.0440968205749126,
          0.8352774564599301,
          0.6264580923449476,
          0.7308677744024389,
          1.0440968205749126,
          1.148506502632404,
          1.0440968205749126,
          0.7308677744024389,
          0.8352774564599301,
          0.41763872822996506,
          0.41763872822996506,
          0.3132290461724738,
          1.148506502632404,
          0.41763872822996506,
          0.7308677744024389,
          0.7308677744024389,
          0.6264580923449476,
          0.8352774564599301,
          0.8352774564599301,
          0.3132290461724738,
          0.6264580923449476,
          0.5220484102874563,
          0.7308677744024389,
          0.8352774564599301,
          0.41763872822996506,
          1.2529161846898953,
          1.148506502632404,
          0.6264580923449476,
          1.0440968205749126,
          0.7308677744024389,
          0.8352774564599301,
          1.2529161846898953,
          0.6264580923449476,
          0.9396871385174214,
          0.7308677744024389,
          0.9396871385174214,
          0.8352774564599301,
          0.8352774564599301,
          1.0440968205749126,
          0.8352774564599301,
          1.148506502632404,
          0.8352774564599301,
          0.7308677744024389,
          0.7308677744024389,
          1.148506502632404,
          0.7308677744024389,
          0.3132290461724738,
          0.41763872822996506,
          0.5220484102874563,
          0.9396871385174214,
          1.0440968205749126,
          0.6264580923449476,
          0.7308677744024389,
          0.3132290461724738,
          0.8352774564599301,
          0.7308677744024389,
          0.6264580923449476,
          0.5220484102874563,
          1.0440968205749126,
          0.5220484102874563,
          0.6264580923449476,
          0.20881936411498253,
          1.148506502632404,
          0.7308677744024389,
          0.5220484102874563,
          1.0440968205749126,
          0.8352774564599301,
          0.41763872822996506,
          0.9396871385174214,
          0.7308677744024389,
          1.0440968205749126,
          1.148506502632404,
          0.3132290461724738,
          0.41763872822996506,
          0.7308677744024389,
          0.8352774564599301,
          0.6264580923449476,
          0.6264580923449476,
          0.41763872822996506,
          1.2529161846898953,
          1.2529161846898953,
          0.3132290461724738,
          0.7308677744024389,
          0.8352774564599301,
          1.0440968205749126,
          0.8352774564599301,
          0.8352774564599301,
          0.3132290461724738,
          0.7308677744024389,
          0.6264580923449476,
          0.9396871385174214,
          0.9396871385174214,
          0.3132290461724738,
          1.2529161846898953,
          0.6264580923449476,
          1.148506502632404,
          0.6264580923449476,
          0.6264580923449476,
          0.6264580923449476,
          0.8352774564599301,
          0.9396871385174214,
          1.0440968205749126,
          1.148506502632404,
          1.2529161846898953,
          0.7308677744024389,
          1.0440968205749126,
          1.2529161846898953,
          0.6264580923449476,
          0.5220484102874563,
          0.6264580923449476,
          0.5220484102874563,
          1.148506502632404,
          1.148506502632404,
          0.7308677744024389,
          1.0440968205749126,
          1.0440968205749126,
          0.3132290461724738,
          0.8352774564599301,
          0.5220484102874563,
          0.5220484102874563,
          0.9396871385174214,
          0.6264580923449476,
          0.5220484102874563,
          0.7308677744024389,
          0.20881936411498253,
          0.6264580923449476,
          0.9396871385174214,
          0.8352774564599301,
          1.0440968205749126,
          0.5220484102874563,
          0.7308677744024389,
          0.6264580923449476,
          0.7308677744024389,
          0.5220484102874563,
          0.8352774564599301,
          1.0440968205749126,
          0.9396871385174214,
          0.6264580923449476,
          0.20881936411498253,
          0.8352774564599301,
          0.6264580923449476,
          0.3132290461724738,
          0.6264580923449476,
          1.0440968205749126,
          0.7308677744024389,
          1.148506502632404,
          1.0440968205749126,
          0.41763872822996506,
          0.7308677744024389,
          0.8352774564599301,
          0.8352774564599301,
          0.7308677744024389,
          1.0440968205749126,
          0.7308677744024389,
          0.8352774564599301,
          0.7308677744024389,
          0.5220484102874563,
          0.8352774564599301,
          0.20881936411498253,
          0.5220484102874563,
          1.148506502632404,
          0.7308677744024389,
          0.9396871385174214,
          0.20881936411498253,
          0.6264580923449476,
          0.5220484102874563,
          0.7308677744024389,
          0.7308677744024389,
          0.6264580923449476,
          0.7308677744024389,
          0.6264580923449476,
          0.3132290461724738,
          0.9396871385174214,
          1.148506502632404,
          0.7308677744024389,
          0.7308677744024389,
          0.9396871385174214,
          0.6264580923449476,
          1.2529161846898953,
          0.8352774564599301,
          0.7308677744024389,
          0.6264580923449476,
          0.7308677744024389,
          0.7308677744024389,
          0.3132290461724738,
          0.7308677744024389,
          0.6264580923449476,
          0.7308677744024389,
          0.9396871385174214,
          0.7308677744024389,
          0.7308677744024389,
          0.7308677744024389,
          0.7308677744024389,
          0.9396871385174214,
          0.41763872822996506,
          1.0440968205749126,
          0.7308677744024389,
          0.7308677744024389,
          0.41763872822996506,
          0.9396871385174214,
          0.41763872822996506,
          0.6264580923449476,
          0.41763872822996506,
          0.9396871385174214,
          0.6264580923449476,
          0.5220484102874563,
          0.8352774564599301,
          0.8352774564599301,
          0.3132290461724738,
          1.0440968205749126,
          0.7308677744024389,
          0.9396871385174214,
          0.6264580923449476,
          0.8352774564599301,
          0.8352774564599301,
          0.9396871385174214,
          0.9396871385174214,
          0.7308677744024389,
          0.3132290461724738,
          0.9396871385174214,
          0.6264580923449476,
          1.2529161846898953,
          0.7308677744024389,
          0.8352774564599301,
          0.7308677744024389,
          0.7308677744024389,
          0.6264580923449476,
          0.8352774564599301,
          0.6264580923449476,
          0.7308677744024389,
          0.41763872822996506,
          0.7308677744024389,
          0.7308677744024389,
          0.41763872822996506,
          0.7308677744024389,
          0.8352774564599301,
          0.9396871385174214,
          0.5220484102874563,
          0.8352774564599301,
          1.2529161846898953,
          0.6264580923449476,
          1.0440968205749126,
          0.5220484102874563,
          0.20881936411498253,
          0.7308677744024389,
          0.9396871385174214,
          0.9396871385174214,
          0.9396871385174214,
          0.20881936411498253,
          0.6264580923449476,
          0.3132290461724738,
          0.6264580923449476,
          0.5220484102874563,
          0.9396871385174214,
          0.7308677744024389,
          0.3132290461724738,
          1.0440968205749126,
          0.9396871385174214,
          0.6264580923449476,
          0.8352774564599301,
          0.20881936411498253,
          0.8352774564599301,
          0.6264580923449476,
          0.6264580923449476,
          0.8352774564599301,
          1.148506502632404,
          0.3132290461724738,
          0.5220484102874563,
          0.8352774564599301,
          0.5220484102874563,
          1.0440968205749126,
          0.6264580923449476,
          0.41763872822996506,
          1.0440968205749126,
          0.20881936411498253,
          0.20881936411498253,
          0.5220484102874563,
          1.148506502632404,
          0.5220484102874563,
          0.41763872822996506,
          0.5220484102874563,
          0.8352774564599301,
          0.5220484102874563,
          0.5220484102874563,
          1.0440968205749126,
          0.5220484102874563,
          0.5220484102874563,
          0.3132290461724738,
          1.148506502632404,
          0.9396871385174214,
          0.8352774564599301,
          0.3132290461724738,
          0.7308677744024389,
          0.20881936411498253,
          1.2529161846898953,
          0.41763872822996506,
          0.7308677744024389,
          0.7308677744024389,
          0.5220484102874563,
          0.5220484102874563,
          0.8352774564599301,
          0.8352774564599301,
          0.20881936411498253,
          0.41763872822996506,
          0.3132290461724738,
          0.9396871385174214,
          0.6264580923449476,
          0.7308677744024389,
          0.3132290461724738,
          0.6264580923449476,
          0.7308677744024389,
          0.7308677744024389,
          0.3132290461724738,
          0.6264580923449476,
          0.5220484102874563,
          0.6264580923449476,
          1.148506502632404,
          0.8352774564599301,
          0.7308677744024389,
          1.0440968205749126,
          0.3132290461724738,
          0.8352774564599301,
          0.5220484102874563,
          0.8352774564599301,
          0.41763872822996506,
          0.41763872822996506,
          0.3132290461724738,
          0.6264580923449476,
          0.6264580923449476,
          0.7308677744024389,
          0.8352774564599301,
          1.2529161846898953,
          0.3132290461724738,
          1.148506502632404,
          1.148506502632404,
          0.7308677744024389,
          0.7308677744024389,
          0.3132290461724738,
          0.9396871385174214,
          0.41763872822996506,
          0.5220484102874563,
          1.148506502632404,
          0.8352774564599301,
          0.3132290461724738,
          0.7308677744024389,
          0.6264580923449476,
          0.5220484102874563,
          0.6264580923449476,
          0.5220484102874563,
          0.9396871385174214,
          0.6264580923449476,
          0.9396871385174214,
          0.9396871385174214,
          1.0440968205749126,
          0.41763872822996506,
          0.5220484102874563,
          0.7308677744024389,
          0.20881936411498253,
          0.6264580923449476,
          1.148506502632404,
          0.41763872822996506,
          0.7308677744024389,
          0.8352774564599301,
          1.2529161846898953,
          0.8352774564599301,
          0.8352774564599301,
          0.7308677744024389,
          0.3132290461724738,
          0.7308677744024389,
          1.148506502632404,
          1.2529161846898953,
          0.9396871385174214,
          1.0440968205749126,
          0.9396871385174214,
          0.8352774564599301,
          1.0440968205749126,
          0.8352774564599301,
          1.148506502632404,
          0.9396871385174214,
          0.8352774564599301,
          0.9396871385174214,
          0.9396871385174214,
          0.5220484102874563,
          0.7308677744024389,
          0.6264580923449476,
          0.8352774564599301,
          0.8352774564599301,
          1.148506502632404,
          1.2529161846898953,
          0.6264580923449476,
          1.2529161846898953,
          0.41763872822996506,
          0.7308677744024389,
          0.3132290461724738,
          0.6264580923449476,
          0.6264580923449476,
          0.7308677744024389,
          0.7308677744024389,
          1.148506502632404,
          0.8352774564599301,
          0.6264580923449476,
          0.6264580923449476,
          0.9396871385174214,
          0.41763872822996506,
          0.41763872822996506,
          0.3132290461724738,
          0.6264580923449476,
          0.20881936411498253,
          0.8352774564599301,
          0.7308677744024389,
          0.9396871385174214,
          0.9396871385174214,
          0.5220484102874563,
          0.8352774564599301,
          0.3132290461724738,
          0.8352774564599301,
          0.7308677744024389,
          0.5220484102874563,
          0.5220484102874563,
          0.8352774564599301,
          0.9396871385174214,
          0.8352774564599301,
          0.3132290461724738,
          0.5220484102874563,
          0.7308677744024389,
          0.5220484102874563,
          0.9396871385174214,
          0.6264580923449476,
          0.7308677744024389,
          0.5220484102874563,
          0.9396871385174214,
          1.148506502632404,
          1.2529161846898953,
          0.8352774564599301,
          0.8352774564599301,
          1.148506502632404,
          0.8352774564599301,
          0.6264580923449476,
          1.0440968205749126,
          0.3132290461724738,
          0.7308677744024389,
          1.0440968205749126,
          1.148506502632404,
          0.8352774564599301,
          1.148506502632404,
          0.7308677744024389,
          0.5220484102874563,
          0.5220484102874563,
          1.148506502632404,
          0.20881936411498253,
          0.3132290461724738,
          0.41763872822996506,
          1.2529161846898953,
          0.8352774564599301,
          0.8352774564599301,
          0.7308677744024389,
          0.9396871385174214,
          0.7308677744024389,
          0.3132290461724738,
          0.7308677744024389,
          0.5220484102874563,
          0.5220484102874563,
          0.8352774564599301,
          0.9396871385174214,
          0.7308677744024389,
          0.9396871385174214,
          0.6264580923449476,
          0.41763872822996506,
          0.41763872822996506,
          0.5220484102874563,
          0.5220484102874563,
          0.8352774564599301,
          0.8352774564599301,
          0.41763872822996506,
          0.20881936411498253,
          0.5220484102874563,
          0.7308677744024389,
          0.3132290461724738,
          0.7308677744024389,
          1.2529161846898953,
          0.9396871385174214,
          0.7308677744024389,
          0.8352774564599301,
          0.7308677744024389,
          0.7308677744024389,
          0.8352774564599301,
          0.5220484102874563,
          0.9396871385174214,
          0.7308677744024389,
          0.7308677744024389,
          1.148506502632404,
          0.8352774564599301,
          0.3132290461724738,
          0.5220484102874563,
          0.9396871385174214,
          0.5220484102874563,
          0.7308677744024389,
          0.6264580923449476,
          0.5220484102874563,
          1.0440968205749126,
          1.148506502632404,
          0.9396871385174214,
          0.8352774564599301,
          0.5220484102874563,
          0.5220484102874563,
          0.41763872822996506,
          0.9396871385174214,
          0.6264580923449476,
          0.5220484102874563,
          0.5220484102874563,
          0.6264580923449476,
          0.8352774564599301,
          0.3132290461724738,
          0.8352774564599301,
          0.7308677744024389,
          0.9396871385174214,
          0.7308677744024389,
          0.7308677744024389,
          1.0440968205749126,
          0.5220484102874563,
          0.8352774564599301,
          0.9396871385174214,
          0.9396871385174214,
          0.7308677744024389,
          1.0440968205749126,
          0.8352774564599301,
          0.7308677744024389,
          0.8352774564599301,
          0.3132290461724738,
          0.7308677744024389,
          1.148506502632404,
          1.2529161846898953,
          0.8352774564599301
         ],
         "y0": " ",
         "yaxis": "y"
        },
        {
         "alignmentgroup": "True",
         "hovertemplate": "variable=%{x}<br>value=%{y}<extra></extra>",
         "legendgroup": "",
         "line": {
          "color": "red"
         },
         "marker": {
          "color": "#636efa"
         },
         "name": "2 Utilities Owned",
         "notched": false,
         "offsetgroup": "",
         "orientation": "v",
         "showlegend": false,
         "type": "box",
         "x": [
          "Water Works",
          "Water Works",
          "Water Works",
          "Water Works",
          "Water Works",
          "Water Works",
          "Water Works",
          "Water Works",
          "Water Works",
          "Water Works",
          "Water Works",
          "Water Works",
          "Water Works",
          "Water Works",
          "Water Works",
          "Water Works",
          "Water Works",
          "Water Works",
          "Water Works",
          "Water Works",
          "Water Works",
          "Water Works",
          "Water Works",
          "Water Works",
          "Water Works",
          "Water Works",
          "Water Works",
          "Water Works",
          "Water Works",
          "Water Works",
          "Water Works",
          "Water Works",
          "Water Works",
          "Water Works",
          "Water Works",
          "Water Works",
          "Water Works",
          "Water Works",
          "Water Works",
          "Water Works",
          "Water Works",
          "Water Works",
          "Water Works",
          "Water Works",
          "Water Works",
          "Water Works",
          "Water Works",
          "Water Works",
          "Water Works",
          "Water Works",
          "Water Works",
          "Water Works",
          "Water Works",
          "Water Works",
          "Water Works",
          "Water Works",
          "Water Works",
          "Water Works",
          "Water Works",
          "Water Works",
          "Water Works",
          "Water Works",
          "Water Works",
          "Water Works",
          "Water Works",
          "Water Works",
          "Water Works",
          "Water Works",
          "Water Works",
          "Water Works",
          "Water Works",
          "Water Works",
          "Water Works",
          "Water Works",
          "Water Works",
          "Water Works",
          "Water Works",
          "Water Works",
          "Water Works",
          "Water Works",
          "Water Works",
          "Water Works",
          "Water Works",
          "Water Works",
          "Water Works",
          "Water Works",
          "Water Works",
          "Water Works",
          "Water Works",
          "Water Works",
          "Water Works",
          "Water Works",
          "Water Works",
          "Water Works",
          "Water Works",
          "Water Works",
          "Water Works",
          "Water Works",
          "Water Works",
          "Water Works",
          "Water Works",
          "Water Works",
          "Water Works",
          "Water Works",
          "Water Works",
          "Water Works",
          "Water Works",
          "Water Works",
          "Water Works",
          "Water Works",
          "Water Works",
          "Water Works",
          "Water Works",
          "Water Works",
          "Water Works",
          "Water Works",
          "Water Works",
          "Water Works",
          "Water Works",
          "Water Works",
          "Water Works",
          "Water Works",
          "Water Works",
          "Water Works",
          "Water Works",
          "Water Works",
          "Water Works",
          "Water Works",
          "Water Works",
          "Water Works",
          "Water Works",
          "Water Works",
          "Water Works",
          "Water Works",
          "Water Works",
          "Water Works",
          "Water Works",
          "Water Works",
          "Water Works",
          "Water Works",
          "Water Works",
          "Water Works",
          "Water Works",
          "Water Works",
          "Water Works",
          "Water Works",
          "Water Works",
          "Water Works",
          "Water Works",
          "Water Works",
          "Water Works",
          "Water Works",
          "Water Works",
          "Water Works",
          "Water Works",
          "Water Works",
          "Water Works",
          "Water Works",
          "Water Works",
          "Water Works",
          "Water Works",
          "Water Works",
          "Water Works",
          "Water Works",
          "Water Works",
          "Water Works",
          "Water Works",
          "Water Works",
          "Water Works",
          "Water Works",
          "Water Works",
          "Water Works",
          "Water Works",
          "Water Works",
          "Water Works",
          "Water Works",
          "Water Works",
          "Water Works",
          "Water Works",
          "Water Works",
          "Water Works",
          "Water Works",
          "Water Works",
          "Water Works",
          "Water Works",
          "Water Works",
          "Water Works",
          "Water Works",
          "Water Works",
          "Water Works",
          "Water Works",
          "Water Works",
          "Water Works",
          "Water Works",
          "Water Works",
          "Water Works",
          "Water Works",
          "Water Works",
          "Water Works",
          "Water Works",
          "Water Works",
          "Water Works",
          "Water Works",
          "Water Works",
          "Water Works",
          "Water Works",
          "Water Works",
          "Water Works",
          "Water Works",
          "Water Works",
          "Water Works",
          "Water Works",
          "Water Works",
          "Water Works",
          "Water Works",
          "Water Works",
          "Water Works",
          "Water Works",
          "Water Works",
          "Water Works",
          "Water Works",
          "Water Works",
          "Water Works",
          "Water Works",
          "Water Works",
          "Water Works",
          "Water Works",
          "Water Works",
          "Water Works",
          "Water Works",
          "Water Works",
          "Water Works",
          "Water Works",
          "Water Works",
          "Water Works",
          "Water Works",
          "Water Works",
          "Water Works",
          "Water Works",
          "Water Works",
          "Water Works",
          "Water Works",
          "Water Works",
          "Water Works",
          "Water Works",
          "Water Works",
          "Water Works",
          "Water Works",
          "Water Works",
          "Water Works",
          "Water Works",
          "Water Works",
          "Water Works",
          "Water Works",
          "Water Works",
          "Water Works",
          "Water Works",
          "Water Works",
          "Water Works",
          "Water Works",
          "Water Works",
          "Water Works",
          "Water Works",
          "Water Works",
          "Water Works",
          "Water Works",
          "Water Works",
          "Water Works",
          "Water Works",
          "Water Works",
          "Water Works",
          "Water Works",
          "Water Works",
          "Water Works",
          "Water Works",
          "Water Works",
          "Water Works",
          "Water Works",
          "Water Works",
          "Water Works",
          "Water Works",
          "Water Works",
          "Water Works",
          "Water Works",
          "Water Works",
          "Water Works",
          "Water Works",
          "Water Works",
          "Water Works",
          "Water Works",
          "Water Works",
          "Water Works",
          "Water Works",
          "Water Works",
          "Water Works",
          "Water Works",
          "Water Works",
          "Water Works",
          "Water Works",
          "Water Works",
          "Water Works",
          "Water Works",
          "Water Works",
          "Water Works",
          "Water Works",
          "Water Works",
          "Water Works",
          "Water Works",
          "Water Works",
          "Water Works",
          "Water Works",
          "Water Works",
          "Water Works",
          "Water Works",
          "Water Works",
          "Water Works",
          "Water Works",
          "Water Works",
          "Water Works",
          "Water Works",
          "Water Works",
          "Water Works",
          "Water Works",
          "Water Works",
          "Water Works",
          "Water Works",
          "Water Works",
          "Water Works",
          "Water Works",
          "Water Works",
          "Water Works",
          "Water Works",
          "Water Works",
          "Water Works",
          "Water Works",
          "Water Works",
          "Water Works",
          "Water Works",
          "Water Works",
          "Water Works",
          "Water Works",
          "Water Works",
          "Water Works",
          "Water Works",
          "Water Works",
          "Water Works",
          "Water Works",
          "Water Works",
          "Water Works",
          "Water Works",
          "Water Works",
          "Water Works",
          "Water Works",
          "Water Works",
          "Water Works",
          "Water Works",
          "Water Works",
          "Water Works",
          "Water Works",
          "Water Works",
          "Water Works",
          "Water Works",
          "Water Works",
          "Water Works",
          "Water Works",
          "Water Works",
          "Water Works",
          "Water Works",
          "Water Works",
          "Water Works",
          "Water Works",
          "Water Works",
          "Water Works",
          "Water Works",
          "Water Works",
          "Water Works",
          "Water Works",
          "Water Works",
          "Water Works",
          "Water Works",
          "Water Works",
          "Water Works",
          "Water Works",
          "Water Works",
          "Water Works",
          "Water Works",
          "Water Works",
          "Water Works",
          "Water Works",
          "Water Works",
          "Water Works",
          "Water Works",
          "Water Works",
          "Water Works",
          "Water Works",
          "Water Works",
          "Water Works",
          "Water Works",
          "Water Works",
          "Water Works",
          "Water Works",
          "Water Works",
          "Water Works",
          "Water Works",
          "Water Works",
          "Water Works",
          "Water Works",
          "Water Works",
          "Water Works",
          "Water Works",
          "Water Works",
          "Water Works",
          "Water Works",
          "Water Works",
          "Water Works",
          "Water Works",
          "Water Works",
          "Water Works",
          "Water Works",
          "Water Works",
          "Water Works",
          "Water Works",
          "Water Works",
          "Water Works",
          "Water Works",
          "Water Works",
          "Water Works",
          "Water Works",
          "Water Works",
          "Water Works",
          "Water Works",
          "Water Works",
          "Water Works",
          "Water Works",
          "Water Works",
          "Water Works",
          "Water Works",
          "Water Works",
          "Water Works",
          "Water Works",
          "Water Works",
          "Water Works",
          "Water Works",
          "Water Works",
          "Water Works",
          "Water Works",
          "Water Works",
          "Water Works",
          "Water Works",
          "Water Works",
          "Water Works",
          "Water Works",
          "Water Works",
          "Water Works",
          "Water Works",
          "Water Works",
          "Water Works",
          "Water Works",
          "Water Works",
          "Water Works",
          "Water Works",
          "Water Works",
          "Water Works",
          "Water Works",
          "Water Works",
          "Water Works",
          "Water Works",
          "Water Works",
          "Water Works",
          "Water Works",
          "Water Works",
          "Water Works",
          "Water Works",
          "Water Works",
          "Water Works",
          "Water Works",
          "Water Works",
          "Water Works",
          "Water Works",
          "Water Works",
          "Water Works",
          "Water Works",
          "Water Works",
          "Water Works",
          "Water Works",
          "Water Works",
          "Water Works",
          "Water Works",
          "Water Works",
          "Water Works",
          "Water Works",
          "Water Works",
          "Water Works",
          "Water Works",
          "Water Works",
          "Water Works",
          "Water Works",
          "Water Works",
          "Water Works",
          "Water Works",
          "Water Works",
          "Water Works",
          "Water Works",
          "Water Works",
          "Water Works",
          "Water Works",
          "Water Works",
          "Water Works",
          "Water Works",
          "Water Works",
          "Water Works",
          "Water Works",
          "Water Works",
          "Water Works",
          "Water Works",
          "Water Works",
          "Water Works",
          "Water Works",
          "Water Works",
          "Water Works",
          "Water Works",
          "Water Works",
          "Water Works",
          "Water Works",
          "Water Works",
          "Water Works",
          "Water Works",
          "Water Works",
          "Water Works",
          "Water Works",
          "Water Works",
          "Water Works",
          "Water Works",
          "Water Works",
          "Water Works",
          "Water Works",
          "Water Works",
          "Water Works",
          "Water Works",
          "Water Works",
          "Water Works",
          "Water Works",
          "Water Works",
          "Water Works",
          "Water Works",
          "Water Works",
          "Water Works",
          "Water Works",
          "Water Works",
          "Water Works",
          "Water Works",
          "Water Works",
          "Water Works",
          "Water Works",
          "Water Works",
          "Water Works",
          "Water Works",
          "Water Works",
          "Water Works",
          "Water Works",
          "Water Works",
          "Water Works",
          "Water Works",
          "Water Works",
          "Water Works",
          "Water Works",
          "Water Works",
          "Water Works",
          "Water Works",
          "Water Works",
          "Water Works",
          "Water Works",
          "Water Works",
          "Water Works",
          "Water Works",
          "Water Works",
          "Water Works",
          "Water Works",
          "Water Works",
          "Water Works",
          "Water Works",
          "Water Works",
          "Water Works",
          "Water Works",
          "Water Works",
          "Water Works",
          "Water Works",
          "Water Works",
          "Water Works",
          "Water Works",
          "Water Works",
          "Water Works",
          "Water Works",
          "Water Works",
          "Water Works",
          "Water Works",
          "Water Works",
          "Water Works",
          "Water Works",
          "Water Works",
          "Water Works",
          "Water Works",
          "Water Works",
          "Water Works",
          "Water Works",
          "Water Works",
          "Water Works",
          "Water Works",
          "Water Works",
          "Water Works",
          "Water Works",
          "Water Works",
          "Water Works",
          "Water Works",
          "Water Works",
          "Water Works",
          "Water Works",
          "Water Works",
          "Water Works",
          "Water Works",
          "Water Works",
          "Water Works",
          "Water Works",
          "Water Works",
          "Water Works",
          "Water Works",
          "Water Works",
          "Water Works",
          "Water Works",
          "Water Works",
          "Water Works",
          "Water Works",
          "Water Works",
          "Water Works",
          "Water Works",
          "Water Works",
          "Water Works",
          "Water Works",
          "Water Works",
          "Water Works",
          "Water Works",
          "Water Works",
          "Water Works",
          "Water Works",
          "Water Works",
          "Water Works",
          "Water Works",
          "Water Works",
          "Water Works",
          "Water Works",
          "Water Works",
          "Water Works",
          "Water Works",
          "Water Works",
          "Water Works",
          "Water Works",
          "Water Works",
          "Water Works",
          "Water Works",
          "Water Works",
          "Water Works",
          "Water Works",
          "Water Works",
          "Water Works",
          "Water Works",
          "Water Works",
          "Water Works",
          "Water Works",
          "Water Works",
          "Water Works",
          "Water Works",
          "Water Works",
          "Water Works",
          "Water Works",
          "Water Works",
          "Water Works",
          "Water Works",
          "Water Works",
          "Water Works",
          "Water Works",
          "Water Works",
          "Water Works",
          "Water Works",
          "Water Works",
          "Water Works",
          "Water Works",
          "Water Works",
          "Water Works",
          "Water Works",
          "Water Works",
          "Water Works",
          "Water Works",
          "Water Works",
          "Water Works",
          "Water Works",
          "Water Works",
          "Water Works",
          "Water Works",
          "Water Works",
          "Water Works",
          "Water Works",
          "Water Works",
          "Water Works",
          "Water Works",
          "Water Works",
          "Water Works",
          "Water Works",
          "Water Works",
          "Water Works",
          "Water Works",
          "Water Works",
          "Water Works",
          "Water Works",
          "Water Works",
          "Water Works",
          "Water Works",
          "Water Works",
          "Water Works",
          "Water Works",
          "Water Works",
          "Water Works",
          "Water Works",
          "Water Works",
          "Water Works",
          "Water Works",
          "Water Works",
          "Water Works",
          "Water Works",
          "Water Works",
          "Water Works",
          "Water Works",
          "Water Works",
          "Water Works",
          "Water Works",
          "Water Works",
          "Water Works",
          "Water Works",
          "Water Works",
          "Water Works",
          "Water Works",
          "Water Works",
          "Water Works",
          "Water Works",
          "Water Works",
          "Water Works",
          "Water Works",
          "Water Works",
          "Water Works",
          "Water Works",
          "Water Works",
          "Water Works",
          "Water Works",
          "Water Works",
          "Water Works",
          "Water Works",
          "Water Works",
          "Water Works",
          "Water Works",
          "Water Works",
          "Water Works",
          "Water Works",
          "Water Works",
          "Water Works",
          "Water Works",
          "Water Works",
          "Water Works",
          "Water Works",
          "Water Works",
          "Water Works",
          "Water Works",
          "Water Works",
          "Water Works",
          "Water Works",
          "Water Works",
          "Water Works",
          "Water Works",
          "Water Works",
          "Water Works",
          "Water Works",
          "Water Works",
          "Water Works",
          "Water Works",
          "Water Works",
          "Water Works",
          "Water Works",
          "Water Works",
          "Water Works",
          "Water Works",
          "Water Works",
          "Water Works",
          "Water Works",
          "Water Works",
          "Water Works",
          "Water Works",
          "Water Works",
          "Water Works",
          "Water Works",
          "Water Works",
          "Water Works",
          "Water Works",
          "Water Works",
          "Water Works",
          "Water Works",
          "Water Works",
          "Water Works",
          "Water Works",
          "Water Works",
          "Water Works",
          "Water Works",
          "Water Works",
          "Water Works",
          "Water Works",
          "Water Works",
          "Water Works",
          "Water Works",
          "Water Works",
          "Water Works",
          "Water Works",
          "Water Works",
          "Water Works",
          "Water Works",
          "Water Works",
          "Water Works",
          "Water Works",
          "Water Works",
          "Water Works",
          "Water Works",
          "Water Works",
          "Water Works",
          "Water Works",
          "Water Works",
          "Water Works",
          "Water Works",
          "Water Works",
          "Water Works",
          "Water Works",
          "Water Works",
          "Water Works",
          "Water Works",
          "Water Works",
          "Water Works",
          "Water Works",
          "Water Works",
          "Water Works",
          "Water Works",
          "Water Works",
          "Water Works",
          "Water Works",
          "Water Works",
          "Water Works",
          "Water Works",
          "Water Works",
          "Water Works",
          "Water Works",
          "Water Works",
          "Water Works",
          "Water Works",
          "Water Works",
          "Water Works",
          "Water Works",
          "Water Works",
          "Water Works",
          "Water Works",
          "Water Works",
          "Water Works",
          "Water Works",
          "Water Works",
          "Water Works",
          "Water Works",
          "Water Works",
          "Water Works",
          "Water Works",
          "Water Works",
          "Water Works",
          "Water Works",
          "Water Works",
          "Water Works",
          "Water Works",
          "Water Works",
          "Water Works",
          "Water Works",
          "Water Works",
          "Water Works",
          "Water Works",
          "Water Works",
          "Water Works",
          "Water Works",
          "Water Works",
          "Water Works",
          "Water Works",
          "Water Works",
          "Water Works",
          "Water Works",
          "Water Works",
          "Water Works",
          "Water Works",
          "Water Works",
          "Water Works",
          "Water Works",
          "Water Works",
          "Water Works",
          "Water Works",
          "Water Works",
          "Water Works",
          "Water Works",
          "Water Works",
          "Water Works",
          "Water Works",
          "Water Works",
          "Water Works",
          "Water Works",
          "Water Works",
          "Water Works",
          "Water Works",
          "Water Works",
          "Water Works",
          "Water Works",
          "Water Works",
          "Water Works",
          "Water Works",
          "Water Works",
          "Water Works",
          "Water Works",
          "Water Works",
          "Water Works",
          "Water Works",
          "Water Works",
          "Water Works",
          "Water Works",
          "Water Works",
          "Water Works",
          "Water Works",
          "Water Works",
          "Water Works",
          "Water Works",
          "Water Works",
          "Water Works",
          "Water Works",
          "Water Works",
          "Water Works",
          "Water Works",
          "Water Works",
          "Water Works",
          "Water Works",
          "Water Works",
          "Water Works",
          "Water Works",
          "Water Works",
          "Water Works",
          "Water Works",
          "Water Works",
          "Water Works",
          "Water Works",
          "Water Works",
          "Water Works",
          "Water Works",
          "Water Works",
          "Water Works",
          "Water Works",
          "Water Works",
          "Water Works",
          "Water Works",
          "Water Works",
          "Water Works",
          "Water Works",
          "Water Works",
          "Water Works",
          "Water Works",
          "Water Works",
          "Water Works",
          "Water Works",
          "Water Works",
          "Water Works",
          "Water Works",
          "Water Works",
          "Water Works",
          "Water Works",
          "Water Works",
          "Water Works",
          "Water Works",
          "Water Works",
          "Water Works",
          "Water Works",
          "Water Works",
          "Water Works",
          "Water Works",
          "Water Works",
          "Water Works",
          "Water Works",
          "Water Works",
          "Water Works",
          "Water Works",
          "Water Works",
          "Water Works",
          "Water Works",
          "Water Works",
          "Water Works",
          "Water Works",
          "Water Works",
          "Water Works",
          "Electric Company",
          "Electric Company",
          "Electric Company",
          "Electric Company",
          "Electric Company",
          "Electric Company",
          "Electric Company",
          "Electric Company",
          "Electric Company",
          "Electric Company",
          "Electric Company",
          "Electric Company",
          "Electric Company",
          "Electric Company",
          "Electric Company",
          "Electric Company",
          "Electric Company",
          "Electric Company",
          "Electric Company",
          "Electric Company",
          "Electric Company",
          "Electric Company",
          "Electric Company",
          "Electric Company",
          "Electric Company",
          "Electric Company",
          "Electric Company",
          "Electric Company",
          "Electric Company",
          "Electric Company",
          "Electric Company",
          "Electric Company",
          "Electric Company",
          "Electric Company",
          "Electric Company",
          "Electric Company",
          "Electric Company",
          "Electric Company",
          "Electric Company",
          "Electric Company",
          "Electric Company",
          "Electric Company",
          "Electric Company",
          "Electric Company",
          "Electric Company",
          "Electric Company",
          "Electric Company",
          "Electric Company",
          "Electric Company",
          "Electric Company",
          "Electric Company",
          "Electric Company",
          "Electric Company",
          "Electric Company",
          "Electric Company",
          "Electric Company",
          "Electric Company",
          "Electric Company",
          "Electric Company",
          "Electric Company",
          "Electric Company",
          "Electric Company",
          "Electric Company",
          "Electric Company",
          "Electric Company",
          "Electric Company",
          "Electric Company",
          "Electric Company",
          "Electric Company",
          "Electric Company",
          "Electric Company",
          "Electric Company",
          "Electric Company",
          "Electric Company",
          "Electric Company",
          "Electric Company",
          "Electric Company",
          "Electric Company",
          "Electric Company",
          "Electric Company",
          "Electric Company",
          "Electric Company",
          "Electric Company",
          "Electric Company",
          "Electric Company",
          "Electric Company",
          "Electric Company",
          "Electric Company",
          "Electric Company",
          "Electric Company",
          "Electric Company",
          "Electric Company",
          "Electric Company",
          "Electric Company",
          "Electric Company",
          "Electric Company",
          "Electric Company",
          "Electric Company",
          "Electric Company",
          "Electric Company",
          "Electric Company",
          "Electric Company",
          "Electric Company",
          "Electric Company",
          "Electric Company",
          "Electric Company",
          "Electric Company",
          "Electric Company",
          "Electric Company",
          "Electric Company",
          "Electric Company",
          "Electric Company",
          "Electric Company",
          "Electric Company",
          "Electric Company",
          "Electric Company",
          "Electric Company",
          "Electric Company",
          "Electric Company",
          "Electric Company",
          "Electric Company",
          "Electric Company",
          "Electric Company",
          "Electric Company",
          "Electric Company",
          "Electric Company",
          "Electric Company",
          "Electric Company",
          "Electric Company",
          "Electric Company",
          "Electric Company",
          "Electric Company",
          "Electric Company",
          "Electric Company",
          "Electric Company",
          "Electric Company",
          "Electric Company",
          "Electric Company",
          "Electric Company",
          "Electric Company",
          "Electric Company",
          "Electric Company",
          "Electric Company",
          "Electric Company",
          "Electric Company",
          "Electric Company",
          "Electric Company",
          "Electric Company",
          "Electric Company",
          "Electric Company",
          "Electric Company",
          "Electric Company",
          "Electric Company",
          "Electric Company",
          "Electric Company",
          "Electric Company",
          "Electric Company",
          "Electric Company",
          "Electric Company",
          "Electric Company",
          "Electric Company",
          "Electric Company",
          "Electric Company",
          "Electric Company",
          "Electric Company",
          "Electric Company",
          "Electric Company",
          "Electric Company",
          "Electric Company",
          "Electric Company",
          "Electric Company",
          "Electric Company",
          "Electric Company",
          "Electric Company",
          "Electric Company",
          "Electric Company",
          "Electric Company",
          "Electric Company",
          "Electric Company",
          "Electric Company",
          "Electric Company",
          "Electric Company",
          "Electric Company",
          "Electric Company",
          "Electric Company",
          "Electric Company",
          "Electric Company",
          "Electric Company",
          "Electric Company",
          "Electric Company",
          "Electric Company",
          "Electric Company",
          "Electric Company",
          "Electric Company",
          "Electric Company",
          "Electric Company",
          "Electric Company",
          "Electric Company",
          "Electric Company",
          "Electric Company",
          "Electric Company",
          "Electric Company",
          "Electric Company",
          "Electric Company",
          "Electric Company",
          "Electric Company",
          "Electric Company",
          "Electric Company",
          "Electric Company",
          "Electric Company",
          "Electric Company",
          "Electric Company",
          "Electric Company",
          "Electric Company",
          "Electric Company",
          "Electric Company",
          "Electric Company",
          "Electric Company",
          "Electric Company",
          "Electric Company",
          "Electric Company",
          "Electric Company",
          "Electric Company",
          "Electric Company",
          "Electric Company",
          "Electric Company",
          "Electric Company",
          "Electric Company",
          "Electric Company",
          "Electric Company",
          "Electric Company",
          "Electric Company",
          "Electric Company",
          "Electric Company",
          "Electric Company",
          "Electric Company",
          "Electric Company",
          "Electric Company",
          "Electric Company",
          "Electric Company",
          "Electric Company",
          "Electric Company",
          "Electric Company",
          "Electric Company",
          "Electric Company",
          "Electric Company",
          "Electric Company",
          "Electric Company",
          "Electric Company",
          "Electric Company",
          "Electric Company",
          "Electric Company",
          "Electric Company",
          "Electric Company",
          "Electric Company",
          "Electric Company",
          "Electric Company",
          "Electric Company",
          "Electric Company",
          "Electric Company",
          "Electric Company",
          "Electric Company",
          "Electric Company",
          "Electric Company",
          "Electric Company",
          "Electric Company",
          "Electric Company",
          "Electric Company",
          "Electric Company",
          "Electric Company",
          "Electric Company",
          "Electric Company",
          "Electric Company",
          "Electric Company",
          "Electric Company",
          "Electric Company",
          "Electric Company",
          "Electric Company",
          "Electric Company",
          "Electric Company",
          "Electric Company",
          "Electric Company",
          "Electric Company",
          "Electric Company",
          "Electric Company",
          "Electric Company",
          "Electric Company",
          "Electric Company",
          "Electric Company",
          "Electric Company",
          "Electric Company",
          "Electric Company",
          "Electric Company",
          "Electric Company",
          "Electric Company",
          "Electric Company",
          "Electric Company",
          "Electric Company",
          "Electric Company",
          "Electric Company",
          "Electric Company",
          "Electric Company",
          "Electric Company",
          "Electric Company",
          "Electric Company",
          "Electric Company",
          "Electric Company",
          "Electric Company",
          "Electric Company",
          "Electric Company",
          "Electric Company",
          "Electric Company",
          "Electric Company",
          "Electric Company",
          "Electric Company",
          "Electric Company",
          "Electric Company",
          "Electric Company",
          "Electric Company",
          "Electric Company",
          "Electric Company",
          "Electric Company",
          "Electric Company",
          "Electric Company",
          "Electric Company",
          "Electric Company",
          "Electric Company",
          "Electric Company",
          "Electric Company",
          "Electric Company",
          "Electric Company",
          "Electric Company",
          "Electric Company",
          "Electric Company",
          "Electric Company",
          "Electric Company",
          "Electric Company",
          "Electric Company",
          "Electric Company",
          "Electric Company",
          "Electric Company",
          "Electric Company",
          "Electric Company",
          "Electric Company",
          "Electric Company",
          "Electric Company",
          "Electric Company",
          "Electric Company",
          "Electric Company",
          "Electric Company",
          "Electric Company",
          "Electric Company",
          "Electric Company",
          "Electric Company",
          "Electric Company",
          "Electric Company",
          "Electric Company",
          "Electric Company",
          "Electric Company",
          "Electric Company",
          "Electric Company",
          "Electric Company",
          "Electric Company",
          "Electric Company",
          "Electric Company",
          "Electric Company",
          "Electric Company",
          "Electric Company",
          "Electric Company",
          "Electric Company",
          "Electric Company",
          "Electric Company",
          "Electric Company",
          "Electric Company",
          "Electric Company",
          "Electric Company",
          "Electric Company",
          "Electric Company",
          "Electric Company",
          "Electric Company",
          "Electric Company",
          "Electric Company",
          "Electric Company",
          "Electric Company",
          "Electric Company",
          "Electric Company",
          "Electric Company",
          "Electric Company",
          "Electric Company",
          "Electric Company",
          "Electric Company",
          "Electric Company",
          "Electric Company",
          "Electric Company",
          "Electric Company",
          "Electric Company",
          "Electric Company",
          "Electric Company",
          "Electric Company",
          "Electric Company",
          "Electric Company",
          "Electric Company",
          "Electric Company",
          "Electric Company",
          "Electric Company",
          "Electric Company",
          "Electric Company",
          "Electric Company",
          "Electric Company",
          "Electric Company",
          "Electric Company",
          "Electric Company",
          "Electric Company",
          "Electric Company",
          "Electric Company",
          "Electric Company",
          "Electric Company",
          "Electric Company",
          "Electric Company",
          "Electric Company",
          "Electric Company",
          "Electric Company",
          "Electric Company",
          "Electric Company",
          "Electric Company",
          "Electric Company",
          "Electric Company",
          "Electric Company",
          "Electric Company",
          "Electric Company",
          "Electric Company",
          "Electric Company",
          "Electric Company",
          "Electric Company",
          "Electric Company",
          "Electric Company",
          "Electric Company",
          "Electric Company",
          "Electric Company",
          "Electric Company",
          "Electric Company",
          "Electric Company",
          "Electric Company",
          "Electric Company",
          "Electric Company",
          "Electric Company",
          "Electric Company",
          "Electric Company",
          "Electric Company",
          "Electric Company",
          "Electric Company",
          "Electric Company",
          "Electric Company",
          "Electric Company",
          "Electric Company",
          "Electric Company",
          "Electric Company",
          "Electric Company",
          "Electric Company",
          "Electric Company",
          "Electric Company",
          "Electric Company",
          "Electric Company",
          "Electric Company",
          "Electric Company",
          "Electric Company",
          "Electric Company",
          "Electric Company",
          "Electric Company",
          "Electric Company",
          "Electric Company",
          "Electric Company",
          "Electric Company",
          "Electric Company",
          "Electric Company",
          "Electric Company",
          "Electric Company",
          "Electric Company",
          "Electric Company",
          "Electric Company",
          "Electric Company",
          "Electric Company",
          "Electric Company",
          "Electric Company",
          "Electric Company",
          "Electric Company",
          "Electric Company",
          "Electric Company",
          "Electric Company",
          "Electric Company",
          "Electric Company",
          "Electric Company",
          "Electric Company",
          "Electric Company",
          "Electric Company",
          "Electric Company",
          "Electric Company",
          "Electric Company",
          "Electric Company",
          "Electric Company",
          "Electric Company",
          "Electric Company",
          "Electric Company",
          "Electric Company",
          "Electric Company",
          "Electric Company",
          "Electric Company",
          "Electric Company",
          "Electric Company",
          "Electric Company",
          "Electric Company",
          "Electric Company",
          "Electric Company",
          "Electric Company",
          "Electric Company",
          "Electric Company",
          "Electric Company",
          "Electric Company",
          "Electric Company",
          "Electric Company",
          "Electric Company",
          "Electric Company",
          "Electric Company",
          "Electric Company",
          "Electric Company",
          "Electric Company",
          "Electric Company",
          "Electric Company",
          "Electric Company",
          "Electric Company",
          "Electric Company",
          "Electric Company",
          "Electric Company",
          "Electric Company",
          "Electric Company",
          "Electric Company",
          "Electric Company",
          "Electric Company",
          "Electric Company",
          "Electric Company",
          "Electric Company",
          "Electric Company",
          "Electric Company",
          "Electric Company",
          "Electric Company",
          "Electric Company",
          "Electric Company",
          "Electric Company",
          "Electric Company",
          "Electric Company",
          "Electric Company",
          "Electric Company",
          "Electric Company",
          "Electric Company",
          "Electric Company",
          "Electric Company",
          "Electric Company",
          "Electric Company",
          "Electric Company",
          "Electric Company",
          "Electric Company",
          "Electric Company",
          "Electric Company",
          "Electric Company",
          "Electric Company",
          "Electric Company",
          "Electric Company",
          "Electric Company",
          "Electric Company",
          "Electric Company",
          "Electric Company",
          "Electric Company",
          "Electric Company",
          "Electric Company",
          "Electric Company",
          "Electric Company",
          "Electric Company",
          "Electric Company",
          "Electric Company",
          "Electric Company",
          "Electric Company",
          "Electric Company",
          "Electric Company",
          "Electric Company",
          "Electric Company",
          "Electric Company",
          "Electric Company",
          "Electric Company",
          "Electric Company",
          "Electric Company",
          "Electric Company",
          "Electric Company",
          "Electric Company",
          "Electric Company",
          "Electric Company",
          "Electric Company",
          "Electric Company",
          "Electric Company",
          "Electric Company",
          "Electric Company",
          "Electric Company",
          "Electric Company",
          "Electric Company",
          "Electric Company",
          "Electric Company",
          "Electric Company",
          "Electric Company",
          "Electric Company",
          "Electric Company",
          "Electric Company",
          "Electric Company",
          "Electric Company",
          "Electric Company",
          "Electric Company",
          "Electric Company",
          "Electric Company",
          "Electric Company",
          "Electric Company",
          "Electric Company",
          "Electric Company",
          "Electric Company",
          "Electric Company",
          "Electric Company",
          "Electric Company",
          "Electric Company",
          "Electric Company",
          "Electric Company",
          "Electric Company",
          "Electric Company",
          "Electric Company",
          "Electric Company",
          "Electric Company",
          "Electric Company",
          "Electric Company",
          "Electric Company",
          "Electric Company",
          "Electric Company",
          "Electric Company",
          "Electric Company",
          "Electric Company",
          "Electric Company",
          "Electric Company",
          "Electric Company",
          "Electric Company",
          "Electric Company",
          "Electric Company",
          "Electric Company",
          "Electric Company",
          "Electric Company",
          "Electric Company",
          "Electric Company",
          "Electric Company",
          "Electric Company",
          "Electric Company",
          "Electric Company",
          "Electric Company",
          "Electric Company",
          "Electric Company",
          "Electric Company",
          "Electric Company",
          "Electric Company",
          "Electric Company",
          "Electric Company",
          "Electric Company",
          "Electric Company",
          "Electric Company",
          "Electric Company",
          "Electric Company",
          "Electric Company",
          "Electric Company",
          "Electric Company",
          "Electric Company",
          "Electric Company",
          "Electric Company",
          "Electric Company",
          "Electric Company",
          "Electric Company",
          "Electric Company",
          "Electric Company",
          "Electric Company",
          "Electric Company",
          "Electric Company",
          "Electric Company",
          "Electric Company",
          "Electric Company",
          "Electric Company",
          "Electric Company",
          "Electric Company",
          "Electric Company",
          "Electric Company",
          "Electric Company",
          "Electric Company",
          "Electric Company",
          "Electric Company",
          "Electric Company",
          "Electric Company",
          "Electric Company",
          "Electric Company",
          "Electric Company",
          "Electric Company",
          "Electric Company",
          "Electric Company",
          "Electric Company",
          "Electric Company",
          "Electric Company",
          "Electric Company",
          "Electric Company",
          "Electric Company",
          "Electric Company",
          "Electric Company",
          "Electric Company",
          "Electric Company",
          "Electric Company",
          "Electric Company",
          "Electric Company",
          "Electric Company",
          "Electric Company",
          "Electric Company",
          "Electric Company",
          "Electric Company",
          "Electric Company",
          "Electric Company",
          "Electric Company",
          "Electric Company",
          "Electric Company",
          "Electric Company",
          "Electric Company",
          "Electric Company",
          "Electric Company",
          "Electric Company",
          "Electric Company",
          "Electric Company",
          "Electric Company",
          "Electric Company",
          "Electric Company",
          "Electric Company",
          "Electric Company",
          "Electric Company",
          "Electric Company",
          "Electric Company",
          "Electric Company",
          "Electric Company",
          "Electric Company",
          "Electric Company",
          "Electric Company",
          "Electric Company",
          "Electric Company",
          "Electric Company",
          "Electric Company",
          "Electric Company",
          "Electric Company",
          "Electric Company",
          "Electric Company",
          "Electric Company",
          "Electric Company",
          "Electric Company",
          "Electric Company",
          "Electric Company",
          "Electric Company",
          "Electric Company",
          "Electric Company",
          "Electric Company",
          "Electric Company",
          "Electric Company",
          "Electric Company",
          "Electric Company",
          "Electric Company",
          "Electric Company",
          "Electric Company",
          "Electric Company",
          "Electric Company",
          "Electric Company",
          "Electric Company",
          "Electric Company",
          "Electric Company",
          "Electric Company",
          "Electric Company",
          "Electric Company",
          "Electric Company",
          "Electric Company",
          "Electric Company",
          "Electric Company",
          "Electric Company",
          "Electric Company",
          "Electric Company",
          "Electric Company",
          "Electric Company",
          "Electric Company",
          "Electric Company",
          "Electric Company",
          "Electric Company",
          "Electric Company",
          "Electric Company",
          "Electric Company",
          "Electric Company",
          "Electric Company",
          "Electric Company",
          "Electric Company",
          "Electric Company",
          "Electric Company",
          "Electric Company",
          "Electric Company",
          "Electric Company",
          "Electric Company",
          "Electric Company",
          "Electric Company",
          "Electric Company",
          "Electric Company",
          "Electric Company",
          "Electric Company",
          "Electric Company",
          "Electric Company",
          "Electric Company",
          "Electric Company",
          "Electric Company",
          "Electric Company",
          "Electric Company",
          "Electric Company",
          "Electric Company",
          "Electric Company",
          "Electric Company",
          "Electric Company",
          "Electric Company",
          "Electric Company",
          "Electric Company",
          "Electric Company",
          "Electric Company",
          "Electric Company",
          "Electric Company",
          "Electric Company",
          "Electric Company",
          "Electric Company",
          "Electric Company",
          "Electric Company",
          "Electric Company",
          "Electric Company",
          "Electric Company",
          "Electric Company",
          "Electric Company",
          "Electric Company",
          "Electric Company",
          "Electric Company",
          "Electric Company",
          "Electric Company",
          "Electric Company",
          "Electric Company",
          "Electric Company",
          "Electric Company",
          "Electric Company",
          "Electric Company",
          "Electric Company",
          "Electric Company",
          "Electric Company",
          "Electric Company",
          "Electric Company",
          "Electric Company",
          "Electric Company",
          "Electric Company",
          "Electric Company",
          "Electric Company",
          "Electric Company",
          "Electric Company",
          "Electric Company",
          "Electric Company",
          "Electric Company",
          "Electric Company",
          "Electric Company",
          "Electric Company",
          "Electric Company",
          "Electric Company",
          "Electric Company",
          "Electric Company",
          "Electric Company",
          "Electric Company",
          "Electric Company",
          "Electric Company",
          "Electric Company",
          "Electric Company",
          "Electric Company",
          "Electric Company",
          "Electric Company",
          "Electric Company",
          "Electric Company",
          "Electric Company",
          "Electric Company",
          "Electric Company",
          "Electric Company",
          "Electric Company",
          "Electric Company",
          "Electric Company",
          "Electric Company",
          "Electric Company",
          "Electric Company",
          "Electric Company",
          "Electric Company",
          "Electric Company",
          "Electric Company",
          "Electric Company",
          "Electric Company",
          "Electric Company",
          "Electric Company",
          "Electric Company",
          "Electric Company",
          "Electric Company",
          "Electric Company",
          "Electric Company",
          "Electric Company",
          "Electric Company",
          "Electric Company",
          "Electric Company",
          "Electric Company",
          "Electric Company",
          "Electric Company",
          "Electric Company",
          "Electric Company",
          "Electric Company",
          "Electric Company",
          "Electric Company",
          "Electric Company",
          "Electric Company",
          "Electric Company",
          "Electric Company",
          "Electric Company",
          "Electric Company",
          "Electric Company",
          "Electric Company",
          "Electric Company",
          "Electric Company",
          "Electric Company",
          "Electric Company",
          "Electric Company",
          "Electric Company",
          "Electric Company",
          "Electric Company",
          "Electric Company",
          "Electric Company",
          "Electric Company",
          "Electric Company",
          "Electric Company",
          "Electric Company",
          "Electric Company",
          "Electric Company",
          "Electric Company",
          "Electric Company",
          "Electric Company",
          "Electric Company",
          "Electric Company",
          "Electric Company",
          "Electric Company",
          "Electric Company",
          "Electric Company",
          "Electric Company",
          "Electric Company",
          "Electric Company",
          "Electric Company",
          "Electric Company",
          "Electric Company",
          "Electric Company",
          "Electric Company",
          "Electric Company",
          "Electric Company",
          "Electric Company",
          "Electric Company",
          "Electric Company",
          "Electric Company",
          "Electric Company",
          "Electric Company",
          "Electric Company",
          "Electric Company",
          "Electric Company",
          "Electric Company",
          "Electric Company",
          "Electric Company",
          "Electric Company",
          "Electric Company",
          "Electric Company",
          "Electric Company",
          "Electric Company",
          "Electric Company",
          "Electric Company",
          "Electric Company",
          "Electric Company",
          "Electric Company",
          "Electric Company",
          "Electric Company",
          "Electric Company",
          "Electric Company",
          "Electric Company",
          "Electric Company",
          "Electric Company",
          "Electric Company",
          "Electric Company",
          "Electric Company",
          "Electric Company",
          "Electric Company",
          "Electric Company",
          "Electric Company",
          "Electric Company",
          "Electric Company",
          "Electric Company"
         ],
         "x0": " ",
         "xaxis": "x",
         "y": [
          2.0419238710932857,
          2.0419238710932857,
          1.0209619355466428,
          2.0419238710932857,
          1.5314429033199641,
          2.0419238710932857,
          1.7866833872066248,
          2.552404838866607,
          2.552404838866607,
          2.0419238710932857,
          1.5314429033199641,
          1.5314429033199641,
          1.7866833872066248,
          1.7866833872066248,
          1.7866833872066248,
          2.2971643549799463,
          0.7657214516599821,
          2.552404838866607,
          1.7866833872066248,
          1.2762024194333035,
          2.552404838866607,
          1.5314429033199641,
          2.552404838866607,
          2.2971643549799463,
          2.2971643549799463,
          1.7866833872066248,
          1.7866833872066248,
          2.0419238710932857,
          2.0419238710932857,
          2.0419238710932857,
          1.2762024194333035,
          2.2971643549799463,
          2.0419238710932857,
          1.5314429033199641,
          1.5314429033199641,
          1.5314429033199641,
          1.7866833872066248,
          2.2971643549799463,
          1.5314429033199641,
          1.7866833872066248,
          2.2971643549799463,
          1.5314429033199641,
          2.2971643549799463,
          2.0419238710932857,
          2.0419238710932857,
          1.2762024194333035,
          2.0419238710932857,
          1.5314429033199641,
          2.8076453227532676,
          1.7866833872066248,
          1.7866833872066248,
          2.552404838866607,
          2.0419238710932857,
          2.0419238710932857,
          1.2762024194333035,
          0.5104809677733214,
          1.7866833872066248,
          0.5104809677733214,
          2.2971643549799463,
          1.2762024194333035,
          2.0419238710932857,
          2.2971643549799463,
          2.552404838866607,
          3.0628858066399283,
          1.2762024194333035,
          1.7866833872066248,
          1.7866833872066248,
          1.7866833872066248,
          1.7866833872066248,
          1.2762024194333035,
          1.7866833872066248,
          1.5314429033199641,
          1.5314429033199641,
          2.2971643549799463,
          2.0419238710932857,
          1.5314429033199641,
          0.7657214516599821,
          2.552404838866607,
          2.0419238710932857,
          2.8076453227532676,
          1.0209619355466428,
          1.7866833872066248,
          1.0209619355466428,
          1.2762024194333035,
          1.7866833872066248,
          2.0419238710932857,
          1.7866833872066248,
          2.552404838866607,
          1.2762024194333035,
          2.552404838866607,
          0.7657214516599821,
          1.7866833872066248,
          0.5104809677733214,
          2.552404838866607,
          1.5314429033199641,
          2.552404838866607,
          1.2762024194333035,
          1.5314429033199641,
          1.2762024194333035,
          1.7866833872066248,
          0.5104809677733214,
          2.2971643549799463,
          1.7866833872066248,
          1.0209619355466428,
          1.2762024194333035,
          1.7866833872066248,
          0.7657214516599821,
          1.2762024194333035,
          1.7866833872066248,
          1.2762024194333035,
          1.7866833872066248,
          1.7866833872066248,
          2.552404838866607,
          1.5314429033199641,
          2.2971643549799463,
          1.5314429033199641,
          1.7866833872066248,
          1.0209619355466428,
          1.0209619355466428,
          2.552404838866607,
          1.7866833872066248,
          2.0419238710932857,
          0.7657214516599821,
          2.0419238710932857,
          1.5314429033199641,
          2.552404838866607,
          1.2762024194333035,
          1.2762024194333035,
          1.7866833872066248,
          2.552404838866607,
          1.5314429033199641,
          2.2971643549799463,
          0.5104809677733214,
          1.0209619355466428,
          2.0419238710932857,
          1.7866833872066248,
          2.552404838866607,
          0.7657214516599821,
          1.7866833872066248,
          2.2971643549799463,
          1.7866833872066248,
          2.8076453227532676,
          1.5314429033199641,
          2.0419238710932857,
          1.7866833872066248,
          1.2762024194333035,
          2.2971643549799463,
          1.2762024194333035,
          2.8076453227532676,
          2.552404838866607,
          1.5314429033199641,
          2.2971643549799463,
          1.7866833872066248,
          2.552404838866607,
          1.7866833872066248,
          2.2971643549799463,
          1.7866833872066248,
          3.0628858066399283,
          0.7657214516599821,
          1.0209619355466428,
          2.2971643549799463,
          0.7657214516599821,
          1.7866833872066248,
          1.7866833872066248,
          2.552404838866607,
          2.0419238710932857,
          1.5314429033199641,
          1.2762024194333035,
          2.2971643549799463,
          2.8076453227532676,
          1.5314429033199641,
          0.5104809677733214,
          1.0209619355466428,
          1.7866833872066248,
          1.7866833872066248,
          3.0628858066399283,
          1.7866833872066248,
          2.2971643549799463,
          1.2762024194333035,
          1.5314429033199641,
          1.5314429033199641,
          1.7866833872066248,
          1.5314429033199641,
          1.5314429033199641,
          0.7657214516599821,
          1.0209619355466428,
          1.5314429033199641,
          1.2762024194333035,
          0.5104809677733214,
          2.2971643549799463,
          1.7866833872066248,
          2.8076453227532676,
          1.7866833872066248,
          1.2762024194333035,
          2.0419238710932857,
          2.8076453227532676,
          0.7657214516599821,
          0.7657214516599821,
          2.552404838866607,
          3.0628858066399283,
          3.0628858066399283,
          1.0209619355466428,
          1.2762024194333035,
          1.2762024194333035,
          2.2971643549799463,
          1.0209619355466428,
          2.2971643549799463,
          0.7657214516599821,
          0.5104809677733214,
          2.0419238710932857,
          3.0628858066399283,
          1.0209619355466428,
          1.0209619355466428,
          3.0628858066399283,
          0.7657214516599821,
          3.0628858066399283,
          2.552404838866607,
          1.7866833872066248,
          2.8076453227532676,
          1.0209619355466428,
          1.0209619355466428,
          1.5314429033199641,
          2.0419238710932857,
          1.5314429033199641,
          1.2762024194333035,
          1.7866833872066248,
          1.0209619355466428,
          2.552404838866607,
          1.7866833872066248,
          2.2971643549799463,
          2.8076453227532676,
          1.5314429033199641,
          1.7866833872066248,
          1.0209619355466428,
          1.0209619355466428,
          2.552404838866607,
          1.7866833872066248,
          1.5314429033199641,
          2.0419238710932857,
          1.0209619355466428,
          1.0209619355466428,
          2.552404838866607,
          2.0419238710932857,
          3.0628858066399283,
          2.552404838866607,
          2.8076453227532676,
          0.7657214516599821,
          2.8076453227532676,
          1.5314429033199641,
          2.8076453227532676,
          2.8076453227532676,
          1.2762024194333035,
          2.552404838866607,
          1.2762024194333035,
          2.0419238710932857,
          1.7866833872066248,
          2.2971643549799463,
          2.552404838866607,
          2.2971643549799463,
          1.0209619355466428,
          2.0419238710932857,
          1.7866833872066248,
          1.5314429033199641,
          2.2971643549799463,
          0.7657214516599821,
          1.2762024194333035,
          2.552404838866607,
          2.552404838866607,
          1.2762024194333035,
          2.2971643549799463,
          3.0628858066399283,
          1.5314429033199641,
          1.2762024194333035,
          0.7657214516599821,
          1.0209619355466428,
          1.5314429033199641,
          1.5314429033199641,
          2.552404838866607,
          0.7657214516599821,
          2.552404838866607,
          0.7657214516599821,
          2.2971643549799463,
          2.8076453227532676,
          1.2762024194333035,
          1.7866833872066248,
          1.2762024194333035,
          2.2971643549799463,
          1.0209619355466428,
          1.2762024194333035,
          2.8076453227532676,
          2.2971643549799463,
          2.2971643549799463,
          2.8076453227532676,
          2.8076453227532676,
          1.7866833872066248,
          2.552404838866607,
          1.0209619355466428,
          1.5314429033199641,
          1.2762024194333035,
          2.552404838866607,
          2.0419238710932857,
          2.552404838866607,
          2.552404838866607,
          2.0419238710932857,
          2.2971643549799463,
          1.0209619355466428,
          2.0419238710932857,
          2.2971643549799463,
          0.7657214516599821,
          2.552404838866607,
          1.2762024194333035,
          1.2762024194333035,
          1.5314429033199641,
          0.5104809677733214,
          1.7866833872066248,
          1.7866833872066248,
          1.5314429033199641,
          1.0209619355466428,
          1.2762024194333035,
          2.8076453227532676,
          1.7866833872066248,
          0.5104809677733214,
          0.7657214516599821,
          2.2971643549799463,
          2.0419238710932857,
          1.5314429033199641,
          1.5314429033199641,
          1.7866833872066248,
          1.2762024194333035,
          1.2762024194333035,
          1.2762024194333035,
          1.2762024194333035,
          1.0209619355466428,
          0.5104809677733214,
          2.2971643549799463,
          3.0628858066399283,
          2.0419238710932857,
          1.7866833872066248,
          1.7866833872066248,
          3.0628858066399283,
          1.7866833872066248,
          1.2762024194333035,
          1.0209619355466428,
          1.2762024194333035,
          1.0209619355466428,
          1.5314429033199641,
          1.2762024194333035,
          2.0419238710932857,
          3.0628858066399283,
          2.2971643549799463,
          1.5314429033199641,
          2.2971643549799463,
          2.2971643549799463,
          2.8076453227532676,
          1.7866833872066248,
          1.5314429033199641,
          1.5314429033199641,
          2.0419238710932857,
          1.0209619355466428,
          2.552404838866607,
          1.2762024194333035,
          2.2971643549799463,
          2.8076453227532676,
          1.5314429033199641,
          2.0419238710932857,
          0.7657214516599821,
          1.7866833872066248,
          1.5314429033199641,
          1.2762024194333035,
          2.552404838866607,
          1.5314429033199641,
          1.5314429033199641,
          1.7866833872066248,
          1.7866833872066248,
          1.5314429033199641,
          2.8076453227532676,
          1.2762024194333035,
          2.8076453227532676,
          1.5314429033199641,
          1.2762024194333035,
          1.0209619355466428,
          2.0419238710932857,
          3.0628858066399283,
          0.7657214516599821,
          1.7866833872066248,
          1.2762024194333035,
          1.0209619355466428,
          1.5314429033199641,
          2.0419238710932857,
          1.5314429033199641,
          1.5314429033199641,
          1.5314429033199641,
          2.2971643549799463,
          1.5314429033199641,
          2.2971643549799463,
          2.8076453227532676,
          1.0209619355466428,
          1.2762024194333035,
          1.5314429033199641,
          2.8076453227532676,
          1.7866833872066248,
          1.5314429033199641,
          1.7866833872066248,
          2.0419238710932857,
          2.2971643549799463,
          1.0209619355466428,
          1.7866833872066248,
          1.7866833872066248,
          1.5314429033199641,
          1.5314429033199641,
          1.2762024194333035,
          1.7866833872066248,
          1.5314429033199641,
          1.7866833872066248,
          0.5104809677733214,
          1.7866833872066248,
          3.0628858066399283,
          2.2971643549799463,
          1.0209619355466428,
          2.0419238710932857,
          0.7657214516599821,
          2.0419238710932857,
          2.0419238710932857,
          1.5314429033199641,
          1.7866833872066248,
          1.7866833872066248,
          1.7866833872066248,
          1.5314429033199641,
          2.0419238710932857,
          1.2762024194333035,
          1.5314429033199641,
          3.0628858066399283,
          1.7866833872066248,
          0.7657214516599821,
          1.5314429033199641,
          1.5314429033199641,
          1.7866833872066248,
          1.0209619355466428,
          1.7866833872066248,
          2.8076453227532676,
          1.7866833872066248,
          1.0209619355466428,
          0.5104809677733214,
          1.7866833872066248,
          3.0628858066399283,
          1.0209619355466428,
          1.7866833872066248,
          1.7866833872066248,
          1.5314429033199641,
          1.5314429033199641,
          1.5314429033199641,
          1.0209619355466428,
          1.0209619355466428,
          1.2762024194333035,
          2.2971643549799463,
          1.2762024194333035,
          1.5314429033199641,
          1.2762024194333035,
          2.2971643549799463,
          2.552404838866607,
          1.2762024194333035,
          1.5314429033199641,
          1.7866833872066248,
          1.7866833872066248,
          3.0628858066399283,
          1.5314429033199641,
          1.7866833872066248,
          2.552404838866607,
          2.0419238710932857,
          1.5314429033199641,
          1.7866833872066248,
          2.552404838866607,
          2.8076453227532676,
          2.552404838866607,
          1.7866833872066248,
          2.0419238710932857,
          1.0209619355466428,
          1.0209619355466428,
          0.7657214516599821,
          2.8076453227532676,
          1.0209619355466428,
          1.7866833872066248,
          1.7866833872066248,
          1.5314429033199641,
          2.0419238710932857,
          2.0419238710932857,
          0.7657214516599821,
          1.5314429033199641,
          1.2762024194333035,
          1.7866833872066248,
          2.0419238710932857,
          1.0209619355466428,
          3.0628858066399283,
          2.8076453227532676,
          1.5314429033199641,
          2.552404838866607,
          1.7866833872066248,
          2.0419238710932857,
          3.0628858066399283,
          1.5314429033199641,
          2.2971643549799463,
          1.7866833872066248,
          2.2971643549799463,
          2.0419238710932857,
          2.0419238710932857,
          2.552404838866607,
          2.0419238710932857,
          2.8076453227532676,
          2.0419238710932857,
          1.7866833872066248,
          1.7866833872066248,
          2.8076453227532676,
          1.7866833872066248,
          0.7657214516599821,
          1.0209619355466428,
          1.2762024194333035,
          2.2971643549799463,
          2.552404838866607,
          1.5314429033199641,
          1.7866833872066248,
          0.7657214516599821,
          2.0419238710932857,
          1.7866833872066248,
          1.5314429033199641,
          1.2762024194333035,
          2.552404838866607,
          1.2762024194333035,
          1.5314429033199641,
          0.5104809677733214,
          2.8076453227532676,
          1.7866833872066248,
          1.2762024194333035,
          2.552404838866607,
          2.0419238710932857,
          1.0209619355466428,
          2.2971643549799463,
          1.7866833872066248,
          2.552404838866607,
          2.8076453227532676,
          0.7657214516599821,
          1.0209619355466428,
          1.7866833872066248,
          2.0419238710932857,
          1.5314429033199641,
          1.5314429033199641,
          1.0209619355466428,
          3.0628858066399283,
          3.0628858066399283,
          0.7657214516599821,
          1.7866833872066248,
          2.0419238710932857,
          2.552404838866607,
          2.0419238710932857,
          2.0419238710932857,
          0.7657214516599821,
          1.7866833872066248,
          1.5314429033199641,
          2.2971643549799463,
          2.2971643549799463,
          0.7657214516599821,
          3.0628858066399283,
          1.5314429033199641,
          2.8076453227532676,
          1.5314429033199641,
          1.5314429033199641,
          1.5314429033199641,
          2.0419238710932857,
          2.2971643549799463,
          2.552404838866607,
          2.8076453227532676,
          3.0628858066399283,
          1.7866833872066248,
          2.552404838866607,
          3.0628858066399283,
          1.5314429033199641,
          1.2762024194333035,
          1.5314429033199641,
          1.2762024194333035,
          2.8076453227532676,
          2.8076453227532676,
          1.7866833872066248,
          2.552404838866607,
          2.552404838866607,
          0.7657214516599821,
          2.0419238710932857,
          1.2762024194333035,
          1.2762024194333035,
          2.2971643549799463,
          1.5314429033199641,
          1.2762024194333035,
          1.7866833872066248,
          0.5104809677733214,
          1.5314429033199641,
          2.2971643549799463,
          2.0419238710932857,
          2.552404838866607,
          1.2762024194333035,
          1.7866833872066248,
          1.5314429033199641,
          1.7866833872066248,
          1.2762024194333035,
          2.0419238710932857,
          2.552404838866607,
          2.2971643549799463,
          1.5314429033199641,
          0.5104809677733214,
          2.0419238710932857,
          1.5314429033199641,
          0.7657214516599821,
          1.5314429033199641,
          2.552404838866607,
          1.7866833872066248,
          2.8076453227532676,
          2.552404838866607,
          1.0209619355466428,
          1.7866833872066248,
          2.0419238710932857,
          2.0419238710932857,
          1.7866833872066248,
          2.552404838866607,
          1.7866833872066248,
          2.0419238710932857,
          1.7866833872066248,
          1.2762024194333035,
          2.0419238710932857,
          0.5104809677733214,
          1.2762024194333035,
          2.8076453227532676,
          1.7866833872066248,
          2.2971643549799463,
          0.5104809677733214,
          1.5314429033199641,
          1.2762024194333035,
          1.7866833872066248,
          1.7866833872066248,
          1.5314429033199641,
          1.7866833872066248,
          1.5314429033199641,
          0.7657214516599821,
          2.2971643549799463,
          2.8076453227532676,
          1.7866833872066248,
          1.7866833872066248,
          2.2971643549799463,
          1.5314429033199641,
          3.0628858066399283,
          2.0419238710932857,
          1.7866833872066248,
          1.5314429033199641,
          1.7866833872066248,
          1.7866833872066248,
          0.7657214516599821,
          1.7866833872066248,
          1.5314429033199641,
          1.7866833872066248,
          2.2971643549799463,
          1.7866833872066248,
          1.7866833872066248,
          1.7866833872066248,
          1.7866833872066248,
          2.2971643549799463,
          1.0209619355466428,
          2.552404838866607,
          1.7866833872066248,
          1.7866833872066248,
          1.0209619355466428,
          2.2971643549799463,
          1.0209619355466428,
          1.5314429033199641,
          1.0209619355466428,
          2.2971643549799463,
          1.5314429033199641,
          1.2762024194333035,
          2.0419238710932857,
          2.0419238710932857,
          0.7657214516599821,
          2.552404838866607,
          1.7866833872066248,
          2.2971643549799463,
          1.5314429033199641,
          2.0419238710932857,
          2.0419238710932857,
          2.2971643549799463,
          2.2971643549799463,
          1.7866833872066248,
          0.7657214516599821,
          2.2971643549799463,
          1.5314429033199641,
          3.0628858066399283,
          1.7866833872066248,
          2.0419238710932857,
          1.7866833872066248,
          1.7866833872066248,
          1.5314429033199641,
          2.0419238710932857,
          1.5314429033199641,
          1.7866833872066248,
          1.0209619355466428,
          1.7866833872066248,
          1.7866833872066248,
          1.0209619355466428,
          1.7866833872066248,
          2.0419238710932857,
          2.2971643549799463,
          1.2762024194333035,
          2.0419238710932857,
          3.0628858066399283,
          1.5314429033199641,
          2.552404838866607,
          1.2762024194333035,
          0.5104809677733214,
          1.7866833872066248,
          2.2971643549799463,
          2.2971643549799463,
          2.2971643549799463,
          0.5104809677733214,
          1.5314429033199641,
          0.7657214516599821,
          1.5314429033199641,
          1.2762024194333035,
          2.2971643549799463,
          1.7866833872066248,
          0.7657214516599821,
          2.552404838866607,
          2.2971643549799463,
          1.5314429033199641,
          2.0419238710932857,
          0.5104809677733214,
          2.0419238710932857,
          1.5314429033199641,
          1.5314429033199641,
          2.0419238710932857,
          2.8076453227532676,
          0.7657214516599821,
          1.2762024194333035,
          2.0419238710932857,
          1.2762024194333035,
          2.552404838866607,
          1.5314429033199641,
          1.0209619355466428,
          2.552404838866607,
          0.5104809677733214,
          0.5104809677733214,
          1.2762024194333035,
          2.8076453227532676,
          1.2762024194333035,
          1.0209619355466428,
          1.2762024194333035,
          2.0419238710932857,
          1.2762024194333035,
          1.2762024194333035,
          2.552404838866607,
          1.2762024194333035,
          1.2762024194333035,
          0.7657214516599821,
          2.8076453227532676,
          2.2971643549799463,
          2.0419238710932857,
          0.7657214516599821,
          1.7866833872066248,
          0.5104809677733214,
          3.0628858066399283,
          1.0209619355466428,
          1.7866833872066248,
          1.7866833872066248,
          1.2762024194333035,
          1.2762024194333035,
          2.0419238710932857,
          2.0419238710932857,
          0.5104809677733214,
          1.0209619355466428,
          0.7657214516599821,
          2.2971643549799463,
          1.5314429033199641,
          1.7866833872066248,
          0.7657214516599821,
          1.5314429033199641,
          1.7866833872066248,
          1.7866833872066248,
          0.7657214516599821,
          1.5314429033199641,
          1.2762024194333035,
          1.5314429033199641,
          2.8076453227532676,
          2.0419238710932857,
          1.7866833872066248,
          2.552404838866607,
          0.7657214516599821,
          2.0419238710932857,
          1.2762024194333035,
          2.0419238710932857,
          1.0209619355466428,
          1.0209619355466428,
          0.7657214516599821,
          1.5314429033199641,
          1.5314429033199641,
          1.7866833872066248,
          2.0419238710932857,
          3.0628858066399283,
          0.7657214516599821,
          2.8076453227532676,
          2.8076453227532676,
          1.7866833872066248,
          1.7866833872066248,
          0.7657214516599821,
          2.2971643549799463,
          1.0209619355466428,
          1.2762024194333035,
          2.8076453227532676,
          2.0419238710932857,
          0.7657214516599821,
          1.7866833872066248,
          1.5314429033199641,
          1.2762024194333035,
          1.5314429033199641,
          1.2762024194333035,
          2.2971643549799463,
          1.5314429033199641,
          2.2971643549799463,
          2.2971643549799463,
          2.552404838866607,
          1.0209619355466428,
          1.2762024194333035,
          1.7866833872066248,
          0.5104809677733214,
          1.5314429033199641,
          2.8076453227532676,
          1.0209619355466428,
          1.7866833872066248,
          2.0419238710932857,
          3.0628858066399283,
          2.0419238710932857,
          2.0419238710932857,
          1.7866833872066248,
          0.7657214516599821,
          1.7866833872066248,
          2.8076453227532676,
          3.0628858066399283,
          2.2971643549799463,
          2.552404838866607,
          2.2971643549799463,
          2.0419238710932857,
          2.552404838866607,
          2.0419238710932857,
          2.8076453227532676,
          2.2971643549799463,
          2.0419238710932857,
          2.2971643549799463,
          2.2971643549799463,
          1.2762024194333035,
          1.7866833872066248,
          1.5314429033199641,
          2.0419238710932857,
          2.0419238710932857,
          2.8076453227532676,
          3.0628858066399283,
          1.5314429033199641,
          3.0628858066399283,
          1.0209619355466428,
          1.7866833872066248,
          0.7657214516599821,
          1.5314429033199641,
          1.5314429033199641,
          1.7866833872066248,
          1.7866833872066248,
          2.8076453227532676,
          2.0419238710932857,
          1.5314429033199641,
          1.5314429033199641,
          2.2971643549799463,
          1.0209619355466428,
          1.0209619355466428,
          0.7657214516599821,
          1.5314429033199641,
          0.5104809677733214,
          2.0419238710932857,
          1.7866833872066248,
          2.2971643549799463,
          2.2971643549799463,
          1.2762024194333035,
          2.0419238710932857,
          0.7657214516599821,
          2.0419238710932857,
          1.7866833872066248,
          1.2762024194333035,
          1.2762024194333035,
          2.0419238710932857,
          2.2971643549799463,
          2.0419238710932857,
          0.7657214516599821,
          1.2762024194333035,
          1.7866833872066248,
          1.2762024194333035,
          2.2971643549799463,
          1.5314429033199641,
          1.7866833872066248,
          1.2762024194333035,
          2.2971643549799463,
          2.8076453227532676,
          3.0628858066399283,
          2.0419238710932857,
          2.0419238710932857,
          2.8076453227532676,
          2.0419238710932857,
          1.5314429033199641,
          2.552404838866607,
          0.7657214516599821,
          1.7866833872066248,
          2.552404838866607,
          2.8076453227532676,
          2.0419238710932857,
          2.8076453227532676,
          1.7866833872066248,
          1.2762024194333035,
          1.2762024194333035,
          2.8076453227532676,
          0.5104809677733214,
          0.7657214516599821,
          1.0209619355466428,
          3.0628858066399283,
          2.0419238710932857,
          2.0419238710932857,
          1.7866833872066248,
          2.2971643549799463,
          1.7866833872066248,
          0.7657214516599821,
          1.7866833872066248,
          1.2762024194333035,
          1.2762024194333035,
          2.0419238710932857,
          2.2971643549799463,
          1.7866833872066248,
          2.2971643549799463,
          1.5314429033199641,
          1.0209619355466428,
          1.0209619355466428,
          1.2762024194333035,
          1.2762024194333035,
          2.0419238710932857,
          2.0419238710932857,
          1.0209619355466428,
          0.5104809677733214,
          1.2762024194333035,
          1.7866833872066248,
          0.7657214516599821,
          1.7866833872066248,
          3.0628858066399283,
          2.2971643549799463,
          1.7866833872066248,
          2.0419238710932857,
          1.7866833872066248,
          1.7866833872066248,
          2.0419238710932857,
          1.2762024194333035,
          2.2971643549799463,
          1.7866833872066248,
          1.7866833872066248,
          2.8076453227532676,
          2.0419238710932857,
          0.7657214516599821,
          1.2762024194333035,
          2.2971643549799463,
          1.2762024194333035,
          1.7866833872066248,
          1.5314429033199641,
          1.2762024194333035,
          2.552404838866607,
          2.8076453227532676,
          2.2971643549799463,
          2.0419238710932857,
          1.2762024194333035,
          1.2762024194333035,
          1.0209619355466428,
          2.2971643549799463,
          1.5314429033199641,
          1.2762024194333035,
          1.2762024194333035,
          1.5314429033199641,
          2.0419238710932857,
          0.7657214516599821,
          2.0419238710932857,
          1.7866833872066248,
          2.2971643549799463,
          1.7866833872066248,
          1.7866833872066248,
          2.552404838866607,
          1.2762024194333035,
          2.0419238710932857,
          2.2971643549799463,
          2.2971643549799463,
          1.7866833872066248,
          2.552404838866607,
          2.0419238710932857,
          1.7866833872066248,
          2.0419238710932857,
          0.7657214516599821,
          1.7866833872066248,
          2.8076453227532676,
          3.0628858066399283,
          2.0419238710932857,
          2.088193641149825,
          2.088193641149825,
          1.0440968205749126,
          2.088193641149825,
          1.566145230862369,
          2.088193641149825,
          1.827169436006097,
          2.6102420514372815,
          2.6102420514372815,
          2.088193641149825,
          1.566145230862369,
          1.566145230862369,
          1.827169436006097,
          1.827169436006097,
          1.827169436006097,
          2.3492178462935533,
          0.7830726154311844,
          2.6102420514372815,
          1.827169436006097,
          1.3051210257186407,
          2.6102420514372815,
          1.566145230862369,
          2.6102420514372815,
          2.3492178462935533,
          2.3492178462935533,
          1.827169436006097,
          1.827169436006097,
          2.088193641149825,
          2.088193641149825,
          2.088193641149825,
          1.3051210257186407,
          2.3492178462935533,
          2.088193641149825,
          1.566145230862369,
          1.566145230862369,
          1.566145230862369,
          1.827169436006097,
          2.3492178462935533,
          1.566145230862369,
          1.827169436006097,
          2.3492178462935533,
          1.566145230862369,
          2.3492178462935533,
          2.088193641149825,
          2.088193641149825,
          1.3051210257186407,
          2.088193641149825,
          1.566145230862369,
          2.8712662565810096,
          1.827169436006097,
          1.827169436006097,
          2.6102420514372815,
          2.088193641149825,
          2.088193641149825,
          1.3051210257186407,
          0.5220484102874563,
          1.827169436006097,
          0.5220484102874563,
          2.3492178462935533,
          1.3051210257186407,
          2.088193641149825,
          2.3492178462935533,
          2.6102420514372815,
          3.132290461724738,
          1.3051210257186407,
          1.827169436006097,
          1.827169436006097,
          1.827169436006097,
          1.827169436006097,
          1.3051210257186407,
          1.827169436006097,
          1.566145230862369,
          1.566145230862369,
          2.3492178462935533,
          2.088193641149825,
          1.566145230862369,
          0.7830726154311844,
          2.6102420514372815,
          2.088193641149825,
          2.8712662565810096,
          1.0440968205749126,
          1.827169436006097,
          1.0440968205749126,
          1.3051210257186407,
          1.827169436006097,
          2.088193641149825,
          1.827169436006097,
          2.6102420514372815,
          1.3051210257186407,
          2.6102420514372815,
          0.7830726154311844,
          1.827169436006097,
          0.5220484102874563,
          2.6102420514372815,
          1.566145230862369,
          2.6102420514372815,
          1.3051210257186407,
          1.566145230862369,
          1.3051210257186407,
          1.827169436006097,
          0.5220484102874563,
          2.3492178462935533,
          1.827169436006097,
          1.0440968205749126,
          1.3051210257186407,
          1.827169436006097,
          0.7830726154311844,
          1.3051210257186407,
          1.827169436006097,
          1.3051210257186407,
          1.827169436006097,
          1.827169436006097,
          2.6102420514372815,
          1.566145230862369,
          2.3492178462935533,
          1.566145230862369,
          1.827169436006097,
          1.0440968205749126,
          1.0440968205749126,
          2.6102420514372815,
          1.827169436006097,
          2.088193641149825,
          0.7830726154311844,
          2.088193641149825,
          1.566145230862369,
          2.6102420514372815,
          1.3051210257186407,
          1.3051210257186407,
          1.827169436006097,
          2.6102420514372815,
          1.566145230862369,
          2.3492178462935533,
          0.5220484102874563,
          1.0440968205749126,
          2.088193641149825,
          1.827169436006097,
          2.6102420514372815,
          0.7830726154311844,
          1.827169436006097,
          2.3492178462935533,
          1.827169436006097,
          2.8712662565810096,
          1.566145230862369,
          2.088193641149825,
          1.827169436006097,
          1.3051210257186407,
          2.3492178462935533,
          1.3051210257186407,
          2.8712662565810096,
          2.6102420514372815,
          1.566145230862369,
          2.3492178462935533,
          1.827169436006097,
          2.6102420514372815,
          1.827169436006097,
          2.3492178462935533,
          1.827169436006097,
          3.132290461724738,
          0.7830726154311844,
          1.0440968205749126,
          2.3492178462935533,
          0.7830726154311844,
          1.827169436006097,
          1.827169436006097,
          2.6102420514372815,
          2.088193641149825,
          1.566145230862369,
          1.3051210257186407,
          2.3492178462935533,
          2.8712662565810096,
          1.566145230862369,
          0.5220484102874563,
          1.0440968205749126,
          1.827169436006097,
          1.827169436006097,
          3.132290461724738,
          1.827169436006097,
          2.3492178462935533,
          1.3051210257186407,
          1.566145230862369,
          1.566145230862369,
          1.827169436006097,
          1.566145230862369,
          1.566145230862369,
          0.7830726154311844,
          1.0440968205749126,
          1.566145230862369,
          1.3051210257186407,
          0.5220484102874563,
          2.3492178462935533,
          1.827169436006097,
          2.8712662565810096,
          1.827169436006097,
          1.3051210257186407,
          2.088193641149825,
          2.8712662565810096,
          0.7830726154311844,
          0.7830726154311844,
          2.6102420514372815,
          3.132290461724738,
          3.132290461724738,
          1.0440968205749126,
          1.3051210257186407,
          1.3051210257186407,
          2.3492178462935533,
          1.0440968205749126,
          2.3492178462935533,
          0.7830726154311844,
          0.5220484102874563,
          2.088193641149825,
          3.132290461724738,
          1.0440968205749126,
          1.0440968205749126,
          3.132290461724738,
          0.7830726154311844,
          3.132290461724738,
          2.6102420514372815,
          1.827169436006097,
          2.8712662565810096,
          1.0440968205749126,
          1.0440968205749126,
          1.566145230862369,
          2.088193641149825,
          1.566145230862369,
          1.3051210257186407,
          1.827169436006097,
          1.0440968205749126,
          2.6102420514372815,
          1.827169436006097,
          2.3492178462935533,
          2.8712662565810096,
          1.566145230862369,
          1.827169436006097,
          1.0440968205749126,
          1.0440968205749126,
          2.6102420514372815,
          1.827169436006097,
          1.566145230862369,
          2.088193641149825,
          1.0440968205749126,
          1.0440968205749126,
          2.6102420514372815,
          2.088193641149825,
          3.132290461724738,
          2.6102420514372815,
          2.8712662565810096,
          0.7830726154311844,
          2.8712662565810096,
          1.566145230862369,
          2.8712662565810096,
          2.8712662565810096,
          1.3051210257186407,
          2.6102420514372815,
          1.3051210257186407,
          2.088193641149825,
          1.827169436006097,
          2.3492178462935533,
          2.6102420514372815,
          2.3492178462935533,
          1.0440968205749126,
          2.088193641149825,
          1.827169436006097,
          1.566145230862369,
          2.3492178462935533,
          0.7830726154311844,
          1.3051210257186407,
          2.6102420514372815,
          2.6102420514372815,
          1.3051210257186407,
          2.3492178462935533,
          3.132290461724738,
          1.566145230862369,
          1.3051210257186407,
          0.7830726154311844,
          1.0440968205749126,
          1.566145230862369,
          1.566145230862369,
          2.6102420514372815,
          0.7830726154311844,
          2.6102420514372815,
          0.7830726154311844,
          2.3492178462935533,
          2.8712662565810096,
          1.3051210257186407,
          1.827169436006097,
          1.3051210257186407,
          2.3492178462935533,
          1.0440968205749126,
          1.3051210257186407,
          2.8712662565810096,
          2.3492178462935533,
          2.3492178462935533,
          2.8712662565810096,
          2.8712662565810096,
          1.827169436006097,
          2.6102420514372815,
          1.0440968205749126,
          1.566145230862369,
          1.3051210257186407,
          2.6102420514372815,
          2.088193641149825,
          2.6102420514372815,
          2.6102420514372815,
          2.088193641149825,
          2.3492178462935533,
          1.0440968205749126,
          2.088193641149825,
          2.3492178462935533,
          0.7830726154311844,
          2.6102420514372815,
          1.3051210257186407,
          1.3051210257186407,
          1.566145230862369,
          0.5220484102874563,
          1.827169436006097,
          1.827169436006097,
          1.566145230862369,
          1.0440968205749126,
          1.3051210257186407,
          2.8712662565810096,
          1.827169436006097,
          0.5220484102874563,
          0.7830726154311844,
          2.3492178462935533,
          2.088193641149825,
          1.566145230862369,
          1.566145230862369,
          1.827169436006097,
          1.3051210257186407,
          1.3051210257186407,
          1.3051210257186407,
          1.3051210257186407,
          1.0440968205749126,
          0.5220484102874563,
          2.3492178462935533,
          3.132290461724738,
          2.088193641149825,
          1.827169436006097,
          1.827169436006097,
          3.132290461724738,
          1.827169436006097,
          1.3051210257186407,
          1.0440968205749126,
          1.3051210257186407,
          1.0440968205749126,
          1.566145230862369,
          1.3051210257186407,
          2.088193641149825,
          3.132290461724738,
          2.3492178462935533,
          1.566145230862369,
          2.3492178462935533,
          2.3492178462935533,
          2.8712662565810096,
          1.827169436006097,
          1.566145230862369,
          1.566145230862369,
          2.088193641149825,
          1.0440968205749126,
          2.6102420514372815,
          1.3051210257186407,
          2.3492178462935533,
          2.8712662565810096,
          1.566145230862369,
          2.088193641149825,
          0.7830726154311844,
          1.827169436006097,
          1.566145230862369,
          1.3051210257186407,
          2.6102420514372815,
          1.566145230862369,
          1.566145230862369,
          1.827169436006097,
          1.827169436006097,
          1.566145230862369,
          2.8712662565810096,
          1.3051210257186407,
          2.8712662565810096,
          1.566145230862369,
          1.3051210257186407,
          1.0440968205749126,
          2.088193641149825,
          3.132290461724738,
          0.7830726154311844,
          1.827169436006097,
          1.3051210257186407,
          1.0440968205749126,
          1.566145230862369,
          2.088193641149825,
          1.566145230862369,
          1.566145230862369,
          1.566145230862369,
          2.3492178462935533,
          1.566145230862369,
          2.3492178462935533,
          2.8712662565810096,
          1.0440968205749126,
          1.3051210257186407,
          1.566145230862369,
          2.8712662565810096,
          1.827169436006097,
          1.566145230862369,
          1.827169436006097,
          2.088193641149825,
          2.3492178462935533,
          1.0440968205749126,
          1.827169436006097,
          1.827169436006097,
          1.566145230862369,
          1.566145230862369,
          1.3051210257186407,
          1.827169436006097,
          1.566145230862369,
          1.827169436006097,
          0.5220484102874563,
          1.827169436006097,
          3.132290461724738,
          2.3492178462935533,
          1.0440968205749126,
          2.088193641149825,
          0.7830726154311844,
          2.088193641149825,
          2.088193641149825,
          1.566145230862369,
          1.827169436006097,
          1.827169436006097,
          1.827169436006097,
          1.566145230862369,
          2.088193641149825,
          1.3051210257186407,
          1.566145230862369,
          3.132290461724738,
          1.827169436006097,
          0.7830726154311844,
          1.566145230862369,
          1.566145230862369,
          1.827169436006097,
          1.0440968205749126,
          1.827169436006097,
          2.8712662565810096,
          1.827169436006097,
          1.0440968205749126,
          0.5220484102874563,
          1.827169436006097,
          3.132290461724738,
          1.0440968205749126,
          1.827169436006097,
          1.827169436006097,
          1.566145230862369,
          1.566145230862369,
          1.566145230862369,
          1.0440968205749126,
          1.0440968205749126,
          1.3051210257186407,
          2.3492178462935533,
          1.3051210257186407,
          1.566145230862369,
          1.3051210257186407,
          2.3492178462935533,
          2.6102420514372815,
          1.3051210257186407,
          1.566145230862369,
          1.827169436006097,
          1.827169436006097,
          3.132290461724738,
          1.566145230862369,
          1.827169436006097,
          2.6102420514372815,
          2.088193641149825,
          1.566145230862369,
          1.827169436006097,
          2.6102420514372815,
          2.8712662565810096,
          2.6102420514372815,
          1.827169436006097,
          2.088193641149825,
          1.0440968205749126,
          1.0440968205749126,
          0.7830726154311844,
          2.8712662565810096,
          1.0440968205749126,
          1.827169436006097,
          1.827169436006097,
          1.566145230862369,
          2.088193641149825,
          2.088193641149825,
          0.7830726154311844,
          1.566145230862369,
          1.3051210257186407,
          1.827169436006097,
          2.088193641149825,
          1.0440968205749126,
          3.132290461724738,
          2.8712662565810096,
          1.566145230862369,
          2.6102420514372815,
          1.827169436006097,
          2.088193641149825,
          3.132290461724738,
          1.566145230862369,
          2.3492178462935533,
          1.827169436006097,
          2.3492178462935533,
          2.088193641149825,
          2.088193641149825,
          2.6102420514372815,
          2.088193641149825,
          2.8712662565810096,
          2.088193641149825,
          1.827169436006097,
          1.827169436006097,
          2.8712662565810096,
          1.827169436006097,
          0.7830726154311844,
          1.0440968205749126,
          1.3051210257186407,
          2.3492178462935533,
          2.6102420514372815,
          1.566145230862369,
          1.827169436006097,
          0.7830726154311844,
          2.088193641149825,
          1.827169436006097,
          1.566145230862369,
          1.3051210257186407,
          2.6102420514372815,
          1.3051210257186407,
          1.566145230862369,
          0.5220484102874563,
          2.8712662565810096,
          1.827169436006097,
          1.3051210257186407,
          2.6102420514372815,
          2.088193641149825,
          1.0440968205749126,
          2.3492178462935533,
          1.827169436006097,
          2.6102420514372815,
          2.8712662565810096,
          0.7830726154311844,
          1.0440968205749126,
          1.827169436006097,
          2.088193641149825,
          1.566145230862369,
          1.566145230862369,
          1.0440968205749126,
          3.132290461724738,
          3.132290461724738,
          0.7830726154311844,
          1.827169436006097,
          2.088193641149825,
          2.6102420514372815,
          2.088193641149825,
          2.088193641149825,
          0.7830726154311844,
          1.827169436006097,
          1.566145230862369,
          2.3492178462935533,
          2.3492178462935533,
          0.7830726154311844,
          3.132290461724738,
          1.566145230862369,
          2.8712662565810096,
          1.566145230862369,
          1.566145230862369,
          1.566145230862369,
          2.088193641149825,
          2.3492178462935533,
          2.6102420514372815,
          2.8712662565810096,
          3.132290461724738,
          1.827169436006097,
          2.6102420514372815,
          3.132290461724738,
          1.566145230862369,
          1.3051210257186407,
          1.566145230862369,
          1.3051210257186407,
          2.8712662565810096,
          2.8712662565810096,
          1.827169436006097,
          2.6102420514372815,
          2.6102420514372815,
          0.7830726154311844,
          2.088193641149825,
          1.3051210257186407,
          1.3051210257186407,
          2.3492178462935533,
          1.566145230862369,
          1.3051210257186407,
          1.827169436006097,
          0.5220484102874563,
          1.566145230862369,
          2.3492178462935533,
          2.088193641149825,
          2.6102420514372815,
          1.3051210257186407,
          1.827169436006097,
          1.566145230862369,
          1.827169436006097,
          1.3051210257186407,
          2.088193641149825,
          2.6102420514372815,
          2.3492178462935533,
          1.566145230862369,
          0.5220484102874563,
          2.088193641149825,
          1.566145230862369,
          0.7830726154311844,
          1.566145230862369,
          2.6102420514372815,
          1.827169436006097,
          2.8712662565810096,
          2.6102420514372815,
          1.0440968205749126,
          1.827169436006097,
          2.088193641149825,
          2.088193641149825,
          1.827169436006097,
          2.6102420514372815,
          1.827169436006097,
          2.088193641149825,
          1.827169436006097,
          1.3051210257186407,
          2.088193641149825,
          0.5220484102874563,
          1.3051210257186407,
          2.8712662565810096,
          1.827169436006097,
          2.3492178462935533,
          0.5220484102874563,
          1.566145230862369,
          1.3051210257186407,
          1.827169436006097,
          1.827169436006097,
          1.566145230862369,
          1.827169436006097,
          1.566145230862369,
          0.7830726154311844,
          2.3492178462935533,
          2.8712662565810096,
          1.827169436006097,
          1.827169436006097,
          2.3492178462935533,
          1.566145230862369,
          3.132290461724738,
          2.088193641149825,
          1.827169436006097,
          1.566145230862369,
          1.827169436006097,
          1.827169436006097,
          0.7830726154311844,
          1.827169436006097,
          1.566145230862369,
          1.827169436006097,
          2.3492178462935533,
          1.827169436006097,
          1.827169436006097,
          1.827169436006097,
          1.827169436006097,
          2.3492178462935533,
          1.0440968205749126,
          2.6102420514372815,
          1.827169436006097,
          1.827169436006097,
          1.0440968205749126,
          2.3492178462935533,
          1.0440968205749126,
          1.566145230862369,
          1.0440968205749126,
          2.3492178462935533,
          1.566145230862369,
          1.3051210257186407,
          2.088193641149825,
          2.088193641149825,
          0.7830726154311844,
          2.6102420514372815,
          1.827169436006097,
          2.3492178462935533,
          1.566145230862369,
          2.088193641149825,
          2.088193641149825,
          2.3492178462935533,
          2.3492178462935533,
          1.827169436006097,
          0.7830726154311844,
          2.3492178462935533,
          1.566145230862369,
          3.132290461724738,
          1.827169436006097,
          2.088193641149825,
          1.827169436006097,
          1.827169436006097,
          1.566145230862369,
          2.088193641149825,
          1.566145230862369,
          1.827169436006097,
          1.0440968205749126,
          1.827169436006097,
          1.827169436006097,
          1.0440968205749126,
          1.827169436006097,
          2.088193641149825,
          2.3492178462935533,
          1.3051210257186407,
          2.088193641149825,
          3.132290461724738,
          1.566145230862369,
          2.6102420514372815,
          1.3051210257186407,
          0.5220484102874563,
          1.827169436006097,
          2.3492178462935533,
          2.3492178462935533,
          2.3492178462935533,
          0.5220484102874563,
          1.566145230862369,
          0.7830726154311844,
          1.566145230862369,
          1.3051210257186407,
          2.3492178462935533,
          1.827169436006097,
          0.7830726154311844,
          2.6102420514372815,
          2.3492178462935533,
          1.566145230862369,
          2.088193641149825,
          0.5220484102874563,
          2.088193641149825,
          1.566145230862369,
          1.566145230862369,
          2.088193641149825,
          2.8712662565810096,
          0.7830726154311844,
          1.3051210257186407,
          2.088193641149825,
          1.3051210257186407,
          2.6102420514372815,
          1.566145230862369,
          1.0440968205749126,
          2.6102420514372815,
          0.5220484102874563,
          0.5220484102874563,
          1.3051210257186407,
          2.8712662565810096,
          1.3051210257186407,
          1.0440968205749126,
          1.3051210257186407,
          2.088193641149825,
          1.3051210257186407,
          1.3051210257186407,
          2.6102420514372815,
          1.3051210257186407,
          1.3051210257186407,
          0.7830726154311844,
          2.8712662565810096,
          2.3492178462935533,
          2.088193641149825,
          0.7830726154311844,
          1.827169436006097,
          0.5220484102874563,
          3.132290461724738,
          1.0440968205749126,
          1.827169436006097,
          1.827169436006097,
          1.3051210257186407,
          1.3051210257186407,
          2.088193641149825,
          2.088193641149825,
          0.5220484102874563,
          1.0440968205749126,
          0.7830726154311844,
          2.3492178462935533,
          1.566145230862369,
          1.827169436006097,
          0.7830726154311844,
          1.566145230862369,
          1.827169436006097,
          1.827169436006097,
          0.7830726154311844,
          1.566145230862369,
          1.3051210257186407,
          1.566145230862369,
          2.8712662565810096,
          2.088193641149825,
          1.827169436006097,
          2.6102420514372815,
          0.7830726154311844,
          2.088193641149825,
          1.3051210257186407,
          2.088193641149825,
          1.0440968205749126,
          1.0440968205749126,
          0.7830726154311844,
          1.566145230862369,
          1.566145230862369,
          1.827169436006097,
          2.088193641149825,
          3.132290461724738,
          0.7830726154311844,
          2.8712662565810096,
          2.8712662565810096,
          1.827169436006097,
          1.827169436006097,
          0.7830726154311844,
          2.3492178462935533,
          1.0440968205749126,
          1.3051210257186407,
          2.8712662565810096,
          2.088193641149825,
          0.7830726154311844,
          1.827169436006097,
          1.566145230862369,
          1.3051210257186407,
          1.566145230862369,
          1.3051210257186407,
          2.3492178462935533,
          1.566145230862369,
          2.3492178462935533,
          2.3492178462935533,
          2.6102420514372815,
          1.0440968205749126,
          1.3051210257186407,
          1.827169436006097,
          0.5220484102874563,
          1.566145230862369,
          2.8712662565810096,
          1.0440968205749126,
          1.827169436006097,
          2.088193641149825,
          3.132290461724738,
          2.088193641149825,
          2.088193641149825,
          1.827169436006097,
          0.7830726154311844,
          1.827169436006097,
          2.8712662565810096,
          3.132290461724738,
          2.3492178462935533,
          2.6102420514372815,
          2.3492178462935533,
          2.088193641149825,
          2.6102420514372815,
          2.088193641149825,
          2.8712662565810096,
          2.3492178462935533,
          2.088193641149825,
          2.3492178462935533,
          2.3492178462935533,
          1.3051210257186407,
          1.827169436006097,
          1.566145230862369,
          2.088193641149825,
          2.088193641149825,
          2.8712662565810096,
          3.132290461724738,
          1.566145230862369,
          3.132290461724738,
          1.0440968205749126,
          1.827169436006097,
          0.7830726154311844,
          1.566145230862369,
          1.566145230862369,
          1.827169436006097,
          1.827169436006097,
          2.8712662565810096,
          2.088193641149825,
          1.566145230862369,
          1.566145230862369,
          2.3492178462935533,
          1.0440968205749126,
          1.0440968205749126,
          0.7830726154311844,
          1.566145230862369,
          0.5220484102874563,
          2.088193641149825,
          1.827169436006097,
          2.3492178462935533,
          2.3492178462935533,
          1.3051210257186407,
          2.088193641149825,
          0.7830726154311844,
          2.088193641149825,
          1.827169436006097,
          1.3051210257186407,
          1.3051210257186407,
          2.088193641149825,
          2.3492178462935533,
          2.088193641149825,
          0.7830726154311844,
          1.3051210257186407,
          1.827169436006097,
          1.3051210257186407,
          2.3492178462935533,
          1.566145230862369,
          1.827169436006097,
          1.3051210257186407,
          2.3492178462935533,
          2.8712662565810096,
          3.132290461724738,
          2.088193641149825,
          2.088193641149825,
          2.8712662565810096,
          2.088193641149825,
          1.566145230862369,
          2.6102420514372815,
          0.7830726154311844,
          1.827169436006097,
          2.6102420514372815,
          2.8712662565810096,
          2.088193641149825,
          2.8712662565810096,
          1.827169436006097,
          1.3051210257186407,
          1.3051210257186407,
          2.8712662565810096,
          0.5220484102874563,
          0.7830726154311844,
          1.0440968205749126,
          3.132290461724738,
          2.088193641149825,
          2.088193641149825,
          1.827169436006097,
          2.3492178462935533,
          1.827169436006097,
          0.7830726154311844,
          1.827169436006097,
          1.3051210257186407,
          1.3051210257186407,
          2.088193641149825,
          2.3492178462935533,
          1.827169436006097,
          2.3492178462935533,
          1.566145230862369,
          1.0440968205749126,
          1.0440968205749126,
          1.3051210257186407,
          1.3051210257186407,
          2.088193641149825,
          2.088193641149825,
          1.0440968205749126,
          0.5220484102874563,
          1.3051210257186407,
          1.827169436006097,
          0.7830726154311844,
          1.827169436006097,
          3.132290461724738,
          2.3492178462935533,
          1.827169436006097,
          2.088193641149825,
          1.827169436006097,
          1.827169436006097,
          2.088193641149825,
          1.3051210257186407,
          2.3492178462935533,
          1.827169436006097,
          1.827169436006097,
          2.8712662565810096,
          2.088193641149825,
          0.7830726154311844,
          1.3051210257186407,
          2.3492178462935533,
          1.3051210257186407,
          1.827169436006097,
          1.566145230862369,
          1.3051210257186407,
          2.6102420514372815,
          2.8712662565810096,
          2.3492178462935533,
          2.088193641149825,
          1.3051210257186407,
          1.3051210257186407,
          1.0440968205749126,
          2.3492178462935533,
          1.566145230862369,
          1.3051210257186407,
          1.3051210257186407,
          1.566145230862369,
          2.088193641149825,
          0.7830726154311844,
          2.088193641149825,
          1.827169436006097,
          2.3492178462935533,
          1.827169436006097,
          1.827169436006097,
          2.6102420514372815,
          1.3051210257186407,
          2.088193641149825,
          2.3492178462935533,
          2.3492178462935533,
          1.827169436006097,
          2.6102420514372815,
          2.088193641149825,
          1.827169436006097,
          2.088193641149825,
          0.7830726154311844,
          1.827169436006097,
          2.8712662565810096,
          3.132290461724738,
          2.088193641149825
         ],
         "y0": " ",
         "yaxis": "y"
        }
       ],
       "layout": {
        "boxmode": "group",
        "legend": {
         "tracegroupgap": 0
        },
        "template": {
         "data": {
          "bar": [
           {
            "error_x": {
             "color": "#2a3f5f"
            },
            "error_y": {
             "color": "#2a3f5f"
            },
            "marker": {
             "line": {
              "color": "#E5ECF6",
              "width": 0.5
             },
             "pattern": {
              "fillmode": "overlay",
              "size": 10,
              "solidity": 0.2
             }
            },
            "type": "bar"
           }
          ],
          "barpolar": [
           {
            "marker": {
             "line": {
              "color": "#E5ECF6",
              "width": 0.5
             },
             "pattern": {
              "fillmode": "overlay",
              "size": 10,
              "solidity": 0.2
             }
            },
            "type": "barpolar"
           }
          ],
          "carpet": [
           {
            "aaxis": {
             "endlinecolor": "#2a3f5f",
             "gridcolor": "white",
             "linecolor": "white",
             "minorgridcolor": "white",
             "startlinecolor": "#2a3f5f"
            },
            "baxis": {
             "endlinecolor": "#2a3f5f",
             "gridcolor": "white",
             "linecolor": "white",
             "minorgridcolor": "white",
             "startlinecolor": "#2a3f5f"
            },
            "type": "carpet"
           }
          ],
          "choropleth": [
           {
            "colorbar": {
             "outlinewidth": 0,
             "ticks": ""
            },
            "type": "choropleth"
           }
          ],
          "contour": [
           {
            "colorbar": {
             "outlinewidth": 0,
             "ticks": ""
            },
            "colorscale": [
             [
              0,
              "#0d0887"
             ],
             [
              0.1111111111111111,
              "#46039f"
             ],
             [
              0.2222222222222222,
              "#7201a8"
             ],
             [
              0.3333333333333333,
              "#9c179e"
             ],
             [
              0.4444444444444444,
              "#bd3786"
             ],
             [
              0.5555555555555556,
              "#d8576b"
             ],
             [
              0.6666666666666666,
              "#ed7953"
             ],
             [
              0.7777777777777778,
              "#fb9f3a"
             ],
             [
              0.8888888888888888,
              "#fdca26"
             ],
             [
              1,
              "#f0f921"
             ]
            ],
            "type": "contour"
           }
          ],
          "contourcarpet": [
           {
            "colorbar": {
             "outlinewidth": 0,
             "ticks": ""
            },
            "type": "contourcarpet"
           }
          ],
          "heatmap": [
           {
            "colorbar": {
             "outlinewidth": 0,
             "ticks": ""
            },
            "colorscale": [
             [
              0,
              "#0d0887"
             ],
             [
              0.1111111111111111,
              "#46039f"
             ],
             [
              0.2222222222222222,
              "#7201a8"
             ],
             [
              0.3333333333333333,
              "#9c179e"
             ],
             [
              0.4444444444444444,
              "#bd3786"
             ],
             [
              0.5555555555555556,
              "#d8576b"
             ],
             [
              0.6666666666666666,
              "#ed7953"
             ],
             [
              0.7777777777777778,
              "#fb9f3a"
             ],
             [
              0.8888888888888888,
              "#fdca26"
             ],
             [
              1,
              "#f0f921"
             ]
            ],
            "type": "heatmap"
           }
          ],
          "heatmapgl": [
           {
            "colorbar": {
             "outlinewidth": 0,
             "ticks": ""
            },
            "colorscale": [
             [
              0,
              "#0d0887"
             ],
             [
              0.1111111111111111,
              "#46039f"
             ],
             [
              0.2222222222222222,
              "#7201a8"
             ],
             [
              0.3333333333333333,
              "#9c179e"
             ],
             [
              0.4444444444444444,
              "#bd3786"
             ],
             [
              0.5555555555555556,
              "#d8576b"
             ],
             [
              0.6666666666666666,
              "#ed7953"
             ],
             [
              0.7777777777777778,
              "#fb9f3a"
             ],
             [
              0.8888888888888888,
              "#fdca26"
             ],
             [
              1,
              "#f0f921"
             ]
            ],
            "type": "heatmapgl"
           }
          ],
          "histogram": [
           {
            "marker": {
             "pattern": {
              "fillmode": "overlay",
              "size": 10,
              "solidity": 0.2
             }
            },
            "type": "histogram"
           }
          ],
          "histogram2d": [
           {
            "colorbar": {
             "outlinewidth": 0,
             "ticks": ""
            },
            "colorscale": [
             [
              0,
              "#0d0887"
             ],
             [
              0.1111111111111111,
              "#46039f"
             ],
             [
              0.2222222222222222,
              "#7201a8"
             ],
             [
              0.3333333333333333,
              "#9c179e"
             ],
             [
              0.4444444444444444,
              "#bd3786"
             ],
             [
              0.5555555555555556,
              "#d8576b"
             ],
             [
              0.6666666666666666,
              "#ed7953"
             ],
             [
              0.7777777777777778,
              "#fb9f3a"
             ],
             [
              0.8888888888888888,
              "#fdca26"
             ],
             [
              1,
              "#f0f921"
             ]
            ],
            "type": "histogram2d"
           }
          ],
          "histogram2dcontour": [
           {
            "colorbar": {
             "outlinewidth": 0,
             "ticks": ""
            },
            "colorscale": [
             [
              0,
              "#0d0887"
             ],
             [
              0.1111111111111111,
              "#46039f"
             ],
             [
              0.2222222222222222,
              "#7201a8"
             ],
             [
              0.3333333333333333,
              "#9c179e"
             ],
             [
              0.4444444444444444,
              "#bd3786"
             ],
             [
              0.5555555555555556,
              "#d8576b"
             ],
             [
              0.6666666666666666,
              "#ed7953"
             ],
             [
              0.7777777777777778,
              "#fb9f3a"
             ],
             [
              0.8888888888888888,
              "#fdca26"
             ],
             [
              1,
              "#f0f921"
             ]
            ],
            "type": "histogram2dcontour"
           }
          ],
          "mesh3d": [
           {
            "colorbar": {
             "outlinewidth": 0,
             "ticks": ""
            },
            "type": "mesh3d"
           }
          ],
          "parcoords": [
           {
            "line": {
             "colorbar": {
              "outlinewidth": 0,
              "ticks": ""
             }
            },
            "type": "parcoords"
           }
          ],
          "pie": [
           {
            "automargin": true,
            "type": "pie"
           }
          ],
          "scatter": [
           {
            "fillpattern": {
             "fillmode": "overlay",
             "size": 10,
             "solidity": 0.2
            },
            "type": "scatter"
           }
          ],
          "scatter3d": [
           {
            "line": {
             "colorbar": {
              "outlinewidth": 0,
              "ticks": ""
             }
            },
            "marker": {
             "colorbar": {
              "outlinewidth": 0,
              "ticks": ""
             }
            },
            "type": "scatter3d"
           }
          ],
          "scattercarpet": [
           {
            "marker": {
             "colorbar": {
              "outlinewidth": 0,
              "ticks": ""
             }
            },
            "type": "scattercarpet"
           }
          ],
          "scattergeo": [
           {
            "marker": {
             "colorbar": {
              "outlinewidth": 0,
              "ticks": ""
             }
            },
            "type": "scattergeo"
           }
          ],
          "scattergl": [
           {
            "marker": {
             "colorbar": {
              "outlinewidth": 0,
              "ticks": ""
             }
            },
            "type": "scattergl"
           }
          ],
          "scattermapbox": [
           {
            "marker": {
             "colorbar": {
              "outlinewidth": 0,
              "ticks": ""
             }
            },
            "type": "scattermapbox"
           }
          ],
          "scatterpolar": [
           {
            "marker": {
             "colorbar": {
              "outlinewidth": 0,
              "ticks": ""
             }
            },
            "type": "scatterpolar"
           }
          ],
          "scatterpolargl": [
           {
            "marker": {
             "colorbar": {
              "outlinewidth": 0,
              "ticks": ""
             }
            },
            "type": "scatterpolargl"
           }
          ],
          "scatterternary": [
           {
            "marker": {
             "colorbar": {
              "outlinewidth": 0,
              "ticks": ""
             }
            },
            "type": "scatterternary"
           }
          ],
          "surface": [
           {
            "colorbar": {
             "outlinewidth": 0,
             "ticks": ""
            },
            "colorscale": [
             [
              0,
              "#0d0887"
             ],
             [
              0.1111111111111111,
              "#46039f"
             ],
             [
              0.2222222222222222,
              "#7201a8"
             ],
             [
              0.3333333333333333,
              "#9c179e"
             ],
             [
              0.4444444444444444,
              "#bd3786"
             ],
             [
              0.5555555555555556,
              "#d8576b"
             ],
             [
              0.6666666666666666,
              "#ed7953"
             ],
             [
              0.7777777777777778,
              "#fb9f3a"
             ],
             [
              0.8888888888888888,
              "#fdca26"
             ],
             [
              1,
              "#f0f921"
             ]
            ],
            "type": "surface"
           }
          ],
          "table": [
           {
            "cells": {
             "fill": {
              "color": "#EBF0F8"
             },
             "line": {
              "color": "white"
             }
            },
            "header": {
             "fill": {
              "color": "#C8D4E3"
             },
             "line": {
              "color": "white"
             }
            },
            "type": "table"
           }
          ]
         },
         "layout": {
          "annotationdefaults": {
           "arrowcolor": "#2a3f5f",
           "arrowhead": 0,
           "arrowwidth": 1
          },
          "autotypenumbers": "strict",
          "coloraxis": {
           "colorbar": {
            "outlinewidth": 0,
            "ticks": ""
           }
          },
          "colorscale": {
           "diverging": [
            [
             0,
             "#8e0152"
            ],
            [
             0.1,
             "#c51b7d"
            ],
            [
             0.2,
             "#de77ae"
            ],
            [
             0.3,
             "#f1b6da"
            ],
            [
             0.4,
             "#fde0ef"
            ],
            [
             0.5,
             "#f7f7f7"
            ],
            [
             0.6,
             "#e6f5d0"
            ],
            [
             0.7,
             "#b8e186"
            ],
            [
             0.8,
             "#7fbc41"
            ],
            [
             0.9,
             "#4d9221"
            ],
            [
             1,
             "#276419"
            ]
           ],
           "sequential": [
            [
             0,
             "#0d0887"
            ],
            [
             0.1111111111111111,
             "#46039f"
            ],
            [
             0.2222222222222222,
             "#7201a8"
            ],
            [
             0.3333333333333333,
             "#9c179e"
            ],
            [
             0.4444444444444444,
             "#bd3786"
            ],
            [
             0.5555555555555556,
             "#d8576b"
            ],
            [
             0.6666666666666666,
             "#ed7953"
            ],
            [
             0.7777777777777778,
             "#fb9f3a"
            ],
            [
             0.8888888888888888,
             "#fdca26"
            ],
            [
             1,
             "#f0f921"
            ]
           ],
           "sequentialminus": [
            [
             0,
             "#0d0887"
            ],
            [
             0.1111111111111111,
             "#46039f"
            ],
            [
             0.2222222222222222,
             "#7201a8"
            ],
            [
             0.3333333333333333,
             "#9c179e"
            ],
            [
             0.4444444444444444,
             "#bd3786"
            ],
            [
             0.5555555555555556,
             "#d8576b"
            ],
            [
             0.6666666666666666,
             "#ed7953"
            ],
            [
             0.7777777777777778,
             "#fb9f3a"
            ],
            [
             0.8888888888888888,
             "#fdca26"
            ],
            [
             1,
             "#f0f921"
            ]
           ]
          },
          "colorway": [
           "#636efa",
           "#EF553B",
           "#00cc96",
           "#ab63fa",
           "#FFA15A",
           "#19d3f3",
           "#FF6692",
           "#B6E880",
           "#FF97FF",
           "#FECB52"
          ],
          "font": {
           "color": "#2a3f5f"
          },
          "geo": {
           "bgcolor": "white",
           "lakecolor": "white",
           "landcolor": "#E5ECF6",
           "showlakes": true,
           "showland": true,
           "subunitcolor": "white"
          },
          "hoverlabel": {
           "align": "left"
          },
          "hovermode": "closest",
          "mapbox": {
           "style": "light"
          },
          "paper_bgcolor": "white",
          "plot_bgcolor": "#E5ECF6",
          "polar": {
           "angularaxis": {
            "gridcolor": "white",
            "linecolor": "white",
            "ticks": ""
           },
           "bgcolor": "#E5ECF6",
           "radialaxis": {
            "gridcolor": "white",
            "linecolor": "white",
            "ticks": ""
           }
          },
          "scene": {
           "xaxis": {
            "backgroundcolor": "#E5ECF6",
            "gridcolor": "white",
            "gridwidth": 2,
            "linecolor": "white",
            "showbackground": true,
            "ticks": "",
            "zerolinecolor": "white"
           },
           "yaxis": {
            "backgroundcolor": "#E5ECF6",
            "gridcolor": "white",
            "gridwidth": 2,
            "linecolor": "white",
            "showbackground": true,
            "ticks": "",
            "zerolinecolor": "white"
           },
           "zaxis": {
            "backgroundcolor": "#E5ECF6",
            "gridcolor": "white",
            "gridwidth": 2,
            "linecolor": "white",
            "showbackground": true,
            "ticks": "",
            "zerolinecolor": "white"
           }
          },
          "shapedefaults": {
           "line": {
            "color": "#2a3f5f"
           }
          },
          "ternary": {
           "aaxis": {
            "gridcolor": "white",
            "linecolor": "white",
            "ticks": ""
           },
           "baxis": {
            "gridcolor": "white",
            "linecolor": "white",
            "ticks": ""
           },
           "bgcolor": "#E5ECF6",
           "caxis": {
            "gridcolor": "white",
            "linecolor": "white",
            "ticks": ""
           }
          },
          "title": {
           "x": 0.05
          },
          "xaxis": {
           "automargin": true,
           "gridcolor": "white",
           "linecolor": "white",
           "ticks": "",
           "title": {
            "standoff": 15
           },
           "zerolinecolor": "white",
           "zerolinewidth": 2
          },
          "yaxis": {
           "automargin": true,
           "gridcolor": "white",
           "linecolor": "white",
           "ticks": "",
           "title": {
            "standoff": 15
           },
           "zerolinecolor": "white",
           "zerolinewidth": 2
          }
         }
        },
        "title": {
         "text": "Expected Rent Per Go for Utilities"
        },
        "xaxis": {
         "anchor": "y",
         "domain": [
          0,
          1
         ],
         "title": {
          "text": "Utility"
         }
        },
        "yaxis": {
         "anchor": "x",
         "domain": [
          0,
          1
         ],
         "title": {
          "text": "Expected Rent"
         }
        }
       }
      }
     },
     "metadata": {},
     "output_type": "display_data"
    }
   ],
   "source": [
    "fig = px.box(df_1_utility_data,\n",
    "        title='Expected Rent Per Go for Utilities',\n",
    "        labels={'variable': 'Utility', 'value': 'Expected Rent'})\n",
    "fig.add_trace(px.box(df_2_utilities_data).data[0])\n",
    "\n",
    "fig.data[1].update(line_color='red')\n",
    "fig.data[0].name = '1 Utility Owned'\n",
    "fig.data[1].name = '2 Utilities Owned'\n",
    "\n",
    "fig.show()"
   ]
  }
 ],
 "metadata": {
  "kernelspec": {
   "display_name": "Python 3",
   "language": "python",
   "name": "python3"
  },
  "language_info": {
   "codemirror_mode": {
    "name": "ipython",
    "version": 3
   },
   "file_extension": ".py",
   "mimetype": "text/x-python",
   "name": "python",
   "nbconvert_exporter": "python",
   "pygments_lexer": "ipython3",
   "version": "3.10.2"
  }
 },
 "nbformat": 4,
 "nbformat_minor": 2
}
