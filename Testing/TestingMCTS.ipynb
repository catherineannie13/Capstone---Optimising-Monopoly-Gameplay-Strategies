{
 "cells": [
  {
   "cell_type": "markdown",
   "metadata": {},
   "source": [
    "## Imports"
   ]
  },
  {
   "cell_type": "code",
   "execution_count": 2,
   "metadata": {},
   "outputs": [],
   "source": [
    "import random\n",
    "\n",
    "%run -i \"C:\\\\Users\\\\cathe\\\\OneDrive\\\\Documents\\\\Capstone - Optimising Monopoly Gameplay Strategies\\\\Simulation Classes Py\\\\Player.py\"\n",
    "%run -i \"C:\\\\Users\\\\cathe\\\\OneDrive\\\\Documents\\\\Capstone - Optimising Monopoly Gameplay Strategies\\\\Simulation Classes Py\\\\Street.py\"\n",
    "%run -i \"C:\\\\Users\\\\cathe\\\\OneDrive\\\\Documents\\\\Capstone - Optimising Monopoly Gameplay Strategies\\\\Simulation Classes Py\\\\Utility.py\"\n",
    "%run -i \"C:\\\\Users\\\\cathe\\\\OneDrive\\\\Documents\\\\Capstone - Optimising Monopoly Gameplay Strategies\\\\Simulation Classes Py\\\\Station.py\"\n",
    "%run -i \"C:\\\\Users\\\\cathe\\\\OneDrive\\\\Documents\\\\Capstone - Optimising Monopoly Gameplay Strategies\\\\Simulation Classes Py\\\\Chance.py\"\n",
    "%run -i \"C:\\\\Users\\\\cathe\\\\OneDrive\\\\Documents\\\\Capstone - Optimising Monopoly Gameplay Strategies\\\\Simulation Classes Py\\\\Tax.py\"\n",
    "%run -i \"C:\\\\Users\\\\cathe\\\\OneDrive\\\\Documents\\\\Capstone - Optimising Monopoly Gameplay Strategies\\\\Simulation Classes Py\\\\Go.py\"\n",
    "%run -i \"C:\\\\Users\\\\cathe\\\\OneDrive\\\\Documents\\\\Capstone - Optimising Monopoly Gameplay Strategies\\\\Simulation Classes Py\\\\Jail.py\"\n",
    "%run -i \"C:\\\\Users\\\\cathe\\\\OneDrive\\\\Documents\\\\Capstone - Optimising Monopoly Gameplay Strategies\\\\Simulation Classes Py\\\\FreeParking.py\"\n",
    "%run -i \"C:\\\\Users\\\\cathe\\\\OneDrive\\\\Documents\\\\Capstone - Optimising Monopoly Gameplay Strategies\\\\Simulation Classes Py\\\\GoToJail.py\"\n",
    "%run -i \"C:\\\\Users\\\\cathe\\\\OneDrive\\\\Documents\\\\Capstone - Optimising Monopoly Gameplay Strategies\\\\Simulation Classes Py\\\\CommunityChest.py\"\n",
    "%run -i \"C:\\\\Users\\\\cathe\\\\OneDrive\\\\Documents\\\\Capstone - Optimising Monopoly Gameplay Strategies\\\\Simulation Classes Py\\\\MonopolyBoard.py\"\n",
    "%run -i \"C:\\\\Users\\\\cathe\\\\OneDrive\\\\Documents\\\\Capstone - Optimising Monopoly Gameplay Strategies\\\\Simulation Classes Py\\\\Strategy.py\"\n",
    "\n",
    "%run -i \"C:\\\\Users\\\\cathe\\\\OneDrive\\\\Documents\\\\Capstone - Optimising Monopoly Gameplay Strategies\\\\MCTS\\\\MonopolyBoardMCTS.py\"\n",
    "%run -i \"C:\\\\Users\\\\cathe\\\\OneDrive\\\\Documents\\\\Capstone - Optimising Monopoly Gameplay Strategies\\\\MCTS\\\\Node.py\"\n",
    "%run -i \"C:\\\\Users\\\\cathe\\\\OneDrive\\\\Documents\\\\Capstone - Optimising Monopoly Gameplay Strategies\\\\MCTS\\\\MCTS.py\"\n",
    "\n",
    "random.seed(42)"
   ]
  },
  {
   "cell_type": "markdown",
   "metadata": {},
   "source": [
    "## Testing get_legal_actions()"
   ]
  },
  {
   "cell_type": "code",
   "execution_count": 4,
   "metadata": {},
   "outputs": [
    {
     "data": {
      "text/plain": [
       "['End turn']"
      ]
     },
     "execution_count": 4,
     "metadata": {},
     "output_type": "execute_result"
    }
   ],
   "source": [
    "board = MonopolyBoardMCTS()\n",
    "player1 = Player('Cat')\n",
    "player2 = Player('Vlad')\n",
    "\n",
    "board.add_agent(player1)\n",
    "board.add_other_player(player2)\n",
    "board.get_legal_actions()"
   ]
  },
  {
   "cell_type": "code",
   "execution_count": 5,
   "metadata": {},
   "outputs": [
    {
     "data": {
      "text/plain": [
       "['End turn', 'Mortgage Old Kent Road']"
      ]
     },
     "execution_count": 5,
     "metadata": {},
     "output_type": "execute_result"
    }
   ],
   "source": [
    "player1.buy_property(board.board[1])\n",
    "board.get_legal_actions()"
   ]
  },
  {
   "cell_type": "code",
   "execution_count": 6,
   "metadata": {},
   "outputs": [
    {
     "data": {
      "text/plain": [
       "['End turn',\n",
       " 'Mortgage Old Kent Road',\n",
       " 'Mortgage Whitechapel Road',\n",
       " 'Buy house on Old Kent Road',\n",
       " 'Buy house on Whitechapel Road']"
      ]
     },
     "execution_count": 6,
     "metadata": {},
     "output_type": "execute_result"
    }
   ],
   "source": [
    "player1.buy_property(board.board[3])\n",
    "board.get_legal_actions()"
   ]
  },
  {
   "cell_type": "code",
   "execution_count": 7,
   "metadata": {},
   "outputs": [
    {
     "data": {
      "text/plain": [
       "['End turn',\n",
       " 'Mortgage Old Kent Road',\n",
       " 'Sell house on Whitechapel Road',\n",
       " 'Buy house on Old Kent Road']"
      ]
     },
     "execution_count": 7,
     "metadata": {},
     "output_type": "execute_result"
    }
   ],
   "source": [
    "board.board[3].num_houses = 1\n",
    "board.get_legal_actions()"
   ]
  },
  {
   "cell_type": "code",
   "execution_count": 8,
   "metadata": {},
   "outputs": [
    {
     "data": {
      "text/plain": [
       "['End turn',\n",
       " 'Sell house on Old Kent Road',\n",
       " 'Sell house on Whitechapel Road',\n",
       " 'Buy house on Old Kent Road',\n",
       " 'Buy house on Whitechapel Road']"
      ]
     },
     "execution_count": 8,
     "metadata": {},
     "output_type": "execute_result"
    }
   ],
   "source": [
    "board.board[1].num_houses = 1\n",
    "board.get_legal_actions()"
   ]
  },
  {
   "cell_type": "code",
   "execution_count": 9,
   "metadata": {},
   "outputs": [
    {
     "data": {
      "text/plain": [
       "['End turn',\n",
       " 'Sell house on Old Kent Road',\n",
       " 'Sell house on Whitechapel Road',\n",
       " 'Buy house on Old Kent Road',\n",
       " 'Buy house on Whitechapel Road',\n",
       " 'Pay 50 to get out of jail']"
      ]
     },
     "execution_count": 9,
     "metadata": {},
     "output_type": "execute_result"
    }
   ],
   "source": [
    "player1.in_jail = True\n",
    "board.get_legal_actions()"
   ]
  },
  {
   "cell_type": "markdown",
   "metadata": {},
   "source": [
    "## Testing perform_action()"
   ]
  },
  {
   "cell_type": "code",
   "execution_count": 10,
   "metadata": {},
   "outputs": [
    {
     "data": {
      "text/plain": [
       "True"
      ]
     },
     "execution_count": 10,
     "metadata": {},
     "output_type": "execute_result"
    }
   ],
   "source": [
    "board = MonopolyBoardMCTS()\n",
    "player1 = Player('Cat')\n",
    "player2 = Player('Vlad')\n",
    "\n",
    "board.add_agent(player1)\n",
    "board.add_other_player(player2)\n",
    "\n",
    "player1.buy_property(board.board[1])\n",
    "player1.buy_property(board.board[3])"
   ]
  },
  {
   "cell_type": "code",
   "execution_count": 11,
   "metadata": {},
   "outputs": [
    {
     "name": "stdout",
     "output_type": "stream",
     "text": [
      "Performing: Mortgage Old Kent Road\n"
     ]
    },
    {
     "data": {
      "text/plain": [
       "(Player Cat is currently as position 0 on the board, with $1410.0.             \n",
       "  They hold the following properties: ['Old Kent Road', 'Whitechapel Road'].            \n",
       "  They hold the following stations: []            \n",
       "  They hold the following utilities: []            \n",
       "  The player has 0 houses and 0 hotels             \n",
       "  The player is currently not in jail.,\n",
       " Old Kent Road is one of the 2 properties in the brown set located at position 1 on the Monopoly board                 \n",
       "  and can be purchased for $60 with a house price of $50. Rent prices are as follows: \n",
       "  Rent: 2 \n",
       "  Double rent: 4                 \n",
       "  Rent 1 house: 10 \n",
       "  Rent 2 houses: 30 \n",
       "  Rent 3 houses: 90 \n",
       "  Rent 4 houses: 160                 \n",
       "  Rent hotel: 250 \n",
       "  The property is currently owned by Cat, is mortgaged and has 0 houses and 0 hotels.,\n",
       " Whitechapel Road is one of the 2 properties in the brown set located at position 3 on the Monopoly board                 \n",
       "  and can be purchased for $60 with a house price of $50. Rent prices are as follows: \n",
       "  Rent: 4 \n",
       "  Double rent: 8                 \n",
       "  Rent 1 house: 20 \n",
       "  Rent 2 houses: 60 \n",
       "  Rent 3 houses: 180 \n",
       "  Rent 4 houses: 320                 \n",
       "  Rent hotel: 450 \n",
       "  The property is currently owned by Cat, is not mortgaged and has 0 houses and 0 hotels.)"
      ]
     },
     "execution_count": 11,
     "metadata": {},
     "output_type": "execute_result"
    }
   ],
   "source": [
    "legal_actions = board.get_legal_actions()\n",
    "print(f\"Performing: {legal_actions[1]}\")\n",
    "board.perform_action(legal_actions[1])\n",
    "player1, board.board[1], board.board[3]"
   ]
  },
  {
   "cell_type": "code",
   "execution_count": 12,
   "metadata": {},
   "outputs": [
    {
     "name": "stdout",
     "output_type": "stream",
     "text": [
      "Performing: Unmortgage Old Kent Road\n"
     ]
    },
    {
     "data": {
      "text/plain": [
       "(Player Cat is currently as position 0 on the board, with $1377.0.             \n",
       "  They hold the following properties: ['Old Kent Road', 'Whitechapel Road'].            \n",
       "  They hold the following stations: []            \n",
       "  They hold the following utilities: []            \n",
       "  The player has 0 houses and 0 hotels             \n",
       "  The player is currently not in jail.,\n",
       " Old Kent Road is one of the 2 properties in the brown set located at position 1 on the Monopoly board                 \n",
       "  and can be purchased for $60 with a house price of $50. Rent prices are as follows: \n",
       "  Rent: 2 \n",
       "  Double rent: 4                 \n",
       "  Rent 1 house: 10 \n",
       "  Rent 2 houses: 30 \n",
       "  Rent 3 houses: 90 \n",
       "  Rent 4 houses: 160                 \n",
       "  Rent hotel: 250 \n",
       "  The property is currently owned by Cat, is not mortgaged and has 0 houses and 0 hotels.,\n",
       " Whitechapel Road is one of the 2 properties in the brown set located at position 3 on the Monopoly board                 \n",
       "  and can be purchased for $60 with a house price of $50. Rent prices are as follows: \n",
       "  Rent: 4 \n",
       "  Double rent: 8                 \n",
       "  Rent 1 house: 20 \n",
       "  Rent 2 houses: 60 \n",
       "  Rent 3 houses: 180 \n",
       "  Rent 4 houses: 320                 \n",
       "  Rent hotel: 450 \n",
       "  The property is currently owned by Cat, is not mortgaged and has 0 houses and 0 hotels.)"
      ]
     },
     "execution_count": 12,
     "metadata": {},
     "output_type": "execute_result"
    }
   ],
   "source": [
    "legal_actions = board.get_legal_actions()\n",
    "print(f\"Performing: {legal_actions[1]}\")\n",
    "board.perform_action(legal_actions[1])\n",
    "player1, board.board[1], board.board[3]"
   ]
  },
  {
   "cell_type": "code",
   "execution_count": 13,
   "metadata": {},
   "outputs": [
    {
     "name": "stdout",
     "output_type": "stream",
     "text": [
      "Performing: Buy house on Old Kent Road\n"
     ]
    },
    {
     "data": {
      "text/plain": [
       "(Player Cat is currently as position 0 on the board, with $1327.0.             \n",
       "  They hold the following properties: ['Old Kent Road', 'Whitechapel Road'].            \n",
       "  They hold the following stations: []            \n",
       "  They hold the following utilities: []            \n",
       "  The player has 0 houses and 0 hotels             \n",
       "  The player is currently not in jail.,\n",
       " Old Kent Road is one of the 2 properties in the brown set located at position 1 on the Monopoly board                 \n",
       "  and can be purchased for $60 with a house price of $50. Rent prices are as follows: \n",
       "  Rent: 2 \n",
       "  Double rent: 4                 \n",
       "  Rent 1 house: 10 \n",
       "  Rent 2 houses: 30 \n",
       "  Rent 3 houses: 90 \n",
       "  Rent 4 houses: 160                 \n",
       "  Rent hotel: 250 \n",
       "  The property is currently owned by Cat, is not mortgaged and has 1 houses and 0 hotels.,\n",
       " Whitechapel Road is one of the 2 properties in the brown set located at position 3 on the Monopoly board                 \n",
       "  and can be purchased for $60 with a house price of $50. Rent prices are as follows: \n",
       "  Rent: 4 \n",
       "  Double rent: 8                 \n",
       "  Rent 1 house: 20 \n",
       "  Rent 2 houses: 60 \n",
       "  Rent 3 houses: 180 \n",
       "  Rent 4 houses: 320                 \n",
       "  Rent hotel: 450 \n",
       "  The property is currently owned by Cat, is not mortgaged and has 0 houses and 0 hotels.)"
      ]
     },
     "execution_count": 13,
     "metadata": {},
     "output_type": "execute_result"
    }
   ],
   "source": [
    "legal_actions = board.get_legal_actions()\n",
    "print(f\"Performing: {legal_actions[3]}\")\n",
    "board.perform_action(legal_actions[3])\n",
    "player1, board.board[1], board.board[3]"
   ]
  },
  {
   "cell_type": "code",
   "execution_count": null,
   "metadata": {},
   "outputs": [],
   "source": []
  },
  {
   "cell_type": "code",
   "execution_count": null,
   "metadata": {},
   "outputs": [],
   "source": []
  }
 ],
 "metadata": {
  "kernelspec": {
   "display_name": "Python 3",
   "language": "python",
   "name": "python3"
  },
  "language_info": {
   "codemirror_mode": {
    "name": "ipython",
    "version": 3
   },
   "file_extension": ".py",
   "mimetype": "text/x-python",
   "name": "python",
   "nbconvert_exporter": "python",
   "pygments_lexer": "ipython3",
   "version": "3.10.2"
  }
 },
 "nbformat": 4,
 "nbformat_minor": 2
}
