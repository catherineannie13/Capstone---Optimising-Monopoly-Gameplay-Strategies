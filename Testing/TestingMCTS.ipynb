{
 "cells": [
  {
   "cell_type": "markdown",
   "metadata": {},
   "source": [
    "## Imports"
   ]
  },
  {
   "cell_type": "code",
   "execution_count": 10,
   "metadata": {},
   "outputs": [],
   "source": [
    "import random\n",
    "\n",
    "%run -i \"C:\\\\Users\\\\cathe\\\\OneDrive\\\\Documents\\\\Capstone - Optimising Monopoly Gameplay Strategies\\\\Simulation Classes\\\\Player.py\"\n",
    "%run -i \"C:\\\\Users\\\\cathe\\\\OneDrive\\\\Documents\\\\Capstone - Optimising Monopoly Gameplay Strategies\\\\Simulation Classes\\\\Street.py\"\n",
    "%run -i \"C:\\\\Users\\\\cathe\\\\OneDrive\\\\Documents\\\\Capstone - Optimising Monopoly Gameplay Strategies\\\\Simulation Classes\\\\Utility.py\"\n",
    "%run -i \"C:\\\\Users\\\\cathe\\\\OneDrive\\\\Documents\\\\Capstone - Optimising Monopoly Gameplay Strategies\\\\Simulation Classes\\\\Station.py\"\n",
    "%run -i \"C:\\\\Users\\\\cathe\\\\OneDrive\\\\Documents\\\\Capstone - Optimising Monopoly Gameplay Strategies\\\\Simulation Classes\\\\Chance.py\"\n",
    "%run -i \"C:\\\\Users\\\\cathe\\\\OneDrive\\\\Documents\\\\Capstone - Optimising Monopoly Gameplay Strategies\\\\Simulation Classes\\\\Tax.py\"\n",
    "%run -i \"C:\\\\Users\\\\cathe\\\\OneDrive\\\\Documents\\\\Capstone - Optimising Monopoly Gameplay Strategies\\\\Simulation Classes\\\\Go.py\"\n",
    "%run -i \"C:\\\\Users\\\\cathe\\\\OneDrive\\\\Documents\\\\Capstone - Optimising Monopoly Gameplay Strategies\\\\Simulation Classes\\\\Jail.py\"\n",
    "%run -i \"C:\\\\Users\\\\cathe\\\\OneDrive\\\\Documents\\\\Capstone - Optimising Monopoly Gameplay Strategies\\\\Simulation Classes\\\\FreeParking.py\"\n",
    "%run -i \"C:\\\\Users\\\\cathe\\\\OneDrive\\\\Documents\\\\Capstone - Optimising Monopoly Gameplay Strategies\\\\Simulation Classes\\\\GoToJail.py\"\n",
    "%run -i \"C:\\\\Users\\\\cathe\\\\OneDrive\\\\Documents\\\\Capstone - Optimising Monopoly Gameplay Strategies\\\\Simulation Classes\\\\CommunityChest.py\"\n",
    "%run -i \"C:\\\\Users\\\\cathe\\\\OneDrive\\\\Documents\\\\Capstone - Optimising Monopoly Gameplay Strategies\\\\Simulation Classes\\\\MonopolyBoard.py\"\n",
    "%run -i \"C:\\\\Users\\\\cathe\\\\OneDrive\\\\Documents\\\\Capstone - Optimising Monopoly Gameplay Strategies\\\\Simulation Classes\\\\Strategy.py\"\n",
    "%run -i \"C:\\\\Users\\\\cathe\\\\OneDrive\\\\Documents\\\\Capstone - Optimising Monopoly Gameplay Strategies\\\\Simulation Classes\\\\RandomStrategy.py\"\n",
    "\n",
    "%run -i \"C:\\\\Users\\\\cathe\\\\OneDrive\\\\Documents\\\\Capstone - Optimising Monopoly Gameplay Strategies\\\\MCTS\\\\MonopolyBoardMCTS.py\"\n",
    "%run -i \"C:\\\\Users\\\\cathe\\\\OneDrive\\\\Documents\\\\Capstone - Optimising Monopoly Gameplay Strategies\\\\MCTS\\\\Node.py\"\n",
    "%run -i \"C:\\\\Users\\\\cathe\\\\OneDrive\\\\Documents\\\\Capstone - Optimising Monopoly Gameplay Strategies\\\\MCTS\\\\MCTS.py\"\n",
    "\n",
    "random.seed(42)"
   ]
  },
  {
   "cell_type": "markdown",
   "metadata": {},
   "source": [
    "## Testing get_legal_actions()"
   ]
  },
  {
   "cell_type": "code",
   "execution_count": 30,
   "metadata": {},
   "outputs": [
    {
     "data": {
      "text/plain": [
       "['End turn']"
      ]
     },
     "execution_count": 30,
     "metadata": {},
     "output_type": "execute_result"
    }
   ],
   "source": [
    "board = MonopolyBoardMCTS()\n",
    "player1 = Player('Cat')\n",
    "player2 = Player('Vlad')\n",
    "\n",
    "board.add_agent(player1)\n",
    "board.add_other_player(player2)\n",
    "board.get_legal_actions()"
   ]
  },
  {
   "cell_type": "code",
   "execution_count": 31,
   "metadata": {},
   "outputs": [
    {
     "data": {
      "text/plain": [
       "['Mortgage Old Kent Road', 'End turn']"
      ]
     },
     "execution_count": 31,
     "metadata": {},
     "output_type": "execute_result"
    }
   ],
   "source": [
    "player1.buy_property(board.board[1])\n",
    "board.get_legal_actions()"
   ]
  },
  {
   "cell_type": "code",
   "execution_count": 32,
   "metadata": {},
   "outputs": [
    {
     "data": {
      "text/plain": [
       "['Mortgage Old Kent Road',\n",
       " 'Mortgage Whitechapel Road',\n",
       " 'Buy house on Old Kent Road',\n",
       " 'Buy house on Whitechapel Road',\n",
       " 'End turn']"
      ]
     },
     "execution_count": 32,
     "metadata": {},
     "output_type": "execute_result"
    }
   ],
   "source": [
    "player1.buy_property(board.board[3])\n",
    "board.get_legal_actions()"
   ]
  },
  {
   "cell_type": "code",
   "execution_count": 33,
   "metadata": {},
   "outputs": [
    {
     "data": {
      "text/plain": [
       "['Mortgage Old Kent Road',\n",
       " 'Sell house on Whitechapel Road',\n",
       " 'Buy house on Old Kent Road',\n",
       " 'End turn']"
      ]
     },
     "execution_count": 33,
     "metadata": {},
     "output_type": "execute_result"
    }
   ],
   "source": [
    "board.board[3].num_houses = 1\n",
    "board.get_legal_actions()"
   ]
  },
  {
   "cell_type": "code",
   "execution_count": 34,
   "metadata": {},
   "outputs": [
    {
     "data": {
      "text/plain": [
       "['Sell house on Old Kent Road',\n",
       " 'Sell house on Whitechapel Road',\n",
       " 'Buy house on Old Kent Road',\n",
       " 'Buy house on Whitechapel Road',\n",
       " 'End turn']"
      ]
     },
     "execution_count": 34,
     "metadata": {},
     "output_type": "execute_result"
    }
   ],
   "source": [
    "board.board[1].num_houses = 1\n",
    "board.get_legal_actions()"
   ]
  },
  {
   "cell_type": "code",
   "execution_count": 35,
   "metadata": {},
   "outputs": [
    {
     "data": {
      "text/plain": [
       "['Sell house on Old Kent Road',\n",
       " 'Sell house on Whitechapel Road',\n",
       " 'Pay 50 to get out of jail',\n",
       " 'Buy house on Old Kent Road',\n",
       " 'Buy house on Whitechapel Road',\n",
       " 'End turn']"
      ]
     },
     "execution_count": 35,
     "metadata": {},
     "output_type": "execute_result"
    }
   ],
   "source": [
    "player1.in_jail = True\n",
    "board.get_legal_actions()"
   ]
  },
  {
   "cell_type": "markdown",
   "metadata": {},
   "source": [
    "## Testing perform_action()"
   ]
  },
  {
   "cell_type": "code",
   "execution_count": 36,
   "metadata": {},
   "outputs": [
    {
     "data": {
      "text/plain": [
       "True"
      ]
     },
     "execution_count": 36,
     "metadata": {},
     "output_type": "execute_result"
    }
   ],
   "source": [
    "board = MonopolyBoardMCTS()\n",
    "player1 = Player('Cat')\n",
    "player2 = Player('Vlad')\n",
    "\n",
    "board.add_agent(player1)\n",
    "board.add_other_player(player2)\n",
    "\n",
    "player1.buy_property(board.board[1])\n",
    "player1.buy_property(board.board[3])"
   ]
  },
  {
   "cell_type": "code",
   "execution_count": 37,
   "metadata": {},
   "outputs": [
    {
     "name": "stdout",
     "output_type": "stream",
     "text": [
      "Performing: Mortgage Whitechapel Road\n"
     ]
    },
    {
     "data": {
      "text/plain": [
       "(Player Cat is currently as position 0 on the board, with $1410.0.             \n",
       "  They hold the following properties: ['Old Kent Road', 'Whitechapel Road'].            \n",
       "  They hold the following stations: []            \n",
       "  They hold the following utilities: []            \n",
       "  The player has 0 houses and 0 hotels             \n",
       "  The player is currently not in jail.,\n",
       " Old Kent Road is one of the 2 properties in the brown set located at position 1 on the Monopoly board                 \n",
       "  and can be purchased for $60 with a house price of $50. Rent prices are as follows: \n",
       "  Rent: 2 \n",
       "  Double rent: 4                 \n",
       "  Rent 1 house: 10 \n",
       "  Rent 2 houses: 30 \n",
       "  Rent 3 houses: 90 \n",
       "  Rent 4 houses: 160                 \n",
       "  Rent hotel: 250 \n",
       "  The property is currently owned by Cat, is not mortgaged and has 0 houses and 0 hotels.,\n",
       " Whitechapel Road is one of the 2 properties in the brown set located at position 3 on the Monopoly board                 \n",
       "  and can be purchased for $60 with a house price of $50. Rent prices are as follows: \n",
       "  Rent: 4 \n",
       "  Double rent: 8                 \n",
       "  Rent 1 house: 20 \n",
       "  Rent 2 houses: 60 \n",
       "  Rent 3 houses: 180 \n",
       "  Rent 4 houses: 320                 \n",
       "  Rent hotel: 450 \n",
       "  The property is currently owned by Cat, is mortgaged and has 0 houses and 0 hotels.)"
      ]
     },
     "execution_count": 37,
     "metadata": {},
     "output_type": "execute_result"
    }
   ],
   "source": [
    "legal_actions = board.get_legal_actions()\n",
    "print(f\"Performing: {legal_actions[1]}\")\n",
    "board.perform_action(legal_actions[1])\n",
    "player1, board.board[1], board.board[3]"
   ]
  },
  {
   "cell_type": "code",
   "execution_count": 38,
   "metadata": {},
   "outputs": [
    {
     "name": "stdout",
     "output_type": "stream",
     "text": [
      "Performing: Unmortgage Whitechapel Road\n"
     ]
    },
    {
     "data": {
      "text/plain": [
       "(Player Cat is currently as position 0 on the board, with $1377.0.             \n",
       "  They hold the following properties: ['Old Kent Road', 'Whitechapel Road'].            \n",
       "  They hold the following stations: []            \n",
       "  They hold the following utilities: []            \n",
       "  The player has 0 houses and 0 hotels             \n",
       "  The player is currently not in jail.,\n",
       " Old Kent Road is one of the 2 properties in the brown set located at position 1 on the Monopoly board                 \n",
       "  and can be purchased for $60 with a house price of $50. Rent prices are as follows: \n",
       "  Rent: 2 \n",
       "  Double rent: 4                 \n",
       "  Rent 1 house: 10 \n",
       "  Rent 2 houses: 30 \n",
       "  Rent 3 houses: 90 \n",
       "  Rent 4 houses: 160                 \n",
       "  Rent hotel: 250 \n",
       "  The property is currently owned by Cat, is not mortgaged and has 0 houses and 0 hotels.,\n",
       " Whitechapel Road is one of the 2 properties in the brown set located at position 3 on the Monopoly board                 \n",
       "  and can be purchased for $60 with a house price of $50. Rent prices are as follows: \n",
       "  Rent: 4 \n",
       "  Double rent: 8                 \n",
       "  Rent 1 house: 20 \n",
       "  Rent 2 houses: 60 \n",
       "  Rent 3 houses: 180 \n",
       "  Rent 4 houses: 320                 \n",
       "  Rent hotel: 450 \n",
       "  The property is currently owned by Cat, is not mortgaged and has 0 houses and 0 hotels.)"
      ]
     },
     "execution_count": 38,
     "metadata": {},
     "output_type": "execute_result"
    }
   ],
   "source": [
    "legal_actions = board.get_legal_actions()\n",
    "print(f\"Performing: {legal_actions[1]}\")\n",
    "board.perform_action(legal_actions[1])\n",
    "player1, board.board[1], board.board[3]"
   ]
  },
  {
   "cell_type": "code",
   "execution_count": 39,
   "metadata": {},
   "outputs": [
    {
     "name": "stdout",
     "output_type": "stream",
     "text": [
      "Performing: Buy house on Whitechapel Road\n"
     ]
    },
    {
     "data": {
      "text/plain": [
       "(Player Cat is currently as position 0 on the board, with $1327.0.             \n",
       "  They hold the following properties: ['Old Kent Road', 'Whitechapel Road'].            \n",
       "  They hold the following stations: []            \n",
       "  They hold the following utilities: []            \n",
       "  The player has 1 houses and 0 hotels             \n",
       "  The player is currently not in jail.,\n",
       " Old Kent Road is one of the 2 properties in the brown set located at position 1 on the Monopoly board                 \n",
       "  and can be purchased for $60 with a house price of $50. Rent prices are as follows: \n",
       "  Rent: 2 \n",
       "  Double rent: 4                 \n",
       "  Rent 1 house: 10 \n",
       "  Rent 2 houses: 30 \n",
       "  Rent 3 houses: 90 \n",
       "  Rent 4 houses: 160                 \n",
       "  Rent hotel: 250 \n",
       "  The property is currently owned by Cat, is not mortgaged and has 0 houses and 0 hotels.,\n",
       " Whitechapel Road is one of the 2 properties in the brown set located at position 3 on the Monopoly board                 \n",
       "  and can be purchased for $60 with a house price of $50. Rent prices are as follows: \n",
       "  Rent: 4 \n",
       "  Double rent: 8                 \n",
       "  Rent 1 house: 20 \n",
       "  Rent 2 houses: 60 \n",
       "  Rent 3 houses: 180 \n",
       "  Rent 4 houses: 320                 \n",
       "  Rent hotel: 450 \n",
       "  The property is currently owned by Cat, is not mortgaged and has 1 houses and 0 hotels.)"
      ]
     },
     "execution_count": 39,
     "metadata": {},
     "output_type": "execute_result"
    }
   ],
   "source": [
    "legal_actions = board.get_legal_actions()\n",
    "print(f\"Performing: {legal_actions[3]}\")\n",
    "board.perform_action(legal_actions[3])\n",
    "player1, board.board[1], board.board[3]"
   ]
  },
  {
   "cell_type": "code",
   "execution_count": 40,
   "metadata": {},
   "outputs": [
    {
     "name": "stdout",
     "output_type": "stream",
     "text": [
      "Performing: End turn\n"
     ]
    },
    {
     "data": {
      "text/plain": [
       "(Player Cat is currently as position 7 on the board, with $1332.0.             \n",
       "  They hold the following properties: ['Old Kent Road', 'Whitechapel Road'].            \n",
       "  They hold the following stations: []            \n",
       "  They hold the following utilities: []            \n",
       "  The player has 1 houses and 0 hotels             \n",
       "  The player is currently not in jail.,\n",
       " Old Kent Road is one of the 2 properties in the brown set located at position 1 on the Monopoly board                 \n",
       "  and can be purchased for $60 with a house price of $50. Rent prices are as follows: \n",
       "  Rent: 2 \n",
       "  Double rent: 4                 \n",
       "  Rent 1 house: 10 \n",
       "  Rent 2 houses: 30 \n",
       "  Rent 3 houses: 90 \n",
       "  Rent 4 houses: 160                 \n",
       "  Rent hotel: 250 \n",
       "  The property is currently owned by Cat, is not mortgaged and has 0 houses and 0 hotels.,\n",
       " Whitechapel Road is one of the 2 properties in the brown set located at position 3 on the Monopoly board                 \n",
       "  and can be purchased for $60 with a house price of $50. Rent prices are as follows: \n",
       "  Rent: 4 \n",
       "  Double rent: 8                 \n",
       "  Rent 1 house: 20 \n",
       "  Rent 2 houses: 60 \n",
       "  Rent 3 houses: 180 \n",
       "  Rent 4 houses: 320                 \n",
       "  Rent hotel: 450 \n",
       "  The property is currently owned by Cat, is not mortgaged and has 1 houses and 0 hotels.)"
      ]
     },
     "execution_count": 40,
     "metadata": {},
     "output_type": "execute_result"
    }
   ],
   "source": [
    "legal_actions = board.get_legal_actions()\n",
    "print(f\"Performing: {legal_actions[-1]}\")\n",
    "board.perform_action(legal_actions[-1])\n",
    "player1, board.board[1], board.board[3]"
   ]
  },
  {
   "cell_type": "markdown",
   "metadata": {},
   "source": [
    "## "
   ]
  },
  {
   "cell_type": "markdown",
   "metadata": {},
   "source": [
    "## Testing additions to MonopolyBoardMCTS"
   ]
  },
  {
   "cell_type": "code",
   "execution_count": 41,
   "metadata": {},
   "outputs": [],
   "source": [
    "board = MonopolyBoardMCTS()\n",
    "player1 = Player('Cat')\n",
    "player2 = Player('Vlad')\n",
    "\n",
    "board.add_agent(player1)\n",
    "board.add_other_player(player2)"
   ]
  },
  {
   "cell_type": "code",
   "execution_count": 42,
   "metadata": {},
   "outputs": [
    {
     "name": "stdout",
     "output_type": "stream",
     "text": [
      "Performing action: End turn\n",
      "Performing action: End turn\n",
      "Performing action: End turn\n",
      "Performing action: End turn\n",
      "Performing action: Purchase Trafalgar Square\n",
      "Performing action: End turn\n",
      "Performing action: End turn\n",
      "Performing action: Purchase Park Lane\n",
      "Performing action: End turn\n",
      "Performing action: Mortgage Trafalgar Square\n",
      "Performing action: End turn\n",
      "Performing action: Purchase Bow Street\n",
      "Performing action: Unmortgage Trafalgar Square\n",
      "Performing action: Mortgage Trafalgar Square\n",
      "Performing action: Unmortgage Trafalgar Square\n",
      "Performing action: End turn\n",
      "Performing action: Mortgage Bow Street\n",
      "Performing action: End turn\n",
      "Performing action: Pay 50 to get out of jail\n",
      "Performing action: Mortgage Park Lane\n",
      "Performing action: Unmortgage Park Lane\n",
      "Performing action: Unmortgage Bow Street\n",
      "Performing action: Mortgage Park Lane\n",
      "Performing action: Mortgage Trafalgar Square\n",
      "Performing action: Unmortgage Park Lane\n",
      "Performing action: End turn\n",
      "Performing action: Mortgage Park Lane\n",
      "Performing action: Mortgage Bow Street\n",
      "Performing action: End turn\n",
      "Performing action: End turn\n",
      "Performing action: End turn\n",
      "Performing action: Unmortgage Park Lane\n",
      "Performing action: Unmortgage Bow Street\n",
      "Performing action: End turn\n",
      "Performing action: Mortgage Park Lane\n",
      "Performing action: Unmortgage Trafalgar Square\n",
      "Performing action: Mortgage Bow Street\n",
      "Performing action: Mortgage Trafalgar Square\n",
      "Performing action: Unmortgage Bow Street\n",
      "Performing action: Mortgage Bow Street\n",
      "Performing action: End turn\n",
      "Performing action: Unmortgage Trafalgar Square\n",
      "Performing action: Mortgage Trafalgar Square\n",
      "Performing action: Unmortgage Trafalgar Square\n",
      "Performing action: Unmortgage Park Lane\n",
      "Performing action: Mortgage Trafalgar Square\n",
      "Performing action: Mortgage Park Lane\n",
      "Performing action: Unmortgage Bow Street\n",
      "Performing action: Mortgage Bow Street\n",
      "Performing action: Unmortgage Park Lane\n",
      "Performing action: Unmortgage Bow Street\n",
      "Performing action: End turn\n",
      "Performing action: End turn\n",
      "Performing action: Mortgage Park Lane\n",
      "Performing action: Mortgage Bow Street\n",
      "Performing action: Unmortgage Bow Street\n",
      "Performing action: Unmortgage Trafalgar Square\n",
      "Performing action: Unmortgage Park Lane\n",
      "Performing action: Pay 50 to get out of jail\n",
      "Performing action: End turn\n",
      "Performing action: Mortgage Trafalgar Square\n",
      "Performing action: Mortgage Park Lane\n",
      "Performing action: End turn\n",
      "Performing action: Unmortgage Trafalgar Square\n",
      "Performing action: Mortgage Bow Street\n",
      "Performing action: End turn\n",
      "Performing action: Unmortgage Bow Street\n",
      "Performing action: Mortgage Bow Street\n",
      "Performing action: Mortgage Trafalgar Square\n",
      "Performing action: Unmortgage Bow Street\n",
      "Performing action: End turn\n",
      "Performing action: Pay 50 to get out of jail\n",
      "Performing action: Unmortgage Trafalgar Square\n",
      "Performing action: End turn\n",
      "Performing action: End turn\n",
      "Performing action: Unmortgage Park Lane\n",
      "Performing action: End turn\n",
      "Performing action: Mortgage Park Lane\n",
      "Performing action: Mortgage Bow Street\n",
      "Performing action: Unmortgage Park Lane\n",
      "Performing action: Mortgage Park Lane\n",
      "Performing action: Mortgage Trafalgar Square\n",
      "Performing action: End turn\n",
      "Performing action: Unmortgage Park Lane\n",
      "Performing action: Mortgage Park Lane\n",
      "Performing action: Pay 50 to get out of jail\n",
      "Performing action: End turn\n",
      "Performing action: Unmortgage Park Lane\n",
      "Performing action: Mortgage Park Lane\n",
      "Performing action: Unmortgage Trafalgar Square\n",
      "Performing action: Unmortgage Park Lane\n",
      "Performing action: End turn\n",
      "Performing action: End turn\n",
      "Performing action: End turn\n",
      "Performing action: Mortgage Park Lane\n",
      "Performing action: Unmortgage Park Lane\n",
      "Performing action: Unmortgage Bow Street\n",
      "Performing action: Mortgage Park Lane\n",
      "Performing action: Pay 50 to get out of jail\n",
      "Performing action: End turn\n",
      "Performing action: End turn\n",
      "Performing action: Mortgage Trafalgar Square\n",
      "Performing action: Unmortgage Park Lane\n",
      "Performing action: Mortgage Park Lane\n",
      "Performing action: Unmortgage Park Lane\n",
      "Performing action: Mortgage Park Lane\n",
      "Performing action: Unmortgage Trafalgar Square\n",
      "Performing action: Mortgage Bow Street\n",
      "Performing action: Unmortgage Bow Street\n",
      "Performing action: Mortgage Trafalgar Square\n",
      "Performing action: End turn\n",
      "Performing action: End turn\n",
      "Performing action: Mortgage Bow Street\n",
      "Performing action: Unmortgage Park Lane\n",
      "Performing action: Unmortgage Bow Street\n",
      "Performing action: Mortgage Park Lane\n",
      "Performing action: Mortgage Bow Street\n",
      "Performing action: Unmortgage Park Lane\n",
      "Performing action: Unmortgage Bow Street\n",
      "Performing action: Unmortgage Trafalgar Square\n",
      "Performing action: Mortgage Park Lane\n",
      "Performing action: Unmortgage Park Lane\n",
      "Performing action: Mortgage Park Lane\n",
      "Performing action: Unmortgage Park Lane\n",
      "Performing action: End turn\n",
      "Performing action: Mortgage Park Lane\n",
      "Performing action: Mortgage Bow Street\n",
      "Performing action: Mortgage Trafalgar Square\n",
      "Performing action: Unmortgage Trafalgar Square\n",
      "Performing action: Unmortgage Bow Street\n",
      "Performing action: Mortgage Trafalgar Square\n",
      "Performing action: Unmortgage Park Lane\n",
      "Performing action: Mortgage Park Lane\n",
      "Performing action: End turn\n",
      "Performing action: Mortgage Bow Street\n",
      "Performing action: Unmortgage Trafalgar Square\n",
      "Performing action: Mortgage Trafalgar Square\n",
      "Performing action: Unmortgage Park Lane\n",
      "Performing action: End turn\n",
      "Performing action: Mortgage Park Lane\n",
      "Performing action: End turn\n",
      "Performing action: Unmortgage Trafalgar Square\n",
      "Performing action: Unmortgage Bow Street\n",
      "Performing action: Mortgage Bow Street\n",
      "Performing action: Unmortgage Park Lane\n",
      "Performing action: Mortgage Trafalgar Square\n",
      "Performing action: Unmortgage Bow Street\n",
      "Performing action: End turn\n",
      "Performing action: Mortgage Bow Street\n",
      "Performing action: Unmortgage Trafalgar Square\n",
      "Performing action: Mortgage Park Lane\n",
      "Performing action: End turn\n",
      "Performing action: End turn\n",
      "Performing action: Mortgage Trafalgar Square\n",
      "Performing action: End turn\n",
      "Performing action: Unmortgage Bow Street\n",
      "Performing action: Unmortgage Trafalgar Square\n",
      "Performing action: Pay 50 to get out of jail\n",
      "Performing action: Mortgage Trafalgar Square\n",
      "Performing action: Unmortgage Trafalgar Square\n",
      "Performing action: Mortgage Trafalgar Square\n",
      "Performing action: Unmortgage Trafalgar Square\n",
      "Performing action: Mortgage Bow Street\n",
      "Performing action: Unmortgage Bow Street\n",
      "Performing action: Mortgage Bow Street\n",
      "Performing action: Mortgage Trafalgar Square\n",
      "Performing action: Unmortgage Bow Street\n",
      "Performing action: Unmortgage Park Lane\n",
      "Performing action: End turn\n",
      "Performing action: Mortgage Bow Street\n",
      "Performing action: Mortgage Park Lane\n",
      "Performing action: Unmortgage Trafalgar Square\n",
      "Performing action: Unmortgage Bow Street\n",
      "Performing action: Mortgage Trafalgar Square\n",
      "Performing action: End turn\n",
      "Performing action: Unmortgage Trafalgar Square\n",
      "Performing action: Mortgage Bow Street\n",
      "Performing action: End turn\n",
      "Performing action: Mortgage Trafalgar Square\n",
      "Performing action: End turn\n",
      "Performing action: Purchase Old Kent Road\n",
      "Performing action: Mortgage Old Kent Road\n",
      "Performing action: End turn\n",
      "Performing action: Unmortgage Park Lane\n",
      "Performing action: Unmortgage Bow Street\n",
      "Performing action: End turn\n",
      "Performing action: Unmortgage Old Kent Road\n",
      "Performing action: Mortgage Park Lane\n",
      "Performing action: Unmortgage Trafalgar Square\n",
      "Performing action: Mortgage Old Kent Road\n",
      "Performing action: End turn\n",
      "Performing action: End turn\n",
      "Performing action: Mortgage Bow Street\n",
      "Performing action: Unmortgage Old Kent Road\n",
      "Performing action: End turn\n",
      "Performing action: Pay 50 to get out of jail\n",
      "Performing action: Unmortgage Bow Street\n",
      "Performing action: Mortgage Bow Street\n",
      "Performing action: End turn\n",
      "Performing action: Unmortgage Bow Street\n",
      "Performing action: Mortgage Bow Street\n",
      "Performing action: End turn\n",
      "Performing action: Mortgage Trafalgar Square\n",
      "Performing action: Unmortgage Trafalgar Square\n",
      "Performing action: Pay 50 to get out of jail\n",
      "Performing action: Mortgage Trafalgar Square\n",
      "Performing action: Unmortgage Trafalgar Square\n",
      "Performing action: End turn\n",
      "Performing action: Mortgage Trafalgar Square\n",
      "Performing action: Mortgage Old Kent Road\n",
      "Performing action: Unmortgage Bow Street\n",
      "Performing action: Unmortgage Old Kent Road\n",
      "Performing action: End turn\n",
      "Performing action: End turn\n",
      "Performing action: End turn\n",
      "Performing action: Mortgage Bow Street\n",
      "Performing action: Mortgage Old Kent Road\n",
      "Performing action: Unmortgage Old Kent Road\n",
      "Performing action: Unmortgage Trafalgar Square\n",
      "Performing action: Mortgage Old Kent Road\n",
      "Performing action: End turn\n",
      "Performing action: End turn\n",
      "Performing action: Unmortgage Old Kent Road\n",
      "Performing action: End turn\n",
      "Performing action: End turn\n",
      "Performing action: Unmortgage Bow Street\n",
      "Performing action: Mortgage Old Kent Road\n",
      "Performing action: Mortgage Bow Street\n",
      "Performing action: End turn\n",
      "Performing action: Unmortgage Park Lane\n",
      "Performing action: Unmortgage Bow Street\n",
      "Performing action: Unmortgage Old Kent Road\n",
      "Performing action: Mortgage Trafalgar Square\n",
      "Performing action: Mortgage Old Kent Road\n",
      "Performing action: Mortgage Bow Street\n",
      "Performing action: Unmortgage Bow Street\n",
      "Performing action: Unmortgage Trafalgar Square\n",
      "Performing action: Mortgage Bow Street\n",
      "Performing action: End turn\n",
      "Performing action: Unmortgage Old Kent Road\n",
      "Performing action: Mortgage Park Lane\n",
      "Performing action: Mortgage Old Kent Road\n",
      "Performing action: Mortgage Trafalgar Square\n",
      "Performing action: Unmortgage Old Kent Road\n",
      "Performing action: Unmortgage Bow Street\n",
      "Performing action: Unmortgage Trafalgar Square\n",
      "Performing action: End turn\n",
      "Performing action: Unmortgage Park Lane\n",
      "Performing action: End turn\n",
      "Performing action: Mortgage Trafalgar Square\n",
      "Performing action: Mortgage Old Kent Road\n",
      "Performing action: Pay 50 to get out of jail\n",
      "Performing action: Unmortgage Old Kent Road\n",
      "Performing action: Unmortgage Trafalgar Square\n",
      "Performing action: End turn\n",
      "Performing action: Mortgage Old Kent Road\n",
      "Performing action: Unmortgage Old Kent Road\n",
      "Performing action: Mortgage Trafalgar Square\n",
      "Performing action: Unmortgage Trafalgar Square\n",
      "Performing action: Mortgage Bow Street\n",
      "Performing action: Unmortgage Bow Street\n",
      "Performing action: Mortgage Park Lane\n",
      "Performing action: Unmortgage Park Lane\n",
      "Performing action: Mortgage Park Lane\n",
      "Performing action: End turn\n",
      "Performing action: Purchase Oxford Street\n",
      "Performing action: Mortgage Trafalgar Square\n",
      "Performing action: Mortgage Bow Street\n",
      "Performing action: End turn\n",
      "Performing action: Mortgage Old Kent Road\n",
      "Performing action: Unmortgage Park Lane\n",
      "Performing action: End turn\n",
      "Performing action: Unmortgage Old Kent Road\n",
      "Performing action: End turn\n",
      "Performing action: End turn\n",
      "Performing action: Mortgage Old Kent Road\n",
      "Performing action: Mortgage Park Lane\n",
      "Performing action: Mortgage Oxford Street\n",
      "Performing action: Unmortgage Trafalgar Square\n",
      "Performing action: Mortgage Trafalgar Square\n",
      "Performing action: Unmortgage Bow Street\n",
      "Performing action: Mortgage Bow Street\n",
      "Performing action: Unmortgage Trafalgar Square\n",
      "Performing action: Mortgage Trafalgar Square\n",
      "Performing action: Unmortgage Bow Street\n",
      "Performing action: Mortgage Bow Street\n",
      "Performing action: Unmortgage Old Kent Road\n",
      "Performing action: Mortgage Old Kent Road\n",
      "Performing action: End turn\n",
      "Performing action: Unmortgage Old Kent Road\n",
      "Performing action: Mortgage Old Kent Road\n",
      "Performing action: End turn\n",
      "Performing action: Unmortgage Bow Street\n",
      "Performing action: End turn\n",
      "Performing action: Mortgage Bow Street\n",
      "No legal actions left\n"
     ]
    }
   ],
   "source": [
    "while not board.is_terminal():\n",
    "    legal_actions = board.get_legal_actions()\n",
    "\n",
    "    if legal_actions:\n",
    "        action = random.choice(legal_actions)\n",
    "        print(f\"Performing action: {action}\")\n",
    "        board.perform_action(action)\n",
    "    else:\n",
    "        print(\"No legal actions left\")"
   ]
  },
  {
   "cell_type": "code",
   "execution_count": 43,
   "metadata": {},
   "outputs": [
    {
     "data": {
      "text/plain": [
       "(True, False)"
      ]
     },
     "execution_count": 43,
     "metadata": {},
     "output_type": "execute_result"
    }
   ],
   "source": [
    "player1.bankrupt, player2.bankrupt"
   ]
  },
  {
   "cell_type": "code",
   "execution_count": 44,
   "metadata": {},
   "outputs": [],
   "source": [
    "board = MonopolyBoardMCTS()\n",
    "player1 = Player('Cat')\n",
    "player2 = Player('Vlad')\n",
    "\n",
    "player1.money = 10000\n",
    "player2.money = 10000\n",
    "\n",
    "board.add_agent(player1)\n",
    "board.add_other_player(player2)"
   ]
  },
  {
   "cell_type": "code",
   "execution_count": 45,
   "metadata": {},
   "outputs": [
    {
     "name": "stdout",
     "output_type": "stream",
     "text": [
      "Performing action: End turn\n",
      "Performing action: End turn\n",
      "Performing action: End turn\n",
      "Performing action: Purchase The Strand\n",
      "Performing action: End turn\n",
      "Performing action: Purchase Fenchurch St. Station\n",
      "Performing action: Mortgage Fenchurch St. Station\n",
      "Performing action: Mortgage The Strand\n",
      "Performing action: Unmortgage Fenchurch St. Station\n",
      "Performing action: Mortgage Fenchurch St. Station\n",
      "Performing action: Unmortgage Fenchurch St. Station\n",
      "Performing action: Unmortgage The Strand\n",
      "Performing action: Mortgage Fenchurch St. Station\n",
      "Performing action: Unmortgage Fenchurch St. Station\n",
      "Performing action: End turn\n",
      "Performing action: Mortgage Fenchurch St. Station\n",
      "Performing action: Mortgage The Strand\n",
      "Performing action: Unmortgage Fenchurch St. Station\n",
      "Performing action: End turn\n",
      "Performing action: End turn\n",
      "Performing action: Unmortgage The Strand\n",
      "Performing action: End turn\n",
      "Performing action: Mortgage Fenchurch St. Station\n",
      "Performing action: Unmortgage Fenchurch St. Station\n",
      "Performing action: End turn\n",
      "Performing action: End turn\n",
      "Performing action: Purchase Regent Street\n",
      "Performing action: Mortgage Regent Street\n",
      "Performing action: Mortgage The Strand\n",
      "Performing action: Unmortgage The Strand\n",
      "Performing action: Unmortgage Regent Street\n",
      "Performing action: Mortgage The Strand\n",
      "Performing action: Mortgage Fenchurch St. Station\n",
      "Performing action: Unmortgage The Strand\n",
      "Performing action: Mortgage Regent Street\n",
      "Performing action: End turn\n",
      "Performing action: End turn\n",
      "Performing action: Unmortgage Regent Street\n",
      "Performing action: Unmortgage Fenchurch St. Station\n",
      "Performing action: Mortgage Regent Street\n",
      "Performing action: Unmortgage Regent Street\n",
      "Performing action: Mortgage The Strand\n",
      "Performing action: End turn\n",
      "Performing action: End turn\n",
      "Performing action: Unmortgage The Strand\n",
      "Performing action: Mortgage The Strand\n",
      "Performing action: Mortgage Regent Street\n",
      "Performing action: End turn\n",
      "Performing action: Unmortgage The Strand\n",
      "Performing action: Mortgage Fenchurch St. Station\n",
      "Performing action: Mortgage The Strand\n",
      "Performing action: Unmortgage Regent Street\n",
      "Performing action: Unmortgage Fenchurch St. Station\n",
      "Performing action: Mortgage Regent Street\n",
      "Performing action: Mortgage Fenchurch St. Station\n",
      "Performing action: Unmortgage Fenchurch St. Station\n",
      "Performing action: Unmortgage Regent Street\n",
      "Performing action: Mortgage Regent Street\n",
      "Performing action: End turn\n",
      "Performing action: Pay 50 to get out of jail\n",
      "Performing action: Mortgage Fenchurch St. Station\n",
      "Performing action: Unmortgage Regent Street\n",
      "Performing action: Mortgage Regent Street\n",
      "Performing action: End turn\n",
      "Performing action: Purchase Liverpool St. Station\n",
      "Performing action: Unmortgage Fenchurch St. Station\n",
      "Performing action: Unmortgage The Strand\n",
      "Performing action: End turn\n",
      "Performing action: Mortgage The Strand\n",
      "Performing action: End turn\n",
      "Performing action: Mortgage Liverpool St. Station\n",
      "Performing action: Unmortgage Regent Street\n",
      "Performing action: End turn\n",
      "Performing action: Unmortgage Liverpool St. Station\n",
      "Performing action: Mortgage Regent Street\n",
      "Performing action: Mortgage Liverpool St. Station\n",
      "Performing action: Mortgage Fenchurch St. Station\n",
      "Performing action: Unmortgage Fenchurch St. Station\n",
      "Performing action: Unmortgage Regent Street\n",
      "Performing action: End turn\n",
      "Performing action: Mortgage Fenchurch St. Station\n",
      "Performing action: Unmortgage The Strand\n",
      "Performing action: Purchase Northumberland Avenue\n",
      "Performing action: Mortgage Northumberland Avenue\n",
      "Performing action: Unmortgage Liverpool St. Station\n",
      "Performing action: End turn\n",
      "Performing action: Mortgage Liverpool St. Station\n",
      "Performing action: End turn\n",
      "Performing action: Mortgage Regent Street\n",
      "Performing action: Mortgage The Strand\n",
      "Performing action: Pay 50 to get out of jail\n",
      "Performing action: End turn\n",
      "Performing action: Unmortgage The Strand\n",
      "Performing action: Unmortgage Regent Street\n",
      "Performing action: Unmortgage Northumberland Avenue\n",
      "Performing action: Unmortgage Liverpool St. Station\n",
      "Performing action: End turn\n",
      "Performing action: Mortgage Liverpool St. Station\n",
      "Performing action: Unmortgage Liverpool St. Station\n",
      "Performing action: Mortgage Northumberland Avenue\n",
      "Performing action: Unmortgage Fenchurch St. Station\n",
      "Performing action: Mortgage Liverpool St. Station\n",
      "Performing action: Mortgage Fenchurch St. Station\n",
      "Performing action: Unmortgage Fenchurch St. Station\n",
      "Performing action: Unmortgage Northumberland Avenue\n",
      "Performing action: Mortgage Fenchurch St. Station\n",
      "Performing action: Pay 50 to get out of jail\n",
      "Performing action: Mortgage The Strand\n",
      "Performing action: Unmortgage Liverpool St. Station\n",
      "Performing action: Mortgage Regent Street\n",
      "Performing action: Unmortgage Regent Street\n",
      "Performing action: End turn\n",
      "Performing action: Mortgage Regent Street\n",
      "Performing action: Mortgage Liverpool St. Station\n",
      "Performing action: End turn\n",
      "Performing action: Mortgage Northumberland Avenue\n",
      "Performing action: End turn\n",
      "Performing action: Unmortgage Fenchurch St. Station\n",
      "Performing action: Unmortgage Regent Street\n",
      "Performing action: Mortgage Fenchurch St. Station\n",
      "Performing action: Unmortgage Liverpool St. Station\n",
      "Performing action: Unmortgage Northumberland Avenue\n",
      "Performing action: End turn\n",
      "Performing action: Unmortgage The Strand\n",
      "Performing action: Mortgage Northumberland Avenue\n",
      "Performing action: Mortgage Liverpool St. Station\n",
      "Performing action: End turn\n",
      "Performing action: Purchase Trafalgar Square\n",
      "Performing action: Unmortgage Northumberland Avenue\n",
      "Performing action: Mortgage Northumberland Avenue\n",
      "Performing action: Unmortgage Liverpool St. Station\n",
      "Performing action: Mortgage Liverpool St. Station\n",
      "Performing action: End turn\n",
      "Performing action: Mortgage Trafalgar Square\n",
      "Performing action: Unmortgage Northumberland Avenue\n",
      "Performing action: Mortgage Northumberland Avenue\n",
      "Performing action: Mortgage The Strand\n",
      "Performing action: End turn\n",
      "Performing action: End turn\n",
      "Performing action: Unmortgage Trafalgar Square\n",
      "Performing action: Unmortgage Liverpool St. Station\n",
      "Performing action: End turn\n",
      "Performing action: Mortgage Liverpool St. Station\n",
      "Performing action: Unmortgage Fenchurch St. Station\n",
      "Performing action: Mortgage Trafalgar Square\n",
      "Performing action: Unmortgage The Strand\n",
      "Performing action: Unmortgage Northumberland Avenue\n",
      "Performing action: Unmortgage Liverpool St. Station\n",
      "Performing action: Mortgage Fenchurch St. Station\n",
      "Performing action: Mortgage The Strand\n",
      "Performing action: Mortgage Regent Street\n",
      "Performing action: Unmortgage Fenchurch St. Station\n",
      "Performing action: Unmortgage Regent Street\n",
      "Performing action: End turn\n",
      "Performing action: Unmortgage The Strand\n",
      "Performing action: Mortgage The Strand\n",
      "Performing action: Unmortgage The Strand\n",
      "Performing action: Mortgage Fenchurch St. Station\n",
      "Performing action: Mortgage The Strand\n",
      "Performing action: Mortgage Northumberland Avenue\n",
      "Performing action: End turn\n",
      "Performing action: End turn\n",
      "Performing action: Unmortgage Trafalgar Square\n",
      "Performing action: Unmortgage Fenchurch St. Station\n",
      "Performing action: Mortgage Fenchurch St. Station\n",
      "Performing action: Unmortgage The Strand\n",
      "Performing action: End turn\n",
      "Performing action: Purchase Oxford Street\n",
      "Performing action: Mortgage Oxford Street\n",
      "Performing action: Mortgage Trafalgar Square\n",
      "Performing action: Mortgage Regent Street\n",
      "Performing action: Unmortgage Trafalgar Square\n",
      "Performing action: Unmortgage Fenchurch St. Station\n",
      "Performing action: Unmortgage Northumberland Avenue\n",
      "Performing action: Mortgage Liverpool St. Station\n",
      "Performing action: Mortgage The Strand\n",
      "Performing action: Unmortgage Regent Street\n",
      "Performing action: Unmortgage The Strand\n",
      "Performing action: End turn\n",
      "Performing action: Unmortgage Oxford Street\n",
      "Performing action: Mortgage Fenchurch St. Station\n",
      "Performing action: End turn\n",
      "Performing action: Mortgage Trafalgar Square\n",
      "Performing action: Mortgage Oxford Street\n",
      "Performing action: Unmortgage Liverpool St. Station\n",
      "Performing action: Mortgage Liverpool St. Station\n",
      "Performing action: Unmortgage Liverpool St. Station\n",
      "Performing action: Mortgage The Strand\n",
      "Performing action: Unmortgage Oxford Street\n",
      "Performing action: End turn\n",
      "Performing action: Mortgage Oxford Street\n",
      "Performing action: End turn\n",
      "Performing action: Unmortgage Oxford Street\n",
      "Performing action: Mortgage Northumberland Avenue\n",
      "Performing action: End turn\n",
      "Performing action: Mortgage Liverpool St. Station\n",
      "Performing action: Unmortgage Liverpool St. Station\n",
      "Performing action: Mortgage Liverpool St. Station\n",
      "Performing action: Mortgage Oxford Street\n",
      "Performing action: End turn\n",
      "Performing action: Unmortgage The Strand\n",
      "Performing action: Unmortgage Fenchurch St. Station\n",
      "Performing action: End turn\n",
      "Performing action: End turn\n",
      "Performing action: Unmortgage Northumberland Avenue\n",
      "Performing action: Unmortgage Trafalgar Square\n",
      "Performing action: Mortgage Trafalgar Square\n",
      "Performing action: Mortgage Regent Street\n",
      "Performing action: Unmortgage Liverpool St. Station\n",
      "Performing action: Mortgage Northumberland Avenue\n",
      "Performing action: Mortgage Fenchurch St. Station\n",
      "Performing action: End turn\n",
      "Performing action: Mortgage The Strand\n",
      "Performing action: Unmortgage Oxford Street\n",
      "Performing action: Mortgage Oxford Street\n",
      "Performing action: Unmortgage Trafalgar Square\n",
      "Performing action: Unmortgage Oxford Street\n",
      "Performing action: Unmortgage Northumberland Avenue\n",
      "Performing action: Unmortgage Fenchurch St. Station\n",
      "Performing action: Mortgage Oxford Street\n",
      "Performing action: Mortgage Liverpool St. Station\n",
      "Performing action: Unmortgage Liverpool St. Station\n",
      "Performing action: Mortgage Fenchurch St. Station\n",
      "Performing action: Mortgage Liverpool St. Station\n",
      "Performing action: Unmortgage The Strand\n",
      "Performing action: Mortgage Northumberland Avenue\n",
      "Performing action: Unmortgage Liverpool St. Station\n",
      "Performing action: Unmortgage Regent Street\n",
      "Performing action: End turn\n",
      "Performing action: Unmortgage Northumberland Avenue\n",
      "Performing action: End turn\n",
      "Performing action: Mortgage Liverpool St. Station\n",
      "Performing action: Mortgage Northumberland Avenue\n",
      "Performing action: Mortgage Regent Street\n",
      "Performing action: End turn\n",
      "Performing action: Unmortgage Liverpool St. Station\n",
      "Performing action: Unmortgage Northumberland Avenue\n",
      "Performing action: End turn\n",
      "Performing action: Mortgage Northumberland Avenue\n",
      "Performing action: Pay 50 to get out of jail\n",
      "Performing action: Unmortgage Fenchurch St. Station\n",
      "Performing action: Unmortgage Northumberland Avenue\n",
      "Performing action: Mortgage Liverpool St. Station\n",
      "Performing action: Unmortgage Regent Street\n",
      "Performing action: Mortgage The Strand\n",
      "Performing action: Unmortgage Liverpool St. Station\n",
      "Performing action: Mortgage Liverpool St. Station\n",
      "Performing action: Mortgage Regent Street\n",
      "Performing action: Mortgage Northumberland Avenue\n",
      "Performing action: End turn\n",
      "Performing action: Unmortgage Regent Street\n",
      "Performing action: Unmortgage The Strand\n",
      "Performing action: Unmortgage Northumberland Avenue\n",
      "Performing action: Mortgage Northumberland Avenue\n",
      "Performing action: Mortgage Regent Street\n",
      "Performing action: Mortgage The Strand\n",
      "Performing action: Unmortgage Northumberland Avenue\n",
      "Performing action: End turn\n",
      "Performing action: Mortgage Fenchurch St. Station\n",
      "Performing action: Mortgage Trafalgar Square\n",
      "Performing action: Unmortgage Oxford Street\n",
      "Performing action: Unmortgage Fenchurch St. Station\n",
      "Performing action: Unmortgage Liverpool St. Station\n",
      "Performing action: Mortgage Fenchurch St. Station\n",
      "Performing action: Unmortgage The Strand\n",
      "Performing action: Mortgage Oxford Street\n",
      "Performing action: Unmortgage Oxford Street\n",
      "Performing action: Unmortgage Regent Street\n",
      "Performing action: Mortgage Northumberland Avenue\n",
      "Performing action: Unmortgage Northumberland Avenue\n",
      "Performing action: End turn\n",
      "Performing action: End turn\n",
      "Performing action: Unmortgage Fenchurch St. Station\n",
      "Performing action: End turn\n",
      "Performing action: Mortgage Fenchurch St. Station\n",
      "Performing action: Mortgage Regent Street\n",
      "Performing action: End turn\n",
      "Performing action: Unmortgage Regent Street\n",
      "Performing action: Unmortgage Fenchurch St. Station\n",
      "Performing action: Mortgage Liverpool St. Station\n",
      "Performing action: Mortgage Regent Street\n",
      "Performing action: Mortgage Fenchurch St. Station\n",
      "Performing action: End turn\n",
      "Performing action: Unmortgage Regent Street\n",
      "Performing action: Mortgage Regent Street\n",
      "Performing action: End turn\n",
      "Performing action: Mortgage Northumberland Avenue\n",
      "Performing action: Unmortgage Regent Street\n",
      "Performing action: Mortgage The Strand\n",
      "Performing action: Mortgage Regent Street\n",
      "Performing action: Unmortgage Trafalgar Square\n",
      "Performing action: Purchase Bond Street\n",
      "Performing action: Mortgage Oxford Street\n",
      "Performing action: Mortgage Bond Street\n",
      "Performing action: Unmortgage Northumberland Avenue\n",
      "Performing action: Buy house on Regent Street\n",
      "Performing action: Sell house on Regent Street\n",
      "Performing action: Unmortgage Fenchurch St. Station\n",
      "Performing action: Unmortgage Liverpool St. Station\n",
      "Performing action: Unmortgage Regent Street\n",
      "Performing action: Buy house on Bond Street\n",
      "Performing action: End turn\n",
      "Performing action: Purchase Whitechapel Road\n",
      "Performing action: Buy house on Oxford Street\n",
      "Performing action: Mortgage Trafalgar Square\n",
      "Performing action: Sell house on Bond Street\n",
      "Performing action: Buy house on Regent Street\n",
      "Performing action: Mortgage Whitechapel Road\n",
      "Performing action: Unmortgage Oxford Street\n",
      "Performing action: Buy house on Bond Street\n",
      "Performing action: Unmortgage The Strand\n",
      "Performing action: Sell house on Regent Street\n",
      "Performing action: Mortgage The Strand\n",
      "Performing action: End turn\n",
      "Performing action: Mortgage Liverpool St. Station\n",
      "Performing action: Unmortgage The Strand\n",
      "Performing action: Mortgage Regent Street\n",
      "Performing action: Buy house on Regent Street\n",
      "Performing action: Buy house on Regent Street\n",
      "Performing action: Unmortgage Liverpool St. Station\n",
      "Performing action: Buy house on Bond Street\n",
      "Performing action: Sell house on Bond Street\n",
      "Performing action: Mortgage The Strand\n",
      "Performing action: Unmortgage Trafalgar Square\n",
      "Performing action: Sell house on Regent Street\n",
      "Performing action: Sell house on Bond Street\n",
      "Performing action: Mortgage Trafalgar Square\n",
      "Performing action: Unmortgage Trafalgar Square\n",
      "Performing action: Mortgage Trafalgar Square\n",
      "Performing action: Buy house on Bond Street\n",
      "Performing action: Unmortgage The Strand\n",
      "Performing action: Mortgage The Strand\n",
      "Performing action: Mortgage Fenchurch St. Station\n",
      "Performing action: Unmortgage Fenchurch St. Station\n",
      "Performing action: Unmortgage Regent Street\n",
      "Performing action: Mortgage Liverpool St. Station\n",
      "Performing action: Buy house on Bond Street\n",
      "Performing action: Buy house on Oxford Street\n",
      "Performing action: Sell house on Bond Street\n",
      "Performing action: Mortgage Fenchurch St. Station\n",
      "Performing action: Buy house on Regent Street\n",
      "Performing action: Unmortgage The Strand\n",
      "Performing action: Buy house on Bond Street\n",
      "Performing action: Sell house on Oxford Street\n",
      "Performing action: Sell house on Bond Street\n",
      "Performing action: Unmortgage Whitechapel Road\n",
      "Performing action: Mortgage Whitechapel Road\n",
      "Performing action: Buy house on Bond Street\n",
      "Performing action: Mortgage The Strand\n",
      "Performing action: Unmortgage Trafalgar Square\n",
      "Performing action: Sell house on Regent Street\n",
      "Performing action: Sell house on Bond Street\n",
      "Performing action: Unmortgage Fenchurch St. Station\n",
      "Performing action: Sell house on Oxford Street\n",
      "Performing action: End turn\n",
      "Performing action: Mortgage Trafalgar Square\n",
      "Performing action: Mortgage Northumberland Avenue\n",
      "Performing action: Sell house on Regent Street\n",
      "Performing action: Mortgage Oxford Street\n",
      "Performing action: Sell house on Bond Street\n",
      "Performing action: Mortgage Regent Street\n",
      "Performing action: Unmortgage Regent Street\n",
      "Performing action: Unmortgage Northumberland Avenue\n",
      "Performing action: Mortgage Regent Street\n",
      "Performing action: Unmortgage The Strand\n",
      "Performing action: Unmortgage Whitechapel Road\n",
      "Performing action: End turn\n",
      "Performing action: Mortgage Fenchurch St. Station\n",
      "Performing action: Mortgage Whitechapel Road\n",
      "Performing action: Unmortgage Fenchurch St. Station\n",
      "Performing action: Mortgage The Strand\n",
      "Performing action: Unmortgage Trafalgar Square\n",
      "Performing action: Mortgage Trafalgar Square\n",
      "Performing action: Unmortgage Liverpool St. Station\n",
      "Performing action: Mortgage Northumberland Avenue\n",
      "Performing action: End turn\n",
      "Performing action: Mortgage Fenchurch St. Station\n",
      "Performing action: Unmortgage Bond Street\n",
      "Performing action: Mortgage Liverpool St. Station\n",
      "Performing action: Unmortgage Liverpool St. Station\n",
      "Performing action: End turn\n",
      "Performing action: Mortgage Bond Street\n",
      "Performing action: Pay 50 to get out of jail\n",
      "Performing action: Unmortgage Northumberland Avenue\n",
      "Performing action: Mortgage Liverpool St. Station\n",
      "Performing action: Mortgage Northumberland Avenue\n",
      "Performing action: Unmortgage Northumberland Avenue\n",
      "Performing action: Unmortgage Whitechapel Road\n",
      "Performing action: End turn\n",
      "Performing action: Mortgage Whitechapel Road\n",
      "Performing action: Unmortgage Fenchurch St. Station\n",
      "Performing action: End turn\n",
      "Performing action: Buy house on Regent Street\n",
      "Performing action: End turn\n",
      "Performing action: Mortgage Fenchurch St. Station\n",
      "Performing action: Unmortgage Fenchurch St. Station\n",
      "Performing action: End turn\n",
      "Performing action: Mortgage Fenchurch St. Station\n",
      "Performing action: End turn\n",
      "Performing action: Unmortgage Whitechapel Road\n",
      "Performing action: Sell house on Regent Street\n",
      "Performing action: Unmortgage Oxford Street\n",
      "Performing action: Mortgage Oxford Street\n",
      "Performing action: Unmortgage Liverpool St. Station\n",
      "Performing action: End turn\n",
      "Performing action: Mortgage Liverpool St. Station\n",
      "Performing action: Pay 50 to get out of jail\n",
      "Performing action: End turn\n",
      "Performing action: Mortgage Whitechapel Road\n",
      "Performing action: End turn\n",
      "Performing action: Mortgage Northumberland Avenue\n",
      "No legal actions left\n"
     ]
    }
   ],
   "source": [
    "while not board.is_terminal():\n",
    "    legal_actions = board.get_legal_actions()\n",
    "\n",
    "    if legal_actions:\n",
    "        action = random.choice(legal_actions)\n",
    "        print(f\"Performing action: {action}\")\n",
    "        board.perform_action(action)\n",
    "    else:\n",
    "        print(\"No legal actions left\")"
   ]
  },
  {
   "cell_type": "code",
   "execution_count": 46,
   "metadata": {},
   "outputs": [
    {
     "data": {
      "text/plain": [
       "(True, False)"
      ]
     },
     "execution_count": 46,
     "metadata": {},
     "output_type": "execute_result"
    }
   ],
   "source": [
    "player1.bankrupt, player2.bankrupt"
   ]
  },
  {
   "cell_type": "markdown",
   "metadata": {},
   "source": [
    "## Testing MCTS class"
   ]
  },
  {
   "cell_type": "code",
   "execution_count": 47,
   "metadata": {},
   "outputs": [],
   "source": [
    "board = MonopolyBoardMCTS()\n",
    "player1 = Player('Cat')\n",
    "player2 = Player('Vlad')\n",
    "\n",
    "board.add_agent(player1)\n",
    "board.add_other_player(player2)"
   ]
  },
  {
   "cell_type": "code",
   "execution_count": 48,
   "metadata": {},
   "outputs": [],
   "source": [
    "mcts = MCTS(board, 10000)"
   ]
  },
  {
   "cell_type": "code",
   "execution_count": 49,
   "metadata": {},
   "outputs": [
    {
     "name": "stderr",
     "output_type": "stream",
     "text": [
      "Running MCTS game:   0%|          | 0/1000 [00:00<?, ?it/s]"
     ]
    },
    {
     "name": "stderr",
     "output_type": "stream",
     "text": [
      "Running MCTS game:   2%|▏         | 24/1000 [35:03<23:45:57, 87.66s/it] \n"
     ]
    }
   ],
   "source": [
    "mcts.run_game()"
   ]
  },
  {
   "cell_type": "code",
   "execution_count": 50,
   "metadata": {},
   "outputs": [
    {
     "data": {
      "text/plain": [
       "['End turn',\n",
       " 'Purchase Mayfair',\n",
       " 'End turn',\n",
       " 'End turn',\n",
       " 'End turn',\n",
       " 'Mortgage Mayfair',\n",
       " 'End turn',\n",
       " 'Unmortgage Mayfair',\n",
       " 'End turn',\n",
       " 'End turn',\n",
       " 'End turn',\n",
       " 'Mortgage Mayfair',\n",
       " 'Purchase Park Lane',\n",
       " 'End turn',\n",
       " 'Buy house on Park Lane',\n",
       " 'Unmortgage Mayfair',\n",
       " 'End turn',\n",
       " 'End turn',\n",
       " 'Buy house on Mayfair',\n",
       " 'Buy house on Park Lane',\n",
       " 'End turn',\n",
       " 'Buy house on Mayfair',\n",
       " 'Buy house on Mayfair',\n",
       " 'End turn']"
      ]
     },
     "execution_count": 50,
     "metadata": {},
     "output_type": "execute_result"
    }
   ],
   "source": [
    "mcts.best_actions"
   ]
  },
  {
   "cell_type": "code",
   "execution_count": 51,
   "metadata": {},
   "outputs": [
    {
     "data": {
      "text/plain": [
       "13"
      ]
     },
     "execution_count": 51,
     "metadata": {},
     "output_type": "execute_result"
    }
   ],
   "source": [
    "mcts.root.state.rounds"
   ]
  },
  {
   "cell_type": "code",
   "execution_count": 52,
   "metadata": {},
   "outputs": [
    {
     "data": {
      "text/plain": [
       "Player Cat is currently as position 0 on the board, with $280.0.             \n",
       " They hold the following properties: ['Mayfair', 'Park Lane'].            \n",
       " They hold the following stations: []            \n",
       " They hold the following utilities: []            \n",
       " The player has 5 houses and 0 hotels             \n",
       " The player is currently not in jail."
      ]
     },
     "execution_count": 52,
     "metadata": {},
     "output_type": "execute_result"
    }
   ],
   "source": [
    "mcts.root.state.agent"
   ]
  },
  {
   "cell_type": "code",
   "execution_count": 53,
   "metadata": {},
   "outputs": [
    {
     "name": "stdout",
     "output_type": "stream",
     "text": [
      "Mayfair False 3 False\n",
      "Park Lane False 2 False\n"
     ]
    }
   ],
   "source": [
    "for prop in mcts.root.state.agent.properties:\n",
    "    print(prop.name, prop.is_mortgaged, prop.num_houses, prop.hotel)"
   ]
  },
  {
   "cell_type": "code",
   "execution_count": 54,
   "metadata": {},
   "outputs": [
    {
     "data": {
      "text/plain": [
       "[Player Vlad is currently as position 39 on the board, with $1385.0.             \n",
       "  They hold the following properties: ['The Angel Islington', 'Pentonville Road', 'Regent Street', 'Oxford Street'].            \n",
       "  They hold the following stations: ['Fenchurch St. Station', \"King's Cross Station\"]            \n",
       "  They hold the following utilities: []            \n",
       "  The player has 0 houses and 0 hotels             \n",
       "  The player is currently not in jail.]"
      ]
     },
     "execution_count": 54,
     "metadata": {},
     "output_type": "execute_result"
    }
   ],
   "source": [
    "mcts.root.state.other_players"
   ]
  },
  {
   "cell_type": "code",
   "execution_count": 55,
   "metadata": {},
   "outputs": [
    {
     "name": "stdout",
     "output_type": "stream",
     "text": [
      "The Angel Islington True 0 False\n",
      "Pentonville Road True 0 False\n",
      "Regent Street True 0 False\n",
      "Oxford Street True 0 False\n"
     ]
    }
   ],
   "source": [
    "for prop in mcts.root.state.other_players[0].properties:\n",
    "    print(prop.name, prop.is_mortgaged, prop.num_houses, prop.hotel)"
   ]
  },
  {
   "cell_type": "code",
   "execution_count": 56,
   "metadata": {},
   "outputs": [
    {
     "data": {
      "text/plain": [
       "[('Cat', False), ('Vlad', True)]"
      ]
     },
     "execution_count": 56,
     "metadata": {},
     "output_type": "execute_result"
    }
   ],
   "source": [
    "[(player.name, player.bankrupt) for player in mcts.root.state.players]"
   ]
  },
  {
   "cell_type": "markdown",
   "metadata": {},
   "source": [
    "And another..."
   ]
  },
  {
   "cell_type": "code",
   "execution_count": 3,
   "metadata": {},
   "outputs": [],
   "source": [
    "random.seed(321)"
   ]
  },
  {
   "cell_type": "code",
   "execution_count": 4,
   "metadata": {},
   "outputs": [],
   "source": [
    "board = MonopolyBoardMCTS()\n",
    "player1 = Player('Cat')\n",
    "player2 = Player('Vlad')\n",
    "\n",
    "board.add_agent(player1)\n",
    "board.add_other_player(player2)"
   ]
  },
  {
   "cell_type": "code",
   "execution_count": 5,
   "metadata": {},
   "outputs": [],
   "source": [
    "mcts = MCTS(board, 10000)"
   ]
  },
  {
   "cell_type": "code",
   "execution_count": 6,
   "metadata": {},
   "outputs": [
    {
     "name": "stderr",
     "output_type": "stream",
     "text": [
      "Running MCTS game:   0%|          | 0/1000 [00:00<?, ?it/s]"
     ]
    },
    {
     "name": "stderr",
     "output_type": "stream",
     "text": [
      "Running MCTS game:  14%|█▍        | 144/1000 [4:45:15<11:09:57, 46.96s/it]   "
     ]
    }
   ],
   "source": [
    "mcts.run_game()"
   ]
  },
  {
   "cell_type": "code",
   "execution_count": 1,
   "metadata": {},
   "outputs": [
    {
     "ename": "NameError",
     "evalue": "name 'mcts' is not defined",
     "output_type": "error",
     "traceback": [
      "\u001b[1;31m---------------------------------------------------------------------------\u001b[0m",
      "\u001b[1;31mNameError\u001b[0m                                 Traceback (most recent call last)",
      "\u001b[1;32mc:\\Users\\cathe\\OneDrive\\Documents\\Capstone - Optimising Monopoly Gameplay Strategies\\Testing\\TestingMCTS.ipynb Cell 40\u001b[0m line \u001b[0;36m1\n\u001b[1;32m----> <a href='vscode-notebook-cell:/c%3A/Users/cathe/OneDrive/Documents/Capstone%20-%20Optimising%20Monopoly%20Gameplay%20Strategies/Testing/TestingMCTS.ipynb#X53sZmlsZQ%3D%3D?line=0'>1</a>\u001b[0m mcts\u001b[39m.\u001b[39mbest_actions\n",
      "\u001b[1;31mNameError\u001b[0m: name 'mcts' is not defined"
     ]
    }
   ],
   "source": [
    "mcts.best_actions"
   ]
  },
  {
   "cell_type": "code",
   "execution_count": null,
   "metadata": {},
   "outputs": [
    {
     "data": {
      "text/plain": [
       "13"
      ]
     },
     "metadata": {},
     "output_type": "display_data"
    }
   ],
   "source": [
    "mcts.root.state.rounds"
   ]
  },
  {
   "cell_type": "code",
   "execution_count": null,
   "metadata": {},
   "outputs": [
    {
     "data": {
      "text/plain": [
       "Player Cat is currently as position 0 on the board, with $280.0.             \n",
       " They hold the following properties: ['Mayfair', 'Park Lane'].            \n",
       " They hold the following stations: []            \n",
       " They hold the following utilities: []            \n",
       " The player has 5 houses and 0 hotels             \n",
       " The player is currently not in jail."
      ]
     },
     "metadata": {},
     "output_type": "display_data"
    }
   ],
   "source": [
    "mcts.root.state.agent"
   ]
  },
  {
   "cell_type": "code",
   "execution_count": null,
   "metadata": {},
   "outputs": [
    {
     "name": "stdout",
     "output_type": "stream",
     "text": [
      "Mayfair False 3 False\n",
      "Park Lane False 2 False\n"
     ]
    }
   ],
   "source": [
    "for prop in mcts.root.state.agent.properties:\n",
    "    print(prop.name, prop.is_mortgaged, prop.num_houses, prop.hotel)"
   ]
  },
  {
   "cell_type": "code",
   "execution_count": null,
   "metadata": {},
   "outputs": [
    {
     "data": {
      "text/plain": [
       "[Player Vlad is currently as position 39 on the board, with $1385.0.             \n",
       "  They hold the following properties: ['The Angel Islington', 'Pentonville Road', 'Regent Street', 'Oxford Street'].            \n",
       "  They hold the following stations: ['Fenchurch St. Station', \"King's Cross Station\"]            \n",
       "  They hold the following utilities: []            \n",
       "  The player has 0 houses and 0 hotels             \n",
       "  The player is currently not in jail.]"
      ]
     },
     "metadata": {},
     "output_type": "display_data"
    }
   ],
   "source": [
    "mcts.root.state.other_players"
   ]
  },
  {
   "cell_type": "code",
   "execution_count": null,
   "metadata": {},
   "outputs": [
    {
     "name": "stdout",
     "output_type": "stream",
     "text": [
      "The Angel Islington True 0 False\n",
      "Pentonville Road True 0 False\n",
      "Regent Street True 0 False\n",
      "Oxford Street True 0 False\n"
     ]
    }
   ],
   "source": [
    "for prop in mcts.root.state.other_players[0].properties:\n",
    "    print(prop.name, prop.is_mortgaged, prop.num_houses, prop.hotel)"
   ]
  },
  {
   "cell_type": "code",
   "execution_count": null,
   "metadata": {},
   "outputs": [
    {
     "data": {
      "text/plain": [
       "[('Cat', False), ('Vlad', True)]"
      ]
     },
     "metadata": {},
     "output_type": "display_data"
    }
   ],
   "source": [
    "[(player.name, player.bankrupt) for player in mcts.root.state.players]"
   ]
  },
  {
   "cell_type": "markdown",
   "metadata": {},
   "source": [
    "## Testing MCTS class with random strategy"
   ]
  },
  {
   "cell_type": "code",
   "execution_count": 2,
   "metadata": {},
   "outputs": [],
   "source": [
    "board = MonopolyBoardMCTS()\n",
    "player1 = Player('Cat')\n",
    "player2 = Player('Vlad')\n",
    "\n",
    "board.add_agent(player1)\n",
    "board.add_other_player(player2)"
   ]
  },
  {
   "cell_type": "code",
   "execution_count": 3,
   "metadata": {},
   "outputs": [],
   "source": [
    "random_strategy = RandomStrategy()\n",
    "board.strategy = random_strategy"
   ]
  },
  {
   "cell_type": "code",
   "execution_count": 4,
   "metadata": {},
   "outputs": [],
   "source": [
    "mcts = MCTS(board, 1000)"
   ]
  },
  {
   "cell_type": "code",
   "execution_count": 5,
   "metadata": {},
   "outputs": [
    {
     "name": "stderr",
     "output_type": "stream",
     "text": [
      "Running MCTS game:  45%|████▍     | 448/1000 [1:04:02<1:18:54,  8.58s/it]\n"
     ]
    }
   ],
   "source": [
    "mcts.run_game()"
   ]
  },
  {
   "cell_type": "code",
   "execution_count": 6,
   "metadata": {},
   "outputs": [
    {
     "data": {
      "text/plain": [
       "['End turn',\n",
       " 'End turn',\n",
       " 'End turn',\n",
       " 'End turn',\n",
       " 'End turn',\n",
       " 'End turn',\n",
       " 'End turn',\n",
       " 'End turn',\n",
       " 'End turn',\n",
       " 'End turn',\n",
       " 'End turn',\n",
       " 'Pay 50 to get out of jail',\n",
       " 'Purchase Leicester Square',\n",
       " 'Mortgage Leicester Square',\n",
       " 'Unmortgage Leicester Square',\n",
       " 'Mortgage Leicester Square',\n",
       " 'End turn',\n",
       " 'Unmortgage Leicester Square',\n",
       " 'End turn',\n",
       " 'Mortgage Leicester Square',\n",
       " 'Purchase Old Kent Road',\n",
       " 'Unmortgage Leicester Square',\n",
       " 'End turn',\n",
       " 'Purchase Euston Road',\n",
       " 'Mortgage Old Kent Road',\n",
       " 'Mortgage Leicester Square',\n",
       " 'Mortgage Euston Road',\n",
       " 'Unmortgage Euston Road',\n",
       " 'Unmortgage Leicester Square',\n",
       " 'Unmortgage Old Kent Road',\n",
       " 'Mortgage Euston Road',\n",
       " 'Unmortgage Euston Road',\n",
       " 'Mortgage Leicester Square',\n",
       " 'End turn',\n",
       " 'Mortgage Old Kent Road',\n",
       " 'Unmortgage Leicester Square',\n",
       " 'Purchase Marlborough Street',\n",
       " 'Mortgage Euston Road',\n",
       " 'Mortgage Marlborough Street',\n",
       " 'Unmortgage Old Kent Road',\n",
       " 'Unmortgage Euston Road',\n",
       " 'Mortgage Euston Road',\n",
       " 'Mortgage Old Kent Road',\n",
       " 'Unmortgage Marlborough Street',\n",
       " 'Unmortgage Euston Road',\n",
       " 'End turn',\n",
       " 'End turn',\n",
       " 'Unmortgage Old Kent Road',\n",
       " 'Mortgage Euston Road',\n",
       " 'Mortgage Leicester Square',\n",
       " 'Unmortgage Leicester Square',\n",
       " 'Mortgage Old Kent Road',\n",
       " 'Unmortgage Old Kent Road',\n",
       " 'Mortgage Marlborough Street',\n",
       " 'Mortgage Old Kent Road',\n",
       " 'Mortgage Leicester Square',\n",
       " 'Unmortgage Old Kent Road',\n",
       " 'Unmortgage Euston Road',\n",
       " 'End turn',\n",
       " 'Unmortgage Marlborough Street',\n",
       " 'Unmortgage Leicester Square',\n",
       " 'End turn',\n",
       " 'Mortgage Old Kent Road',\n",
       " 'Mortgage Leicester Square',\n",
       " 'Unmortgage Leicester Square',\n",
       " 'Unmortgage Old Kent Road',\n",
       " 'Mortgage Euston Road',\n",
       " 'End turn',\n",
       " 'Unmortgage Euston Road',\n",
       " 'End turn',\n",
       " 'Mortgage Euston Road',\n",
       " 'Mortgage Old Kent Road',\n",
       " 'Pay 50 to get out of jail',\n",
       " 'End turn',\n",
       " 'Mortgage Leicester Square',\n",
       " 'End turn',\n",
       " 'Unmortgage Leicester Square',\n",
       " 'Unmortgage Euston Road',\n",
       " 'Unmortgage Old Kent Road',\n",
       " 'Mortgage Leicester Square',\n",
       " 'Mortgage Old Kent Road',\n",
       " 'Mortgage Marlborough Street',\n",
       " 'Unmortgage Marlborough Street',\n",
       " 'Unmortgage Old Kent Road',\n",
       " 'Mortgage Euston Road',\n",
       " 'Mortgage Old Kent Road',\n",
       " 'Unmortgage Leicester Square',\n",
       " 'Mortgage Marlborough Street',\n",
       " 'End turn',\n",
       " 'Mortgage Leicester Square',\n",
       " 'Unmortgage Leicester Square',\n",
       " 'Unmortgage Marlborough Street',\n",
       " 'End turn',\n",
       " 'End turn',\n",
       " 'Mortgage Leicester Square',\n",
       " 'Mortgage Marlborough Street',\n",
       " 'Unmortgage Euston Road',\n",
       " 'End turn',\n",
       " 'Unmortgage Leicester Square',\n",
       " 'Unmortgage Marlborough Street',\n",
       " 'Unmortgage Old Kent Road',\n",
       " 'Mortgage Old Kent Road',\n",
       " 'Mortgage Euston Road',\n",
       " 'End turn',\n",
       " 'Unmortgage Euston Road',\n",
       " 'Mortgage Marlborough Street',\n",
       " 'End turn',\n",
       " 'Mortgage Euston Road',\n",
       " 'Unmortgage Marlborough Street',\n",
       " 'Mortgage Marlborough Street',\n",
       " 'Unmortgage Euston Road',\n",
       " 'Unmortgage Old Kent Road',\n",
       " 'Mortgage Euston Road',\n",
       " 'Unmortgage Euston Road',\n",
       " 'Mortgage Old Kent Road',\n",
       " 'Purchase Vine Street',\n",
       " 'Unmortgage Marlborough Street',\n",
       " 'End turn',\n",
       " 'Mortgage Leicester Square',\n",
       " 'Unmortgage Old Kent Road',\n",
       " 'Mortgage Marlborough Street',\n",
       " 'Unmortgage Marlborough Street',\n",
       " 'End turn',\n",
       " 'Mortgage Marlborough Street',\n",
       " 'Mortgage Euston Road',\n",
       " 'Mortgage Old Kent Road',\n",
       " 'Unmortgage Marlborough Street',\n",
       " 'Unmortgage Leicester Square',\n",
       " 'Pay 50 to get out of jail',\n",
       " 'Mortgage Leicester Square',\n",
       " 'Unmortgage Old Kent Road',\n",
       " 'Mortgage Old Kent Road',\n",
       " 'End turn',\n",
       " 'Unmortgage Leicester Square',\n",
       " 'Mortgage Marlborough Street',\n",
       " 'Unmortgage Old Kent Road',\n",
       " 'Unmortgage Euston Road',\n",
       " 'Mortgage Leicester Square',\n",
       " 'Unmortgage Leicester Square',\n",
       " 'Mortgage Euston Road',\n",
       " 'Mortgage Old Kent Road',\n",
       " 'Mortgage Vine Street',\n",
       " 'Pay 50 to get out of jail',\n",
       " 'Unmortgage Marlborough Street',\n",
       " 'Unmortgage Euston Road',\n",
       " 'Mortgage Marlborough Street',\n",
       " 'Mortgage Leicester Square',\n",
       " 'Unmortgage Leicester Square',\n",
       " 'Unmortgage Marlborough Street',\n",
       " 'Unmortgage Vine Street',\n",
       " 'Mortgage Euston Road',\n",
       " 'Mortgage Marlborough Street',\n",
       " 'Unmortgage Euston Road',\n",
       " 'Mortgage Euston Road',\n",
       " 'Unmortgage Marlborough Street',\n",
       " 'Unmortgage Old Kent Road',\n",
       " 'Mortgage Marlborough Street',\n",
       " 'End turn',\n",
       " 'Unmortgage Marlborough Street',\n",
       " 'Mortgage Leicester Square',\n",
       " 'Mortgage Vine Street',\n",
       " 'Mortgage Old Kent Road',\n",
       " 'Unmortgage Leicester Square',\n",
       " 'End turn',\n",
       " 'Unmortgage Euston Road',\n",
       " 'End turn',\n",
       " 'Purchase Water Works',\n",
       " 'Unmortgage Old Kent Road',\n",
       " 'Mortgage Euston Road',\n",
       " 'Mortgage Leicester Square',\n",
       " 'Mortgage Marlborough Street',\n",
       " 'Unmortgage Marlborough Street',\n",
       " 'Unmortgage Leicester Square',\n",
       " 'End turn',\n",
       " 'Mortgage Leicester Square',\n",
       " 'Unmortgage Vine Street',\n",
       " 'Mortgage Vine Street',\n",
       " 'Mortgage Old Kent Road',\n",
       " 'Unmortgage Euston Road',\n",
       " 'End turn',\n",
       " 'Mortgage Euston Road',\n",
       " 'Unmortgage Euston Road',\n",
       " 'End turn',\n",
       " 'Mortgage Marlborough Street',\n",
       " 'End turn',\n",
       " 'Mortgage Euston Road',\n",
       " 'Unmortgage Marlborough Street',\n",
       " 'Unmortgage Old Kent Road',\n",
       " 'Mortgage Old Kent Road',\n",
       " 'Unmortgage Euston Road',\n",
       " 'Unmortgage Leicester Square',\n",
       " 'Unmortgage Vine Street',\n",
       " 'Mortgage Water Works',\n",
       " 'Unmortgage Old Kent Road',\n",
       " 'Mortgage Marlborough Street',\n",
       " 'Mortgage Euston Road',\n",
       " 'Unmortgage Water Works',\n",
       " 'Mortgage Old Kent Road',\n",
       " 'Mortgage Water Works',\n",
       " 'Unmortgage Old Kent Road',\n",
       " 'Mortgage Leicester Square',\n",
       " 'Mortgage Old Kent Road',\n",
       " 'Unmortgage Leicester Square',\n",
       " 'Unmortgage Marlborough Street',\n",
       " 'Mortgage Marlborough Street',\n",
       " 'Unmortgage Marlborough Street',\n",
       " 'Mortgage Leicester Square',\n",
       " 'Unmortgage Euston Road',\n",
       " 'Unmortgage Leicester Square',\n",
       " 'Unmortgage Old Kent Road',\n",
       " 'Mortgage Vine Street',\n",
       " 'Unmortgage Water Works',\n",
       " 'Mortgage Leicester Square',\n",
       " 'End turn',\n",
       " 'Mortgage Old Kent Road',\n",
       " 'Unmortgage Leicester Square',\n",
       " 'Mortgage Marlborough Street',\n",
       " 'Unmortgage Marlborough Street',\n",
       " 'Mortgage Euston Road',\n",
       " 'Unmortgage Old Kent Road',\n",
       " 'Unmortgage Euston Road',\n",
       " 'Mortgage Water Works',\n",
       " 'Mortgage Old Kent Road',\n",
       " 'Mortgage Marlborough Street',\n",
       " 'Unmortgage Vine Street',\n",
       " 'Mortgage Vine Street',\n",
       " 'Unmortgage Old Kent Road',\n",
       " 'Unmortgage Water Works',\n",
       " 'Mortgage Old Kent Road',\n",
       " 'Unmortgage Marlborough Street',\n",
       " 'Unmortgage Vine Street',\n",
       " 'Mortgage Leicester Square',\n",
       " 'Unmortgage Old Kent Road',\n",
       " 'Mortgage Water Works',\n",
       " 'Mortgage Euston Road',\n",
       " 'Unmortgage Euston Road',\n",
       " 'Mortgage Vine Street',\n",
       " 'Purchase Fleet Street',\n",
       " 'Mortgage Euston Road',\n",
       " 'Unmortgage Leicester Square',\n",
       " 'Unmortgage Water Works',\n",
       " 'Mortgage Water Works',\n",
       " 'Mortgage Fleet Street',\n",
       " 'Unmortgage Water Works',\n",
       " 'Unmortgage Fleet Street',\n",
       " 'End turn',\n",
       " 'Mortgage Old Kent Road',\n",
       " 'Mortgage Leicester Square',\n",
       " 'Unmortgage Euston Road',\n",
       " 'Pay 50 to get out of jail',\n",
       " 'Mortgage Marlborough Street',\n",
       " 'Mortgage Euston Road',\n",
       " 'Unmortgage Leicester Square',\n",
       " 'Mortgage Fleet Street',\n",
       " 'Unmortgage Euston Road',\n",
       " 'Mortgage Water Works',\n",
       " 'Unmortgage Water Works',\n",
       " 'Unmortgage Fleet Street',\n",
       " 'End turn',\n",
       " 'Mortgage Euston Road',\n",
       " 'Unmortgage Marlborough Street',\n",
       " 'Mortgage Marlborough Street',\n",
       " 'Unmortgage Marlborough Street',\n",
       " 'Unmortgage Old Kent Road',\n",
       " 'Mortgage Old Kent Road',\n",
       " 'Mortgage Water Works',\n",
       " 'Unmortgage Euston Road',\n",
       " 'Unmortgage Old Kent Road',\n",
       " 'Mortgage Euston Road',\n",
       " 'Unmortgage Vine Street',\n",
       " 'Mortgage Leicester Square',\n",
       " 'Purchase Bow Street',\n",
       " 'Mortgage Marlborough Street',\n",
       " 'Mortgage Vine Street',\n",
       " 'Mortgage Fleet Street',\n",
       " 'Mortgage Old Kent Road',\n",
       " 'End turn',\n",
       " 'End turn',\n",
       " 'Unmortgage Marlborough Street',\n",
       " 'Mortgage Bow Street',\n",
       " 'Buy house on Bow Street',\n",
       " 'End turn',\n",
       " 'Unmortgage Euston Road',\n",
       " 'Buy house on Vine Street',\n",
       " 'Unmortgage Vine Street',\n",
       " 'Unmortgage Old Kent Road',\n",
       " 'Unmortgage Water Works',\n",
       " 'Sell house on Vine Street',\n",
       " 'Mortgage Old Kent Road',\n",
       " 'Unmortgage Fleet Street',\n",
       " 'Mortgage Euston Road',\n",
       " 'Unmortgage Old Kent Road',\n",
       " 'Unmortgage Leicester Square',\n",
       " 'Mortgage Old Kent Road',\n",
       " 'Mortgage Fleet Street',\n",
       " 'Unmortgage Old Kent Road',\n",
       " 'Mortgage Marlborough Street',\n",
       " 'Mortgage Water Works',\n",
       " 'Unmortgage Bow Street',\n",
       " 'Unmortgage Marlborough Street',\n",
       " 'Unmortgage Water Works',\n",
       " 'End turn',\n",
       " 'Mortgage Vine Street',\n",
       " 'Mortgage Water Works',\n",
       " 'Mortgage Marlborough Street',\n",
       " 'Mortgage Old Kent Road',\n",
       " 'Mortgage Leicester Square',\n",
       " 'End turn',\n",
       " 'Unmortgage Old Kent Road',\n",
       " 'Purchase Electric Company',\n",
       " 'Mortgage Old Kent Road',\n",
       " 'Unmortgage Fleet Street',\n",
       " 'Unmortgage Vine Street',\n",
       " 'Mortgage Electric Company',\n",
       " 'Buy house on Vine Street',\n",
       " 'Unmortgage Leicester Square',\n",
       " 'Sell house on Vine Street',\n",
       " 'Mortgage Fleet Street',\n",
       " 'Unmortgage Electric Company',\n",
       " 'Unmortgage Euston Road',\n",
       " 'Mortgage Electric Company',\n",
       " 'Sell house on Bow Street',\n",
       " 'Buy house on Vine Street',\n",
       " 'Unmortgage Fleet Street',\n",
       " 'Mortgage Fleet Street',\n",
       " 'Buy house on Marlborough Street',\n",
       " 'Mortgage Bow Street',\n",
       " 'Unmortgage Electric Company',\n",
       " 'Sell house on Marlborough Street',\n",
       " 'End turn',\n",
       " 'Mortgage Euston Road',\n",
       " 'Mortgage Electric Company',\n",
       " 'Unmortgage Bow Street',\n",
       " 'Sell house on Vine Street',\n",
       " 'Mortgage Vine Street',\n",
       " 'Unmortgage Marlborough Street',\n",
       " 'Mortgage Bow Street',\n",
       " 'Unmortgage Electric Company',\n",
       " 'Unmortgage Euston Road',\n",
       " 'Mortgage Electric Company',\n",
       " 'Mortgage Leicester Square',\n",
       " 'End turn',\n",
       " 'Unmortgage Electric Company',\n",
       " 'Buy house on Vine Street',\n",
       " 'Mortgage Marlborough Street',\n",
       " 'Unmortgage Bow Street',\n",
       " 'Mortgage Electric Company',\n",
       " 'Unmortgage Old Kent Road',\n",
       " 'Sell house on Vine Street',\n",
       " 'Mortgage Bow Street',\n",
       " 'Buy house on Marlborough Street',\n",
       " 'Mortgage Euston Road',\n",
       " 'Buy house on Vine Street',\n",
       " 'End turn',\n",
       " 'Sell house on Marlborough Street',\n",
       " 'Unmortgage Marlborough Street',\n",
       " 'Mortgage Marlborough Street',\n",
       " 'Sell house on Vine Street',\n",
       " 'Buy house on Vine Street',\n",
       " 'Sell house on Vine Street',\n",
       " 'Unmortgage Water Works',\n",
       " 'Mortgage Old Kent Road',\n",
       " 'End turn',\n",
       " 'End turn',\n",
       " 'Unmortgage Old Kent Road',\n",
       " 'Mortgage Old Kent Road',\n",
       " 'End turn',\n",
       " 'Unmortgage Old Kent Road',\n",
       " 'Mortgage Water Works',\n",
       " 'End turn',\n",
       " 'Mortgage Old Kent Road',\n",
       " 'End turn',\n",
       " 'Unmortgage Old Kent Road',\n",
       " 'Unmortgage Water Works',\n",
       " 'Unmortgage Euston Road',\n",
       " 'Mortgage Old Kent Road',\n",
       " 'End turn',\n",
       " 'Mortgage Euston Road',\n",
       " 'Unmortgage Marlborough Street',\n",
       " 'Mortgage Marlborough Street',\n",
       " 'Unmortgage Old Kent Road',\n",
       " 'Mortgage Old Kent Road',\n",
       " 'Unmortgage Electric Company',\n",
       " 'Mortgage Electric Company',\n",
       " 'Unmortgage Old Kent Road',\n",
       " 'Mortgage Old Kent Road',\n",
       " 'End turn',\n",
       " 'Unmortgage Old Kent Road',\n",
       " 'End turn',\n",
       " 'Unmortgage Leicester Square',\n",
       " 'End turn',\n",
       " 'Mortgage Leicester Square',\n",
       " 'Unmortgage Vine Street',\n",
       " 'Unmortgage Euston Road',\n",
       " 'Unmortgage Fleet Street',\n",
       " 'Mortgage Vine Street',\n",
       " 'Unmortgage Electric Company',\n",
       " 'Mortgage Water Works',\n",
       " 'End turn',\n",
       " 'Mortgage Fleet Street',\n",
       " 'Mortgage Old Kent Road',\n",
       " 'Unmortgage Vine Street',\n",
       " 'Buy house on Bow Street',\n",
       " 'Sell house on Bow Street',\n",
       " 'Mortgage Euston Road',\n",
       " 'Unmortgage Bow Street',\n",
       " 'Mortgage Bow Street',\n",
       " 'Buy house on Bow Street',\n",
       " 'End turn',\n",
       " 'Unmortgage Old Kent Road',\n",
       " 'Sell house on Bow Street',\n",
       " 'End turn',\n",
       " 'Mortgage Vine Street',\n",
       " 'Unmortgage Marlborough Street',\n",
       " 'Mortgage Electric Company',\n",
       " 'Buy house on Bow Street',\n",
       " 'End turn',\n",
       " 'End turn',\n",
       " 'Mortgage Marlborough Street',\n",
       " 'End turn',\n",
       " 'Sell house on Bow Street',\n",
       " 'Unmortgage Electric Company',\n",
       " 'Pay 50 to get out of jail',\n",
       " 'Mortgage Electric Company',\n",
       " 'Unmortgage Electric Company',\n",
       " 'Mortgage Old Kent Road',\n",
       " 'Mortgage Electric Company',\n",
       " 'Unmortgage Electric Company',\n",
       " 'Unmortgage Old Kent Road',\n",
       " 'Mortgage Old Kent Road',\n",
       " 'End turn',\n",
       " 'End turn',\n",
       " 'Mortgage Electric Company',\n",
       " 'Unmortgage Marlborough Street',\n",
       " 'Mortgage Marlborough Street',\n",
       " 'Unmortgage Electric Company',\n",
       " 'Mortgage Electric Company',\n",
       " 'Unmortgage Electric Company',\n",
       " 'Mortgage Electric Company',\n",
       " 'End turn',\n",
       " 'Unmortgage Euston Road',\n",
       " 'End turn',\n",
       " 'Mortgage Euston Road',\n",
       " 'End turn',\n",
       " 'End turn',\n",
       " 'Unmortgage Old Kent Road',\n",
       " 'End turn',\n",
       " 'Mortgage Old Kent Road']"
      ]
     },
     "execution_count": 6,
     "metadata": {},
     "output_type": "execute_result"
    }
   ],
   "source": [
    "mcts.best_actions"
   ]
  },
  {
   "cell_type": "code",
   "execution_count": 7,
   "metadata": {},
   "outputs": [
    {
     "data": {
      "text/plain": [
       "72"
      ]
     },
     "execution_count": 7,
     "metadata": {},
     "output_type": "execute_result"
    }
   ],
   "source": [
    "mcts.root.state.rounds"
   ]
  },
  {
   "cell_type": "code",
   "execution_count": 8,
   "metadata": {},
   "outputs": [
    {
     "data": {
      "text/plain": [
       "Player Cat is currently as position 15 on the board, with $81.25.             \n",
       " They hold the following properties: ['Leicester Square', 'Old Kent Road', 'Euston Road', 'Marlborough Street', 'Vine Street', 'Fleet Street', 'Bow Street'].            \n",
       " They hold the following stations: []            \n",
       " They hold the following utilities: ['Water Works', 'Electric Company']            \n",
       " The player has 0 houses and 0 hotels             \n",
       " The player is currently not in jail."
      ]
     },
     "execution_count": 8,
     "metadata": {},
     "output_type": "execute_result"
    }
   ],
   "source": [
    "mcts.root.state.agent"
   ]
  },
  {
   "cell_type": "code",
   "execution_count": 9,
   "metadata": {},
   "outputs": [
    {
     "name": "stdout",
     "output_type": "stream",
     "text": [
      "Leicester Square True 0 False\n",
      "Old Kent Road True 0 False\n",
      "Euston Road True 0 False\n",
      "Marlborough Street True 0 False\n",
      "Vine Street True 0 False\n",
      "Fleet Street True 0 False\n",
      "Bow Street True 0 False\n"
     ]
    }
   ],
   "source": [
    "for prop in mcts.root.state.agent.properties:\n",
    "    print(prop.name, prop.is_mortgaged, prop.num_houses, prop.hotel)"
   ]
  },
  {
   "cell_type": "code",
   "execution_count": 10,
   "metadata": {},
   "outputs": [
    {
     "data": {
      "text/plain": [
       "[Player Vlad is currently as position 20 on the board, with $502.0.             \n",
       "  They hold the following properties: ['Pentonville Road', 'Whitechapel Road', 'Northumberland Avenue', 'Piccadilly', 'Bond Street', 'Pall Mall', 'Trafalgar Square', 'Oxford Street', 'The Angel Islington', 'Whitehall', 'Mayfair', 'Coventry Street'].            \n",
       "  They hold the following stations: [\"King's Cross Station\", 'Liverpool St. Station', 'Marylebone Station']            \n",
       "  They hold the following utilities: []            \n",
       "  The player has 4 houses and 0 hotels             \n",
       "  The player is currently not in jail.]"
      ]
     },
     "execution_count": 10,
     "metadata": {},
     "output_type": "execute_result"
    }
   ],
   "source": [
    "mcts.root.state.other_players"
   ]
  },
  {
   "cell_type": "code",
   "execution_count": 11,
   "metadata": {},
   "outputs": [
    {
     "name": "stdout",
     "output_type": "stream",
     "text": [
      "Pentonville Road False 0 False\n",
      "Whitechapel Road False 0 False\n",
      "Northumberland Avenue False 2 False\n",
      "Piccadilly False 0 False\n",
      "Bond Street False 0 False\n",
      "Pall Mall False 2 False\n",
      "Trafalgar Square False 0 False\n",
      "Oxford Street False 0 False\n",
      "The Angel Islington False 0 False\n",
      "Whitehall False 0 False\n",
      "Mayfair False 0 False\n",
      "Coventry Street False 0 False\n"
     ]
    }
   ],
   "source": [
    "for prop in mcts.root.state.other_players[0].properties:\n",
    "    print(prop.name, prop.is_mortgaged, prop.num_houses, prop.hotel)"
   ]
  },
  {
   "cell_type": "code",
   "execution_count": 12,
   "metadata": {},
   "outputs": [
    {
     "data": {
      "text/plain": [
       "[('Cat', True), ('Vlad', False)]"
      ]
     },
     "execution_count": 12,
     "metadata": {},
     "output_type": "execute_result"
    }
   ],
   "source": [
    "[(player.name, player.bankrupt) for player in mcts.root.state.players]"
   ]
  },
  {
   "cell_type": "markdown",
   "metadata": {},
   "source": [
    "## Testing MCTS with simulation limit"
   ]
  },
  {
   "cell_type": "code",
   "execution_count": 11,
   "metadata": {},
   "outputs": [],
   "source": [
    "board = MonopolyBoardMCTS()\n",
    "player1 = Player('Cat')\n",
    "player2 = Player('Vlad')\n",
    "\n",
    "board.add_agent(player1)\n",
    "board.add_other_player(player2)"
   ]
  },
  {
   "cell_type": "code",
   "execution_count": 12,
   "metadata": {},
   "outputs": [],
   "source": [
    "root_state = State()\n",
    "root_state.from_monopoly_board(board)"
   ]
  },
  {
   "cell_type": "code",
   "execution_count": 13,
   "metadata": {},
   "outputs": [],
   "source": [
    "mcts = MCTS(root_state, max_iterations=1000, exploration_weight=1, max_simulations=500)"
   ]
  },
  {
   "cell_type": "code",
   "execution_count": null,
   "metadata": {},
   "outputs": [],
   "source": [
    "mcts.run_game()"
   ]
  },
  {
   "cell_type": "code",
   "execution_count": 15,
   "metadata": {},
   "outputs": [
    {
     "data": {
      "text/plain": [
       "(20, 91)"
      ]
     },
     "execution_count": 15,
     "metadata": {},
     "output_type": "execute_result"
    }
   ],
   "source": [
    "mcts.root.state.rounds, len(mcts.best_actions)"
   ]
  },
  {
   "cell_type": "code",
   "execution_count": 16,
   "metadata": {},
   "outputs": [
    {
     "data": {
      "text/plain": [
       "['End turn',\n",
       " 'End turn',\n",
       " 'End turn',\n",
       " 'End turn',\n",
       " 'Purchase Bow Street',\n",
       " 'End turn',\n",
       " 'Pay 50 to get out of jail',\n",
       " 'End turn',\n",
       " 'End turn',\n",
       " 'Purchase Leicester Square',\n",
       " 'Mortgage Bow Street',\n",
       " 'Mortgage Leicester Square',\n",
       " 'Unmortgage Bow Street',\n",
       " 'End turn',\n",
       " 'Purchase Liverpool St. Station',\n",
       " 'Mortgage Bow Street',\n",
       " 'Unmortgage Bow Street',\n",
       " 'Mortgage Liverpool St. Station',\n",
       " 'End turn',\n",
       " 'Mortgage Bow Street',\n",
       " 'End turn',\n",
       " 'Unmortgage Bow Street',\n",
       " 'Unmortgage Liverpool St. Station',\n",
       " 'Unmortgage Leicester Square',\n",
       " 'Mortgage Bow Street',\n",
       " 'Mortgage Liverpool St. Station',\n",
       " 'Mortgage Leicester Square',\n",
       " 'Purchase Euston Road',\n",
       " 'Unmortgage Leicester Square',\n",
       " 'Mortgage Euston Road',\n",
       " 'Unmortgage Bow Street',\n",
       " 'Mortgage Bow Street',\n",
       " 'Mortgage Leicester Square',\n",
       " 'End turn',\n",
       " 'Unmortgage Euston Road',\n",
       " 'Mortgage Euston Road',\n",
       " 'End turn',\n",
       " 'Unmortgage Leicester Square',\n",
       " 'Unmortgage Bow Street',\n",
       " 'Mortgage Bow Street',\n",
       " 'Unmortgage Euston Road',\n",
       " 'Mortgage Euston Road',\n",
       " 'Unmortgage Bow Street',\n",
       " 'End turn',\n",
       " 'Purchase Piccadilly',\n",
       " 'Unmortgage Euston Road',\n",
       " 'Mortgage Leicester Square',\n",
       " 'End turn',\n",
       " 'Unmortgage Liverpool St. Station',\n",
       " 'Mortgage Euston Road',\n",
       " 'Unmortgage Leicester Square',\n",
       " 'Mortgage Bow Street',\n",
       " 'Unmortgage Euston Road',\n",
       " 'Mortgage Piccadilly',\n",
       " 'Unmortgage Piccadilly',\n",
       " 'Mortgage Liverpool St. Station',\n",
       " 'Unmortgage Liverpool St. Station',\n",
       " 'Mortgage Liverpool St. Station',\n",
       " 'Mortgage Piccadilly',\n",
       " 'Unmortgage Bow Street',\n",
       " 'Mortgage Euston Road',\n",
       " 'Mortgage Bow Street',\n",
       " 'Unmortgage Bow Street',\n",
       " 'Unmortgage Liverpool St. Station',\n",
       " 'Unmortgage Euston Road',\n",
       " 'Mortgage Leicester Square',\n",
       " 'Unmortgage Piccadilly',\n",
       " 'Mortgage Piccadilly',\n",
       " 'Mortgage Liverpool St. Station',\n",
       " 'Mortgage Euston Road',\n",
       " 'Mortgage Bow Street',\n",
       " 'Unmortgage Piccadilly',\n",
       " 'Unmortgage Euston Road',\n",
       " 'Mortgage Euston Road',\n",
       " 'End turn',\n",
       " 'Unmortgage Bow Street',\n",
       " 'Unmortgage Liverpool St. Station',\n",
       " 'Mortgage Liverpool St. Station',\n",
       " 'End turn',\n",
       " 'End turn',\n",
       " 'Unmortgage Leicester Square',\n",
       " 'Mortgage Leicester Square',\n",
       " 'Unmortgage Euston Road',\n",
       " 'End turn',\n",
       " 'End turn',\n",
       " 'Unmortgage Liverpool St. Station',\n",
       " 'Mortgage Euston Road',\n",
       " 'Mortgage Piccadilly',\n",
       " 'Unmortgage Piccadilly',\n",
       " 'End turn',\n",
       " 'Mortgage Bow Street']"
      ]
     },
     "execution_count": 16,
     "metadata": {},
     "output_type": "execute_result"
    }
   ],
   "source": [
    "mcts.best_actions"
   ]
  },
  {
   "cell_type": "code",
   "execution_count": 17,
   "metadata": {},
   "outputs": [
    {
     "data": {
      "text/plain": [
       "['Cat', 10, 419.0, False, True, 0, False, 0, 0, {}]"
      ]
     },
     "execution_count": 17,
     "metadata": {},
     "output_type": "execute_result"
    }
   ],
   "source": [
    "mcts.root.state.agent\n",
    "# [agent.name, agent.position, agent.money, agent.bankrupt, agent.in_jail, agent.turns_in_jail, \n",
    "# agent.double_rolled, agent.num_doubles, agent.jail_cards]"
   ]
  },
  {
   "cell_type": "code",
   "execution_count": 18,
   "metadata": {},
   "outputs": [
    {
     "data": {
      "text/plain": [
       "[['Vlad', 24, 1134.0, False, False, 0, False, 0, 0, {}]]"
      ]
     },
     "execution_count": 18,
     "metadata": {},
     "output_type": "execute_result"
    }
   ],
   "source": [
    "mcts.root.state.other_players"
   ]
  },
  {
   "cell_type": "code",
   "execution_count": 19,
   "metadata": {},
   "outputs": [
    {
     "data": {
      "text/plain": [
       "[[None, 0, False, False],\n",
       " [None, 0, False, False],\n",
       " [None, 0, False, False],\n",
       " ['Cat', 0, False, True],\n",
       " ['Vlad', 0, False, False],\n",
       " [None, 0, False, False],\n",
       " [None, 0, False, False],\n",
       " [None, 0, False, False],\n",
       " ['Cat', 0, False, True],\n",
       " [None, 0, False, False],\n",
       " ['Vlad', 0, False, False],\n",
       " [None, 0, False, False],\n",
       " [None, 0, False, False],\n",
       " [None, 0, False, False],\n",
       " ['Cat', 0, False, True],\n",
       " [None, 0, False, False],\n",
       " ['Cat', 0, False, False],\n",
       " ['Vlad', 0, False, False],\n",
       " ['Vlad', 0, False, False],\n",
       " [None, 0, False, False],\n",
       " [None, 0, False, False],\n",
       " [None, 0, False, False]]"
      ]
     },
     "execution_count": 19,
     "metadata": {},
     "output_type": "execute_result"
    }
   ],
   "source": [
    "mcts.root.state.properties\n",
    "# [prop.owner.name, prop.num_houses, prop.hotel, prop.is_mortgaged]"
   ]
  },
  {
   "cell_type": "markdown",
   "metadata": {},
   "source": [
    "## Testing MCTS over many games"
   ]
  },
  {
   "cell_type": "code",
   "execution_count": 5,
   "metadata": {},
   "outputs": [],
   "source": [
    "def game():\n",
    "\n",
    "    # create board and add players\n",
    "    board = MonopolyBoardMCTS()\n",
    "    player1 = Player('Cat')\n",
    "    player2 = Player('Vlad')\n",
    "    board.add_agent(player1)\n",
    "    board.add_other_player(player2)\n",
    "\n",
    "    # using a random strategy\n",
    "    strategy = RandomStrategy()\n",
    "    board.strategy = strategy\n",
    "\n",
    "    # run MCTS game\n",
    "    root_state = State()\n",
    "    root_state.from_monopoly_board(board)\n",
    "    mcts = MCTS(root_state, max_iterations=100, exploration_weight=1, max_simulations=50)\n",
    "    mcts.run_game()\n",
    "\n",
    "    if mcts.root.state.agent[3]:\n",
    "        return 'Agent bankrupt'\n",
    "    \n",
    "    elif mcts.root.state.other_players[0][3]:\n",
    "        return 'Other player bankrupt'\n",
    "    \n",
    "    else:\n",
    "        return 'Game not ended'"
   ]
  },
  {
   "cell_type": "code",
   "execution_count": 6,
   "metadata": {},
   "outputs": [
    {
     "name": "stderr",
     "output_type": "stream",
     "text": [
      "Running MCTS game:   4%|▍         | 44/1000 [00:06<02:26,  6.52it/s]\n",
      "Running MCTS game: 100%|██████████| 1000/1000 [02:45<00:00,  6.03it/s]\n",
      "Running MCTS game:   5%|▌         | 52/1000 [00:06<01:56,  8.13it/s]\n",
      "Running MCTS game:  51%|█████     | 512/1000 [01:25<01:21,  5.96it/s]\n",
      "Running MCTS game: 100%|██████████| 1000/1000 [03:02<00:00,  5.49it/s]\n",
      "Running MCTS game: 100%|██████████| 1000/1000 [02:50<00:00,  5.88it/s]\n",
      "Running MCTS game: 100%|██████████| 1000/1000 [03:07<00:00,  5.35it/s]\n",
      "Running MCTS game: 100%|██████████| 1000/1000 [02:54<00:00,  5.72it/s]\n",
      "Running MCTS game: 100%|██████████| 1000/1000 [02:58<00:00,  5.61it/s]\n",
      "Running MCTS game: 100%|██████████| 1000/1000 [02:55<00:00,  5.71it/s]\n",
      "Running MCTS game: 100%|██████████| 1000/1000 [02:58<00:00,  5.61it/s]\n",
      "Running MCTS game: 100%|██████████| 1000/1000 [02:31<00:00,  6.58it/s]\n",
      "Running MCTS game: 100%|██████████| 1000/1000 [02:16<00:00,  7.34it/s]\n",
      "Running MCTS game: 100%|██████████| 1000/1000 [02:27<00:00,  6.79it/s]\n",
      "Running MCTS game: 100%|██████████| 1000/1000 [02:13<00:00,  7.49it/s]\n",
      "Running MCTS game: 100%|██████████| 1000/1000 [02:24<00:00,  6.91it/s]\n",
      "Running MCTS game:  14%|█▍        | 141/1000 [00:15<01:33,  9.18it/s]\n",
      "Running MCTS game: 100%|██████████| 1000/1000 [02:18<00:00,  7.24it/s]\n",
      "Running MCTS game: 100%|██████████| 1000/1000 [02:26<00:00,  6.85it/s]\n",
      "Running MCTS game: 100%|██████████| 1000/1000 [02:24<00:00,  6.91it/s]\n",
      "Running MCTS game: 100%|██████████| 1000/1000 [02:31<00:00,  6.60it/s]\n",
      "Running MCTS game: 100%|██████████| 1000/1000 [02:23<00:00,  6.98it/s]\n",
      "Running MCTS game:  75%|███████▌  | 750/1000 [01:52<00:37,  6.69it/s]\n",
      "Running MCTS game:  81%|████████  | 812/1000 [01:40<00:23,  8.06it/s]\n",
      "Running MCTS game: 100%|██████████| 1000/1000 [02:30<00:00,  6.63it/s]\n",
      "Running MCTS game: 100%|██████████| 1000/1000 [02:18<00:00,  7.24it/s]\n",
      "Running MCTS game: 100%|██████████| 1000/1000 [02:43<00:00,  6.11it/s]\n",
      "Running MCTS game: 100%|██████████| 1000/1000 [02:37<00:00,  6.37it/s]\n",
      "Running MCTS game:   6%|▌         | 58/1000 [00:05<01:29, 10.58it/s]\n",
      "Running MCTS game: 100%|██████████| 1000/1000 [02:47<00:00,  5.98it/s]\n",
      "Running MCTS game: 100%|██████████| 1000/1000 [02:49<00:00,  5.91it/s]\n",
      "Running MCTS game:  47%|████▋     | 471/1000 [01:03<01:11,  7.37it/s]\n",
      "Running MCTS game: 100%|██████████| 1000/1000 [02:45<00:00,  6.04it/s]\n",
      "Running MCTS game: 100%|██████████| 1000/1000 [02:09<00:00,  7.73it/s]\n",
      "Running MCTS game: 100%|██████████| 1000/1000 [02:25<00:00,  6.85it/s]\n",
      "Running MCTS game: 100%|██████████| 1000/1000 [02:41<00:00,  6.19it/s]\n",
      "Running MCTS game: 100%|██████████| 1000/1000 [02:36<00:00,  6.38it/s]\n",
      "Running MCTS game:  67%|██████▋   | 667/1000 [01:39<00:49,  6.67it/s]\n",
      "Running MCTS game: 100%|██████████| 1000/1000 [02:38<00:00,  6.30it/s]\n",
      "Running MCTS game: 100%|██████████| 1000/1000 [02:31<00:00,  6.60it/s]\n",
      "Running MCTS game: 100%|██████████| 1000/1000 [02:41<00:00,  6.18it/s]\n",
      "Running MCTS game: 100%|██████████| 1000/1000 [02:28<00:00,  6.72it/s]\n",
      "Running MCTS game: 100%|██████████| 1000/1000 [02:37<00:00,  6.36it/s]\n",
      "Running MCTS game: 100%|██████████| 1000/1000 [02:37<00:00,  6.34it/s]\n",
      "Running MCTS game: 100%|██████████| 1000/1000 [02:42<00:00,  6.14it/s]\n",
      "Running MCTS game: 100%|██████████| 1000/1000 [02:04<00:00,  8.02it/s]\n",
      "Running MCTS game: 100%|██████████| 1000/1000 [02:32<00:00,  6.54it/s]\n",
      "Running MCTS game: 100%|██████████| 1000/1000 [02:24<00:00,  6.91it/s]\n",
      "Running MCTS game:  54%|█████▎    | 536/1000 [01:20<01:09,  6.67it/s]\n",
      "Running MCTS game: 100%|██████████| 1000/1000 [02:30<00:00,  6.65it/s]\n",
      "Running MCTS game: 100%|██████████| 1000/1000 [02:13<00:00,  7.52it/s]\n",
      "Running MCTS game: 100%|██████████| 1000/1000 [02:31<00:00,  6.61it/s]\n",
      "Running MCTS game: 100%|██████████| 1000/1000 [02:29<00:00,  6.71it/s]\n",
      "Running MCTS game: 100%|██████████| 1000/1000 [02:40<00:00,  6.21it/s]\n",
      "Running MCTS game: 100%|██████████| 1000/1000 [02:23<00:00,  6.99it/s]\n",
      "Running MCTS game: 100%|██████████| 1000/1000 [02:11<00:00,  7.63it/s]\n",
      "Running MCTS game: 100%|██████████| 1000/1000 [02:12<00:00,  7.55it/s]\n",
      "Running MCTS game: 100%|██████████| 1000/1000 [02:10<00:00,  7.67it/s]\n",
      "Running MCTS game: 100%|██████████| 1000/1000 [02:07<00:00,  7.84it/s]\n",
      "Running MCTS game: 100%|██████████| 1000/1000 [02:10<00:00,  7.68it/s]\n",
      "Running MCTS game: 100%|██████████| 1000/1000 [02:28<00:00,  6.71it/s]\n",
      "Running MCTS game:  92%|█████████▏| 918/1000 [02:15<00:12,  6.76it/s]\n",
      "Running MCTS game: 100%|██████████| 1000/1000 [01:57<00:00,  8.51it/s]\n",
      "Running MCTS game: 100%|██████████| 1000/1000 [02:20<00:00,  7.10it/s]\n",
      "Running MCTS game: 100%|██████████| 1000/1000 [02:09<00:00,  7.73it/s]\n",
      "Running MCTS game: 100%|██████████| 1000/1000 [02:24<00:00,  6.91it/s]\n",
      "Running MCTS game: 100%|██████████| 1000/1000 [02:35<00:00,  6.44it/s]\n",
      "Running MCTS game: 100%|██████████| 1000/1000 [02:21<00:00,  7.07it/s]\n",
      "Running MCTS game: 100%|██████████| 1000/1000 [01:56<00:00,  8.58it/s]\n",
      "Running MCTS game: 100%|██████████| 1000/1000 [01:57<00:00,  8.50it/s]\n",
      "Running MCTS game: 100%|██████████| 1000/1000 [02:25<00:00,  6.87it/s]\n",
      "Running MCTS game: 100%|██████████| 1000/1000 [02:35<00:00,  6.45it/s]\n",
      "Running MCTS game: 100%|██████████| 1000/1000 [02:19<00:00,  7.17it/s]\n",
      "Running MCTS game: 100%|██████████| 1000/1000 [02:14<00:00,  7.45it/s]\n",
      "Running MCTS game: 100%|██████████| 1000/1000 [02:17<00:00,  7.28it/s]\n",
      "Running MCTS game: 100%|██████████| 1000/1000 [02:28<00:00,  6.74it/s]\n",
      "Running MCTS game: 100%|██████████| 1000/1000 [02:13<00:00,  7.50it/s]\n",
      "Running MCTS game: 100%|██████████| 1000/1000 [02:37<00:00,  6.36it/s]\n",
      "Running MCTS game: 100%|██████████| 1000/1000 [02:26<00:00,  6.83it/s]\n",
      "Running MCTS game: 100%|██████████| 1000/1000 [02:22<00:00,  7.00it/s]\n",
      "Running MCTS game: 100%|██████████| 1000/1000 [02:30<00:00,  6.64it/s]\n",
      "Running MCTS game: 100%|██████████| 1000/1000 [02:16<00:00,  7.32it/s]\n",
      "Running MCTS game: 100%|██████████| 1000/1000 [02:18<00:00,  7.23it/s]\n",
      "Running MCTS game: 100%|██████████| 1000/1000 [02:26<00:00,  6.81it/s]\n",
      "Running MCTS game: 100%|██████████| 1000/1000 [02:32<00:00,  6.57it/s]\n",
      "Running MCTS game: 100%|██████████| 1000/1000 [02:23<00:00,  6.97it/s]\n",
      "Running MCTS game: 100%|██████████| 1000/1000 [02:30<00:00,  6.63it/s]\n",
      "Running MCTS game: 100%|██████████| 1000/1000 [02:19<00:00,  7.16it/s]\n",
      "Running MCTS game: 100%|██████████| 1000/1000 [02:25<00:00,  6.85it/s]\n",
      "Running MCTS game:  14%|█▍        | 140/1000 [00:14<01:29,  9.63it/s]\n",
      "Running MCTS game: 100%|██████████| 1000/1000 [02:23<00:00,  6.98it/s]\n",
      "Running MCTS game:  82%|████████▏ | 817/1000 [01:54<00:25,  7.11it/s]\n",
      "Running MCTS game: 100%|██████████| 1000/1000 [03:00<00:00,  5.54it/s]\n",
      "Running MCTS game: 100%|██████████| 1000/1000 [02:39<00:00,  6.26it/s]\n",
      "Running MCTS game: 100%|██████████| 1000/1000 [02:44<00:00,  6.08it/s]\n",
      "Running MCTS game: 100%|██████████| 1000/1000 [02:37<00:00,  6.33it/s]\n",
      "Running MCTS game: 100%|██████████| 1000/1000 [03:39<00:00,  4.55it/s]\n",
      "Running MCTS game: 100%|██████████| 1000/1000 [02:31<00:00,  6.61it/s]\n",
      "Running MCTS game: 100%|██████████| 1000/1000 [02:30<00:00,  6.63it/s]\n",
      "Running MCTS game: 100%|██████████| 1000/1000 [02:34<00:00,  6.49it/s]\n"
     ]
    }
   ],
   "source": [
    "random.seed(42)\n",
    "game_results = []\n",
    "\n",
    "for _ in range(100):\n",
    "    result = game()\n",
    "    game_results.append(result)"
   ]
  },
  {
   "cell_type": "code",
   "execution_count": 7,
   "metadata": {},
   "outputs": [
    {
     "data": {
      "text/plain": [
       "Counter({'Game not ended': 87, 'Other player bankrupt': 13})"
      ]
     },
     "execution_count": 7,
     "metadata": {},
     "output_type": "execute_result"
    }
   ],
   "source": [
    "from collections import Counter\n",
    "Counter(game_results)"
   ]
  },
  {
   "cell_type": "markdown",
   "metadata": {},
   "source": [
    "## Testing MCTS with max rounds = 20"
   ]
  },
  {
   "cell_type": "code",
   "execution_count": 15,
   "metadata": {},
   "outputs": [],
   "source": [
    "def game():\n",
    "\n",
    "    # create board and add players\n",
    "    board = MonopolyBoardMCTS()\n",
    "    player1 = Player('Cat')\n",
    "    player2 = Player('Vlad')\n",
    "    board.add_agent(player1)\n",
    "    board.add_other_player(player2)\n",
    "\n",
    "    # using a random strategy\n",
    "    strategy = RandomStrategy()\n",
    "    board.strategy = strategy\n",
    "\n",
    "    # run MCTS game\n",
    "    root_state = State()\n",
    "    root_state.from_monopoly_board(board)\n",
    "    mcts = MCTS(root_state, max_iterations=100, exploration_weight=1, max_simulations=50)\n",
    "    mcts.run_game(max_rounds=20)\n",
    "\n",
    "    if mcts.root.state.agent[3]:\n",
    "        return 'Agent bankrupt'\n",
    "    \n",
    "    elif mcts.root.state.other_players[0][3]:\n",
    "        return 'Other player bankrupt'\n",
    "    \n",
    "    else:\n",
    "        board = mcts.root.state.to_monopoly_board()\n",
    "        agent_wealth = board.agent.wealth()\n",
    "        other_player_wealth = board.other_players[0].wealth()\n",
    "        if agent_wealth > other_player_wealth:\n",
    "            return 'Agent winning'\n",
    "        elif other_player_wealth > agent_wealth:\n",
    "            return 'Other player winning'\n",
    "        else:\n",
    "            return 'Game tied'"
   ]
  },
  {
   "cell_type": "code",
   "execution_count": 16,
   "metadata": {},
   "outputs": [
    {
     "name": "stderr",
     "output_type": "stream",
     "text": [
      "Running MCTS game:   0%|          | 0/1000 [00:00<?, ?it/s]"
     ]
    },
    {
     "name": "stderr",
     "output_type": "stream",
     "text": [
      "Running MCTS game:   6%|▌         | 61/1000 [00:11<02:55,  5.34it/s]\n",
      "Running MCTS game:   3%|▎         | 33/1000 [00:05<02:53,  5.57it/s]\n",
      "Running MCTS game:  17%|█▋        | 174/1000 [00:33<02:39,  5.18it/s]\n",
      "Running MCTS game:  10%|▉         | 96/1000 [00:17<02:42,  5.55it/s]\n",
      "Running MCTS game:   8%|▊         | 76/1000 [00:13<02:47,  5.52it/s]\n",
      "Running MCTS game:   7%|▋         | 70/1000 [00:11<02:34,  6.03it/s]\n",
      "Running MCTS game:   9%|▊         | 86/1000 [00:14<02:30,  6.07it/s]\n",
      "Running MCTS game:  12%|█▏        | 118/1000 [00:22<02:46,  5.29it/s]\n",
      "Running MCTS game:   4%|▍         | 44/1000 [00:06<02:19,  6.85it/s]\n",
      "Running MCTS game:  10%|▉         | 95/1000 [00:17<02:43,  5.54it/s]\n",
      "Running MCTS game:   8%|▊         | 78/1000 [00:12<02:28,  6.22it/s]\n",
      "Running MCTS game:  10%|█         | 102/1000 [00:18<02:39,  5.63it/s]\n",
      "Running MCTS game:   9%|▊         | 86/1000 [00:17<03:04,  4.94it/s]\n",
      "Running MCTS game:   5%|▌         | 51/1000 [00:07<02:27,  6.44it/s]\n",
      "Running MCTS game:   8%|▊         | 79/1000 [00:15<02:57,  5.19it/s]\n",
      "Running MCTS game:   5%|▍         | 46/1000 [00:07<02:39,  5.98it/s]\n",
      "Running MCTS game:   7%|▋         | 67/1000 [00:11<02:36,  5.97it/s]\n",
      "Running MCTS game:  11%|█▏        | 113/1000 [00:23<03:03,  4.82it/s]\n",
      "Running MCTS game:   9%|▉         | 88/1000 [00:15<02:39,  5.72it/s]\n",
      "Running MCTS game:  13%|█▎        | 130/1000 [00:26<02:57,  4.90it/s]\n",
      "Running MCTS game:  10%|█         | 104/1000 [00:49<07:02,  2.12it/s]\n",
      "Running MCTS game:   7%|▋         | 66/1000 [00:25<06:04,  2.56it/s]\n",
      "Running MCTS game:  13%|█▎        | 127/1000 [00:21<02:28,  5.88it/s]\n",
      "Running MCTS game:   9%|▉         | 88/1000 [00:18<03:08,  4.85it/s]\n",
      "Running MCTS game:   5%|▍         | 47/1000 [00:09<03:03,  5.19it/s]\n",
      "Running MCTS game:   5%|▍         | 46/1000 [00:08<02:47,  5.71it/s]\n",
      "Running MCTS game:  11%|█         | 106/1000 [00:19<02:42,  5.49it/s]\n",
      "Running MCTS game:   6%|▌         | 61/1000 [00:20<05:12,  3.01it/s]\n",
      "Running MCTS game:   6%|▋         | 65/1000 [00:24<05:58,  2.61it/s]\n",
      "Running MCTS game:   8%|▊         | 80/1000 [00:16<03:04,  4.97it/s]\n",
      "Running MCTS game:  11%|█▏        | 114/1000 [00:21<02:49,  5.23it/s]\n",
      "Running MCTS game:   7%|▋         | 74/1000 [00:12<02:40,  5.77it/s]\n",
      "Running MCTS game:   5%|▌         | 50/1000 [00:08<02:38,  6.00it/s]\n",
      "Running MCTS game:   6%|▌         | 58/1000 [00:10<02:48,  5.61it/s]\n",
      "Running MCTS game:   6%|▌         | 60/1000 [00:11<02:56,  5.33it/s]\n",
      "Running MCTS game:   6%|▋         | 65/1000 [00:11<02:47,  5.57it/s]\n",
      "Running MCTS game:  10%|▉         | 97/1000 [00:16<02:32,  5.91it/s]\n",
      "Running MCTS game:   8%|▊         | 85/1000 [00:14<02:34,  5.91it/s]\n",
      "Running MCTS game:  10%|█         | 101/1000 [00:19<02:50,  5.28it/s]\n",
      "Running MCTS game:  10%|█         | 102/1000 [00:18<02:41,  5.55it/s]\n",
      "Running MCTS game:   9%|▉         | 92/1000 [00:15<02:35,  5.85it/s]\n",
      "Running MCTS game:   6%|▌         | 62/1000 [00:09<02:19,  6.72it/s]\n",
      "Running MCTS game:   4%|▍         | 39/1000 [00:06<02:33,  6.27it/s]\n",
      "Running MCTS game:   7%|▋         | 70/1000 [00:11<02:36,  5.93it/s]\n",
      "Running MCTS game:   9%|▉         | 88/1000 [00:16<02:53,  5.26it/s]\n",
      "Running MCTS game:   5%|▌         | 52/1000 [00:08<02:36,  6.07it/s]\n",
      "Running MCTS game:   8%|▊         | 81/1000 [00:27<05:17,  2.90it/s]\n",
      "Running MCTS game:  15%|█▍        | 146/1000 [01:02<06:04,  2.35it/s]\n",
      "Running MCTS game:   8%|▊         | 76/1000 [00:30<06:15,  2.46it/s]\n",
      "Running MCTS game:   4%|▍         | 45/1000 [00:20<07:06,  2.24it/s]\n",
      "Running MCTS game:   7%|▋         | 67/1000 [00:21<04:54,  3.17it/s]\n",
      "Running MCTS game:   7%|▋         | 74/1000 [00:12<02:37,  5.88it/s]\n",
      "Running MCTS game:   9%|▊         | 86/1000 [00:15<02:48,  5.42it/s]\n",
      "Running MCTS game:   9%|▉         | 89/1000 [00:16<02:49,  5.36it/s]\n",
      "Running MCTS game:   4%|▍         | 40/1000 [00:06<02:35,  6.18it/s]\n",
      "Running MCTS game:   9%|▉         | 88/1000 [00:13<02:23,  6.37it/s]\n",
      "Running MCTS game:   7%|▋         | 68/1000 [00:11<02:41,  5.76it/s]\n",
      "Running MCTS game:   3%|▎         | 34/1000 [00:06<02:59,  5.37it/s]\n",
      "Running MCTS game:   4%|▍         | 38/1000 [00:05<02:29,  6.42it/s]\n",
      "Running MCTS game:   8%|▊         | 81/1000 [00:13<02:28,  6.17it/s]\n",
      "Running MCTS game:  13%|█▎        | 129/1000 [00:29<03:20,  4.35it/s]\n",
      "Running MCTS game:  11%|█         | 110/1000 [00:20<02:45,  5.38it/s]\n",
      "Running MCTS game:   5%|▍         | 49/1000 [00:09<03:08,  5.06it/s]\n",
      "Running MCTS game:  15%|█▍        | 149/1000 [00:26<02:31,  5.60it/s]\n",
      "Running MCTS game:   6%|▌         | 62/1000 [00:10<02:43,  5.73it/s]\n",
      "Running MCTS game:   9%|▉         | 93/1000 [00:18<02:58,  5.07it/s]\n",
      "Running MCTS game:  13%|█▎        | 133/1000 [00:26<02:55,  4.94it/s]\n",
      "Running MCTS game:  10%|▉         | 98/1000 [00:16<02:33,  5.89it/s]\n",
      "Running MCTS game:   6%|▌         | 60/1000 [00:10<02:45,  5.66it/s]\n",
      "Running MCTS game:   9%|▉         | 91/1000 [00:17<02:51,  5.31it/s]\n",
      "Running MCTS game:   7%|▋         | 74/1000 [00:12<02:40,  5.79it/s]\n",
      "Running MCTS game:   5%|▍         | 48/1000 [00:07<02:29,  6.35it/s]\n",
      "Running MCTS game:   6%|▌         | 62/1000 [00:09<02:30,  6.22it/s]\n",
      "Running MCTS game:  11%|█▏        | 113/1000 [00:19<02:36,  5.66it/s]\n",
      "Running MCTS game:   5%|▌         | 53/1000 [00:08<02:26,  6.45it/s]\n",
      "Running MCTS game:   9%|▉         | 91/1000 [00:15<02:30,  6.02it/s]\n",
      "Running MCTS game:  11%|█         | 106/1000 [00:19<02:46,  5.37it/s]\n",
      "Running MCTS game:   3%|▎         | 30/1000 [00:04<02:33,  6.33it/s]\n",
      "Running MCTS game:   5%|▌         | 52/1000 [00:08<02:29,  6.35it/s]\n",
      "Running MCTS game:   5%|▍         | 46/1000 [00:07<02:28,  6.41it/s]\n",
      "Running MCTS game:   7%|▋         | 67/1000 [00:09<02:08,  7.27it/s]\n",
      "Running MCTS game:  10%|▉         | 95/1000 [00:09<01:27, 10.39it/s]\n",
      "Running MCTS game:   8%|▊         | 82/1000 [00:07<01:25, 10.74it/s]\n",
      "Running MCTS game:   8%|▊         | 76/1000 [00:06<01:23, 11.04it/s]\n",
      "Running MCTS game:  11%|█         | 110/1000 [00:11<01:29,  9.94it/s]\n",
      "Running MCTS game:   6%|▌         | 59/1000 [00:05<01:33, 10.06it/s]\n",
      "Running MCTS game:   4%|▍         | 41/1000 [00:03<01:28, 10.87it/s]\n",
      "Running MCTS game:   8%|▊         | 85/1000 [00:08<01:35,  9.55it/s]\n",
      "Running MCTS game:   4%|▎         | 37/1000 [00:03<01:31, 10.52it/s]\n",
      "Running MCTS game:   4%|▍         | 44/1000 [00:04<01:40,  9.55it/s]\n",
      "Running MCTS game:   8%|▊         | 83/1000 [00:07<01:25, 10.68it/s]\n",
      "Running MCTS game:   8%|▊         | 85/1000 [00:07<01:22, 11.08it/s]\n",
      "Running MCTS game:   5%|▌         | 53/1000 [00:05<01:33, 10.16it/s]\n",
      "Running MCTS game:  11%|█         | 110/1000 [00:11<01:31,  9.72it/s]\n",
      "Running MCTS game:   9%|▉         | 89/1000 [00:11<01:57,  7.74it/s]\n",
      "Running MCTS game:   8%|▊         | 81/1000 [00:09<01:45,  8.68it/s]\n",
      "Running MCTS game:   4%|▍         | 44/1000 [00:04<01:32, 10.29it/s]\n",
      "Running MCTS game:   9%|▉         | 94/1000 [00:10<01:36,  9.36it/s]\n",
      "Running MCTS game:   7%|▋         | 66/1000 [00:06<01:38,  9.49it/s]\n",
      "Running MCTS game:   6%|▌         | 55/1000 [00:05<01:33, 10.11it/s]\n"
     ]
    }
   ],
   "source": [
    "random.seed(42)\n",
    "game_results = []\n",
    "\n",
    "for _ in range(100):\n",
    "    result = game()\n",
    "    game_results.append(result)"
   ]
  },
  {
   "cell_type": "code",
   "execution_count": 17,
   "metadata": {},
   "outputs": [
    {
     "data": {
      "text/plain": [
       "Counter({'Agent winning': 51, 'Other player winning': 49})"
      ]
     },
     "execution_count": 17,
     "metadata": {},
     "output_type": "execute_result"
    }
   ],
   "source": [
    "from collections import Counter\n",
    "Counter(game_results)"
   ]
  },
  {
   "cell_type": "code",
   "execution_count": null,
   "metadata": {},
   "outputs": [],
   "source": []
  }
 ],
 "metadata": {
  "kernelspec": {
   "display_name": "Python 3",
   "language": "python",
   "name": "python3"
  },
  "language_info": {
   "codemirror_mode": {
    "name": "ipython",
    "version": 3
   },
   "file_extension": ".py",
   "mimetype": "text/x-python",
   "name": "python",
   "nbconvert_exporter": "python",
   "pygments_lexer": "ipython3",
   "version": "3.10.2"
  }
 },
 "nbformat": 4,
 "nbformat_minor": 2
}
