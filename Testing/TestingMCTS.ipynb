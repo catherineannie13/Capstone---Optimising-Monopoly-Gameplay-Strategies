{
 "cells": [
  {
   "cell_type": "markdown",
   "metadata": {},
   "source": [
    "## Imports"
   ]
  },
  {
   "cell_type": "code",
   "execution_count": 1,
   "metadata": {},
   "outputs": [],
   "source": [
    "import random\n",
    "\n",
    "%run -i \"C:\\\\Users\\\\cathe\\\\OneDrive\\\\Documents\\\\Capstone - Optimising Monopoly Gameplay Strategies\\\\Simulation Classes\\\\Player.py\"\n",
    "%run -i \"C:\\\\Users\\\\cathe\\\\OneDrive\\\\Documents\\\\Capstone - Optimising Monopoly Gameplay Strategies\\\\Simulation Classes\\\\Street.py\"\n",
    "%run -i \"C:\\\\Users\\\\cathe\\\\OneDrive\\\\Documents\\\\Capstone - Optimising Monopoly Gameplay Strategies\\\\Simulation Classes\\\\Utility.py\"\n",
    "%run -i \"C:\\\\Users\\\\cathe\\\\OneDrive\\\\Documents\\\\Capstone - Optimising Monopoly Gameplay Strategies\\\\Simulation Classes\\\\Station.py\"\n",
    "%run -i \"C:\\\\Users\\\\cathe\\\\OneDrive\\\\Documents\\\\Capstone - Optimising Monopoly Gameplay Strategies\\\\Simulation Classes\\\\Chance.py\"\n",
    "%run -i \"C:\\\\Users\\\\cathe\\\\OneDrive\\\\Documents\\\\Capstone - Optimising Monopoly Gameplay Strategies\\\\Simulation Classes\\\\Tax.py\"\n",
    "%run -i \"C:\\\\Users\\\\cathe\\\\OneDrive\\\\Documents\\\\Capstone - Optimising Monopoly Gameplay Strategies\\\\Simulation Classes\\\\Go.py\"\n",
    "%run -i \"C:\\\\Users\\\\cathe\\\\OneDrive\\\\Documents\\\\Capstone - Optimising Monopoly Gameplay Strategies\\\\Simulation Classes\\\\Jail.py\"\n",
    "%run -i \"C:\\\\Users\\\\cathe\\\\OneDrive\\\\Documents\\\\Capstone - Optimising Monopoly Gameplay Strategies\\\\Simulation Classes\\\\FreeParking.py\"\n",
    "%run -i \"C:\\\\Users\\\\cathe\\\\OneDrive\\\\Documents\\\\Capstone - Optimising Monopoly Gameplay Strategies\\\\Simulation Classes\\\\GoToJail.py\"\n",
    "%run -i \"C:\\\\Users\\\\cathe\\\\OneDrive\\\\Documents\\\\Capstone - Optimising Monopoly Gameplay Strategies\\\\Simulation Classes\\\\CommunityChest.py\"\n",
    "%run -i \"C:\\\\Users\\\\cathe\\\\OneDrive\\\\Documents\\\\Capstone - Optimising Monopoly Gameplay Strategies\\\\Simulation Classes\\\\MonopolyBoard.py\"\n",
    "%run -i \"C:\\\\Users\\\\cathe\\\\OneDrive\\\\Documents\\\\Capstone - Optimising Monopoly Gameplay Strategies\\\\Simulation Classes\\\\Strategy.py\"\n",
    "%run -i \"C:\\\\Users\\\\cathe\\\\OneDrive\\\\Documents\\\\Capstone - Optimising Monopoly Gameplay Strategies\\\\Simulation Classes\\\\RandomStrategy.py\"\n",
    "\n",
    "%run -i \"C:\\\\Users\\\\cathe\\\\OneDrive\\\\Documents\\\\Capstone - Optimising Monopoly Gameplay Strategies\\\\MCTS\\\\MonopolyBoardMCTS.py\"\n",
    "%run -i \"C:\\\\Users\\\\cathe\\\\OneDrive\\\\Documents\\\\Capstone - Optimising Monopoly Gameplay Strategies\\\\MCTS\\\\Node.py\"\n",
    "%run -i \"C:\\\\Users\\\\cathe\\\\OneDrive\\\\Documents\\\\Capstone - Optimising Monopoly Gameplay Strategies\\\\MCTS\\\\MCTS.py\"\n",
    "\n",
    "random.seed(42)"
   ]
  },
  {
   "cell_type": "markdown",
   "metadata": {},
   "source": [
    "## Testing get_legal_actions()"
   ]
  },
  {
   "cell_type": "code",
   "execution_count": 30,
   "metadata": {},
   "outputs": [
    {
     "data": {
      "text/plain": [
       "['End turn']"
      ]
     },
     "execution_count": 30,
     "metadata": {},
     "output_type": "execute_result"
    }
   ],
   "source": [
    "board = MonopolyBoardMCTS()\n",
    "player1 = Player('Cat')\n",
    "player2 = Player('Vlad')\n",
    "\n",
    "board.add_agent(player1)\n",
    "board.add_other_player(player2)\n",
    "board.get_legal_actions()"
   ]
  },
  {
   "cell_type": "code",
   "execution_count": 31,
   "metadata": {},
   "outputs": [
    {
     "data": {
      "text/plain": [
       "['Mortgage Old Kent Road', 'End turn']"
      ]
     },
     "execution_count": 31,
     "metadata": {},
     "output_type": "execute_result"
    }
   ],
   "source": [
    "player1.buy_property(board.board[1])\n",
    "board.get_legal_actions()"
   ]
  },
  {
   "cell_type": "code",
   "execution_count": 32,
   "metadata": {},
   "outputs": [
    {
     "data": {
      "text/plain": [
       "['Mortgage Old Kent Road',\n",
       " 'Mortgage Whitechapel Road',\n",
       " 'Buy house on Old Kent Road',\n",
       " 'Buy house on Whitechapel Road',\n",
       " 'End turn']"
      ]
     },
     "execution_count": 32,
     "metadata": {},
     "output_type": "execute_result"
    }
   ],
   "source": [
    "player1.buy_property(board.board[3])\n",
    "board.get_legal_actions()"
   ]
  },
  {
   "cell_type": "code",
   "execution_count": 33,
   "metadata": {},
   "outputs": [
    {
     "data": {
      "text/plain": [
       "['Mortgage Old Kent Road',\n",
       " 'Sell house on Whitechapel Road',\n",
       " 'Buy house on Old Kent Road',\n",
       " 'End turn']"
      ]
     },
     "execution_count": 33,
     "metadata": {},
     "output_type": "execute_result"
    }
   ],
   "source": [
    "board.board[3].num_houses = 1\n",
    "board.get_legal_actions()"
   ]
  },
  {
   "cell_type": "code",
   "execution_count": 34,
   "metadata": {},
   "outputs": [
    {
     "data": {
      "text/plain": [
       "['Sell house on Old Kent Road',\n",
       " 'Sell house on Whitechapel Road',\n",
       " 'Buy house on Old Kent Road',\n",
       " 'Buy house on Whitechapel Road',\n",
       " 'End turn']"
      ]
     },
     "execution_count": 34,
     "metadata": {},
     "output_type": "execute_result"
    }
   ],
   "source": [
    "board.board[1].num_houses = 1\n",
    "board.get_legal_actions()"
   ]
  },
  {
   "cell_type": "code",
   "execution_count": 35,
   "metadata": {},
   "outputs": [
    {
     "data": {
      "text/plain": [
       "['Sell house on Old Kent Road',\n",
       " 'Sell house on Whitechapel Road',\n",
       " 'Pay 50 to get out of jail',\n",
       " 'Buy house on Old Kent Road',\n",
       " 'Buy house on Whitechapel Road',\n",
       " 'End turn']"
      ]
     },
     "execution_count": 35,
     "metadata": {},
     "output_type": "execute_result"
    }
   ],
   "source": [
    "player1.in_jail = True\n",
    "board.get_legal_actions()"
   ]
  },
  {
   "cell_type": "markdown",
   "metadata": {},
   "source": [
    "## Testing perform_action()"
   ]
  },
  {
   "cell_type": "code",
   "execution_count": 36,
   "metadata": {},
   "outputs": [
    {
     "data": {
      "text/plain": [
       "True"
      ]
     },
     "execution_count": 36,
     "metadata": {},
     "output_type": "execute_result"
    }
   ],
   "source": [
    "board = MonopolyBoardMCTS()\n",
    "player1 = Player('Cat')\n",
    "player2 = Player('Vlad')\n",
    "\n",
    "board.add_agent(player1)\n",
    "board.add_other_player(player2)\n",
    "\n",
    "player1.buy_property(board.board[1])\n",
    "player1.buy_property(board.board[3])"
   ]
  },
  {
   "cell_type": "code",
   "execution_count": 37,
   "metadata": {},
   "outputs": [
    {
     "name": "stdout",
     "output_type": "stream",
     "text": [
      "Performing: Mortgage Whitechapel Road\n"
     ]
    },
    {
     "data": {
      "text/plain": [
       "(Player Cat is currently as position 0 on the board, with $1410.0.             \n",
       "  They hold the following properties: ['Old Kent Road', 'Whitechapel Road'].            \n",
       "  They hold the following stations: []            \n",
       "  They hold the following utilities: []            \n",
       "  The player has 0 houses and 0 hotels             \n",
       "  The player is currently not in jail.,\n",
       " Old Kent Road is one of the 2 properties in the brown set located at position 1 on the Monopoly board                 \n",
       "  and can be purchased for $60 with a house price of $50. Rent prices are as follows: \n",
       "  Rent: 2 \n",
       "  Double rent: 4                 \n",
       "  Rent 1 house: 10 \n",
       "  Rent 2 houses: 30 \n",
       "  Rent 3 houses: 90 \n",
       "  Rent 4 houses: 160                 \n",
       "  Rent hotel: 250 \n",
       "  The property is currently owned by Cat, is not mortgaged and has 0 houses and 0 hotels.,\n",
       " Whitechapel Road is one of the 2 properties in the brown set located at position 3 on the Monopoly board                 \n",
       "  and can be purchased for $60 with a house price of $50. Rent prices are as follows: \n",
       "  Rent: 4 \n",
       "  Double rent: 8                 \n",
       "  Rent 1 house: 20 \n",
       "  Rent 2 houses: 60 \n",
       "  Rent 3 houses: 180 \n",
       "  Rent 4 houses: 320                 \n",
       "  Rent hotel: 450 \n",
       "  The property is currently owned by Cat, is mortgaged and has 0 houses and 0 hotels.)"
      ]
     },
     "execution_count": 37,
     "metadata": {},
     "output_type": "execute_result"
    }
   ],
   "source": [
    "legal_actions = board.get_legal_actions()\n",
    "print(f\"Performing: {legal_actions[1]}\")\n",
    "board.perform_action(legal_actions[1])\n",
    "player1, board.board[1], board.board[3]"
   ]
  },
  {
   "cell_type": "code",
   "execution_count": 38,
   "metadata": {},
   "outputs": [
    {
     "name": "stdout",
     "output_type": "stream",
     "text": [
      "Performing: Unmortgage Whitechapel Road\n"
     ]
    },
    {
     "data": {
      "text/plain": [
       "(Player Cat is currently as position 0 on the board, with $1377.0.             \n",
       "  They hold the following properties: ['Old Kent Road', 'Whitechapel Road'].            \n",
       "  They hold the following stations: []            \n",
       "  They hold the following utilities: []            \n",
       "  The player has 0 houses and 0 hotels             \n",
       "  The player is currently not in jail.,\n",
       " Old Kent Road is one of the 2 properties in the brown set located at position 1 on the Monopoly board                 \n",
       "  and can be purchased for $60 with a house price of $50. Rent prices are as follows: \n",
       "  Rent: 2 \n",
       "  Double rent: 4                 \n",
       "  Rent 1 house: 10 \n",
       "  Rent 2 houses: 30 \n",
       "  Rent 3 houses: 90 \n",
       "  Rent 4 houses: 160                 \n",
       "  Rent hotel: 250 \n",
       "  The property is currently owned by Cat, is not mortgaged and has 0 houses and 0 hotels.,\n",
       " Whitechapel Road is one of the 2 properties in the brown set located at position 3 on the Monopoly board                 \n",
       "  and can be purchased for $60 with a house price of $50. Rent prices are as follows: \n",
       "  Rent: 4 \n",
       "  Double rent: 8                 \n",
       "  Rent 1 house: 20 \n",
       "  Rent 2 houses: 60 \n",
       "  Rent 3 houses: 180 \n",
       "  Rent 4 houses: 320                 \n",
       "  Rent hotel: 450 \n",
       "  The property is currently owned by Cat, is not mortgaged and has 0 houses and 0 hotels.)"
      ]
     },
     "execution_count": 38,
     "metadata": {},
     "output_type": "execute_result"
    }
   ],
   "source": [
    "legal_actions = board.get_legal_actions()\n",
    "print(f\"Performing: {legal_actions[1]}\")\n",
    "board.perform_action(legal_actions[1])\n",
    "player1, board.board[1], board.board[3]"
   ]
  },
  {
   "cell_type": "code",
   "execution_count": 39,
   "metadata": {},
   "outputs": [
    {
     "name": "stdout",
     "output_type": "stream",
     "text": [
      "Performing: Buy house on Whitechapel Road\n"
     ]
    },
    {
     "data": {
      "text/plain": [
       "(Player Cat is currently as position 0 on the board, with $1327.0.             \n",
       "  They hold the following properties: ['Old Kent Road', 'Whitechapel Road'].            \n",
       "  They hold the following stations: []            \n",
       "  They hold the following utilities: []            \n",
       "  The player has 1 houses and 0 hotels             \n",
       "  The player is currently not in jail.,\n",
       " Old Kent Road is one of the 2 properties in the brown set located at position 1 on the Monopoly board                 \n",
       "  and can be purchased for $60 with a house price of $50. Rent prices are as follows: \n",
       "  Rent: 2 \n",
       "  Double rent: 4                 \n",
       "  Rent 1 house: 10 \n",
       "  Rent 2 houses: 30 \n",
       "  Rent 3 houses: 90 \n",
       "  Rent 4 houses: 160                 \n",
       "  Rent hotel: 250 \n",
       "  The property is currently owned by Cat, is not mortgaged and has 0 houses and 0 hotels.,\n",
       " Whitechapel Road is one of the 2 properties in the brown set located at position 3 on the Monopoly board                 \n",
       "  and can be purchased for $60 with a house price of $50. Rent prices are as follows: \n",
       "  Rent: 4 \n",
       "  Double rent: 8                 \n",
       "  Rent 1 house: 20 \n",
       "  Rent 2 houses: 60 \n",
       "  Rent 3 houses: 180 \n",
       "  Rent 4 houses: 320                 \n",
       "  Rent hotel: 450 \n",
       "  The property is currently owned by Cat, is not mortgaged and has 1 houses and 0 hotels.)"
      ]
     },
     "execution_count": 39,
     "metadata": {},
     "output_type": "execute_result"
    }
   ],
   "source": [
    "legal_actions = board.get_legal_actions()\n",
    "print(f\"Performing: {legal_actions[3]}\")\n",
    "board.perform_action(legal_actions[3])\n",
    "player1, board.board[1], board.board[3]"
   ]
  },
  {
   "cell_type": "code",
   "execution_count": 40,
   "metadata": {},
   "outputs": [
    {
     "name": "stdout",
     "output_type": "stream",
     "text": [
      "Performing: End turn\n"
     ]
    },
    {
     "data": {
      "text/plain": [
       "(Player Cat is currently as position 7 on the board, with $1332.0.             \n",
       "  They hold the following properties: ['Old Kent Road', 'Whitechapel Road'].            \n",
       "  They hold the following stations: []            \n",
       "  They hold the following utilities: []            \n",
       "  The player has 1 houses and 0 hotels             \n",
       "  The player is currently not in jail.,\n",
       " Old Kent Road is one of the 2 properties in the brown set located at position 1 on the Monopoly board                 \n",
       "  and can be purchased for $60 with a house price of $50. Rent prices are as follows: \n",
       "  Rent: 2 \n",
       "  Double rent: 4                 \n",
       "  Rent 1 house: 10 \n",
       "  Rent 2 houses: 30 \n",
       "  Rent 3 houses: 90 \n",
       "  Rent 4 houses: 160                 \n",
       "  Rent hotel: 250 \n",
       "  The property is currently owned by Cat, is not mortgaged and has 0 houses and 0 hotels.,\n",
       " Whitechapel Road is one of the 2 properties in the brown set located at position 3 on the Monopoly board                 \n",
       "  and can be purchased for $60 with a house price of $50. Rent prices are as follows: \n",
       "  Rent: 4 \n",
       "  Double rent: 8                 \n",
       "  Rent 1 house: 20 \n",
       "  Rent 2 houses: 60 \n",
       "  Rent 3 houses: 180 \n",
       "  Rent 4 houses: 320                 \n",
       "  Rent hotel: 450 \n",
       "  The property is currently owned by Cat, is not mortgaged and has 1 houses and 0 hotels.)"
      ]
     },
     "execution_count": 40,
     "metadata": {},
     "output_type": "execute_result"
    }
   ],
   "source": [
    "legal_actions = board.get_legal_actions()\n",
    "print(f\"Performing: {legal_actions[-1]}\")\n",
    "board.perform_action(legal_actions[-1])\n",
    "player1, board.board[1], board.board[3]"
   ]
  },
  {
   "cell_type": "markdown",
   "metadata": {},
   "source": [
    "## "
   ]
  },
  {
   "cell_type": "markdown",
   "metadata": {},
   "source": [
    "## Testing additions to MonopolyBoardMCTS"
   ]
  },
  {
   "cell_type": "code",
   "execution_count": 41,
   "metadata": {},
   "outputs": [],
   "source": [
    "board = MonopolyBoardMCTS()\n",
    "player1 = Player('Cat')\n",
    "player2 = Player('Vlad')\n",
    "\n",
    "board.add_agent(player1)\n",
    "board.add_other_player(player2)"
   ]
  },
  {
   "cell_type": "code",
   "execution_count": 42,
   "metadata": {},
   "outputs": [
    {
     "name": "stdout",
     "output_type": "stream",
     "text": [
      "Performing action: End turn\n",
      "Performing action: End turn\n",
      "Performing action: End turn\n",
      "Performing action: End turn\n",
      "Performing action: Purchase Trafalgar Square\n",
      "Performing action: End turn\n",
      "Performing action: End turn\n",
      "Performing action: Purchase Park Lane\n",
      "Performing action: End turn\n",
      "Performing action: Mortgage Trafalgar Square\n",
      "Performing action: End turn\n",
      "Performing action: Purchase Bow Street\n",
      "Performing action: Unmortgage Trafalgar Square\n",
      "Performing action: Mortgage Trafalgar Square\n",
      "Performing action: Unmortgage Trafalgar Square\n",
      "Performing action: End turn\n",
      "Performing action: Mortgage Bow Street\n",
      "Performing action: End turn\n",
      "Performing action: Pay 50 to get out of jail\n",
      "Performing action: Mortgage Park Lane\n",
      "Performing action: Unmortgage Park Lane\n",
      "Performing action: Unmortgage Bow Street\n",
      "Performing action: Mortgage Park Lane\n",
      "Performing action: Mortgage Trafalgar Square\n",
      "Performing action: Unmortgage Park Lane\n",
      "Performing action: End turn\n",
      "Performing action: Mortgage Park Lane\n",
      "Performing action: Mortgage Bow Street\n",
      "Performing action: End turn\n",
      "Performing action: End turn\n",
      "Performing action: End turn\n",
      "Performing action: Unmortgage Park Lane\n",
      "Performing action: Unmortgage Bow Street\n",
      "Performing action: End turn\n",
      "Performing action: Mortgage Park Lane\n",
      "Performing action: Unmortgage Trafalgar Square\n",
      "Performing action: Mortgage Bow Street\n",
      "Performing action: Mortgage Trafalgar Square\n",
      "Performing action: Unmortgage Bow Street\n",
      "Performing action: Mortgage Bow Street\n",
      "Performing action: End turn\n",
      "Performing action: Unmortgage Trafalgar Square\n",
      "Performing action: Mortgage Trafalgar Square\n",
      "Performing action: Unmortgage Trafalgar Square\n",
      "Performing action: Unmortgage Park Lane\n",
      "Performing action: Mortgage Trafalgar Square\n",
      "Performing action: Mortgage Park Lane\n",
      "Performing action: Unmortgage Bow Street\n",
      "Performing action: Mortgage Bow Street\n",
      "Performing action: Unmortgage Park Lane\n",
      "Performing action: Unmortgage Bow Street\n",
      "Performing action: End turn\n",
      "Performing action: End turn\n",
      "Performing action: Mortgage Park Lane\n",
      "Performing action: Mortgage Bow Street\n",
      "Performing action: Unmortgage Bow Street\n",
      "Performing action: Unmortgage Trafalgar Square\n",
      "Performing action: Unmortgage Park Lane\n",
      "Performing action: Pay 50 to get out of jail\n",
      "Performing action: End turn\n",
      "Performing action: Mortgage Trafalgar Square\n",
      "Performing action: Mortgage Park Lane\n",
      "Performing action: End turn\n",
      "Performing action: Unmortgage Trafalgar Square\n",
      "Performing action: Mortgage Bow Street\n",
      "Performing action: End turn\n",
      "Performing action: Unmortgage Bow Street\n",
      "Performing action: Mortgage Bow Street\n",
      "Performing action: Mortgage Trafalgar Square\n",
      "Performing action: Unmortgage Bow Street\n",
      "Performing action: End turn\n",
      "Performing action: Pay 50 to get out of jail\n",
      "Performing action: Unmortgage Trafalgar Square\n",
      "Performing action: End turn\n",
      "Performing action: End turn\n",
      "Performing action: Unmortgage Park Lane\n",
      "Performing action: End turn\n",
      "Performing action: Mortgage Park Lane\n",
      "Performing action: Mortgage Bow Street\n",
      "Performing action: Unmortgage Park Lane\n",
      "Performing action: Mortgage Park Lane\n",
      "Performing action: Mortgage Trafalgar Square\n",
      "Performing action: End turn\n",
      "Performing action: Unmortgage Park Lane\n",
      "Performing action: Mortgage Park Lane\n",
      "Performing action: Pay 50 to get out of jail\n",
      "Performing action: End turn\n",
      "Performing action: Unmortgage Park Lane\n",
      "Performing action: Mortgage Park Lane\n",
      "Performing action: Unmortgage Trafalgar Square\n",
      "Performing action: Unmortgage Park Lane\n",
      "Performing action: End turn\n",
      "Performing action: End turn\n",
      "Performing action: End turn\n",
      "Performing action: Mortgage Park Lane\n",
      "Performing action: Unmortgage Park Lane\n",
      "Performing action: Unmortgage Bow Street\n",
      "Performing action: Mortgage Park Lane\n",
      "Performing action: Pay 50 to get out of jail\n",
      "Performing action: End turn\n",
      "Performing action: End turn\n",
      "Performing action: Mortgage Trafalgar Square\n",
      "Performing action: Unmortgage Park Lane\n",
      "Performing action: Mortgage Park Lane\n",
      "Performing action: Unmortgage Park Lane\n",
      "Performing action: Mortgage Park Lane\n",
      "Performing action: Unmortgage Trafalgar Square\n",
      "Performing action: Mortgage Bow Street\n",
      "Performing action: Unmortgage Bow Street\n",
      "Performing action: Mortgage Trafalgar Square\n",
      "Performing action: End turn\n",
      "Performing action: End turn\n",
      "Performing action: Mortgage Bow Street\n",
      "Performing action: Unmortgage Park Lane\n",
      "Performing action: Unmortgage Bow Street\n",
      "Performing action: Mortgage Park Lane\n",
      "Performing action: Mortgage Bow Street\n",
      "Performing action: Unmortgage Park Lane\n",
      "Performing action: Unmortgage Bow Street\n",
      "Performing action: Unmortgage Trafalgar Square\n",
      "Performing action: Mortgage Park Lane\n",
      "Performing action: Unmortgage Park Lane\n",
      "Performing action: Mortgage Park Lane\n",
      "Performing action: Unmortgage Park Lane\n",
      "Performing action: End turn\n",
      "Performing action: Mortgage Park Lane\n",
      "Performing action: Mortgage Bow Street\n",
      "Performing action: Mortgage Trafalgar Square\n",
      "Performing action: Unmortgage Trafalgar Square\n",
      "Performing action: Unmortgage Bow Street\n",
      "Performing action: Mortgage Trafalgar Square\n",
      "Performing action: Unmortgage Park Lane\n",
      "Performing action: Mortgage Park Lane\n",
      "Performing action: End turn\n",
      "Performing action: Mortgage Bow Street\n",
      "Performing action: Unmortgage Trafalgar Square\n",
      "Performing action: Mortgage Trafalgar Square\n",
      "Performing action: Unmortgage Park Lane\n",
      "Performing action: End turn\n",
      "Performing action: Mortgage Park Lane\n",
      "Performing action: End turn\n",
      "Performing action: Unmortgage Trafalgar Square\n",
      "Performing action: Unmortgage Bow Street\n",
      "Performing action: Mortgage Bow Street\n",
      "Performing action: Unmortgage Park Lane\n",
      "Performing action: Mortgage Trafalgar Square\n",
      "Performing action: Unmortgage Bow Street\n",
      "Performing action: End turn\n",
      "Performing action: Mortgage Bow Street\n",
      "Performing action: Unmortgage Trafalgar Square\n",
      "Performing action: Mortgage Park Lane\n",
      "Performing action: End turn\n",
      "Performing action: End turn\n",
      "Performing action: Mortgage Trafalgar Square\n",
      "Performing action: End turn\n",
      "Performing action: Unmortgage Bow Street\n",
      "Performing action: Unmortgage Trafalgar Square\n",
      "Performing action: Pay 50 to get out of jail\n",
      "Performing action: Mortgage Trafalgar Square\n",
      "Performing action: Unmortgage Trafalgar Square\n",
      "Performing action: Mortgage Trafalgar Square\n",
      "Performing action: Unmortgage Trafalgar Square\n",
      "Performing action: Mortgage Bow Street\n",
      "Performing action: Unmortgage Bow Street\n",
      "Performing action: Mortgage Bow Street\n",
      "Performing action: Mortgage Trafalgar Square\n",
      "Performing action: Unmortgage Bow Street\n",
      "Performing action: Unmortgage Park Lane\n",
      "Performing action: End turn\n",
      "Performing action: Mortgage Bow Street\n",
      "Performing action: Mortgage Park Lane\n",
      "Performing action: Unmortgage Trafalgar Square\n",
      "Performing action: Unmortgage Bow Street\n",
      "Performing action: Mortgage Trafalgar Square\n",
      "Performing action: End turn\n",
      "Performing action: Unmortgage Trafalgar Square\n",
      "Performing action: Mortgage Bow Street\n",
      "Performing action: End turn\n",
      "Performing action: Mortgage Trafalgar Square\n",
      "Performing action: End turn\n",
      "Performing action: Purchase Old Kent Road\n",
      "Performing action: Mortgage Old Kent Road\n",
      "Performing action: End turn\n",
      "Performing action: Unmortgage Park Lane\n",
      "Performing action: Unmortgage Bow Street\n",
      "Performing action: End turn\n",
      "Performing action: Unmortgage Old Kent Road\n",
      "Performing action: Mortgage Park Lane\n",
      "Performing action: Unmortgage Trafalgar Square\n",
      "Performing action: Mortgage Old Kent Road\n",
      "Performing action: End turn\n",
      "Performing action: End turn\n",
      "Performing action: Mortgage Bow Street\n",
      "Performing action: Unmortgage Old Kent Road\n",
      "Performing action: End turn\n",
      "Performing action: Pay 50 to get out of jail\n",
      "Performing action: Unmortgage Bow Street\n",
      "Performing action: Mortgage Bow Street\n",
      "Performing action: End turn\n",
      "Performing action: Unmortgage Bow Street\n",
      "Performing action: Mortgage Bow Street\n",
      "Performing action: End turn\n",
      "Performing action: Mortgage Trafalgar Square\n",
      "Performing action: Unmortgage Trafalgar Square\n",
      "Performing action: Pay 50 to get out of jail\n",
      "Performing action: Mortgage Trafalgar Square\n",
      "Performing action: Unmortgage Trafalgar Square\n",
      "Performing action: End turn\n",
      "Performing action: Mortgage Trafalgar Square\n",
      "Performing action: Mortgage Old Kent Road\n",
      "Performing action: Unmortgage Bow Street\n",
      "Performing action: Unmortgage Old Kent Road\n",
      "Performing action: End turn\n",
      "Performing action: End turn\n",
      "Performing action: End turn\n",
      "Performing action: Mortgage Bow Street\n",
      "Performing action: Mortgage Old Kent Road\n",
      "Performing action: Unmortgage Old Kent Road\n",
      "Performing action: Unmortgage Trafalgar Square\n",
      "Performing action: Mortgage Old Kent Road\n",
      "Performing action: End turn\n",
      "Performing action: End turn\n",
      "Performing action: Unmortgage Old Kent Road\n",
      "Performing action: End turn\n",
      "Performing action: End turn\n",
      "Performing action: Unmortgage Bow Street\n",
      "Performing action: Mortgage Old Kent Road\n",
      "Performing action: Mortgage Bow Street\n",
      "Performing action: End turn\n",
      "Performing action: Unmortgage Park Lane\n",
      "Performing action: Unmortgage Bow Street\n",
      "Performing action: Unmortgage Old Kent Road\n",
      "Performing action: Mortgage Trafalgar Square\n",
      "Performing action: Mortgage Old Kent Road\n",
      "Performing action: Mortgage Bow Street\n",
      "Performing action: Unmortgage Bow Street\n",
      "Performing action: Unmortgage Trafalgar Square\n",
      "Performing action: Mortgage Bow Street\n",
      "Performing action: End turn\n",
      "Performing action: Unmortgage Old Kent Road\n",
      "Performing action: Mortgage Park Lane\n",
      "Performing action: Mortgage Old Kent Road\n",
      "Performing action: Mortgage Trafalgar Square\n",
      "Performing action: Unmortgage Old Kent Road\n",
      "Performing action: Unmortgage Bow Street\n",
      "Performing action: Unmortgage Trafalgar Square\n",
      "Performing action: End turn\n",
      "Performing action: Unmortgage Park Lane\n",
      "Performing action: End turn\n",
      "Performing action: Mortgage Trafalgar Square\n",
      "Performing action: Mortgage Old Kent Road\n",
      "Performing action: Pay 50 to get out of jail\n",
      "Performing action: Unmortgage Old Kent Road\n",
      "Performing action: Unmortgage Trafalgar Square\n",
      "Performing action: End turn\n",
      "Performing action: Mortgage Old Kent Road\n",
      "Performing action: Unmortgage Old Kent Road\n",
      "Performing action: Mortgage Trafalgar Square\n",
      "Performing action: Unmortgage Trafalgar Square\n",
      "Performing action: Mortgage Bow Street\n",
      "Performing action: Unmortgage Bow Street\n",
      "Performing action: Mortgage Park Lane\n",
      "Performing action: Unmortgage Park Lane\n",
      "Performing action: Mortgage Park Lane\n",
      "Performing action: End turn\n",
      "Performing action: Purchase Oxford Street\n",
      "Performing action: Mortgage Trafalgar Square\n",
      "Performing action: Mortgage Bow Street\n",
      "Performing action: End turn\n",
      "Performing action: Mortgage Old Kent Road\n",
      "Performing action: Unmortgage Park Lane\n",
      "Performing action: End turn\n",
      "Performing action: Unmortgage Old Kent Road\n",
      "Performing action: End turn\n",
      "Performing action: End turn\n",
      "Performing action: Mortgage Old Kent Road\n",
      "Performing action: Mortgage Park Lane\n",
      "Performing action: Mortgage Oxford Street\n",
      "Performing action: Unmortgage Trafalgar Square\n",
      "Performing action: Mortgage Trafalgar Square\n",
      "Performing action: Unmortgage Bow Street\n",
      "Performing action: Mortgage Bow Street\n",
      "Performing action: Unmortgage Trafalgar Square\n",
      "Performing action: Mortgage Trafalgar Square\n",
      "Performing action: Unmortgage Bow Street\n",
      "Performing action: Mortgage Bow Street\n",
      "Performing action: Unmortgage Old Kent Road\n",
      "Performing action: Mortgage Old Kent Road\n",
      "Performing action: End turn\n",
      "Performing action: Unmortgage Old Kent Road\n",
      "Performing action: Mortgage Old Kent Road\n",
      "Performing action: End turn\n",
      "Performing action: Unmortgage Bow Street\n",
      "Performing action: End turn\n",
      "Performing action: Mortgage Bow Street\n",
      "No legal actions left\n"
     ]
    }
   ],
   "source": [
    "while not board.is_terminal():\n",
    "    legal_actions = board.get_legal_actions()\n",
    "\n",
    "    if legal_actions:\n",
    "        action = random.choice(legal_actions)\n",
    "        print(f\"Performing action: {action}\")\n",
    "        board.perform_action(action)\n",
    "    else:\n",
    "        print(\"No legal actions left\")"
   ]
  },
  {
   "cell_type": "code",
   "execution_count": 43,
   "metadata": {},
   "outputs": [
    {
     "data": {
      "text/plain": [
       "(True, False)"
      ]
     },
     "execution_count": 43,
     "metadata": {},
     "output_type": "execute_result"
    }
   ],
   "source": [
    "player1.bankrupt, player2.bankrupt"
   ]
  },
  {
   "cell_type": "code",
   "execution_count": 44,
   "metadata": {},
   "outputs": [],
   "source": [
    "board = MonopolyBoardMCTS()\n",
    "player1 = Player('Cat')\n",
    "player2 = Player('Vlad')\n",
    "\n",
    "player1.money = 10000\n",
    "player2.money = 10000\n",
    "\n",
    "board.add_agent(player1)\n",
    "board.add_other_player(player2)"
   ]
  },
  {
   "cell_type": "code",
   "execution_count": 45,
   "metadata": {},
   "outputs": [
    {
     "name": "stdout",
     "output_type": "stream",
     "text": [
      "Performing action: End turn\n",
      "Performing action: End turn\n",
      "Performing action: End turn\n",
      "Performing action: Purchase The Strand\n",
      "Performing action: End turn\n",
      "Performing action: Purchase Fenchurch St. Station\n",
      "Performing action: Mortgage Fenchurch St. Station\n",
      "Performing action: Mortgage The Strand\n",
      "Performing action: Unmortgage Fenchurch St. Station\n",
      "Performing action: Mortgage Fenchurch St. Station\n",
      "Performing action: Unmortgage Fenchurch St. Station\n",
      "Performing action: Unmortgage The Strand\n",
      "Performing action: Mortgage Fenchurch St. Station\n",
      "Performing action: Unmortgage Fenchurch St. Station\n",
      "Performing action: End turn\n",
      "Performing action: Mortgage Fenchurch St. Station\n",
      "Performing action: Mortgage The Strand\n",
      "Performing action: Unmortgage Fenchurch St. Station\n",
      "Performing action: End turn\n",
      "Performing action: End turn\n",
      "Performing action: Unmortgage The Strand\n",
      "Performing action: End turn\n",
      "Performing action: Mortgage Fenchurch St. Station\n",
      "Performing action: Unmortgage Fenchurch St. Station\n",
      "Performing action: End turn\n",
      "Performing action: End turn\n",
      "Performing action: Purchase Regent Street\n",
      "Performing action: Mortgage Regent Street\n",
      "Performing action: Mortgage The Strand\n",
      "Performing action: Unmortgage The Strand\n",
      "Performing action: Unmortgage Regent Street\n",
      "Performing action: Mortgage The Strand\n",
      "Performing action: Mortgage Fenchurch St. Station\n",
      "Performing action: Unmortgage The Strand\n",
      "Performing action: Mortgage Regent Street\n",
      "Performing action: End turn\n",
      "Performing action: End turn\n",
      "Performing action: Unmortgage Regent Street\n",
      "Performing action: Unmortgage Fenchurch St. Station\n",
      "Performing action: Mortgage Regent Street\n",
      "Performing action: Unmortgage Regent Street\n",
      "Performing action: Mortgage The Strand\n",
      "Performing action: End turn\n",
      "Performing action: End turn\n",
      "Performing action: Unmortgage The Strand\n",
      "Performing action: Mortgage The Strand\n",
      "Performing action: Mortgage Regent Street\n",
      "Performing action: End turn\n",
      "Performing action: Unmortgage The Strand\n",
      "Performing action: Mortgage Fenchurch St. Station\n",
      "Performing action: Mortgage The Strand\n",
      "Performing action: Unmortgage Regent Street\n",
      "Performing action: Unmortgage Fenchurch St. Station\n",
      "Performing action: Mortgage Regent Street\n",
      "Performing action: Mortgage Fenchurch St. Station\n",
      "Performing action: Unmortgage Fenchurch St. Station\n",
      "Performing action: Unmortgage Regent Street\n",
      "Performing action: Mortgage Regent Street\n",
      "Performing action: End turn\n",
      "Performing action: Pay 50 to get out of jail\n",
      "Performing action: Mortgage Fenchurch St. Station\n",
      "Performing action: Unmortgage Regent Street\n",
      "Performing action: Mortgage Regent Street\n",
      "Performing action: End turn\n",
      "Performing action: Purchase Liverpool St. Station\n",
      "Performing action: Unmortgage Fenchurch St. Station\n",
      "Performing action: Unmortgage The Strand\n",
      "Performing action: End turn\n",
      "Performing action: Mortgage The Strand\n",
      "Performing action: End turn\n",
      "Performing action: Mortgage Liverpool St. Station\n",
      "Performing action: Unmortgage Regent Street\n",
      "Performing action: End turn\n",
      "Performing action: Unmortgage Liverpool St. Station\n",
      "Performing action: Mortgage Regent Street\n",
      "Performing action: Mortgage Liverpool St. Station\n",
      "Performing action: Mortgage Fenchurch St. Station\n",
      "Performing action: Unmortgage Fenchurch St. Station\n",
      "Performing action: Unmortgage Regent Street\n",
      "Performing action: End turn\n",
      "Performing action: Mortgage Fenchurch St. Station\n",
      "Performing action: Unmortgage The Strand\n",
      "Performing action: Purchase Northumberland Avenue\n",
      "Performing action: Mortgage Northumberland Avenue\n",
      "Performing action: Unmortgage Liverpool St. Station\n",
      "Performing action: End turn\n",
      "Performing action: Mortgage Liverpool St. Station\n",
      "Performing action: End turn\n",
      "Performing action: Mortgage Regent Street\n",
      "Performing action: Mortgage The Strand\n",
      "Performing action: Pay 50 to get out of jail\n",
      "Performing action: End turn\n",
      "Performing action: Unmortgage The Strand\n",
      "Performing action: Unmortgage Regent Street\n",
      "Performing action: Unmortgage Northumberland Avenue\n",
      "Performing action: Unmortgage Liverpool St. Station\n",
      "Performing action: End turn\n",
      "Performing action: Mortgage Liverpool St. Station\n",
      "Performing action: Unmortgage Liverpool St. Station\n",
      "Performing action: Mortgage Northumberland Avenue\n",
      "Performing action: Unmortgage Fenchurch St. Station\n",
      "Performing action: Mortgage Liverpool St. Station\n",
      "Performing action: Mortgage Fenchurch St. Station\n",
      "Performing action: Unmortgage Fenchurch St. Station\n",
      "Performing action: Unmortgage Northumberland Avenue\n",
      "Performing action: Mortgage Fenchurch St. Station\n",
      "Performing action: Pay 50 to get out of jail\n",
      "Performing action: Mortgage The Strand\n",
      "Performing action: Unmortgage Liverpool St. Station\n",
      "Performing action: Mortgage Regent Street\n",
      "Performing action: Unmortgage Regent Street\n",
      "Performing action: End turn\n",
      "Performing action: Mortgage Regent Street\n",
      "Performing action: Mortgage Liverpool St. Station\n",
      "Performing action: End turn\n",
      "Performing action: Mortgage Northumberland Avenue\n",
      "Performing action: End turn\n",
      "Performing action: Unmortgage Fenchurch St. Station\n",
      "Performing action: Unmortgage Regent Street\n",
      "Performing action: Mortgage Fenchurch St. Station\n",
      "Performing action: Unmortgage Liverpool St. Station\n",
      "Performing action: Unmortgage Northumberland Avenue\n",
      "Performing action: End turn\n",
      "Performing action: Unmortgage The Strand\n",
      "Performing action: Mortgage Northumberland Avenue\n",
      "Performing action: Mortgage Liverpool St. Station\n",
      "Performing action: End turn\n",
      "Performing action: Purchase Trafalgar Square\n",
      "Performing action: Unmortgage Northumberland Avenue\n",
      "Performing action: Mortgage Northumberland Avenue\n",
      "Performing action: Unmortgage Liverpool St. Station\n",
      "Performing action: Mortgage Liverpool St. Station\n",
      "Performing action: End turn\n",
      "Performing action: Mortgage Trafalgar Square\n",
      "Performing action: Unmortgage Northumberland Avenue\n",
      "Performing action: Mortgage Northumberland Avenue\n",
      "Performing action: Mortgage The Strand\n",
      "Performing action: End turn\n",
      "Performing action: End turn\n",
      "Performing action: Unmortgage Trafalgar Square\n",
      "Performing action: Unmortgage Liverpool St. Station\n",
      "Performing action: End turn\n",
      "Performing action: Mortgage Liverpool St. Station\n",
      "Performing action: Unmortgage Fenchurch St. Station\n",
      "Performing action: Mortgage Trafalgar Square\n",
      "Performing action: Unmortgage The Strand\n",
      "Performing action: Unmortgage Northumberland Avenue\n",
      "Performing action: Unmortgage Liverpool St. Station\n",
      "Performing action: Mortgage Fenchurch St. Station\n",
      "Performing action: Mortgage The Strand\n",
      "Performing action: Mortgage Regent Street\n",
      "Performing action: Unmortgage Fenchurch St. Station\n",
      "Performing action: Unmortgage Regent Street\n",
      "Performing action: End turn\n",
      "Performing action: Unmortgage The Strand\n",
      "Performing action: Mortgage The Strand\n",
      "Performing action: Unmortgage The Strand\n",
      "Performing action: Mortgage Fenchurch St. Station\n",
      "Performing action: Mortgage The Strand\n",
      "Performing action: Mortgage Northumberland Avenue\n",
      "Performing action: End turn\n",
      "Performing action: End turn\n",
      "Performing action: Unmortgage Trafalgar Square\n",
      "Performing action: Unmortgage Fenchurch St. Station\n",
      "Performing action: Mortgage Fenchurch St. Station\n",
      "Performing action: Unmortgage The Strand\n",
      "Performing action: End turn\n",
      "Performing action: Purchase Oxford Street\n",
      "Performing action: Mortgage Oxford Street\n",
      "Performing action: Mortgage Trafalgar Square\n",
      "Performing action: Mortgage Regent Street\n",
      "Performing action: Unmortgage Trafalgar Square\n",
      "Performing action: Unmortgage Fenchurch St. Station\n",
      "Performing action: Unmortgage Northumberland Avenue\n",
      "Performing action: Mortgage Liverpool St. Station\n",
      "Performing action: Mortgage The Strand\n",
      "Performing action: Unmortgage Regent Street\n",
      "Performing action: Unmortgage The Strand\n",
      "Performing action: End turn\n",
      "Performing action: Unmortgage Oxford Street\n",
      "Performing action: Mortgage Fenchurch St. Station\n",
      "Performing action: End turn\n",
      "Performing action: Mortgage Trafalgar Square\n",
      "Performing action: Mortgage Oxford Street\n",
      "Performing action: Unmortgage Liverpool St. Station\n",
      "Performing action: Mortgage Liverpool St. Station\n",
      "Performing action: Unmortgage Liverpool St. Station\n",
      "Performing action: Mortgage The Strand\n",
      "Performing action: Unmortgage Oxford Street\n",
      "Performing action: End turn\n",
      "Performing action: Mortgage Oxford Street\n",
      "Performing action: End turn\n",
      "Performing action: Unmortgage Oxford Street\n",
      "Performing action: Mortgage Northumberland Avenue\n",
      "Performing action: End turn\n",
      "Performing action: Mortgage Liverpool St. Station\n",
      "Performing action: Unmortgage Liverpool St. Station\n",
      "Performing action: Mortgage Liverpool St. Station\n",
      "Performing action: Mortgage Oxford Street\n",
      "Performing action: End turn\n",
      "Performing action: Unmortgage The Strand\n",
      "Performing action: Unmortgage Fenchurch St. Station\n",
      "Performing action: End turn\n",
      "Performing action: End turn\n",
      "Performing action: Unmortgage Northumberland Avenue\n",
      "Performing action: Unmortgage Trafalgar Square\n",
      "Performing action: Mortgage Trafalgar Square\n",
      "Performing action: Mortgage Regent Street\n",
      "Performing action: Unmortgage Liverpool St. Station\n",
      "Performing action: Mortgage Northumberland Avenue\n",
      "Performing action: Mortgage Fenchurch St. Station\n",
      "Performing action: End turn\n",
      "Performing action: Mortgage The Strand\n",
      "Performing action: Unmortgage Oxford Street\n",
      "Performing action: Mortgage Oxford Street\n",
      "Performing action: Unmortgage Trafalgar Square\n",
      "Performing action: Unmortgage Oxford Street\n",
      "Performing action: Unmortgage Northumberland Avenue\n",
      "Performing action: Unmortgage Fenchurch St. Station\n",
      "Performing action: Mortgage Oxford Street\n",
      "Performing action: Mortgage Liverpool St. Station\n",
      "Performing action: Unmortgage Liverpool St. Station\n",
      "Performing action: Mortgage Fenchurch St. Station\n",
      "Performing action: Mortgage Liverpool St. Station\n",
      "Performing action: Unmortgage The Strand\n",
      "Performing action: Mortgage Northumberland Avenue\n",
      "Performing action: Unmortgage Liverpool St. Station\n",
      "Performing action: Unmortgage Regent Street\n",
      "Performing action: End turn\n",
      "Performing action: Unmortgage Northumberland Avenue\n",
      "Performing action: End turn\n",
      "Performing action: Mortgage Liverpool St. Station\n",
      "Performing action: Mortgage Northumberland Avenue\n",
      "Performing action: Mortgage Regent Street\n",
      "Performing action: End turn\n",
      "Performing action: Unmortgage Liverpool St. Station\n",
      "Performing action: Unmortgage Northumberland Avenue\n",
      "Performing action: End turn\n",
      "Performing action: Mortgage Northumberland Avenue\n",
      "Performing action: Pay 50 to get out of jail\n",
      "Performing action: Unmortgage Fenchurch St. Station\n",
      "Performing action: Unmortgage Northumberland Avenue\n",
      "Performing action: Mortgage Liverpool St. Station\n",
      "Performing action: Unmortgage Regent Street\n",
      "Performing action: Mortgage The Strand\n",
      "Performing action: Unmortgage Liverpool St. Station\n",
      "Performing action: Mortgage Liverpool St. Station\n",
      "Performing action: Mortgage Regent Street\n",
      "Performing action: Mortgage Northumberland Avenue\n",
      "Performing action: End turn\n",
      "Performing action: Unmortgage Regent Street\n",
      "Performing action: Unmortgage The Strand\n",
      "Performing action: Unmortgage Northumberland Avenue\n",
      "Performing action: Mortgage Northumberland Avenue\n",
      "Performing action: Mortgage Regent Street\n",
      "Performing action: Mortgage The Strand\n",
      "Performing action: Unmortgage Northumberland Avenue\n",
      "Performing action: End turn\n",
      "Performing action: Mortgage Fenchurch St. Station\n",
      "Performing action: Mortgage Trafalgar Square\n",
      "Performing action: Unmortgage Oxford Street\n",
      "Performing action: Unmortgage Fenchurch St. Station\n",
      "Performing action: Unmortgage Liverpool St. Station\n",
      "Performing action: Mortgage Fenchurch St. Station\n",
      "Performing action: Unmortgage The Strand\n",
      "Performing action: Mortgage Oxford Street\n",
      "Performing action: Unmortgage Oxford Street\n",
      "Performing action: Unmortgage Regent Street\n",
      "Performing action: Mortgage Northumberland Avenue\n",
      "Performing action: Unmortgage Northumberland Avenue\n",
      "Performing action: End turn\n",
      "Performing action: End turn\n",
      "Performing action: Unmortgage Fenchurch St. Station\n",
      "Performing action: End turn\n",
      "Performing action: Mortgage Fenchurch St. Station\n",
      "Performing action: Mortgage Regent Street\n",
      "Performing action: End turn\n",
      "Performing action: Unmortgage Regent Street\n",
      "Performing action: Unmortgage Fenchurch St. Station\n",
      "Performing action: Mortgage Liverpool St. Station\n",
      "Performing action: Mortgage Regent Street\n",
      "Performing action: Mortgage Fenchurch St. Station\n",
      "Performing action: End turn\n",
      "Performing action: Unmortgage Regent Street\n",
      "Performing action: Mortgage Regent Street\n",
      "Performing action: End turn\n",
      "Performing action: Mortgage Northumberland Avenue\n",
      "Performing action: Unmortgage Regent Street\n",
      "Performing action: Mortgage The Strand\n",
      "Performing action: Mortgage Regent Street\n",
      "Performing action: Unmortgage Trafalgar Square\n",
      "Performing action: Purchase Bond Street\n",
      "Performing action: Mortgage Oxford Street\n",
      "Performing action: Mortgage Bond Street\n",
      "Performing action: Unmortgage Northumberland Avenue\n",
      "Performing action: Buy house on Regent Street\n",
      "Performing action: Sell house on Regent Street\n",
      "Performing action: Unmortgage Fenchurch St. Station\n",
      "Performing action: Unmortgage Liverpool St. Station\n",
      "Performing action: Unmortgage Regent Street\n",
      "Performing action: Buy house on Bond Street\n",
      "Performing action: End turn\n",
      "Performing action: Purchase Whitechapel Road\n",
      "Performing action: Buy house on Oxford Street\n",
      "Performing action: Mortgage Trafalgar Square\n",
      "Performing action: Sell house on Bond Street\n",
      "Performing action: Buy house on Regent Street\n",
      "Performing action: Mortgage Whitechapel Road\n",
      "Performing action: Unmortgage Oxford Street\n",
      "Performing action: Buy house on Bond Street\n",
      "Performing action: Unmortgage The Strand\n",
      "Performing action: Sell house on Regent Street\n",
      "Performing action: Mortgage The Strand\n",
      "Performing action: End turn\n",
      "Performing action: Mortgage Liverpool St. Station\n",
      "Performing action: Unmortgage The Strand\n",
      "Performing action: Mortgage Regent Street\n",
      "Performing action: Buy house on Regent Street\n",
      "Performing action: Buy house on Regent Street\n",
      "Performing action: Unmortgage Liverpool St. Station\n",
      "Performing action: Buy house on Bond Street\n",
      "Performing action: Sell house on Bond Street\n",
      "Performing action: Mortgage The Strand\n",
      "Performing action: Unmortgage Trafalgar Square\n",
      "Performing action: Sell house on Regent Street\n",
      "Performing action: Sell house on Bond Street\n",
      "Performing action: Mortgage Trafalgar Square\n",
      "Performing action: Unmortgage Trafalgar Square\n",
      "Performing action: Mortgage Trafalgar Square\n",
      "Performing action: Buy house on Bond Street\n",
      "Performing action: Unmortgage The Strand\n",
      "Performing action: Mortgage The Strand\n",
      "Performing action: Mortgage Fenchurch St. Station\n",
      "Performing action: Unmortgage Fenchurch St. Station\n",
      "Performing action: Unmortgage Regent Street\n",
      "Performing action: Mortgage Liverpool St. Station\n",
      "Performing action: Buy house on Bond Street\n",
      "Performing action: Buy house on Oxford Street\n",
      "Performing action: Sell house on Bond Street\n",
      "Performing action: Mortgage Fenchurch St. Station\n",
      "Performing action: Buy house on Regent Street\n",
      "Performing action: Unmortgage The Strand\n",
      "Performing action: Buy house on Bond Street\n",
      "Performing action: Sell house on Oxford Street\n",
      "Performing action: Sell house on Bond Street\n",
      "Performing action: Unmortgage Whitechapel Road\n",
      "Performing action: Mortgage Whitechapel Road\n",
      "Performing action: Buy house on Bond Street\n",
      "Performing action: Mortgage The Strand\n",
      "Performing action: Unmortgage Trafalgar Square\n",
      "Performing action: Sell house on Regent Street\n",
      "Performing action: Sell house on Bond Street\n",
      "Performing action: Unmortgage Fenchurch St. Station\n",
      "Performing action: Sell house on Oxford Street\n",
      "Performing action: End turn\n",
      "Performing action: Mortgage Trafalgar Square\n",
      "Performing action: Mortgage Northumberland Avenue\n",
      "Performing action: Sell house on Regent Street\n",
      "Performing action: Mortgage Oxford Street\n",
      "Performing action: Sell house on Bond Street\n",
      "Performing action: Mortgage Regent Street\n",
      "Performing action: Unmortgage Regent Street\n",
      "Performing action: Unmortgage Northumberland Avenue\n",
      "Performing action: Mortgage Regent Street\n",
      "Performing action: Unmortgage The Strand\n",
      "Performing action: Unmortgage Whitechapel Road\n",
      "Performing action: End turn\n",
      "Performing action: Mortgage Fenchurch St. Station\n",
      "Performing action: Mortgage Whitechapel Road\n",
      "Performing action: Unmortgage Fenchurch St. Station\n",
      "Performing action: Mortgage The Strand\n",
      "Performing action: Unmortgage Trafalgar Square\n",
      "Performing action: Mortgage Trafalgar Square\n",
      "Performing action: Unmortgage Liverpool St. Station\n",
      "Performing action: Mortgage Northumberland Avenue\n",
      "Performing action: End turn\n",
      "Performing action: Mortgage Fenchurch St. Station\n",
      "Performing action: Unmortgage Bond Street\n",
      "Performing action: Mortgage Liverpool St. Station\n",
      "Performing action: Unmortgage Liverpool St. Station\n",
      "Performing action: End turn\n",
      "Performing action: Mortgage Bond Street\n",
      "Performing action: Pay 50 to get out of jail\n",
      "Performing action: Unmortgage Northumberland Avenue\n",
      "Performing action: Mortgage Liverpool St. Station\n",
      "Performing action: Mortgage Northumberland Avenue\n",
      "Performing action: Unmortgage Northumberland Avenue\n",
      "Performing action: Unmortgage Whitechapel Road\n",
      "Performing action: End turn\n",
      "Performing action: Mortgage Whitechapel Road\n",
      "Performing action: Unmortgage Fenchurch St. Station\n",
      "Performing action: End turn\n",
      "Performing action: Buy house on Regent Street\n",
      "Performing action: End turn\n",
      "Performing action: Mortgage Fenchurch St. Station\n",
      "Performing action: Unmortgage Fenchurch St. Station\n",
      "Performing action: End turn\n",
      "Performing action: Mortgage Fenchurch St. Station\n",
      "Performing action: End turn\n",
      "Performing action: Unmortgage Whitechapel Road\n",
      "Performing action: Sell house on Regent Street\n",
      "Performing action: Unmortgage Oxford Street\n",
      "Performing action: Mortgage Oxford Street\n",
      "Performing action: Unmortgage Liverpool St. Station\n",
      "Performing action: End turn\n",
      "Performing action: Mortgage Liverpool St. Station\n",
      "Performing action: Pay 50 to get out of jail\n",
      "Performing action: End turn\n",
      "Performing action: Mortgage Whitechapel Road\n",
      "Performing action: End turn\n",
      "Performing action: Mortgage Northumberland Avenue\n",
      "No legal actions left\n"
     ]
    }
   ],
   "source": [
    "while not board.is_terminal():\n",
    "    legal_actions = board.get_legal_actions()\n",
    "\n",
    "    if legal_actions:\n",
    "        action = random.choice(legal_actions)\n",
    "        print(f\"Performing action: {action}\")\n",
    "        board.perform_action(action)\n",
    "    else:\n",
    "        print(\"No legal actions left\")"
   ]
  },
  {
   "cell_type": "code",
   "execution_count": 46,
   "metadata": {},
   "outputs": [
    {
     "data": {
      "text/plain": [
       "(True, False)"
      ]
     },
     "execution_count": 46,
     "metadata": {},
     "output_type": "execute_result"
    }
   ],
   "source": [
    "player1.bankrupt, player2.bankrupt"
   ]
  },
  {
   "cell_type": "markdown",
   "metadata": {},
   "source": [
    "## Testing MCTS class"
   ]
  },
  {
   "cell_type": "code",
   "execution_count": 47,
   "metadata": {},
   "outputs": [],
   "source": [
    "board = MonopolyBoardMCTS()\n",
    "player1 = Player('Cat')\n",
    "player2 = Player('Vlad')\n",
    "\n",
    "board.add_agent(player1)\n",
    "board.add_other_player(player2)"
   ]
  },
  {
   "cell_type": "code",
   "execution_count": 48,
   "metadata": {},
   "outputs": [],
   "source": [
    "mcts = MCTS(board, 10000)"
   ]
  },
  {
   "cell_type": "code",
   "execution_count": 49,
   "metadata": {},
   "outputs": [
    {
     "name": "stderr",
     "output_type": "stream",
     "text": [
      "Running MCTS game:   0%|          | 0/1000 [00:00<?, ?it/s]"
     ]
    },
    {
     "name": "stderr",
     "output_type": "stream",
     "text": [
      "Running MCTS game:   2%|▏         | 24/1000 [35:03<23:45:57, 87.66s/it] \n"
     ]
    }
   ],
   "source": [
    "mcts.run_game()"
   ]
  },
  {
   "cell_type": "code",
   "execution_count": 50,
   "metadata": {},
   "outputs": [
    {
     "data": {
      "text/plain": [
       "['End turn',\n",
       " 'Purchase Mayfair',\n",
       " 'End turn',\n",
       " 'End turn',\n",
       " 'End turn',\n",
       " 'Mortgage Mayfair',\n",
       " 'End turn',\n",
       " 'Unmortgage Mayfair',\n",
       " 'End turn',\n",
       " 'End turn',\n",
       " 'End turn',\n",
       " 'Mortgage Mayfair',\n",
       " 'Purchase Park Lane',\n",
       " 'End turn',\n",
       " 'Buy house on Park Lane',\n",
       " 'Unmortgage Mayfair',\n",
       " 'End turn',\n",
       " 'End turn',\n",
       " 'Buy house on Mayfair',\n",
       " 'Buy house on Park Lane',\n",
       " 'End turn',\n",
       " 'Buy house on Mayfair',\n",
       " 'Buy house on Mayfair',\n",
       " 'End turn']"
      ]
     },
     "execution_count": 50,
     "metadata": {},
     "output_type": "execute_result"
    }
   ],
   "source": [
    "mcts.best_actions"
   ]
  },
  {
   "cell_type": "code",
   "execution_count": 51,
   "metadata": {},
   "outputs": [
    {
     "data": {
      "text/plain": [
       "13"
      ]
     },
     "execution_count": 51,
     "metadata": {},
     "output_type": "execute_result"
    }
   ],
   "source": [
    "mcts.root.state.rounds"
   ]
  },
  {
   "cell_type": "code",
   "execution_count": 52,
   "metadata": {},
   "outputs": [
    {
     "data": {
      "text/plain": [
       "Player Cat is currently as position 0 on the board, with $280.0.             \n",
       " They hold the following properties: ['Mayfair', 'Park Lane'].            \n",
       " They hold the following stations: []            \n",
       " They hold the following utilities: []            \n",
       " The player has 5 houses and 0 hotels             \n",
       " The player is currently not in jail."
      ]
     },
     "execution_count": 52,
     "metadata": {},
     "output_type": "execute_result"
    }
   ],
   "source": [
    "mcts.root.state.agent"
   ]
  },
  {
   "cell_type": "code",
   "execution_count": 53,
   "metadata": {},
   "outputs": [
    {
     "name": "stdout",
     "output_type": "stream",
     "text": [
      "Mayfair False 3 False\n",
      "Park Lane False 2 False\n"
     ]
    }
   ],
   "source": [
    "for prop in mcts.root.state.agent.properties:\n",
    "    print(prop.name, prop.is_mortgaged, prop.num_houses, prop.hotel)"
   ]
  },
  {
   "cell_type": "code",
   "execution_count": 54,
   "metadata": {},
   "outputs": [
    {
     "data": {
      "text/plain": [
       "[Player Vlad is currently as position 39 on the board, with $1385.0.             \n",
       "  They hold the following properties: ['The Angel Islington', 'Pentonville Road', 'Regent Street', 'Oxford Street'].            \n",
       "  They hold the following stations: ['Fenchurch St. Station', \"King's Cross Station\"]            \n",
       "  They hold the following utilities: []            \n",
       "  The player has 0 houses and 0 hotels             \n",
       "  The player is currently not in jail.]"
      ]
     },
     "execution_count": 54,
     "metadata": {},
     "output_type": "execute_result"
    }
   ],
   "source": [
    "mcts.root.state.other_players"
   ]
  },
  {
   "cell_type": "code",
   "execution_count": 55,
   "metadata": {},
   "outputs": [
    {
     "name": "stdout",
     "output_type": "stream",
     "text": [
      "The Angel Islington True 0 False\n",
      "Pentonville Road True 0 False\n",
      "Regent Street True 0 False\n",
      "Oxford Street True 0 False\n"
     ]
    }
   ],
   "source": [
    "for prop in mcts.root.state.other_players[0].properties:\n",
    "    print(prop.name, prop.is_mortgaged, prop.num_houses, prop.hotel)"
   ]
  },
  {
   "cell_type": "code",
   "execution_count": 56,
   "metadata": {},
   "outputs": [
    {
     "data": {
      "text/plain": [
       "[('Cat', False), ('Vlad', True)]"
      ]
     },
     "execution_count": 56,
     "metadata": {},
     "output_type": "execute_result"
    }
   ],
   "source": [
    "[(player.name, player.bankrupt) for player in mcts.root.state.players]"
   ]
  },
  {
   "cell_type": "markdown",
   "metadata": {},
   "source": [
    "And another..."
   ]
  },
  {
   "cell_type": "code",
   "execution_count": 3,
   "metadata": {},
   "outputs": [],
   "source": [
    "random.seed(321)"
   ]
  },
  {
   "cell_type": "code",
   "execution_count": 4,
   "metadata": {},
   "outputs": [],
   "source": [
    "board = MonopolyBoardMCTS()\n",
    "player1 = Player('Cat')\n",
    "player2 = Player('Vlad')\n",
    "\n",
    "board.add_agent(player1)\n",
    "board.add_other_player(player2)"
   ]
  },
  {
   "cell_type": "code",
   "execution_count": 5,
   "metadata": {},
   "outputs": [],
   "source": [
    "mcts = MCTS(board, 10000)"
   ]
  },
  {
   "cell_type": "code",
   "execution_count": 6,
   "metadata": {},
   "outputs": [
    {
     "name": "stderr",
     "output_type": "stream",
     "text": [
      "Running MCTS game:   0%|          | 0/1000 [00:00<?, ?it/s]"
     ]
    },
    {
     "name": "stderr",
     "output_type": "stream",
     "text": [
      "Running MCTS game:  14%|█▍        | 144/1000 [4:45:15<11:09:57, 46.96s/it]   "
     ]
    }
   ],
   "source": [
    "mcts.run_game()"
   ]
  },
  {
   "cell_type": "code",
   "execution_count": 1,
   "metadata": {},
   "outputs": [
    {
     "ename": "NameError",
     "evalue": "name 'mcts' is not defined",
     "output_type": "error",
     "traceback": [
      "\u001b[1;31m---------------------------------------------------------------------------\u001b[0m",
      "\u001b[1;31mNameError\u001b[0m                                 Traceback (most recent call last)",
      "\u001b[1;32mc:\\Users\\cathe\\OneDrive\\Documents\\Capstone - Optimising Monopoly Gameplay Strategies\\Testing\\TestingMCTS.ipynb Cell 40\u001b[0m line \u001b[0;36m1\n\u001b[1;32m----> <a href='vscode-notebook-cell:/c%3A/Users/cathe/OneDrive/Documents/Capstone%20-%20Optimising%20Monopoly%20Gameplay%20Strategies/Testing/TestingMCTS.ipynb#X53sZmlsZQ%3D%3D?line=0'>1</a>\u001b[0m mcts\u001b[39m.\u001b[39mbest_actions\n",
      "\u001b[1;31mNameError\u001b[0m: name 'mcts' is not defined"
     ]
    }
   ],
   "source": [
    "mcts.best_actions"
   ]
  },
  {
   "cell_type": "code",
   "execution_count": null,
   "metadata": {},
   "outputs": [
    {
     "data": {
      "text/plain": [
       "13"
      ]
     },
     "metadata": {},
     "output_type": "display_data"
    }
   ],
   "source": [
    "mcts.root.state.rounds"
   ]
  },
  {
   "cell_type": "code",
   "execution_count": null,
   "metadata": {},
   "outputs": [
    {
     "data": {
      "text/plain": [
       "Player Cat is currently as position 0 on the board, with $280.0.             \n",
       " They hold the following properties: ['Mayfair', 'Park Lane'].            \n",
       " They hold the following stations: []            \n",
       " They hold the following utilities: []            \n",
       " The player has 5 houses and 0 hotels             \n",
       " The player is currently not in jail."
      ]
     },
     "metadata": {},
     "output_type": "display_data"
    }
   ],
   "source": [
    "mcts.root.state.agent"
   ]
  },
  {
   "cell_type": "code",
   "execution_count": null,
   "metadata": {},
   "outputs": [
    {
     "name": "stdout",
     "output_type": "stream",
     "text": [
      "Mayfair False 3 False\n",
      "Park Lane False 2 False\n"
     ]
    }
   ],
   "source": [
    "for prop in mcts.root.state.agent.properties:\n",
    "    print(prop.name, prop.is_mortgaged, prop.num_houses, prop.hotel)"
   ]
  },
  {
   "cell_type": "code",
   "execution_count": null,
   "metadata": {},
   "outputs": [
    {
     "data": {
      "text/plain": [
       "[Player Vlad is currently as position 39 on the board, with $1385.0.             \n",
       "  They hold the following properties: ['The Angel Islington', 'Pentonville Road', 'Regent Street', 'Oxford Street'].            \n",
       "  They hold the following stations: ['Fenchurch St. Station', \"King's Cross Station\"]            \n",
       "  They hold the following utilities: []            \n",
       "  The player has 0 houses and 0 hotels             \n",
       "  The player is currently not in jail.]"
      ]
     },
     "metadata": {},
     "output_type": "display_data"
    }
   ],
   "source": [
    "mcts.root.state.other_players"
   ]
  },
  {
   "cell_type": "code",
   "execution_count": null,
   "metadata": {},
   "outputs": [
    {
     "name": "stdout",
     "output_type": "stream",
     "text": [
      "The Angel Islington True 0 False\n",
      "Pentonville Road True 0 False\n",
      "Regent Street True 0 False\n",
      "Oxford Street True 0 False\n"
     ]
    }
   ],
   "source": [
    "for prop in mcts.root.state.other_players[0].properties:\n",
    "    print(prop.name, prop.is_mortgaged, prop.num_houses, prop.hotel)"
   ]
  },
  {
   "cell_type": "code",
   "execution_count": null,
   "metadata": {},
   "outputs": [
    {
     "data": {
      "text/plain": [
       "[('Cat', False), ('Vlad', True)]"
      ]
     },
     "metadata": {},
     "output_type": "display_data"
    }
   ],
   "source": [
    "[(player.name, player.bankrupt) for player in mcts.root.state.players]"
   ]
  },
  {
   "cell_type": "markdown",
   "metadata": {},
   "source": [
    "## Testing MCTS class with random strategy"
   ]
  },
  {
   "cell_type": "code",
   "execution_count": 2,
   "metadata": {},
   "outputs": [],
   "source": [
    "board = MonopolyBoardMCTS()\n",
    "player1 = Player('Cat')\n",
    "player2 = Player('Vlad')\n",
    "\n",
    "board.add_agent(player1)\n",
    "board.add_other_player(player2)"
   ]
  },
  {
   "cell_type": "code",
   "execution_count": 3,
   "metadata": {},
   "outputs": [],
   "source": [
    "random_strategy = RandomStrategy()\n",
    "board.strategy = random_strategy"
   ]
  },
  {
   "cell_type": "code",
   "execution_count": 4,
   "metadata": {},
   "outputs": [],
   "source": [
    "mcts = MCTS(board, 1000)"
   ]
  },
  {
   "cell_type": "code",
   "execution_count": 5,
   "metadata": {},
   "outputs": [
    {
     "name": "stderr",
     "output_type": "stream",
     "text": [
      "Running MCTS game:  45%|████▍     | 448/1000 [1:04:02<1:18:54,  8.58s/it]\n"
     ]
    }
   ],
   "source": [
    "mcts.run_game()"
   ]
  },
  {
   "cell_type": "code",
   "execution_count": 6,
   "metadata": {},
   "outputs": [
    {
     "data": {
      "text/plain": [
       "['End turn',\n",
       " 'End turn',\n",
       " 'End turn',\n",
       " 'End turn',\n",
       " 'End turn',\n",
       " 'End turn',\n",
       " 'End turn',\n",
       " 'End turn',\n",
       " 'End turn',\n",
       " 'End turn',\n",
       " 'End turn',\n",
       " 'Pay 50 to get out of jail',\n",
       " 'Purchase Leicester Square',\n",
       " 'Mortgage Leicester Square',\n",
       " 'Unmortgage Leicester Square',\n",
       " 'Mortgage Leicester Square',\n",
       " 'End turn',\n",
       " 'Unmortgage Leicester Square',\n",
       " 'End turn',\n",
       " 'Mortgage Leicester Square',\n",
       " 'Purchase Old Kent Road',\n",
       " 'Unmortgage Leicester Square',\n",
       " 'End turn',\n",
       " 'Purchase Euston Road',\n",
       " 'Mortgage Old Kent Road',\n",
       " 'Mortgage Leicester Square',\n",
       " 'Mortgage Euston Road',\n",
       " 'Unmortgage Euston Road',\n",
       " 'Unmortgage Leicester Square',\n",
       " 'Unmortgage Old Kent Road',\n",
       " 'Mortgage Euston Road',\n",
       " 'Unmortgage Euston Road',\n",
       " 'Mortgage Leicester Square',\n",
       " 'End turn',\n",
       " 'Mortgage Old Kent Road',\n",
       " 'Unmortgage Leicester Square',\n",
       " 'Purchase Marlborough Street',\n",
       " 'Mortgage Euston Road',\n",
       " 'Mortgage Marlborough Street',\n",
       " 'Unmortgage Old Kent Road',\n",
       " 'Unmortgage Euston Road',\n",
       " 'Mortgage Euston Road',\n",
       " 'Mortgage Old Kent Road',\n",
       " 'Unmortgage Marlborough Street',\n",
       " 'Unmortgage Euston Road',\n",
       " 'End turn',\n",
       " 'End turn',\n",
       " 'Unmortgage Old Kent Road',\n",
       " 'Mortgage Euston Road',\n",
       " 'Mortgage Leicester Square',\n",
       " 'Unmortgage Leicester Square',\n",
       " 'Mortgage Old Kent Road',\n",
       " 'Unmortgage Old Kent Road',\n",
       " 'Mortgage Marlborough Street',\n",
       " 'Mortgage Old Kent Road',\n",
       " 'Mortgage Leicester Square',\n",
       " 'Unmortgage Old Kent Road',\n",
       " 'Unmortgage Euston Road',\n",
       " 'End turn',\n",
       " 'Unmortgage Marlborough Street',\n",
       " 'Unmortgage Leicester Square',\n",
       " 'End turn',\n",
       " 'Mortgage Old Kent Road',\n",
       " 'Mortgage Leicester Square',\n",
       " 'Unmortgage Leicester Square',\n",
       " 'Unmortgage Old Kent Road',\n",
       " 'Mortgage Euston Road',\n",
       " 'End turn',\n",
       " 'Unmortgage Euston Road',\n",
       " 'End turn',\n",
       " 'Mortgage Euston Road',\n",
       " 'Mortgage Old Kent Road',\n",
       " 'Pay 50 to get out of jail',\n",
       " 'End turn',\n",
       " 'Mortgage Leicester Square',\n",
       " 'End turn',\n",
       " 'Unmortgage Leicester Square',\n",
       " 'Unmortgage Euston Road',\n",
       " 'Unmortgage Old Kent Road',\n",
       " 'Mortgage Leicester Square',\n",
       " 'Mortgage Old Kent Road',\n",
       " 'Mortgage Marlborough Street',\n",
       " 'Unmortgage Marlborough Street',\n",
       " 'Unmortgage Old Kent Road',\n",
       " 'Mortgage Euston Road',\n",
       " 'Mortgage Old Kent Road',\n",
       " 'Unmortgage Leicester Square',\n",
       " 'Mortgage Marlborough Street',\n",
       " 'End turn',\n",
       " 'Mortgage Leicester Square',\n",
       " 'Unmortgage Leicester Square',\n",
       " 'Unmortgage Marlborough Street',\n",
       " 'End turn',\n",
       " 'End turn',\n",
       " 'Mortgage Leicester Square',\n",
       " 'Mortgage Marlborough Street',\n",
       " 'Unmortgage Euston Road',\n",
       " 'End turn',\n",
       " 'Unmortgage Leicester Square',\n",
       " 'Unmortgage Marlborough Street',\n",
       " 'Unmortgage Old Kent Road',\n",
       " 'Mortgage Old Kent Road',\n",
       " 'Mortgage Euston Road',\n",
       " 'End turn',\n",
       " 'Unmortgage Euston Road',\n",
       " 'Mortgage Marlborough Street',\n",
       " 'End turn',\n",
       " 'Mortgage Euston Road',\n",
       " 'Unmortgage Marlborough Street',\n",
       " 'Mortgage Marlborough Street',\n",
       " 'Unmortgage Euston Road',\n",
       " 'Unmortgage Old Kent Road',\n",
       " 'Mortgage Euston Road',\n",
       " 'Unmortgage Euston Road',\n",
       " 'Mortgage Old Kent Road',\n",
       " 'Purchase Vine Street',\n",
       " 'Unmortgage Marlborough Street',\n",
       " 'End turn',\n",
       " 'Mortgage Leicester Square',\n",
       " 'Unmortgage Old Kent Road',\n",
       " 'Mortgage Marlborough Street',\n",
       " 'Unmortgage Marlborough Street',\n",
       " 'End turn',\n",
       " 'Mortgage Marlborough Street',\n",
       " 'Mortgage Euston Road',\n",
       " 'Mortgage Old Kent Road',\n",
       " 'Unmortgage Marlborough Street',\n",
       " 'Unmortgage Leicester Square',\n",
       " 'Pay 50 to get out of jail',\n",
       " 'Mortgage Leicester Square',\n",
       " 'Unmortgage Old Kent Road',\n",
       " 'Mortgage Old Kent Road',\n",
       " 'End turn',\n",
       " 'Unmortgage Leicester Square',\n",
       " 'Mortgage Marlborough Street',\n",
       " 'Unmortgage Old Kent Road',\n",
       " 'Unmortgage Euston Road',\n",
       " 'Mortgage Leicester Square',\n",
       " 'Unmortgage Leicester Square',\n",
       " 'Mortgage Euston Road',\n",
       " 'Mortgage Old Kent Road',\n",
       " 'Mortgage Vine Street',\n",
       " 'Pay 50 to get out of jail',\n",
       " 'Unmortgage Marlborough Street',\n",
       " 'Unmortgage Euston Road',\n",
       " 'Mortgage Marlborough Street',\n",
       " 'Mortgage Leicester Square',\n",
       " 'Unmortgage Leicester Square',\n",
       " 'Unmortgage Marlborough Street',\n",
       " 'Unmortgage Vine Street',\n",
       " 'Mortgage Euston Road',\n",
       " 'Mortgage Marlborough Street',\n",
       " 'Unmortgage Euston Road',\n",
       " 'Mortgage Euston Road',\n",
       " 'Unmortgage Marlborough Street',\n",
       " 'Unmortgage Old Kent Road',\n",
       " 'Mortgage Marlborough Street',\n",
       " 'End turn',\n",
       " 'Unmortgage Marlborough Street',\n",
       " 'Mortgage Leicester Square',\n",
       " 'Mortgage Vine Street',\n",
       " 'Mortgage Old Kent Road',\n",
       " 'Unmortgage Leicester Square',\n",
       " 'End turn',\n",
       " 'Unmortgage Euston Road',\n",
       " 'End turn',\n",
       " 'Purchase Water Works',\n",
       " 'Unmortgage Old Kent Road',\n",
       " 'Mortgage Euston Road',\n",
       " 'Mortgage Leicester Square',\n",
       " 'Mortgage Marlborough Street',\n",
       " 'Unmortgage Marlborough Street',\n",
       " 'Unmortgage Leicester Square',\n",
       " 'End turn',\n",
       " 'Mortgage Leicester Square',\n",
       " 'Unmortgage Vine Street',\n",
       " 'Mortgage Vine Street',\n",
       " 'Mortgage Old Kent Road',\n",
       " 'Unmortgage Euston Road',\n",
       " 'End turn',\n",
       " 'Mortgage Euston Road',\n",
       " 'Unmortgage Euston Road',\n",
       " 'End turn',\n",
       " 'Mortgage Marlborough Street',\n",
       " 'End turn',\n",
       " 'Mortgage Euston Road',\n",
       " 'Unmortgage Marlborough Street',\n",
       " 'Unmortgage Old Kent Road',\n",
       " 'Mortgage Old Kent Road',\n",
       " 'Unmortgage Euston Road',\n",
       " 'Unmortgage Leicester Square',\n",
       " 'Unmortgage Vine Street',\n",
       " 'Mortgage Water Works',\n",
       " 'Unmortgage Old Kent Road',\n",
       " 'Mortgage Marlborough Street',\n",
       " 'Mortgage Euston Road',\n",
       " 'Unmortgage Water Works',\n",
       " 'Mortgage Old Kent Road',\n",
       " 'Mortgage Water Works',\n",
       " 'Unmortgage Old Kent Road',\n",
       " 'Mortgage Leicester Square',\n",
       " 'Mortgage Old Kent Road',\n",
       " 'Unmortgage Leicester Square',\n",
       " 'Unmortgage Marlborough Street',\n",
       " 'Mortgage Marlborough Street',\n",
       " 'Unmortgage Marlborough Street',\n",
       " 'Mortgage Leicester Square',\n",
       " 'Unmortgage Euston Road',\n",
       " 'Unmortgage Leicester Square',\n",
       " 'Unmortgage Old Kent Road',\n",
       " 'Mortgage Vine Street',\n",
       " 'Unmortgage Water Works',\n",
       " 'Mortgage Leicester Square',\n",
       " 'End turn',\n",
       " 'Mortgage Old Kent Road',\n",
       " 'Unmortgage Leicester Square',\n",
       " 'Mortgage Marlborough Street',\n",
       " 'Unmortgage Marlborough Street',\n",
       " 'Mortgage Euston Road',\n",
       " 'Unmortgage Old Kent Road',\n",
       " 'Unmortgage Euston Road',\n",
       " 'Mortgage Water Works',\n",
       " 'Mortgage Old Kent Road',\n",
       " 'Mortgage Marlborough Street',\n",
       " 'Unmortgage Vine Street',\n",
       " 'Mortgage Vine Street',\n",
       " 'Unmortgage Old Kent Road',\n",
       " 'Unmortgage Water Works',\n",
       " 'Mortgage Old Kent Road',\n",
       " 'Unmortgage Marlborough Street',\n",
       " 'Unmortgage Vine Street',\n",
       " 'Mortgage Leicester Square',\n",
       " 'Unmortgage Old Kent Road',\n",
       " 'Mortgage Water Works',\n",
       " 'Mortgage Euston Road',\n",
       " 'Unmortgage Euston Road',\n",
       " 'Mortgage Vine Street',\n",
       " 'Purchase Fleet Street',\n",
       " 'Mortgage Euston Road',\n",
       " 'Unmortgage Leicester Square',\n",
       " 'Unmortgage Water Works',\n",
       " 'Mortgage Water Works',\n",
       " 'Mortgage Fleet Street',\n",
       " 'Unmortgage Water Works',\n",
       " 'Unmortgage Fleet Street',\n",
       " 'End turn',\n",
       " 'Mortgage Old Kent Road',\n",
       " 'Mortgage Leicester Square',\n",
       " 'Unmortgage Euston Road',\n",
       " 'Pay 50 to get out of jail',\n",
       " 'Mortgage Marlborough Street',\n",
       " 'Mortgage Euston Road',\n",
       " 'Unmortgage Leicester Square',\n",
       " 'Mortgage Fleet Street',\n",
       " 'Unmortgage Euston Road',\n",
       " 'Mortgage Water Works',\n",
       " 'Unmortgage Water Works',\n",
       " 'Unmortgage Fleet Street',\n",
       " 'End turn',\n",
       " 'Mortgage Euston Road',\n",
       " 'Unmortgage Marlborough Street',\n",
       " 'Mortgage Marlborough Street',\n",
       " 'Unmortgage Marlborough Street',\n",
       " 'Unmortgage Old Kent Road',\n",
       " 'Mortgage Old Kent Road',\n",
       " 'Mortgage Water Works',\n",
       " 'Unmortgage Euston Road',\n",
       " 'Unmortgage Old Kent Road',\n",
       " 'Mortgage Euston Road',\n",
       " 'Unmortgage Vine Street',\n",
       " 'Mortgage Leicester Square',\n",
       " 'Purchase Bow Street',\n",
       " 'Mortgage Marlborough Street',\n",
       " 'Mortgage Vine Street',\n",
       " 'Mortgage Fleet Street',\n",
       " 'Mortgage Old Kent Road',\n",
       " 'End turn',\n",
       " 'End turn',\n",
       " 'Unmortgage Marlborough Street',\n",
       " 'Mortgage Bow Street',\n",
       " 'Buy house on Bow Street',\n",
       " 'End turn',\n",
       " 'Unmortgage Euston Road',\n",
       " 'Buy house on Vine Street',\n",
       " 'Unmortgage Vine Street',\n",
       " 'Unmortgage Old Kent Road',\n",
       " 'Unmortgage Water Works',\n",
       " 'Sell house on Vine Street',\n",
       " 'Mortgage Old Kent Road',\n",
       " 'Unmortgage Fleet Street',\n",
       " 'Mortgage Euston Road',\n",
       " 'Unmortgage Old Kent Road',\n",
       " 'Unmortgage Leicester Square',\n",
       " 'Mortgage Old Kent Road',\n",
       " 'Mortgage Fleet Street',\n",
       " 'Unmortgage Old Kent Road',\n",
       " 'Mortgage Marlborough Street',\n",
       " 'Mortgage Water Works',\n",
       " 'Unmortgage Bow Street',\n",
       " 'Unmortgage Marlborough Street',\n",
       " 'Unmortgage Water Works',\n",
       " 'End turn',\n",
       " 'Mortgage Vine Street',\n",
       " 'Mortgage Water Works',\n",
       " 'Mortgage Marlborough Street',\n",
       " 'Mortgage Old Kent Road',\n",
       " 'Mortgage Leicester Square',\n",
       " 'End turn',\n",
       " 'Unmortgage Old Kent Road',\n",
       " 'Purchase Electric Company',\n",
       " 'Mortgage Old Kent Road',\n",
       " 'Unmortgage Fleet Street',\n",
       " 'Unmortgage Vine Street',\n",
       " 'Mortgage Electric Company',\n",
       " 'Buy house on Vine Street',\n",
       " 'Unmortgage Leicester Square',\n",
       " 'Sell house on Vine Street',\n",
       " 'Mortgage Fleet Street',\n",
       " 'Unmortgage Electric Company',\n",
       " 'Unmortgage Euston Road',\n",
       " 'Mortgage Electric Company',\n",
       " 'Sell house on Bow Street',\n",
       " 'Buy house on Vine Street',\n",
       " 'Unmortgage Fleet Street',\n",
       " 'Mortgage Fleet Street',\n",
       " 'Buy house on Marlborough Street',\n",
       " 'Mortgage Bow Street',\n",
       " 'Unmortgage Electric Company',\n",
       " 'Sell house on Marlborough Street',\n",
       " 'End turn',\n",
       " 'Mortgage Euston Road',\n",
       " 'Mortgage Electric Company',\n",
       " 'Unmortgage Bow Street',\n",
       " 'Sell house on Vine Street',\n",
       " 'Mortgage Vine Street',\n",
       " 'Unmortgage Marlborough Street',\n",
       " 'Mortgage Bow Street',\n",
       " 'Unmortgage Electric Company',\n",
       " 'Unmortgage Euston Road',\n",
       " 'Mortgage Electric Company',\n",
       " 'Mortgage Leicester Square',\n",
       " 'End turn',\n",
       " 'Unmortgage Electric Company',\n",
       " 'Buy house on Vine Street',\n",
       " 'Mortgage Marlborough Street',\n",
       " 'Unmortgage Bow Street',\n",
       " 'Mortgage Electric Company',\n",
       " 'Unmortgage Old Kent Road',\n",
       " 'Sell house on Vine Street',\n",
       " 'Mortgage Bow Street',\n",
       " 'Buy house on Marlborough Street',\n",
       " 'Mortgage Euston Road',\n",
       " 'Buy house on Vine Street',\n",
       " 'End turn',\n",
       " 'Sell house on Marlborough Street',\n",
       " 'Unmortgage Marlborough Street',\n",
       " 'Mortgage Marlborough Street',\n",
       " 'Sell house on Vine Street',\n",
       " 'Buy house on Vine Street',\n",
       " 'Sell house on Vine Street',\n",
       " 'Unmortgage Water Works',\n",
       " 'Mortgage Old Kent Road',\n",
       " 'End turn',\n",
       " 'End turn',\n",
       " 'Unmortgage Old Kent Road',\n",
       " 'Mortgage Old Kent Road',\n",
       " 'End turn',\n",
       " 'Unmortgage Old Kent Road',\n",
       " 'Mortgage Water Works',\n",
       " 'End turn',\n",
       " 'Mortgage Old Kent Road',\n",
       " 'End turn',\n",
       " 'Unmortgage Old Kent Road',\n",
       " 'Unmortgage Water Works',\n",
       " 'Unmortgage Euston Road',\n",
       " 'Mortgage Old Kent Road',\n",
       " 'End turn',\n",
       " 'Mortgage Euston Road',\n",
       " 'Unmortgage Marlborough Street',\n",
       " 'Mortgage Marlborough Street',\n",
       " 'Unmortgage Old Kent Road',\n",
       " 'Mortgage Old Kent Road',\n",
       " 'Unmortgage Electric Company',\n",
       " 'Mortgage Electric Company',\n",
       " 'Unmortgage Old Kent Road',\n",
       " 'Mortgage Old Kent Road',\n",
       " 'End turn',\n",
       " 'Unmortgage Old Kent Road',\n",
       " 'End turn',\n",
       " 'Unmortgage Leicester Square',\n",
       " 'End turn',\n",
       " 'Mortgage Leicester Square',\n",
       " 'Unmortgage Vine Street',\n",
       " 'Unmortgage Euston Road',\n",
       " 'Unmortgage Fleet Street',\n",
       " 'Mortgage Vine Street',\n",
       " 'Unmortgage Electric Company',\n",
       " 'Mortgage Water Works',\n",
       " 'End turn',\n",
       " 'Mortgage Fleet Street',\n",
       " 'Mortgage Old Kent Road',\n",
       " 'Unmortgage Vine Street',\n",
       " 'Buy house on Bow Street',\n",
       " 'Sell house on Bow Street',\n",
       " 'Mortgage Euston Road',\n",
       " 'Unmortgage Bow Street',\n",
       " 'Mortgage Bow Street',\n",
       " 'Buy house on Bow Street',\n",
       " 'End turn',\n",
       " 'Unmortgage Old Kent Road',\n",
       " 'Sell house on Bow Street',\n",
       " 'End turn',\n",
       " 'Mortgage Vine Street',\n",
       " 'Unmortgage Marlborough Street',\n",
       " 'Mortgage Electric Company',\n",
       " 'Buy house on Bow Street',\n",
       " 'End turn',\n",
       " 'End turn',\n",
       " 'Mortgage Marlborough Street',\n",
       " 'End turn',\n",
       " 'Sell house on Bow Street',\n",
       " 'Unmortgage Electric Company',\n",
       " 'Pay 50 to get out of jail',\n",
       " 'Mortgage Electric Company',\n",
       " 'Unmortgage Electric Company',\n",
       " 'Mortgage Old Kent Road',\n",
       " 'Mortgage Electric Company',\n",
       " 'Unmortgage Electric Company',\n",
       " 'Unmortgage Old Kent Road',\n",
       " 'Mortgage Old Kent Road',\n",
       " 'End turn',\n",
       " 'End turn',\n",
       " 'Mortgage Electric Company',\n",
       " 'Unmortgage Marlborough Street',\n",
       " 'Mortgage Marlborough Street',\n",
       " 'Unmortgage Electric Company',\n",
       " 'Mortgage Electric Company',\n",
       " 'Unmortgage Electric Company',\n",
       " 'Mortgage Electric Company',\n",
       " 'End turn',\n",
       " 'Unmortgage Euston Road',\n",
       " 'End turn',\n",
       " 'Mortgage Euston Road',\n",
       " 'End turn',\n",
       " 'End turn',\n",
       " 'Unmortgage Old Kent Road',\n",
       " 'End turn',\n",
       " 'Mortgage Old Kent Road']"
      ]
     },
     "execution_count": 6,
     "metadata": {},
     "output_type": "execute_result"
    }
   ],
   "source": [
    "mcts.best_actions"
   ]
  },
  {
   "cell_type": "code",
   "execution_count": 7,
   "metadata": {},
   "outputs": [
    {
     "data": {
      "text/plain": [
       "72"
      ]
     },
     "execution_count": 7,
     "metadata": {},
     "output_type": "execute_result"
    }
   ],
   "source": [
    "mcts.root.state.rounds"
   ]
  },
  {
   "cell_type": "code",
   "execution_count": 8,
   "metadata": {},
   "outputs": [
    {
     "data": {
      "text/plain": [
       "Player Cat is currently as position 15 on the board, with $81.25.             \n",
       " They hold the following properties: ['Leicester Square', 'Old Kent Road', 'Euston Road', 'Marlborough Street', 'Vine Street', 'Fleet Street', 'Bow Street'].            \n",
       " They hold the following stations: []            \n",
       " They hold the following utilities: ['Water Works', 'Electric Company']            \n",
       " The player has 0 houses and 0 hotels             \n",
       " The player is currently not in jail."
      ]
     },
     "execution_count": 8,
     "metadata": {},
     "output_type": "execute_result"
    }
   ],
   "source": [
    "mcts.root.state.agent"
   ]
  },
  {
   "cell_type": "code",
   "execution_count": 9,
   "metadata": {},
   "outputs": [
    {
     "name": "stdout",
     "output_type": "stream",
     "text": [
      "Leicester Square True 0 False\n",
      "Old Kent Road True 0 False\n",
      "Euston Road True 0 False\n",
      "Marlborough Street True 0 False\n",
      "Vine Street True 0 False\n",
      "Fleet Street True 0 False\n",
      "Bow Street True 0 False\n"
     ]
    }
   ],
   "source": [
    "for prop in mcts.root.state.agent.properties:\n",
    "    print(prop.name, prop.is_mortgaged, prop.num_houses, prop.hotel)"
   ]
  },
  {
   "cell_type": "code",
   "execution_count": 10,
   "metadata": {},
   "outputs": [
    {
     "data": {
      "text/plain": [
       "[Player Vlad is currently as position 20 on the board, with $502.0.             \n",
       "  They hold the following properties: ['Pentonville Road', 'Whitechapel Road', 'Northumberland Avenue', 'Piccadilly', 'Bond Street', 'Pall Mall', 'Trafalgar Square', 'Oxford Street', 'The Angel Islington', 'Whitehall', 'Mayfair', 'Coventry Street'].            \n",
       "  They hold the following stations: [\"King's Cross Station\", 'Liverpool St. Station', 'Marylebone Station']            \n",
       "  They hold the following utilities: []            \n",
       "  The player has 4 houses and 0 hotels             \n",
       "  The player is currently not in jail.]"
      ]
     },
     "execution_count": 10,
     "metadata": {},
     "output_type": "execute_result"
    }
   ],
   "source": [
    "mcts.root.state.other_players"
   ]
  },
  {
   "cell_type": "code",
   "execution_count": 11,
   "metadata": {},
   "outputs": [
    {
     "name": "stdout",
     "output_type": "stream",
     "text": [
      "Pentonville Road False 0 False\n",
      "Whitechapel Road False 0 False\n",
      "Northumberland Avenue False 2 False\n",
      "Piccadilly False 0 False\n",
      "Bond Street False 0 False\n",
      "Pall Mall False 2 False\n",
      "Trafalgar Square False 0 False\n",
      "Oxford Street False 0 False\n",
      "The Angel Islington False 0 False\n",
      "Whitehall False 0 False\n",
      "Mayfair False 0 False\n",
      "Coventry Street False 0 False\n"
     ]
    }
   ],
   "source": [
    "for prop in mcts.root.state.other_players[0].properties:\n",
    "    print(prop.name, prop.is_mortgaged, prop.num_houses, prop.hotel)"
   ]
  },
  {
   "cell_type": "code",
   "execution_count": 12,
   "metadata": {},
   "outputs": [
    {
     "data": {
      "text/plain": [
       "[('Cat', True), ('Vlad', False)]"
      ]
     },
     "execution_count": 12,
     "metadata": {},
     "output_type": "execute_result"
    }
   ],
   "source": [
    "[(player.name, player.bankrupt) for player in mcts.root.state.players]"
   ]
  },
  {
   "cell_type": "markdown",
   "metadata": {},
   "source": [
    "## Testing MCTS with simulation limit"
   ]
  },
  {
   "cell_type": "code",
   "execution_count": 11,
   "metadata": {},
   "outputs": [],
   "source": [
    "board = MonopolyBoardMCTS()\n",
    "player1 = Player('Cat')\n",
    "player2 = Player('Vlad')\n",
    "\n",
    "board.add_agent(player1)\n",
    "board.add_other_player(player2)"
   ]
  },
  {
   "cell_type": "code",
   "execution_count": 12,
   "metadata": {},
   "outputs": [],
   "source": [
    "root_state = State()\n",
    "root_state.from_monopoly_board(board)"
   ]
  },
  {
   "cell_type": "code",
   "execution_count": 13,
   "metadata": {},
   "outputs": [],
   "source": [
    "mcts = MCTS(root_state, max_iterations=1000, exploration_weight=1, max_simulations=500)"
   ]
  },
  {
   "cell_type": "code",
   "execution_count": 14,
   "metadata": {},
   "outputs": [
    {
     "name": "stderr",
     "output_type": "stream",
     "text": [
      "Running MCTS game:   9%|▉         | 91/1000 [10:20<1:35:13,  6.29s/it]"
     ]
    },
    {
     "ename": "KeyboardInterrupt",
     "evalue": "",
     "output_type": "error",
     "traceback": [
      "\u001b[1;31m---------------------------------------------------------------------------\u001b[0m",
      "\u001b[1;31mKeyboardInterrupt\u001b[0m                         Traceback (most recent call last)",
      "\u001b[1;32mc:\\Users\\cathe\\OneDrive\\Documents\\Capstone - Optimising Monopoly Gameplay Strategies\\Testing\\TestingMCTS.ipynb Cell 63\u001b[0m line \u001b[0;36m1\n\u001b[1;32m----> <a href='vscode-notebook-cell:/c%3A/Users/cathe/OneDrive/Documents/Capstone%20-%20Optimising%20Monopoly%20Gameplay%20Strategies/Testing/TestingMCTS.ipynb#Y121sZmlsZQ%3D%3D?line=0'>1</a>\u001b[0m mcts\u001b[39m.\u001b[39;49mrun_game()\n",
      "File \u001b[1;32m~\\OneDrive\\Documents\\Capstone - Optimising Monopoly Gameplay Strategies\\MCTS\\MCTS.py:164\u001b[0m, in \u001b[0;36mMCTS.run_game\u001b[1;34m(self, max_actions)\u001b[0m\n\u001b[0;32m    162\u001b[0m \u001b[39m# play game until a maximum number of actions or game has ended\u001b[39;00m\n\u001b[0;32m    163\u001b[0m \u001b[39mwhile\u001b[39;00m actions \u001b[39m<\u001b[39m max_actions \u001b[39mand\u001b[39;00m \u001b[39mnot\u001b[39;00m \u001b[39mself\u001b[39m\u001b[39m.\u001b[39mroot\u001b[39m.\u001b[39mis_terminal():\n\u001b[1;32m--> 164\u001b[0m     \u001b[39mself\u001b[39;49m\u001b[39m.\u001b[39;49mrun()\n\u001b[0;32m    165\u001b[0m     actions \u001b[39m+\u001b[39m\u001b[39m=\u001b[39m \u001b[39m1\u001b[39m\n\u001b[0;32m    166\u001b[0m     pbar\u001b[39m.\u001b[39mupdate(\u001b[39m1\u001b[39m)\n",
      "File \u001b[1;32m~\\OneDrive\\Documents\\Capstone - Optimising Monopoly Gameplay Strategies\\MCTS\\MCTS.py:147\u001b[0m, in \u001b[0;36mMCTS.run\u001b[1;34m(self)\u001b[0m\n\u001b[0;32m    146\u001b[0m \u001b[39mdef\u001b[39;00m \u001b[39mrun\u001b[39m(\u001b[39mself\u001b[39m):\n\u001b[1;32m--> 147\u001b[0m     best_action \u001b[39m=\u001b[39m \u001b[39mself\u001b[39;49m\u001b[39m.\u001b[39;49msearch()\n\u001b[0;32m    149\u001b[0m     \u001b[39m# if there is no best action, there is no action choice at all\u001b[39;00m\n\u001b[0;32m    150\u001b[0m     \u001b[39mif\u001b[39;00m \u001b[39mnot\u001b[39;00m best_action: \u001b[39m# PERHAPS NOT NECESSARY\u001b[39;00m\n",
      "File \u001b[1;32m~\\OneDrive\\Documents\\Capstone - Optimising Monopoly Gameplay Strategies\\MCTS\\MCTS.py:136\u001b[0m, in \u001b[0;36mMCTS.search\u001b[1;34m(self)\u001b[0m\n\u001b[0;32m    133\u001b[0m     node \u001b[39m=\u001b[39m \u001b[39mself\u001b[39m\u001b[39m.\u001b[39mexpansion(node)\n\u001b[0;32m    135\u001b[0m \u001b[39m# simulation phase\u001b[39;00m\n\u001b[1;32m--> 136\u001b[0m reward \u001b[39m=\u001b[39m \u001b[39mself\u001b[39;49m\u001b[39m.\u001b[39;49msimulation(node)\n\u001b[0;32m    138\u001b[0m \u001b[39m# backpropagation phase\u001b[39;00m\n\u001b[0;32m    139\u001b[0m \u001b[39mself\u001b[39m\u001b[39m.\u001b[39mbackpropagation(node, reward)\n",
      "File \u001b[1;32m~\\OneDrive\\Documents\\Capstone - Optimising Monopoly Gameplay Strategies\\MCTS\\MCTS.py:94\u001b[0m, in \u001b[0;36mMCTS.simulation\u001b[1;34m(self, node)\u001b[0m\n\u001b[0;32m     91\u001b[0m sims \u001b[39m=\u001b[39m \u001b[39m0\u001b[39m\n\u001b[0;32m     93\u001b[0m \u001b[39mwhile\u001b[39;00m \u001b[39mnot\u001b[39;00m board\u001b[39m.\u001b[39mis_terminal() \u001b[39mand\u001b[39;00m sims \u001b[39m<\u001b[39m \u001b[39mself\u001b[39m\u001b[39m.\u001b[39mmax_simulations:\n\u001b[1;32m---> 94\u001b[0m     legal_actions \u001b[39m=\u001b[39m board\u001b[39m.\u001b[39;49mget_legal_actions()\n\u001b[0;32m     96\u001b[0m     \u001b[39mif\u001b[39;00m legal_actions:\n\u001b[0;32m     97\u001b[0m         \u001b[39m# TO DO: modify to follow strategy rather than random choice\u001b[39;00m\n\u001b[0;32m     98\u001b[0m         \u001b[39m# TO DO: the code should take the state (particularly the agent player) and determine which move to make based on strategy\u001b[39;00m\n\u001b[0;32m     99\u001b[0m         action \u001b[39m=\u001b[39m random\u001b[39m.\u001b[39mchoice(legal_actions)\n",
      "File \u001b[1;32m~\\OneDrive\\Documents\\Capstone - Optimising Monopoly Gameplay Strategies\\MCTS\\MonopolyBoardMCTS.py:981\u001b[0m, in \u001b[0;36mMonopolyBoardMCTS.get_legal_actions\u001b[1;34m(self)\u001b[0m\n\u001b[0;32m    979\u001b[0m player_group \u001b[39m=\u001b[39m \u001b[39mself\u001b[39m\u001b[39m.\u001b[39magent\u001b[39m.\u001b[39mproperty_sets[prop\u001b[39m.\u001b[39mgroup]\n\u001b[0;32m    980\u001b[0m new_prop_build \u001b[39m=\u001b[39m prop\u001b[39m.\u001b[39mnum_houses \u001b[39m+\u001b[39m prop\u001b[39m.\u001b[39mhotel \u001b[39m+\u001b[39m \u001b[39m1\u001b[39m\n\u001b[1;32m--> 981\u001b[0m house_discrepencies \u001b[39m=\u001b[39m [\u001b[39mabs\u001b[39m(new_prop_build \u001b[39m-\u001b[39m i\u001b[39m.\u001b[39mnum_houses \u001b[39m-\u001b[39m i\u001b[39m.\u001b[39mhotel) \u001b[39m<\u001b[39m\u001b[39m=\u001b[39m \u001b[39m1\u001b[39m \u001b[39mfor\u001b[39;00m i \u001b[39min\u001b[39;00m \u001b[39mself\u001b[39m\u001b[39m.\u001b[39magent\u001b[39m.\u001b[39mproperty_sets[prop\u001b[39m.\u001b[39mgroup]]\n\u001b[0;32m    983\u001b[0m \u001b[39mif\u001b[39;00m \u001b[39mall\u001b[39m(house_discrepencies) \u001b[39mand\u001b[39;00m \u001b[39mself\u001b[39m\u001b[39m.\u001b[39magent\u001b[39m.\u001b[39mmoney \u001b[39m>\u001b[39m\u001b[39m=\u001b[39m prop\u001b[39m.\u001b[39mhouse_price \u001b[39mand\u001b[39;00m \u001b[39msorted\u001b[39m(group) \u001b[39m==\u001b[39m \u001b[39msorted\u001b[39m(player_group):\n\u001b[0;32m    984\u001b[0m     legal_actions\u001b[39m.\u001b[39mappend(\u001b[39mf\u001b[39m\u001b[39m\"\u001b[39m\u001b[39mBuy house on \u001b[39m\u001b[39m{\u001b[39;00mprop\u001b[39m.\u001b[39mname\u001b[39m}\u001b[39;00m\u001b[39m\"\u001b[39m)\n",
      "File \u001b[1;32m~\\OneDrive\\Documents\\Capstone - Optimising Monopoly Gameplay Strategies\\MCTS\\MonopolyBoardMCTS.py:981\u001b[0m, in \u001b[0;36m<listcomp>\u001b[1;34m(.0)\u001b[0m\n\u001b[0;32m    979\u001b[0m player_group \u001b[39m=\u001b[39m \u001b[39mself\u001b[39m\u001b[39m.\u001b[39magent\u001b[39m.\u001b[39mproperty_sets[prop\u001b[39m.\u001b[39mgroup]\n\u001b[0;32m    980\u001b[0m new_prop_build \u001b[39m=\u001b[39m prop\u001b[39m.\u001b[39mnum_houses \u001b[39m+\u001b[39m prop\u001b[39m.\u001b[39mhotel \u001b[39m+\u001b[39m \u001b[39m1\u001b[39m\n\u001b[1;32m--> 981\u001b[0m house_discrepencies \u001b[39m=\u001b[39m [\u001b[39mabs\u001b[39;49m(new_prop_build \u001b[39m-\u001b[39;49m i\u001b[39m.\u001b[39;49mnum_houses \u001b[39m-\u001b[39;49m i\u001b[39m.\u001b[39;49mhotel) \u001b[39m<\u001b[39m\u001b[39m=\u001b[39m \u001b[39m1\u001b[39m \u001b[39mfor\u001b[39;00m i \u001b[39min\u001b[39;00m \u001b[39mself\u001b[39m\u001b[39m.\u001b[39magent\u001b[39m.\u001b[39mproperty_sets[prop\u001b[39m.\u001b[39mgroup]]\n\u001b[0;32m    983\u001b[0m \u001b[39mif\u001b[39;00m \u001b[39mall\u001b[39m(house_discrepencies) \u001b[39mand\u001b[39;00m \u001b[39mself\u001b[39m\u001b[39m.\u001b[39magent\u001b[39m.\u001b[39mmoney \u001b[39m>\u001b[39m\u001b[39m=\u001b[39m prop\u001b[39m.\u001b[39mhouse_price \u001b[39mand\u001b[39;00m \u001b[39msorted\u001b[39m(group) \u001b[39m==\u001b[39m \u001b[39msorted\u001b[39m(player_group):\n\u001b[0;32m    984\u001b[0m     legal_actions\u001b[39m.\u001b[39mappend(\u001b[39mf\u001b[39m\u001b[39m\"\u001b[39m\u001b[39mBuy house on \u001b[39m\u001b[39m{\u001b[39;00mprop\u001b[39m.\u001b[39mname\u001b[39m}\u001b[39;00m\u001b[39m\"\u001b[39m)\n",
      "\u001b[1;31mKeyboardInterrupt\u001b[0m: "
     ]
    }
   ],
   "source": [
    "mcts.run_game()"
   ]
  },
  {
   "cell_type": "code",
   "execution_count": 15,
   "metadata": {},
   "outputs": [
    {
     "data": {
      "text/plain": [
       "(20, 91)"
      ]
     },
     "execution_count": 15,
     "metadata": {},
     "output_type": "execute_result"
    }
   ],
   "source": [
    "mcts.root.state.rounds, len(mcts.best_actions)"
   ]
  },
  {
   "cell_type": "code",
   "execution_count": 16,
   "metadata": {},
   "outputs": [
    {
     "data": {
      "text/plain": [
       "['End turn',\n",
       " 'End turn',\n",
       " 'End turn',\n",
       " 'End turn',\n",
       " 'Purchase Bow Street',\n",
       " 'End turn',\n",
       " 'Pay 50 to get out of jail',\n",
       " 'End turn',\n",
       " 'End turn',\n",
       " 'Purchase Leicester Square',\n",
       " 'Mortgage Bow Street',\n",
       " 'Mortgage Leicester Square',\n",
       " 'Unmortgage Bow Street',\n",
       " 'End turn',\n",
       " 'Purchase Liverpool St. Station',\n",
       " 'Mortgage Bow Street',\n",
       " 'Unmortgage Bow Street',\n",
       " 'Mortgage Liverpool St. Station',\n",
       " 'End turn',\n",
       " 'Mortgage Bow Street',\n",
       " 'End turn',\n",
       " 'Unmortgage Bow Street',\n",
       " 'Unmortgage Liverpool St. Station',\n",
       " 'Unmortgage Leicester Square',\n",
       " 'Mortgage Bow Street',\n",
       " 'Mortgage Liverpool St. Station',\n",
       " 'Mortgage Leicester Square',\n",
       " 'Purchase Euston Road',\n",
       " 'Unmortgage Leicester Square',\n",
       " 'Mortgage Euston Road',\n",
       " 'Unmortgage Bow Street',\n",
       " 'Mortgage Bow Street',\n",
       " 'Mortgage Leicester Square',\n",
       " 'End turn',\n",
       " 'Unmortgage Euston Road',\n",
       " 'Mortgage Euston Road',\n",
       " 'End turn',\n",
       " 'Unmortgage Leicester Square',\n",
       " 'Unmortgage Bow Street',\n",
       " 'Mortgage Bow Street',\n",
       " 'Unmortgage Euston Road',\n",
       " 'Mortgage Euston Road',\n",
       " 'Unmortgage Bow Street',\n",
       " 'End turn',\n",
       " 'Purchase Piccadilly',\n",
       " 'Unmortgage Euston Road',\n",
       " 'Mortgage Leicester Square',\n",
       " 'End turn',\n",
       " 'Unmortgage Liverpool St. Station',\n",
       " 'Mortgage Euston Road',\n",
       " 'Unmortgage Leicester Square',\n",
       " 'Mortgage Bow Street',\n",
       " 'Unmortgage Euston Road',\n",
       " 'Mortgage Piccadilly',\n",
       " 'Unmortgage Piccadilly',\n",
       " 'Mortgage Liverpool St. Station',\n",
       " 'Unmortgage Liverpool St. Station',\n",
       " 'Mortgage Liverpool St. Station',\n",
       " 'Mortgage Piccadilly',\n",
       " 'Unmortgage Bow Street',\n",
       " 'Mortgage Euston Road',\n",
       " 'Mortgage Bow Street',\n",
       " 'Unmortgage Bow Street',\n",
       " 'Unmortgage Liverpool St. Station',\n",
       " 'Unmortgage Euston Road',\n",
       " 'Mortgage Leicester Square',\n",
       " 'Unmortgage Piccadilly',\n",
       " 'Mortgage Piccadilly',\n",
       " 'Mortgage Liverpool St. Station',\n",
       " 'Mortgage Euston Road',\n",
       " 'Mortgage Bow Street',\n",
       " 'Unmortgage Piccadilly',\n",
       " 'Unmortgage Euston Road',\n",
       " 'Mortgage Euston Road',\n",
       " 'End turn',\n",
       " 'Unmortgage Bow Street',\n",
       " 'Unmortgage Liverpool St. Station',\n",
       " 'Mortgage Liverpool St. Station',\n",
       " 'End turn',\n",
       " 'End turn',\n",
       " 'Unmortgage Leicester Square',\n",
       " 'Mortgage Leicester Square',\n",
       " 'Unmortgage Euston Road',\n",
       " 'End turn',\n",
       " 'End turn',\n",
       " 'Unmortgage Liverpool St. Station',\n",
       " 'Mortgage Euston Road',\n",
       " 'Mortgage Piccadilly',\n",
       " 'Unmortgage Piccadilly',\n",
       " 'End turn',\n",
       " 'Mortgage Bow Street']"
      ]
     },
     "execution_count": 16,
     "metadata": {},
     "output_type": "execute_result"
    }
   ],
   "source": [
    "mcts.best_actions"
   ]
  },
  {
   "cell_type": "code",
   "execution_count": 17,
   "metadata": {},
   "outputs": [
    {
     "data": {
      "text/plain": [
       "['Cat', 10, 419.0, False, True, 0, False, 0, 0, {}]"
      ]
     },
     "execution_count": 17,
     "metadata": {},
     "output_type": "execute_result"
    }
   ],
   "source": [
    "mcts.root.state.agent\n",
    "# [agent.name, agent.position, agent.money, agent.bankrupt, agent.in_jail, agent.turns_in_jail, \n",
    "# agent.double_rolled, agent.num_doubles, agent.jail_cards]"
   ]
  },
  {
   "cell_type": "code",
   "execution_count": 18,
   "metadata": {},
   "outputs": [
    {
     "data": {
      "text/plain": [
       "[['Vlad', 24, 1134.0, False, False, 0, False, 0, 0, {}]]"
      ]
     },
     "execution_count": 18,
     "metadata": {},
     "output_type": "execute_result"
    }
   ],
   "source": [
    "mcts.root.state.other_players"
   ]
  },
  {
   "cell_type": "code",
   "execution_count": 19,
   "metadata": {},
   "outputs": [
    {
     "data": {
      "text/plain": [
       "[[None, 0, False, False],\n",
       " [None, 0, False, False],\n",
       " [None, 0, False, False],\n",
       " ['Cat', 0, False, True],\n",
       " ['Vlad', 0, False, False],\n",
       " [None, 0, False, False],\n",
       " [None, 0, False, False],\n",
       " [None, 0, False, False],\n",
       " ['Cat', 0, False, True],\n",
       " [None, 0, False, False],\n",
       " ['Vlad', 0, False, False],\n",
       " [None, 0, False, False],\n",
       " [None, 0, False, False],\n",
       " [None, 0, False, False],\n",
       " ['Cat', 0, False, True],\n",
       " [None, 0, False, False],\n",
       " ['Cat', 0, False, False],\n",
       " ['Vlad', 0, False, False],\n",
       " ['Vlad', 0, False, False],\n",
       " [None, 0, False, False],\n",
       " [None, 0, False, False],\n",
       " [None, 0, False, False]]"
      ]
     },
     "execution_count": 19,
     "metadata": {},
     "output_type": "execute_result"
    }
   ],
   "source": [
    "mcts.root.state.properties\n",
    "# [prop.owner.name, prop.num_houses, prop.hotel, prop.is_mortgaged]"
   ]
  },
  {
   "cell_type": "markdown",
   "metadata": {},
   "source": [
    "## Testing MCTS over many games"
   ]
  },
  {
   "cell_type": "code",
   "execution_count": 5,
   "metadata": {},
   "outputs": [],
   "source": [
    "def game():\n",
    "\n",
    "    # create board and add players\n",
    "    board = MonopolyBoardMCTS()\n",
    "    player1 = Player('Cat')\n",
    "    player2 = Player('Vlad')\n",
    "    board.add_agent(player1)\n",
    "    board.add_other_player(player2)\n",
    "\n",
    "    # using a random strategy\n",
    "    strategy = RandomStrategy()\n",
    "    board.strategy = strategy\n",
    "\n",
    "    # run MCTS game\n",
    "    root_state = State()\n",
    "    root_state.from_monopoly_board(board)\n",
    "    mcts = MCTS(root_state, max_iterations=100, exploration_weight=1, max_simulations=50)\n",
    "    mcts.run_game()\n",
    "\n",
    "    if mcts.root.state.agent[3]:\n",
    "        return 'Agent bankrupt'\n",
    "    \n",
    "    elif mcts.root.state.other_players[0][3]:\n",
    "        return 'Other player bankrupt'\n",
    "    \n",
    "    else:\n",
    "        return 'Game not ended'"
   ]
  },
  {
   "cell_type": "code",
   "execution_count": 6,
   "metadata": {},
   "outputs": [
    {
     "name": "stderr",
     "output_type": "stream",
     "text": [
      "Running MCTS game:   4%|▍         | 44/1000 [00:06<02:26,  6.52it/s]\n",
      "Running MCTS game: 100%|██████████| 1000/1000 [02:45<00:00,  6.03it/s]\n",
      "Running MCTS game:   5%|▌         | 52/1000 [00:06<01:56,  8.13it/s]\n",
      "Running MCTS game:  51%|█████     | 512/1000 [01:25<01:21,  5.96it/s]\n",
      "Running MCTS game: 100%|██████████| 1000/1000 [03:02<00:00,  5.49it/s]\n",
      "Running MCTS game: 100%|██████████| 1000/1000 [02:50<00:00,  5.88it/s]\n",
      "Running MCTS game: 100%|██████████| 1000/1000 [03:07<00:00,  5.35it/s]\n",
      "Running MCTS game: 100%|██████████| 1000/1000 [02:54<00:00,  5.72it/s]\n",
      "Running MCTS game: 100%|██████████| 1000/1000 [02:58<00:00,  5.61it/s]\n",
      "Running MCTS game: 100%|██████████| 1000/1000 [02:55<00:00,  5.71it/s]\n",
      "Running MCTS game: 100%|██████████| 1000/1000 [02:58<00:00,  5.61it/s]\n",
      "Running MCTS game: 100%|██████████| 1000/1000 [02:31<00:00,  6.58it/s]\n",
      "Running MCTS game: 100%|██████████| 1000/1000 [02:16<00:00,  7.34it/s]\n",
      "Running MCTS game: 100%|██████████| 1000/1000 [02:27<00:00,  6.79it/s]\n",
      "Running MCTS game: 100%|██████████| 1000/1000 [02:13<00:00,  7.49it/s]\n",
      "Running MCTS game: 100%|██████████| 1000/1000 [02:24<00:00,  6.91it/s]\n",
      "Running MCTS game:  14%|█▍        | 141/1000 [00:15<01:33,  9.18it/s]\n",
      "Running MCTS game: 100%|██████████| 1000/1000 [02:18<00:00,  7.24it/s]\n",
      "Running MCTS game: 100%|██████████| 1000/1000 [02:26<00:00,  6.85it/s]\n",
      "Running MCTS game: 100%|██████████| 1000/1000 [02:24<00:00,  6.91it/s]\n",
      "Running MCTS game: 100%|██████████| 1000/1000 [02:31<00:00,  6.60it/s]\n",
      "Running MCTS game: 100%|██████████| 1000/1000 [02:23<00:00,  6.98it/s]\n",
      "Running MCTS game:  75%|███████▌  | 750/1000 [01:52<00:37,  6.69it/s]\n",
      "Running MCTS game:  81%|████████  | 812/1000 [01:40<00:23,  8.06it/s]\n",
      "Running MCTS game: 100%|██████████| 1000/1000 [02:30<00:00,  6.63it/s]\n",
      "Running MCTS game: 100%|██████████| 1000/1000 [02:18<00:00,  7.24it/s]\n",
      "Running MCTS game: 100%|██████████| 1000/1000 [02:43<00:00,  6.11it/s]\n",
      "Running MCTS game: 100%|██████████| 1000/1000 [02:37<00:00,  6.37it/s]\n",
      "Running MCTS game:   6%|▌         | 58/1000 [00:05<01:29, 10.58it/s]\n",
      "Running MCTS game: 100%|██████████| 1000/1000 [02:47<00:00,  5.98it/s]\n",
      "Running MCTS game: 100%|██████████| 1000/1000 [02:49<00:00,  5.91it/s]\n",
      "Running MCTS game:  47%|████▋     | 471/1000 [01:03<01:11,  7.37it/s]\n",
      "Running MCTS game: 100%|██████████| 1000/1000 [02:45<00:00,  6.04it/s]\n",
      "Running MCTS game: 100%|██████████| 1000/1000 [02:09<00:00,  7.73it/s]\n",
      "Running MCTS game: 100%|██████████| 1000/1000 [02:25<00:00,  6.85it/s]\n",
      "Running MCTS game: 100%|██████████| 1000/1000 [02:41<00:00,  6.19it/s]\n",
      "Running MCTS game: 100%|██████████| 1000/1000 [02:36<00:00,  6.38it/s]\n",
      "Running MCTS game:  67%|██████▋   | 667/1000 [01:39<00:49,  6.67it/s]\n",
      "Running MCTS game: 100%|██████████| 1000/1000 [02:38<00:00,  6.30it/s]\n",
      "Running MCTS game: 100%|██████████| 1000/1000 [02:31<00:00,  6.60it/s]\n",
      "Running MCTS game: 100%|██████████| 1000/1000 [02:41<00:00,  6.18it/s]\n",
      "Running MCTS game: 100%|██████████| 1000/1000 [02:28<00:00,  6.72it/s]\n",
      "Running MCTS game: 100%|██████████| 1000/1000 [02:37<00:00,  6.36it/s]\n",
      "Running MCTS game: 100%|██████████| 1000/1000 [02:37<00:00,  6.34it/s]\n",
      "Running MCTS game: 100%|██████████| 1000/1000 [02:42<00:00,  6.14it/s]\n",
      "Running MCTS game: 100%|██████████| 1000/1000 [02:04<00:00,  8.02it/s]\n",
      "Running MCTS game: 100%|██████████| 1000/1000 [02:32<00:00,  6.54it/s]\n",
      "Running MCTS game: 100%|██████████| 1000/1000 [02:24<00:00,  6.91it/s]\n",
      "Running MCTS game:  54%|█████▎    | 536/1000 [01:20<01:09,  6.67it/s]\n",
      "Running MCTS game: 100%|██████████| 1000/1000 [02:30<00:00,  6.65it/s]\n",
      "Running MCTS game: 100%|██████████| 1000/1000 [02:13<00:00,  7.52it/s]\n",
      "Running MCTS game: 100%|██████████| 1000/1000 [02:31<00:00,  6.61it/s]\n",
      "Running MCTS game: 100%|██████████| 1000/1000 [02:29<00:00,  6.71it/s]\n",
      "Running MCTS game: 100%|██████████| 1000/1000 [02:40<00:00,  6.21it/s]\n",
      "Running MCTS game: 100%|██████████| 1000/1000 [02:23<00:00,  6.99it/s]\n",
      "Running MCTS game: 100%|██████████| 1000/1000 [02:11<00:00,  7.63it/s]\n",
      "Running MCTS game: 100%|██████████| 1000/1000 [02:12<00:00,  7.55it/s]\n",
      "Running MCTS game: 100%|██████████| 1000/1000 [02:10<00:00,  7.67it/s]\n",
      "Running MCTS game: 100%|██████████| 1000/1000 [02:07<00:00,  7.84it/s]\n",
      "Running MCTS game: 100%|██████████| 1000/1000 [02:10<00:00,  7.68it/s]\n",
      "Running MCTS game: 100%|██████████| 1000/1000 [02:28<00:00,  6.71it/s]\n",
      "Running MCTS game:  92%|█████████▏| 918/1000 [02:15<00:12,  6.76it/s]\n",
      "Running MCTS game: 100%|██████████| 1000/1000 [01:57<00:00,  8.51it/s]\n",
      "Running MCTS game: 100%|██████████| 1000/1000 [02:20<00:00,  7.10it/s]\n",
      "Running MCTS game: 100%|██████████| 1000/1000 [02:09<00:00,  7.73it/s]\n",
      "Running MCTS game: 100%|██████████| 1000/1000 [02:24<00:00,  6.91it/s]\n",
      "Running MCTS game: 100%|██████████| 1000/1000 [02:35<00:00,  6.44it/s]\n",
      "Running MCTS game: 100%|██████████| 1000/1000 [02:21<00:00,  7.07it/s]\n",
      "Running MCTS game: 100%|██████████| 1000/1000 [01:56<00:00,  8.58it/s]\n",
      "Running MCTS game: 100%|██████████| 1000/1000 [01:57<00:00,  8.50it/s]\n",
      "Running MCTS game: 100%|██████████| 1000/1000 [02:25<00:00,  6.87it/s]\n",
      "Running MCTS game: 100%|██████████| 1000/1000 [02:35<00:00,  6.45it/s]\n",
      "Running MCTS game: 100%|██████████| 1000/1000 [02:19<00:00,  7.17it/s]\n",
      "Running MCTS game: 100%|██████████| 1000/1000 [02:14<00:00,  7.45it/s]\n",
      "Running MCTS game: 100%|██████████| 1000/1000 [02:17<00:00,  7.28it/s]\n",
      "Running MCTS game: 100%|██████████| 1000/1000 [02:28<00:00,  6.74it/s]\n",
      "Running MCTS game: 100%|██████████| 1000/1000 [02:13<00:00,  7.50it/s]\n",
      "Running MCTS game: 100%|██████████| 1000/1000 [02:37<00:00,  6.36it/s]\n",
      "Running MCTS game: 100%|██████████| 1000/1000 [02:26<00:00,  6.83it/s]\n",
      "Running MCTS game: 100%|██████████| 1000/1000 [02:22<00:00,  7.00it/s]\n",
      "Running MCTS game: 100%|██████████| 1000/1000 [02:30<00:00,  6.64it/s]\n",
      "Running MCTS game: 100%|██████████| 1000/1000 [02:16<00:00,  7.32it/s]\n",
      "Running MCTS game: 100%|██████████| 1000/1000 [02:18<00:00,  7.23it/s]\n",
      "Running MCTS game: 100%|██████████| 1000/1000 [02:26<00:00,  6.81it/s]\n",
      "Running MCTS game: 100%|██████████| 1000/1000 [02:32<00:00,  6.57it/s]\n",
      "Running MCTS game: 100%|██████████| 1000/1000 [02:23<00:00,  6.97it/s]\n",
      "Running MCTS game: 100%|██████████| 1000/1000 [02:30<00:00,  6.63it/s]\n",
      "Running MCTS game: 100%|██████████| 1000/1000 [02:19<00:00,  7.16it/s]\n",
      "Running MCTS game: 100%|██████████| 1000/1000 [02:25<00:00,  6.85it/s]\n",
      "Running MCTS game:  14%|█▍        | 140/1000 [00:14<01:29,  9.63it/s]\n",
      "Running MCTS game: 100%|██████████| 1000/1000 [02:23<00:00,  6.98it/s]\n",
      "Running MCTS game:  82%|████████▏ | 817/1000 [01:54<00:25,  7.11it/s]\n",
      "Running MCTS game: 100%|██████████| 1000/1000 [03:00<00:00,  5.54it/s]\n",
      "Running MCTS game: 100%|██████████| 1000/1000 [02:39<00:00,  6.26it/s]\n",
      "Running MCTS game: 100%|██████████| 1000/1000 [02:44<00:00,  6.08it/s]\n",
      "Running MCTS game: 100%|██████████| 1000/1000 [02:37<00:00,  6.33it/s]\n",
      "Running MCTS game: 100%|██████████| 1000/1000 [03:39<00:00,  4.55it/s]\n",
      "Running MCTS game: 100%|██████████| 1000/1000 [02:31<00:00,  6.61it/s]\n",
      "Running MCTS game: 100%|██████████| 1000/1000 [02:30<00:00,  6.63it/s]\n",
      "Running MCTS game: 100%|██████████| 1000/1000 [02:34<00:00,  6.49it/s]\n"
     ]
    }
   ],
   "source": [
    "random.seed(42)\n",
    "game_results = []\n",
    "\n",
    "for _ in range(100):\n",
    "    result = game()\n",
    "    game_results.append(result)"
   ]
  },
  {
   "cell_type": "code",
   "execution_count": 7,
   "metadata": {},
   "outputs": [
    {
     "data": {
      "text/plain": [
       "Counter({'Game not ended': 87, 'Other player bankrupt': 13})"
      ]
     },
     "execution_count": 7,
     "metadata": {},
     "output_type": "execute_result"
    }
   ],
   "source": [
    "from collections import Counter\n",
    "Counter(game_results)"
   ]
  },
  {
   "cell_type": "code",
   "execution_count": null,
   "metadata": {},
   "outputs": [],
   "source": []
  }
 ],
 "metadata": {
  "kernelspec": {
   "display_name": "Python 3",
   "language": "python",
   "name": "python3"
  },
  "language_info": {
   "codemirror_mode": {
    "name": "ipython",
    "version": 3
   },
   "file_extension": ".py",
   "mimetype": "text/x-python",
   "name": "python",
   "nbconvert_exporter": "python",
   "pygments_lexer": "ipython3",
   "version": "3.10.2"
  }
 },
 "nbformat": 4,
 "nbformat_minor": 2
}
