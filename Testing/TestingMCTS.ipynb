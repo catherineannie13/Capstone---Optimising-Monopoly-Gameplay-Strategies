{
 "cells": [
  {
   "cell_type": "markdown",
   "metadata": {},
   "source": [
    "## Imports"
   ]
  },
  {
   "cell_type": "code",
   "execution_count": 51,
   "metadata": {},
   "outputs": [],
   "source": [
    "import random\n",
    "\n",
    "%run -i \"C:\\\\Users\\\\cathe\\\\OneDrive\\\\Documents\\\\Capstone - Optimising Monopoly Gameplay Strategies\\\\Simulation Classes\\\\Player.py\"\n",
    "%run -i \"C:\\\\Users\\\\cathe\\\\OneDrive\\\\Documents\\\\Capstone - Optimising Monopoly Gameplay Strategies\\\\Simulation Classes\\\\Street.py\"\n",
    "%run -i \"C:\\\\Users\\\\cathe\\\\OneDrive\\\\Documents\\\\Capstone - Optimising Monopoly Gameplay Strategies\\\\Simulation Classes\\\\Utility.py\"\n",
    "%run -i \"C:\\\\Users\\\\cathe\\\\OneDrive\\\\Documents\\\\Capstone - Optimising Monopoly Gameplay Strategies\\\\Simulation Classes\\\\Station.py\"\n",
    "%run -i \"C:\\\\Users\\\\cathe\\\\OneDrive\\\\Documents\\\\Capstone - Optimising Monopoly Gameplay Strategies\\\\Simulation Classes\\\\Chance.py\"\n",
    "%run -i \"C:\\\\Users\\\\cathe\\\\OneDrive\\\\Documents\\\\Capstone - Optimising Monopoly Gameplay Strategies\\\\Simulation Classes\\\\Tax.py\"\n",
    "%run -i \"C:\\\\Users\\\\cathe\\\\OneDrive\\\\Documents\\\\Capstone - Optimising Monopoly Gameplay Strategies\\\\Simulation Classes\\\\Go.py\"\n",
    "%run -i \"C:\\\\Users\\\\cathe\\\\OneDrive\\\\Documents\\\\Capstone - Optimising Monopoly Gameplay Strategies\\\\Simulation Classes\\\\Jail.py\"\n",
    "%run -i \"C:\\\\Users\\\\cathe\\\\OneDrive\\\\Documents\\\\Capstone - Optimising Monopoly Gameplay Strategies\\\\Simulation Classes\\\\FreeParking.py\"\n",
    "%run -i \"C:\\\\Users\\\\cathe\\\\OneDrive\\\\Documents\\\\Capstone - Optimising Monopoly Gameplay Strategies\\\\Simulation Classes\\\\GoToJail.py\"\n",
    "%run -i \"C:\\\\Users\\\\cathe\\\\OneDrive\\\\Documents\\\\Capstone - Optimising Monopoly Gameplay Strategies\\\\Simulation Classes\\\\CommunityChest.py\"\n",
    "%run -i \"C:\\\\Users\\\\cathe\\\\OneDrive\\\\Documents\\\\Capstone - Optimising Monopoly Gameplay Strategies\\\\Simulation Classes\\\\MonopolyBoard.py\"\n",
    "%run -i \"C:\\\\Users\\\\cathe\\\\OneDrive\\\\Documents\\\\Capstone - Optimising Monopoly Gameplay Strategies\\\\Simulation Classes\\\\Strategy.py\"\n",
    "\n",
    "%run -i \"C:\\\\Users\\\\cathe\\\\OneDrive\\\\Documents\\\\Capstone - Optimising Monopoly Gameplay Strategies\\\\MCTS\\\\MonopolyBoardMCTS.py\"\n",
    "%run -i \"C:\\\\Users\\\\cathe\\\\OneDrive\\\\Documents\\\\Capstone - Optimising Monopoly Gameplay Strategies\\\\MCTS\\\\Node.py\"\n",
    "%run -i \"C:\\\\Users\\\\cathe\\\\OneDrive\\\\Documents\\\\Capstone - Optimising Monopoly Gameplay Strategies\\\\MCTS\\\\MCTS.py\"\n",
    "\n",
    "random.seed(42)"
   ]
  },
  {
   "cell_type": "markdown",
   "metadata": {},
   "source": [
    "## Testing get_legal_actions()"
   ]
  },
  {
   "cell_type": "code",
   "execution_count": 52,
   "metadata": {},
   "outputs": [
    {
     "data": {
      "text/plain": [
       "['End turn']"
      ]
     },
     "execution_count": 52,
     "metadata": {},
     "output_type": "execute_result"
    }
   ],
   "source": [
    "board = MonopolyBoardMCTS()\n",
    "player1 = Player('Cat')\n",
    "player2 = Player('Vlad')\n",
    "\n",
    "board.add_agent(player1)\n",
    "board.add_other_player(player2)\n",
    "board.get_legal_actions()"
   ]
  },
  {
   "cell_type": "code",
   "execution_count": 53,
   "metadata": {},
   "outputs": [
    {
     "data": {
      "text/plain": [
       "['Mortgage Old Kent Road', 'End turn']"
      ]
     },
     "execution_count": 53,
     "metadata": {},
     "output_type": "execute_result"
    }
   ],
   "source": [
    "player1.buy_property(board.board[1])\n",
    "board.get_legal_actions()"
   ]
  },
  {
   "cell_type": "code",
   "execution_count": 54,
   "metadata": {},
   "outputs": [
    {
     "data": {
      "text/plain": [
       "['Mortgage Old Kent Road',\n",
       " 'Mortgage Whitechapel Road',\n",
       " 'Buy house on Old Kent Road',\n",
       " 'Buy house on Whitechapel Road',\n",
       " 'End turn']"
      ]
     },
     "execution_count": 54,
     "metadata": {},
     "output_type": "execute_result"
    }
   ],
   "source": [
    "player1.buy_property(board.board[3])\n",
    "board.get_legal_actions()"
   ]
  },
  {
   "cell_type": "code",
   "execution_count": 55,
   "metadata": {},
   "outputs": [
    {
     "data": {
      "text/plain": [
       "['Mortgage Old Kent Road',\n",
       " 'Sell house on Whitechapel Road',\n",
       " 'Buy house on Old Kent Road',\n",
       " 'End turn']"
      ]
     },
     "execution_count": 55,
     "metadata": {},
     "output_type": "execute_result"
    }
   ],
   "source": [
    "board.board[3].num_houses = 1\n",
    "board.get_legal_actions()"
   ]
  },
  {
   "cell_type": "code",
   "execution_count": 56,
   "metadata": {},
   "outputs": [
    {
     "data": {
      "text/plain": [
       "['Sell house on Old Kent Road',\n",
       " 'Sell house on Whitechapel Road',\n",
       " 'Buy house on Old Kent Road',\n",
       " 'Buy house on Whitechapel Road',\n",
       " 'End turn']"
      ]
     },
     "execution_count": 56,
     "metadata": {},
     "output_type": "execute_result"
    }
   ],
   "source": [
    "board.board[1].num_houses = 1\n",
    "board.get_legal_actions()"
   ]
  },
  {
   "cell_type": "code",
   "execution_count": 57,
   "metadata": {},
   "outputs": [
    {
     "data": {
      "text/plain": [
       "['Sell house on Old Kent Road',\n",
       " 'Sell house on Whitechapel Road',\n",
       " 'Pay 50 to get out of jail',\n",
       " 'Buy house on Old Kent Road',\n",
       " 'Buy house on Whitechapel Road',\n",
       " 'End turn']"
      ]
     },
     "execution_count": 57,
     "metadata": {},
     "output_type": "execute_result"
    }
   ],
   "source": [
    "player1.in_jail = True\n",
    "board.get_legal_actions()"
   ]
  },
  {
   "cell_type": "markdown",
   "metadata": {},
   "source": [
    "## Testing perform_action()"
   ]
  },
  {
   "cell_type": "code",
   "execution_count": 58,
   "metadata": {},
   "outputs": [
    {
     "data": {
      "text/plain": [
       "True"
      ]
     },
     "execution_count": 58,
     "metadata": {},
     "output_type": "execute_result"
    }
   ],
   "source": [
    "board = MonopolyBoardMCTS()\n",
    "player1 = Player('Cat')\n",
    "player2 = Player('Vlad')\n",
    "\n",
    "board.add_agent(player1)\n",
    "board.add_other_player(player2)\n",
    "\n",
    "player1.buy_property(board.board[1])\n",
    "player1.buy_property(board.board[3])"
   ]
  },
  {
   "cell_type": "code",
   "execution_count": 59,
   "metadata": {},
   "outputs": [
    {
     "name": "stdout",
     "output_type": "stream",
     "text": [
      "Performing: Mortgage Whitechapel Road\n"
     ]
    },
    {
     "data": {
      "text/plain": [
       "(Player Cat is currently as position 0 on the board, with $1410.0.             \n",
       "  They hold the following properties: ['Old Kent Road', 'Whitechapel Road'].            \n",
       "  They hold the following stations: []            \n",
       "  They hold the following utilities: []            \n",
       "  The player has 0 houses and 0 hotels             \n",
       "  The player is currently not in jail.,\n",
       " Old Kent Road is one of the 2 properties in the brown set located at position 1 on the Monopoly board                 \n",
       "  and can be purchased for $60 with a house price of $50. Rent prices are as follows: \n",
       "  Rent: 2 \n",
       "  Double rent: 4                 \n",
       "  Rent 1 house: 10 \n",
       "  Rent 2 houses: 30 \n",
       "  Rent 3 houses: 90 \n",
       "  Rent 4 houses: 160                 \n",
       "  Rent hotel: 250 \n",
       "  The property is currently owned by Cat, is not mortgaged and has 0 houses and 0 hotels.,\n",
       " Whitechapel Road is one of the 2 properties in the brown set located at position 3 on the Monopoly board                 \n",
       "  and can be purchased for $60 with a house price of $50. Rent prices are as follows: \n",
       "  Rent: 4 \n",
       "  Double rent: 8                 \n",
       "  Rent 1 house: 20 \n",
       "  Rent 2 houses: 60 \n",
       "  Rent 3 houses: 180 \n",
       "  Rent 4 houses: 320                 \n",
       "  Rent hotel: 450 \n",
       "  The property is currently owned by Cat, is mortgaged and has 0 houses and 0 hotels.)"
      ]
     },
     "execution_count": 59,
     "metadata": {},
     "output_type": "execute_result"
    }
   ],
   "source": [
    "legal_actions = board.get_legal_actions()\n",
    "print(f\"Performing: {legal_actions[1]}\")\n",
    "board.perform_action(legal_actions[1])\n",
    "player1, board.board[1], board.board[3]"
   ]
  },
  {
   "cell_type": "code",
   "execution_count": 60,
   "metadata": {},
   "outputs": [
    {
     "name": "stdout",
     "output_type": "stream",
     "text": [
      "Performing: Unmortgage Whitechapel Road\n"
     ]
    },
    {
     "data": {
      "text/plain": [
       "(Player Cat is currently as position 0 on the board, with $1377.0.             \n",
       "  They hold the following properties: ['Old Kent Road', 'Whitechapel Road'].            \n",
       "  They hold the following stations: []            \n",
       "  They hold the following utilities: []            \n",
       "  The player has 0 houses and 0 hotels             \n",
       "  The player is currently not in jail.,\n",
       " Old Kent Road is one of the 2 properties in the brown set located at position 1 on the Monopoly board                 \n",
       "  and can be purchased for $60 with a house price of $50. Rent prices are as follows: \n",
       "  Rent: 2 \n",
       "  Double rent: 4                 \n",
       "  Rent 1 house: 10 \n",
       "  Rent 2 houses: 30 \n",
       "  Rent 3 houses: 90 \n",
       "  Rent 4 houses: 160                 \n",
       "  Rent hotel: 250 \n",
       "  The property is currently owned by Cat, is not mortgaged and has 0 houses and 0 hotels.,\n",
       " Whitechapel Road is one of the 2 properties in the brown set located at position 3 on the Monopoly board                 \n",
       "  and can be purchased for $60 with a house price of $50. Rent prices are as follows: \n",
       "  Rent: 4 \n",
       "  Double rent: 8                 \n",
       "  Rent 1 house: 20 \n",
       "  Rent 2 houses: 60 \n",
       "  Rent 3 houses: 180 \n",
       "  Rent 4 houses: 320                 \n",
       "  Rent hotel: 450 \n",
       "  The property is currently owned by Cat, is not mortgaged and has 0 houses and 0 hotels.)"
      ]
     },
     "execution_count": 60,
     "metadata": {},
     "output_type": "execute_result"
    }
   ],
   "source": [
    "legal_actions = board.get_legal_actions()\n",
    "print(f\"Performing: {legal_actions[1]}\")\n",
    "board.perform_action(legal_actions[1])\n",
    "player1, board.board[1], board.board[3]"
   ]
  },
  {
   "cell_type": "code",
   "execution_count": 61,
   "metadata": {},
   "outputs": [
    {
     "name": "stdout",
     "output_type": "stream",
     "text": [
      "Performing: Buy house on Whitechapel Road\n"
     ]
    },
    {
     "data": {
      "text/plain": [
       "(Player Cat is currently as position 0 on the board, with $1327.0.             \n",
       "  They hold the following properties: ['Old Kent Road', 'Whitechapel Road'].            \n",
       "  They hold the following stations: []            \n",
       "  They hold the following utilities: []            \n",
       "  The player has 1 houses and 0 hotels             \n",
       "  The player is currently not in jail.,\n",
       " Old Kent Road is one of the 2 properties in the brown set located at position 1 on the Monopoly board                 \n",
       "  and can be purchased for $60 with a house price of $50. Rent prices are as follows: \n",
       "  Rent: 2 \n",
       "  Double rent: 4                 \n",
       "  Rent 1 house: 10 \n",
       "  Rent 2 houses: 30 \n",
       "  Rent 3 houses: 90 \n",
       "  Rent 4 houses: 160                 \n",
       "  Rent hotel: 250 \n",
       "  The property is currently owned by Cat, is not mortgaged and has 0 houses and 0 hotels.,\n",
       " Whitechapel Road is one of the 2 properties in the brown set located at position 3 on the Monopoly board                 \n",
       "  and can be purchased for $60 with a house price of $50. Rent prices are as follows: \n",
       "  Rent: 4 \n",
       "  Double rent: 8                 \n",
       "  Rent 1 house: 20 \n",
       "  Rent 2 houses: 60 \n",
       "  Rent 3 houses: 180 \n",
       "  Rent 4 houses: 320                 \n",
       "  Rent hotel: 450 \n",
       "  The property is currently owned by Cat, is not mortgaged and has 1 houses and 0 hotels.)"
      ]
     },
     "execution_count": 61,
     "metadata": {},
     "output_type": "execute_result"
    }
   ],
   "source": [
    "legal_actions = board.get_legal_actions()\n",
    "print(f\"Performing: {legal_actions[3]}\")\n",
    "board.perform_action(legal_actions[3])\n",
    "player1, board.board[1], board.board[3]"
   ]
  },
  {
   "cell_type": "code",
   "execution_count": 62,
   "metadata": {},
   "outputs": [
    {
     "name": "stdout",
     "output_type": "stream",
     "text": [
      "Performing: End turn\n"
     ]
    },
    {
     "data": {
      "text/plain": [
       "(Player Cat is currently as position 7 on the board, with $1332.0.             \n",
       "  They hold the following properties: ['Old Kent Road', 'Whitechapel Road'].            \n",
       "  They hold the following stations: []            \n",
       "  They hold the following utilities: []            \n",
       "  The player has 1 houses and 0 hotels             \n",
       "  The player is currently not in jail.,\n",
       " Old Kent Road is one of the 2 properties in the brown set located at position 1 on the Monopoly board                 \n",
       "  and can be purchased for $60 with a house price of $50. Rent prices are as follows: \n",
       "  Rent: 2 \n",
       "  Double rent: 4                 \n",
       "  Rent 1 house: 10 \n",
       "  Rent 2 houses: 30 \n",
       "  Rent 3 houses: 90 \n",
       "  Rent 4 houses: 160                 \n",
       "  Rent hotel: 250 \n",
       "  The property is currently owned by Cat, is not mortgaged and has 0 houses and 0 hotels.,\n",
       " Whitechapel Road is one of the 2 properties in the brown set located at position 3 on the Monopoly board                 \n",
       "  and can be purchased for $60 with a house price of $50. Rent prices are as follows: \n",
       "  Rent: 4 \n",
       "  Double rent: 8                 \n",
       "  Rent 1 house: 20 \n",
       "  Rent 2 houses: 60 \n",
       "  Rent 3 houses: 180 \n",
       "  Rent 4 houses: 320                 \n",
       "  Rent hotel: 450 \n",
       "  The property is currently owned by Cat, is not mortgaged and has 1 houses and 0 hotels.)"
      ]
     },
     "execution_count": 62,
     "metadata": {},
     "output_type": "execute_result"
    }
   ],
   "source": [
    "legal_actions = board.get_legal_actions()\n",
    "print(f\"Performing: {legal_actions[-1]}\")\n",
    "board.perform_action(legal_actions[-1])\n",
    "player1, board.board[1], board.board[3]"
   ]
  },
  {
   "cell_type": "markdown",
   "metadata": {},
   "source": [
    "## "
   ]
  },
  {
   "cell_type": "markdown",
   "metadata": {},
   "source": [
    "## Testing additions to MonopolyBoardMCTS"
   ]
  },
  {
   "cell_type": "code",
   "execution_count": 63,
   "metadata": {},
   "outputs": [],
   "source": [
    "board = MonopolyBoardMCTS()\n",
    "player1 = Player('Cat')\n",
    "player2 = Player('Vlad')\n",
    "\n",
    "board.add_agent(player1)\n",
    "board.add_other_player(player2)"
   ]
  },
  {
   "cell_type": "code",
   "execution_count": 64,
   "metadata": {},
   "outputs": [
    {
     "name": "stdout",
     "output_type": "stream",
     "text": [
      "Performing action: End turn\n",
      "Performing action: End turn\n",
      "Performing action: End turn\n",
      "Performing action: End turn\n",
      "Performing action: Purchase Trafalgar Square\n",
      "Performing action: End turn\n",
      "Performing action: End turn\n",
      "Performing action: Purchase Park Lane\n",
      "Performing action: End turn\n",
      "Performing action: Mortgage Trafalgar Square\n",
      "Performing action: End turn\n",
      "Performing action: Purchase Bow Street\n",
      "Performing action: Unmortgage Trafalgar Square\n",
      "Performing action: Mortgage Trafalgar Square\n",
      "Performing action: Unmortgage Trafalgar Square\n",
      "Performing action: End turn\n",
      "Performing action: Mortgage Bow Street\n",
      "Performing action: End turn\n",
      "Performing action: Pay 50 to get out of jail\n",
      "Performing action: Mortgage Park Lane\n",
      "Performing action: Unmortgage Park Lane\n",
      "Performing action: Unmortgage Bow Street\n",
      "Performing action: Mortgage Park Lane\n",
      "Performing action: Mortgage Trafalgar Square\n",
      "Performing action: Unmortgage Park Lane\n",
      "Performing action: End turn\n",
      "Performing action: Mortgage Park Lane\n",
      "Performing action: Mortgage Bow Street\n",
      "Performing action: End turn\n",
      "Performing action: End turn\n",
      "Performing action: End turn\n",
      "Performing action: Unmortgage Park Lane\n",
      "Performing action: Unmortgage Bow Street\n",
      "Performing action: End turn\n",
      "Performing action: Mortgage Park Lane\n",
      "Performing action: Unmortgage Trafalgar Square\n",
      "Performing action: Mortgage Bow Street\n",
      "Performing action: Mortgage Trafalgar Square\n",
      "Performing action: Unmortgage Bow Street\n",
      "Performing action: Mortgage Bow Street\n",
      "Performing action: End turn\n",
      "Performing action: Unmortgage Trafalgar Square\n",
      "Performing action: Mortgage Trafalgar Square\n",
      "Performing action: Unmortgage Trafalgar Square\n",
      "Performing action: Unmortgage Park Lane\n",
      "Performing action: Mortgage Trafalgar Square\n",
      "Performing action: Mortgage Park Lane\n",
      "Performing action: Unmortgage Bow Street\n",
      "Performing action: Mortgage Bow Street\n",
      "Performing action: Unmortgage Park Lane\n",
      "Performing action: Unmortgage Bow Street\n",
      "Performing action: End turn\n",
      "Performing action: End turn\n",
      "Performing action: Mortgage Park Lane\n",
      "Performing action: Mortgage Bow Street\n",
      "Performing action: Unmortgage Bow Street\n",
      "Performing action: Unmortgage Trafalgar Square\n",
      "Performing action: Unmortgage Park Lane\n",
      "Performing action: Pay 50 to get out of jail\n",
      "Performing action: End turn\n",
      "Performing action: Mortgage Trafalgar Square\n",
      "Performing action: Mortgage Park Lane\n",
      "Performing action: End turn\n",
      "Performing action: Unmortgage Trafalgar Square\n",
      "Performing action: Mortgage Bow Street\n",
      "Performing action: End turn\n",
      "Performing action: Unmortgage Bow Street\n",
      "Performing action: Mortgage Bow Street\n",
      "Performing action: Mortgage Trafalgar Square\n",
      "Performing action: Unmortgage Bow Street\n",
      "Performing action: End turn\n",
      "Performing action: Pay 50 to get out of jail\n",
      "Performing action: Unmortgage Trafalgar Square\n",
      "Performing action: End turn\n",
      "Performing action: End turn\n",
      "Performing action: Unmortgage Park Lane\n",
      "Performing action: End turn\n",
      "Performing action: Mortgage Park Lane\n",
      "Performing action: Mortgage Bow Street\n",
      "Performing action: Unmortgage Park Lane\n",
      "Performing action: Mortgage Park Lane\n",
      "Performing action: Mortgage Trafalgar Square\n",
      "Performing action: End turn\n",
      "Performing action: Unmortgage Park Lane\n",
      "Performing action: Mortgage Park Lane\n",
      "Performing action: Pay 50 to get out of jail\n",
      "Performing action: End turn\n",
      "Performing action: Unmortgage Park Lane\n",
      "Performing action: Mortgage Park Lane\n",
      "Performing action: Unmortgage Trafalgar Square\n",
      "Performing action: Unmortgage Park Lane\n",
      "Performing action: End turn\n",
      "Performing action: End turn\n",
      "Performing action: End turn\n",
      "Performing action: Mortgage Park Lane\n",
      "Performing action: Unmortgage Park Lane\n",
      "Performing action: Unmortgage Bow Street\n",
      "Performing action: Mortgage Park Lane\n",
      "Performing action: Pay 50 to get out of jail\n",
      "Performing action: End turn\n",
      "Performing action: End turn\n",
      "Performing action: Mortgage Trafalgar Square\n",
      "Performing action: Unmortgage Park Lane\n",
      "Performing action: Mortgage Park Lane\n",
      "Performing action: Unmortgage Park Lane\n",
      "Performing action: Mortgage Park Lane\n",
      "Performing action: Unmortgage Trafalgar Square\n",
      "Performing action: Mortgage Bow Street\n",
      "Performing action: Unmortgage Bow Street\n",
      "Performing action: Mortgage Trafalgar Square\n",
      "Performing action: End turn\n",
      "Performing action: End turn\n",
      "Performing action: Mortgage Bow Street\n",
      "Performing action: Unmortgage Park Lane\n",
      "Performing action: Unmortgage Bow Street\n",
      "Performing action: Mortgage Park Lane\n",
      "Performing action: Mortgage Bow Street\n",
      "Performing action: Unmortgage Park Lane\n",
      "Performing action: Unmortgage Bow Street\n",
      "Performing action: Unmortgage Trafalgar Square\n",
      "Performing action: Mortgage Park Lane\n",
      "Performing action: Unmortgage Park Lane\n",
      "Performing action: Mortgage Park Lane\n",
      "Performing action: Unmortgage Park Lane\n",
      "Performing action: End turn\n",
      "Performing action: Mortgage Park Lane\n",
      "Performing action: Mortgage Bow Street\n",
      "Performing action: Mortgage Trafalgar Square\n",
      "Performing action: Unmortgage Trafalgar Square\n",
      "Performing action: Unmortgage Bow Street\n",
      "Performing action: Mortgage Trafalgar Square\n",
      "Performing action: Unmortgage Park Lane\n",
      "Performing action: Mortgage Park Lane\n",
      "Performing action: End turn\n",
      "Performing action: Mortgage Bow Street\n",
      "Performing action: Unmortgage Trafalgar Square\n",
      "Performing action: Mortgage Trafalgar Square\n",
      "Performing action: Unmortgage Park Lane\n",
      "Performing action: End turn\n",
      "Performing action: Mortgage Park Lane\n",
      "Performing action: End turn\n",
      "Performing action: Unmortgage Trafalgar Square\n",
      "Performing action: Unmortgage Bow Street\n",
      "Performing action: Mortgage Bow Street\n",
      "Performing action: Unmortgage Park Lane\n",
      "Performing action: Mortgage Trafalgar Square\n",
      "Performing action: Unmortgage Bow Street\n",
      "Performing action: End turn\n",
      "Performing action: Mortgage Bow Street\n",
      "Performing action: Unmortgage Trafalgar Square\n",
      "Performing action: Mortgage Park Lane\n",
      "Performing action: End turn\n",
      "Performing action: End turn\n",
      "Performing action: Mortgage Trafalgar Square\n",
      "Performing action: End turn\n",
      "Performing action: Unmortgage Bow Street\n",
      "Performing action: Unmortgage Trafalgar Square\n",
      "Performing action: Pay 50 to get out of jail\n",
      "Performing action: Mortgage Trafalgar Square\n",
      "Performing action: Unmortgage Trafalgar Square\n",
      "Performing action: Mortgage Trafalgar Square\n",
      "Performing action: Unmortgage Trafalgar Square\n",
      "Performing action: Mortgage Bow Street\n",
      "Performing action: Unmortgage Bow Street\n",
      "Performing action: Mortgage Bow Street\n",
      "Performing action: Mortgage Trafalgar Square\n",
      "Performing action: Unmortgage Bow Street\n",
      "Performing action: Unmortgage Park Lane\n",
      "Performing action: End turn\n",
      "Performing action: Mortgage Bow Street\n",
      "Performing action: Mortgage Park Lane\n",
      "Performing action: Unmortgage Trafalgar Square\n",
      "Performing action: Unmortgage Bow Street\n",
      "Performing action: Mortgage Trafalgar Square\n",
      "Performing action: End turn\n",
      "Performing action: Unmortgage Trafalgar Square\n",
      "Performing action: Mortgage Bow Street\n",
      "Performing action: End turn\n",
      "Performing action: Mortgage Trafalgar Square\n",
      "Performing action: End turn\n",
      "Performing action: Purchase Old Kent Road\n",
      "Performing action: Mortgage Old Kent Road\n",
      "Performing action: End turn\n",
      "Performing action: Unmortgage Park Lane\n",
      "Performing action: Unmortgage Bow Street\n",
      "Performing action: End turn\n",
      "Performing action: Unmortgage Old Kent Road\n",
      "Performing action: Mortgage Park Lane\n",
      "Performing action: Unmortgage Trafalgar Square\n",
      "Performing action: Mortgage Old Kent Road\n",
      "Performing action: End turn\n",
      "Performing action: End turn\n",
      "Performing action: Mortgage Bow Street\n",
      "Performing action: Unmortgage Old Kent Road\n",
      "Performing action: End turn\n",
      "Performing action: Pay 50 to get out of jail\n",
      "Performing action: Unmortgage Bow Street\n",
      "Performing action: Mortgage Bow Street\n",
      "Performing action: End turn\n",
      "Performing action: Unmortgage Bow Street\n",
      "Performing action: Mortgage Bow Street\n",
      "Performing action: End turn\n",
      "Performing action: Mortgage Trafalgar Square\n",
      "Performing action: Unmortgage Trafalgar Square\n",
      "Performing action: Pay 50 to get out of jail\n",
      "Performing action: Mortgage Trafalgar Square\n",
      "Performing action: Unmortgage Trafalgar Square\n",
      "Performing action: End turn\n",
      "Performing action: Mortgage Trafalgar Square\n",
      "Performing action: Mortgage Old Kent Road\n",
      "Performing action: Unmortgage Bow Street\n",
      "Performing action: Unmortgage Old Kent Road\n",
      "Performing action: End turn\n",
      "Performing action: End turn\n",
      "Performing action: End turn\n",
      "Performing action: Mortgage Bow Street\n",
      "Performing action: Mortgage Old Kent Road\n",
      "Performing action: Unmortgage Old Kent Road\n",
      "Performing action: Unmortgage Trafalgar Square\n",
      "Performing action: Mortgage Old Kent Road\n",
      "Performing action: End turn\n",
      "Performing action: End turn\n",
      "Performing action: Unmortgage Old Kent Road\n",
      "Performing action: End turn\n",
      "Performing action: End turn\n",
      "Performing action: Unmortgage Bow Street\n",
      "Performing action: Mortgage Old Kent Road\n",
      "Performing action: Mortgage Bow Street\n",
      "Performing action: End turn\n",
      "Performing action: Unmortgage Park Lane\n",
      "Performing action: Unmortgage Bow Street\n",
      "Performing action: Unmortgage Old Kent Road\n",
      "Performing action: Mortgage Trafalgar Square\n",
      "Performing action: Mortgage Old Kent Road\n",
      "Performing action: Mortgage Bow Street\n",
      "Performing action: Unmortgage Bow Street\n",
      "Performing action: Unmortgage Trafalgar Square\n",
      "Performing action: Mortgage Bow Street\n",
      "Performing action: End turn\n",
      "Performing action: Unmortgage Old Kent Road\n",
      "Performing action: Mortgage Park Lane\n",
      "Performing action: Mortgage Old Kent Road\n",
      "Performing action: Mortgage Trafalgar Square\n",
      "Performing action: Unmortgage Old Kent Road\n",
      "Performing action: Unmortgage Bow Street\n",
      "Performing action: Unmortgage Trafalgar Square\n",
      "Performing action: End turn\n",
      "Performing action: Unmortgage Park Lane\n",
      "Performing action: End turn\n",
      "Performing action: Mortgage Trafalgar Square\n",
      "Performing action: Mortgage Old Kent Road\n",
      "Performing action: Pay 50 to get out of jail\n",
      "Performing action: Unmortgage Old Kent Road\n",
      "Performing action: Unmortgage Trafalgar Square\n",
      "Performing action: End turn\n",
      "Performing action: Mortgage Old Kent Road\n",
      "Performing action: Unmortgage Old Kent Road\n",
      "Performing action: Mortgage Trafalgar Square\n",
      "Performing action: Unmortgage Trafalgar Square\n",
      "Performing action: Mortgage Bow Street\n",
      "Performing action: Unmortgage Bow Street\n",
      "Performing action: Mortgage Park Lane\n",
      "Performing action: Unmortgage Park Lane\n",
      "Performing action: Mortgage Park Lane\n",
      "Performing action: End turn\n",
      "Performing action: Purchase Oxford Street\n",
      "Performing action: Mortgage Trafalgar Square\n",
      "Performing action: Mortgage Bow Street\n",
      "Performing action: End turn\n",
      "Performing action: Mortgage Old Kent Road\n",
      "Performing action: Unmortgage Park Lane\n",
      "Performing action: End turn\n",
      "Performing action: Unmortgage Old Kent Road\n",
      "Performing action: End turn\n",
      "Performing action: End turn\n",
      "Performing action: Mortgage Old Kent Road\n",
      "Performing action: Mortgage Park Lane\n",
      "Performing action: Mortgage Oxford Street\n",
      "Performing action: Unmortgage Trafalgar Square\n",
      "Performing action: Mortgage Trafalgar Square\n",
      "Performing action: Unmortgage Bow Street\n",
      "Performing action: Mortgage Bow Street\n",
      "Performing action: Unmortgage Trafalgar Square\n",
      "Performing action: Mortgage Trafalgar Square\n",
      "Performing action: Unmortgage Bow Street\n",
      "Performing action: Mortgage Bow Street\n",
      "Performing action: Unmortgage Old Kent Road\n",
      "Performing action: Mortgage Old Kent Road\n",
      "Performing action: End turn\n",
      "Performing action: Unmortgage Old Kent Road\n",
      "Performing action: Mortgage Old Kent Road\n",
      "Performing action: End turn\n",
      "Performing action: Unmortgage Bow Street\n",
      "Performing action: End turn\n",
      "Performing action: Mortgage Bow Street\n",
      "No legal actions left\n"
     ]
    }
   ],
   "source": [
    "while not board.is_terminal():\n",
    "    legal_actions = board.get_legal_actions()\n",
    "\n",
    "    if legal_actions:\n",
    "        action = random.choice(legal_actions)\n",
    "        print(f\"Performing action: {action}\")\n",
    "        board.perform_action(action)\n",
    "    else:\n",
    "        print(\"No legal actions left\")"
   ]
  },
  {
   "cell_type": "code",
   "execution_count": 65,
   "metadata": {},
   "outputs": [
    {
     "data": {
      "text/plain": [
       "(True, False)"
      ]
     },
     "execution_count": 65,
     "metadata": {},
     "output_type": "execute_result"
    }
   ],
   "source": [
    "player1.bankrupt, player2.bankrupt"
   ]
  },
  {
   "cell_type": "code",
   "execution_count": 66,
   "metadata": {},
   "outputs": [],
   "source": [
    "board = MonopolyBoardMCTS()\n",
    "player1 = Player('Cat')\n",
    "player2 = Player('Vlad')\n",
    "\n",
    "player1.money = 10000\n",
    "player2.money = 10000\n",
    "\n",
    "board.add_agent(player1)\n",
    "board.add_other_player(player2)"
   ]
  },
  {
   "cell_type": "code",
   "execution_count": 67,
   "metadata": {},
   "outputs": [
    {
     "name": "stdout",
     "output_type": "stream",
     "text": [
      "Performing action: End turn\n",
      "Performing action: End turn\n",
      "Performing action: End turn\n",
      "Performing action: Purchase The Strand\n",
      "Performing action: End turn\n",
      "Performing action: Purchase Fenchurch St. Station\n",
      "Performing action: Mortgage Fenchurch St. Station\n",
      "Performing action: Mortgage The Strand\n",
      "Performing action: Unmortgage Fenchurch St. Station\n",
      "Performing action: Mortgage Fenchurch St. Station\n",
      "Performing action: Unmortgage Fenchurch St. Station\n",
      "Performing action: Unmortgage The Strand\n",
      "Performing action: Mortgage Fenchurch St. Station\n",
      "Performing action: Unmortgage Fenchurch St. Station\n",
      "Performing action: End turn\n",
      "Performing action: Mortgage Fenchurch St. Station\n",
      "Performing action: Mortgage The Strand\n",
      "Performing action: Unmortgage Fenchurch St. Station\n",
      "Performing action: End turn\n",
      "Performing action: End turn\n",
      "Performing action: Unmortgage The Strand\n",
      "Performing action: End turn\n",
      "Performing action: Mortgage Fenchurch St. Station\n",
      "Performing action: Unmortgage Fenchurch St. Station\n",
      "Performing action: End turn\n",
      "Performing action: End turn\n",
      "Performing action: Purchase Regent Street\n",
      "Performing action: Mortgage Regent Street\n",
      "Performing action: Mortgage The Strand\n",
      "Performing action: Unmortgage The Strand\n",
      "Performing action: Unmortgage Regent Street\n",
      "Performing action: Mortgage The Strand\n",
      "Performing action: Mortgage Fenchurch St. Station\n",
      "Performing action: Unmortgage The Strand\n",
      "Performing action: Mortgage Regent Street\n",
      "Performing action: End turn\n",
      "Performing action: End turn\n",
      "Performing action: Unmortgage Regent Street\n",
      "Performing action: Unmortgage Fenchurch St. Station\n",
      "Performing action: Mortgage Regent Street\n",
      "Performing action: Unmortgage Regent Street\n",
      "Performing action: Mortgage The Strand\n",
      "Performing action: End turn\n",
      "Performing action: End turn\n",
      "Performing action: Unmortgage The Strand\n",
      "Performing action: Mortgage The Strand\n",
      "Performing action: Mortgage Regent Street\n",
      "Performing action: End turn\n",
      "Performing action: Unmortgage The Strand\n",
      "Performing action: Mortgage Fenchurch St. Station\n",
      "Performing action: Mortgage The Strand\n",
      "Performing action: Unmortgage Regent Street\n",
      "Performing action: Unmortgage Fenchurch St. Station\n",
      "Performing action: Mortgage Regent Street\n",
      "Performing action: Mortgage Fenchurch St. Station\n",
      "Performing action: Unmortgage Fenchurch St. Station\n",
      "Performing action: Unmortgage Regent Street\n",
      "Performing action: Mortgage Regent Street\n",
      "Performing action: End turn\n",
      "Performing action: Pay 50 to get out of jail\n",
      "Performing action: Mortgage Fenchurch St. Station\n",
      "Performing action: Unmortgage Regent Street\n",
      "Performing action: Mortgage Regent Street\n",
      "Performing action: End turn\n",
      "Performing action: Purchase Liverpool St. Station\n",
      "Performing action: Unmortgage Fenchurch St. Station\n",
      "Performing action: Unmortgage The Strand\n",
      "Performing action: End turn\n",
      "Performing action: Mortgage The Strand\n",
      "Performing action: End turn\n",
      "Performing action: Mortgage Liverpool St. Station\n",
      "Performing action: Unmortgage Regent Street\n",
      "Performing action: End turn\n",
      "Performing action: Unmortgage Liverpool St. Station\n",
      "Performing action: Mortgage Regent Street\n",
      "Performing action: Mortgage Liverpool St. Station\n",
      "Performing action: Mortgage Fenchurch St. Station\n",
      "Performing action: Unmortgage Fenchurch St. Station\n",
      "Performing action: Unmortgage Regent Street\n",
      "Performing action: End turn\n",
      "Performing action: Mortgage Fenchurch St. Station\n",
      "Performing action: Unmortgage The Strand\n",
      "Performing action: Purchase Northumberland Avenue\n",
      "Performing action: Mortgage Northumberland Avenue\n",
      "Performing action: Unmortgage Liverpool St. Station\n",
      "Performing action: End turn\n",
      "Performing action: Mortgage Liverpool St. Station\n",
      "Performing action: End turn\n",
      "Performing action: Mortgage Regent Street\n",
      "Performing action: Mortgage The Strand\n",
      "Performing action: Pay 50 to get out of jail\n",
      "Performing action: End turn\n",
      "Performing action: Unmortgage The Strand\n",
      "Performing action: Unmortgage Regent Street\n",
      "Performing action: Unmortgage Northumberland Avenue\n",
      "Performing action: Unmortgage Liverpool St. Station\n",
      "Performing action: End turn\n",
      "Performing action: Mortgage Liverpool St. Station\n",
      "Performing action: Unmortgage Liverpool St. Station\n",
      "Performing action: Mortgage Northumberland Avenue\n",
      "Performing action: Unmortgage Fenchurch St. Station\n",
      "Performing action: Mortgage Liverpool St. Station\n",
      "Performing action: Mortgage Fenchurch St. Station\n",
      "Performing action: Unmortgage Fenchurch St. Station\n",
      "Performing action: Unmortgage Northumberland Avenue\n",
      "Performing action: Mortgage Fenchurch St. Station\n",
      "Performing action: Pay 50 to get out of jail\n",
      "Performing action: Mortgage The Strand\n",
      "Performing action: Unmortgage Liverpool St. Station\n",
      "Performing action: Mortgage Regent Street\n",
      "Performing action: Unmortgage Regent Street\n",
      "Performing action: End turn\n",
      "Performing action: Mortgage Regent Street\n",
      "Performing action: Mortgage Liverpool St. Station\n",
      "Performing action: End turn\n",
      "Performing action: Mortgage Northumberland Avenue\n",
      "Performing action: End turn\n",
      "Performing action: Unmortgage Fenchurch St. Station\n",
      "Performing action: Unmortgage Regent Street\n",
      "Performing action: Mortgage Fenchurch St. Station\n",
      "Performing action: Unmortgage Liverpool St. Station\n",
      "Performing action: Unmortgage Northumberland Avenue\n",
      "Performing action: End turn\n",
      "Performing action: Unmortgage The Strand\n",
      "Performing action: Mortgage Northumberland Avenue\n",
      "Performing action: Mortgage Liverpool St. Station\n",
      "Performing action: End turn\n",
      "Performing action: Purchase Trafalgar Square\n",
      "Performing action: Unmortgage Northumberland Avenue\n",
      "Performing action: Mortgage Northumberland Avenue\n",
      "Performing action: Unmortgage Liverpool St. Station\n",
      "Performing action: Mortgage Liverpool St. Station\n",
      "Performing action: End turn\n",
      "Performing action: Mortgage Trafalgar Square\n",
      "Performing action: Unmortgage Northumberland Avenue\n",
      "Performing action: Mortgage Northumberland Avenue\n",
      "Performing action: Mortgage The Strand\n",
      "Performing action: End turn\n",
      "Performing action: End turn\n",
      "Performing action: Unmortgage Trafalgar Square\n",
      "Performing action: Unmortgage Liverpool St. Station\n",
      "Performing action: End turn\n",
      "Performing action: Mortgage Liverpool St. Station\n",
      "Performing action: Unmortgage Fenchurch St. Station\n",
      "Performing action: Mortgage Trafalgar Square\n",
      "Performing action: Unmortgage The Strand\n",
      "Performing action: Unmortgage Northumberland Avenue\n",
      "Performing action: Unmortgage Liverpool St. Station\n",
      "Performing action: Mortgage Fenchurch St. Station\n",
      "Performing action: Mortgage The Strand\n",
      "Performing action: Mortgage Regent Street\n",
      "Performing action: Unmortgage Fenchurch St. Station\n",
      "Performing action: Unmortgage Regent Street\n",
      "Performing action: End turn\n",
      "Performing action: Unmortgage The Strand\n",
      "Performing action: Mortgage The Strand\n",
      "Performing action: Unmortgage The Strand\n",
      "Performing action: Mortgage Fenchurch St. Station\n",
      "Performing action: Mortgage The Strand\n",
      "Performing action: Mortgage Northumberland Avenue\n",
      "Performing action: End turn\n",
      "Performing action: End turn\n",
      "Performing action: Unmortgage Trafalgar Square\n",
      "Performing action: Unmortgage Fenchurch St. Station\n",
      "Performing action: Mortgage Fenchurch St. Station\n",
      "Performing action: Unmortgage The Strand\n",
      "Performing action: End turn\n",
      "Performing action: Purchase Oxford Street\n",
      "Performing action: Mortgage Oxford Street\n",
      "Performing action: Mortgage Trafalgar Square\n",
      "Performing action: Mortgage Regent Street\n",
      "Performing action: Unmortgage Trafalgar Square\n",
      "Performing action: Unmortgage Fenchurch St. Station\n",
      "Performing action: Unmortgage Northumberland Avenue\n",
      "Performing action: Mortgage Liverpool St. Station\n",
      "Performing action: Mortgage The Strand\n",
      "Performing action: Unmortgage Regent Street\n",
      "Performing action: Unmortgage The Strand\n",
      "Performing action: End turn\n",
      "Performing action: Unmortgage Oxford Street\n",
      "Performing action: Mortgage Fenchurch St. Station\n",
      "Performing action: End turn\n",
      "Performing action: Mortgage Trafalgar Square\n",
      "Performing action: Mortgage Oxford Street\n",
      "Performing action: Unmortgage Liverpool St. Station\n",
      "Performing action: Mortgage Liverpool St. Station\n",
      "Performing action: Unmortgage Liverpool St. Station\n",
      "Performing action: Mortgage The Strand\n",
      "Performing action: Unmortgage Oxford Street\n",
      "Performing action: End turn\n",
      "Performing action: Mortgage Oxford Street\n",
      "Performing action: End turn\n",
      "Performing action: Unmortgage Oxford Street\n",
      "Performing action: Mortgage Northumberland Avenue\n",
      "Performing action: End turn\n",
      "Performing action: Mortgage Liverpool St. Station\n",
      "Performing action: Unmortgage Liverpool St. Station\n",
      "Performing action: Mortgage Liverpool St. Station\n",
      "Performing action: Mortgage Oxford Street\n",
      "Performing action: End turn\n",
      "Performing action: Unmortgage The Strand\n",
      "Performing action: Unmortgage Fenchurch St. Station\n",
      "Performing action: End turn\n",
      "Performing action: End turn\n",
      "Performing action: Unmortgage Northumberland Avenue\n",
      "Performing action: Unmortgage Trafalgar Square\n",
      "Performing action: Mortgage Trafalgar Square\n",
      "Performing action: Mortgage Regent Street\n",
      "Performing action: Unmortgage Liverpool St. Station\n",
      "Performing action: Mortgage Northumberland Avenue\n",
      "Performing action: Mortgage Fenchurch St. Station\n",
      "Performing action: End turn\n",
      "Performing action: Mortgage The Strand\n",
      "Performing action: Unmortgage Oxford Street\n",
      "Performing action: Mortgage Oxford Street\n",
      "Performing action: Unmortgage Trafalgar Square\n",
      "Performing action: Unmortgage Oxford Street\n",
      "Performing action: Unmortgage Northumberland Avenue\n",
      "Performing action: Unmortgage Fenchurch St. Station\n",
      "Performing action: Mortgage Oxford Street\n",
      "Performing action: Mortgage Liverpool St. Station\n",
      "Performing action: Unmortgage Liverpool St. Station\n",
      "Performing action: Mortgage Fenchurch St. Station\n",
      "Performing action: Mortgage Liverpool St. Station\n",
      "Performing action: Unmortgage The Strand\n",
      "Performing action: Mortgage Northumberland Avenue\n",
      "Performing action: Unmortgage Liverpool St. Station\n",
      "Performing action: Unmortgage Regent Street\n",
      "Performing action: End turn\n",
      "Performing action: Unmortgage Northumberland Avenue\n",
      "Performing action: End turn\n",
      "Performing action: Mortgage Liverpool St. Station\n",
      "Performing action: Mortgage Northumberland Avenue\n",
      "Performing action: Mortgage Regent Street\n",
      "Performing action: End turn\n",
      "Performing action: Unmortgage Liverpool St. Station\n",
      "Performing action: Unmortgage Northumberland Avenue\n",
      "Performing action: End turn\n",
      "Performing action: Mortgage Northumberland Avenue\n",
      "Performing action: Pay 50 to get out of jail\n",
      "Performing action: Unmortgage Fenchurch St. Station\n",
      "Performing action: Unmortgage Northumberland Avenue\n",
      "Performing action: Mortgage Liverpool St. Station\n",
      "Performing action: Unmortgage Regent Street\n",
      "Performing action: Mortgage The Strand\n",
      "Performing action: Unmortgage Liverpool St. Station\n",
      "Performing action: Mortgage Liverpool St. Station\n",
      "Performing action: Mortgage Regent Street\n",
      "Performing action: Mortgage Northumberland Avenue\n",
      "Performing action: End turn\n",
      "Performing action: Unmortgage Regent Street\n",
      "Performing action: Unmortgage The Strand\n",
      "Performing action: Unmortgage Northumberland Avenue\n",
      "Performing action: Mortgage Northumberland Avenue\n",
      "Performing action: Mortgage Regent Street\n",
      "Performing action: Mortgage The Strand\n",
      "Performing action: Unmortgage Northumberland Avenue\n",
      "Performing action: End turn\n",
      "Performing action: Mortgage Fenchurch St. Station\n",
      "Performing action: Mortgage Trafalgar Square\n",
      "Performing action: Unmortgage Oxford Street\n",
      "Performing action: Unmortgage Fenchurch St. Station\n",
      "Performing action: Unmortgage Liverpool St. Station\n",
      "Performing action: Mortgage Fenchurch St. Station\n",
      "Performing action: Unmortgage The Strand\n",
      "Performing action: Mortgage Oxford Street\n",
      "Performing action: Unmortgage Oxford Street\n",
      "Performing action: Unmortgage Regent Street\n",
      "Performing action: Mortgage Northumberland Avenue\n",
      "Performing action: Unmortgage Northumberland Avenue\n",
      "Performing action: End turn\n",
      "Performing action: End turn\n",
      "Performing action: Unmortgage Fenchurch St. Station\n",
      "Performing action: End turn\n",
      "Performing action: Mortgage Fenchurch St. Station\n",
      "Performing action: Mortgage Regent Street\n",
      "Performing action: End turn\n",
      "Performing action: Unmortgage Regent Street\n",
      "Performing action: Unmortgage Fenchurch St. Station\n",
      "Performing action: Mortgage Liverpool St. Station\n",
      "Performing action: Mortgage Regent Street\n",
      "Performing action: Mortgage Fenchurch St. Station\n",
      "Performing action: End turn\n",
      "Performing action: Unmortgage Regent Street\n",
      "Performing action: Mortgage Regent Street\n",
      "Performing action: End turn\n",
      "Performing action: Mortgage Northumberland Avenue\n",
      "Performing action: Unmortgage Regent Street\n",
      "Performing action: Mortgage The Strand\n",
      "Performing action: Mortgage Regent Street\n",
      "Performing action: Unmortgage Trafalgar Square\n",
      "Performing action: Purchase Bond Street\n",
      "Performing action: Mortgage Oxford Street\n",
      "Performing action: Mortgage Bond Street\n",
      "Performing action: Unmortgage Northumberland Avenue\n",
      "Performing action: Buy house on Regent Street\n",
      "Performing action: Sell house on Regent Street\n",
      "Performing action: Unmortgage Fenchurch St. Station\n",
      "Performing action: Unmortgage Liverpool St. Station\n",
      "Performing action: Unmortgage Regent Street\n",
      "Performing action: Buy house on Bond Street\n",
      "Performing action: End turn\n",
      "Performing action: Purchase Whitechapel Road\n",
      "Performing action: Buy house on Oxford Street\n",
      "Performing action: Mortgage Trafalgar Square\n",
      "Performing action: Sell house on Bond Street\n",
      "Performing action: Buy house on Regent Street\n",
      "Performing action: Mortgage Whitechapel Road\n",
      "Performing action: Unmortgage Oxford Street\n",
      "Performing action: Buy house on Bond Street\n",
      "Performing action: Unmortgage The Strand\n",
      "Performing action: Sell house on Regent Street\n",
      "Performing action: Mortgage The Strand\n",
      "Performing action: End turn\n",
      "Performing action: Mortgage Liverpool St. Station\n",
      "Performing action: Unmortgage The Strand\n",
      "Performing action: Mortgage Regent Street\n",
      "Performing action: Buy house on Regent Street\n",
      "Performing action: Buy house on Regent Street\n",
      "Performing action: Unmortgage Liverpool St. Station\n",
      "Performing action: Buy house on Bond Street\n",
      "Performing action: Sell house on Bond Street\n",
      "Performing action: Mortgage The Strand\n",
      "Performing action: Unmortgage Trafalgar Square\n",
      "Performing action: Sell house on Regent Street\n",
      "Performing action: Sell house on Bond Street\n",
      "Performing action: Mortgage Trafalgar Square\n",
      "Performing action: Unmortgage Trafalgar Square\n",
      "Performing action: Mortgage Trafalgar Square\n",
      "Performing action: Buy house on Bond Street\n",
      "Performing action: Unmortgage The Strand\n",
      "Performing action: Mortgage The Strand\n",
      "Performing action: Mortgage Fenchurch St. Station\n",
      "Performing action: Unmortgage Fenchurch St. Station\n",
      "Performing action: Unmortgage Regent Street\n",
      "Performing action: Mortgage Liverpool St. Station\n",
      "Performing action: Buy house on Bond Street\n",
      "Performing action: Buy house on Oxford Street\n",
      "Performing action: Sell house on Bond Street\n",
      "Performing action: Mortgage Fenchurch St. Station\n",
      "Performing action: Buy house on Regent Street\n",
      "Performing action: Unmortgage The Strand\n",
      "Performing action: Buy house on Bond Street\n",
      "Performing action: Sell house on Oxford Street\n",
      "Performing action: Sell house on Bond Street\n",
      "Performing action: Unmortgage Whitechapel Road\n",
      "Performing action: Mortgage Whitechapel Road\n",
      "Performing action: Buy house on Bond Street\n",
      "Performing action: Mortgage The Strand\n",
      "Performing action: Unmortgage Trafalgar Square\n",
      "Performing action: Sell house on Regent Street\n",
      "Performing action: Sell house on Bond Street\n",
      "Performing action: Unmortgage Fenchurch St. Station\n",
      "Performing action: Sell house on Oxford Street\n",
      "Performing action: End turn\n",
      "Performing action: Mortgage Trafalgar Square\n",
      "Performing action: Mortgage Northumberland Avenue\n",
      "Performing action: Sell house on Regent Street\n",
      "Performing action: Mortgage Oxford Street\n",
      "Performing action: Sell house on Bond Street\n",
      "Performing action: Mortgage Regent Street\n",
      "Performing action: Unmortgage Regent Street\n",
      "Performing action: Unmortgage Northumberland Avenue\n",
      "Performing action: Mortgage Regent Street\n",
      "Performing action: Unmortgage The Strand\n",
      "Performing action: Unmortgage Whitechapel Road\n",
      "Performing action: End turn\n",
      "Performing action: Mortgage Fenchurch St. Station\n",
      "Performing action: Mortgage Whitechapel Road\n",
      "Performing action: Unmortgage Fenchurch St. Station\n",
      "Performing action: Mortgage The Strand\n",
      "Performing action: Unmortgage Trafalgar Square\n",
      "Performing action: Mortgage Trafalgar Square\n",
      "Performing action: Unmortgage Liverpool St. Station\n",
      "Performing action: Mortgage Northumberland Avenue\n",
      "Performing action: End turn\n",
      "Performing action: Mortgage Fenchurch St. Station\n",
      "Performing action: Unmortgage Bond Street\n",
      "Performing action: Mortgage Liverpool St. Station\n",
      "Performing action: Unmortgage Liverpool St. Station\n",
      "Performing action: End turn\n",
      "Performing action: Mortgage Bond Street\n",
      "Performing action: Pay 50 to get out of jail\n",
      "Performing action: Unmortgage Northumberland Avenue\n",
      "Performing action: Mortgage Liverpool St. Station\n",
      "Performing action: Mortgage Northumberland Avenue\n",
      "Performing action: Unmortgage Northumberland Avenue\n",
      "Performing action: Unmortgage Whitechapel Road\n",
      "Performing action: End turn\n",
      "Performing action: Mortgage Whitechapel Road\n",
      "Performing action: Unmortgage Fenchurch St. Station\n",
      "Performing action: End turn\n",
      "Performing action: Buy house on Regent Street\n",
      "Performing action: End turn\n",
      "Performing action: Mortgage Fenchurch St. Station\n",
      "Performing action: Unmortgage Fenchurch St. Station\n",
      "Performing action: End turn\n",
      "Performing action: Mortgage Fenchurch St. Station\n",
      "Performing action: End turn\n",
      "Performing action: Unmortgage Whitechapel Road\n",
      "Performing action: Sell house on Regent Street\n",
      "Performing action: Unmortgage Oxford Street\n",
      "Performing action: Mortgage Oxford Street\n",
      "Performing action: Unmortgage Liverpool St. Station\n",
      "Performing action: End turn\n",
      "Performing action: Mortgage Liverpool St. Station\n",
      "Performing action: Pay 50 to get out of jail\n",
      "Performing action: End turn\n",
      "Performing action: Mortgage Whitechapel Road\n",
      "Performing action: End turn\n",
      "Performing action: Mortgage Northumberland Avenue\n",
      "No legal actions left\n"
     ]
    }
   ],
   "source": [
    "while not board.is_terminal():\n",
    "    legal_actions = board.get_legal_actions()\n",
    "\n",
    "    if legal_actions:\n",
    "        action = random.choice(legal_actions)\n",
    "        print(f\"Performing action: {action}\")\n",
    "        board.perform_action(action)\n",
    "    else:\n",
    "        print(\"No legal actions left\")"
   ]
  },
  {
   "cell_type": "code",
   "execution_count": 68,
   "metadata": {},
   "outputs": [
    {
     "data": {
      "text/plain": [
       "(True, False)"
      ]
     },
     "execution_count": 68,
     "metadata": {},
     "output_type": "execute_result"
    }
   ],
   "source": [
    "player1.bankrupt, player2.bankrupt"
   ]
  },
  {
   "cell_type": "markdown",
   "metadata": {},
   "source": [
    "## Testing MCTS class"
   ]
  },
  {
   "cell_type": "code",
   "execution_count": 69,
   "metadata": {},
   "outputs": [],
   "source": [
    "board = MonopolyBoardMCTS()\n",
    "player1 = Player('Cat')\n",
    "player2 = Player('Vlad')\n",
    "\n",
    "board.add_agent(player1)\n",
    "board.add_other_player(player2)"
   ]
  },
  {
   "cell_type": "code",
   "execution_count": 70,
   "metadata": {},
   "outputs": [],
   "source": [
    "mcts = MCTS(board, 10000, exploration_weight = 0.5)"
   ]
  },
  {
   "cell_type": "code",
   "execution_count": 71,
   "metadata": {},
   "outputs": [
    {
     "name": "stderr",
     "output_type": "stream",
     "text": []
    },
    {
     "ename": "TypeError",
     "evalue": "MCTS.uct() takes 2 positional arguments but 3 were given",
     "output_type": "error",
     "traceback": [
      "\u001b[1;31m---------------------------------------------------------------------------\u001b[0m",
      "\u001b[1;31mTypeError\u001b[0m                                 Traceback (most recent call last)",
      "\u001b[1;32mc:\\Users\\cathe\\OneDrive\\Documents\\Capstone - Optimising Monopoly Gameplay Strategies\\Testing\\TestingMCTS.ipynb Cell 27\u001b[0m line \u001b[0;36m1\n\u001b[1;32m----> <a href='vscode-notebook-cell:/c%3A/Users/cathe/OneDrive/Documents/Capstone%20-%20Optimising%20Monopoly%20Gameplay%20Strategies/Testing/TestingMCTS.ipynb#X35sZmlsZQ%3D%3D?line=0'>1</a>\u001b[0m mcts\u001b[39m.\u001b[39;49mrun_game()\n",
      "File \u001b[1;32m~\\OneDrive\\Documents\\Capstone - Optimising Monopoly Gameplay Strategies\\MCTS\\MCTS.py:136\u001b[0m, in \u001b[0;36mMCTS.run_game\u001b[1;34m(self, max_actions)\u001b[0m\n\u001b[0;32m    134\u001b[0m \u001b[39m# play game until a maximum number of actions or game has ended\u001b[39;00m\n\u001b[0;32m    135\u001b[0m \u001b[39mwhile\u001b[39;00m actions \u001b[39m<\u001b[39m max_actions \u001b[39mand\u001b[39;00m \u001b[39mnot\u001b[39;00m \u001b[39mself\u001b[39m\u001b[39m.\u001b[39mroot\u001b[39m.\u001b[39mis_terminal():\n\u001b[1;32m--> 136\u001b[0m     \u001b[39mself\u001b[39;49m\u001b[39m.\u001b[39;49mrun()\n\u001b[0;32m    137\u001b[0m     actions \u001b[39m+\u001b[39m\u001b[39m=\u001b[39m \u001b[39m1\u001b[39m\n\u001b[0;32m    138\u001b[0m     pbar\u001b[39m.\u001b[39mupdate(\u001b[39m1\u001b[39m)\n",
      "File \u001b[1;32m~\\OneDrive\\Documents\\Capstone - Optimising Monopoly Gameplay Strategies\\MCTS\\MCTS.py:121\u001b[0m, in \u001b[0;36mMCTS.run\u001b[1;34m(self)\u001b[0m\n\u001b[0;32m    120\u001b[0m \u001b[39mdef\u001b[39;00m \u001b[39mrun\u001b[39m(\u001b[39mself\u001b[39m):\n\u001b[1;32m--> 121\u001b[0m     best_action \u001b[39m=\u001b[39m \u001b[39mself\u001b[39;49m\u001b[39m.\u001b[39;49msearch()\n\u001b[0;32m    122\u001b[0m     \u001b[39mself\u001b[39m\u001b[39m.\u001b[39mbest_actions\u001b[39m.\u001b[39mappend(best_action)\n\u001b[0;32m    124\u001b[0m     \u001b[39m# perform best action to transition to new root node\u001b[39;00m\n",
      "File \u001b[1;32m~\\OneDrive\\Documents\\Capstone - Optimising Monopoly Gameplay Strategies\\MCTS\\MCTS.py:103\u001b[0m, in \u001b[0;36mMCTS.search\u001b[1;34m(self)\u001b[0m\n\u001b[0;32m    100\u001b[0m node \u001b[39m=\u001b[39m \u001b[39mself\u001b[39m\u001b[39m.\u001b[39mroot\n\u001b[0;32m    102\u001b[0m \u001b[39m# selection phase\u001b[39;00m\n\u001b[1;32m--> 103\u001b[0m node \u001b[39m=\u001b[39m \u001b[39mself\u001b[39;49m\u001b[39m.\u001b[39;49mselection(node)\n\u001b[0;32m    105\u001b[0m \u001b[39m# expansion phase\u001b[39;00m\n\u001b[0;32m    106\u001b[0m \u001b[39mif\u001b[39;00m \u001b[39mnot\u001b[39;00m node\u001b[39m.\u001b[39mis_terminal():\n",
      "File \u001b[1;32m~\\OneDrive\\Documents\\Capstone - Optimising Monopoly Gameplay Strategies\\MCTS\\MCTS.py:41\u001b[0m, in \u001b[0;36mMCTS.selection\u001b[1;34m(self, node)\u001b[0m\n\u001b[0;32m     38\u001b[0m \u001b[39mdef\u001b[39;00m \u001b[39mselection\u001b[39m(\u001b[39mself\u001b[39m, node):\n\u001b[0;32m     39\u001b[0m     \u001b[39m# traverse tree until terminal node or node with unexplored children is reached\u001b[39;00m\n\u001b[0;32m     40\u001b[0m     \u001b[39mwhile\u001b[39;00m \u001b[39mnot\u001b[39;00m node\u001b[39m.\u001b[39mis_terminal() \u001b[39mand\u001b[39;00m \u001b[39mlen\u001b[39m(node\u001b[39m.\u001b[39mchildren) \u001b[39m==\u001b[39m \u001b[39mlen\u001b[39m(node\u001b[39m.\u001b[39mstate\u001b[39m.\u001b[39mget_legal_actions()):\n\u001b[1;32m---> 41\u001b[0m         best_action \u001b[39m=\u001b[39m \u001b[39mself\u001b[39;49m\u001b[39m.\u001b[39;49mselect_best_action(node)\n\u001b[0;32m     43\u001b[0m         \u001b[39mif\u001b[39;00m best_action:\n\u001b[0;32m     44\u001b[0m             node \u001b[39m=\u001b[39m node\u001b[39m.\u001b[39mget_child_with_action(best_action)\n",
      "File \u001b[1;32m~\\OneDrive\\Documents\\Capstone - Optimising Monopoly Gameplay Strategies\\MCTS\\MCTS.py:29\u001b[0m, in \u001b[0;36mMCTS.select_best_action\u001b[1;34m(self, node, exploration_weight)\u001b[0m\n\u001b[0;32m     27\u001b[0m \u001b[39m# find the child node with the highest UCT value\u001b[39;00m\n\u001b[0;32m     28\u001b[0m \u001b[39mfor\u001b[39;00m child \u001b[39min\u001b[39;00m node\u001b[39m.\u001b[39mchildren:\n\u001b[1;32m---> 29\u001b[0m     uct_value \u001b[39m=\u001b[39m \u001b[39mself\u001b[39;49m\u001b[39m.\u001b[39;49muct(child, exploration_weight)\n\u001b[0;32m     31\u001b[0m     \u001b[39m# update best child node choice\u001b[39;00m\n\u001b[0;32m     32\u001b[0m     \u001b[39mif\u001b[39;00m uct_value \u001b[39m>\u001b[39m best_value:\n",
      "\u001b[1;31mTypeError\u001b[0m: MCTS.uct() takes 2 positional arguments but 3 were given"
     ]
    }
   ],
   "source": [
    "mcts.run_game()"
   ]
  },
  {
   "cell_type": "code",
   "execution_count": null,
   "metadata": {},
   "outputs": [
    {
     "data": {
      "text/plain": [
       "['End turn',\n",
       " 'End turn',\n",
       " 'End turn',\n",
       " 'End turn',\n",
       " 'Pay 50 to get out of jail',\n",
       " 'End turn',\n",
       " 'End turn',\n",
       " 'Purchase Coventry Street',\n",
       " 'End turn',\n",
       " 'Mortgage Coventry Street',\n",
       " 'End turn',\n",
       " 'Unmortgage Coventry Street',\n",
       " 'Mortgage Coventry Street',\n",
       " 'Unmortgage Coventry Street',\n",
       " 'End turn',\n",
       " 'End turn',\n",
       " 'End turn',\n",
       " 'End turn',\n",
       " 'End turn',\n",
       " 'End turn',\n",
       " 'End turn',\n",
       " 'Pay 50 to get out of jail',\n",
       " 'End turn',\n",
       " 'End turn',\n",
       " 'Mortgage Coventry Street',\n",
       " 'Unmortgage Coventry Street',\n",
       " 'Pay 50 to get out of jail',\n",
       " 'Mortgage Coventry Street',\n",
       " 'End turn',\n",
       " 'End turn',\n",
       " 'Unmortgage Coventry Street',\n",
       " 'Mortgage Coventry Street',\n",
       " 'End turn',\n",
       " 'Unmortgage Coventry Street',\n",
       " 'End turn',\n",
       " 'Mortgage Coventry Street',\n",
       " 'End turn',\n",
       " 'Purchase Mayfair',\n",
       " 'Mortgage Mayfair',\n",
       " 'Unmortgage Mayfair',\n",
       " 'End turn',\n",
       " 'Unmortgage Coventry Street',\n",
       " 'Mortgage Coventry Street',\n",
       " 'Mortgage Mayfair',\n",
       " 'Unmortgage Coventry Street',\n",
       " 'Mortgage Coventry Street',\n",
       " 'Unmortgage Coventry Street',\n",
       " 'Unmortgage Mayfair',\n",
       " 'Mortgage Coventry Street',\n",
       " 'Unmortgage Coventry Street',\n",
       " 'Mortgage Coventry Street',\n",
       " 'Mortgage Mayfair',\n",
       " 'End turn',\n",
       " 'Unmortgage Coventry Street',\n",
       " 'End turn',\n",
       " 'End turn',\n",
       " 'Unmortgage Mayfair',\n",
       " 'Mortgage Coventry Street',\n",
       " 'Purchase Regent Street',\n",
       " 'Unmortgage Coventry Street',\n",
       " 'Mortgage Coventry Street',\n",
       " 'Mortgage Regent Street',\n",
       " 'Unmortgage Coventry Street',\n",
       " 'End turn',\n",
       " 'Unmortgage Regent Street',\n",
       " 'Mortgage Coventry Street',\n",
       " 'End turn',\n",
       " 'Unmortgage Coventry Street',\n",
       " 'Mortgage Mayfair',\n",
       " 'Unmortgage Mayfair',\n",
       " 'Pay 50 to get out of jail',\n",
       " 'End turn',\n",
       " 'Mortgage Regent Street',\n",
       " 'Mortgage Coventry Street',\n",
       " 'Unmortgage Coventry Street',\n",
       " 'Unmortgage Regent Street',\n",
       " 'Mortgage Coventry Street',\n",
       " 'Unmortgage Coventry Street',\n",
       " 'Mortgage Mayfair',\n",
       " 'Mortgage Regent Street',\n",
       " 'Mortgage Coventry Street',\n",
       " 'Unmortgage Mayfair',\n",
       " 'End turn',\n",
       " 'End turn',\n",
       " 'Unmortgage Coventry Street',\n",
       " 'Unmortgage Regent Street',\n",
       " 'Mortgage Mayfair',\n",
       " 'End turn',\n",
       " 'Mortgage Regent Street',\n",
       " 'Unmortgage Mayfair',\n",
       " 'Unmortgage Regent Street',\n",
       " 'End turn',\n",
       " 'Mortgage Mayfair',\n",
       " 'Mortgage Regent Street',\n",
       " 'Unmortgage Mayfair',\n",
       " 'Mortgage Mayfair',\n",
       " 'End turn',\n",
       " 'Unmortgage Mayfair',\n",
       " 'End turn',\n",
       " 'Unmortgage Regent Street',\n",
       " 'Mortgage Mayfair',\n",
       " 'Purchase Trafalgar Square',\n",
       " 'Mortgage Regent Street',\n",
       " 'End turn',\n",
       " 'End turn',\n",
       " 'Mortgage Trafalgar Square',\n",
       " 'Mortgage Coventry Street',\n",
       " 'Unmortgage Trafalgar Square',\n",
       " 'Mortgage Trafalgar Square',\n",
       " 'End turn',\n",
       " 'Unmortgage Trafalgar Square',\n",
       " 'Unmortgage Regent Street',\n",
       " 'Purchase Whitechapel Road',\n",
       " 'Mortgage Regent Street',\n",
       " 'Unmortgage Coventry Street',\n",
       " 'End turn',\n",
       " 'End turn',\n",
       " 'End turn',\n",
       " 'Mortgage Trafalgar Square',\n",
       " 'Mortgage Whitechapel Road',\n",
       " 'Mortgage Coventry Street',\n",
       " 'End turn',\n",
       " 'End turn',\n",
       " 'Pay 50 to get out of jail',\n",
       " 'End turn',\n",
       " 'Unmortgage Trafalgar Square',\n",
       " 'Mortgage Trafalgar Square',\n",
       " 'Unmortgage Whitechapel Road',\n",
       " 'Mortgage Whitechapel Road',\n",
       " 'End turn']"
      ]
     },
     "execution_count": 23,
     "metadata": {},
     "output_type": "execute_result"
    }
   ],
   "source": [
    "mcts.best_actions"
   ]
  },
  {
   "cell_type": "code",
   "execution_count": null,
   "metadata": {},
   "outputs": [
    {
     "data": {
      "text/plain": [
       "45"
      ]
     },
     "execution_count": 24,
     "metadata": {},
     "output_type": "execute_result"
    }
   ],
   "source": [
    "mcts.root.state.rounds"
   ]
  },
  {
   "cell_type": "code",
   "execution_count": null,
   "metadata": {},
   "outputs": [
    {
     "data": {
      "text/plain": [
       "Player Cat is currently as position 35 on the board, with $123.0.             \n",
       " They hold the following properties: ['Coventry Street', 'Mayfair', 'Regent Street', 'Trafalgar Square', 'Whitechapel Road'].            \n",
       " They hold the following stations: []            \n",
       " They hold the following utilities: []            \n",
       " The player has 0 houses and 0 hotels             \n",
       " The player is currently not in jail."
      ]
     },
     "execution_count": 25,
     "metadata": {},
     "output_type": "execute_result"
    }
   ],
   "source": [
    "mcts.root.state.agent"
   ]
  },
  {
   "cell_type": "code",
   "execution_count": null,
   "metadata": {},
   "outputs": [
    {
     "name": "stdout",
     "output_type": "stream",
     "text": [
      "Coventry Street True 0 False\n",
      "Mayfair True 0 False\n",
      "Regent Street True 0 False\n",
      "Trafalgar Square True 0 False\n",
      "Whitechapel Road True 0 False\n"
     ]
    }
   ],
   "source": [
    "for prop in mcts.root.state.agent.properties:\n",
    "    print(prop.name, prop.is_mortgaged, prop.num_houses, prop.hotel)"
   ]
  },
  {
   "cell_type": "code",
   "execution_count": null,
   "metadata": {},
   "outputs": [
    {
     "data": {
      "text/plain": [
       "[Player Vlad is currently as position 15 on the board, with $2092.             \n",
       "  They hold the following properties: ['Euston Road', 'Bow Street', 'Leicester Square', 'Marlborough Street', 'Piccadilly', 'The Angel Islington', 'Pentonville Road'].            \n",
       "  They hold the following stations: ['Liverpool St. Station', \"King's Cross Station\", 'Marylebone Station', 'Fenchurch St. Station']            \n",
       "  They hold the following utilities: ['Electric Company']            \n",
       "  The player has 3 houses and 0 hotels             \n",
       "  The player is currently not in jail.]"
      ]
     },
     "execution_count": 27,
     "metadata": {},
     "output_type": "execute_result"
    }
   ],
   "source": [
    "mcts.root.state.other_players"
   ]
  },
  {
   "cell_type": "code",
   "execution_count": null,
   "metadata": {},
   "outputs": [
    {
     "name": "stdout",
     "output_type": "stream",
     "text": [
      "Euston Road False 1 False\n",
      "Bow Street False 0 False\n",
      "Leicester Square False 0 False\n",
      "Marlborough Street False 0 False\n",
      "Piccadilly False 0 False\n",
      "The Angel Islington False 1 False\n",
      "Pentonville Road False 1 False\n"
     ]
    }
   ],
   "source": [
    "for prop in mcts.root.state.other_players[0].properties:\n",
    "    print(prop.name, prop.is_mortgaged, prop.num_houses, prop.hotel)"
   ]
  },
  {
   "cell_type": "code",
   "execution_count": null,
   "metadata": {},
   "outputs": [
    {
     "data": {
      "text/plain": [
       "[('Cat', True), ('Vlad', False)]"
      ]
     },
     "execution_count": 29,
     "metadata": {},
     "output_type": "execute_result"
    }
   ],
   "source": [
    "[(player.name, player.bankrupt) for player in mcts.root.state.players]"
   ]
  },
  {
   "cell_type": "code",
   "execution_count": null,
   "metadata": {},
   "outputs": [],
   "source": []
  }
 ],
 "metadata": {
  "kernelspec": {
   "display_name": "Python 3",
   "language": "python",
   "name": "python3"
  },
  "language_info": {
   "codemirror_mode": {
    "name": "ipython",
    "version": 3
   },
   "file_extension": ".py",
   "mimetype": "text/x-python",
   "name": "python",
   "nbconvert_exporter": "python",
   "pygments_lexer": "ipython3",
   "version": "3.10.2"
  }
 },
 "nbformat": 4,
 "nbformat_minor": 2
}
