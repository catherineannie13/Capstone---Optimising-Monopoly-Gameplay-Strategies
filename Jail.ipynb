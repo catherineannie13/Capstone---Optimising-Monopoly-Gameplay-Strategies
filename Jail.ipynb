{
 "cells": [
  {
   "cell_type": "code",
   "execution_count": null,
   "metadata": {},
   "outputs": [],
   "source": [
    "class Jail:\n",
    "    def __init__(self, loc):\n",
    "        self.type = \"Jail\"\n",
    "        self.loc = loc"
   ]
  }
 ],
 "metadata": {
  "language_info": {
   "name": "python"
  }
 },
 "nbformat": 4,
 "nbformat_minor": 2
}
