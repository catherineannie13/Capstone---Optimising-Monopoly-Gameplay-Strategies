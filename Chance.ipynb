{
 "cells": [
  {
   "cell_type": "code",
   "execution_count": null,
   "metadata": {},
   "outputs": [],
   "source": [
    "class Chance:\n",
    "    def __init__(self, locs):\n",
    "        self.type = \"Chance\"\n",
    "        self.loc = locs\n",
    "        self.cards = [\n",
    "            \"Advance to Go.\",\n",
    "            \"Advance to Trafalgar Square. If you pass Go, collect £200.\",\n",
    "            \"Advance to Mayfair. If you pass Go, collect £200.\",\n",
    "            \"Advance to Pall Mall. If you pass Go, collect £200.\",\n",
    "            \"Advance to the nearest Station. If unowned, you may buy it from the Bank. If owned, pay the owner twice the rental to which they are otherwise entitled.\",\n",
    "            \"Advance to the nearest Station. If unowned, you may buy it from the Bank. If owned, pay the owner twice the rental to which they are otherwise entitled.\",\n",
    "            \"Advance token to nearest Utility. If unowned, you may buy it from the Bank. If owned, throw dice and pay owner a total ten times the amount thrown.\",\n",
    "            \"Bank pays you a dividend of £50.\",\n",
    "            \"Get Out of Jail Free.\",\n",
    "            \"Go back 3 Spaces.\",\n",
    "            \"Go to Jail. Go directly to Jail, do not pass Go, do not collect £200.\",\n",
    "            \"Make general repairs on all your property. For each house pay £25. For each hotel pay £100\",\n",
    "            \"Speeding fine £15.\",\n",
    "            \"Take a trip to King's Cross Station. If you pass Go, collect £200.\",\n",
    "            \"You have been elected Chairman of the Board. Pay each player £50.\",\n",
    "            \"Your building loan matures. Collect £150.\"\n",
    "        ]\n",
    "        random.shuffle(self.cards)\n",
    "        self.top_card_idx = 0\n",
    "\n",
    "    def choose_card(self):\n",
    "        card = self.cards[self.top_card_idx]\n",
    "        self.top_card_idx = (self.top_card_idx + 1) % len(self.cards)\n",
    "        return card\n",
    "            "
   ]
  }
 ],
 "metadata": {
  "language_info": {
   "name": "python"
  }
 },
 "nbformat": 4,
 "nbformat_minor": 2
}
