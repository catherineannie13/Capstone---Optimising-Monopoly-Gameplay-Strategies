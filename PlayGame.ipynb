{
 "cells": [
  {
   "cell_type": "code",
   "execution_count": 26,
   "metadata": {},
   "outputs": [],
   "source": [
    "%run \"C:\\\\Users\\\\cathe\\\\OneDrive\\\\Documents\\\\Capstone - Optimising Monopoly Gameplay Strategies\\\\Player.py\"\n",
    "%run \"C:\\\\Users\\\\cathe\\\\OneDrive\\\\Documents\\\\Capstone - Optimising Monopoly Gameplay Strategies\\\\Property.py\"\n",
    "%run \"C:\\\\Users\\\\cathe\\\\OneDrive\\\\Documents\\\\Capstone - Optimising Monopoly Gameplay Strategies\\\\Utility.py\"\n",
    "%run \"C:\\\\Users\\\\cathe\\\\OneDrive\\\\Documents\\\\Capstone - Optimising Monopoly Gameplay Strategies\\\\Station.py\"\n",
    "%run \"C:\\\\Users\\\\cathe\\\\OneDrive\\\\Documents\\\\Capstone - Optimising Monopoly Gameplay Strategies\\\\Chance.py\"\n",
    "%run \"C:\\\\Users\\\\cathe\\\\OneDrive\\\\Documents\\\\Capstone - Optimising Monopoly Gameplay Strategies\\\\Tax.py\"\n",
    "%run \"C:\\\\Users\\\\cathe\\\\OneDrive\\\\Documents\\\\Capstone - Optimising Monopoly Gameplay Strategies\\\\Go.py\"\n",
    "%run \"C:\\\\Users\\\\cathe\\\\OneDrive\\\\Documents\\\\Capstone - Optimising Monopoly Gameplay Strategies\\\\Jail.py\"\n",
    "%run \"C:\\\\Users\\\\cathe\\\\OneDrive\\\\Documents\\\\Capstone - Optimising Monopoly Gameplay Strategies\\\\FreeParking.py\"\n",
    "%run \"C:\\\\Users\\\\cathe\\\\OneDrive\\\\Documents\\\\Capstone - Optimising Monopoly Gameplay Strategies\\\\GoToJail.py\"\n",
    "%run \"C:\\\\Users\\\\cathe\\\\OneDrive\\\\Documents\\\\Capstone - Optimising Monopoly Gameplay Strategies\\\\CommunityChest.py\"\n",
    "%run \"C:\\\\Users\\\\cathe\\\\OneDrive\\\\Documents\\\\Capstone - Optimising Monopoly Gameplay Strategies\\\\MonopolyBoard.py\""
   ]
  },
  {
   "cell_type": "code",
   "execution_count": 27,
   "metadata": {},
   "outputs": [],
   "source": [
    "import random\n",
    "import numpy as np"
   ]
  },
  {
   "cell_type": "code",
   "execution_count": 28,
   "metadata": {},
   "outputs": [
    {
     "name": "stdout",
     "output_type": "stream",
     "text": [
      "[<__main__.Go object at 0x00000140EAFAA770>, <__main__.Property object at 0x00000140EAFA9AE0>, <__main__.CommunityChest object at 0x00000140EAFA9FC0>, <__main__.Property object at 0x00000140EAFAAE00>, <__main__.Tax object at 0x00000140EAFA8580>, <__main__.Station object at 0x00000140EAFAAB00>, <__main__.Property object at 0x00000140EAFAAA70>, <__main__.Chance object at 0x00000140EAFAB310>, <__main__.Property object at 0x00000140EAFA8F40>, <__main__.Property object at 0x00000140EAFA9150>, <__main__.Jail object at 0x00000140EAFAB850>, <__main__.Property object at 0x00000140EAFA8E80>, <__main__.Utility object at 0x00000140EAFA9270>, <__main__.Property object at 0x00000140EAFAA0E0>, <__main__.Property object at 0x00000140EAFA9210>, <__main__.Station object at 0x00000140EAFABAC0>, <__main__.Property object at 0x00000140EAFAAA40>, <__main__.CommunityChest object at 0x00000140EAFA9240>, <__main__.Property object at 0x00000140EAFA9B70>, <__main__.Property object at 0x00000140EAFA8970>, <__main__.FreeParking object at 0x00000140EAFABD30>, <__main__.Property object at 0x00000140EAFA8E50>, <__main__.Chance object at 0x00000140EAFABA00>, <__main__.Property object at 0x00000140EAFAAB30>, <__main__.Property object at 0x00000140EAFA8FA0>, <__main__.Station object at 0x00000140EAFAA2C0>, <__main__.Property object at 0x00000140EAFAB520>, <__main__.Property object at 0x00000140EAFA9D50>, <__main__.Utility object at 0x00000140EAFAAFE0>, <__main__.Property object at 0x00000140EAFA9840>, <__main__.GoToJail object at 0x00000140EAFA9F00>, <__main__.Property object at 0x00000140EAFAB550>, <__main__.Property object at 0x00000140EAFAB5E0>, <__main__.CommunityChest object at 0x00000140EAFA8D90>, <__main__.Property object at 0x00000140EAFAA260>, <__main__.Station object at 0x00000140EAFAAEC0>, <__main__.Chance object at 0x00000140EAFA98D0>, <__main__.Property object at 0x00000140EAFAA290>, <__main__.Tax object at 0x00000140EAFAAE90>, <__main__.Property object at 0x00000140EAFA8C10>]\n"
     ]
    }
   ],
   "source": [
    "board = MonopolyBoard()\n",
    "print(board.board)\n",
    "\n",
    "# Add players to the game\n",
    "#board.add_player(Player(\"Player 1\"))\n",
    "#board.add_player(Player(\"Player 2\"))\n",
    "\n",
    "# Start the game\n",
    "#board.play_game()"
   ]
  },
  {
   "cell_type": "code",
   "execution_count": 29,
   "metadata": {},
   "outputs": [
    {
     "name": "stdout",
     "output_type": "stream",
     "text": [
      "<__main__.Go object at 0x00000140EAFAA770>\n",
      "<__main__.Property object at 0x00000140EAFA9AE0>\n",
      "<__main__.CommunityChest object at 0x00000140EAFA9FC0>\n",
      "<__main__.Property object at 0x00000140EAFAAE00>\n",
      "<__main__.Tax object at 0x00000140EAFA8580>\n",
      "<__main__.Station object at 0x00000140EAFAAB00>\n",
      "<__main__.Property object at 0x00000140EAFAAA70>\n",
      "<__main__.Chance object at 0x00000140EAFAB310>\n",
      "<__main__.Property object at 0x00000140EAFA8F40>\n",
      "<__main__.Property object at 0x00000140EAFA9150>\n",
      "<__main__.Jail object at 0x00000140EAFAB850>\n",
      "<__main__.Property object at 0x00000140EAFA8E80>\n",
      "<__main__.Utility object at 0x00000140EAFA9270>\n",
      "<__main__.Property object at 0x00000140EAFAA0E0>\n",
      "<__main__.Property object at 0x00000140EAFA9210>\n",
      "<__main__.Station object at 0x00000140EAFABAC0>\n",
      "<__main__.Property object at 0x00000140EAFAAA40>\n",
      "<__main__.CommunityChest object at 0x00000140EAFA9240>\n",
      "<__main__.Property object at 0x00000140EAFA9B70>\n",
      "<__main__.Property object at 0x00000140EAFA8970>\n",
      "<__main__.FreeParking object at 0x00000140EAFABD30>\n",
      "<__main__.Property object at 0x00000140EAFA8E50>\n",
      "<__main__.Chance object at 0x00000140EAFABA00>\n",
      "<__main__.Property object at 0x00000140EAFAAB30>\n",
      "<__main__.Property object at 0x00000140EAFA8FA0>\n",
      "<__main__.Station object at 0x00000140EAFAA2C0>\n",
      "<__main__.Property object at 0x00000140EAFAB520>\n",
      "<__main__.Property object at 0x00000140EAFA9D50>\n",
      "<__main__.Utility object at 0x00000140EAFAAFE0>\n",
      "<__main__.Property object at 0x00000140EAFA9840>\n",
      "<__main__.GoToJail object at 0x00000140EAFA9F00>\n",
      "<__main__.Property object at 0x00000140EAFAB550>\n",
      "<__main__.Property object at 0x00000140EAFAB5E0>\n",
      "<__main__.CommunityChest object at 0x00000140EAFA8D90>\n",
      "<__main__.Property object at 0x00000140EAFAA260>\n",
      "<__main__.Station object at 0x00000140EAFAAEC0>\n",
      "<__main__.Chance object at 0x00000140EAFA98D0>\n",
      "<__main__.Property object at 0x00000140EAFAA290>\n",
      "<__main__.Tax object at 0x00000140EAFAAE90>\n",
      "<__main__.Property object at 0x00000140EAFA8C10>\n"
     ]
    }
   ],
   "source": [
    "for i in board.board:\n",
    "    print(i)"
   ]
  },
  {
   "cell_type": "code",
   "execution_count": null,
   "metadata": {},
   "outputs": [],
   "source": []
  }
 ],
 "metadata": {
  "kernelspec": {
   "display_name": "Python 3",
   "language": "python",
   "name": "python3"
  },
  "language_info": {
   "codemirror_mode": {
    "name": "ipython",
    "version": 3
   },
   "file_extension": ".py",
   "mimetype": "text/x-python",
   "name": "python",
   "nbconvert_exporter": "python",
   "pygments_lexer": "ipython3",
   "version": "3.10.2"
  }
 },
 "nbformat": 4,
 "nbformat_minor": 2
}
