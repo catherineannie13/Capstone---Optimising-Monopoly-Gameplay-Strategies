{
 "cells": [
  {
   "cell_type": "code",
   "execution_count": 16,
   "metadata": {},
   "outputs": [],
   "source": [
    "%run \"C:\\\\Users\\\\cathe\\\\OneDrive\\\\Documents\\\\Capstone - Optimising Monopoly Gameplay Strategies\\\\Player.ipynb\"\n",
    "%run \"C:\\\\Users\\\\cathe\\\\OneDrive\\\\Documents\\\\Capstone - Optimising Monopoly Gameplay Strategies\\\\Property.ipynb\"\n",
    "%run \"C:\\\\Users\\\\cathe\\\\OneDrive\\\\Documents\\\\Capstone - Optimising Monopoly Gameplay Strategies\\\\Utility.ipynb\"\n",
    "%run \"C:\\\\Users\\\\cathe\\\\OneDrive\\\\Documents\\\\Capstone - Optimising Monopoly Gameplay Strategies\\\\Station.ipynb\"\n",
    "%run \"C:\\\\Users\\\\cathe\\\\OneDrive\\\\Documents\\\\Capstone - Optimising Monopoly Gameplay Strategies\\\\Chance.ipynb\"\n",
    "%run \"C:\\\\Users\\\\cathe\\\\OneDrive\\\\Documents\\\\Capstone - Optimising Monopoly Gameplay Strategies\\\\Tax.ipynb\"\n",
    "%run \"C:\\\\Users\\\\cathe\\\\OneDrive\\\\Documents\\\\Capstone - Optimising Monopoly Gameplay Strategies\\\\CommunityChest.ipynb\"\n",
    "%run \"C:\\\\Users\\\\cathe\\\\OneDrive\\\\Documents\\\\Capstone - Optimising Monopoly Gameplay Strategies\\\\MonopolyBoard.ipynb\""
   ]
  },
  {
   "cell_type": "code",
   "execution_count": 17,
   "metadata": {},
   "outputs": [],
   "source": [
    "import random\n",
    "import numpy as np"
   ]
  },
  {
   "cell_type": "code",
   "execution_count": 18,
   "metadata": {},
   "outputs": [
    {
     "name": "stdout",
     "output_type": "stream",
     "text": [
      "[None, <__main__.Property object at 0x00000140DB1CB1C0>, <__main__.Tax object at 0x00000140EAFA9600>, <__main__.Property object at 0x00000140DB1CAA10>, None, <__main__.Station object at 0x00000140EAD867A0>, <__main__.Property object at 0x00000140EAD87EE0>, <__main__.Chance object at 0x00000140DB1F60B0>, <__main__.Property object at 0x00000140EAD87610>, <__main__.Property object at 0x00000140EAD86FE0>, None, <__main__.Property object at 0x00000140EAD87730>, <__main__.Utility object at 0x00000140DB1F6E90>, <__main__.Property object at 0x00000140EAD87220>, <__main__.Property object at 0x00000140EAD87FD0>, <__main__.Station object at 0x00000140EAD87160>, <__main__.Property object at 0x00000140EAD86680>, <__main__.CommunityChest object at 0x00000140EAFA9540>, <__main__.Property object at 0x00000140EAD872B0>, <__main__.Property object at 0x00000140EAD866B0>, None, <__main__.Property object at 0x00000140EAD86170>, <__main__.Chance object at 0x00000140DB1F7130>, <__main__.Property object at 0x00000140EAD87100>, <__main__.Property object at 0x00000140EAD872E0>, <__main__.Station object at 0x00000140DB1F6FB0>, <__main__.Property object at 0x00000140EAD87280>, <__main__.Property object at 0x00000140EAD86860>, <__main__.Utility object at 0x00000140DB1F4AF0>, <__main__.Property object at 0x00000140EAD87070>, None, <__main__.Property object at 0x00000140EAD87940>, <__main__.Property object at 0x00000140EAD86C80>, <__main__.CommunityChest object at 0x00000140EAFA95A0>, <__main__.Property object at 0x00000140EAD87F10>, <__main__.Station object at 0x00000140DB1F6AA0>, <__main__.Chance object at 0x00000140DB1F6410>, <__main__.Property object at 0x00000140EAD87E80>, <__main__.Tax object at 0x00000140EAFA9660>, <__main__.Property object at 0x00000140EAD87700>]\n"
     ]
    }
   ],
   "source": [
    "board = MonopolyBoard()\n",
    "print(board.board)\n",
    "\n",
    "# Add players to the game\n",
    "#board.add_player(Player(\"Player 1\"))\n",
    "#board.add_player(Player(\"Player 2\"))\n",
    "\n",
    "# Start the game\n",
    "#board.play_game()"
   ]
  },
  {
   "cell_type": "code",
   "execution_count": 21,
   "metadata": {},
   "outputs": [
    {
     "name": "stdout",
     "output_type": "stream",
     "text": [
      "None\n",
      "<__main__.Property object at 0x00000140DB1CB1C0>\n",
      "<__main__.Tax object at 0x00000140EAFA9600>\n",
      "<__main__.Property object at 0x00000140DB1CAA10>\n",
      "None\n",
      "<__main__.Station object at 0x00000140EAD867A0>\n",
      "<__main__.Property object at 0x00000140EAD87EE0>\n",
      "<__main__.Chance object at 0x00000140DB1F60B0>\n",
      "<__main__.Property object at 0x00000140EAD87610>\n",
      "<__main__.Property object at 0x00000140EAD86FE0>\n",
      "None\n",
      "<__main__.Property object at 0x00000140EAD87730>\n",
      "<__main__.Utility object at 0x00000140DB1F6E90>\n",
      "<__main__.Property object at 0x00000140EAD87220>\n",
      "<__main__.Property object at 0x00000140EAD87FD0>\n",
      "<__main__.Station object at 0x00000140EAD87160>\n",
      "<__main__.Property object at 0x00000140EAD86680>\n",
      "<__main__.CommunityChest object at 0x00000140EAFA9540>\n",
      "<__main__.Property object at 0x00000140EAD872B0>\n",
      "<__main__.Property object at 0x00000140EAD866B0>\n",
      "None\n",
      "<__main__.Property object at 0x00000140EAD86170>\n",
      "<__main__.Chance object at 0x00000140DB1F7130>\n",
      "<__main__.Property object at 0x00000140EAD87100>\n",
      "<__main__.Property object at 0x00000140EAD872E0>\n",
      "<__main__.Station object at 0x00000140DB1F6FB0>\n",
      "<__main__.Property object at 0x00000140EAD87280>\n",
      "<__main__.Property object at 0x00000140EAD86860>\n",
      "<__main__.Utility object at 0x00000140DB1F4AF0>\n",
      "<__main__.Property object at 0x00000140EAD87070>\n",
      "None\n",
      "<__main__.Property object at 0x00000140EAD87940>\n",
      "<__main__.Property object at 0x00000140EAD86C80>\n",
      "<__main__.CommunityChest object at 0x00000140EAFA95A0>\n",
      "<__main__.Property object at 0x00000140EAD87F10>\n",
      "<__main__.Station object at 0x00000140DB1F6AA0>\n",
      "<__main__.Chance object at 0x00000140DB1F6410>\n",
      "<__main__.Property object at 0x00000140EAD87E80>\n",
      "<__main__.Tax object at 0x00000140EAFA9660>\n",
      "<__main__.Property object at 0x00000140EAD87700>\n"
     ]
    }
   ],
   "source": [
    "for i in board.board:\n",
    "    print(i)"
   ]
  },
  {
   "cell_type": "code",
   "execution_count": null,
   "metadata": {},
   "outputs": [],
   "source": []
  }
 ],
 "metadata": {
  "kernelspec": {
   "display_name": "Python 3",
   "language": "python",
   "name": "python3"
  },
  "language_info": {
   "codemirror_mode": {
    "name": "ipython",
    "version": 3
   },
   "file_extension": ".py",
   "mimetype": "text/x-python",
   "name": "python",
   "nbconvert_exporter": "python",
   "pygments_lexer": "ipython3",
   "version": "3.10.2"
  }
 },
 "nbformat": 4,
 "nbformat_minor": 2
}
