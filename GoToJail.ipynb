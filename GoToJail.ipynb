{
 "cells": [
  {
   "cell_type": "code",
   "execution_count": null,
   "metadata": {},
   "outputs": [],
   "source": [
    "class GoToJail:\n",
    "    def __init__(self, loc):\n",
    "        self.type = \"Go To Jail\"\n",
    "        self.loc = loc"
   ]
  }
 ],
 "metadata": {
  "language_info": {
   "name": "python"
  }
 },
 "nbformat": 4,
 "nbformat_minor": 2
}
