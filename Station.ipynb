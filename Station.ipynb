{
 "cells": [
  {
   "cell_type": "code",
   "execution_count": null,
   "metadata": {},
   "outputs": [],
   "source": [
    "class Station:\n",
    "    def __init__(self, name, price, rent_one, rent_two, rent_three, rent_four):\n",
    "        self.name = name\n",
    "        self.price = price\n",
    "        self.rent_one = rent_one\n",
    "        self.rent_two = rent_two\n",
    "        self.rent_three = rent_three\n",
    "        self.rent_four = rent_four\n",
    "        self.owner = None\n",
    "\n",
    "    def calculate_rent(self, dice_roll, stations_owned):\n",
    "        if self.owner:\n",
    "            if self.num_houses == 0:\n",
    "                return self.rent\n",
    "            elif self.hotel:\n",
    "                return self.hotel_rent\n",
    "            else:\n",
    "                return self.house_rent[self.num_houses - 1]\n",
    "        else:\n",
    "            return 0"
   ]
  }
 ],
 "metadata": {
  "language_info": {
   "name": "python"
  }
 },
 "nbformat": 4,
 "nbformat_minor": 2
}
