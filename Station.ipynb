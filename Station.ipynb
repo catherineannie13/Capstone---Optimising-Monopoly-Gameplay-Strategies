{
 "cells": [
  {
   "cell_type": "code",
   "execution_count": null,
   "metadata": {},
   "outputs": [],
   "source": [
    "class Station:\n",
    "    def __init__(self, name, price, rent_one, rent_two, rent_three, rent_four):\n",
    "        self.name = name\n",
    "        self.price = price\n",
    "        self.rents = [rent_one, rent_two, rent_three, rent_four]\n",
    "        self.owner = None\n",
    "\n",
    "    def calculate_rent(self, stations_owned):\n",
    "        if self.owner:\n",
    "            return self.rents[stations_owned - 1]\n",
    "        else:\n",
    "            return 0"
   ]
  }
 ],
 "metadata": {
  "language_info": {
   "name": "python"
  }
 },
 "nbformat": 4,
 "nbformat_minor": 2
}
