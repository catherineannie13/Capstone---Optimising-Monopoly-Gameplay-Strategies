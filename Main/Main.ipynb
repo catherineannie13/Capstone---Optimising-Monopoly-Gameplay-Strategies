{
 "cells": [
  {
   "cell_type": "code",
   "execution_count": null,
   "metadata": {},
   "outputs": [],
   "source": [
    "# imports"
   ]
  },
  {
   "cell_type": "code",
   "execution_count": null,
   "metadata": {},
   "outputs": [],
   "source": [
    "if __name__ == \"__main__\":\n",
    "    monopoly_game = MonopolyGame()\n",
    "    mcts = MCTS(root_state=monopoly_game, max_iterations=1000)\n",
    "\n",
    "    while not monopoly_game.is_terminal():\n",
    "        # use MCTS to select the best action\n",
    "        best_action = mcts.search()\n",
    "\n",
    "        # perform the selected action in the game\n",
    "        monopoly_game.perform_action(best_action)\n",
    "\n",
    "    # get the final result and display the winner\n",
    "    winner = monopoly_game.get_winner()\n",
    "    print(f\"The winner is Player {winner}\")"
   ]
  }
 ],
 "metadata": {
  "language_info": {
   "name": "python"
  }
 },
 "nbformat": 4,
 "nbformat_minor": 2
}
