{
 "cells": [
  {
   "cell_type": "code",
   "execution_count": 1,
   "metadata": {},
   "outputs": [],
   "source": [
    "import random\n",
    "import json\n",
    "import matplotlib.pyplot as plt\n",
    "import plotly.express as px\n",
    "import numpy as np\n",
    "from scipy.stats import norm\n",
    "from tqdm import tqdm\n",
    "import pandas as pd\n",
    "from tabulate import tabulate\n",
    "\n",
    "%run -i \"C:\\\\Users\\\\cathe\\\\OneDrive\\\\Documents\\\\Capstone - Optimising Monopoly Gameplay Strategies\\\\Simulation Classes\\\\Player.py\"\n",
    "%run -i \"C:\\\\Users\\\\cathe\\\\OneDrive\\\\Documents\\\\Capstone - Optimising Monopoly Gameplay Strategies\\\\Simulation Classes\\\\Street.py\"\n",
    "%run -i \"C:\\\\Users\\\\cathe\\\\OneDrive\\\\Documents\\\\Capstone - Optimising Monopoly Gameplay Strategies\\\\Simulation Classes\\\\Utility.py\"\n",
    "%run -i \"C:\\\\Users\\\\cathe\\\\OneDrive\\\\Documents\\\\Capstone - Optimising Monopoly Gameplay Strategies\\\\Simulation Classes\\\\Station.py\"\n",
    "%run -i \"C:\\\\Users\\\\cathe\\\\OneDrive\\\\Documents\\\\Capstone - Optimising Monopoly Gameplay Strategies\\\\Simulation Classes\\\\Chance.py\"\n",
    "%run -i \"C:\\\\Users\\\\cathe\\\\OneDrive\\\\Documents\\\\Capstone - Optimising Monopoly Gameplay Strategies\\\\Simulation Classes\\\\Tax.py\"\n",
    "%run -i \"C:\\\\Users\\\\cathe\\\\OneDrive\\\\Documents\\\\Capstone - Optimising Monopoly Gameplay Strategies\\\\Simulation Classes\\\\Go.py\"\n",
    "%run -i \"C:\\\\Users\\\\cathe\\\\OneDrive\\\\Documents\\\\Capstone - Optimising Monopoly Gameplay Strategies\\\\Simulation Classes\\\\Jail.py\"\n",
    "%run -i \"C:\\\\Users\\\\cathe\\\\OneDrive\\\\Documents\\\\Capstone - Optimising Monopoly Gameplay Strategies\\\\Simulation Classes\\\\FreeParking.py\"\n",
    "%run -i \"C:\\\\Users\\\\cathe\\\\OneDrive\\\\Documents\\\\Capstone - Optimising Monopoly Gameplay Strategies\\\\Simulation Classes\\\\GoToJail.py\"\n",
    "%run -i \"C:\\\\Users\\\\cathe\\\\OneDrive\\\\Documents\\\\Capstone - Optimising Monopoly Gameplay Strategies\\\\Simulation Classes\\\\CommunityChest.py\"\n",
    "%run -i \"C:\\\\Users\\\\cathe\\\\OneDrive\\\\Documents\\\\Capstone - Optimising Monopoly Gameplay Strategies\\\\Simulation Classes\\\\MonopolyBoard.py\"\n",
    "%run -i \"C:\\\\Users\\\\cathe\\\\OneDrive\\\\Documents\\\\Capstone - Optimising Monopoly Gameplay Strategies\\\\Simulation Classes\\\\Strategy.py\"\n",
    "%run -i \"C:\\\\Users\\\\cathe\\\\OneDrive\\\\Documents\\\\Capstone - Optimising Monopoly Gameplay Strategies\\\\Simulation Classes\\\\RandomStrategy.py\"\n",
    "\n",
    "%run -i \"C:\\\\Users\\\\cathe\\\\OneDrive\\\\Documents\\\\Capstone - Optimising Monopoly Gameplay Strategies\\\\MCTS\\\\MonopolyBoardMCTS.py\"\n",
    "%run -i \"C:\\\\Users\\\\cathe\\\\OneDrive\\\\Documents\\\\Capstone - Optimising Monopoly Gameplay Strategies\\\\MCTS\\\\Node.py\"\n",
    "%run -i \"C:\\\\Users\\\\cathe\\\\OneDrive\\\\Documents\\\\Capstone - Optimising Monopoly Gameplay Strategies\\\\MCTS\\\\MCTS.py\"\n",
    "%run -i \"C:\\\\Users\\\\cathe\\\\OneDrive\\\\Documents\\\\Capstone - Optimising Monopoly Gameplay Strategies\\\\MCTS\\\\State.py\"\n",
    "\n",
    "random.seed(42)"
   ]
  },
  {
   "cell_type": "code",
   "execution_count": null,
   "metadata": {},
   "outputs": [],
   "source": []
  }
 ],
 "metadata": {
  "kernelspec": {
   "display_name": "Python 3",
   "language": "python",
   "name": "python3"
  },
  "language_info": {
   "codemirror_mode": {
    "name": "ipython",
    "version": 3
   },
   "file_extension": ".py",
   "mimetype": "text/x-python",
   "name": "python",
   "nbconvert_exporter": "python",
   "pygments_lexer": "ipython3",
   "version": "3.10.2"
  }
 },
 "nbformat": 4,
 "nbformat_minor": 2
}
