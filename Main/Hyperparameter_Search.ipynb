{
 "cells": [
  {
   "cell_type": "code",
   "execution_count": 22,
   "metadata": {},
   "outputs": [],
   "source": [
    "import random\n",
    "import json\n",
    "import matplotlib.pyplot as plt\n",
    "import plotly.express as px\n",
    "import numpy as np\n",
    "from scipy.stats import norm\n",
    "from tqdm import tqdm\n",
    "import pandas as pd\n",
    "from tabulate import tabulate\n",
    "\n",
    "%run -i \"C:\\\\Users\\\\cathe\\\\OneDrive\\\\Documents\\\\Capstone - Optimising Monopoly Gameplay Strategies\\\\Simulation Classes\\\\Player.py\"\n",
    "%run -i \"C:\\\\Users\\\\cathe\\\\OneDrive\\\\Documents\\\\Capstone - Optimising Monopoly Gameplay Strategies\\\\Simulation Classes\\\\Street.py\"\n",
    "%run -i \"C:\\\\Users\\\\cathe\\\\OneDrive\\\\Documents\\\\Capstone - Optimising Monopoly Gameplay Strategies\\\\Simulation Classes\\\\Utility.py\"\n",
    "%run -i \"C:\\\\Users\\\\cathe\\\\OneDrive\\\\Documents\\\\Capstone - Optimising Monopoly Gameplay Strategies\\\\Simulation Classes\\\\Station.py\"\n",
    "%run -i \"C:\\\\Users\\\\cathe\\\\OneDrive\\\\Documents\\\\Capstone - Optimising Monopoly Gameplay Strategies\\\\Simulation Classes\\\\Chance.py\"\n",
    "%run -i \"C:\\\\Users\\\\cathe\\\\OneDrive\\\\Documents\\\\Capstone - Optimising Monopoly Gameplay Strategies\\\\Simulation Classes\\\\Tax.py\"\n",
    "%run -i \"C:\\\\Users\\\\cathe\\\\OneDrive\\\\Documents\\\\Capstone - Optimising Monopoly Gameplay Strategies\\\\Simulation Classes\\\\Go.py\"\n",
    "%run -i \"C:\\\\Users\\\\cathe\\\\OneDrive\\\\Documents\\\\Capstone - Optimising Monopoly Gameplay Strategies\\\\Simulation Classes\\\\Jail.py\"\n",
    "%run -i \"C:\\\\Users\\\\cathe\\\\OneDrive\\\\Documents\\\\Capstone - Optimising Monopoly Gameplay Strategies\\\\Simulation Classes\\\\FreeParking.py\"\n",
    "%run -i \"C:\\\\Users\\\\cathe\\\\OneDrive\\\\Documents\\\\Capstone - Optimising Monopoly Gameplay Strategies\\\\Simulation Classes\\\\GoToJail.py\"\n",
    "%run -i \"C:\\\\Users\\\\cathe\\\\OneDrive\\\\Documents\\\\Capstone - Optimising Monopoly Gameplay Strategies\\\\Simulation Classes\\\\CommunityChest.py\"\n",
    "%run -i \"C:\\\\Users\\\\cathe\\\\OneDrive\\\\Documents\\\\Capstone - Optimising Monopoly Gameplay Strategies\\\\Simulation Classes\\\\MonopolyBoard.py\"\n",
    "%run -i \"C:\\\\Users\\\\cathe\\\\OneDrive\\\\Documents\\\\Capstone - Optimising Monopoly Gameplay Strategies\\\\Simulation Classes\\\\Strategy.py\"\n",
    "%run -i \"C:\\\\Users\\\\cathe\\\\OneDrive\\\\Documents\\\\Capstone - Optimising Monopoly Gameplay Strategies\\\\Simulation Classes\\\\RandomStrategy.py\"\n",
    "\n",
    "%run -i \"C:\\\\Users\\\\cathe\\\\OneDrive\\\\Documents\\\\Capstone - Optimising Monopoly Gameplay Strategies\\\\MCTS\\\\MonopolyBoardMCTS.py\"\n",
    "%run -i \"C:\\\\Users\\\\cathe\\\\OneDrive\\\\Documents\\\\Capstone - Optimising Monopoly Gameplay Strategies\\\\MCTS\\\\Node.py\"\n",
    "%run -i \"C:\\\\Users\\\\cathe\\\\OneDrive\\\\Documents\\\\Capstone - Optimising Monopoly Gameplay Strategies\\\\MCTS\\\\MCTS.py\"\n",
    "%run -i \"C:\\\\Users\\\\cathe\\\\OneDrive\\\\Documents\\\\Capstone - Optimising Monopoly Gameplay Strategies\\\\MCTS\\\\State.py\""
   ]
  },
  {
   "cell_type": "code",
   "execution_count": 23,
   "metadata": {},
   "outputs": [],
   "source": [
    "def game(max_iterations, exploration_weight, max_simulations, max_rounds):\n",
    "    # create board and add players\n",
    "    board = MonopolyBoardMCTS()\n",
    "    player1 = Player('Cat')\n",
    "    player2 = Player('Vlad')\n",
    "    board.add_agent(player1)\n",
    "    board.add_other_player(player2)\n",
    "\n",
    "    # using a random strategy\n",
    "    #strategy = RandomStrategy()\n",
    "    #board.strategy = strategy\n",
    "\n",
    "    # run MCTS game\n",
    "    root_state = State()\n",
    "    root_state.from_monopoly_board(board)\n",
    "    mcts = MCTS(root_state, max_iterations=max_iterations, exploration_weight=exploration_weight, max_simulations=max_simulations)\n",
    "    mcts.run_game_quiet(max_rounds=max_rounds)\n",
    "\n",
    "    return mcts.root.state"
   ]
  },
  {
   "cell_type": "code",
   "execution_count": 26,
   "metadata": {},
   "outputs": [],
   "source": [
    "from tqdm import tqdm\n",
    "def grid_search(max_iterations_lst, exploration_weight_lst, max_simulations_lst, max_rounds=20, num_tests=100):\n",
    "    df = pd.DataFrame(columns=['max_iterations', 'exploration_weight', 'max_simulations', \n",
    "        'Rounds', 'Agent', 'Other player(s)', 'Properties', 'Stations', 'Utilities', 'Agent Wealth', 'Other Player(s) Wealth'])\n",
    "        \n",
    "    for max_iterations in max_iterations_lst:\n",
    "        for exploration_weight in exploration_weight_lst:\n",
    "            for max_simulations in max_simulations_lst:\n",
    "                print(f'Currently testing max_iterations={max_iterations}, exploration_weight={exploration_weight}, max_simulations={max_simulations}')\n",
    "                for _ in tqdm(range(num_tests)):\n",
    "                    state = game(max_iterations, exploration_weight, max_simulations, max_rounds)\n",
    "                    new_row = {'max_iterations': max_iterations, 'exploration_weight': exploration_weight, \n",
    "                        'max_simulations': max_simulations, 'Rounds': state.rounds, 'Agent': state.agent, \n",
    "                        'Other player(s)': state.other_players, 'Properties': state.properties, 'Stations': state.stations, \n",
    "                        'Utilities': state.utilities, 'Agent Wealth': state.agent_wealth, \n",
    "                        'Other Player(s) Wealth': state.other_players_wealth}\n",
    "                    df.loc[len(df)] = new_row\n",
    "\n",
    "    return df"
   ]
  },
  {
   "cell_type": "code",
   "execution_count": 29,
   "metadata": {},
   "outputs": [
    {
     "name": "stdout",
     "output_type": "stream",
     "text": [
      "Currently testing max_iterations=50, exploration_weight=1, max_simulations=5\n"
     ]
    },
    {
     "name": "stderr",
     "output_type": "stream",
     "text": [
      "100%|██████████| 100/100 [03:19<00:00,  1.99s/it]\n"
     ]
    },
    {
     "name": "stdout",
     "output_type": "stream",
     "text": [
      "Currently testing max_iterations=50, exploration_weight=1, max_simulations=10\n"
     ]
    },
    {
     "name": "stderr",
     "output_type": "stream",
     "text": [
      "100%|██████████| 100/100 [03:21<00:00,  2.02s/it]\n"
     ]
    },
    {
     "name": "stdout",
     "output_type": "stream",
     "text": [
      "Currently testing max_iterations=50, exploration_weight=1, max_simulations=25\n"
     ]
    },
    {
     "name": "stderr",
     "output_type": "stream",
     "text": [
      "100%|██████████| 100/100 [05:25<00:00,  3.25s/it]\n"
     ]
    },
    {
     "name": "stdout",
     "output_type": "stream",
     "text": [
      "Currently testing max_iterations=50, exploration_weight=1, max_simulations=50\n"
     ]
    },
    {
     "name": "stderr",
     "output_type": "stream",
     "text": [
      "100%|██████████| 100/100 [06:44<00:00,  4.05s/it]\n"
     ]
    },
    {
     "name": "stdout",
     "output_type": "stream",
     "text": [
      "Currently testing max_iterations=50, exploration_weight=1.41, max_simulations=5\n"
     ]
    },
    {
     "name": "stderr",
     "output_type": "stream",
     "text": [
      "100%|██████████| 100/100 [03:03<00:00,  1.83s/it]\n"
     ]
    },
    {
     "name": "stdout",
     "output_type": "stream",
     "text": [
      "Currently testing max_iterations=50, exploration_weight=1.41, max_simulations=10\n"
     ]
    },
    {
     "name": "stderr",
     "output_type": "stream",
     "text": [
      "100%|██████████| 100/100 [03:44<00:00,  2.24s/it]\n"
     ]
    },
    {
     "name": "stdout",
     "output_type": "stream",
     "text": [
      "Currently testing max_iterations=50, exploration_weight=1.41, max_simulations=25\n"
     ]
    },
    {
     "name": "stderr",
     "output_type": "stream",
     "text": [
      "100%|██████████| 100/100 [05:38<00:00,  3.38s/it]\n"
     ]
    },
    {
     "name": "stdout",
     "output_type": "stream",
     "text": [
      "Currently testing max_iterations=50, exploration_weight=1.41, max_simulations=50\n"
     ]
    },
    {
     "name": "stderr",
     "output_type": "stream",
     "text": [
      "100%|██████████| 100/100 [09:05<00:00,  5.45s/it]\n"
     ]
    },
    {
     "name": "stdout",
     "output_type": "stream",
     "text": [
      "Currently testing max_iterations=100, exploration_weight=1, max_simulations=5\n"
     ]
    },
    {
     "name": "stderr",
     "output_type": "stream",
     "text": [
      "100%|██████████| 100/100 [07:06<00:00,  4.26s/it]\n"
     ]
    },
    {
     "name": "stdout",
     "output_type": "stream",
     "text": [
      "Currently testing max_iterations=100, exploration_weight=1, max_simulations=10\n"
     ]
    },
    {
     "name": "stderr",
     "output_type": "stream",
     "text": [
      "100%|██████████| 100/100 [06:35<00:00,  3.95s/it]\n"
     ]
    },
    {
     "name": "stdout",
     "output_type": "stream",
     "text": [
      "Currently testing max_iterations=100, exploration_weight=1, max_simulations=25\n"
     ]
    },
    {
     "name": "stderr",
     "output_type": "stream",
     "text": [
      "100%|██████████| 100/100 [09:43<00:00,  5.83s/it]\n"
     ]
    },
    {
     "name": "stdout",
     "output_type": "stream",
     "text": [
      "Currently testing max_iterations=100, exploration_weight=1, max_simulations=50\n"
     ]
    },
    {
     "name": "stderr",
     "output_type": "stream",
     "text": [
      "100%|██████████| 100/100 [16:33<00:00,  9.94s/it]\n"
     ]
    },
    {
     "name": "stdout",
     "output_type": "stream",
     "text": [
      "Currently testing max_iterations=100, exploration_weight=1.41, max_simulations=5\n"
     ]
    },
    {
     "name": "stderr",
     "output_type": "stream",
     "text": [
      "100%|██████████| 100/100 [06:12<00:00,  3.72s/it]\n"
     ]
    },
    {
     "name": "stdout",
     "output_type": "stream",
     "text": [
      "Currently testing max_iterations=100, exploration_weight=1.41, max_simulations=10\n"
     ]
    },
    {
     "name": "stderr",
     "output_type": "stream",
     "text": [
      "100%|██████████| 100/100 [06:25<00:00,  3.86s/it]\n"
     ]
    },
    {
     "name": "stdout",
     "output_type": "stream",
     "text": [
      "Currently testing max_iterations=100, exploration_weight=1.41, max_simulations=25\n"
     ]
    },
    {
     "name": "stderr",
     "output_type": "stream",
     "text": [
      "100%|██████████| 100/100 [09:26<00:00,  5.67s/it]\n"
     ]
    },
    {
     "name": "stdout",
     "output_type": "stream",
     "text": [
      "Currently testing max_iterations=100, exploration_weight=1.41, max_simulations=50\n"
     ]
    },
    {
     "name": "stderr",
     "output_type": "stream",
     "text": [
      "100%|██████████| 100/100 [12:35<00:00,  7.55s/it]\n"
     ]
    },
    {
     "name": "stdout",
     "output_type": "stream",
     "text": [
      "Currently testing max_iterations=250, exploration_weight=1, max_simulations=5\n"
     ]
    },
    {
     "name": "stderr",
     "output_type": "stream",
     "text": [
      "100%|██████████| 100/100 [12:48<00:00,  7.68s/it]\n"
     ]
    },
    {
     "name": "stdout",
     "output_type": "stream",
     "text": [
      "Currently testing max_iterations=250, exploration_weight=1, max_simulations=10\n"
     ]
    },
    {
     "name": "stderr",
     "output_type": "stream",
     "text": [
      "100%|██████████| 100/100 [14:43<00:00,  8.84s/it]\n"
     ]
    },
    {
     "name": "stdout",
     "output_type": "stream",
     "text": [
      "Currently testing max_iterations=250, exploration_weight=1, max_simulations=25\n"
     ]
    },
    {
     "name": "stderr",
     "output_type": "stream",
     "text": [
      "100%|██████████| 100/100 [21:13<00:00, 12.73s/it]\n"
     ]
    },
    {
     "name": "stdout",
     "output_type": "stream",
     "text": [
      "Currently testing max_iterations=250, exploration_weight=1, max_simulations=50\n"
     ]
    },
    {
     "name": "stderr",
     "output_type": "stream",
     "text": [
      "100%|██████████| 100/100 [29:43<00:00, 17.84s/it]\n"
     ]
    },
    {
     "name": "stdout",
     "output_type": "stream",
     "text": [
      "Currently testing max_iterations=250, exploration_weight=1.41, max_simulations=5\n"
     ]
    },
    {
     "name": "stderr",
     "output_type": "stream",
     "text": [
      "100%|██████████| 100/100 [14:04<00:00,  8.44s/it]\n"
     ]
    },
    {
     "name": "stdout",
     "output_type": "stream",
     "text": [
      "Currently testing max_iterations=250, exploration_weight=1.41, max_simulations=10\n"
     ]
    },
    {
     "name": "stderr",
     "output_type": "stream",
     "text": [
      "100%|██████████| 100/100 [15:15<00:00,  9.15s/it]\n"
     ]
    },
    {
     "name": "stdout",
     "output_type": "stream",
     "text": [
      "Currently testing max_iterations=250, exploration_weight=1.41, max_simulations=25\n"
     ]
    },
    {
     "name": "stderr",
     "output_type": "stream",
     "text": [
      "100%|██████████| 100/100 [22:42<00:00, 13.62s/it]\n"
     ]
    },
    {
     "name": "stdout",
     "output_type": "stream",
     "text": [
      "Currently testing max_iterations=250, exploration_weight=1.41, max_simulations=50\n"
     ]
    },
    {
     "name": "stderr",
     "output_type": "stream",
     "text": [
      "100%|██████████| 100/100 [33:47<00:00, 20.27s/it]\n"
     ]
    },
    {
     "name": "stdout",
     "output_type": "stream",
     "text": [
      "Currently testing max_iterations=500, exploration_weight=1, max_simulations=5\n"
     ]
    },
    {
     "name": "stderr",
     "output_type": "stream",
     "text": [
      "100%|██████████| 100/100 [25:05<00:00, 15.06s/it]\n"
     ]
    },
    {
     "name": "stdout",
     "output_type": "stream",
     "text": [
      "Currently testing max_iterations=500, exploration_weight=1, max_simulations=10\n"
     ]
    },
    {
     "name": "stderr",
     "output_type": "stream",
     "text": [
      "100%|██████████| 100/100 [25:16<00:00, 15.16s/it]\n"
     ]
    },
    {
     "name": "stdout",
     "output_type": "stream",
     "text": [
      "Currently testing max_iterations=500, exploration_weight=1, max_simulations=25\n"
     ]
    },
    {
     "name": "stderr",
     "output_type": "stream",
     "text": [
      "100%|██████████| 100/100 [36:29<00:00, 21.90s/it]\n"
     ]
    },
    {
     "name": "stdout",
     "output_type": "stream",
     "text": [
      "Currently testing max_iterations=500, exploration_weight=1, max_simulations=50\n"
     ]
    },
    {
     "name": "stderr",
     "output_type": "stream",
     "text": [
      "100%|██████████| 100/100 [50:58<00:00, 30.59s/it]\n"
     ]
    },
    {
     "name": "stdout",
     "output_type": "stream",
     "text": [
      "Currently testing max_iterations=500, exploration_weight=1.41, max_simulations=5\n"
     ]
    },
    {
     "name": "stderr",
     "output_type": "stream",
     "text": [
      "100%|██████████| 100/100 [29:17<00:00, 17.58s/it]\n"
     ]
    },
    {
     "name": "stdout",
     "output_type": "stream",
     "text": [
      "Currently testing max_iterations=500, exploration_weight=1.41, max_simulations=10\n"
     ]
    },
    {
     "name": "stderr",
     "output_type": "stream",
     "text": [
      "100%|██████████| 100/100 [30:09<00:00, 18.10s/it]\n"
     ]
    },
    {
     "name": "stdout",
     "output_type": "stream",
     "text": [
      "Currently testing max_iterations=500, exploration_weight=1.41, max_simulations=25\n"
     ]
    },
    {
     "name": "stderr",
     "output_type": "stream",
     "text": [
      "100%|██████████| 100/100 [43:50<00:00, 26.30s/it]\n"
     ]
    },
    {
     "name": "stdout",
     "output_type": "stream",
     "text": [
      "Currently testing max_iterations=500, exploration_weight=1.41, max_simulations=50\n"
     ]
    },
    {
     "name": "stderr",
     "output_type": "stream",
     "text": [
      "100%|██████████| 100/100 [1:06:52<00:00, 40.12s/it]\n"
     ]
    },
    {
     "name": "stdout",
     "output_type": "stream",
     "text": [
      "Currently testing max_iterations=1000, exploration_weight=1, max_simulations=5\n"
     ]
    },
    {
     "name": "stderr",
     "output_type": "stream",
     "text": [
      "100%|██████████| 100/100 [41:22<00:00, 24.82s/it]\n"
     ]
    },
    {
     "name": "stdout",
     "output_type": "stream",
     "text": [
      "Currently testing max_iterations=1000, exploration_weight=1, max_simulations=10\n"
     ]
    },
    {
     "name": "stderr",
     "output_type": "stream",
     "text": [
      "100%|██████████| 100/100 [46:13<00:00, 27.74s/it]\n"
     ]
    },
    {
     "name": "stdout",
     "output_type": "stream",
     "text": [
      "Currently testing max_iterations=1000, exploration_weight=1, max_simulations=25\n"
     ]
    },
    {
     "name": "stderr",
     "output_type": "stream",
     "text": [
      "100%|██████████| 100/100 [56:59<00:00, 34.20s/it]\n"
     ]
    },
    {
     "name": "stdout",
     "output_type": "stream",
     "text": [
      "Currently testing max_iterations=1000, exploration_weight=1, max_simulations=50\n"
     ]
    },
    {
     "name": "stderr",
     "output_type": "stream",
     "text": [
      "100%|██████████| 100/100 [1:21:19<00:00, 48.80s/it]\n"
     ]
    },
    {
     "name": "stdout",
     "output_type": "stream",
     "text": [
      "Currently testing max_iterations=1000, exploration_weight=1.41, max_simulations=5\n"
     ]
    },
    {
     "name": "stderr",
     "output_type": "stream",
     "text": [
      "100%|██████████| 100/100 [54:04<00:00, 32.45s/it]\n"
     ]
    },
    {
     "name": "stdout",
     "output_type": "stream",
     "text": [
      "Currently testing max_iterations=1000, exploration_weight=1.41, max_simulations=10\n"
     ]
    },
    {
     "name": "stderr",
     "output_type": "stream",
     "text": [
      "100%|██████████| 100/100 [56:27<00:00, 33.87s/it] \n"
     ]
    },
    {
     "name": "stdout",
     "output_type": "stream",
     "text": [
      "Currently testing max_iterations=1000, exploration_weight=1.41, max_simulations=25\n"
     ]
    },
    {
     "name": "stderr",
     "output_type": "stream",
     "text": [
      "100%|██████████| 100/100 [2:05:35<00:00, 75.36s/it]  \n"
     ]
    },
    {
     "name": "stdout",
     "output_type": "stream",
     "text": [
      "Currently testing max_iterations=1000, exploration_weight=1.41, max_simulations=50\n"
     ]
    },
    {
     "name": "stderr",
     "output_type": "stream",
     "text": [
      "100%|██████████| 100/100 [2:22:02<00:00, 85.22s/it]  \n"
     ]
    }
   ],
   "source": [
    "random.seed(42)\n",
    "max_iterations_lst = [50, 100, 250, 500, 1000]\n",
    "exploration_weight_lst = [1, 1.41]\n",
    "max_simulations_lst = [5, 10, 25, 50]\n",
    "grid_search_df = grid_search(max_iterations_lst, exploration_weight_lst, max_simulations_lst)"
   ]
  },
  {
   "cell_type": "code",
   "execution_count": 33,
   "metadata": {},
   "outputs": [
    {
     "data": {
      "text/html": [
       "<div>\n",
       "<style scoped>\n",
       "    .dataframe tbody tr th:only-of-type {\n",
       "        vertical-align: middle;\n",
       "    }\n",
       "\n",
       "    .dataframe tbody tr th {\n",
       "        vertical-align: top;\n",
       "    }\n",
       "\n",
       "    .dataframe thead th {\n",
       "        text-align: right;\n",
       "    }\n",
       "</style>\n",
       "<table border=\"1\" class=\"dataframe\">\n",
       "  <thead>\n",
       "    <tr style=\"text-align: right;\">\n",
       "      <th></th>\n",
       "      <th>max_iterations</th>\n",
       "      <th>exploration_weight</th>\n",
       "      <th>max_simulations</th>\n",
       "      <th>Rounds</th>\n",
       "      <th>Agent</th>\n",
       "      <th>Other player(s)</th>\n",
       "      <th>Properties</th>\n",
       "      <th>Stations</th>\n",
       "      <th>Utilities</th>\n",
       "      <th>Agent Wealth</th>\n",
       "      <th>Other Player(s) Wealth</th>\n",
       "    </tr>\n",
       "  </thead>\n",
       "  <tbody>\n",
       "    <tr>\n",
       "      <th>0</th>\n",
       "      <td>50</td>\n",
       "      <td>1.0</td>\n",
       "      <td>5</td>\n",
       "      <td>20</td>\n",
       "      <td>[Cat, 26, 1349.0, False, False, 0, False, 2, 0...</td>\n",
       "      <td>[[Vlad, 10, 41.29999999999998, False, True, 0,...</td>\n",
       "      <td>[[Vlad, 3, False, False], [Vlad, 3, False, Fal...</td>\n",
       "      <td>[[Cat, False], [None, False], [Vlad, False], [...</td>\n",
       "      <td>[[Vlad, False], [None, False]]</td>\n",
       "      <td>1739.0</td>\n",
       "      <td>[1411.3]</td>\n",
       "    </tr>\n",
       "    <tr>\n",
       "      <th>1</th>\n",
       "      <td>50</td>\n",
       "      <td>1.0</td>\n",
       "      <td>5</td>\n",
       "      <td>20</td>\n",
       "      <td>[Cat, 0, 1070.0, False, False, 0, False, 0, 0,...</td>\n",
       "      <td>[[Vlad, 3, 1411, False, False, 0, False, 0, 1,...</td>\n",
       "      <td>[[None, 0, False, False], [None, 0, False, Fal...</td>\n",
       "      <td>[[None, False], [None, False], [Vlad, False], ...</td>\n",
       "      <td>[[None, False], [Vlad, False]]</td>\n",
       "      <td>1825.0</td>\n",
       "      <td>[2321]</td>\n",
       "    </tr>\n",
       "    <tr>\n",
       "      <th>2</th>\n",
       "      <td>50</td>\n",
       "      <td>1.0</td>\n",
       "      <td>5</td>\n",
       "      <td>20</td>\n",
       "      <td>[Cat, 33, 1061.0, False, False, 0, False, 0, 1...</td>\n",
       "      <td>[[Vlad, 1, 359.85, False, False, 0, False, 0, ...</td>\n",
       "      <td>[[None, 0, False, False], [Cat, 0, False, Fals...</td>\n",
       "      <td>[[Vlad, False], [None, False], [Cat, False], [...</td>\n",
       "      <td>[[None, False], [Cat, False]]</td>\n",
       "      <td>1541.0</td>\n",
       "      <td>[2079.85]</td>\n",
       "    </tr>\n",
       "    <tr>\n",
       "      <th>3</th>\n",
       "      <td>50</td>\n",
       "      <td>1.0</td>\n",
       "      <td>5</td>\n",
       "      <td>20</td>\n",
       "      <td>[Cat, 31, 1468.6, False, False, 0, False, 2, 0...</td>\n",
       "      <td>[[Vlad, 16, 390, False, False, 0, False, 0, 0,...</td>\n",
       "      <td>[[None, 0, False, False], [None, 0, False, Fal...</td>\n",
       "      <td>[[Vlad, False], [Vlad, False], [None, False], ...</td>\n",
       "      <td>[[None, False], [Vlad, False]]</td>\n",
       "      <td>1738.6</td>\n",
       "      <td>[2020]</td>\n",
       "    </tr>\n",
       "    <tr>\n",
       "      <th>4</th>\n",
       "      <td>50</td>\n",
       "      <td>1.0</td>\n",
       "      <td>5</td>\n",
       "      <td>20</td>\n",
       "      <td>[Cat, 14, 915.5, False, False, 0, False, 0, 1,...</td>\n",
       "      <td>[[Vlad, 35, 88.0, False, False, 0, False, 0, 0...</td>\n",
       "      <td>[[None, 0, False, False], [None, 0, False, Fal...</td>\n",
       "      <td>[[Cat, True], [Vlad, False], [None, False], [V...</td>\n",
       "      <td>[[None, False], [Cat, False]]</td>\n",
       "      <td>2115.5</td>\n",
       "      <td>[1168.0]</td>\n",
       "    </tr>\n",
       "  </tbody>\n",
       "</table>\n",
       "</div>"
      ],
      "text/plain": [
       "   max_iterations  exploration_weight  max_simulations  Rounds  \\\n",
       "0              50                 1.0                5      20   \n",
       "1              50                 1.0                5      20   \n",
       "2              50                 1.0                5      20   \n",
       "3              50                 1.0                5      20   \n",
       "4              50                 1.0                5      20   \n",
       "\n",
       "                                               Agent  \\\n",
       "0  [Cat, 26, 1349.0, False, False, 0, False, 2, 0...   \n",
       "1  [Cat, 0, 1070.0, False, False, 0, False, 0, 0,...   \n",
       "2  [Cat, 33, 1061.0, False, False, 0, False, 0, 1...   \n",
       "3  [Cat, 31, 1468.6, False, False, 0, False, 2, 0...   \n",
       "4  [Cat, 14, 915.5, False, False, 0, False, 0, 1,...   \n",
       "\n",
       "                                     Other player(s)  \\\n",
       "0  [[Vlad, 10, 41.29999999999998, False, True, 0,...   \n",
       "1  [[Vlad, 3, 1411, False, False, 0, False, 0, 1,...   \n",
       "2  [[Vlad, 1, 359.85, False, False, 0, False, 0, ...   \n",
       "3  [[Vlad, 16, 390, False, False, 0, False, 0, 0,...   \n",
       "4  [[Vlad, 35, 88.0, False, False, 0, False, 0, 0...   \n",
       "\n",
       "                                          Properties  \\\n",
       "0  [[Vlad, 3, False, False], [Vlad, 3, False, Fal...   \n",
       "1  [[None, 0, False, False], [None, 0, False, Fal...   \n",
       "2  [[None, 0, False, False], [Cat, 0, False, Fals...   \n",
       "3  [[None, 0, False, False], [None, 0, False, Fal...   \n",
       "4  [[None, 0, False, False], [None, 0, False, Fal...   \n",
       "\n",
       "                                            Stations  \\\n",
       "0  [[Cat, False], [None, False], [Vlad, False], [...   \n",
       "1  [[None, False], [None, False], [Vlad, False], ...   \n",
       "2  [[Vlad, False], [None, False], [Cat, False], [...   \n",
       "3  [[Vlad, False], [Vlad, False], [None, False], ...   \n",
       "4  [[Cat, True], [Vlad, False], [None, False], [V...   \n",
       "\n",
       "                        Utilities  Agent Wealth Other Player(s) Wealth  \n",
       "0  [[Vlad, False], [None, False]]        1739.0               [1411.3]  \n",
       "1  [[None, False], [Vlad, False]]        1825.0                 [2321]  \n",
       "2   [[None, False], [Cat, False]]        1541.0              [2079.85]  \n",
       "3  [[None, False], [Vlad, False]]        1738.6                 [2020]  \n",
       "4   [[None, False], [Cat, False]]        2115.5               [1168.0]  "
      ]
     },
     "execution_count": 33,
     "metadata": {},
     "output_type": "execute_result"
    }
   ],
   "source": [
    "grid_search_df.head()"
   ]
  },
  {
   "cell_type": "code",
   "execution_count": 31,
   "metadata": {},
   "outputs": [],
   "source": [
    "file_path = 'GridSearch_BaseStrategy.json'\n",
    "with open(file_path, 'w') as json_file:\n",
    "    json.dump(grid_search_df.to_dict(), json_file, indent=4)"
   ]
  },
  {
   "cell_type": "code",
   "execution_count": 32,
   "metadata": {},
   "outputs": [],
   "source": [
    "file_path = 'GridSearch_BaseStrategy.json'\n",
    "with open(file_path, 'r') as json_file:\n",
    "    grid_search_results = json.load(json_file)"
   ]
  },
  {
   "cell_type": "code",
   "execution_count": null,
   "metadata": {},
   "outputs": [],
   "source": []
  }
 ],
 "metadata": {
  "kernelspec": {
   "display_name": "Python 3",
   "language": "python",
   "name": "python3"
  },
  "language_info": {
   "codemirror_mode": {
    "name": "ipython",
    "version": 3
   },
   "file_extension": ".py",
   "mimetype": "text/x-python",
   "name": "python",
   "nbconvert_exporter": "python",
   "pygments_lexer": "ipython3",
   "version": "3.10.2"
  }
 },
 "nbformat": 4,
 "nbformat_minor": 2
}
