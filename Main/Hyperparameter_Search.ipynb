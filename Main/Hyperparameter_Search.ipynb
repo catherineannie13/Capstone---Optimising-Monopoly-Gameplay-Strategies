{
 "cells": [
  {
   "cell_type": "code",
   "execution_count": 1,
   "metadata": {},
   "outputs": [],
   "source": [
    "import random\n",
    "import json\n",
    "import matplotlib.pyplot as plt\n",
    "import seaborn as sns\n",
    "import plotly.express as px\n",
    "import numpy as np\n",
    "from scipy.stats import norm\n",
    "from tqdm import tqdm\n",
    "import pandas as pd\n",
    "from tabulate import tabulate\n",
    "\n",
    "%run -i \"C:\\\\Users\\\\cathe\\\\OneDrive\\\\Documents\\\\Capstone - Optimising Monopoly Gameplay Strategies\\\\Simulation Classes\\\\Player.py\"\n",
    "%run -i \"C:\\\\Users\\\\cathe\\\\OneDrive\\\\Documents\\\\Capstone - Optimising Monopoly Gameplay Strategies\\\\Simulation Classes\\\\Street.py\"\n",
    "%run -i \"C:\\\\Users\\\\cathe\\\\OneDrive\\\\Documents\\\\Capstone - Optimising Monopoly Gameplay Strategies\\\\Simulation Classes\\\\Utility.py\"\n",
    "%run -i \"C:\\\\Users\\\\cathe\\\\OneDrive\\\\Documents\\\\Capstone - Optimising Monopoly Gameplay Strategies\\\\Simulation Classes\\\\Station.py\"\n",
    "%run -i \"C:\\\\Users\\\\cathe\\\\OneDrive\\\\Documents\\\\Capstone - Optimising Monopoly Gameplay Strategies\\\\Simulation Classes\\\\Chance.py\"\n",
    "%run -i \"C:\\\\Users\\\\cathe\\\\OneDrive\\\\Documents\\\\Capstone - Optimising Monopoly Gameplay Strategies\\\\Simulation Classes\\\\Tax.py\"\n",
    "%run -i \"C:\\\\Users\\\\cathe\\\\OneDrive\\\\Documents\\\\Capstone - Optimising Monopoly Gameplay Strategies\\\\Simulation Classes\\\\Go.py\"\n",
    "%run -i \"C:\\\\Users\\\\cathe\\\\OneDrive\\\\Documents\\\\Capstone - Optimising Monopoly Gameplay Strategies\\\\Simulation Classes\\\\Jail.py\"\n",
    "%run -i \"C:\\\\Users\\\\cathe\\\\OneDrive\\\\Documents\\\\Capstone - Optimising Monopoly Gameplay Strategies\\\\Simulation Classes\\\\FreeParking.py\"\n",
    "%run -i \"C:\\\\Users\\\\cathe\\\\OneDrive\\\\Documents\\\\Capstone - Optimising Monopoly Gameplay Strategies\\\\Simulation Classes\\\\GoToJail.py\"\n",
    "%run -i \"C:\\\\Users\\\\cathe\\\\OneDrive\\\\Documents\\\\Capstone - Optimising Monopoly Gameplay Strategies\\\\Simulation Classes\\\\CommunityChest.py\"\n",
    "%run -i \"C:\\\\Users\\\\cathe\\\\OneDrive\\\\Documents\\\\Capstone - Optimising Monopoly Gameplay Strategies\\\\Simulation Classes\\\\MonopolyBoard.py\"\n",
    "%run -i \"C:\\\\Users\\\\cathe\\\\OneDrive\\\\Documents\\\\Capstone - Optimising Monopoly Gameplay Strategies\\\\Simulation Classes\\\\Strategy.py\"\n",
    "%run -i \"C:\\\\Users\\\\cathe\\\\OneDrive\\\\Documents\\\\Capstone - Optimising Monopoly Gameplay Strategies\\\\Simulation Classes\\\\RandomStrategy.py\"\n",
    "\n",
    "%run -i \"C:\\\\Users\\\\cathe\\\\OneDrive\\\\Documents\\\\Capstone - Optimising Monopoly Gameplay Strategies\\\\MCTS\\\\MonopolyBoardMCTS.py\"\n",
    "%run -i \"C:\\\\Users\\\\cathe\\\\OneDrive\\\\Documents\\\\Capstone - Optimising Monopoly Gameplay Strategies\\\\MCTS\\\\Node.py\"\n",
    "%run -i \"C:\\\\Users\\\\cathe\\\\OneDrive\\\\Documents\\\\Capstone - Optimising Monopoly Gameplay Strategies\\\\MCTS\\\\MCTS.py\"\n",
    "%run -i \"C:\\\\Users\\\\cathe\\\\OneDrive\\\\Documents\\\\Capstone - Optimising Monopoly Gameplay Strategies\\\\MCTS\\\\State.py\""
   ]
  },
  {
   "cell_type": "markdown",
   "metadata": {},
   "source": [
    "## Running Grid Search"
   ]
  },
  {
   "cell_type": "code",
   "execution_count": 2,
   "metadata": {},
   "outputs": [],
   "source": [
    "def game(max_iterations, exploration_weight, max_simulations, max_rounds):\n",
    "    # create board and add players\n",
    "    board = MonopolyBoardMCTS()\n",
    "    player1 = Player('Cat')\n",
    "    player2 = Player('Vlad')\n",
    "    board.add_agent(player1)\n",
    "    board.add_other_player(player2)\n",
    "\n",
    "    # using a random strategy\n",
    "    strategy = RandomStrategy()\n",
    "    board.strategy = strategy\n",
    "\n",
    "    # run MCTS game\n",
    "    root_state = State()\n",
    "    root_state.from_monopoly_board(board)\n",
    "    mcts = MCTS(root_state, max_iterations=max_iterations, exploration_weight=exploration_weight, max_simulations=max_simulations)\n",
    "    mcts.run_game_quiet(max_rounds=max_rounds)\n",
    "\n",
    "    return mcts.root.state"
   ]
  },
  {
   "cell_type": "code",
   "execution_count": 49,
   "metadata": {},
   "outputs": [],
   "source": [
    "def grid_search(max_iterations_lst, exploration_weight_lst, max_simulations_lst, max_rounds=20, num_tests=100):\n",
    "    df = pd.DataFrame(columns=['max_iterations', 'exploration_weight', 'max_simulations', \n",
    "        'Rounds', 'Agent', 'Other player(s)', 'Properties', 'Stations', 'Utilities', 'Agent Wealth', 'Other Player(s) Wealth'])\n",
    "        \n",
    "    for max_iterations in max_iterations_lst:\n",
    "        for exploration_weight in exploration_weight_lst:\n",
    "            for max_simulations in max_simulations_lst:\n",
    "                print(f'Currently testing max_iterations={max_iterations}, exploration_weight={exploration_weight}, max_simulations={max_simulations}')\n",
    "                for _ in tqdm(range(num_tests)):\n",
    "                    state = game(max_iterations, exploration_weight, max_simulations, max_rounds)\n",
    "                    new_row = {'max_iterations': max_iterations, 'exploration_weight': exploration_weight, \n",
    "                        'max_simulations': max_simulations, 'Rounds': state.rounds, 'Agent': state.agent, \n",
    "                        'Other player(s)': state.other_players, 'Properties': state.properties, 'Stations': state.stations, \n",
    "                        'Utilities': state.utilities, 'Agent Wealth': state.agent_wealth, \n",
    "                        'Other Player(s) Wealth': state.other_players_wealth}\n",
    "                    df.loc[len(df)] = new_row\n",
    "\n",
    "    return df"
   ]
  },
  {
   "cell_type": "code",
   "execution_count": 50,
   "metadata": {},
   "outputs": [
    {
     "name": "stdout",
     "output_type": "stream",
     "text": [
      "Currently testing max_iterations=50, exploration_weight=1, max_simulations=5\n"
     ]
    },
    {
     "name": "stderr",
     "output_type": "stream",
     "text": [
      "100%|██████████| 100/100 [02:55<00:00,  1.76s/it]\n"
     ]
    },
    {
     "name": "stdout",
     "output_type": "stream",
     "text": [
      "Currently testing max_iterations=50, exploration_weight=1, max_simulations=10\n"
     ]
    },
    {
     "name": "stderr",
     "output_type": "stream",
     "text": [
      "100%|██████████| 100/100 [03:16<00:00,  1.97s/it]\n"
     ]
    },
    {
     "name": "stdout",
     "output_type": "stream",
     "text": [
      "Currently testing max_iterations=50, exploration_weight=1, max_simulations=25\n"
     ]
    },
    {
     "name": "stderr",
     "output_type": "stream",
     "text": [
      "100%|██████████| 100/100 [04:49<00:00,  2.90s/it]\n"
     ]
    },
    {
     "name": "stdout",
     "output_type": "stream",
     "text": [
      "Currently testing max_iterations=50, exploration_weight=1, max_simulations=50\n"
     ]
    },
    {
     "name": "stderr",
     "output_type": "stream",
     "text": [
      "100%|██████████| 100/100 [10:01<00:00,  6.02s/it]\n"
     ]
    },
    {
     "name": "stdout",
     "output_type": "stream",
     "text": [
      "Currently testing max_iterations=50, exploration_weight=1.41, max_simulations=5\n"
     ]
    },
    {
     "name": "stderr",
     "output_type": "stream",
     "text": [
      "100%|██████████| 100/100 [02:33<00:00,  1.54s/it]\n"
     ]
    },
    {
     "name": "stdout",
     "output_type": "stream",
     "text": [
      "Currently testing max_iterations=50, exploration_weight=1.41, max_simulations=10\n"
     ]
    },
    {
     "name": "stderr",
     "output_type": "stream",
     "text": [
      "100%|██████████| 100/100 [02:55<00:00,  1.76s/it]\n"
     ]
    },
    {
     "name": "stdout",
     "output_type": "stream",
     "text": [
      "Currently testing max_iterations=50, exploration_weight=1.41, max_simulations=25\n"
     ]
    },
    {
     "name": "stderr",
     "output_type": "stream",
     "text": [
      "100%|██████████| 100/100 [04:19<00:00,  2.59s/it]\n"
     ]
    },
    {
     "name": "stdout",
     "output_type": "stream",
     "text": [
      "Currently testing max_iterations=50, exploration_weight=1.41, max_simulations=50\n"
     ]
    },
    {
     "name": "stderr",
     "output_type": "stream",
     "text": [
      "100%|██████████| 100/100 [06:59<00:00,  4.20s/it]\n"
     ]
    },
    {
     "name": "stdout",
     "output_type": "stream",
     "text": [
      "Currently testing max_iterations=100, exploration_weight=1, max_simulations=5\n"
     ]
    },
    {
     "name": "stderr",
     "output_type": "stream",
     "text": [
      "100%|██████████| 100/100 [04:55<00:00,  2.95s/it]\n"
     ]
    },
    {
     "name": "stdout",
     "output_type": "stream",
     "text": [
      "Currently testing max_iterations=100, exploration_weight=1, max_simulations=10\n"
     ]
    },
    {
     "name": "stderr",
     "output_type": "stream",
     "text": [
      "100%|██████████| 100/100 [06:16<00:00,  3.77s/it]\n"
     ]
    },
    {
     "name": "stdout",
     "output_type": "stream",
     "text": [
      "Currently testing max_iterations=100, exploration_weight=1, max_simulations=25\n"
     ]
    },
    {
     "name": "stderr",
     "output_type": "stream",
     "text": [
      "100%|██████████| 100/100 [08:39<00:00,  5.20s/it]\n"
     ]
    },
    {
     "name": "stdout",
     "output_type": "stream",
     "text": [
      "Currently testing max_iterations=100, exploration_weight=1, max_simulations=50\n"
     ]
    },
    {
     "name": "stderr",
     "output_type": "stream",
     "text": [
      "100%|██████████| 100/100 [12:26<00:00,  7.47s/it]\n"
     ]
    },
    {
     "name": "stdout",
     "output_type": "stream",
     "text": [
      "Currently testing max_iterations=100, exploration_weight=1.41, max_simulations=5\n"
     ]
    },
    {
     "name": "stderr",
     "output_type": "stream",
     "text": [
      "100%|██████████| 100/100 [05:33<00:00,  3.34s/it]\n"
     ]
    },
    {
     "name": "stdout",
     "output_type": "stream",
     "text": [
      "Currently testing max_iterations=100, exploration_weight=1.41, max_simulations=10\n"
     ]
    },
    {
     "name": "stderr",
     "output_type": "stream",
     "text": [
      "100%|██████████| 100/100 [06:10<00:00,  3.70s/it]\n"
     ]
    },
    {
     "name": "stdout",
     "output_type": "stream",
     "text": [
      "Currently testing max_iterations=100, exploration_weight=1.41, max_simulations=25\n"
     ]
    },
    {
     "name": "stderr",
     "output_type": "stream",
     "text": [
      "100%|██████████| 100/100 [09:11<00:00,  5.52s/it]\n"
     ]
    },
    {
     "name": "stdout",
     "output_type": "stream",
     "text": [
      "Currently testing max_iterations=100, exploration_weight=1.41, max_simulations=50\n"
     ]
    },
    {
     "name": "stderr",
     "output_type": "stream",
     "text": [
      "100%|██████████| 100/100 [12:23<00:00,  7.43s/it]\n"
     ]
    },
    {
     "name": "stdout",
     "output_type": "stream",
     "text": [
      "Currently testing max_iterations=250, exploration_weight=1, max_simulations=5\n"
     ]
    },
    {
     "name": "stderr",
     "output_type": "stream",
     "text": [
      "100%|██████████| 100/100 [12:25<00:00,  7.45s/it]\n"
     ]
    },
    {
     "name": "stdout",
     "output_type": "stream",
     "text": [
      "Currently testing max_iterations=250, exploration_weight=1, max_simulations=10\n"
     ]
    },
    {
     "name": "stderr",
     "output_type": "stream",
     "text": [
      "100%|██████████| 100/100 [14:22<00:00,  8.62s/it]\n"
     ]
    },
    {
     "name": "stdout",
     "output_type": "stream",
     "text": [
      "Currently testing max_iterations=250, exploration_weight=1, max_simulations=25\n"
     ]
    },
    {
     "name": "stderr",
     "output_type": "stream",
     "text": [
      "100%|██████████| 100/100 [20:46<00:00, 12.46s/it]\n"
     ]
    },
    {
     "name": "stdout",
     "output_type": "stream",
     "text": [
      "Currently testing max_iterations=250, exploration_weight=1, max_simulations=50\n"
     ]
    },
    {
     "name": "stderr",
     "output_type": "stream",
     "text": [
      "100%|██████████| 100/100 [29:17<00:00, 17.57s/it]\n"
     ]
    },
    {
     "name": "stdout",
     "output_type": "stream",
     "text": [
      "Currently testing max_iterations=250, exploration_weight=1.41, max_simulations=5\n"
     ]
    },
    {
     "name": "stderr",
     "output_type": "stream",
     "text": [
      "100%|██████████| 100/100 [13:44<00:00,  8.24s/it]\n"
     ]
    },
    {
     "name": "stdout",
     "output_type": "stream",
     "text": [
      "Currently testing max_iterations=250, exploration_weight=1.41, max_simulations=10\n"
     ]
    },
    {
     "name": "stderr",
     "output_type": "stream",
     "text": [
      "100%|██████████| 100/100 [14:53<00:00,  8.94s/it]\n"
     ]
    },
    {
     "name": "stdout",
     "output_type": "stream",
     "text": [
      "Currently testing max_iterations=250, exploration_weight=1.41, max_simulations=25\n"
     ]
    },
    {
     "name": "stderr",
     "output_type": "stream",
     "text": [
      "100%|██████████| 100/100 [22:20<00:00, 13.41s/it]\n"
     ]
    },
    {
     "name": "stdout",
     "output_type": "stream",
     "text": [
      "Currently testing max_iterations=250, exploration_weight=1.41, max_simulations=50\n"
     ]
    },
    {
     "name": "stderr",
     "output_type": "stream",
     "text": [
      "100%|██████████| 100/100 [33:40<00:00, 20.21s/it]\n"
     ]
    },
    {
     "name": "stdout",
     "output_type": "stream",
     "text": [
      "Currently testing max_iterations=500, exploration_weight=1, max_simulations=5\n"
     ]
    },
    {
     "name": "stderr",
     "output_type": "stream",
     "text": [
      "100%|██████████| 100/100 [24:39<00:00, 14.80s/it]\n"
     ]
    },
    {
     "name": "stdout",
     "output_type": "stream",
     "text": [
      "Currently testing max_iterations=500, exploration_weight=1, max_simulations=10\n"
     ]
    },
    {
     "name": "stderr",
     "output_type": "stream",
     "text": [
      "100%|██████████| 100/100 [24:03<00:00, 14.44s/it]\n"
     ]
    },
    {
     "name": "stdout",
     "output_type": "stream",
     "text": [
      "Currently testing max_iterations=500, exploration_weight=1, max_simulations=25\n"
     ]
    },
    {
     "name": "stderr",
     "output_type": "stream",
     "text": [
      "100%|██████████| 100/100 [35:53<00:00, 21.54s/it]\n"
     ]
    },
    {
     "name": "stdout",
     "output_type": "stream",
     "text": [
      "Currently testing max_iterations=500, exploration_weight=1, max_simulations=50\n"
     ]
    },
    {
     "name": "stderr",
     "output_type": "stream",
     "text": [
      "100%|██████████| 100/100 [49:59<00:00, 29.99s/it]\n"
     ]
    },
    {
     "name": "stdout",
     "output_type": "stream",
     "text": [
      "Currently testing max_iterations=500, exploration_weight=1.41, max_simulations=5\n"
     ]
    },
    {
     "name": "stderr",
     "output_type": "stream",
     "text": [
      "100%|██████████| 100/100 [28:47<00:00, 17.27s/it]\n"
     ]
    },
    {
     "name": "stdout",
     "output_type": "stream",
     "text": [
      "Currently testing max_iterations=500, exploration_weight=1.41, max_simulations=10\n"
     ]
    },
    {
     "name": "stderr",
     "output_type": "stream",
     "text": [
      "100%|██████████| 100/100 [29:26<00:00, 17.66s/it]\n"
     ]
    },
    {
     "name": "stdout",
     "output_type": "stream",
     "text": [
      "Currently testing max_iterations=500, exploration_weight=1.41, max_simulations=25\n"
     ]
    },
    {
     "name": "stderr",
     "output_type": "stream",
     "text": [
      "100%|██████████| 100/100 [43:10<00:00, 25.90s/it]\n"
     ]
    },
    {
     "name": "stdout",
     "output_type": "stream",
     "text": [
      "Currently testing max_iterations=500, exploration_weight=1.41, max_simulations=50\n"
     ]
    },
    {
     "name": "stderr",
     "output_type": "stream",
     "text": [
      "100%|██████████| 100/100 [1:06:13<00:00, 39.73s/it]\n"
     ]
    },
    {
     "name": "stdout",
     "output_type": "stream",
     "text": [
      "Currently testing max_iterations=1000, exploration_weight=1, max_simulations=5\n"
     ]
    },
    {
     "name": "stderr",
     "output_type": "stream",
     "text": [
      "100%|██████████| 100/100 [40:35<00:00, 24.36s/it]\n"
     ]
    },
    {
     "name": "stdout",
     "output_type": "stream",
     "text": [
      "Currently testing max_iterations=1000, exploration_weight=1, max_simulations=10\n"
     ]
    },
    {
     "name": "stderr",
     "output_type": "stream",
     "text": [
      "100%|██████████| 100/100 [46:10<00:00, 27.71s/it]\n"
     ]
    },
    {
     "name": "stdout",
     "output_type": "stream",
     "text": [
      "Currently testing max_iterations=1000, exploration_weight=1, max_simulations=25\n"
     ]
    },
    {
     "name": "stderr",
     "output_type": "stream",
     "text": [
      "100%|██████████| 100/100 [57:30<00:00, 34.50s/it]\n"
     ]
    },
    {
     "name": "stdout",
     "output_type": "stream",
     "text": [
      "Currently testing max_iterations=1000, exploration_weight=1, max_simulations=50\n"
     ]
    },
    {
     "name": "stderr",
     "output_type": "stream",
     "text": [
      "100%|██████████| 100/100 [1:20:27<00:00, 48.27s/it]\n"
     ]
    },
    {
     "name": "stdout",
     "output_type": "stream",
     "text": [
      "Currently testing max_iterations=1000, exploration_weight=1.41, max_simulations=5\n"
     ]
    },
    {
     "name": "stderr",
     "output_type": "stream",
     "text": [
      "100%|██████████| 100/100 [53:30<00:00, 32.10s/it]\n"
     ]
    },
    {
     "name": "stdout",
     "output_type": "stream",
     "text": [
      "Currently testing max_iterations=1000, exploration_weight=1.41, max_simulations=10\n"
     ]
    },
    {
     "name": "stderr",
     "output_type": "stream",
     "text": [
      "100%|██████████| 100/100 [55:48<00:00, 33.49s/it] \n"
     ]
    },
    {
     "name": "stdout",
     "output_type": "stream",
     "text": [
      "Currently testing max_iterations=1000, exploration_weight=1.41, max_simulations=25\n"
     ]
    },
    {
     "name": "stderr",
     "output_type": "stream",
     "text": [
      "100%|██████████| 100/100 [1:19:55<00:00, 47.96s/it]\n"
     ]
    },
    {
     "name": "stdout",
     "output_type": "stream",
     "text": [
      "Currently testing max_iterations=1000, exploration_weight=1.41, max_simulations=50\n"
     ]
    },
    {
     "name": "stderr",
     "output_type": "stream",
     "text": [
      "100%|██████████| 100/100 [2:25:17<00:00, 87.18s/it]  \n"
     ]
    }
   ],
   "source": [
    "random.seed(42)\n",
    "max_iterations_lst = [50, 100, 250, 500, 1000]\n",
    "exploration_weight_lst = [1, 1.41]\n",
    "max_simulations_lst = [5, 10, 25, 50]\n",
    "grid_search_df = grid_search(max_iterations_lst, exploration_weight_lst, max_simulations_lst)"
   ]
  },
  {
   "cell_type": "code",
   "execution_count": 51,
   "metadata": {},
   "outputs": [],
   "source": [
    "file_path = 'GridSearch_RandomStrategy.json'\n",
    "with open(file_path, 'w') as json_file:\n",
    "    json.dump(grid_search_df.to_dict(), json_file, indent=4)"
   ]
  },
  {
   "cell_type": "markdown",
   "metadata": {},
   "source": [
    "## Interpreting Grid Search Results"
   ]
  },
  {
   "cell_type": "code",
   "execution_count": 4,
   "metadata": {},
   "outputs": [],
   "source": [
    "file_path = 'GridSearch_BaseStrategy.json'\n",
    "with open(file_path, 'r') as json_file:\n",
    "    results = json.load(json_file)"
   ]
  },
  {
   "cell_type": "code",
   "execution_count": 5,
   "metadata": {},
   "outputs": [],
   "source": [
    "dict_results = {'Agent bankrupt': [0]*40, 'Other player(s) bankrupt': [0]*40, 'Agent greater wealth': [0]*40,\n",
    "                'Other player(s) greater wealth': [0]*40, 'Tied': [0]*40}\n",
    "\n",
    "for i in range(40):\n",
    "    agent_bankrupt = 0\n",
    "    player_bankrupt = 0\n",
    "    agent_greater_wealth = 0\n",
    "    player_greater_wealth = 0\n",
    "    tied = 0\n",
    "    for j in range(100):\n",
    "        money_owed_player = sum(list(results['Agent'].values())[100*i+j][-1].values())\n",
    "        money_owed_agent = sum(list(results['Other player(s)'].values())[100*i+j][0][-1].values())\n",
    "        if list(results['Agent'].values())[100*i+j][3]:\n",
    "            agent_bankrupt += 1\n",
    "        elif list(results['Other player(s)'].values())[100*i+j][0][3]:\n",
    "            player_bankrupt += 1\n",
    "        elif list(results['Agent Wealth'].values())[100*i+j] - money_owed_agent\\\n",
    "            > list(results['Other Player(s) Wealth'].values())[100*i+j][0] - money_owed_player:\n",
    "            agent_greater_wealth += 1\n",
    "        elif list(results['Agent Wealth'].values())[100*i+j] - money_owed_agent\\\n",
    "            < list(results['Other Player(s) Wealth'].values())[100*i+j][0] - money_owed_player:\n",
    "            player_greater_wealth += 1\n",
    "        else:\n",
    "            tied += 1\n",
    "\n",
    "    dict_results['Agent bankrupt'][i] = agent_bankrupt\n",
    "    dict_results['Other player(s) bankrupt'][i] = player_bankrupt\n",
    "    dict_results['Agent greater wealth'][i] = agent_greater_wealth\n",
    "    dict_results['Other player(s) greater wealth'][i] = player_greater_wealth\n",
    "    dict_results['Tied'][i] = tied"
   ]
  },
  {
   "cell_type": "code",
   "execution_count": 12,
   "metadata": {},
   "outputs": [],
   "source": [
    "df_results = pd.DataFrame(dict_results)"
   ]
  },
  {
   "cell_type": "code",
   "execution_count": 8,
   "metadata": {},
   "outputs": [
    {
     "data": {
      "text/html": [
       "<div>\n",
       "<style scoped>\n",
       "    .dataframe tbody tr th:only-of-type {\n",
       "        vertical-align: middle;\n",
       "    }\n",
       "\n",
       "    .dataframe tbody tr th {\n",
       "        vertical-align: top;\n",
       "    }\n",
       "\n",
       "    .dataframe thead th {\n",
       "        text-align: right;\n",
       "    }\n",
       "</style>\n",
       "<table border=\"1\" class=\"dataframe\">\n",
       "  <thead>\n",
       "    <tr style=\"text-align: right;\">\n",
       "      <th></th>\n",
       "      <th>Agent bankrupt</th>\n",
       "      <th>Other player(s) bankrupt</th>\n",
       "      <th>Agent greater wealth</th>\n",
       "      <th>Other player(s) greater wealth</th>\n",
       "      <th>Tied</th>\n",
       "      <th>Max iterations</th>\n",
       "      <th>Exploration weight</th>\n",
       "      <th>Max simulations</th>\n",
       "    </tr>\n",
       "  </thead>\n",
       "  <tbody>\n",
       "    <tr>\n",
       "      <th>0</th>\n",
       "      <td>0</td>\n",
       "      <td>0</td>\n",
       "      <td>46</td>\n",
       "      <td>54</td>\n",
       "      <td>0</td>\n",
       "      <td>50</td>\n",
       "      <td>1.00</td>\n",
       "      <td>5</td>\n",
       "    </tr>\n",
       "    <tr>\n",
       "      <th>1</th>\n",
       "      <td>0</td>\n",
       "      <td>0</td>\n",
       "      <td>48</td>\n",
       "      <td>52</td>\n",
       "      <td>0</td>\n",
       "      <td>50</td>\n",
       "      <td>1.00</td>\n",
       "      <td>10</td>\n",
       "    </tr>\n",
       "    <tr>\n",
       "      <th>2</th>\n",
       "      <td>0</td>\n",
       "      <td>0</td>\n",
       "      <td>46</td>\n",
       "      <td>54</td>\n",
       "      <td>0</td>\n",
       "      <td>50</td>\n",
       "      <td>1.00</td>\n",
       "      <td>25</td>\n",
       "    </tr>\n",
       "    <tr>\n",
       "      <th>3</th>\n",
       "      <td>0</td>\n",
       "      <td>0</td>\n",
       "      <td>40</td>\n",
       "      <td>60</td>\n",
       "      <td>0</td>\n",
       "      <td>50</td>\n",
       "      <td>1.00</td>\n",
       "      <td>50</td>\n",
       "    </tr>\n",
       "    <tr>\n",
       "      <th>4</th>\n",
       "      <td>0</td>\n",
       "      <td>0</td>\n",
       "      <td>40</td>\n",
       "      <td>60</td>\n",
       "      <td>0</td>\n",
       "      <td>50</td>\n",
       "      <td>1.41</td>\n",
       "      <td>5</td>\n",
       "    </tr>\n",
       "  </tbody>\n",
       "</table>\n",
       "</div>"
      ],
      "text/plain": [
       "   Agent bankrupt  Other player(s) bankrupt  Agent greater wealth  \\\n",
       "0               0                         0                    46   \n",
       "1               0                         0                    48   \n",
       "2               0                         0                    46   \n",
       "3               0                         0                    40   \n",
       "4               0                         0                    40   \n",
       "\n",
       "   Other player(s) greater wealth  Tied  Max iterations  Exploration weight  \\\n",
       "0                              54     0              50                1.00   \n",
       "1                              52     0              50                1.00   \n",
       "2                              54     0              50                1.00   \n",
       "3                              60     0              50                1.00   \n",
       "4                              60     0              50                1.41   \n",
       "\n",
       "   Max simulations  \n",
       "0                5  \n",
       "1               10  \n",
       "2               25  \n",
       "3               50  \n",
       "4                5  "
      ]
     },
     "execution_count": 8,
     "metadata": {},
     "output_type": "execute_result"
    }
   ],
   "source": [
    "#max_iterations_lst = [50, 100, 250, 500, 1000]\n",
    "#exploration_weight_lst = [1, 1.41]\n",
    "#max_simulations_lst = [5, 10, 25, 50]\n",
    "\n",
    "max_iterations_gs = [50]*8 + [100]*8 + [250]*8 + [500]*8 + [1000]*8\n",
    "exploration_weight_gs = ([1]*4 + [1.41]*4)*5\n",
    "max_simulations_gs = [5, 10, 25, 50]*10\n",
    "\n",
    "df_results['Max iterations'] = max_iterations_gs\n",
    "df_results['Exploration weight'] = exploration_weight_gs\n",
    "df_results['Max simulations'] = max_simulations_gs\n",
    "df_results.head()"
   ]
  },
  {
   "cell_type": "code",
   "execution_count": 9,
   "metadata": {},
   "outputs": [
    {
     "data": {
      "text/html": [
       "<div>\n",
       "<style scoped>\n",
       "    .dataframe tbody tr th:only-of-type {\n",
       "        vertical-align: middle;\n",
       "    }\n",
       "\n",
       "    .dataframe tbody tr th {\n",
       "        vertical-align: top;\n",
       "    }\n",
       "\n",
       "    .dataframe thead th {\n",
       "        text-align: right;\n",
       "    }\n",
       "</style>\n",
       "<table border=\"1\" class=\"dataframe\">\n",
       "  <thead>\n",
       "    <tr style=\"text-align: right;\">\n",
       "      <th></th>\n",
       "      <th>Agent bankrupt</th>\n",
       "      <th>Other player(s) bankrupt</th>\n",
       "      <th>Agent greater wealth</th>\n",
       "      <th>Other player(s) greater wealth</th>\n",
       "      <th>Tied</th>\n",
       "      <th>Max iterations</th>\n",
       "      <th>Exploration weight</th>\n",
       "      <th>Max simulations</th>\n",
       "      <th>Agent winning</th>\n",
       "    </tr>\n",
       "  </thead>\n",
       "  <tbody>\n",
       "    <tr>\n",
       "      <th>0</th>\n",
       "      <td>0</td>\n",
       "      <td>0</td>\n",
       "      <td>46</td>\n",
       "      <td>54</td>\n",
       "      <td>0</td>\n",
       "      <td>50</td>\n",
       "      <td>1.00</td>\n",
       "      <td>5</td>\n",
       "      <td>0.46</td>\n",
       "    </tr>\n",
       "    <tr>\n",
       "      <th>1</th>\n",
       "      <td>0</td>\n",
       "      <td>0</td>\n",
       "      <td>48</td>\n",
       "      <td>52</td>\n",
       "      <td>0</td>\n",
       "      <td>50</td>\n",
       "      <td>1.00</td>\n",
       "      <td>10</td>\n",
       "      <td>0.48</td>\n",
       "    </tr>\n",
       "    <tr>\n",
       "      <th>2</th>\n",
       "      <td>0</td>\n",
       "      <td>0</td>\n",
       "      <td>46</td>\n",
       "      <td>54</td>\n",
       "      <td>0</td>\n",
       "      <td>50</td>\n",
       "      <td>1.00</td>\n",
       "      <td>25</td>\n",
       "      <td>0.46</td>\n",
       "    </tr>\n",
       "    <tr>\n",
       "      <th>3</th>\n",
       "      <td>0</td>\n",
       "      <td>0</td>\n",
       "      <td>40</td>\n",
       "      <td>60</td>\n",
       "      <td>0</td>\n",
       "      <td>50</td>\n",
       "      <td>1.00</td>\n",
       "      <td>50</td>\n",
       "      <td>0.40</td>\n",
       "    </tr>\n",
       "    <tr>\n",
       "      <th>4</th>\n",
       "      <td>0</td>\n",
       "      <td>0</td>\n",
       "      <td>40</td>\n",
       "      <td>60</td>\n",
       "      <td>0</td>\n",
       "      <td>50</td>\n",
       "      <td>1.41</td>\n",
       "      <td>5</td>\n",
       "      <td>0.40</td>\n",
       "    </tr>\n",
       "  </tbody>\n",
       "</table>\n",
       "</div>"
      ],
      "text/plain": [
       "   Agent bankrupt  Other player(s) bankrupt  Agent greater wealth  \\\n",
       "0               0                         0                    46   \n",
       "1               0                         0                    48   \n",
       "2               0                         0                    46   \n",
       "3               0                         0                    40   \n",
       "4               0                         0                    40   \n",
       "\n",
       "   Other player(s) greater wealth  Tied  Max iterations  Exploration weight  \\\n",
       "0                              54     0              50                1.00   \n",
       "1                              52     0              50                1.00   \n",
       "2                              54     0              50                1.00   \n",
       "3                              60     0              50                1.00   \n",
       "4                              60     0              50                1.41   \n",
       "\n",
       "   Max simulations  Agent winning  \n",
       "0                5           0.46  \n",
       "1               10           0.48  \n",
       "2               25           0.46  \n",
       "3               50           0.40  \n",
       "4                5           0.40  "
      ]
     },
     "execution_count": 9,
     "metadata": {},
     "output_type": "execute_result"
    }
   ],
   "source": [
    "df_results['Agent winning'] = (df_results['Agent greater wealth'] + df_results['Other player(s) bankrupt'])/100\n",
    "df_results.head()"
   ]
  },
  {
   "cell_type": "code",
   "execution_count": 10,
   "metadata": {},
   "outputs": [
    {
     "data": {
      "image/png": "[encoded data removed]",
      "text/plain": [
       "<Figure size 1800x800 with 4 Axes>"
      ]
     },
     "metadata": {},
     "output_type": "display_data"
    }
   ],
   "source": [
    "fig, (ax1, ax2) = plt.subplots(1, 2, figsize=(18, 8), sharey=True, sharex=True)\n",
    "\n",
    "exploration_weight_lst = [1, 1.41]\n",
    "for idx, exploration_weight in enumerate(exploration_weight_lst):\n",
    "    df_results_subset = df_results[df_results['Exploration weight'] == exploration_weight]\n",
    "    matrix = df_results_subset.pivot(index=\"Max simulations\", columns=\"Max iterations\", values=\"Agent winning\")\n",
    "    if idx == 0:\n",
    "        sns.heatmap(matrix, ax=ax1) \n",
    "        ax1.set_title(f\"Exploration weight: {exploration_weight}\", fontsize=20)\n",
    "        ax1.set_xlabel('')\n",
    "        ax1.set_ylabel('')\n",
    "    else:\n",
    "        sns.heatmap(matrix, ax=ax2)\n",
    "        ax2.set_title(f\"Exploration weight: {exploration_weight}\", fontsize=20)\n",
    "        ax2.set_xlabel('')\n",
    "        ax2.set_ylabel('')\n",
    "\n",
    "fig.supxlabel('Max iterations', fontsize=20)\n",
    "fig.supylabel('Max simulations', fontsize=20)\n",
    "fig.suptitle('Proportion of Games Where Agent is Winning', fontsize=25)\n",
    "fig.tight_layout()\n",
    "plt.show()"
   ]
  },
  {
   "cell_type": "code",
   "execution_count": 11,
   "metadata": {},
   "outputs": [
    {
     "data": {
      "text/html": [
       "<div>\n",
       "<style scoped>\n",
       "    .dataframe tbody tr th:only-of-type {\n",
       "        vertical-align: middle;\n",
       "    }\n",
       "\n",
       "    .dataframe tbody tr th {\n",
       "        vertical-align: top;\n",
       "    }\n",
       "\n",
       "    .dataframe thead th {\n",
       "        text-align: right;\n",
       "    }\n",
       "</style>\n",
       "<table border=\"1\" class=\"dataframe\">\n",
       "  <thead>\n",
       "    <tr style=\"text-align: right;\">\n",
       "      <th></th>\n",
       "      <th>Agent bankrupt</th>\n",
       "      <th>Other player(s) bankrupt</th>\n",
       "      <th>Agent greater wealth</th>\n",
       "      <th>Other player(s) greater wealth</th>\n",
       "      <th>Tied</th>\n",
       "      <th>Max iterations</th>\n",
       "      <th>Exploration weight</th>\n",
       "      <th>Max simulations</th>\n",
       "      <th>Agent winning</th>\n",
       "    </tr>\n",
       "  </thead>\n",
       "  <tbody>\n",
       "    <tr>\n",
       "      <th>0</th>\n",
       "      <td>0</td>\n",
       "      <td>0</td>\n",
       "      <td>46</td>\n",
       "      <td>54</td>\n",
       "      <td>0</td>\n",
       "      <td>50</td>\n",
       "      <td>1.00</td>\n",
       "      <td>5</td>\n",
       "      <td>0.46</td>\n",
       "    </tr>\n",
       "    <tr>\n",
       "      <th>1</th>\n",
       "      <td>0</td>\n",
       "      <td>0</td>\n",
       "      <td>48</td>\n",
       "      <td>52</td>\n",
       "      <td>0</td>\n",
       "      <td>50</td>\n",
       "      <td>1.00</td>\n",
       "      <td>10</td>\n",
       "      <td>0.48</td>\n",
       "    </tr>\n",
       "    <tr>\n",
       "      <th>2</th>\n",
       "      <td>0</td>\n",
       "      <td>0</td>\n",
       "      <td>46</td>\n",
       "      <td>54</td>\n",
       "      <td>0</td>\n",
       "      <td>50</td>\n",
       "      <td>1.00</td>\n",
       "      <td>25</td>\n",
       "      <td>0.46</td>\n",
       "    </tr>\n",
       "    <tr>\n",
       "      <th>3</th>\n",
       "      <td>0</td>\n",
       "      <td>0</td>\n",
       "      <td>40</td>\n",
       "      <td>60</td>\n",
       "      <td>0</td>\n",
       "      <td>50</td>\n",
       "      <td>1.00</td>\n",
       "      <td>50</td>\n",
       "      <td>0.40</td>\n",
       "    </tr>\n",
       "    <tr>\n",
       "      <th>4</th>\n",
       "      <td>0</td>\n",
       "      <td>0</td>\n",
       "      <td>40</td>\n",
       "      <td>60</td>\n",
       "      <td>0</td>\n",
       "      <td>50</td>\n",
       "      <td>1.41</td>\n",
       "      <td>5</td>\n",
       "      <td>0.40</td>\n",
       "    </tr>\n",
       "    <tr>\n",
       "      <th>5</th>\n",
       "      <td>0</td>\n",
       "      <td>0</td>\n",
       "      <td>41</td>\n",
       "      <td>59</td>\n",
       "      <td>0</td>\n",
       "      <td>50</td>\n",
       "      <td>1.41</td>\n",
       "      <td>10</td>\n",
       "      <td>0.41</td>\n",
       "    </tr>\n",
       "    <tr>\n",
       "      <th>6</th>\n",
       "      <td>0</td>\n",
       "      <td>0</td>\n",
       "      <td>36</td>\n",
       "      <td>64</td>\n",
       "      <td>0</td>\n",
       "      <td>50</td>\n",
       "      <td>1.41</td>\n",
       "      <td>25</td>\n",
       "      <td>0.36</td>\n",
       "    </tr>\n",
       "    <tr>\n",
       "      <th>7</th>\n",
       "      <td>0</td>\n",
       "      <td>1</td>\n",
       "      <td>29</td>\n",
       "      <td>70</td>\n",
       "      <td>0</td>\n",
       "      <td>50</td>\n",
       "      <td>1.41</td>\n",
       "      <td>50</td>\n",
       "      <td>0.30</td>\n",
       "    </tr>\n",
       "    <tr>\n",
       "      <th>8</th>\n",
       "      <td>0</td>\n",
       "      <td>1</td>\n",
       "      <td>52</td>\n",
       "      <td>47</td>\n",
       "      <td>0</td>\n",
       "      <td>100</td>\n",
       "      <td>1.00</td>\n",
       "      <td>5</td>\n",
       "      <td>0.53</td>\n",
       "    </tr>\n",
       "    <tr>\n",
       "      <th>9</th>\n",
       "      <td>0</td>\n",
       "      <td>1</td>\n",
       "      <td>51</td>\n",
       "      <td>48</td>\n",
       "      <td>0</td>\n",
       "      <td>100</td>\n",
       "      <td>1.00</td>\n",
       "      <td>10</td>\n",
       "      <td>0.52</td>\n",
       "    </tr>\n",
       "    <tr>\n",
       "      <th>10</th>\n",
       "      <td>0</td>\n",
       "      <td>0</td>\n",
       "      <td>49</td>\n",
       "      <td>51</td>\n",
       "      <td>0</td>\n",
       "      <td>100</td>\n",
       "      <td>1.00</td>\n",
       "      <td>25</td>\n",
       "      <td>0.49</td>\n",
       "    </tr>\n",
       "    <tr>\n",
       "      <th>11</th>\n",
       "      <td>0</td>\n",
       "      <td>4</td>\n",
       "      <td>59</td>\n",
       "      <td>37</td>\n",
       "      <td>0</td>\n",
       "      <td>100</td>\n",
       "      <td>1.00</td>\n",
       "      <td>50</td>\n",
       "      <td>0.63</td>\n",
       "    </tr>\n",
       "    <tr>\n",
       "      <th>12</th>\n",
       "      <td>0</td>\n",
       "      <td>0</td>\n",
       "      <td>36</td>\n",
       "      <td>64</td>\n",
       "      <td>0</td>\n",
       "      <td>100</td>\n",
       "      <td>1.41</td>\n",
       "      <td>5</td>\n",
       "      <td>0.36</td>\n",
       "    </tr>\n",
       "    <tr>\n",
       "      <th>13</th>\n",
       "      <td>0</td>\n",
       "      <td>0</td>\n",
       "      <td>48</td>\n",
       "      <td>52</td>\n",
       "      <td>0</td>\n",
       "      <td>100</td>\n",
       "      <td>1.41</td>\n",
       "      <td>10</td>\n",
       "      <td>0.48</td>\n",
       "    </tr>\n",
       "    <tr>\n",
       "      <th>14</th>\n",
       "      <td>0</td>\n",
       "      <td>2</td>\n",
       "      <td>43</td>\n",
       "      <td>55</td>\n",
       "      <td>0</td>\n",
       "      <td>100</td>\n",
       "      <td>1.41</td>\n",
       "      <td>25</td>\n",
       "      <td>0.45</td>\n",
       "    </tr>\n",
       "    <tr>\n",
       "      <th>15</th>\n",
       "      <td>0</td>\n",
       "      <td>2</td>\n",
       "      <td>50</td>\n",
       "      <td>48</td>\n",
       "      <td>0</td>\n",
       "      <td>100</td>\n",
       "      <td>1.41</td>\n",
       "      <td>50</td>\n",
       "      <td>0.52</td>\n",
       "    </tr>\n",
       "    <tr>\n",
       "      <th>16</th>\n",
       "      <td>0</td>\n",
       "      <td>0</td>\n",
       "      <td>83</td>\n",
       "      <td>17</td>\n",
       "      <td>0</td>\n",
       "      <td>250</td>\n",
       "      <td>1.00</td>\n",
       "      <td>5</td>\n",
       "      <td>0.83</td>\n",
       "    </tr>\n",
       "    <tr>\n",
       "      <th>17</th>\n",
       "      <td>0</td>\n",
       "      <td>1</td>\n",
       "      <td>77</td>\n",
       "      <td>22</td>\n",
       "      <td>0</td>\n",
       "      <td>250</td>\n",
       "      <td>1.00</td>\n",
       "      <td>10</td>\n",
       "      <td>0.78</td>\n",
       "    </tr>\n",
       "    <tr>\n",
       "      <th>18</th>\n",
       "      <td>0</td>\n",
       "      <td>3</td>\n",
       "      <td>71</td>\n",
       "      <td>25</td>\n",
       "      <td>1</td>\n",
       "      <td>250</td>\n",
       "      <td>1.00</td>\n",
       "      <td>25</td>\n",
       "      <td>0.74</td>\n",
       "    </tr>\n",
       "    <tr>\n",
       "      <th>19</th>\n",
       "      <td>0</td>\n",
       "      <td>5</td>\n",
       "      <td>73</td>\n",
       "      <td>22</td>\n",
       "      <td>0</td>\n",
       "      <td>250</td>\n",
       "      <td>1.00</td>\n",
       "      <td>50</td>\n",
       "      <td>0.78</td>\n",
       "    </tr>\n",
       "    <tr>\n",
       "      <th>20</th>\n",
       "      <td>0</td>\n",
       "      <td>0</td>\n",
       "      <td>55</td>\n",
       "      <td>45</td>\n",
       "      <td>0</td>\n",
       "      <td>250</td>\n",
       "      <td>1.41</td>\n",
       "      <td>5</td>\n",
       "      <td>0.55</td>\n",
       "    </tr>\n",
       "    <tr>\n",
       "      <th>21</th>\n",
       "      <td>0</td>\n",
       "      <td>3</td>\n",
       "      <td>57</td>\n",
       "      <td>40</td>\n",
       "      <td>0</td>\n",
       "      <td>250</td>\n",
       "      <td>1.41</td>\n",
       "      <td>10</td>\n",
       "      <td>0.60</td>\n",
       "    </tr>\n",
       "    <tr>\n",
       "      <th>22</th>\n",
       "      <td>0</td>\n",
       "      <td>1</td>\n",
       "      <td>59</td>\n",
       "      <td>40</td>\n",
       "      <td>0</td>\n",
       "      <td>250</td>\n",
       "      <td>1.41</td>\n",
       "      <td>25</td>\n",
       "      <td>0.60</td>\n",
       "    </tr>\n",
       "    <tr>\n",
       "      <th>23</th>\n",
       "      <td>0</td>\n",
       "      <td>3</td>\n",
       "      <td>53</td>\n",
       "      <td>44</td>\n",
       "      <td>0</td>\n",
       "      <td>250</td>\n",
       "      <td>1.41</td>\n",
       "      <td>50</td>\n",
       "      <td>0.56</td>\n",
       "    </tr>\n",
       "    <tr>\n",
       "      <th>24</th>\n",
       "      <td>0</td>\n",
       "      <td>3</td>\n",
       "      <td>95</td>\n",
       "      <td>2</td>\n",
       "      <td>0</td>\n",
       "      <td>500</td>\n",
       "      <td>1.00</td>\n",
       "      <td>5</td>\n",
       "      <td>0.98</td>\n",
       "    </tr>\n",
       "    <tr>\n",
       "      <th>25</th>\n",
       "      <td>0</td>\n",
       "      <td>3</td>\n",
       "      <td>95</td>\n",
       "      <td>2</td>\n",
       "      <td>0</td>\n",
       "      <td>500</td>\n",
       "      <td>1.00</td>\n",
       "      <td>10</td>\n",
       "      <td>0.98</td>\n",
       "    </tr>\n",
       "    <tr>\n",
       "      <th>26</th>\n",
       "      <td>0</td>\n",
       "      <td>5</td>\n",
       "      <td>87</td>\n",
       "      <td>8</td>\n",
       "      <td>0</td>\n",
       "      <td>500</td>\n",
       "      <td>1.00</td>\n",
       "      <td>25</td>\n",
       "      <td>0.92</td>\n",
       "    </tr>\n",
       "    <tr>\n",
       "      <th>27</th>\n",
       "      <td>0</td>\n",
       "      <td>8</td>\n",
       "      <td>85</td>\n",
       "      <td>7</td>\n",
       "      <td>0</td>\n",
       "      <td>500</td>\n",
       "      <td>1.00</td>\n",
       "      <td>50</td>\n",
       "      <td>0.93</td>\n",
       "    </tr>\n",
       "    <tr>\n",
       "      <th>28</th>\n",
       "      <td>0</td>\n",
       "      <td>0</td>\n",
       "      <td>77</td>\n",
       "      <td>23</td>\n",
       "      <td>0</td>\n",
       "      <td>500</td>\n",
       "      <td>1.41</td>\n",
       "      <td>5</td>\n",
       "      <td>0.77</td>\n",
       "    </tr>\n",
       "    <tr>\n",
       "      <th>29</th>\n",
       "      <td>0</td>\n",
       "      <td>3</td>\n",
       "      <td>75</td>\n",
       "      <td>22</td>\n",
       "      <td>0</td>\n",
       "      <td>500</td>\n",
       "      <td>1.41</td>\n",
       "      <td>10</td>\n",
       "      <td>0.78</td>\n",
       "    </tr>\n",
       "    <tr>\n",
       "      <th>30</th>\n",
       "      <td>0</td>\n",
       "      <td>4</td>\n",
       "      <td>68</td>\n",
       "      <td>28</td>\n",
       "      <td>0</td>\n",
       "      <td>500</td>\n",
       "      <td>1.41</td>\n",
       "      <td>25</td>\n",
       "      <td>0.72</td>\n",
       "    </tr>\n",
       "    <tr>\n",
       "      <th>31</th>\n",
       "      <td>0</td>\n",
       "      <td>6</td>\n",
       "      <td>60</td>\n",
       "      <td>34</td>\n",
       "      <td>0</td>\n",
       "      <td>500</td>\n",
       "      <td>1.41</td>\n",
       "      <td>50</td>\n",
       "      <td>0.66</td>\n",
       "    </tr>\n",
       "    <tr>\n",
       "      <th>32</th>\n",
       "      <td>0</td>\n",
       "      <td>3</td>\n",
       "      <td>97</td>\n",
       "      <td>0</td>\n",
       "      <td>0</td>\n",
       "      <td>1000</td>\n",
       "      <td>1.00</td>\n",
       "      <td>5</td>\n",
       "      <td>1.00</td>\n",
       "    </tr>\n",
       "    <tr>\n",
       "      <th>33</th>\n",
       "      <td>0</td>\n",
       "      <td>5</td>\n",
       "      <td>95</td>\n",
       "      <td>0</td>\n",
       "      <td>0</td>\n",
       "      <td>1000</td>\n",
       "      <td>1.00</td>\n",
       "      <td>10</td>\n",
       "      <td>1.00</td>\n",
       "    </tr>\n",
       "    <tr>\n",
       "      <th>34</th>\n",
       "      <td>0</td>\n",
       "      <td>7</td>\n",
       "      <td>89</td>\n",
       "      <td>4</td>\n",
       "      <td>0</td>\n",
       "      <td>1000</td>\n",
       "      <td>1.00</td>\n",
       "      <td>25</td>\n",
       "      <td>0.96</td>\n",
       "    </tr>\n",
       "    <tr>\n",
       "      <th>35</th>\n",
       "      <td>0</td>\n",
       "      <td>14</td>\n",
       "      <td>85</td>\n",
       "      <td>1</td>\n",
       "      <td>0</td>\n",
       "      <td>1000</td>\n",
       "      <td>1.00</td>\n",
       "      <td>50</td>\n",
       "      <td>0.99</td>\n",
       "    </tr>\n",
       "    <tr>\n",
       "      <th>36</th>\n",
       "      <td>0</td>\n",
       "      <td>0</td>\n",
       "      <td>94</td>\n",
       "      <td>6</td>\n",
       "      <td>0</td>\n",
       "      <td>1000</td>\n",
       "      <td>1.41</td>\n",
       "      <td>5</td>\n",
       "      <td>0.94</td>\n",
       "    </tr>\n",
       "    <tr>\n",
       "      <th>37</th>\n",
       "      <td>0</td>\n",
       "      <td>4</td>\n",
       "      <td>91</td>\n",
       "      <td>5</td>\n",
       "      <td>0</td>\n",
       "      <td>1000</td>\n",
       "      <td>1.41</td>\n",
       "      <td>10</td>\n",
       "      <td>0.95</td>\n",
       "    </tr>\n",
       "    <tr>\n",
       "      <th>38</th>\n",
       "      <td>0</td>\n",
       "      <td>6</td>\n",
       "      <td>82</td>\n",
       "      <td>12</td>\n",
       "      <td>0</td>\n",
       "      <td>1000</td>\n",
       "      <td>1.41</td>\n",
       "      <td>25</td>\n",
       "      <td>0.88</td>\n",
       "    </tr>\n",
       "    <tr>\n",
       "      <th>39</th>\n",
       "      <td>0</td>\n",
       "      <td>8</td>\n",
       "      <td>76</td>\n",
       "      <td>16</td>\n",
       "      <td>0</td>\n",
       "      <td>1000</td>\n",
       "      <td>1.41</td>\n",
       "      <td>50</td>\n",
       "      <td>0.84</td>\n",
       "    </tr>\n",
       "  </tbody>\n",
       "</table>\n",
       "</div>"
      ],
      "text/plain": [
       "    Agent bankrupt  Other player(s) bankrupt  Agent greater wealth  \\\n",
       "0                0                         0                    46   \n",
       "1                0                         0                    48   \n",
       "2                0                         0                    46   \n",
       "3                0                         0                    40   \n",
       "4                0                         0                    40   \n",
       "5                0                         0                    41   \n",
       "6                0                         0                    36   \n",
       "7                0                         1                    29   \n",
       "8                0                         1                    52   \n",
       "9                0                         1                    51   \n",
       "10               0                         0                    49   \n",
       "11               0                         4                    59   \n",
       "12               0                         0                    36   \n",
       "13               0                         0                    48   \n",
       "14               0                         2                    43   \n",
       "15               0                         2                    50   \n",
       "16               0                         0                    83   \n",
       "17               0                         1                    77   \n",
       "18               0                         3                    71   \n",
       "19               0                         5                    73   \n",
       "20               0                         0                    55   \n",
       "21               0                         3                    57   \n",
       "22               0                         1                    59   \n",
       "23               0                         3                    53   \n",
       "24               0                         3                    95   \n",
       "25               0                         3                    95   \n",
       "26               0                         5                    87   \n",
       "27               0                         8                    85   \n",
       "28               0                         0                    77   \n",
       "29               0                         3                    75   \n",
       "30               0                         4                    68   \n",
       "31               0                         6                    60   \n",
       "32               0                         3                    97   \n",
       "33               0                         5                    95   \n",
       "34               0                         7                    89   \n",
       "35               0                        14                    85   \n",
       "36               0                         0                    94   \n",
       "37               0                         4                    91   \n",
       "38               0                         6                    82   \n",
       "39               0                         8                    76   \n",
       "\n",
       "    Other player(s) greater wealth  Tied  Max iterations  Exploration weight  \\\n",
       "0                               54     0              50                1.00   \n",
       "1                               52     0              50                1.00   \n",
       "2                               54     0              50                1.00   \n",
       "3                               60     0              50                1.00   \n",
       "4                               60     0              50                1.41   \n",
       "5                               59     0              50                1.41   \n",
       "6                               64     0              50                1.41   \n",
       "7                               70     0              50                1.41   \n",
       "8                               47     0             100                1.00   \n",
       "9                               48     0             100                1.00   \n",
       "10                              51     0             100                1.00   \n",
       "11                              37     0             100                1.00   \n",
       "12                              64     0             100                1.41   \n",
       "13                              52     0             100                1.41   \n",
       "14                              55     0             100                1.41   \n",
       "15                              48     0             100                1.41   \n",
       "16                              17     0             250                1.00   \n",
       "17                              22     0             250                1.00   \n",
       "18                              25     1             250                1.00   \n",
       "19                              22     0             250                1.00   \n",
       "20                              45     0             250                1.41   \n",
       "21                              40     0             250                1.41   \n",
       "22                              40     0             250                1.41   \n",
       "23                              44     0             250                1.41   \n",
       "24                               2     0             500                1.00   \n",
       "25                               2     0             500                1.00   \n",
       "26                               8     0             500                1.00   \n",
       "27                               7     0             500                1.00   \n",
       "28                              23     0             500                1.41   \n",
       "29                              22     0             500                1.41   \n",
       "30                              28     0             500                1.41   \n",
       "31                              34     0             500                1.41   \n",
       "32                               0     0            1000                1.00   \n",
       "33                               0     0            1000                1.00   \n",
       "34                               4     0            1000                1.00   \n",
       "35                               1     0            1000                1.00   \n",
       "36                               6     0            1000                1.41   \n",
       "37                               5     0            1000                1.41   \n",
       "38                              12     0            1000                1.41   \n",
       "39                              16     0            1000                1.41   \n",
       "\n",
       "    Max simulations  Agent winning  \n",
       "0                 5           0.46  \n",
       "1                10           0.48  \n",
       "2                25           0.46  \n",
       "3                50           0.40  \n",
       "4                 5           0.40  \n",
       "5                10           0.41  \n",
       "6                25           0.36  \n",
       "7                50           0.30  \n",
       "8                 5           0.53  \n",
       "9                10           0.52  \n",
       "10               25           0.49  \n",
       "11               50           0.63  \n",
       "12                5           0.36  \n",
       "13               10           0.48  \n",
       "14               25           0.45  \n",
       "15               50           0.52  \n",
       "16                5           0.83  \n",
       "17               10           0.78  \n",
       "18               25           0.74  \n",
       "19               50           0.78  \n",
       "20                5           0.55  \n",
       "21               10           0.60  \n",
       "22               25           0.60  \n",
       "23               50           0.56  \n",
       "24                5           0.98  \n",
       "25               10           0.98  \n",
       "26               25           0.92  \n",
       "27               50           0.93  \n",
       "28                5           0.77  \n",
       "29               10           0.78  \n",
       "30               25           0.72  \n",
       "31               50           0.66  \n",
       "32                5           1.00  \n",
       "33               10           1.00  \n",
       "34               25           0.96  \n",
       "35               50           0.99  \n",
       "36                5           0.94  \n",
       "37               10           0.95  \n",
       "38               25           0.88  \n",
       "39               50           0.84  "
      ]
     },
     "execution_count": 11,
     "metadata": {},
     "output_type": "execute_result"
    }
   ],
   "source": [
    "df_results"
   ]
  },
  {
   "cell_type": "markdown",
   "metadata": {},
   "source": [
    "## With Chosen Hyperparameters ('Evaluating the Agent')"
   ]
  },
  {
   "cell_type": "code",
   "execution_count": 3,
   "metadata": {},
   "outputs": [],
   "source": [
    "def game(max_iterations, exploration_weight, max_simulations, max_rounds):\n",
    "    # create board and add players\n",
    "    board = MonopolyBoardMCTS()\n",
    "    player1 = Player('Cat')\n",
    "    player2 = Player('Vlad')\n",
    "    board.add_agent(player1)\n",
    "    board.add_other_player(player2)\n",
    "\n",
    "    # using a random strategy\n",
    "    strategy = RandomStrategy()\n",
    "    board.strategy = strategy\n",
    "\n",
    "    # run MCTS game\n",
    "    root_state = State()\n",
    "    root_state.from_monopoly_board(board)\n",
    "    mcts = MCTS(root_state, max_iterations=max_iterations, exploration_weight=exploration_weight, max_simulations=max_simulations)\n",
    "    mcts.run_game_quiet(max_rounds=max_rounds)\n",
    "\n",
    "    return mcts.root.state"
   ]
  },
  {
   "cell_type": "code",
   "execution_count": 9,
   "metadata": {},
   "outputs": [
    {
     "name": "stderr",
     "output_type": "stream",
     "text": [
      " 67%|██████▋   | 673/1000 [3:22:11<59:07, 10.85s/it]  "
     ]
    }
   ],
   "source": [
    "agent_bankrupt, player_bankrupt, agent_greater_wealth, player_greater_wealth, tied = 0, 0, 0, 0, 0\n",
    "for _ in tqdm(range(1000)):\n",
    "    state = game(500, 1, 5, 20)\n",
    "    money_owed_agent = sum(list(state.agent[-1].values()))\n",
    "    money_owed_player = sum(list(state.other_players[0][-1].values()))\n",
    "    if state.agent[3]:\n",
    "        agent_bankrupt += 1\n",
    "    elif state.other_players[0][3]:\n",
    "        player_bankrupt += 1\n",
    "    elif state.agent_wealth - money_owed_agent\\\n",
    "        > state.other_players_wealth[0] - money_owed_player:\n",
    "        agent_greater_wealth += 1\n",
    "    elif state.agent_wealth - money_owed_agent\\\n",
    "        < state.other_players_wealth[0] - money_owed_player:\n",
    "        player_greater_wealth += 1\n",
    "    else:\n",
    "        tied += 1"
   ]
  },
  {
   "cell_type": "code",
   "execution_count": null,
   "metadata": {},
   "outputs": [],
   "source": [
    "agent_bankrupt, player_bankrupt, agent_greater_wealth, player_greater_wealth, tied"
   ]
  },
  {
   "cell_type": "code",
   "execution_count": null,
   "metadata": {},
   "outputs": [],
   "source": []
  }
 ],
 "metadata": {
  "kernelspec": {
   "display_name": "Python 3",
   "language": "python",
   "name": "python3"
  },
  "language_info": {
   "codemirror_mode": {
    "name": "ipython",
    "version": 3
   },
   "file_extension": ".py",
   "mimetype": "text/x-python",
   "name": "python",
   "nbconvert_exporter": "python",
   "pygments_lexer": "ipython3",
   "version": "3.10.2"
  }
 },
 "nbformat": 4,
 "nbformat_minor": 2
}
