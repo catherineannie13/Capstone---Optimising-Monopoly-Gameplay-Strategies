{
 "cells": [
  {
   "cell_type": "code",
   "execution_count": 3,
   "metadata": {},
   "outputs": [],
   "source": [
    "class Player:\n",
    "    def __init__(self, name):\n",
    "        self.name = name\n",
    "        self.position = 0\n",
    "        self.money = 1500\n",
    "        self.properties = []\n",
    "        self.stations = []\n",
    "        self.utilities = []\n",
    "\n",
    "    def move(self, steps):\n",
    "        self.position = (self.position + steps) % 40\n",
    "\n",
    "    def pay(self, amount):\n",
    "        self.money -= amount\n",
    "\n",
    "    def receive(self, amount):\n",
    "        self.money += amount\n",
    "\n",
    "    def buy_property(self, property):\n",
    "        if property.owner is None and self.money >= property.price:\n",
    "            self.properties.append(property)\n",
    "            self.pay(property.price)\n",
    "            property.owner = self\n",
    "            return True\n",
    "        return False\n",
    "    \n",
    "    def buy_station(self, station):\n",
    "        if station.owner is None and self.money >= station.price:\n",
    "            self.stations.append(station)\n",
    "            self.pay(station.price)\n",
    "            station.owner = self\n",
    "            return True\n",
    "        return False\n",
    "\n",
    "    def buy_utility(self, utility):\n",
    "        if utility.owner is None and self.money >= utility.price:\n",
    "            self.utilities.append(utility)\n",
    "            self.pay(utility.price)\n",
    "            utility.owner = self\n",
    "            return True\n",
    "        return False\n"
   ]
  },
  {
   "cell_type": "code",
   "execution_count": null,
   "metadata": {},
   "outputs": [],
   "source": []
  }
 ],
 "metadata": {
  "kernelspec": {
   "display_name": "Python 3",
   "language": "python",
   "name": "python3"
  },
  "language_info": {
   "codemirror_mode": {
    "name": "ipython",
    "version": 3
   },
   "file_extension": ".py",
   "mimetype": "text/x-python",
   "name": "python",
   "nbconvert_exporter": "python",
   "pygments_lexer": "ipython3",
   "version": "3.10.2"
  },
  "orig_nbformat": 4
 },
 "nbformat": 4,
 "nbformat_minor": 2
}
