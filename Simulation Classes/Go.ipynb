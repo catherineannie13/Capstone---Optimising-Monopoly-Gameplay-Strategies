{
 "cells": [
  {
   "cell_type": "code",
   "execution_count": null,
   "metadata": {},
   "outputs": [],
   "source": [
    "class Go:\n",
    "    def __init__(self, income, loc):\n",
    "        self.income = income\n",
    "        self.type = \"Go\"\n",
    "        self.loc = loc\n",
    "\n",
    "    def __repr__(self):\n",
    "        return f'Go is located at position {self.loc} on the Monopoly board. Players receive {self.income} every time they pass go.'"
   ]
  }
 ],
 "metadata": {
  "language_info": {
   "name": "python"
  }
 },
 "nbformat": 4,
 "nbformat_minor": 2
}
