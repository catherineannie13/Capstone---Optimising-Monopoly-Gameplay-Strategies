{
 "cells": [
  {
   "cell_type": "code",
   "execution_count": null,
   "metadata": {},
   "outputs": [],
   "source": [
    "class GoToJail:\n",
    "    def __init__(self, loc):\n",
    "        self.type = \"Go To Jail\"\n",
    "        self.loc = loc\n",
    "\n",
    "    def __repr__(self):\n",
    "        return f'Go to jail is located at position {self.loc} on the Monopoly board.'\n",
    "    \n",
    "    def __lt__(self, other):\n",
    "        return self.loc < other.loc"
   ]
  }
 ],
 "metadata": {
  "language_info": {
   "name": "python"
  }
 },
 "nbformat": 4,
 "nbformat_minor": 2
}
