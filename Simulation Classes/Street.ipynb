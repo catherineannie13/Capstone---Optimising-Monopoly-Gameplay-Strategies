{
 "cells": [
  {
   "cell_type": "code",
   "execution_count": null,
   "metadata": {},
   "outputs": [],
   "source": [
    "class Street:\n",
    "    def __init__(self, name, price, house_price, rent, one_house, two_houses, three_houses, four_houses, hotel, loc, group, num_in_group):\n",
    "        self.name = name\n",
    "        self.price = price\n",
    "        self.house_price = house_price\n",
    "        self.type = \"Street\"\n",
    "        self.rent = rent\n",
    "        self.double_rent = self.rent * 2\n",
    "        self.house_rent = [one_house, two_houses, three_houses, four_houses]\n",
    "        self.hotel_rent = hotel\n",
    "        self.num_houses = 0\n",
    "        self.hotel = False\n",
    "        self.loc = loc\n",
    "        self.group = group\n",
    "        self.num_in_group = num_in_group\n",
    "        self.owner = None\n",
    "        self.is_mortgaged = False\n",
    "\n",
    "    def __repr__(self):\n",
    "        return f'{self.name} is one of the {self.num_in_group} properties in the {self.group} set located at position {self.loc} on the Monopoly board \\\n",
    "                \\n and can be purchased for ${self.price} with a house price of ${self.house_price}. Rent prices are as follows: \\n Rent: {self.rent} \\n Double rent: {self.double_rent} \\\n",
    "                \\n Rent 1 house: {self.house_rent[0]} \\n Rent 2 houses: {self.house_rent[1]} \\n Rent 3 houses: {self.house_rent[2]} \\n Rent 4 houses: {self.house_rent[3]} \\\n",
    "                \\n Rent hotel: {self.hotel_rent} \\n The property is currently owned by {self.owner.name if self.owner else \"no-one\"} and has {self.num_houses} houses and {1 if self.hotel else 0} hotels.'\n",
    "\n",
    "    def __lt__(self, other):\n",
    "        return self.loc < other.loc\n",
    "    \n",
    "    def calculate_rent(self):\n",
    "        if self.owner:\n",
    "            if self.num_houses == 0:\n",
    "\n",
    "                # double rent if the owner owns the entire group\n",
    "                if len(self.owner.property_sets[self.group]) == self.num_in_group:\n",
    "                    return self.double_rent\n",
    "                else:\n",
    "                    return self.rent\n",
    "                \n",
    "            # hotel rent if hotel on property\n",
    "            elif self.hotel:\n",
    "                return self.hotel_rent\n",
    "            \n",
    "            # corresponding rent according to the number of owned houses\n",
    "            else:\n",
    "                return self.house_rent[self.num_houses - 1]\n",
    "        else:\n",
    "            return 0\n",
    "    \n",
    "    def calculate_mortgage_value(self):\n",
    "        return self.price/2"
   ]
  }
 ],
 "metadata": {
  "language_info": {
   "name": "python"
  }
 },
 "nbformat": 4,
 "nbformat_minor": 2
}
