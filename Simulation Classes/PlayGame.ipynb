{
 "cells": [
  {
   "cell_type": "code",
   "execution_count": 1,
   "metadata": {},
   "outputs": [],
   "source": [
    "%run \"C:\\\\Users\\\\cathe\\\\OneDrive\\\\Documents\\\\Capstone - Optimising Monopoly Gameplay Strategies\\\\Simulation Classes\\\\Player.ipynb\"\n",
    "%run \"C:\\\\Users\\\\cathe\\\\OneDrive\\\\Documents\\\\Capstone - Optimising Monopoly Gameplay Strategies\\\\Simulation Classes\\\\Property.ipynb\"\n",
    "%run \"C:\\\\Users\\\\cathe\\\\OneDrive\\\\Documents\\\\Capstone - Optimising Monopoly Gameplay Strategies\\\\Simulation Classes\\\\Utility.ipynb\"\n",
    "%run \"C:\\\\Users\\\\cathe\\\\OneDrive\\\\Documents\\\\Capstone - Optimising Monopoly Gameplay Strategies\\\\Simulation Classes\\\\Station.ipynb\"\n",
    "%run \"C:\\\\Users\\\\cathe\\\\OneDrive\\\\Documents\\\\Capstone - Optimising Monopoly Gameplay Strategies\\\\Simulation Classes\\\\Chance.ipynb\"\n",
    "%run \"C:\\\\Users\\\\cathe\\\\OneDrive\\\\Documents\\\\Capstone - Optimising Monopoly Gameplay Strategies\\\\Simulation Classes\\\\Tax.ipynb\"\n",
    "%run \"C:\\\\Users\\\\cathe\\\\OneDrive\\\\Documents\\\\Capstone - Optimising Monopoly Gameplay Strategies\\\\Simulation Classes\\\\Go.ipynb\"\n",
    "%run \"C:\\\\Users\\\\cathe\\\\OneDrive\\\\Documents\\\\Capstone - Optimising Monopoly Gameplay Strategies\\\\Simulation Classes\\\\Jail.ipynb\"\n",
    "%run \"C:\\\\Users\\\\cathe\\\\OneDrive\\\\Documents\\\\Capstone - Optimising Monopoly Gameplay Strategies\\\\Simulation Classes\\\\FreeParking.ipynb\"\n",
    "%run \"C:\\\\Users\\\\cathe\\\\OneDrive\\\\Documents\\\\Capstone - Optimising Monopoly Gameplay Strategies\\\\Simulation Classes\\\\GoToJail.ipynb\"\n",
    "%run \"C:\\\\Users\\\\cathe\\\\OneDrive\\\\Documents\\\\Capstone - Optimising Monopoly Gameplay Strategies\\\\Simulation Classes\\\\CommunityChest.ipynb\"\n",
    "%run \"C:\\\\Users\\\\cathe\\\\OneDrive\\\\Documents\\\\Capstone - Optimising Monopoly Gameplay Strategies\\\\Simulation Classes\\\\MonopolyBoard.ipynb\""
   ]
  },
  {
   "cell_type": "code",
   "execution_count": 2,
   "metadata": {},
   "outputs": [],
   "source": [
    "import random"
   ]
  },
  {
   "cell_type": "code",
   "execution_count": 3,
   "metadata": {},
   "outputs": [
    {
     "name": "stdout",
     "output_type": "stream",
     "text": [
      "[<__main__.Go object at 0x000002A071C07BB0>, <__main__.Property object at 0x000002A071BDA4D0>, <__main__.CommunityChest object at 0x000002A071C072E0>, <__main__.Property object at 0x000002A071BDB310>, <__main__.Tax object at 0x000002A071C07E80>, <__main__.Station object at 0x000002A071B43EE0>, <__main__.Property object at 0x000002A071BDAA10>, <__main__.Chance object at 0x000002A071B7DAB0>, <__main__.Property object at 0x000002A071BDB130>, <__main__.Property object at 0x000002A071BDB2B0>, <__main__.Jail object at 0x000002A071C07280>, <__main__.Property object at 0x000002A071BDB340>, <__main__.Utility object at 0x000002A071C04220>, <__main__.Property object at 0x000002A071BDB160>, <__main__.Property object at 0x000002A071BDB2E0>, <__main__.Station object at 0x000002A071C06B90>, <__main__.Property object at 0x000002A071BDB1F0>, <__main__.CommunityChest object at 0x000002A071C072E0>, <__main__.Property object at 0x000002A071BDB1C0>, <__main__.Property object at 0x000002A071BDB100>, <__main__.FreeParking object at 0x000002A071C06860>, <__main__.Property object at 0x000002A071BDA980>, <__main__.Chance object at 0x000002A071B7DAB0>, <__main__.Property object at 0x000002A071BDAF80>, <__main__.Property object at 0x000002A071BDAEF0>, <__main__.Station object at 0x000002A071C07190>, <__main__.Property object at 0x000002A071BDAFE0>, <__main__.Property object at 0x000002A071BDB0A0>, <__main__.Utility object at 0x000002A071C070D0>, <__main__.Property object at 0x000002A071BDB070>, <__main__.GoToJail object at 0x000002A071C07490>, <__main__.Property object at 0x000002A071BDAF20>, <__main__.Property object at 0x000002A071BDB820>, <__main__.CommunityChest object at 0x000002A071C072E0>, <__main__.Property object at 0x000002A071BDA9E0>, <__main__.Station object at 0x000002A071C06B60>, <__main__.Chance object at 0x000002A071B7DAB0>, <__main__.Property object at 0x000002A071B43FA0>, <__main__.Tax object at 0x000002A071C06E90>, <__main__.Property object at 0x000002A071B43DF0>]\n"
     ]
    }
   ],
   "source": [
    "board = MonopolyBoard()\n",
    "print(board.board)"
   ]
  },
  {
   "cell_type": "code",
   "execution_count": 4,
   "metadata": {},
   "outputs": [
    {
     "name": "stdout",
     "output_type": "stream",
     "text": [
      "<__main__.Go object at 0x000002A071C07BB0>\n",
      "<__main__.Property object at 0x000002A071BDA4D0>\n",
      "<__main__.CommunityChest object at 0x000002A071C072E0>\n",
      "<__main__.Property object at 0x000002A071BDB310>\n",
      "<__main__.Tax object at 0x000002A071C07E80>\n",
      "<__main__.Station object at 0x000002A071B43EE0>\n",
      "<__main__.Property object at 0x000002A071BDAA10>\n",
      "<__main__.Chance object at 0x000002A071B7DAB0>\n",
      "<__main__.Property object at 0x000002A071BDB130>\n",
      "<__main__.Property object at 0x000002A071BDB2B0>\n",
      "<__main__.Jail object at 0x000002A071C07280>\n",
      "<__main__.Property object at 0x000002A071BDB340>\n",
      "<__main__.Utility object at 0x000002A071C04220>\n",
      "<__main__.Property object at 0x000002A071BDB160>\n",
      "<__main__.Property object at 0x000002A071BDB2E0>\n",
      "<__main__.Station object at 0x000002A071C06B90>\n",
      "<__main__.Property object at 0x000002A071BDB1F0>\n",
      "<__main__.CommunityChest object at 0x000002A071C072E0>\n",
      "<__main__.Property object at 0x000002A071BDB1C0>\n",
      "<__main__.Property object at 0x000002A071BDB100>\n",
      "<__main__.FreeParking object at 0x000002A071C06860>\n",
      "<__main__.Property object at 0x000002A071BDA980>\n",
      "<__main__.Chance object at 0x000002A071B7DAB0>\n",
      "<__main__.Property object at 0x000002A071BDAF80>\n",
      "<__main__.Property object at 0x000002A071BDAEF0>\n",
      "<__main__.Station object at 0x000002A071C07190>\n",
      "<__main__.Property object at 0x000002A071BDAFE0>\n",
      "<__main__.Property object at 0x000002A071BDB0A0>\n",
      "<__main__.Utility object at 0x000002A071C070D0>\n",
      "<__main__.Property object at 0x000002A071BDB070>\n",
      "<__main__.GoToJail object at 0x000002A071C07490>\n",
      "<__main__.Property object at 0x000002A071BDAF20>\n",
      "<__main__.Property object at 0x000002A071BDB820>\n",
      "<__main__.CommunityChest object at 0x000002A071C072E0>\n",
      "<__main__.Property object at 0x000002A071BDA9E0>\n",
      "<__main__.Station object at 0x000002A071C06B60>\n",
      "<__main__.Chance object at 0x000002A071B7DAB0>\n",
      "<__main__.Property object at 0x000002A071B43FA0>\n",
      "<__main__.Tax object at 0x000002A071C06E90>\n",
      "<__main__.Property object at 0x000002A071B43DF0>\n"
     ]
    }
   ],
   "source": [
    "for i in board.board:\n",
    "    print(i)"
   ]
  },
  {
   "cell_type": "code",
   "execution_count": null,
   "metadata": {},
   "outputs": [],
   "source": []
  }
 ],
 "metadata": {
  "kernelspec": {
   "display_name": "Python 3",
   "language": "python",
   "name": "python3"
  },
  "language_info": {
   "codemirror_mode": {
    "name": "ipython",
    "version": 3
   },
   "file_extension": ".py",
   "mimetype": "text/x-python",
   "name": "python",
   "nbconvert_exporter": "python",
   "pygments_lexer": "ipython3",
   "version": "3.10.2"
  }
 },
 "nbformat": 4,
 "nbformat_minor": 2
}
