{
 "cells": [
  {
   "cell_type": "markdown",
   "metadata": {},
   "source": [
    "## Imports"
   ]
  },
  {
   "cell_type": "code",
   "execution_count": 1,
   "metadata": {},
   "outputs": [],
   "source": [
    "import random\n",
    "import plotly.express as px\n",
    "import matplotlib.pyplot as plt\n",
    "import pandas as pd\n",
    "\n",
    "%run \"C:\\\\Users\\\\cathe\\\\OneDrive\\\\Documents\\\\Capstone - Optimising Monopoly Gameplay Strategies\\\\Simulation Classes\\\\Player.ipynb\"\n",
    "%run \"C:\\\\Users\\\\cathe\\\\OneDrive\\\\Documents\\\\Capstone - Optimising Monopoly Gameplay Strategies\\\\Simulation Classes\\\\Street.ipynb\"\n",
    "%run \"C:\\\\Users\\\\cathe\\\\OneDrive\\\\Documents\\\\Capstone - Optimising Monopoly Gameplay Strategies\\\\Simulation Classes\\\\Utility.ipynb\"\n",
    "%run \"C:\\\\Users\\\\cathe\\\\OneDrive\\\\Documents\\\\Capstone - Optimising Monopoly Gameplay Strategies\\\\Simulation Classes\\\\Station.ipynb\"\n",
    "%run \"C:\\\\Users\\\\cathe\\\\OneDrive\\\\Documents\\\\Capstone - Optimising Monopoly Gameplay Strategies\\\\Simulation Classes\\\\Chance.ipynb\"\n",
    "%run \"C:\\\\Users\\\\cathe\\\\OneDrive\\\\Documents\\\\Capstone - Optimising Monopoly Gameplay Strategies\\\\Simulation Classes\\\\Tax.ipynb\"\n",
    "%run \"C:\\\\Users\\\\cathe\\\\OneDrive\\\\Documents\\\\Capstone - Optimising Monopoly Gameplay Strategies\\\\Simulation Classes\\\\Go.ipynb\"\n",
    "%run \"C:\\\\Users\\\\cathe\\\\OneDrive\\\\Documents\\\\Capstone - Optimising Monopoly Gameplay Strategies\\\\Simulation Classes\\\\Jail.ipynb\"\n",
    "%run \"C:\\\\Users\\\\cathe\\\\OneDrive\\\\Documents\\\\Capstone - Optimising Monopoly Gameplay Strategies\\\\Simulation Classes\\\\FreeParking.ipynb\"\n",
    "%run \"C:\\\\Users\\\\cathe\\\\OneDrive\\\\Documents\\\\Capstone - Optimising Monopoly Gameplay Strategies\\\\Simulation Classes\\\\GoToJail.ipynb\"\n",
    "%run \"C:\\\\Users\\\\cathe\\\\OneDrive\\\\Documents\\\\Capstone - Optimising Monopoly Gameplay Strategies\\\\Simulation Classes\\\\CommunityChest.ipynb\"\n",
    "%run \"C:\\\\Users\\\\cathe\\\\OneDrive\\\\Documents\\\\Capstone - Optimising Monopoly Gameplay Strategies\\\\Simulation Classes\\\\MonopolyBoard.ipynb\"\n",
    "%run \"C:\\\\Users\\\\cathe\\\\OneDrive\\\\Documents\\\\Capstone - Optimising Monopoly Gameplay Strategies\\\\Simulation Classes\\\\Strategy.ipynb\""
   ]
  },
  {
   "cell_type": "code",
   "execution_count": 2,
   "metadata": {},
   "outputs": [],
   "source": [
    "random.seed(42)"
   ]
  },
  {
   "cell_type": "markdown",
   "metadata": {},
   "source": [
    "## Tests for Code"
   ]
  },
  {
   "cell_type": "markdown",
   "metadata": {},
   "source": [
    "### Tests for class definitions and initialisations"
   ]
  },
  {
   "cell_type": "code",
   "execution_count": 3,
   "metadata": {},
   "outputs": [],
   "source": [
    "board = MonopolyBoard()\n",
    "player1 = Player('Cat')\n",
    "player2 = Player('Vlad')\n",
    "\n",
    "board.add_player(player1)\n",
    "board.add_player(player2)"
   ]
  },
  {
   "cell_type": "code",
   "execution_count": 4,
   "metadata": {},
   "outputs": [
    {
     "name": "stdout",
     "output_type": "stream",
     "text": [
      "Go\n",
      "Street\n",
      "Community Chest\n",
      "Street\n",
      "Tax\n",
      "Station\n",
      "Street\n",
      "Chance\n",
      "Street\n",
      "Street\n",
      "Jail\n",
      "Street\n",
      "Utility\n",
      "Street\n",
      "Street\n",
      "Station\n",
      "Street\n",
      "Community Chest\n",
      "Street\n",
      "Street\n",
      "Free Parking\n",
      "Street\n",
      "Chance\n",
      "Street\n",
      "Street\n",
      "Station\n",
      "Street\n",
      "Street\n",
      "Utility\n",
      "Street\n",
      "Go To Jail\n",
      "Street\n",
      "Street\n",
      "Community Chest\n",
      "Street\n",
      "Station\n",
      "Chance\n",
      "Street\n",
      "Tax\n",
      "Street\n"
     ]
    }
   ],
   "source": [
    "# check that each space on the board represents the correct type of object\n",
    "for space in board.board:\n",
    "    print(space.type)"
   ]
  },
  {
   "cell_type": "code",
   "execution_count": 5,
   "metadata": {},
   "outputs": [
    {
     "name": "stdout",
     "output_type": "stream",
     "text": [
      "brown\n",
      "Old Kent Road\n",
      "Whitechapel Road\n",
      "-----------------------------------\n",
      "lightblue\n",
      "The Angel Islington\n",
      "Euston Road\n",
      "Pentonville Road\n",
      "-----------------------------------\n",
      "pink\n",
      "Pall Mall\n",
      "Whitehall\n",
      "Northumberland Avenue\n",
      "-----------------------------------\n",
      "orange\n",
      "Bow Street\n",
      "Marlborough Street\n",
      "Vine Street\n",
      "-----------------------------------\n",
      "red\n",
      "The Strand\n",
      "Fleet Street\n",
      "Trafalgar Square\n",
      "-----------------------------------\n",
      "yellow\n",
      "Leicester Square\n",
      "Coventry Street\n",
      "Piccadilly\n",
      "-----------------------------------\n",
      "green\n",
      "Regent Street\n",
      "Oxford Street\n",
      "Bond Street\n",
      "-----------------------------------\n",
      "darkblue\n",
      "Park Lane\n",
      "Mayfair\n",
      "-----------------------------------\n"
     ]
    }
   ],
   "source": [
    "# check that property sets are setup correctly\n",
    "for colour, group in board.property_sets.items():\n",
    "    print(colour)\n",
    "    \n",
    "    for property in group:\n",
    "        print(property.name)\n",
    "\n",
    "    print('-----------------------------------')"
   ]
  },
  {
   "cell_type": "code",
   "execution_count": 6,
   "metadata": {},
   "outputs": [
    {
     "name": "stdout",
     "output_type": "stream",
     "text": [
      "Player Cat is currently as position 0 on the board, with $1500.             \n",
      " They hold the following properties: [].            \n",
      " They hold the following stations: []            \n",
      " They hold the following utilities: []            \n",
      " The player has 0 houses and 0 hotels             \n",
      " The player is currently not in jail.\n",
      "\n",
      "\n",
      "Player Vlad is currently as position 0 on the board, with $1500.             \n",
      " They hold the following properties: [].            \n",
      " They hold the following stations: []            \n",
      " They hold the following utilities: []            \n",
      " The player has 0 houses and 0 hotels             \n",
      " The player is currently not in jail.\n",
      "\n",
      "\n"
     ]
    }
   ],
   "source": [
    "# check players are created correctly\n",
    "for player in board.players:\n",
    "    print(player)\n",
    "    print('\\n')"
   ]
  },
  {
   "cell_type": "code",
   "execution_count": 7,
   "metadata": {},
   "outputs": [
    {
     "name": "stdout",
     "output_type": "stream",
     "text": [
      "Old Kent Road is one of the 2 properties in the brown set located at position 1 on the Monopoly board                 \n",
      " and can be purchased for $60 with a house price of $50. Rent prices are as follows: \n",
      " Rent: 2 \n",
      " Double rent: 4                 \n",
      " Rent 1 house: 10 \n",
      " Rent 2 houses: 30 \n",
      " Rent 3 houses: 90 \n",
      " Rent 4 houses: 160                 \n",
      " Rent hotel: 250 \n",
      " The property is currently owned by no-one and has 0 houses and 0 hotels.\n",
      "\n",
      "\n",
      "Whitechapel Road is one of the 2 properties in the brown set located at position 3 on the Monopoly board                 \n",
      " and can be purchased for $60 with a house price of $50. Rent prices are as follows: \n",
      " Rent: 4 \n",
      " Double rent: 8                 \n",
      " Rent 1 house: 20 \n",
      " Rent 2 houses: 60 \n",
      " Rent 3 houses: 180 \n",
      " Rent 4 houses: 320                 \n",
      " Rent hotel: 450 \n",
      " The property is currently owned by no-one and has 0 houses and 0 hotels.\n",
      "\n",
      "\n",
      "The Angel Islington is one of the 3 properties in the lightblue set located at position 6 on the Monopoly board                 \n",
      " and can be purchased for $100 with a house price of $50. Rent prices are as follows: \n",
      " Rent: 6 \n",
      " Double rent: 12                 \n",
      " Rent 1 house: 30 \n",
      " Rent 2 houses: 90 \n",
      " Rent 3 houses: 270 \n",
      " Rent 4 houses: 400                 \n",
      " Rent hotel: 550 \n",
      " The property is currently owned by no-one and has 0 houses and 0 hotels.\n",
      "\n",
      "\n",
      "Euston Road is one of the 3 properties in the lightblue set located at position 8 on the Monopoly board                 \n",
      " and can be purchased for $100 with a house price of $50. Rent prices are as follows: \n",
      " Rent: 6 \n",
      " Double rent: 12                 \n",
      " Rent 1 house: 30 \n",
      " Rent 2 houses: 90 \n",
      " Rent 3 houses: 270 \n",
      " Rent 4 houses: 400                 \n",
      " Rent hotel: 550 \n",
      " The property is currently owned by no-one and has 0 houses and 0 hotels.\n",
      "\n",
      "\n",
      "Pentonville Road is one of the 3 properties in the lightblue set located at position 9 on the Monopoly board                 \n",
      " and can be purchased for $120 with a house price of $50. Rent prices are as follows: \n",
      " Rent: 8 \n",
      " Double rent: 16                 \n",
      " Rent 1 house: 40 \n",
      " Rent 2 houses: 100 \n",
      " Rent 3 houses: 300 \n",
      " Rent 4 houses: 450                 \n",
      " Rent hotel: 600 \n",
      " The property is currently owned by no-one and has 0 houses and 0 hotels.\n",
      "\n",
      "\n",
      "Pall Mall is one of the 3 properties in the pink set located at position 11 on the Monopoly board                 \n",
      " and can be purchased for $140 with a house price of $100. Rent prices are as follows: \n",
      " Rent: 10 \n",
      " Double rent: 20                 \n",
      " Rent 1 house: 50 \n",
      " Rent 2 houses: 150 \n",
      " Rent 3 houses: 450 \n",
      " Rent 4 houses: 625                 \n",
      " Rent hotel: 750 \n",
      " The property is currently owned by no-one and has 0 houses and 0 hotels.\n",
      "\n",
      "\n",
      "Whitehall is one of the 3 properties in the pink set located at position 13 on the Monopoly board                 \n",
      " and can be purchased for $140 with a house price of $100. Rent prices are as follows: \n",
      " Rent: 10 \n",
      " Double rent: 20                 \n",
      " Rent 1 house: 50 \n",
      " Rent 2 houses: 150 \n",
      " Rent 3 houses: 450 \n",
      " Rent 4 houses: 625                 \n",
      " Rent hotel: 750 \n",
      " The property is currently owned by no-one and has 0 houses and 0 hotels.\n",
      "\n",
      "\n",
      "Northumberland Avenue is one of the 3 properties in the pink set located at position 14 on the Monopoly board                 \n",
      " and can be purchased for $160 with a house price of $100. Rent prices are as follows: \n",
      " Rent: 12 \n",
      " Double rent: 24                 \n",
      " Rent 1 house: 60 \n",
      " Rent 2 houses: 180 \n",
      " Rent 3 houses: 500 \n",
      " Rent 4 houses: 700                 \n",
      " Rent hotel: 900 \n",
      " The property is currently owned by no-one and has 0 houses and 0 hotels.\n",
      "\n",
      "\n",
      "Bow Street is one of the 3 properties in the orange set located at position 16 on the Monopoly board                 \n",
      " and can be purchased for $180 with a house price of $100. Rent prices are as follows: \n",
      " Rent: 14 \n",
      " Double rent: 28                 \n",
      " Rent 1 house: 70 \n",
      " Rent 2 houses: 200 \n",
      " Rent 3 houses: 550 \n",
      " Rent 4 houses: 750                 \n",
      " Rent hotel: 950 \n",
      " The property is currently owned by no-one and has 0 houses and 0 hotels.\n",
      "\n",
      "\n",
      "Marlborough Street is one of the 3 properties in the orange set located at position 18 on the Monopoly board                 \n",
      " and can be purchased for $180 with a house price of $100. Rent prices are as follows: \n",
      " Rent: 14 \n",
      " Double rent: 28                 \n",
      " Rent 1 house: 70 \n",
      " Rent 2 houses: 200 \n",
      " Rent 3 houses: 550 \n",
      " Rent 4 houses: 750                 \n",
      " Rent hotel: 950 \n",
      " The property is currently owned by no-one and has 0 houses and 0 hotels.\n",
      "\n",
      "\n",
      "Vine Street is one of the 3 properties in the orange set located at position 19 on the Monopoly board                 \n",
      " and can be purchased for $200 with a house price of $100. Rent prices are as follows: \n",
      " Rent: 16 \n",
      " Double rent: 32                 \n",
      " Rent 1 house: 80 \n",
      " Rent 2 houses: 220 \n",
      " Rent 3 houses: 600 \n",
      " Rent 4 houses: 800                 \n",
      " Rent hotel: 1000 \n",
      " The property is currently owned by no-one and has 0 houses and 0 hotels.\n",
      "\n",
      "\n",
      "The Strand is one of the 3 properties in the red set located at position 21 on the Monopoly board                 \n",
      " and can be purchased for $220 with a house price of $150. Rent prices are as follows: \n",
      " Rent: 18 \n",
      " Double rent: 36                 \n",
      " Rent 1 house: 90 \n",
      " Rent 2 houses: 250 \n",
      " Rent 3 houses: 700 \n",
      " Rent 4 houses: 875                 \n",
      " Rent hotel: 1050 \n",
      " The property is currently owned by no-one and has 0 houses and 0 hotels.\n",
      "\n",
      "\n",
      "Fleet Street is one of the 3 properties in the red set located at position 23 on the Monopoly board                 \n",
      " and can be purchased for $220 with a house price of $150. Rent prices are as follows: \n",
      " Rent: 18 \n",
      " Double rent: 36                 \n",
      " Rent 1 house: 90 \n",
      " Rent 2 houses: 250 \n",
      " Rent 3 houses: 700 \n",
      " Rent 4 houses: 875                 \n",
      " Rent hotel: 1050 \n",
      " The property is currently owned by no-one and has 0 houses and 0 hotels.\n",
      "\n",
      "\n",
      "Trafalgar Square is one of the 3 properties in the red set located at position 24 on the Monopoly board                 \n",
      " and can be purchased for $240 with a house price of $150. Rent prices are as follows: \n",
      " Rent: 20 \n",
      " Double rent: 40                 \n",
      " Rent 1 house: 100 \n",
      " Rent 2 houses: 300 \n",
      " Rent 3 houses: 750 \n",
      " Rent 4 houses: 925                 \n",
      " Rent hotel: 1100 \n",
      " The property is currently owned by no-one and has 0 houses and 0 hotels.\n",
      "\n",
      "\n",
      "Leicester Square is one of the 3 properties in the yellow set located at position 26 on the Monopoly board                 \n",
      " and can be purchased for $260 with a house price of $150. Rent prices are as follows: \n",
      " Rent: 22 \n",
      " Double rent: 44                 \n",
      " Rent 1 house: 110 \n",
      " Rent 2 houses: 330 \n",
      " Rent 3 houses: 800 \n",
      " Rent 4 houses: 975                 \n",
      " Rent hotel: 1150 \n",
      " The property is currently owned by no-one and has 0 houses and 0 hotels.\n",
      "\n",
      "\n",
      "Coventry Street is one of the 3 properties in the yellow set located at position 27 on the Monopoly board                 \n",
      " and can be purchased for $260 with a house price of $150. Rent prices are as follows: \n",
      " Rent: 22 \n",
      " Double rent: 44                 \n",
      " Rent 1 house: 110 \n",
      " Rent 2 houses: 330 \n",
      " Rent 3 houses: 800 \n",
      " Rent 4 houses: 975                 \n",
      " Rent hotel: 1150 \n",
      " The property is currently owned by no-one and has 0 houses and 0 hotels.\n",
      "\n",
      "\n",
      "Piccadilly is one of the 3 properties in the yellow set located at position 29 on the Monopoly board                 \n",
      " and can be purchased for $280 with a house price of $150. Rent prices are as follows: \n",
      " Rent: 24 \n",
      " Double rent: 48                 \n",
      " Rent 1 house: 120 \n",
      " Rent 2 houses: 360 \n",
      " Rent 3 houses: 850 \n",
      " Rent 4 houses: 1025                 \n",
      " Rent hotel: 1200 \n",
      " The property is currently owned by no-one and has 0 houses and 0 hotels.\n",
      "\n",
      "\n",
      "Regent Street is one of the 3 properties in the green set located at position 31 on the Monopoly board                 \n",
      " and can be purchased for $300 with a house price of $200. Rent prices are as follows: \n",
      " Rent: 26 \n",
      " Double rent: 52                 \n",
      " Rent 1 house: 130 \n",
      " Rent 2 houses: 390 \n",
      " Rent 3 houses: 900 \n",
      " Rent 4 houses: 1100                 \n",
      " Rent hotel: 1275 \n",
      " The property is currently owned by no-one and has 0 houses and 0 hotels.\n",
      "\n",
      "\n",
      "Oxford Street is one of the 3 properties in the green set located at position 32 on the Monopoly board                 \n",
      " and can be purchased for $300 with a house price of $200. Rent prices are as follows: \n",
      " Rent: 26 \n",
      " Double rent: 52                 \n",
      " Rent 1 house: 130 \n",
      " Rent 2 houses: 390 \n",
      " Rent 3 houses: 900 \n",
      " Rent 4 houses: 1100                 \n",
      " Rent hotel: 1275 \n",
      " The property is currently owned by no-one and has 0 houses and 0 hotels.\n",
      "\n",
      "\n",
      "Bond Street is one of the 3 properties in the green set located at position 34 on the Monopoly board                 \n",
      " and can be purchased for $320 with a house price of $200. Rent prices are as follows: \n",
      " Rent: 28 \n",
      " Double rent: 56                 \n",
      " Rent 1 house: 150 \n",
      " Rent 2 houses: 450 \n",
      " Rent 3 houses: 1000 \n",
      " Rent 4 houses: 1200                 \n",
      " Rent hotel: 1400 \n",
      " The property is currently owned by no-one and has 0 houses and 0 hotels.\n",
      "\n",
      "\n",
      "Park Lane is one of the 2 properties in the darkblue set located at position 37 on the Monopoly board                 \n",
      " and can be purchased for $350 with a house price of $200. Rent prices are as follows: \n",
      " Rent: 35 \n",
      " Double rent: 70                 \n",
      " Rent 1 house: 175 \n",
      " Rent 2 houses: 500 \n",
      " Rent 3 houses: 1100 \n",
      " Rent 4 houses: 1300                 \n",
      " Rent hotel: 1500 \n",
      " The property is currently owned by no-one and has 0 houses and 0 hotels.\n",
      "\n",
      "\n",
      "Mayfair is one of the 2 properties in the darkblue set located at position 39 on the Monopoly board                 \n",
      " and can be purchased for $400 with a house price of $200. Rent prices are as follows: \n",
      " Rent: 50 \n",
      " Double rent: 100                 \n",
      " Rent 1 house: 200 \n",
      " Rent 2 houses: 600 \n",
      " Rent 3 houses: 1400 \n",
      " Rent 4 houses: 1700                 \n",
      " Rent hotel: 2000 \n",
      " The property is currently owned by no-one and has 0 houses and 0 hotels.\n",
      "\n",
      "\n"
     ]
    }
   ],
   "source": [
    "# check properties are defined correctly\n",
    "for property in board.properties:\n",
    "    print(property)\n",
    "    print('\\n')"
   ]
  },
  {
   "cell_type": "code",
   "execution_count": 8,
   "metadata": {},
   "outputs": [
    {
     "name": "stdout",
     "output_type": "stream",
     "text": [
      "Electric Company is a utility located at position 12 on the Monopoly board that can be purchased for 150.            \n",
      " If a player owns a single utility, they must be paid 4 multiplied by the dice roll in rent.            \n",
      " If a player owns both utilities, they must by paid 10 multiplied by the dice roll in rent.            \n",
      " This property is currently owned by no-one.\n",
      "\n",
      "\n",
      "Water Works is a utility located at position 28 on the Monopoly board that can be purchased for 150.            \n",
      " If a player owns a single utility, they must be paid 4 multiplied by the dice roll in rent.            \n",
      " If a player owns both utilities, they must by paid 10 multiplied by the dice roll in rent.            \n",
      " This property is currently owned by no-one.\n",
      "\n",
      "\n"
     ]
    }
   ],
   "source": [
    "# check utilities are defined correctly\n",
    "for utility in board.utilities:\n",
    "    print(utility)\n",
    "    print('\\n')"
   ]
  },
  {
   "cell_type": "code",
   "execution_count": 9,
   "metadata": {},
   "outputs": [
    {
     "name": "stdout",
     "output_type": "stream",
     "text": [
      "King's Cross Station is a station located at position 5 on the Monopoly board that can be purchased for 200.            \n",
      " Rent is as follows:             \n",
      " Rent if a single station is owned: 25             \n",
      " Rent if two stations are owned: 50             \n",
      " Rent if three stations are owned: 100             \n",
      " Rent if four stations are owned: 200             \n",
      " This property is currently owned by no-one.\n",
      "\n",
      "\n",
      "Marylebone Station is a station located at position 15 on the Monopoly board that can be purchased for 200.            \n",
      " Rent is as follows:             \n",
      " Rent if a single station is owned: 25             \n",
      " Rent if two stations are owned: 50             \n",
      " Rent if three stations are owned: 100             \n",
      " Rent if four stations are owned: 200             \n",
      " This property is currently owned by no-one.\n",
      "\n",
      "\n",
      "Fenchurch St. Station is a station located at position 25 on the Monopoly board that can be purchased for 200.            \n",
      " Rent is as follows:             \n",
      " Rent if a single station is owned: 25             \n",
      " Rent if two stations are owned: 50             \n",
      " Rent if three stations are owned: 100             \n",
      " Rent if four stations are owned: 200             \n",
      " This property is currently owned by no-one.\n",
      "\n",
      "\n",
      "Liverpool St. Station is a station located at position 35 on the Monopoly board that can be purchased for 200.            \n",
      " Rent is as follows:             \n",
      " Rent if a single station is owned: 25             \n",
      " Rent if two stations are owned: 50             \n",
      " Rent if three stations are owned: 100             \n",
      " Rent if four stations are owned: 200             \n",
      " This property is currently owned by no-one.\n",
      "\n",
      "\n"
     ]
    }
   ],
   "source": [
    "# check stations are defined correctly\n",
    "for station in board.stations:\n",
    "    print(station)\n",
    "    print('\\n')"
   ]
  },
  {
   "cell_type": "code",
   "execution_count": 10,
   "metadata": {},
   "outputs": [
    {
     "name": "stdout",
     "output_type": "stream",
     "text": [
      "Income Tax is located at position 4 on the Monopoly board. Players must pay 200 if they land here.            \n",
      " Alternatively, they can pay 10 percent of their wealth.\n",
      "\n",
      "\n",
      "Super Tax is located at position 38 on the Monopoly board. Players must pay 100 if they land here.            \n",
      " \n",
      "\n",
      "\n"
     ]
    }
   ],
   "source": [
    "# check tax spaces are defined correctly\n",
    "for tax in board.tax:\n",
    "    print(tax)\n",
    "    print('\\n')"
   ]
  },
  {
   "cell_type": "code",
   "execution_count": 11,
   "metadata": {},
   "outputs": [
    {
     "name": "stdout",
     "output_type": "stream",
     "text": [
      "Go is located at position 0 on the Monopoly board. Players receive 200 every time they pass go.\n",
      "Jail is located at position 10 on the Monopoly board.\n",
      "Free parking is located at position 20 on the Monopoly board.\n",
      "Go to jail is located at position 30 on the Monopoly board.\n"
     ]
    }
   ],
   "source": [
    "# check other spaces are defined correctly (Go, Jail, FreeParking, GoToJail)\n",
    "print(board.go)\n",
    "print(board.jail)\n",
    "print(board.free_parking)\n",
    "print(board.go_to_jail)"
   ]
  },
  {
   "cell_type": "code",
   "execution_count": 12,
   "metadata": {},
   "outputs": [
    {
     "name": "stdout",
     "output_type": "stream",
     "text": [
      "Chance spaces are located at positions [7, 22, 36] on the Monopoly board.             \n",
      " The card on the top of the pile is: \"Bank pays you a dividend of £50.\".\n"
     ]
    }
   ],
   "source": [
    "# check chance cards are defined correctly\n",
    "print(board.chance)"
   ]
  },
  {
   "cell_type": "code",
   "execution_count": 13,
   "metadata": {},
   "outputs": [
    {
     "name": "stdout",
     "output_type": "stream",
     "text": [
      "Community chest spaces are located at positions [2, 17, 33] on the Monopoly board.             \n",
      " The card on the top of the pile is: \"Go to Jail. Go directly to jail, do not pass Go, do not collect £200.\".\n"
     ]
    }
   ],
   "source": [
    "# check community chest cards are defined correctly\n",
    "print(board.community_chest)"
   ]
  },
  {
   "cell_type": "markdown",
   "metadata": {},
   "source": [
    "### Tests for player moves"
   ]
  },
  {
   "cell_type": "code",
   "execution_count": 14,
   "metadata": {},
   "outputs": [],
   "source": [
    "board = MonopolyBoard()\n",
    "player1 = Player('Cat')\n",
    "player2 = Player('Vlad')\n",
    "\n",
    "board.add_player(player1)\n",
    "board.add_player(player2)"
   ]
  },
  {
   "cell_type": "code",
   "execution_count": 15,
   "metadata": {},
   "outputs": [
    {
     "name": "stdout",
     "output_type": "stream",
     "text": [
      "Player Cat is currently as position 3 on the board, with $1440.             \n",
      " They hold the following properties: ['Whitechapel Road'].            \n",
      " They hold the following stations: []            \n",
      " They hold the following utilities: []            \n",
      " The player has 0 houses and 0 hotels             \n",
      " The player is currently not in jail.\n",
      "\n",
      "\n",
      "Player Vlad is currently as position 0 on the board, with $1500.             \n",
      " They hold the following properties: [].            \n",
      " They hold the following stations: []            \n",
      " They hold the following utilities: []            \n",
      " The player has 0 houses and 0 hotels             \n",
      " The player is currently not in jail.\n",
      "\n",
      "\n",
      "-----------------------------------------------------------------------------------\n",
      "Player Cat is currently as position 3 on the board, with $1440.             \n",
      " They hold the following properties: ['Whitechapel Road'].            \n",
      " They hold the following stations: []            \n",
      " They hold the following utilities: []            \n",
      " The player has 0 houses and 0 hotels             \n",
      " The player is currently not in jail.\n",
      "\n",
      "\n",
      "Player Vlad is currently as position 7 on the board, with $1485.             \n",
      " They hold the following properties: [].            \n",
      " They hold the following stations: []            \n",
      " They hold the following utilities: []            \n",
      " The player has 0 houses and 0 hotels             \n",
      " The player is currently not in jail.\n",
      "\n",
      "\n",
      "-----------------------------------------------------------------------------------\n",
      "Player Cat is currently as position 13 on the board, with $1300.             \n",
      " They hold the following properties: ['Whitechapel Road', 'Whitehall'].            \n",
      " They hold the following stations: []            \n",
      " They hold the following utilities: []            \n",
      " The player has 0 houses and 0 hotels             \n",
      " The player is currently not in jail.\n",
      "\n",
      "\n",
      "Player Vlad is currently as position 7 on the board, with $1485.             \n",
      " They hold the following properties: [].            \n",
      " They hold the following stations: []            \n",
      " They hold the following utilities: []            \n",
      " The player has 0 houses and 0 hotels             \n",
      " The player is currently not in jail.\n",
      "\n",
      "\n",
      "-----------------------------------------------------------------------------------\n",
      "Player Cat is currently as position 13 on the board, with $1300.             \n",
      " They hold the following properties: ['Whitechapel Road', 'Whitehall'].            \n",
      " They hold the following stations: []            \n",
      " They hold the following utilities: []            \n",
      " The player has 0 houses and 0 hotels             \n",
      " The player is currently not in jail.\n",
      "\n",
      "\n",
      "Player Vlad is currently as position 12 on the board, with $1335.             \n",
      " They hold the following properties: [].            \n",
      " They hold the following stations: []            \n",
      " They hold the following utilities: ['Electric Company']            \n",
      " The player has 0 houses and 0 hotels             \n",
      " The player is currently not in jail.\n",
      "\n",
      "\n",
      "-----------------------------------------------------------------------------------\n",
      "Player Cat is currently as position 27 on the board, with $1100.             \n",
      " They hold the following properties: ['Whitechapel Road', 'Whitehall', 'Vine Street'].            \n",
      " They hold the following stations: []            \n",
      " They hold the following utilities: []            \n",
      " The player has 0 houses and 0 hotels             \n",
      " The player is currently not in jail.\n",
      "\n",
      "\n",
      "Player Vlad is currently as position 12 on the board, with $1335.             \n",
      " They hold the following properties: [].            \n",
      " They hold the following stations: []            \n",
      " They hold the following utilities: ['Electric Company']            \n",
      " The player has 0 houses and 0 hotels             \n",
      " The player is currently not in jail.\n",
      "\n",
      "\n",
      "-----------------------------------------------------------------------------------\n",
      "Player Cat is currently as position 27 on the board, with $1100.             \n",
      " They hold the following properties: ['Whitechapel Road', 'Whitehall', 'Vine Street'].            \n",
      " They hold the following stations: []            \n",
      " They hold the following utilities: []            \n",
      " The player has 0 houses and 0 hotels             \n",
      " The player is currently not in jail.\n",
      "\n",
      "\n",
      "Player Vlad is currently as position 21 on the board, with $1115.             \n",
      " They hold the following properties: ['The Strand'].            \n",
      " They hold the following stations: []            \n",
      " They hold the following utilities: ['Electric Company']            \n",
      " The player has 0 houses and 0 hotels             \n",
      " The player is currently not in jail.\n",
      "\n",
      "\n",
      "-----------------------------------------------------------------------------------\n",
      "Player Cat is currently as position 5 on the board, with $1100.             \n",
      " They hold the following properties: ['Whitechapel Road', 'Whitehall', 'Vine Street'].            \n",
      " They hold the following stations: [\"King's Cross Station\"]            \n",
      " They hold the following utilities: []            \n",
      " The player has 0 houses and 0 hotels             \n",
      " The player is currently not in jail.\n",
      "\n",
      "\n",
      "Player Vlad is currently as position 21 on the board, with $1115.             \n",
      " They hold the following properties: ['The Strand'].            \n",
      " They hold the following stations: []            \n",
      " They hold the following utilities: ['Electric Company']            \n",
      " The player has 0 houses and 0 hotels             \n",
      " The player is currently not in jail.\n",
      "\n",
      "\n",
      "-----------------------------------------------------------------------------------\n",
      "Player Cat is currently as position 5 on the board, with $1100.             \n",
      " They hold the following properties: ['Whitechapel Road', 'Whitehall', 'Vine Street'].            \n",
      " They hold the following stations: [\"King's Cross Station\"]            \n",
      " They hold the following utilities: []            \n",
      " The player has 0 houses and 0 hotels             \n",
      " The player is currently not in jail.\n",
      "\n",
      "\n",
      "Player Vlad is currently as position 29 on the board, with $835.             \n",
      " They hold the following properties: ['The Strand', 'Piccadilly'].            \n",
      " They hold the following stations: []            \n",
      " They hold the following utilities: ['Electric Company']            \n",
      " The player has 0 houses and 0 hotels             \n",
      " The player is currently not in jail.\n",
      "\n",
      "\n",
      "-----------------------------------------------------------------------------------\n",
      "Player Cat is currently as position 16 on the board, with $920.             \n",
      " They hold the following properties: ['Whitechapel Road', 'Whitehall', 'Vine Street', 'Bow Street'].            \n",
      " They hold the following stations: [\"King's Cross Station\"]            \n",
      " They hold the following utilities: []            \n",
      " The player has 0 houses and 0 hotels             \n",
      " The player is currently not in jail.\n",
      "\n",
      "\n",
      "Player Vlad is currently as position 29 on the board, with $835.             \n",
      " They hold the following properties: ['The Strand', 'Piccadilly'].            \n",
      " They hold the following stations: []            \n",
      " They hold the following utilities: ['Electric Company']            \n",
      " The player has 0 houses and 0 hotels             \n",
      " The player is currently not in jail.\n",
      "\n",
      "\n",
      "-----------------------------------------------------------------------------------\n",
      "Player Cat is currently as position 16 on the board, with $920.             \n",
      " They hold the following properties: ['Whitechapel Road', 'Whitehall', 'Vine Street', 'Bow Street'].            \n",
      " They hold the following stations: [\"King's Cross Station\"]            \n",
      " They hold the following utilities: []            \n",
      " The player has 0 houses and 0 hotels             \n",
      " The player is currently not in jail.\n",
      "\n",
      "\n",
      "Player Vlad is currently as position 10 on the board, with $925.             \n",
      " They hold the following properties: ['The Strand', 'Piccadilly', 'Old Kent Road'].            \n",
      " They hold the following stations: []            \n",
      " They hold the following utilities: ['Electric Company']            \n",
      " The player has 0 houses and 0 hotels             \n",
      " The player is currently not in jail.\n",
      "\n",
      "\n",
      "-----------------------------------------------------------------------------------\n",
      "Player Cat is currently as position 27 on the board, with $920.             \n",
      " They hold the following properties: ['Whitechapel Road', 'Whitehall', 'Vine Street', 'Bow Street'].            \n",
      " They hold the following stations: [\"King's Cross Station\"]            \n",
      " They hold the following utilities: []            \n",
      " The player has 0 houses and 0 hotels             \n",
      " The player is currently not in jail.\n",
      "\n",
      "\n",
      "Player Vlad is currently as position 10 on the board, with $925.             \n",
      " They hold the following properties: ['The Strand', 'Piccadilly', 'Old Kent Road'].            \n",
      " They hold the following stations: []            \n",
      " They hold the following utilities: ['Electric Company']            \n",
      " The player has 0 houses and 0 hotels             \n",
      " The player is currently not in jail.\n",
      "\n",
      "\n",
      "-----------------------------------------------------------------------------------\n",
      "Player Cat is currently as position 27 on the board, with $920.             \n",
      " They hold the following properties: ['Whitechapel Road', 'Whitehall', 'Vine Street', 'Bow Street'].            \n",
      " They hold the following stations: [\"King's Cross Station\"]            \n",
      " They hold the following utilities: []            \n",
      " The player has 0 houses and 0 hotels             \n",
      " The player is currently not in jail.\n",
      "\n",
      "\n",
      "Player Vlad is currently as position 18 on the board, with $925.             \n",
      " They hold the following properties: ['The Strand', 'Piccadilly', 'Old Kent Road'].            \n",
      " They hold the following stations: []            \n",
      " They hold the following utilities: ['Electric Company']            \n",
      " The player has 0 houses and 0 hotels             \n",
      " The player is currently not in jail.\n",
      "\n",
      "\n",
      "-----------------------------------------------------------------------------------\n",
      "Player Cat is currently as position 31 on the board, with $920.             \n",
      " They hold the following properties: ['Whitechapel Road', 'Whitehall', 'Vine Street', 'Bow Street'].            \n",
      " They hold the following stations: [\"King's Cross Station\"]            \n",
      " They hold the following utilities: []            \n",
      " The player has 0 houses and 0 hotels             \n",
      " The player is currently not in jail.\n",
      "\n",
      "\n",
      "Player Vlad is currently as position 18 on the board, with $925.             \n",
      " They hold the following properties: ['The Strand', 'Piccadilly', 'Old Kent Road'].            \n",
      " They hold the following stations: []            \n",
      " They hold the following utilities: ['Electric Company']            \n",
      " The player has 0 houses and 0 hotels             \n",
      " The player is currently not in jail.\n",
      "\n",
      "\n",
      "-----------------------------------------------------------------------------------\n",
      "Player Cat is currently as position 31 on the board, with $920.             \n",
      " They hold the following properties: ['Whitechapel Road', 'Whitehall', 'Vine Street', 'Bow Street'].            \n",
      " They hold the following stations: [\"King's Cross Station\"]            \n",
      " They hold the following utilities: []            \n",
      " The player has 0 houses and 0 hotels             \n",
      " The player is currently not in jail.\n",
      "\n",
      "\n",
      "Player Vlad is currently as position 21 on the board, with $925.             \n",
      " They hold the following properties: ['The Strand', 'Piccadilly', 'Old Kent Road'].            \n",
      " They hold the following stations: []            \n",
      " They hold the following utilities: ['Electric Company']            \n",
      " The player has 0 houses and 0 hotels             \n",
      " The player is currently not in jail.\n",
      "\n",
      "\n",
      "-----------------------------------------------------------------------------------\n",
      "Player Cat is currently as position 38 on the board, with $820.             \n",
      " They hold the following properties: ['Whitechapel Road', 'Whitehall', 'Vine Street', 'Bow Street'].            \n",
      " They hold the following stations: [\"King's Cross Station\"]            \n",
      " They hold the following utilities: []            \n",
      " The player has 0 houses and 0 hotels             \n",
      " The player is currently not in jail.\n",
      "\n",
      "\n",
      "Player Vlad is currently as position 21 on the board, with $925.             \n",
      " They hold the following properties: ['The Strand', 'Piccadilly', 'Old Kent Road'].            \n",
      " They hold the following stations: []            \n",
      " They hold the following utilities: ['Electric Company']            \n",
      " The player has 0 houses and 0 hotels             \n",
      " The player is currently not in jail.\n",
      "\n",
      "\n",
      "-----------------------------------------------------------------------------------\n",
      "Player Cat is currently as position 38 on the board, with $820.             \n",
      " They hold the following properties: ['Whitechapel Road', 'Whitehall', 'Vine Street', 'Bow Street'].            \n",
      " They hold the following stations: [\"King's Cross Station\"]            \n",
      " They hold the following utilities: []            \n",
      " The player has 0 houses and 0 hotels             \n",
      " The player is currently not in jail.\n",
      "\n",
      "\n",
      "Player Vlad is currently as position 25 on the board, with $725.             \n",
      " They hold the following properties: ['The Strand', 'Piccadilly', 'Old Kent Road'].            \n",
      " They hold the following stations: ['Fenchurch St. Station']            \n",
      " They hold the following utilities: ['Electric Company']            \n",
      " The player has 0 houses and 0 hotels             \n",
      " The player is currently not in jail.\n",
      "\n",
      "\n",
      "-----------------------------------------------------------------------------------\n",
      "Player Cat is currently as position 5 on the board, with $1020.             \n",
      " They hold the following properties: ['Whitechapel Road', 'Whitehall', 'Vine Street', 'Bow Street'].            \n",
      " They hold the following stations: [\"King's Cross Station\"]            \n",
      " They hold the following utilities: []            \n",
      " The player has 0 houses and 0 hotels             \n",
      " The player is currently not in jail.\n",
      "\n",
      "\n",
      "Player Vlad is currently as position 25 on the board, with $725.             \n",
      " They hold the following properties: ['The Strand', 'Piccadilly', 'Old Kent Road'].            \n",
      " They hold the following stations: ['Fenchurch St. Station']            \n",
      " They hold the following utilities: ['Electric Company']            \n",
      " The player has 0 houses and 0 hotels             \n",
      " The player is currently not in jail.\n",
      "\n",
      "\n",
      "-----------------------------------------------------------------------------------\n",
      "Player Cat is currently as position 5 on the board, with $1020.             \n",
      " They hold the following properties: ['Whitechapel Road', 'Whitehall', 'Vine Street', 'Bow Street'].            \n",
      " They hold the following stations: [\"King's Cross Station\"]            \n",
      " They hold the following utilities: []            \n",
      " The player has 0 houses and 0 hotels             \n",
      " The player is currently not in jail.\n",
      "\n",
      "\n",
      "Player Vlad is currently as position 34 on the board, with $725.             \n",
      " They hold the following properties: ['The Strand', 'Piccadilly', 'Old Kent Road'].            \n",
      " They hold the following stations: ['Fenchurch St. Station']            \n",
      " They hold the following utilities: ['Electric Company']            \n",
      " The player has 0 houses and 0 hotels             \n",
      " The player is currently not in jail.\n",
      "\n",
      "\n",
      "-----------------------------------------------------------------------------------\n",
      "Player Cat is currently as position 13 on the board, with $1020.             \n",
      " They hold the following properties: ['Whitechapel Road', 'Whitehall', 'Vine Street', 'Bow Street'].            \n",
      " They hold the following stations: [\"King's Cross Station\"]            \n",
      " They hold the following utilities: []            \n",
      " The player has 0 houses and 0 hotels             \n",
      " The player is currently not in jail.\n",
      "\n",
      "\n",
      "Player Vlad is currently as position 34 on the board, with $725.             \n",
      " They hold the following properties: ['The Strand', 'Piccadilly', 'Old Kent Road'].            \n",
      " They hold the following stations: ['Fenchurch St. Station']            \n",
      " They hold the following utilities: ['Electric Company']            \n",
      " The player has 0 houses and 0 hotels             \n",
      " The player is currently not in jail.\n",
      "\n",
      "\n",
      "-----------------------------------------------------------------------------------\n",
      "Player Cat is currently as position 13 on the board, with $1020.             \n",
      " They hold the following properties: ['Whitechapel Road', 'Whitehall', 'Vine Street', 'Bow Street'].            \n",
      " They hold the following stations: [\"King's Cross Station\"]            \n",
      " They hold the following utilities: []            \n",
      " The player has 0 houses and 0 hotels             \n",
      " The player is currently not in jail.\n",
      "\n",
      "\n",
      "Player Vlad is currently as position 12 on the board, with $825.             \n",
      " They hold the following properties: ['The Strand', 'Piccadilly', 'Old Kent Road'].            \n",
      " They hold the following stations: ['Fenchurch St. Station']            \n",
      " They hold the following utilities: ['Electric Company']            \n",
      " The player has 0 houses and 0 hotels             \n",
      " The player is currently not in jail.\n",
      "\n",
      "\n",
      "-----------------------------------------------------------------------------------\n",
      "Player Cat is currently as position 18 on the board, with $840.             \n",
      " They hold the following properties: ['Whitechapel Road', 'Whitehall', 'Vine Street', 'Bow Street', 'Marlborough Street'].            \n",
      " They hold the following stations: [\"King's Cross Station\"]            \n",
      " They hold the following utilities: []            \n",
      " The player has 0 houses and 0 hotels             \n",
      " The player is currently not in jail.\n",
      "\n",
      "\n",
      "Player Vlad is currently as position 12 on the board, with $825.             \n",
      " They hold the following properties: ['The Strand', 'Piccadilly', 'Old Kent Road'].            \n",
      " They hold the following stations: ['Fenchurch St. Station']            \n",
      " They hold the following utilities: ['Electric Company']            \n",
      " The player has 0 houses and 0 hotels             \n",
      " The player is currently not in jail.\n",
      "\n",
      "\n",
      "-----------------------------------------------------------------------------------\n",
      "Player Cat is currently as position 18 on the board, with $868.             \n",
      " They hold the following properties: ['Whitechapel Road', 'Whitehall', 'Vine Street', 'Bow Street', 'Marlborough Street'].            \n",
      " They hold the following stations: [\"King's Cross Station\"]            \n",
      " They hold the following utilities: []            \n",
      " The player has 0 houses and 0 hotels             \n",
      " The player is currently not in jail.\n",
      "\n",
      "\n",
      "Player Vlad is currently as position 27 on the board, with $537.             \n",
      " They hold the following properties: ['The Strand', 'Piccadilly', 'Old Kent Road', 'Coventry Street'].            \n",
      " They hold the following stations: ['Fenchurch St. Station']            \n",
      " They hold the following utilities: ['Electric Company']            \n",
      " The player has 0 houses and 0 hotels             \n",
      " The player is currently not in jail.\n",
      "\n",
      "\n",
      "-----------------------------------------------------------------------------------\n",
      "Player Cat is currently as position 26 on the board, with $568.             \n",
      " They hold the following properties: ['Whitechapel Road', 'Whitehall', 'Vine Street', 'Bow Street', 'Marlborough Street'].            \n",
      " They hold the following stations: [\"King's Cross Station\"]            \n",
      " They hold the following utilities: []            \n",
      " The player has 3 houses and 0 hotels             \n",
      " The player is currently not in jail.\n",
      "\n",
      "\n",
      "Player Vlad is currently as position 27 on the board, with $537.             \n",
      " They hold the following properties: ['The Strand', 'Piccadilly', 'Old Kent Road', 'Coventry Street'].            \n",
      " They hold the following stations: ['Fenchurch St. Station']            \n",
      " They hold the following utilities: ['Electric Company']            \n",
      " The player has 0 houses and 0 hotels             \n",
      " The player is currently not in jail.\n",
      "\n",
      "\n",
      "-----------------------------------------------------------------------------------\n",
      "Player Cat is currently as position 26 on the board, with $568.             \n",
      " They hold the following properties: ['Whitechapel Road', 'Whitehall', 'Vine Street', 'Bow Street', 'Marlborough Street'].            \n",
      " They hold the following stations: [\"King's Cross Station\"]            \n",
      " They hold the following utilities: []            \n",
      " The player has 3 houses and 0 hotels             \n",
      " The player is currently not in jail.\n",
      "\n",
      "\n",
      "Player Vlad is currently as position 38 on the board, with $437.             \n",
      " They hold the following properties: ['The Strand', 'Piccadilly', 'Old Kent Road', 'Coventry Street'].            \n",
      " They hold the following stations: ['Fenchurch St. Station']            \n",
      " They hold the following utilities: ['Electric Company']            \n",
      " The player has 0 houses and 0 hotels             \n",
      " The player is currently not in jail.\n",
      "\n",
      "\n",
      "-----------------------------------------------------------------------------------\n",
      "Player Cat is currently as position 35 on the board, with $68.             \n",
      " They hold the following properties: ['Whitechapel Road', 'Whitehall', 'Vine Street', 'Bow Street', 'Marlborough Street'].            \n",
      " They hold the following stations: [\"King's Cross Station\", 'Liverpool St. Station']            \n",
      " They hold the following utilities: []            \n",
      " The player has 6 houses and 0 hotels             \n",
      " The player is currently not in jail.\n",
      "\n",
      "\n",
      "Player Vlad is currently as position 38 on the board, with $437.             \n",
      " They hold the following properties: ['The Strand', 'Piccadilly', 'Old Kent Road', 'Coventry Street'].            \n",
      " They hold the following stations: ['Fenchurch St. Station']            \n",
      " They hold the following utilities: ['Electric Company']            \n",
      " The player has 0 houses and 0 hotels             \n",
      " The player is currently not in jail.\n",
      "\n",
      "\n",
      "-----------------------------------------------------------------------------------\n",
      "Player Cat is currently as position 35 on the board, with $118.             \n",
      " They hold the following properties: ['Whitechapel Road', 'Whitehall', 'Vine Street', 'Bow Street', 'Marlborough Street'].            \n",
      " They hold the following stations: [\"King's Cross Station\", 'Liverpool St. Station']            \n",
      " They hold the following utilities: []            \n",
      " The player has 6 houses and 0 hotels             \n",
      " The player is currently not in jail.\n",
      "\n",
      "\n",
      "Player Vlad is currently as position 5 on the board, with $587.             \n",
      " They hold the following properties: ['The Strand', 'Piccadilly', 'Old Kent Road', 'Coventry Street'].            \n",
      " They hold the following stations: ['Fenchurch St. Station']            \n",
      " They hold the following utilities: ['Electric Company']            \n",
      " The player has 0 houses and 0 hotels             \n",
      " The player is currently not in jail.\n",
      "\n",
      "\n",
      "-----------------------------------------------------------------------------------\n",
      "Player Cat is currently as position 8 on the board, with $218.             \n",
      " They hold the following properties: ['Whitechapel Road', 'Whitehall', 'Vine Street', 'Bow Street', 'Marlborough Street'].            \n",
      " They hold the following stations: [\"King's Cross Station\", 'Liverpool St. Station']            \n",
      " They hold the following utilities: []            \n",
      " The player has 7 houses and 0 hotels             \n",
      " The player is currently not in jail.\n",
      "\n",
      "\n",
      "Player Vlad is currently as position 5 on the board, with $587.             \n",
      " They hold the following properties: ['The Strand', 'Piccadilly', 'Old Kent Road', 'Coventry Street'].            \n",
      " They hold the following stations: ['Fenchurch St. Station']            \n",
      " They hold the following utilities: ['Electric Company']            \n",
      " The player has 0 houses and 0 hotels             \n",
      " The player is currently not in jail.\n",
      "\n",
      "\n",
      "-----------------------------------------------------------------------------------\n",
      "Player Cat is currently as position 8 on the board, with $218.             \n",
      " They hold the following properties: ['Whitechapel Road', 'Whitehall', 'Vine Street', 'Bow Street', 'Marlborough Street'].            \n",
      " They hold the following stations: [\"King's Cross Station\", 'Liverpool St. Station']            \n",
      " They hold the following utilities: []            \n",
      " The player has 7 houses and 0 hotels             \n",
      " The player is currently not in jail.\n",
      "\n",
      "\n",
      "Player Vlad is currently as position 10 on the board, with $637.             \n",
      " They hold the following properties: ['The Strand', 'Piccadilly', 'Old Kent Road', 'Coventry Street'].            \n",
      " They hold the following stations: ['Fenchurch St. Station']            \n",
      " They hold the following utilities: ['Electric Company']            \n",
      " The player has 0 houses and 0 hotels             \n",
      " The player is currently not in jail.\n",
      "\n",
      "\n",
      "-----------------------------------------------------------------------------------\n"
     ]
    },
    {
     "ename": "AttributeError",
     "evalue": "'list' object has no attribute 'num_houses'",
     "output_type": "error",
     "traceback": [
      "\u001b[1;31m---------------------------------------------------------------------------\u001b[0m",
      "\u001b[1;31mAttributeError\u001b[0m                            Traceback (most recent call last)",
      "\u001b[1;32mc:\\Users\\cathe\\OneDrive\\Documents\\Capstone - Optimising Monopoly Gameplay Strategies\\Simulation Classes\\PlayGame.ipynb Cell 19\u001b[0m line \u001b[0;36m3\n\u001b[0;32m      <a href='vscode-notebook-cell:/c%3A/Users/cathe/OneDrive/Documents/Capstone%20-%20Optimising%20Monopoly%20Gameplay%20Strategies/Simulation%20Classes/PlayGame.ipynb#X24sZmlsZQ%3D%3D?line=0'>1</a>\u001b[0m \u001b[39mwhile\u001b[39;00m player1\u001b[39m.\u001b[39mbankrupt \u001b[39m==\u001b[39m \u001b[39mFalse\u001b[39;00m \u001b[39mand\u001b[39;00m player2\u001b[39m.\u001b[39mbankrupt \u001b[39m==\u001b[39m \u001b[39mFalse\u001b[39;00m:\n\u001b[0;32m      <a href='vscode-notebook-cell:/c%3A/Users/cathe/OneDrive/Documents/Capstone%20-%20Optimising%20Monopoly%20Gameplay%20Strategies/Simulation%20Classes/PlayGame.ipynb#X24sZmlsZQ%3D%3D?line=1'>2</a>\u001b[0m     \u001b[39mfor\u001b[39;00m player \u001b[39min\u001b[39;00m board\u001b[39m.\u001b[39mplayers:\n\u001b[1;32m----> <a href='vscode-notebook-cell:/c%3A/Users/cathe/OneDrive/Documents/Capstone%20-%20Optimising%20Monopoly%20Gameplay%20Strategies/Simulation%20Classes/PlayGame.ipynb#X24sZmlsZQ%3D%3D?line=2'>3</a>\u001b[0m         board\u001b[39m.\u001b[39;49mtake_turn(player)\n\u001b[0;32m      <a href='vscode-notebook-cell:/c%3A/Users/cathe/OneDrive/Documents/Capstone%20-%20Optimising%20Monopoly%20Gameplay%20Strategies/Simulation%20Classes/PlayGame.ipynb#X24sZmlsZQ%3D%3D?line=4'>5</a>\u001b[0m         \u001b[39mfor\u001b[39;00m player \u001b[39min\u001b[39;00m board\u001b[39m.\u001b[39mplayers:\n\u001b[0;32m      <a href='vscode-notebook-cell:/c%3A/Users/cathe/OneDrive/Documents/Capstone%20-%20Optimising%20Monopoly%20Gameplay%20Strategies/Simulation%20Classes/PlayGame.ipynb#X24sZmlsZQ%3D%3D?line=5'>6</a>\u001b[0m             \u001b[39mprint\u001b[39m(player)\n",
      "File \u001b[1;32m~\\AppData\\Local\\Temp\\ipykernel_52156\\662522779.py:202\u001b[0m, in \u001b[0;36mMonopolyBoard.take_turn\u001b[1;34m(self, player, doubles)\u001b[0m\n\u001b[0;32m    199\u001b[0m     player\u001b[39m.\u001b[39mreceive(\u001b[39mself\u001b[39m\u001b[39m.\u001b[39mboard[\u001b[39m0\u001b[39m]\u001b[39m.\u001b[39mincome)\n\u001b[0;32m    201\u001b[0m \u001b[39mif\u001b[39;00m space\u001b[39m.\u001b[39mtype \u001b[39m==\u001b[39m \u001b[39m\"\u001b[39m\u001b[39mStreet\u001b[39m\u001b[39m\"\u001b[39m:\n\u001b[1;32m--> 202\u001b[0m     \u001b[39mself\u001b[39;49m\u001b[39m.\u001b[39;49mhandle_property(player, space)\n\u001b[0;32m    204\u001b[0m \u001b[39melif\u001b[39;00m space\u001b[39m.\u001b[39mtype \u001b[39m==\u001b[39m \u001b[39m\"\u001b[39m\u001b[39mStation\u001b[39m\u001b[39m\"\u001b[39m:\n\u001b[0;32m    205\u001b[0m     \u001b[39mself\u001b[39m\u001b[39m.\u001b[39mhandle_property(player, space)\n",
      "File \u001b[1;32m~\\AppData\\Local\\Temp\\ipykernel_52156\\662522779.py:498\u001b[0m, in \u001b[0;36mMonopolyBoard.handle_property\u001b[1;34m(self, player, space, dice_roll)\u001b[0m\n\u001b[0;32m    496\u001b[0m         space\u001b[39m.\u001b[39mowner\u001b[39m.\u001b[39mreceive(rent)\n\u001b[0;32m    497\u001b[0m     \u001b[39melse\u001b[39;00m:\n\u001b[1;32m--> 498\u001b[0m         \u001b[39mself\u001b[39;49m\u001b[39m.\u001b[39;49mraise_funds(player, rent)\n\u001b[0;32m    500\u001b[0m \u001b[39melif\u001b[39;00m \u001b[39mself\u001b[39m\u001b[39m.\u001b[39mstrategy\u001b[39m.\u001b[39mdecide_to_buy(player, space):\n\u001b[0;32m    501\u001b[0m     space\u001b[39m.\u001b[39mowner \u001b[39m=\u001b[39m player\n",
      "File \u001b[1;32m~\\AppData\\Local\\Temp\\ipykernel_52156\\662522779.py:519\u001b[0m, in \u001b[0;36mMonopolyBoard.raise_funds\u001b[1;34m(self, player, cost)\u001b[0m\n\u001b[0;32m    517\u001b[0m \u001b[39mdef\u001b[39;00m \u001b[39mraise_funds\u001b[39m(\u001b[39mself\u001b[39m, player, cost):\n\u001b[0;32m    518\u001b[0m     \u001b[39m# sell houses to pay\u001b[39;00m\n\u001b[1;32m--> 519\u001b[0m     \u001b[39mself\u001b[39;49m\u001b[39m.\u001b[39;49mstrategy\u001b[39m.\u001b[39;49mdecide_sell_houses(player, cost \u001b[39m-\u001b[39;49m player\u001b[39m.\u001b[39;49mmoney)\n\u001b[0;32m    520\u001b[0m     \u001b[39mif\u001b[39;00m player\u001b[39m.\u001b[39mmoney \u001b[39m>\u001b[39m\u001b[39m=\u001b[39m cost:\n\u001b[0;32m    521\u001b[0m         player\u001b[39m.\u001b[39mpay(cost)\n",
      "File \u001b[1;32m~\\AppData\\Local\\Temp\\ipykernel_52156\\2761472861.py:34\u001b[0m, in \u001b[0;36mStrategy.decide_sell_houses\u001b[1;34m(self, player, money_needed)\u001b[0m\n\u001b[0;32m     32\u001b[0m \u001b[39m# get property groups that player owns & sort by number of houses & hotels in group\u001b[39;00m\n\u001b[0;32m     33\u001b[0m property_sets \u001b[39m=\u001b[39m [(group, properties) \u001b[39mfor\u001b[39;00m group, properties \u001b[39min\u001b[39;00m player\u001b[39m.\u001b[39mproperty_sets\u001b[39m.\u001b[39mitems()]\n\u001b[1;32m---> 34\u001b[0m property_sets\u001b[39m.\u001b[39;49msort(key \u001b[39m=\u001b[39;49m \u001b[39mlambda\u001b[39;49;00m x: \u001b[39msum\u001b[39;49m(x[\u001b[39m1\u001b[39;49m]\u001b[39m.\u001b[39;49mnum_houses \u001b[39m+\u001b[39;49m x[\u001b[39m1\u001b[39;49m]\u001b[39m.\u001b[39;49mhotel), reverse \u001b[39m=\u001b[39;49m \u001b[39mTrue\u001b[39;49;00m)\n\u001b[0;32m     36\u001b[0m \u001b[39mfor\u001b[39;00m group, properties \u001b[39min\u001b[39;00m property_sets:\n\u001b[0;32m     37\u001b[0m     \u001b[39mwhile\u001b[39;00m money_raised \u001b[39m<\u001b[39m money_needed:\n\u001b[0;32m     38\u001b[0m \n\u001b[0;32m     39\u001b[0m         \u001b[39m# get properties in group with houses & sort by number of houses & hotels\u001b[39;00m\n",
      "File \u001b[1;32m~\\AppData\\Local\\Temp\\ipykernel_52156\\2761472861.py:34\u001b[0m, in \u001b[0;36mStrategy.decide_sell_houses.<locals>.<lambda>\u001b[1;34m(x)\u001b[0m\n\u001b[0;32m     32\u001b[0m \u001b[39m# get property groups that player owns & sort by number of houses & hotels in group\u001b[39;00m\n\u001b[0;32m     33\u001b[0m property_sets \u001b[39m=\u001b[39m [(group, properties) \u001b[39mfor\u001b[39;00m group, properties \u001b[39min\u001b[39;00m player\u001b[39m.\u001b[39mproperty_sets\u001b[39m.\u001b[39mitems()]\n\u001b[1;32m---> 34\u001b[0m property_sets\u001b[39m.\u001b[39msort(key \u001b[39m=\u001b[39m \u001b[39mlambda\u001b[39;00m x: \u001b[39msum\u001b[39m(x[\u001b[39m1\u001b[39;49m]\u001b[39m.\u001b[39;49mnum_houses \u001b[39m+\u001b[39m x[\u001b[39m1\u001b[39m]\u001b[39m.\u001b[39mhotel), reverse \u001b[39m=\u001b[39m \u001b[39mTrue\u001b[39;00m)\n\u001b[0;32m     36\u001b[0m \u001b[39mfor\u001b[39;00m group, properties \u001b[39min\u001b[39;00m property_sets:\n\u001b[0;32m     37\u001b[0m     \u001b[39mwhile\u001b[39;00m money_raised \u001b[39m<\u001b[39m money_needed:\n\u001b[0;32m     38\u001b[0m \n\u001b[0;32m     39\u001b[0m         \u001b[39m# get properties in group with houses & sort by number of houses & hotels\u001b[39;00m\n",
      "\u001b[1;31mAttributeError\u001b[0m: 'list' object has no attribute 'num_houses'"
     ]
    }
   ],
   "source": [
    "while player1.bankrupt == False and player2.bankrupt == False:\n",
    "    for player in board.players:\n",
    "        board.take_turn(player)\n",
    "\n",
    "        for player in board.players:\n",
    "            print(player)\n",
    "            print('\\n')\n",
    "\n",
    "        print('-----------------------------------------------------------------------------------')\n",
    "\n",
    "#print(f'{player1.name if player1.bankrupt else player2.name} is bankrupt')"
   ]
  },
  {
   "cell_type": "code",
   "execution_count": null,
   "metadata": {},
   "outputs": [],
   "source": [
    "board = MonopolyBoard()\n",
    "player1 = Player('Cat')\n",
    "player2 = Player('Vlad')\n",
    "\n",
    "board.add_player(player1)\n",
    "board.add_player(player2)"
   ]
  },
  {
   "cell_type": "code",
   "execution_count": null,
   "metadata": {},
   "outputs": [],
   "source": [
    "board.take_turn(player1)"
   ]
  },
  {
   "cell_type": "code",
   "execution_count": null,
   "metadata": {},
   "outputs": [
    {
     "name": "stdout",
     "output_type": "stream",
     "text": [
      "Player Cat is currently as position 5 on the board, with $1300.             \n",
      " They hold the following properties: [].            \n",
      " They hold the following stations: [\"King's Cross Station\"]            \n",
      " They hold the following utilities: []            \n",
      " The player has 0 houses and 0 hotels             \n",
      " The player is currently not in jail.\n",
      "\n",
      "\n",
      "Player Vlad is currently as position 0 on the board, with $1500.             \n",
      " They hold the following properties: [].            \n",
      " They hold the following stations: []            \n",
      " They hold the following utilities: []            \n",
      " The player has 0 houses and 0 hotels             \n",
      " The player is currently not in jail.\n",
      "\n",
      "\n"
     ]
    }
   ],
   "source": [
    "for player in board.players:\n",
    "    print(player)\n",
    "    print('\\n')"
   ]
  },
  {
   "cell_type": "code",
   "execution_count": null,
   "metadata": {},
   "outputs": [],
   "source": [
    "board.take_turn(player2)"
   ]
  },
  {
   "cell_type": "code",
   "execution_count": null,
   "metadata": {},
   "outputs": [
    {
     "name": "stdout",
     "output_type": "stream",
     "text": [
      "Player Cat is currently as position 5 on the board, with $1300.             \n",
      " They hold the following properties: [].            \n",
      " They hold the following stations: [\"King's Cross Station\"]            \n",
      " They hold the following utilities: []            \n",
      " The player has 0 houses and 0 hotels             \n",
      " The player is currently not in jail.\n",
      "\n",
      "\n",
      "Player Vlad is currently as position 6 on the board, with $1400.             \n",
      " They hold the following properties: ['The Angel Islington'].            \n",
      " They hold the following stations: []            \n",
      " They hold the following utilities: []            \n",
      " The player has 0 houses and 0 hotels             \n",
      " The player is currently not in jail.\n",
      "\n",
      "\n"
     ]
    }
   ],
   "source": [
    "for player in board.players:\n",
    "    print(player)\n",
    "    print('\\n')"
   ]
  },
  {
   "cell_type": "code",
   "execution_count": null,
   "metadata": {},
   "outputs": [],
   "source": [
    "board.take_turn(player1)"
   ]
  },
  {
   "cell_type": "code",
   "execution_count": null,
   "metadata": {},
   "outputs": [
    {
     "name": "stdout",
     "output_type": "stream",
     "text": [
      "Player Cat is currently as position 16 on the board, with $1120.             \n",
      " They hold the following properties: ['Bow Street'].            \n",
      " They hold the following stations: [\"King's Cross Station\"]            \n",
      " They hold the following utilities: []            \n",
      " The player has 0 houses and 0 hotels             \n",
      " The player is currently not in jail.\n",
      "\n",
      "\n",
      "Player Vlad is currently as position 6 on the board, with $1400.             \n",
      " They hold the following properties: ['The Angel Islington'].            \n",
      " They hold the following stations: []            \n",
      " They hold the following utilities: []            \n",
      " The player has 0 houses and 0 hotels             \n",
      " The player is currently not in jail.\n",
      "\n",
      "\n"
     ]
    }
   ],
   "source": [
    "for player in board.players:\n",
    "    print(player)\n",
    "    print('\\n')"
   ]
  },
  {
   "cell_type": "code",
   "execution_count": null,
   "metadata": {},
   "outputs": [],
   "source": [
    "board.take_turn(player2)"
   ]
  },
  {
   "cell_type": "code",
   "execution_count": null,
   "metadata": {},
   "outputs": [
    {
     "name": "stdout",
     "output_type": "stream",
     "text": [
      "Player Cat is currently as position 16 on the board, with $1134.             \n",
      " They hold the following properties: ['Bow Street'].            \n",
      " They hold the following stations: [\"King's Cross Station\"]            \n",
      " They hold the following utilities: []            \n",
      " The player has 0 houses and 0 hotels             \n",
      " The player is currently not in jail.\n",
      "\n",
      "\n",
      "Player Vlad is currently as position 23 on the board, with $1166.             \n",
      " They hold the following properties: ['The Angel Islington', 'Fleet Street'].            \n",
      " They hold the following stations: []            \n",
      " They hold the following utilities: []            \n",
      " The player has 0 houses and 0 hotels             \n",
      " The player is currently not in jail.\n",
      "\n",
      "\n"
     ]
    }
   ],
   "source": [
    "for player in board.players:\n",
    "    print(player)\n",
    "    print('\\n')"
   ]
  },
  {
   "cell_type": "markdown",
   "metadata": {},
   "source": [
    "### Tests for buying houses/hotels"
   ]
  },
  {
   "cell_type": "code",
   "execution_count": null,
   "metadata": {},
   "outputs": [],
   "source": [
    "board = MonopolyBoard()\n",
    "player1 = Player('Cat')\n",
    "player2 = Player('Vlad')\n",
    "\n",
    "board.add_player(player1)\n",
    "board.add_player(player2)\n",
    "\n",
    "player1.money = 5000\n",
    "player2.money = 5000"
   ]
  },
  {
   "cell_type": "code",
   "execution_count": null,
   "metadata": {},
   "outputs": [
    {
     "name": "stdout",
     "output_type": "stream",
     "text": [
      "Player Cat is currently as position 8 on the board, with $4900.             \n",
      " They hold the following properties: ['Euston Road'].            \n",
      " They hold the following stations: []            \n",
      " They hold the following utilities: []            \n",
      " The player has 0 houses and 0 hotels             \n",
      " The player is currently not in jail.\n",
      "\n",
      "\n",
      "Player Vlad is currently as position 0 on the board, with $5000.             \n",
      " They hold the following properties: [].            \n",
      " They hold the following stations: []            \n",
      " They hold the following utilities: []            \n",
      " The player has 0 houses and 0 hotels             \n",
      " The player is currently not in jail.\n",
      "\n",
      "\n",
      "-----------------------------------------------------------------------------------\n",
      "Player Cat is currently as position 8 on the board, with $4906.             \n",
      " They hold the following properties: ['Euston Road'].            \n",
      " They hold the following stations: []            \n",
      " They hold the following utilities: []            \n",
      " The player has 0 houses and 0 hotels             \n",
      " The player is currently not in jail.\n",
      "\n",
      "\n",
      "Player Vlad is currently as position 8 on the board, with $4994.             \n",
      " They hold the following properties: [].            \n",
      " They hold the following stations: []            \n",
      " They hold the following utilities: []            \n",
      " The player has 0 houses and 0 hotels             \n",
      " The player is currently not in jail.\n",
      "\n",
      "\n",
      "-----------------------------------------------------------------------------------\n",
      "Player Cat is currently as position 13 on the board, with $4766.             \n",
      " They hold the following properties: ['Euston Road', 'Whitehall'].            \n",
      " They hold the following stations: []            \n",
      " They hold the following utilities: []            \n",
      " The player has 0 houses and 0 hotels             \n",
      " The player is currently not in jail.\n",
      "\n",
      "\n",
      "Player Vlad is currently as position 8 on the board, with $4994.             \n",
      " They hold the following properties: [].            \n",
      " They hold the following stations: []            \n",
      " They hold the following utilities: []            \n",
      " The player has 0 houses and 0 hotels             \n",
      " The player is currently not in jail.\n",
      "\n",
      "\n",
      "-----------------------------------------------------------------------------------\n",
      "Player Cat is currently as position 13 on the board, with $4766.             \n",
      " They hold the following properties: ['Euston Road', 'Whitehall'].            \n",
      " They hold the following stations: []            \n",
      " They hold the following utilities: []            \n",
      " The player has 0 houses and 0 hotels             \n",
      " The player is currently not in jail.\n",
      "\n",
      "\n",
      "Player Vlad is currently as position 15 on the board, with $4794.             \n",
      " They hold the following properties: [].            \n",
      " They hold the following stations: ['Marylebone Station']            \n",
      " They hold the following utilities: []            \n",
      " The player has 0 houses and 0 hotels             \n",
      " The player is currently not in jail.\n",
      "\n",
      "\n",
      "-----------------------------------------------------------------------------------\n",
      "Player Cat is currently as position 24 on the board, with $4526.             \n",
      " They hold the following properties: ['Euston Road', 'Whitehall', 'Trafalgar Square'].            \n",
      " They hold the following stations: []            \n",
      " They hold the following utilities: []            \n",
      " The player has 0 houses and 0 hotels             \n",
      " The player is currently not in jail.\n",
      "\n",
      "\n",
      "Player Vlad is currently as position 15 on the board, with $4794.             \n",
      " They hold the following properties: [].            \n",
      " They hold the following stations: ['Marylebone Station']            \n",
      " They hold the following utilities: []            \n",
      " The player has 0 houses and 0 hotels             \n",
      " The player is currently not in jail.\n",
      "\n",
      "\n",
      "-----------------------------------------------------------------------------------\n",
      "Player Cat is currently as position 24 on the board, with $4526.             \n",
      " They hold the following properties: ['Euston Road', 'Whitehall', 'Trafalgar Square'].            \n",
      " They hold the following stations: []            \n",
      " They hold the following utilities: []            \n",
      " The player has 0 houses and 0 hotels             \n",
      " The player is currently not in jail.\n",
      "\n",
      "\n",
      "Player Vlad is currently as position 20 on the board, with $4794.             \n",
      " They hold the following properties: [].            \n",
      " They hold the following stations: ['Marylebone Station']            \n",
      " They hold the following utilities: []            \n",
      " The player has 0 houses and 0 hotels             \n",
      " The player is currently not in jail.\n",
      "\n",
      "\n",
      "-----------------------------------------------------------------------------------\n",
      "Player Cat is currently as position 10 on the board, with $4326.             \n",
      " They hold the following properties: ['Euston Road', 'Whitehall', 'Trafalgar Square'].            \n",
      " They hold the following stations: []            \n",
      " They hold the following utilities: []            \n",
      " The player has 0 houses and 0 hotels             \n",
      " The player is currently in jail.\n",
      "\n",
      "\n",
      "Player Vlad is currently as position 20 on the board, with $4794.             \n",
      " They hold the following properties: [].            \n",
      " They hold the following stations: ['Marylebone Station']            \n",
      " They hold the following utilities: []            \n",
      " The player has 0 houses and 0 hotels             \n",
      " The player is currently not in jail.\n",
      "\n",
      "\n",
      "-----------------------------------------------------------------------------------\n",
      "Player Cat is currently as position 10 on the board, with $4326.             \n",
      " They hold the following properties: ['Euston Road', 'Whitehall', 'Trafalgar Square'].            \n",
      " They hold the following stations: []            \n",
      " They hold the following utilities: []            \n",
      " The player has 0 houses and 0 hotels             \n",
      " The player is currently in jail.\n",
      "\n",
      "\n",
      "Player Vlad is currently as position 29 on the board, with $4514.             \n",
      " They hold the following properties: ['Piccadilly'].            \n",
      " They hold the following stations: ['Marylebone Station']            \n",
      " They hold the following utilities: []            \n",
      " The player has 0 houses and 0 hotels             \n",
      " The player is currently not in jail.\n",
      "\n",
      "\n",
      "-----------------------------------------------------------------------------------\n",
      "Player Cat is currently as position 17 on the board, with $4226.             \n",
      " They hold the following properties: ['Euston Road', 'Whitehall', 'Trafalgar Square'].            \n",
      " They hold the following stations: []            \n",
      " They hold the following utilities: []            \n",
      " The player has 0 houses and 0 hotels             \n",
      " The player is currently not in jail.\n",
      "\n",
      "\n",
      "Player Vlad is currently as position 29 on the board, with $4514.             \n",
      " They hold the following properties: ['Piccadilly'].            \n",
      " They hold the following stations: ['Marylebone Station']            \n",
      " They hold the following utilities: []            \n",
      " The player has 0 houses and 0 hotels             \n",
      " The player is currently not in jail.\n",
      "\n",
      "\n",
      "-----------------------------------------------------------------------------------\n",
      "Player Cat is currently as position 17 on the board, with $4226.             \n",
      " They hold the following properties: ['Euston Road', 'Whitehall', 'Trafalgar Square'].            \n",
      " They hold the following stations: []            \n",
      " They hold the following utilities: []            \n",
      " The player has 0 houses and 0 hotels             \n",
      " The player is currently not in jail.\n",
      "\n",
      "\n",
      "Player Vlad is currently as position 38 on the board, with $4414.             \n",
      " They hold the following properties: ['Piccadilly'].            \n",
      " They hold the following stations: ['Marylebone Station']            \n",
      " They hold the following utilities: []            \n",
      " The player has 0 houses and 0 hotels             \n",
      " The player is currently not in jail.\n",
      "\n",
      "\n",
      "-----------------------------------------------------------------------------------\n",
      "Player Cat is currently as position 0 on the board, with $4426.             \n",
      " They hold the following properties: ['Euston Road', 'Whitehall', 'Trafalgar Square'].            \n",
      " They hold the following stations: []            \n",
      " They hold the following utilities: []            \n",
      " The player has 0 houses and 0 hotels             \n",
      " The player is currently not in jail.\n",
      "\n",
      "\n",
      "Player Vlad is currently as position 38 on the board, with $4414.             \n",
      " They hold the following properties: ['Piccadilly'].            \n",
      " They hold the following stations: ['Marylebone Station']            \n",
      " They hold the following utilities: []            \n",
      " The player has 0 houses and 0 hotels             \n",
      " The player is currently not in jail.\n",
      "\n",
      "\n",
      "-----------------------------------------------------------------------------------\n",
      "Player Cat is currently as position 0 on the board, with $4426.             \n",
      " They hold the following properties: ['Euston Road', 'Whitehall', 'Trafalgar Square'].            \n",
      " They hold the following stations: []            \n",
      " They hold the following utilities: []            \n",
      " The player has 0 houses and 0 hotels             \n",
      " The player is currently not in jail.\n",
      "\n",
      "\n",
      "Player Vlad is currently as position 23 on the board, with $4044.             \n",
      " They hold the following properties: ['Piccadilly', 'Fleet Street'].            \n",
      " They hold the following stations: ['Marylebone Station']            \n",
      " They hold the following utilities: ['Electric Company']            \n",
      " The player has 0 houses and 0 hotels             \n",
      " The player is currently not in jail.\n",
      "\n",
      "\n",
      "-----------------------------------------------------------------------------------\n",
      "Player Cat is currently as position 11 on the board, with $4286.             \n",
      " They hold the following properties: ['Euston Road', 'Whitehall', 'Trafalgar Square', 'Pall Mall'].            \n",
      " They hold the following stations: []            \n",
      " They hold the following utilities: []            \n",
      " The player has 0 houses and 0 hotels             \n",
      " The player is currently not in jail.\n",
      "\n",
      "\n",
      "Player Vlad is currently as position 23 on the board, with $4044.             \n",
      " They hold the following properties: ['Piccadilly', 'Fleet Street'].            \n",
      " They hold the following stations: ['Marylebone Station']            \n",
      " They hold the following utilities: ['Electric Company']            \n",
      " The player has 0 houses and 0 hotels             \n",
      " The player is currently not in jail.\n",
      "\n",
      "\n",
      "-----------------------------------------------------------------------------------\n",
      "Player Cat is currently as position 11 on the board, with $4286.             \n",
      " They hold the following properties: ['Euston Road', 'Whitehall', 'Trafalgar Square', 'Pall Mall'].            \n",
      " They hold the following stations: []            \n",
      " They hold the following utilities: []            \n",
      " The player has 0 houses and 0 hotels             \n",
      " The player is currently not in jail.\n",
      "\n",
      "\n",
      "Player Vlad is currently as position 10 on the board, with $3844.             \n",
      " They hold the following properties: ['Piccadilly', 'Fleet Street'].            \n",
      " They hold the following stations: ['Marylebone Station']            \n",
      " They hold the following utilities: ['Electric Company']            \n",
      " The player has 0 houses and 0 hotels             \n",
      " The player is currently in jail.\n",
      "\n",
      "\n",
      "-----------------------------------------------------------------------------------\n",
      "Player Cat is currently as position 17 on the board, with $4186.             \n",
      " They hold the following properties: ['Euston Road', 'Whitehall', 'Trafalgar Square', 'Pall Mall'].            \n",
      " They hold the following stations: []            \n",
      " They hold the following utilities: []            \n",
      " The player has 0 houses and 0 hotels             \n",
      " The player is currently not in jail.\n",
      "\n",
      "\n",
      "Player Vlad is currently as position 10 on the board, with $3844.             \n",
      " They hold the following properties: ['Piccadilly', 'Fleet Street'].            \n",
      " They hold the following stations: ['Marylebone Station']            \n",
      " They hold the following utilities: ['Electric Company']            \n",
      " The player has 0 houses and 0 hotels             \n",
      " The player is currently in jail.\n",
      "\n",
      "\n",
      "-----------------------------------------------------------------------------------\n",
      "Player Cat is currently as position 17 on the board, with $4186.             \n",
      " They hold the following properties: ['Euston Road', 'Whitehall', 'Trafalgar Square', 'Pall Mall'].            \n",
      " They hold the following stations: []            \n",
      " They hold the following utilities: []            \n",
      " The player has 0 houses and 0 hotels             \n",
      " The player is currently not in jail.\n",
      "\n",
      "\n",
      "Player Vlad is currently as position 17 on the board, with $3804.             \n",
      " They hold the following properties: ['Piccadilly', 'Fleet Street'].            \n",
      " They hold the following stations: ['Marylebone Station']            \n",
      " They hold the following utilities: ['Electric Company']            \n",
      " The player has 0 houses and 0 hotels             \n",
      " The player is currently not in jail.\n",
      "\n",
      "\n",
      "-----------------------------------------------------------------------------------\n",
      "Player Cat is currently as position 22 on the board, with $4136.             \n",
      " They hold the following properties: ['Euston Road', 'Whitehall', 'Trafalgar Square', 'Pall Mall'].            \n",
      " They hold the following stations: []            \n",
      " They hold the following utilities: []            \n",
      " The player has 0 houses and 0 hotels             \n",
      " The player is currently not in jail.\n",
      "\n",
      "\n",
      "Player Vlad is currently as position 17 on the board, with $3854.             \n",
      " They hold the following properties: ['Piccadilly', 'Fleet Street'].            \n",
      " They hold the following stations: ['Marylebone Station']            \n",
      " They hold the following utilities: ['Electric Company']            \n",
      " The player has 0 houses and 0 hotels             \n",
      " The player is currently not in jail.\n",
      "\n",
      "\n",
      "-----------------------------------------------------------------------------------\n",
      "Player Cat is currently as position 22 on the board, with $4156.             \n",
      " They hold the following properties: ['Euston Road', 'Whitehall', 'Trafalgar Square', 'Pall Mall'].            \n",
      " They hold the following stations: []            \n",
      " They hold the following utilities: []            \n",
      " The player has 0 houses and 0 hotels             \n",
      " The player is currently not in jail.\n",
      "\n",
      "\n",
      "Player Vlad is currently as position 24 on the board, with $3834.             \n",
      " They hold the following properties: ['Piccadilly', 'Fleet Street'].            \n",
      " They hold the following stations: ['Marylebone Station']            \n",
      " They hold the following utilities: ['Electric Company']            \n",
      " The player has 0 houses and 0 hotels             \n",
      " The player is currently not in jail.\n",
      "\n",
      "\n",
      "-----------------------------------------------------------------------------------\n",
      "Player Cat is currently as position 4 on the board, with $4156.             \n",
      " They hold the following properties: ['Euston Road', 'Whitehall', 'Trafalgar Square', 'Pall Mall'].            \n",
      " They hold the following stations: []            \n",
      " They hold the following utilities: []            \n",
      " The player has 0 houses and 0 hotels             \n",
      " The player is currently not in jail.\n",
      "\n",
      "\n",
      "Player Vlad is currently as position 24 on the board, with $3834.             \n",
      " They hold the following properties: ['Piccadilly', 'Fleet Street'].            \n",
      " They hold the following stations: ['Marylebone Station']            \n",
      " They hold the following utilities: ['Electric Company']            \n",
      " The player has 0 houses and 0 hotels             \n",
      " The player is currently not in jail.\n",
      "\n",
      "\n",
      "-----------------------------------------------------------------------------------\n",
      "Player Cat is currently as position 4 on the board, with $4156.             \n",
      " They hold the following properties: ['Euston Road', 'Whitehall', 'Trafalgar Square', 'Pall Mall'].            \n",
      " They hold the following stations: []            \n",
      " They hold the following utilities: []            \n",
      " The player has 0 houses and 0 hotels             \n",
      " The player is currently not in jail.\n",
      "\n",
      "\n",
      "Player Vlad is currently as position 10 on the board, with $3634.             \n",
      " They hold the following properties: ['Piccadilly', 'Fleet Street'].            \n",
      " They hold the following stations: ['Marylebone Station']            \n",
      " They hold the following utilities: ['Electric Company']            \n",
      " The player has 0 houses and 0 hotels             \n",
      " The player is currently in jail.\n",
      "\n",
      "\n",
      "-----------------------------------------------------------------------------------\n",
      "Player Cat is currently as position 11 on the board, with $4156.             \n",
      " They hold the following properties: ['Euston Road', 'Whitehall', 'Trafalgar Square', 'Pall Mall'].            \n",
      " They hold the following stations: []            \n",
      " They hold the following utilities: []            \n",
      " The player has 0 houses and 0 hotels             \n",
      " The player is currently not in jail.\n",
      "\n",
      "\n",
      "Player Vlad is currently as position 10 on the board, with $3634.             \n",
      " They hold the following properties: ['Piccadilly', 'Fleet Street'].            \n",
      " They hold the following stations: ['Marylebone Station']            \n",
      " They hold the following utilities: ['Electric Company']            \n",
      " The player has 0 houses and 0 hotels             \n",
      " The player is currently in jail.\n",
      "\n",
      "\n",
      "-----------------------------------------------------------------------------------\n",
      "Player Cat is currently as position 11 on the board, with $4156.             \n",
      " They hold the following properties: ['Euston Road', 'Whitehall', 'Trafalgar Square', 'Pall Mall'].            \n",
      " They hold the following stations: []            \n",
      " They hold the following utilities: []            \n",
      " The player has 0 houses and 0 hotels             \n",
      " The player is currently not in jail.\n",
      "\n",
      "\n",
      "Player Vlad is currently as position 16 on the board, with $3404.             \n",
      " They hold the following properties: ['Piccadilly', 'Fleet Street', 'Bow Street'].            \n",
      " They hold the following stations: ['Marylebone Station']            \n",
      " They hold the following utilities: ['Electric Company']            \n",
      " The player has 0 houses and 0 hotels             \n",
      " The player is currently not in jail.\n",
      "\n",
      "\n",
      "-----------------------------------------------------------------------------------\n",
      "Player Cat is currently as position 20 on the board, with $4156.             \n",
      " They hold the following properties: ['Euston Road', 'Whitehall', 'Trafalgar Square', 'Pall Mall'].            \n",
      " They hold the following stations: []            \n",
      " They hold the following utilities: []            \n",
      " The player has 0 houses and 0 hotels             \n",
      " The player is currently not in jail.\n",
      "\n",
      "\n",
      "Player Vlad is currently as position 16 on the board, with $3404.             \n",
      " They hold the following properties: ['Piccadilly', 'Fleet Street', 'Bow Street'].            \n",
      " They hold the following stations: ['Marylebone Station']            \n",
      " They hold the following utilities: ['Electric Company']            \n",
      " The player has 0 houses and 0 hotels             \n",
      " The player is currently not in jail.\n",
      "\n",
      "\n",
      "-----------------------------------------------------------------------------------\n",
      "Player Cat is currently as position 20 on the board, with $4156.             \n",
      " They hold the following properties: ['Euston Road', 'Whitehall', 'Trafalgar Square', 'Pall Mall'].            \n",
      " They hold the following stations: []            \n",
      " They hold the following utilities: []            \n",
      " The player has 0 houses and 0 hotels             \n",
      " The player is currently not in jail.\n",
      "\n",
      "\n",
      "Player Vlad is currently as position 27 on the board, with $3144.             \n",
      " They hold the following properties: ['Piccadilly', 'Fleet Street', 'Bow Street', 'Coventry Street'].            \n",
      " They hold the following stations: ['Marylebone Station']            \n",
      " They hold the following utilities: ['Electric Company']            \n",
      " The player has 0 houses and 0 hotels             \n",
      " The player is currently not in jail.\n",
      "\n",
      "\n",
      "-----------------------------------------------------------------------------------\n",
      "Player Cat is currently as position 29 on the board, with $4132.             \n",
      " They hold the following properties: ['Euston Road', 'Whitehall', 'Trafalgar Square', 'Pall Mall'].            \n",
      " They hold the following stations: []            \n",
      " They hold the following utilities: []            \n",
      " The player has 0 houses and 0 hotels             \n",
      " The player is currently not in jail.\n",
      "\n",
      "\n",
      "Player Vlad is currently as position 27 on the board, with $3168.             \n",
      " They hold the following properties: ['Piccadilly', 'Fleet Street', 'Bow Street', 'Coventry Street'].            \n",
      " They hold the following stations: ['Marylebone Station']            \n",
      " They hold the following utilities: ['Electric Company']            \n",
      " The player has 0 houses and 0 hotels             \n",
      " The player is currently not in jail.\n",
      "\n",
      "\n",
      "-----------------------------------------------------------------------------------\n",
      "Player Cat is currently as position 29 on the board, with $4132.             \n",
      " They hold the following properties: ['Euston Road', 'Whitehall', 'Trafalgar Square', 'Pall Mall'].            \n",
      " They hold the following stations: []            \n",
      " They hold the following utilities: []            \n",
      " The player has 0 houses and 0 hotels             \n",
      " The player is currently not in jail.\n",
      "\n",
      "\n",
      "Player Vlad is currently as position 33 on the board, with $3268.             \n",
      " They hold the following properties: ['Piccadilly', 'Fleet Street', 'Bow Street', 'Coventry Street'].            \n",
      " They hold the following stations: ['Marylebone Station']            \n",
      " They hold the following utilities: ['Electric Company']            \n",
      " The player has 0 houses and 0 hotels             \n",
      " The player is currently not in jail.\n",
      "\n",
      "\n",
      "-----------------------------------------------------------------------------------\n",
      "Player Cat is currently as position 32 on the board, with $4132.             \n",
      " They hold the following properties: ['Euston Road', 'Whitehall', 'Trafalgar Square', 'Pall Mall'].            \n",
      " They hold the following stations: []            \n",
      " They hold the following utilities: []            \n",
      " The player has 0 houses and 0 hotels             \n",
      " The player is currently not in jail.\n",
      "\n",
      "\n",
      "Player Vlad is currently as position 33 on the board, with $3268.             \n",
      " They hold the following properties: ['Piccadilly', 'Fleet Street', 'Bow Street', 'Coventry Street'].            \n",
      " They hold the following stations: ['Marylebone Station']            \n",
      " They hold the following utilities: ['Electric Company']            \n",
      " The player has 0 houses and 0 hotels             \n",
      " The player is currently not in jail.\n",
      "\n",
      "\n",
      "-----------------------------------------------------------------------------------\n",
      "Player Cat is currently as position 32 on the board, with $4132.             \n",
      " They hold the following properties: ['Euston Road', 'Whitehall', 'Trafalgar Square', 'Pall Mall'].            \n",
      " They hold the following stations: []            \n",
      " They hold the following utilities: []            \n",
      " The player has 0 houses and 0 hotels             \n",
      " The player is currently not in jail.\n",
      "\n",
      "\n",
      "Player Vlad is currently as position 0 on the board, with $3468.             \n",
      " They hold the following properties: ['Piccadilly', 'Fleet Street', 'Bow Street', 'Coventry Street'].            \n",
      " They hold the following stations: ['Marylebone Station']            \n",
      " They hold the following utilities: ['Electric Company']            \n",
      " The player has 0 houses and 0 hotels             \n",
      " The player is currently not in jail.\n",
      "\n",
      "\n",
      "-----------------------------------------------------------------------------------\n",
      "Player Cat is currently as position 37 on the board, with $4132.             \n",
      " They hold the following properties: ['Euston Road', 'Whitehall', 'Trafalgar Square', 'Pall Mall'].            \n",
      " They hold the following stations: []            \n",
      " They hold the following utilities: []            \n",
      " The player has 0 houses and 0 hotels             \n",
      " The player is currently not in jail.\n",
      "\n",
      "\n",
      "Player Vlad is currently as position 0 on the board, with $3468.             \n",
      " They hold the following properties: ['Piccadilly', 'Fleet Street', 'Bow Street', 'Coventry Street'].            \n",
      " They hold the following stations: ['Marylebone Station']            \n",
      " They hold the following utilities: ['Electric Company']            \n",
      " The player has 0 houses and 0 hotels             \n",
      " The player is currently not in jail.\n",
      "\n",
      "\n",
      "-----------------------------------------------------------------------------------\n",
      "Player Cat is currently as position 37 on the board, with $4132.             \n",
      " They hold the following properties: ['Euston Road', 'Whitehall', 'Trafalgar Square', 'Pall Mall'].            \n",
      " They hold the following stations: []            \n",
      " They hold the following utilities: []            \n",
      " The player has 0 houses and 0 hotels             \n",
      " The player is currently not in jail.\n",
      "\n",
      "\n",
      "Player Vlad is currently as position 7 on the board, with $3468.             \n",
      " They hold the following properties: ['Piccadilly', 'Fleet Street', 'Bow Street', 'Coventry Street'].            \n",
      " They hold the following stations: ['Marylebone Station']            \n",
      " They hold the following utilities: ['Electric Company']            \n",
      " The player has 0 houses and 0 hotels             \n",
      " The player is currently not in jail.\n",
      "\n",
      "\n",
      "-----------------------------------------------------------------------------------\n",
      "Player Cat is currently as position 4 on the board, with $4132.             \n",
      " They hold the following properties: ['Euston Road', 'Whitehall', 'Trafalgar Square', 'Pall Mall'].            \n",
      " They hold the following stations: []            \n",
      " They hold the following utilities: []            \n",
      " The player has 0 houses and 0 hotels             \n",
      " The player is currently not in jail.\n",
      "\n",
      "\n",
      "Player Vlad is currently as position 7 on the board, with $3468.             \n",
      " They hold the following properties: ['Piccadilly', 'Fleet Street', 'Bow Street', 'Coventry Street'].            \n",
      " They hold the following stations: ['Marylebone Station']            \n",
      " They hold the following utilities: ['Electric Company']            \n",
      " The player has 0 houses and 0 hotels             \n",
      " The player is currently not in jail.\n",
      "\n",
      "\n",
      "-----------------------------------------------------------------------------------\n",
      "Player Cat is currently as position 4 on the board, with $4132.             \n",
      " They hold the following properties: ['Euston Road', 'Whitehall', 'Trafalgar Square', 'Pall Mall'].            \n",
      " They hold the following stations: []            \n",
      " They hold the following utilities: []            \n",
      " The player has 0 houses and 0 hotels             \n",
      " The player is currently not in jail.\n",
      "\n",
      "\n",
      "Player Vlad is currently as position 14 on the board, with $3468.             \n",
      " They hold the following properties: ['Piccadilly', 'Fleet Street', 'Bow Street', 'Coventry Street'].            \n",
      " They hold the following stations: ['Marylebone Station']            \n",
      " They hold the following utilities: ['Electric Company']            \n",
      " The player has 0 houses and 0 hotels             \n",
      " The player is currently not in jail.\n",
      "\n",
      "\n",
      "-----------------------------------------------------------------------------------\n",
      "Player Cat is currently as position 8 on the board, with $4132.             \n",
      " They hold the following properties: ['Euston Road', 'Whitehall', 'Trafalgar Square', 'Pall Mall'].            \n",
      " They hold the following stations: []            \n",
      " They hold the following utilities: []            \n",
      " The player has 0 houses and 0 hotels             \n",
      " The player is currently not in jail.\n",
      "\n",
      "\n",
      "Player Vlad is currently as position 14 on the board, with $3468.             \n",
      " They hold the following properties: ['Piccadilly', 'Fleet Street', 'Bow Street', 'Coventry Street'].            \n",
      " They hold the following stations: ['Marylebone Station']            \n",
      " They hold the following utilities: ['Electric Company']            \n",
      " The player has 0 houses and 0 hotels             \n",
      " The player is currently not in jail.\n",
      "\n",
      "\n",
      "-----------------------------------------------------------------------------------\n",
      "Player Cat is currently as position 8 on the board, with $4132.             \n",
      " They hold the following properties: ['Euston Road', 'Whitehall', 'Trafalgar Square', 'Pall Mall'].            \n",
      " They hold the following stations: []            \n",
      " They hold the following utilities: []            \n",
      " The player has 0 houses and 0 hotels             \n",
      " The player is currently not in jail.\n",
      "\n",
      "\n",
      "Player Vlad is currently as position 19 on the board, with $3268.             \n",
      " They hold the following properties: ['Piccadilly', 'Fleet Street', 'Bow Street', 'Coventry Street', 'Vine Street'].            \n",
      " They hold the following stations: ['Marylebone Station']            \n",
      " They hold the following utilities: ['Electric Company']            \n",
      " The player has 0 houses and 0 hotels             \n",
      " The player is currently not in jail.\n",
      "\n",
      "\n",
      "-----------------------------------------------------------------------------------\n",
      "Player Cat is currently as position 19 on the board, with $4116.             \n",
      " They hold the following properties: ['Euston Road', 'Whitehall', 'Trafalgar Square', 'Pall Mall'].            \n",
      " They hold the following stations: []            \n",
      " They hold the following utilities: []            \n",
      " The player has 0 houses and 0 hotels             \n",
      " The player is currently not in jail.\n",
      "\n",
      "\n",
      "Player Vlad is currently as position 19 on the board, with $3284.             \n",
      " They hold the following properties: ['Piccadilly', 'Fleet Street', 'Bow Street', 'Coventry Street', 'Vine Street'].            \n",
      " They hold the following stations: ['Marylebone Station']            \n",
      " They hold the following utilities: ['Electric Company']            \n",
      " The player has 0 houses and 0 hotels             \n",
      " The player is currently not in jail.\n",
      "\n",
      "\n",
      "-----------------------------------------------------------------------------------\n",
      "Player Cat is currently as position 19 on the board, with $4116.             \n",
      " They hold the following properties: ['Euston Road', 'Whitehall', 'Trafalgar Square', 'Pall Mall'].            \n",
      " They hold the following stations: []            \n",
      " They hold the following utilities: []            \n",
      " The player has 0 houses and 0 hotels             \n",
      " The player is currently not in jail.\n",
      "\n",
      "\n",
      "Player Vlad is currently as position 23 on the board, with $3284.             \n",
      " They hold the following properties: ['Piccadilly', 'Fleet Street', 'Bow Street', 'Coventry Street', 'Vine Street'].            \n",
      " They hold the following stations: ['Marylebone Station']            \n",
      " They hold the following utilities: ['Electric Company']            \n",
      " The player has 0 houses and 0 hotels             \n",
      " The player is currently not in jail.\n",
      "\n",
      "\n",
      "-----------------------------------------------------------------------------------\n",
      "Player Cat is currently as position 27 on the board, with $4094.             \n",
      " They hold the following properties: ['Euston Road', 'Whitehall', 'Trafalgar Square', 'Pall Mall'].            \n",
      " They hold the following stations: []            \n",
      " They hold the following utilities: []            \n",
      " The player has 0 houses and 0 hotels             \n",
      " The player is currently not in jail.\n",
      "\n",
      "\n",
      "Player Vlad is currently as position 23 on the board, with $3306.             \n",
      " They hold the following properties: ['Piccadilly', 'Fleet Street', 'Bow Street', 'Coventry Street', 'Vine Street'].            \n",
      " They hold the following stations: ['Marylebone Station']            \n",
      " They hold the following utilities: ['Electric Company']            \n",
      " The player has 0 houses and 0 hotels             \n",
      " The player is currently not in jail.\n",
      "\n",
      "\n",
      "-----------------------------------------------------------------------------------\n",
      "Player Cat is currently as position 27 on the board, with $4094.             \n",
      " They hold the following properties: ['Euston Road', 'Whitehall', 'Trafalgar Square', 'Pall Mall'].            \n",
      " They hold the following stations: []            \n",
      " They hold the following utilities: []            \n",
      " The player has 0 houses and 0 hotels             \n",
      " The player is currently not in jail.\n",
      "\n",
      "\n",
      "Player Vlad is currently as position 10 on the board, with $3106.             \n",
      " They hold the following properties: ['Piccadilly', 'Fleet Street', 'Bow Street', 'Coventry Street', 'Vine Street'].            \n",
      " They hold the following stations: ['Marylebone Station']            \n",
      " They hold the following utilities: ['Electric Company']            \n",
      " The player has 0 houses and 0 hotels             \n",
      " The player is currently in jail.\n",
      "\n",
      "\n",
      "-----------------------------------------------------------------------------------\n",
      "Player Cat is currently as position 39 on the board, with $4070.             \n",
      " They hold the following properties: ['Euston Road', 'Whitehall', 'Trafalgar Square', 'Pall Mall'].            \n",
      " They hold the following stations: []            \n",
      " They hold the following utilities: []            \n",
      " The player has 0 houses and 0 hotels             \n",
      " The player is currently not in jail.\n",
      "\n",
      "\n",
      "Player Vlad is currently as position 10 on the board, with $3130.             \n",
      " They hold the following properties: ['Piccadilly', 'Fleet Street', 'Bow Street', 'Coventry Street', 'Vine Street'].            \n",
      " They hold the following stations: ['Marylebone Station']            \n",
      " They hold the following utilities: ['Electric Company']            \n",
      " The player has 0 houses and 0 hotels             \n",
      " The player is currently in jail.\n",
      "\n",
      "\n",
      "-----------------------------------------------------------------------------------\n",
      "Player Cat is currently as position 39 on the board, with $4070.             \n",
      " They hold the following properties: ['Euston Road', 'Whitehall', 'Trafalgar Square', 'Pall Mall'].            \n",
      " They hold the following stations: []            \n",
      " They hold the following utilities: []            \n",
      " The player has 0 houses and 0 hotels             \n",
      " The player is currently not in jail.\n",
      "\n",
      "\n",
      "Player Vlad is currently as position 20 on the board, with $3130.             \n",
      " They hold the following properties: ['Piccadilly', 'Fleet Street', 'Bow Street', 'Coventry Street', 'Vine Street'].            \n",
      " They hold the following stations: ['Marylebone Station']            \n",
      " They hold the following utilities: ['Electric Company']            \n",
      " The player has 0 houses and 0 hotels             \n",
      " The player is currently not in jail.\n",
      "\n",
      "\n",
      "-----------------------------------------------------------------------------------\n"
     ]
    }
   ],
   "source": [
    "i = 0\n",
    "while player1.bankrupt == False and player2.bankrupt == False and i < 20:\n",
    "    i += 1\n",
    "    for player in board.players:\n",
    "        board.take_turn(player)\n",
    "\n",
    "        for player in board.players:\n",
    "            print(player)\n",
    "            print('\\n')\n",
    "\n",
    "        print('-----------------------------------------------------------------------------------')"
   ]
  },
  {
   "cell_type": "code",
   "execution_count": null,
   "metadata": {},
   "outputs": [
    {
     "data": {
      "text/plain": [
       "Player Cat is currently as position 39 on the board, with $4070.             \n",
       " They hold the following properties: ['Euston Road', 'Whitehall', 'Trafalgar Square', 'Pall Mall'].            \n",
       " They hold the following stations: []            \n",
       " They hold the following utilities: []            \n",
       " The player has 0 houses and 0 hotels             \n",
       " The player is currently not in jail."
      ]
     },
     "execution_count": 27,
     "metadata": {},
     "output_type": "execute_result"
    }
   ],
   "source": [
    "player1"
   ]
  },
  {
   "cell_type": "code",
   "execution_count": null,
   "metadata": {},
   "outputs": [
    {
     "data": {
      "text/plain": [
       "Player Vlad is currently as position 20 on the board, with $3130.             \n",
       " They hold the following properties: ['Piccadilly', 'Fleet Street', 'Bow Street', 'Coventry Street', 'Vine Street'].            \n",
       " They hold the following stations: ['Marylebone Station']            \n",
       " They hold the following utilities: ['Electric Company']            \n",
       " The player has 0 houses and 0 hotels             \n",
       " The player is currently not in jail."
      ]
     },
     "execution_count": 28,
     "metadata": {},
     "output_type": "execute_result"
    }
   ],
   "source": [
    "player2"
   ]
  },
  {
   "cell_type": "code",
   "execution_count": null,
   "metadata": {},
   "outputs": [],
   "source": [
    "board = MonopolyBoard()\n",
    "player1 = Player('Cat')\n",
    "player2 = Player('Vlad')\n",
    "\n",
    "board.add_player(player1)\n",
    "board.add_player(player2)"
   ]
  },
  {
   "cell_type": "code",
   "execution_count": null,
   "metadata": {},
   "outputs": [],
   "source": [
    "i = 0\n",
    "while player1.bankrupt == False and player2.bankrupt == False and i < 25:\n",
    "    i += 1\n",
    "    for player in board.players:\n",
    "        board.take_turn(player)"
   ]
  },
  {
   "cell_type": "code",
   "execution_count": null,
   "metadata": {},
   "outputs": [
    {
     "data": {
      "text/plain": [
       "Player Cat is currently as position 27 on the board, with $17.0.             \n",
       " They hold the following properties: ['Euston Road', 'Bow Street', 'Regent Street', 'Vine Street', 'Pentonville Road', 'The Angel Islington'].            \n",
       " They hold the following stations: ['Fenchurch St. Station']            \n",
       " They hold the following utilities: ['Electric Company']            \n",
       " The player has 4 houses and 0 hotels             \n",
       " The player is currently not in jail."
      ]
     },
     "execution_count": 31,
     "metadata": {},
     "output_type": "execute_result"
    }
   ],
   "source": [
    "player1"
   ]
  },
  {
   "cell_type": "code",
   "execution_count": null,
   "metadata": {},
   "outputs": [
    {
     "data": {
      "text/plain": [
       "Player Vlad is currently as position 24 on the board, with $322.0.             \n",
       " They hold the following properties: ['The Strand', 'Piccadilly', 'Bond Street', 'Leicester Square', 'Oxford Street', 'Trafalgar Square'].            \n",
       " They hold the following stations: [\"King's Cross Station\"]            \n",
       " They hold the following utilities: ['Water Works']            \n",
       " The player has 0 houses and 0 hotels             \n",
       " The player is currently not in jail."
      ]
     },
     "execution_count": 32,
     "metadata": {},
     "output_type": "execute_result"
    }
   ],
   "source": [
    "player2"
   ]
  },
  {
   "cell_type": "markdown",
   "metadata": {},
   "source": [
    "### Running with lots of money until bankrupcy"
   ]
  },
  {
   "cell_type": "code",
   "execution_count": null,
   "metadata": {},
   "outputs": [],
   "source": [
    "board = MonopolyBoard()\n",
    "player1 = Player('Cat')\n",
    "player2 = Player('Vlad')\n",
    "\n",
    "board.add_player(player1)\n",
    "board.add_player(player2)\n",
    "\n",
    "player1.money = 100000\n",
    "player2.money = 100000"
   ]
  },
  {
   "cell_type": "code",
   "execution_count": null,
   "metadata": {},
   "outputs": [
    {
     "name": "stdout",
     "output_type": "stream",
     "text": [
      "The game lasted 1095 rounds.\n"
     ]
    }
   ],
   "source": [
    "i = 0\n",
    "while player1.bankrupt == False and player2.bankrupt == False:\n",
    "    i += 1\n",
    "    for player in board.players:\n",
    "        board.take_turn(player)\n",
    "\n",
    "print(f'The game lasted {i} rounds.')"
   ]
  },
  {
   "cell_type": "code",
   "execution_count": null,
   "metadata": {},
   "outputs": [
    {
     "data": {
      "text/plain": [
       "Player Cat is currently as position 15 on the board, with $224542.             \n",
       " They hold the following properties: ['Bow Street', 'Oxford Street', 'Mayfair', 'Bond Street', 'Park Lane', 'Regent Street'].            \n",
       " They hold the following stations: ['Fenchurch St. Station', 'Marylebone Station']            \n",
       " They hold the following utilities: ['Water Works']            \n",
       " The player has 20 houses and 5 hotels             \n",
       " The player is currently not in jail."
      ]
     },
     "execution_count": 35,
     "metadata": {},
     "output_type": "execute_result"
    }
   ],
   "source": [
    "player1"
   ]
  },
  {
   "cell_type": "code",
   "execution_count": null,
   "metadata": {},
   "outputs": [
    {
     "data": {
      "text/plain": [
       "Player Vlad is currently as position 37 on the board, with $28.0.             \n",
       " They hold the following properties: ['Whitechapel Road', 'Whitehall', 'Vine Street', 'Northumberland Avenue', 'Pall Mall', 'Marlborough Street', 'Old Kent Road'].            \n",
       " They hold the following stations: [\"King's Cross Station\", 'Liverpool St. Station']            \n",
       " They hold the following utilities: ['Electric Company']            \n",
       " The player has 0 houses and 0 hotels             \n",
       " The player is currently not in jail."
      ]
     },
     "execution_count": 36,
     "metadata": {},
     "output_type": "execute_result"
    }
   ],
   "source": [
    "player2"
   ]
  },
  {
   "cell_type": "markdown",
   "metadata": {},
   "source": [
    "### >2 players"
   ]
  },
  {
   "cell_type": "code",
   "execution_count": null,
   "metadata": {},
   "outputs": [],
   "source": [
    "board = MonopolyBoard()\n",
    "player1 = Player('Cat')\n",
    "player2 = Player('Vlad')\n",
    "player3 = Player('Emma')\n",
    "\n",
    "board.add_player(player1)\n",
    "board.add_player(player2)\n",
    "board.add_player(player3)"
   ]
  },
  {
   "cell_type": "code",
   "execution_count": null,
   "metadata": {},
   "outputs": [
    {
     "name": "stdout",
     "output_type": "stream",
     "text": [
      "The game lasted 53 rounds.\n"
     ]
    }
   ],
   "source": [
    "i = 0\n",
    "while player1.bankrupt == False and player2.bankrupt == False and player3.bankrupt == False:\n",
    "    i += 1\n",
    "    for player in board.players:\n",
    "        board.take_turn(player)\n",
    "\n",
    "print(f'The game lasted {i} rounds.')"
   ]
  },
  {
   "cell_type": "code",
   "execution_count": null,
   "metadata": {},
   "outputs": [
    {
     "data": {
      "text/plain": [
       "(Player Cat is currently as position 8 on the board, with $304.0.             \n",
       "  They hold the following properties: ['Pall Mall', 'The Strand', 'Bond Street', 'Northumberland Avenue', 'Oxford Street', 'Whitehall'].            \n",
       "  They hold the following stations: ['Liverpool St. Station']            \n",
       "  They hold the following utilities: ['Water Works']            \n",
       "  The player has 12 houses and 3 hotels             \n",
       "  The player is currently not in jail.,\n",
       " Player Vlad is currently as position 13 on the board, with $179.5.             \n",
       "  They hold the following properties: ['Vine Street', 'Leicester Square', 'Piccadilly', 'Marlborough Street', 'Coventry Street'].            \n",
       "  They hold the following stations: [\"King's Cross Station\"]            \n",
       "  They hold the following utilities: []            \n",
       "  The player has 0 houses and 0 hotels             \n",
       "  The player is currently not in jail.,\n",
       " Player Emma is currently as position 0 on the board, with $211.0.             \n",
       "  They hold the following properties: ['Pentonville Road', 'Trafalgar Square', 'Regent Street', 'The Angel Islington', 'Euston Road', 'Fleet Street'].            \n",
       "  They hold the following stations: ['Marylebone Station', 'Fenchurch St. Station']            \n",
       "  They hold the following utilities: ['Electric Company']            \n",
       "  The player has 0 houses and 0 hotels             \n",
       "  The player is currently not in jail.)"
      ]
     },
     "execution_count": 39,
     "metadata": {},
     "output_type": "execute_result"
    }
   ],
   "source": [
    "player1, player2, player3"
   ]
  },
  {
   "cell_type": "code",
   "execution_count": null,
   "metadata": {},
   "outputs": [],
   "source": [
    "board = MonopolyBoard()\n",
    "player1 = Player('Cat')\n",
    "player2 = Player('Vlad')\n",
    "player3 = Player('Emma')\n",
    "player4 = Player('Cheryl')\n",
    "player5 = Player('Tony')\n",
    "player6 = Player('George')\n",
    "\n",
    "board.add_player(player1)\n",
    "board.add_player(player2)\n",
    "board.add_player(player3)\n",
    "board.add_player(player4)\n",
    "board.add_player(player5)\n",
    "board.add_player(player6)"
   ]
  },
  {
   "cell_type": "code",
   "execution_count": null,
   "metadata": {},
   "outputs": [
    {
     "name": "stdout",
     "output_type": "stream",
     "text": [
      "The game lasted 47 rounds.\n"
     ]
    }
   ],
   "source": [
    "i = 0\n",
    "while player1.bankrupt == False and player2.bankrupt == False and player3.bankrupt == False and player4.bankrupt == False and player5.bankrupt == False and player6.bankrupt == False and i < 1000:\n",
    "    i += 1\n",
    "    for player in board.players:\n",
    "        board.take_turn(player)\n",
    "\n",
    "print(f'The game lasted {i} rounds.')"
   ]
  },
  {
   "cell_type": "code",
   "execution_count": null,
   "metadata": {},
   "outputs": [
    {
     "name": "stdout",
     "output_type": "stream",
     "text": [
      "Old Kent Road 4\n",
      "Whitechapel Road 4\n",
      "The Angel Islington 0\n",
      "Euston Road 0\n",
      "Pentonville Road 0\n",
      "Pall Mall 0\n",
      "Whitehall 0\n",
      "Northumberland Avenue 0\n",
      "Bow Street 0\n",
      "Marlborough Street 0\n",
      "Vine Street 0\n",
      "The Strand 0\n",
      "Fleet Street 0\n",
      "Trafalgar Square 0\n",
      "Leicester Square 0\n",
      "Coventry Street 0\n",
      "Piccadilly 0\n",
      "Regent Street 0\n",
      "Oxford Street 0\n",
      "Bond Street 0\n",
      "Park Lane 0\n",
      "Mayfair 0\n"
     ]
    }
   ],
   "source": [
    "for property in board.properties:\n",
    "    print(property.name, property.num_houses)"
   ]
  },
  {
   "cell_type": "code",
   "execution_count": null,
   "metadata": {},
   "outputs": [
    {
     "data": {
      "text/plain": [
       "[Player Cat is currently as position 0 on the board, with $1496.             \n",
       "  They hold the following properties: ['Pentonville Road', 'Fleet Street', 'Pall Mall'].            \n",
       "  They hold the following stations: []            \n",
       "  They hold the following utilities: ['Electric Company']            \n",
       "  The player has 0 houses and 0 hotels             \n",
       "  The player is currently not in jail.,\n",
       " Player Vlad is currently as position 37 on the board, with $644.05.             \n",
       "  They hold the following properties: ['Whitehall', 'Marlborough Street', 'Bond Street'].            \n",
       "  They hold the following stations: [\"King's Cross Station\"]            \n",
       "  They hold the following utilities: []            \n",
       "  The player has 0 houses and 0 hotels             \n",
       "  The player is currently not in jail.,\n",
       " Player Emma is currently as position 10 on the board, with $1692.             \n",
       "  They hold the following properties: ['Vine Street', 'Park Lane', 'Bow Street'].            \n",
       "  They hold the following stations: ['Marylebone Station', 'Liverpool St. Station']            \n",
       "  They hold the following utilities: []            \n",
       "  The player has 0 houses and 0 hotels             \n",
       "  The player is currently in jail.,\n",
       " Player Cheryl is currently as position 8 on the board, with $4162.             \n",
       "  They hold the following properties: ['Whitechapel Road', 'The Angel Islington', 'Leicester Square', 'Old Kent Road'].            \n",
       "  They hold the following stations: []            \n",
       "  They hold the following utilities: []            \n",
       "  The player has 8 houses and 2 hotels             \n",
       "  The player is currently not in jail.,\n",
       " Player Tony is currently as position 3 on the board, with $436.70000000000005.             \n",
       "  They hold the following properties: ['Euston Road', 'Northumberland Avenue', 'The Strand', 'Trafalgar Square'].            \n",
       "  They hold the following stations: []            \n",
       "  They hold the following utilities: []            \n",
       "  The player has 0 houses and 0 hotels             \n",
       "  The player is currently not in jail.,\n",
       " Player George is currently as position 10 on the board, with $1338.             \n",
       "  They hold the following properties: ['Regent Street', 'Coventry Street', 'Oxford Street', 'Piccadilly'].            \n",
       "  They hold the following stations: ['Fenchurch St. Station']            \n",
       "  They hold the following utilities: ['Water Works']            \n",
       "  The player has 0 houses and 0 hotels             \n",
       "  The player is currently in jail.]"
      ]
     },
     "execution_count": 43,
     "metadata": {},
     "output_type": "execute_result"
    }
   ],
   "source": [
    "board.players"
   ]
  },
  {
   "cell_type": "markdown",
   "metadata": {},
   "source": [
    "### Tracking 'player wealth'"
   ]
  },
  {
   "cell_type": "code",
   "execution_count": null,
   "metadata": {},
   "outputs": [],
   "source": [
    "board = MonopolyBoard()\n",
    "player1 = Player('Cat')\n",
    "player2 = Player('Vlad')\n",
    "\n",
    "board.add_player(player1)\n",
    "board.add_player(player2)\n",
    "\n",
    "player1_wealth = []\n",
    "player2_wealth = []"
   ]
  },
  {
   "cell_type": "code",
   "execution_count": null,
   "metadata": {},
   "outputs": [
    {
     "name": "stdout",
     "output_type": "stream",
     "text": [
      "The game lasted 104 rounds.\n"
     ]
    },
    {
     "data": {
      "application/vnd.plotly.v1+json": {
       "config": {
        "plotlyServerURL": "https://plot.ly"
       },
       "data": [
        {
         "hovertemplate": "variable=Player 1 wealth<br>Time Step=%{x}<br>value=%{y}<extra></extra>",
         "legendgroup": "Player 1 wealth",
         "line": {
          "color": "#636efa",
          "dash": "solid"
         },
         "marker": {
          "symbol": "circle"
         },
         "mode": "lines",
         "name": "Player 1 wealth",
         "orientation": "v",
         "showlegend": true,
         "type": "scatter",
         "x": [
          0,
          1,
          2,
          3,
          4,
          5,
          6,
          7,
          8,
          9,
          10,
          11,
          12,
          13,
          14,
          15,
          16,
          17,
          18,
          19,
          20,
          21,
          22,
          23,
          24,
          25,
          26,
          27,
          28,
          29,
          30,
          31,
          32,
          33,
          34,
          35,
          36,
          37,
          38,
          39,
          40,
          41,
          42,
          43,
          44,
          45,
          46,
          47,
          48,
          49,
          50,
          51,
          52,
          53,
          54,
          55,
          56,
          57,
          58,
          59,
          60,
          61,
          62,
          63,
          64,
          65,
          66,
          67,
          68,
          69,
          70,
          71,
          72,
          73,
          74,
          75,
          76,
          77,
          78,
          79,
          80,
          81,
          82,
          83,
          84,
          85,
          86,
          87,
          88,
          89,
          90,
          91,
          92,
          93,
          94,
          95,
          96,
          97,
          98,
          99,
          100,
          101,
          102,
          103
         ],
         "xaxis": "x",
         "y": [
          1500,
          1500,
          1500,
          1720,
          1720,
          1720,
          1820,
          2020,
          1995,
          1995,
          1995,
          2069,
          2069,
          2269,
          2289,
          2289,
          2295,
          2260,
          2460,
          2482,
          2432,
          2537,
          2537,
          2587,
          2587,
          2787,
          2787,
          2887,
          2877,
          3067,
          3067,
          3073,
          3373,
          3373,
          3473,
          3429,
          3304,
          3304,
          3404,
          3229,
          3449,
          3524,
          3049,
          2884,
          2884,
          3134,
          3084,
          2909,
          2709,
          2434,
          2249,
          2249,
          2249,
          2289,
          2489,
          1989,
          1989,
          1979,
          1979,
          1939,
          1739,
          1689,
          1589,
          1589,
          1489,
          1679,
          1629,
          1804,
          1629,
          1629,
          1789,
          1790.1,
          1780.1,
          1780.1,
          1780.1,
          1780.1,
          1780.1,
          1980.1,
          1970.1,
          2145.1,
          2145.1,
          2145.1,
          2245.1,
          2445.1,
          2325.1,
          2275.1,
          2315.1,
          2315.1,
          2315.1,
          2515.1,
          2515.1,
          2515.1,
          2515.1,
          2707.1,
          2683.1,
          2683.1,
          1733.1,
          1925.1,
          1835.1,
          1835.1,
          1760.1,
          1670.1,
          1520.1,
          1548.0900000000001
         ],
         "yaxis": "y"
        },
        {
         "hovertemplate": "variable=Player 2 wealth<br>Time Step=%{x}<br>value=%{y}<extra></extra>",
         "legendgroup": "Player 2 wealth",
         "line": {
          "color": "#EF553B",
          "dash": "solid"
         },
         "marker": {
          "symbol": "circle"
         },
         "mode": "lines",
         "name": "Player 2 wealth",
         "orientation": "v",
         "showlegend": true,
         "type": "scatter",
         "x": [
          0,
          1,
          2,
          3,
          4,
          5,
          6,
          7,
          8,
          9,
          10,
          11,
          12,
          13,
          14,
          15,
          16,
          17,
          18,
          19,
          20,
          21,
          22,
          23,
          24,
          25,
          26,
          27,
          28,
          29,
          30,
          31,
          32,
          33,
          34,
          35,
          36,
          37,
          38,
          39,
          40,
          41,
          42,
          43,
          44,
          45,
          46,
          47,
          48,
          49,
          50,
          51,
          52,
          53,
          54,
          55,
          56,
          57,
          58,
          59,
          60,
          61,
          62,
          63,
          64,
          65,
          66,
          67,
          68,
          69,
          70,
          71,
          72,
          73,
          74,
          75,
          76,
          77,
          78,
          79,
          80,
          81,
          82,
          83,
          84,
          85,
          86,
          87,
          88,
          89,
          90,
          91,
          92,
          93,
          94,
          95,
          96,
          97,
          98,
          99,
          100,
          101,
          102,
          103
         ],
         "xaxis": "x",
         "y": [
          1500,
          1500,
          1676,
          1880,
          1880,
          1880,
          1880,
          2080,
          2105,
          2105,
          2081,
          2281,
          2281,
          2261,
          2261,
          2455,
          2455,
          2490,
          2468,
          2468,
          2668,
          2763,
          2713,
          2713,
          2713,
          2913,
          2913,
          2813,
          2923,
          2833,
          3027,
          2927,
          2937,
          3037,
          3031,
          3031,
          3031,
          2931,
          3131,
          2881,
          2801,
          3036,
          3036,
          3036,
          2986,
          3211,
          3211,
          3211,
          3111,
          3071,
          2871,
          2821,
          2781,
          2781,
          2781,
          2506,
          2316,
          2326,
          2253,
          2253,
          2473,
          2473,
          2573,
          2573,
          2573,
          2783,
          2783,
          2608,
          2383,
          2383,
          2193,
          2118,
          2328,
          2328,
          2328,
          2328,
          2328,
          2103,
          2313,
          2238,
          2438,
          2438,
          2438,
          2438,
          2558,
          2358,
          2558,
          2558,
          2558,
          2558,
          2558,
          2558,
          2958,
          3066,
          2890,
          2890,
          2640,
          2648,
          2538,
          2188,
          2188,
          2188,
          2188,
          2188
         ],
         "yaxis": "y"
        }
       ],
       "layout": {
        "legend": {
         "title": {
          "text": "variable"
         },
         "tracegroupgap": 0
        },
        "template": {
         "data": {
          "bar": [
           {
            "error_x": {
             "color": "#2a3f5f"
            },
            "error_y": {
             "color": "#2a3f5f"
            },
            "marker": {
             "line": {
              "color": "#E5ECF6",
              "width": 0.5
             },
             "pattern": {
              "fillmode": "overlay",
              "size": 10,
              "solidity": 0.2
             }
            },
            "type": "bar"
           }
          ],
          "barpolar": [
           {
            "marker": {
             "line": {
              "color": "#E5ECF6",
              "width": 0.5
             },
             "pattern": {
              "fillmode": "overlay",
              "size": 10,
              "solidity": 0.2
             }
            },
            "type": "barpolar"
           }
          ],
          "carpet": [
           {
            "aaxis": {
             "endlinecolor": "#2a3f5f",
             "gridcolor": "white",
             "linecolor": "white",
             "minorgridcolor": "white",
             "startlinecolor": "#2a3f5f"
            },
            "baxis": {
             "endlinecolor": "#2a3f5f",
             "gridcolor": "white",
             "linecolor": "white",
             "minorgridcolor": "white",
             "startlinecolor": "#2a3f5f"
            },
            "type": "carpet"
           }
          ],
          "choropleth": [
           {
            "colorbar": {
             "outlinewidth": 0,
             "ticks": ""
            },
            "type": "choropleth"
           }
          ],
          "contour": [
           {
            "colorbar": {
             "outlinewidth": 0,
             "ticks": ""
            },
            "colorscale": [
             [
              0,
              "#0d0887"
             ],
             [
              0.1111111111111111,
              "#46039f"
             ],
             [
              0.2222222222222222,
              "#7201a8"
             ],
             [
              0.3333333333333333,
              "#9c179e"
             ],
             [
              0.4444444444444444,
              "#bd3786"
             ],
             [
              0.5555555555555556,
              "#d8576b"
             ],
             [
              0.6666666666666666,
              "#ed7953"
             ],
             [
              0.7777777777777778,
              "#fb9f3a"
             ],
             [
              0.8888888888888888,
              "#fdca26"
             ],
             [
              1,
              "#f0f921"
             ]
            ],
            "type": "contour"
           }
          ],
          "contourcarpet": [
           {
            "colorbar": {
             "outlinewidth": 0,
             "ticks": ""
            },
            "type": "contourcarpet"
           }
          ],
          "heatmap": [
           {
            "colorbar": {
             "outlinewidth": 0,
             "ticks": ""
            },
            "colorscale": [
             [
              0,
              "#0d0887"
             ],
             [
              0.1111111111111111,
              "#46039f"
             ],
             [
              0.2222222222222222,
              "#7201a8"
             ],
             [
              0.3333333333333333,
              "#9c179e"
             ],
             [
              0.4444444444444444,
              "#bd3786"
             ],
             [
              0.5555555555555556,
              "#d8576b"
             ],
             [
              0.6666666666666666,
              "#ed7953"
             ],
             [
              0.7777777777777778,
              "#fb9f3a"
             ],
             [
              0.8888888888888888,
              "#fdca26"
             ],
             [
              1,
              "#f0f921"
             ]
            ],
            "type": "heatmap"
           }
          ],
          "heatmapgl": [
           {
            "colorbar": {
             "outlinewidth": 0,
             "ticks": ""
            },
            "colorscale": [
             [
              0,
              "#0d0887"
             ],
             [
              0.1111111111111111,
              "#46039f"
             ],
             [
              0.2222222222222222,
              "#7201a8"
             ],
             [
              0.3333333333333333,
              "#9c179e"
             ],
             [
              0.4444444444444444,
              "#bd3786"
             ],
             [
              0.5555555555555556,
              "#d8576b"
             ],
             [
              0.6666666666666666,
              "#ed7953"
             ],
             [
              0.7777777777777778,
              "#fb9f3a"
             ],
             [
              0.8888888888888888,
              "#fdca26"
             ],
             [
              1,
              "#f0f921"
             ]
            ],
            "type": "heatmapgl"
           }
          ],
          "histogram": [
           {
            "marker": {
             "pattern": {
              "fillmode": "overlay",
              "size": 10,
              "solidity": 0.2
             }
            },
            "type": "histogram"
           }
          ],
          "histogram2d": [
           {
            "colorbar": {
             "outlinewidth": 0,
             "ticks": ""
            },
            "colorscale": [
             [
              0,
              "#0d0887"
             ],
             [
              0.1111111111111111,
              "#46039f"
             ],
             [
              0.2222222222222222,
              "#7201a8"
             ],
             [
              0.3333333333333333,
              "#9c179e"
             ],
             [
              0.4444444444444444,
              "#bd3786"
             ],
             [
              0.5555555555555556,
              "#d8576b"
             ],
             [
              0.6666666666666666,
              "#ed7953"
             ],
             [
              0.7777777777777778,
              "#fb9f3a"
             ],
             [
              0.8888888888888888,
              "#fdca26"
             ],
             [
              1,
              "#f0f921"
             ]
            ],
            "type": "histogram2d"
           }
          ],
          "histogram2dcontour": [
           {
            "colorbar": {
             "outlinewidth": 0,
             "ticks": ""
            },
            "colorscale": [
             [
              0,
              "#0d0887"
             ],
             [
              0.1111111111111111,
              "#46039f"
             ],
             [
              0.2222222222222222,
              "#7201a8"
             ],
             [
              0.3333333333333333,
              "#9c179e"
             ],
             [
              0.4444444444444444,
              "#bd3786"
             ],
             [
              0.5555555555555556,
              "#d8576b"
             ],
             [
              0.6666666666666666,
              "#ed7953"
             ],
             [
              0.7777777777777778,
              "#fb9f3a"
             ],
             [
              0.8888888888888888,
              "#fdca26"
             ],
             [
              1,
              "#f0f921"
             ]
            ],
            "type": "histogram2dcontour"
           }
          ],
          "mesh3d": [
           {
            "colorbar": {
             "outlinewidth": 0,
             "ticks": ""
            },
            "type": "mesh3d"
           }
          ],
          "parcoords": [
           {
            "line": {
             "colorbar": {
              "outlinewidth": 0,
              "ticks": ""
             }
            },
            "type": "parcoords"
           }
          ],
          "pie": [
           {
            "automargin": true,
            "type": "pie"
           }
          ],
          "scatter": [
           {
            "fillpattern": {
             "fillmode": "overlay",
             "size": 10,
             "solidity": 0.2
            },
            "type": "scatter"
           }
          ],
          "scatter3d": [
           {
            "line": {
             "colorbar": {
              "outlinewidth": 0,
              "ticks": ""
             }
            },
            "marker": {
             "colorbar": {
              "outlinewidth": 0,
              "ticks": ""
             }
            },
            "type": "scatter3d"
           }
          ],
          "scattercarpet": [
           {
            "marker": {
             "colorbar": {
              "outlinewidth": 0,
              "ticks": ""
             }
            },
            "type": "scattercarpet"
           }
          ],
          "scattergeo": [
           {
            "marker": {
             "colorbar": {
              "outlinewidth": 0,
              "ticks": ""
             }
            },
            "type": "scattergeo"
           }
          ],
          "scattergl": [
           {
            "marker": {
             "colorbar": {
              "outlinewidth": 0,
              "ticks": ""
             }
            },
            "type": "scattergl"
           }
          ],
          "scattermapbox": [
           {
            "marker": {
             "colorbar": {
              "outlinewidth": 0,
              "ticks": ""
             }
            },
            "type": "scattermapbox"
           }
          ],
          "scatterpolar": [
           {
            "marker": {
             "colorbar": {
              "outlinewidth": 0,
              "ticks": ""
             }
            },
            "type": "scatterpolar"
           }
          ],
          "scatterpolargl": [
           {
            "marker": {
             "colorbar": {
              "outlinewidth": 0,
              "ticks": ""
             }
            },
            "type": "scatterpolargl"
           }
          ],
          "scatterternary": [
           {
            "marker": {
             "colorbar": {
              "outlinewidth": 0,
              "ticks": ""
             }
            },
            "type": "scatterternary"
           }
          ],
          "surface": [
           {
            "colorbar": {
             "outlinewidth": 0,
             "ticks": ""
            },
            "colorscale": [
             [
              0,
              "#0d0887"
             ],
             [
              0.1111111111111111,
              "#46039f"
             ],
             [
              0.2222222222222222,
              "#7201a8"
             ],
             [
              0.3333333333333333,
              "#9c179e"
             ],
             [
              0.4444444444444444,
              "#bd3786"
             ],
             [
              0.5555555555555556,
              "#d8576b"
             ],
             [
              0.6666666666666666,
              "#ed7953"
             ],
             [
              0.7777777777777778,
              "#fb9f3a"
             ],
             [
              0.8888888888888888,
              "#fdca26"
             ],
             [
              1,
              "#f0f921"
             ]
            ],
            "type": "surface"
           }
          ],
          "table": [
           {
            "cells": {
             "fill": {
              "color": "#EBF0F8"
             },
             "line": {
              "color": "white"
             }
            },
            "header": {
             "fill": {
              "color": "#C8D4E3"
             },
             "line": {
              "color": "white"
             }
            },
            "type": "table"
           }
          ]
         },
         "layout": {
          "annotationdefaults": {
           "arrowcolor": "#2a3f5f",
           "arrowhead": 0,
           "arrowwidth": 1
          },
          "autotypenumbers": "strict",
          "coloraxis": {
           "colorbar": {
            "outlinewidth": 0,
            "ticks": ""
           }
          },
          "colorscale": {
           "diverging": [
            [
             0,
             "#8e0152"
            ],
            [
             0.1,
             "#c51b7d"
            ],
            [
             0.2,
             "#de77ae"
            ],
            [
             0.3,
             "#f1b6da"
            ],
            [
             0.4,
             "#fde0ef"
            ],
            [
             0.5,
             "#f7f7f7"
            ],
            [
             0.6,
             "#e6f5d0"
            ],
            [
             0.7,
             "#b8e186"
            ],
            [
             0.8,
             "#7fbc41"
            ],
            [
             0.9,
             "#4d9221"
            ],
            [
             1,
             "#276419"
            ]
           ],
           "sequential": [
            [
             0,
             "#0d0887"
            ],
            [
             0.1111111111111111,
             "#46039f"
            ],
            [
             0.2222222222222222,
             "#7201a8"
            ],
            [
             0.3333333333333333,
             "#9c179e"
            ],
            [
             0.4444444444444444,
             "#bd3786"
            ],
            [
             0.5555555555555556,
             "#d8576b"
            ],
            [
             0.6666666666666666,
             "#ed7953"
            ],
            [
             0.7777777777777778,
             "#fb9f3a"
            ],
            [
             0.8888888888888888,
             "#fdca26"
            ],
            [
             1,
             "#f0f921"
            ]
           ],
           "sequentialminus": [
            [
             0,
             "#0d0887"
            ],
            [
             0.1111111111111111,
             "#46039f"
            ],
            [
             0.2222222222222222,
             "#7201a8"
            ],
            [
             0.3333333333333333,
             "#9c179e"
            ],
            [
             0.4444444444444444,
             "#bd3786"
            ],
            [
             0.5555555555555556,
             "#d8576b"
            ],
            [
             0.6666666666666666,
             "#ed7953"
            ],
            [
             0.7777777777777778,
             "#fb9f3a"
            ],
            [
             0.8888888888888888,
             "#fdca26"
            ],
            [
             1,
             "#f0f921"
            ]
           ]
          },
          "colorway": [
           "#636efa",
           "#EF553B",
           "#00cc96",
           "#ab63fa",
           "#FFA15A",
           "#19d3f3",
           "#FF6692",
           "#B6E880",
           "#FF97FF",
           "#FECB52"
          ],
          "font": {
           "color": "#2a3f5f"
          },
          "geo": {
           "bgcolor": "white",
           "lakecolor": "white",
           "landcolor": "#E5ECF6",
           "showlakes": true,
           "showland": true,
           "subunitcolor": "white"
          },
          "hoverlabel": {
           "align": "left"
          },
          "hovermode": "closest",
          "mapbox": {
           "style": "light"
          },
          "paper_bgcolor": "white",
          "plot_bgcolor": "#E5ECF6",
          "polar": {
           "angularaxis": {
            "gridcolor": "white",
            "linecolor": "white",
            "ticks": ""
           },
           "bgcolor": "#E5ECF6",
           "radialaxis": {
            "gridcolor": "white",
            "linecolor": "white",
            "ticks": ""
           }
          },
          "scene": {
           "xaxis": {
            "backgroundcolor": "#E5ECF6",
            "gridcolor": "white",
            "gridwidth": 2,
            "linecolor": "white",
            "showbackground": true,
            "ticks": "",
            "zerolinecolor": "white"
           },
           "yaxis": {
            "backgroundcolor": "#E5ECF6",
            "gridcolor": "white",
            "gridwidth": 2,
            "linecolor": "white",
            "showbackground": true,
            "ticks": "",
            "zerolinecolor": "white"
           },
           "zaxis": {
            "backgroundcolor": "#E5ECF6",
            "gridcolor": "white",
            "gridwidth": 2,
            "linecolor": "white",
            "showbackground": true,
            "ticks": "",
            "zerolinecolor": "white"
           }
          },
          "shapedefaults": {
           "line": {
            "color": "#2a3f5f"
           }
          },
          "ternary": {
           "aaxis": {
            "gridcolor": "white",
            "linecolor": "white",
            "ticks": ""
           },
           "baxis": {
            "gridcolor": "white",
            "linecolor": "white",
            "ticks": ""
           },
           "bgcolor": "#E5ECF6",
           "caxis": {
            "gridcolor": "white",
            "linecolor": "white",
            "ticks": ""
           }
          },
          "title": {
           "x": 0.05
          },
          "xaxis": {
           "automargin": true,
           "gridcolor": "white",
           "linecolor": "white",
           "ticks": "",
           "title": {
            "standoff": 15
           },
           "zerolinecolor": "white",
           "zerolinewidth": 2
          },
          "yaxis": {
           "automargin": true,
           "gridcolor": "white",
           "linecolor": "white",
           "ticks": "",
           "title": {
            "standoff": 15
           },
           "zerolinecolor": "white",
           "zerolinewidth": 2
          }
         }
        },
        "title": {
         "text": "Players Wealth Over the Monopoly Game"
        },
        "xaxis": {
         "anchor": "y",
         "domain": [
          0,
          1
         ],
         "title": {
          "text": "Time Step"
         }
        },
        "yaxis": {
         "anchor": "x",
         "domain": [
          0,
          1
         ],
         "title": {
          "text": "value"
         }
        }
       }
      }
     },
     "metadata": {},
     "output_type": "display_data"
    }
   ],
   "source": [
    "i = 0\n",
    "\n",
    "while player1.bankrupt == False and player2.bankrupt == False and i < 500:\n",
    "    i += 1\n",
    "\n",
    "    board.take_turn(player1)\n",
    "    player1_wealth.append(player1.wealth())\n",
    "    board.take_turn(player2)\n",
    "    player2_wealth.append(player2.wealth())\n",
    "        \n",
    "\n",
    "print(f'The game lasted {i} rounds.')\n",
    "\n",
    "df = pd.DataFrame({'Time Step': range(len(player1_wealth)), 'Player 1 wealth': player1_wealth, 'Player 2 wealth': player2_wealth})\n",
    "fig = px.line(df, x='Time Step', y=['Player 1 wealth', 'Player 2 wealth'], title='Players Wealth Over the Monopoly Game')\n",
    "fig.show()"
   ]
  },
  {
   "cell_type": "code",
   "execution_count": null,
   "metadata": {},
   "outputs": [
    {
     "data": {
      "text/plain": [
       "(Player Cat is currently as position 15 on the board, with $48.09000000000003.             \n",
       "  They hold the following properties: ['Euston Road', 'Trafalgar Square', 'Piccadilly', 'The Angel Islington', 'Coventry Street', 'Fleet Street', 'The Strand', 'Leicester Square', 'Pentonville Road'].            \n",
       "  They hold the following stations: ['Marylebone Station', 'Liverpool St. Station', 'Fenchurch St. Station']            \n",
       "  They hold the following utilities: []            \n",
       "  The player has 0 houses and 0 hotels             \n",
       "  The player is currently not in jail.,\n",
       " Player Vlad is currently as position 26 on the board, with $28.0.             \n",
       "  They hold the following properties: ['Whitechapel Road', 'Pall Mall', 'Park Lane', 'Whitehall', 'Old Kent Road', 'Mayfair', 'Northumberland Avenue'].            \n",
       "  They hold the following stations: [\"King's Cross Station\"]            \n",
       "  They hold the following utilities: ['Water Works', 'Electric Company']            \n",
       "  The player has 3 houses and 0 hotels             \n",
       "  The player is currently not in jail.)"
      ]
     },
     "execution_count": 46,
     "metadata": {},
     "output_type": "execute_result"
    }
   ],
   "source": [
    "player1, player2"
   ]
  },
  {
   "cell_type": "code",
   "execution_count": null,
   "metadata": {},
   "outputs": [],
   "source": [
    "board = MonopolyBoard()\n",
    "player1 = Player('Cat')\n",
    "player2 = Player('Vlad')\n",
    "\n",
    "board.add_player(player1)\n",
    "board.add_player(player2)\n",
    "\n",
    "player1_wealth = []\n",
    "player2_wealth = []\n",
    "\n",
    "player1.money = 10000\n",
    "player2.money = 10000"
   ]
  },
  {
   "cell_type": "code",
   "execution_count": null,
   "metadata": {},
   "outputs": [
    {
     "name": "stdout",
     "output_type": "stream",
     "text": [
      "The game lasted 76 rounds.\n"
     ]
    },
    {
     "data": {
      "application/vnd.plotly.v1+json": {
       "config": {
        "plotlyServerURL": "https://plot.ly"
       },
       "data": [
        {
         "hovertemplate": "variable=Player 1 wealth<br>Time Step=%{x}<br>value=%{y}<extra></extra>",
         "legendgroup": "Player 1 wealth",
         "line": {
          "color": "#636efa",
          "dash": "solid"
         },
         "marker": {
          "symbol": "circle"
         },
         "mode": "lines",
         "name": "Player 1 wealth",
         "orientation": "v",
         "showlegend": true,
         "type": "scatter",
         "x": [
          0,
          1,
          2,
          3,
          4,
          5,
          6,
          7,
          8,
          9,
          10,
          11,
          12,
          13,
          14,
          15,
          16,
          17,
          18,
          19,
          20,
          21,
          22,
          23,
          24,
          25,
          26,
          27,
          28,
          29,
          30,
          31,
          32,
          33,
          34,
          35,
          36,
          37,
          38,
          39,
          40,
          41,
          42,
          43,
          44,
          45,
          46,
          47,
          48,
          49,
          50,
          51,
          52,
          53,
          54,
          55,
          56,
          57,
          58,
          59,
          60,
          61,
          62,
          63,
          64,
          65,
          66,
          67,
          68,
          69,
          70,
          71,
          72,
          73,
          74,
          75
         ],
         "xaxis": "x",
         "y": [
          10000,
          10000,
          10000,
          10000,
          10000,
          9950,
          9900,
          9900,
          9925,
          9925,
          10125,
          10125,
          10135,
          10335,
          10305,
          10355,
          10355,
          10555,
          10497,
          10517,
          10717,
          10717,
          10767,
          10767,
          10767,
          10973,
          11023,
          12023,
          13123,
          13123,
          14073,
          14073,
          13873,
          13809,
          13809,
          14859,
          15009,
          15209,
          15209,
          15199,
          15199,
          15299,
          15499,
          15499,
          16649,
          16649,
          16583,
          16493,
          16593,
          16778,
          16762,
          16862,
          16862,
          16848,
          16848,
          16848,
          19048,
          19248,
          19178,
          19178,
          19278,
          20228,
          20428,
          20418,
          20418,
          20418,
          20518,
          21568,
          21768,
          22068,
          22068,
          20318,
          20318,
          20318,
          20218,
          20518
         ],
         "yaxis": "y"
        },
        {
         "hovertemplate": "variable=Player 2 wealth<br>Time Step=%{x}<br>value=%{y}<extra></extra>",
         "legendgroup": "Player 2 wealth",
         "line": {
          "color": "#EF553B",
          "dash": "solid"
         },
         "marker": {
          "symbol": "circle"
         },
         "mode": "lines",
         "name": "Player 2 wealth",
         "orientation": "v",
         "showlegend": true,
         "type": "scatter",
         "x": [
          0,
          1,
          2,
          3,
          4,
          5,
          6,
          7,
          8,
          9,
          10,
          11,
          12,
          13,
          14,
          15,
          16,
          17,
          18,
          19,
          20,
          21,
          22,
          23,
          24,
          25,
          26,
          27,
          28,
          29,
          30,
          31,
          32,
          33,
          34,
          35,
          36,
          37,
          38,
          39,
          40,
          41,
          42,
          43,
          44,
          45,
          46,
          47,
          48,
          49,
          50,
          51,
          52,
          53,
          54,
          55,
          56,
          57,
          58,
          59,
          60,
          61,
          62,
          63,
          64,
          65,
          66,
          67,
          68,
          69,
          70,
          71,
          72,
          73,
          74,
          75
         ],
         "xaxis": "x",
         "y": [
          10000,
          10000,
          10000,
          9800,
          9750,
          9800,
          9800,
          9800,
          10000,
          10000,
          10000,
          9900,
          9900,
          9894,
          9880,
          9880,
          9880,
          10090,
          10118,
          10018,
          10218,
          10168,
          10168,
          10168,
          10362,
          10312,
          9262,
          8162,
          7932,
          6832,
          6832,
          7132,
          7132,
          7146,
          6096,
          6096,
          6346,
          6346,
          6346,
          6356,
          6656,
          6656,
          6656,
          5506,
          5506,
          5706,
          5722,
          5712,
          5712,
          5712,
          5728,
          5728,
          5928,
          5942,
          5942,
          3742,
          3742,
          3942,
          4012,
          3912,
          2862,
          2762,
          2962,
          3172,
          3172,
          3072,
          2022,
          972,
          1072,
          1072,
          972,
          972,
          1172,
          1172,
          1072,
          1172
         ],
         "yaxis": "y"
        }
       ],
       "layout": {
        "legend": {
         "title": {
          "text": "variable"
         },
         "tracegroupgap": 0
        },
        "template": {
         "data": {
          "bar": [
           {
            "error_x": {
             "color": "#2a3f5f"
            },
            "error_y": {
             "color": "#2a3f5f"
            },
            "marker": {
             "line": {
              "color": "#E5ECF6",
              "width": 0.5
             },
             "pattern": {
              "fillmode": "overlay",
              "size": 10,
              "solidity": 0.2
             }
            },
            "type": "bar"
           }
          ],
          "barpolar": [
           {
            "marker": {
             "line": {
              "color": "#E5ECF6",
              "width": 0.5
             },
             "pattern": {
              "fillmode": "overlay",
              "size": 10,
              "solidity": 0.2
             }
            },
            "type": "barpolar"
           }
          ],
          "carpet": [
           {
            "aaxis": {
             "endlinecolor": "#2a3f5f",
             "gridcolor": "white",
             "linecolor": "white",
             "minorgridcolor": "white",
             "startlinecolor": "#2a3f5f"
            },
            "baxis": {
             "endlinecolor": "#2a3f5f",
             "gridcolor": "white",
             "linecolor": "white",
             "minorgridcolor": "white",
             "startlinecolor": "#2a3f5f"
            },
            "type": "carpet"
           }
          ],
          "choropleth": [
           {
            "colorbar": {
             "outlinewidth": 0,
             "ticks": ""
            },
            "type": "choropleth"
           }
          ],
          "contour": [
           {
            "colorbar": {
             "outlinewidth": 0,
             "ticks": ""
            },
            "colorscale": [
             [
              0,
              "#0d0887"
             ],
             [
              0.1111111111111111,
              "#46039f"
             ],
             [
              0.2222222222222222,
              "#7201a8"
             ],
             [
              0.3333333333333333,
              "#9c179e"
             ],
             [
              0.4444444444444444,
              "#bd3786"
             ],
             [
              0.5555555555555556,
              "#d8576b"
             ],
             [
              0.6666666666666666,
              "#ed7953"
             ],
             [
              0.7777777777777778,
              "#fb9f3a"
             ],
             [
              0.8888888888888888,
              "#fdca26"
             ],
             [
              1,
              "#f0f921"
             ]
            ],
            "type": "contour"
           }
          ],
          "contourcarpet": [
           {
            "colorbar": {
             "outlinewidth": 0,
             "ticks": ""
            },
            "type": "contourcarpet"
           }
          ],
          "heatmap": [
           {
            "colorbar": {
             "outlinewidth": 0,
             "ticks": ""
            },
            "colorscale": [
             [
              0,
              "#0d0887"
             ],
             [
              0.1111111111111111,
              "#46039f"
             ],
             [
              0.2222222222222222,
              "#7201a8"
             ],
             [
              0.3333333333333333,
              "#9c179e"
             ],
             [
              0.4444444444444444,
              "#bd3786"
             ],
             [
              0.5555555555555556,
              "#d8576b"
             ],
             [
              0.6666666666666666,
              "#ed7953"
             ],
             [
              0.7777777777777778,
              "#fb9f3a"
             ],
             [
              0.8888888888888888,
              "#fdca26"
             ],
             [
              1,
              "#f0f921"
             ]
            ],
            "type": "heatmap"
           }
          ],
          "heatmapgl": [
           {
            "colorbar": {
             "outlinewidth": 0,
             "ticks": ""
            },
            "colorscale": [
             [
              0,
              "#0d0887"
             ],
             [
              0.1111111111111111,
              "#46039f"
             ],
             [
              0.2222222222222222,
              "#7201a8"
             ],
             [
              0.3333333333333333,
              "#9c179e"
             ],
             [
              0.4444444444444444,
              "#bd3786"
             ],
             [
              0.5555555555555556,
              "#d8576b"
             ],
             [
              0.6666666666666666,
              "#ed7953"
             ],
             [
              0.7777777777777778,
              "#fb9f3a"
             ],
             [
              0.8888888888888888,
              "#fdca26"
             ],
             [
              1,
              "#f0f921"
             ]
            ],
            "type": "heatmapgl"
           }
          ],
          "histogram": [
           {
            "marker": {
             "pattern": {
              "fillmode": "overlay",
              "size": 10,
              "solidity": 0.2
             }
            },
            "type": "histogram"
           }
          ],
          "histogram2d": [
           {
            "colorbar": {
             "outlinewidth": 0,
             "ticks": ""
            },
            "colorscale": [
             [
              0,
              "#0d0887"
             ],
             [
              0.1111111111111111,
              "#46039f"
             ],
             [
              0.2222222222222222,
              "#7201a8"
             ],
             [
              0.3333333333333333,
              "#9c179e"
             ],
             [
              0.4444444444444444,
              "#bd3786"
             ],
             [
              0.5555555555555556,
              "#d8576b"
             ],
             [
              0.6666666666666666,
              "#ed7953"
             ],
             [
              0.7777777777777778,
              "#fb9f3a"
             ],
             [
              0.8888888888888888,
              "#fdca26"
             ],
             [
              1,
              "#f0f921"
             ]
            ],
            "type": "histogram2d"
           }
          ],
          "histogram2dcontour": [
           {
            "colorbar": {
             "outlinewidth": 0,
             "ticks": ""
            },
            "colorscale": [
             [
              0,
              "#0d0887"
             ],
             [
              0.1111111111111111,
              "#46039f"
             ],
             [
              0.2222222222222222,
              "#7201a8"
             ],
             [
              0.3333333333333333,
              "#9c179e"
             ],
             [
              0.4444444444444444,
              "#bd3786"
             ],
             [
              0.5555555555555556,
              "#d8576b"
             ],
             [
              0.6666666666666666,
              "#ed7953"
             ],
             [
              0.7777777777777778,
              "#fb9f3a"
             ],
             [
              0.8888888888888888,
              "#fdca26"
             ],
             [
              1,
              "#f0f921"
             ]
            ],
            "type": "histogram2dcontour"
           }
          ],
          "mesh3d": [
           {
            "colorbar": {
             "outlinewidth": 0,
             "ticks": ""
            },
            "type": "mesh3d"
           }
          ],
          "parcoords": [
           {
            "line": {
             "colorbar": {
              "outlinewidth": 0,
              "ticks": ""
             }
            },
            "type": "parcoords"
           }
          ],
          "pie": [
           {
            "automargin": true,
            "type": "pie"
           }
          ],
          "scatter": [
           {
            "fillpattern": {
             "fillmode": "overlay",
             "size": 10,
             "solidity": 0.2
            },
            "type": "scatter"
           }
          ],
          "scatter3d": [
           {
            "line": {
             "colorbar": {
              "outlinewidth": 0,
              "ticks": ""
             }
            },
            "marker": {
             "colorbar": {
              "outlinewidth": 0,
              "ticks": ""
             }
            },
            "type": "scatter3d"
           }
          ],
          "scattercarpet": [
           {
            "marker": {
             "colorbar": {
              "outlinewidth": 0,
              "ticks": ""
             }
            },
            "type": "scattercarpet"
           }
          ],
          "scattergeo": [
           {
            "marker": {
             "colorbar": {
              "outlinewidth": 0,
              "ticks": ""
             }
            },
            "type": "scattergeo"
           }
          ],
          "scattergl": [
           {
            "marker": {
             "colorbar": {
              "outlinewidth": 0,
              "ticks": ""
             }
            },
            "type": "scattergl"
           }
          ],
          "scattermapbox": [
           {
            "marker": {
             "colorbar": {
              "outlinewidth": 0,
              "ticks": ""
             }
            },
            "type": "scattermapbox"
           }
          ],
          "scatterpolar": [
           {
            "marker": {
             "colorbar": {
              "outlinewidth": 0,
              "ticks": ""
             }
            },
            "type": "scatterpolar"
           }
          ],
          "scatterpolargl": [
           {
            "marker": {
             "colorbar": {
              "outlinewidth": 0,
              "ticks": ""
             }
            },
            "type": "scatterpolargl"
           }
          ],
          "scatterternary": [
           {
            "marker": {
             "colorbar": {
              "outlinewidth": 0,
              "ticks": ""
             }
            },
            "type": "scatterternary"
           }
          ],
          "surface": [
           {
            "colorbar": {
             "outlinewidth": 0,
             "ticks": ""
            },
            "colorscale": [
             [
              0,
              "#0d0887"
             ],
             [
              0.1111111111111111,
              "#46039f"
             ],
             [
              0.2222222222222222,
              "#7201a8"
             ],
             [
              0.3333333333333333,
              "#9c179e"
             ],
             [
              0.4444444444444444,
              "#bd3786"
             ],
             [
              0.5555555555555556,
              "#d8576b"
             ],
             [
              0.6666666666666666,
              "#ed7953"
             ],
             [
              0.7777777777777778,
              "#fb9f3a"
             ],
             [
              0.8888888888888888,
              "#fdca26"
             ],
             [
              1,
              "#f0f921"
             ]
            ],
            "type": "surface"
           }
          ],
          "table": [
           {
            "cells": {
             "fill": {
              "color": "#EBF0F8"
             },
             "line": {
              "color": "white"
             }
            },
            "header": {
             "fill": {
              "color": "#C8D4E3"
             },
             "line": {
              "color": "white"
             }
            },
            "type": "table"
           }
          ]
         },
         "layout": {
          "annotationdefaults": {
           "arrowcolor": "#2a3f5f",
           "arrowhead": 0,
           "arrowwidth": 1
          },
          "autotypenumbers": "strict",
          "coloraxis": {
           "colorbar": {
            "outlinewidth": 0,
            "ticks": ""
           }
          },
          "colorscale": {
           "diverging": [
            [
             0,
             "#8e0152"
            ],
            [
             0.1,
             "#c51b7d"
            ],
            [
             0.2,
             "#de77ae"
            ],
            [
             0.3,
             "#f1b6da"
            ],
            [
             0.4,
             "#fde0ef"
            ],
            [
             0.5,
             "#f7f7f7"
            ],
            [
             0.6,
             "#e6f5d0"
            ],
            [
             0.7,
             "#b8e186"
            ],
            [
             0.8,
             "#7fbc41"
            ],
            [
             0.9,
             "#4d9221"
            ],
            [
             1,
             "#276419"
            ]
           ],
           "sequential": [
            [
             0,
             "#0d0887"
            ],
            [
             0.1111111111111111,
             "#46039f"
            ],
            [
             0.2222222222222222,
             "#7201a8"
            ],
            [
             0.3333333333333333,
             "#9c179e"
            ],
            [
             0.4444444444444444,
             "#bd3786"
            ],
            [
             0.5555555555555556,
             "#d8576b"
            ],
            [
             0.6666666666666666,
             "#ed7953"
            ],
            [
             0.7777777777777778,
             "#fb9f3a"
            ],
            [
             0.8888888888888888,
             "#fdca26"
            ],
            [
             1,
             "#f0f921"
            ]
           ],
           "sequentialminus": [
            [
             0,
             "#0d0887"
            ],
            [
             0.1111111111111111,
             "#46039f"
            ],
            [
             0.2222222222222222,
             "#7201a8"
            ],
            [
             0.3333333333333333,
             "#9c179e"
            ],
            [
             0.4444444444444444,
             "#bd3786"
            ],
            [
             0.5555555555555556,
             "#d8576b"
            ],
            [
             0.6666666666666666,
             "#ed7953"
            ],
            [
             0.7777777777777778,
             "#fb9f3a"
            ],
            [
             0.8888888888888888,
             "#fdca26"
            ],
            [
             1,
             "#f0f921"
            ]
           ]
          },
          "colorway": [
           "#636efa",
           "#EF553B",
           "#00cc96",
           "#ab63fa",
           "#FFA15A",
           "#19d3f3",
           "#FF6692",
           "#B6E880",
           "#FF97FF",
           "#FECB52"
          ],
          "font": {
           "color": "#2a3f5f"
          },
          "geo": {
           "bgcolor": "white",
           "lakecolor": "white",
           "landcolor": "#E5ECF6",
           "showlakes": true,
           "showland": true,
           "subunitcolor": "white"
          },
          "hoverlabel": {
           "align": "left"
          },
          "hovermode": "closest",
          "mapbox": {
           "style": "light"
          },
          "paper_bgcolor": "white",
          "plot_bgcolor": "#E5ECF6",
          "polar": {
           "angularaxis": {
            "gridcolor": "white",
            "linecolor": "white",
            "ticks": ""
           },
           "bgcolor": "#E5ECF6",
           "radialaxis": {
            "gridcolor": "white",
            "linecolor": "white",
            "ticks": ""
           }
          },
          "scene": {
           "xaxis": {
            "backgroundcolor": "#E5ECF6",
            "gridcolor": "white",
            "gridwidth": 2,
            "linecolor": "white",
            "showbackground": true,
            "ticks": "",
            "zerolinecolor": "white"
           },
           "yaxis": {
            "backgroundcolor": "#E5ECF6",
            "gridcolor": "white",
            "gridwidth": 2,
            "linecolor": "white",
            "showbackground": true,
            "ticks": "",
            "zerolinecolor": "white"
           },
           "zaxis": {
            "backgroundcolor": "#E5ECF6",
            "gridcolor": "white",
            "gridwidth": 2,
            "linecolor": "white",
            "showbackground": true,
            "ticks": "",
            "zerolinecolor": "white"
           }
          },
          "shapedefaults": {
           "line": {
            "color": "#2a3f5f"
           }
          },
          "ternary": {
           "aaxis": {
            "gridcolor": "white",
            "linecolor": "white",
            "ticks": ""
           },
           "baxis": {
            "gridcolor": "white",
            "linecolor": "white",
            "ticks": ""
           },
           "bgcolor": "#E5ECF6",
           "caxis": {
            "gridcolor": "white",
            "linecolor": "white",
            "ticks": ""
           }
          },
          "title": {
           "x": 0.05
          },
          "xaxis": {
           "automargin": true,
           "gridcolor": "white",
           "linecolor": "white",
           "ticks": "",
           "title": {
            "standoff": 15
           },
           "zerolinecolor": "white",
           "zerolinewidth": 2
          },
          "yaxis": {
           "automargin": true,
           "gridcolor": "white",
           "linecolor": "white",
           "ticks": "",
           "title": {
            "standoff": 15
           },
           "zerolinecolor": "white",
           "zerolinewidth": 2
          }
         }
        },
        "title": {
         "text": "Players Wealth Over the Monopoly Game"
        },
        "xaxis": {
         "anchor": "y",
         "domain": [
          0,
          1
         ],
         "title": {
          "text": "Time Step"
         }
        },
        "yaxis": {
         "anchor": "x",
         "domain": [
          0,
          1
         ],
         "title": {
          "text": "value"
         }
        }
       }
      }
     },
     "metadata": {},
     "output_type": "display_data"
    }
   ],
   "source": [
    "i = 0\n",
    "\n",
    "while player1.bankrupt == False and player2.bankrupt == False and i < 10000:\n",
    "    i += 1\n",
    "\n",
    "    board.take_turn(player1)\n",
    "    player1_wealth.append(player1.wealth())\n",
    "    board.take_turn(player2)\n",
    "    player2_wealth.append(player2.wealth())\n",
    "        \n",
    "\n",
    "print(f'The game lasted {i} rounds.')\n",
    "\n",
    "df = pd.DataFrame({'Time Step': range(len(player1_wealth)), 'Player 1 wealth': player1_wealth, 'Player 2 wealth': player2_wealth})\n",
    "fig = px.line(df, x='Time Step', y=['Player 1 wealth', 'Player 2 wealth'], title='Players Wealth Over the Monopoly Game')\n",
    "fig.show()"
   ]
  },
  {
   "cell_type": "code",
   "execution_count": null,
   "metadata": {},
   "outputs": [
    {
     "data": {
      "text/plain": [
       "(Player Cat is currently as position 5 on the board, with $13838.             \n",
       "  They hold the following properties: ['Euston Road', 'The Strand', 'Coventry Street', 'Trafalgar Square', 'Piccadilly', 'Fleet Street', 'Leicester Square'].            \n",
       "  They hold the following stations: ['Marylebone Station', 'Fenchurch St. Station', \"King's Cross Station\"]            \n",
       "  They hold the following utilities: []            \n",
       "  The player has 24 houses and 6 hotels             \n",
       "  The player is currently not in jail.,\n",
       " Player Vlad is currently as position 21 on the board, with $222.0.             \n",
       "  They hold the following properties: ['The Angel Islington', 'Whitehall', 'Bow Street', 'Northumberland Avenue', 'Pentonville Road', 'Vine Street'].            \n",
       "  They hold the following stations: ['Liverpool St. Station']            \n",
       "  They hold the following utilities: ['Electric Company', 'Water Works']            \n",
       "  The player has 0 houses and 0 hotels             \n",
       "  The player is currently not in jail.)"
      ]
     },
     "execution_count": 49,
     "metadata": {},
     "output_type": "execute_result"
    }
   ],
   "source": [
    "player1, player2"
   ]
  },
  {
   "cell_type": "markdown",
   "metadata": {},
   "source": [
    "### Checking income tax calculations"
   ]
  },
  {
   "cell_type": "code",
   "execution_count": null,
   "metadata": {},
   "outputs": [],
   "source": [
    "board = MonopolyBoard()\n",
    "player1 = Player('Cat')\n",
    "player2 = Player('Vlad')\n",
    "\n",
    "board.add_player(player1)\n",
    "board.add_player(player2)"
   ]
  },
  {
   "cell_type": "code",
   "execution_count": null,
   "metadata": {},
   "outputs": [
    {
     "data": {
      "text/plain": [
       "(150.0, 150.0)"
      ]
     },
     "execution_count": 51,
     "metadata": {},
     "output_type": "execute_result"
    }
   ],
   "source": [
    "board.board[4].calculate_tax(player1), board.board[4].calculate_tax(player2)"
   ]
  },
  {
   "cell_type": "code",
   "execution_count": null,
   "metadata": {},
   "outputs": [
    {
     "name": "stdout",
     "output_type": "stream",
     "text": [
      "Income tax for player Cat: 150.0\n",
      "Income tax for player Vlad: 150.0\n",
      "Income tax for player Cat: 150.0\n",
      "Income tax for player Vlad: 150.0\n",
      "Income tax for player Cat: 150.0\n",
      "Income tax for player Vlad: 152.0\n",
      "Income tax for player Cat: 150.0\n",
      "Income tax for player Vlad: 152.0\n",
      "Income tax for player Cat: 170.0\n",
      "Income tax for player Vlad: 152.0\n",
      "Income tax for player Cat: 170.0\n",
      "Income tax for player Vlad: 152.0\n",
      "Income tax for player Cat: 170.0\n",
      "Income tax for player Vlad: 172.0\n",
      "Income tax for player Cat: 165.0\n",
      "Income tax for player Vlad: 177.0\n",
      "Income tax for player Cat: 165.0\n",
      "Income tax for player Vlad: 177.0\n",
      "Income tax for player Cat: 165.0\n",
      "Income tax for player Vlad: 177.0\n",
      "Income tax for player Cat: 187.5\n",
      "Income tax for player Vlad: 177.0\n",
      "Income tax for player Cat: 182.5\n",
      "Income tax for player Vlad: 182.0\n",
      "Income tax for player Cat: 182.5\n",
      "Income tax for player Vlad: 182.0\n",
      "Income tax for player Cat: 200\n",
      "Income tax for player Vlad: 182.0\n",
      "Income tax for player Cat: 200\n",
      "Income tax for player Vlad: 182.0\n",
      "Income tax for player Cat: 200\n",
      "Income tax for player Vlad: 179.5\n",
      "Income tax for player Cat: 200\n",
      "Income tax for player Vlad: 179.55\n",
      "Income tax for player Cat: 200\n",
      "Income tax for player Vlad: 178.55\n",
      "Income tax for player Cat: 199.20000000000002\n",
      "Income tax for player Vlad: 190.35000000000002\n",
      "Income tax for player Cat: 199.20000000000002\n",
      "Income tax for player Vlad: 188.15\n",
      "Income tax for player Cat: 200\n",
      "Income tax for player Vlad: 178.15\n",
      "Income tax for player Cat: 200\n",
      "Income tax for player Vlad: 198.15\n",
      "Income tax for player Cat: 200\n",
      "Income tax for player Vlad: 200\n",
      "Income tax for player Cat: 200\n",
      "Income tax for player Vlad: 200\n",
      "Income tax for player Cat: 200\n",
      "Income tax for player Vlad: 200\n",
      "Income tax for player Cat: 200\n",
      "Income tax for player Vlad: 200\n",
      "Income tax for player Cat: 200\n",
      "Income tax for player Vlad: 200\n",
      "Income tax for player Cat: 200\n",
      "Income tax for player Vlad: 200\n",
      "Income tax for player Cat: 200\n",
      "Income tax for player Vlad: 200\n",
      "Income tax for player Cat: 200\n",
      "Income tax for player Vlad: 200\n",
      "Income tax for player Cat: 200\n",
      "Income tax for player Vlad: 200\n",
      "Income tax for player Cat: 200\n",
      "Income tax for player Vlad: 200\n",
      "Income tax for player Cat: 200\n",
      "Income tax for player Vlad: 200\n",
      "Income tax for player Cat: 200\n",
      "Income tax for player Vlad: 200\n",
      "Income tax for player Cat: 200\n",
      "Income tax for player Vlad: 200\n",
      "Income tax for player Cat: 200\n",
      "Income tax for player Vlad: 200\n",
      "Income tax for player Cat: 200\n",
      "Income tax for player Vlad: 200\n",
      "Income tax for player Cat: 200\n",
      "Income tax for player Vlad: 200\n",
      "Income tax for player Cat: 200\n",
      "Income tax for player Vlad: 200\n",
      "Income tax for player Cat: 200\n",
      "Income tax for player Vlad: 200\n",
      "Income tax for player Cat: 200\n",
      "Income tax for player Vlad: 200\n",
      "Income tax for player Cat: 200\n",
      "Income tax for player Vlad: 200\n",
      "Income tax for player Cat: 200\n",
      "Income tax for player Vlad: 200\n",
      "Income tax for player Cat: 200\n",
      "Income tax for player Vlad: 200\n",
      "Income tax for player Cat: 200\n",
      "Income tax for player Vlad: 200\n",
      "Income tax for player Cat: 192.0\n",
      "Income tax for player Vlad: 200\n",
      "Income tax for player Cat: 200\n",
      "Income tax for player Vlad: 200\n",
      "Income tax for player Cat: 200\n",
      "Income tax for player Vlad: 200\n",
      "Income tax for player Cat: 192.0\n",
      "Income tax for player Vlad: 200\n",
      "Income tax for player Cat: 192.0\n",
      "Income tax for player Vlad: 200\n",
      "The game lasted 50 rounds.\n"
     ]
    }
   ],
   "source": [
    "i = 0\n",
    "while player1.bankrupt == False and player2.bankrupt == False and i < 50:\n",
    "    i += 1\n",
    "    for player in board.players:\n",
    "        board.take_turn(player)\n",
    "        print(f'Income tax for player {player.name}:', board.board[4].calculate_tax(player))\n",
    "        \n",
    "print(f'The game lasted {i} rounds.')"
   ]
  },
  {
   "cell_type": "code",
   "execution_count": null,
   "metadata": {},
   "outputs": [
    {
     "data": {
      "text/plain": [
       "(192.0, 200)"
      ]
     },
     "execution_count": 53,
     "metadata": {},
     "output_type": "execute_result"
    }
   ],
   "source": [
    "board.board[4].calculate_tax(player1), board.board[4].calculate_tax(player2)"
   ]
  },
  {
   "cell_type": "markdown",
   "metadata": {},
   "source": [
    "### Double rent for full sets"
   ]
  },
  {
   "cell_type": "code",
   "execution_count": null,
   "metadata": {},
   "outputs": [],
   "source": [
    "board = MonopolyBoard()\n",
    "player1 = Player('Cat')\n",
    "player2 = Player('Vlad')\n",
    "\n",
    "board.add_player(player1)\n",
    "board.add_player(player2)"
   ]
  },
  {
   "cell_type": "code",
   "execution_count": null,
   "metadata": {},
   "outputs": [
    {
     "name": "stdout",
     "output_type": "stream",
     "text": [
      "2 0\n",
      "4 8\n",
      "10 8\n",
      "10 20\n"
     ]
    }
   ],
   "source": [
    "player1.buy_property(board.board[1])\n",
    "\n",
    "print(board.board[1].calculate_rent(), board.board[3].calculate_rent())\n",
    "\n",
    "player1.buy_property(board.board[3])\n",
    "\n",
    "print(board.board[1].calculate_rent(), board.board[3].calculate_rent())\n",
    "\n",
    "board.board[1].num_houses = 1\n",
    "\n",
    "print(board.board[1].calculate_rent(), board.board[3].calculate_rent())\n",
    "\n",
    "board.board[3].num_houses = 1\n",
    "\n",
    "print(board.board[1].calculate_rent(), board.board[3].calculate_rent())"
   ]
  },
  {
   "cell_type": "markdown",
   "metadata": {},
   "source": [
    "### Mortgaging"
   ]
  },
  {
   "cell_type": "code",
   "execution_count": null,
   "metadata": {},
   "outputs": [],
   "source": [
    "board = MonopolyBoard()\n",
    "player1 = Player('Cat')\n",
    "player2 = Player('Vlad')\n",
    "\n",
    "board.add_player(player1)\n",
    "board.add_player(player2)"
   ]
  },
  {
   "cell_type": "code",
   "execution_count": null,
   "metadata": {},
   "outputs": [
    {
     "data": {
      "text/plain": [
       "True"
      ]
     },
     "execution_count": 57,
     "metadata": {},
     "output_type": "execute_result"
    }
   ],
   "source": [
    "player1.buy_property(board.board[1])\n",
    "player1.buy_property(board.board[3])"
   ]
  },
  {
   "cell_type": "code",
   "execution_count": null,
   "metadata": {},
   "outputs": [],
   "source": [
    "board.strategy.decide_mortgage_properties(player1, 70)"
   ]
  },
  {
   "cell_type": "code",
   "execution_count": null,
   "metadata": {},
   "outputs": [
    {
     "data": {
      "text/plain": [
       "1440.0"
      ]
     },
     "execution_count": 59,
     "metadata": {},
     "output_type": "execute_result"
    }
   ],
   "source": [
    "player1.money"
   ]
  },
  {
   "cell_type": "code",
   "execution_count": null,
   "metadata": {},
   "outputs": [
    {
     "data": {
      "text/plain": [
       "(True, True)"
      ]
     },
     "execution_count": 60,
     "metadata": {},
     "output_type": "execute_result"
    }
   ],
   "source": [
    "board.board[1].is_mortgaged, board.board[3].is_mortgaged"
   ]
  },
  {
   "cell_type": "code",
   "execution_count": null,
   "metadata": {},
   "outputs": [
    {
     "data": {
      "text/plain": [
       "[Old Kent Road is one of the 2 properties in the brown set located at position 1 on the Monopoly board                 \n",
       "  and can be purchased for $60 with a house price of $50. Rent prices are as follows: \n",
       "  Rent: 2 \n",
       "  Double rent: 4                 \n",
       "  Rent 1 house: 10 \n",
       "  Rent 2 houses: 30 \n",
       "  Rent 3 houses: 90 \n",
       "  Rent 4 houses: 160                 \n",
       "  Rent hotel: 250 \n",
       "  The property is currently owned by Cat and has 0 houses and 0 hotels.,\n",
       " Whitechapel Road is one of the 2 properties in the brown set located at position 3 on the Monopoly board                 \n",
       "  and can be purchased for $60 with a house price of $50. Rent prices are as follows: \n",
       "  Rent: 4 \n",
       "  Double rent: 8                 \n",
       "  Rent 1 house: 20 \n",
       "  Rent 2 houses: 60 \n",
       "  Rent 3 houses: 180 \n",
       "  Rent 4 houses: 320                 \n",
       "  Rent hotel: 450 \n",
       "  The property is currently owned by Cat and has 0 houses and 0 hotels.]"
      ]
     },
     "execution_count": 61,
     "metadata": {},
     "output_type": "execute_result"
    }
   ],
   "source": [
    "[property for property in player1.properties]"
   ]
  },
  {
   "cell_type": "markdown",
   "metadata": {},
   "source": [
    "### Selling houses/hotels"
   ]
  },
  {
   "cell_type": "code",
   "execution_count": null,
   "metadata": {},
   "outputs": [],
   "source": [
    "board = MonopolyBoard()\n",
    "player1 = Player('Cat')\n",
    "player2 = Player('Vlad')\n",
    "\n",
    "board.add_player(player1)\n",
    "board.add_player(player2)"
   ]
  },
  {
   "cell_type": "code",
   "execution_count": null,
   "metadata": {},
   "outputs": [],
   "source": [
    "player1.buy_property(board.board[1])\n",
    "player1.buy_property(board.board[3])\n",
    "\n",
    "board.board[1].num_houses = 2\n",
    "board.board[3].num_houses = 2"
   ]
  },
  {
   "cell_type": "code",
   "execution_count": null,
   "metadata": {},
   "outputs": [],
   "source": [
    "board.strategy.decide_sell_houses(player1, 50)"
   ]
  },
  {
   "cell_type": "code",
   "execution_count": null,
   "metadata": {},
   "outputs": [
    {
     "data": {
      "text/plain": [
       "(0, 2)"
      ]
     },
     "execution_count": 65,
     "metadata": {},
     "output_type": "execute_result"
    }
   ],
   "source": [
    "board.board[1].num_houses, board.board[3].num_houses"
   ]
  },
  {
   "cell_type": "code",
   "execution_count": null,
   "metadata": {},
   "outputs": [],
   "source": [
    "board.strategy.decide_sell_houses(player1, 30)"
   ]
  },
  {
   "cell_type": "code",
   "execution_count": null,
   "metadata": {},
   "outputs": [
    {
     "data": {
      "text/plain": [
       "(0, 0)"
      ]
     },
     "execution_count": 67,
     "metadata": {},
     "output_type": "execute_result"
    }
   ],
   "source": [
    "board.board[1].num_houses, board.board[3].num_houses"
   ]
  },
  {
   "cell_type": "code",
   "execution_count": null,
   "metadata": {},
   "outputs": [],
   "source": [
    "board.board[1].num_houses = 4\n",
    "board.board[3].num_houses = 4\n",
    "board.board[1].hotel = True\n",
    "board.board[3].hotel = True"
   ]
  },
  {
   "cell_type": "code",
   "execution_count": null,
   "metadata": {},
   "outputs": [],
   "source": [
    "board.strategy.decide_sell_houses(player1, 110)"
   ]
  },
  {
   "cell_type": "code",
   "execution_count": null,
   "metadata": {},
   "outputs": [
    {
     "data": {
      "text/plain": [
       "(0, False, 4, True)"
      ]
     },
     "execution_count": 70,
     "metadata": {},
     "output_type": "execute_result"
    }
   ],
   "source": [
    "board.board[1].num_houses, board.board[1].hotel, board.board[3].num_houses, board.board[3].hotel"
   ]
  },
  {
   "cell_type": "code",
   "execution_count": null,
   "metadata": {},
   "outputs": [],
   "source": [
    "board.strategy.decide_sell_houses(player1, 40)"
   ]
  },
  {
   "cell_type": "code",
   "execution_count": null,
   "metadata": {},
   "outputs": [
    {
     "data": {
      "text/plain": [
       "(0, False, 3, False)"
      ]
     },
     "execution_count": 72,
     "metadata": {},
     "output_type": "execute_result"
    }
   ],
   "source": [
    "board.board[1].num_houses, board.board[1].hotel, board.board[3].num_houses, board.board[3].hotel"
   ]
  },
  {
   "cell_type": "markdown",
   "metadata": {},
   "source": [
    "### Raising funds from selling houses/mortgaging to pay"
   ]
  },
  {
   "cell_type": "code",
   "execution_count": null,
   "metadata": {},
   "outputs": [],
   "source": [
    "board = MonopolyBoard()\n",
    "player1 = Player('Cat')\n",
    "player2 = Player('Vlad')\n",
    "\n",
    "board.add_player(player1)\n",
    "board.add_player(player2)"
   ]
  },
  {
   "cell_type": "code",
   "execution_count": null,
   "metadata": {},
   "outputs": [],
   "source": [
    "player1.buy_property(board.board[1])\n",
    "player1.buy_property(board.board[3])\n",
    "\n",
    "board.board[1].num_houses = 2\n",
    "board.board[3].num_houses = 2\n",
    "\n",
    "player1.money = 0"
   ]
  },
  {
   "cell_type": "code",
   "execution_count": null,
   "metadata": {},
   "outputs": [],
   "source": [
    "board.raise_funds(player1, 50)"
   ]
  },
  {
   "cell_type": "code",
   "execution_count": null,
   "metadata": {},
   "outputs": [
    {
     "data": {
      "text/plain": [
       "(0.0, 0, 2, False, False)"
      ]
     },
     "execution_count": 76,
     "metadata": {},
     "output_type": "execute_result"
    }
   ],
   "source": [
    "player1.money, board.board[1].num_houses, board.board[3].num_houses, board.board[1].is_mortgaged, board.board[3].is_mortgaged"
   ]
  },
  {
   "cell_type": "code",
   "execution_count": null,
   "metadata": {},
   "outputs": [],
   "source": [
    "board.raise_funds(player1, 60)"
   ]
  },
  {
   "cell_type": "code",
   "execution_count": null,
   "metadata": {},
   "outputs": [
    {
     "data": {
      "text/plain": [
       "(20.0, 0, 0, True, False)"
      ]
     },
     "execution_count": 78,
     "metadata": {},
     "output_type": "execute_result"
    }
   ],
   "source": [
    "player1.money, board.board[1].num_houses, board.board[3].num_houses, board.board[1].is_mortgaged, board.board[3].is_mortgaged"
   ]
  },
  {
   "cell_type": "code",
   "execution_count": null,
   "metadata": {},
   "outputs": [],
   "source": [
    "board.raise_funds(player1, 30)"
   ]
  },
  {
   "cell_type": "code",
   "execution_count": null,
   "metadata": {},
   "outputs": [
    {
     "data": {
      "text/plain": [
       "(20.0, 0, 0, True, True)"
      ]
     },
     "execution_count": 80,
     "metadata": {},
     "output_type": "execute_result"
    }
   ],
   "source": [
    "player1.money, board.board[1].num_houses, board.board[3].num_houses, board.board[1].is_mortgaged, board.board[3].is_mortgaged"
   ]
  },
  {
   "cell_type": "markdown",
   "metadata": {},
   "source": [
    "With lots of money until bankrupcy:"
   ]
  },
  {
   "cell_type": "code",
   "execution_count": null,
   "metadata": {},
   "outputs": [],
   "source": [
    "board = MonopolyBoard()\n",
    "player1 = Player('Cat')\n",
    "player2 = Player('Vlad')\n",
    "\n",
    "board.add_player(player1)\n",
    "board.add_player(player2)\n",
    "\n",
    "player1.money = 100000\n",
    "player2.money = 100000"
   ]
  },
  {
   "cell_type": "code",
   "execution_count": null,
   "metadata": {},
   "outputs": [
    {
     "name": "stdout",
     "output_type": "stream",
     "text": [
      "The game lasted 692 rounds.\n"
     ]
    }
   ],
   "source": [
    "i = 0\n",
    "while player1.bankrupt == False and player2.bankrupt == False:\n",
    "    i += 1\n",
    "    for player in board.players:\n",
    "        board.take_turn(player)\n",
    "\n",
    "print(f'The game lasted {i} rounds.')"
   ]
  },
  {
   "cell_type": "code",
   "execution_count": null,
   "metadata": {},
   "outputs": [
    {
     "data": {
      "text/plain": [
       "(Player Cat is currently as position 25 on the board, with $215672.             \n",
       "  They hold the following properties: ['Euston Road', 'Marlborough Street', 'Regent Street', 'Pentonville Road', 'Oxford Street', 'Bow Street', 'Vine Street', 'Bond Street'].            \n",
       "  They hold the following stations: [\"King's Cross Station\", 'Marylebone Station', 'Liverpool St. Station']            \n",
       "  They hold the following utilities: ['Water Works', 'Electric Company']            \n",
       "  The player has 24 houses and 6 hotels             \n",
       "  The player is currently not in jail.,\n",
       " Player Vlad is currently as position 25 on the board, with $648.0.             \n",
       "  They hold the following properties: ['The Angel Islington', 'Northumberland Avenue', 'Pall Mall', 'Whitehall'].            \n",
       "  They hold the following stations: ['Fenchurch St. Station']            \n",
       "  They hold the following utilities: []            \n",
       "  The player has 3 houses and 0 hotels             \n",
       "  The player is currently not in jail.)"
      ]
     },
     "execution_count": 83,
     "metadata": {},
     "output_type": "execute_result"
    }
   ],
   "source": [
    "player1, player2"
   ]
  },
  {
   "cell_type": "code",
   "execution_count": null,
   "metadata": {},
   "outputs": [
    {
     "name": "stdout",
     "output_type": "stream",
     "text": [
      "Euston Road 0 False False\n",
      "Marlborough Street 4 True False\n",
      "Regent Street 4 True False\n",
      "Pentonville Road 0 False False\n",
      "Oxford Street 4 True False\n",
      "Bow Street 4 True False\n",
      "Vine Street 4 True False\n",
      "Bond Street 4 True False\n"
     ]
    }
   ],
   "source": [
    "for prop in player1.properties:\n",
    "    print(prop.name, prop.num_houses, prop.hotel, prop.is_mortgaged)"
   ]
  }
 ],
 "metadata": {
  "kernelspec": {
   "display_name": "Python 3",
   "language": "python",
   "name": "python3"
  },
  "language_info": {
   "codemirror_mode": {
    "name": "ipython",
    "version": 3
   },
   "file_extension": ".py",
   "mimetype": "text/x-python",
   "name": "python",
   "nbconvert_exporter": "python",
   "pygments_lexer": "ipython3",
   "version": "3.10.2"
  }
 },
 "nbformat": 4,
 "nbformat_minor": 2
}
