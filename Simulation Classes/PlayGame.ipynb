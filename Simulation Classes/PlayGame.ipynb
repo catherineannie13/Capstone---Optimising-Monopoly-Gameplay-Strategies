{
 "cells": [
  {
   "cell_type": "markdown",
   "metadata": {},
   "source": [
    "## Imports"
   ]
  },
  {
   "cell_type": "code",
   "execution_count": 116,
   "metadata": {},
   "outputs": [],
   "source": [
    "import random\n",
    "import plotly.express as px\n",
    "import matplotlib.pyplot as plt\n",
    "import pandas as pd\n",
    "\n",
    "%run \"C:\\\\Users\\\\cathe\\\\OneDrive\\\\Documents\\\\Capstone - Optimising Monopoly Gameplay Strategies\\\\Simulation Classes\\\\Player.ipynb\"\n",
    "%run \"C:\\\\Users\\\\cathe\\\\OneDrive\\\\Documents\\\\Capstone - Optimising Monopoly Gameplay Strategies\\\\Simulation Classes\\\\Street.ipynb\"\n",
    "%run \"C:\\\\Users\\\\cathe\\\\OneDrive\\\\Documents\\\\Capstone - Optimising Monopoly Gameplay Strategies\\\\Simulation Classes\\\\Utility.ipynb\"\n",
    "%run \"C:\\\\Users\\\\cathe\\\\OneDrive\\\\Documents\\\\Capstone - Optimising Monopoly Gameplay Strategies\\\\Simulation Classes\\\\Station.ipynb\"\n",
    "%run \"C:\\\\Users\\\\cathe\\\\OneDrive\\\\Documents\\\\Capstone - Optimising Monopoly Gameplay Strategies\\\\Simulation Classes\\\\Chance.ipynb\"\n",
    "%run \"C:\\\\Users\\\\cathe\\\\OneDrive\\\\Documents\\\\Capstone - Optimising Monopoly Gameplay Strategies\\\\Simulation Classes\\\\Tax.ipynb\"\n",
    "%run \"C:\\\\Users\\\\cathe\\\\OneDrive\\\\Documents\\\\Capstone - Optimising Monopoly Gameplay Strategies\\\\Simulation Classes\\\\Go.ipynb\"\n",
    "%run \"C:\\\\Users\\\\cathe\\\\OneDrive\\\\Documents\\\\Capstone - Optimising Monopoly Gameplay Strategies\\\\Simulation Classes\\\\Jail.ipynb\"\n",
    "%run \"C:\\\\Users\\\\cathe\\\\OneDrive\\\\Documents\\\\Capstone - Optimising Monopoly Gameplay Strategies\\\\Simulation Classes\\\\FreeParking.ipynb\"\n",
    "%run \"C:\\\\Users\\\\cathe\\\\OneDrive\\\\Documents\\\\Capstone - Optimising Monopoly Gameplay Strategies\\\\Simulation Classes\\\\GoToJail.ipynb\"\n",
    "%run \"C:\\\\Users\\\\cathe\\\\OneDrive\\\\Documents\\\\Capstone - Optimising Monopoly Gameplay Strategies\\\\Simulation Classes\\\\CommunityChest.ipynb\"\n",
    "%run \"C:\\\\Users\\\\cathe\\\\OneDrive\\\\Documents\\\\Capstone - Optimising Monopoly Gameplay Strategies\\\\Simulation Classes\\\\MonopolyBoard.ipynb\""
   ]
  },
  {
   "cell_type": "code",
   "execution_count": 117,
   "metadata": {},
   "outputs": [],
   "source": [
    "random.seed(42)"
   ]
  },
  {
   "cell_type": "markdown",
   "metadata": {},
   "source": [
    "## Tests for Code"
   ]
  },
  {
   "cell_type": "markdown",
   "metadata": {},
   "source": [
    "### Tests for class definitions and initialisations"
   ]
  },
  {
   "cell_type": "code",
   "execution_count": 118,
   "metadata": {},
   "outputs": [],
   "source": [
    "board = MonopolyBoard()\n",
    "player1 = Player('Cat')\n",
    "player2 = Player('Vlad')\n",
    "\n",
    "board.add_player(player1)\n",
    "board.add_player(player2)"
   ]
  },
  {
   "cell_type": "code",
   "execution_count": 119,
   "metadata": {},
   "outputs": [
    {
     "name": "stdout",
     "output_type": "stream",
     "text": [
      "Go\n",
      "Street\n",
      "Community Chest\n",
      "Street\n",
      "Tax\n",
      "Station\n",
      "Street\n",
      "Chance\n",
      "Street\n",
      "Street\n",
      "Jail\n",
      "Street\n",
      "Utility\n",
      "Street\n",
      "Street\n",
      "Station\n",
      "Street\n",
      "Community Chest\n",
      "Street\n",
      "Street\n",
      "Free Parking\n",
      "Street\n",
      "Chance\n",
      "Street\n",
      "Street\n",
      "Station\n",
      "Street\n",
      "Street\n",
      "Utility\n",
      "Street\n",
      "Go To Jail\n",
      "Street\n",
      "Street\n",
      "Community Chest\n",
      "Street\n",
      "Station\n",
      "Chance\n",
      "Street\n",
      "Tax\n",
      "Street\n"
     ]
    }
   ],
   "source": [
    "# check that each space on the board represents the correct type of object\n",
    "for space in board.board:\n",
    "    print(space.type)"
   ]
  },
  {
   "cell_type": "code",
   "execution_count": 120,
   "metadata": {},
   "outputs": [
    {
     "name": "stdout",
     "output_type": "stream",
     "text": [
      "brown\n",
      "Old Kent Road\n",
      "Whitechapel Road\n",
      "-----------------------------------\n",
      "lightblue\n",
      "The Angel Islington\n",
      "Euston Road\n",
      "Pentonville Road\n",
      "-----------------------------------\n",
      "pink\n",
      "Pall Mall\n",
      "Whitehall\n",
      "Northumberland Avenue\n",
      "-----------------------------------\n",
      "orange\n",
      "Bow Street\n",
      "Marlborough Street\n",
      "Vine Street\n",
      "-----------------------------------\n",
      "red\n",
      "The Strand\n",
      "Fleet Street\n",
      "Trafalgar Square\n",
      "-----------------------------------\n",
      "yellow\n",
      "Leicester Square\n",
      "Coventry Street\n",
      "Piccadilly\n",
      "-----------------------------------\n",
      "green\n",
      "Regent Street\n",
      "Oxford Street\n",
      "Bond Street\n",
      "-----------------------------------\n",
      "darkblue\n",
      "Park Lane\n",
      "Mayfair\n",
      "-----------------------------------\n"
     ]
    }
   ],
   "source": [
    "# check that property sets are setup correctly\n",
    "for colour, group in board.property_sets.items():\n",
    "    print(colour)\n",
    "    \n",
    "    for property in group:\n",
    "        print(property.name)\n",
    "\n",
    "    print('-----------------------------------')"
   ]
  },
  {
   "cell_type": "code",
   "execution_count": 121,
   "metadata": {},
   "outputs": [
    {
     "name": "stdout",
     "output_type": "stream",
     "text": [
      "Player Cat is currently as position 0 on the board, with $1500.             \n",
      " They hold the following properties: [].            \n",
      " They hold the following stations: []            \n",
      " They hold the following utilities: []            \n",
      " The player has 0 houses and 0 hotels             \n",
      " The player is currently not in jail.\n",
      "\n",
      "\n",
      "Player Vlad is currently as position 0 on the board, with $1500.             \n",
      " They hold the following properties: [].            \n",
      " They hold the following stations: []            \n",
      " They hold the following utilities: []            \n",
      " The player has 0 houses and 0 hotels             \n",
      " The player is currently not in jail.\n",
      "\n",
      "\n"
     ]
    }
   ],
   "source": [
    "# check players are created correctly\n",
    "for player in board.players:\n",
    "    print(player)\n",
    "    print('\\n')"
   ]
  },
  {
   "cell_type": "code",
   "execution_count": 122,
   "metadata": {},
   "outputs": [
    {
     "name": "stdout",
     "output_type": "stream",
     "text": [
      "Old Kent Road is one of the 2 properties in the brown set located at position 1 on the Monopoly board                 \n",
      " and can be purchased for $60 with a house price of $50. Rent prices are as follows: \n",
      " Rent: 2 \n",
      " Double rent: 4                 \n",
      " Rent 1 house: 10 \n",
      " Rent 2 houses: 30 \n",
      " Rent 3 houses: 90 \n",
      " Rent 4 houses: 160                 \n",
      " Rent hotel: 250 \n",
      " The property is currently owned by no-one and has 0 houses and 0 hotels.\n",
      "\n",
      "\n",
      "Whitechapel Road is one of the 2 properties in the brown set located at position 3 on the Monopoly board                 \n",
      " and can be purchased for $60 with a house price of $50. Rent prices are as follows: \n",
      " Rent: 4 \n",
      " Double rent: 8                 \n",
      " Rent 1 house: 20 \n",
      " Rent 2 houses: 60 \n",
      " Rent 3 houses: 180 \n",
      " Rent 4 houses: 320                 \n",
      " Rent hotel: 450 \n",
      " The property is currently owned by no-one and has 0 houses and 0 hotels.\n",
      "\n",
      "\n",
      "The Angel Islington is one of the 3 properties in the lightblue set located at position 6 on the Monopoly board                 \n",
      " and can be purchased for $100 with a house price of $50. Rent prices are as follows: \n",
      " Rent: 6 \n",
      " Double rent: 12                 \n",
      " Rent 1 house: 30 \n",
      " Rent 2 houses: 90 \n",
      " Rent 3 houses: 270 \n",
      " Rent 4 houses: 400                 \n",
      " Rent hotel: 550 \n",
      " The property is currently owned by no-one and has 0 houses and 0 hotels.\n",
      "\n",
      "\n",
      "Euston Road is one of the 3 properties in the lightblue set located at position 8 on the Monopoly board                 \n",
      " and can be purchased for $100 with a house price of $50. Rent prices are as follows: \n",
      " Rent: 6 \n",
      " Double rent: 12                 \n",
      " Rent 1 house: 30 \n",
      " Rent 2 houses: 90 \n",
      " Rent 3 houses: 270 \n",
      " Rent 4 houses: 400                 \n",
      " Rent hotel: 550 \n",
      " The property is currently owned by no-one and has 0 houses and 0 hotels.\n",
      "\n",
      "\n",
      "Pentonville Road is one of the 3 properties in the lightblue set located at position 9 on the Monopoly board                 \n",
      " and can be purchased for $120 with a house price of $50. Rent prices are as follows: \n",
      " Rent: 8 \n",
      " Double rent: 16                 \n",
      " Rent 1 house: 40 \n",
      " Rent 2 houses: 100 \n",
      " Rent 3 houses: 300 \n",
      " Rent 4 houses: 450                 \n",
      " Rent hotel: 600 \n",
      " The property is currently owned by no-one and has 0 houses and 0 hotels.\n",
      "\n",
      "\n",
      "Pall Mall is one of the 3 properties in the pink set located at position 11 on the Monopoly board                 \n",
      " and can be purchased for $140 with a house price of $100. Rent prices are as follows: \n",
      " Rent: 10 \n",
      " Double rent: 20                 \n",
      " Rent 1 house: 50 \n",
      " Rent 2 houses: 150 \n",
      " Rent 3 houses: 450 \n",
      " Rent 4 houses: 625                 \n",
      " Rent hotel: 750 \n",
      " The property is currently owned by no-one and has 0 houses and 0 hotels.\n",
      "\n",
      "\n",
      "Whitehall is one of the 3 properties in the pink set located at position 13 on the Monopoly board                 \n",
      " and can be purchased for $140 with a house price of $100. Rent prices are as follows: \n",
      " Rent: 10 \n",
      " Double rent: 20                 \n",
      " Rent 1 house: 50 \n",
      " Rent 2 houses: 150 \n",
      " Rent 3 houses: 450 \n",
      " Rent 4 houses: 625                 \n",
      " Rent hotel: 750 \n",
      " The property is currently owned by no-one and has 0 houses and 0 hotels.\n",
      "\n",
      "\n",
      "Northumberland Avenue is one of the 3 properties in the pink set located at position 14 on the Monopoly board                 \n",
      " and can be purchased for $160 with a house price of $100. Rent prices are as follows: \n",
      " Rent: 12 \n",
      " Double rent: 24                 \n",
      " Rent 1 house: 60 \n",
      " Rent 2 houses: 180 \n",
      " Rent 3 houses: 500 \n",
      " Rent 4 houses: 700                 \n",
      " Rent hotel: 900 \n",
      " The property is currently owned by no-one and has 0 houses and 0 hotels.\n",
      "\n",
      "\n",
      "Bow Street is one of the 3 properties in the orange set located at position 16 on the Monopoly board                 \n",
      " and can be purchased for $180 with a house price of $100. Rent prices are as follows: \n",
      " Rent: 14 \n",
      " Double rent: 28                 \n",
      " Rent 1 house: 70 \n",
      " Rent 2 houses: 200 \n",
      " Rent 3 houses: 550 \n",
      " Rent 4 houses: 750                 \n",
      " Rent hotel: 950 \n",
      " The property is currently owned by no-one and has 0 houses and 0 hotels.\n",
      "\n",
      "\n",
      "Marlborough Street is one of the 3 properties in the orange set located at position 18 on the Monopoly board                 \n",
      " and can be purchased for $180 with a house price of $100. Rent prices are as follows: \n",
      " Rent: 14 \n",
      " Double rent: 28                 \n",
      " Rent 1 house: 70 \n",
      " Rent 2 houses: 200 \n",
      " Rent 3 houses: 550 \n",
      " Rent 4 houses: 750                 \n",
      " Rent hotel: 950 \n",
      " The property is currently owned by no-one and has 0 houses and 0 hotels.\n",
      "\n",
      "\n",
      "Vine Street is one of the 3 properties in the orange set located at position 19 on the Monopoly board                 \n",
      " and can be purchased for $200 with a house price of $100. Rent prices are as follows: \n",
      " Rent: 16 \n",
      " Double rent: 32                 \n",
      " Rent 1 house: 80 \n",
      " Rent 2 houses: 220 \n",
      " Rent 3 houses: 600 \n",
      " Rent 4 houses: 800                 \n",
      " Rent hotel: 1000 \n",
      " The property is currently owned by no-one and has 0 houses and 0 hotels.\n",
      "\n",
      "\n",
      "The Strand is one of the 3 properties in the red set located at position 21 on the Monopoly board                 \n",
      " and can be purchased for $220 with a house price of $150. Rent prices are as follows: \n",
      " Rent: 18 \n",
      " Double rent: 36                 \n",
      " Rent 1 house: 90 \n",
      " Rent 2 houses: 250 \n",
      " Rent 3 houses: 700 \n",
      " Rent 4 houses: 875                 \n",
      " Rent hotel: 1050 \n",
      " The property is currently owned by no-one and has 0 houses and 0 hotels.\n",
      "\n",
      "\n",
      "Fleet Street is one of the 3 properties in the red set located at position 23 on the Monopoly board                 \n",
      " and can be purchased for $220 with a house price of $150. Rent prices are as follows: \n",
      " Rent: 18 \n",
      " Double rent: 36                 \n",
      " Rent 1 house: 90 \n",
      " Rent 2 houses: 250 \n",
      " Rent 3 houses: 700 \n",
      " Rent 4 houses: 875                 \n",
      " Rent hotel: 1050 \n",
      " The property is currently owned by no-one and has 0 houses and 0 hotels.\n",
      "\n",
      "\n",
      "Trafalgar Square is one of the 3 properties in the red set located at position 24 on the Monopoly board                 \n",
      " and can be purchased for $240 with a house price of $150. Rent prices are as follows: \n",
      " Rent: 20 \n",
      " Double rent: 40                 \n",
      " Rent 1 house: 100 \n",
      " Rent 2 houses: 300 \n",
      " Rent 3 houses: 750 \n",
      " Rent 4 houses: 925                 \n",
      " Rent hotel: 1100 \n",
      " The property is currently owned by no-one and has 0 houses and 0 hotels.\n",
      "\n",
      "\n",
      "Leicester Square is one of the 3 properties in the yellow set located at position 26 on the Monopoly board                 \n",
      " and can be purchased for $260 with a house price of $150. Rent prices are as follows: \n",
      " Rent: 22 \n",
      " Double rent: 44                 \n",
      " Rent 1 house: 110 \n",
      " Rent 2 houses: 330 \n",
      " Rent 3 houses: 800 \n",
      " Rent 4 houses: 975                 \n",
      " Rent hotel: 1150 \n",
      " The property is currently owned by no-one and has 0 houses and 0 hotels.\n",
      "\n",
      "\n",
      "Coventry Street is one of the 3 properties in the yellow set located at position 27 on the Monopoly board                 \n",
      " and can be purchased for $260 with a house price of $150. Rent prices are as follows: \n",
      " Rent: 22 \n",
      " Double rent: 44                 \n",
      " Rent 1 house: 110 \n",
      " Rent 2 houses: 330 \n",
      " Rent 3 houses: 800 \n",
      " Rent 4 houses: 975                 \n",
      " Rent hotel: 1150 \n",
      " The property is currently owned by no-one and has 0 houses and 0 hotels.\n",
      "\n",
      "\n",
      "Piccadilly is one of the 3 properties in the yellow set located at position 29 on the Monopoly board                 \n",
      " and can be purchased for $280 with a house price of $150. Rent prices are as follows: \n",
      " Rent: 24 \n",
      " Double rent: 48                 \n",
      " Rent 1 house: 120 \n",
      " Rent 2 houses: 360 \n",
      " Rent 3 houses: 850 \n",
      " Rent 4 houses: 1025                 \n",
      " Rent hotel: 1200 \n",
      " The property is currently owned by no-one and has 0 houses and 0 hotels.\n",
      "\n",
      "\n",
      "Regent Street is one of the 3 properties in the green set located at position 31 on the Monopoly board                 \n",
      " and can be purchased for $300 with a house price of $200. Rent prices are as follows: \n",
      " Rent: 26 \n",
      " Double rent: 52                 \n",
      " Rent 1 house: 130 \n",
      " Rent 2 houses: 390 \n",
      " Rent 3 houses: 900 \n",
      " Rent 4 houses: 1100                 \n",
      " Rent hotel: 1275 \n",
      " The property is currently owned by no-one and has 0 houses and 0 hotels.\n",
      "\n",
      "\n",
      "Oxford Street is one of the 3 properties in the green set located at position 32 on the Monopoly board                 \n",
      " and can be purchased for $300 with a house price of $200. Rent prices are as follows: \n",
      " Rent: 26 \n",
      " Double rent: 52                 \n",
      " Rent 1 house: 130 \n",
      " Rent 2 houses: 390 \n",
      " Rent 3 houses: 900 \n",
      " Rent 4 houses: 1100                 \n",
      " Rent hotel: 1275 \n",
      " The property is currently owned by no-one and has 0 houses and 0 hotels.\n",
      "\n",
      "\n",
      "Bond Street is one of the 3 properties in the green set located at position 34 on the Monopoly board                 \n",
      " and can be purchased for $320 with a house price of $200. Rent prices are as follows: \n",
      " Rent: 28 \n",
      " Double rent: 56                 \n",
      " Rent 1 house: 150 \n",
      " Rent 2 houses: 450 \n",
      " Rent 3 houses: 1000 \n",
      " Rent 4 houses: 1200                 \n",
      " Rent hotel: 1400 \n",
      " The property is currently owned by no-one and has 0 houses and 0 hotels.\n",
      "\n",
      "\n",
      "Park Lane is one of the 2 properties in the darkblue set located at position 37 on the Monopoly board                 \n",
      " and can be purchased for $350 with a house price of $200. Rent prices are as follows: \n",
      " Rent: 35 \n",
      " Double rent: 70                 \n",
      " Rent 1 house: 175 \n",
      " Rent 2 houses: 500 \n",
      " Rent 3 houses: 1100 \n",
      " Rent 4 houses: 1300                 \n",
      " Rent hotel: 1500 \n",
      " The property is currently owned by no-one and has 0 houses and 0 hotels.\n",
      "\n",
      "\n",
      "Mayfair is one of the 2 properties in the darkblue set located at position 39 on the Monopoly board                 \n",
      " and can be purchased for $400 with a house price of $200. Rent prices are as follows: \n",
      " Rent: 50 \n",
      " Double rent: 100                 \n",
      " Rent 1 house: 200 \n",
      " Rent 2 houses: 600 \n",
      " Rent 3 houses: 1400 \n",
      " Rent 4 houses: 1700                 \n",
      " Rent hotel: 2000 \n",
      " The property is currently owned by no-one and has 0 houses and 0 hotels.\n",
      "\n",
      "\n"
     ]
    }
   ],
   "source": [
    "# check properties are defined correctly\n",
    "for property in board.properties:\n",
    "    print(property)\n",
    "    print('\\n')"
   ]
  },
  {
   "cell_type": "code",
   "execution_count": 123,
   "metadata": {},
   "outputs": [
    {
     "name": "stdout",
     "output_type": "stream",
     "text": [
      "Electric Company is a utility located at position 12 on the Monopoly board that can be purchased for 150.            \n",
      " If a player owns a single utility, they must be paid 4 multiplied by the dice roll in rent.            \n",
      " If a player owns both utilities, they must by paid 10 multiplied by the dice roll in rent.            \n",
      " This property is currently owned by no-one.\n",
      "\n",
      "\n",
      "Water Works is a utility located at position 28 on the Monopoly board that can be purchased for 150.            \n",
      " If a player owns a single utility, they must be paid 4 multiplied by the dice roll in rent.            \n",
      " If a player owns both utilities, they must by paid 10 multiplied by the dice roll in rent.            \n",
      " This property is currently owned by no-one.\n",
      "\n",
      "\n"
     ]
    }
   ],
   "source": [
    "# check utilities are defined correctly\n",
    "for utility in board.utilities:\n",
    "    print(utility)\n",
    "    print('\\n')"
   ]
  },
  {
   "cell_type": "code",
   "execution_count": 124,
   "metadata": {},
   "outputs": [
    {
     "name": "stdout",
     "output_type": "stream",
     "text": [
      "King's Cross Station is a station located at position 5 on the Monopoly board that can be purchased for 200.            \n",
      " Rent is as follows:             \n",
      " Rent if a single station is owned: 25             \n",
      " Rent if two stations are owned: 50             \n",
      " Rent if three stations are owned: 100             \n",
      " Rent if four stations are owned: 200             \n",
      " This property is currently owned by no-one.\n",
      "\n",
      "\n",
      "Marylebone Station is a station located at position 15 on the Monopoly board that can be purchased for 200.            \n",
      " Rent is as follows:             \n",
      " Rent if a single station is owned: 25             \n",
      " Rent if two stations are owned: 50             \n",
      " Rent if three stations are owned: 100             \n",
      " Rent if four stations are owned: 200             \n",
      " This property is currently owned by no-one.\n",
      "\n",
      "\n",
      "Fenchurch St. Station is a station located at position 25 on the Monopoly board that can be purchased for 200.            \n",
      " Rent is as follows:             \n",
      " Rent if a single station is owned: 25             \n",
      " Rent if two stations are owned: 50             \n",
      " Rent if three stations are owned: 100             \n",
      " Rent if four stations are owned: 200             \n",
      " This property is currently owned by no-one.\n",
      "\n",
      "\n",
      "Liverpool St. Station is a station located at position 35 on the Monopoly board that can be purchased for 200.            \n",
      " Rent is as follows:             \n",
      " Rent if a single station is owned: 25             \n",
      " Rent if two stations are owned: 50             \n",
      " Rent if three stations are owned: 100             \n",
      " Rent if four stations are owned: 200             \n",
      " This property is currently owned by no-one.\n",
      "\n",
      "\n"
     ]
    }
   ],
   "source": [
    "# check stations are defined correctly\n",
    "for station in board.stations:\n",
    "    print(station)\n",
    "    print('\\n')"
   ]
  },
  {
   "cell_type": "code",
   "execution_count": 125,
   "metadata": {},
   "outputs": [
    {
     "name": "stdout",
     "output_type": "stream",
     "text": [
      "Income Tax is located at position 4 on the Monopoly board. Players must pay 200 if they land here.            \n",
      " Alternatively, they can pay 10 percent of their wealth.\n",
      "\n",
      "\n",
      "Super Tax is located at position 38 on the Monopoly board. Players must pay 100 if they land here.            \n",
      " \n",
      "\n",
      "\n"
     ]
    }
   ],
   "source": [
    "# check tax spaces are defined correctly\n",
    "for tax in board.tax:\n",
    "    print(tax)\n",
    "    print('\\n')"
   ]
  },
  {
   "cell_type": "code",
   "execution_count": 126,
   "metadata": {},
   "outputs": [
    {
     "name": "stdout",
     "output_type": "stream",
     "text": [
      "Go is located at position 0 on the Monopoly board. Players receive 200 every time they pass go.\n",
      "Jail is located at position 10 on the Monopoly board.\n",
      "Free parking is located at position 20 on the Monopoly board.\n",
      "Go to jail is located at position 30 on the Monopoly board.\n"
     ]
    }
   ],
   "source": [
    "# check other spaces are defined correctly (Go, Jail, FreeParking, GoToJail)\n",
    "print(board.go)\n",
    "print(board.jail)\n",
    "print(board.free_parking)\n",
    "print(board.go_to_jail)"
   ]
  },
  {
   "cell_type": "code",
   "execution_count": 127,
   "metadata": {},
   "outputs": [
    {
     "name": "stdout",
     "output_type": "stream",
     "text": [
      "Chance spaces are located at positions [7, 22, 36] on the Monopoly board.             \n",
      " The card on the top of the pile is: \"Bank pays you a dividend of £50.\".\n"
     ]
    }
   ],
   "source": [
    "# check chance cards are defined correctly\n",
    "print(board.chance)"
   ]
  },
  {
   "cell_type": "code",
   "execution_count": 128,
   "metadata": {},
   "outputs": [
    {
     "name": "stdout",
     "output_type": "stream",
     "text": [
      "Community chest spaces are located at positions [2, 17, 33] on the Monopoly board.             \n",
      " The card on the top of the pile is: \"Go to Jail. Go directly to jail, do not pass Go, do not collect £200.\".\n"
     ]
    }
   ],
   "source": [
    "# check community chest cards are defined correctly\n",
    "print(board.community_chest)"
   ]
  },
  {
   "cell_type": "markdown",
   "metadata": {},
   "source": [
    "### Tests for player moves"
   ]
  },
  {
   "cell_type": "code",
   "execution_count": 129,
   "metadata": {},
   "outputs": [],
   "source": [
    "board = MonopolyBoard()\n",
    "player1 = Player('Cat')\n",
    "player2 = Player('Vlad')\n",
    "\n",
    "board.add_player(player1)\n",
    "board.add_player(player2)"
   ]
  },
  {
   "cell_type": "code",
   "execution_count": 130,
   "metadata": {},
   "outputs": [
    {
     "name": "stdout",
     "output_type": "stream",
     "text": [
      "Player Cat is currently as position 3 on the board, with $1440.             \n",
      " They hold the following properties: ['Whitechapel Road'].            \n",
      " They hold the following stations: []            \n",
      " They hold the following utilities: []            \n",
      " The player has 0 houses and 0 hotels             \n",
      " The player is currently not in jail.\n",
      "\n",
      "\n",
      "Player Vlad is currently as position 0 on the board, with $1500.             \n",
      " They hold the following properties: [].            \n",
      " They hold the following stations: []            \n",
      " They hold the following utilities: []            \n",
      " The player has 0 houses and 0 hotels             \n",
      " The player is currently not in jail.\n",
      "\n",
      "\n",
      "-----------------------------------------------------------------------------------\n",
      "Player Cat is currently as position 3 on the board, with $1440.             \n",
      " They hold the following properties: ['Whitechapel Road'].            \n",
      " They hold the following stations: []            \n",
      " They hold the following utilities: []            \n",
      " The player has 0 houses and 0 hotels             \n",
      " The player is currently not in jail.\n",
      "\n",
      "\n",
      "Player Vlad is currently as position 7 on the board, with $1485.             \n",
      " They hold the following properties: [].            \n",
      " They hold the following stations: []            \n",
      " They hold the following utilities: []            \n",
      " The player has 0 houses and 0 hotels             \n",
      " The player is currently not in jail.\n",
      "\n",
      "\n",
      "-----------------------------------------------------------------------------------\n",
      "Player Cat is currently as position 13 on the board, with $1300.             \n",
      " They hold the following properties: ['Whitechapel Road', 'Whitehall'].            \n",
      " They hold the following stations: []            \n",
      " They hold the following utilities: []            \n",
      " The player has 0 houses and 0 hotels             \n",
      " The player is currently not in jail.\n",
      "\n",
      "\n",
      "Player Vlad is currently as position 7 on the board, with $1485.             \n",
      " They hold the following properties: [].            \n",
      " They hold the following stations: []            \n",
      " They hold the following utilities: []            \n",
      " The player has 0 houses and 0 hotels             \n",
      " The player is currently not in jail.\n",
      "\n",
      "\n",
      "-----------------------------------------------------------------------------------\n",
      "Player Cat is currently as position 13 on the board, with $1300.             \n",
      " They hold the following properties: ['Whitechapel Road', 'Whitehall'].            \n",
      " They hold the following stations: []            \n",
      " They hold the following utilities: []            \n",
      " The player has 0 houses and 0 hotels             \n",
      " The player is currently not in jail.\n",
      "\n",
      "\n",
      "Player Vlad is currently as position 12 on the board, with $1335.             \n",
      " They hold the following properties: [].            \n",
      " They hold the following stations: []            \n",
      " They hold the following utilities: ['Electric Company']            \n",
      " The player has 0 houses and 0 hotels             \n",
      " The player is currently not in jail.\n",
      "\n",
      "\n",
      "-----------------------------------------------------------------------------------\n",
      "Player Cat is currently as position 27 on the board, with $1100.             \n",
      " They hold the following properties: ['Whitechapel Road', 'Whitehall', 'Vine Street'].            \n",
      " They hold the following stations: []            \n",
      " They hold the following utilities: []            \n",
      " The player has 0 houses and 0 hotels             \n",
      " The player is currently not in jail.\n",
      "\n",
      "\n",
      "Player Vlad is currently as position 12 on the board, with $1335.             \n",
      " They hold the following properties: [].            \n",
      " They hold the following stations: []            \n",
      " They hold the following utilities: ['Electric Company']            \n",
      " The player has 0 houses and 0 hotels             \n",
      " The player is currently not in jail.\n",
      "\n",
      "\n",
      "-----------------------------------------------------------------------------------\n",
      "Player Cat is currently as position 27 on the board, with $1100.             \n",
      " They hold the following properties: ['Whitechapel Road', 'Whitehall', 'Vine Street'].            \n",
      " They hold the following stations: []            \n",
      " They hold the following utilities: []            \n",
      " The player has 0 houses and 0 hotels             \n",
      " The player is currently not in jail.\n",
      "\n",
      "\n",
      "Player Vlad is currently as position 21 on the board, with $1115.             \n",
      " They hold the following properties: ['The Strand'].            \n",
      " They hold the following stations: []            \n",
      " They hold the following utilities: ['Electric Company']            \n",
      " The player has 0 houses and 0 hotels             \n",
      " The player is currently not in jail.\n",
      "\n",
      "\n",
      "-----------------------------------------------------------------------------------\n",
      "Player Cat is currently as position 5 on the board, with $1100.             \n",
      " They hold the following properties: ['Whitechapel Road', 'Whitehall', 'Vine Street'].            \n",
      " They hold the following stations: [\"King's Cross Station\"]            \n",
      " They hold the following utilities: []            \n",
      " The player has 0 houses and 0 hotels             \n",
      " The player is currently not in jail.\n",
      "\n",
      "\n",
      "Player Vlad is currently as position 21 on the board, with $1115.             \n",
      " They hold the following properties: ['The Strand'].            \n",
      " They hold the following stations: []            \n",
      " They hold the following utilities: ['Electric Company']            \n",
      " The player has 0 houses and 0 hotels             \n",
      " The player is currently not in jail.\n",
      "\n",
      "\n",
      "-----------------------------------------------------------------------------------\n",
      "Player Cat is currently as position 5 on the board, with $1100.             \n",
      " They hold the following properties: ['Whitechapel Road', 'Whitehall', 'Vine Street'].            \n",
      " They hold the following stations: [\"King's Cross Station\"]            \n",
      " They hold the following utilities: []            \n",
      " The player has 0 houses and 0 hotels             \n",
      " The player is currently not in jail.\n",
      "\n",
      "\n",
      "Player Vlad is currently as position 29 on the board, with $835.             \n",
      " They hold the following properties: ['The Strand', 'Piccadilly'].            \n",
      " They hold the following stations: []            \n",
      " They hold the following utilities: ['Electric Company']            \n",
      " The player has 0 houses and 0 hotels             \n",
      " The player is currently not in jail.\n",
      "\n",
      "\n",
      "-----------------------------------------------------------------------------------\n",
      "Player Cat is currently as position 16 on the board, with $920.             \n",
      " They hold the following properties: ['Whitechapel Road', 'Whitehall', 'Vine Street', 'Bow Street'].            \n",
      " They hold the following stations: [\"King's Cross Station\"]            \n",
      " They hold the following utilities: []            \n",
      " The player has 0 houses and 0 hotels             \n",
      " The player is currently not in jail.\n",
      "\n",
      "\n",
      "Player Vlad is currently as position 29 on the board, with $835.             \n",
      " They hold the following properties: ['The Strand', 'Piccadilly'].            \n",
      " They hold the following stations: []            \n",
      " They hold the following utilities: ['Electric Company']            \n",
      " The player has 0 houses and 0 hotels             \n",
      " The player is currently not in jail.\n",
      "\n",
      "\n",
      "-----------------------------------------------------------------------------------\n",
      "Player Cat is currently as position 16 on the board, with $920.             \n",
      " They hold the following properties: ['Whitechapel Road', 'Whitehall', 'Vine Street', 'Bow Street'].            \n",
      " They hold the following stations: [\"King's Cross Station\"]            \n",
      " They hold the following utilities: []            \n",
      " The player has 0 houses and 0 hotels             \n",
      " The player is currently not in jail.\n",
      "\n",
      "\n",
      "Player Vlad is currently as position 10 on the board, with $925.             \n",
      " They hold the following properties: ['The Strand', 'Piccadilly', 'Old Kent Road'].            \n",
      " They hold the following stations: []            \n",
      " They hold the following utilities: ['Electric Company']            \n",
      " The player has 0 houses and 0 hotels             \n",
      " The player is currently not in jail.\n",
      "\n",
      "\n",
      "-----------------------------------------------------------------------------------\n",
      "Player Cat is currently as position 27 on the board, with $920.             \n",
      " They hold the following properties: ['Whitechapel Road', 'Whitehall', 'Vine Street', 'Bow Street'].            \n",
      " They hold the following stations: [\"King's Cross Station\"]            \n",
      " They hold the following utilities: []            \n",
      " The player has 0 houses and 0 hotels             \n",
      " The player is currently not in jail.\n",
      "\n",
      "\n",
      "Player Vlad is currently as position 10 on the board, with $925.             \n",
      " They hold the following properties: ['The Strand', 'Piccadilly', 'Old Kent Road'].            \n",
      " They hold the following stations: []            \n",
      " They hold the following utilities: ['Electric Company']            \n",
      " The player has 0 houses and 0 hotels             \n",
      " The player is currently not in jail.\n",
      "\n",
      "\n",
      "-----------------------------------------------------------------------------------\n",
      "Player Cat is currently as position 27 on the board, with $920.             \n",
      " They hold the following properties: ['Whitechapel Road', 'Whitehall', 'Vine Street', 'Bow Street'].            \n",
      " They hold the following stations: [\"King's Cross Station\"]            \n",
      " They hold the following utilities: []            \n",
      " The player has 0 houses and 0 hotels             \n",
      " The player is currently not in jail.\n",
      "\n",
      "\n",
      "Player Vlad is currently as position 18 on the board, with $925.             \n",
      " They hold the following properties: ['The Strand', 'Piccadilly', 'Old Kent Road'].            \n",
      " They hold the following stations: []            \n",
      " They hold the following utilities: ['Electric Company']            \n",
      " The player has 0 houses and 0 hotels             \n",
      " The player is currently not in jail.\n",
      "\n",
      "\n",
      "-----------------------------------------------------------------------------------\n",
      "Player Cat is currently as position 31 on the board, with $920.             \n",
      " They hold the following properties: ['Whitechapel Road', 'Whitehall', 'Vine Street', 'Bow Street'].            \n",
      " They hold the following stations: [\"King's Cross Station\"]            \n",
      " They hold the following utilities: []            \n",
      " The player has 0 houses and 0 hotels             \n",
      " The player is currently not in jail.\n",
      "\n",
      "\n",
      "Player Vlad is currently as position 18 on the board, with $925.             \n",
      " They hold the following properties: ['The Strand', 'Piccadilly', 'Old Kent Road'].            \n",
      " They hold the following stations: []            \n",
      " They hold the following utilities: ['Electric Company']            \n",
      " The player has 0 houses and 0 hotels             \n",
      " The player is currently not in jail.\n",
      "\n",
      "\n",
      "-----------------------------------------------------------------------------------\n",
      "Player Cat is currently as position 31 on the board, with $920.             \n",
      " They hold the following properties: ['Whitechapel Road', 'Whitehall', 'Vine Street', 'Bow Street'].            \n",
      " They hold the following stations: [\"King's Cross Station\"]            \n",
      " They hold the following utilities: []            \n",
      " The player has 0 houses and 0 hotels             \n",
      " The player is currently not in jail.\n",
      "\n",
      "\n",
      "Player Vlad is currently as position 21 on the board, with $925.             \n",
      " They hold the following properties: ['The Strand', 'Piccadilly', 'Old Kent Road'].            \n",
      " They hold the following stations: []            \n",
      " They hold the following utilities: ['Electric Company']            \n",
      " The player has 0 houses and 0 hotels             \n",
      " The player is currently not in jail.\n",
      "\n",
      "\n",
      "-----------------------------------------------------------------------------------\n",
      "Player Cat is currently as position 38 on the board, with $820.             \n",
      " They hold the following properties: ['Whitechapel Road', 'Whitehall', 'Vine Street', 'Bow Street'].            \n",
      " They hold the following stations: [\"King's Cross Station\"]            \n",
      " They hold the following utilities: []            \n",
      " The player has 0 houses and 0 hotels             \n",
      " The player is currently not in jail.\n",
      "\n",
      "\n",
      "Player Vlad is currently as position 21 on the board, with $925.             \n",
      " They hold the following properties: ['The Strand', 'Piccadilly', 'Old Kent Road'].            \n",
      " They hold the following stations: []            \n",
      " They hold the following utilities: ['Electric Company']            \n",
      " The player has 0 houses and 0 hotels             \n",
      " The player is currently not in jail.\n",
      "\n",
      "\n",
      "-----------------------------------------------------------------------------------\n",
      "Player Cat is currently as position 38 on the board, with $820.             \n",
      " They hold the following properties: ['Whitechapel Road', 'Whitehall', 'Vine Street', 'Bow Street'].            \n",
      " They hold the following stations: [\"King's Cross Station\"]            \n",
      " They hold the following utilities: []            \n",
      " The player has 0 houses and 0 hotels             \n",
      " The player is currently not in jail.\n",
      "\n",
      "\n",
      "Player Vlad is currently as position 25 on the board, with $725.             \n",
      " They hold the following properties: ['The Strand', 'Piccadilly', 'Old Kent Road'].            \n",
      " They hold the following stations: ['Fenchurch St. Station']            \n",
      " They hold the following utilities: ['Electric Company']            \n",
      " The player has 0 houses and 0 hotels             \n",
      " The player is currently not in jail.\n",
      "\n",
      "\n",
      "-----------------------------------------------------------------------------------\n",
      "Player Cat is currently as position 5 on the board, with $1020.             \n",
      " They hold the following properties: ['Whitechapel Road', 'Whitehall', 'Vine Street', 'Bow Street'].            \n",
      " They hold the following stations: [\"King's Cross Station\"]            \n",
      " They hold the following utilities: []            \n",
      " The player has 0 houses and 0 hotels             \n",
      " The player is currently not in jail.\n",
      "\n",
      "\n",
      "Player Vlad is currently as position 25 on the board, with $725.             \n",
      " They hold the following properties: ['The Strand', 'Piccadilly', 'Old Kent Road'].            \n",
      " They hold the following stations: ['Fenchurch St. Station']            \n",
      " They hold the following utilities: ['Electric Company']            \n",
      " The player has 0 houses and 0 hotels             \n",
      " The player is currently not in jail.\n",
      "\n",
      "\n",
      "-----------------------------------------------------------------------------------\n",
      "Player Cat is currently as position 5 on the board, with $1020.             \n",
      " They hold the following properties: ['Whitechapel Road', 'Whitehall', 'Vine Street', 'Bow Street'].            \n",
      " They hold the following stations: [\"King's Cross Station\"]            \n",
      " They hold the following utilities: []            \n",
      " The player has 0 houses and 0 hotels             \n",
      " The player is currently not in jail.\n",
      "\n",
      "\n",
      "Player Vlad is currently as position 34 on the board, with $725.             \n",
      " They hold the following properties: ['The Strand', 'Piccadilly', 'Old Kent Road'].            \n",
      " They hold the following stations: ['Fenchurch St. Station']            \n",
      " They hold the following utilities: ['Electric Company']            \n",
      " The player has 0 houses and 0 hotels             \n",
      " The player is currently not in jail.\n",
      "\n",
      "\n",
      "-----------------------------------------------------------------------------------\n",
      "Player Cat is currently as position 13 on the board, with $1020.             \n",
      " They hold the following properties: ['Whitechapel Road', 'Whitehall', 'Vine Street', 'Bow Street'].            \n",
      " They hold the following stations: [\"King's Cross Station\"]            \n",
      " They hold the following utilities: []            \n",
      " The player has 0 houses and 0 hotels             \n",
      " The player is currently not in jail.\n",
      "\n",
      "\n",
      "Player Vlad is currently as position 34 on the board, with $725.             \n",
      " They hold the following properties: ['The Strand', 'Piccadilly', 'Old Kent Road'].            \n",
      " They hold the following stations: ['Fenchurch St. Station']            \n",
      " They hold the following utilities: ['Electric Company']            \n",
      " The player has 0 houses and 0 hotels             \n",
      " The player is currently not in jail.\n",
      "\n",
      "\n",
      "-----------------------------------------------------------------------------------\n",
      "Player Cat is currently as position 13 on the board, with $1020.             \n",
      " They hold the following properties: ['Whitechapel Road', 'Whitehall', 'Vine Street', 'Bow Street'].            \n",
      " They hold the following stations: [\"King's Cross Station\"]            \n",
      " They hold the following utilities: []            \n",
      " The player has 0 houses and 0 hotels             \n",
      " The player is currently not in jail.\n",
      "\n",
      "\n",
      "Player Vlad is currently as position 12 on the board, with $825.             \n",
      " They hold the following properties: ['The Strand', 'Piccadilly', 'Old Kent Road'].            \n",
      " They hold the following stations: ['Fenchurch St. Station']            \n",
      " They hold the following utilities: ['Electric Company']            \n",
      " The player has 0 houses and 0 hotels             \n",
      " The player is currently not in jail.\n",
      "\n",
      "\n",
      "-----------------------------------------------------------------------------------\n",
      "Player Cat is currently as position 18 on the board, with $840.             \n",
      " They hold the following properties: ['Whitechapel Road', 'Whitehall', 'Vine Street', 'Bow Street', 'Marlborough Street'].            \n",
      " They hold the following stations: [\"King's Cross Station\"]            \n",
      " They hold the following utilities: []            \n",
      " The player has 0 houses and 0 hotels             \n",
      " The player is currently not in jail.\n",
      "\n",
      "\n",
      "Player Vlad is currently as position 12 on the board, with $825.             \n",
      " They hold the following properties: ['The Strand', 'Piccadilly', 'Old Kent Road'].            \n",
      " They hold the following stations: ['Fenchurch St. Station']            \n",
      " They hold the following utilities: ['Electric Company']            \n",
      " The player has 0 houses and 0 hotels             \n",
      " The player is currently not in jail.\n",
      "\n",
      "\n",
      "-----------------------------------------------------------------------------------\n",
      "Player Cat is currently as position 18 on the board, with $868.             \n",
      " They hold the following properties: ['Whitechapel Road', 'Whitehall', 'Vine Street', 'Bow Street', 'Marlborough Street'].            \n",
      " They hold the following stations: [\"King's Cross Station\"]            \n",
      " They hold the following utilities: []            \n",
      " The player has 0 houses and 0 hotels             \n",
      " The player is currently not in jail.\n",
      "\n",
      "\n",
      "Player Vlad is currently as position 27 on the board, with $537.             \n",
      " They hold the following properties: ['The Strand', 'Piccadilly', 'Old Kent Road', 'Coventry Street'].            \n",
      " They hold the following stations: ['Fenchurch St. Station']            \n",
      " They hold the following utilities: ['Electric Company']            \n",
      " The player has 0 houses and 0 hotels             \n",
      " The player is currently not in jail.\n",
      "\n",
      "\n",
      "-----------------------------------------------------------------------------------\n",
      "Player Cat is currently as position 26 on the board, with $568.             \n",
      " They hold the following properties: ['Whitechapel Road', 'Whitehall', 'Vine Street', 'Bow Street', 'Marlborough Street'].            \n",
      " They hold the following stations: [\"King's Cross Station\"]            \n",
      " They hold the following utilities: []            \n",
      " The player has 3 houses and 0 hotels             \n",
      " The player is currently not in jail.\n",
      "\n",
      "\n",
      "Player Vlad is currently as position 27 on the board, with $537.             \n",
      " They hold the following properties: ['The Strand', 'Piccadilly', 'Old Kent Road', 'Coventry Street'].            \n",
      " They hold the following stations: ['Fenchurch St. Station']            \n",
      " They hold the following utilities: ['Electric Company']            \n",
      " The player has 0 houses and 0 hotels             \n",
      " The player is currently not in jail.\n",
      "\n",
      "\n",
      "-----------------------------------------------------------------------------------\n",
      "Player Cat is currently as position 26 on the board, with $568.             \n",
      " They hold the following properties: ['Whitechapel Road', 'Whitehall', 'Vine Street', 'Bow Street', 'Marlborough Street'].            \n",
      " They hold the following stations: [\"King's Cross Station\"]            \n",
      " They hold the following utilities: []            \n",
      " The player has 3 houses and 0 hotels             \n",
      " The player is currently not in jail.\n",
      "\n",
      "\n",
      "Player Vlad is currently as position 38 on the board, with $437.             \n",
      " They hold the following properties: ['The Strand', 'Piccadilly', 'Old Kent Road', 'Coventry Street'].            \n",
      " They hold the following stations: ['Fenchurch St. Station']            \n",
      " They hold the following utilities: ['Electric Company']            \n",
      " The player has 0 houses and 0 hotels             \n",
      " The player is currently not in jail.\n",
      "\n",
      "\n",
      "-----------------------------------------------------------------------------------\n",
      "Player Cat is currently as position 35 on the board, with $68.             \n",
      " They hold the following properties: ['Whitechapel Road', 'Whitehall', 'Vine Street', 'Bow Street', 'Marlborough Street'].            \n",
      " They hold the following stations: [\"King's Cross Station\", 'Liverpool St. Station']            \n",
      " They hold the following utilities: []            \n",
      " The player has 6 houses and 0 hotels             \n",
      " The player is currently not in jail.\n",
      "\n",
      "\n",
      "Player Vlad is currently as position 38 on the board, with $437.             \n",
      " They hold the following properties: ['The Strand', 'Piccadilly', 'Old Kent Road', 'Coventry Street'].            \n",
      " They hold the following stations: ['Fenchurch St. Station']            \n",
      " They hold the following utilities: ['Electric Company']            \n",
      " The player has 0 houses and 0 hotels             \n",
      " The player is currently not in jail.\n",
      "\n",
      "\n",
      "-----------------------------------------------------------------------------------\n",
      "Player Cat is currently as position 35 on the board, with $118.             \n",
      " They hold the following properties: ['Whitechapel Road', 'Whitehall', 'Vine Street', 'Bow Street', 'Marlborough Street'].            \n",
      " They hold the following stations: [\"King's Cross Station\", 'Liverpool St. Station']            \n",
      " They hold the following utilities: []            \n",
      " The player has 6 houses and 0 hotels             \n",
      " The player is currently not in jail.\n",
      "\n",
      "\n",
      "Player Vlad is currently as position 5 on the board, with $587.             \n",
      " They hold the following properties: ['The Strand', 'Piccadilly', 'Old Kent Road', 'Coventry Street'].            \n",
      " They hold the following stations: ['Fenchurch St. Station']            \n",
      " They hold the following utilities: ['Electric Company']            \n",
      " The player has 0 houses and 0 hotels             \n",
      " The player is currently not in jail.\n",
      "\n",
      "\n",
      "-----------------------------------------------------------------------------------\n",
      "Player Cat is currently as position 8 on the board, with $218.             \n",
      " They hold the following properties: ['Whitechapel Road', 'Whitehall', 'Vine Street', 'Bow Street', 'Marlborough Street'].            \n",
      " They hold the following stations: [\"King's Cross Station\", 'Liverpool St. Station']            \n",
      " They hold the following utilities: []            \n",
      " The player has 7 houses and 0 hotels             \n",
      " The player is currently not in jail.\n",
      "\n",
      "\n",
      "Player Vlad is currently as position 5 on the board, with $587.             \n",
      " They hold the following properties: ['The Strand', 'Piccadilly', 'Old Kent Road', 'Coventry Street'].            \n",
      " They hold the following stations: ['Fenchurch St. Station']            \n",
      " They hold the following utilities: ['Electric Company']            \n",
      " The player has 0 houses and 0 hotels             \n",
      " The player is currently not in jail.\n",
      "\n",
      "\n",
      "-----------------------------------------------------------------------------------\n",
      "Player Cat is currently as position 8 on the board, with $218.             \n",
      " They hold the following properties: ['Whitechapel Road', 'Whitehall', 'Vine Street', 'Bow Street', 'Marlborough Street'].            \n",
      " They hold the following stations: [\"King's Cross Station\", 'Liverpool St. Station']            \n",
      " They hold the following utilities: []            \n",
      " The player has 7 houses and 0 hotels             \n",
      " The player is currently not in jail.\n",
      "\n",
      "\n",
      "Player Vlad is currently as position 10 on the board, with $637.             \n",
      " They hold the following properties: ['The Strand', 'Piccadilly', 'Old Kent Road', 'Coventry Street'].            \n",
      " They hold the following stations: ['Fenchurch St. Station']            \n",
      " They hold the following utilities: ['Electric Company']            \n",
      " The player has 0 houses and 0 hotels             \n",
      " The player is currently not in jail.\n",
      "\n",
      "\n",
      "-----------------------------------------------------------------------------------\n",
      "Player Cat is currently as position 16 on the board, with $98.0.             \n",
      " They hold the following properties: ['Whitechapel Road', 'Whitehall', 'Vine Street', 'Bow Street', 'Marlborough Street'].            \n",
      " They hold the following stations: [\"King's Cross Station\", 'Liverpool St. Station']            \n",
      " They hold the following utilities: []            \n",
      " The player has 9 houses and 0 hotels             \n",
      " The player is currently not in jail.\n",
      "\n",
      "\n",
      "Player Vlad is currently as position 10 on the board, with $637.             \n",
      " They hold the following properties: ['The Strand', 'Piccadilly', 'Old Kent Road', 'Coventry Street'].            \n",
      " They hold the following stations: ['Fenchurch St. Station']            \n",
      " They hold the following utilities: ['Electric Company']            \n",
      " The player has 0 houses and 0 hotels             \n",
      " The player is currently not in jail.\n",
      "\n",
      "\n",
      "-----------------------------------------------------------------------------------\n",
      "Player Cat is currently as position 16 on the board, with $98.0.             \n",
      " They hold the following properties: ['Whitechapel Road', 'Whitehall', 'Vine Street', 'Bow Street', 'Marlborough Street'].            \n",
      " They hold the following stations: [\"King's Cross Station\", 'Liverpool St. Station']            \n",
      " They hold the following utilities: []            \n",
      " The player has 9 houses and 0 hotels             \n",
      " The player is currently not in jail.\n",
      "\n",
      "\n",
      "Player Vlad is currently as position 20 on the board, with $637.             \n",
      " They hold the following properties: ['The Strand', 'Piccadilly', 'Old Kent Road', 'Coventry Street'].            \n",
      " They hold the following stations: ['Fenchurch St. Station']            \n",
      " They hold the following utilities: ['Electric Company']            \n",
      " The player has 0 houses and 0 hotels             \n",
      " The player is currently not in jail.\n",
      "\n",
      "\n",
      "-----------------------------------------------------------------------------------\n",
      "Player Cat is currently as position 0 on the board, with $298.0.             \n",
      " They hold the following properties: ['Whitechapel Road', 'Whitehall', 'Vine Street', 'Bow Street', 'Marlborough Street'].            \n",
      " They hold the following stations: [\"King's Cross Station\", 'Liverpool St. Station']            \n",
      " They hold the following utilities: []            \n",
      " The player has 9 houses and 0 hotels             \n",
      " The player is currently not in jail.\n",
      "\n",
      "\n",
      "Player Vlad is currently as position 20 on the board, with $637.             \n",
      " They hold the following properties: ['The Strand', 'Piccadilly', 'Old Kent Road', 'Coventry Street'].            \n",
      " They hold the following stations: ['Fenchurch St. Station']            \n",
      " They hold the following utilities: ['Electric Company']            \n",
      " The player has 0 houses and 0 hotels             \n",
      " The player is currently not in jail.\n",
      "\n",
      "\n",
      "-----------------------------------------------------------------------------------\n",
      "Player Cat is currently as position 0 on the board, with $298.0.             \n",
      " They hold the following properties: ['Whitechapel Road', 'Whitehall', 'Vine Street', 'Bow Street', 'Marlborough Street'].            \n",
      " They hold the following stations: [\"King's Cross Station\", 'Liverpool St. Station']            \n",
      " They hold the following utilities: []            \n",
      " The player has 9 houses and 0 hotels             \n",
      " The player is currently not in jail.\n",
      "\n",
      "\n",
      "Player Vlad is currently as position 37 on the board, with $487.             \n",
      " They hold the following properties: ['The Strand', 'Piccadilly', 'Old Kent Road', 'Coventry Street'].            \n",
      " They hold the following stations: ['Fenchurch St. Station']            \n",
      " They hold the following utilities: ['Electric Company', 'Water Works']            \n",
      " The player has 0 houses and 0 hotels             \n",
      " The player is currently not in jail.\n",
      "\n",
      "\n",
      "-----------------------------------------------------------------------------------\n",
      "Player Cat is currently as position 8 on the board, with $98.0.             \n",
      " They hold the following properties: ['Whitechapel Road', 'Whitehall', 'Vine Street', 'Bow Street', 'Marlborough Street'].            \n",
      " They hold the following stations: [\"King's Cross Station\", 'Liverpool St. Station']            \n",
      " They hold the following utilities: []            \n",
      " The player has 11 houses and 0 hotels             \n",
      " The player is currently not in jail.\n",
      "\n",
      "\n",
      "Player Vlad is currently as position 37 on the board, with $487.             \n",
      " They hold the following properties: ['The Strand', 'Piccadilly', 'Old Kent Road', 'Coventry Street'].            \n",
      " They hold the following stations: ['Fenchurch St. Station']            \n",
      " They hold the following utilities: ['Electric Company', 'Water Works']            \n",
      " The player has 0 houses and 0 hotels             \n",
      " The player is currently not in jail.\n",
      "\n",
      "\n",
      "-----------------------------------------------------------------------------------\n",
      "Player Cat is currently as position 8 on the board, with $98.0.             \n",
      " They hold the following properties: ['Whitechapel Road', 'Whitehall', 'Vine Street', 'Bow Street', 'Marlborough Street'].            \n",
      " They hold the following stations: [\"King's Cross Station\", 'Liverpool St. Station']            \n",
      " They hold the following utilities: []            \n",
      " The player has 11 houses and 0 hotels             \n",
      " The player is currently not in jail.\n",
      "\n",
      "\n",
      "Player Vlad is currently as position 3 on the board, with $687.             \n",
      " They hold the following properties: ['The Strand', 'Piccadilly', 'Old Kent Road', 'Coventry Street'].            \n",
      " They hold the following stations: ['Fenchurch St. Station']            \n",
      " They hold the following utilities: ['Electric Company', 'Water Works']            \n",
      " The player has 0 houses and 0 hotels             \n",
      " The player is currently not in jail.\n",
      "\n",
      "\n",
      "-----------------------------------------------------------------------------------\n",
      "Player Cat is currently as position 27 on the board, with $76.0.             \n",
      " They hold the following properties: ['Whitechapel Road', 'Whitehall', 'Vine Street', 'Bow Street', 'Marlborough Street'].            \n",
      " They hold the following stations: [\"King's Cross Station\", 'Liverpool St. Station']            \n",
      " They hold the following utilities: []            \n",
      " The player has 11 houses and 0 hotels             \n",
      " The player is currently not in jail.\n",
      "\n",
      "\n",
      "Player Vlad is currently as position 3 on the board, with $709.             \n",
      " They hold the following properties: ['The Strand', 'Piccadilly', 'Old Kent Road', 'Coventry Street'].            \n",
      " They hold the following stations: ['Fenchurch St. Station']            \n",
      " They hold the following utilities: ['Electric Company', 'Water Works']            \n",
      " The player has 0 houses and 0 hotels             \n",
      " The player is currently not in jail.\n",
      "\n",
      "\n",
      "-----------------------------------------------------------------------------------\n",
      "Player Cat is currently as position 27 on the board, with $76.0.             \n",
      " They hold the following properties: ['Whitechapel Road', 'Whitehall', 'Vine Street', 'Bow Street', 'Marlborough Street'].            \n",
      " They hold the following stations: [\"King's Cross Station\", 'Liverpool St. Station']            \n",
      " They hold the following utilities: []            \n",
      " The player has 11 houses and 0 hotels             \n",
      " The player is currently not in jail.\n",
      "\n",
      "\n",
      "Player Vlad is currently as position 11 on the board, with $709.             \n",
      " They hold the following properties: ['The Strand', 'Piccadilly', 'Old Kent Road', 'Coventry Street'].            \n",
      " They hold the following stations: ['Fenchurch St. Station']            \n",
      " They hold the following utilities: ['Electric Company', 'Water Works']            \n",
      " The player has 0 houses and 0 hotels             \n",
      " The player is currently not in jail.\n",
      "\n",
      "\n",
      "-----------------------------------------------------------------------------------\n",
      "Player Cat is currently as position 36 on the board, with $1.0.             \n",
      " They hold the following properties: ['Whitechapel Road', 'Whitehall', 'Vine Street', 'Bow Street', 'Marlborough Street'].            \n",
      " They hold the following stations: [\"King's Cross Station\", 'Liverpool St. Station']            \n",
      " They hold the following utilities: []            \n",
      " The player has 11 houses and 0 hotels             \n",
      " The player is currently not in jail.\n",
      "\n",
      "\n",
      "Player Vlad is currently as position 11 on the board, with $709.             \n",
      " They hold the following properties: ['The Strand', 'Piccadilly', 'Old Kent Road', 'Coventry Street'].            \n",
      " They hold the following stations: ['Fenchurch St. Station']            \n",
      " They hold the following utilities: ['Electric Company', 'Water Works']            \n",
      " The player has 0 houses and 0 hotels             \n",
      " The player is currently not in jail.\n",
      "\n",
      "\n",
      "-----------------------------------------------------------------------------------\n",
      "Player Cat is currently as position 36 on the board, with $1.0.             \n",
      " They hold the following properties: ['Whitechapel Road', 'Whitehall', 'Vine Street', 'Bow Street', 'Marlborough Street'].            \n",
      " They hold the following stations: [\"King's Cross Station\", 'Liverpool St. Station']            \n",
      " They hold the following utilities: []            \n",
      " The player has 11 houses and 0 hotels             \n",
      " The player is currently not in jail.\n",
      "\n",
      "\n",
      "Player Vlad is currently as position 15 on the board, with $509.             \n",
      " They hold the following properties: ['The Strand', 'Piccadilly', 'Old Kent Road', 'Coventry Street'].            \n",
      " They hold the following stations: ['Fenchurch St. Station', 'Marylebone Station']            \n",
      " They hold the following utilities: ['Electric Company', 'Water Works']            \n",
      " The player has 0 houses and 0 hotels             \n",
      " The player is currently not in jail.\n",
      "\n",
      "\n",
      "-----------------------------------------------------------------------------------\n",
      "Player Cat is currently as position 2 on the board, with $221.0.             \n",
      " They hold the following properties: ['Whitechapel Road', 'Whitehall', 'Vine Street', 'Bow Street', 'Marlborough Street'].            \n",
      " They hold the following stations: [\"King's Cross Station\", 'Liverpool St. Station']            \n",
      " They hold the following utilities: []            \n",
      " The player has 11 houses and 0 hotels             \n",
      " The player is currently not in jail.\n",
      "\n",
      "\n",
      "Player Vlad is currently as position 15 on the board, with $509.             \n",
      " They hold the following properties: ['The Strand', 'Piccadilly', 'Old Kent Road', 'Coventry Street'].            \n",
      " They hold the following stations: ['Fenchurch St. Station', 'Marylebone Station']            \n",
      " They hold the following utilities: ['Electric Company', 'Water Works']            \n",
      " The player has 0 houses and 0 hotels             \n",
      " The player is currently not in jail.\n",
      "\n",
      "\n",
      "-----------------------------------------------------------------------------------\n",
      "Player Cat is currently as position 2 on the board, with $221.0.             \n",
      " They hold the following properties: ['Whitechapel Road', 'Whitehall', 'Vine Street', 'Bow Street', 'Marlborough Street'].            \n",
      " They hold the following stations: [\"King's Cross Station\", 'Liverpool St. Station']            \n",
      " They hold the following utilities: []            \n",
      " The player has 11 houses and 0 hotels             \n",
      " The player is currently not in jail.\n",
      "\n",
      "\n",
      "Player Vlad is currently as position 20 on the board, with $509.             \n",
      " They hold the following properties: ['The Strand', 'Piccadilly', 'Old Kent Road', 'Coventry Street'].            \n",
      " They hold the following stations: ['Fenchurch St. Station', 'Marylebone Station']            \n",
      " They hold the following utilities: ['Electric Company', 'Water Works']            \n",
      " The player has 0 houses and 0 hotels             \n",
      " The player is currently not in jail.\n",
      "\n",
      "\n",
      "-----------------------------------------------------------------------------------\n",
      "Player Cat is currently as position 22 on the board, with $21.0.             \n",
      " They hold the following properties: ['Whitechapel Road', 'Whitehall', 'Vine Street', 'Bow Street', 'Marlborough Street'].            \n",
      " They hold the following stations: [\"King's Cross Station\", 'Liverpool St. Station']            \n",
      " They hold the following utilities: []            \n",
      " The player has 13 houses and 0 hotels             \n",
      " The player is currently not in jail.\n",
      "\n",
      "\n",
      "Player Vlad is currently as position 20 on the board, with $459.             \n",
      " They hold the following properties: ['The Strand', 'Piccadilly', 'Old Kent Road', 'Coventry Street'].            \n",
      " They hold the following stations: ['Fenchurch St. Station', 'Marylebone Station']            \n",
      " They hold the following utilities: ['Electric Company', 'Water Works']            \n",
      " The player has 0 houses and 0 hotels             \n",
      " The player is currently not in jail.\n",
      "\n",
      "\n",
      "-----------------------------------------------------------------------------------\n",
      "Player Cat is currently as position 22 on the board, with $21.0.             \n",
      " They hold the following properties: ['Whitechapel Road', 'Whitehall', 'Vine Street', 'Bow Street', 'Marlborough Street'].            \n",
      " They hold the following stations: [\"King's Cross Station\", 'Liverpool St. Station']            \n",
      " They hold the following utilities: []            \n",
      " The player has 13 houses and 0 hotels             \n",
      " The player is currently not in jail.\n",
      "\n",
      "\n",
      "Player Vlad is currently as position 27 on the board, with $459.             \n",
      " They hold the following properties: ['The Strand', 'Piccadilly', 'Old Kent Road', 'Coventry Street'].            \n",
      " They hold the following stations: ['Fenchurch St. Station', 'Marylebone Station']            \n",
      " They hold the following utilities: ['Electric Company', 'Water Works']            \n",
      " The player has 0 houses and 0 hotels             \n",
      " The player is currently not in jail.\n",
      "\n",
      "\n",
      "-----------------------------------------------------------------------------------\n",
      "Player Cat is currently as position 29 on the board, with $47.0.             \n",
      " They hold the following properties: ['Whitechapel Road', 'Whitehall', 'Vine Street', 'Bow Street', 'Marlborough Street'].            \n",
      " They hold the following stations: [\"King's Cross Station\", 'Liverpool St. Station']            \n",
      " They hold the following utilities: []            \n",
      " The player has 13 houses and 0 hotels             \n",
      " The player is currently not in jail.\n",
      "\n",
      "\n",
      "Player Vlad is currently as position 27 on the board, with $459.             \n",
      " They hold the following properties: ['The Strand', 'Piccadilly', 'Old Kent Road', 'Coventry Street'].            \n",
      " They hold the following stations: ['Fenchurch St. Station', 'Marylebone Station']            \n",
      " They hold the following utilities: ['Electric Company', 'Water Works']            \n",
      " The player has 0 houses and 0 hotels             \n",
      " The player is currently not in jail.\n",
      "\n",
      "\n",
      "-----------------------------------------------------------------------------------\n",
      "Player Cat is currently as position 29 on the board, with $47.0.             \n",
      " They hold the following properties: ['Whitechapel Road', 'Whitehall', 'Vine Street', 'Bow Street', 'Marlborough Street'].            \n",
      " They hold the following stations: [\"King's Cross Station\", 'Liverpool St. Station']            \n",
      " They hold the following utilities: []            \n",
      " The player has 13 houses and 0 hotels             \n",
      " The player is currently not in jail.\n",
      "\n",
      "\n",
      "Player Vlad is currently as position 36 on the board, with $459.             \n",
      " They hold the following properties: ['The Strand', 'Piccadilly', 'Old Kent Road', 'Coventry Street'].            \n",
      " They hold the following stations: ['Fenchurch St. Station', 'Marylebone Station']            \n",
      " They hold the following utilities: ['Electric Company', 'Water Works']            \n",
      " The player has 0 houses and 0 hotels             \n",
      " The player is currently not in jail.\n",
      "\n",
      "\n",
      "-----------------------------------------------------------------------------------\n",
      "Player Cat is currently as position 8 on the board, with $47.0.             \n",
      " They hold the following properties: ['Whitechapel Road', 'Whitehall', 'Vine Street', 'Bow Street', 'Marlborough Street'].            \n",
      " They hold the following stations: [\"King's Cross Station\", 'Liverpool St. Station']            \n",
      " They hold the following utilities: []            \n",
      " The player has 15 houses and 0 hotels             \n",
      " The player is currently not in jail.\n",
      "\n",
      "\n",
      "Player Vlad is currently as position 36 on the board, with $459.             \n",
      " They hold the following properties: ['The Strand', 'Piccadilly', 'Old Kent Road', 'Coventry Street'].            \n",
      " They hold the following stations: ['Fenchurch St. Station', 'Marylebone Station']            \n",
      " They hold the following utilities: ['Electric Company', 'Water Works']            \n",
      " The player has 0 houses and 0 hotels             \n",
      " The player is currently not in jail.\n",
      "\n",
      "\n",
      "-----------------------------------------------------------------------------------\n",
      "Player Cat is currently as position 8 on the board, with $47.0.             \n",
      " They hold the following properties: ['Whitechapel Road', 'Whitehall', 'Vine Street', 'Bow Street', 'Marlborough Street'].            \n",
      " They hold the following stations: [\"King's Cross Station\", 'Liverpool St. Station']            \n",
      " They hold the following utilities: []            \n",
      " The player has 15 houses and 0 hotels             \n",
      " The player is currently not in jail.\n",
      "\n",
      "\n",
      "Player Vlad is currently as position 12 on the board, with $659.             \n",
      " They hold the following properties: ['The Strand', 'Piccadilly', 'Old Kent Road', 'Coventry Street'].            \n",
      " They hold the following stations: ['Fenchurch St. Station', 'Marylebone Station']            \n",
      " They hold the following utilities: ['Electric Company', 'Water Works']            \n",
      " The player has 0 houses and 0 hotels             \n",
      " The player is currently not in jail.\n",
      "\n",
      "\n",
      "-----------------------------------------------------------------------------------\n",
      "Player Cat is currently as position 15 on the board, with $47.0.             \n",
      " They hold the following properties: ['Whitechapel Road', 'Whitehall', 'Vine Street', 'Bow Street', 'Marlborough Street'].            \n",
      " They hold the following stations: [\"King's Cross Station\", 'Liverpool St. Station']            \n",
      " They hold the following utilities: []            \n",
      " The player has 15 houses and 0 hotels             \n",
      " The player is currently not in jail.\n",
      "\n",
      "\n",
      "Player Vlad is currently as position 12 on the board, with $659.             \n",
      " They hold the following properties: ['The Strand', 'Piccadilly', 'Old Kent Road', 'Coventry Street'].            \n",
      " They hold the following stations: ['Fenchurch St. Station', 'Marylebone Station']            \n",
      " They hold the following utilities: ['Electric Company', 'Water Works']            \n",
      " The player has 0 houses and 0 hotels             \n",
      " The player is currently not in jail.\n",
      "\n",
      "\n",
      "-----------------------------------------------------------------------------------\n",
      "Player Cat is currently as position 15 on the board, with $47.0.             \n",
      " They hold the following properties: ['Whitechapel Road', 'Whitehall', 'Vine Street', 'Bow Street', 'Marlborough Street'].            \n",
      " They hold the following stations: [\"King's Cross Station\", 'Liverpool St. Station']            \n",
      " They hold the following utilities: []            \n",
      " The player has 15 houses and 0 hotels             \n",
      " The player is currently not in jail.\n",
      "\n",
      "\n",
      "Player Vlad is currently as position 23 on the board, with $439.             \n",
      " They hold the following properties: ['The Strand', 'Piccadilly', 'Old Kent Road', 'Coventry Street', 'Fleet Street'].            \n",
      " They hold the following stations: ['Fenchurch St. Station', 'Marylebone Station']            \n",
      " They hold the following utilities: ['Electric Company', 'Water Works']            \n",
      " The player has 0 houses and 0 hotels             \n",
      " The player is currently not in jail.\n",
      "\n",
      "\n",
      "-----------------------------------------------------------------------------------\n",
      "Player Cat is currently as position 5 on the board, with $247.0.             \n",
      " They hold the following properties: ['Whitechapel Road', 'Whitehall', 'Vine Street', 'Bow Street', 'Marlborough Street'].            \n",
      " They hold the following stations: [\"King's Cross Station\", 'Liverpool St. Station']            \n",
      " They hold the following utilities: []            \n",
      " The player has 15 houses and 0 hotels             \n",
      " The player is currently not in jail.\n",
      "\n",
      "\n",
      "Player Vlad is currently as position 23 on the board, with $439.             \n",
      " They hold the following properties: ['The Strand', 'Piccadilly', 'Old Kent Road', 'Coventry Street', 'Fleet Street'].            \n",
      " They hold the following stations: ['Fenchurch St. Station', 'Marylebone Station']            \n",
      " They hold the following utilities: ['Electric Company', 'Water Works']            \n",
      " The player has 0 houses and 0 hotels             \n",
      " The player is currently not in jail.\n",
      "\n",
      "\n",
      "-----------------------------------------------------------------------------------\n",
      "Player Cat is currently as position 5 on the board, with $297.0.             \n",
      " They hold the following properties: ['Whitechapel Road', 'Whitehall', 'Vine Street', 'Bow Street', 'Marlborough Street'].            \n",
      " They hold the following stations: [\"King's Cross Station\", 'Liverpool St. Station']            \n",
      " They hold the following utilities: []            \n",
      " The player has 15 houses and 0 hotels             \n",
      " The player is currently not in jail.\n",
      "\n",
      "\n",
      "Player Vlad is currently as position 35 on the board, with $389.             \n",
      " They hold the following properties: ['The Strand', 'Piccadilly', 'Old Kent Road', 'Coventry Street', 'Fleet Street'].            \n",
      " They hold the following stations: ['Fenchurch St. Station', 'Marylebone Station']            \n",
      " They hold the following utilities: ['Electric Company', 'Water Works']            \n",
      " The player has 0 houses and 0 hotels             \n",
      " The player is currently not in jail.\n",
      "\n",
      "\n",
      "-----------------------------------------------------------------------------------\n",
      "Player Cat is currently as position 11 on the board, with $97.0.             \n",
      " They hold the following properties: ['Whitechapel Road', 'Whitehall', 'Vine Street', 'Bow Street', 'Marlborough Street'].            \n",
      " They hold the following stations: [\"King's Cross Station\", 'Liverpool St. Station']            \n",
      " They hold the following utilities: []            \n",
      " The player has 17 houses and 0 hotels             \n",
      " The player is currently not in jail.\n",
      "\n",
      "\n",
      "Player Vlad is currently as position 35 on the board, with $389.             \n",
      " They hold the following properties: ['The Strand', 'Piccadilly', 'Old Kent Road', 'Coventry Street', 'Fleet Street'].            \n",
      " They hold the following stations: ['Fenchurch St. Station', 'Marylebone Station']            \n",
      " They hold the following utilities: ['Electric Company', 'Water Works']            \n",
      " The player has 0 houses and 0 hotels             \n",
      " The player is currently not in jail.\n",
      "\n",
      "\n",
      "-----------------------------------------------------------------------------------\n",
      "Player Cat is currently as position 11 on the board, with $97.0.             \n",
      " They hold the following properties: ['Whitechapel Road', 'Whitehall', 'Vine Street', 'Bow Street', 'Marlborough Street'].            \n",
      " They hold the following stations: [\"King's Cross Station\", 'Liverpool St. Station']            \n",
      " They hold the following utilities: []            \n",
      " The player has 17 houses and 0 hotels             \n",
      " The player is currently not in jail.\n",
      "\n",
      "\n",
      "Player Vlad is currently as position 9 on the board, with $589.             \n",
      " They hold the following properties: ['The Strand', 'Piccadilly', 'Old Kent Road', 'Coventry Street', 'Fleet Street'].            \n",
      " They hold the following stations: ['Fenchurch St. Station', 'Marylebone Station']            \n",
      " They hold the following utilities: ['Electric Company', 'Water Works']            \n",
      " The player has 0 houses and 0 hotels             \n",
      " The player is currently not in jail.\n",
      "\n",
      "\n",
      "-----------------------------------------------------------------------------------\n",
      "Player Cat is currently as position 18 on the board, with $97.0.             \n",
      " They hold the following properties: ['Whitechapel Road', 'Whitehall', 'Vine Street', 'Bow Street', 'Marlborough Street'].            \n",
      " They hold the following stations: [\"King's Cross Station\", 'Liverpool St. Station']            \n",
      " They hold the following utilities: []            \n",
      " The player has 17 houses and 0 hotels             \n",
      " The player is currently not in jail.\n",
      "\n",
      "\n",
      "Player Vlad is currently as position 9 on the board, with $589.             \n",
      " They hold the following properties: ['The Strand', 'Piccadilly', 'Old Kent Road', 'Coventry Street', 'Fleet Street'].            \n",
      " They hold the following stations: ['Fenchurch St. Station', 'Marylebone Station']            \n",
      " They hold the following utilities: ['Electric Company', 'Water Works']            \n",
      " The player has 0 houses and 0 hotels             \n",
      " The player is currently not in jail.\n",
      "\n",
      "\n",
      "-----------------------------------------------------------------------------------\n",
      "Player Cat is currently as position 18 on the board, with $97.0.             \n",
      " They hold the following properties: ['Whitechapel Road', 'Whitehall', 'Vine Street', 'Bow Street', 'Marlborough Street'].            \n",
      " They hold the following stations: [\"King's Cross Station\", 'Liverpool St. Station']            \n",
      " They hold the following utilities: []            \n",
      " The player has 17 houses and 0 hotels             \n",
      " The player is currently not in jail.\n",
      "\n",
      "\n",
      "Player Vlad is currently as position 17 on the board, with $614.             \n",
      " They hold the following properties: ['The Strand', 'Piccadilly', 'Old Kent Road', 'Coventry Street', 'Fleet Street'].            \n",
      " They hold the following stations: ['Fenchurch St. Station', 'Marylebone Station']            \n",
      " They hold the following utilities: ['Electric Company', 'Water Works']            \n",
      " The player has 0 houses and 0 hotels             \n",
      " The player is currently not in jail.\n",
      "\n",
      "\n",
      "-----------------------------------------------------------------------------------\n",
      "Player Cat is currently as position 27 on the board, with $75.0.             \n",
      " They hold the following properties: ['Whitechapel Road', 'Whitehall', 'Vine Street', 'Bow Street', 'Marlborough Street'].            \n",
      " They hold the following stations: [\"King's Cross Station\", 'Liverpool St. Station']            \n",
      " They hold the following utilities: []            \n",
      " The player has 17 houses and 0 hotels             \n",
      " The player is currently not in jail.\n",
      "\n",
      "\n",
      "Player Vlad is currently as position 17 on the board, with $636.             \n",
      " They hold the following properties: ['The Strand', 'Piccadilly', 'Old Kent Road', 'Coventry Street', 'Fleet Street'].            \n",
      " They hold the following stations: ['Fenchurch St. Station', 'Marylebone Station']            \n",
      " They hold the following utilities: ['Electric Company', 'Water Works']            \n",
      " The player has 0 houses and 0 hotels             \n",
      " The player is currently not in jail.\n",
      "\n",
      "\n",
      "-----------------------------------------------------------------------------------\n",
      "Player Cat is currently as position 27 on the board, with $75.0.             \n",
      " They hold the following properties: ['Whitechapel Road', 'Whitehall', 'Vine Street', 'Bow Street', 'Marlborough Street'].            \n",
      " They hold the following stations: [\"King's Cross Station\", 'Liverpool St. Station']            \n",
      " They hold the following utilities: []            \n",
      " The player has 17 houses and 0 hotels             \n",
      " The player is currently not in jail.\n",
      "\n",
      "\n",
      "Player Vlad is currently as position 24 on the board, with $396.             \n",
      " They hold the following properties: ['The Strand', 'Piccadilly', 'Old Kent Road', 'Coventry Street', 'Fleet Street', 'Trafalgar Square'].            \n",
      " They hold the following stations: ['Fenchurch St. Station', 'Marylebone Station']            \n",
      " They hold the following utilities: ['Electric Company', 'Water Works']            \n",
      " The player has 0 houses and 0 hotels             \n",
      " The player is currently not in jail.\n",
      "\n",
      "\n",
      "-----------------------------------------------------------------------------------\n",
      "Player Cat is currently as position 4 on the board, with $139.5.             \n",
      " They hold the following properties: ['Whitechapel Road', 'Whitehall', 'Vine Street', 'Bow Street', 'Marlborough Street'].            \n",
      " They hold the following stations: [\"King's Cross Station\", 'Liverpool St. Station']            \n",
      " They hold the following utilities: []            \n",
      " The player has 17 houses and 0 hotels             \n",
      " The player is currently not in jail.\n",
      "\n",
      "\n",
      "Player Vlad is currently as position 24 on the board, with $396.             \n",
      " They hold the following properties: ['The Strand', 'Piccadilly', 'Old Kent Road', 'Coventry Street', 'Fleet Street', 'Trafalgar Square'].            \n",
      " They hold the following stations: ['Fenchurch St. Station', 'Marylebone Station']            \n",
      " They hold the following utilities: ['Electric Company', 'Water Works']            \n",
      " The player has 0 houses and 0 hotels             \n",
      " The player is currently not in jail.\n",
      "\n",
      "\n",
      "-----------------------------------------------------------------------------------\n",
      "Player Cat is currently as position 4 on the board, with $139.5.             \n",
      " They hold the following properties: ['Whitechapel Road', 'Whitehall', 'Vine Street', 'Bow Street', 'Marlborough Street'].            \n",
      " They hold the following stations: [\"King's Cross Station\", 'Liverpool St. Station']            \n",
      " They hold the following utilities: []            \n",
      " The player has 17 houses and 0 hotels             \n",
      " The player is currently not in jail.\n",
      "\n",
      "\n",
      "Player Vlad is currently as position 31 on the board, with $96.             \n",
      " They hold the following properties: ['The Strand', 'Piccadilly', 'Old Kent Road', 'Coventry Street', 'Fleet Street', 'Trafalgar Square'].            \n",
      " They hold the following stations: ['Fenchurch St. Station', 'Marylebone Station']            \n",
      " They hold the following utilities: ['Electric Company', 'Water Works']            \n",
      " The player has 2 houses and 0 hotels             \n",
      " The player is currently not in jail.\n",
      "\n",
      "\n",
      "-----------------------------------------------------------------------------------\n",
      "Player Cat is currently as position 23 on the board, with $49.5.             \n",
      " They hold the following properties: ['Whitechapel Road', 'Whitehall', 'Vine Street', 'Bow Street', 'Marlborough Street'].            \n",
      " They hold the following stations: [\"King's Cross Station\", 'Liverpool St. Station']            \n",
      " They hold the following utilities: []            \n",
      " The player has 18 houses and 0 hotels             \n",
      " The player is currently not in jail.\n",
      "\n",
      "\n",
      "Player Vlad is currently as position 31 on the board, with $96.             \n",
      " They hold the following properties: ['The Strand', 'Piccadilly', 'Old Kent Road', 'Coventry Street', 'Fleet Street', 'Trafalgar Square'].            \n",
      " They hold the following stations: ['Fenchurch St. Station', 'Marylebone Station']            \n",
      " They hold the following utilities: ['Electric Company', 'Water Works']            \n",
      " The player has 2 houses and 0 hotels             \n",
      " The player is currently not in jail.\n",
      "\n",
      "\n",
      "-----------------------------------------------------------------------------------\n",
      "Player Cat is currently as position 23 on the board, with $49.5.             \n",
      " They hold the following properties: ['Whitechapel Road', 'Whitehall', 'Vine Street', 'Bow Street', 'Marlborough Street'].            \n",
      " They hold the following stations: [\"King's Cross Station\", 'Liverpool St. Station']            \n",
      " They hold the following utilities: []            \n",
      " The player has 18 houses and 0 hotels             \n",
      " The player is currently not in jail.\n",
      "\n",
      "\n",
      "Player Vlad is currently as position 0 on the board, with $296.             \n",
      " They hold the following properties: ['The Strand', 'Piccadilly', 'Old Kent Road', 'Coventry Street', 'Fleet Street', 'Trafalgar Square'].            \n",
      " They hold the following stations: ['Fenchurch St. Station', 'Marylebone Station']            \n",
      " They hold the following utilities: ['Electric Company', 'Water Works']            \n",
      " The player has 2 houses and 0 hotels             \n",
      " The player is currently not in jail.\n",
      "\n",
      "\n",
      "-----------------------------------------------------------------------------------\n",
      "Player Cat is currently as position 26 on the board, with $49.5.             \n",
      " They hold the following properties: ['Whitechapel Road', 'Whitehall', 'Vine Street', 'Bow Street', 'Marlborough Street'].            \n",
      " They hold the following stations: [\"King's Cross Station\", 'Liverpool St. Station']            \n",
      " They hold the following utilities: []            \n",
      " The player has 18 houses and 0 hotels             \n",
      " The player is currently not in jail.\n",
      "\n",
      "\n",
      "Player Vlad is currently as position 0 on the board, with $296.             \n",
      " They hold the following properties: ['The Strand', 'Piccadilly', 'Old Kent Road', 'Coventry Street', 'Fleet Street', 'Trafalgar Square'].            \n",
      " They hold the following stations: ['Fenchurch St. Station', 'Marylebone Station']            \n",
      " They hold the following utilities: ['Electric Company', 'Water Works']            \n",
      " The player has 2 houses and 0 hotels             \n",
      " The player is currently not in jail.\n",
      "\n",
      "\n",
      "-----------------------------------------------------------------------------------\n",
      "Player Cat is currently as position 26 on the board, with $49.5.             \n",
      " They hold the following properties: ['Whitechapel Road', 'Whitehall', 'Vine Street', 'Bow Street', 'Marlborough Street'].            \n",
      " They hold the following stations: [\"King's Cross Station\", 'Liverpool St. Station']            \n",
      " They hold the following utilities: []            \n",
      " The player has 18 houses and 0 hotels             \n",
      " The player is currently not in jail.\n",
      "\n",
      "\n",
      "Player Vlad is currently as position 3 on the board, with $146.             \n",
      " They hold the following properties: ['The Strand', 'Piccadilly', 'Old Kent Road', 'Coventry Street', 'Fleet Street', 'Trafalgar Square'].            \n",
      " They hold the following stations: ['Fenchurch St. Station', 'Marylebone Station']            \n",
      " They hold the following utilities: ['Electric Company', 'Water Works']            \n",
      " The player has 3 houses and 0 hotels             \n",
      " The player is currently not in jail.\n",
      "\n",
      "\n",
      "-----------------------------------------------------------------------------------\n",
      "Player Cat is currently as position 10 on the board, with $-150.5.             \n",
      " They hold the following properties: ['Whitechapel Road', 'Whitehall', 'Vine Street', 'Bow Street', 'Marlborough Street'].            \n",
      " They hold the following stations: [\"King's Cross Station\", 'Liverpool St. Station']            \n",
      " They hold the following utilities: []            \n",
      " The player has 18 houses and 0 hotels             \n",
      " The player is currently in jail.\n",
      "\n",
      "\n",
      "Player Vlad is currently as position 3 on the board, with $146.             \n",
      " They hold the following properties: ['The Strand', 'Piccadilly', 'Old Kent Road', 'Coventry Street', 'Fleet Street', 'Trafalgar Square'].            \n",
      " They hold the following stations: ['Fenchurch St. Station', 'Marylebone Station']            \n",
      " They hold the following utilities: ['Electric Company', 'Water Works']            \n",
      " The player has 3 houses and 0 hotels             \n",
      " The player is currently not in jail.\n",
      "\n",
      "\n",
      "-----------------------------------------------------------------------------------\n",
      "Player Cat is currently as position 10 on the board, with $-150.5.             \n",
      " They hold the following properties: ['Whitechapel Road', 'Whitehall', 'Vine Street', 'Bow Street', 'Marlborough Street'].            \n",
      " They hold the following stations: [\"King's Cross Station\", 'Liverpool St. Station']            \n",
      " They hold the following utilities: []            \n",
      " The player has 18 houses and 0 hotels             \n",
      " The player is currently in jail.\n",
      "\n",
      "\n",
      "Player Vlad is currently as position 20 on the board, with $146.             \n",
      " They hold the following properties: ['The Strand', 'Piccadilly', 'Old Kent Road', 'Coventry Street', 'Fleet Street', 'Trafalgar Square'].            \n",
      " They hold the following stations: ['Fenchurch St. Station', 'Marylebone Station']            \n",
      " They hold the following utilities: ['Electric Company', 'Water Works']            \n",
      " The player has 3 houses and 0 hotels             \n",
      " The player is currently not in jail.\n",
      "\n",
      "\n",
      "-----------------------------------------------------------------------------------\n",
      "Player Cat is currently as position 10 on the board, with $-150.5.             \n",
      " They hold the following properties: ['Whitechapel Road', 'Whitehall', 'Vine Street', 'Bow Street', 'Marlborough Street'].            \n",
      " They hold the following stations: [\"King's Cross Station\", 'Liverpool St. Station']            \n",
      " They hold the following utilities: []            \n",
      " The player has 18 houses and 0 hotels             \n",
      " The player is currently in jail.\n",
      "\n",
      "\n",
      "Player Vlad is currently as position 20 on the board, with $146.             \n",
      " They hold the following properties: ['The Strand', 'Piccadilly', 'Old Kent Road', 'Coventry Street', 'Fleet Street', 'Trafalgar Square'].            \n",
      " They hold the following stations: ['Fenchurch St. Station', 'Marylebone Station']            \n",
      " They hold the following utilities: ['Electric Company', 'Water Works']            \n",
      " The player has 3 houses and 0 hotels             \n",
      " The player is currently not in jail.\n",
      "\n",
      "\n",
      "-----------------------------------------------------------------------------------\n",
      "Player Cat is currently as position 10 on the board, with $-150.5.             \n",
      " They hold the following properties: ['Whitechapel Road', 'Whitehall', 'Vine Street', 'Bow Street', 'Marlborough Street'].            \n",
      " They hold the following stations: [\"King's Cross Station\", 'Liverpool St. Station']            \n",
      " They hold the following utilities: []            \n",
      " The player has 18 houses and 0 hotels             \n",
      " The player is currently in jail.\n",
      "\n",
      "\n",
      "Player Vlad is currently as position 27 on the board, with $146.             \n",
      " They hold the following properties: ['The Strand', 'Piccadilly', 'Old Kent Road', 'Coventry Street', 'Fleet Street', 'Trafalgar Square'].            \n",
      " They hold the following stations: ['Fenchurch St. Station', 'Marylebone Station']            \n",
      " They hold the following utilities: ['Electric Company', 'Water Works']            \n",
      " The player has 3 houses and 0 hotels             \n",
      " The player is currently not in jail.\n",
      "\n",
      "\n",
      "-----------------------------------------------------------------------------------\n",
      "Player Cat is currently as position 10 on the board, with $-150.5.             \n",
      " They hold the following properties: ['Whitechapel Road', 'Whitehall', 'Vine Street', 'Bow Street', 'Marlborough Street'].            \n",
      " They hold the following stations: [\"King's Cross Station\", 'Liverpool St. Station']            \n",
      " They hold the following utilities: []            \n",
      " The player has 18 houses and 0 hotels             \n",
      " The player is currently in jail.\n",
      "\n",
      "\n",
      "Player Vlad is currently as position 27 on the board, with $146.             \n",
      " They hold the following properties: ['The Strand', 'Piccadilly', 'Old Kent Road', 'Coventry Street', 'Fleet Street', 'Trafalgar Square'].            \n",
      " They hold the following stations: ['Fenchurch St. Station', 'Marylebone Station']            \n",
      " They hold the following utilities: ['Electric Company', 'Water Works']            \n",
      " The player has 3 houses and 0 hotels             \n",
      " The player is currently not in jail.\n",
      "\n",
      "\n",
      "-----------------------------------------------------------------------------------\n",
      "Player Cat is currently as position 10 on the board, with $-150.5.             \n",
      " They hold the following properties: ['Whitechapel Road', 'Whitehall', 'Vine Street', 'Bow Street', 'Marlborough Street'].            \n",
      " They hold the following stations: [\"King's Cross Station\", 'Liverpool St. Station']            \n",
      " They hold the following utilities: []            \n",
      " The player has 18 houses and 0 hotels             \n",
      " The player is currently in jail.\n",
      "\n",
      "\n",
      "Player Vlad is currently as position 10 on the board, with $-54.             \n",
      " They hold the following properties: ['The Strand', 'Piccadilly', 'Old Kent Road', 'Coventry Street', 'Fleet Street', 'Trafalgar Square'].            \n",
      " They hold the following stations: ['Fenchurch St. Station', 'Marylebone Station']            \n",
      " They hold the following utilities: ['Electric Company', 'Water Works']            \n",
      " The player has 3 houses and 0 hotels             \n",
      " The player is currently in jail.\n",
      "\n",
      "\n",
      "-----------------------------------------------------------------------------------\n",
      "Player Cat is currently as position 14 on the board, with $49.5.             \n",
      " They hold the following properties: ['Whitechapel Road', 'Whitehall', 'Vine Street', 'Bow Street', 'Marlborough Street'].            \n",
      " They hold the following stations: [\"King's Cross Station\", 'Liverpool St. Station']            \n",
      " They hold the following utilities: []            \n",
      " The player has 18 houses and 0 hotels             \n",
      " The player is currently not in jail.\n",
      "\n",
      "\n",
      "Player Vlad is currently as position 10 on the board, with $-54.             \n",
      " They hold the following properties: ['The Strand', 'Piccadilly', 'Old Kent Road', 'Coventry Street', 'Fleet Street', 'Trafalgar Square'].            \n",
      " They hold the following stations: ['Fenchurch St. Station', 'Marylebone Station']            \n",
      " They hold the following utilities: ['Electric Company', 'Water Works']            \n",
      " The player has 3 houses and 0 hotels             \n",
      " The player is currently in jail.\n",
      "\n",
      "\n",
      "-----------------------------------------------------------------------------------\n",
      "Player Cat is currently as position 14 on the board, with $49.5.             \n",
      " They hold the following properties: ['Whitechapel Road', 'Whitehall', 'Vine Street', 'Bow Street', 'Marlborough Street'].            \n",
      " They hold the following stations: [\"King's Cross Station\", 'Liverpool St. Station']            \n",
      " They hold the following utilities: []            \n",
      " The player has 18 houses and 0 hotels             \n",
      " The player is currently not in jail.\n",
      "\n",
      "\n",
      "Player Vlad is currently as position 16 on the board, with $21.0.             \n",
      " They hold the following properties: ['The Strand', 'Piccadilly', 'Old Kent Road', 'Coventry Street', 'Fleet Street', 'Trafalgar Square'].            \n",
      " They hold the following stations: ['Fenchurch St. Station', 'Marylebone Station']            \n",
      " They hold the following utilities: ['Electric Company', 'Water Works']            \n",
      " The player has 3 houses and 0 hotels             \n",
      " The player is currently not in jail.\n",
      "\n",
      "\n",
      "-----------------------------------------------------------------------------------\n"
     ]
    }
   ],
   "source": [
    "while player1.bankrupt == False and player2.bankrupt == False:\n",
    "    for player in board.players:\n",
    "        board.take_turn(player)\n",
    "\n",
    "        for player in board.players:\n",
    "            print(player)\n",
    "            print('\\n')\n",
    "\n",
    "        print('-----------------------------------------------------------------------------------')\n",
    "\n",
    "#print(f'{player1.name if player1.bankrupt else player2.name} is bankrupt')"
   ]
  },
  {
   "cell_type": "code",
   "execution_count": 131,
   "metadata": {},
   "outputs": [],
   "source": [
    "board = MonopolyBoard()\n",
    "player1 = Player('Cat')\n",
    "player2 = Player('Vlad')\n",
    "\n",
    "board.add_player(player1)\n",
    "board.add_player(player2)"
   ]
  },
  {
   "cell_type": "code",
   "execution_count": 132,
   "metadata": {},
   "outputs": [],
   "source": [
    "board.take_turn(player1)"
   ]
  },
  {
   "cell_type": "code",
   "execution_count": 133,
   "metadata": {},
   "outputs": [
    {
     "name": "stdout",
     "output_type": "stream",
     "text": [
      "Player Cat is currently as position 9 on the board, with $1380.             \n",
      " They hold the following properties: ['Pentonville Road'].            \n",
      " They hold the following stations: []            \n",
      " They hold the following utilities: []            \n",
      " The player has 0 houses and 0 hotels             \n",
      " The player is currently not in jail.\n",
      "\n",
      "\n",
      "Player Vlad is currently as position 0 on the board, with $1500.             \n",
      " They hold the following properties: [].            \n",
      " They hold the following stations: []            \n",
      " They hold the following utilities: []            \n",
      " The player has 0 houses and 0 hotels             \n",
      " The player is currently not in jail.\n",
      "\n",
      "\n"
     ]
    }
   ],
   "source": [
    "for player in board.players:\n",
    "    print(player)\n",
    "    print('\\n')"
   ]
  },
  {
   "cell_type": "code",
   "execution_count": 134,
   "metadata": {},
   "outputs": [],
   "source": [
    "board.take_turn(player2)"
   ]
  },
  {
   "cell_type": "code",
   "execution_count": 135,
   "metadata": {},
   "outputs": [
    {
     "name": "stdout",
     "output_type": "stream",
     "text": [
      "Player Cat is currently as position 9 on the board, with $1380.             \n",
      " They hold the following properties: ['Pentonville Road'].            \n",
      " They hold the following stations: []            \n",
      " They hold the following utilities: []            \n",
      " The player has 0 houses and 0 hotels             \n",
      " The player is currently not in jail.\n",
      "\n",
      "\n",
      "Player Vlad is currently as position 6 on the board, with $1400.             \n",
      " They hold the following properties: ['The Angel Islington'].            \n",
      " They hold the following stations: []            \n",
      " They hold the following utilities: []            \n",
      " The player has 0 houses and 0 hotels             \n",
      " The player is currently not in jail.\n",
      "\n",
      "\n"
     ]
    }
   ],
   "source": [
    "for player in board.players:\n",
    "    print(player)\n",
    "    print('\\n')"
   ]
  },
  {
   "cell_type": "code",
   "execution_count": 136,
   "metadata": {},
   "outputs": [],
   "source": [
    "board.take_turn(player1)"
   ]
  },
  {
   "cell_type": "code",
   "execution_count": 137,
   "metadata": {},
   "outputs": [
    {
     "name": "stdout",
     "output_type": "stream",
     "text": [
      "Player Cat is currently as position 14 on the board, with $1220.             \n",
      " They hold the following properties: ['Pentonville Road', 'Northumberland Avenue'].            \n",
      " They hold the following stations: []            \n",
      " They hold the following utilities: []            \n",
      " The player has 0 houses and 0 hotels             \n",
      " The player is currently not in jail.\n",
      "\n",
      "\n",
      "Player Vlad is currently as position 6 on the board, with $1400.             \n",
      " They hold the following properties: ['The Angel Islington'].            \n",
      " They hold the following stations: []            \n",
      " They hold the following utilities: []            \n",
      " The player has 0 houses and 0 hotels             \n",
      " The player is currently not in jail.\n",
      "\n",
      "\n"
     ]
    }
   ],
   "source": [
    "for player in board.players:\n",
    "    print(player)\n",
    "    print('\\n')"
   ]
  },
  {
   "cell_type": "code",
   "execution_count": 138,
   "metadata": {},
   "outputs": [],
   "source": [
    "board.take_turn(player2)"
   ]
  },
  {
   "cell_type": "code",
   "execution_count": 139,
   "metadata": {},
   "outputs": [
    {
     "name": "stdout",
     "output_type": "stream",
     "text": [
      "Player Cat is currently as position 14 on the board, with $1220.             \n",
      " They hold the following properties: ['Pentonville Road', 'Northumberland Avenue'].            \n",
      " They hold the following stations: []            \n",
      " They hold the following utilities: []            \n",
      " The player has 0 houses and 0 hotels             \n",
      " The player is currently not in jail.\n",
      "\n",
      "\n",
      "Player Vlad is currently as position 12 on the board, with $1250.             \n",
      " They hold the following properties: ['The Angel Islington'].            \n",
      " They hold the following stations: []            \n",
      " They hold the following utilities: ['Electric Company']            \n",
      " The player has 0 houses and 0 hotels             \n",
      " The player is currently not in jail.\n",
      "\n",
      "\n"
     ]
    }
   ],
   "source": [
    "for player in board.players:\n",
    "    print(player)\n",
    "    print('\\n')"
   ]
  },
  {
   "cell_type": "markdown",
   "metadata": {},
   "source": [
    "### Tests for buying houses/hotels"
   ]
  },
  {
   "cell_type": "code",
   "execution_count": 140,
   "metadata": {},
   "outputs": [],
   "source": [
    "board = MonopolyBoard()\n",
    "player1 = Player('Cat')\n",
    "player2 = Player('Vlad')\n",
    "\n",
    "board.add_player(player1)\n",
    "board.add_player(player2)\n",
    "\n",
    "player1.money = 5000\n",
    "player2.money = 5000"
   ]
  },
  {
   "cell_type": "code",
   "execution_count": 141,
   "metadata": {},
   "outputs": [
    {
     "name": "stdout",
     "output_type": "stream",
     "text": [
      "Player Cat is currently as position 9 on the board, with $4680.             \n",
      " They hold the following properties: ['Pentonville Road'].            \n",
      " They hold the following stations: []            \n",
      " They hold the following utilities: []            \n",
      " The player has 0 houses and 0 hotels             \n",
      " The player is currently not in jail.\n",
      "\n",
      "\n",
      "Player Vlad is currently as position 0 on the board, with $5000.             \n",
      " They hold the following properties: [].            \n",
      " They hold the following stations: []            \n",
      " They hold the following utilities: []            \n",
      " The player has 0 houses and 0 hotels             \n",
      " The player is currently not in jail.\n",
      "\n",
      "\n",
      "-----------------------------------------------------------------------------------\n",
      "Player Cat is currently as position 9 on the board, with $4680.             \n",
      " They hold the following properties: ['Pentonville Road'].            \n",
      " They hold the following stations: []            \n",
      " They hold the following utilities: []            \n",
      " The player has 0 houses and 0 hotels             \n",
      " The player is currently not in jail.\n",
      "\n",
      "\n",
      "Player Vlad is currently as position 6 on the board, with $4900.             \n",
      " They hold the following properties: ['The Angel Islington'].            \n",
      " They hold the following stations: []            \n",
      " They hold the following utilities: []            \n",
      " The player has 0 houses and 0 hotels             \n",
      " The player is currently not in jail.\n",
      "\n",
      "\n",
      "-----------------------------------------------------------------------------------\n",
      "Player Cat is currently as position 20 on the board, with $4680.             \n",
      " They hold the following properties: ['Pentonville Road'].            \n",
      " They hold the following stations: []            \n",
      " They hold the following utilities: []            \n",
      " The player has 0 houses and 0 hotels             \n",
      " The player is currently not in jail.\n",
      "\n",
      "\n",
      "Player Vlad is currently as position 6 on the board, with $4900.             \n",
      " They hold the following properties: ['The Angel Islington'].            \n",
      " They hold the following stations: []            \n",
      " They hold the following utilities: []            \n",
      " The player has 0 houses and 0 hotels             \n",
      " The player is currently not in jail.\n",
      "\n",
      "\n",
      "-----------------------------------------------------------------------------------\n",
      "Player Cat is currently as position 20 on the board, with $4680.             \n",
      " They hold the following properties: ['Pentonville Road'].            \n",
      " They hold the following stations: []            \n",
      " They hold the following utilities: []            \n",
      " The player has 0 houses and 0 hotels             \n",
      " The player is currently not in jail.\n",
      "\n",
      "\n",
      "Player Vlad is currently as position 13 on the board, with $4760.             \n",
      " They hold the following properties: ['The Angel Islington', 'Whitehall'].            \n",
      " They hold the following stations: []            \n",
      " They hold the following utilities: []            \n",
      " The player has 0 houses and 0 hotels             \n",
      " The player is currently not in jail.\n",
      "\n",
      "\n",
      "-----------------------------------------------------------------------------------\n",
      "Player Cat is currently as position 24 on the board, with $4440.             \n",
      " They hold the following properties: ['Pentonville Road', 'Trafalgar Square'].            \n",
      " They hold the following stations: []            \n",
      " They hold the following utilities: []            \n",
      " The player has 0 houses and 0 hotels             \n",
      " The player is currently not in jail.\n",
      "\n",
      "\n",
      "Player Vlad is currently as position 13 on the board, with $4760.             \n",
      " They hold the following properties: ['The Angel Islington', 'Whitehall'].            \n",
      " They hold the following stations: []            \n",
      " They hold the following utilities: []            \n",
      " The player has 0 houses and 0 hotels             \n",
      " The player is currently not in jail.\n",
      "\n",
      "\n",
      "-----------------------------------------------------------------------------------\n",
      "Player Cat is currently as position 24 on the board, with $4440.             \n",
      " They hold the following properties: ['Pentonville Road', 'Trafalgar Square'].            \n",
      " They hold the following stations: []            \n",
      " They hold the following utilities: []            \n",
      " The player has 0 houses and 0 hotels             \n",
      " The player is currently not in jail.\n",
      "\n",
      "\n",
      "Player Vlad is currently as position 19 on the board, with $4560.             \n",
      " They hold the following properties: ['The Angel Islington', 'Whitehall', 'Vine Street'].            \n",
      " They hold the following stations: []            \n",
      " They hold the following utilities: []            \n",
      " The player has 0 houses and 0 hotels             \n",
      " The player is currently not in jail.\n",
      "\n",
      "\n",
      "-----------------------------------------------------------------------------------\n",
      "Player Cat is currently as position 33 on the board, with $4540.             \n",
      " They hold the following properties: ['Pentonville Road', 'Trafalgar Square'].            \n",
      " They hold the following stations: []            \n",
      " They hold the following utilities: []            \n",
      " The player has 0 houses and 0 hotels             \n",
      " The player is currently not in jail.\n",
      "\n",
      "\n",
      "Player Vlad is currently as position 19 on the board, with $4560.             \n",
      " They hold the following properties: ['The Angel Islington', 'Whitehall', 'Vine Street'].            \n",
      " They hold the following stations: []            \n",
      " They hold the following utilities: []            \n",
      " The player has 0 houses and 0 hotels             \n",
      " The player is currently not in jail.\n",
      "\n",
      "\n",
      "-----------------------------------------------------------------------------------\n",
      "Player Cat is currently as position 33 on the board, with $4540.             \n",
      " They hold the following properties: ['Pentonville Road', 'Trafalgar Square'].            \n",
      " They hold the following stations: []            \n",
      " They hold the following utilities: []            \n",
      " The player has 0 houses and 0 hotels             \n",
      " The player is currently not in jail.\n",
      "\n",
      "\n",
      "Player Vlad is currently as position 26 on the board, with $4560.             \n",
      " They hold the following properties: ['The Angel Islington', 'Whitehall', 'Vine Street'].            \n",
      " They hold the following stations: []            \n",
      " They hold the following utilities: []            \n",
      " The player has 0 houses and 0 hotels             \n",
      " The player is currently not in jail.\n",
      "\n",
      "\n",
      "-----------------------------------------------------------------------------------\n",
      "Player Cat is currently as position 39 on the board, with $4140.             \n",
      " They hold the following properties: ['Pentonville Road', 'Trafalgar Square', 'Mayfair'].            \n",
      " They hold the following stations: []            \n",
      " They hold the following utilities: []            \n",
      " The player has 0 houses and 0 hotels             \n",
      " The player is currently not in jail.\n",
      "\n",
      "\n",
      "Player Vlad is currently as position 26 on the board, with $4560.             \n",
      " They hold the following properties: ['The Angel Islington', 'Whitehall', 'Vine Street'].            \n",
      " They hold the following stations: []            \n",
      " They hold the following utilities: []            \n",
      " The player has 0 houses and 0 hotels             \n",
      " The player is currently not in jail.\n",
      "\n",
      "\n",
      "-----------------------------------------------------------------------------------\n",
      "Player Cat is currently as position 39 on the board, with $4140.             \n",
      " They hold the following properties: ['Pentonville Road', 'Trafalgar Square', 'Mayfair'].            \n",
      " They hold the following stations: []            \n",
      " They hold the following utilities: []            \n",
      " The player has 0 houses and 0 hotels             \n",
      " The player is currently not in jail.\n",
      "\n",
      "\n",
      "Player Vlad is currently as position 29 on the board, with $4560.             \n",
      " They hold the following properties: ['The Angel Islington', 'Whitehall', 'Vine Street'].            \n",
      " They hold the following stations: []            \n",
      " They hold the following utilities: []            \n",
      " The player has 0 houses and 0 hotels             \n",
      " The player is currently not in jail.\n",
      "\n",
      "\n",
      "-----------------------------------------------------------------------------------\n",
      "Player Cat is currently as position 5 on the board, with $4140.             \n",
      " They hold the following properties: ['Pentonville Road', 'Trafalgar Square', 'Mayfair'].            \n",
      " They hold the following stations: [\"King's Cross Station\"]            \n",
      " They hold the following utilities: []            \n",
      " The player has 0 houses and 0 hotels             \n",
      " The player is currently not in jail.\n",
      "\n",
      "\n",
      "Player Vlad is currently as position 29 on the board, with $4560.             \n",
      " They hold the following properties: ['The Angel Islington', 'Whitehall', 'Vine Street'].            \n",
      " They hold the following stations: []            \n",
      " They hold the following utilities: []            \n",
      " The player has 0 houses and 0 hotels             \n",
      " The player is currently not in jail.\n",
      "\n",
      "\n",
      "-----------------------------------------------------------------------------------\n",
      "Player Cat is currently as position 5 on the board, with $4140.             \n",
      " They hold the following properties: ['Pentonville Road', 'Trafalgar Square', 'Mayfair'].            \n",
      " They hold the following stations: [\"King's Cross Station\"]            \n",
      " They hold the following utilities: []            \n",
      " The player has 0 houses and 0 hotels             \n",
      " The player is currently not in jail.\n",
      "\n",
      "\n",
      "Player Vlad is currently as position 33 on the board, with $4760.             \n",
      " They hold the following properties: ['The Angel Islington', 'Whitehall', 'Vine Street'].            \n",
      " They hold the following stations: []            \n",
      " They hold the following utilities: []            \n",
      " The player has 0 houses and 0 hotels             \n",
      " The player is currently not in jail.\n",
      "\n",
      "\n",
      "-----------------------------------------------------------------------------------\n",
      "Player Cat is currently as position 11 on the board, with $4140.             \n",
      " They hold the following properties: ['Pentonville Road', 'Trafalgar Square', 'Mayfair'].            \n",
      " They hold the following stations: [\"King's Cross Station\"]            \n",
      " They hold the following utilities: []            \n",
      " The player has 0 houses and 0 hotels             \n",
      " The player is currently not in jail.\n",
      "\n",
      "\n",
      "Player Vlad is currently as position 33 on the board, with $4760.             \n",
      " They hold the following properties: ['The Angel Islington', 'Whitehall', 'Vine Street'].            \n",
      " They hold the following stations: []            \n",
      " They hold the following utilities: []            \n",
      " The player has 0 houses and 0 hotels             \n",
      " The player is currently not in jail.\n",
      "\n",
      "\n",
      "-----------------------------------------------------------------------------------\n",
      "Player Cat is currently as position 11 on the board, with $4190.             \n",
      " They hold the following properties: ['Pentonville Road', 'Trafalgar Square', 'Mayfair'].            \n",
      " They hold the following stations: [\"King's Cross Station\"]            \n",
      " They hold the following utilities: []            \n",
      " The player has 0 houses and 0 hotels             \n",
      " The player is currently not in jail.\n",
      "\n",
      "\n",
      "Player Vlad is currently as position 39 on the board, with $4710.             \n",
      " They hold the following properties: ['The Angel Islington', 'Whitehall', 'Vine Street'].            \n",
      " They hold the following stations: []            \n",
      " They hold the following utilities: []            \n",
      " The player has 0 houses and 0 hotels             \n",
      " The player is currently not in jail.\n",
      "\n",
      "\n",
      "-----------------------------------------------------------------------------------\n",
      "Player Cat is currently as position 18 on the board, with $4190.             \n",
      " They hold the following properties: ['Pentonville Road', 'Trafalgar Square', 'Mayfair'].            \n",
      " They hold the following stations: [\"King's Cross Station\"]            \n",
      " They hold the following utilities: []            \n",
      " The player has 0 houses and 0 hotels             \n",
      " The player is currently not in jail.\n",
      "\n",
      "\n",
      "Player Vlad is currently as position 39 on the board, with $4710.             \n",
      " They hold the following properties: ['The Angel Islington', 'Whitehall', 'Vine Street'].            \n",
      " They hold the following stations: []            \n",
      " They hold the following utilities: []            \n",
      " The player has 0 houses and 0 hotels             \n",
      " The player is currently not in jail.\n",
      "\n",
      "\n",
      "-----------------------------------------------------------------------------------\n",
      "Player Cat is currently as position 18 on the board, with $4215.             \n",
      " They hold the following properties: ['Pentonville Road', 'Trafalgar Square', 'Mayfair'].            \n",
      " They hold the following stations: [\"King's Cross Station\"]            \n",
      " They hold the following utilities: []            \n",
      " The player has 0 houses and 0 hotels             \n",
      " The player is currently not in jail.\n",
      "\n",
      "\n",
      "Player Vlad is currently as position 5 on the board, with $4885.             \n",
      " They hold the following properties: ['The Angel Islington', 'Whitehall', 'Vine Street'].            \n",
      " They hold the following stations: []            \n",
      " They hold the following utilities: []            \n",
      " The player has 0 houses and 0 hotels             \n",
      " The player is currently not in jail.\n",
      "\n",
      "\n",
      "-----------------------------------------------------------------------------------\n",
      "Player Cat is currently as position 24 on the board, with $4215.             \n",
      " They hold the following properties: ['Pentonville Road', 'Trafalgar Square', 'Mayfair'].            \n",
      " They hold the following stations: [\"King's Cross Station\"]            \n",
      " They hold the following utilities: []            \n",
      " The player has 0 houses and 0 hotels             \n",
      " The player is currently not in jail.\n",
      "\n",
      "\n",
      "Player Vlad is currently as position 5 on the board, with $4885.             \n",
      " They hold the following properties: ['The Angel Islington', 'Whitehall', 'Vine Street'].            \n",
      " They hold the following stations: []            \n",
      " They hold the following utilities: []            \n",
      " The player has 0 houses and 0 hotels             \n",
      " The player is currently not in jail.\n",
      "\n",
      "\n",
      "-----------------------------------------------------------------------------------\n",
      "Player Cat is currently as position 24 on the board, with $4215.             \n",
      " They hold the following properties: ['Pentonville Road', 'Trafalgar Square', 'Mayfair'].            \n",
      " They hold the following stations: [\"King's Cross Station\"]            \n",
      " They hold the following utilities: []            \n",
      " The player has 0 houses and 0 hotels             \n",
      " The player is currently not in jail.\n",
      "\n",
      "\n",
      "Player Vlad is currently as position 15 on the board, with $4685.             \n",
      " They hold the following properties: ['The Angel Islington', 'Whitehall', 'Vine Street'].            \n",
      " They hold the following stations: ['Marylebone Station']            \n",
      " They hold the following utilities: []            \n",
      " The player has 0 houses and 0 hotels             \n",
      " The player is currently not in jail.\n",
      "\n",
      "\n",
      "-----------------------------------------------------------------------------------\n",
      "Player Cat is currently as position 2 on the board, with $4435.             \n",
      " They hold the following properties: ['Pentonville Road', 'Trafalgar Square', 'Mayfair'].            \n",
      " They hold the following stations: [\"King's Cross Station\"]            \n",
      " They hold the following utilities: []            \n",
      " The player has 0 houses and 0 hotels             \n",
      " The player is currently not in jail.\n",
      "\n",
      "\n",
      "Player Vlad is currently as position 15 on the board, with $4685.             \n",
      " They hold the following properties: ['The Angel Islington', 'Whitehall', 'Vine Street'].            \n",
      " They hold the following stations: ['Marylebone Station']            \n",
      " They hold the following utilities: []            \n",
      " The player has 0 houses and 0 hotels             \n",
      " The player is currently not in jail.\n",
      "\n",
      "\n",
      "-----------------------------------------------------------------------------------\n",
      "Player Cat is currently as position 2 on the board, with $4435.             \n",
      " They hold the following properties: ['Pentonville Road', 'Trafalgar Square', 'Mayfair'].            \n",
      " They hold the following stations: [\"King's Cross Station\"]            \n",
      " They hold the following utilities: []            \n",
      " The player has 0 houses and 0 hotels             \n",
      " The player is currently not in jail.\n",
      "\n",
      "\n",
      "Player Vlad is currently as position 20 on the board, with $4685.             \n",
      " They hold the following properties: ['The Angel Islington', 'Whitehall', 'Vine Street'].            \n",
      " They hold the following stations: ['Marylebone Station']            \n",
      " They hold the following utilities: []            \n",
      " The player has 0 houses and 0 hotels             \n",
      " The player is currently not in jail.\n",
      "\n",
      "\n",
      "-----------------------------------------------------------------------------------\n",
      "Player Cat is currently as position 19 on the board, with $4419.             \n",
      " They hold the following properties: ['Pentonville Road', 'Trafalgar Square', 'Mayfair'].            \n",
      " They hold the following stations: [\"King's Cross Station\"]            \n",
      " They hold the following utilities: []            \n",
      " The player has 0 houses and 0 hotels             \n",
      " The player is currently not in jail.\n",
      "\n",
      "\n",
      "Player Vlad is currently as position 20 on the board, with $4701.             \n",
      " They hold the following properties: ['The Angel Islington', 'Whitehall', 'Vine Street'].            \n",
      " They hold the following stations: ['Marylebone Station']            \n",
      " They hold the following utilities: []            \n",
      " The player has 0 houses and 0 hotels             \n",
      " The player is currently not in jail.\n",
      "\n",
      "\n",
      "-----------------------------------------------------------------------------------\n",
      "Player Cat is currently as position 19 on the board, with $4419.             \n",
      " They hold the following properties: ['Pentonville Road', 'Trafalgar Square', 'Mayfair'].            \n",
      " They hold the following stations: [\"King's Cross Station\"]            \n",
      " They hold the following utilities: []            \n",
      " The player has 0 houses and 0 hotels             \n",
      " The player is currently not in jail.\n",
      "\n",
      "\n",
      "Player Vlad is currently as position 27 on the board, with $4701.             \n",
      " They hold the following properties: ['The Angel Islington', 'Whitehall', 'Vine Street'].            \n",
      " They hold the following stations: ['Marylebone Station']            \n",
      " They hold the following utilities: []            \n",
      " The player has 0 houses and 0 hotels             \n",
      " The player is currently not in jail.\n",
      "\n",
      "\n",
      "-----------------------------------------------------------------------------------\n",
      "Player Cat is currently as position 27 on the board, with $4419.             \n",
      " They hold the following properties: ['Pentonville Road', 'Trafalgar Square', 'Mayfair'].            \n",
      " They hold the following stations: [\"King's Cross Station\"]            \n",
      " They hold the following utilities: []            \n",
      " The player has 0 houses and 0 hotels             \n",
      " The player is currently not in jail.\n",
      "\n",
      "\n",
      "Player Vlad is currently as position 27 on the board, with $4701.             \n",
      " They hold the following properties: ['The Angel Islington', 'Whitehall', 'Vine Street'].            \n",
      " They hold the following stations: ['Marylebone Station']            \n",
      " They hold the following utilities: []            \n",
      " The player has 0 houses and 0 hotels             \n",
      " The player is currently not in jail.\n",
      "\n",
      "\n",
      "-----------------------------------------------------------------------------------\n",
      "Player Cat is currently as position 27 on the board, with $4419.             \n",
      " They hold the following properties: ['Pentonville Road', 'Trafalgar Square', 'Mayfair'].            \n",
      " They hold the following stations: [\"King's Cross Station\"]            \n",
      " They hold the following utilities: []            \n",
      " The player has 0 houses and 0 hotels             \n",
      " The player is currently not in jail.\n",
      "\n",
      "\n",
      "Player Vlad is currently as position 36 on the board, with $4851.             \n",
      " They hold the following properties: ['The Angel Islington', 'Whitehall', 'Vine Street'].            \n",
      " They hold the following stations: ['Marylebone Station']            \n",
      " They hold the following utilities: []            \n",
      " The player has 0 houses and 0 hotels             \n",
      " The player is currently not in jail.\n",
      "\n",
      "\n",
      "-----------------------------------------------------------------------------------\n",
      "Player Cat is currently as position 34 on the board, with $4419.             \n",
      " They hold the following properties: ['Pentonville Road', 'Trafalgar Square', 'Mayfair'].            \n",
      " They hold the following stations: [\"King's Cross Station\"]            \n",
      " They hold the following utilities: []            \n",
      " The player has 0 houses and 0 hotels             \n",
      " The player is currently not in jail.\n",
      "\n",
      "\n",
      "Player Vlad is currently as position 36 on the board, with $4851.             \n",
      " They hold the following properties: ['The Angel Islington', 'Whitehall', 'Vine Street'].            \n",
      " They hold the following stations: ['Marylebone Station']            \n",
      " They hold the following utilities: []            \n",
      " The player has 0 houses and 0 hotels             \n",
      " The player is currently not in jail.\n",
      "\n",
      "\n",
      "-----------------------------------------------------------------------------------\n",
      "Player Cat is currently as position 34 on the board, with $4419.             \n",
      " They hold the following properties: ['Pentonville Road', 'Trafalgar Square', 'Mayfair'].            \n",
      " They hold the following stations: [\"King's Cross Station\"]            \n",
      " They hold the following utilities: []            \n",
      " The player has 0 houses and 0 hotels             \n",
      " The player is currently not in jail.\n",
      "\n",
      "\n",
      "Player Vlad is currently as position 7 on the board, with $4951.             \n",
      " They hold the following properties: ['The Angel Islington', 'Whitehall', 'Vine Street'].            \n",
      " They hold the following stations: ['Marylebone Station']            \n",
      " They hold the following utilities: []            \n",
      " The player has 0 houses and 0 hotels             \n",
      " The player is currently not in jail.\n",
      "\n",
      "\n",
      "-----------------------------------------------------------------------------------\n",
      "Player Cat is currently as position 0 on the board, with $4619.             \n",
      " They hold the following properties: ['Pentonville Road', 'Trafalgar Square', 'Mayfair'].            \n",
      " They hold the following stations: [\"King's Cross Station\"]            \n",
      " They hold the following utilities: []            \n",
      " The player has 0 houses and 0 hotels             \n",
      " The player is currently not in jail.\n",
      "\n",
      "\n",
      "Player Vlad is currently as position 7 on the board, with $4951.             \n",
      " They hold the following properties: ['The Angel Islington', 'Whitehall', 'Vine Street'].            \n",
      " They hold the following stations: ['Marylebone Station']            \n",
      " They hold the following utilities: []            \n",
      " The player has 0 houses and 0 hotels             \n",
      " The player is currently not in jail.\n",
      "\n",
      "\n",
      "-----------------------------------------------------------------------------------\n",
      "Player Cat is currently as position 0 on the board, with $4619.             \n",
      " They hold the following properties: ['Pentonville Road', 'Trafalgar Square', 'Mayfair'].            \n",
      " They hold the following stations: [\"King's Cross Station\"]            \n",
      " They hold the following utilities: []            \n",
      " The player has 0 houses and 0 hotels             \n",
      " The player is currently not in jail.\n",
      "\n",
      "\n",
      "Player Vlad is currently as position 13 on the board, with $4951.             \n",
      " They hold the following properties: ['The Angel Islington', 'Whitehall', 'Vine Street'].            \n",
      " They hold the following stations: ['Marylebone Station']            \n",
      " They hold the following utilities: []            \n",
      " The player has 0 houses and 0 hotels             \n",
      " The player is currently not in jail.\n",
      "\n",
      "\n",
      "-----------------------------------------------------------------------------------\n",
      "Player Cat is currently as position 11 on the board, with $4619.             \n",
      " They hold the following properties: ['Pentonville Road', 'Trafalgar Square', 'Mayfair'].            \n",
      " They hold the following stations: [\"King's Cross Station\"]            \n",
      " They hold the following utilities: []            \n",
      " The player has 0 houses and 0 hotels             \n",
      " The player is currently not in jail.\n",
      "\n",
      "\n",
      "Player Vlad is currently as position 13 on the board, with $4951.             \n",
      " They hold the following properties: ['The Angel Islington', 'Whitehall', 'Vine Street'].            \n",
      " They hold the following stations: ['Marylebone Station']            \n",
      " They hold the following utilities: []            \n",
      " The player has 0 houses and 0 hotels             \n",
      " The player is currently not in jail.\n",
      "\n",
      "\n",
      "-----------------------------------------------------------------------------------\n",
      "Player Cat is currently as position 11 on the board, with $4619.             \n",
      " They hold the following properties: ['Pentonville Road', 'Trafalgar Square', 'Mayfair'].            \n",
      " They hold the following stations: [\"King's Cross Station\"]            \n",
      " They hold the following utilities: []            \n",
      " The player has 0 houses and 0 hotels             \n",
      " The player is currently not in jail.\n",
      "\n",
      "\n",
      "Player Vlad is currently as position 18 on the board, with $4771.             \n",
      " They hold the following properties: ['The Angel Islington', 'Whitehall', 'Vine Street', 'Marlborough Street'].            \n",
      " They hold the following stations: ['Marylebone Station']            \n",
      " They hold the following utilities: []            \n",
      " The player has 0 houses and 0 hotels             \n",
      " The player is currently not in jail.\n",
      "\n",
      "\n",
      "-----------------------------------------------------------------------------------\n",
      "Player Cat is currently as position 15 on the board, with $4594.             \n",
      " They hold the following properties: ['Pentonville Road', 'Trafalgar Square', 'Mayfair'].            \n",
      " They hold the following stations: [\"King's Cross Station\"]            \n",
      " They hold the following utilities: []            \n",
      " The player has 0 houses and 0 hotels             \n",
      " The player is currently not in jail.\n",
      "\n",
      "\n",
      "Player Vlad is currently as position 18 on the board, with $4796.             \n",
      " They hold the following properties: ['The Angel Islington', 'Whitehall', 'Vine Street', 'Marlborough Street'].            \n",
      " They hold the following stations: ['Marylebone Station']            \n",
      " They hold the following utilities: []            \n",
      " The player has 0 houses and 0 hotels             \n",
      " The player is currently not in jail.\n",
      "\n",
      "\n",
      "-----------------------------------------------------------------------------------\n",
      "Player Cat is currently as position 15 on the board, with $4594.             \n",
      " They hold the following properties: ['Pentonville Road', 'Trafalgar Square', 'Mayfair'].            \n",
      " They hold the following stations: [\"King's Cross Station\"]            \n",
      " They hold the following utilities: []            \n",
      " The player has 0 houses and 0 hotels             \n",
      " The player is currently not in jail.\n",
      "\n",
      "\n",
      "Player Vlad is currently as position 23 on the board, with $4796.             \n",
      " They hold the following properties: ['The Angel Islington', 'Whitehall', 'Vine Street', 'Marlborough Street'].            \n",
      " They hold the following stations: ['Marylebone Station']            \n",
      " They hold the following utilities: []            \n",
      " The player has 0 houses and 0 hotels             \n",
      " The player is currently not in jail.\n",
      "\n",
      "\n",
      "-----------------------------------------------------------------------------------\n",
      "Player Cat is currently as position 20 on the board, with $4594.             \n",
      " They hold the following properties: ['Pentonville Road', 'Trafalgar Square', 'Mayfair'].            \n",
      " They hold the following stations: [\"King's Cross Station\"]            \n",
      " They hold the following utilities: []            \n",
      " The player has 0 houses and 0 hotels             \n",
      " The player is currently not in jail.\n",
      "\n",
      "\n",
      "Player Vlad is currently as position 23 on the board, with $4796.             \n",
      " They hold the following properties: ['The Angel Islington', 'Whitehall', 'Vine Street', 'Marlborough Street'].            \n",
      " They hold the following stations: ['Marylebone Station']            \n",
      " They hold the following utilities: []            \n",
      " The player has 0 houses and 0 hotels             \n",
      " The player is currently not in jail.\n",
      "\n",
      "\n",
      "-----------------------------------------------------------------------------------\n",
      "Player Cat is currently as position 20 on the board, with $4594.             \n",
      " They hold the following properties: ['Pentonville Road', 'Trafalgar Square', 'Mayfair'].            \n",
      " They hold the following stations: [\"King's Cross Station\"]            \n",
      " They hold the following utilities: []            \n",
      " The player has 0 houses and 0 hotels             \n",
      " The player is currently not in jail.\n",
      "\n",
      "\n",
      "Player Vlad is currently as position 32 on the board, with $4796.             \n",
      " They hold the following properties: ['The Angel Islington', 'Whitehall', 'Vine Street', 'Marlborough Street'].            \n",
      " They hold the following stations: ['Marylebone Station']            \n",
      " They hold the following utilities: []            \n",
      " The player has 0 houses and 0 hotels             \n",
      " The player is currently not in jail.\n",
      "\n",
      "\n",
      "-----------------------------------------------------------------------------------\n",
      "Player Cat is currently as position 29 on the board, with $4594.             \n",
      " They hold the following properties: ['Pentonville Road', 'Trafalgar Square', 'Mayfair'].            \n",
      " They hold the following stations: [\"King's Cross Station\"]            \n",
      " They hold the following utilities: []            \n",
      " The player has 0 houses and 0 hotels             \n",
      " The player is currently not in jail.\n",
      "\n",
      "\n",
      "Player Vlad is currently as position 32 on the board, with $4796.             \n",
      " They hold the following properties: ['The Angel Islington', 'Whitehall', 'Vine Street', 'Marlborough Street'].            \n",
      " They hold the following stations: ['Marylebone Station']            \n",
      " They hold the following utilities: []            \n",
      " The player has 0 houses and 0 hotels             \n",
      " The player is currently not in jail.\n",
      "\n",
      "\n",
      "-----------------------------------------------------------------------------------\n",
      "Player Cat is currently as position 29 on the board, with $4594.             \n",
      " They hold the following properties: ['Pentonville Road', 'Trafalgar Square', 'Mayfair'].            \n",
      " They hold the following stations: [\"King's Cross Station\"]            \n",
      " They hold the following utilities: []            \n",
      " The player has 0 houses and 0 hotels             \n",
      " The player is currently not in jail.\n",
      "\n",
      "\n",
      "Player Vlad is currently as position 3 on the board, with $4996.             \n",
      " They hold the following properties: ['The Angel Islington', 'Whitehall', 'Vine Street', 'Marlborough Street'].            \n",
      " They hold the following stations: ['Marylebone Station']            \n",
      " They hold the following utilities: []            \n",
      " The player has 0 houses and 0 hotels             \n",
      " The player is currently not in jail.\n",
      "\n",
      "\n",
      "-----------------------------------------------------------------------------------\n",
      "Player Cat is currently as position 35 on the board, with $4394.             \n",
      " They hold the following properties: ['Pentonville Road', 'Trafalgar Square', 'Mayfair'].            \n",
      " They hold the following stations: [\"King's Cross Station\", 'Liverpool St. Station']            \n",
      " They hold the following utilities: []            \n",
      " The player has 0 houses and 0 hotels             \n",
      " The player is currently not in jail.\n",
      "\n",
      "\n",
      "Player Vlad is currently as position 3 on the board, with $4996.             \n",
      " They hold the following properties: ['The Angel Islington', 'Whitehall', 'Vine Street', 'Marlborough Street'].            \n",
      " They hold the following stations: ['Marylebone Station']            \n",
      " They hold the following utilities: []            \n",
      " The player has 0 houses and 0 hotels             \n",
      " The player is currently not in jail.\n",
      "\n",
      "\n",
      "-----------------------------------------------------------------------------------\n",
      "Player Cat is currently as position 35 on the board, with $4394.             \n",
      " They hold the following properties: ['Pentonville Road', 'Trafalgar Square', 'Mayfair'].            \n",
      " They hold the following stations: [\"King's Cross Station\", 'Liverpool St. Station']            \n",
      " They hold the following utilities: []            \n",
      " The player has 0 houses and 0 hotels             \n",
      " The player is currently not in jail.\n",
      "\n",
      "\n",
      "Player Vlad is currently as position 14 on the board, with $4836.             \n",
      " They hold the following properties: ['The Angel Islington', 'Whitehall', 'Vine Street', 'Marlborough Street', 'Northumberland Avenue'].            \n",
      " They hold the following stations: ['Marylebone Station']            \n",
      " They hold the following utilities: []            \n",
      " The player has 0 houses and 0 hotels             \n",
      " The player is currently not in jail.\n",
      "\n",
      "\n",
      "-----------------------------------------------------------------------------------\n",
      "Player Cat is currently as position 4 on the board, with $4394.             \n",
      " They hold the following properties: ['Pentonville Road', 'Trafalgar Square', 'Mayfair'].            \n",
      " They hold the following stations: [\"King's Cross Station\", 'Liverpool St. Station']            \n",
      " They hold the following utilities: []            \n",
      " The player has 0 houses and 0 hotels             \n",
      " The player is currently not in jail.\n",
      "\n",
      "\n",
      "Player Vlad is currently as position 14 on the board, with $4836.             \n",
      " They hold the following properties: ['The Angel Islington', 'Whitehall', 'Vine Street', 'Marlborough Street', 'Northumberland Avenue'].            \n",
      " They hold the following stations: ['Marylebone Station']            \n",
      " They hold the following utilities: []            \n",
      " The player has 0 houses and 0 hotels             \n",
      " The player is currently not in jail.\n",
      "\n",
      "\n",
      "-----------------------------------------------------------------------------------\n",
      "Player Cat is currently as position 4 on the board, with $4394.             \n",
      " They hold the following properties: ['Pentonville Road', 'Trafalgar Square', 'Mayfair'].            \n",
      " They hold the following stations: [\"King's Cross Station\", 'Liverpool St. Station']            \n",
      " They hold the following utilities: []            \n",
      " The player has 0 houses and 0 hotels             \n",
      " The player is currently not in jail.\n",
      "\n",
      "\n",
      "Player Vlad is currently as position 10 on the board, with $4836.             \n",
      " They hold the following properties: ['The Angel Islington', 'Whitehall', 'Vine Street', 'Marlborough Street', 'Northumberland Avenue'].            \n",
      " They hold the following stations: ['Marylebone Station']            \n",
      " They hold the following utilities: []            \n",
      " The player has 0 houses and 0 hotels             \n",
      " The player is currently in jail.\n",
      "\n",
      "\n",
      "-----------------------------------------------------------------------------------\n"
     ]
    }
   ],
   "source": [
    "i = 0\n",
    "while player1.bankrupt == False and player2.bankrupt == False and i < 20:\n",
    "    i += 1\n",
    "    for player in board.players:\n",
    "        board.take_turn(player)\n",
    "\n",
    "        for player in board.players:\n",
    "            print(player)\n",
    "            print('\\n')\n",
    "\n",
    "        print('-----------------------------------------------------------------------------------')"
   ]
  },
  {
   "cell_type": "code",
   "execution_count": 142,
   "metadata": {},
   "outputs": [
    {
     "data": {
      "text/plain": [
       "Player Cat is currently as position 4 on the board, with $4394.             \n",
       " They hold the following properties: ['Pentonville Road', 'Trafalgar Square', 'Mayfair'].            \n",
       " They hold the following stations: [\"King's Cross Station\", 'Liverpool St. Station']            \n",
       " They hold the following utilities: []            \n",
       " The player has 0 houses and 0 hotels             \n",
       " The player is currently not in jail."
      ]
     },
     "execution_count": 142,
     "metadata": {},
     "output_type": "execute_result"
    }
   ],
   "source": [
    "player1"
   ]
  },
  {
   "cell_type": "code",
   "execution_count": 143,
   "metadata": {},
   "outputs": [
    {
     "data": {
      "text/plain": [
       "Player Vlad is currently as position 10 on the board, with $4836.             \n",
       " They hold the following properties: ['The Angel Islington', 'Whitehall', 'Vine Street', 'Marlborough Street', 'Northumberland Avenue'].            \n",
       " They hold the following stations: ['Marylebone Station']            \n",
       " They hold the following utilities: []            \n",
       " The player has 0 houses and 0 hotels             \n",
       " The player is currently in jail."
      ]
     },
     "execution_count": 143,
     "metadata": {},
     "output_type": "execute_result"
    }
   ],
   "source": [
    "player2"
   ]
  },
  {
   "cell_type": "code",
   "execution_count": 144,
   "metadata": {},
   "outputs": [],
   "source": [
    "board = MonopolyBoard()\n",
    "player1 = Player('Cat')\n",
    "player2 = Player('Vlad')\n",
    "\n",
    "board.add_player(player1)\n",
    "board.add_player(player2)"
   ]
  },
  {
   "cell_type": "code",
   "execution_count": 145,
   "metadata": {},
   "outputs": [],
   "source": [
    "i = 0\n",
    "while player1.bankrupt == False and player2.bankrupt == False and i < 25:\n",
    "    i += 1\n",
    "    for player in board.players:\n",
    "        board.take_turn(player)"
   ]
  },
  {
   "cell_type": "code",
   "execution_count": 146,
   "metadata": {},
   "outputs": [
    {
     "data": {
      "text/plain": [
       "Player Cat is currently as position 25 on the board, with $58.             \n",
       " They hold the following properties: ['Pall Mall', 'Whitehall', 'Trafalgar Square'].            \n",
       " They hold the following stations: ['Liverpool St. Station', 'Marylebone Station', 'Fenchurch St. Station']            \n",
       " They hold the following utilities: ['Water Works', 'Electric Company']            \n",
       " The player has 0 houses and 0 hotels             \n",
       " The player is currently not in jail."
      ]
     },
     "execution_count": 146,
     "metadata": {},
     "output_type": "execute_result"
    }
   ],
   "source": [
    "player1"
   ]
  },
  {
   "cell_type": "code",
   "execution_count": 147,
   "metadata": {},
   "outputs": [
    {
     "data": {
      "text/plain": [
       "Player Vlad is currently as position 6 on the board, with $107.0.             \n",
       " They hold the following properties: ['Pentonville Road', 'Bow Street', 'Leicester Square', 'Vine Street', 'Coventry Street', 'Marlborough Street', 'The Angel Islington'].            \n",
       " They hold the following stations: [\"King's Cross Station\"]            \n",
       " They hold the following utilities: []            \n",
       " The player has 13 houses and 3 hotels             \n",
       " The player is currently not in jail."
      ]
     },
     "execution_count": 147,
     "metadata": {},
     "output_type": "execute_result"
    }
   ],
   "source": [
    "player2"
   ]
  },
  {
   "cell_type": "markdown",
   "metadata": {},
   "source": [
    "### Running with lots of money until bankrupcy"
   ]
  },
  {
   "cell_type": "code",
   "execution_count": 148,
   "metadata": {},
   "outputs": [],
   "source": [
    "board = MonopolyBoard()\n",
    "player1 = Player('Cat')\n",
    "player2 = Player('Vlad')\n",
    "\n",
    "board.add_player(player1)\n",
    "board.add_player(player2)\n",
    "\n",
    "player1.money = 100000\n",
    "player2.money = 100000"
   ]
  },
  {
   "cell_type": "code",
   "execution_count": 149,
   "metadata": {},
   "outputs": [
    {
     "name": "stdout",
     "output_type": "stream",
     "text": [
      "The game lasted 3020 rounds.\n"
     ]
    }
   ],
   "source": [
    "i = 0\n",
    "while player1.bankrupt == False and player2.bankrupt == False:\n",
    "    i += 1\n",
    "    for player in board.players:\n",
    "        board.take_turn(player)\n",
    "\n",
    "print(f'The game lasted {i} rounds.')"
   ]
  },
  {
   "cell_type": "code",
   "execution_count": 150,
   "metadata": {},
   "outputs": [
    {
     "data": {
      "text/plain": [
       "Player Cat is currently as position 37 on the board, with $256537.             \n",
       " They hold the following properties: ['Pentonville Road', 'Trafalgar Square', 'Oxford Street', 'Fleet Street', 'Bond Street', 'The Strand', 'Regent Street'].            \n",
       " They hold the following stations: ['Liverpool St. Station', 'Marylebone Station', \"King's Cross Station\"]            \n",
       " They hold the following utilities: ['Electric Company', 'Water Works']            \n",
       " The player has 24 houses and 6 hotels             \n",
       " The player is currently not in jail."
      ]
     },
     "execution_count": 150,
     "metadata": {},
     "output_type": "execute_result"
    }
   ],
   "source": [
    "player1"
   ]
  },
  {
   "cell_type": "code",
   "execution_count": 151,
   "metadata": {},
   "outputs": [
    {
     "data": {
      "text/plain": [
       "Player Vlad is currently as position 23 on the board, with $863.0.             \n",
       " They hold the following properties: ['Bow Street', 'Leicester Square', 'The Angel Islington', 'Vine Street', 'Marlborough Street', 'Coventry Street', 'Piccadilly', 'Euston Road'].            \n",
       " They hold the following stations: ['Fenchurch St. Station']            \n",
       " They hold the following utilities: []            \n",
       " The player has 30 houses and 6 hotels             \n",
       " The player is currently not in jail."
      ]
     },
     "execution_count": 151,
     "metadata": {},
     "output_type": "execute_result"
    }
   ],
   "source": [
    "player2"
   ]
  },
  {
   "cell_type": "markdown",
   "metadata": {},
   "source": [
    "### >2 players"
   ]
  },
  {
   "cell_type": "code",
   "execution_count": 152,
   "metadata": {},
   "outputs": [],
   "source": [
    "board = MonopolyBoard()\n",
    "player1 = Player('Cat')\n",
    "player2 = Player('Vlad')\n",
    "player3 = Player('Emma')\n",
    "\n",
    "board.add_player(player1)\n",
    "board.add_player(player2)\n",
    "board.add_player(player3)"
   ]
  },
  {
   "cell_type": "code",
   "execution_count": 153,
   "metadata": {},
   "outputs": [
    {
     "name": "stdout",
     "output_type": "stream",
     "text": [
      "The game lasted 69 rounds.\n"
     ]
    }
   ],
   "source": [
    "i = 0\n",
    "while player1.bankrupt == False and player2.bankrupt == False and player3.bankrupt == False:\n",
    "    i += 1\n",
    "    for player in board.players:\n",
    "        board.take_turn(player)\n",
    "\n",
    "print(f'The game lasted {i} rounds.')"
   ]
  },
  {
   "cell_type": "code",
   "execution_count": 154,
   "metadata": {},
   "outputs": [
    {
     "data": {
      "text/plain": [
       "(Player Cat is currently as position 4 on the board, with $2331.             \n",
       "  They hold the following properties: ['Northumberland Avenue', 'Coventry Street', 'Bond Street', 'Pall Mall', 'Oxford Street'].            \n",
       "  They hold the following stations: ['Fenchurch St. Station', 'Liverpool St. Station']            \n",
       "  They hold the following utilities: ['Electric Company']            \n",
       "  The player has 0 houses and 0 hotels             \n",
       "  The player is currently not in jail.,\n",
       " Player Vlad is currently as position 36 on the board, with $499.61999999999995.             \n",
       "  They hold the following properties: ['Pentonville Road', 'Vine Street', 'Leicester Square', 'Marlborough Street', 'Piccadilly', 'Bow Street', 'Euston Road', 'The Angel Islington'].            \n",
       "  They hold the following stations: []            \n",
       "  They hold the following utilities: []            \n",
       "  The player has 29 houses and 2 hotels             \n",
       "  The player is currently not in jail.,\n",
       " Player Emma is currently as position 10 on the board, with $352.0.             \n",
       "  They hold the following properties: ['Whitechapel Road', 'Whitehall', 'Regent Street', 'Old Kent Road'].            \n",
       "  They hold the following stations: ['Marylebone Station', \"King's Cross Station\"]            \n",
       "  They hold the following utilities: ['Water Works']            \n",
       "  The player has 8 houses and 2 hotels             \n",
       "  The player is currently in jail.)"
      ]
     },
     "execution_count": 154,
     "metadata": {},
     "output_type": "execute_result"
    }
   ],
   "source": [
    "player1, player2, player3"
   ]
  },
  {
   "cell_type": "code",
   "execution_count": 155,
   "metadata": {},
   "outputs": [],
   "source": [
    "board = MonopolyBoard()\n",
    "player1 = Player('Cat')\n",
    "player2 = Player('Vlad')\n",
    "player3 = Player('Emma')\n",
    "player4 = Player('Cheryl')\n",
    "player5 = Player('Tony')\n",
    "player6 = Player('George')\n",
    "\n",
    "board.add_player(player1)\n",
    "board.add_player(player2)\n",
    "board.add_player(player3)\n",
    "board.add_player(player4)\n",
    "board.add_player(player5)\n",
    "board.add_player(player6)"
   ]
  },
  {
   "cell_type": "code",
   "execution_count": 156,
   "metadata": {},
   "outputs": [
    {
     "name": "stdout",
     "output_type": "stream",
     "text": [
      "The game lasted 126 rounds.\n"
     ]
    }
   ],
   "source": [
    "i = 0\n",
    "while player1.bankrupt == False and player2.bankrupt == False and player3.bankrupt == False and player4.bankrupt == False and player5.bankrupt == False and player6.bankrupt == False:\n",
    "    i += 1\n",
    "    for player in board.players:\n",
    "        board.take_turn(player)\n",
    "\n",
    "print(f'The game lasted {i} rounds.')"
   ]
  },
  {
   "cell_type": "code",
   "execution_count": 157,
   "metadata": {},
   "outputs": [
    {
     "name": "stdout",
     "output_type": "stream",
     "text": [
      "Old Kent Road 4\n",
      "Whitechapel Road 4\n",
      "The Angel Islington 0\n",
      "Euston Road 0\n",
      "Pentonville Road 0\n",
      "Pall Mall 0\n",
      "Whitehall 0\n",
      "Northumberland Avenue 0\n",
      "Bow Street 0\n",
      "Marlborough Street 0\n",
      "Vine Street 0\n",
      "The Strand 0\n",
      "Fleet Street 0\n",
      "Trafalgar Square 0\n",
      "Leicester Square 0\n",
      "Coventry Street 0\n",
      "Piccadilly 0\n",
      "Regent Street 0\n",
      "Oxford Street 0\n",
      "Bond Street 0\n",
      "Park Lane 0\n",
      "Mayfair 0\n"
     ]
    }
   ],
   "source": [
    "for property in board.properties:\n",
    "    print(property.name, property.num_houses)"
   ]
  },
  {
   "cell_type": "code",
   "execution_count": 158,
   "metadata": {},
   "outputs": [
    {
     "data": {
      "text/plain": [
       "[Player Cat is currently as position 9 on the board, with $1730.             \n",
       "  They hold the following properties: ['The Strand', 'Oxford Street', 'Marlborough Street'].            \n",
       "  They hold the following stations: ['Liverpool St. Station']            \n",
       "  They hold the following utilities: ['Electric Company']            \n",
       "  The player has 0 houses and 0 hotels             \n",
       "  The player is currently not in jail.,\n",
       " Player Vlad is currently as position 15 on the board, with $4342.             \n",
       "  They hold the following properties: ['Regent Street', 'Coventry Street', 'Trafalgar Square'].            \n",
       "  They hold the following stations: ['Marylebone Station', 'Fenchurch St. Station']            \n",
       "  They hold the following utilities: []            \n",
       "  The player has 0 houses and 0 hotels             \n",
       "  The player is currently not in jail.,\n",
       " Player Emma is currently as position 3 on the board, with $368.79999999999995.             \n",
       "  They hold the following properties: ['Pentonville Road', 'Vine Street', 'Northumberland Avenue'].            \n",
       "  They hold the following stations: [\"King's Cross Station\"]            \n",
       "  They hold the following utilities: []            \n",
       "  The player has 0 houses and 0 hotels             \n",
       "  The player is currently not in jail.,\n",
       " Player Cheryl is currently as position 32 on the board, with $381.89699999999993.             \n",
       "  They hold the following properties: ['Pall Mall', 'Whitehall', 'Bond Street'].            \n",
       "  They hold the following stations: []            \n",
       "  They hold the following utilities: []            \n",
       "  The player has 0 houses and 0 hotels             \n",
       "  The player is currently not in jail.,\n",
       " Player Tony is currently as position 33 on the board, with $2228.             \n",
       "  They hold the following properties: ['Euston Road', 'Bow Street', 'Leicester Square', 'The Angel Islington', 'Piccadilly'].            \n",
       "  They hold the following stations: []            \n",
       "  They hold the following utilities: []            \n",
       "  The player has 0 houses and 0 hotels             \n",
       "  The player is currently not in jail.,\n",
       " Player George is currently as position 6 on the board, with $14872.939999999999.             \n",
       "  They hold the following properties: ['Whitechapel Road', 'Old Kent Road', 'Fleet Street'].            \n",
       "  They hold the following stations: []            \n",
       "  They hold the following utilities: ['Water Works']            \n",
       "  The player has 8 houses and 2 hotels             \n",
       "  The player is currently not in jail.]"
      ]
     },
     "execution_count": 158,
     "metadata": {},
     "output_type": "execute_result"
    }
   ],
   "source": [
    "board.players"
   ]
  },
  {
   "cell_type": "markdown",
   "metadata": {},
   "source": [
    "### Tracking 'player wealth'"
   ]
  },
  {
   "cell_type": "code",
   "execution_count": 197,
   "metadata": {},
   "outputs": [],
   "source": [
    "board = MonopolyBoard()\n",
    "player1 = Player('Cat')\n",
    "player2 = Player('Vlad')\n",
    "\n",
    "board.add_player(player1)\n",
    "board.add_player(player2)\n",
    "\n",
    "player1_wealth = []\n",
    "player2_wealth = []"
   ]
  },
  {
   "cell_type": "code",
   "execution_count": 198,
   "metadata": {},
   "outputs": [
    {
     "name": "stdout",
     "output_type": "stream",
     "text": [
      "The game lasted 119 rounds.\n"
     ]
    },
    {
     "data": {
      "application/vnd.plotly.v1+json": {
       "config": {
        "plotlyServerURL": "https://plot.ly"
       },
       "data": [
        {
         "hovertemplate": "variable=Player 1 wealth<br>Time Step=%{x}<br>value=%{y}<extra></extra>",
         "legendgroup": "Player 1 wealth",
         "line": {
          "color": "#636efa",
          "dash": "solid"
         },
         "marker": {
          "symbol": "circle"
         },
         "mode": "lines",
         "name": "Player 1 wealth",
         "orientation": "v",
         "showlegend": true,
         "type": "scatter",
         "x": [
          0,
          1,
          2,
          3,
          4,
          5,
          6,
          7,
          8,
          9,
          10,
          11,
          12,
          13,
          14,
          15,
          16,
          17,
          18,
          19,
          20,
          21,
          22,
          23,
          24,
          25,
          26,
          27,
          28,
          29,
          30,
          31,
          32,
          33,
          34,
          35,
          36,
          37,
          38,
          39,
          40,
          41,
          42,
          43,
          44,
          45,
          46,
          47,
          48,
          49,
          50,
          51,
          52,
          53,
          54,
          55,
          56,
          57,
          58,
          59,
          60,
          61,
          62,
          63,
          64,
          65,
          66,
          67,
          68,
          69,
          70,
          71,
          72,
          73,
          74,
          75,
          76,
          77,
          78,
          79,
          80,
          81,
          82,
          83,
          84,
          85,
          86,
          87,
          88,
          89,
          90,
          91,
          92,
          93,
          94,
          95,
          96,
          97,
          98,
          99,
          100,
          101,
          102,
          103,
          104,
          105,
          106,
          107,
          108,
          109,
          110,
          111,
          112,
          113,
          114,
          115,
          116,
          117,
          118
         ],
         "xaxis": "x",
         "y": [
          1500,
          1500,
          1500,
          1400,
          1600,
          1600,
          1606,
          1626,
          1600,
          1520,
          1720,
          1720,
          1720,
          1620,
          1820,
          1810,
          1810,
          1810,
          2010,
          2000,
          2000,
          2000,
          1972,
          2172,
          2172,
          2172,
          1972,
          1944,
          2144,
          2144,
          2116,
          2316,
          2466,
          2446,
          2446,
          2596,
          2566,
          2566,
          2366,
          2366,
          2348,
          2298,
          2498,
          2498,
          2548,
          2548,
          2348,
          2348,
          2320,
          2470,
          2470,
          2484,
          2466,
          2466,
          2466,
          2716,
          2566,
          2566,
          2540,
          2740,
          3515,
          3479,
          1979,
          1985,
          1785,
          2113,
          2113,
          2113,
          2303,
          2303,
          2303,
          2153,
          2153,
          2353,
          2351,
          2151,
          2751,
          2771,
          2996,
          2996,
          2996,
          1296,
          1316,
          1316,
          1316,
          1516,
          1239.6,
          1259.6,
          1185.6,
          1385.6,
          1385.6,
          1385.6,
          1185.6,
          1238.04,
          1238.04,
          1338.04,
          1338.04,
          1538.04,
          1538.04,
          1738.04,
          1714.04,
          1714.04,
          1696.04,
          1716.04,
          1716.04,
          1566.04,
          1684.04,
          1684.04,
          1684.04,
          1759.04,
          1759.04,
          1677.04,
          1677.04,
          1677.04,
          1877.04,
          1877.04,
          1877.04,
          1877.04,
          1702.04
         ],
         "yaxis": "y"
        },
        {
         "hovertemplate": "variable=Player 2 wealth<br>Time Step=%{x}<br>value=%{y}<extra></extra>",
         "legendgroup": "Player 2 wealth",
         "line": {
          "color": "#EF553B",
          "dash": "solid"
         },
         "marker": {
          "symbol": "circle"
         },
         "mode": "lines",
         "name": "Player 2 wealth",
         "orientation": "v",
         "showlegend": true,
         "type": "scatter",
         "x": [
          0,
          1,
          2,
          3,
          4,
          5,
          6,
          7,
          8,
          9,
          10,
          11,
          12,
          13,
          14,
          15,
          16,
          17,
          18,
          19,
          20,
          21,
          22,
          23,
          24,
          25,
          26,
          27,
          28,
          29,
          30,
          31,
          32,
          33,
          34,
          35,
          36,
          37,
          38,
          39,
          40,
          41,
          42,
          43,
          44,
          45,
          46,
          47,
          48,
          49,
          50,
          51,
          52,
          53,
          54,
          55,
          56,
          57,
          58,
          59,
          60,
          61,
          62,
          63,
          64,
          65,
          66,
          67,
          68,
          69,
          70,
          71,
          72,
          73,
          74,
          75,
          76,
          77,
          78,
          79,
          80,
          81,
          82,
          83,
          84,
          85,
          86,
          87,
          88,
          89,
          90,
          91,
          92,
          93,
          94,
          95,
          96,
          97,
          98,
          99,
          100,
          101,
          102,
          103,
          104,
          105,
          106,
          107,
          108,
          109,
          110,
          111,
          112,
          113,
          114,
          115,
          116,
          117,
          118
         ],
         "xaxis": "x",
         "y": [
          1350,
          1350,
          1150,
          1100,
          1100,
          1294,
          1274,
          1326.6,
          1332.6,
          1332.6,
          1332.6,
          1532.6,
          1532.6,
          1632.6,
          1632.6,
          1642.6,
          1793.3400000000001,
          1793.3400000000001,
          1793.3400000000001,
          1603.3400000000001,
          1553.3400000000001,
          1563.3400000000001,
          1591.3400000000001,
          1591.3400000000001,
          1591.3400000000001,
          1791.3400000000001,
          1791.3400000000001,
          1819.3400000000001,
          1819.3400000000001,
          2019.3400000000001,
          2047.3400000000001,
          2247.34,
          2247.34,
          2267.34,
          2267.34,
          2053.34,
          2097.34,
          2097.34,
          1997.3400000000001,
          1997.3400000000001,
          2015.3400000000001,
          2015.3400000000001,
          2015.3400000000001,
          2015.3400000000001,
          2215.34,
          2015.3400000000001,
          2015.3400000000001,
          2015.3400000000001,
          2043.3400000000001,
          2293.34,
          2279.34,
          2279.34,
          2297.34,
          2497.34,
          2447.34,
          2447.34,
          2447.34,
          2667.34,
          2693.34,
          1918.3400000000001,
          1918.3400000000001,
          1854.3400000000001,
          2048.34,
          2048.34,
          2020.3400000000001,
          2020.3400000000001,
          2020.3400000000001,
          2220.34,
          2230.34,
          2230.34,
          2230.34,
          2230.34,
          2430.34,
          2422.34,
          2432.34,
          1832.3400000000001,
          1812.3400000000001,
          1784.3400000000001,
          1784.3400000000001,
          1984.3400000000001,
          1409.3400000000001,
          1389.3400000000001,
          1639.3400000000001,
          1639.3400000000001,
          1639.3400000000001,
          1611.3400000000001,
          1591.3400000000001,
          1591.3400000000001,
          1591.3400000000001,
          1791.3400000000001,
          1791.3400000000001,
          1716.3400000000001,
          1726.3400000000001,
          1926.3400000000001,
          1926.3400000000001,
          1926.3400000000001,
          1926.3400000000001,
          1926.3400000000001,
          1926.3400000000001,
          2126.34,
          2150.34,
          2118.34,
          2098.34,
          2098.34,
          2298.34,
          2298.34,
          2216.34,
          2416.34,
          2416.34,
          2216.34,
          2216.34,
          2016.3400000000001,
          1709.3400000000001,
          1709.3400000000001,
          2109.34,
          2109.34,
          2109.34,
          2109.34,
          1809.3400000000001
         ],
         "yaxis": "y"
        }
       ],
       "layout": {
        "legend": {
         "title": {
          "text": "variable"
         },
         "tracegroupgap": 0
        },
        "template": {
         "data": {
          "bar": [
           {
            "error_x": {
             "color": "#2a3f5f"
            },
            "error_y": {
             "color": "#2a3f5f"
            },
            "marker": {
             "line": {
              "color": "#E5ECF6",
              "width": 0.5
             },
             "pattern": {
              "fillmode": "overlay",
              "size": 10,
              "solidity": 0.2
             }
            },
            "type": "bar"
           }
          ],
          "barpolar": [
           {
            "marker": {
             "line": {
              "color": "#E5ECF6",
              "width": 0.5
             },
             "pattern": {
              "fillmode": "overlay",
              "size": 10,
              "solidity": 0.2
             }
            },
            "type": "barpolar"
           }
          ],
          "carpet": [
           {
            "aaxis": {
             "endlinecolor": "#2a3f5f",
             "gridcolor": "white",
             "linecolor": "white",
             "minorgridcolor": "white",
             "startlinecolor": "#2a3f5f"
            },
            "baxis": {
             "endlinecolor": "#2a3f5f",
             "gridcolor": "white",
             "linecolor": "white",
             "minorgridcolor": "white",
             "startlinecolor": "#2a3f5f"
            },
            "type": "carpet"
           }
          ],
          "choropleth": [
           {
            "colorbar": {
             "outlinewidth": 0,
             "ticks": ""
            },
            "type": "choropleth"
           }
          ],
          "contour": [
           {
            "colorbar": {
             "outlinewidth": 0,
             "ticks": ""
            },
            "colorscale": [
             [
              0,
              "#0d0887"
             ],
             [
              0.1111111111111111,
              "#46039f"
             ],
             [
              0.2222222222222222,
              "#7201a8"
             ],
             [
              0.3333333333333333,
              "#9c179e"
             ],
             [
              0.4444444444444444,
              "#bd3786"
             ],
             [
              0.5555555555555556,
              "#d8576b"
             ],
             [
              0.6666666666666666,
              "#ed7953"
             ],
             [
              0.7777777777777778,
              "#fb9f3a"
             ],
             [
              0.8888888888888888,
              "#fdca26"
             ],
             [
              1,
              "#f0f921"
             ]
            ],
            "type": "contour"
           }
          ],
          "contourcarpet": [
           {
            "colorbar": {
             "outlinewidth": 0,
             "ticks": ""
            },
            "type": "contourcarpet"
           }
          ],
          "heatmap": [
           {
            "colorbar": {
             "outlinewidth": 0,
             "ticks": ""
            },
            "colorscale": [
             [
              0,
              "#0d0887"
             ],
             [
              0.1111111111111111,
              "#46039f"
             ],
             [
              0.2222222222222222,
              "#7201a8"
             ],
             [
              0.3333333333333333,
              "#9c179e"
             ],
             [
              0.4444444444444444,
              "#bd3786"
             ],
             [
              0.5555555555555556,
              "#d8576b"
             ],
             [
              0.6666666666666666,
              "#ed7953"
             ],
             [
              0.7777777777777778,
              "#fb9f3a"
             ],
             [
              0.8888888888888888,
              "#fdca26"
             ],
             [
              1,
              "#f0f921"
             ]
            ],
            "type": "heatmap"
           }
          ],
          "heatmapgl": [
           {
            "colorbar": {
             "outlinewidth": 0,
             "ticks": ""
            },
            "colorscale": [
             [
              0,
              "#0d0887"
             ],
             [
              0.1111111111111111,
              "#46039f"
             ],
             [
              0.2222222222222222,
              "#7201a8"
             ],
             [
              0.3333333333333333,
              "#9c179e"
             ],
             [
              0.4444444444444444,
              "#bd3786"
             ],
             [
              0.5555555555555556,
              "#d8576b"
             ],
             [
              0.6666666666666666,
              "#ed7953"
             ],
             [
              0.7777777777777778,
              "#fb9f3a"
             ],
             [
              0.8888888888888888,
              "#fdca26"
             ],
             [
              1,
              "#f0f921"
             ]
            ],
            "type": "heatmapgl"
           }
          ],
          "histogram": [
           {
            "marker": {
             "pattern": {
              "fillmode": "overlay",
              "size": 10,
              "solidity": 0.2
             }
            },
            "type": "histogram"
           }
          ],
          "histogram2d": [
           {
            "colorbar": {
             "outlinewidth": 0,
             "ticks": ""
            },
            "colorscale": [
             [
              0,
              "#0d0887"
             ],
             [
              0.1111111111111111,
              "#46039f"
             ],
             [
              0.2222222222222222,
              "#7201a8"
             ],
             [
              0.3333333333333333,
              "#9c179e"
             ],
             [
              0.4444444444444444,
              "#bd3786"
             ],
             [
              0.5555555555555556,
              "#d8576b"
             ],
             [
              0.6666666666666666,
              "#ed7953"
             ],
             [
              0.7777777777777778,
              "#fb9f3a"
             ],
             [
              0.8888888888888888,
              "#fdca26"
             ],
             [
              1,
              "#f0f921"
             ]
            ],
            "type": "histogram2d"
           }
          ],
          "histogram2dcontour": [
           {
            "colorbar": {
             "outlinewidth": 0,
             "ticks": ""
            },
            "colorscale": [
             [
              0,
              "#0d0887"
             ],
             [
              0.1111111111111111,
              "#46039f"
             ],
             [
              0.2222222222222222,
              "#7201a8"
             ],
             [
              0.3333333333333333,
              "#9c179e"
             ],
             [
              0.4444444444444444,
              "#bd3786"
             ],
             [
              0.5555555555555556,
              "#d8576b"
             ],
             [
              0.6666666666666666,
              "#ed7953"
             ],
             [
              0.7777777777777778,
              "#fb9f3a"
             ],
             [
              0.8888888888888888,
              "#fdca26"
             ],
             [
              1,
              "#f0f921"
             ]
            ],
            "type": "histogram2dcontour"
           }
          ],
          "mesh3d": [
           {
            "colorbar": {
             "outlinewidth": 0,
             "ticks": ""
            },
            "type": "mesh3d"
           }
          ],
          "parcoords": [
           {
            "line": {
             "colorbar": {
              "outlinewidth": 0,
              "ticks": ""
             }
            },
            "type": "parcoords"
           }
          ],
          "pie": [
           {
            "automargin": true,
            "type": "pie"
           }
          ],
          "scatter": [
           {
            "fillpattern": {
             "fillmode": "overlay",
             "size": 10,
             "solidity": 0.2
            },
            "type": "scatter"
           }
          ],
          "scatter3d": [
           {
            "line": {
             "colorbar": {
              "outlinewidth": 0,
              "ticks": ""
             }
            },
            "marker": {
             "colorbar": {
              "outlinewidth": 0,
              "ticks": ""
             }
            },
            "type": "scatter3d"
           }
          ],
          "scattercarpet": [
           {
            "marker": {
             "colorbar": {
              "outlinewidth": 0,
              "ticks": ""
             }
            },
            "type": "scattercarpet"
           }
          ],
          "scattergeo": [
           {
            "marker": {
             "colorbar": {
              "outlinewidth": 0,
              "ticks": ""
             }
            },
            "type": "scattergeo"
           }
          ],
          "scattergl": [
           {
            "marker": {
             "colorbar": {
              "outlinewidth": 0,
              "ticks": ""
             }
            },
            "type": "scattergl"
           }
          ],
          "scattermapbox": [
           {
            "marker": {
             "colorbar": {
              "outlinewidth": 0,
              "ticks": ""
             }
            },
            "type": "scattermapbox"
           }
          ],
          "scatterpolar": [
           {
            "marker": {
             "colorbar": {
              "outlinewidth": 0,
              "ticks": ""
             }
            },
            "type": "scatterpolar"
           }
          ],
          "scatterpolargl": [
           {
            "marker": {
             "colorbar": {
              "outlinewidth": 0,
              "ticks": ""
             }
            },
            "type": "scatterpolargl"
           }
          ],
          "scatterternary": [
           {
            "marker": {
             "colorbar": {
              "outlinewidth": 0,
              "ticks": ""
             }
            },
            "type": "scatterternary"
           }
          ],
          "surface": [
           {
            "colorbar": {
             "outlinewidth": 0,
             "ticks": ""
            },
            "colorscale": [
             [
              0,
              "#0d0887"
             ],
             [
              0.1111111111111111,
              "#46039f"
             ],
             [
              0.2222222222222222,
              "#7201a8"
             ],
             [
              0.3333333333333333,
              "#9c179e"
             ],
             [
              0.4444444444444444,
              "#bd3786"
             ],
             [
              0.5555555555555556,
              "#d8576b"
             ],
             [
              0.6666666666666666,
              "#ed7953"
             ],
             [
              0.7777777777777778,
              "#fb9f3a"
             ],
             [
              0.8888888888888888,
              "#fdca26"
             ],
             [
              1,
              "#f0f921"
             ]
            ],
            "type": "surface"
           }
          ],
          "table": [
           {
            "cells": {
             "fill": {
              "color": "#EBF0F8"
             },
             "line": {
              "color": "white"
             }
            },
            "header": {
             "fill": {
              "color": "#C8D4E3"
             },
             "line": {
              "color": "white"
             }
            },
            "type": "table"
           }
          ]
         },
         "layout": {
          "annotationdefaults": {
           "arrowcolor": "#2a3f5f",
           "arrowhead": 0,
           "arrowwidth": 1
          },
          "autotypenumbers": "strict",
          "coloraxis": {
           "colorbar": {
            "outlinewidth": 0,
            "ticks": ""
           }
          },
          "colorscale": {
           "diverging": [
            [
             0,
             "#8e0152"
            ],
            [
             0.1,
             "#c51b7d"
            ],
            [
             0.2,
             "#de77ae"
            ],
            [
             0.3,
             "#f1b6da"
            ],
            [
             0.4,
             "#fde0ef"
            ],
            [
             0.5,
             "#f7f7f7"
            ],
            [
             0.6,
             "#e6f5d0"
            ],
            [
             0.7,
             "#b8e186"
            ],
            [
             0.8,
             "#7fbc41"
            ],
            [
             0.9,
             "#4d9221"
            ],
            [
             1,
             "#276419"
            ]
           ],
           "sequential": [
            [
             0,
             "#0d0887"
            ],
            [
             0.1111111111111111,
             "#46039f"
            ],
            [
             0.2222222222222222,
             "#7201a8"
            ],
            [
             0.3333333333333333,
             "#9c179e"
            ],
            [
             0.4444444444444444,
             "#bd3786"
            ],
            [
             0.5555555555555556,
             "#d8576b"
            ],
            [
             0.6666666666666666,
             "#ed7953"
            ],
            [
             0.7777777777777778,
             "#fb9f3a"
            ],
            [
             0.8888888888888888,
             "#fdca26"
            ],
            [
             1,
             "#f0f921"
            ]
           ],
           "sequentialminus": [
            [
             0,
             "#0d0887"
            ],
            [
             0.1111111111111111,
             "#46039f"
            ],
            [
             0.2222222222222222,
             "#7201a8"
            ],
            [
             0.3333333333333333,
             "#9c179e"
            ],
            [
             0.4444444444444444,
             "#bd3786"
            ],
            [
             0.5555555555555556,
             "#d8576b"
            ],
            [
             0.6666666666666666,
             "#ed7953"
            ],
            [
             0.7777777777777778,
             "#fb9f3a"
            ],
            [
             0.8888888888888888,
             "#fdca26"
            ],
            [
             1,
             "#f0f921"
            ]
           ]
          },
          "colorway": [
           "#636efa",
           "#EF553B",
           "#00cc96",
           "#ab63fa",
           "#FFA15A",
           "#19d3f3",
           "#FF6692",
           "#B6E880",
           "#FF97FF",
           "#FECB52"
          ],
          "font": {
           "color": "#2a3f5f"
          },
          "geo": {
           "bgcolor": "white",
           "lakecolor": "white",
           "landcolor": "#E5ECF6",
           "showlakes": true,
           "showland": true,
           "subunitcolor": "white"
          },
          "hoverlabel": {
           "align": "left"
          },
          "hovermode": "closest",
          "mapbox": {
           "style": "light"
          },
          "paper_bgcolor": "white",
          "plot_bgcolor": "#E5ECF6",
          "polar": {
           "angularaxis": {
            "gridcolor": "white",
            "linecolor": "white",
            "ticks": ""
           },
           "bgcolor": "#E5ECF6",
           "radialaxis": {
            "gridcolor": "white",
            "linecolor": "white",
            "ticks": ""
           }
          },
          "scene": {
           "xaxis": {
            "backgroundcolor": "#E5ECF6",
            "gridcolor": "white",
            "gridwidth": 2,
            "linecolor": "white",
            "showbackground": true,
            "ticks": "",
            "zerolinecolor": "white"
           },
           "yaxis": {
            "backgroundcolor": "#E5ECF6",
            "gridcolor": "white",
            "gridwidth": 2,
            "linecolor": "white",
            "showbackground": true,
            "ticks": "",
            "zerolinecolor": "white"
           },
           "zaxis": {
            "backgroundcolor": "#E5ECF6",
            "gridcolor": "white",
            "gridwidth": 2,
            "linecolor": "white",
            "showbackground": true,
            "ticks": "",
            "zerolinecolor": "white"
           }
          },
          "shapedefaults": {
           "line": {
            "color": "#2a3f5f"
           }
          },
          "ternary": {
           "aaxis": {
            "gridcolor": "white",
            "linecolor": "white",
            "ticks": ""
           },
           "baxis": {
            "gridcolor": "white",
            "linecolor": "white",
            "ticks": ""
           },
           "bgcolor": "#E5ECF6",
           "caxis": {
            "gridcolor": "white",
            "linecolor": "white",
            "ticks": ""
           }
          },
          "title": {
           "x": 0.05
          },
          "xaxis": {
           "automargin": true,
           "gridcolor": "white",
           "linecolor": "white",
           "ticks": "",
           "title": {
            "standoff": 15
           },
           "zerolinecolor": "white",
           "zerolinewidth": 2
          },
          "yaxis": {
           "automargin": true,
           "gridcolor": "white",
           "linecolor": "white",
           "ticks": "",
           "title": {
            "standoff": 15
           },
           "zerolinecolor": "white",
           "zerolinewidth": 2
          }
         }
        },
        "title": {
         "text": "Players Wealth Over the Monopoly Game"
        },
        "xaxis": {
         "anchor": "y",
         "domain": [
          0,
          1
         ],
         "title": {
          "text": "Time Step"
         }
        },
        "yaxis": {
         "anchor": "x",
         "domain": [
          0,
          1
         ],
         "title": {
          "text": "value"
         }
        }
       }
      }
     },
     "metadata": {},
     "output_type": "display_data"
    }
   ],
   "source": [
    "i = 0\n",
    "\n",
    "while player1.bankrupt == False and player2.bankrupt == False and i < 500:\n",
    "    i += 1\n",
    "\n",
    "    board.take_turn(player1)\n",
    "    player1_wealth.append(player1.wealth())\n",
    "    board.take_turn(player2)\n",
    "    player2_wealth.append(player2.wealth())\n",
    "        \n",
    "\n",
    "print(f'The game lasted {i} rounds.')\n",
    "\n",
    "df = pd.DataFrame({'Time Step': range(len(player1_wealth)), 'Player 1 wealth': player1_wealth, 'Player 2 wealth': player2_wealth})\n",
    "fig = px.line(df, x='Time Step', y=['Player 1 wealth', 'Player 2 wealth'], title='Players Wealth Over the Monopoly Game')\n",
    "fig.show()"
   ]
  },
  {
   "cell_type": "code",
   "execution_count": 161,
   "metadata": {},
   "outputs": [
    {
     "data": {
      "text/plain": [
       "(Player Cat is currently as position 23 on the board, with $467.0.             \n",
       "  They hold the following properties: ['Whitechapel Road', 'Pall Mall', 'Piccadilly', 'Old Kent Road'].            \n",
       "  They hold the following stations: ['Marylebone Station', 'Liverpool St. Station']            \n",
       "  They hold the following utilities: ['Water Works', 'Electric Company']            \n",
       "  The player has 8 houses and 2 hotels             \n",
       "  The player is currently not in jail.,\n",
       " Player Vlad is currently as position 22 on the board, with $46.0.             \n",
       "  They hold the following properties: ['Whitehall', 'The Strand', 'Leicester Square', 'Northumberland Avenue', 'Trafalgar Square', 'Fleet Street'].            \n",
       "  They hold the following stations: [\"King's Cross Station\", 'Fenchurch St. Station']            \n",
       "  They hold the following utilities: []            \n",
       "  The player has 14 houses and 0 hotels             \n",
       "  The player is currently not in jail.)"
      ]
     },
     "execution_count": 161,
     "metadata": {},
     "output_type": "execute_result"
    }
   ],
   "source": [
    "player1, player2"
   ]
  },
  {
   "cell_type": "markdown",
   "metadata": {},
   "source": [
    "### Checking income tax calculations"
   ]
  },
  {
   "cell_type": "code",
   "execution_count": 162,
   "metadata": {},
   "outputs": [],
   "source": [
    "board = MonopolyBoard()\n",
    "player1 = Player('Cat')\n",
    "player2 = Player('Vlad')\n",
    "\n",
    "board.add_player(player1)\n",
    "board.add_player(player2)"
   ]
  },
  {
   "cell_type": "code",
   "execution_count": 163,
   "metadata": {},
   "outputs": [
    {
     "data": {
      "text/plain": [
       "(150.0, 150.0)"
      ]
     },
     "execution_count": 163,
     "metadata": {},
     "output_type": "execute_result"
    }
   ],
   "source": [
    "board.board[4].calculate_tax(player1), board.board[4].calculate_tax(player2)"
   ]
  },
  {
   "cell_type": "code",
   "execution_count": 164,
   "metadata": {},
   "outputs": [
    {
     "name": "stdout",
     "output_type": "stream",
     "text": [
      "Income tax for player Cat: 135.0\n",
      "Income tax for player Vlad: 150.0\n",
      "Income tax for player Cat: 135.0\n",
      "Income tax for player Vlad: 149.20000000000002\n",
      "Income tax for player Cat: 135.8\n",
      "Income tax for player Vlad: 149.20000000000002\n",
      "Income tax for player Cat: 110.80000000000001\n",
      "Income tax for player Vlad: 151.70000000000002\n",
      "Income tax for player Cat: 110.80000000000001\n",
      "Income tax for player Vlad: 171.70000000000002\n",
      "Income tax for player Cat: 110.80000000000001\n",
      "Income tax for player Vlad: 171.70000000000002\n",
      "Income tax for player Cat: 130.8\n",
      "Income tax for player Vlad: 149.70000000000002\n",
      "Income tax for player Cat: 132.8\n",
      "Income tax for player Vlad: 163.3\n",
      "Income tax for player Cat: 133.4\n",
      "Income tax for player Vlad: 164.10000000000002\n",
      "Income tax for player Cat: 133.4\n",
      "Income tax for player Vlad: 184.10000000000002\n",
      "Income tax for player Cat: 128.4\n",
      "Income tax for player Vlad: 188.3\n",
      "Income tax for player Cat: 148.8\n",
      "Income tax for player Vlad: 188.70000000000002\n",
      "Income tax for player Cat: 148.8\n",
      "Income tax for player Vlad: 188.70000000000002\n",
      "Income tax for player Cat: 148.8\n",
      "Income tax for player Vlad: 200\n",
      "Income tax for player Cat: 148.8\n",
      "Income tax for player Vlad: 200\n",
      "Income tax for player Cat: 128.8\n",
      "Income tax for player Vlad: 200\n",
      "Income tax for player Cat: 128.8\n",
      "Income tax for player Vlad: 193.70000000000002\n",
      "Income tax for player Cat: 128.8\n",
      "Income tax for player Vlad: 187.70000000000002\n",
      "Income tax for player Cat: 128.8\n",
      "Income tax for player Vlad: 187.70000000000002\n",
      "Income tax for player Cat: 128.8\n",
      "Income tax for player Vlad: 187.70000000000002\n",
      "Income tax for player Cat: 148.8\n",
      "Income tax for player Vlad: 187.70000000000002\n",
      "Income tax for player Cat: 148.8\n",
      "Income tax for player Vlad: 187.70000000000002\n",
      "Income tax for player Cat: 148.8\n",
      "Income tax for player Vlad: 187.70000000000002\n",
      "Income tax for player Cat: 163.8\n",
      "Income tax for player Vlad: 200\n",
      "Income tax for player Cat: 143.8\n",
      "Income tax for player Vlad: 200\n",
      "Income tax for player Cat: 137.8\n",
      "Income tax for player Vlad: 200\n",
      "Income tax for player Cat: 137.8\n",
      "Income tax for player Vlad: 200\n",
      "Income tax for player Cat: 139.6\n",
      "Income tax for player Vlad: 200\n",
      "Income tax for player Cat: 139.6\n",
      "Income tax for player Vlad: 186.9\n",
      "Income tax for player Cat: 129.6\n",
      "Income tax for player Vlad: 186.9\n",
      "Income tax for player Cat: 149.6\n",
      "Income tax for player Vlad: 151.9\n",
      "Income tax for player Cat: 149.6\n",
      "Income tax for player Vlad: 121.9\n",
      "Income tax for player Cat: 149.6\n",
      "Income tax for player Vlad: 128.6\n",
      "Income tax for player Cat: 149.6\n",
      "Income tax for player Vlad: 148.6\n",
      "Income tax for player Cat: 149.6\n",
      "Income tax for player Vlad: 148.6\n",
      "Income tax for player Cat: 169.60000000000002\n",
      "Income tax for player Vlad: 136.8\n",
      "Income tax for player Cat: 169.60000000000002\n",
      "Income tax for player Vlad: 136.8\n",
      "Income tax for player Cat: 149.6\n",
      "Income tax for player Vlad: 136.8\n",
      "Income tax for player Cat: 169.60000000000002\n",
      "Income tax for player Vlad: 156.8\n",
      "Income tax for player Cat: 169.60000000000002\n",
      "Income tax for player Vlad: 156.8\n",
      "Income tax for player Cat: 169.60000000000002\n",
      "Income tax for player Vlad: 125.30000000000001\n",
      "Income tax for player Cat: 174.60000000000002\n",
      "Income tax for player Vlad: 135.3\n",
      "Income tax for player Cat: 174.60000000000002\n",
      "Income tax for player Vlad: 115.30000000000001\n",
      "Income tax for player Cat: 174.60000000000002\n",
      "Income tax for player Vlad: 135.3\n",
      "Income tax for player Cat: 174.60000000000002\n",
      "Income tax for player Vlad: 135.3\n",
      "Income tax for player Cat: 193.10000000000002\n",
      "Income tax for player Vlad: 135.3\n",
      "Income tax for player Cat: 193.10000000000002\n",
      "Income tax for player Vlad: 133.3\n",
      "Income tax for player Cat: 195.10000000000002\n",
      "Income tax for player Vlad: 113.30000000000001\n",
      "Income tax for player Cat: 197.10000000000002\n",
      "Income tax for player Vlad: 95.10000000000001\n",
      "Income tax for player Cat: 193.3\n",
      "Income tax for player Vlad: 95.10000000000001\n",
      "The game lasted 50 rounds.\n"
     ]
    }
   ],
   "source": [
    "i = 0\n",
    "while player1.bankrupt == False and player2.bankrupt == False and i < 50:\n",
    "    i += 1\n",
    "    for player in board.players:\n",
    "        board.take_turn(player)\n",
    "        print(f'Income tax for player {player.name}:', board.board[4].calculate_tax(player))\n",
    "        \n",
    "print(f'The game lasted {i} rounds.')"
   ]
  },
  {
   "cell_type": "code",
   "execution_count": 165,
   "metadata": {},
   "outputs": [
    {
     "data": {
      "text/plain": [
       "(193.3, 95.10000000000001)"
      ]
     },
     "execution_count": 165,
     "metadata": {},
     "output_type": "execute_result"
    }
   ],
   "source": [
    "board.board[4].calculate_tax(player1), board.board[4].calculate_tax(player2)"
   ]
  },
  {
   "cell_type": "markdown",
   "metadata": {},
   "source": [
    "### Double rent for full sets"
   ]
  },
  {
   "cell_type": "code",
   "execution_count": 166,
   "metadata": {},
   "outputs": [],
   "source": [
    "board = MonopolyBoard()\n",
    "player1 = Player('Cat')\n",
    "player2 = Player('Vlad')\n",
    "\n",
    "board.add_player(player1)\n",
    "board.add_player(player2)"
   ]
  },
  {
   "cell_type": "code",
   "execution_count": 167,
   "metadata": {},
   "outputs": [
    {
     "name": "stdout",
     "output_type": "stream",
     "text": [
      "2 0\n",
      "4 8\n",
      "10 8\n",
      "10 20\n"
     ]
    }
   ],
   "source": [
    "player1.buy_property(board.board[1])\n",
    "\n",
    "print(board.board[1].calculate_rent(), board.board[3].calculate_rent())\n",
    "\n",
    "player1.buy_property(board.board[3])\n",
    "\n",
    "print(board.board[1].calculate_rent(), board.board[3].calculate_rent())\n",
    "\n",
    "board.board[1].num_houses = 1\n",
    "\n",
    "print(board.board[1].calculate_rent(), board.board[3].calculate_rent())\n",
    "\n",
    "board.board[3].num_houses = 1\n",
    "\n",
    "print(board.board[1].calculate_rent(), board.board[3].calculate_rent())"
   ]
  },
  {
   "cell_type": "markdown",
   "metadata": {},
   "source": [
    "### Mortgaging"
   ]
  },
  {
   "cell_type": "code",
   "execution_count": 168,
   "metadata": {},
   "outputs": [],
   "source": [
    "board = MonopolyBoard()\n",
    "player1 = Player('Cat')\n",
    "player2 = Player('Vlad')\n",
    "\n",
    "board.add_player(player1)\n",
    "board.add_player(player2)"
   ]
  },
  {
   "cell_type": "code",
   "execution_count": 169,
   "metadata": {},
   "outputs": [
    {
     "data": {
      "text/plain": [
       "True"
      ]
     },
     "execution_count": 169,
     "metadata": {},
     "output_type": "execute_result"
    }
   ],
   "source": [
    "player1.buy_property(board.board[1])\n",
    "player1.buy_property(board.board[3])"
   ]
  },
  {
   "cell_type": "code",
   "execution_count": 170,
   "metadata": {},
   "outputs": [
    {
     "data": {
      "text/plain": [
       "60.0"
      ]
     },
     "execution_count": 170,
     "metadata": {},
     "output_type": "execute_result"
    }
   ],
   "source": [
    "board.decide_mortgage_properties(player1, 70)"
   ]
  },
  {
   "cell_type": "code",
   "execution_count": 171,
   "metadata": {},
   "outputs": [
    {
     "data": {
      "text/plain": [
       "1440.0"
      ]
     },
     "execution_count": 171,
     "metadata": {},
     "output_type": "execute_result"
    }
   ],
   "source": [
    "player1.money"
   ]
  },
  {
   "cell_type": "code",
   "execution_count": 172,
   "metadata": {},
   "outputs": [
    {
     "data": {
      "text/plain": [
       "(True, True)"
      ]
     },
     "execution_count": 172,
     "metadata": {},
     "output_type": "execute_result"
    }
   ],
   "source": [
    "board.board[1].is_mortgaged, board.board[3].is_mortgaged"
   ]
  },
  {
   "cell_type": "code",
   "execution_count": 173,
   "metadata": {},
   "outputs": [
    {
     "data": {
      "text/plain": [
       "[Old Kent Road is one of the 2 properties in the brown set located at position 1 on the Monopoly board                 \n",
       "  and can be purchased for $60 with a house price of $50. Rent prices are as follows: \n",
       "  Rent: 2 \n",
       "  Double rent: 4                 \n",
       "  Rent 1 house: 10 \n",
       "  Rent 2 houses: 30 \n",
       "  Rent 3 houses: 90 \n",
       "  Rent 4 houses: 160                 \n",
       "  Rent hotel: 250 \n",
       "  The property is currently owned by Cat and has 0 houses and 0 hotels.,\n",
       " Whitechapel Road is one of the 2 properties in the brown set located at position 3 on the Monopoly board                 \n",
       "  and can be purchased for $60 with a house price of $50. Rent prices are as follows: \n",
       "  Rent: 4 \n",
       "  Double rent: 8                 \n",
       "  Rent 1 house: 20 \n",
       "  Rent 2 houses: 60 \n",
       "  Rent 3 houses: 180 \n",
       "  Rent 4 houses: 320                 \n",
       "  Rent hotel: 450 \n",
       "  The property is currently owned by Cat and has 0 houses and 0 hotels.]"
      ]
     },
     "execution_count": 173,
     "metadata": {},
     "output_type": "execute_result"
    }
   ],
   "source": [
    "[property for property in player1.properties]"
   ]
  },
  {
   "cell_type": "markdown",
   "metadata": {},
   "source": [
    "### Selling houses/hotels"
   ]
  },
  {
   "cell_type": "code",
   "execution_count": 174,
   "metadata": {},
   "outputs": [],
   "source": [
    "board = MonopolyBoard()\n",
    "player1 = Player('Cat')\n",
    "player2 = Player('Vlad')\n",
    "\n",
    "board.add_player(player1)\n",
    "board.add_player(player2)"
   ]
  },
  {
   "cell_type": "code",
   "execution_count": 175,
   "metadata": {},
   "outputs": [],
   "source": [
    "player1.buy_property(board.board[1])\n",
    "player1.buy_property(board.board[3])\n",
    "\n",
    "board.board[1].num_houses = 2\n",
    "board.board[3].num_houses = 2"
   ]
  },
  {
   "cell_type": "code",
   "execution_count": 176,
   "metadata": {},
   "outputs": [
    {
     "data": {
      "text/plain": [
       "50.0"
      ]
     },
     "execution_count": 176,
     "metadata": {},
     "output_type": "execute_result"
    }
   ],
   "source": [
    "board.decide_sell_houses(player1, 50)"
   ]
  },
  {
   "cell_type": "code",
   "execution_count": 177,
   "metadata": {},
   "outputs": [
    {
     "data": {
      "text/plain": [
       "(0, 2)"
      ]
     },
     "execution_count": 177,
     "metadata": {},
     "output_type": "execute_result"
    }
   ],
   "source": [
    "board.board[1].num_houses, board.board[3].num_houses"
   ]
  },
  {
   "cell_type": "code",
   "execution_count": 178,
   "metadata": {},
   "outputs": [
    {
     "data": {
      "text/plain": [
       "50.0"
      ]
     },
     "execution_count": 178,
     "metadata": {},
     "output_type": "execute_result"
    }
   ],
   "source": [
    "board.decide_sell_houses(player1, 30)"
   ]
  },
  {
   "cell_type": "code",
   "execution_count": 179,
   "metadata": {},
   "outputs": [
    {
     "data": {
      "text/plain": [
       "(0, 0)"
      ]
     },
     "execution_count": 179,
     "metadata": {},
     "output_type": "execute_result"
    }
   ],
   "source": [
    "board.board[1].num_houses, board.board[3].num_houses"
   ]
  },
  {
   "cell_type": "code",
   "execution_count": 180,
   "metadata": {},
   "outputs": [],
   "source": [
    "board.board[1].num_houses = 4\n",
    "board.board[3].num_houses = 4\n",
    "board.board[1].hotel = True\n",
    "board.board[3].hotel = True"
   ]
  },
  {
   "cell_type": "code",
   "execution_count": 181,
   "metadata": {},
   "outputs": [
    {
     "data": {
      "text/plain": [
       "125.0"
      ]
     },
     "execution_count": 181,
     "metadata": {},
     "output_type": "execute_result"
    }
   ],
   "source": [
    "board.decide_sell_houses(player1, 110)"
   ]
  },
  {
   "cell_type": "code",
   "execution_count": 182,
   "metadata": {},
   "outputs": [
    {
     "data": {
      "text/plain": [
       "(0, False, 4, True)"
      ]
     },
     "execution_count": 182,
     "metadata": {},
     "output_type": "execute_result"
    }
   ],
   "source": [
    "board.board[1].num_houses, board.board[1].hotel, board.board[3].num_houses, board.board[3].hotel"
   ]
  },
  {
   "cell_type": "code",
   "execution_count": 183,
   "metadata": {},
   "outputs": [
    {
     "data": {
      "text/plain": [
       "50.0"
      ]
     },
     "execution_count": 183,
     "metadata": {},
     "output_type": "execute_result"
    }
   ],
   "source": [
    "board.decide_sell_houses(player1, 40)"
   ]
  },
  {
   "cell_type": "code",
   "execution_count": 184,
   "metadata": {},
   "outputs": [
    {
     "data": {
      "text/plain": [
       "(0, False, 3, False)"
      ]
     },
     "execution_count": 184,
     "metadata": {},
     "output_type": "execute_result"
    }
   ],
   "source": [
    "board.board[1].num_houses, board.board[1].hotel, board.board[3].num_houses, board.board[3].hotel"
   ]
  },
  {
   "cell_type": "markdown",
   "metadata": {},
   "source": [
    "### Raising funds from selling houses/mortgaging to pay"
   ]
  },
  {
   "cell_type": "code",
   "execution_count": 185,
   "metadata": {},
   "outputs": [],
   "source": [
    "board = MonopolyBoard()\n",
    "player1 = Player('Cat')\n",
    "player2 = Player('Vlad')\n",
    "\n",
    "board.add_player(player1)\n",
    "board.add_player(player2)"
   ]
  },
  {
   "cell_type": "code",
   "execution_count": 186,
   "metadata": {},
   "outputs": [],
   "source": [
    "player1.buy_property(board.board[1])\n",
    "player1.buy_property(board.board[3])\n",
    "\n",
    "board.board[1].num_houses = 2\n",
    "board.board[3].num_houses = 2\n",
    "\n",
    "player1.money = 0"
   ]
  },
  {
   "cell_type": "code",
   "execution_count": 187,
   "metadata": {},
   "outputs": [],
   "source": [
    "board.raise_funds(player1, 50)"
   ]
  },
  {
   "cell_type": "code",
   "execution_count": 188,
   "metadata": {},
   "outputs": [
    {
     "data": {
      "text/plain": [
       "(0.0, 0, 2, False, False)"
      ]
     },
     "execution_count": 188,
     "metadata": {},
     "output_type": "execute_result"
    }
   ],
   "source": [
    "player1.money, board.board[1].num_houses, board.board[3].num_houses, board.board[1].is_mortgaged, board.board[3].is_mortgaged"
   ]
  },
  {
   "cell_type": "code",
   "execution_count": 189,
   "metadata": {},
   "outputs": [],
   "source": [
    "board.raise_funds(player1, 60)"
   ]
  },
  {
   "cell_type": "code",
   "execution_count": 190,
   "metadata": {},
   "outputs": [
    {
     "data": {
      "text/plain": [
       "(20.0, 0, 0, True, False)"
      ]
     },
     "execution_count": 190,
     "metadata": {},
     "output_type": "execute_result"
    }
   ],
   "source": [
    "player1.money, board.board[1].num_houses, board.board[3].num_houses, board.board[1].is_mortgaged, board.board[3].is_mortgaged"
   ]
  },
  {
   "cell_type": "code",
   "execution_count": 195,
   "metadata": {},
   "outputs": [],
   "source": [
    "board.raise_funds(player1, 30)"
   ]
  },
  {
   "cell_type": "code",
   "execution_count": 196,
   "metadata": {},
   "outputs": [
    {
     "data": {
      "text/plain": [
       "(0.0, 0, 0, True, True)"
      ]
     },
     "execution_count": 196,
     "metadata": {},
     "output_type": "execute_result"
    }
   ],
   "source": [
    "player1.money, board.board[1].num_houses, board.board[3].num_houses, board.board[1].is_mortgaged, board.board[3].is_mortgaged"
   ]
  },
  {
   "cell_type": "markdown",
   "metadata": {},
   "source": [
    "With lots of money until bankrupcy:"
   ]
  },
  {
   "cell_type": "code",
   "execution_count": 199,
   "metadata": {},
   "outputs": [],
   "source": [
    "board = MonopolyBoard()\n",
    "player1 = Player('Cat')\n",
    "player2 = Player('Vlad')\n",
    "\n",
    "board.add_player(player1)\n",
    "board.add_player(player2)\n",
    "\n",
    "player1.money = 100000\n",
    "player2.money = 100000"
   ]
  },
  {
   "cell_type": "code",
   "execution_count": 200,
   "metadata": {},
   "outputs": [
    {
     "name": "stdout",
     "output_type": "stream",
     "text": [
      "The game lasted 770 rounds.\n"
     ]
    }
   ],
   "source": [
    "i = 0\n",
    "while player1.bankrupt == False and player2.bankrupt == False:\n",
    "    i += 1\n",
    "    for player in board.players:\n",
    "        board.take_turn(player)\n",
    "\n",
    "print(f'The game lasted {i} rounds.')"
   ]
  },
  {
   "cell_type": "code",
   "execution_count": 201,
   "metadata": {},
   "outputs": [
    {
     "data": {
      "text/plain": [
       "(Player Cat is currently as position 22 on the board, with $212432.             \n",
       "  They hold the following properties: ['Bow Street', 'Coventry Street', 'Mayfair', 'Piccadilly', 'Vine Street', 'Leicester Square', 'Park Lane'].            \n",
       "  They hold the following stations: [\"King's Cross Station\", 'Fenchurch St. Station']            \n",
       "  They hold the following utilities: ['Electric Company']            \n",
       "  The player has 20 houses and 5 hotels             \n",
       "  The player is currently not in jail.,\n",
       " Player Vlad is currently as position 29 on the board, with $1072.0.             \n",
       "  They hold the following properties: ['Pall Mall', 'Marlborough Street', 'Northumberland Avenue', 'Whitehall'].            \n",
       "  They hold the following stations: ['Marylebone Station', 'Liverpool St. Station']            \n",
       "  They hold the following utilities: ['Water Works']            \n",
       "  The player has 14 houses and 3 hotels             \n",
       "  The player is currently not in jail.)"
      ]
     },
     "execution_count": 201,
     "metadata": {},
     "output_type": "execute_result"
    }
   ],
   "source": [
    "player1, player2"
   ]
  },
  {
   "cell_type": "code",
   "execution_count": 204,
   "metadata": {},
   "outputs": [
    {
     "name": "stdout",
     "output_type": "stream",
     "text": [
      "Pall Mall 0 False True\n",
      "Marlborough Street 0 False True\n",
      "Northumberland Avenue 0 False True\n",
      "Whitehall 0 False True\n"
     ]
    }
   ],
   "source": [
    "for prop in player2.properties:\n",
    "    print(prop.name, prop.num_houses, prop.hotel, prop.is_mortgaged)"
   ]
  },
  {
   "cell_type": "code",
   "execution_count": null,
   "metadata": {},
   "outputs": [],
   "source": []
  }
 ],
 "metadata": {
  "kernelspec": {
   "display_name": "Python 3",
   "language": "python",
   "name": "python3"
  },
  "language_info": {
   "codemirror_mode": {
    "name": "ipython",
    "version": 3
   },
   "file_extension": ".py",
   "mimetype": "text/x-python",
   "name": "python",
   "nbconvert_exporter": "python",
   "pygments_lexer": "ipython3",
   "version": "3.10.2"
  }
 },
 "nbformat": 4,
 "nbformat_minor": 2
}
