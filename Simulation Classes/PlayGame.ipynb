{
 "cells": [
  {
   "cell_type": "code",
   "execution_count": 1,
   "metadata": {},
   "outputs": [],
   "source": [
    "%run \"C:\\\\Users\\\\cathe\\\\OneDrive\\\\Documents\\\\Capstone - Optimising Monopoly Gameplay Strategies\\\\Simulation Classes\\\\Player.py\"\n",
    "%run \"C:\\\\Users\\\\cathe\\\\OneDrive\\\\Documents\\\\Capstone - Optimising Monopoly Gameplay Strategies\\\\Simulation Classes\\\\Property.py\"\n",
    "%run \"C:\\\\Users\\\\cathe\\\\OneDrive\\\\Documents\\\\Capstone - Optimising Monopoly Gameplay Strategies\\\\Simulation Classes\\\\Utility.py\"\n",
    "%run \"C:\\\\Users\\\\cathe\\\\OneDrive\\\\Documents\\\\Capstone - Optimising Monopoly Gameplay Strategies\\\\Simulation Classes\\\\Station.py\"\n",
    "%run \"C:\\\\Users\\\\cathe\\\\OneDrive\\\\Documents\\\\Capstone - Optimising Monopoly Gameplay Strategies\\\\Simulation Classes\\\\Chance.py\"\n",
    "%run \"C:\\\\Users\\\\cathe\\\\OneDrive\\\\Documents\\\\Capstone - Optimising Monopoly Gameplay Strategies\\\\Simulation Classes\\\\Tax.py\"\n",
    "%run \"C:\\\\Users\\\\cathe\\\\OneDrive\\\\Documents\\\\Capstone - Optimising Monopoly Gameplay Strategies\\\\Simulation Classes\\\\Go.py\"\n",
    "%run \"C:\\\\Users\\\\cathe\\\\OneDrive\\\\Documents\\\\Capstone - Optimising Monopoly Gameplay Strategies\\\\Simulation Classes\\\\Jail.py\"\n",
    "%run \"C:\\\\Users\\\\cathe\\\\OneDrive\\\\Documents\\\\Capstone - Optimising Monopoly Gameplay Strategies\\\\Simulation Classes\\\\FreeParking.py\"\n",
    "%run \"C:\\\\Users\\\\cathe\\\\OneDrive\\\\Documents\\\\Capstone - Optimising Monopoly Gameplay Strategies\\\\Simulation Classes\\\\GoToJail.py\"\n",
    "%run \"C:\\\\Users\\\\cathe\\\\OneDrive\\\\Documents\\\\Capstone - Optimising Monopoly Gameplay Strategies\\\\Simulation Classes\\\\CommunityChest.py\"\n",
    "%run \"C:\\\\Users\\\\cathe\\\\OneDrive\\\\Documents\\\\Capstone - Optimising Monopoly Gameplay Strategies\\\\Simulation Classes\\\\MonopolyBoard.py\""
   ]
  },
  {
   "cell_type": "code",
   "execution_count": 3,
   "metadata": {},
   "outputs": [],
   "source": [
    "from MonopolyBoard import MonopolyBoard\n",
    "from Property import Property"
   ]
  },
  {
   "cell_type": "code",
   "execution_count": 4,
   "metadata": {},
   "outputs": [
    {
     "ename": "NameError",
     "evalue": "name 'Property' is not defined",
     "output_type": "error",
     "traceback": [
      "\u001b[1;31m---------------------------------------------------------------------------\u001b[0m",
      "\u001b[1;31mNameError\u001b[0m                                 Traceback (most recent call last)",
      "\u001b[1;32mc:\\Users\\cathe\\OneDrive\\Documents\\Capstone - Optimising Monopoly Gameplay Strategies\\Simulation Classes\\PlayGame.ipynb Cell 3\u001b[0m line \u001b[0;36m4\n\u001b[0;32m      <a href='vscode-notebook-cell:/c%3A/Users/cathe/OneDrive/Documents/Capstone%20-%20Optimising%20Monopoly%20Gameplay%20Strategies/Simulation%20Classes/PlayGame.ipynb#W1sZmlsZQ%3D%3D?line=0'>1</a>\u001b[0m \u001b[39mimport\u001b[39;00m \u001b[39mrandom\u001b[39;00m\n\u001b[0;32m      <a href='vscode-notebook-cell:/c%3A/Users/cathe/OneDrive/Documents/Capstone%20-%20Optimising%20Monopoly%20Gameplay%20Strategies/Simulation%20Classes/PlayGame.ipynb#W1sZmlsZQ%3D%3D?line=1'>2</a>\u001b[0m \u001b[39mimport\u001b[39;00m \u001b[39mnumpy\u001b[39;00m \u001b[39mas\u001b[39;00m \u001b[39mnp\u001b[39;00m\n\u001b[1;32m----> <a href='vscode-notebook-cell:/c%3A/Users/cathe/OneDrive/Documents/Capstone%20-%20Optimising%20Monopoly%20Gameplay%20Strategies/Simulation%20Classes/PlayGame.ipynb#W1sZmlsZQ%3D%3D?line=3'>4</a>\u001b[0m board \u001b[39m=\u001b[39m MonopolyBoard()\n\u001b[0;32m      <a href='vscode-notebook-cell:/c%3A/Users/cathe/OneDrive/Documents/Capstone%20-%20Optimising%20Monopoly%20Gameplay%20Strategies/Simulation%20Classes/PlayGame.ipynb#W1sZmlsZQ%3D%3D?line=4'>5</a>\u001b[0m \u001b[39mprint\u001b[39m(board\u001b[39m.\u001b[39mboard)\n",
      "File \u001b[1;32mc:\\Users\\cathe\\OneDrive\\Documents\\Capstone - Optimising Monopoly Gameplay Strategies\\Simulation Classes\\MonopolyBoard.py:12\u001b[0m, in \u001b[0;36mMonopolyBoard.__init__\u001b[1;34m(self)\u001b[0m\n\u001b[0;32m      8\u001b[0m \u001b[39mself\u001b[39m\u001b[39m.\u001b[39mtax \u001b[39m=\u001b[39m []\n\u001b[0;32m      9\u001b[0m \u001b[39mself\u001b[39m\u001b[39m.\u001b[39mproperty_sets \u001b[39m=\u001b[39m {\u001b[39m\"\u001b[39m\u001b[39mbrown\u001b[39m\u001b[39m\"\u001b[39m:[], \u001b[39m\"\u001b[39m\u001b[39mlightblue\u001b[39m\u001b[39m\"\u001b[39m:[], \u001b[39m\"\u001b[39m\u001b[39mpink\u001b[39m\u001b[39m\"\u001b[39m:[], \u001b[39m\"\u001b[39m\u001b[39morange\u001b[39m\u001b[39m\"\u001b[39m:[], \n\u001b[0;32m     10\u001b[0m                       \u001b[39m\"\u001b[39m\u001b[39mred\u001b[39m\u001b[39m\"\u001b[39m:[], \u001b[39m\"\u001b[39m\u001b[39myellow\u001b[39m\u001b[39m\"\u001b[39m:[], \u001b[39m\"\u001b[39m\u001b[39mgreen\u001b[39m\u001b[39m\"\u001b[39m:[], \u001b[39m\"\u001b[39m\u001b[39mdarkblue\u001b[39m\u001b[39m\"\u001b[39m:[]}\n\u001b[1;32m---> 12\u001b[0m \u001b[39mself\u001b[39;49m\u001b[39m.\u001b[39;49mcreate_properties()\n\u001b[0;32m     13\u001b[0m \u001b[39mself\u001b[39m\u001b[39m.\u001b[39mcreate_stations()\n\u001b[0;32m     14\u001b[0m \u001b[39mself\u001b[39m\u001b[39m.\u001b[39mcreate_utilities()\n",
      "File \u001b[1;32mc:\\Users\\cathe\\OneDrive\\Documents\\Capstone - Optimising Monopoly Gameplay Strategies\\Simulation Classes\\MonopolyBoard.py:50\u001b[0m, in \u001b[0;36mMonopolyBoard.create_properties\u001b[1;34m(self)\u001b[0m\n\u001b[0;32m     24\u001b[0m property_data \u001b[39m=\u001b[39m [\n\u001b[0;32m     25\u001b[0m     (\u001b[39m\"\u001b[39m\u001b[39mOld Kent Road\u001b[39m\u001b[39m\"\u001b[39m, \u001b[39m60\u001b[39m, \u001b[39m50\u001b[39m, \u001b[39m2\u001b[39m, \u001b[39m10\u001b[39m, \u001b[39m30\u001b[39m, \u001b[39m90\u001b[39m, \u001b[39m160\u001b[39m, \u001b[39m250\u001b[39m, \u001b[39m1\u001b[39m, \u001b[39m\"\u001b[39m\u001b[39mbrown\u001b[39m\u001b[39m\"\u001b[39m, \u001b[39m2\u001b[39m),\n\u001b[0;32m     26\u001b[0m     (\u001b[39m\"\u001b[39m\u001b[39mWhitechapel Road\u001b[39m\u001b[39m\"\u001b[39m, \u001b[39m60\u001b[39m, \u001b[39m50\u001b[39m, \u001b[39m4\u001b[39m, \u001b[39m20\u001b[39m, \u001b[39m60\u001b[39m, \u001b[39m180\u001b[39m, \u001b[39m320\u001b[39m, \u001b[39m450\u001b[39m, \u001b[39m3\u001b[39m, \u001b[39m\"\u001b[39m\u001b[39mbrown\u001b[39m\u001b[39m\"\u001b[39m, \u001b[39m2\u001b[39m),\n\u001b[1;32m   (...)\u001b[0m\n\u001b[0;32m     46\u001b[0m     (\u001b[39m\"\u001b[39m\u001b[39mMayfair\u001b[39m\u001b[39m\"\u001b[39m, \u001b[39m400\u001b[39m, \u001b[39m200\u001b[39m, \u001b[39m50\u001b[39m, \u001b[39m200\u001b[39m, \u001b[39m600\u001b[39m, \u001b[39m1400\u001b[39m, \u001b[39m1700\u001b[39m, \u001b[39m2000\u001b[39m, \u001b[39m39\u001b[39m, \u001b[39m\"\u001b[39m\u001b[39mdarkblue\u001b[39m\u001b[39m\"\u001b[39m, \u001b[39m2\u001b[39m)\n\u001b[0;32m     47\u001b[0m ]\n\u001b[0;32m     49\u001b[0m \u001b[39mfor\u001b[39;00m name, price, house_price, rent, one_house, two_houses, three_houses, four_houses, hotel, loc, group, num_in_group \u001b[39min\u001b[39;00m property_data:\n\u001b[1;32m---> 50\u001b[0m     \u001b[39mproperty\u001b[39m \u001b[39m=\u001b[39m Property(name, price, house_price, rent, one_house, two_houses, three_houses, four_houses, hotel, loc, group, num_in_group)\n\u001b[0;32m     51\u001b[0m     \u001b[39mself\u001b[39m\u001b[39m.\u001b[39mproperties\u001b[39m.\u001b[39mappend(\u001b[39mproperty\u001b[39m)\n\u001b[0;32m     52\u001b[0m     \u001b[39mself\u001b[39m\u001b[39m.\u001b[39mboard[loc] \u001b[39m=\u001b[39m \u001b[39mproperty\u001b[39m\n",
      "\u001b[1;31mNameError\u001b[0m: name 'Property' is not defined"
     ]
    }
   ],
   "source": [
    "import random\n",
    "import numpy as np\n",
    "\n",
    "board = MonopolyBoard()\n",
    "print(board.board)"
   ]
  },
  {
   "cell_type": "code",
   "execution_count": 29,
   "metadata": {},
   "outputs": [
    {
     "name": "stdout",
     "output_type": "stream",
     "text": [
      "<__main__.Go object at 0x00000140EAFAA770>\n",
      "<__main__.Property object at 0x00000140EAFA9AE0>\n",
      "<__main__.CommunityChest object at 0x00000140EAFA9FC0>\n",
      "<__main__.Property object at 0x00000140EAFAAE00>\n",
      "<__main__.Tax object at 0x00000140EAFA8580>\n",
      "<__main__.Station object at 0x00000140EAFAAB00>\n",
      "<__main__.Property object at 0x00000140EAFAAA70>\n",
      "<__main__.Chance object at 0x00000140EAFAB310>\n",
      "<__main__.Property object at 0x00000140EAFA8F40>\n",
      "<__main__.Property object at 0x00000140EAFA9150>\n",
      "<__main__.Jail object at 0x00000140EAFAB850>\n",
      "<__main__.Property object at 0x00000140EAFA8E80>\n",
      "<__main__.Utility object at 0x00000140EAFA9270>\n",
      "<__main__.Property object at 0x00000140EAFAA0E0>\n",
      "<__main__.Property object at 0x00000140EAFA9210>\n",
      "<__main__.Station object at 0x00000140EAFABAC0>\n",
      "<__main__.Property object at 0x00000140EAFAAA40>\n",
      "<__main__.CommunityChest object at 0x00000140EAFA9240>\n",
      "<__main__.Property object at 0x00000140EAFA9B70>\n",
      "<__main__.Property object at 0x00000140EAFA8970>\n",
      "<__main__.FreeParking object at 0x00000140EAFABD30>\n",
      "<__main__.Property object at 0x00000140EAFA8E50>\n",
      "<__main__.Chance object at 0x00000140EAFABA00>\n",
      "<__main__.Property object at 0x00000140EAFAAB30>\n",
      "<__main__.Property object at 0x00000140EAFA8FA0>\n",
      "<__main__.Station object at 0x00000140EAFAA2C0>\n",
      "<__main__.Property object at 0x00000140EAFAB520>\n",
      "<__main__.Property object at 0x00000140EAFA9D50>\n",
      "<__main__.Utility object at 0x00000140EAFAAFE0>\n",
      "<__main__.Property object at 0x00000140EAFA9840>\n",
      "<__main__.GoToJail object at 0x00000140EAFA9F00>\n",
      "<__main__.Property object at 0x00000140EAFAB550>\n",
      "<__main__.Property object at 0x00000140EAFAB5E0>\n",
      "<__main__.CommunityChest object at 0x00000140EAFA8D90>\n",
      "<__main__.Property object at 0x00000140EAFAA260>\n",
      "<__main__.Station object at 0x00000140EAFAAEC0>\n",
      "<__main__.Chance object at 0x00000140EAFA98D0>\n",
      "<__main__.Property object at 0x00000140EAFAA290>\n",
      "<__main__.Tax object at 0x00000140EAFAAE90>\n",
      "<__main__.Property object at 0x00000140EAFA8C10>\n"
     ]
    }
   ],
   "source": [
    "for i in board.board:\n",
    "    print(i)"
   ]
  },
  {
   "cell_type": "code",
   "execution_count": null,
   "metadata": {},
   "outputs": [],
   "source": []
  }
 ],
 "metadata": {
  "kernelspec": {
   "display_name": "Python 3",
   "language": "python",
   "name": "python3"
  },
  "language_info": {
   "codemirror_mode": {
    "name": "ipython",
    "version": 3
   },
   "file_extension": ".py",
   "mimetype": "text/x-python",
   "name": "python",
   "nbconvert_exporter": "python",
   "pygments_lexer": "ipython3",
   "version": "3.10.2"
  }
 },
 "nbformat": 4,
 "nbformat_minor": 2
}
