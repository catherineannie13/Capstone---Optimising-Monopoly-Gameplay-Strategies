{
 "cells": [
  {
   "cell_type": "code",
   "execution_count": 1,
   "metadata": {},
   "outputs": [],
   "source": [
    "%run \"C:\\\\Users\\\\cathe\\\\OneDrive\\\\Documents\\\\Capstone - Optimising Monopoly Gameplay Strategies\\\\Simulation Classes\\\\Player.ipynb\"\n",
    "%run \"C:\\\\Users\\\\cathe\\\\OneDrive\\\\Documents\\\\Capstone - Optimising Monopoly Gameplay Strategies\\\\Simulation Classes\\\\Property.ipynb\"\n",
    "%run \"C:\\\\Users\\\\cathe\\\\OneDrive\\\\Documents\\\\Capstone - Optimising Monopoly Gameplay Strategies\\\\Simulation Classes\\\\Utility.ipynb\"\n",
    "%run \"C:\\\\Users\\\\cathe\\\\OneDrive\\\\Documents\\\\Capstone - Optimising Monopoly Gameplay Strategies\\\\Simulation Classes\\\\Station.ipynb\"\n",
    "%run \"C:\\\\Users\\\\cathe\\\\OneDrive\\\\Documents\\\\Capstone - Optimising Monopoly Gameplay Strategies\\\\Simulation Classes\\\\Chance.ipynb\"\n",
    "%run \"C:\\\\Users\\\\cathe\\\\OneDrive\\\\Documents\\\\Capstone - Optimising Monopoly Gameplay Strategies\\\\Simulation Classes\\\\Tax.ipynb\"\n",
    "%run \"C:\\\\Users\\\\cathe\\\\OneDrive\\\\Documents\\\\Capstone - Optimising Monopoly Gameplay Strategies\\\\Simulation Classes\\\\Go.ipynb\"\n",
    "%run \"C:\\\\Users\\\\cathe\\\\OneDrive\\\\Documents\\\\Capstone - Optimising Monopoly Gameplay Strategies\\\\Simulation Classes\\\\Jail.ipynb\"\n",
    "%run \"C:\\\\Users\\\\cathe\\\\OneDrive\\\\Documents\\\\Capstone - Optimising Monopoly Gameplay Strategies\\\\Simulation Classes\\\\FreeParking.ipynb\"\n",
    "%run \"C:\\\\Users\\\\cathe\\\\OneDrive\\\\Documents\\\\Capstone - Optimising Monopoly Gameplay Strategies\\\\Simulation Classes\\\\GoToJail.ipynb\"\n",
    "%run \"C:\\\\Users\\\\cathe\\\\OneDrive\\\\Documents\\\\Capstone - Optimising Monopoly Gameplay Strategies\\\\Simulation Classes\\\\CommunityChest.ipynb\"\n",
    "%run \"C:\\\\Users\\\\cathe\\\\OneDrive\\\\Documents\\\\Capstone - Optimising Monopoly Gameplay Strategies\\\\Simulation Classes\\\\MonopolyBoard.ipynb\""
   ]
  },
  {
   "cell_type": "code",
   "execution_count": 2,
   "metadata": {},
   "outputs": [],
   "source": [
    "import random"
   ]
  },
  {
   "cell_type": "code",
   "execution_count": 3,
   "metadata": {},
   "outputs": [
    {
     "name": "stdout",
     "output_type": "stream",
     "text": [
      "[<__main__.Go object at 0x000001F49AA86020>, <__main__.Property object at 0x000001F49A9FDE70>, <__main__.CommunityChest object at 0x000001F49AA875E0>, <__main__.Property object at 0x000001F49AA5B340>, <__main__.Tax object at 0x000001F49AA87550>, <__main__.Station object at 0x000001F49A9BFDF0>, <__main__.Property object at 0x000001F49AA5B1C0>, <__main__.Chance object at 0x000001F49A9FE470>, <__main__.Property object at 0x000001F49AA5B100>, <__main__.Property object at 0x000001F49AA5B1F0>, <__main__.Jail object at 0x000001F49AA87670>, <__main__.Property object at 0x000001F49AA5B2E0>, <__main__.Utility object at 0x000001F49AA87070>, <__main__.Property object at 0x000001F49AA5AA10>, <__main__.Property object at 0x000001F49AA5A4D0>, <__main__.Station object at 0x000001F49A9BFEE0>, <__main__.Property object at 0x000001F49AA5B310>, <__main__.CommunityChest object at 0x000001F49AA875E0>, <__main__.Property object at 0x000001F49AA5B130>, <__main__.Property object at 0x000001F49AA5B2B0>, <__main__.FreeParking object at 0x000001F49AA872B0>, <__main__.Property object at 0x000001F49AA5B160>, <__main__.Chance object at 0x000001F49A9FE470>, <__main__.Property object at 0x000001F49AA5A980>, <__main__.Property object at 0x000001F49AA5AF80>, <__main__.Station object at 0x000001F49AA870A0>, <__main__.Property object at 0x000001F49AA5AEF0>, <__main__.Property object at 0x000001F49AA5AFE0>, <__main__.Utility object at 0x000001F49AA86BC0>, <__main__.Property object at 0x000001F49AA5B0A0>, <__main__.GoToJail object at 0x000001F49AA87580>, <__main__.Property object at 0x000001F49AA5B070>, <__main__.Property object at 0x000001F49AA5AF20>, <__main__.CommunityChest object at 0x000001F49AA875E0>, <__main__.Property object at 0x000001F49AA5B820>, <__main__.Station object at 0x000001F49AA86B30>, <__main__.Chance object at 0x000001F49A9FE470>, <__main__.Property object at 0x000001F49AA5A9E0>, <__main__.Tax object at 0x000001F49AA84340>, <__main__.Property object at 0x000001F49A9BFFA0>]\n"
     ]
    }
   ],
   "source": [
    "board = MonopolyBoard()\n",
    "print(board.board)"
   ]
  },
  {
   "cell_type": "code",
   "execution_count": 4,
   "metadata": {},
   "outputs": [
    {
     "name": "stdout",
     "output_type": "stream",
     "text": [
      "<__main__.Go object at 0x000001F49AA86020>\n",
      "<__main__.Property object at 0x000001F49A9FDE70>\n",
      "<__main__.CommunityChest object at 0x000001F49AA875E0>\n",
      "<__main__.Property object at 0x000001F49AA5B340>\n",
      "<__main__.Tax object at 0x000001F49AA87550>\n",
      "<__main__.Station object at 0x000001F49A9BFDF0>\n",
      "<__main__.Property object at 0x000001F49AA5B1C0>\n",
      "<__main__.Chance object at 0x000001F49A9FE470>\n",
      "<__main__.Property object at 0x000001F49AA5B100>\n",
      "<__main__.Property object at 0x000001F49AA5B1F0>\n",
      "<__main__.Jail object at 0x000001F49AA87670>\n",
      "<__main__.Property object at 0x000001F49AA5B2E0>\n",
      "<__main__.Utility object at 0x000001F49AA87070>\n",
      "<__main__.Property object at 0x000001F49AA5AA10>\n",
      "<__main__.Property object at 0x000001F49AA5A4D0>\n",
      "<__main__.Station object at 0x000001F49A9BFEE0>\n",
      "<__main__.Property object at 0x000001F49AA5B310>\n",
      "<__main__.CommunityChest object at 0x000001F49AA875E0>\n",
      "<__main__.Property object at 0x000001F49AA5B130>\n",
      "<__main__.Property object at 0x000001F49AA5B2B0>\n",
      "<__main__.FreeParking object at 0x000001F49AA872B0>\n",
      "<__main__.Property object at 0x000001F49AA5B160>\n",
      "<__main__.Chance object at 0x000001F49A9FE470>\n",
      "<__main__.Property object at 0x000001F49AA5A980>\n",
      "<__main__.Property object at 0x000001F49AA5AF80>\n",
      "<__main__.Station object at 0x000001F49AA870A0>\n",
      "<__main__.Property object at 0x000001F49AA5AEF0>\n",
      "<__main__.Property object at 0x000001F49AA5AFE0>\n",
      "<__main__.Utility object at 0x000001F49AA86BC0>\n",
      "<__main__.Property object at 0x000001F49AA5B0A0>\n",
      "<__main__.GoToJail object at 0x000001F49AA87580>\n",
      "<__main__.Property object at 0x000001F49AA5B070>\n",
      "<__main__.Property object at 0x000001F49AA5AF20>\n",
      "<__main__.CommunityChest object at 0x000001F49AA875E0>\n",
      "<__main__.Property object at 0x000001F49AA5B820>\n",
      "<__main__.Station object at 0x000001F49AA86B30>\n",
      "<__main__.Chance object at 0x000001F49A9FE470>\n",
      "<__main__.Property object at 0x000001F49AA5A9E0>\n",
      "<__main__.Tax object at 0x000001F49AA84340>\n",
      "<__main__.Property object at 0x000001F49A9BFFA0>\n"
     ]
    }
   ],
   "source": [
    "for i in board.board:\n",
    "    print(i)"
   ]
  },
  {
   "cell_type": "code",
   "execution_count": null,
   "metadata": {},
   "outputs": [],
   "source": []
  }
 ],
 "metadata": {
  "kernelspec": {
   "display_name": "Python 3",
   "language": "python",
   "name": "python3"
  },
  "language_info": {
   "codemirror_mode": {
    "name": "ipython",
    "version": 3
   },
   "file_extension": ".py",
   "mimetype": "text/x-python",
   "name": "python",
   "nbconvert_exporter": "python",
   "pygments_lexer": "ipython3",
   "version": "3.10.2"
  }
 },
 "nbformat": 4,
 "nbformat_minor": 2
}
