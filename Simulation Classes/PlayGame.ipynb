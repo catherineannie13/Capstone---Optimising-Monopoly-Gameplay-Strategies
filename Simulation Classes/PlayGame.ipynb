{
 "cells": [
  {
   "cell_type": "code",
   "execution_count": 4,
   "metadata": {},
   "outputs": [],
   "source": [
    "%run \"C:\\\\Users\\\\cathe\\\\OneDrive\\\\Documents\\\\Capstone - Optimising Monopoly Gameplay Strategies\\\\Simulation Classes\\\\Player.ipynb\"\n",
    "%run \"C:\\\\Users\\\\cathe\\\\OneDrive\\\\Documents\\\\Capstone - Optimising Monopoly Gameplay Strategies\\\\Simulation Classes\\\\Property.ipynb\"\n",
    "%run \"C:\\\\Users\\\\cathe\\\\OneDrive\\\\Documents\\\\Capstone - Optimising Monopoly Gameplay Strategies\\\\Simulation Classes\\\\Utility.ipynb\"\n",
    "%run \"C:\\\\Users\\\\cathe\\\\OneDrive\\\\Documents\\\\Capstone - Optimising Monopoly Gameplay Strategies\\\\Simulation Classes\\\\Station.ipynb\"\n",
    "%run \"C:\\\\Users\\\\cathe\\\\OneDrive\\\\Documents\\\\Capstone - Optimising Monopoly Gameplay Strategies\\\\Simulation Classes\\\\Chance.ipynb\"\n",
    "%run \"C:\\\\Users\\\\cathe\\\\OneDrive\\\\Documents\\\\Capstone - Optimising Monopoly Gameplay Strategies\\\\Simulation Classes\\\\Tax.ipynb\"\n",
    "%run \"C:\\\\Users\\\\cathe\\\\OneDrive\\\\Documents\\\\Capstone - Optimising Monopoly Gameplay Strategies\\\\Simulation Classes\\\\Go.ipynb\"\n",
    "%run \"C:\\\\Users\\\\cathe\\\\OneDrive\\\\Documents\\\\Capstone - Optimising Monopoly Gameplay Strategies\\\\Simulation Classes\\\\Jail.ipynb\"\n",
    "%run \"C:\\\\Users\\\\cathe\\\\OneDrive\\\\Documents\\\\Capstone - Optimising Monopoly Gameplay Strategies\\\\Simulation Classes\\\\FreeParking.ipynb\"\n",
    "%run \"C:\\\\Users\\\\cathe\\\\OneDrive\\\\Documents\\\\Capstone - Optimising Monopoly Gameplay Strategies\\\\Simulation Classes\\\\GoToJail.ipynb\"\n",
    "%run \"C:\\\\Users\\\\cathe\\\\OneDrive\\\\Documents\\\\Capstone - Optimising Monopoly Gameplay Strategies\\\\Simulation Classes\\\\CommunityChest.ipynb\"\n",
    "%run \"C:\\\\Users\\\\cathe\\\\OneDrive\\\\Documents\\\\Capstone - Optimising Monopoly Gameplay Strategies\\\\Simulation Classes\\\\MonopolyBoard.ipynb\""
   ]
  },
  {
   "cell_type": "code",
   "execution_count": 5,
   "metadata": {},
   "outputs": [],
   "source": [
    "import random"
   ]
  },
  {
   "cell_type": "code",
   "execution_count": 6,
   "metadata": {},
   "outputs": [
    {
     "name": "stdout",
     "output_type": "stream",
     "text": [
      "[<__main__.Go object at 0x000001A526361030>, <__main__.Property object at 0x000001A52619A920>, <__main__.CommunityChest object at 0x000001A526372800>, <__main__.Property object at 0x000001A52619BD00>, <__main__.Tax object at 0x000001A526361E10>, <__main__.Station object at 0x000001A526370220>, <__main__.Property object at 0x000001A52619BCA0>, <__main__.Chance object at 0x000001A52619B1C0>, <__main__.Property object at 0x000001A52638B580>, <__main__.Property object at 0x000001A526388BB0>, <__main__.Jail object at 0x000001A526360D60>, <__main__.Property object at 0x000001A526389870>, <__main__.Utility object at 0x000001A5263725F0>, <__main__.Property object at 0x000001A5263899C0>, <__main__.Property object at 0x000001A52638A590>, <__main__.Station object at 0x000001A526370F40>, <__main__.Property object at 0x000001A5263881F0>, <__main__.CommunityChest object at 0x000001A526372800>, <__main__.Property object at 0x000001A526389E70>, <__main__.Property object at 0x000001A526389FC0>, <__main__.FreeParking object at 0x000001A526360520>, <__main__.Property object at 0x000001A52638B460>, <__main__.Chance object at 0x000001A52619B1C0>, <__main__.Property object at 0x000001A52638A680>, <__main__.Property object at 0x000001A526388730>, <__main__.Station object at 0x000001A526371990>, <__main__.Property object at 0x000001A526388100>, <__main__.Property object at 0x000001A52638A170>, <__main__.Utility object at 0x000001A526371C00>, <__main__.Property object at 0x000001A526388E50>, <__main__.GoToJail object at 0x000001A526360550>, <__main__.Property object at 0x000001A526388D00>, <__main__.Property object at 0x000001A5263703A0>, <__main__.CommunityChest object at 0x000001A526372800>, <__main__.Property object at 0x000001A526371780>, <__main__.Station object at 0x000001A526371630>, <__main__.Chance object at 0x000001A52619B1C0>, <__main__.Property object at 0x000001A5263729E0>, <__main__.Tax object at 0x000001A526363FA0>, <__main__.Property object at 0x000001A526373790>]\n"
     ]
    }
   ],
   "source": [
    "board = MonopolyBoard()\n",
    "print(board.board)"
   ]
  },
  {
   "cell_type": "code",
   "execution_count": 7,
   "metadata": {},
   "outputs": [
    {
     "name": "stdout",
     "output_type": "stream",
     "text": [
      "<__main__.Go object at 0x000001A526361030>\n",
      "<__main__.Property object at 0x000001A52619A920>\n",
      "<__main__.CommunityChest object at 0x000001A526372800>\n",
      "<__main__.Property object at 0x000001A52619BD00>\n",
      "<__main__.Tax object at 0x000001A526361E10>\n",
      "<__main__.Station object at 0x000001A526370220>\n",
      "<__main__.Property object at 0x000001A52619BCA0>\n",
      "<__main__.Chance object at 0x000001A52619B1C0>\n",
      "<__main__.Property object at 0x000001A52638B580>\n",
      "<__main__.Property object at 0x000001A526388BB0>\n",
      "<__main__.Jail object at 0x000001A526360D60>\n",
      "<__main__.Property object at 0x000001A526389870>\n",
      "<__main__.Utility object at 0x000001A5263725F0>\n",
      "<__main__.Property object at 0x000001A5263899C0>\n",
      "<__main__.Property object at 0x000001A52638A590>\n",
      "<__main__.Station object at 0x000001A526370F40>\n",
      "<__main__.Property object at 0x000001A5263881F0>\n",
      "<__main__.CommunityChest object at 0x000001A526372800>\n",
      "<__main__.Property object at 0x000001A526389E70>\n",
      "<__main__.Property object at 0x000001A526389FC0>\n",
      "<__main__.FreeParking object at 0x000001A526360520>\n",
      "<__main__.Property object at 0x000001A52638B460>\n",
      "<__main__.Chance object at 0x000001A52619B1C0>\n",
      "<__main__.Property object at 0x000001A52638A680>\n",
      "<__main__.Property object at 0x000001A526388730>\n",
      "<__main__.Station object at 0x000001A526371990>\n",
      "<__main__.Property object at 0x000001A526388100>\n",
      "<__main__.Property object at 0x000001A52638A170>\n",
      "<__main__.Utility object at 0x000001A526371C00>\n",
      "<__main__.Property object at 0x000001A526388E50>\n",
      "<__main__.GoToJail object at 0x000001A526360550>\n",
      "<__main__.Property object at 0x000001A526388D00>\n",
      "<__main__.Property object at 0x000001A5263703A0>\n",
      "<__main__.CommunityChest object at 0x000001A526372800>\n",
      "<__main__.Property object at 0x000001A526371780>\n",
      "<__main__.Station object at 0x000001A526371630>\n",
      "<__main__.Chance object at 0x000001A52619B1C0>\n",
      "<__main__.Property object at 0x000001A5263729E0>\n",
      "<__main__.Tax object at 0x000001A526363FA0>\n",
      "<__main__.Property object at 0x000001A526373790>\n"
     ]
    }
   ],
   "source": [
    "for i in board.board:\n",
    "    print(i)"
   ]
  },
  {
   "cell_type": "code",
   "execution_count": null,
   "metadata": {},
   "outputs": [],
   "source": []
  }
 ],
 "metadata": {
  "kernelspec": {
   "display_name": "Python 3",
   "language": "python",
   "name": "python3"
  },
  "language_info": {
   "codemirror_mode": {
    "name": "ipython",
    "version": 3
   },
   "file_extension": ".py",
   "mimetype": "text/x-python",
   "name": "python",
   "nbconvert_exporter": "python",
   "pygments_lexer": "ipython3",
   "version": "3.10.2"
  }
 },
 "nbformat": 4,
 "nbformat_minor": 2
}
