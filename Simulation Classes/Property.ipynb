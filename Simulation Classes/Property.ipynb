{
 "cells": [
  {
   "cell_type": "code",
   "execution_count": null,
   "metadata": {},
   "outputs": [],
   "source": [
    "class Property:\n",
    "    def __init__(self, name, price, house_price, rent, one_house, two_houses, three_houses, four_houses, hotel, loc, group, num_in_group):\n",
    "        self.name = name\n",
    "        self.price = price\n",
    "        self.house_price = house_price\n",
    "        self.type = \"Property\"\n",
    "        self.rent = rent\n",
    "        self.double_rent = self.rent * 2\n",
    "        self.house_rent = [one_house, two_houses, three_houses, four_houses]\n",
    "        self.hotel_rent = hotel\n",
    "        self.num_houses = 0\n",
    "        self.hotel = False\n",
    "        self.loc = loc\n",
    "        self.group = group\n",
    "        self.num_in_group = num_in_group\n",
    "        self.owner = None\n",
    "\n",
    "    def calculate_rent(self):\n",
    "        if self.owner:\n",
    "            if self.num_houses == 0:\n",
    "                return self.rent\n",
    "            elif self.hotel:\n",
    "                return self.hotel_rent\n",
    "            else:\n",
    "                return self.house_rent[self.num_houses - 1]\n",
    "        else:\n",
    "            return 0"
   ]
  }
 ],
 "metadata": {
  "language_info": {
   "name": "python"
  }
 },
 "nbformat": 4,
 "nbformat_minor": 2
}
