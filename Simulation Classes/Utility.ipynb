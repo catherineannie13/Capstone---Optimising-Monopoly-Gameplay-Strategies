{
 "cells": [
  {
   "cell_type": "code",
   "execution_count": null,
   "metadata": {},
   "outputs": [],
   "source": [
    "class Utility:\n",
    "    def __init__(self, name, price, rent_multiplier, rent_multiplier_two, loc):\n",
    "        self.name = name\n",
    "        self.price = price\n",
    "        self.type = \"Utility\"\n",
    "        self.rent_multipliers = [rent_multiplier, rent_multiplier_two]\n",
    "        self.loc = loc\n",
    "        self.owner = None\n",
    "\n",
    "    def calculate_rent(self, dice_roll, utilities_owned):\n",
    "        if self.owner:\n",
    "            multipler = self.rent_multipliers[utilities_owned - 1]\n",
    "            return multipler * dice_roll\n",
    "        else:\n",
    "            return 0"
   ]
  }
 ],
 "metadata": {
  "language_info": {
   "name": "python"
  }
 },
 "nbformat": 4,
 "nbformat_minor": 2
}
