{
 "cells": [
  {
   "cell_type": "code",
   "execution_count": null,
   "metadata": {},
   "outputs": [],
   "source": [
    "class Utility:\n",
    "    def __init__(self, name, price, rent_multiplier, rent_multiplier_two, loc):\n",
    "        self.name = name\n",
    "        self.price = price\n",
    "        self.type = \"Utility\"\n",
    "        self.rent_multipliers = [rent_multiplier, rent_multiplier_two]\n",
    "        self.loc = loc\n",
    "        self.owner = None\n",
    "\n",
    "    def __repr__(self):\n",
    "        return f'{self.name} is a utility located at position {self.loc} on the Monopoly board that can be purchased for {self.price}.\\\n",
    "            \\n If a player owns a single utility, they must be paid {self.rent_multipliers[0]} multiplied by the dice roll in rent.\\\n",
    "            \\n If a player owns both utilities, they must by paid {self.rent_multipliers[1]} multiplied by the dice roll in rent.\\\n",
    "            \\n This property is currently owned by {self.owner.name if self.owner else \"no-one\"}.'\n",
    "\n",
    "    def calculate_rent(self, dice_roll, utilities_owned):\n",
    "        if self.owner:\n",
    "            multipler = self.rent_multipliers[utilities_owned - 1]\n",
    "            return multipler * dice_roll\n",
    "        else:\n",
    "            return 0"
   ]
  }
 ],
 "metadata": {
  "language_info": {
   "name": "python"
  }
 },
 "nbformat": 4,
 "nbformat_minor": 2
}
