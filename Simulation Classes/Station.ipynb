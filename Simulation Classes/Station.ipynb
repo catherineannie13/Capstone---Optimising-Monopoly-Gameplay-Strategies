{
 "cells": [
  {
   "cell_type": "code",
   "execution_count": null,
   "metadata": {},
   "outputs": [],
   "source": [
    "class Station:\n",
    "    def __init__(self, name, price, rent_one, rent_two, rent_three, rent_four, loc):\n",
    "        self.name = name\n",
    "        self.price = price\n",
    "        self.type = \"Station\"\n",
    "        self.rents = [rent_one, rent_two, rent_three, rent_four]\n",
    "        self.loc = loc\n",
    "        self.owner = None\n",
    "\n",
    "    def __repr__(self):\n",
    "        return f'{self.name} is a station located at position {self.loc} on the Monopoly board that can be purchased for {self.price}.\\\n",
    "            \\n Rent is as follows: \\\n",
    "            \\n Rent if a single station is owned: {self.rents[0]} \\\n",
    "            \\n Rent if two stations are owned: {self.rents[1]} \\\n",
    "            \\n Rent if three stations are owned: {self.rents[2]} \\\n",
    "            \\n Rent if four stations are owned: {self.rents[3]} \\\n",
    "            \\n This property is currently owned by {self.owner.name if self.owner else \"no-one\"}.'\n",
    "    \n",
    "    def __lt__(self, other):\n",
    "        return self.loc < other.loc\n",
    "\n",
    "    def calculate_rent(self, stations_owned):\n",
    "        if self.owner:\n",
    "            return self.rents[stations_owned - 1]\n",
    "        else:\n",
    "            return 0"
   ]
  }
 ],
 "metadata": {
  "language_info": {
   "name": "python"
  }
 },
 "nbformat": 4,
 "nbformat_minor": 2
}
