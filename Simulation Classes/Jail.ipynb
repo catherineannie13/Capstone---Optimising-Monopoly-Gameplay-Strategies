{
 "cells": [
  {
   "cell_type": "code",
   "execution_count": null,
   "metadata": {},
   "outputs": [],
   "source": [
    "class Jail:\n",
    "    def __init__(self, loc):\n",
    "        self.type = \"Jail\"\n",
    "        self.loc = loc\n",
    "\n",
    "    def __repr__(self):\n",
    "        return f'Jail is located at position {self.loc} on the Monopoly board.'\n",
    "    \n",
    "    def __lt__(self, other):\n",
    "        return self.loc < other.loc"
   ]
  }
 ],
 "metadata": {
  "language_info": {
   "name": "python"
  }
 },
 "nbformat": 4,
 "nbformat_minor": 2
}
