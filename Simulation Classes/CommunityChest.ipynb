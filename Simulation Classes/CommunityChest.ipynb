{
 "cells": [
  {
   "cell_type": "code",
   "execution_count": null,
   "metadata": {},
   "outputs": [],
   "source": [
    "class CommunityChest:\n",
    "    def __init__(self, locs):\n",
    "        self.type = \"Community Chest\"\n",
    "        self.loc = locs\n",
    "        self.cards = [\n",
    "            \"Advance to Go.\",\n",
    "            \"Bank error in your favor. Collect £200.\",\n",
    "            \"Doctor’s fee. Pay £50.\",\n",
    "            \"From sale of stock you get £50.\",\n",
    "            \"Get Out of Jail Free.\",\n",
    "            \"Go to Jail. Go directly to jail, do not pass Go, do not collect £200.\",\n",
    "            \"Holiday fund matures. Receive £100.\",\n",
    "            \"Income tax refund. Collect £20.\",\n",
    "            \"It is your birthday. Collect £10 from every player.\",\n",
    "            \"Life insurance matures. Collect £100.\",\n",
    "            \"Pay hospital fees of £100.\",\n",
    "            \"Pay school fees of £50.\",\n",
    "            \"Receive £25 consultancy fee.\",\n",
    "            \"You are assessed for street repairs. £40 per house. £115 per hotel.\",\n",
    "            \"You have won second prize in a beauty contest. Collect £10.\",\n",
    "            \"You inherit £100.\"\n",
    "        ]\n",
    "        random.shuffle(self.cards)\n",
    "        self.top_card_idx = 0\n",
    "\n",
    "    def __repr__(self):\n",
    "        return f'Community chest spaces are located at positions {self.loc} on the Monopoly board. \\\n",
    "            \\n The card on the top of the pile is: \"{self.cards[self.top_card_idx]}\".'\n",
    "\n",
    "    def choose_card(self):\n",
    "        card = self.cards[self.top_card_idx]\n",
    "        self.top_card_idx = (self.top_card_idx + 1) % len(self.cards)\n",
    "        return card"
   ]
  }
 ],
 "metadata": {
  "language_info": {
   "name": "python"
  }
 },
 "nbformat": 4,
 "nbformat_minor": 2
}
