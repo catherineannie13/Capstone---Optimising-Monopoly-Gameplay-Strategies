{
 "cells": [
  {
   "cell_type": "code",
   "execution_count": null,
   "metadata": {},
   "outputs": [],
   "source": [
    "class Tax:\n",
    "    def __init__(self, name, amount, loc):\n",
    "        self.name = name\n",
    "        self.amount = amount\n",
    "        self.type = \"Tax\"\n",
    "        self.loc = loc"
   ]
  }
 ],
 "metadata": {
  "language_info": {
   "name": "python"
  }
 },
 "nbformat": 4,
 "nbformat_minor": 2
}
