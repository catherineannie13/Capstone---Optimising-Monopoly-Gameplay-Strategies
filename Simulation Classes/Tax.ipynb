{
 "cells": [
  {
   "cell_type": "code",
   "execution_count": null,
   "metadata": {},
   "outputs": [],
   "source": [
    "class Tax:\n",
    "    def __init__(self, name, amount, loc):\n",
    "        self.name = name\n",
    "        self.amount = amount\n",
    "        self.type = \"Tax\"\n",
    "        self.loc = loc\n",
    "\n",
    "    def __repr__(self):\n",
    "        return f'{self.name} is located at position {self.loc} on the Monopoly board. Players must pay {self.amount} of 10% of their wealth if they land here.'\n",
    "    \n",
    "    def __lt__(self, other):\n",
    "        return self.loc < other.loc\n",
    "    \n",
    "    def calculate_tax(self, player):\n",
    "        if self.name == \"Income Tax\":\n",
    "            base = self.amount\n",
    "            alternative = 0.1 * player.wealth()\n",
    "            return min([base, alternative])\n",
    "        else:\n",
    "            return self.amount"
   ]
  }
 ],
 "metadata": {
  "language_info": {
   "name": "python"
  }
 },
 "nbformat": 4,
 "nbformat_minor": 2
}
