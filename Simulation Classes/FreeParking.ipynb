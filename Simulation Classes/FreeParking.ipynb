{
 "cells": [
  {
   "cell_type": "code",
   "execution_count": null,
   "metadata": {},
   "outputs": [],
   "source": [
    "class FreeParking:\n",
    "    def __init__(self, loc):\n",
    "        self.type = \"Free Parking\"\n",
    "        self.loc = loc\n",
    "\n",
    "    def __repr__(self):\n",
    "        return f'Free parking is located at position {self.loc} on the Monopoly board.'"
   ]
  }
 ],
 "metadata": {
  "language_info": {
   "name": "python"
  }
 },
 "nbformat": 4,
 "nbformat_minor": 2
}
