{
 "cells": [
  {
   "cell_type": "code",
   "execution_count": null,
   "metadata": {},
   "outputs": [],
   "source": [
    "class FreeParking:\n",
    "    def __init__(self, loc):\n",
    "        self.type = \"Free Parking\"\n",
    "        self.loc = loc\n",
    "\n",
    "    def __repr__(self):\n",
    "        return f'Free parking is located at position {self.loc} on the Monopoly board.'\n",
    "    \n",
    "    def __lt__(self, other):\n",
    "        return self.loc < other.loc"
   ]
  }
 ],
 "metadata": {
  "language_info": {
   "name": "python"
  }
 },
 "nbformat": 4,
 "nbformat_minor": 2
}
