{
 "cells": [
  {
   "cell_type": "code",
   "execution_count": null,
   "metadata": {},
   "outputs": [],
   "source": [
    "class Node:\n",
    "    def __init__(self, state, parent = None):\n",
    "        self.state = state\n",
    "        self.children = []\n",
    "        self.visits = 0\n",
    "        self.total_reward = 0\n",
    "        self.parent = parent\n",
    "\n",
    "    def terminal(self):\n",
    "        pass"
   ]
  }
 ],
 "metadata": {
  "language_info": {
   "name": "python"
  }
 },
 "nbformat": 4,
 "nbformat_minor": 2
}
