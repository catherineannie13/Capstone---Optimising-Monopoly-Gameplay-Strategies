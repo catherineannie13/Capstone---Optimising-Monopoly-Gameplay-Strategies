{
 "cells": [
  {
   "cell_type": "code",
   "execution_count": null,
   "metadata": {},
   "outputs": [],
   "source": [
    "class Node:\n",
    "    def __init__(self, state, parent = None):\n",
    "        self.state = state # STATE SHOULD BE A COPY OF THE MONOPOLYGAMEMCTS CLASS\n",
    "        self.children = []\n",
    "        self.visits = 0\n",
    "        self.total_reward = 0\n",
    "        self.parent = parent\n",
    "        # self.action = action\n",
    "\n",
    "    def terminal(self):\n",
    "        pass\n",
    "\n",
    "    def get_child_with_action(self, action):\n",
    "        pass\n",
    "\n",
    "    def add_child(self, action, child):\n",
    "        pass"
   ]
  }
 ],
 "metadata": {
  "language_info": {
   "name": "python"
  }
 },
 "nbformat": 4,
 "nbformat_minor": 2
}
