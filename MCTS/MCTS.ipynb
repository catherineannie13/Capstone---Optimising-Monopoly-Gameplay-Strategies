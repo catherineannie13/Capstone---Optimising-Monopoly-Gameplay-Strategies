{
 "cells": [
  {
   "cell_type": "code",
   "execution_count": null,
   "metadata": {},
   "outputs": [],
   "source": [
    "class MCTS:\n",
    "    def __init__(self, root_state, max_iterations):\n",
    "        self.root = Node(root_state)\n",
    "        self.max_iterations = max_iterations\n",
    "\n",
    "    def selection(self, node):\n",
    "        pass\n",
    "\n",
    "    def expansion(self, node):\n",
    "        pass\n",
    "\n",
    "    def simulation(self, node):\n",
    "        pass\n",
    "\n",
    "    def backpropagation(self, node, reward):\n",
    "        pass\n",
    "\n",
    "    def search(self):\n",
    "        for _ in range(self.max_iterations):\n",
    "            node = self.root\n",
    "\n",
    "            # selection phase\n",
    "            while not node.is_terminal() and len(node.children) == len(node.state.get_legal_actions()):\n",
    "                node = self.selection(node)\n",
    "\n",
    "            # expansion phase\n",
    "            if not node.is_terminal():\n",
    "                node = self.expansion(node)\n",
    "\n",
    "            # simulation phase\n",
    "            reward = self.simulation(node)\n",
    "\n",
    "            # backpropagation phase\n",
    "            self.backpropagation(node, reward)\n",
    "\n",
    "        # select the best action to take from the root node\n",
    "        best_action = self.select_best_action(self.root)\n",
    "\n",
    "        return best_action\n",
    "\n",
    "    def select_best_action(self, node):\n",
    "        # return the action with the highest average reward from the root node\n",
    "        pass"
   ]
  }
 ],
 "metadata": {
  "language_info": {
   "name": "python"
  }
 },
 "nbformat": 4,
 "nbformat_minor": 2
}
