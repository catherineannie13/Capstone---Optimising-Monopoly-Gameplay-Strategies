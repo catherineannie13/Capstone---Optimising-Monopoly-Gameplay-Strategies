{
 "cells": [
  {
   "cell_type": "markdown",
   "metadata": {},
   "source": [
    "Implementing MCTS algorithm for a simple game in which the player has to guess the number that the computer has randomly chosen between 1 and 100."
   ]
  },
  {
   "cell_type": "code",
   "execution_count": 11,
   "metadata": {},
   "outputs": [],
   "source": [
    "import random\n",
    "import math"
   ]
  },
  {
   "cell_type": "code",
   "execution_count": 12,
   "metadata": {},
   "outputs": [],
   "source": [
    "class GameState:\n",
    "    def __init__(self):\n",
    "        self.target_number = random.randint(1, 100)\n",
    "        self.attempts = 0\n",
    "\n",
    "    def is_terminal(self):\n",
    "        return self.attempts >= 10 or self.attempts < 0\n",
    "\n",
    "    def get_legal_actions(self):\n",
    "        return list(range(1, 101))\n",
    "\n",
    "    def perform_action(self, action):\n",
    "        self.attempts += 1\n",
    "        if action == self.target_number:\n",
    "            return 1  # Player wins\n",
    "        elif action < self.target_number:\n",
    "            return 0  # Guess is too low\n",
    "        else:\n",
    "            return -1  # Guess is too high"
   ]
  },
  {
   "cell_type": "code",
   "execution_count": 13,
   "metadata": {},
   "outputs": [],
   "source": [
    "class Node:\n",
    "    def __init__(self, state, parent=None):\n",
    "        self.state = state\n",
    "        self.children = []\n",
    "        self.visits = 0\n",
    "        self.total_reward = 0\n",
    "        self.parent = parent"
   ]
  },
  {
   "cell_type": "code",
   "execution_count": 14,
   "metadata": {},
   "outputs": [],
   "source": [
    "def UCB1(node, parent_visits):\n",
    "    if node.visits == 0:\n",
    "        return float('inf')\n",
    "    return (node.total_reward / node.visits) + 1.41 * math.sqrt(math.log(parent_visits) / node.visits)"
   ]
  },
  {
   "cell_type": "code",
   "execution_count": 15,
   "metadata": {},
   "outputs": [],
   "source": [
    "def selection(node):\n",
    "    return max(node.children, key=lambda child: UCB1(child, node.visits))"
   ]
  },
  {
   "cell_type": "code",
   "execution_count": 16,
   "metadata": {},
   "outputs": [],
   "source": [
    "def expansion(node):\n",
    "    legal_actions = node.state.get_legal_actions()\n",
    "    untried_actions = [action for action in legal_actions if not any(child.state.attempts == action for child in node.children)]\n",
    "    if untried_actions:\n",
    "        action = random.choice(untried_actions)\n",
    "        new_state = GameState()\n",
    "        new_state.attempts = action\n",
    "        child_node = Node(new_state, parent=node) \n",
    "        node.children.append(child_node)\n",
    "        return child_node\n",
    "    else:\n",
    "        return random.choice(node.children)"
   ]
  },
  {
   "cell_type": "code",
   "execution_count": 17,
   "metadata": {},
   "outputs": [],
   "source": [
    "def simulation(node):\n",
    "    state = GameState()\n",
    "    state.attempts = node.state.attempts\n",
    "    while not state.is_terminal():\n",
    "        legal_actions = state.get_legal_actions()\n",
    "        action = random.choice(legal_actions)\n",
    "        result = state.perform_action(action)\n",
    "        if result == 1:\n",
    "            return 1  # Player wins\n",
    "    return 0  # Player loses"
   ]
  },
  {
   "cell_type": "code",
   "execution_count": 18,
   "metadata": {},
   "outputs": [],
   "source": [
    "def backpropagation(node, reward):\n",
    "    while node is not None:\n",
    "        node.visits += 1\n",
    "        node.total_reward += reward\n",
    "        node = node.parent"
   ]
  },
  {
   "cell_type": "code",
   "execution_count": 19,
   "metadata": {},
   "outputs": [],
   "source": [
    "def mcts(root_state, max_iterations):\n",
    "    root_node = Node(root_state)\n",
    "    for _ in range(max_iterations):\n",
    "        node = root_node\n",
    "\n",
    "        # Selection phase\n",
    "        while not node.state.is_terminal() and node.children:\n",
    "            node = selection(node)\n",
    "\n",
    "        # Expansion phase\n",
    "        if not node.state.is_terminal():\n",
    "            node = expansion(node)\n",
    "\n",
    "        # Simulation phase\n",
    "        reward = simulation(node)\n",
    "\n",
    "        # Backpropagation phase\n",
    "        backpropagation(node, reward)\n",
    "\n",
    "    # Select the best action to take from the root node\n",
    "    best_action = max(root_node.children, key=lambda child: child.visits).state.attempts\n",
    "    return best_action"
   ]
  },
  {
   "cell_type": "code",
   "execution_count": 23,
   "metadata": {},
   "outputs": [
    {
     "name": "stdout",
     "output_type": "stream",
     "text": [
      "Try a higher number.\n",
      "Try a higher number.\n",
      "Try a higher number.\n",
      "Try a higher number.\n",
      "Try a higher number.\n",
      "Try a lower number.\n",
      "Try a higher number.\n",
      "Try a lower number.\n",
      "Try a lower number.\n",
      "Try a higher number.\n",
      "Sorry, you didn't guess the correct number. It was 53.\n"
     ]
    }
   ],
   "source": [
    "if __name__ == \"__main__\":\n",
    "    game_state = GameState()\n",
    "    max_iterations = 1000\n",
    "\n",
    "    while not game_state.is_terminal():\n",
    "        best_action = mcts(game_state, max_iterations)\n",
    "        result = game_state.perform_action(best_action)\n",
    "\n",
    "        if result == 1:\n",
    "            print(f\"Congratulations! You guessed the correct number {game_state.target_number} in {game_state.attempts} attempts!\")\n",
    "            break\n",
    "        elif result == 0:\n",
    "            print(f\"Try a higher number.\")\n",
    "        else:\n",
    "            print(f\"Try a lower number.\")\n",
    "    \n",
    "    if game_state.is_terminal() and result != 1:\n",
    "        print(f\"Sorry, you didn't guess the correct number. It was {game_state.target_number}.\")"
   ]
  },
  {
   "cell_type": "code",
   "execution_count": null,
   "metadata": {},
   "outputs": [],
   "source": []
  },
  {
   "cell_type": "code",
   "execution_count": null,
   "metadata": {},
   "outputs": [],
   "source": []
  }
 ],
 "metadata": {
  "kernelspec": {
   "display_name": "Python 3",
   "language": "python",
   "name": "python3"
  },
  "language_info": {
   "codemirror_mode": {
    "name": "ipython",
    "version": 3
   },
   "file_extension": ".py",
   "mimetype": "text/x-python",
   "name": "python",
   "nbconvert_exporter": "python",
   "pygments_lexer": "ipython3",
   "version": "3.10.2"
  }
 },
 "nbformat": 4,
 "nbformat_minor": 2
}
