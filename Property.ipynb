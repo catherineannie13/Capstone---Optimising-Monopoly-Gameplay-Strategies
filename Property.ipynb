{
 "cells": [
  {
   "cell_type": "code",
   "execution_count": 11,
   "metadata": {},
   "outputs": [],
   "source": [
    "class Property:\n",
    "    def __init__(self, name, price, rent, one_house, two_houses, three_houses, four_houses, hotel, loc):\n",
    "        self.name = name\n",
    "        self.price = price\n",
    "        self.type = \"Property\"\n",
    "        self.rent = rent\n",
    "        self.double_rent = self.rent * 2\n",
    "        self.house_rent = [one_house, two_houses, three_houses, four_houses]\n",
    "        self.hotel_rent = hotel\n",
    "        self.num_houses = 0\n",
    "        self.hotel = False\n",
    "        self.loc = loc\n",
    "        self.owner = None\n",
    "\n",
    "    def calculate_rent(self):\n",
    "        if self.owner:\n",
    "            if self.num_houses == 0:\n",
    "                return self.rent\n",
    "            elif self.hotel:\n",
    "                return self.hotel_rent\n",
    "            else:\n",
    "                return self.house_rent[self.num_houses - 1]\n",
    "        else:\n",
    "            return 0"
   ]
  },
  {
   "cell_type": "code",
   "execution_count": null,
   "metadata": {},
   "outputs": [],
   "source": []
  }
 ],
 "metadata": {
  "kernelspec": {
   "display_name": "Python 3",
   "language": "python",
   "name": "python3"
  },
  "language_info": {
   "codemirror_mode": {
    "name": "ipython",
    "version": 3
   },
   "file_extension": ".py",
   "mimetype": "text/x-python",
   "name": "python",
   "nbconvert_exporter": "python",
   "pygments_lexer": "ipython3",
   "version": "3.10.2"
  },
  "orig_nbformat": 4
 },
 "nbformat": 4,
 "nbformat_minor": 2
}
